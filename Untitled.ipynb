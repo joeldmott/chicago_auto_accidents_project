{
  "cells": [
    {
      "cell_type": "code",
      "execution_count": 59,
      "id": "83342757-736d-474d-9612-da6594af6026",
      "metadata": {
        "id": "83342757-736d-474d-9612-da6594af6026"
      },
      "outputs": [],
      "source": [
        "#import pandas as pd\n",
        "#from google.colab import drive\n",
        "#drive.mount('/content/drive')"
      ]
    },
    {
      "cell_type": "code",
      "source": [
        "import json\n",
        "import os\n",
        "from pathlib import Path\n",
        "\n",
        "# your api key\n",
        "api_key = {\n",
        "'username':\"joelmott\" ,\n",
        "'key':\"a9a024d51eb29560c5bcadee60ccfecd\"}\n",
        "\n",
        "# uses pathlib Path\n",
        "kaggle_path = Path('/root/.kaggle')\n",
        "os.makedirs(kaggle_path, exist_ok=True)\n",
        "\n",
        "# opens file and dumps python dict to json object\n",
        "with open (kaggle_path/'kaggle.json', 'w') as handl:\n",
        "    json.dump(api_key,handl)\n",
        "\n",
        "os.chmod(kaggle_path/'kaggle.json', 600)"
      ],
      "metadata": {
        "id": "LDPJ2JtnJ_wv"
      },
      "id": "LDPJ2JtnJ_wv",
      "execution_count": 60,
      "outputs": []
    },
    {
      "cell_type": "code",
      "source": [
        "import kaggle\n",
        "#url = 'https://www.kaggle.com/datasets/joelmott/chicago-traffic-crashes-may-2024/data?select=CPD_traffic_crashes-crashes-20240501.csv'\n",
        "#crashes_df = pd.read_csv(url, sep='\\t')\n",
        "#! kaggle datasets download joelmott/chicago-traffic-crashes-may-2024/data?select=CPD_traffic_crashes-crashes-20240501.csv\n",
        "! kaggle datasets download joelmott/chicago-traffic-crashes-may-2024/"
      ],
      "metadata": {
        "id": "xjcqNPj1KATk",
        "outputId": "181676ef-ad29-47ef-f3b9-dbeaa14fa5d5",
        "colab": {
          "base_uri": "https://localhost:8080/"
        }
      },
      "id": "xjcqNPj1KATk",
      "execution_count": 61,
      "outputs": [
        {
          "output_type": "stream",
          "name": "stdout",
          "text": [
            "Dataset URL: https://www.kaggle.com/datasets/joelmott/chicago-traffic-crashes-may-2024/versions/\n",
            "License(s): CC0-1.0\n",
            "chicago-traffic-crashes-may-2024.zip: Skipping, found more recently modified local copy (use --force to force download)\n"
          ]
        }
      ]
    },
    {
      "cell_type": "code",
      "source": [
        "#!unzip /content/chicago-traffic-crashes-may-2024.zip"
      ],
      "metadata": {
        "id": "TlqpZC9BM5AB",
        "outputId": "10d1c6dd-654e-4247-febf-aed4c72735bb",
        "colab": {
          "base_uri": "https://localhost:8080/"
        }
      },
      "id": "TlqpZC9BM5AB",
      "execution_count": 62,
      "outputs": [
        {
          "output_type": "stream",
          "name": "stdout",
          "text": [
            "Archive:  /content/chicago-traffic-crashes-may-2024.zip\n",
            "replace CPD_traffic_crashes-crashes-20240501.csv? [y]es, [n]o, [A]ll, [N]one, [r]ename: "
          ]
        }
      ]
    },
    {
      "cell_type": "code",
      "source": [
        "import pandas as pd\n",
        "crashes_df = pd.read_csv('/content/CPD_traffic_crashes-crashes-20240501.csv')\n",
        "crashes_df"
      ],
      "metadata": {
        "id": "C3AQ_as4T__Q",
        "outputId": "8414baa7-9662-4887-abdc-416c1a4144b7",
        "colab": {
          "base_uri": "https://localhost:8080/",
          "height": 790
        }
      },
      "id": "C3AQ_as4T__Q",
      "execution_count": 63,
      "outputs": [
        {
          "output_type": "execute_result",
          "data": {
            "text/plain": [
              "                                          CRASH_RECORD_ID CRASH_DATE_EST_I  \\\n",
              "0       6c1659069e9c6285a650e70d6f9b574ed5f64c12888479...              NaN   \n",
              "1       5f54a59fcb087b12ae5b1acff96a3caf4f2d37e79f8db4...              NaN   \n",
              "2       61fcb8c1eb522a6469b460e2134df3d15f82e81fd93e9c...              NaN   \n",
              "3       004cd14d0303a9163aad69a2d7f341b7da2a8572b2ab33...              NaN   \n",
              "4       a1d5f0ea90897745365a4cbb06cc60329a120d89753fac...              NaN   \n",
              "...                                                   ...              ...   \n",
              "828506  790a72494289861e0d12786c57659df0fcc3ff90df83a6...                Y   \n",
              "828507  0c3ba5ebe2928b85f42ad69485a11977fef61a3a5b6b82...              NaN   \n",
              "828508  54d55bfcc6627f587abbe0d14c42e51b812f930566fb06...              NaN   \n",
              "828509  fcf3c5ddd8ba79a1b43c039a2507b201c999d659aa85d3...              NaN   \n",
              "828510  f20453c5723af4ecc9c739665b2565af1529b4e705f63d...              NaN   \n",
              "\n",
              "                    CRASH_DATE  POSTED_SPEED_LIMIT TRAFFIC_CONTROL_DEVICE  \\\n",
              "0       08/18/2023 12:50:00 PM                  15                  OTHER   \n",
              "1       07/29/2023 02:45:00 PM                  30         TRAFFIC SIGNAL   \n",
              "2       08/18/2023 05:58:00 PM                  30            NO CONTROLS   \n",
              "3       11/26/2019 08:38:00 AM                  25            NO CONTROLS   \n",
              "4       08/18/2023 10:45:00 AM                  20            NO CONTROLS   \n",
              "...                        ...                 ...                    ...   \n",
              "828506  09/08/2020 03:10:00 PM                  30            NO CONTROLS   \n",
              "828507  08/18/2023 10:00:00 PM                  30         TRAFFIC SIGNAL   \n",
              "828508  12/28/2019 01:16:00 AM                  35                UNKNOWN   \n",
              "828509  04/12/2020 07:10:00 AM                  30            NO CONTROLS   \n",
              "828510  05/17/2023 10:20:00 AM                  30            NO CONTROLS   \n",
              "\n",
              "            DEVICE_CONDITION WEATHER_CONDITION      LIGHTING_CONDITION  \\\n",
              "0       FUNCTIONING PROPERLY             CLEAR                DAYLIGHT   \n",
              "1       FUNCTIONING PROPERLY             CLEAR                DAYLIGHT   \n",
              "2                NO CONTROLS             CLEAR                DAYLIGHT   \n",
              "3                NO CONTROLS             CLEAR                DAYLIGHT   \n",
              "4                NO CONTROLS             CLEAR                DAYLIGHT   \n",
              "...                      ...               ...                     ...   \n",
              "828506           NO CONTROLS              RAIN                    DUSK   \n",
              "828507  FUNCTIONING PROPERLY             CLEAR  DARKNESS, LIGHTED ROAD   \n",
              "828508               UNKNOWN             CLEAR  DARKNESS, LIGHTED ROAD   \n",
              "828509           NO CONTROLS             CLEAR                DAYLIGHT   \n",
              "828510           NO CONTROLS             CLEAR                DAYLIGHT   \n",
              "\n",
              "                FIRST_CRASH_TYPE                  TRAFFICWAY_TYPE  ...  \\\n",
              "0                       REAR END                            OTHER  ...   \n",
              "1           PARKED MOTOR VEHICLE  DIVIDED - W/MEDIAN (NOT RAISED)  ...   \n",
              "2                   PEDALCYCLIST                      NOT DIVIDED  ...   \n",
              "3                     PEDESTRIAN                          ONE-WAY  ...   \n",
              "4                   FIXED OBJECT                            OTHER  ...   \n",
              "...                          ...                              ...  ...   \n",
              "828506      PARKED MOTOR VEHICLE                      NOT DIVIDED  ...   \n",
              "828507                   TURNING                         FOUR WAY  ...   \n",
              "828508      PARKED MOTOR VEHICLE                          ONE-WAY  ...   \n",
              "828509  SIDESWIPE SAME DIRECTION  DIVIDED - W/MEDIAN (NOT RAISED)  ...   \n",
              "828510      PARKED MOTOR VEHICLE                      NOT DIVIDED  ...   \n",
              "\n",
              "        INJURIES_NON_INCAPACITATING INJURIES_REPORTED_NOT_EVIDENT  \\\n",
              "0                               1.0                           0.0   \n",
              "1                               0.0                           0.0   \n",
              "2                               1.0                           0.0   \n",
              "3                               0.0                           0.0   \n",
              "4                               0.0                           0.0   \n",
              "...                             ...                           ...   \n",
              "828506                          0.0                           0.0   \n",
              "828507                          0.0                           0.0   \n",
              "828508                          0.0                           0.0   \n",
              "828509                          0.0                           0.0   \n",
              "828510                          0.0                           0.0   \n",
              "\n",
              "       INJURIES_NO_INDICATION INJURIES_UNKNOWN CRASH_HOUR CRASH_DAY_OF_WEEK  \\\n",
              "0                         1.0              0.0         12                 6   \n",
              "1                         1.0              0.0         14                 7   \n",
              "2                         1.0              0.0         17                 6   \n",
              "3                         1.0              0.0          8                 3   \n",
              "4                         1.0              0.0         10                 6   \n",
              "...                       ...              ...        ...               ...   \n",
              "828506                    1.0              0.0         15                 3   \n",
              "828507                    3.0              0.0         22                 6   \n",
              "828508                    1.0              0.0          1                 7   \n",
              "828509                    2.0              0.0          7                 1   \n",
              "828510                    1.0              0.0         10                 4   \n",
              "\n",
              "       CRASH_MONTH   LATITUDE  LONGITUDE  \\\n",
              "0                8        NaN        NaN   \n",
              "1                7  41.854120 -87.665902   \n",
              "2                8  41.942976 -87.761883   \n",
              "3               11        NaN        NaN   \n",
              "4                8        NaN        NaN   \n",
              "...            ...        ...        ...   \n",
              "828506           9  41.833010 -87.621878   \n",
              "828507           8  41.967890 -87.760938   \n",
              "828508          12  41.685142 -87.628557   \n",
              "828509           4  41.847421 -87.612391   \n",
              "828510           5  41.730122 -87.665759   \n",
              "\n",
              "                                        LOCATION  \n",
              "0                                            NaN  \n",
              "1       POINT (-87.665902342962 41.854120262952)  \n",
              "2       POINT (-87.761883496974 41.942975745006)  \n",
              "3                                            NaN  \n",
              "4                                            NaN  \n",
              "...                                          ...  \n",
              "828506  POINT (-87.621877672023 41.833010486005)  \n",
              "828507  POINT (-87.760938108098 41.967890005752)  \n",
              "828508  POINT (-87.628556919131 41.685141540233)  \n",
              "828509   POINT (-87.61239120397 41.847420982326)  \n",
              "828510   POINT (-87.665759307455 41.73012224727)  \n",
              "\n",
              "[828511 rows x 48 columns]"
            ],
            "text/html": [
              "\n",
              "  <div id=\"df-e7b2a94b-6e80-4bed-88d8-1bdebdb46ec5\" class=\"colab-df-container\">\n",
              "    <div>\n",
              "<style scoped>\n",
              "    .dataframe tbody tr th:only-of-type {\n",
              "        vertical-align: middle;\n",
              "    }\n",
              "\n",
              "    .dataframe tbody tr th {\n",
              "        vertical-align: top;\n",
              "    }\n",
              "\n",
              "    .dataframe thead th {\n",
              "        text-align: right;\n",
              "    }\n",
              "</style>\n",
              "<table border=\"1\" class=\"dataframe\">\n",
              "  <thead>\n",
              "    <tr style=\"text-align: right;\">\n",
              "      <th></th>\n",
              "      <th>CRASH_RECORD_ID</th>\n",
              "      <th>CRASH_DATE_EST_I</th>\n",
              "      <th>CRASH_DATE</th>\n",
              "      <th>POSTED_SPEED_LIMIT</th>\n",
              "      <th>TRAFFIC_CONTROL_DEVICE</th>\n",
              "      <th>DEVICE_CONDITION</th>\n",
              "      <th>WEATHER_CONDITION</th>\n",
              "      <th>LIGHTING_CONDITION</th>\n",
              "      <th>FIRST_CRASH_TYPE</th>\n",
              "      <th>TRAFFICWAY_TYPE</th>\n",
              "      <th>...</th>\n",
              "      <th>INJURIES_NON_INCAPACITATING</th>\n",
              "      <th>INJURIES_REPORTED_NOT_EVIDENT</th>\n",
              "      <th>INJURIES_NO_INDICATION</th>\n",
              "      <th>INJURIES_UNKNOWN</th>\n",
              "      <th>CRASH_HOUR</th>\n",
              "      <th>CRASH_DAY_OF_WEEK</th>\n",
              "      <th>CRASH_MONTH</th>\n",
              "      <th>LATITUDE</th>\n",
              "      <th>LONGITUDE</th>\n",
              "      <th>LOCATION</th>\n",
              "    </tr>\n",
              "  </thead>\n",
              "  <tbody>\n",
              "    <tr>\n",
              "      <th>0</th>\n",
              "      <td>6c1659069e9c6285a650e70d6f9b574ed5f64c12888479...</td>\n",
              "      <td>NaN</td>\n",
              "      <td>08/18/2023 12:50:00 PM</td>\n",
              "      <td>15</td>\n",
              "      <td>OTHER</td>\n",
              "      <td>FUNCTIONING PROPERLY</td>\n",
              "      <td>CLEAR</td>\n",
              "      <td>DAYLIGHT</td>\n",
              "      <td>REAR END</td>\n",
              "      <td>OTHER</td>\n",
              "      <td>...</td>\n",
              "      <td>1.0</td>\n",
              "      <td>0.0</td>\n",
              "      <td>1.0</td>\n",
              "      <td>0.0</td>\n",
              "      <td>12</td>\n",
              "      <td>6</td>\n",
              "      <td>8</td>\n",
              "      <td>NaN</td>\n",
              "      <td>NaN</td>\n",
              "      <td>NaN</td>\n",
              "    </tr>\n",
              "    <tr>\n",
              "      <th>1</th>\n",
              "      <td>5f54a59fcb087b12ae5b1acff96a3caf4f2d37e79f8db4...</td>\n",
              "      <td>NaN</td>\n",
              "      <td>07/29/2023 02:45:00 PM</td>\n",
              "      <td>30</td>\n",
              "      <td>TRAFFIC SIGNAL</td>\n",
              "      <td>FUNCTIONING PROPERLY</td>\n",
              "      <td>CLEAR</td>\n",
              "      <td>DAYLIGHT</td>\n",
              "      <td>PARKED MOTOR VEHICLE</td>\n",
              "      <td>DIVIDED - W/MEDIAN (NOT RAISED)</td>\n",
              "      <td>...</td>\n",
              "      <td>0.0</td>\n",
              "      <td>0.0</td>\n",
              "      <td>1.0</td>\n",
              "      <td>0.0</td>\n",
              "      <td>14</td>\n",
              "      <td>7</td>\n",
              "      <td>7</td>\n",
              "      <td>41.854120</td>\n",
              "      <td>-87.665902</td>\n",
              "      <td>POINT (-87.665902342962 41.854120262952)</td>\n",
              "    </tr>\n",
              "    <tr>\n",
              "      <th>2</th>\n",
              "      <td>61fcb8c1eb522a6469b460e2134df3d15f82e81fd93e9c...</td>\n",
              "      <td>NaN</td>\n",
              "      <td>08/18/2023 05:58:00 PM</td>\n",
              "      <td>30</td>\n",
              "      <td>NO CONTROLS</td>\n",
              "      <td>NO CONTROLS</td>\n",
              "      <td>CLEAR</td>\n",
              "      <td>DAYLIGHT</td>\n",
              "      <td>PEDALCYCLIST</td>\n",
              "      <td>NOT DIVIDED</td>\n",
              "      <td>...</td>\n",
              "      <td>1.0</td>\n",
              "      <td>0.0</td>\n",
              "      <td>1.0</td>\n",
              "      <td>0.0</td>\n",
              "      <td>17</td>\n",
              "      <td>6</td>\n",
              "      <td>8</td>\n",
              "      <td>41.942976</td>\n",
              "      <td>-87.761883</td>\n",
              "      <td>POINT (-87.761883496974 41.942975745006)</td>\n",
              "    </tr>\n",
              "    <tr>\n",
              "      <th>3</th>\n",
              "      <td>004cd14d0303a9163aad69a2d7f341b7da2a8572b2ab33...</td>\n",
              "      <td>NaN</td>\n",
              "      <td>11/26/2019 08:38:00 AM</td>\n",
              "      <td>25</td>\n",
              "      <td>NO CONTROLS</td>\n",
              "      <td>NO CONTROLS</td>\n",
              "      <td>CLEAR</td>\n",
              "      <td>DAYLIGHT</td>\n",
              "      <td>PEDESTRIAN</td>\n",
              "      <td>ONE-WAY</td>\n",
              "      <td>...</td>\n",
              "      <td>0.0</td>\n",
              "      <td>0.0</td>\n",
              "      <td>1.0</td>\n",
              "      <td>0.0</td>\n",
              "      <td>8</td>\n",
              "      <td>3</td>\n",
              "      <td>11</td>\n",
              "      <td>NaN</td>\n",
              "      <td>NaN</td>\n",
              "      <td>NaN</td>\n",
              "    </tr>\n",
              "    <tr>\n",
              "      <th>4</th>\n",
              "      <td>a1d5f0ea90897745365a4cbb06cc60329a120d89753fac...</td>\n",
              "      <td>NaN</td>\n",
              "      <td>08/18/2023 10:45:00 AM</td>\n",
              "      <td>20</td>\n",
              "      <td>NO CONTROLS</td>\n",
              "      <td>NO CONTROLS</td>\n",
              "      <td>CLEAR</td>\n",
              "      <td>DAYLIGHT</td>\n",
              "      <td>FIXED OBJECT</td>\n",
              "      <td>OTHER</td>\n",
              "      <td>...</td>\n",
              "      <td>0.0</td>\n",
              "      <td>0.0</td>\n",
              "      <td>1.0</td>\n",
              "      <td>0.0</td>\n",
              "      <td>10</td>\n",
              "      <td>6</td>\n",
              "      <td>8</td>\n",
              "      <td>NaN</td>\n",
              "      <td>NaN</td>\n",
              "      <td>NaN</td>\n",
              "    </tr>\n",
              "    <tr>\n",
              "      <th>...</th>\n",
              "      <td>...</td>\n",
              "      <td>...</td>\n",
              "      <td>...</td>\n",
              "      <td>...</td>\n",
              "      <td>...</td>\n",
              "      <td>...</td>\n",
              "      <td>...</td>\n",
              "      <td>...</td>\n",
              "      <td>...</td>\n",
              "      <td>...</td>\n",
              "      <td>...</td>\n",
              "      <td>...</td>\n",
              "      <td>...</td>\n",
              "      <td>...</td>\n",
              "      <td>...</td>\n",
              "      <td>...</td>\n",
              "      <td>...</td>\n",
              "      <td>...</td>\n",
              "      <td>...</td>\n",
              "      <td>...</td>\n",
              "      <td>...</td>\n",
              "    </tr>\n",
              "    <tr>\n",
              "      <th>828506</th>\n",
              "      <td>790a72494289861e0d12786c57659df0fcc3ff90df83a6...</td>\n",
              "      <td>Y</td>\n",
              "      <td>09/08/2020 03:10:00 PM</td>\n",
              "      <td>30</td>\n",
              "      <td>NO CONTROLS</td>\n",
              "      <td>NO CONTROLS</td>\n",
              "      <td>RAIN</td>\n",
              "      <td>DUSK</td>\n",
              "      <td>PARKED MOTOR VEHICLE</td>\n",
              "      <td>NOT DIVIDED</td>\n",
              "      <td>...</td>\n",
              "      <td>0.0</td>\n",
              "      <td>0.0</td>\n",
              "      <td>1.0</td>\n",
              "      <td>0.0</td>\n",
              "      <td>15</td>\n",
              "      <td>3</td>\n",
              "      <td>9</td>\n",
              "      <td>41.833010</td>\n",
              "      <td>-87.621878</td>\n",
              "      <td>POINT (-87.621877672023 41.833010486005)</td>\n",
              "    </tr>\n",
              "    <tr>\n",
              "      <th>828507</th>\n",
              "      <td>0c3ba5ebe2928b85f42ad69485a11977fef61a3a5b6b82...</td>\n",
              "      <td>NaN</td>\n",
              "      <td>08/18/2023 10:00:00 PM</td>\n",
              "      <td>30</td>\n",
              "      <td>TRAFFIC SIGNAL</td>\n",
              "      <td>FUNCTIONING PROPERLY</td>\n",
              "      <td>CLEAR</td>\n",
              "      <td>DARKNESS, LIGHTED ROAD</td>\n",
              "      <td>TURNING</td>\n",
              "      <td>FOUR WAY</td>\n",
              "      <td>...</td>\n",
              "      <td>0.0</td>\n",
              "      <td>0.0</td>\n",
              "      <td>3.0</td>\n",
              "      <td>0.0</td>\n",
              "      <td>22</td>\n",
              "      <td>6</td>\n",
              "      <td>8</td>\n",
              "      <td>41.967890</td>\n",
              "      <td>-87.760938</td>\n",
              "      <td>POINT (-87.760938108098 41.967890005752)</td>\n",
              "    </tr>\n",
              "    <tr>\n",
              "      <th>828508</th>\n",
              "      <td>54d55bfcc6627f587abbe0d14c42e51b812f930566fb06...</td>\n",
              "      <td>NaN</td>\n",
              "      <td>12/28/2019 01:16:00 AM</td>\n",
              "      <td>35</td>\n",
              "      <td>UNKNOWN</td>\n",
              "      <td>UNKNOWN</td>\n",
              "      <td>CLEAR</td>\n",
              "      <td>DARKNESS, LIGHTED ROAD</td>\n",
              "      <td>PARKED MOTOR VEHICLE</td>\n",
              "      <td>ONE-WAY</td>\n",
              "      <td>...</td>\n",
              "      <td>0.0</td>\n",
              "      <td>0.0</td>\n",
              "      <td>1.0</td>\n",
              "      <td>0.0</td>\n",
              "      <td>1</td>\n",
              "      <td>7</td>\n",
              "      <td>12</td>\n",
              "      <td>41.685142</td>\n",
              "      <td>-87.628557</td>\n",
              "      <td>POINT (-87.628556919131 41.685141540233)</td>\n",
              "    </tr>\n",
              "    <tr>\n",
              "      <th>828509</th>\n",
              "      <td>fcf3c5ddd8ba79a1b43c039a2507b201c999d659aa85d3...</td>\n",
              "      <td>NaN</td>\n",
              "      <td>04/12/2020 07:10:00 AM</td>\n",
              "      <td>30</td>\n",
              "      <td>NO CONTROLS</td>\n",
              "      <td>NO CONTROLS</td>\n",
              "      <td>CLEAR</td>\n",
              "      <td>DAYLIGHT</td>\n",
              "      <td>SIDESWIPE SAME DIRECTION</td>\n",
              "      <td>DIVIDED - W/MEDIAN (NOT RAISED)</td>\n",
              "      <td>...</td>\n",
              "      <td>0.0</td>\n",
              "      <td>0.0</td>\n",
              "      <td>2.0</td>\n",
              "      <td>0.0</td>\n",
              "      <td>7</td>\n",
              "      <td>1</td>\n",
              "      <td>4</td>\n",
              "      <td>41.847421</td>\n",
              "      <td>-87.612391</td>\n",
              "      <td>POINT (-87.61239120397 41.847420982326)</td>\n",
              "    </tr>\n",
              "    <tr>\n",
              "      <th>828510</th>\n",
              "      <td>f20453c5723af4ecc9c739665b2565af1529b4e705f63d...</td>\n",
              "      <td>NaN</td>\n",
              "      <td>05/17/2023 10:20:00 AM</td>\n",
              "      <td>30</td>\n",
              "      <td>NO CONTROLS</td>\n",
              "      <td>NO CONTROLS</td>\n",
              "      <td>CLEAR</td>\n",
              "      <td>DAYLIGHT</td>\n",
              "      <td>PARKED MOTOR VEHICLE</td>\n",
              "      <td>NOT DIVIDED</td>\n",
              "      <td>...</td>\n",
              "      <td>0.0</td>\n",
              "      <td>0.0</td>\n",
              "      <td>1.0</td>\n",
              "      <td>0.0</td>\n",
              "      <td>10</td>\n",
              "      <td>4</td>\n",
              "      <td>5</td>\n",
              "      <td>41.730122</td>\n",
              "      <td>-87.665759</td>\n",
              "      <td>POINT (-87.665759307455 41.73012224727)</td>\n",
              "    </tr>\n",
              "  </tbody>\n",
              "</table>\n",
              "<p>828511 rows × 48 columns</p>\n",
              "</div>\n",
              "    <div class=\"colab-df-buttons\">\n",
              "\n",
              "  <div class=\"colab-df-container\">\n",
              "    <button class=\"colab-df-convert\" onclick=\"convertToInteractive('df-e7b2a94b-6e80-4bed-88d8-1bdebdb46ec5')\"\n",
              "            title=\"Convert this dataframe to an interactive table.\"\n",
              "            style=\"display:none;\">\n",
              "\n",
              "  <svg xmlns=\"http://www.w3.org/2000/svg\" height=\"24px\" viewBox=\"0 -960 960 960\">\n",
              "    <path d=\"M120-120v-720h720v720H120Zm60-500h600v-160H180v160Zm220 220h160v-160H400v160Zm0 220h160v-160H400v160ZM180-400h160v-160H180v160Zm440 0h160v-160H620v160ZM180-180h160v-160H180v160Zm440 0h160v-160H620v160Z\"/>\n",
              "  </svg>\n",
              "    </button>\n",
              "\n",
              "  <style>\n",
              "    .colab-df-container {\n",
              "      display:flex;\n",
              "      gap: 12px;\n",
              "    }\n",
              "\n",
              "    .colab-df-convert {\n",
              "      background-color: #E8F0FE;\n",
              "      border: none;\n",
              "      border-radius: 50%;\n",
              "      cursor: pointer;\n",
              "      display: none;\n",
              "      fill: #1967D2;\n",
              "      height: 32px;\n",
              "      padding: 0 0 0 0;\n",
              "      width: 32px;\n",
              "    }\n",
              "\n",
              "    .colab-df-convert:hover {\n",
              "      background-color: #E2EBFA;\n",
              "      box-shadow: 0px 1px 2px rgba(60, 64, 67, 0.3), 0px 1px 3px 1px rgba(60, 64, 67, 0.15);\n",
              "      fill: #174EA6;\n",
              "    }\n",
              "\n",
              "    .colab-df-buttons div {\n",
              "      margin-bottom: 4px;\n",
              "    }\n",
              "\n",
              "    [theme=dark] .colab-df-convert {\n",
              "      background-color: #3B4455;\n",
              "      fill: #D2E3FC;\n",
              "    }\n",
              "\n",
              "    [theme=dark] .colab-df-convert:hover {\n",
              "      background-color: #434B5C;\n",
              "      box-shadow: 0px 1px 3px 1px rgba(0, 0, 0, 0.15);\n",
              "      filter: drop-shadow(0px 1px 2px rgba(0, 0, 0, 0.3));\n",
              "      fill: #FFFFFF;\n",
              "    }\n",
              "  </style>\n",
              "\n",
              "    <script>\n",
              "      const buttonEl =\n",
              "        document.querySelector('#df-e7b2a94b-6e80-4bed-88d8-1bdebdb46ec5 button.colab-df-convert');\n",
              "      buttonEl.style.display =\n",
              "        google.colab.kernel.accessAllowed ? 'block' : 'none';\n",
              "\n",
              "      async function convertToInteractive(key) {\n",
              "        const element = document.querySelector('#df-e7b2a94b-6e80-4bed-88d8-1bdebdb46ec5');\n",
              "        const dataTable =\n",
              "          await google.colab.kernel.invokeFunction('convertToInteractive',\n",
              "                                                    [key], {});\n",
              "        if (!dataTable) return;\n",
              "\n",
              "        const docLinkHtml = 'Like what you see? Visit the ' +\n",
              "          '<a target=\"_blank\" href=https://colab.research.google.com/notebooks/data_table.ipynb>data table notebook</a>'\n",
              "          + ' to learn more about interactive tables.';\n",
              "        element.innerHTML = '';\n",
              "        dataTable['output_type'] = 'display_data';\n",
              "        await google.colab.output.renderOutput(dataTable, element);\n",
              "        const docLink = document.createElement('div');\n",
              "        docLink.innerHTML = docLinkHtml;\n",
              "        element.appendChild(docLink);\n",
              "      }\n",
              "    </script>\n",
              "  </div>\n",
              "\n",
              "\n",
              "<div id=\"df-20dda4d9-9a0f-493c-94ad-9441f470833c\">\n",
              "  <button class=\"colab-df-quickchart\" onclick=\"quickchart('df-20dda4d9-9a0f-493c-94ad-9441f470833c')\"\n",
              "            title=\"Suggest charts\"\n",
              "            style=\"display:none;\">\n",
              "\n",
              "<svg xmlns=\"http://www.w3.org/2000/svg\" height=\"24px\"viewBox=\"0 0 24 24\"\n",
              "     width=\"24px\">\n",
              "    <g>\n",
              "        <path d=\"M19 3H5c-1.1 0-2 .9-2 2v14c0 1.1.9 2 2 2h14c1.1 0 2-.9 2-2V5c0-1.1-.9-2-2-2zM9 17H7v-7h2v7zm4 0h-2V7h2v10zm4 0h-2v-4h2v4z\"/>\n",
              "    </g>\n",
              "</svg>\n",
              "  </button>\n",
              "\n",
              "<style>\n",
              "  .colab-df-quickchart {\n",
              "      --bg-color: #E8F0FE;\n",
              "      --fill-color: #1967D2;\n",
              "      --hover-bg-color: #E2EBFA;\n",
              "      --hover-fill-color: #174EA6;\n",
              "      --disabled-fill-color: #AAA;\n",
              "      --disabled-bg-color: #DDD;\n",
              "  }\n",
              "\n",
              "  [theme=dark] .colab-df-quickchart {\n",
              "      --bg-color: #3B4455;\n",
              "      --fill-color: #D2E3FC;\n",
              "      --hover-bg-color: #434B5C;\n",
              "      --hover-fill-color: #FFFFFF;\n",
              "      --disabled-bg-color: #3B4455;\n",
              "      --disabled-fill-color: #666;\n",
              "  }\n",
              "\n",
              "  .colab-df-quickchart {\n",
              "    background-color: var(--bg-color);\n",
              "    border: none;\n",
              "    border-radius: 50%;\n",
              "    cursor: pointer;\n",
              "    display: none;\n",
              "    fill: var(--fill-color);\n",
              "    height: 32px;\n",
              "    padding: 0;\n",
              "    width: 32px;\n",
              "  }\n",
              "\n",
              "  .colab-df-quickchart:hover {\n",
              "    background-color: var(--hover-bg-color);\n",
              "    box-shadow: 0 1px 2px rgba(60, 64, 67, 0.3), 0 1px 3px 1px rgba(60, 64, 67, 0.15);\n",
              "    fill: var(--button-hover-fill-color);\n",
              "  }\n",
              "\n",
              "  .colab-df-quickchart-complete:disabled,\n",
              "  .colab-df-quickchart-complete:disabled:hover {\n",
              "    background-color: var(--disabled-bg-color);\n",
              "    fill: var(--disabled-fill-color);\n",
              "    box-shadow: none;\n",
              "  }\n",
              "\n",
              "  .colab-df-spinner {\n",
              "    border: 2px solid var(--fill-color);\n",
              "    border-color: transparent;\n",
              "    border-bottom-color: var(--fill-color);\n",
              "    animation:\n",
              "      spin 1s steps(1) infinite;\n",
              "  }\n",
              "\n",
              "  @keyframes spin {\n",
              "    0% {\n",
              "      border-color: transparent;\n",
              "      border-bottom-color: var(--fill-color);\n",
              "      border-left-color: var(--fill-color);\n",
              "    }\n",
              "    20% {\n",
              "      border-color: transparent;\n",
              "      border-left-color: var(--fill-color);\n",
              "      border-top-color: var(--fill-color);\n",
              "    }\n",
              "    30% {\n",
              "      border-color: transparent;\n",
              "      border-left-color: var(--fill-color);\n",
              "      border-top-color: var(--fill-color);\n",
              "      border-right-color: var(--fill-color);\n",
              "    }\n",
              "    40% {\n",
              "      border-color: transparent;\n",
              "      border-right-color: var(--fill-color);\n",
              "      border-top-color: var(--fill-color);\n",
              "    }\n",
              "    60% {\n",
              "      border-color: transparent;\n",
              "      border-right-color: var(--fill-color);\n",
              "    }\n",
              "    80% {\n",
              "      border-color: transparent;\n",
              "      border-right-color: var(--fill-color);\n",
              "      border-bottom-color: var(--fill-color);\n",
              "    }\n",
              "    90% {\n",
              "      border-color: transparent;\n",
              "      border-bottom-color: var(--fill-color);\n",
              "    }\n",
              "  }\n",
              "</style>\n",
              "\n",
              "  <script>\n",
              "    async function quickchart(key) {\n",
              "      const quickchartButtonEl =\n",
              "        document.querySelector('#' + key + ' button');\n",
              "      quickchartButtonEl.disabled = true;  // To prevent multiple clicks.\n",
              "      quickchartButtonEl.classList.add('colab-df-spinner');\n",
              "      try {\n",
              "        const charts = await google.colab.kernel.invokeFunction(\n",
              "            'suggestCharts', [key], {});\n",
              "      } catch (error) {\n",
              "        console.error('Error during call to suggestCharts:', error);\n",
              "      }\n",
              "      quickchartButtonEl.classList.remove('colab-df-spinner');\n",
              "      quickchartButtonEl.classList.add('colab-df-quickchart-complete');\n",
              "    }\n",
              "    (() => {\n",
              "      let quickchartButtonEl =\n",
              "        document.querySelector('#df-20dda4d9-9a0f-493c-94ad-9441f470833c button');\n",
              "      quickchartButtonEl.style.display =\n",
              "        google.colab.kernel.accessAllowed ? 'block' : 'none';\n",
              "    })();\n",
              "  </script>\n",
              "</div>\n",
              "\n",
              "  <div id=\"id_899edf02-bb6b-4d7e-b322-759d6be0401f\">\n",
              "    <style>\n",
              "      .colab-df-generate {\n",
              "        background-color: #E8F0FE;\n",
              "        border: none;\n",
              "        border-radius: 50%;\n",
              "        cursor: pointer;\n",
              "        display: none;\n",
              "        fill: #1967D2;\n",
              "        height: 32px;\n",
              "        padding: 0 0 0 0;\n",
              "        width: 32px;\n",
              "      }\n",
              "\n",
              "      .colab-df-generate:hover {\n",
              "        background-color: #E2EBFA;\n",
              "        box-shadow: 0px 1px 2px rgba(60, 64, 67, 0.3), 0px 1px 3px 1px rgba(60, 64, 67, 0.15);\n",
              "        fill: #174EA6;\n",
              "      }\n",
              "\n",
              "      [theme=dark] .colab-df-generate {\n",
              "        background-color: #3B4455;\n",
              "        fill: #D2E3FC;\n",
              "      }\n",
              "\n",
              "      [theme=dark] .colab-df-generate:hover {\n",
              "        background-color: #434B5C;\n",
              "        box-shadow: 0px 1px 3px 1px rgba(0, 0, 0, 0.15);\n",
              "        filter: drop-shadow(0px 1px 2px rgba(0, 0, 0, 0.3));\n",
              "        fill: #FFFFFF;\n",
              "      }\n",
              "    </style>\n",
              "    <button class=\"colab-df-generate\" onclick=\"generateWithVariable('crashes_df')\"\n",
              "            title=\"Generate code using this dataframe.\"\n",
              "            style=\"display:none;\">\n",
              "\n",
              "  <svg xmlns=\"http://www.w3.org/2000/svg\" height=\"24px\"viewBox=\"0 0 24 24\"\n",
              "       width=\"24px\">\n",
              "    <path d=\"M7,19H8.4L18.45,9,17,7.55,7,17.6ZM5,21V16.75L18.45,3.32a2,2,0,0,1,2.83,0l1.4,1.43a1.91,1.91,0,0,1,.58,1.4,1.91,1.91,0,0,1-.58,1.4L9.25,21ZM18.45,9,17,7.55Zm-12,3A5.31,5.31,0,0,0,4.9,8.1,5.31,5.31,0,0,0,1,6.5,5.31,5.31,0,0,0,4.9,4.9,5.31,5.31,0,0,0,6.5,1,5.31,5.31,0,0,0,8.1,4.9,5.31,5.31,0,0,0,12,6.5,5.46,5.46,0,0,0,6.5,12Z\"/>\n",
              "  </svg>\n",
              "    </button>\n",
              "    <script>\n",
              "      (() => {\n",
              "      const buttonEl =\n",
              "        document.querySelector('#id_899edf02-bb6b-4d7e-b322-759d6be0401f button.colab-df-generate');\n",
              "      buttonEl.style.display =\n",
              "        google.colab.kernel.accessAllowed ? 'block' : 'none';\n",
              "\n",
              "      buttonEl.onclick = () => {\n",
              "        google.colab.notebook.generateWithVariable('crashes_df');\n",
              "      }\n",
              "      })();\n",
              "    </script>\n",
              "  </div>\n",
              "\n",
              "    </div>\n",
              "  </div>\n"
            ],
            "application/vnd.google.colaboratory.intrinsic+json": {
              "type": "dataframe",
              "variable_name": "crashes_df"
            }
          },
          "metadata": {},
          "execution_count": 63
        }
      ]
    },
    {
      "cell_type": "code",
      "source": [
        "#crashes_df = pd.read_csv('/content/drive/MyDrive/CPD_traffic_crashes-crashes-20240501.csv')\n",
        "#crashes_df.head(3)"
      ],
      "metadata": {
        "id": "rbsmCwFv_RQC"
      },
      "id": "rbsmCwFv_RQC",
      "execution_count": 64,
      "outputs": []
    },
    {
      "cell_type": "code",
      "source": [
        "crashes_df.info()"
      ],
      "metadata": {
        "id": "Qw0yYAHwHToP",
        "outputId": "45aa3dcd-522f-479b-da90-bbed65a5ae0b",
        "colab": {
          "base_uri": "https://localhost:8080/"
        }
      },
      "id": "Qw0yYAHwHToP",
      "execution_count": 65,
      "outputs": [
        {
          "output_type": "stream",
          "name": "stdout",
          "text": [
            "<class 'pandas.core.frame.DataFrame'>\n",
            "RangeIndex: 828511 entries, 0 to 828510\n",
            "Data columns (total 48 columns):\n",
            " #   Column                         Non-Null Count   Dtype  \n",
            "---  ------                         --------------   -----  \n",
            " 0   CRASH_RECORD_ID                828511 non-null  object \n",
            " 1   CRASH_DATE_EST_I               61842 non-null   object \n",
            " 2   CRASH_DATE                     828511 non-null  object \n",
            " 3   POSTED_SPEED_LIMIT             828511 non-null  int64  \n",
            " 4   TRAFFIC_CONTROL_DEVICE         828511 non-null  object \n",
            " 5   DEVICE_CONDITION               828511 non-null  object \n",
            " 6   WEATHER_CONDITION              828511 non-null  object \n",
            " 7   LIGHTING_CONDITION             828511 non-null  object \n",
            " 8   FIRST_CRASH_TYPE               828511 non-null  object \n",
            " 9   TRAFFICWAY_TYPE                828511 non-null  object \n",
            " 10  LANE_CNT                       199011 non-null  float64\n",
            " 11  ALIGNMENT                      828511 non-null  object \n",
            " 12  ROADWAY_SURFACE_COND           828511 non-null  object \n",
            " 13  ROAD_DEFECT                    828511 non-null  object \n",
            " 14  REPORT_TYPE                    803705 non-null  object \n",
            " 15  CRASH_TYPE                     828511 non-null  object \n",
            " 16  INTERSECTION_RELATED_I         189976 non-null  object \n",
            " 17  NOT_RIGHT_OF_WAY_I             38167 non-null   object \n",
            " 18  HIT_AND_RUN_I                  259413 non-null  object \n",
            " 19  DAMAGE                         828511 non-null  object \n",
            " 20  DATE_POLICE_NOTIFIED           828511 non-null  object \n",
            " 21  PRIM_CONTRIBUTORY_CAUSE        828511 non-null  object \n",
            " 22  SEC_CONTRIBUTORY_CAUSE         828511 non-null  object \n",
            " 23  STREET_NO                      828511 non-null  int64  \n",
            " 24  STREET_DIRECTION               828507 non-null  object \n",
            " 25  STREET_NAME                    828510 non-null  object \n",
            " 26  BEAT_OF_OCCURRENCE             828506 non-null  float64\n",
            " 27  PHOTOS_TAKEN_I                 10972 non-null   object \n",
            " 28  STATEMENTS_TAKEN_I             18613 non-null   object \n",
            " 29  DOORING_I                      2547 non-null    object \n",
            " 30  WORK_ZONE_I                    4715 non-null    object \n",
            " 31  WORK_ZONE_TYPE                 3641 non-null    object \n",
            " 32  WORKERS_PRESENT_I              1208 non-null    object \n",
            " 33  NUM_UNITS                      828511 non-null  int64  \n",
            " 34  MOST_SEVERE_INJURY             826689 non-null  object \n",
            " 35  INJURIES_TOTAL                 826702 non-null  float64\n",
            " 36  INJURIES_FATAL                 826702 non-null  float64\n",
            " 37  INJURIES_INCAPACITATING        826702 non-null  float64\n",
            " 38  INJURIES_NON_INCAPACITATING    826702 non-null  float64\n",
            " 39  INJURIES_REPORTED_NOT_EVIDENT  826702 non-null  float64\n",
            " 40  INJURIES_NO_INDICATION         826702 non-null  float64\n",
            " 41  INJURIES_UNKNOWN               826702 non-null  float64\n",
            " 42  CRASH_HOUR                     828511 non-null  int64  \n",
            " 43  CRASH_DAY_OF_WEEK              828511 non-null  int64  \n",
            " 44  CRASH_MONTH                    828511 non-null  int64  \n",
            " 45  LATITUDE                       822769 non-null  float64\n",
            " 46  LONGITUDE                      822769 non-null  float64\n",
            " 47  LOCATION                       822769 non-null  object \n",
            "dtypes: float64(11), int64(6), object(31)\n",
            "memory usage: 303.4+ MB\n"
          ]
        }
      ]
    },
    {
      "cell_type": "markdown",
      "source": [
        "Keeping the project's prompt in mind, it looks like 'PRIM_CONTRIBUTORY_CAUSE' is our main target column.\n",
        "\n",
        "As far as feature engineering goes, there are several different already-ohe'd categorical injury columns, maybe you add up all the ones with fatalities and bad injuries or something.\n",
        "\n",
        "Next would be getting a feel for the column values where the data description isn't already obvious."
      ],
      "metadata": {
        "id": "1OA9yeFMJSlR"
      },
      "id": "1OA9yeFMJSlR"
    },
    {
      "cell_type": "code",
      "source": [
        "crashes_df['PRIM_CONTRIBUTORY_CAUSE'].value_counts()"
      ],
      "metadata": {
        "id": "qjBht5JjHVLE",
        "outputId": "5b2cc100-ee49-4acd-ab6b-aafe70704acb",
        "colab": {
          "base_uri": "https://localhost:8080/"
        }
      },
      "id": "qjBht5JjHVLE",
      "execution_count": 66,
      "outputs": [
        {
          "output_type": "execute_result",
          "data": {
            "text/plain": [
              "PRIM_CONTRIBUTORY_CAUSE\n",
              "UNABLE TO DETERMINE                                                                 322717\n",
              "FAILING TO YIELD RIGHT-OF-WAY                                                        91120\n",
              "FOLLOWING TOO CLOSELY                                                                80452\n",
              "NOT APPLICABLE                                                                       43885\n",
              "IMPROPER OVERTAKING/PASSING                                                          40874\n",
              "FAILING TO REDUCE SPEED TO AVOID CRASH                                               34961\n",
              "IMPROPER BACKING                                                                     32492\n",
              "IMPROPER LANE USAGE                                                                  29635\n",
              "DRIVING SKILLS/KNOWLEDGE/EXPERIENCE                                                  27817\n",
              "IMPROPER TURNING/NO SIGNAL                                                           27539\n",
              "DISREGARDING TRAFFIC SIGNALS                                                         16169\n",
              "WEATHER                                                                              12496\n",
              "OPERATING VEHICLE IN ERRATIC, RECKLESS, CARELESS, NEGLIGENT OR AGGRESSIVE MANNER     10542\n",
              "DISREGARDING STOP SIGN                                                                8946\n",
              "DISTRACTION - FROM INSIDE VEHICLE                                                     5660\n",
              "EQUIPMENT - VEHICLE CONDITION                                                         5141\n",
              "PHYSICAL CONDITION OF DRIVER                                                          4904\n",
              "VISION OBSCURED (SIGNS, TREE LIMBS, BUILDINGS, ETC.)                                  4713\n",
              "DRIVING ON WRONG SIDE/WRONG WAY                                                       4446\n",
              "UNDER THE INFLUENCE OF ALCOHOL/DRUGS (USE WHEN ARREST IS EFFECTED)                    3905\n",
              "DISTRACTION - FROM OUTSIDE VEHICLE                                                    3379\n",
              "ROAD ENGINEERING/SURFACE/MARKING DEFECTS                                              2020\n",
              "EXCEEDING AUTHORIZED SPEED LIMIT                                                      1982\n",
              "DISREGARDING OTHER TRAFFIC SIGNS                                                      1784\n",
              "ROAD CONSTRUCTION/MAINTENANCE                                                         1753\n",
              "EXCEEDING SAFE SPEED FOR CONDITIONS                                                   1684\n",
              "EVASIVE ACTION DUE TO ANIMAL, OBJECT, NONMOTORIST                                     1519\n",
              "CELL PHONE USE OTHER THAN TEXTING                                                     1094\n",
              "DISREGARDING ROAD MARKINGS                                                            1004\n",
              "HAD BEEN DRINKING (USE WHEN ARREST IS NOT MADE)                                        848\n",
              "ANIMAL                                                                                 706\n",
              "TURNING RIGHT ON RED                                                                   631\n",
              "RELATED TO BUS STOP                                                                    412\n",
              "DISTRACTION - OTHER ELECTRONIC DEVICE (NAVIGATION DEVICE, DVD PLAYER, ETC.)            396\n",
              "TEXTING                                                                                317\n",
              "DISREGARDING YIELD SIGN                                                                271\n",
              "PASSING STOPPED SCHOOL BUS                                                             101\n",
              "OBSTRUCTED CROSSWALKS                                                                   92\n",
              "BICYCLE ADVANCING LEGALLY ON RED LIGHT                                                  81\n",
              "MOTORCYCLE ADVANCING LEGALLY ON RED LIGHT                                               23\n",
              "Name: count, dtype: int64"
            ]
          },
          "metadata": {},
          "execution_count": 66
        }
      ]
    },
    {
      "cell_type": "code",
      "source": [
        "len(crashes_df['PRIM_CONTRIBUTORY_CAUSE'].value_counts())"
      ],
      "metadata": {
        "id": "PLjE8OjPIIBR",
        "outputId": "37643f1d-b184-4514-869c-e2818dfcdef4",
        "colab": {
          "base_uri": "https://localhost:8080/"
        }
      },
      "id": "PLjE8OjPIIBR",
      "execution_count": 67,
      "outputs": [
        {
          "output_type": "execute_result",
          "data": {
            "text/plain": [
              "40"
            ]
          },
          "metadata": {},
          "execution_count": 67
        }
      ]
    },
    {
      "cell_type": "markdown",
      "source": [
        "40 classes?!? Some of them occured fewer than 100 times! I guess I'd have to drop the 'UNABLE TO DETERMINE' and 'NOT APPLICABLE' rows. Then, I think I'd need to group the remaining 38 classes together somehow.\n",
        "\n",
        "I'll work on that off-and-on while I continue to check out the remaining features in this crashes DataFrame. Let's start with 'TRAFFIC_CONTROL_DEVICE':"
      ],
      "metadata": {
        "id": "rgyatoZ2ILmC"
      },
      "id": "rgyatoZ2ILmC"
    },
    {
      "cell_type": "code",
      "source": [
        "crashes_df['TRAFFIC_CONTROL_DEVICE'].value_counts()"
      ],
      "metadata": {
        "id": "V5XEtuwfIyW7",
        "outputId": "bea09fca-b808-4f5c-ffea-c4ca7c9caab6",
        "colab": {
          "base_uri": "https://localhost:8080/"
        }
      },
      "id": "V5XEtuwfIyW7",
      "execution_count": 68,
      "outputs": [
        {
          "output_type": "execute_result",
          "data": {
            "text/plain": [
              "TRAFFIC_CONTROL_DEVICE\n",
              "NO CONTROLS                 470741\n",
              "TRAFFIC SIGNAL              229645\n",
              "STOP SIGN/FLASHER            82248\n",
              "UNKNOWN                      33447\n",
              "OTHER                         5623\n",
              "LANE USE MARKING              1226\n",
              "YIELD                         1218\n",
              "OTHER REG. SIGN                932\n",
              "OTHER WARNING SIGN             682\n",
              "RAILROAD CROSSING GATE         536\n",
              "PEDESTRIAN CROSSING SIGN       532\n",
              "FLASHING CONTROL SIGNAL        334\n",
              "DELINEATORS                    331\n",
              "SCHOOL ZONE                    315\n",
              "POLICE/FLAGMAN                 279\n",
              "OTHER RAILROAD CROSSING        182\n",
              "RR CROSSING SIGN               164\n",
              "NO PASSING                      51\n",
              "BICYCLE CROSSING SIGN           25\n",
              "Name: count, dtype: int64"
            ]
          },
          "metadata": {},
          "execution_count": 68
        }
      ]
    },
    {
      "cell_type": "markdown",
      "source": [
        "This feature seems to be almost enitrely made up of the classes 'no controls', 'traffic signal', 'stop sign/flasher', or 'unknown.' The rest are quite rare, relatively speaking. I think this could be a helpful column, but the distribution is really skewed, so in the interest of trimming features that may add more noise to our model when model interpretability is a priority, let's drop this one.\n",
        "\n",
        "Let's move on to the 'DEVICE_CONDITION' feature:"
      ],
      "metadata": {
        "id": "OTfsb_9PI602"
      },
      "id": "OTfsb_9PI602"
    },
    {
      "cell_type": "code",
      "source": [
        "crashes_df['DEVICE_CONDITION'].value_counts()"
      ],
      "metadata": {
        "id": "sCb__sc5JVy4",
        "outputId": "1ac041a2-6d2d-4ab7-a124-95b63e3d414f",
        "colab": {
          "base_uri": "https://localhost:8080/"
        }
      },
      "id": "sCb__sc5JVy4",
      "execution_count": 69,
      "outputs": [
        {
          "output_type": "execute_result",
          "data": {
            "text/plain": [
              "DEVICE_CONDITION\n",
              "NO CONTROLS                 476188\n",
              "FUNCTIONING PROPERLY        283564\n",
              "UNKNOWN                      55753\n",
              "OTHER                         6336\n",
              "FUNCTIONING IMPROPERLY        3890\n",
              "NOT FUNCTIONING               2397\n",
              "WORN REFLECTIVE MATERIAL       287\n",
              "MISSING                         96\n",
              "Name: count, dtype: int64"
            ]
          },
          "metadata": {},
          "execution_count": 69
        }
      ]
    },
    {
      "cell_type": "markdown",
      "source": [
        "I had to look it up, but 'NO CONTROLS' refers to a traffic control device that doesn't change like a light would, but rather is a permanent fixture like a sign or road markings. I guess it's not surprising that the vast majority are in this category and then another huge chunk are at intersections where the light was working properly. Note a decent amount of 'UNKNOWN' entries here. With only 3,890 functioning improperly compared to 759,752 either not having controls or working normally, I don't think this feature will be very helpful, so let's drop it.\n",
        "\n",
        "Next to check out is 'FIRST_CRASH_TYPE':"
      ],
      "metadata": {
        "id": "khfLFfrTSyX5"
      },
      "id": "khfLFfrTSyX5"
    },
    {
      "cell_type": "code",
      "source": [
        "crashes_df['FIRST_CRASH_TYPE'].value_counts()"
      ],
      "metadata": {
        "id": "YKxqLmCvSJCo",
        "outputId": "e5c89207-73a6-4d46-f8b1-4d763dfc862d",
        "colab": {
          "base_uri": "https://localhost:8080/"
        }
      },
      "id": "YKxqLmCvSJCo",
      "execution_count": 70,
      "outputs": [
        {
          "output_type": "execute_result",
          "data": {
            "text/plain": [
              "FIRST_CRASH_TYPE\n",
              "PARKED MOTOR VEHICLE            192428\n",
              "REAR END                        184855\n",
              "SIDESWIPE SAME DIRECTION        126534\n",
              "TURNING                         118537\n",
              "ANGLE                            90173\n",
              "FIXED OBJECT                     38930\n",
              "PEDESTRIAN                       19330\n",
              "PEDALCYCLIST                     12448\n",
              "SIDESWIPE OPPOSITE DIRECTION     11666\n",
              "OTHER OBJECT                      8216\n",
              "REAR TO FRONT                     8094\n",
              "HEAD ON                           7061\n",
              "REAR TO SIDE                      4807\n",
              "OTHER NONCOLLISION                2606\n",
              "REAR TO REAR                      1676\n",
              "ANIMAL                             596\n",
              "OVERTURNED                         508\n",
              "TRAIN                               46\n",
              "Name: count, dtype: int64"
            ]
          },
          "metadata": {},
          "execution_count": 70
        }
      ]
    },
    {
      "cell_type": "markdown",
      "source": [
        "I can't help but wonder whether this is a good *predictor* for an accident's primary cause when it describes the instance of the accident, not what happens beforehand. It turns out that, later on, we'll find a better column for this in the vehicles DataFrame ('MANEUVER') that will describe the action that led to the accident, so let's drop this column in favor of that one.\n",
        "\n",
        "The following 'TRAFFICWAY_TYPE' column looks useful as well, but it has so many classes that, along with the other useful features we'll eventually find, it'll wind up adding a lot of noise to our data with the sparsity that will result once it's one-hot encoded."
      ],
      "metadata": {
        "id": "egCTPl9Ug91b"
      },
      "id": "egCTPl9Ug91b"
    },
    {
      "cell_type": "code",
      "source": [
        "crashes_df['TRAFFICWAY_TYPE'].value_counts()"
      ],
      "metadata": {
        "id": "vegUYih3UIHH",
        "outputId": "e4b50a60-34a0-4f0a-8c63-b96b23a5de2a",
        "colab": {
          "base_uri": "https://localhost:8080/"
        }
      },
      "id": "vegUYih3UIHH",
      "execution_count": 71,
      "outputs": [
        {
          "output_type": "execute_result",
          "data": {
            "text/plain": [
              "TRAFFICWAY_TYPE\n",
              "NOT DIVIDED                        359452\n",
              "DIVIDED - W/MEDIAN (NOT RAISED)    132085\n",
              "ONE-WAY                            105558\n",
              "PARKING LOT                         56368\n",
              "FOUR WAY                            53091\n",
              "DIVIDED - W/MEDIAN BARRIER          47287\n",
              "OTHER                               22646\n",
              "ALLEY                               13690\n",
              "T-INTERSECTION                      10660\n",
              "UNKNOWN                              9656\n",
              "CENTER TURN LANE                     5978\n",
              "DRIVEWAY                             2691\n",
              "RAMP                                 2595\n",
              "UNKNOWN INTERSECTION TYPE            2455\n",
              "Y-INTERSECTION                       1164\n",
              "FIVE POINT, OR MORE                  1161\n",
              "TRAFFIC ROUTE                         948\n",
              "NOT REPORTED                          592\n",
              "ROUNDABOUT                            262\n",
              "L-INTERSECTION                        172\n",
              "Name: count, dtype: int64"
            ]
          },
          "metadata": {},
          "execution_count": 71
        }
      ]
    },
    {
      "cell_type": "markdown",
      "source": [
        "'ALIGNMENT' has a distribution issue with the top class making up almost 98% of this feature, so it won't be too helpful."
      ],
      "metadata": {
        "id": "i20j4l8QRwnl"
      },
      "id": "i20j4l8QRwnl"
    },
    {
      "cell_type": "code",
      "source": [
        "crashes_df['ALIGNMENT'].value_counts()"
      ],
      "metadata": {
        "id": "y4vzuIXpGFbH",
        "outputId": "05cb9673-97e5-4430-b3d9-90dcbdf85e5e",
        "colab": {
          "base_uri": "https://localhost:8080/"
        }
      },
      "id": "y4vzuIXpGFbH",
      "execution_count": 72,
      "outputs": [
        {
          "output_type": "execute_result",
          "data": {
            "text/plain": [
              "ALIGNMENT\n",
              "STRAIGHT AND LEVEL       808482\n",
              "STRAIGHT ON GRADE         10279\n",
              "CURVE, LEVEL               5971\n",
              "STRAIGHT ON HILLCREST      2169\n",
              "CURVE ON GRADE             1243\n",
              "CURVE ON HILLCREST          367\n",
              "Name: count, dtype: int64"
            ]
          },
          "metadata": {},
          "execution_count": 72
        }
      ]
    },
    {
      "cell_type": "markdown",
      "source": [
        "'CRASH_TYPE' would make for a helpful target column if we were interested in less serious versus more serious accidents, but we're looking into the cause of *all* accidents and this column ultimately describes the aftermath, not the cause, so we'll drop for this particular use case."
      ],
      "metadata": {
        "id": "DmuIHiFj2NRW"
      },
      "id": "DmuIHiFj2NRW"
    },
    {
      "cell_type": "code",
      "source": [
        "crashes_df['CRASH_TYPE'].value_counts()"
      ],
      "metadata": {
        "id": "opqJOWjx2Oln",
        "outputId": "79791c1e-3e4e-4d52-b7b7-5fc77dd97bf5",
        "colab": {
          "base_uri": "https://localhost:8080/"
        }
      },
      "id": "opqJOWjx2Oln",
      "execution_count": 73,
      "outputs": [
        {
          "output_type": "execute_result",
          "data": {
            "text/plain": [
              "CRASH_TYPE\n",
              "NO INJURY / DRIVE AWAY              607050\n",
              "INJURY AND / OR TOW DUE TO CRASH    221461\n",
              "Name: count, dtype: int64"
            ]
          },
          "metadata": {},
          "execution_count": 73
        }
      ]
    },
    {
      "cell_type": "markdown",
      "source": [
        "The following column covers whether a right-of-way violation occured, but that's in our target variable, so we should eliminate this one."
      ],
      "metadata": {
        "id": "2SZPvxwzSIVp"
      },
      "id": "2SZPvxwzSIVp"
    },
    {
      "cell_type": "code",
      "source": [
        "crashes_df['NOT_RIGHT_OF_WAY_I'].value_counts()"
      ],
      "metadata": {
        "id": "4vwKURCWUw_m",
        "outputId": "4ef73981-6a68-459c-cd69-d31cc34e702d",
        "colab": {
          "base_uri": "https://localhost:8080/"
        }
      },
      "id": "4vwKURCWUw_m",
      "execution_count": 74,
      "outputs": [
        {
          "output_type": "execute_result",
          "data": {
            "text/plain": [
              "NOT_RIGHT_OF_WAY_I\n",
              "Y    34674\n",
              "N     3493\n",
              "Name: count, dtype: int64"
            ]
          },
          "metadata": {},
          "execution_count": 74
        }
      ]
    },
    {
      "cell_type": "markdown",
      "source": [
        "The 'DAMAGE' column refers to the aftermath, not the cause, so this can be dropped."
      ],
      "metadata": {
        "id": "kugH1B3aSjLI"
      },
      "id": "kugH1B3aSjLI"
    },
    {
      "cell_type": "code",
      "source": [
        "crashes_df['DAMAGE'].value_counts()"
      ],
      "metadata": {
        "id": "7ypMRIFrVDzY",
        "outputId": "d222e9b5-7b2f-4940-83a2-a62c31700d62",
        "colab": {
          "base_uri": "https://localhost:8080/"
        }
      },
      "id": "7ypMRIFrVDzY",
      "execution_count": 75,
      "outputs": [
        {
          "output_type": "execute_result",
          "data": {
            "text/plain": [
              "DAMAGE\n",
              "OVER $1,500      515387\n",
              "$501 - $1,500    218754\n",
              "$500 OR LESS      94370\n",
              "Name: count, dtype: int64"
            ]
          },
          "metadata": {},
          "execution_count": 75
        }
      ]
    },
    {
      "cell_type": "markdown",
      "source": [
        "These 'BEAT_OF_OCCURANCE' classes are categorical even if they're listed here as numbers. Subsequently, they would need to be one-hot encoded, and there are just far too many of them for that, so we'll have to drop this column as well."
      ],
      "metadata": {
        "id": "ub0dMNmQSqLA"
      },
      "id": "ub0dMNmQSqLA"
    },
    {
      "cell_type": "code",
      "source": [
        "crashes_df['BEAT_OF_OCCURRENCE'].value_counts()"
      ],
      "metadata": {
        "id": "ebkJa933vK08",
        "outputId": "dff3e043-f3b0-41e3-ef93-8011a0de4b07",
        "colab": {
          "base_uri": "https://localhost:8080/"
        }
      },
      "id": "ebkJa933vK08",
      "execution_count": 76,
      "outputs": [
        {
          "output_type": "execute_result",
          "data": {
            "text/plain": [
              "BEAT_OF_OCCURRENCE\n",
              "1834.0    10067\n",
              "114.0      8490\n",
              "813.0      8332\n",
              "815.0      7899\n",
              "1831.0     7678\n",
              "          ...  \n",
              "1653.0      430\n",
              "1655.0      260\n",
              "1652.0      200\n",
              "1650.0       69\n",
              "6100.0        4\n",
              "Name: count, Length: 276, dtype: int64"
            ]
          },
          "metadata": {},
          "execution_count": 76
        }
      ]
    },
    {
      "cell_type": "markdown",
      "source": [
        "Now that I have a sense of what all these columns mean, it's time to consider which should be eliminated to help reduce dimensionality. This is especially important since so many of these columns will have to be one-hot encoded.\n",
        "\n",
        "Since the goal of this project is to predict the *primary cause* of an accident, we might consider dropping those columns that inherently have nothing to do with a potential cause (such as 'DATE_POLICE_NOTIFIED', 'STREET NO', 'STREET NAME', 'PHOTOS TAKEN', 'STATEMENTS TAKEN', 'REPORT_TYPE') and/or only pertain to the effect (all the damage, injury, and fatality columns). We can also drop the 'SEC_CONTRIBUTORY_CAUSE' or we'll probably have a lot of multicollinearity issues.\n",
        "\n",
        "There are a few redundant columns for our specific use case. 'LOCATION' just puts the latitude & longitude columns together. Since those two columns will provide location data *and* 'BEAT_OF_OCCURRENCE' has 276 categorical values, let's eliminate the beat column as well. Also, 'CRASH_DATE_EST_I' and 'CRASH_DATE' are broken down later via 'CRASH_HOUR', 'CRASH_DAY_OF_WEEK', and 'CRASH_MONTH'.\n",
        "\n",
        "Finally, some columns are woefully empty; 'LANE_CNT', 'INTERSECTION_RELATED_I', 'NOT_RIGHT_OF_WAY_I', 'HIT_AND_RUN_I', 'DOORING_I', and all the work zone columns only have somewhere between 68.7-99% empty, which is grounds for dropping.\n",
        "\n",
        "I'll keep 'CRASH_RECORD_ID' for now so I can join the 'people' & 'vehicles' tables later."
      ],
      "metadata": {
        "id": "Au-dpN5DqNdZ"
      },
      "id": "Au-dpN5DqNdZ"
    },
    {
      "cell_type": "code",
      "source": [
        "crashes_columns_to_drop = ['CRASH_DATE', 'CRASH_DATE_EST_I', 'DEVICE_CONDITION', 'FIRST_CRASH_TYPE', 'CRASH_TYPE',\n",
        "                           'REPORT_TYPE', 'DAMAGE', 'DATE_POLICE_NOTIFIED', 'SEC_CONTRIBUTORY_CAUSE',\n",
        "                           'TRAFFIC_CONTROL_DEVICE', 'STREET_NO', 'STREET_NAME', 'BEAT_OF_OCCURRENCE', 'PHOTOS_TAKEN_I',\n",
        "                           'STATEMENTS_TAKEN_I', 'MOST_SEVERE_INJURY', 'INJURIES_TOTAL', 'INJURIES_FATAL',\n",
        "                           'INJURIES_INCAPACITATING', 'INJURIES_NON_INCAPACITATING', 'INJURIES_REPORTED_NOT_EVIDENT',\n",
        "                           'INJURIES_NO_INDICATION', 'INJURIES_UNKNOWN', 'LOCATION', 'LANE_CNT', 'ALIGNMENT',\n",
        "                           'INTERSECTION_RELATED_I', 'NOT_RIGHT_OF_WAY_I', 'HIT_AND_RUN_I', 'DOORING_I',\n",
        "                           'WORK_ZONE_I', 'WORK_ZONE_TYPE', 'WORKERS_PRESENT_I', 'TRAFFICWAY_TYPE']"
      ],
      "metadata": {
        "id": "21hfJgr9p3LA"
      },
      "id": "21hfJgr9p3LA",
      "execution_count": 77,
      "outputs": []
    },
    {
      "cell_type": "code",
      "source": [
        "crashes_df_refined = crashes_df.drop(crashes_columns_to_drop, axis=1)\n",
        "crashes_df_refined.info()"
      ],
      "metadata": {
        "id": "0UQQbtfEvlxG",
        "outputId": "edc89392-db6a-41be-913c-b467a6129a8b",
        "colab": {
          "base_uri": "https://localhost:8080/"
        }
      },
      "id": "0UQQbtfEvlxG",
      "execution_count": 78,
      "outputs": [
        {
          "output_type": "stream",
          "name": "stdout",
          "text": [
            "<class 'pandas.core.frame.DataFrame'>\n",
            "RangeIndex: 828511 entries, 0 to 828510\n",
            "Data columns (total 14 columns):\n",
            " #   Column                   Non-Null Count   Dtype  \n",
            "---  ------                   --------------   -----  \n",
            " 0   CRASH_RECORD_ID          828511 non-null  object \n",
            " 1   POSTED_SPEED_LIMIT       828511 non-null  int64  \n",
            " 2   WEATHER_CONDITION        828511 non-null  object \n",
            " 3   LIGHTING_CONDITION       828511 non-null  object \n",
            " 4   ROADWAY_SURFACE_COND     828511 non-null  object \n",
            " 5   ROAD_DEFECT              828511 non-null  object \n",
            " 6   PRIM_CONTRIBUTORY_CAUSE  828511 non-null  object \n",
            " 7   STREET_DIRECTION         828507 non-null  object \n",
            " 8   NUM_UNITS                828511 non-null  int64  \n",
            " 9   CRASH_HOUR               828511 non-null  int64  \n",
            " 10  CRASH_DAY_OF_WEEK        828511 non-null  int64  \n",
            " 11  CRASH_MONTH              828511 non-null  int64  \n",
            " 12  LATITUDE                 822769 non-null  float64\n",
            " 13  LONGITUDE                822769 non-null  float64\n",
            "dtypes: float64(2), int64(5), object(7)\n",
            "memory usage: 88.5+ MB\n"
          ]
        }
      ]
    },
    {
      "cell_type": "markdown",
      "source": [
        "Now let's take care of the all the null values. The NaN's in 'LATITUDE' and 'LONGITUDE' amount to 0.007% and there are only four NaN's in 'STREET_DIRECTION' and wait, I should only do this once I join the other tables or we'll have missing record problems, so for now, let's one-hot encode the categorical columns.\n",
        "\n",
        "Since this is a large dataset, I'll use a train-test-split as my validation strategy. In order to prevent overfitting, I'll use some form of regularization (I'll try different kinds and use what works best). Subsequently, I will not need to drop any columns when using one-hot encoding because regularization will take care of any singularity issues among the categorical variables BUT nevermind, **I don't ohe until after the tts.**"
      ],
      "metadata": {
        "id": "AbDUdtgjxwLX"
      },
      "id": "AbDUdtgjxwLX"
    },
    {
      "cell_type": "code",
      "source": [
        "people_df = pd.read_csv('/content/CPD_traffic_crashes-people-20240501.csv')\n",
        "people_df.head(3)"
      ],
      "metadata": {
        "outputId": "bfa5844d-47a7-4fc1-f2d6-b5eaf484a90e",
        "colab": {
          "base_uri": "https://localhost:8080/",
          "height": 349
        },
        "id": "ARK7nA6hFxnZ"
      },
      "execution_count": 79,
      "outputs": [
        {
          "output_type": "stream",
          "name": "stderr",
          "text": [
            "<ipython-input-79-26241325ca0e>:1: DtypeWarning: Columns (19,23,24,25,28) have mixed types. Specify dtype option on import or set low_memory=False.\n",
            "  people_df = pd.read_csv('/content/CPD_traffic_crashes-people-20240501.csv')\n"
          ]
        },
        {
          "output_type": "execute_result",
          "data": {
            "text/plain": [
              "  PERSON_ID PERSON_TYPE                                    CRASH_RECORD_ID  \\\n",
              "0   O749947      DRIVER  81dc0de2ed92aa62baccab641fa377be7feb1cc47e6554...   \n",
              "1   O871921      DRIVER  af84fb5c8d996fcd3aefd36593c3a02e6e7509eeb27568...   \n",
              "2    O10018      DRIVER  71162af7bf22799b776547132ebf134b5b438dcf3dac6b...   \n",
              "\n",
              "   VEHICLE_ID              CRASH_DATE  SEAT_NO     CITY STATE ZIPCODE SEX  \\\n",
              "0    834816.0  09/28/2019 03:30:00 AM      NaN  CHICAGO    IL   60651   M   \n",
              "1    827212.0  04/13/2020 10:50:00 PM      NaN  CHICAGO    IL   60620   M   \n",
              "2      9579.0  11/01/2015 05:00:00 AM      NaN      NaN   NaN     NaN   X   \n",
              "\n",
              "   ...  EMS_RUN_NO     DRIVER_ACTION DRIVER_VISION PHYSICAL_CONDITION  \\\n",
              "0  ...         NaN           UNKNOWN       UNKNOWN            UNKNOWN   \n",
              "1  ...         NaN              NONE  NOT OBSCURED             NORMAL   \n",
              "2  ...         NaN  IMPROPER BACKING       UNKNOWN            UNKNOWN   \n",
              "\n",
              "  PEDPEDAL_ACTION PEDPEDAL_VISIBILITY PEDPEDAL_LOCATION        BAC_RESULT  \\\n",
              "0             NaN                 NaN               NaN  TEST NOT OFFERED   \n",
              "1             NaN                 NaN               NaN  TEST NOT OFFERED   \n",
              "2             NaN                 NaN               NaN  TEST NOT OFFERED   \n",
              "\n",
              "  BAC_RESULT VALUE CELL_PHONE_USE  \n",
              "0              NaN            NaN  \n",
              "1              NaN            NaN  \n",
              "2              NaN            NaN  \n",
              "\n",
              "[3 rows x 29 columns]"
            ],
            "text/html": [
              "\n",
              "  <div id=\"df-f7a288c6-ac59-48ad-9430-5814f3155244\" class=\"colab-df-container\">\n",
              "    <div>\n",
              "<style scoped>\n",
              "    .dataframe tbody tr th:only-of-type {\n",
              "        vertical-align: middle;\n",
              "    }\n",
              "\n",
              "    .dataframe tbody tr th {\n",
              "        vertical-align: top;\n",
              "    }\n",
              "\n",
              "    .dataframe thead th {\n",
              "        text-align: right;\n",
              "    }\n",
              "</style>\n",
              "<table border=\"1\" class=\"dataframe\">\n",
              "  <thead>\n",
              "    <tr style=\"text-align: right;\">\n",
              "      <th></th>\n",
              "      <th>PERSON_ID</th>\n",
              "      <th>PERSON_TYPE</th>\n",
              "      <th>CRASH_RECORD_ID</th>\n",
              "      <th>VEHICLE_ID</th>\n",
              "      <th>CRASH_DATE</th>\n",
              "      <th>SEAT_NO</th>\n",
              "      <th>CITY</th>\n",
              "      <th>STATE</th>\n",
              "      <th>ZIPCODE</th>\n",
              "      <th>SEX</th>\n",
              "      <th>...</th>\n",
              "      <th>EMS_RUN_NO</th>\n",
              "      <th>DRIVER_ACTION</th>\n",
              "      <th>DRIVER_VISION</th>\n",
              "      <th>PHYSICAL_CONDITION</th>\n",
              "      <th>PEDPEDAL_ACTION</th>\n",
              "      <th>PEDPEDAL_VISIBILITY</th>\n",
              "      <th>PEDPEDAL_LOCATION</th>\n",
              "      <th>BAC_RESULT</th>\n",
              "      <th>BAC_RESULT VALUE</th>\n",
              "      <th>CELL_PHONE_USE</th>\n",
              "    </tr>\n",
              "  </thead>\n",
              "  <tbody>\n",
              "    <tr>\n",
              "      <th>0</th>\n",
              "      <td>O749947</td>\n",
              "      <td>DRIVER</td>\n",
              "      <td>81dc0de2ed92aa62baccab641fa377be7feb1cc47e6554...</td>\n",
              "      <td>834816.0</td>\n",
              "      <td>09/28/2019 03:30:00 AM</td>\n",
              "      <td>NaN</td>\n",
              "      <td>CHICAGO</td>\n",
              "      <td>IL</td>\n",
              "      <td>60651</td>\n",
              "      <td>M</td>\n",
              "      <td>...</td>\n",
              "      <td>NaN</td>\n",
              "      <td>UNKNOWN</td>\n",
              "      <td>UNKNOWN</td>\n",
              "      <td>UNKNOWN</td>\n",
              "      <td>NaN</td>\n",
              "      <td>NaN</td>\n",
              "      <td>NaN</td>\n",
              "      <td>TEST NOT OFFERED</td>\n",
              "      <td>NaN</td>\n",
              "      <td>NaN</td>\n",
              "    </tr>\n",
              "    <tr>\n",
              "      <th>1</th>\n",
              "      <td>O871921</td>\n",
              "      <td>DRIVER</td>\n",
              "      <td>af84fb5c8d996fcd3aefd36593c3a02e6e7509eeb27568...</td>\n",
              "      <td>827212.0</td>\n",
              "      <td>04/13/2020 10:50:00 PM</td>\n",
              "      <td>NaN</td>\n",
              "      <td>CHICAGO</td>\n",
              "      <td>IL</td>\n",
              "      <td>60620</td>\n",
              "      <td>M</td>\n",
              "      <td>...</td>\n",
              "      <td>NaN</td>\n",
              "      <td>NONE</td>\n",
              "      <td>NOT OBSCURED</td>\n",
              "      <td>NORMAL</td>\n",
              "      <td>NaN</td>\n",
              "      <td>NaN</td>\n",
              "      <td>NaN</td>\n",
              "      <td>TEST NOT OFFERED</td>\n",
              "      <td>NaN</td>\n",
              "      <td>NaN</td>\n",
              "    </tr>\n",
              "    <tr>\n",
              "      <th>2</th>\n",
              "      <td>O10018</td>\n",
              "      <td>DRIVER</td>\n",
              "      <td>71162af7bf22799b776547132ebf134b5b438dcf3dac6b...</td>\n",
              "      <td>9579.0</td>\n",
              "      <td>11/01/2015 05:00:00 AM</td>\n",
              "      <td>NaN</td>\n",
              "      <td>NaN</td>\n",
              "      <td>NaN</td>\n",
              "      <td>NaN</td>\n",
              "      <td>X</td>\n",
              "      <td>...</td>\n",
              "      <td>NaN</td>\n",
              "      <td>IMPROPER BACKING</td>\n",
              "      <td>UNKNOWN</td>\n",
              "      <td>UNKNOWN</td>\n",
              "      <td>NaN</td>\n",
              "      <td>NaN</td>\n",
              "      <td>NaN</td>\n",
              "      <td>TEST NOT OFFERED</td>\n",
              "      <td>NaN</td>\n",
              "      <td>NaN</td>\n",
              "    </tr>\n",
              "  </tbody>\n",
              "</table>\n",
              "<p>3 rows × 29 columns</p>\n",
              "</div>\n",
              "    <div class=\"colab-df-buttons\">\n",
              "\n",
              "  <div class=\"colab-df-container\">\n",
              "    <button class=\"colab-df-convert\" onclick=\"convertToInteractive('df-f7a288c6-ac59-48ad-9430-5814f3155244')\"\n",
              "            title=\"Convert this dataframe to an interactive table.\"\n",
              "            style=\"display:none;\">\n",
              "\n",
              "  <svg xmlns=\"http://www.w3.org/2000/svg\" height=\"24px\" viewBox=\"0 -960 960 960\">\n",
              "    <path d=\"M120-120v-720h720v720H120Zm60-500h600v-160H180v160Zm220 220h160v-160H400v160Zm0 220h160v-160H400v160ZM180-400h160v-160H180v160Zm440 0h160v-160H620v160ZM180-180h160v-160H180v160Zm440 0h160v-160H620v160Z\"/>\n",
              "  </svg>\n",
              "    </button>\n",
              "\n",
              "  <style>\n",
              "    .colab-df-container {\n",
              "      display:flex;\n",
              "      gap: 12px;\n",
              "    }\n",
              "\n",
              "    .colab-df-convert {\n",
              "      background-color: #E8F0FE;\n",
              "      border: none;\n",
              "      border-radius: 50%;\n",
              "      cursor: pointer;\n",
              "      display: none;\n",
              "      fill: #1967D2;\n",
              "      height: 32px;\n",
              "      padding: 0 0 0 0;\n",
              "      width: 32px;\n",
              "    }\n",
              "\n",
              "    .colab-df-convert:hover {\n",
              "      background-color: #E2EBFA;\n",
              "      box-shadow: 0px 1px 2px rgba(60, 64, 67, 0.3), 0px 1px 3px 1px rgba(60, 64, 67, 0.15);\n",
              "      fill: #174EA6;\n",
              "    }\n",
              "\n",
              "    .colab-df-buttons div {\n",
              "      margin-bottom: 4px;\n",
              "    }\n",
              "\n",
              "    [theme=dark] .colab-df-convert {\n",
              "      background-color: #3B4455;\n",
              "      fill: #D2E3FC;\n",
              "    }\n",
              "\n",
              "    [theme=dark] .colab-df-convert:hover {\n",
              "      background-color: #434B5C;\n",
              "      box-shadow: 0px 1px 3px 1px rgba(0, 0, 0, 0.15);\n",
              "      filter: drop-shadow(0px 1px 2px rgba(0, 0, 0, 0.3));\n",
              "      fill: #FFFFFF;\n",
              "    }\n",
              "  </style>\n",
              "\n",
              "    <script>\n",
              "      const buttonEl =\n",
              "        document.querySelector('#df-f7a288c6-ac59-48ad-9430-5814f3155244 button.colab-df-convert');\n",
              "      buttonEl.style.display =\n",
              "        google.colab.kernel.accessAllowed ? 'block' : 'none';\n",
              "\n",
              "      async function convertToInteractive(key) {\n",
              "        const element = document.querySelector('#df-f7a288c6-ac59-48ad-9430-5814f3155244');\n",
              "        const dataTable =\n",
              "          await google.colab.kernel.invokeFunction('convertToInteractive',\n",
              "                                                    [key], {});\n",
              "        if (!dataTable) return;\n",
              "\n",
              "        const docLinkHtml = 'Like what you see? Visit the ' +\n",
              "          '<a target=\"_blank\" href=https://colab.research.google.com/notebooks/data_table.ipynb>data table notebook</a>'\n",
              "          + ' to learn more about interactive tables.';\n",
              "        element.innerHTML = '';\n",
              "        dataTable['output_type'] = 'display_data';\n",
              "        await google.colab.output.renderOutput(dataTable, element);\n",
              "        const docLink = document.createElement('div');\n",
              "        docLink.innerHTML = docLinkHtml;\n",
              "        element.appendChild(docLink);\n",
              "      }\n",
              "    </script>\n",
              "  </div>\n",
              "\n",
              "\n",
              "<div id=\"df-aa4b434b-435f-417c-8bf8-4b267aec6073\">\n",
              "  <button class=\"colab-df-quickchart\" onclick=\"quickchart('df-aa4b434b-435f-417c-8bf8-4b267aec6073')\"\n",
              "            title=\"Suggest charts\"\n",
              "            style=\"display:none;\">\n",
              "\n",
              "<svg xmlns=\"http://www.w3.org/2000/svg\" height=\"24px\"viewBox=\"0 0 24 24\"\n",
              "     width=\"24px\">\n",
              "    <g>\n",
              "        <path d=\"M19 3H5c-1.1 0-2 .9-2 2v14c0 1.1.9 2 2 2h14c1.1 0 2-.9 2-2V5c0-1.1-.9-2-2-2zM9 17H7v-7h2v7zm4 0h-2V7h2v10zm4 0h-2v-4h2v4z\"/>\n",
              "    </g>\n",
              "</svg>\n",
              "  </button>\n",
              "\n",
              "<style>\n",
              "  .colab-df-quickchart {\n",
              "      --bg-color: #E8F0FE;\n",
              "      --fill-color: #1967D2;\n",
              "      --hover-bg-color: #E2EBFA;\n",
              "      --hover-fill-color: #174EA6;\n",
              "      --disabled-fill-color: #AAA;\n",
              "      --disabled-bg-color: #DDD;\n",
              "  }\n",
              "\n",
              "  [theme=dark] .colab-df-quickchart {\n",
              "      --bg-color: #3B4455;\n",
              "      --fill-color: #D2E3FC;\n",
              "      --hover-bg-color: #434B5C;\n",
              "      --hover-fill-color: #FFFFFF;\n",
              "      --disabled-bg-color: #3B4455;\n",
              "      --disabled-fill-color: #666;\n",
              "  }\n",
              "\n",
              "  .colab-df-quickchart {\n",
              "    background-color: var(--bg-color);\n",
              "    border: none;\n",
              "    border-radius: 50%;\n",
              "    cursor: pointer;\n",
              "    display: none;\n",
              "    fill: var(--fill-color);\n",
              "    height: 32px;\n",
              "    padding: 0;\n",
              "    width: 32px;\n",
              "  }\n",
              "\n",
              "  .colab-df-quickchart:hover {\n",
              "    background-color: var(--hover-bg-color);\n",
              "    box-shadow: 0 1px 2px rgba(60, 64, 67, 0.3), 0 1px 3px 1px rgba(60, 64, 67, 0.15);\n",
              "    fill: var(--button-hover-fill-color);\n",
              "  }\n",
              "\n",
              "  .colab-df-quickchart-complete:disabled,\n",
              "  .colab-df-quickchart-complete:disabled:hover {\n",
              "    background-color: var(--disabled-bg-color);\n",
              "    fill: var(--disabled-fill-color);\n",
              "    box-shadow: none;\n",
              "  }\n",
              "\n",
              "  .colab-df-spinner {\n",
              "    border: 2px solid var(--fill-color);\n",
              "    border-color: transparent;\n",
              "    border-bottom-color: var(--fill-color);\n",
              "    animation:\n",
              "      spin 1s steps(1) infinite;\n",
              "  }\n",
              "\n",
              "  @keyframes spin {\n",
              "    0% {\n",
              "      border-color: transparent;\n",
              "      border-bottom-color: var(--fill-color);\n",
              "      border-left-color: var(--fill-color);\n",
              "    }\n",
              "    20% {\n",
              "      border-color: transparent;\n",
              "      border-left-color: var(--fill-color);\n",
              "      border-top-color: var(--fill-color);\n",
              "    }\n",
              "    30% {\n",
              "      border-color: transparent;\n",
              "      border-left-color: var(--fill-color);\n",
              "      border-top-color: var(--fill-color);\n",
              "      border-right-color: var(--fill-color);\n",
              "    }\n",
              "    40% {\n",
              "      border-color: transparent;\n",
              "      border-right-color: var(--fill-color);\n",
              "      border-top-color: var(--fill-color);\n",
              "    }\n",
              "    60% {\n",
              "      border-color: transparent;\n",
              "      border-right-color: var(--fill-color);\n",
              "    }\n",
              "    80% {\n",
              "      border-color: transparent;\n",
              "      border-right-color: var(--fill-color);\n",
              "      border-bottom-color: var(--fill-color);\n",
              "    }\n",
              "    90% {\n",
              "      border-color: transparent;\n",
              "      border-bottom-color: var(--fill-color);\n",
              "    }\n",
              "  }\n",
              "</style>\n",
              "\n",
              "  <script>\n",
              "    async function quickchart(key) {\n",
              "      const quickchartButtonEl =\n",
              "        document.querySelector('#' + key + ' button');\n",
              "      quickchartButtonEl.disabled = true;  // To prevent multiple clicks.\n",
              "      quickchartButtonEl.classList.add('colab-df-spinner');\n",
              "      try {\n",
              "        const charts = await google.colab.kernel.invokeFunction(\n",
              "            'suggestCharts', [key], {});\n",
              "      } catch (error) {\n",
              "        console.error('Error during call to suggestCharts:', error);\n",
              "      }\n",
              "      quickchartButtonEl.classList.remove('colab-df-spinner');\n",
              "      quickchartButtonEl.classList.add('colab-df-quickchart-complete');\n",
              "    }\n",
              "    (() => {\n",
              "      let quickchartButtonEl =\n",
              "        document.querySelector('#df-aa4b434b-435f-417c-8bf8-4b267aec6073 button');\n",
              "      quickchartButtonEl.style.display =\n",
              "        google.colab.kernel.accessAllowed ? 'block' : 'none';\n",
              "    })();\n",
              "  </script>\n",
              "</div>\n",
              "\n",
              "    </div>\n",
              "  </div>\n"
            ],
            "application/vnd.google.colaboratory.intrinsic+json": {
              "type": "dataframe",
              "variable_name": "people_df"
            }
          },
          "metadata": {},
          "execution_count": 79
        }
      ],
      "id": "ARK7nA6hFxnZ"
    },
    {
      "cell_type": "code",
      "source": [
        "people_df.info()"
      ],
      "metadata": {
        "id": "wLuvzuHEF8VA",
        "outputId": "913be85c-acc7-4f08-ae95-2a33d4828854",
        "colab": {
          "base_uri": "https://localhost:8080/"
        }
      },
      "id": "wLuvzuHEF8VA",
      "execution_count": 80,
      "outputs": [
        {
          "output_type": "stream",
          "name": "stdout",
          "text": [
            "<class 'pandas.core.frame.DataFrame'>\n",
            "RangeIndex: 1818705 entries, 0 to 1818704\n",
            "Data columns (total 29 columns):\n",
            " #   Column                 Dtype  \n",
            "---  ------                 -----  \n",
            " 0   PERSON_ID              object \n",
            " 1   PERSON_TYPE            object \n",
            " 2   CRASH_RECORD_ID        object \n",
            " 3   VEHICLE_ID             float64\n",
            " 4   CRASH_DATE             object \n",
            " 5   SEAT_NO                float64\n",
            " 6   CITY                   object \n",
            " 7   STATE                  object \n",
            " 8   ZIPCODE                object \n",
            " 9   SEX                    object \n",
            " 10  AGE                    float64\n",
            " 11  DRIVERS_LICENSE_STATE  object \n",
            " 12  DRIVERS_LICENSE_CLASS  object \n",
            " 13  SAFETY_EQUIPMENT       object \n",
            " 14  AIRBAG_DEPLOYED        object \n",
            " 15  EJECTION               object \n",
            " 16  INJURY_CLASSIFICATION  object \n",
            " 17  HOSPITAL               object \n",
            " 18  EMS_AGENCY             object \n",
            " 19  EMS_RUN_NO             object \n",
            " 20  DRIVER_ACTION          object \n",
            " 21  DRIVER_VISION          object \n",
            " 22  PHYSICAL_CONDITION     object \n",
            " 23  PEDPEDAL_ACTION        object \n",
            " 24  PEDPEDAL_VISIBILITY    object \n",
            " 25  PEDPEDAL_LOCATION      object \n",
            " 26  BAC_RESULT             object \n",
            " 27  BAC_RESULT VALUE       float64\n",
            " 28  CELL_PHONE_USE         object \n",
            "dtypes: float64(4), object(25)\n",
            "memory usage: 402.4+ MB\n"
          ]
        }
      ]
    },
    {
      "cell_type": "markdown",
      "source": [
        "As with the crashes set, our first task is to understand and then reduce the columns we'll use. Specifically, we'll determine & eliminate those that don't necessarily pertain to the the *cause* of an accident, but rather the aftermath. In order to decrease dimensionality, we'll also drop categorical columns that have high cardinality and aren't likely to contribute much, like zipcodes or the state from which the drivers license was issued."
      ],
      "metadata": {
        "id": "ZuX0kcGK3kuW"
      },
      "id": "ZuX0kcGK3kuW"
    },
    {
      "cell_type": "code",
      "source": [
        "people_df['PERSON_TYPE'].value_counts()"
      ],
      "metadata": {
        "colab": {
          "base_uri": "https://localhost:8080/"
        },
        "id": "ig_aYnw0U-j1",
        "outputId": "251d42c3-0339-44f8-be01-aece4d03f788"
      },
      "id": "ig_aYnw0U-j1",
      "execution_count": 81,
      "outputs": [
        {
          "output_type": "execute_result",
          "data": {
            "text/plain": [
              "PERSON_TYPE\n",
              "DRIVER                 1415231\n",
              "PASSENGER               367648\n",
              "PEDESTRIAN               21244\n",
              "BICYCLE                  12794\n",
              "NON-MOTOR VEHICLE         1482\n",
              "NON-CONTACT VEHICLE        306\n",
              "Name: count, dtype: int64"
            ]
          },
          "metadata": {},
          "execution_count": 81
        }
      ]
    },
    {
      "cell_type": "code",
      "source": [
        "with pd.option_context('display.max_rows', None, 'display.max_columns', None):\n",
        "    print (people_df['DRIVER_ACTION'].value_counts())"
      ],
      "metadata": {
        "id": "KbQkRHqS3j6x",
        "outputId": "b311d5d0-2ced-42c6-a3b2-213c7280a469",
        "colab": {
          "base_uri": "https://localhost:8080/"
        }
      },
      "id": "KbQkRHqS3j6x",
      "execution_count": 82,
      "outputs": [
        {
          "output_type": "stream",
          "name": "stdout",
          "text": [
            "DRIVER_ACTION\n",
            "NONE                                 517295\n",
            "UNKNOWN                              365078\n",
            "FAILED TO YIELD                      131914\n",
            "OTHER                                129661\n",
            "FOLLOWED TOO CLOSELY                  85675\n",
            "IMPROPER BACKING                      42948\n",
            "IMPROPER TURN                         37980\n",
            "IMPROPER LANE CHANGE                  37173\n",
            "IMPROPER PASSING                      32369\n",
            "DISREGARDED CONTROL DEVICES           25564\n",
            "TOO FAST FOR CONDITIONS               21734\n",
            "WRONG WAY/SIDE                         5813\n",
            "IMPROPER PARKING                       5329\n",
            "OVERCORRECTED                          2710\n",
            "EVADING POLICE VEHICLE                 2304\n",
            "CELL PHONE USE OTHER THAN TEXTING      2126\n",
            "EMERGENCY VEHICLE ON CALL              1328\n",
            "TEXTING                                 569\n",
            "STOPPED SCHOOL BUS                      174\n",
            "LICENSE RESTRICTIONS                     61\n",
            "Name: count, dtype: int64\n"
          ]
        }
      ]
    },
    {
      "cell_type": "code",
      "source": [
        "people_df['DRIVER_VISION'].value_counts()"
      ],
      "metadata": {
        "id": "8Y8r57A6cejO",
        "outputId": "04c6b22b-ebc5-4dde-c378-020c562775b6",
        "colab": {
          "base_uri": "https://localhost:8080/"
        }
      },
      "id": "8Y8r57A6cejO",
      "execution_count": 83,
      "outputs": [
        {
          "output_type": "execute_result",
          "data": {
            "text/plain": [
              "DRIVER_VISION\n",
              "NOT OBSCURED              731001\n",
              "UNKNOWN                   681356\n",
              "OTHER                      14386\n",
              "MOVING VEHICLES             8198\n",
              "PARKED VEHICLES             5044\n",
              "WINDSHIELD (WATER/ICE)      3987\n",
              "BLINDED - SUNLIGHT          1716\n",
              "TREES, PLANTS                578\n",
              "BUILDINGS                    516\n",
              "BLINDED - HEADLIGHTS         155\n",
              "BLOWING MATERIALS            102\n",
              "HILLCREST                     96\n",
              "EMBANKMENT                    83\n",
              "SIGNBOARD                     35\n",
              "Name: count, dtype: int64"
            ]
          },
          "metadata": {},
          "execution_count": 83
        }
      ]
    },
    {
      "cell_type": "markdown",
      "source": [
        "Safety equipment almost certainly has an impact on injuries & fatalities, but if we're prioritizing an effort to minimize dimensions, then weighing whether they have an impact on the *cause* probably means we can drop this column.\n",
        "\n",
        "'DRIVER_ACTION' can be dropped since it's pretty redundant when it comes to our target. 'DRIVER_VISION' categorizes whether and how the driver's vision was impeded, but its classes are almost enitrely either 'unobscured' or 'unknown', so I don't think it will helpful here. The same goes for 'PHYSICAL_CONDITION' where only a handful aren't either 'normal' or 'unknown'.\n",
        "\n",
        "'PEDPEDAL_ACTION' refers to what a pedestrian or cyclist was doing if they were involved in the accident. This would be useful if we were just looking at such accidents, but we are investigating all traffic crashes. Let's see the extent to which these ped/pedal accidents make up the total:"
      ],
      "metadata": {
        "id": "_Nx5O9_kdQVm"
      },
      "id": "_Nx5O9_kdQVm"
    },
    {
      "cell_type": "code",
      "source": [
        "pedpedal_action_vc = people_df['PEDPEDAL_ACTION'].value_counts()\n",
        "pedpedal_action_vc_sum = sum(pedpedal_action_vc)\n",
        "pedpedal_action_vc_sum / people_df.shape[0]"
      ],
      "metadata": {
        "id": "J6ZPlfrDckkC",
        "outputId": "a932a2b8-9a05-4311-b4b9-80995c9433de",
        "colab": {
          "base_uri": "https://localhost:8080/"
        }
      },
      "id": "J6ZPlfrDckkC",
      "execution_count": 84,
      "outputs": [
        {
          "output_type": "execute_result",
          "data": {
            "text/plain": [
              "0.01903057395234521"
            ]
          },
          "metadata": {},
          "execution_count": 84
        }
      ]
    },
    {
      "cell_type": "markdown",
      "source": [
        "It looks like this would only apply to less than 2% of the total rows, so it will only really add noise, so let's drop it along with 'PEDPEDAL_VISIBILITY' and 'PEDPEDAL_LOCATION'."
      ],
      "metadata": {
        "id": "pg-t16M-ZfAN"
      },
      "id": "pg-t16M-ZfAN"
    },
    {
      "cell_type": "code",
      "source": [
        "people_df['BAC_RESULT'].value_counts()"
      ],
      "metadata": {
        "id": "Qr3jfHHt3j_e",
        "outputId": "564afba2-4c91-4349-a61e-5262e7fc2091",
        "colab": {
          "base_uri": "https://localhost:8080/"
        }
      },
      "id": "Qr3jfHHt3j_e",
      "execution_count": 85,
      "outputs": [
        {
          "output_type": "execute_result",
          "data": {
            "text/plain": [
              "BAC_RESULT\n",
              "TEST NOT OFFERED                   1427625\n",
              "TEST REFUSED                         15087\n",
              "TEST PERFORMED, RESULTS UNKNOWN       3496\n",
              "TEST TAKEN                            2576\n",
              "Name: count, dtype: int64"
            ]
          },
          "metadata": {},
          "execution_count": 85
        }
      ]
    },
    {
      "cell_type": "markdown",
      "source": [
        "'BAC_RESULT' would be helpful but only a tiny percentage involve any tests taken, so it will not help here."
      ],
      "metadata": {
        "id": "lKg8EKo7gjoV"
      },
      "id": "lKg8EKo7gjoV"
    },
    {
      "cell_type": "code",
      "source": [
        "people_df['CELL_PHONE_USE'].value_counts()"
      ],
      "metadata": {
        "id": "UoIdAqVKg2-m",
        "outputId": "e9078757-26a0-4bce-9050-cfb4e4862b5f",
        "colab": {
          "base_uri": "https://localhost:8080/"
        }
      },
      "id": "UoIdAqVKg2-m",
      "execution_count": 86,
      "outputs": [
        {
          "output_type": "execute_result",
          "data": {
            "text/plain": [
              "CELL_PHONE_USE\n",
              "Y    752\n",
              "N    407\n",
              "Name: count, dtype: int64"
            ]
          },
          "metadata": {},
          "execution_count": 86
        }
      ]
    },
    {
      "cell_type": "markdown",
      "source": [
        "Unfortunately, 'CELL_PHONE_USE' doesn't show enough entries to be useful, either. With that, we have at least a good starting list of columns to drop, so let's drop them and move on to the last part of this dataset."
      ],
      "metadata": {
        "id": "_J68gCPlhC9S"
      },
      "id": "_J68gCPlhC9S"
    },
    {
      "cell_type": "code",
      "source": [
        "people_columns_to_drop = ['PERSON_ID', 'VEHICLE_ID', 'CRASH_DATE', 'SEAT_NO', 'STATE', 'ZIPCODE', 'DRIVERS_LICENSE_STATE',\n",
        "                   'SAFETY_EQUIPMENT', 'AIRBAG_DEPLOYED', 'EJECTION', 'INJURY_CLASSIFICATION', 'HOSPITAL',\n",
        "                   'EMS_AGENCY', 'EMS_RUN_NO', 'DRIVER_ACTION', 'DRIVER_VISION', 'PHYSICAL_CONDITION',\n",
        "                   'PEDPEDAL_ACTION', 'PEDPEDAL_VISIBILITY', 'PEDPEDAL_LOCATION', 'BAC_RESULT',\n",
        "                   'BAC_RESULT VALUE', 'CELL_PHONE_USE']"
      ],
      "metadata": {
        "id": "u3x6cevCGlO4"
      },
      "id": "u3x6cevCGlO4",
      "execution_count": 87,
      "outputs": []
    },
    {
      "cell_type": "code",
      "source": [
        "people_df_refined = people_df.drop(people_columns_to_drop, axis=1)\n",
        "people_df_refined.info()"
      ],
      "metadata": {
        "colab": {
          "base_uri": "https://localhost:8080/"
        },
        "id": "By3pekBJT7qx",
        "outputId": "9b0b0994-a9a2-424e-860a-ee77ae1524e0"
      },
      "id": "By3pekBJT7qx",
      "execution_count": 88,
      "outputs": [
        {
          "output_type": "stream",
          "name": "stdout",
          "text": [
            "<class 'pandas.core.frame.DataFrame'>\n",
            "RangeIndex: 1818705 entries, 0 to 1818704\n",
            "Data columns (total 6 columns):\n",
            " #   Column                 Dtype  \n",
            "---  ------                 -----  \n",
            " 0   PERSON_TYPE            object \n",
            " 1   CRASH_RECORD_ID        object \n",
            " 2   CITY                   object \n",
            " 3   SEX                    object \n",
            " 4   AGE                    float64\n",
            " 5   DRIVERS_LICENSE_CLASS  object \n",
            "dtypes: float64(1), object(5)\n",
            "memory usage: 83.3+ MB\n"
          ]
        }
      ]
    },
    {
      "cell_type": "markdown",
      "source": [
        "Finally, let's examine the third part of this dataset on vehicles:"
      ],
      "metadata": {
        "id": "32t0CoA5hgEF"
      },
      "id": "32t0CoA5hgEF"
    },
    {
      "cell_type": "code",
      "source": [
        "vehicles_df = pd.read_csv('/content/CPD_traffic_crashes-vehicles-20240501.csv')\n",
        "vehicles_df.head(3)"
      ],
      "metadata": {
        "id": "gULuQNbVhZaM",
        "outputId": "95896111-3e02-4afc-88b8-a344532ce9e7",
        "colab": {
          "base_uri": "https://localhost:8080/",
          "height": 331
        }
      },
      "id": "gULuQNbVhZaM",
      "execution_count": 89,
      "outputs": [
        {
          "output_type": "stream",
          "name": "stderr",
          "text": [
            "<ipython-input-89-04261ed8d1c9>:1: DtypeWarning: Columns (20,39,40,41,43,47,48,49,52,54,57,58,60,70) have mixed types. Specify dtype option on import or set low_memory=False.\n",
            "  vehicles_df = pd.read_csv('/content/CPD_traffic_crashes-vehicles-20240501.csv')\n"
          ]
        },
        {
          "output_type": "execute_result",
          "data": {
            "text/plain": [
              "   CRASH_UNIT_ID                                    CRASH_RECORD_ID  \\\n",
              "0        1717556  7b1763088507f77e0e552c009a6bf89a4d6330c7527706...   \n",
              "1        1717574  2603ff5a88f0b9b54576934c5ed4e4a64e8278e005687b...   \n",
              "2        1717579  a52ef70e33d468b855b5be44e8638a564434dcf99c0edf...   \n",
              "\n",
              "               CRASH_DATE  UNIT_NO UNIT_TYPE  NUM_PASSENGERS  VEHICLE_ID  \\\n",
              "0  12/06/2023 03:24:00 PM        1    DRIVER             NaN   1634931.0   \n",
              "1  12/06/2023 04:00:00 PM        2    DRIVER             NaN   1634978.0   \n",
              "2  12/06/2023 04:30:00 PM        1    DRIVER             NaN   1634948.0   \n",
              "\n",
              "  CMRC_VEH_I      MAKE    MODEL  ... TRAILER1_LENGTH  TRAILER2_LENGTH  \\\n",
              "0        NaN    NISSAN   SENTRA  ...             NaN              NaN   \n",
              "1        NaN  CHRYSLER  SEBRING  ...             NaN              NaN   \n",
              "2        NaN    SUBARU  OUTBACK  ...             NaN              NaN   \n",
              "\n",
              "  TOTAL_VEHICLE_LENGTH AXLE_CNT VEHICLE_CONFIG CARGO_BODY_TYPE LOAD_TYPE  \\\n",
              "0                  NaN      NaN            NaN             NaN       NaN   \n",
              "1                  NaN      NaN            NaN             NaN       NaN   \n",
              "2                  NaN      NaN            NaN             NaN       NaN   \n",
              "\n",
              "  HAZMAT_OUT_OF_SERVICE_I MCS_OUT_OF_SERVICE_I  HAZMAT_CLASS  \n",
              "0                     NaN                  NaN           NaN  \n",
              "1                     NaN                  NaN           NaN  \n",
              "2                     NaN                  NaN           NaN  \n",
              "\n",
              "[3 rows x 71 columns]"
            ],
            "text/html": [
              "\n",
              "  <div id=\"df-529244c1-9ad2-40cd-b66e-3654a25461ad\" class=\"colab-df-container\">\n",
              "    <div>\n",
              "<style scoped>\n",
              "    .dataframe tbody tr th:only-of-type {\n",
              "        vertical-align: middle;\n",
              "    }\n",
              "\n",
              "    .dataframe tbody tr th {\n",
              "        vertical-align: top;\n",
              "    }\n",
              "\n",
              "    .dataframe thead th {\n",
              "        text-align: right;\n",
              "    }\n",
              "</style>\n",
              "<table border=\"1\" class=\"dataframe\">\n",
              "  <thead>\n",
              "    <tr style=\"text-align: right;\">\n",
              "      <th></th>\n",
              "      <th>CRASH_UNIT_ID</th>\n",
              "      <th>CRASH_RECORD_ID</th>\n",
              "      <th>CRASH_DATE</th>\n",
              "      <th>UNIT_NO</th>\n",
              "      <th>UNIT_TYPE</th>\n",
              "      <th>NUM_PASSENGERS</th>\n",
              "      <th>VEHICLE_ID</th>\n",
              "      <th>CMRC_VEH_I</th>\n",
              "      <th>MAKE</th>\n",
              "      <th>MODEL</th>\n",
              "      <th>...</th>\n",
              "      <th>TRAILER1_LENGTH</th>\n",
              "      <th>TRAILER2_LENGTH</th>\n",
              "      <th>TOTAL_VEHICLE_LENGTH</th>\n",
              "      <th>AXLE_CNT</th>\n",
              "      <th>VEHICLE_CONFIG</th>\n",
              "      <th>CARGO_BODY_TYPE</th>\n",
              "      <th>LOAD_TYPE</th>\n",
              "      <th>HAZMAT_OUT_OF_SERVICE_I</th>\n",
              "      <th>MCS_OUT_OF_SERVICE_I</th>\n",
              "      <th>HAZMAT_CLASS</th>\n",
              "    </tr>\n",
              "  </thead>\n",
              "  <tbody>\n",
              "    <tr>\n",
              "      <th>0</th>\n",
              "      <td>1717556</td>\n",
              "      <td>7b1763088507f77e0e552c009a6bf89a4d6330c7527706...</td>\n",
              "      <td>12/06/2023 03:24:00 PM</td>\n",
              "      <td>1</td>\n",
              "      <td>DRIVER</td>\n",
              "      <td>NaN</td>\n",
              "      <td>1634931.0</td>\n",
              "      <td>NaN</td>\n",
              "      <td>NISSAN</td>\n",
              "      <td>SENTRA</td>\n",
              "      <td>...</td>\n",
              "      <td>NaN</td>\n",
              "      <td>NaN</td>\n",
              "      <td>NaN</td>\n",
              "      <td>NaN</td>\n",
              "      <td>NaN</td>\n",
              "      <td>NaN</td>\n",
              "      <td>NaN</td>\n",
              "      <td>NaN</td>\n",
              "      <td>NaN</td>\n",
              "      <td>NaN</td>\n",
              "    </tr>\n",
              "    <tr>\n",
              "      <th>1</th>\n",
              "      <td>1717574</td>\n",
              "      <td>2603ff5a88f0b9b54576934c5ed4e4a64e8278e005687b...</td>\n",
              "      <td>12/06/2023 04:00:00 PM</td>\n",
              "      <td>2</td>\n",
              "      <td>DRIVER</td>\n",
              "      <td>NaN</td>\n",
              "      <td>1634978.0</td>\n",
              "      <td>NaN</td>\n",
              "      <td>CHRYSLER</td>\n",
              "      <td>SEBRING</td>\n",
              "      <td>...</td>\n",
              "      <td>NaN</td>\n",
              "      <td>NaN</td>\n",
              "      <td>NaN</td>\n",
              "      <td>NaN</td>\n",
              "      <td>NaN</td>\n",
              "      <td>NaN</td>\n",
              "      <td>NaN</td>\n",
              "      <td>NaN</td>\n",
              "      <td>NaN</td>\n",
              "      <td>NaN</td>\n",
              "    </tr>\n",
              "    <tr>\n",
              "      <th>2</th>\n",
              "      <td>1717579</td>\n",
              "      <td>a52ef70e33d468b855b5be44e8638a564434dcf99c0edf...</td>\n",
              "      <td>12/06/2023 04:30:00 PM</td>\n",
              "      <td>1</td>\n",
              "      <td>DRIVER</td>\n",
              "      <td>NaN</td>\n",
              "      <td>1634948.0</td>\n",
              "      <td>NaN</td>\n",
              "      <td>SUBARU</td>\n",
              "      <td>OUTBACK</td>\n",
              "      <td>...</td>\n",
              "      <td>NaN</td>\n",
              "      <td>NaN</td>\n",
              "      <td>NaN</td>\n",
              "      <td>NaN</td>\n",
              "      <td>NaN</td>\n",
              "      <td>NaN</td>\n",
              "      <td>NaN</td>\n",
              "      <td>NaN</td>\n",
              "      <td>NaN</td>\n",
              "      <td>NaN</td>\n",
              "    </tr>\n",
              "  </tbody>\n",
              "</table>\n",
              "<p>3 rows × 71 columns</p>\n",
              "</div>\n",
              "    <div class=\"colab-df-buttons\">\n",
              "\n",
              "  <div class=\"colab-df-container\">\n",
              "    <button class=\"colab-df-convert\" onclick=\"convertToInteractive('df-529244c1-9ad2-40cd-b66e-3654a25461ad')\"\n",
              "            title=\"Convert this dataframe to an interactive table.\"\n",
              "            style=\"display:none;\">\n",
              "\n",
              "  <svg xmlns=\"http://www.w3.org/2000/svg\" height=\"24px\" viewBox=\"0 -960 960 960\">\n",
              "    <path d=\"M120-120v-720h720v720H120Zm60-500h600v-160H180v160Zm220 220h160v-160H400v160Zm0 220h160v-160H400v160ZM180-400h160v-160H180v160Zm440 0h160v-160H620v160ZM180-180h160v-160H180v160Zm440 0h160v-160H620v160Z\"/>\n",
              "  </svg>\n",
              "    </button>\n",
              "\n",
              "  <style>\n",
              "    .colab-df-container {\n",
              "      display:flex;\n",
              "      gap: 12px;\n",
              "    }\n",
              "\n",
              "    .colab-df-convert {\n",
              "      background-color: #E8F0FE;\n",
              "      border: none;\n",
              "      border-radius: 50%;\n",
              "      cursor: pointer;\n",
              "      display: none;\n",
              "      fill: #1967D2;\n",
              "      height: 32px;\n",
              "      padding: 0 0 0 0;\n",
              "      width: 32px;\n",
              "    }\n",
              "\n",
              "    .colab-df-convert:hover {\n",
              "      background-color: #E2EBFA;\n",
              "      box-shadow: 0px 1px 2px rgba(60, 64, 67, 0.3), 0px 1px 3px 1px rgba(60, 64, 67, 0.15);\n",
              "      fill: #174EA6;\n",
              "    }\n",
              "\n",
              "    .colab-df-buttons div {\n",
              "      margin-bottom: 4px;\n",
              "    }\n",
              "\n",
              "    [theme=dark] .colab-df-convert {\n",
              "      background-color: #3B4455;\n",
              "      fill: #D2E3FC;\n",
              "    }\n",
              "\n",
              "    [theme=dark] .colab-df-convert:hover {\n",
              "      background-color: #434B5C;\n",
              "      box-shadow: 0px 1px 3px 1px rgba(0, 0, 0, 0.15);\n",
              "      filter: drop-shadow(0px 1px 2px rgba(0, 0, 0, 0.3));\n",
              "      fill: #FFFFFF;\n",
              "    }\n",
              "  </style>\n",
              "\n",
              "    <script>\n",
              "      const buttonEl =\n",
              "        document.querySelector('#df-529244c1-9ad2-40cd-b66e-3654a25461ad button.colab-df-convert');\n",
              "      buttonEl.style.display =\n",
              "        google.colab.kernel.accessAllowed ? 'block' : 'none';\n",
              "\n",
              "      async function convertToInteractive(key) {\n",
              "        const element = document.querySelector('#df-529244c1-9ad2-40cd-b66e-3654a25461ad');\n",
              "        const dataTable =\n",
              "          await google.colab.kernel.invokeFunction('convertToInteractive',\n",
              "                                                    [key], {});\n",
              "        if (!dataTable) return;\n",
              "\n",
              "        const docLinkHtml = 'Like what you see? Visit the ' +\n",
              "          '<a target=\"_blank\" href=https://colab.research.google.com/notebooks/data_table.ipynb>data table notebook</a>'\n",
              "          + ' to learn more about interactive tables.';\n",
              "        element.innerHTML = '';\n",
              "        dataTable['output_type'] = 'display_data';\n",
              "        await google.colab.output.renderOutput(dataTable, element);\n",
              "        const docLink = document.createElement('div');\n",
              "        docLink.innerHTML = docLinkHtml;\n",
              "        element.appendChild(docLink);\n",
              "      }\n",
              "    </script>\n",
              "  </div>\n",
              "\n",
              "\n",
              "<div id=\"df-84329a0e-aba6-4eda-abc6-fb3c5d7d7780\">\n",
              "  <button class=\"colab-df-quickchart\" onclick=\"quickchart('df-84329a0e-aba6-4eda-abc6-fb3c5d7d7780')\"\n",
              "            title=\"Suggest charts\"\n",
              "            style=\"display:none;\">\n",
              "\n",
              "<svg xmlns=\"http://www.w3.org/2000/svg\" height=\"24px\"viewBox=\"0 0 24 24\"\n",
              "     width=\"24px\">\n",
              "    <g>\n",
              "        <path d=\"M19 3H5c-1.1 0-2 .9-2 2v14c0 1.1.9 2 2 2h14c1.1 0 2-.9 2-2V5c0-1.1-.9-2-2-2zM9 17H7v-7h2v7zm4 0h-2V7h2v10zm4 0h-2v-4h2v4z\"/>\n",
              "    </g>\n",
              "</svg>\n",
              "  </button>\n",
              "\n",
              "<style>\n",
              "  .colab-df-quickchart {\n",
              "      --bg-color: #E8F0FE;\n",
              "      --fill-color: #1967D2;\n",
              "      --hover-bg-color: #E2EBFA;\n",
              "      --hover-fill-color: #174EA6;\n",
              "      --disabled-fill-color: #AAA;\n",
              "      --disabled-bg-color: #DDD;\n",
              "  }\n",
              "\n",
              "  [theme=dark] .colab-df-quickchart {\n",
              "      --bg-color: #3B4455;\n",
              "      --fill-color: #D2E3FC;\n",
              "      --hover-bg-color: #434B5C;\n",
              "      --hover-fill-color: #FFFFFF;\n",
              "      --disabled-bg-color: #3B4455;\n",
              "      --disabled-fill-color: #666;\n",
              "  }\n",
              "\n",
              "  .colab-df-quickchart {\n",
              "    background-color: var(--bg-color);\n",
              "    border: none;\n",
              "    border-radius: 50%;\n",
              "    cursor: pointer;\n",
              "    display: none;\n",
              "    fill: var(--fill-color);\n",
              "    height: 32px;\n",
              "    padding: 0;\n",
              "    width: 32px;\n",
              "  }\n",
              "\n",
              "  .colab-df-quickchart:hover {\n",
              "    background-color: var(--hover-bg-color);\n",
              "    box-shadow: 0 1px 2px rgba(60, 64, 67, 0.3), 0 1px 3px 1px rgba(60, 64, 67, 0.15);\n",
              "    fill: var(--button-hover-fill-color);\n",
              "  }\n",
              "\n",
              "  .colab-df-quickchart-complete:disabled,\n",
              "  .colab-df-quickchart-complete:disabled:hover {\n",
              "    background-color: var(--disabled-bg-color);\n",
              "    fill: var(--disabled-fill-color);\n",
              "    box-shadow: none;\n",
              "  }\n",
              "\n",
              "  .colab-df-spinner {\n",
              "    border: 2px solid var(--fill-color);\n",
              "    border-color: transparent;\n",
              "    border-bottom-color: var(--fill-color);\n",
              "    animation:\n",
              "      spin 1s steps(1) infinite;\n",
              "  }\n",
              "\n",
              "  @keyframes spin {\n",
              "    0% {\n",
              "      border-color: transparent;\n",
              "      border-bottom-color: var(--fill-color);\n",
              "      border-left-color: var(--fill-color);\n",
              "    }\n",
              "    20% {\n",
              "      border-color: transparent;\n",
              "      border-left-color: var(--fill-color);\n",
              "      border-top-color: var(--fill-color);\n",
              "    }\n",
              "    30% {\n",
              "      border-color: transparent;\n",
              "      border-left-color: var(--fill-color);\n",
              "      border-top-color: var(--fill-color);\n",
              "      border-right-color: var(--fill-color);\n",
              "    }\n",
              "    40% {\n",
              "      border-color: transparent;\n",
              "      border-right-color: var(--fill-color);\n",
              "      border-top-color: var(--fill-color);\n",
              "    }\n",
              "    60% {\n",
              "      border-color: transparent;\n",
              "      border-right-color: var(--fill-color);\n",
              "    }\n",
              "    80% {\n",
              "      border-color: transparent;\n",
              "      border-right-color: var(--fill-color);\n",
              "      border-bottom-color: var(--fill-color);\n",
              "    }\n",
              "    90% {\n",
              "      border-color: transparent;\n",
              "      border-bottom-color: var(--fill-color);\n",
              "    }\n",
              "  }\n",
              "</style>\n",
              "\n",
              "  <script>\n",
              "    async function quickchart(key) {\n",
              "      const quickchartButtonEl =\n",
              "        document.querySelector('#' + key + ' button');\n",
              "      quickchartButtonEl.disabled = true;  // To prevent multiple clicks.\n",
              "      quickchartButtonEl.classList.add('colab-df-spinner');\n",
              "      try {\n",
              "        const charts = await google.colab.kernel.invokeFunction(\n",
              "            'suggestCharts', [key], {});\n",
              "      } catch (error) {\n",
              "        console.error('Error during call to suggestCharts:', error);\n",
              "      }\n",
              "      quickchartButtonEl.classList.remove('colab-df-spinner');\n",
              "      quickchartButtonEl.classList.add('colab-df-quickchart-complete');\n",
              "    }\n",
              "    (() => {\n",
              "      let quickchartButtonEl =\n",
              "        document.querySelector('#df-84329a0e-aba6-4eda-abc6-fb3c5d7d7780 button');\n",
              "      quickchartButtonEl.style.display =\n",
              "        google.colab.kernel.accessAllowed ? 'block' : 'none';\n",
              "    })();\n",
              "  </script>\n",
              "</div>\n",
              "\n",
              "    </div>\n",
              "  </div>\n"
            ],
            "application/vnd.google.colaboratory.intrinsic+json": {
              "type": "dataframe",
              "variable_name": "vehicles_df"
            }
          },
          "metadata": {},
          "execution_count": 89
        }
      ]
    },
    {
      "cell_type": "code",
      "source": [
        "vehicles_df.shape"
      ],
      "metadata": {
        "id": "y_AgSGQZhpoP",
        "outputId": "c7cc3079-c980-40a1-f048-19f8b5973c2c",
        "colab": {
          "base_uri": "https://localhost:8080/"
        }
      },
      "id": "y_AgSGQZhpoP",
      "execution_count": 90,
      "outputs": [
        {
          "output_type": "execute_result",
          "data": {
            "text/plain": [
              "(1690173, 71)"
            ]
          },
          "metadata": {},
          "execution_count": 90
        }
      ]
    },
    {
      "cell_type": "code",
      "source": [
        "vehicles_df.info()"
      ],
      "metadata": {
        "id": "sRwKpTXlh7o9",
        "outputId": "1544d0c5-7a43-4bfa-bc8b-4fcdca15db32",
        "colab": {
          "base_uri": "https://localhost:8080/"
        }
      },
      "id": "sRwKpTXlh7o9",
      "execution_count": 91,
      "outputs": [
        {
          "output_type": "stream",
          "name": "stdout",
          "text": [
            "<class 'pandas.core.frame.DataFrame'>\n",
            "RangeIndex: 1690173 entries, 0 to 1690172\n",
            "Data columns (total 71 columns):\n",
            " #   Column                    Non-Null Count    Dtype  \n",
            "---  ------                    --------------    -----  \n",
            " 0   CRASH_UNIT_ID             1690173 non-null  int64  \n",
            " 1   CRASH_RECORD_ID           1690173 non-null  object \n",
            " 2   CRASH_DATE                1690173 non-null  object \n",
            " 3   UNIT_NO                   1690173 non-null  int64  \n",
            " 4   UNIT_TYPE                 1688017 non-null  object \n",
            " 5   NUM_PASSENGERS            250022 non-null   float64\n",
            " 6   VEHICLE_ID                1651514 non-null  float64\n",
            " 7   CMRC_VEH_I                31452 non-null    object \n",
            " 8   MAKE                      1651509 non-null  object \n",
            " 9   MODEL                     1651364 non-null  object \n",
            " 10  LIC_PLATE_STATE           1500227 non-null  object \n",
            " 11  VEHICLE_YEAR              1386705 non-null  float64\n",
            " 12  VEHICLE_DEFECT            1651514 non-null  object \n",
            " 13  VEHICLE_TYPE              1651514 non-null  object \n",
            " 14  VEHICLE_USE               1651514 non-null  object \n",
            " 15  TRAVEL_DIRECTION          1651514 non-null  object \n",
            " 16  MANEUVER                  1651514 non-null  object \n",
            " 17  TOWED_I                   209740 non-null   object \n",
            " 18  FIRE_I                    1386 non-null     object \n",
            " 19  OCCUPANT_CNT              1651514 non-null  float64\n",
            " 20  EXCEED_SPEED_LIMIT_I      2397 non-null     object \n",
            " 21  TOWED_BY                  157895 non-null   object \n",
            " 22  TOWED_TO                  96940 non-null    object \n",
            " 23  AREA_00_I                 57995 non-null    object \n",
            " 24  AREA_01_I                 452249 non-null   object \n",
            " 25  AREA_02_I                 267877 non-null   object \n",
            " 26  AREA_03_I                 162047 non-null   object \n",
            " 27  AREA_04_I                 161324 non-null   object \n",
            " 28  AREA_05_I                 250638 non-null   object \n",
            " 29  AREA_06_I                 264203 non-null   object \n",
            " 30  AREA_07_I                 245121 non-null   object \n",
            " 31  AREA_08_I                 239780 non-null   object \n",
            " 32  AREA_09_I                 114554 non-null   object \n",
            " 33  AREA_10_I                 166832 non-null   object \n",
            " 34  AREA_11_I                 322911 non-null   object \n",
            " 35  AREA_12_I                 315689 non-null   object \n",
            " 36  AREA_99_I                 190763 non-null   object \n",
            " 37  FIRST_CONTACT_POINT       1648389 non-null  object \n",
            " 38  CMV_ID                    17193 non-null    float64\n",
            " 39  USDOT_NO                  9649 non-null     object \n",
            " 40  CCMC_NO                   2043 non-null     object \n",
            " 41  ILCC_NO                   1408 non-null     object \n",
            " 42  COMMERCIAL_SRC            11402 non-null    object \n",
            " 43  GVWR                      9556 non-null     object \n",
            " 44  CARRIER_NAME              16433 non-null    object \n",
            " 45  CARRIER_STATE             15419 non-null    object \n",
            " 46  CARRIER_CITY              15126 non-null    object \n",
            " 47  HAZMAT_PLACARDS_I         332 non-null      object \n",
            " 48  HAZMAT_NAME               60 non-null       object \n",
            " 49  UN_NO                     574 non-null      object \n",
            " 50  HAZMAT_PRESENT_I          12545 non-null    object \n",
            " 51  HAZMAT_REPORT_I           12195 non-null    object \n",
            " 52  HAZMAT_REPORT_NO          1 non-null        object \n",
            " 53  MCS_REPORT_I              12244 non-null    object \n",
            " 54  MCS_REPORT_NO             7 non-null        object \n",
            " 55  HAZMAT_VIO_CAUSE_CRASH_I  12362 non-null    object \n",
            " 56  MCS_VIO_CAUSE_CRASH_I     12155 non-null    object \n",
            " 57  IDOT_PERMIT_NO            927 non-null      object \n",
            " 58  WIDE_LOAD_I               152 non-null      object \n",
            " 59  TRAILER1_WIDTH            2924 non-null     object \n",
            " 60  TRAILER2_WIDTH            350 non-null      object \n",
            " 61  TRAILER1_LENGTH           2359 non-null     float64\n",
            " 62  TRAILER2_LENGTH           68 non-null       float64\n",
            " 63  TOTAL_VEHICLE_LENGTH      2865 non-null     float64\n",
            " 64  AXLE_CNT                  4306 non-null     float64\n",
            " 65  VEHICLE_CONFIG            14240 non-null    object \n",
            " 66  CARGO_BODY_TYPE           13608 non-null    object \n",
            " 67  LOAD_TYPE                 13012 non-null    object \n",
            " 68  HAZMAT_OUT_OF_SERVICE_I   11841 non-null    object \n",
            " 69  MCS_OUT_OF_SERVICE_I      12090 non-null    object \n",
            " 70  HAZMAT_CLASS              1105 non-null     object \n",
            "dtypes: float64(9), int64(2), object(60)\n",
            "memory usage: 915.5+ MB\n"
          ]
        }
      ]
    },
    {
      "cell_type": "markdown",
      "source": [
        "The first column that doesn't look too redundant is 'UNIT_TYPE':"
      ],
      "metadata": {
        "id": "_Gi3Pp248vIQ"
      },
      "id": "_Gi3Pp248vIQ"
    },
    {
      "cell_type": "code",
      "source": [
        "vehicles_df['UNIT_TYPE'].value_counts()"
      ],
      "metadata": {
        "colab": {
          "base_uri": "https://localhost:8080/"
        },
        "id": "GFi4DJwR8vaD",
        "outputId": "83d4bb19-8c3e-446d-94ef-228738767091"
      },
      "id": "GFi4DJwR8vaD",
      "execution_count": 92,
      "outputs": [
        {
          "output_type": "execute_result",
          "data": {
            "text/plain": [
              "UNIT_TYPE\n",
              "DRIVER                 1415231\n",
              "PARKED                  222855\n",
              "PEDESTRIAN               21244\n",
              "DRIVERLESS               13847\n",
              "BICYCLE                  12794\n",
              "NON-MOTOR VEHICLE         1482\n",
              "NON-CONTACT VEHICLE        306\n",
              "DISABLED VEHICLE           251\n",
              "EQUESTRIAN                   7\n",
              "Name: count, dtype: int64"
            ]
          },
          "metadata": {},
          "execution_count": 92
        }
      ]
    },
    {
      "cell_type": "markdown",
      "source": [
        "Almost everything here is either a driver-driven vehicle or a parked one, so I'll probabl drop this one because I think we may find a more useful designation once we get to 'VEHICLE_TYPE'. Anyway, I hope those seven horses in the 'EQUESTRIAN' class were okay.\n",
        "\n",
        "The next one to consider would be 'MAKE', but it turns out to have *way* too many different values and the resulting sparsity from the one-hot encoded columns would just add a lot of noise to our model."
      ],
      "metadata": {
        "id": "tjb7f-YzmtQ6"
      },
      "id": "tjb7f-YzmtQ6"
    },
    {
      "cell_type": "code",
      "source": [
        "len(vehicles_df['MAKE'].value_counts())"
      ],
      "metadata": {
        "id": "M6yZJCTPiC1X",
        "outputId": "d3cde251-2d4e-4508-ad0a-6aa98a7fc239",
        "colab": {
          "base_uri": "https://localhost:8080/"
        }
      },
      "id": "M6yZJCTPiC1X",
      "execution_count": 93,
      "outputs": [
        {
          "output_type": "execute_result",
          "data": {
            "text/plain": [
              "1335"
            ]
          },
          "metadata": {},
          "execution_count": 93
        }
      ]
    },
    {
      "cell_type": "markdown",
      "source": [
        "I'm sure the 'MODEL' column would be even worse in this regard, so let's drop them both and search for primary causes elsewhere in the name of model interpretability."
      ],
      "metadata": {
        "id": "sdpwQbUlYrDP"
      },
      "id": "sdpwQbUlYrDP"
    },
    {
      "cell_type": "code",
      "source": [
        "vehicles_df['VEHICLE_DEFECT'].value_counts()"
      ],
      "metadata": {
        "id": "UC-LSU3jnGxj",
        "colab": {
          "base_uri": "https://localhost:8080/"
        },
        "outputId": "83371c20-6f51-46e9-b400-917f045902ca"
      },
      "id": "UC-LSU3jnGxj",
      "execution_count": 94,
      "outputs": [
        {
          "output_type": "execute_result",
          "data": {
            "text/plain": [
              "VEHICLE_DEFECT\n",
              "NONE                892456\n",
              "UNKNOWN             741379\n",
              "OTHER                 9406\n",
              "BRAKES                5177\n",
              "TIRES                  839\n",
              "STEERING               748\n",
              "WHEELS                 419\n",
              "SUSPENSION             269\n",
              "FUEL SYSTEM            233\n",
              "ENGINE/MOTOR           210\n",
              "WINDOWS                111\n",
              "LIGHTS                 101\n",
              "CARGO                   57\n",
              "SIGNALS                 42\n",
              "RESTRAINT SYSTEM        25\n",
              "TRAILER COUPLING        23\n",
              "EXHAUST                 19\n",
              "Name: count, dtype: int64"
            ]
          },
          "metadata": {},
          "execution_count": 94
        }
      ]
    },
    {
      "cell_type": "markdown",
      "source": [
        "With almost every class being 'none' or 'unknown', this column won't help."
      ],
      "metadata": {
        "id": "ZAk7ymkU6yaI"
      },
      "id": "ZAk7ymkU6yaI"
    },
    {
      "cell_type": "code",
      "source": [
        "vehicles_df['VEHICLE_TYPE'].value_counts()"
      ],
      "metadata": {
        "colab": {
          "base_uri": "https://localhost:8080/"
        },
        "id": "shQq8-HHY9tM",
        "outputId": "f91e41c6-cfc1-4252-b760-dad77e2acf53"
      },
      "id": "shQq8-HHY9tM",
      "execution_count": 95,
      "outputs": [
        {
          "output_type": "execute_result",
          "data": {
            "text/plain": [
              "VEHICLE_TYPE\n",
              "PASSENGER                                 1038710\n",
              "SPORT UTILITY VEHICLE (SUV)                226692\n",
              "UNKNOWN/NA                                 152665\n",
              "VAN/MINI-VAN                                78278\n",
              "PICKUP                                      53326\n",
              "TRUCK - SINGLE UNIT                         31040\n",
              "OTHER                                       19918\n",
              "BUS OVER 15 PASS.                           17739\n",
              "TRACTOR W/ SEMI-TRAILER                     15661\n",
              "BUS UP TO 15 PASS.                           4659\n",
              "MOTORCYCLE (OVER 150CC)                      3869\n",
              "SINGLE UNIT TRUCK WITH TRAILER               2734\n",
              "OTHER VEHICLE WITH TRAILER                   2253\n",
              "TRACTOR W/O SEMI-TRAILER                     2069\n",
              "AUTOCYCLE                                     669\n",
              "MOPED OR MOTORIZED BICYCLE                    544\n",
              "MOTOR DRIVEN CYCLE                            328\n",
              "ALL-TERRAIN VEHICLE (ATV)                     182\n",
              "FARM EQUIPMENT                                 84\n",
              "3-WHEELED MOTORCYCLE (2 REAR WHEELS)           61\n",
              "RECREATIONAL OFF-HIGHWAY VEHICLE (ROV)         25\n",
              "SNOWMOBILE                                      8\n",
              "Name: count, dtype: int64"
            ]
          },
          "metadata": {},
          "execution_count": 95
        }
      ]
    },
    {
      "cell_type": "markdown",
      "source": [
        "With 60% of new-vhecile registrations in the US being SUVs in 2023 and this dataset only going back to 2015, I find it hard to believe that SUV's are outnumbered at almost 4-to-1 in this count. I'm getting worried about this dataset's viability.\n",
        "\n",
        "For the sake of brevity, 'VEHICLE_USE' is all either 'personal' or 'unknown' or 'not in use', so it won't be of much help.\n",
        "\n",
        "'TRAVEL_DIRECTION' may prove useful, but the cardinal directions (NSEW) are all *much* more frequent than the intermediate ones, so we'll just keep those rows with cardinals.\n",
        "\n",
        "'MANEUVER' seems to be a really useful column when it comes to the primary cause of an accident, so we'll keep it, but we'll drop the rows that are 'unknown', 'other', or occured less than 1,000 times."
      ],
      "metadata": {
        "id": "rYX-9iAK9oP4"
      },
      "id": "rYX-9iAK9oP4"
    },
    {
      "cell_type": "code",
      "source": [
        "vehicles_df['MANEUVER'].value_counts()"
      ],
      "metadata": {
        "colab": {
          "base_uri": "https://localhost:8080/"
        },
        "id": "ft3rnggC8CkE",
        "outputId": "32bcd709-49ec-4894-faa8-acc351df6376"
      },
      "id": "ft3rnggC8CkE",
      "execution_count": 96,
      "outputs": [
        {
          "output_type": "execute_result",
          "data": {
            "text/plain": [
              "MANEUVER\n",
              "STRAIGHT AHEAD                        761499\n",
              "PARKED                                227171\n",
              "UNKNOWN/NA                            126724\n",
              "SLOW/STOP IN TRAFFIC                  122016\n",
              "TURNING LEFT                           98255\n",
              "BACKING                                66781\n",
              "TURNING RIGHT                          54715\n",
              "PASSING/OVERTAKING                     40106\n",
              "CHANGING LANES                         31673\n",
              "OTHER                                  27722\n",
              "ENTERING TRAFFIC LANE FROM PARKING     19410\n",
              "MERGING                                11451\n",
              "U-TURN                                  9411\n",
              "STARTING IN TRAFFIC                     9341\n",
              "LEAVING TRAFFIC LANE TO PARK            7925\n",
              "AVOIDING VEHICLES/OBJECTS               6988\n",
              "SKIDDING/CONTROL LOSS                   6296\n",
              "ENTER FROM DRIVE/ALLEY                  6001\n",
              "PARKED IN TRAFFIC LANE                  5091\n",
              "SLOW/STOP - LEFT TURN                   3042\n",
              "DRIVING WRONG WAY                       2452\n",
              "NEGOTIATING A CURVE                     2077\n",
              "SLOW/STOP - RIGHT TURN                  1929\n",
              "SLOW/STOP - LOAD/UNLOAD                 1663\n",
              "TURNING ON RED                           635\n",
              "DRIVERLESS                               627\n",
              "DIVERGING                                260\n",
              "DISABLED                                 253\n",
              "Name: count, dtype: int64"
            ]
          },
          "metadata": {},
          "execution_count": 96
        }
      ]
    },
    {
      "cell_type": "markdown",
      "source": [
        "Let's also examine 'FIRST_CONTACT_POINT':"
      ],
      "metadata": {
        "id": "nZY8NQilAybo"
      },
      "id": "nZY8NQilAybo"
    },
    {
      "cell_type": "code",
      "source": [
        "vehicles_df['FIRST_CONTACT_POINT'].value_counts()"
      ],
      "metadata": {
        "colab": {
          "base_uri": "https://localhost:8080/"
        },
        "id": "tXdgzerF-LlQ",
        "outputId": "e72b258d-b458-4aad-dc19-33e451691939"
      },
      "id": "tXdgzerF-LlQ",
      "execution_count": 97,
      "outputs": [
        {
          "output_type": "execute_result",
          "data": {
            "text/plain": [
              "FIRST_CONTACT_POINT\n",
              "FRONT                 323891\n",
              "REAR                  218038\n",
              "UNKNOWN               157277\n",
              "SIDE-LEFT             113074\n",
              "SIDE-RIGHT            107560\n",
              "FRONT-LEFT-CORNER     104177\n",
              "FRONT-RIGHT-CORNER    102005\n",
              "FRONT-LEFT             81524\n",
              "FRONT-RIGHT            76903\n",
              "REAR-LEFT              68088\n",
              "REAR-LEFT-CORNER       46318\n",
              "OTHER                  41017\n",
              "REAR-RIGHT             36488\n",
              "REAR-RIGHT-CORNER      33782\n",
              "TOTAL (ALL AREAS)      27475\n",
              "SIDE-LEFT-REAR         26325\n",
              "SIDE-RIGHT-REAR        19947\n",
              "SIDE-LEFT-FRONT        17038\n",
              "SIDE-RIGHT-FRONT       14665\n",
              "NONE                   13141\n",
              "ROOF                   11958\n",
              "UNDER CARRIAGE          5728\n",
              "TOP                     1970\n",
              "Name: count, dtype: int64"
            ]
          },
          "metadata": {},
          "execution_count": 97
        }
      ]
    },
    {
      "cell_type": "markdown",
      "source": [
        "This would be useful, but it's a little redundant and lengthy when compared to the crashes_df column 'FIRST_CRASH_TYPE.' The remaining columns are all too filled with NaN's, so we now have a short list of columns to keep:\n",
        "\n"
      ],
      "metadata": {
        "id": "5uyfUBCfBRNU"
      },
      "id": "5uyfUBCfBRNU"
    },
    {
      "cell_type": "code",
      "source": [
        "vehicles_df_columns_to_keep = ['CRASH_RECORD_ID', 'TRAVEL_DIRECTION', 'MANEUVER']"
      ],
      "metadata": {
        "id": "2ZNglbNBA9Q_"
      },
      "id": "2ZNglbNBA9Q_",
      "execution_count": 98,
      "outputs": []
    },
    {
      "cell_type": "code",
      "source": [
        "vehicles_df_refined = vehicles_df[vehicles_df_columns_to_keep]\n",
        "vehicles_df_refined.info()"
      ],
      "metadata": {
        "colab": {
          "base_uri": "https://localhost:8080/"
        },
        "id": "XI7haUmIB75j",
        "outputId": "0e95ad1e-94b4-4927-d962-d6f07f74576f"
      },
      "id": "XI7haUmIB75j",
      "execution_count": 99,
      "outputs": [
        {
          "output_type": "stream",
          "name": "stdout",
          "text": [
            "<class 'pandas.core.frame.DataFrame'>\n",
            "RangeIndex: 1690173 entries, 0 to 1690172\n",
            "Data columns (total 3 columns):\n",
            " #   Column            Non-Null Count    Dtype \n",
            "---  ------            --------------    ----- \n",
            " 0   CRASH_RECORD_ID   1690173 non-null  object\n",
            " 1   TRAVEL_DIRECTION  1651514 non-null  object\n",
            " 2   MANEUVER          1651514 non-null  object\n",
            "dtypes: object(3)\n",
            "memory usage: 38.7+ MB\n"
          ]
        }
      ]
    },
    {
      "cell_type": "markdown",
      "source": [
        "Now we can merge these more managable, concise DataFrames together and then begin removing the rows mentioned above."
      ],
      "metadata": {
        "id": "TAUNq3F5CM_2"
      },
      "id": "TAUNq3F5CM_2"
    },
    {
      "cell_type": "code",
      "source": [
        "#First, we'll merge the crashes & people df's:\n",
        "merged_crashes = pd.merge(left=crashes_df_refined,\n",
        "                          right=people_df_refined,\n",
        "                          left_on='CRASH_RECORD_ID',\n",
        "                          right_on='CRASH_RECORD_ID')\n",
        "\n",
        "#Now the newly merged df and the vehicles one:\n",
        "merged_crashes = pd.merge(left=merged_crashes,\n",
        "                          right=vehicles_df_refined,\n",
        "                          left_on='CRASH_RECORD_ID',\n",
        "                          right_on='CRASH_RECORD_ID')\n",
        "\n",
        "merged_crashes.head()"
      ],
      "metadata": {
        "colab": {
          "base_uri": "https://localhost:8080/",
          "height": 342
        },
        "id": "exaeuvnTCF_O",
        "outputId": "ae7f8e5b-4b6a-4588-c01a-7a279a53e884"
      },
      "id": "exaeuvnTCF_O",
      "execution_count": 100,
      "outputs": [
        {
          "output_type": "execute_result",
          "data": {
            "text/plain": [
              "                                     CRASH_RECORD_ID  POSTED_SPEED_LIMIT  \\\n",
              "0  6c1659069e9c6285a650e70d6f9b574ed5f64c12888479...                  15   \n",
              "1  6c1659069e9c6285a650e70d6f9b574ed5f64c12888479...                  15   \n",
              "2  6c1659069e9c6285a650e70d6f9b574ed5f64c12888479...                  15   \n",
              "3  6c1659069e9c6285a650e70d6f9b574ed5f64c12888479...                  15   \n",
              "4  5f54a59fcb087b12ae5b1acff96a3caf4f2d37e79f8db4...                  30   \n",
              "\n",
              "  WEATHER_CONDITION LIGHTING_CONDITION ROADWAY_SURFACE_COND ROAD_DEFECT  \\\n",
              "0             CLEAR           DAYLIGHT                  DRY  NO DEFECTS   \n",
              "1             CLEAR           DAYLIGHT                  DRY  NO DEFECTS   \n",
              "2             CLEAR           DAYLIGHT                  DRY  NO DEFECTS   \n",
              "3             CLEAR           DAYLIGHT                  DRY  NO DEFECTS   \n",
              "4             CLEAR           DAYLIGHT                  DRY  NO DEFECTS   \n",
              "\n",
              "                  PRIM_CONTRIBUTORY_CAUSE STREET_DIRECTION  NUM_UNITS  \\\n",
              "0                   FOLLOWING TOO CLOSELY                W          2   \n",
              "1                   FOLLOWING TOO CLOSELY                W          2   \n",
              "2                   FOLLOWING TOO CLOSELY                W          2   \n",
              "3                   FOLLOWING TOO CLOSELY                W          2   \n",
              "4  FAILING TO REDUCE SPEED TO AVOID CRASH                S          4   \n",
              "\n",
              "   CRASH_HOUR  ...  CRASH_MONTH  LATITUDE  LONGITUDE  PERSON_TYPE  \\\n",
              "0          12  ...            8       NaN        NaN       DRIVER   \n",
              "1          12  ...            8       NaN        NaN       DRIVER   \n",
              "2          12  ...            8       NaN        NaN       DRIVER   \n",
              "3          12  ...            8       NaN        NaN       DRIVER   \n",
              "4          14  ...            7  41.85412 -87.665902       DRIVER   \n",
              "\n",
              "           CITY SEX   AGE  DRIVERS_LICENSE_CLASS TRAVEL_DIRECTION  \\\n",
              "0       CHICAGO   M  45.0                      D                W   \n",
              "1       CHICAGO   M  45.0                      D                W   \n",
              "2  WEST CHICAGO   M  69.0                     DM                W   \n",
              "3  WEST CHICAGO   M  69.0                     DM                W   \n",
              "4           NaN   X   NaN                    NaN                E   \n",
              "\n",
              "         MANEUVER  \n",
              "0  STRAIGHT AHEAD  \n",
              "1  STRAIGHT AHEAD  \n",
              "2  STRAIGHT AHEAD  \n",
              "3  STRAIGHT AHEAD  \n",
              "4   TURNING RIGHT  \n",
              "\n",
              "[5 rows x 21 columns]"
            ],
            "text/html": [
              "\n",
              "  <div id=\"df-04b2ace4-d042-4f23-b721-f7f1b77c9a05\" class=\"colab-df-container\">\n",
              "    <div>\n",
              "<style scoped>\n",
              "    .dataframe tbody tr th:only-of-type {\n",
              "        vertical-align: middle;\n",
              "    }\n",
              "\n",
              "    .dataframe tbody tr th {\n",
              "        vertical-align: top;\n",
              "    }\n",
              "\n",
              "    .dataframe thead th {\n",
              "        text-align: right;\n",
              "    }\n",
              "</style>\n",
              "<table border=\"1\" class=\"dataframe\">\n",
              "  <thead>\n",
              "    <tr style=\"text-align: right;\">\n",
              "      <th></th>\n",
              "      <th>CRASH_RECORD_ID</th>\n",
              "      <th>POSTED_SPEED_LIMIT</th>\n",
              "      <th>WEATHER_CONDITION</th>\n",
              "      <th>LIGHTING_CONDITION</th>\n",
              "      <th>ROADWAY_SURFACE_COND</th>\n",
              "      <th>ROAD_DEFECT</th>\n",
              "      <th>PRIM_CONTRIBUTORY_CAUSE</th>\n",
              "      <th>STREET_DIRECTION</th>\n",
              "      <th>NUM_UNITS</th>\n",
              "      <th>CRASH_HOUR</th>\n",
              "      <th>...</th>\n",
              "      <th>CRASH_MONTH</th>\n",
              "      <th>LATITUDE</th>\n",
              "      <th>LONGITUDE</th>\n",
              "      <th>PERSON_TYPE</th>\n",
              "      <th>CITY</th>\n",
              "      <th>SEX</th>\n",
              "      <th>AGE</th>\n",
              "      <th>DRIVERS_LICENSE_CLASS</th>\n",
              "      <th>TRAVEL_DIRECTION</th>\n",
              "      <th>MANEUVER</th>\n",
              "    </tr>\n",
              "  </thead>\n",
              "  <tbody>\n",
              "    <tr>\n",
              "      <th>0</th>\n",
              "      <td>6c1659069e9c6285a650e70d6f9b574ed5f64c12888479...</td>\n",
              "      <td>15</td>\n",
              "      <td>CLEAR</td>\n",
              "      <td>DAYLIGHT</td>\n",
              "      <td>DRY</td>\n",
              "      <td>NO DEFECTS</td>\n",
              "      <td>FOLLOWING TOO CLOSELY</td>\n",
              "      <td>W</td>\n",
              "      <td>2</td>\n",
              "      <td>12</td>\n",
              "      <td>...</td>\n",
              "      <td>8</td>\n",
              "      <td>NaN</td>\n",
              "      <td>NaN</td>\n",
              "      <td>DRIVER</td>\n",
              "      <td>CHICAGO</td>\n",
              "      <td>M</td>\n",
              "      <td>45.0</td>\n",
              "      <td>D</td>\n",
              "      <td>W</td>\n",
              "      <td>STRAIGHT AHEAD</td>\n",
              "    </tr>\n",
              "    <tr>\n",
              "      <th>1</th>\n",
              "      <td>6c1659069e9c6285a650e70d6f9b574ed5f64c12888479...</td>\n",
              "      <td>15</td>\n",
              "      <td>CLEAR</td>\n",
              "      <td>DAYLIGHT</td>\n",
              "      <td>DRY</td>\n",
              "      <td>NO DEFECTS</td>\n",
              "      <td>FOLLOWING TOO CLOSELY</td>\n",
              "      <td>W</td>\n",
              "      <td>2</td>\n",
              "      <td>12</td>\n",
              "      <td>...</td>\n",
              "      <td>8</td>\n",
              "      <td>NaN</td>\n",
              "      <td>NaN</td>\n",
              "      <td>DRIVER</td>\n",
              "      <td>CHICAGO</td>\n",
              "      <td>M</td>\n",
              "      <td>45.0</td>\n",
              "      <td>D</td>\n",
              "      <td>W</td>\n",
              "      <td>STRAIGHT AHEAD</td>\n",
              "    </tr>\n",
              "    <tr>\n",
              "      <th>2</th>\n",
              "      <td>6c1659069e9c6285a650e70d6f9b574ed5f64c12888479...</td>\n",
              "      <td>15</td>\n",
              "      <td>CLEAR</td>\n",
              "      <td>DAYLIGHT</td>\n",
              "      <td>DRY</td>\n",
              "      <td>NO DEFECTS</td>\n",
              "      <td>FOLLOWING TOO CLOSELY</td>\n",
              "      <td>W</td>\n",
              "      <td>2</td>\n",
              "      <td>12</td>\n",
              "      <td>...</td>\n",
              "      <td>8</td>\n",
              "      <td>NaN</td>\n",
              "      <td>NaN</td>\n",
              "      <td>DRIVER</td>\n",
              "      <td>WEST CHICAGO</td>\n",
              "      <td>M</td>\n",
              "      <td>69.0</td>\n",
              "      <td>DM</td>\n",
              "      <td>W</td>\n",
              "      <td>STRAIGHT AHEAD</td>\n",
              "    </tr>\n",
              "    <tr>\n",
              "      <th>3</th>\n",
              "      <td>6c1659069e9c6285a650e70d6f9b574ed5f64c12888479...</td>\n",
              "      <td>15</td>\n",
              "      <td>CLEAR</td>\n",
              "      <td>DAYLIGHT</td>\n",
              "      <td>DRY</td>\n",
              "      <td>NO DEFECTS</td>\n",
              "      <td>FOLLOWING TOO CLOSELY</td>\n",
              "      <td>W</td>\n",
              "      <td>2</td>\n",
              "      <td>12</td>\n",
              "      <td>...</td>\n",
              "      <td>8</td>\n",
              "      <td>NaN</td>\n",
              "      <td>NaN</td>\n",
              "      <td>DRIVER</td>\n",
              "      <td>WEST CHICAGO</td>\n",
              "      <td>M</td>\n",
              "      <td>69.0</td>\n",
              "      <td>DM</td>\n",
              "      <td>W</td>\n",
              "      <td>STRAIGHT AHEAD</td>\n",
              "    </tr>\n",
              "    <tr>\n",
              "      <th>4</th>\n",
              "      <td>5f54a59fcb087b12ae5b1acff96a3caf4f2d37e79f8db4...</td>\n",
              "      <td>30</td>\n",
              "      <td>CLEAR</td>\n",
              "      <td>DAYLIGHT</td>\n",
              "      <td>DRY</td>\n",
              "      <td>NO DEFECTS</td>\n",
              "      <td>FAILING TO REDUCE SPEED TO AVOID CRASH</td>\n",
              "      <td>S</td>\n",
              "      <td>4</td>\n",
              "      <td>14</td>\n",
              "      <td>...</td>\n",
              "      <td>7</td>\n",
              "      <td>41.85412</td>\n",
              "      <td>-87.665902</td>\n",
              "      <td>DRIVER</td>\n",
              "      <td>NaN</td>\n",
              "      <td>X</td>\n",
              "      <td>NaN</td>\n",
              "      <td>NaN</td>\n",
              "      <td>E</td>\n",
              "      <td>TURNING RIGHT</td>\n",
              "    </tr>\n",
              "  </tbody>\n",
              "</table>\n",
              "<p>5 rows × 21 columns</p>\n",
              "</div>\n",
              "    <div class=\"colab-df-buttons\">\n",
              "\n",
              "  <div class=\"colab-df-container\">\n",
              "    <button class=\"colab-df-convert\" onclick=\"convertToInteractive('df-04b2ace4-d042-4f23-b721-f7f1b77c9a05')\"\n",
              "            title=\"Convert this dataframe to an interactive table.\"\n",
              "            style=\"display:none;\">\n",
              "\n",
              "  <svg xmlns=\"http://www.w3.org/2000/svg\" height=\"24px\" viewBox=\"0 -960 960 960\">\n",
              "    <path d=\"M120-120v-720h720v720H120Zm60-500h600v-160H180v160Zm220 220h160v-160H400v160Zm0 220h160v-160H400v160ZM180-400h160v-160H180v160Zm440 0h160v-160H620v160ZM180-180h160v-160H180v160Zm440 0h160v-160H620v160Z\"/>\n",
              "  </svg>\n",
              "    </button>\n",
              "\n",
              "  <style>\n",
              "    .colab-df-container {\n",
              "      display:flex;\n",
              "      gap: 12px;\n",
              "    }\n",
              "\n",
              "    .colab-df-convert {\n",
              "      background-color: #E8F0FE;\n",
              "      border: none;\n",
              "      border-radius: 50%;\n",
              "      cursor: pointer;\n",
              "      display: none;\n",
              "      fill: #1967D2;\n",
              "      height: 32px;\n",
              "      padding: 0 0 0 0;\n",
              "      width: 32px;\n",
              "    }\n",
              "\n",
              "    .colab-df-convert:hover {\n",
              "      background-color: #E2EBFA;\n",
              "      box-shadow: 0px 1px 2px rgba(60, 64, 67, 0.3), 0px 1px 3px 1px rgba(60, 64, 67, 0.15);\n",
              "      fill: #174EA6;\n",
              "    }\n",
              "\n",
              "    .colab-df-buttons div {\n",
              "      margin-bottom: 4px;\n",
              "    }\n",
              "\n",
              "    [theme=dark] .colab-df-convert {\n",
              "      background-color: #3B4455;\n",
              "      fill: #D2E3FC;\n",
              "    }\n",
              "\n",
              "    [theme=dark] .colab-df-convert:hover {\n",
              "      background-color: #434B5C;\n",
              "      box-shadow: 0px 1px 3px 1px rgba(0, 0, 0, 0.15);\n",
              "      filter: drop-shadow(0px 1px 2px rgba(0, 0, 0, 0.3));\n",
              "      fill: #FFFFFF;\n",
              "    }\n",
              "  </style>\n",
              "\n",
              "    <script>\n",
              "      const buttonEl =\n",
              "        document.querySelector('#df-04b2ace4-d042-4f23-b721-f7f1b77c9a05 button.colab-df-convert');\n",
              "      buttonEl.style.display =\n",
              "        google.colab.kernel.accessAllowed ? 'block' : 'none';\n",
              "\n",
              "      async function convertToInteractive(key) {\n",
              "        const element = document.querySelector('#df-04b2ace4-d042-4f23-b721-f7f1b77c9a05');\n",
              "        const dataTable =\n",
              "          await google.colab.kernel.invokeFunction('convertToInteractive',\n",
              "                                                    [key], {});\n",
              "        if (!dataTable) return;\n",
              "\n",
              "        const docLinkHtml = 'Like what you see? Visit the ' +\n",
              "          '<a target=\"_blank\" href=https://colab.research.google.com/notebooks/data_table.ipynb>data table notebook</a>'\n",
              "          + ' to learn more about interactive tables.';\n",
              "        element.innerHTML = '';\n",
              "        dataTable['output_type'] = 'display_data';\n",
              "        await google.colab.output.renderOutput(dataTable, element);\n",
              "        const docLink = document.createElement('div');\n",
              "        docLink.innerHTML = docLinkHtml;\n",
              "        element.appendChild(docLink);\n",
              "      }\n",
              "    </script>\n",
              "  </div>\n",
              "\n",
              "\n",
              "<div id=\"df-735d97c8-e96a-4ce0-b013-d095d434e5c9\">\n",
              "  <button class=\"colab-df-quickchart\" onclick=\"quickchart('df-735d97c8-e96a-4ce0-b013-d095d434e5c9')\"\n",
              "            title=\"Suggest charts\"\n",
              "            style=\"display:none;\">\n",
              "\n",
              "<svg xmlns=\"http://www.w3.org/2000/svg\" height=\"24px\"viewBox=\"0 0 24 24\"\n",
              "     width=\"24px\">\n",
              "    <g>\n",
              "        <path d=\"M19 3H5c-1.1 0-2 .9-2 2v14c0 1.1.9 2 2 2h14c1.1 0 2-.9 2-2V5c0-1.1-.9-2-2-2zM9 17H7v-7h2v7zm4 0h-2V7h2v10zm4 0h-2v-4h2v4z\"/>\n",
              "    </g>\n",
              "</svg>\n",
              "  </button>\n",
              "\n",
              "<style>\n",
              "  .colab-df-quickchart {\n",
              "      --bg-color: #E8F0FE;\n",
              "      --fill-color: #1967D2;\n",
              "      --hover-bg-color: #E2EBFA;\n",
              "      --hover-fill-color: #174EA6;\n",
              "      --disabled-fill-color: #AAA;\n",
              "      --disabled-bg-color: #DDD;\n",
              "  }\n",
              "\n",
              "  [theme=dark] .colab-df-quickchart {\n",
              "      --bg-color: #3B4455;\n",
              "      --fill-color: #D2E3FC;\n",
              "      --hover-bg-color: #434B5C;\n",
              "      --hover-fill-color: #FFFFFF;\n",
              "      --disabled-bg-color: #3B4455;\n",
              "      --disabled-fill-color: #666;\n",
              "  }\n",
              "\n",
              "  .colab-df-quickchart {\n",
              "    background-color: var(--bg-color);\n",
              "    border: none;\n",
              "    border-radius: 50%;\n",
              "    cursor: pointer;\n",
              "    display: none;\n",
              "    fill: var(--fill-color);\n",
              "    height: 32px;\n",
              "    padding: 0;\n",
              "    width: 32px;\n",
              "  }\n",
              "\n",
              "  .colab-df-quickchart:hover {\n",
              "    background-color: var(--hover-bg-color);\n",
              "    box-shadow: 0 1px 2px rgba(60, 64, 67, 0.3), 0 1px 3px 1px rgba(60, 64, 67, 0.15);\n",
              "    fill: var(--button-hover-fill-color);\n",
              "  }\n",
              "\n",
              "  .colab-df-quickchart-complete:disabled,\n",
              "  .colab-df-quickchart-complete:disabled:hover {\n",
              "    background-color: var(--disabled-bg-color);\n",
              "    fill: var(--disabled-fill-color);\n",
              "    box-shadow: none;\n",
              "  }\n",
              "\n",
              "  .colab-df-spinner {\n",
              "    border: 2px solid var(--fill-color);\n",
              "    border-color: transparent;\n",
              "    border-bottom-color: var(--fill-color);\n",
              "    animation:\n",
              "      spin 1s steps(1) infinite;\n",
              "  }\n",
              "\n",
              "  @keyframes spin {\n",
              "    0% {\n",
              "      border-color: transparent;\n",
              "      border-bottom-color: var(--fill-color);\n",
              "      border-left-color: var(--fill-color);\n",
              "    }\n",
              "    20% {\n",
              "      border-color: transparent;\n",
              "      border-left-color: var(--fill-color);\n",
              "      border-top-color: var(--fill-color);\n",
              "    }\n",
              "    30% {\n",
              "      border-color: transparent;\n",
              "      border-left-color: var(--fill-color);\n",
              "      border-top-color: var(--fill-color);\n",
              "      border-right-color: var(--fill-color);\n",
              "    }\n",
              "    40% {\n",
              "      border-color: transparent;\n",
              "      border-right-color: var(--fill-color);\n",
              "      border-top-color: var(--fill-color);\n",
              "    }\n",
              "    60% {\n",
              "      border-color: transparent;\n",
              "      border-right-color: var(--fill-color);\n",
              "    }\n",
              "    80% {\n",
              "      border-color: transparent;\n",
              "      border-right-color: var(--fill-color);\n",
              "      border-bottom-color: var(--fill-color);\n",
              "    }\n",
              "    90% {\n",
              "      border-color: transparent;\n",
              "      border-bottom-color: var(--fill-color);\n",
              "    }\n",
              "  }\n",
              "</style>\n",
              "\n",
              "  <script>\n",
              "    async function quickchart(key) {\n",
              "      const quickchartButtonEl =\n",
              "        document.querySelector('#' + key + ' button');\n",
              "      quickchartButtonEl.disabled = true;  // To prevent multiple clicks.\n",
              "      quickchartButtonEl.classList.add('colab-df-spinner');\n",
              "      try {\n",
              "        const charts = await google.colab.kernel.invokeFunction(\n",
              "            'suggestCharts', [key], {});\n",
              "      } catch (error) {\n",
              "        console.error('Error during call to suggestCharts:', error);\n",
              "      }\n",
              "      quickchartButtonEl.classList.remove('colab-df-spinner');\n",
              "      quickchartButtonEl.classList.add('colab-df-quickchart-complete');\n",
              "    }\n",
              "    (() => {\n",
              "      let quickchartButtonEl =\n",
              "        document.querySelector('#df-735d97c8-e96a-4ce0-b013-d095d434e5c9 button');\n",
              "      quickchartButtonEl.style.display =\n",
              "        google.colab.kernel.accessAllowed ? 'block' : 'none';\n",
              "    })();\n",
              "  </script>\n",
              "</div>\n",
              "\n",
              "    </div>\n",
              "  </div>\n"
            ],
            "application/vnd.google.colaboratory.intrinsic+json": {
              "type": "dataframe",
              "variable_name": "merged_crashes"
            }
          },
          "metadata": {},
          "execution_count": 100
        }
      ]
    },
    {
      "cell_type": "markdown",
      "source": [
        "I can already tell we'll have way to many columns once I one-hot encode these. Let's go back and see what other columns we can drop."
      ],
      "metadata": {
        "id": "n94K8yRTFNYc"
      },
      "id": "n94K8yRTFNYc"
    },
    {
      "cell_type": "code",
      "source": [
        "merged_crashes.info()"
      ],
      "metadata": {
        "id": "SoxhFligFW-J",
        "outputId": "2ac91551-5efb-40fe-dec7-fbb009253ed3",
        "colab": {
          "base_uri": "https://localhost:8080/"
        }
      },
      "id": "SoxhFligFW-J",
      "execution_count": 101,
      "outputs": [
        {
          "output_type": "stream",
          "name": "stdout",
          "text": [
            "<class 'pandas.core.frame.DataFrame'>\n",
            "RangeIndex: 3821303 entries, 0 to 3821302\n",
            "Data columns (total 21 columns):\n",
            " #   Column                   Dtype  \n",
            "---  ------                   -----  \n",
            " 0   CRASH_RECORD_ID          object \n",
            " 1   POSTED_SPEED_LIMIT       int64  \n",
            " 2   WEATHER_CONDITION        object \n",
            " 3   LIGHTING_CONDITION       object \n",
            " 4   ROADWAY_SURFACE_COND     object \n",
            " 5   ROAD_DEFECT              object \n",
            " 6   PRIM_CONTRIBUTORY_CAUSE  object \n",
            " 7   STREET_DIRECTION         object \n",
            " 8   NUM_UNITS                int64  \n",
            " 9   CRASH_HOUR               int64  \n",
            " 10  CRASH_DAY_OF_WEEK        int64  \n",
            " 11  CRASH_MONTH              int64  \n",
            " 12  LATITUDE                 float64\n",
            " 13  LONGITUDE                float64\n",
            " 14  PERSON_TYPE              object \n",
            " 15  CITY                     object \n",
            " 16  SEX                      object \n",
            " 17  AGE                      float64\n",
            " 18  DRIVERS_LICENSE_CLASS    object \n",
            " 19  TRAVEL_DIRECTION         object \n",
            " 20  MANEUVER                 object \n",
            "dtypes: float64(3), int64(5), object(13)\n",
            "memory usage: 612.2+ MB\n"
          ]
        }
      ]
    },
    {
      "cell_type": "markdown",
      "source": [
        "This is a start, but there will still be too many columns once the categorical features are preprocessed. Let's refine these features further.\n",
        "\n",
        "'STREET_DIRECTION' and 'TRAVEL_DIRECTION' seem redundant; let's take a closer look."
      ],
      "metadata": {
        "id": "AC9bGl2CThjz"
      },
      "id": "AC9bGl2CThjz"
    },
    {
      "cell_type": "code",
      "source": [
        "merged_crashes['STREET_DIRECTION'].value_counts()"
      ],
      "metadata": {
        "id": "bqtCTvW6IKO5",
        "outputId": "e80f6f0a-56a4-4626-ad1e-c650a45595a8",
        "colab": {
          "base_uri": "https://localhost:8080/"
        }
      },
      "id": "bqtCTvW6IKO5",
      "execution_count": 102,
      "outputs": [
        {
          "output_type": "execute_result",
          "data": {
            "text/plain": [
              "STREET_DIRECTION\n",
              "W    1375616\n",
              "S    1284931\n",
              "N     900965\n",
              "E     259777\n",
              "Name: count, dtype: int64"
            ]
          },
          "metadata": {},
          "execution_count": 102
        }
      ]
    },
    {
      "cell_type": "code",
      "source": [
        "merged_crashes['TRAVEL_DIRECTION'].value_counts()"
      ],
      "metadata": {
        "id": "7lG86k5kVlQ5",
        "outputId": "0b769626-1890-4b2b-d7eb-55ea75caa8d7",
        "colab": {
          "base_uri": "https://localhost:8080/"
        }
      },
      "id": "7lG86k5kVlQ5",
      "execution_count": 103,
      "outputs": [
        {
          "output_type": "execute_result",
          "data": {
            "text/plain": [
              "TRAVEL_DIRECTION\n",
              "N          895177\n",
              "S          876826\n",
              "W          806046\n",
              "E          790611\n",
              "UNKNOWN    188521\n",
              "SE          51437\n",
              "NW          46336\n",
              "SW          38910\n",
              "NE          38139\n",
              "Name: count, dtype: int64"
            ]
          },
          "metadata": {},
          "execution_count": 103
        }
      ]
    },
    {
      "cell_type": "markdown",
      "source": [
        "It seems like travel direction is more pertinent than street direction, so we'll drop the streets. Next, let's investigate 'DRIVERS_LICENSE_CLASS' more closely."
      ],
      "metadata": {
        "id": "Up7ZUOQ2WUNL"
      },
      "id": "Up7ZUOQ2WUNL"
    },
    {
      "cell_type": "code",
      "source": [
        "merged_crashes['DRIVERS_LICENSE_CLASS'].value_counts()"
      ],
      "metadata": {
        "id": "8QXvWvQgW_DR",
        "outputId": "6833d243-ad31-4406-e375-d4d91fa121bf",
        "colab": {
          "base_uri": "https://localhost:8080/"
        }
      },
      "id": "8QXvWvQgW_DR",
      "execution_count": 104,
      "outputs": [
        {
          "output_type": "execute_result",
          "data": {
            "text/plain": [
              "DRIVERS_LICENSE_CLASS\n",
              "D     1631638\n",
              "A       63603\n",
              "C       50777\n",
              "B       49613\n",
              "DM      27448\n",
              "       ...   \n",
              "AZ          1\n",
              "TA          1\n",
              "C2          1\n",
              "TR          1\n",
              "LT          1\n",
              "Name: count, Length: 281, dtype: int64"
            ]
          },
          "metadata": {},
          "execution_count": 104
        }
      ]
    },
    {
      "cell_type": "markdown",
      "source": [
        "The distribution here is pretty skewed, the second most frequent class is less than 4% of the most frequent, so I don't think it will be much help. Let's check out 'ROAD_DEFECT' as well."
      ],
      "metadata": {
        "id": "tCtqu0fZXx4d"
      },
      "id": "tCtqu0fZXx4d"
    },
    {
      "cell_type": "code",
      "source": [
        "merged_crashes['ROAD_DEFECT'].value_counts()"
      ],
      "metadata": {
        "id": "-3t6B7xMYaaL",
        "outputId": "bd31027b-9a98-49d9-b3e8-9b25aaefc49a",
        "colab": {
          "base_uri": "https://localhost:8080/"
        }
      },
      "id": "-3t6B7xMYaaL",
      "execution_count": 105,
      "outputs": [
        {
          "output_type": "execute_result",
          "data": {
            "text/plain": [
              "ROAD_DEFECT\n",
              "NO DEFECTS           3107058\n",
              "UNKNOWN               655439\n",
              "OTHER                  18539\n",
              "WORN SURFACE           15601\n",
              "RUT, HOLES             15499\n",
              "SHOULDER DEFECT         6612\n",
              "DEBRIS ON ROADWAY       2555\n",
              "Name: count, dtype: int64"
            ]
          },
          "metadata": {},
          "execution_count": 105
        }
      ]
    },
    {
      "cell_type": "markdown",
      "source": [
        "Similar story here; after the less-than-useful classes of 'unknown' and 'other', the first specific one is 'worn surface', but it only amounts to 0.6% of the 'no defects' class, so this column will likely only hinder our model."
      ],
      "metadata": {
        "id": "GIHz9PvvYml6"
      },
      "id": "GIHz9PvvYml6"
    },
    {
      "cell_type": "code",
      "source": [
        "merged_crashes['ROADWAY_SURFACE_COND'].value_counts()"
      ],
      "metadata": {
        "id": "uaeVmlBsZBfk",
        "outputId": "7c4826f0-f469-433b-fbe6-5601beccc3dd",
        "colab": {
          "base_uri": "https://localhost:8080/"
        }
      },
      "id": "uaeVmlBsZBfk",
      "execution_count": 106,
      "outputs": [
        {
          "output_type": "execute_result",
          "data": {
            "text/plain": [
              "ROADWAY_SURFACE_COND\n",
              "DRY                2853708\n",
              "WET                 538994\n",
              "UNKNOWN             274972\n",
              "SNOW OR SLUSH       119147\n",
              "ICE                  24736\n",
              "OTHER                 8807\n",
              "SAND, MUD, DIRT        939\n",
              "Name: count, dtype: int64"
            ]
          },
          "metadata": {},
          "execution_count": 106
        }
      ]
    },
    {
      "cell_type": "code",
      "source": [
        "final_columns_to_drop = ['CRASH_RECORD_ID', 'STREET_DIRECTION', 'DRIVERS_LICENSE_CLASS', 'ROAD_DEFECT']\n",
        "merged_crashes = merged_crashes.drop(final_columns_to_drop, axis=1)\n",
        "merged_crashes.info()"
      ],
      "metadata": {
        "id": "nonBHH6UVlhz",
        "outputId": "7112e816-17b3-413b-fa54-ce9cb347664b",
        "colab": {
          "base_uri": "https://localhost:8080/"
        }
      },
      "id": "nonBHH6UVlhz",
      "execution_count": 107,
      "outputs": [
        {
          "output_type": "stream",
          "name": "stdout",
          "text": [
            "<class 'pandas.core.frame.DataFrame'>\n",
            "RangeIndex: 3821303 entries, 0 to 3821302\n",
            "Data columns (total 17 columns):\n",
            " #   Column                   Dtype  \n",
            "---  ------                   -----  \n",
            " 0   POSTED_SPEED_LIMIT       int64  \n",
            " 1   WEATHER_CONDITION        object \n",
            " 2   LIGHTING_CONDITION       object \n",
            " 3   ROADWAY_SURFACE_COND     object \n",
            " 4   PRIM_CONTRIBUTORY_CAUSE  object \n",
            " 5   NUM_UNITS                int64  \n",
            " 6   CRASH_HOUR               int64  \n",
            " 7   CRASH_DAY_OF_WEEK        int64  \n",
            " 8   CRASH_MONTH              int64  \n",
            " 9   LATITUDE                 float64\n",
            " 10  LONGITUDE                float64\n",
            " 11  PERSON_TYPE              object \n",
            " 12  CITY                     object \n",
            " 13  SEX                      object \n",
            " 14  AGE                      float64\n",
            " 15  TRAVEL_DIRECTION         object \n",
            " 16  MANEUVER                 object \n",
            "dtypes: float64(3), int64(5), object(9)\n",
            "memory usage: 495.6+ MB\n"
          ]
        }
      ]
    },
    {
      "cell_type": "markdown",
      "source": [
        "Before we begin preprocessing this merged DataFrame, we need to go through and eliminate the rows that contain 'unknown', 'other', or 'not reported' values as well as those that represent only a tiny fraction of the feature's value counts. This will help reduce the large amount of records we have and the amount of columns that will result after one-hot encoding."
      ],
      "metadata": {
        "id": "Q3VGdXaEVl6T"
      },
      "id": "Q3VGdXaEVl6T"
    },
    {
      "cell_type": "code",
      "source": [
        "merged_crashes['POSTED_SPEED_LIMIT'].value_counts()"
      ],
      "metadata": {
        "id": "TRVLsTYaVmt1",
        "outputId": "042c1c4b-a70e-41d8-9c3a-e906dbbf89a7",
        "colab": {
          "base_uri": "https://localhost:8080/"
        }
      },
      "id": "TRVLsTYaVmt1",
      "execution_count": 108,
      "outputs": [
        {
          "output_type": "execute_result",
          "data": {
            "text/plain": [
              "POSTED_SPEED_LIMIT\n",
              "30    2915125\n",
              "35     273505\n",
              "25     214449\n",
              "20     127854\n",
              "15      99682\n",
              "10      63520\n",
              "40      44133\n",
              "45      29661\n",
              "0       28913\n",
              "5       15887\n",
              "55       4147\n",
              "50       1232\n",
              "3         977\n",
              "9         400\n",
              "39        374\n",
              "99        291\n",
              "60        252\n",
              "1         125\n",
              "24        122\n",
              "2          84\n",
              "65         82\n",
              "32         75\n",
              "33         62\n",
              "34         60\n",
              "36         40\n",
              "11         40\n",
              "26         35\n",
              "6          26\n",
              "7          22\n",
              "14         18\n",
              "70         15\n",
              "31         14\n",
              "29         11\n",
              "22         10\n",
              "12          9\n",
              "23          8\n",
              "8           8\n",
              "38          8\n",
              "4           7\n",
              "44          6\n",
              "18          6\n",
              "63          4\n",
              "62          2\n",
              "49          1\n",
              "46          1\n",
              "Name: count, dtype: int64"
            ]
          },
          "metadata": {},
          "execution_count": 108
        }
      ]
    },
    {
      "cell_type": "code",
      "source": [
        "#First we'll go through and drop any rows where the speed limit isn't a multiple of 5 while still keeping '0'\n",
        "# since it's likely a placeholder for a parked vehicle.\n",
        "import numpy as np\n",
        "realistic_speed_limits = list(np.arange(0,75,5))\n",
        "merged_crashes.drop(merged_crashes['POSTED_SPEED_LIMIT'].isin(realistic_speed_limits), axis=0, inplace=True)\n",
        "merged_crashes['POSTED_SPEED_LIMIT'].value_counts()"
      ],
      "metadata": {
        "id": "n73S71yId8yO"
      },
      "id": "n73S71yId8yO",
      "execution_count": null,
      "outputs": []
    },
    {
      "cell_type": "code",
      "source": [],
      "metadata": {
        "id": "yFn-9CCOd9bG"
      },
      "id": "yFn-9CCOd9bG",
      "execution_count": 107,
      "outputs": []
    },
    {
      "cell_type": "markdown",
      "source": [
        "We also need to filter out all rows with a 'CITY' listed other than Chicago and all 'passenger' class rows in the 'PERSON_TYPE' column."
      ],
      "metadata": {
        "id": "zcDt0u_Id-Li"
      },
      "id": "zcDt0u_Id-Li"
    },
    {
      "cell_type": "code",
      "source": [],
      "metadata": {
        "id": "LwIeos-FbpyZ"
      },
      "id": "LwIeos-FbpyZ",
      "execution_count": 107,
      "outputs": []
    }
  ],
  "metadata": {
    "kernelspec": {
      "display_name": "Python 3 (ipykernel)",
      "language": "python",
      "name": "python3"
    },
    "language_info": {
      "codemirror_mode": {
        "name": "ipython",
        "version": 3
      },
      "file_extension": ".py",
      "mimetype": "text/x-python",
      "name": "python",
      "nbconvert_exporter": "python",
      "pygments_lexer": "ipython3",
      "version": "3.9.18"
    },
    "colab": {
      "provenance": []
    }
  },
  "nbformat": 4,
  "nbformat_minor": 5
}