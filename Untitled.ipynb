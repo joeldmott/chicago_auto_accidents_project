{
  "cells": [
    {
      "cell_type": "code",
      "execution_count": 2,
      "id": "83342757-736d-474d-9612-da6594af6026",
      "metadata": {
        "id": "83342757-736d-474d-9612-da6594af6026"
      },
      "outputs": [],
      "source": [
        "#import pandas as pd\n",
        "#from google.colab import drive\n",
        "#drive.mount('/content/drive')"
      ]
    },
    {
      "cell_type": "code",
      "source": [
        "import json\n",
        "import os\n",
        "from pathlib import Path\n",
        "\n",
        "# your api key\n",
        "api_key = {\n",
        "'username':\"joelmott\" ,\n",
        "'key':\"a9a024d51eb29560c5bcadee60ccfecd\"}\n",
        "\n",
        "# uses pathlib Path\n",
        "kaggle_path = Path('/root/.kaggle')\n",
        "os.makedirs(kaggle_path, exist_ok=True)\n",
        "\n",
        "# opens file and dumps python dict to json object\n",
        "with open (kaggle_path/'kaggle.json', 'w') as handl:\n",
        "    json.dump(api_key,handl)\n",
        "\n",
        "os.chmod(kaggle_path/'kaggle.json', 600)"
      ],
      "metadata": {
        "id": "LDPJ2JtnJ_wv"
      },
      "id": "LDPJ2JtnJ_wv",
      "execution_count": 3,
      "outputs": []
    },
    {
      "cell_type": "code",
      "source": [
        "import kaggle\n",
        "! kaggle datasets download joelmott/chicago-traffic-crashes-may-2024/"
      ],
      "metadata": {
        "id": "xjcqNPj1KATk",
        "colab": {
          "base_uri": "https://localhost:8080/"
        },
        "outputId": "c12a8664-e613-4556-fa88-3e4432b86489"
      },
      "id": "xjcqNPj1KATk",
      "execution_count": 4,
      "outputs": [
        {
          "output_type": "stream",
          "name": "stdout",
          "text": [
            "Dataset URL: https://www.kaggle.com/datasets/joelmott/chicago-traffic-crashes-may-2024/versions/\n",
            "License(s): CC0-1.0\n",
            "Downloading chicago-traffic-crashes-may-2024.zip to /content\n",
            " 99% 356M/361M [00:04<00:00, 67.8MB/s]\n",
            "100% 361M/361M [00:04<00:00, 92.1MB/s]\n"
          ]
        }
      ]
    },
    {
      "cell_type": "code",
      "source": [
        "!unzip /content/chicago-traffic-crashes-may-2024.zip"
      ],
      "metadata": {
        "id": "TlqpZC9BM5AB",
        "colab": {
          "base_uri": "https://localhost:8080/"
        },
        "outputId": "abef09be-f12e-47b9-cf0b-103d329d799d"
      },
      "id": "TlqpZC9BM5AB",
      "execution_count": 5,
      "outputs": [
        {
          "output_type": "stream",
          "name": "stdout",
          "text": [
            "Archive:  /content/chicago-traffic-crashes-may-2024.zip\n",
            "  inflating: CPD_traffic_crashes-crashes-20240501.csv  \n",
            "  inflating: CPD_traffic_crashes-people-20240501.csv  \n",
            "  inflating: CPD_traffic_crashes-vehicles-20240501.csv  \n"
          ]
        }
      ]
    },
    {
      "cell_type": "code",
      "source": [
        "import pandas as pd\n",
        "crashes_df = pd.read_csv('/content/CPD_traffic_crashes-crashes-20240501.csv')\n",
        "crashes_df"
      ],
      "metadata": {
        "id": "C3AQ_as4T__Q",
        "outputId": "fdd68f7a-9e6d-4fb9-ecc9-ad8ac1af77f1",
        "colab": {
          "base_uri": "https://localhost:8080/",
          "height": 790
        }
      },
      "id": "C3AQ_as4T__Q",
      "execution_count": 6,
      "outputs": [
        {
          "output_type": "execute_result",
          "data": {
            "text/plain": [
              "                                          CRASH_RECORD_ID CRASH_DATE_EST_I  \\\n",
              "0       6c1659069e9c6285a650e70d6f9b574ed5f64c12888479...              NaN   \n",
              "1       5f54a59fcb087b12ae5b1acff96a3caf4f2d37e79f8db4...              NaN   \n",
              "2       61fcb8c1eb522a6469b460e2134df3d15f82e81fd93e9c...              NaN   \n",
              "3       004cd14d0303a9163aad69a2d7f341b7da2a8572b2ab33...              NaN   \n",
              "4       a1d5f0ea90897745365a4cbb06cc60329a120d89753fac...              NaN   \n",
              "...                                                   ...              ...   \n",
              "828506  790a72494289861e0d12786c57659df0fcc3ff90df83a6...                Y   \n",
              "828507  0c3ba5ebe2928b85f42ad69485a11977fef61a3a5b6b82...              NaN   \n",
              "828508  54d55bfcc6627f587abbe0d14c42e51b812f930566fb06...              NaN   \n",
              "828509  fcf3c5ddd8ba79a1b43c039a2507b201c999d659aa85d3...              NaN   \n",
              "828510  f20453c5723af4ecc9c739665b2565af1529b4e705f63d...              NaN   \n",
              "\n",
              "                    CRASH_DATE  POSTED_SPEED_LIMIT TRAFFIC_CONTROL_DEVICE  \\\n",
              "0       08/18/2023 12:50:00 PM                  15                  OTHER   \n",
              "1       07/29/2023 02:45:00 PM                  30         TRAFFIC SIGNAL   \n",
              "2       08/18/2023 05:58:00 PM                  30            NO CONTROLS   \n",
              "3       11/26/2019 08:38:00 AM                  25            NO CONTROLS   \n",
              "4       08/18/2023 10:45:00 AM                  20            NO CONTROLS   \n",
              "...                        ...                 ...                    ...   \n",
              "828506  09/08/2020 03:10:00 PM                  30            NO CONTROLS   \n",
              "828507  08/18/2023 10:00:00 PM                  30         TRAFFIC SIGNAL   \n",
              "828508  12/28/2019 01:16:00 AM                  35                UNKNOWN   \n",
              "828509  04/12/2020 07:10:00 AM                  30            NO CONTROLS   \n",
              "828510  05/17/2023 10:20:00 AM                  30            NO CONTROLS   \n",
              "\n",
              "            DEVICE_CONDITION WEATHER_CONDITION      LIGHTING_CONDITION  \\\n",
              "0       FUNCTIONING PROPERLY             CLEAR                DAYLIGHT   \n",
              "1       FUNCTIONING PROPERLY             CLEAR                DAYLIGHT   \n",
              "2                NO CONTROLS             CLEAR                DAYLIGHT   \n",
              "3                NO CONTROLS             CLEAR                DAYLIGHT   \n",
              "4                NO CONTROLS             CLEAR                DAYLIGHT   \n",
              "...                      ...               ...                     ...   \n",
              "828506           NO CONTROLS              RAIN                    DUSK   \n",
              "828507  FUNCTIONING PROPERLY             CLEAR  DARKNESS, LIGHTED ROAD   \n",
              "828508               UNKNOWN             CLEAR  DARKNESS, LIGHTED ROAD   \n",
              "828509           NO CONTROLS             CLEAR                DAYLIGHT   \n",
              "828510           NO CONTROLS             CLEAR                DAYLIGHT   \n",
              "\n",
              "                FIRST_CRASH_TYPE                  TRAFFICWAY_TYPE  ...  \\\n",
              "0                       REAR END                            OTHER  ...   \n",
              "1           PARKED MOTOR VEHICLE  DIVIDED - W/MEDIAN (NOT RAISED)  ...   \n",
              "2                   PEDALCYCLIST                      NOT DIVIDED  ...   \n",
              "3                     PEDESTRIAN                          ONE-WAY  ...   \n",
              "4                   FIXED OBJECT                            OTHER  ...   \n",
              "...                          ...                              ...  ...   \n",
              "828506      PARKED MOTOR VEHICLE                      NOT DIVIDED  ...   \n",
              "828507                   TURNING                         FOUR WAY  ...   \n",
              "828508      PARKED MOTOR VEHICLE                          ONE-WAY  ...   \n",
              "828509  SIDESWIPE SAME DIRECTION  DIVIDED - W/MEDIAN (NOT RAISED)  ...   \n",
              "828510      PARKED MOTOR VEHICLE                      NOT DIVIDED  ...   \n",
              "\n",
              "        INJURIES_NON_INCAPACITATING INJURIES_REPORTED_NOT_EVIDENT  \\\n",
              "0                               1.0                           0.0   \n",
              "1                               0.0                           0.0   \n",
              "2                               1.0                           0.0   \n",
              "3                               0.0                           0.0   \n",
              "4                               0.0                           0.0   \n",
              "...                             ...                           ...   \n",
              "828506                          0.0                           0.0   \n",
              "828507                          0.0                           0.0   \n",
              "828508                          0.0                           0.0   \n",
              "828509                          0.0                           0.0   \n",
              "828510                          0.0                           0.0   \n",
              "\n",
              "       INJURIES_NO_INDICATION INJURIES_UNKNOWN CRASH_HOUR CRASH_DAY_OF_WEEK  \\\n",
              "0                         1.0              0.0         12                 6   \n",
              "1                         1.0              0.0         14                 7   \n",
              "2                         1.0              0.0         17                 6   \n",
              "3                         1.0              0.0          8                 3   \n",
              "4                         1.0              0.0         10                 6   \n",
              "...                       ...              ...        ...               ...   \n",
              "828506                    1.0              0.0         15                 3   \n",
              "828507                    3.0              0.0         22                 6   \n",
              "828508                    1.0              0.0          1                 7   \n",
              "828509                    2.0              0.0          7                 1   \n",
              "828510                    1.0              0.0         10                 4   \n",
              "\n",
              "       CRASH_MONTH   LATITUDE  LONGITUDE  \\\n",
              "0                8        NaN        NaN   \n",
              "1                7  41.854120 -87.665902   \n",
              "2                8  41.942976 -87.761883   \n",
              "3               11        NaN        NaN   \n",
              "4                8        NaN        NaN   \n",
              "...            ...        ...        ...   \n",
              "828506           9  41.833010 -87.621878   \n",
              "828507           8  41.967890 -87.760938   \n",
              "828508          12  41.685142 -87.628557   \n",
              "828509           4  41.847421 -87.612391   \n",
              "828510           5  41.730122 -87.665759   \n",
              "\n",
              "                                        LOCATION  \n",
              "0                                            NaN  \n",
              "1       POINT (-87.665902342962 41.854120262952)  \n",
              "2       POINT (-87.761883496974 41.942975745006)  \n",
              "3                                            NaN  \n",
              "4                                            NaN  \n",
              "...                                          ...  \n",
              "828506  POINT (-87.621877672023 41.833010486005)  \n",
              "828507  POINT (-87.760938108098 41.967890005752)  \n",
              "828508  POINT (-87.628556919131 41.685141540233)  \n",
              "828509   POINT (-87.61239120397 41.847420982326)  \n",
              "828510   POINT (-87.665759307455 41.73012224727)  \n",
              "\n",
              "[828511 rows x 48 columns]"
            ],
            "text/html": [
              "\n",
              "  <div id=\"df-c83ba6d8-8bdb-4e19-a9d5-3bdbffda1c2e\" class=\"colab-df-container\">\n",
              "    <div>\n",
              "<style scoped>\n",
              "    .dataframe tbody tr th:only-of-type {\n",
              "        vertical-align: middle;\n",
              "    }\n",
              "\n",
              "    .dataframe tbody tr th {\n",
              "        vertical-align: top;\n",
              "    }\n",
              "\n",
              "    .dataframe thead th {\n",
              "        text-align: right;\n",
              "    }\n",
              "</style>\n",
              "<table border=\"1\" class=\"dataframe\">\n",
              "  <thead>\n",
              "    <tr style=\"text-align: right;\">\n",
              "      <th></th>\n",
              "      <th>CRASH_RECORD_ID</th>\n",
              "      <th>CRASH_DATE_EST_I</th>\n",
              "      <th>CRASH_DATE</th>\n",
              "      <th>POSTED_SPEED_LIMIT</th>\n",
              "      <th>TRAFFIC_CONTROL_DEVICE</th>\n",
              "      <th>DEVICE_CONDITION</th>\n",
              "      <th>WEATHER_CONDITION</th>\n",
              "      <th>LIGHTING_CONDITION</th>\n",
              "      <th>FIRST_CRASH_TYPE</th>\n",
              "      <th>TRAFFICWAY_TYPE</th>\n",
              "      <th>...</th>\n",
              "      <th>INJURIES_NON_INCAPACITATING</th>\n",
              "      <th>INJURIES_REPORTED_NOT_EVIDENT</th>\n",
              "      <th>INJURIES_NO_INDICATION</th>\n",
              "      <th>INJURIES_UNKNOWN</th>\n",
              "      <th>CRASH_HOUR</th>\n",
              "      <th>CRASH_DAY_OF_WEEK</th>\n",
              "      <th>CRASH_MONTH</th>\n",
              "      <th>LATITUDE</th>\n",
              "      <th>LONGITUDE</th>\n",
              "      <th>LOCATION</th>\n",
              "    </tr>\n",
              "  </thead>\n",
              "  <tbody>\n",
              "    <tr>\n",
              "      <th>0</th>\n",
              "      <td>6c1659069e9c6285a650e70d6f9b574ed5f64c12888479...</td>\n",
              "      <td>NaN</td>\n",
              "      <td>08/18/2023 12:50:00 PM</td>\n",
              "      <td>15</td>\n",
              "      <td>OTHER</td>\n",
              "      <td>FUNCTIONING PROPERLY</td>\n",
              "      <td>CLEAR</td>\n",
              "      <td>DAYLIGHT</td>\n",
              "      <td>REAR END</td>\n",
              "      <td>OTHER</td>\n",
              "      <td>...</td>\n",
              "      <td>1.0</td>\n",
              "      <td>0.0</td>\n",
              "      <td>1.0</td>\n",
              "      <td>0.0</td>\n",
              "      <td>12</td>\n",
              "      <td>6</td>\n",
              "      <td>8</td>\n",
              "      <td>NaN</td>\n",
              "      <td>NaN</td>\n",
              "      <td>NaN</td>\n",
              "    </tr>\n",
              "    <tr>\n",
              "      <th>1</th>\n",
              "      <td>5f54a59fcb087b12ae5b1acff96a3caf4f2d37e79f8db4...</td>\n",
              "      <td>NaN</td>\n",
              "      <td>07/29/2023 02:45:00 PM</td>\n",
              "      <td>30</td>\n",
              "      <td>TRAFFIC SIGNAL</td>\n",
              "      <td>FUNCTIONING PROPERLY</td>\n",
              "      <td>CLEAR</td>\n",
              "      <td>DAYLIGHT</td>\n",
              "      <td>PARKED MOTOR VEHICLE</td>\n",
              "      <td>DIVIDED - W/MEDIAN (NOT RAISED)</td>\n",
              "      <td>...</td>\n",
              "      <td>0.0</td>\n",
              "      <td>0.0</td>\n",
              "      <td>1.0</td>\n",
              "      <td>0.0</td>\n",
              "      <td>14</td>\n",
              "      <td>7</td>\n",
              "      <td>7</td>\n",
              "      <td>41.854120</td>\n",
              "      <td>-87.665902</td>\n",
              "      <td>POINT (-87.665902342962 41.854120262952)</td>\n",
              "    </tr>\n",
              "    <tr>\n",
              "      <th>2</th>\n",
              "      <td>61fcb8c1eb522a6469b460e2134df3d15f82e81fd93e9c...</td>\n",
              "      <td>NaN</td>\n",
              "      <td>08/18/2023 05:58:00 PM</td>\n",
              "      <td>30</td>\n",
              "      <td>NO CONTROLS</td>\n",
              "      <td>NO CONTROLS</td>\n",
              "      <td>CLEAR</td>\n",
              "      <td>DAYLIGHT</td>\n",
              "      <td>PEDALCYCLIST</td>\n",
              "      <td>NOT DIVIDED</td>\n",
              "      <td>...</td>\n",
              "      <td>1.0</td>\n",
              "      <td>0.0</td>\n",
              "      <td>1.0</td>\n",
              "      <td>0.0</td>\n",
              "      <td>17</td>\n",
              "      <td>6</td>\n",
              "      <td>8</td>\n",
              "      <td>41.942976</td>\n",
              "      <td>-87.761883</td>\n",
              "      <td>POINT (-87.761883496974 41.942975745006)</td>\n",
              "    </tr>\n",
              "    <tr>\n",
              "      <th>3</th>\n",
              "      <td>004cd14d0303a9163aad69a2d7f341b7da2a8572b2ab33...</td>\n",
              "      <td>NaN</td>\n",
              "      <td>11/26/2019 08:38:00 AM</td>\n",
              "      <td>25</td>\n",
              "      <td>NO CONTROLS</td>\n",
              "      <td>NO CONTROLS</td>\n",
              "      <td>CLEAR</td>\n",
              "      <td>DAYLIGHT</td>\n",
              "      <td>PEDESTRIAN</td>\n",
              "      <td>ONE-WAY</td>\n",
              "      <td>...</td>\n",
              "      <td>0.0</td>\n",
              "      <td>0.0</td>\n",
              "      <td>1.0</td>\n",
              "      <td>0.0</td>\n",
              "      <td>8</td>\n",
              "      <td>3</td>\n",
              "      <td>11</td>\n",
              "      <td>NaN</td>\n",
              "      <td>NaN</td>\n",
              "      <td>NaN</td>\n",
              "    </tr>\n",
              "    <tr>\n",
              "      <th>4</th>\n",
              "      <td>a1d5f0ea90897745365a4cbb06cc60329a120d89753fac...</td>\n",
              "      <td>NaN</td>\n",
              "      <td>08/18/2023 10:45:00 AM</td>\n",
              "      <td>20</td>\n",
              "      <td>NO CONTROLS</td>\n",
              "      <td>NO CONTROLS</td>\n",
              "      <td>CLEAR</td>\n",
              "      <td>DAYLIGHT</td>\n",
              "      <td>FIXED OBJECT</td>\n",
              "      <td>OTHER</td>\n",
              "      <td>...</td>\n",
              "      <td>0.0</td>\n",
              "      <td>0.0</td>\n",
              "      <td>1.0</td>\n",
              "      <td>0.0</td>\n",
              "      <td>10</td>\n",
              "      <td>6</td>\n",
              "      <td>8</td>\n",
              "      <td>NaN</td>\n",
              "      <td>NaN</td>\n",
              "      <td>NaN</td>\n",
              "    </tr>\n",
              "    <tr>\n",
              "      <th>...</th>\n",
              "      <td>...</td>\n",
              "      <td>...</td>\n",
              "      <td>...</td>\n",
              "      <td>...</td>\n",
              "      <td>...</td>\n",
              "      <td>...</td>\n",
              "      <td>...</td>\n",
              "      <td>...</td>\n",
              "      <td>...</td>\n",
              "      <td>...</td>\n",
              "      <td>...</td>\n",
              "      <td>...</td>\n",
              "      <td>...</td>\n",
              "      <td>...</td>\n",
              "      <td>...</td>\n",
              "      <td>...</td>\n",
              "      <td>...</td>\n",
              "      <td>...</td>\n",
              "      <td>...</td>\n",
              "      <td>...</td>\n",
              "      <td>...</td>\n",
              "    </tr>\n",
              "    <tr>\n",
              "      <th>828506</th>\n",
              "      <td>790a72494289861e0d12786c57659df0fcc3ff90df83a6...</td>\n",
              "      <td>Y</td>\n",
              "      <td>09/08/2020 03:10:00 PM</td>\n",
              "      <td>30</td>\n",
              "      <td>NO CONTROLS</td>\n",
              "      <td>NO CONTROLS</td>\n",
              "      <td>RAIN</td>\n",
              "      <td>DUSK</td>\n",
              "      <td>PARKED MOTOR VEHICLE</td>\n",
              "      <td>NOT DIVIDED</td>\n",
              "      <td>...</td>\n",
              "      <td>0.0</td>\n",
              "      <td>0.0</td>\n",
              "      <td>1.0</td>\n",
              "      <td>0.0</td>\n",
              "      <td>15</td>\n",
              "      <td>3</td>\n",
              "      <td>9</td>\n",
              "      <td>41.833010</td>\n",
              "      <td>-87.621878</td>\n",
              "      <td>POINT (-87.621877672023 41.833010486005)</td>\n",
              "    </tr>\n",
              "    <tr>\n",
              "      <th>828507</th>\n",
              "      <td>0c3ba5ebe2928b85f42ad69485a11977fef61a3a5b6b82...</td>\n",
              "      <td>NaN</td>\n",
              "      <td>08/18/2023 10:00:00 PM</td>\n",
              "      <td>30</td>\n",
              "      <td>TRAFFIC SIGNAL</td>\n",
              "      <td>FUNCTIONING PROPERLY</td>\n",
              "      <td>CLEAR</td>\n",
              "      <td>DARKNESS, LIGHTED ROAD</td>\n",
              "      <td>TURNING</td>\n",
              "      <td>FOUR WAY</td>\n",
              "      <td>...</td>\n",
              "      <td>0.0</td>\n",
              "      <td>0.0</td>\n",
              "      <td>3.0</td>\n",
              "      <td>0.0</td>\n",
              "      <td>22</td>\n",
              "      <td>6</td>\n",
              "      <td>8</td>\n",
              "      <td>41.967890</td>\n",
              "      <td>-87.760938</td>\n",
              "      <td>POINT (-87.760938108098 41.967890005752)</td>\n",
              "    </tr>\n",
              "    <tr>\n",
              "      <th>828508</th>\n",
              "      <td>54d55bfcc6627f587abbe0d14c42e51b812f930566fb06...</td>\n",
              "      <td>NaN</td>\n",
              "      <td>12/28/2019 01:16:00 AM</td>\n",
              "      <td>35</td>\n",
              "      <td>UNKNOWN</td>\n",
              "      <td>UNKNOWN</td>\n",
              "      <td>CLEAR</td>\n",
              "      <td>DARKNESS, LIGHTED ROAD</td>\n",
              "      <td>PARKED MOTOR VEHICLE</td>\n",
              "      <td>ONE-WAY</td>\n",
              "      <td>...</td>\n",
              "      <td>0.0</td>\n",
              "      <td>0.0</td>\n",
              "      <td>1.0</td>\n",
              "      <td>0.0</td>\n",
              "      <td>1</td>\n",
              "      <td>7</td>\n",
              "      <td>12</td>\n",
              "      <td>41.685142</td>\n",
              "      <td>-87.628557</td>\n",
              "      <td>POINT (-87.628556919131 41.685141540233)</td>\n",
              "    </tr>\n",
              "    <tr>\n",
              "      <th>828509</th>\n",
              "      <td>fcf3c5ddd8ba79a1b43c039a2507b201c999d659aa85d3...</td>\n",
              "      <td>NaN</td>\n",
              "      <td>04/12/2020 07:10:00 AM</td>\n",
              "      <td>30</td>\n",
              "      <td>NO CONTROLS</td>\n",
              "      <td>NO CONTROLS</td>\n",
              "      <td>CLEAR</td>\n",
              "      <td>DAYLIGHT</td>\n",
              "      <td>SIDESWIPE SAME DIRECTION</td>\n",
              "      <td>DIVIDED - W/MEDIAN (NOT RAISED)</td>\n",
              "      <td>...</td>\n",
              "      <td>0.0</td>\n",
              "      <td>0.0</td>\n",
              "      <td>2.0</td>\n",
              "      <td>0.0</td>\n",
              "      <td>7</td>\n",
              "      <td>1</td>\n",
              "      <td>4</td>\n",
              "      <td>41.847421</td>\n",
              "      <td>-87.612391</td>\n",
              "      <td>POINT (-87.61239120397 41.847420982326)</td>\n",
              "    </tr>\n",
              "    <tr>\n",
              "      <th>828510</th>\n",
              "      <td>f20453c5723af4ecc9c739665b2565af1529b4e705f63d...</td>\n",
              "      <td>NaN</td>\n",
              "      <td>05/17/2023 10:20:00 AM</td>\n",
              "      <td>30</td>\n",
              "      <td>NO CONTROLS</td>\n",
              "      <td>NO CONTROLS</td>\n",
              "      <td>CLEAR</td>\n",
              "      <td>DAYLIGHT</td>\n",
              "      <td>PARKED MOTOR VEHICLE</td>\n",
              "      <td>NOT DIVIDED</td>\n",
              "      <td>...</td>\n",
              "      <td>0.0</td>\n",
              "      <td>0.0</td>\n",
              "      <td>1.0</td>\n",
              "      <td>0.0</td>\n",
              "      <td>10</td>\n",
              "      <td>4</td>\n",
              "      <td>5</td>\n",
              "      <td>41.730122</td>\n",
              "      <td>-87.665759</td>\n",
              "      <td>POINT (-87.665759307455 41.73012224727)</td>\n",
              "    </tr>\n",
              "  </tbody>\n",
              "</table>\n",
              "<p>828511 rows × 48 columns</p>\n",
              "</div>\n",
              "    <div class=\"colab-df-buttons\">\n",
              "\n",
              "  <div class=\"colab-df-container\">\n",
              "    <button class=\"colab-df-convert\" onclick=\"convertToInteractive('df-c83ba6d8-8bdb-4e19-a9d5-3bdbffda1c2e')\"\n",
              "            title=\"Convert this dataframe to an interactive table.\"\n",
              "            style=\"display:none;\">\n",
              "\n",
              "  <svg xmlns=\"http://www.w3.org/2000/svg\" height=\"24px\" viewBox=\"0 -960 960 960\">\n",
              "    <path d=\"M120-120v-720h720v720H120Zm60-500h600v-160H180v160Zm220 220h160v-160H400v160Zm0 220h160v-160H400v160ZM180-400h160v-160H180v160Zm440 0h160v-160H620v160ZM180-180h160v-160H180v160Zm440 0h160v-160H620v160Z\"/>\n",
              "  </svg>\n",
              "    </button>\n",
              "\n",
              "  <style>\n",
              "    .colab-df-container {\n",
              "      display:flex;\n",
              "      gap: 12px;\n",
              "    }\n",
              "\n",
              "    .colab-df-convert {\n",
              "      background-color: #E8F0FE;\n",
              "      border: none;\n",
              "      border-radius: 50%;\n",
              "      cursor: pointer;\n",
              "      display: none;\n",
              "      fill: #1967D2;\n",
              "      height: 32px;\n",
              "      padding: 0 0 0 0;\n",
              "      width: 32px;\n",
              "    }\n",
              "\n",
              "    .colab-df-convert:hover {\n",
              "      background-color: #E2EBFA;\n",
              "      box-shadow: 0px 1px 2px rgba(60, 64, 67, 0.3), 0px 1px 3px 1px rgba(60, 64, 67, 0.15);\n",
              "      fill: #174EA6;\n",
              "    }\n",
              "\n",
              "    .colab-df-buttons div {\n",
              "      margin-bottom: 4px;\n",
              "    }\n",
              "\n",
              "    [theme=dark] .colab-df-convert {\n",
              "      background-color: #3B4455;\n",
              "      fill: #D2E3FC;\n",
              "    }\n",
              "\n",
              "    [theme=dark] .colab-df-convert:hover {\n",
              "      background-color: #434B5C;\n",
              "      box-shadow: 0px 1px 3px 1px rgba(0, 0, 0, 0.15);\n",
              "      filter: drop-shadow(0px 1px 2px rgba(0, 0, 0, 0.3));\n",
              "      fill: #FFFFFF;\n",
              "    }\n",
              "  </style>\n",
              "\n",
              "    <script>\n",
              "      const buttonEl =\n",
              "        document.querySelector('#df-c83ba6d8-8bdb-4e19-a9d5-3bdbffda1c2e button.colab-df-convert');\n",
              "      buttonEl.style.display =\n",
              "        google.colab.kernel.accessAllowed ? 'block' : 'none';\n",
              "\n",
              "      async function convertToInteractive(key) {\n",
              "        const element = document.querySelector('#df-c83ba6d8-8bdb-4e19-a9d5-3bdbffda1c2e');\n",
              "        const dataTable =\n",
              "          await google.colab.kernel.invokeFunction('convertToInteractive',\n",
              "                                                    [key], {});\n",
              "        if (!dataTable) return;\n",
              "\n",
              "        const docLinkHtml = 'Like what you see? Visit the ' +\n",
              "          '<a target=\"_blank\" href=https://colab.research.google.com/notebooks/data_table.ipynb>data table notebook</a>'\n",
              "          + ' to learn more about interactive tables.';\n",
              "        element.innerHTML = '';\n",
              "        dataTable['output_type'] = 'display_data';\n",
              "        await google.colab.output.renderOutput(dataTable, element);\n",
              "        const docLink = document.createElement('div');\n",
              "        docLink.innerHTML = docLinkHtml;\n",
              "        element.appendChild(docLink);\n",
              "      }\n",
              "    </script>\n",
              "  </div>\n",
              "\n",
              "\n",
              "<div id=\"df-0a9ce5b4-729a-45c0-be9a-f32f7ba1f6dc\">\n",
              "  <button class=\"colab-df-quickchart\" onclick=\"quickchart('df-0a9ce5b4-729a-45c0-be9a-f32f7ba1f6dc')\"\n",
              "            title=\"Suggest charts\"\n",
              "            style=\"display:none;\">\n",
              "\n",
              "<svg xmlns=\"http://www.w3.org/2000/svg\" height=\"24px\"viewBox=\"0 0 24 24\"\n",
              "     width=\"24px\">\n",
              "    <g>\n",
              "        <path d=\"M19 3H5c-1.1 0-2 .9-2 2v14c0 1.1.9 2 2 2h14c1.1 0 2-.9 2-2V5c0-1.1-.9-2-2-2zM9 17H7v-7h2v7zm4 0h-2V7h2v10zm4 0h-2v-4h2v4z\"/>\n",
              "    </g>\n",
              "</svg>\n",
              "  </button>\n",
              "\n",
              "<style>\n",
              "  .colab-df-quickchart {\n",
              "      --bg-color: #E8F0FE;\n",
              "      --fill-color: #1967D2;\n",
              "      --hover-bg-color: #E2EBFA;\n",
              "      --hover-fill-color: #174EA6;\n",
              "      --disabled-fill-color: #AAA;\n",
              "      --disabled-bg-color: #DDD;\n",
              "  }\n",
              "\n",
              "  [theme=dark] .colab-df-quickchart {\n",
              "      --bg-color: #3B4455;\n",
              "      --fill-color: #D2E3FC;\n",
              "      --hover-bg-color: #434B5C;\n",
              "      --hover-fill-color: #FFFFFF;\n",
              "      --disabled-bg-color: #3B4455;\n",
              "      --disabled-fill-color: #666;\n",
              "  }\n",
              "\n",
              "  .colab-df-quickchart {\n",
              "    background-color: var(--bg-color);\n",
              "    border: none;\n",
              "    border-radius: 50%;\n",
              "    cursor: pointer;\n",
              "    display: none;\n",
              "    fill: var(--fill-color);\n",
              "    height: 32px;\n",
              "    padding: 0;\n",
              "    width: 32px;\n",
              "  }\n",
              "\n",
              "  .colab-df-quickchart:hover {\n",
              "    background-color: var(--hover-bg-color);\n",
              "    box-shadow: 0 1px 2px rgba(60, 64, 67, 0.3), 0 1px 3px 1px rgba(60, 64, 67, 0.15);\n",
              "    fill: var(--button-hover-fill-color);\n",
              "  }\n",
              "\n",
              "  .colab-df-quickchart-complete:disabled,\n",
              "  .colab-df-quickchart-complete:disabled:hover {\n",
              "    background-color: var(--disabled-bg-color);\n",
              "    fill: var(--disabled-fill-color);\n",
              "    box-shadow: none;\n",
              "  }\n",
              "\n",
              "  .colab-df-spinner {\n",
              "    border: 2px solid var(--fill-color);\n",
              "    border-color: transparent;\n",
              "    border-bottom-color: var(--fill-color);\n",
              "    animation:\n",
              "      spin 1s steps(1) infinite;\n",
              "  }\n",
              "\n",
              "  @keyframes spin {\n",
              "    0% {\n",
              "      border-color: transparent;\n",
              "      border-bottom-color: var(--fill-color);\n",
              "      border-left-color: var(--fill-color);\n",
              "    }\n",
              "    20% {\n",
              "      border-color: transparent;\n",
              "      border-left-color: var(--fill-color);\n",
              "      border-top-color: var(--fill-color);\n",
              "    }\n",
              "    30% {\n",
              "      border-color: transparent;\n",
              "      border-left-color: var(--fill-color);\n",
              "      border-top-color: var(--fill-color);\n",
              "      border-right-color: var(--fill-color);\n",
              "    }\n",
              "    40% {\n",
              "      border-color: transparent;\n",
              "      border-right-color: var(--fill-color);\n",
              "      border-top-color: var(--fill-color);\n",
              "    }\n",
              "    60% {\n",
              "      border-color: transparent;\n",
              "      border-right-color: var(--fill-color);\n",
              "    }\n",
              "    80% {\n",
              "      border-color: transparent;\n",
              "      border-right-color: var(--fill-color);\n",
              "      border-bottom-color: var(--fill-color);\n",
              "    }\n",
              "    90% {\n",
              "      border-color: transparent;\n",
              "      border-bottom-color: var(--fill-color);\n",
              "    }\n",
              "  }\n",
              "</style>\n",
              "\n",
              "  <script>\n",
              "    async function quickchart(key) {\n",
              "      const quickchartButtonEl =\n",
              "        document.querySelector('#' + key + ' button');\n",
              "      quickchartButtonEl.disabled = true;  // To prevent multiple clicks.\n",
              "      quickchartButtonEl.classList.add('colab-df-spinner');\n",
              "      try {\n",
              "        const charts = await google.colab.kernel.invokeFunction(\n",
              "            'suggestCharts', [key], {});\n",
              "      } catch (error) {\n",
              "        console.error('Error during call to suggestCharts:', error);\n",
              "      }\n",
              "      quickchartButtonEl.classList.remove('colab-df-spinner');\n",
              "      quickchartButtonEl.classList.add('colab-df-quickchart-complete');\n",
              "    }\n",
              "    (() => {\n",
              "      let quickchartButtonEl =\n",
              "        document.querySelector('#df-0a9ce5b4-729a-45c0-be9a-f32f7ba1f6dc button');\n",
              "      quickchartButtonEl.style.display =\n",
              "        google.colab.kernel.accessAllowed ? 'block' : 'none';\n",
              "    })();\n",
              "  </script>\n",
              "</div>\n",
              "\n",
              "  <div id=\"id_ec2c530a-82ea-4841-aeb6-bec45001ed37\">\n",
              "    <style>\n",
              "      .colab-df-generate {\n",
              "        background-color: #E8F0FE;\n",
              "        border: none;\n",
              "        border-radius: 50%;\n",
              "        cursor: pointer;\n",
              "        display: none;\n",
              "        fill: #1967D2;\n",
              "        height: 32px;\n",
              "        padding: 0 0 0 0;\n",
              "        width: 32px;\n",
              "      }\n",
              "\n",
              "      .colab-df-generate:hover {\n",
              "        background-color: #E2EBFA;\n",
              "        box-shadow: 0px 1px 2px rgba(60, 64, 67, 0.3), 0px 1px 3px 1px rgba(60, 64, 67, 0.15);\n",
              "        fill: #174EA6;\n",
              "      }\n",
              "\n",
              "      [theme=dark] .colab-df-generate {\n",
              "        background-color: #3B4455;\n",
              "        fill: #D2E3FC;\n",
              "      }\n",
              "\n",
              "      [theme=dark] .colab-df-generate:hover {\n",
              "        background-color: #434B5C;\n",
              "        box-shadow: 0px 1px 3px 1px rgba(0, 0, 0, 0.15);\n",
              "        filter: drop-shadow(0px 1px 2px rgba(0, 0, 0, 0.3));\n",
              "        fill: #FFFFFF;\n",
              "      }\n",
              "    </style>\n",
              "    <button class=\"colab-df-generate\" onclick=\"generateWithVariable('crashes_df')\"\n",
              "            title=\"Generate code using this dataframe.\"\n",
              "            style=\"display:none;\">\n",
              "\n",
              "  <svg xmlns=\"http://www.w3.org/2000/svg\" height=\"24px\"viewBox=\"0 0 24 24\"\n",
              "       width=\"24px\">\n",
              "    <path d=\"M7,19H8.4L18.45,9,17,7.55,7,17.6ZM5,21V16.75L18.45,3.32a2,2,0,0,1,2.83,0l1.4,1.43a1.91,1.91,0,0,1,.58,1.4,1.91,1.91,0,0,1-.58,1.4L9.25,21ZM18.45,9,17,7.55Zm-12,3A5.31,5.31,0,0,0,4.9,8.1,5.31,5.31,0,0,0,1,6.5,5.31,5.31,0,0,0,4.9,4.9,5.31,5.31,0,0,0,6.5,1,5.31,5.31,0,0,0,8.1,4.9,5.31,5.31,0,0,0,12,6.5,5.46,5.46,0,0,0,6.5,12Z\"/>\n",
              "  </svg>\n",
              "    </button>\n",
              "    <script>\n",
              "      (() => {\n",
              "      const buttonEl =\n",
              "        document.querySelector('#id_ec2c530a-82ea-4841-aeb6-bec45001ed37 button.colab-df-generate');\n",
              "      buttonEl.style.display =\n",
              "        google.colab.kernel.accessAllowed ? 'block' : 'none';\n",
              "\n",
              "      buttonEl.onclick = () => {\n",
              "        google.colab.notebook.generateWithVariable('crashes_df');\n",
              "      }\n",
              "      })();\n",
              "    </script>\n",
              "  </div>\n",
              "\n",
              "    </div>\n",
              "  </div>\n"
            ],
            "application/vnd.google.colaboratory.intrinsic+json": {
              "type": "dataframe",
              "variable_name": "crashes_df"
            }
          },
          "metadata": {},
          "execution_count": 6
        }
      ]
    },
    {
      "cell_type": "code",
      "source": [
        "#crashes_df = pd.read_csv('/content/drive/MyDrive/CPD_traffic_crashes-crashes-20240501.csv')\n",
        "#crashes_df.head(3)"
      ],
      "metadata": {
        "id": "rbsmCwFv_RQC"
      },
      "id": "rbsmCwFv_RQC",
      "execution_count": 7,
      "outputs": []
    },
    {
      "cell_type": "code",
      "source": [
        "crashes_df.info()"
      ],
      "metadata": {
        "id": "Qw0yYAHwHToP",
        "outputId": "216bb08c-838c-474b-f40b-031fd7af8ec3",
        "colab": {
          "base_uri": "https://localhost:8080/"
        }
      },
      "id": "Qw0yYAHwHToP",
      "execution_count": 8,
      "outputs": [
        {
          "output_type": "stream",
          "name": "stdout",
          "text": [
            "<class 'pandas.core.frame.DataFrame'>\n",
            "RangeIndex: 828511 entries, 0 to 828510\n",
            "Data columns (total 48 columns):\n",
            " #   Column                         Non-Null Count   Dtype  \n",
            "---  ------                         --------------   -----  \n",
            " 0   CRASH_RECORD_ID                828511 non-null  object \n",
            " 1   CRASH_DATE_EST_I               61842 non-null   object \n",
            " 2   CRASH_DATE                     828511 non-null  object \n",
            " 3   POSTED_SPEED_LIMIT             828511 non-null  int64  \n",
            " 4   TRAFFIC_CONTROL_DEVICE         828511 non-null  object \n",
            " 5   DEVICE_CONDITION               828511 non-null  object \n",
            " 6   WEATHER_CONDITION              828511 non-null  object \n",
            " 7   LIGHTING_CONDITION             828511 non-null  object \n",
            " 8   FIRST_CRASH_TYPE               828511 non-null  object \n",
            " 9   TRAFFICWAY_TYPE                828511 non-null  object \n",
            " 10  LANE_CNT                       199011 non-null  float64\n",
            " 11  ALIGNMENT                      828511 non-null  object \n",
            " 12  ROADWAY_SURFACE_COND           828511 non-null  object \n",
            " 13  ROAD_DEFECT                    828511 non-null  object \n",
            " 14  REPORT_TYPE                    803705 non-null  object \n",
            " 15  CRASH_TYPE                     828511 non-null  object \n",
            " 16  INTERSECTION_RELATED_I         189976 non-null  object \n",
            " 17  NOT_RIGHT_OF_WAY_I             38167 non-null   object \n",
            " 18  HIT_AND_RUN_I                  259413 non-null  object \n",
            " 19  DAMAGE                         828511 non-null  object \n",
            " 20  DATE_POLICE_NOTIFIED           828511 non-null  object \n",
            " 21  PRIM_CONTRIBUTORY_CAUSE        828511 non-null  object \n",
            " 22  SEC_CONTRIBUTORY_CAUSE         828511 non-null  object \n",
            " 23  STREET_NO                      828511 non-null  int64  \n",
            " 24  STREET_DIRECTION               828507 non-null  object \n",
            " 25  STREET_NAME                    828510 non-null  object \n",
            " 26  BEAT_OF_OCCURRENCE             828506 non-null  float64\n",
            " 27  PHOTOS_TAKEN_I                 10972 non-null   object \n",
            " 28  STATEMENTS_TAKEN_I             18613 non-null   object \n",
            " 29  DOORING_I                      2547 non-null    object \n",
            " 30  WORK_ZONE_I                    4715 non-null    object \n",
            " 31  WORK_ZONE_TYPE                 3641 non-null    object \n",
            " 32  WORKERS_PRESENT_I              1208 non-null    object \n",
            " 33  NUM_UNITS                      828511 non-null  int64  \n",
            " 34  MOST_SEVERE_INJURY             826689 non-null  object \n",
            " 35  INJURIES_TOTAL                 826702 non-null  float64\n",
            " 36  INJURIES_FATAL                 826702 non-null  float64\n",
            " 37  INJURIES_INCAPACITATING        826702 non-null  float64\n",
            " 38  INJURIES_NON_INCAPACITATING    826702 non-null  float64\n",
            " 39  INJURIES_REPORTED_NOT_EVIDENT  826702 non-null  float64\n",
            " 40  INJURIES_NO_INDICATION         826702 non-null  float64\n",
            " 41  INJURIES_UNKNOWN               826702 non-null  float64\n",
            " 42  CRASH_HOUR                     828511 non-null  int64  \n",
            " 43  CRASH_DAY_OF_WEEK              828511 non-null  int64  \n",
            " 44  CRASH_MONTH                    828511 non-null  int64  \n",
            " 45  LATITUDE                       822769 non-null  float64\n",
            " 46  LONGITUDE                      822769 non-null  float64\n",
            " 47  LOCATION                       822769 non-null  object \n",
            "dtypes: float64(11), int64(6), object(31)\n",
            "memory usage: 303.4+ MB\n"
          ]
        }
      ]
    },
    {
      "cell_type": "markdown",
      "source": [
        "Keeping the project's prompt in mind, it looks like 'PRIM_CONTRIBUTORY_CAUSE' is our main target column.\n",
        "\n",
        "As far as feature engineering goes, there are several different already-ohe'd categorical injury columns, maybe you add up all the ones with fatalities and bad injuries or something.\n",
        "\n",
        "Next would be getting a feel for the column values where the data description isn't already obvious."
      ],
      "metadata": {
        "id": "1OA9yeFMJSlR"
      },
      "id": "1OA9yeFMJSlR"
    },
    {
      "cell_type": "code",
      "source": [
        "crashes_df['PRIM_CONTRIBUTORY_CAUSE'].value_counts()"
      ],
      "metadata": {
        "id": "qjBht5JjHVLE",
        "outputId": "009fc509-4096-4ff0-bce3-20dfbddd4097",
        "colab": {
          "base_uri": "https://localhost:8080/"
        }
      },
      "id": "qjBht5JjHVLE",
      "execution_count": 9,
      "outputs": [
        {
          "output_type": "execute_result",
          "data": {
            "text/plain": [
              "PRIM_CONTRIBUTORY_CAUSE\n",
              "UNABLE TO DETERMINE                                                                 322717\n",
              "FAILING TO YIELD RIGHT-OF-WAY                                                        91120\n",
              "FOLLOWING TOO CLOSELY                                                                80452\n",
              "NOT APPLICABLE                                                                       43885\n",
              "IMPROPER OVERTAKING/PASSING                                                          40874\n",
              "FAILING TO REDUCE SPEED TO AVOID CRASH                                               34961\n",
              "IMPROPER BACKING                                                                     32492\n",
              "IMPROPER LANE USAGE                                                                  29635\n",
              "DRIVING SKILLS/KNOWLEDGE/EXPERIENCE                                                  27817\n",
              "IMPROPER TURNING/NO SIGNAL                                                           27539\n",
              "DISREGARDING TRAFFIC SIGNALS                                                         16169\n",
              "WEATHER                                                                              12496\n",
              "OPERATING VEHICLE IN ERRATIC, RECKLESS, CARELESS, NEGLIGENT OR AGGRESSIVE MANNER     10542\n",
              "DISREGARDING STOP SIGN                                                                8946\n",
              "DISTRACTION - FROM INSIDE VEHICLE                                                     5660\n",
              "EQUIPMENT - VEHICLE CONDITION                                                         5141\n",
              "PHYSICAL CONDITION OF DRIVER                                                          4904\n",
              "VISION OBSCURED (SIGNS, TREE LIMBS, BUILDINGS, ETC.)                                  4713\n",
              "DRIVING ON WRONG SIDE/WRONG WAY                                                       4446\n",
              "UNDER THE INFLUENCE OF ALCOHOL/DRUGS (USE WHEN ARREST IS EFFECTED)                    3905\n",
              "DISTRACTION - FROM OUTSIDE VEHICLE                                                    3379\n",
              "ROAD ENGINEERING/SURFACE/MARKING DEFECTS                                              2020\n",
              "EXCEEDING AUTHORIZED SPEED LIMIT                                                      1982\n",
              "DISREGARDING OTHER TRAFFIC SIGNS                                                      1784\n",
              "ROAD CONSTRUCTION/MAINTENANCE                                                         1753\n",
              "EXCEEDING SAFE SPEED FOR CONDITIONS                                                   1684\n",
              "EVASIVE ACTION DUE TO ANIMAL, OBJECT, NONMOTORIST                                     1519\n",
              "CELL PHONE USE OTHER THAN TEXTING                                                     1094\n",
              "DISREGARDING ROAD MARKINGS                                                            1004\n",
              "HAD BEEN DRINKING (USE WHEN ARREST IS NOT MADE)                                        848\n",
              "ANIMAL                                                                                 706\n",
              "TURNING RIGHT ON RED                                                                   631\n",
              "RELATED TO BUS STOP                                                                    412\n",
              "DISTRACTION - OTHER ELECTRONIC DEVICE (NAVIGATION DEVICE, DVD PLAYER, ETC.)            396\n",
              "TEXTING                                                                                317\n",
              "DISREGARDING YIELD SIGN                                                                271\n",
              "PASSING STOPPED SCHOOL BUS                                                             101\n",
              "OBSTRUCTED CROSSWALKS                                                                   92\n",
              "BICYCLE ADVANCING LEGALLY ON RED LIGHT                                                  81\n",
              "MOTORCYCLE ADVANCING LEGALLY ON RED LIGHT                                               23\n",
              "Name: count, dtype: int64"
            ]
          },
          "metadata": {},
          "execution_count": 9
        }
      ]
    },
    {
      "cell_type": "code",
      "source": [
        "len(crashes_df['PRIM_CONTRIBUTORY_CAUSE'].value_counts())"
      ],
      "metadata": {
        "id": "PLjE8OjPIIBR",
        "outputId": "9ee3e69c-89b8-4991-f4b3-e5cbc5912f83",
        "colab": {
          "base_uri": "https://localhost:8080/"
        }
      },
      "id": "PLjE8OjPIIBR",
      "execution_count": 10,
      "outputs": [
        {
          "output_type": "execute_result",
          "data": {
            "text/plain": [
              "40"
            ]
          },
          "metadata": {},
          "execution_count": 10
        }
      ]
    },
    {
      "cell_type": "markdown",
      "source": [
        "40 classes?!? Some of them occured fewer than 100 times! I guess I'd have to drop the 'UNABLE TO DETERMINE' and 'NOT APPLICABLE' rows. Then, I think I'd need to group the remaining 38 classes together somehow.\n",
        "\n",
        "I'll work on that off-and-on while I continue to check out the remaining features in this crashes DataFrame. Let's start with 'TRAFFIC_CONTROL_DEVICE':"
      ],
      "metadata": {
        "id": "rgyatoZ2ILmC"
      },
      "id": "rgyatoZ2ILmC"
    },
    {
      "cell_type": "code",
      "source": [
        "crashes_df['TRAFFIC_CONTROL_DEVICE'].value_counts()"
      ],
      "metadata": {
        "id": "V5XEtuwfIyW7",
        "outputId": "b66ef519-e361-4e86-b00d-3e8e380984d2",
        "colab": {
          "base_uri": "https://localhost:8080/"
        }
      },
      "id": "V5XEtuwfIyW7",
      "execution_count": 11,
      "outputs": [
        {
          "output_type": "execute_result",
          "data": {
            "text/plain": [
              "TRAFFIC_CONTROL_DEVICE\n",
              "NO CONTROLS                 470741\n",
              "TRAFFIC SIGNAL              229645\n",
              "STOP SIGN/FLASHER            82248\n",
              "UNKNOWN                      33447\n",
              "OTHER                         5623\n",
              "LANE USE MARKING              1226\n",
              "YIELD                         1218\n",
              "OTHER REG. SIGN                932\n",
              "OTHER WARNING SIGN             682\n",
              "RAILROAD CROSSING GATE         536\n",
              "PEDESTRIAN CROSSING SIGN       532\n",
              "FLASHING CONTROL SIGNAL        334\n",
              "DELINEATORS                    331\n",
              "SCHOOL ZONE                    315\n",
              "POLICE/FLAGMAN                 279\n",
              "OTHER RAILROAD CROSSING        182\n",
              "RR CROSSING SIGN               164\n",
              "NO PASSING                      51\n",
              "BICYCLE CROSSING SIGN           25\n",
              "Name: count, dtype: int64"
            ]
          },
          "metadata": {},
          "execution_count": 11
        }
      ]
    },
    {
      "cell_type": "markdown",
      "source": [
        "This feature seems to be almost enitrely made up of the classes 'no controls', 'traffic signal', 'stop sign/flasher', or 'unknown.' The rest are quite rare, relatively speaking. I think this could be a helpful column, but the distribution is really skewed, so in the interest of trimming features that may add more noise to our model when model interpretability is a priority, let's drop this one.\n",
        "\n",
        "Let's move on to the 'DEVICE_CONDITION' feature:"
      ],
      "metadata": {
        "id": "OTfsb_9PI602"
      },
      "id": "OTfsb_9PI602"
    },
    {
      "cell_type": "code",
      "source": [
        "crashes_df['DEVICE_CONDITION'].value_counts()"
      ],
      "metadata": {
        "id": "sCb__sc5JVy4",
        "outputId": "f6af23ea-f704-4e4e-ab7c-90fa46bd0677",
        "colab": {
          "base_uri": "https://localhost:8080/"
        }
      },
      "id": "sCb__sc5JVy4",
      "execution_count": 12,
      "outputs": [
        {
          "output_type": "execute_result",
          "data": {
            "text/plain": [
              "DEVICE_CONDITION\n",
              "NO CONTROLS                 476188\n",
              "FUNCTIONING PROPERLY        283564\n",
              "UNKNOWN                      55753\n",
              "OTHER                         6336\n",
              "FUNCTIONING IMPROPERLY        3890\n",
              "NOT FUNCTIONING               2397\n",
              "WORN REFLECTIVE MATERIAL       287\n",
              "MISSING                         96\n",
              "Name: count, dtype: int64"
            ]
          },
          "metadata": {},
          "execution_count": 12
        }
      ]
    },
    {
      "cell_type": "markdown",
      "source": [
        "I had to look it up, but 'NO CONTROLS' refers to a traffic control device that doesn't change like a light would, but rather is a permanent fixture like a sign or road markings. I guess it's not surprising that the vast majority are in this category and then another huge chunk are at intersections where the light was working properly. Note a decent amount of 'UNKNOWN' entries here. With only 3,890 functioning improperly compared to 759,752 either not having controls or working normally, I don't think this feature will be very helpful, so let's drop it.\n",
        "\n",
        "Next to check out is 'FIRST_CRASH_TYPE':"
      ],
      "metadata": {
        "id": "khfLFfrTSyX5"
      },
      "id": "khfLFfrTSyX5"
    },
    {
      "cell_type": "code",
      "source": [
        "crashes_df['FIRST_CRASH_TYPE'].value_counts()"
      ],
      "metadata": {
        "id": "YKxqLmCvSJCo",
        "outputId": "d97ff6a1-9813-41cf-b511-904cb34fe4de",
        "colab": {
          "base_uri": "https://localhost:8080/"
        }
      },
      "id": "YKxqLmCvSJCo",
      "execution_count": 13,
      "outputs": [
        {
          "output_type": "execute_result",
          "data": {
            "text/plain": [
              "FIRST_CRASH_TYPE\n",
              "PARKED MOTOR VEHICLE            192428\n",
              "REAR END                        184855\n",
              "SIDESWIPE SAME DIRECTION        126534\n",
              "TURNING                         118537\n",
              "ANGLE                            90173\n",
              "FIXED OBJECT                     38930\n",
              "PEDESTRIAN                       19330\n",
              "PEDALCYCLIST                     12448\n",
              "SIDESWIPE OPPOSITE DIRECTION     11666\n",
              "OTHER OBJECT                      8216\n",
              "REAR TO FRONT                     8094\n",
              "HEAD ON                           7061\n",
              "REAR TO SIDE                      4807\n",
              "OTHER NONCOLLISION                2606\n",
              "REAR TO REAR                      1676\n",
              "ANIMAL                             596\n",
              "OVERTURNED                         508\n",
              "TRAIN                               46\n",
              "Name: count, dtype: int64"
            ]
          },
          "metadata": {},
          "execution_count": 13
        }
      ]
    },
    {
      "cell_type": "markdown",
      "source": [
        "I can't help but wonder whether this is a good *predictor* for an accident's primary cause when it describes the instance of the accident, not what happens beforehand. It turns out that, later on, we'll find a better column for this in the vehicles DataFrame ('MANEUVER') that will describe the action that led to the accident, so let's drop this column in favor of that one.\n",
        "\n",
        "The following 'TRAFFICWAY_TYPE' column looks useful as well, but it has so many classes that, along with the other useful features we'll eventually find, it'll wind up adding a lot of noise to our data with the sparsity that will result once it's one-hot encoded."
      ],
      "metadata": {
        "id": "egCTPl9Ug91b"
      },
      "id": "egCTPl9Ug91b"
    },
    {
      "cell_type": "code",
      "source": [
        "crashes_df['TRAFFICWAY_TYPE'].value_counts()"
      ],
      "metadata": {
        "id": "vegUYih3UIHH",
        "outputId": "4aec369f-a01b-4a59-f007-55dabbe9cf8a",
        "colab": {
          "base_uri": "https://localhost:8080/"
        }
      },
      "id": "vegUYih3UIHH",
      "execution_count": 14,
      "outputs": [
        {
          "output_type": "execute_result",
          "data": {
            "text/plain": [
              "TRAFFICWAY_TYPE\n",
              "NOT DIVIDED                        359452\n",
              "DIVIDED - W/MEDIAN (NOT RAISED)    132085\n",
              "ONE-WAY                            105558\n",
              "PARKING LOT                         56368\n",
              "FOUR WAY                            53091\n",
              "DIVIDED - W/MEDIAN BARRIER          47287\n",
              "OTHER                               22646\n",
              "ALLEY                               13690\n",
              "T-INTERSECTION                      10660\n",
              "UNKNOWN                              9656\n",
              "CENTER TURN LANE                     5978\n",
              "DRIVEWAY                             2691\n",
              "RAMP                                 2595\n",
              "UNKNOWN INTERSECTION TYPE            2455\n",
              "Y-INTERSECTION                       1164\n",
              "FIVE POINT, OR MORE                  1161\n",
              "TRAFFIC ROUTE                         948\n",
              "NOT REPORTED                          592\n",
              "ROUNDABOUT                            262\n",
              "L-INTERSECTION                        172\n",
              "Name: count, dtype: int64"
            ]
          },
          "metadata": {},
          "execution_count": 14
        }
      ]
    },
    {
      "cell_type": "markdown",
      "source": [
        "'ALIGNMENT' has a distribution issue with the top class making up almost 98% of this feature, so it won't be too helpful."
      ],
      "metadata": {
        "id": "i20j4l8QRwnl"
      },
      "id": "i20j4l8QRwnl"
    },
    {
      "cell_type": "code",
      "source": [
        "crashes_df['ALIGNMENT'].value_counts()"
      ],
      "metadata": {
        "id": "y4vzuIXpGFbH",
        "outputId": "aa31f4b5-d15b-4d45-e734-8621a3ec28f1",
        "colab": {
          "base_uri": "https://localhost:8080/"
        }
      },
      "id": "y4vzuIXpGFbH",
      "execution_count": 15,
      "outputs": [
        {
          "output_type": "execute_result",
          "data": {
            "text/plain": [
              "ALIGNMENT\n",
              "STRAIGHT AND LEVEL       808482\n",
              "STRAIGHT ON GRADE         10279\n",
              "CURVE, LEVEL               5971\n",
              "STRAIGHT ON HILLCREST      2169\n",
              "CURVE ON GRADE             1243\n",
              "CURVE ON HILLCREST          367\n",
              "Name: count, dtype: int64"
            ]
          },
          "metadata": {},
          "execution_count": 15
        }
      ]
    },
    {
      "cell_type": "markdown",
      "source": [
        "'CRASH_TYPE' would make for a helpful target column if we were interested in less serious versus more serious accidents, but we're looking into the cause of *all* accidents and this column ultimately describes the aftermath, not the cause, so we'll drop for this particular use case."
      ],
      "metadata": {
        "id": "DmuIHiFj2NRW"
      },
      "id": "DmuIHiFj2NRW"
    },
    {
      "cell_type": "code",
      "source": [
        "crashes_df['CRASH_TYPE'].value_counts()"
      ],
      "metadata": {
        "id": "opqJOWjx2Oln",
        "outputId": "b685a1df-dc75-4877-b18d-c970584db84a",
        "colab": {
          "base_uri": "https://localhost:8080/"
        }
      },
      "id": "opqJOWjx2Oln",
      "execution_count": 16,
      "outputs": [
        {
          "output_type": "execute_result",
          "data": {
            "text/plain": [
              "CRASH_TYPE\n",
              "NO INJURY / DRIVE AWAY              607050\n",
              "INJURY AND / OR TOW DUE TO CRASH    221461\n",
              "Name: count, dtype: int64"
            ]
          },
          "metadata": {},
          "execution_count": 16
        }
      ]
    },
    {
      "cell_type": "markdown",
      "source": [
        "The following column covers whether a right-of-way violation occured, but that's in our target variable, so we should eliminate this one."
      ],
      "metadata": {
        "id": "2SZPvxwzSIVp"
      },
      "id": "2SZPvxwzSIVp"
    },
    {
      "cell_type": "code",
      "source": [
        "crashes_df['NOT_RIGHT_OF_WAY_I'].value_counts()"
      ],
      "metadata": {
        "id": "4vwKURCWUw_m",
        "outputId": "3a647cd2-81f6-428b-d487-a37f2c07fc35",
        "colab": {
          "base_uri": "https://localhost:8080/"
        }
      },
      "id": "4vwKURCWUw_m",
      "execution_count": 17,
      "outputs": [
        {
          "output_type": "execute_result",
          "data": {
            "text/plain": [
              "NOT_RIGHT_OF_WAY_I\n",
              "Y    34674\n",
              "N     3493\n",
              "Name: count, dtype: int64"
            ]
          },
          "metadata": {},
          "execution_count": 17
        }
      ]
    },
    {
      "cell_type": "markdown",
      "source": [
        "The 'DAMAGE' column refers to the aftermath, not the cause, so this can be dropped."
      ],
      "metadata": {
        "id": "kugH1B3aSjLI"
      },
      "id": "kugH1B3aSjLI"
    },
    {
      "cell_type": "code",
      "source": [
        "crashes_df['DAMAGE'].value_counts()"
      ],
      "metadata": {
        "id": "7ypMRIFrVDzY",
        "outputId": "42a798a4-f5e9-40eb-ef8d-da63b73d4475",
        "colab": {
          "base_uri": "https://localhost:8080/"
        }
      },
      "id": "7ypMRIFrVDzY",
      "execution_count": 18,
      "outputs": [
        {
          "output_type": "execute_result",
          "data": {
            "text/plain": [
              "DAMAGE\n",
              "OVER $1,500      515387\n",
              "$501 - $1,500    218754\n",
              "$500 OR LESS      94370\n",
              "Name: count, dtype: int64"
            ]
          },
          "metadata": {},
          "execution_count": 18
        }
      ]
    },
    {
      "cell_type": "markdown",
      "source": [
        "These 'BEAT_OF_OCCURANCE' classes are categorical even if they're listed here as numbers. Subsequently, they would need to be one-hot encoded, and there are just far too many of them for that, so we'll have to drop this column as well."
      ],
      "metadata": {
        "id": "ub0dMNmQSqLA"
      },
      "id": "ub0dMNmQSqLA"
    },
    {
      "cell_type": "code",
      "source": [
        "crashes_df['BEAT_OF_OCCURRENCE'].value_counts()"
      ],
      "metadata": {
        "id": "ebkJa933vK08",
        "outputId": "1e8c80dd-1059-47c9-baf0-547cd1354ec5",
        "colab": {
          "base_uri": "https://localhost:8080/"
        }
      },
      "id": "ebkJa933vK08",
      "execution_count": 19,
      "outputs": [
        {
          "output_type": "execute_result",
          "data": {
            "text/plain": [
              "BEAT_OF_OCCURRENCE\n",
              "1834.0    10067\n",
              "114.0      8490\n",
              "813.0      8332\n",
              "815.0      7899\n",
              "1831.0     7678\n",
              "          ...  \n",
              "1653.0      430\n",
              "1655.0      260\n",
              "1652.0      200\n",
              "1650.0       69\n",
              "6100.0        4\n",
              "Name: count, Length: 276, dtype: int64"
            ]
          },
          "metadata": {},
          "execution_count": 19
        }
      ]
    },
    {
      "cell_type": "markdown",
      "source": [
        "Now that I have a sense of what all these columns mean, it's time to consider which should be eliminated to help reduce dimensionality. This is especially important since so many of these columns will have to be one-hot encoded.\n",
        "\n",
        "Since the goal of this project is to predict the *primary cause* of an accident, we might consider dropping those columns that inherently have nothing to do with a potential cause (such as 'DATE_POLICE_NOTIFIED', 'STREET NO', 'STREET NAME', 'PHOTOS TAKEN', 'STATEMENTS TAKEN', 'REPORT_TYPE') and/or only pertain to the effect (all the damage, injury, and fatality columns). We can also drop the 'SEC_CONTRIBUTORY_CAUSE' or we'll probably have a lot of multicollinearity issues.\n",
        "\n",
        "There are a few redundant columns for our specific use case. 'LOCATION' just puts the latitude & longitude columns together. Since those two columns will provide location data *and* 'BEAT_OF_OCCURRENCE' has 276 categorical values, let's eliminate the beat column as well. Also, 'CRASH_DATE_EST_I' and 'CRASH_DATE' are broken down later via 'CRASH_HOUR', 'CRASH_DAY_OF_WEEK', and 'CRASH_MONTH'.\n",
        "\n",
        "Finally, some columns are woefully empty; 'LANE_CNT', 'INTERSECTION_RELATED_I', 'NOT_RIGHT_OF_WAY_I', 'HIT_AND_RUN_I', 'DOORING_I', and all the work zone columns only have somewhere between 68.7-99% empty, which is grounds for dropping.\n",
        "\n",
        "I'll keep 'CRASH_RECORD_ID' for now so I can join the 'people' & 'vehicles' tables later."
      ],
      "metadata": {
        "id": "Au-dpN5DqNdZ"
      },
      "id": "Au-dpN5DqNdZ"
    },
    {
      "cell_type": "code",
      "source": [
        "crashes_columns_to_drop = ['CRASH_DATE', 'CRASH_DATE_EST_I', 'DEVICE_CONDITION', 'FIRST_CRASH_TYPE', 'CRASH_TYPE',\n",
        "                           'REPORT_TYPE', 'DAMAGE', 'DATE_POLICE_NOTIFIED', 'SEC_CONTRIBUTORY_CAUSE',\n",
        "                           'TRAFFIC_CONTROL_DEVICE', 'STREET_NO', 'STREET_NAME', 'BEAT_OF_OCCURRENCE', 'PHOTOS_TAKEN_I',\n",
        "                           'STATEMENTS_TAKEN_I', 'MOST_SEVERE_INJURY', 'INJURIES_TOTAL', 'INJURIES_FATAL',\n",
        "                           'INJURIES_INCAPACITATING', 'INJURIES_NON_INCAPACITATING', 'INJURIES_REPORTED_NOT_EVIDENT',\n",
        "                           'INJURIES_NO_INDICATION', 'INJURIES_UNKNOWN', 'LOCATION', 'LANE_CNT', 'ALIGNMENT',\n",
        "                           'INTERSECTION_RELATED_I', 'NOT_RIGHT_OF_WAY_I', 'HIT_AND_RUN_I', 'DOORING_I',\n",
        "                           'WORK_ZONE_I', 'WORK_ZONE_TYPE', 'WORKERS_PRESENT_I', 'TRAFFICWAY_TYPE']"
      ],
      "metadata": {
        "id": "21hfJgr9p3LA"
      },
      "id": "21hfJgr9p3LA",
      "execution_count": 20,
      "outputs": []
    },
    {
      "cell_type": "code",
      "source": [
        "crashes_df_refined = crashes_df.drop(crashes_columns_to_drop, axis=1)\n",
        "crashes_df_refined.info()"
      ],
      "metadata": {
        "id": "0UQQbtfEvlxG",
        "outputId": "d0fa28c4-c1b6-41f0-acf6-ad9301a91030",
        "colab": {
          "base_uri": "https://localhost:8080/"
        }
      },
      "id": "0UQQbtfEvlxG",
      "execution_count": 21,
      "outputs": [
        {
          "output_type": "stream",
          "name": "stdout",
          "text": [
            "<class 'pandas.core.frame.DataFrame'>\n",
            "RangeIndex: 828511 entries, 0 to 828510\n",
            "Data columns (total 14 columns):\n",
            " #   Column                   Non-Null Count   Dtype  \n",
            "---  ------                   --------------   -----  \n",
            " 0   CRASH_RECORD_ID          828511 non-null  object \n",
            " 1   POSTED_SPEED_LIMIT       828511 non-null  int64  \n",
            " 2   WEATHER_CONDITION        828511 non-null  object \n",
            " 3   LIGHTING_CONDITION       828511 non-null  object \n",
            " 4   ROADWAY_SURFACE_COND     828511 non-null  object \n",
            " 5   ROAD_DEFECT              828511 non-null  object \n",
            " 6   PRIM_CONTRIBUTORY_CAUSE  828511 non-null  object \n",
            " 7   STREET_DIRECTION         828507 non-null  object \n",
            " 8   NUM_UNITS                828511 non-null  int64  \n",
            " 9   CRASH_HOUR               828511 non-null  int64  \n",
            " 10  CRASH_DAY_OF_WEEK        828511 non-null  int64  \n",
            " 11  CRASH_MONTH              828511 non-null  int64  \n",
            " 12  LATITUDE                 822769 non-null  float64\n",
            " 13  LONGITUDE                822769 non-null  float64\n",
            "dtypes: float64(2), int64(5), object(7)\n",
            "memory usage: 88.5+ MB\n"
          ]
        }
      ]
    },
    {
      "cell_type": "markdown",
      "source": [
        "Now let's take care of the all the null values. The NaN's in 'LATITUDE' and 'LONGITUDE' amount to 0.007% and there are only four NaN's in 'STREET_DIRECTION' and wait, I should only do this once I join the other tables or we'll have missing record problems, so for now, let's one-hot encode the categorical columns.\n",
        "\n",
        "Since this is a large dataset, I'll use a train-test-split as my validation strategy. In order to prevent overfitting, I'll use some form of regularization (I'll try different kinds and use what works best). Subsequently, I will not need to drop any columns when using one-hot encoding because regularization will take care of any singularity issues among the categorical variables BUT nevermind, **I don't ohe until after the tts.**"
      ],
      "metadata": {
        "id": "AbDUdtgjxwLX"
      },
      "id": "AbDUdtgjxwLX"
    },
    {
      "cell_type": "code",
      "source": [
        "people_df = pd.read_csv('/content/CPD_traffic_crashes-people-20240501.csv')\n",
        "people_df.head(3)"
      ],
      "metadata": {
        "outputId": "566de103-f7a6-4a16-e085-7cdc2a99d05e",
        "colab": {
          "base_uri": "https://localhost:8080/",
          "height": 349
        },
        "id": "ARK7nA6hFxnZ"
      },
      "execution_count": 22,
      "outputs": [
        {
          "output_type": "stream",
          "name": "stderr",
          "text": [
            "<ipython-input-22-26241325ca0e>:1: DtypeWarning: Columns (19,23,24,25,28) have mixed types. Specify dtype option on import or set low_memory=False.\n",
            "  people_df = pd.read_csv('/content/CPD_traffic_crashes-people-20240501.csv')\n"
          ]
        },
        {
          "output_type": "execute_result",
          "data": {
            "text/plain": [
              "  PERSON_ID PERSON_TYPE                                    CRASH_RECORD_ID  \\\n",
              "0   O749947      DRIVER  81dc0de2ed92aa62baccab641fa377be7feb1cc47e6554...   \n",
              "1   O871921      DRIVER  af84fb5c8d996fcd3aefd36593c3a02e6e7509eeb27568...   \n",
              "2    O10018      DRIVER  71162af7bf22799b776547132ebf134b5b438dcf3dac6b...   \n",
              "\n",
              "   VEHICLE_ID              CRASH_DATE  SEAT_NO     CITY STATE ZIPCODE SEX  \\\n",
              "0    834816.0  09/28/2019 03:30:00 AM      NaN  CHICAGO    IL   60651   M   \n",
              "1    827212.0  04/13/2020 10:50:00 PM      NaN  CHICAGO    IL   60620   M   \n",
              "2      9579.0  11/01/2015 05:00:00 AM      NaN      NaN   NaN     NaN   X   \n",
              "\n",
              "   ...  EMS_RUN_NO     DRIVER_ACTION DRIVER_VISION PHYSICAL_CONDITION  \\\n",
              "0  ...         NaN           UNKNOWN       UNKNOWN            UNKNOWN   \n",
              "1  ...         NaN              NONE  NOT OBSCURED             NORMAL   \n",
              "2  ...         NaN  IMPROPER BACKING       UNKNOWN            UNKNOWN   \n",
              "\n",
              "  PEDPEDAL_ACTION PEDPEDAL_VISIBILITY PEDPEDAL_LOCATION        BAC_RESULT  \\\n",
              "0             NaN                 NaN               NaN  TEST NOT OFFERED   \n",
              "1             NaN                 NaN               NaN  TEST NOT OFFERED   \n",
              "2             NaN                 NaN               NaN  TEST NOT OFFERED   \n",
              "\n",
              "  BAC_RESULT VALUE CELL_PHONE_USE  \n",
              "0              NaN            NaN  \n",
              "1              NaN            NaN  \n",
              "2              NaN            NaN  \n",
              "\n",
              "[3 rows x 29 columns]"
            ],
            "text/html": [
              "\n",
              "  <div id=\"df-5f624517-b64f-4db5-8d94-f0af509fb782\" class=\"colab-df-container\">\n",
              "    <div>\n",
              "<style scoped>\n",
              "    .dataframe tbody tr th:only-of-type {\n",
              "        vertical-align: middle;\n",
              "    }\n",
              "\n",
              "    .dataframe tbody tr th {\n",
              "        vertical-align: top;\n",
              "    }\n",
              "\n",
              "    .dataframe thead th {\n",
              "        text-align: right;\n",
              "    }\n",
              "</style>\n",
              "<table border=\"1\" class=\"dataframe\">\n",
              "  <thead>\n",
              "    <tr style=\"text-align: right;\">\n",
              "      <th></th>\n",
              "      <th>PERSON_ID</th>\n",
              "      <th>PERSON_TYPE</th>\n",
              "      <th>CRASH_RECORD_ID</th>\n",
              "      <th>VEHICLE_ID</th>\n",
              "      <th>CRASH_DATE</th>\n",
              "      <th>SEAT_NO</th>\n",
              "      <th>CITY</th>\n",
              "      <th>STATE</th>\n",
              "      <th>ZIPCODE</th>\n",
              "      <th>SEX</th>\n",
              "      <th>...</th>\n",
              "      <th>EMS_RUN_NO</th>\n",
              "      <th>DRIVER_ACTION</th>\n",
              "      <th>DRIVER_VISION</th>\n",
              "      <th>PHYSICAL_CONDITION</th>\n",
              "      <th>PEDPEDAL_ACTION</th>\n",
              "      <th>PEDPEDAL_VISIBILITY</th>\n",
              "      <th>PEDPEDAL_LOCATION</th>\n",
              "      <th>BAC_RESULT</th>\n",
              "      <th>BAC_RESULT VALUE</th>\n",
              "      <th>CELL_PHONE_USE</th>\n",
              "    </tr>\n",
              "  </thead>\n",
              "  <tbody>\n",
              "    <tr>\n",
              "      <th>0</th>\n",
              "      <td>O749947</td>\n",
              "      <td>DRIVER</td>\n",
              "      <td>81dc0de2ed92aa62baccab641fa377be7feb1cc47e6554...</td>\n",
              "      <td>834816.0</td>\n",
              "      <td>09/28/2019 03:30:00 AM</td>\n",
              "      <td>NaN</td>\n",
              "      <td>CHICAGO</td>\n",
              "      <td>IL</td>\n",
              "      <td>60651</td>\n",
              "      <td>M</td>\n",
              "      <td>...</td>\n",
              "      <td>NaN</td>\n",
              "      <td>UNKNOWN</td>\n",
              "      <td>UNKNOWN</td>\n",
              "      <td>UNKNOWN</td>\n",
              "      <td>NaN</td>\n",
              "      <td>NaN</td>\n",
              "      <td>NaN</td>\n",
              "      <td>TEST NOT OFFERED</td>\n",
              "      <td>NaN</td>\n",
              "      <td>NaN</td>\n",
              "    </tr>\n",
              "    <tr>\n",
              "      <th>1</th>\n",
              "      <td>O871921</td>\n",
              "      <td>DRIVER</td>\n",
              "      <td>af84fb5c8d996fcd3aefd36593c3a02e6e7509eeb27568...</td>\n",
              "      <td>827212.0</td>\n",
              "      <td>04/13/2020 10:50:00 PM</td>\n",
              "      <td>NaN</td>\n",
              "      <td>CHICAGO</td>\n",
              "      <td>IL</td>\n",
              "      <td>60620</td>\n",
              "      <td>M</td>\n",
              "      <td>...</td>\n",
              "      <td>NaN</td>\n",
              "      <td>NONE</td>\n",
              "      <td>NOT OBSCURED</td>\n",
              "      <td>NORMAL</td>\n",
              "      <td>NaN</td>\n",
              "      <td>NaN</td>\n",
              "      <td>NaN</td>\n",
              "      <td>TEST NOT OFFERED</td>\n",
              "      <td>NaN</td>\n",
              "      <td>NaN</td>\n",
              "    </tr>\n",
              "    <tr>\n",
              "      <th>2</th>\n",
              "      <td>O10018</td>\n",
              "      <td>DRIVER</td>\n",
              "      <td>71162af7bf22799b776547132ebf134b5b438dcf3dac6b...</td>\n",
              "      <td>9579.0</td>\n",
              "      <td>11/01/2015 05:00:00 AM</td>\n",
              "      <td>NaN</td>\n",
              "      <td>NaN</td>\n",
              "      <td>NaN</td>\n",
              "      <td>NaN</td>\n",
              "      <td>X</td>\n",
              "      <td>...</td>\n",
              "      <td>NaN</td>\n",
              "      <td>IMPROPER BACKING</td>\n",
              "      <td>UNKNOWN</td>\n",
              "      <td>UNKNOWN</td>\n",
              "      <td>NaN</td>\n",
              "      <td>NaN</td>\n",
              "      <td>NaN</td>\n",
              "      <td>TEST NOT OFFERED</td>\n",
              "      <td>NaN</td>\n",
              "      <td>NaN</td>\n",
              "    </tr>\n",
              "  </tbody>\n",
              "</table>\n",
              "<p>3 rows × 29 columns</p>\n",
              "</div>\n",
              "    <div class=\"colab-df-buttons\">\n",
              "\n",
              "  <div class=\"colab-df-container\">\n",
              "    <button class=\"colab-df-convert\" onclick=\"convertToInteractive('df-5f624517-b64f-4db5-8d94-f0af509fb782')\"\n",
              "            title=\"Convert this dataframe to an interactive table.\"\n",
              "            style=\"display:none;\">\n",
              "\n",
              "  <svg xmlns=\"http://www.w3.org/2000/svg\" height=\"24px\" viewBox=\"0 -960 960 960\">\n",
              "    <path d=\"M120-120v-720h720v720H120Zm60-500h600v-160H180v160Zm220 220h160v-160H400v160Zm0 220h160v-160H400v160ZM180-400h160v-160H180v160Zm440 0h160v-160H620v160ZM180-180h160v-160H180v160Zm440 0h160v-160H620v160Z\"/>\n",
              "  </svg>\n",
              "    </button>\n",
              "\n",
              "  <style>\n",
              "    .colab-df-container {\n",
              "      display:flex;\n",
              "      gap: 12px;\n",
              "    }\n",
              "\n",
              "    .colab-df-convert {\n",
              "      background-color: #E8F0FE;\n",
              "      border: none;\n",
              "      border-radius: 50%;\n",
              "      cursor: pointer;\n",
              "      display: none;\n",
              "      fill: #1967D2;\n",
              "      height: 32px;\n",
              "      padding: 0 0 0 0;\n",
              "      width: 32px;\n",
              "    }\n",
              "\n",
              "    .colab-df-convert:hover {\n",
              "      background-color: #E2EBFA;\n",
              "      box-shadow: 0px 1px 2px rgba(60, 64, 67, 0.3), 0px 1px 3px 1px rgba(60, 64, 67, 0.15);\n",
              "      fill: #174EA6;\n",
              "    }\n",
              "\n",
              "    .colab-df-buttons div {\n",
              "      margin-bottom: 4px;\n",
              "    }\n",
              "\n",
              "    [theme=dark] .colab-df-convert {\n",
              "      background-color: #3B4455;\n",
              "      fill: #D2E3FC;\n",
              "    }\n",
              "\n",
              "    [theme=dark] .colab-df-convert:hover {\n",
              "      background-color: #434B5C;\n",
              "      box-shadow: 0px 1px 3px 1px rgba(0, 0, 0, 0.15);\n",
              "      filter: drop-shadow(0px 1px 2px rgba(0, 0, 0, 0.3));\n",
              "      fill: #FFFFFF;\n",
              "    }\n",
              "  </style>\n",
              "\n",
              "    <script>\n",
              "      const buttonEl =\n",
              "        document.querySelector('#df-5f624517-b64f-4db5-8d94-f0af509fb782 button.colab-df-convert');\n",
              "      buttonEl.style.display =\n",
              "        google.colab.kernel.accessAllowed ? 'block' : 'none';\n",
              "\n",
              "      async function convertToInteractive(key) {\n",
              "        const element = document.querySelector('#df-5f624517-b64f-4db5-8d94-f0af509fb782');\n",
              "        const dataTable =\n",
              "          await google.colab.kernel.invokeFunction('convertToInteractive',\n",
              "                                                    [key], {});\n",
              "        if (!dataTable) return;\n",
              "\n",
              "        const docLinkHtml = 'Like what you see? Visit the ' +\n",
              "          '<a target=\"_blank\" href=https://colab.research.google.com/notebooks/data_table.ipynb>data table notebook</a>'\n",
              "          + ' to learn more about interactive tables.';\n",
              "        element.innerHTML = '';\n",
              "        dataTable['output_type'] = 'display_data';\n",
              "        await google.colab.output.renderOutput(dataTable, element);\n",
              "        const docLink = document.createElement('div');\n",
              "        docLink.innerHTML = docLinkHtml;\n",
              "        element.appendChild(docLink);\n",
              "      }\n",
              "    </script>\n",
              "  </div>\n",
              "\n",
              "\n",
              "<div id=\"df-be3608b6-83f1-4b66-9203-405151e2ee9a\">\n",
              "  <button class=\"colab-df-quickchart\" onclick=\"quickchart('df-be3608b6-83f1-4b66-9203-405151e2ee9a')\"\n",
              "            title=\"Suggest charts\"\n",
              "            style=\"display:none;\">\n",
              "\n",
              "<svg xmlns=\"http://www.w3.org/2000/svg\" height=\"24px\"viewBox=\"0 0 24 24\"\n",
              "     width=\"24px\">\n",
              "    <g>\n",
              "        <path d=\"M19 3H5c-1.1 0-2 .9-2 2v14c0 1.1.9 2 2 2h14c1.1 0 2-.9 2-2V5c0-1.1-.9-2-2-2zM9 17H7v-7h2v7zm4 0h-2V7h2v10zm4 0h-2v-4h2v4z\"/>\n",
              "    </g>\n",
              "</svg>\n",
              "  </button>\n",
              "\n",
              "<style>\n",
              "  .colab-df-quickchart {\n",
              "      --bg-color: #E8F0FE;\n",
              "      --fill-color: #1967D2;\n",
              "      --hover-bg-color: #E2EBFA;\n",
              "      --hover-fill-color: #174EA6;\n",
              "      --disabled-fill-color: #AAA;\n",
              "      --disabled-bg-color: #DDD;\n",
              "  }\n",
              "\n",
              "  [theme=dark] .colab-df-quickchart {\n",
              "      --bg-color: #3B4455;\n",
              "      --fill-color: #D2E3FC;\n",
              "      --hover-bg-color: #434B5C;\n",
              "      --hover-fill-color: #FFFFFF;\n",
              "      --disabled-bg-color: #3B4455;\n",
              "      --disabled-fill-color: #666;\n",
              "  }\n",
              "\n",
              "  .colab-df-quickchart {\n",
              "    background-color: var(--bg-color);\n",
              "    border: none;\n",
              "    border-radius: 50%;\n",
              "    cursor: pointer;\n",
              "    display: none;\n",
              "    fill: var(--fill-color);\n",
              "    height: 32px;\n",
              "    padding: 0;\n",
              "    width: 32px;\n",
              "  }\n",
              "\n",
              "  .colab-df-quickchart:hover {\n",
              "    background-color: var(--hover-bg-color);\n",
              "    box-shadow: 0 1px 2px rgba(60, 64, 67, 0.3), 0 1px 3px 1px rgba(60, 64, 67, 0.15);\n",
              "    fill: var(--button-hover-fill-color);\n",
              "  }\n",
              "\n",
              "  .colab-df-quickchart-complete:disabled,\n",
              "  .colab-df-quickchart-complete:disabled:hover {\n",
              "    background-color: var(--disabled-bg-color);\n",
              "    fill: var(--disabled-fill-color);\n",
              "    box-shadow: none;\n",
              "  }\n",
              "\n",
              "  .colab-df-spinner {\n",
              "    border: 2px solid var(--fill-color);\n",
              "    border-color: transparent;\n",
              "    border-bottom-color: var(--fill-color);\n",
              "    animation:\n",
              "      spin 1s steps(1) infinite;\n",
              "  }\n",
              "\n",
              "  @keyframes spin {\n",
              "    0% {\n",
              "      border-color: transparent;\n",
              "      border-bottom-color: var(--fill-color);\n",
              "      border-left-color: var(--fill-color);\n",
              "    }\n",
              "    20% {\n",
              "      border-color: transparent;\n",
              "      border-left-color: var(--fill-color);\n",
              "      border-top-color: var(--fill-color);\n",
              "    }\n",
              "    30% {\n",
              "      border-color: transparent;\n",
              "      border-left-color: var(--fill-color);\n",
              "      border-top-color: var(--fill-color);\n",
              "      border-right-color: var(--fill-color);\n",
              "    }\n",
              "    40% {\n",
              "      border-color: transparent;\n",
              "      border-right-color: var(--fill-color);\n",
              "      border-top-color: var(--fill-color);\n",
              "    }\n",
              "    60% {\n",
              "      border-color: transparent;\n",
              "      border-right-color: var(--fill-color);\n",
              "    }\n",
              "    80% {\n",
              "      border-color: transparent;\n",
              "      border-right-color: var(--fill-color);\n",
              "      border-bottom-color: var(--fill-color);\n",
              "    }\n",
              "    90% {\n",
              "      border-color: transparent;\n",
              "      border-bottom-color: var(--fill-color);\n",
              "    }\n",
              "  }\n",
              "</style>\n",
              "\n",
              "  <script>\n",
              "    async function quickchart(key) {\n",
              "      const quickchartButtonEl =\n",
              "        document.querySelector('#' + key + ' button');\n",
              "      quickchartButtonEl.disabled = true;  // To prevent multiple clicks.\n",
              "      quickchartButtonEl.classList.add('colab-df-spinner');\n",
              "      try {\n",
              "        const charts = await google.colab.kernel.invokeFunction(\n",
              "            'suggestCharts', [key], {});\n",
              "      } catch (error) {\n",
              "        console.error('Error during call to suggestCharts:', error);\n",
              "      }\n",
              "      quickchartButtonEl.classList.remove('colab-df-spinner');\n",
              "      quickchartButtonEl.classList.add('colab-df-quickchart-complete');\n",
              "    }\n",
              "    (() => {\n",
              "      let quickchartButtonEl =\n",
              "        document.querySelector('#df-be3608b6-83f1-4b66-9203-405151e2ee9a button');\n",
              "      quickchartButtonEl.style.display =\n",
              "        google.colab.kernel.accessAllowed ? 'block' : 'none';\n",
              "    })();\n",
              "  </script>\n",
              "</div>\n",
              "\n",
              "    </div>\n",
              "  </div>\n"
            ],
            "application/vnd.google.colaboratory.intrinsic+json": {
              "type": "dataframe",
              "variable_name": "people_df"
            }
          },
          "metadata": {},
          "execution_count": 22
        }
      ],
      "id": "ARK7nA6hFxnZ"
    },
    {
      "cell_type": "code",
      "source": [
        "people_df.info()"
      ],
      "metadata": {
        "id": "wLuvzuHEF8VA",
        "outputId": "6822dfa0-b5a3-44d1-a0a1-e511c49566c5",
        "colab": {
          "base_uri": "https://localhost:8080/"
        }
      },
      "id": "wLuvzuHEF8VA",
      "execution_count": 23,
      "outputs": [
        {
          "output_type": "stream",
          "name": "stdout",
          "text": [
            "<class 'pandas.core.frame.DataFrame'>\n",
            "RangeIndex: 1818705 entries, 0 to 1818704\n",
            "Data columns (total 29 columns):\n",
            " #   Column                 Dtype  \n",
            "---  ------                 -----  \n",
            " 0   PERSON_ID              object \n",
            " 1   PERSON_TYPE            object \n",
            " 2   CRASH_RECORD_ID        object \n",
            " 3   VEHICLE_ID             float64\n",
            " 4   CRASH_DATE             object \n",
            " 5   SEAT_NO                float64\n",
            " 6   CITY                   object \n",
            " 7   STATE                  object \n",
            " 8   ZIPCODE                object \n",
            " 9   SEX                    object \n",
            " 10  AGE                    float64\n",
            " 11  DRIVERS_LICENSE_STATE  object \n",
            " 12  DRIVERS_LICENSE_CLASS  object \n",
            " 13  SAFETY_EQUIPMENT       object \n",
            " 14  AIRBAG_DEPLOYED        object \n",
            " 15  EJECTION               object \n",
            " 16  INJURY_CLASSIFICATION  object \n",
            " 17  HOSPITAL               object \n",
            " 18  EMS_AGENCY             object \n",
            " 19  EMS_RUN_NO             object \n",
            " 20  DRIVER_ACTION          object \n",
            " 21  DRIVER_VISION          object \n",
            " 22  PHYSICAL_CONDITION     object \n",
            " 23  PEDPEDAL_ACTION        object \n",
            " 24  PEDPEDAL_VISIBILITY    object \n",
            " 25  PEDPEDAL_LOCATION      object \n",
            " 26  BAC_RESULT             object \n",
            " 27  BAC_RESULT VALUE       float64\n",
            " 28  CELL_PHONE_USE         object \n",
            "dtypes: float64(4), object(25)\n",
            "memory usage: 402.4+ MB\n"
          ]
        }
      ]
    },
    {
      "cell_type": "markdown",
      "source": [
        "As with the crashes set, our first task is to understand and then reduce the columns we'll use. Specifically, we'll determine & eliminate those that don't necessarily pertain to the the *cause* of an accident, but rather the aftermath. In order to decrease dimensionality, we'll also drop categorical columns that have high cardinality and aren't likely to contribute much, like zipcodes or the state from which the drivers license was issued."
      ],
      "metadata": {
        "id": "ZuX0kcGK3kuW"
      },
      "id": "ZuX0kcGK3kuW"
    },
    {
      "cell_type": "code",
      "source": [
        "people_df['PERSON_TYPE'].value_counts()"
      ],
      "metadata": {
        "colab": {
          "base_uri": "https://localhost:8080/"
        },
        "id": "ig_aYnw0U-j1",
        "outputId": "24680073-b944-4ddd-eb04-46ab53f2a2db"
      },
      "id": "ig_aYnw0U-j1",
      "execution_count": 24,
      "outputs": [
        {
          "output_type": "execute_result",
          "data": {
            "text/plain": [
              "PERSON_TYPE\n",
              "DRIVER                 1415231\n",
              "PASSENGER               367648\n",
              "PEDESTRIAN               21244\n",
              "BICYCLE                  12794\n",
              "NON-MOTOR VEHICLE         1482\n",
              "NON-CONTACT VEHICLE        306\n",
              "Name: count, dtype: int64"
            ]
          },
          "metadata": {},
          "execution_count": 24
        }
      ]
    },
    {
      "cell_type": "code",
      "source": [
        "with pd.option_context('display.max_rows', None, 'display.max_columns', None):\n",
        "    print (people_df['DRIVER_ACTION'].value_counts())"
      ],
      "metadata": {
        "id": "KbQkRHqS3j6x",
        "outputId": "6209e12a-bf8d-4269-8b44-5658df6b1546",
        "colab": {
          "base_uri": "https://localhost:8080/"
        }
      },
      "id": "KbQkRHqS3j6x",
      "execution_count": 25,
      "outputs": [
        {
          "output_type": "stream",
          "name": "stdout",
          "text": [
            "DRIVER_ACTION\n",
            "NONE                                 517295\n",
            "UNKNOWN                              365078\n",
            "FAILED TO YIELD                      131914\n",
            "OTHER                                129661\n",
            "FOLLOWED TOO CLOSELY                  85675\n",
            "IMPROPER BACKING                      42948\n",
            "IMPROPER TURN                         37980\n",
            "IMPROPER LANE CHANGE                  37173\n",
            "IMPROPER PASSING                      32369\n",
            "DISREGARDED CONTROL DEVICES           25564\n",
            "TOO FAST FOR CONDITIONS               21734\n",
            "WRONG WAY/SIDE                         5813\n",
            "IMPROPER PARKING                       5329\n",
            "OVERCORRECTED                          2710\n",
            "EVADING POLICE VEHICLE                 2304\n",
            "CELL PHONE USE OTHER THAN TEXTING      2126\n",
            "EMERGENCY VEHICLE ON CALL              1328\n",
            "TEXTING                                 569\n",
            "STOPPED SCHOOL BUS                      174\n",
            "LICENSE RESTRICTIONS                     61\n",
            "Name: count, dtype: int64\n"
          ]
        }
      ]
    },
    {
      "cell_type": "code",
      "source": [
        "people_df['DRIVER_VISION'].value_counts()"
      ],
      "metadata": {
        "id": "8Y8r57A6cejO",
        "outputId": "9cf26e73-c078-4761-89d1-e47e8561aec4",
        "colab": {
          "base_uri": "https://localhost:8080/"
        }
      },
      "id": "8Y8r57A6cejO",
      "execution_count": 26,
      "outputs": [
        {
          "output_type": "execute_result",
          "data": {
            "text/plain": [
              "DRIVER_VISION\n",
              "NOT OBSCURED              731001\n",
              "UNKNOWN                   681356\n",
              "OTHER                      14386\n",
              "MOVING VEHICLES             8198\n",
              "PARKED VEHICLES             5044\n",
              "WINDSHIELD (WATER/ICE)      3987\n",
              "BLINDED - SUNLIGHT          1716\n",
              "TREES, PLANTS                578\n",
              "BUILDINGS                    516\n",
              "BLINDED - HEADLIGHTS         155\n",
              "BLOWING MATERIALS            102\n",
              "HILLCREST                     96\n",
              "EMBANKMENT                    83\n",
              "SIGNBOARD                     35\n",
              "Name: count, dtype: int64"
            ]
          },
          "metadata": {},
          "execution_count": 26
        }
      ]
    },
    {
      "cell_type": "markdown",
      "source": [
        "Safety equipment almost certainly has an impact on injuries & fatalities, but if we're prioritizing an effort to minimize dimensions, then weighing whether they have an impact on the *cause* probably means we can drop this column.\n",
        "\n",
        "'DRIVER_ACTION' can be dropped since it's pretty redundant when it comes to our target. 'DRIVER_VISION' categorizes whether and how the driver's vision was impeded, but its classes are almost enitrely either 'unobscured' or 'unknown', so I don't think it will helpful here. The same goes for 'PHYSICAL_CONDITION' where only a handful aren't either 'normal' or 'unknown'.\n",
        "\n",
        "'PEDPEDAL_ACTION' refers to what a pedestrian or cyclist was doing if they were involved in the accident. This would be useful if we were just looking at such accidents, but we are investigating all traffic crashes. Let's see the extent to which these ped/pedal accidents make up the total:"
      ],
      "metadata": {
        "id": "_Nx5O9_kdQVm"
      },
      "id": "_Nx5O9_kdQVm"
    },
    {
      "cell_type": "code",
      "source": [
        "pedpedal_action_vc = people_df['PEDPEDAL_ACTION'].value_counts()\n",
        "pedpedal_action_vc_sum = sum(pedpedal_action_vc)\n",
        "pedpedal_action_vc_sum / people_df.shape[0]"
      ],
      "metadata": {
        "id": "J6ZPlfrDckkC",
        "outputId": "c49195e8-f8d5-4b66-b686-dbc139de189e",
        "colab": {
          "base_uri": "https://localhost:8080/"
        }
      },
      "id": "J6ZPlfrDckkC",
      "execution_count": 27,
      "outputs": [
        {
          "output_type": "execute_result",
          "data": {
            "text/plain": [
              "0.01903057395234521"
            ]
          },
          "metadata": {},
          "execution_count": 27
        }
      ]
    },
    {
      "cell_type": "markdown",
      "source": [
        "It looks like this would only apply to less than 2% of the total rows, so it will only really add noise, so let's drop it along with 'PEDPEDAL_VISIBILITY' and 'PEDPEDAL_LOCATION'."
      ],
      "metadata": {
        "id": "pg-t16M-ZfAN"
      },
      "id": "pg-t16M-ZfAN"
    },
    {
      "cell_type": "code",
      "source": [
        "people_df['BAC_RESULT'].value_counts()"
      ],
      "metadata": {
        "id": "Qr3jfHHt3j_e",
        "outputId": "75add2bb-d7fb-4278-e281-958e91551432",
        "colab": {
          "base_uri": "https://localhost:8080/"
        }
      },
      "id": "Qr3jfHHt3j_e",
      "execution_count": 28,
      "outputs": [
        {
          "output_type": "execute_result",
          "data": {
            "text/plain": [
              "BAC_RESULT\n",
              "TEST NOT OFFERED                   1427625\n",
              "TEST REFUSED                         15087\n",
              "TEST PERFORMED, RESULTS UNKNOWN       3496\n",
              "TEST TAKEN                            2576\n",
              "Name: count, dtype: int64"
            ]
          },
          "metadata": {},
          "execution_count": 28
        }
      ]
    },
    {
      "cell_type": "markdown",
      "source": [
        "'BAC_RESULT' would be helpful but only a tiny percentage involve any tests taken, so it will not help here."
      ],
      "metadata": {
        "id": "lKg8EKo7gjoV"
      },
      "id": "lKg8EKo7gjoV"
    },
    {
      "cell_type": "code",
      "source": [
        "people_df['CELL_PHONE_USE'].value_counts()"
      ],
      "metadata": {
        "id": "UoIdAqVKg2-m",
        "outputId": "20ba8574-23f4-42e1-dac1-a9e78f158458",
        "colab": {
          "base_uri": "https://localhost:8080/"
        }
      },
      "id": "UoIdAqVKg2-m",
      "execution_count": 29,
      "outputs": [
        {
          "output_type": "execute_result",
          "data": {
            "text/plain": [
              "CELL_PHONE_USE\n",
              "Y    752\n",
              "N    407\n",
              "Name: count, dtype: int64"
            ]
          },
          "metadata": {},
          "execution_count": 29
        }
      ]
    },
    {
      "cell_type": "markdown",
      "source": [
        "Unfortunately, 'CELL_PHONE_USE' doesn't show enough entries to be useful, either. With that, we have at least a good starting list of columns to drop, so let's drop them and move on to the last part of this dataset."
      ],
      "metadata": {
        "id": "_J68gCPlhC9S"
      },
      "id": "_J68gCPlhC9S"
    },
    {
      "cell_type": "code",
      "source": [
        "people_columns_to_drop = ['PERSON_ID', 'VEHICLE_ID', 'CRASH_DATE', 'SEAT_NO', 'STATE', 'ZIPCODE', 'DRIVERS_LICENSE_STATE',\n",
        "                   'SAFETY_EQUIPMENT', 'AIRBAG_DEPLOYED', 'EJECTION', 'INJURY_CLASSIFICATION', 'HOSPITAL',\n",
        "                   'EMS_AGENCY', 'EMS_RUN_NO', 'DRIVER_ACTION', 'DRIVER_VISION', 'PHYSICAL_CONDITION',\n",
        "                   'PEDPEDAL_ACTION', 'PEDPEDAL_VISIBILITY', 'PEDPEDAL_LOCATION', 'BAC_RESULT',\n",
        "                   'BAC_RESULT VALUE', 'CELL_PHONE_USE']"
      ],
      "metadata": {
        "id": "u3x6cevCGlO4"
      },
      "id": "u3x6cevCGlO4",
      "execution_count": 30,
      "outputs": []
    },
    {
      "cell_type": "code",
      "source": [
        "people_df_refined = people_df.drop(people_columns_to_drop, axis=1)\n",
        "people_df_refined.info()"
      ],
      "metadata": {
        "colab": {
          "base_uri": "https://localhost:8080/"
        },
        "id": "By3pekBJT7qx",
        "outputId": "17da5a66-0f7a-476f-aea1-6502fff6e8ea"
      },
      "id": "By3pekBJT7qx",
      "execution_count": 31,
      "outputs": [
        {
          "output_type": "stream",
          "name": "stdout",
          "text": [
            "<class 'pandas.core.frame.DataFrame'>\n",
            "RangeIndex: 1818705 entries, 0 to 1818704\n",
            "Data columns (total 6 columns):\n",
            " #   Column                 Dtype  \n",
            "---  ------                 -----  \n",
            " 0   PERSON_TYPE            object \n",
            " 1   CRASH_RECORD_ID        object \n",
            " 2   CITY                   object \n",
            " 3   SEX                    object \n",
            " 4   AGE                    float64\n",
            " 5   DRIVERS_LICENSE_CLASS  object \n",
            "dtypes: float64(1), object(5)\n",
            "memory usage: 83.3+ MB\n"
          ]
        }
      ]
    },
    {
      "cell_type": "markdown",
      "source": [
        "Finally, let's examine the third part of this dataset on vehicles:"
      ],
      "metadata": {
        "id": "32t0CoA5hgEF"
      },
      "id": "32t0CoA5hgEF"
    },
    {
      "cell_type": "code",
      "source": [
        "vehicles_df = pd.read_csv('/content/CPD_traffic_crashes-vehicles-20240501.csv')\n",
        "vehicles_df.head(3)"
      ],
      "metadata": {
        "id": "gULuQNbVhZaM",
        "outputId": "5e882801-c879-4a83-fdac-d6f1b576edc4",
        "colab": {
          "base_uri": "https://localhost:8080/",
          "height": 331
        }
      },
      "id": "gULuQNbVhZaM",
      "execution_count": 32,
      "outputs": [
        {
          "output_type": "stream",
          "name": "stderr",
          "text": [
            "<ipython-input-32-04261ed8d1c9>:1: DtypeWarning: Columns (20,39,40,41,43,47,48,49,52,54,57,58,60,70) have mixed types. Specify dtype option on import or set low_memory=False.\n",
            "  vehicles_df = pd.read_csv('/content/CPD_traffic_crashes-vehicles-20240501.csv')\n"
          ]
        },
        {
          "output_type": "execute_result",
          "data": {
            "text/plain": [
              "   CRASH_UNIT_ID                                    CRASH_RECORD_ID  \\\n",
              "0        1717556  7b1763088507f77e0e552c009a6bf89a4d6330c7527706...   \n",
              "1        1717574  2603ff5a88f0b9b54576934c5ed4e4a64e8278e005687b...   \n",
              "2        1717579  a52ef70e33d468b855b5be44e8638a564434dcf99c0edf...   \n",
              "\n",
              "               CRASH_DATE  UNIT_NO UNIT_TYPE  NUM_PASSENGERS  VEHICLE_ID  \\\n",
              "0  12/06/2023 03:24:00 PM        1    DRIVER             NaN   1634931.0   \n",
              "1  12/06/2023 04:00:00 PM        2    DRIVER             NaN   1634978.0   \n",
              "2  12/06/2023 04:30:00 PM        1    DRIVER             NaN   1634948.0   \n",
              "\n",
              "  CMRC_VEH_I      MAKE    MODEL  ... TRAILER1_LENGTH  TRAILER2_LENGTH  \\\n",
              "0        NaN    NISSAN   SENTRA  ...             NaN              NaN   \n",
              "1        NaN  CHRYSLER  SEBRING  ...             NaN              NaN   \n",
              "2        NaN    SUBARU  OUTBACK  ...             NaN              NaN   \n",
              "\n",
              "  TOTAL_VEHICLE_LENGTH AXLE_CNT VEHICLE_CONFIG CARGO_BODY_TYPE LOAD_TYPE  \\\n",
              "0                  NaN      NaN            NaN             NaN       NaN   \n",
              "1                  NaN      NaN            NaN             NaN       NaN   \n",
              "2                  NaN      NaN            NaN             NaN       NaN   \n",
              "\n",
              "  HAZMAT_OUT_OF_SERVICE_I MCS_OUT_OF_SERVICE_I  HAZMAT_CLASS  \n",
              "0                     NaN                  NaN           NaN  \n",
              "1                     NaN                  NaN           NaN  \n",
              "2                     NaN                  NaN           NaN  \n",
              "\n",
              "[3 rows x 71 columns]"
            ],
            "text/html": [
              "\n",
              "  <div id=\"df-abf998e6-252c-483d-9432-852854a9f583\" class=\"colab-df-container\">\n",
              "    <div>\n",
              "<style scoped>\n",
              "    .dataframe tbody tr th:only-of-type {\n",
              "        vertical-align: middle;\n",
              "    }\n",
              "\n",
              "    .dataframe tbody tr th {\n",
              "        vertical-align: top;\n",
              "    }\n",
              "\n",
              "    .dataframe thead th {\n",
              "        text-align: right;\n",
              "    }\n",
              "</style>\n",
              "<table border=\"1\" class=\"dataframe\">\n",
              "  <thead>\n",
              "    <tr style=\"text-align: right;\">\n",
              "      <th></th>\n",
              "      <th>CRASH_UNIT_ID</th>\n",
              "      <th>CRASH_RECORD_ID</th>\n",
              "      <th>CRASH_DATE</th>\n",
              "      <th>UNIT_NO</th>\n",
              "      <th>UNIT_TYPE</th>\n",
              "      <th>NUM_PASSENGERS</th>\n",
              "      <th>VEHICLE_ID</th>\n",
              "      <th>CMRC_VEH_I</th>\n",
              "      <th>MAKE</th>\n",
              "      <th>MODEL</th>\n",
              "      <th>...</th>\n",
              "      <th>TRAILER1_LENGTH</th>\n",
              "      <th>TRAILER2_LENGTH</th>\n",
              "      <th>TOTAL_VEHICLE_LENGTH</th>\n",
              "      <th>AXLE_CNT</th>\n",
              "      <th>VEHICLE_CONFIG</th>\n",
              "      <th>CARGO_BODY_TYPE</th>\n",
              "      <th>LOAD_TYPE</th>\n",
              "      <th>HAZMAT_OUT_OF_SERVICE_I</th>\n",
              "      <th>MCS_OUT_OF_SERVICE_I</th>\n",
              "      <th>HAZMAT_CLASS</th>\n",
              "    </tr>\n",
              "  </thead>\n",
              "  <tbody>\n",
              "    <tr>\n",
              "      <th>0</th>\n",
              "      <td>1717556</td>\n",
              "      <td>7b1763088507f77e0e552c009a6bf89a4d6330c7527706...</td>\n",
              "      <td>12/06/2023 03:24:00 PM</td>\n",
              "      <td>1</td>\n",
              "      <td>DRIVER</td>\n",
              "      <td>NaN</td>\n",
              "      <td>1634931.0</td>\n",
              "      <td>NaN</td>\n",
              "      <td>NISSAN</td>\n",
              "      <td>SENTRA</td>\n",
              "      <td>...</td>\n",
              "      <td>NaN</td>\n",
              "      <td>NaN</td>\n",
              "      <td>NaN</td>\n",
              "      <td>NaN</td>\n",
              "      <td>NaN</td>\n",
              "      <td>NaN</td>\n",
              "      <td>NaN</td>\n",
              "      <td>NaN</td>\n",
              "      <td>NaN</td>\n",
              "      <td>NaN</td>\n",
              "    </tr>\n",
              "    <tr>\n",
              "      <th>1</th>\n",
              "      <td>1717574</td>\n",
              "      <td>2603ff5a88f0b9b54576934c5ed4e4a64e8278e005687b...</td>\n",
              "      <td>12/06/2023 04:00:00 PM</td>\n",
              "      <td>2</td>\n",
              "      <td>DRIVER</td>\n",
              "      <td>NaN</td>\n",
              "      <td>1634978.0</td>\n",
              "      <td>NaN</td>\n",
              "      <td>CHRYSLER</td>\n",
              "      <td>SEBRING</td>\n",
              "      <td>...</td>\n",
              "      <td>NaN</td>\n",
              "      <td>NaN</td>\n",
              "      <td>NaN</td>\n",
              "      <td>NaN</td>\n",
              "      <td>NaN</td>\n",
              "      <td>NaN</td>\n",
              "      <td>NaN</td>\n",
              "      <td>NaN</td>\n",
              "      <td>NaN</td>\n",
              "      <td>NaN</td>\n",
              "    </tr>\n",
              "    <tr>\n",
              "      <th>2</th>\n",
              "      <td>1717579</td>\n",
              "      <td>a52ef70e33d468b855b5be44e8638a564434dcf99c0edf...</td>\n",
              "      <td>12/06/2023 04:30:00 PM</td>\n",
              "      <td>1</td>\n",
              "      <td>DRIVER</td>\n",
              "      <td>NaN</td>\n",
              "      <td>1634948.0</td>\n",
              "      <td>NaN</td>\n",
              "      <td>SUBARU</td>\n",
              "      <td>OUTBACK</td>\n",
              "      <td>...</td>\n",
              "      <td>NaN</td>\n",
              "      <td>NaN</td>\n",
              "      <td>NaN</td>\n",
              "      <td>NaN</td>\n",
              "      <td>NaN</td>\n",
              "      <td>NaN</td>\n",
              "      <td>NaN</td>\n",
              "      <td>NaN</td>\n",
              "      <td>NaN</td>\n",
              "      <td>NaN</td>\n",
              "    </tr>\n",
              "  </tbody>\n",
              "</table>\n",
              "<p>3 rows × 71 columns</p>\n",
              "</div>\n",
              "    <div class=\"colab-df-buttons\">\n",
              "\n",
              "  <div class=\"colab-df-container\">\n",
              "    <button class=\"colab-df-convert\" onclick=\"convertToInteractive('df-abf998e6-252c-483d-9432-852854a9f583')\"\n",
              "            title=\"Convert this dataframe to an interactive table.\"\n",
              "            style=\"display:none;\">\n",
              "\n",
              "  <svg xmlns=\"http://www.w3.org/2000/svg\" height=\"24px\" viewBox=\"0 -960 960 960\">\n",
              "    <path d=\"M120-120v-720h720v720H120Zm60-500h600v-160H180v160Zm220 220h160v-160H400v160Zm0 220h160v-160H400v160ZM180-400h160v-160H180v160Zm440 0h160v-160H620v160ZM180-180h160v-160H180v160Zm440 0h160v-160H620v160Z\"/>\n",
              "  </svg>\n",
              "    </button>\n",
              "\n",
              "  <style>\n",
              "    .colab-df-container {\n",
              "      display:flex;\n",
              "      gap: 12px;\n",
              "    }\n",
              "\n",
              "    .colab-df-convert {\n",
              "      background-color: #E8F0FE;\n",
              "      border: none;\n",
              "      border-radius: 50%;\n",
              "      cursor: pointer;\n",
              "      display: none;\n",
              "      fill: #1967D2;\n",
              "      height: 32px;\n",
              "      padding: 0 0 0 0;\n",
              "      width: 32px;\n",
              "    }\n",
              "\n",
              "    .colab-df-convert:hover {\n",
              "      background-color: #E2EBFA;\n",
              "      box-shadow: 0px 1px 2px rgba(60, 64, 67, 0.3), 0px 1px 3px 1px rgba(60, 64, 67, 0.15);\n",
              "      fill: #174EA6;\n",
              "    }\n",
              "\n",
              "    .colab-df-buttons div {\n",
              "      margin-bottom: 4px;\n",
              "    }\n",
              "\n",
              "    [theme=dark] .colab-df-convert {\n",
              "      background-color: #3B4455;\n",
              "      fill: #D2E3FC;\n",
              "    }\n",
              "\n",
              "    [theme=dark] .colab-df-convert:hover {\n",
              "      background-color: #434B5C;\n",
              "      box-shadow: 0px 1px 3px 1px rgba(0, 0, 0, 0.15);\n",
              "      filter: drop-shadow(0px 1px 2px rgba(0, 0, 0, 0.3));\n",
              "      fill: #FFFFFF;\n",
              "    }\n",
              "  </style>\n",
              "\n",
              "    <script>\n",
              "      const buttonEl =\n",
              "        document.querySelector('#df-abf998e6-252c-483d-9432-852854a9f583 button.colab-df-convert');\n",
              "      buttonEl.style.display =\n",
              "        google.colab.kernel.accessAllowed ? 'block' : 'none';\n",
              "\n",
              "      async function convertToInteractive(key) {\n",
              "        const element = document.querySelector('#df-abf998e6-252c-483d-9432-852854a9f583');\n",
              "        const dataTable =\n",
              "          await google.colab.kernel.invokeFunction('convertToInteractive',\n",
              "                                                    [key], {});\n",
              "        if (!dataTable) return;\n",
              "\n",
              "        const docLinkHtml = 'Like what you see? Visit the ' +\n",
              "          '<a target=\"_blank\" href=https://colab.research.google.com/notebooks/data_table.ipynb>data table notebook</a>'\n",
              "          + ' to learn more about interactive tables.';\n",
              "        element.innerHTML = '';\n",
              "        dataTable['output_type'] = 'display_data';\n",
              "        await google.colab.output.renderOutput(dataTable, element);\n",
              "        const docLink = document.createElement('div');\n",
              "        docLink.innerHTML = docLinkHtml;\n",
              "        element.appendChild(docLink);\n",
              "      }\n",
              "    </script>\n",
              "  </div>\n",
              "\n",
              "\n",
              "<div id=\"df-ffa3fe88-9928-4658-b99b-6fa480cebfc1\">\n",
              "  <button class=\"colab-df-quickchart\" onclick=\"quickchart('df-ffa3fe88-9928-4658-b99b-6fa480cebfc1')\"\n",
              "            title=\"Suggest charts\"\n",
              "            style=\"display:none;\">\n",
              "\n",
              "<svg xmlns=\"http://www.w3.org/2000/svg\" height=\"24px\"viewBox=\"0 0 24 24\"\n",
              "     width=\"24px\">\n",
              "    <g>\n",
              "        <path d=\"M19 3H5c-1.1 0-2 .9-2 2v14c0 1.1.9 2 2 2h14c1.1 0 2-.9 2-2V5c0-1.1-.9-2-2-2zM9 17H7v-7h2v7zm4 0h-2V7h2v10zm4 0h-2v-4h2v4z\"/>\n",
              "    </g>\n",
              "</svg>\n",
              "  </button>\n",
              "\n",
              "<style>\n",
              "  .colab-df-quickchart {\n",
              "      --bg-color: #E8F0FE;\n",
              "      --fill-color: #1967D2;\n",
              "      --hover-bg-color: #E2EBFA;\n",
              "      --hover-fill-color: #174EA6;\n",
              "      --disabled-fill-color: #AAA;\n",
              "      --disabled-bg-color: #DDD;\n",
              "  }\n",
              "\n",
              "  [theme=dark] .colab-df-quickchart {\n",
              "      --bg-color: #3B4455;\n",
              "      --fill-color: #D2E3FC;\n",
              "      --hover-bg-color: #434B5C;\n",
              "      --hover-fill-color: #FFFFFF;\n",
              "      --disabled-bg-color: #3B4455;\n",
              "      --disabled-fill-color: #666;\n",
              "  }\n",
              "\n",
              "  .colab-df-quickchart {\n",
              "    background-color: var(--bg-color);\n",
              "    border: none;\n",
              "    border-radius: 50%;\n",
              "    cursor: pointer;\n",
              "    display: none;\n",
              "    fill: var(--fill-color);\n",
              "    height: 32px;\n",
              "    padding: 0;\n",
              "    width: 32px;\n",
              "  }\n",
              "\n",
              "  .colab-df-quickchart:hover {\n",
              "    background-color: var(--hover-bg-color);\n",
              "    box-shadow: 0 1px 2px rgba(60, 64, 67, 0.3), 0 1px 3px 1px rgba(60, 64, 67, 0.15);\n",
              "    fill: var(--button-hover-fill-color);\n",
              "  }\n",
              "\n",
              "  .colab-df-quickchart-complete:disabled,\n",
              "  .colab-df-quickchart-complete:disabled:hover {\n",
              "    background-color: var(--disabled-bg-color);\n",
              "    fill: var(--disabled-fill-color);\n",
              "    box-shadow: none;\n",
              "  }\n",
              "\n",
              "  .colab-df-spinner {\n",
              "    border: 2px solid var(--fill-color);\n",
              "    border-color: transparent;\n",
              "    border-bottom-color: var(--fill-color);\n",
              "    animation:\n",
              "      spin 1s steps(1) infinite;\n",
              "  }\n",
              "\n",
              "  @keyframes spin {\n",
              "    0% {\n",
              "      border-color: transparent;\n",
              "      border-bottom-color: var(--fill-color);\n",
              "      border-left-color: var(--fill-color);\n",
              "    }\n",
              "    20% {\n",
              "      border-color: transparent;\n",
              "      border-left-color: var(--fill-color);\n",
              "      border-top-color: var(--fill-color);\n",
              "    }\n",
              "    30% {\n",
              "      border-color: transparent;\n",
              "      border-left-color: var(--fill-color);\n",
              "      border-top-color: var(--fill-color);\n",
              "      border-right-color: var(--fill-color);\n",
              "    }\n",
              "    40% {\n",
              "      border-color: transparent;\n",
              "      border-right-color: var(--fill-color);\n",
              "      border-top-color: var(--fill-color);\n",
              "    }\n",
              "    60% {\n",
              "      border-color: transparent;\n",
              "      border-right-color: var(--fill-color);\n",
              "    }\n",
              "    80% {\n",
              "      border-color: transparent;\n",
              "      border-right-color: var(--fill-color);\n",
              "      border-bottom-color: var(--fill-color);\n",
              "    }\n",
              "    90% {\n",
              "      border-color: transparent;\n",
              "      border-bottom-color: var(--fill-color);\n",
              "    }\n",
              "  }\n",
              "</style>\n",
              "\n",
              "  <script>\n",
              "    async function quickchart(key) {\n",
              "      const quickchartButtonEl =\n",
              "        document.querySelector('#' + key + ' button');\n",
              "      quickchartButtonEl.disabled = true;  // To prevent multiple clicks.\n",
              "      quickchartButtonEl.classList.add('colab-df-spinner');\n",
              "      try {\n",
              "        const charts = await google.colab.kernel.invokeFunction(\n",
              "            'suggestCharts', [key], {});\n",
              "      } catch (error) {\n",
              "        console.error('Error during call to suggestCharts:', error);\n",
              "      }\n",
              "      quickchartButtonEl.classList.remove('colab-df-spinner');\n",
              "      quickchartButtonEl.classList.add('colab-df-quickchart-complete');\n",
              "    }\n",
              "    (() => {\n",
              "      let quickchartButtonEl =\n",
              "        document.querySelector('#df-ffa3fe88-9928-4658-b99b-6fa480cebfc1 button');\n",
              "      quickchartButtonEl.style.display =\n",
              "        google.colab.kernel.accessAllowed ? 'block' : 'none';\n",
              "    })();\n",
              "  </script>\n",
              "</div>\n",
              "\n",
              "    </div>\n",
              "  </div>\n"
            ],
            "application/vnd.google.colaboratory.intrinsic+json": {
              "type": "dataframe",
              "variable_name": "vehicles_df"
            }
          },
          "metadata": {},
          "execution_count": 32
        }
      ]
    },
    {
      "cell_type": "code",
      "source": [
        "vehicles_df.shape"
      ],
      "metadata": {
        "id": "y_AgSGQZhpoP",
        "outputId": "4c08c04c-17e6-4aed-cc24-ee8236d9cd51",
        "colab": {
          "base_uri": "https://localhost:8080/"
        }
      },
      "id": "y_AgSGQZhpoP",
      "execution_count": 33,
      "outputs": [
        {
          "output_type": "execute_result",
          "data": {
            "text/plain": [
              "(1690173, 71)"
            ]
          },
          "metadata": {},
          "execution_count": 33
        }
      ]
    },
    {
      "cell_type": "code",
      "source": [
        "vehicles_df.info()"
      ],
      "metadata": {
        "id": "sRwKpTXlh7o9",
        "outputId": "bc038da8-90ec-4c4f-d5d7-f6504625d6b1",
        "colab": {
          "base_uri": "https://localhost:8080/"
        }
      },
      "id": "sRwKpTXlh7o9",
      "execution_count": 34,
      "outputs": [
        {
          "output_type": "stream",
          "name": "stdout",
          "text": [
            "<class 'pandas.core.frame.DataFrame'>\n",
            "RangeIndex: 1690173 entries, 0 to 1690172\n",
            "Data columns (total 71 columns):\n",
            " #   Column                    Non-Null Count    Dtype  \n",
            "---  ------                    --------------    -----  \n",
            " 0   CRASH_UNIT_ID             1690173 non-null  int64  \n",
            " 1   CRASH_RECORD_ID           1690173 non-null  object \n",
            " 2   CRASH_DATE                1690173 non-null  object \n",
            " 3   UNIT_NO                   1690173 non-null  int64  \n",
            " 4   UNIT_TYPE                 1688017 non-null  object \n",
            " 5   NUM_PASSENGERS            250022 non-null   float64\n",
            " 6   VEHICLE_ID                1651514 non-null  float64\n",
            " 7   CMRC_VEH_I                31452 non-null    object \n",
            " 8   MAKE                      1651509 non-null  object \n",
            " 9   MODEL                     1651364 non-null  object \n",
            " 10  LIC_PLATE_STATE           1500227 non-null  object \n",
            " 11  VEHICLE_YEAR              1386705 non-null  float64\n",
            " 12  VEHICLE_DEFECT            1651514 non-null  object \n",
            " 13  VEHICLE_TYPE              1651514 non-null  object \n",
            " 14  VEHICLE_USE               1651514 non-null  object \n",
            " 15  TRAVEL_DIRECTION          1651514 non-null  object \n",
            " 16  MANEUVER                  1651514 non-null  object \n",
            " 17  TOWED_I                   209740 non-null   object \n",
            " 18  FIRE_I                    1386 non-null     object \n",
            " 19  OCCUPANT_CNT              1651514 non-null  float64\n",
            " 20  EXCEED_SPEED_LIMIT_I      2397 non-null     object \n",
            " 21  TOWED_BY                  157895 non-null   object \n",
            " 22  TOWED_TO                  96940 non-null    object \n",
            " 23  AREA_00_I                 57995 non-null    object \n",
            " 24  AREA_01_I                 452249 non-null   object \n",
            " 25  AREA_02_I                 267877 non-null   object \n",
            " 26  AREA_03_I                 162047 non-null   object \n",
            " 27  AREA_04_I                 161324 non-null   object \n",
            " 28  AREA_05_I                 250638 non-null   object \n",
            " 29  AREA_06_I                 264203 non-null   object \n",
            " 30  AREA_07_I                 245121 non-null   object \n",
            " 31  AREA_08_I                 239780 non-null   object \n",
            " 32  AREA_09_I                 114554 non-null   object \n",
            " 33  AREA_10_I                 166832 non-null   object \n",
            " 34  AREA_11_I                 322911 non-null   object \n",
            " 35  AREA_12_I                 315689 non-null   object \n",
            " 36  AREA_99_I                 190763 non-null   object \n",
            " 37  FIRST_CONTACT_POINT       1648389 non-null  object \n",
            " 38  CMV_ID                    17193 non-null    float64\n",
            " 39  USDOT_NO                  9649 non-null     object \n",
            " 40  CCMC_NO                   2043 non-null     object \n",
            " 41  ILCC_NO                   1408 non-null     object \n",
            " 42  COMMERCIAL_SRC            11402 non-null    object \n",
            " 43  GVWR                      9556 non-null     object \n",
            " 44  CARRIER_NAME              16433 non-null    object \n",
            " 45  CARRIER_STATE             15419 non-null    object \n",
            " 46  CARRIER_CITY              15126 non-null    object \n",
            " 47  HAZMAT_PLACARDS_I         332 non-null      object \n",
            " 48  HAZMAT_NAME               60 non-null       object \n",
            " 49  UN_NO                     574 non-null      object \n",
            " 50  HAZMAT_PRESENT_I          12545 non-null    object \n",
            " 51  HAZMAT_REPORT_I           12195 non-null    object \n",
            " 52  HAZMAT_REPORT_NO          1 non-null        object \n",
            " 53  MCS_REPORT_I              12244 non-null    object \n",
            " 54  MCS_REPORT_NO             7 non-null        object \n",
            " 55  HAZMAT_VIO_CAUSE_CRASH_I  12362 non-null    object \n",
            " 56  MCS_VIO_CAUSE_CRASH_I     12155 non-null    object \n",
            " 57  IDOT_PERMIT_NO            927 non-null      object \n",
            " 58  WIDE_LOAD_I               152 non-null      object \n",
            " 59  TRAILER1_WIDTH            2924 non-null     object \n",
            " 60  TRAILER2_WIDTH            350 non-null      object \n",
            " 61  TRAILER1_LENGTH           2359 non-null     float64\n",
            " 62  TRAILER2_LENGTH           68 non-null       float64\n",
            " 63  TOTAL_VEHICLE_LENGTH      2865 non-null     float64\n",
            " 64  AXLE_CNT                  4306 non-null     float64\n",
            " 65  VEHICLE_CONFIG            14240 non-null    object \n",
            " 66  CARGO_BODY_TYPE           13608 non-null    object \n",
            " 67  LOAD_TYPE                 13012 non-null    object \n",
            " 68  HAZMAT_OUT_OF_SERVICE_I   11841 non-null    object \n",
            " 69  MCS_OUT_OF_SERVICE_I      12090 non-null    object \n",
            " 70  HAZMAT_CLASS              1105 non-null     object \n",
            "dtypes: float64(9), int64(2), object(60)\n",
            "memory usage: 915.5+ MB\n"
          ]
        }
      ]
    },
    {
      "cell_type": "markdown",
      "source": [
        "The first column that doesn't look too redundant is 'UNIT_TYPE':"
      ],
      "metadata": {
        "id": "_Gi3Pp248vIQ"
      },
      "id": "_Gi3Pp248vIQ"
    },
    {
      "cell_type": "code",
      "source": [
        "vehicles_df['UNIT_TYPE'].value_counts()"
      ],
      "metadata": {
        "colab": {
          "base_uri": "https://localhost:8080/"
        },
        "id": "GFi4DJwR8vaD",
        "outputId": "6c49581e-f4a9-4048-e451-2551905ea79d"
      },
      "id": "GFi4DJwR8vaD",
      "execution_count": 35,
      "outputs": [
        {
          "output_type": "execute_result",
          "data": {
            "text/plain": [
              "UNIT_TYPE\n",
              "DRIVER                 1415231\n",
              "PARKED                  222855\n",
              "PEDESTRIAN               21244\n",
              "DRIVERLESS               13847\n",
              "BICYCLE                  12794\n",
              "NON-MOTOR VEHICLE         1482\n",
              "NON-CONTACT VEHICLE        306\n",
              "DISABLED VEHICLE           251\n",
              "EQUESTRIAN                   7\n",
              "Name: count, dtype: int64"
            ]
          },
          "metadata": {},
          "execution_count": 35
        }
      ]
    },
    {
      "cell_type": "markdown",
      "source": [
        "Almost everything here is either a driver-driven vehicle or a parked one, so I'll probabl drop this one because I think we may find a more useful designation once we get to 'VEHICLE_TYPE'. Anyway, I hope those seven horses in the 'EQUESTRIAN' class were okay.\n",
        "\n",
        "The next one to consider would be 'MAKE', but it turns out to have *way* too many different values and the resulting sparsity from the one-hot encoded columns would just add a lot of noise to our model."
      ],
      "metadata": {
        "id": "tjb7f-YzmtQ6"
      },
      "id": "tjb7f-YzmtQ6"
    },
    {
      "cell_type": "code",
      "source": [
        "len(vehicles_df['MAKE'].value_counts())"
      ],
      "metadata": {
        "id": "M6yZJCTPiC1X",
        "outputId": "3abef11a-7759-4531-855c-76600e9fb6de",
        "colab": {
          "base_uri": "https://localhost:8080/"
        }
      },
      "id": "M6yZJCTPiC1X",
      "execution_count": 36,
      "outputs": [
        {
          "output_type": "execute_result",
          "data": {
            "text/plain": [
              "1335"
            ]
          },
          "metadata": {},
          "execution_count": 36
        }
      ]
    },
    {
      "cell_type": "markdown",
      "source": [
        "I'm sure the 'MODEL' column would be even worse in this regard, so let's drop them both and search for primary causes elsewhere in the name of model interpretability."
      ],
      "metadata": {
        "id": "sdpwQbUlYrDP"
      },
      "id": "sdpwQbUlYrDP"
    },
    {
      "cell_type": "code",
      "source": [
        "vehicles_df['VEHICLE_DEFECT'].value_counts()"
      ],
      "metadata": {
        "id": "UC-LSU3jnGxj",
        "colab": {
          "base_uri": "https://localhost:8080/"
        },
        "outputId": "142c3c07-4cf6-4dae-fa02-3be3ef0f5875"
      },
      "id": "UC-LSU3jnGxj",
      "execution_count": 37,
      "outputs": [
        {
          "output_type": "execute_result",
          "data": {
            "text/plain": [
              "VEHICLE_DEFECT\n",
              "NONE                892456\n",
              "UNKNOWN             741379\n",
              "OTHER                 9406\n",
              "BRAKES                5177\n",
              "TIRES                  839\n",
              "STEERING               748\n",
              "WHEELS                 419\n",
              "SUSPENSION             269\n",
              "FUEL SYSTEM            233\n",
              "ENGINE/MOTOR           210\n",
              "WINDOWS                111\n",
              "LIGHTS                 101\n",
              "CARGO                   57\n",
              "SIGNALS                 42\n",
              "RESTRAINT SYSTEM        25\n",
              "TRAILER COUPLING        23\n",
              "EXHAUST                 19\n",
              "Name: count, dtype: int64"
            ]
          },
          "metadata": {},
          "execution_count": 37
        }
      ]
    },
    {
      "cell_type": "markdown",
      "source": [
        "With almost every class being 'none' or 'unknown', this column won't help."
      ],
      "metadata": {
        "id": "ZAk7ymkU6yaI"
      },
      "id": "ZAk7ymkU6yaI"
    },
    {
      "cell_type": "code",
      "source": [
        "vehicles_df['VEHICLE_TYPE'].value_counts()"
      ],
      "metadata": {
        "colab": {
          "base_uri": "https://localhost:8080/"
        },
        "id": "shQq8-HHY9tM",
        "outputId": "ead42090-5876-4e8a-add9-d67c1cfe187f"
      },
      "id": "shQq8-HHY9tM",
      "execution_count": 38,
      "outputs": [
        {
          "output_type": "execute_result",
          "data": {
            "text/plain": [
              "VEHICLE_TYPE\n",
              "PASSENGER                                 1038710\n",
              "SPORT UTILITY VEHICLE (SUV)                226692\n",
              "UNKNOWN/NA                                 152665\n",
              "VAN/MINI-VAN                                78278\n",
              "PICKUP                                      53326\n",
              "TRUCK - SINGLE UNIT                         31040\n",
              "OTHER                                       19918\n",
              "BUS OVER 15 PASS.                           17739\n",
              "TRACTOR W/ SEMI-TRAILER                     15661\n",
              "BUS UP TO 15 PASS.                           4659\n",
              "MOTORCYCLE (OVER 150CC)                      3869\n",
              "SINGLE UNIT TRUCK WITH TRAILER               2734\n",
              "OTHER VEHICLE WITH TRAILER                   2253\n",
              "TRACTOR W/O SEMI-TRAILER                     2069\n",
              "AUTOCYCLE                                     669\n",
              "MOPED OR MOTORIZED BICYCLE                    544\n",
              "MOTOR DRIVEN CYCLE                            328\n",
              "ALL-TERRAIN VEHICLE (ATV)                     182\n",
              "FARM EQUIPMENT                                 84\n",
              "3-WHEELED MOTORCYCLE (2 REAR WHEELS)           61\n",
              "RECREATIONAL OFF-HIGHWAY VEHICLE (ROV)         25\n",
              "SNOWMOBILE                                      8\n",
              "Name: count, dtype: int64"
            ]
          },
          "metadata": {},
          "execution_count": 38
        }
      ]
    },
    {
      "cell_type": "markdown",
      "source": [
        "With 60% of new-vhecile registrations in the US being SUVs in 2023 and this dataset only going back to 2015, I find it hard to believe that SUV's are outnumbered at almost 4-to-1 in this count. I'm getting worried about this dataset's viability.\n",
        "\n",
        "For the sake of brevity, 'VEHICLE_USE' is all either 'personal' or 'unknown' or 'not in use', so it won't be of much help.\n",
        "\n",
        "'TRAVEL_DIRECTION' may prove useful, but the cardinal directions (NSEW) are all *much* more frequent than the intermediate ones, so we'll just keep those rows with cardinals.\n",
        "\n",
        "'MANEUVER' seems to be a really useful column when it comes to the primary cause of an accident, so we'll keep it, but we'll drop the rows that are 'unknown', 'other', or occured less than 1,000 times."
      ],
      "metadata": {
        "id": "rYX-9iAK9oP4"
      },
      "id": "rYX-9iAK9oP4"
    },
    {
      "cell_type": "code",
      "source": [
        "vehicles_df['MANEUVER'].value_counts()"
      ],
      "metadata": {
        "colab": {
          "base_uri": "https://localhost:8080/"
        },
        "id": "ft3rnggC8CkE",
        "outputId": "4ef31933-a02a-482c-81f8-99049750a9cc"
      },
      "id": "ft3rnggC8CkE",
      "execution_count": 39,
      "outputs": [
        {
          "output_type": "execute_result",
          "data": {
            "text/plain": [
              "MANEUVER\n",
              "STRAIGHT AHEAD                        761499\n",
              "PARKED                                227171\n",
              "UNKNOWN/NA                            126724\n",
              "SLOW/STOP IN TRAFFIC                  122016\n",
              "TURNING LEFT                           98255\n",
              "BACKING                                66781\n",
              "TURNING RIGHT                          54715\n",
              "PASSING/OVERTAKING                     40106\n",
              "CHANGING LANES                         31673\n",
              "OTHER                                  27722\n",
              "ENTERING TRAFFIC LANE FROM PARKING     19410\n",
              "MERGING                                11451\n",
              "U-TURN                                  9411\n",
              "STARTING IN TRAFFIC                     9341\n",
              "LEAVING TRAFFIC LANE TO PARK            7925\n",
              "AVOIDING VEHICLES/OBJECTS               6988\n",
              "SKIDDING/CONTROL LOSS                   6296\n",
              "ENTER FROM DRIVE/ALLEY                  6001\n",
              "PARKED IN TRAFFIC LANE                  5091\n",
              "SLOW/STOP - LEFT TURN                   3042\n",
              "DRIVING WRONG WAY                       2452\n",
              "NEGOTIATING A CURVE                     2077\n",
              "SLOW/STOP - RIGHT TURN                  1929\n",
              "SLOW/STOP - LOAD/UNLOAD                 1663\n",
              "TURNING ON RED                           635\n",
              "DRIVERLESS                               627\n",
              "DIVERGING                                260\n",
              "DISABLED                                 253\n",
              "Name: count, dtype: int64"
            ]
          },
          "metadata": {},
          "execution_count": 39
        }
      ]
    },
    {
      "cell_type": "markdown",
      "source": [
        "Let's also examine 'FIRST_CONTACT_POINT':"
      ],
      "metadata": {
        "id": "nZY8NQilAybo"
      },
      "id": "nZY8NQilAybo"
    },
    {
      "cell_type": "code",
      "source": [
        "vehicles_df['FIRST_CONTACT_POINT'].value_counts()"
      ],
      "metadata": {
        "colab": {
          "base_uri": "https://localhost:8080/"
        },
        "id": "tXdgzerF-LlQ",
        "outputId": "19792ed0-daaf-4055-90e5-52b0e7462cee"
      },
      "id": "tXdgzerF-LlQ",
      "execution_count": 40,
      "outputs": [
        {
          "output_type": "execute_result",
          "data": {
            "text/plain": [
              "FIRST_CONTACT_POINT\n",
              "FRONT                 323891\n",
              "REAR                  218038\n",
              "UNKNOWN               157277\n",
              "SIDE-LEFT             113074\n",
              "SIDE-RIGHT            107560\n",
              "FRONT-LEFT-CORNER     104177\n",
              "FRONT-RIGHT-CORNER    102005\n",
              "FRONT-LEFT             81524\n",
              "FRONT-RIGHT            76903\n",
              "REAR-LEFT              68088\n",
              "REAR-LEFT-CORNER       46318\n",
              "OTHER                  41017\n",
              "REAR-RIGHT             36488\n",
              "REAR-RIGHT-CORNER      33782\n",
              "TOTAL (ALL AREAS)      27475\n",
              "SIDE-LEFT-REAR         26325\n",
              "SIDE-RIGHT-REAR        19947\n",
              "SIDE-LEFT-FRONT        17038\n",
              "SIDE-RIGHT-FRONT       14665\n",
              "NONE                   13141\n",
              "ROOF                   11958\n",
              "UNDER CARRIAGE          5728\n",
              "TOP                     1970\n",
              "Name: count, dtype: int64"
            ]
          },
          "metadata": {},
          "execution_count": 40
        }
      ]
    },
    {
      "cell_type": "markdown",
      "source": [
        "This would be useful, but it's a little redundant and lengthy when compared to the crashes_df column 'FIRST_CRASH_TYPE.' The remaining columns are all too filled with NaN's, so we now have a short list of columns to keep:\n",
        "\n"
      ],
      "metadata": {
        "id": "5uyfUBCfBRNU"
      },
      "id": "5uyfUBCfBRNU"
    },
    {
      "cell_type": "code",
      "source": [
        "vehicles_df_columns_to_keep = ['CRASH_RECORD_ID', 'TRAVEL_DIRECTION', 'MANEUVER']"
      ],
      "metadata": {
        "id": "2ZNglbNBA9Q_"
      },
      "id": "2ZNglbNBA9Q_",
      "execution_count": 41,
      "outputs": []
    },
    {
      "cell_type": "code",
      "source": [
        "vehicles_df_refined = vehicles_df[vehicles_df_columns_to_keep]\n",
        "vehicles_df_refined.info()"
      ],
      "metadata": {
        "colab": {
          "base_uri": "https://localhost:8080/"
        },
        "id": "XI7haUmIB75j",
        "outputId": "d3c7cedc-b58e-449d-d3ef-efa390d3f829"
      },
      "id": "XI7haUmIB75j",
      "execution_count": 42,
      "outputs": [
        {
          "output_type": "stream",
          "name": "stdout",
          "text": [
            "<class 'pandas.core.frame.DataFrame'>\n",
            "RangeIndex: 1690173 entries, 0 to 1690172\n",
            "Data columns (total 3 columns):\n",
            " #   Column            Non-Null Count    Dtype \n",
            "---  ------            --------------    ----- \n",
            " 0   CRASH_RECORD_ID   1690173 non-null  object\n",
            " 1   TRAVEL_DIRECTION  1651514 non-null  object\n",
            " 2   MANEUVER          1651514 non-null  object\n",
            "dtypes: object(3)\n",
            "memory usage: 38.7+ MB\n"
          ]
        }
      ]
    },
    {
      "cell_type": "markdown",
      "source": [
        "Now we can merge these more managable, concise DataFrames together and then begin removing the rows mentioned above."
      ],
      "metadata": {
        "id": "TAUNq3F5CM_2"
      },
      "id": "TAUNq3F5CM_2"
    },
    {
      "cell_type": "code",
      "source": [
        "#First, we'll merge the crashes & people df's:\n",
        "merged_crashes = pd.merge(left=crashes_df_refined,\n",
        "                          right=people_df_refined,\n",
        "                          left_on='CRASH_RECORD_ID',\n",
        "                          right_on='CRASH_RECORD_ID')\n",
        "\n",
        "#Now the newly merged df and the vehicles one:\n",
        "merged_crashes = pd.merge(left=merged_crashes,\n",
        "                          right=vehicles_df_refined,\n",
        "                          left_on='CRASH_RECORD_ID',\n",
        "                          right_on='CRASH_RECORD_ID')\n",
        "\n",
        "merged_crashes.head()"
      ],
      "metadata": {
        "colab": {
          "base_uri": "https://localhost:8080/",
          "height": 342
        },
        "id": "exaeuvnTCF_O",
        "outputId": "d164a635-6d3e-4718-eb24-7ba8287366c8"
      },
      "id": "exaeuvnTCF_O",
      "execution_count": 43,
      "outputs": [
        {
          "output_type": "execute_result",
          "data": {
            "text/plain": [
              "                                     CRASH_RECORD_ID  POSTED_SPEED_LIMIT  \\\n",
              "0  6c1659069e9c6285a650e70d6f9b574ed5f64c12888479...                  15   \n",
              "1  6c1659069e9c6285a650e70d6f9b574ed5f64c12888479...                  15   \n",
              "2  6c1659069e9c6285a650e70d6f9b574ed5f64c12888479...                  15   \n",
              "3  6c1659069e9c6285a650e70d6f9b574ed5f64c12888479...                  15   \n",
              "4  5f54a59fcb087b12ae5b1acff96a3caf4f2d37e79f8db4...                  30   \n",
              "\n",
              "  WEATHER_CONDITION LIGHTING_CONDITION ROADWAY_SURFACE_COND ROAD_DEFECT  \\\n",
              "0             CLEAR           DAYLIGHT                  DRY  NO DEFECTS   \n",
              "1             CLEAR           DAYLIGHT                  DRY  NO DEFECTS   \n",
              "2             CLEAR           DAYLIGHT                  DRY  NO DEFECTS   \n",
              "3             CLEAR           DAYLIGHT                  DRY  NO DEFECTS   \n",
              "4             CLEAR           DAYLIGHT                  DRY  NO DEFECTS   \n",
              "\n",
              "                  PRIM_CONTRIBUTORY_CAUSE STREET_DIRECTION  NUM_UNITS  \\\n",
              "0                   FOLLOWING TOO CLOSELY                W          2   \n",
              "1                   FOLLOWING TOO CLOSELY                W          2   \n",
              "2                   FOLLOWING TOO CLOSELY                W          2   \n",
              "3                   FOLLOWING TOO CLOSELY                W          2   \n",
              "4  FAILING TO REDUCE SPEED TO AVOID CRASH                S          4   \n",
              "\n",
              "   CRASH_HOUR  ...  CRASH_MONTH  LATITUDE  LONGITUDE  PERSON_TYPE  \\\n",
              "0          12  ...            8       NaN        NaN       DRIVER   \n",
              "1          12  ...            8       NaN        NaN       DRIVER   \n",
              "2          12  ...            8       NaN        NaN       DRIVER   \n",
              "3          12  ...            8       NaN        NaN       DRIVER   \n",
              "4          14  ...            7  41.85412 -87.665902       DRIVER   \n",
              "\n",
              "           CITY SEX   AGE  DRIVERS_LICENSE_CLASS TRAVEL_DIRECTION  \\\n",
              "0       CHICAGO   M  45.0                      D                W   \n",
              "1       CHICAGO   M  45.0                      D                W   \n",
              "2  WEST CHICAGO   M  69.0                     DM                W   \n",
              "3  WEST CHICAGO   M  69.0                     DM                W   \n",
              "4           NaN   X   NaN                    NaN                E   \n",
              "\n",
              "         MANEUVER  \n",
              "0  STRAIGHT AHEAD  \n",
              "1  STRAIGHT AHEAD  \n",
              "2  STRAIGHT AHEAD  \n",
              "3  STRAIGHT AHEAD  \n",
              "4   TURNING RIGHT  \n",
              "\n",
              "[5 rows x 21 columns]"
            ],
            "text/html": [
              "\n",
              "  <div id=\"df-3d285c30-2ecc-40a1-a888-6c433ca0de43\" class=\"colab-df-container\">\n",
              "    <div>\n",
              "<style scoped>\n",
              "    .dataframe tbody tr th:only-of-type {\n",
              "        vertical-align: middle;\n",
              "    }\n",
              "\n",
              "    .dataframe tbody tr th {\n",
              "        vertical-align: top;\n",
              "    }\n",
              "\n",
              "    .dataframe thead th {\n",
              "        text-align: right;\n",
              "    }\n",
              "</style>\n",
              "<table border=\"1\" class=\"dataframe\">\n",
              "  <thead>\n",
              "    <tr style=\"text-align: right;\">\n",
              "      <th></th>\n",
              "      <th>CRASH_RECORD_ID</th>\n",
              "      <th>POSTED_SPEED_LIMIT</th>\n",
              "      <th>WEATHER_CONDITION</th>\n",
              "      <th>LIGHTING_CONDITION</th>\n",
              "      <th>ROADWAY_SURFACE_COND</th>\n",
              "      <th>ROAD_DEFECT</th>\n",
              "      <th>PRIM_CONTRIBUTORY_CAUSE</th>\n",
              "      <th>STREET_DIRECTION</th>\n",
              "      <th>NUM_UNITS</th>\n",
              "      <th>CRASH_HOUR</th>\n",
              "      <th>...</th>\n",
              "      <th>CRASH_MONTH</th>\n",
              "      <th>LATITUDE</th>\n",
              "      <th>LONGITUDE</th>\n",
              "      <th>PERSON_TYPE</th>\n",
              "      <th>CITY</th>\n",
              "      <th>SEX</th>\n",
              "      <th>AGE</th>\n",
              "      <th>DRIVERS_LICENSE_CLASS</th>\n",
              "      <th>TRAVEL_DIRECTION</th>\n",
              "      <th>MANEUVER</th>\n",
              "    </tr>\n",
              "  </thead>\n",
              "  <tbody>\n",
              "    <tr>\n",
              "      <th>0</th>\n",
              "      <td>6c1659069e9c6285a650e70d6f9b574ed5f64c12888479...</td>\n",
              "      <td>15</td>\n",
              "      <td>CLEAR</td>\n",
              "      <td>DAYLIGHT</td>\n",
              "      <td>DRY</td>\n",
              "      <td>NO DEFECTS</td>\n",
              "      <td>FOLLOWING TOO CLOSELY</td>\n",
              "      <td>W</td>\n",
              "      <td>2</td>\n",
              "      <td>12</td>\n",
              "      <td>...</td>\n",
              "      <td>8</td>\n",
              "      <td>NaN</td>\n",
              "      <td>NaN</td>\n",
              "      <td>DRIVER</td>\n",
              "      <td>CHICAGO</td>\n",
              "      <td>M</td>\n",
              "      <td>45.0</td>\n",
              "      <td>D</td>\n",
              "      <td>W</td>\n",
              "      <td>STRAIGHT AHEAD</td>\n",
              "    </tr>\n",
              "    <tr>\n",
              "      <th>1</th>\n",
              "      <td>6c1659069e9c6285a650e70d6f9b574ed5f64c12888479...</td>\n",
              "      <td>15</td>\n",
              "      <td>CLEAR</td>\n",
              "      <td>DAYLIGHT</td>\n",
              "      <td>DRY</td>\n",
              "      <td>NO DEFECTS</td>\n",
              "      <td>FOLLOWING TOO CLOSELY</td>\n",
              "      <td>W</td>\n",
              "      <td>2</td>\n",
              "      <td>12</td>\n",
              "      <td>...</td>\n",
              "      <td>8</td>\n",
              "      <td>NaN</td>\n",
              "      <td>NaN</td>\n",
              "      <td>DRIVER</td>\n",
              "      <td>CHICAGO</td>\n",
              "      <td>M</td>\n",
              "      <td>45.0</td>\n",
              "      <td>D</td>\n",
              "      <td>W</td>\n",
              "      <td>STRAIGHT AHEAD</td>\n",
              "    </tr>\n",
              "    <tr>\n",
              "      <th>2</th>\n",
              "      <td>6c1659069e9c6285a650e70d6f9b574ed5f64c12888479...</td>\n",
              "      <td>15</td>\n",
              "      <td>CLEAR</td>\n",
              "      <td>DAYLIGHT</td>\n",
              "      <td>DRY</td>\n",
              "      <td>NO DEFECTS</td>\n",
              "      <td>FOLLOWING TOO CLOSELY</td>\n",
              "      <td>W</td>\n",
              "      <td>2</td>\n",
              "      <td>12</td>\n",
              "      <td>...</td>\n",
              "      <td>8</td>\n",
              "      <td>NaN</td>\n",
              "      <td>NaN</td>\n",
              "      <td>DRIVER</td>\n",
              "      <td>WEST CHICAGO</td>\n",
              "      <td>M</td>\n",
              "      <td>69.0</td>\n",
              "      <td>DM</td>\n",
              "      <td>W</td>\n",
              "      <td>STRAIGHT AHEAD</td>\n",
              "    </tr>\n",
              "    <tr>\n",
              "      <th>3</th>\n",
              "      <td>6c1659069e9c6285a650e70d6f9b574ed5f64c12888479...</td>\n",
              "      <td>15</td>\n",
              "      <td>CLEAR</td>\n",
              "      <td>DAYLIGHT</td>\n",
              "      <td>DRY</td>\n",
              "      <td>NO DEFECTS</td>\n",
              "      <td>FOLLOWING TOO CLOSELY</td>\n",
              "      <td>W</td>\n",
              "      <td>2</td>\n",
              "      <td>12</td>\n",
              "      <td>...</td>\n",
              "      <td>8</td>\n",
              "      <td>NaN</td>\n",
              "      <td>NaN</td>\n",
              "      <td>DRIVER</td>\n",
              "      <td>WEST CHICAGO</td>\n",
              "      <td>M</td>\n",
              "      <td>69.0</td>\n",
              "      <td>DM</td>\n",
              "      <td>W</td>\n",
              "      <td>STRAIGHT AHEAD</td>\n",
              "    </tr>\n",
              "    <tr>\n",
              "      <th>4</th>\n",
              "      <td>5f54a59fcb087b12ae5b1acff96a3caf4f2d37e79f8db4...</td>\n",
              "      <td>30</td>\n",
              "      <td>CLEAR</td>\n",
              "      <td>DAYLIGHT</td>\n",
              "      <td>DRY</td>\n",
              "      <td>NO DEFECTS</td>\n",
              "      <td>FAILING TO REDUCE SPEED TO AVOID CRASH</td>\n",
              "      <td>S</td>\n",
              "      <td>4</td>\n",
              "      <td>14</td>\n",
              "      <td>...</td>\n",
              "      <td>7</td>\n",
              "      <td>41.85412</td>\n",
              "      <td>-87.665902</td>\n",
              "      <td>DRIVER</td>\n",
              "      <td>NaN</td>\n",
              "      <td>X</td>\n",
              "      <td>NaN</td>\n",
              "      <td>NaN</td>\n",
              "      <td>E</td>\n",
              "      <td>TURNING RIGHT</td>\n",
              "    </tr>\n",
              "  </tbody>\n",
              "</table>\n",
              "<p>5 rows × 21 columns</p>\n",
              "</div>\n",
              "    <div class=\"colab-df-buttons\">\n",
              "\n",
              "  <div class=\"colab-df-container\">\n",
              "    <button class=\"colab-df-convert\" onclick=\"convertToInteractive('df-3d285c30-2ecc-40a1-a888-6c433ca0de43')\"\n",
              "            title=\"Convert this dataframe to an interactive table.\"\n",
              "            style=\"display:none;\">\n",
              "\n",
              "  <svg xmlns=\"http://www.w3.org/2000/svg\" height=\"24px\" viewBox=\"0 -960 960 960\">\n",
              "    <path d=\"M120-120v-720h720v720H120Zm60-500h600v-160H180v160Zm220 220h160v-160H400v160Zm0 220h160v-160H400v160ZM180-400h160v-160H180v160Zm440 0h160v-160H620v160ZM180-180h160v-160H180v160Zm440 0h160v-160H620v160Z\"/>\n",
              "  </svg>\n",
              "    </button>\n",
              "\n",
              "  <style>\n",
              "    .colab-df-container {\n",
              "      display:flex;\n",
              "      gap: 12px;\n",
              "    }\n",
              "\n",
              "    .colab-df-convert {\n",
              "      background-color: #E8F0FE;\n",
              "      border: none;\n",
              "      border-radius: 50%;\n",
              "      cursor: pointer;\n",
              "      display: none;\n",
              "      fill: #1967D2;\n",
              "      height: 32px;\n",
              "      padding: 0 0 0 0;\n",
              "      width: 32px;\n",
              "    }\n",
              "\n",
              "    .colab-df-convert:hover {\n",
              "      background-color: #E2EBFA;\n",
              "      box-shadow: 0px 1px 2px rgba(60, 64, 67, 0.3), 0px 1px 3px 1px rgba(60, 64, 67, 0.15);\n",
              "      fill: #174EA6;\n",
              "    }\n",
              "\n",
              "    .colab-df-buttons div {\n",
              "      margin-bottom: 4px;\n",
              "    }\n",
              "\n",
              "    [theme=dark] .colab-df-convert {\n",
              "      background-color: #3B4455;\n",
              "      fill: #D2E3FC;\n",
              "    }\n",
              "\n",
              "    [theme=dark] .colab-df-convert:hover {\n",
              "      background-color: #434B5C;\n",
              "      box-shadow: 0px 1px 3px 1px rgba(0, 0, 0, 0.15);\n",
              "      filter: drop-shadow(0px 1px 2px rgba(0, 0, 0, 0.3));\n",
              "      fill: #FFFFFF;\n",
              "    }\n",
              "  </style>\n",
              "\n",
              "    <script>\n",
              "      const buttonEl =\n",
              "        document.querySelector('#df-3d285c30-2ecc-40a1-a888-6c433ca0de43 button.colab-df-convert');\n",
              "      buttonEl.style.display =\n",
              "        google.colab.kernel.accessAllowed ? 'block' : 'none';\n",
              "\n",
              "      async function convertToInteractive(key) {\n",
              "        const element = document.querySelector('#df-3d285c30-2ecc-40a1-a888-6c433ca0de43');\n",
              "        const dataTable =\n",
              "          await google.colab.kernel.invokeFunction('convertToInteractive',\n",
              "                                                    [key], {});\n",
              "        if (!dataTable) return;\n",
              "\n",
              "        const docLinkHtml = 'Like what you see? Visit the ' +\n",
              "          '<a target=\"_blank\" href=https://colab.research.google.com/notebooks/data_table.ipynb>data table notebook</a>'\n",
              "          + ' to learn more about interactive tables.';\n",
              "        element.innerHTML = '';\n",
              "        dataTable['output_type'] = 'display_data';\n",
              "        await google.colab.output.renderOutput(dataTable, element);\n",
              "        const docLink = document.createElement('div');\n",
              "        docLink.innerHTML = docLinkHtml;\n",
              "        element.appendChild(docLink);\n",
              "      }\n",
              "    </script>\n",
              "  </div>\n",
              "\n",
              "\n",
              "<div id=\"df-f0aee06c-580c-4c19-8000-aa612c42a74e\">\n",
              "  <button class=\"colab-df-quickchart\" onclick=\"quickchart('df-f0aee06c-580c-4c19-8000-aa612c42a74e')\"\n",
              "            title=\"Suggest charts\"\n",
              "            style=\"display:none;\">\n",
              "\n",
              "<svg xmlns=\"http://www.w3.org/2000/svg\" height=\"24px\"viewBox=\"0 0 24 24\"\n",
              "     width=\"24px\">\n",
              "    <g>\n",
              "        <path d=\"M19 3H5c-1.1 0-2 .9-2 2v14c0 1.1.9 2 2 2h14c1.1 0 2-.9 2-2V5c0-1.1-.9-2-2-2zM9 17H7v-7h2v7zm4 0h-2V7h2v10zm4 0h-2v-4h2v4z\"/>\n",
              "    </g>\n",
              "</svg>\n",
              "  </button>\n",
              "\n",
              "<style>\n",
              "  .colab-df-quickchart {\n",
              "      --bg-color: #E8F0FE;\n",
              "      --fill-color: #1967D2;\n",
              "      --hover-bg-color: #E2EBFA;\n",
              "      --hover-fill-color: #174EA6;\n",
              "      --disabled-fill-color: #AAA;\n",
              "      --disabled-bg-color: #DDD;\n",
              "  }\n",
              "\n",
              "  [theme=dark] .colab-df-quickchart {\n",
              "      --bg-color: #3B4455;\n",
              "      --fill-color: #D2E3FC;\n",
              "      --hover-bg-color: #434B5C;\n",
              "      --hover-fill-color: #FFFFFF;\n",
              "      --disabled-bg-color: #3B4455;\n",
              "      --disabled-fill-color: #666;\n",
              "  }\n",
              "\n",
              "  .colab-df-quickchart {\n",
              "    background-color: var(--bg-color);\n",
              "    border: none;\n",
              "    border-radius: 50%;\n",
              "    cursor: pointer;\n",
              "    display: none;\n",
              "    fill: var(--fill-color);\n",
              "    height: 32px;\n",
              "    padding: 0;\n",
              "    width: 32px;\n",
              "  }\n",
              "\n",
              "  .colab-df-quickchart:hover {\n",
              "    background-color: var(--hover-bg-color);\n",
              "    box-shadow: 0 1px 2px rgba(60, 64, 67, 0.3), 0 1px 3px 1px rgba(60, 64, 67, 0.15);\n",
              "    fill: var(--button-hover-fill-color);\n",
              "  }\n",
              "\n",
              "  .colab-df-quickchart-complete:disabled,\n",
              "  .colab-df-quickchart-complete:disabled:hover {\n",
              "    background-color: var(--disabled-bg-color);\n",
              "    fill: var(--disabled-fill-color);\n",
              "    box-shadow: none;\n",
              "  }\n",
              "\n",
              "  .colab-df-spinner {\n",
              "    border: 2px solid var(--fill-color);\n",
              "    border-color: transparent;\n",
              "    border-bottom-color: var(--fill-color);\n",
              "    animation:\n",
              "      spin 1s steps(1) infinite;\n",
              "  }\n",
              "\n",
              "  @keyframes spin {\n",
              "    0% {\n",
              "      border-color: transparent;\n",
              "      border-bottom-color: var(--fill-color);\n",
              "      border-left-color: var(--fill-color);\n",
              "    }\n",
              "    20% {\n",
              "      border-color: transparent;\n",
              "      border-left-color: var(--fill-color);\n",
              "      border-top-color: var(--fill-color);\n",
              "    }\n",
              "    30% {\n",
              "      border-color: transparent;\n",
              "      border-left-color: var(--fill-color);\n",
              "      border-top-color: var(--fill-color);\n",
              "      border-right-color: var(--fill-color);\n",
              "    }\n",
              "    40% {\n",
              "      border-color: transparent;\n",
              "      border-right-color: var(--fill-color);\n",
              "      border-top-color: var(--fill-color);\n",
              "    }\n",
              "    60% {\n",
              "      border-color: transparent;\n",
              "      border-right-color: var(--fill-color);\n",
              "    }\n",
              "    80% {\n",
              "      border-color: transparent;\n",
              "      border-right-color: var(--fill-color);\n",
              "      border-bottom-color: var(--fill-color);\n",
              "    }\n",
              "    90% {\n",
              "      border-color: transparent;\n",
              "      border-bottom-color: var(--fill-color);\n",
              "    }\n",
              "  }\n",
              "</style>\n",
              "\n",
              "  <script>\n",
              "    async function quickchart(key) {\n",
              "      const quickchartButtonEl =\n",
              "        document.querySelector('#' + key + ' button');\n",
              "      quickchartButtonEl.disabled = true;  // To prevent multiple clicks.\n",
              "      quickchartButtonEl.classList.add('colab-df-spinner');\n",
              "      try {\n",
              "        const charts = await google.colab.kernel.invokeFunction(\n",
              "            'suggestCharts', [key], {});\n",
              "      } catch (error) {\n",
              "        console.error('Error during call to suggestCharts:', error);\n",
              "      }\n",
              "      quickchartButtonEl.classList.remove('colab-df-spinner');\n",
              "      quickchartButtonEl.classList.add('colab-df-quickchart-complete');\n",
              "    }\n",
              "    (() => {\n",
              "      let quickchartButtonEl =\n",
              "        document.querySelector('#df-f0aee06c-580c-4c19-8000-aa612c42a74e button');\n",
              "      quickchartButtonEl.style.display =\n",
              "        google.colab.kernel.accessAllowed ? 'block' : 'none';\n",
              "    })();\n",
              "  </script>\n",
              "</div>\n",
              "\n",
              "    </div>\n",
              "  </div>\n"
            ],
            "application/vnd.google.colaboratory.intrinsic+json": {
              "type": "dataframe",
              "variable_name": "merged_crashes"
            }
          },
          "metadata": {},
          "execution_count": 43
        }
      ]
    },
    {
      "cell_type": "markdown",
      "source": [
        "I can already tell we'll have way to many columns once I one-hot encode these. Let's go back and see what other columns we can drop."
      ],
      "metadata": {
        "id": "n94K8yRTFNYc"
      },
      "id": "n94K8yRTFNYc"
    },
    {
      "cell_type": "code",
      "source": [
        "merged_crashes.info()"
      ],
      "metadata": {
        "id": "SoxhFligFW-J",
        "outputId": "909d4bc1-49b3-42b7-9289-2e902d340cff",
        "colab": {
          "base_uri": "https://localhost:8080/"
        }
      },
      "id": "SoxhFligFW-J",
      "execution_count": 44,
      "outputs": [
        {
          "output_type": "stream",
          "name": "stdout",
          "text": [
            "<class 'pandas.core.frame.DataFrame'>\n",
            "RangeIndex: 3821303 entries, 0 to 3821302\n",
            "Data columns (total 21 columns):\n",
            " #   Column                   Dtype  \n",
            "---  ------                   -----  \n",
            " 0   CRASH_RECORD_ID          object \n",
            " 1   POSTED_SPEED_LIMIT       int64  \n",
            " 2   WEATHER_CONDITION        object \n",
            " 3   LIGHTING_CONDITION       object \n",
            " 4   ROADWAY_SURFACE_COND     object \n",
            " 5   ROAD_DEFECT              object \n",
            " 6   PRIM_CONTRIBUTORY_CAUSE  object \n",
            " 7   STREET_DIRECTION         object \n",
            " 8   NUM_UNITS                int64  \n",
            " 9   CRASH_HOUR               int64  \n",
            " 10  CRASH_DAY_OF_WEEK        int64  \n",
            " 11  CRASH_MONTH              int64  \n",
            " 12  LATITUDE                 float64\n",
            " 13  LONGITUDE                float64\n",
            " 14  PERSON_TYPE              object \n",
            " 15  CITY                     object \n",
            " 16  SEX                      object \n",
            " 17  AGE                      float64\n",
            " 18  DRIVERS_LICENSE_CLASS    object \n",
            " 19  TRAVEL_DIRECTION         object \n",
            " 20  MANEUVER                 object \n",
            "dtypes: float64(3), int64(5), object(13)\n",
            "memory usage: 612.2+ MB\n"
          ]
        }
      ]
    },
    {
      "cell_type": "markdown",
      "source": [
        "This is a start, but there will still be too many columns once the categorical features are preprocessed. Let's refine these features further.\n",
        "\n",
        "'STREET_DIRECTION' and 'TRAVEL_DIRECTION' seem redundant; let's take a closer look."
      ],
      "metadata": {
        "id": "AC9bGl2CThjz"
      },
      "id": "AC9bGl2CThjz"
    },
    {
      "cell_type": "code",
      "source": [
        "merged_crashes['STREET_DIRECTION'].value_counts()"
      ],
      "metadata": {
        "id": "bqtCTvW6IKO5",
        "outputId": "0794e5f4-ed98-49f7-adf4-5e4e0e868a67",
        "colab": {
          "base_uri": "https://localhost:8080/"
        }
      },
      "id": "bqtCTvW6IKO5",
      "execution_count": 45,
      "outputs": [
        {
          "output_type": "execute_result",
          "data": {
            "text/plain": [
              "STREET_DIRECTION\n",
              "W    1375616\n",
              "S    1284931\n",
              "N     900965\n",
              "E     259777\n",
              "Name: count, dtype: int64"
            ]
          },
          "metadata": {},
          "execution_count": 45
        }
      ]
    },
    {
      "cell_type": "code",
      "source": [
        "merged_crashes['TRAVEL_DIRECTION'].value_counts()"
      ],
      "metadata": {
        "id": "7lG86k5kVlQ5",
        "outputId": "191ea059-39e1-45da-a68f-a783d6cf26cf",
        "colab": {
          "base_uri": "https://localhost:8080/"
        }
      },
      "id": "7lG86k5kVlQ5",
      "execution_count": 46,
      "outputs": [
        {
          "output_type": "execute_result",
          "data": {
            "text/plain": [
              "TRAVEL_DIRECTION\n",
              "N          895177\n",
              "S          876826\n",
              "W          806046\n",
              "E          790611\n",
              "UNKNOWN    188521\n",
              "SE          51437\n",
              "NW          46336\n",
              "SW          38910\n",
              "NE          38139\n",
              "Name: count, dtype: int64"
            ]
          },
          "metadata": {},
          "execution_count": 46
        }
      ]
    },
    {
      "cell_type": "markdown",
      "source": [
        "It seems like travel direction is more pertinent than street direction, so we'll drop the streets. Next, let's investigate 'DRIVERS_LICENSE_CLASS' more closely."
      ],
      "metadata": {
        "id": "Up7ZUOQ2WUNL"
      },
      "id": "Up7ZUOQ2WUNL"
    },
    {
      "cell_type": "code",
      "source": [
        "merged_crashes['DRIVERS_LICENSE_CLASS'].value_counts()"
      ],
      "metadata": {
        "id": "8QXvWvQgW_DR",
        "outputId": "82a175bb-96ec-42a0-8555-b50e73e9cf45",
        "colab": {
          "base_uri": "https://localhost:8080/"
        }
      },
      "id": "8QXvWvQgW_DR",
      "execution_count": 47,
      "outputs": [
        {
          "output_type": "execute_result",
          "data": {
            "text/plain": [
              "DRIVERS_LICENSE_CLASS\n",
              "D     1631638\n",
              "A       63603\n",
              "C       50777\n",
              "B       49613\n",
              "DM      27448\n",
              "       ...   \n",
              "AZ          1\n",
              "TA          1\n",
              "C2          1\n",
              "TR          1\n",
              "LT          1\n",
              "Name: count, Length: 281, dtype: int64"
            ]
          },
          "metadata": {},
          "execution_count": 47
        }
      ]
    },
    {
      "cell_type": "markdown",
      "source": [
        "The distribution here is pretty skewed, the second most frequent class is less than 4% of the most frequent, so I don't think it will be much help. Let's check out 'ROAD_DEFECT' as well."
      ],
      "metadata": {
        "id": "tCtqu0fZXx4d"
      },
      "id": "tCtqu0fZXx4d"
    },
    {
      "cell_type": "code",
      "source": [
        "merged_crashes['ROAD_DEFECT'].value_counts()"
      ],
      "metadata": {
        "id": "-3t6B7xMYaaL",
        "outputId": "a21d8c82-3346-4e2f-d532-8c1a844c4d67",
        "colab": {
          "base_uri": "https://localhost:8080/"
        }
      },
      "id": "-3t6B7xMYaaL",
      "execution_count": 48,
      "outputs": [
        {
          "output_type": "execute_result",
          "data": {
            "text/plain": [
              "ROAD_DEFECT\n",
              "NO DEFECTS           3107058\n",
              "UNKNOWN               655439\n",
              "OTHER                  18539\n",
              "WORN SURFACE           15601\n",
              "RUT, HOLES             15499\n",
              "SHOULDER DEFECT         6612\n",
              "DEBRIS ON ROADWAY       2555\n",
              "Name: count, dtype: int64"
            ]
          },
          "metadata": {},
          "execution_count": 48
        }
      ]
    },
    {
      "cell_type": "markdown",
      "source": [
        "Similar story here; after the less-than-useful classes of 'unknown' and 'other', the first specific one is 'worn surface', but it only amounts to 0.6% of the 'no defects' class, so this column will likely only hinder our model."
      ],
      "metadata": {
        "id": "GIHz9PvvYml6"
      },
      "id": "GIHz9PvvYml6"
    },
    {
      "cell_type": "code",
      "source": [
        "merged_crashes['ROADWAY_SURFACE_COND'].value_counts()"
      ],
      "metadata": {
        "id": "uaeVmlBsZBfk",
        "outputId": "85ccbf90-c3ce-4552-e254-2597a703e48c",
        "colab": {
          "base_uri": "https://localhost:8080/"
        }
      },
      "id": "uaeVmlBsZBfk",
      "execution_count": 49,
      "outputs": [
        {
          "output_type": "execute_result",
          "data": {
            "text/plain": [
              "ROADWAY_SURFACE_COND\n",
              "DRY                2853708\n",
              "WET                 538994\n",
              "UNKNOWN             274972\n",
              "SNOW OR SLUSH       119147\n",
              "ICE                  24736\n",
              "OTHER                 8807\n",
              "SAND, MUD, DIRT        939\n",
              "Name: count, dtype: int64"
            ]
          },
          "metadata": {},
          "execution_count": 49
        }
      ]
    },
    {
      "cell_type": "code",
      "source": [
        "final_columns_to_drop = ['CRASH_RECORD_ID', 'STREET_DIRECTION', 'DRIVERS_LICENSE_CLASS', 'ROAD_DEFECT']\n",
        "merged_crashes = merged_crashes.drop(final_columns_to_drop, axis=1)\n",
        "merged_crashes.info()"
      ],
      "metadata": {
        "id": "nonBHH6UVlhz",
        "outputId": "8f27af0f-7eb9-45f3-c5fb-b8f18e9c816e",
        "colab": {
          "base_uri": "https://localhost:8080/"
        }
      },
      "id": "nonBHH6UVlhz",
      "execution_count": 50,
      "outputs": [
        {
          "output_type": "stream",
          "name": "stdout",
          "text": [
            "<class 'pandas.core.frame.DataFrame'>\n",
            "RangeIndex: 3821303 entries, 0 to 3821302\n",
            "Data columns (total 17 columns):\n",
            " #   Column                   Dtype  \n",
            "---  ------                   -----  \n",
            " 0   POSTED_SPEED_LIMIT       int64  \n",
            " 1   WEATHER_CONDITION        object \n",
            " 2   LIGHTING_CONDITION       object \n",
            " 3   ROADWAY_SURFACE_COND     object \n",
            " 4   PRIM_CONTRIBUTORY_CAUSE  object \n",
            " 5   NUM_UNITS                int64  \n",
            " 6   CRASH_HOUR               int64  \n",
            " 7   CRASH_DAY_OF_WEEK        int64  \n",
            " 8   CRASH_MONTH              int64  \n",
            " 9   LATITUDE                 float64\n",
            " 10  LONGITUDE                float64\n",
            " 11  PERSON_TYPE              object \n",
            " 12  CITY                     object \n",
            " 13  SEX                      object \n",
            " 14  AGE                      float64\n",
            " 15  TRAVEL_DIRECTION         object \n",
            " 16  MANEUVER                 object \n",
            "dtypes: float64(3), int64(5), object(9)\n",
            "memory usage: 495.6+ MB\n"
          ]
        }
      ]
    },
    {
      "cell_type": "markdown",
      "source": [
        "Before we begin preprocessing this merged DataFrame, we need to go through and eliminate the rows that contain 'unknown', 'other', or 'not reported' values as well as those that represent only a tiny fraction of the feature's value counts. This will help reduce the large amount of records we have and the amount of columns that will result after one-hot encoding."
      ],
      "metadata": {
        "id": "Q3VGdXaEVl6T"
      },
      "id": "Q3VGdXaEVl6T"
    },
    {
      "cell_type": "code",
      "source": [
        "merged_crashes['POSTED_SPEED_LIMIT'].value_counts()"
      ],
      "metadata": {
        "id": "TRVLsTYaVmt1",
        "outputId": "80e0e735-8c97-46bc-fb7e-5e6740f6325d",
        "colab": {
          "base_uri": "https://localhost:8080/"
        }
      },
      "id": "TRVLsTYaVmt1",
      "execution_count": 51,
      "outputs": [
        {
          "output_type": "execute_result",
          "data": {
            "text/plain": [
              "POSTED_SPEED_LIMIT\n",
              "30    2915125\n",
              "35     273505\n",
              "25     214449\n",
              "20     127854\n",
              "15      99682\n",
              "10      63520\n",
              "40      44133\n",
              "45      29661\n",
              "0       28913\n",
              "5       15887\n",
              "55       4147\n",
              "50       1232\n",
              "3         977\n",
              "9         400\n",
              "39        374\n",
              "99        291\n",
              "60        252\n",
              "1         125\n",
              "24        122\n",
              "2          84\n",
              "65         82\n",
              "32         75\n",
              "33         62\n",
              "34         60\n",
              "36         40\n",
              "11         40\n",
              "26         35\n",
              "6          26\n",
              "7          22\n",
              "14         18\n",
              "70         15\n",
              "31         14\n",
              "29         11\n",
              "22         10\n",
              "12          9\n",
              "23          8\n",
              "8           8\n",
              "38          8\n",
              "4           7\n",
              "44          6\n",
              "18          6\n",
              "63          4\n",
              "62          2\n",
              "49          1\n",
              "46          1\n",
              "Name: count, dtype: int64"
            ]
          },
          "metadata": {},
          "execution_count": 51
        }
      ]
    },
    {
      "cell_type": "markdown",
      "source": [
        "Our first rows to drop are in the 'POSTED_SPEED_LIMIT' column. There are a lot of unusual speed limit values that aren't divisible by 5 (like 39, 24, 32). Sometimes these are done on purpose to catch the driver's attention, but at the end of the day, these will probably add more noise than anything else to our dataset.\n",
        "\n",
        "![target class binary breakdown.jpg](data:image/jpeg;base64,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)Subsequently, we'll go through and drop any rows where the speed limit isn't a multiple of 5, while still keeping '0'since it's likely a placeholder for a parked vehicle."
      ],
      "metadata": {
        "id": "c29W8S-pi4gq"
      },
      "id": "c29W8S-pi4gq"
    },
    {
      "cell_type": "code",
      "source": [
        "import numpy as np\n",
        "realistic_speed_limits = list(np.arange(0,75,5))\n",
        "merged_crashes = merged_crashes[merged_crashes['POSTED_SPEED_LIMIT'].isin(realistic_speed_limits)]\n",
        "merged_crashes['POSTED_SPEED_LIMIT'].value_counts()"
      ],
      "metadata": {
        "id": "n73S71yId8yO",
        "outputId": "8ede74d7-b259-4607-e01b-686bcf24e9a3",
        "colab": {
          "base_uri": "https://localhost:8080/"
        }
      },
      "id": "n73S71yId8yO",
      "execution_count": 52,
      "outputs": [
        {
          "output_type": "execute_result",
          "data": {
            "text/plain": [
              "POSTED_SPEED_LIMIT\n",
              "30    2915125\n",
              "35     273505\n",
              "25     214449\n",
              "20     127854\n",
              "15      99682\n",
              "10      63520\n",
              "40      44133\n",
              "45      29661\n",
              "0       28913\n",
              "5       15887\n",
              "55       4147\n",
              "50       1232\n",
              "60        252\n",
              "65         82\n",
              "70         15\n",
              "Name: count, dtype: int64"
            ]
          },
          "metadata": {},
          "execution_count": 52
        }
      ]
    },
    {
      "cell_type": "code",
      "source": [
        "merged_crashes.info()"
      ],
      "metadata": {
        "id": "yFn-9CCOd9bG",
        "outputId": "64c93fe9-6ebe-4477-8129-837ddc9860df",
        "colab": {
          "base_uri": "https://localhost:8080/"
        }
      },
      "id": "yFn-9CCOd9bG",
      "execution_count": 53,
      "outputs": [
        {
          "output_type": "stream",
          "name": "stdout",
          "text": [
            "<class 'pandas.core.frame.DataFrame'>\n",
            "Index: 3818457 entries, 0 to 3821302\n",
            "Data columns (total 17 columns):\n",
            " #   Column                   Dtype  \n",
            "---  ------                   -----  \n",
            " 0   POSTED_SPEED_LIMIT       int64  \n",
            " 1   WEATHER_CONDITION        object \n",
            " 2   LIGHTING_CONDITION       object \n",
            " 3   ROADWAY_SURFACE_COND     object \n",
            " 4   PRIM_CONTRIBUTORY_CAUSE  object \n",
            " 5   NUM_UNITS                int64  \n",
            " 6   CRASH_HOUR               int64  \n",
            " 7   CRASH_DAY_OF_WEEK        int64  \n",
            " 8   CRASH_MONTH              int64  \n",
            " 9   LATITUDE                 float64\n",
            " 10  LONGITUDE                float64\n",
            " 11  PERSON_TYPE              object \n",
            " 12  CITY                     object \n",
            " 13  SEX                      object \n",
            " 14  AGE                      float64\n",
            " 15  TRAVEL_DIRECTION         object \n",
            " 16  MANEUVER                 object \n",
            "dtypes: float64(3), int64(5), object(9)\n",
            "memory usage: 524.4+ MB\n"
          ]
        }
      ]
    },
    {
      "cell_type": "code",
      "source": [
        "merged_crashes.shape"
      ],
      "metadata": {
        "colab": {
          "base_uri": "https://localhost:8080/"
        },
        "id": "w9elW2dnjywv",
        "outputId": "3f1b580e-b7a2-4ffd-ebab-759b8ac8844a"
      },
      "id": "w9elW2dnjywv",
      "execution_count": 54,
      "outputs": [
        {
          "output_type": "execute_result",
          "data": {
            "text/plain": [
              "(3818457, 17)"
            ]
          },
          "metadata": {},
          "execution_count": 54
        }
      ]
    },
    {
      "cell_type": "markdown",
      "source": [
        "We have a ton of rows so we can afford to drop those which aren't complete and contain values such as 'unknown', 'other', and 'not reported'. This will help trim our data for better, more complete predicting power and also help it run a little faster."
      ],
      "metadata": {
        "id": "zcDt0u_Id-Li"
      },
      "id": "zcDt0u_Id-Li"
    },
    {
      "cell_type": "code",
      "source": [
        "unhelpful_strings = ['UNKNOWN', 'OTHER', 'NOT REPORTED']\n",
        "#merged_crashes = merged_crashes[merged_crashes.apply(lambda x: not x.str.contains(unhelpful_strings).any(), axis=1)]\n",
        "merged_crashes = merged_crashes[~merged_crashes.isin(unhelpful_strings).any(axis=1)]\n",
        "merged_crashes.info()"
      ],
      "metadata": {
        "id": "LwIeos-FbpyZ",
        "colab": {
          "base_uri": "https://localhost:8080/"
        },
        "outputId": "bebae069-fe72-436c-90f1-53890787c168"
      },
      "id": "LwIeos-FbpyZ",
      "execution_count": 55,
      "outputs": [
        {
          "output_type": "stream",
          "name": "stdout",
          "text": [
            "<class 'pandas.core.frame.DataFrame'>\n",
            "Index: 3286223 entries, 0 to 3821302\n",
            "Data columns (total 17 columns):\n",
            " #   Column                   Dtype  \n",
            "---  ------                   -----  \n",
            " 0   POSTED_SPEED_LIMIT       int64  \n",
            " 1   WEATHER_CONDITION        object \n",
            " 2   LIGHTING_CONDITION       object \n",
            " 3   ROADWAY_SURFACE_COND     object \n",
            " 4   PRIM_CONTRIBUTORY_CAUSE  object \n",
            " 5   NUM_UNITS                int64  \n",
            " 6   CRASH_HOUR               int64  \n",
            " 7   CRASH_DAY_OF_WEEK        int64  \n",
            " 8   CRASH_MONTH              int64  \n",
            " 9   LATITUDE                 float64\n",
            " 10  LONGITUDE                float64\n",
            " 11  PERSON_TYPE              object \n",
            " 12  CITY                     object \n",
            " 13  SEX                      object \n",
            " 14  AGE                      float64\n",
            " 15  TRAVEL_DIRECTION         object \n",
            " 16  MANEUVER                 object \n",
            "dtypes: float64(3), int64(5), object(9)\n",
            "memory usage: 451.3+ MB\n"
          ]
        }
      ]
    },
    {
      "cell_type": "code",
      "source": [
        "#merged_crashes['ROADWAY_SURFACE_COND'].drop(['SAND, MUD, DIRT'], axis=0, inplace=True)\n",
        "#merged_crashes['ROADWAY_SURFACE_COND'] = ~merged_crashes['ROADWAY_SURFACE_COND'].str.contains('SAND, MUD, DIRT')\n",
        "#substring = 'SAND, MUD, DIRT'\n",
        "filter = merged_crashes['ROADWAY_SURFACE_COND'].str.contains('SAND, MUD, DIRT')\n",
        "merged_crashes = merged_crashes[~filter]\n",
        "merged_crashes['ROADWAY_SURFACE_COND'].value_counts()"
      ],
      "metadata": {
        "colab": {
          "base_uri": "https://localhost:8080/"
        },
        "id": "CYtssY9njqJv",
        "outputId": "a106fd60-2305-433a-f44a-2641feabb625"
      },
      "id": "CYtssY9njqJv",
      "execution_count": 56,
      "outputs": [
        {
          "output_type": "execute_result",
          "data": {
            "text/plain": [
              "ROADWAY_SURFACE_COND\n",
              "DRY              2653299\n",
              "WET               502471\n",
              "SNOW OR SLUSH     108198\n",
              "ICE                21492\n",
              "Name: count, dtype: int64"
            ]
          },
          "metadata": {},
          "execution_count": 56
        }
      ]
    },
    {
      "cell_type": "markdown",
      "source": [
        "Now we'll narrow our rows to only show crashes that occured in the city of Chicago:"
      ],
      "metadata": {
        "id": "APirz2Ji8Gwr"
      },
      "id": "APirz2Ji8Gwr"
    },
    {
      "cell_type": "code",
      "source": [
        "merged_crashes = merged_crashes[merged_crashes['CITY'] == 'CHICAGO']\n",
        "merged_crashes['CITY'].value_counts()"
      ],
      "metadata": {
        "colab": {
          "base_uri": "https://localhost:8080/"
        },
        "id": "ti4hN3QqjqYq",
        "outputId": "92c38313-72ae-4543-cec4-c26b3afd8620"
      },
      "id": "ti4hN3QqjqYq",
      "execution_count": 57,
      "outputs": [
        {
          "output_type": "execute_result",
          "data": {
            "text/plain": [
              "CITY\n",
              "CHICAGO    1764860\n",
              "Name: count, dtype: int64"
            ]
          },
          "metadata": {},
          "execution_count": 57
        }
      ]
    },
    {
      "cell_type": "code",
      "source": [
        "merged_crashes.info()"
      ],
      "metadata": {
        "colab": {
          "base_uri": "https://localhost:8080/"
        },
        "id": "N9n7WSVA9Tmq",
        "outputId": "83e30b38-0b35-4c5d-fe2f-cc9497e5282b"
      },
      "id": "N9n7WSVA9Tmq",
      "execution_count": 58,
      "outputs": [
        {
          "output_type": "stream",
          "name": "stdout",
          "text": [
            "<class 'pandas.core.frame.DataFrame'>\n",
            "Index: 1764860 entries, 0 to 3821294\n",
            "Data columns (total 17 columns):\n",
            " #   Column                   Dtype  \n",
            "---  ------                   -----  \n",
            " 0   POSTED_SPEED_LIMIT       int64  \n",
            " 1   WEATHER_CONDITION        object \n",
            " 2   LIGHTING_CONDITION       object \n",
            " 3   ROADWAY_SURFACE_COND     object \n",
            " 4   PRIM_CONTRIBUTORY_CAUSE  object \n",
            " 5   NUM_UNITS                int64  \n",
            " 6   CRASH_HOUR               int64  \n",
            " 7   CRASH_DAY_OF_WEEK        int64  \n",
            " 8   CRASH_MONTH              int64  \n",
            " 9   LATITUDE                 float64\n",
            " 10  LONGITUDE                float64\n",
            " 11  PERSON_TYPE              object \n",
            " 12  CITY                     object \n",
            " 13  SEX                      object \n",
            " 14  AGE                      float64\n",
            " 15  TRAVEL_DIRECTION         object \n",
            " 16  MANEUVER                 object \n",
            "dtypes: float64(3), int64(5), object(9)\n",
            "memory usage: 242.4+ MB\n"
          ]
        }
      ]
    },
    {
      "cell_type": "markdown",
      "source": [
        "We also need to filter out all rows with the 'passenger' class in the 'PERSON_TYPE' column since it is far less likely that they were a contributing cause to the accident than a driver, pedestrian, or cyclist was. We'll also remove the 'non-motor vehicle' and 'non-contact vehcile' rows since they are so few and far between that including them as one-hot encoded columns will likely just hinder our model."
      ],
      "metadata": {
        "id": "TwnqCJVJjq2m"
      },
      "id": "TwnqCJVJjq2m"
    },
    {
      "cell_type": "code",
      "source": [
        "unhelpful_strings = ['PASSENGER', 'NON-MOTOR VEHICLE', 'NON-CONTACT VEHCILE']\n",
        "merged_crashes = merged_crashes[~merged_crashes['PERSON_TYPE'].str.contains('|'.join(unhelpful_strings))]\n",
        "merged_crashes['PERSON_TYPE'].value_counts()"
      ],
      "metadata": {
        "colab": {
          "base_uri": "https://localhost:8080/"
        },
        "id": "GdaPdIvVjrvI",
        "outputId": "3f4a9e38-7a51-4fc8-9fb5-57d0f9ef1365"
      },
      "id": "GdaPdIvVjrvI",
      "execution_count": 59,
      "outputs": [
        {
          "output_type": "execute_result",
          "data": {
            "text/plain": [
              "PERSON_TYPE\n",
              "DRIVER                 1391006\n",
              "PEDESTRIAN               33218\n",
              "BICYCLE                  17923\n",
              "NON-CONTACT VEHICLE        234\n",
              "Name: count, dtype: int64"
            ]
          },
          "metadata": {},
          "execution_count": 59
        }
      ]
    },
    {
      "cell_type": "markdown",
      "source": [
        "Next, we'll remove some strange negative numbers from the 'AGE' column:"
      ],
      "metadata": {
        "id": "HOrqgKxLfkZD"
      },
      "id": "HOrqgKxLfkZD"
    },
    {
      "cell_type": "code",
      "source": [
        "#merged_crashes = merged_crashes.drop(merged_crashes[merged_crashes['AGE'] < 0].index, how='any')\n",
        "#merged_crashes = merged_crashes['AGE'].drop(merged_crashes['AGE'] < 0)\n",
        "merged_crashes = merged_crashes[merged_crashes['AGE'] >= 0]\n",
        "merged_crashes['AGE'].sort_values(ascending=True)"
      ],
      "metadata": {
        "colab": {
          "base_uri": "https://localhost:8080/"
        },
        "id": "RMynnAJW-6k-",
        "outputId": "8a614e40-871b-4c8a-816e-ef11c8d3dd83"
      },
      "id": "RMynnAJW-6k-",
      "execution_count": 60,
      "outputs": [
        {
          "output_type": "execute_result",
          "data": {
            "text/plain": [
              "3038791      0.0\n",
              "2714031      0.0\n",
              "2714032      0.0\n",
              "1510897      0.0\n",
              "2545014      0.0\n",
              "           ...  \n",
              "1350752    109.0\n",
              "200079     109.0\n",
              "998681     110.0\n",
              "998680     110.0\n",
              "2550268    110.0\n",
              "Name: AGE, Length: 1360770, dtype: float64"
            ]
          },
          "metadata": {},
          "execution_count": 60
        }
      ]
    },
    {
      "cell_type": "markdown",
      "source": [
        "Let's also drop the classes from 'MANUEVER' that total fewer than 1,000 since there are 27 classes here. We'll also get rid of NaN's that are described as \"UNKNOWN/NA\" here."
      ],
      "metadata": {
        "id": "Zy8Al2EknHe3"
      },
      "id": "Zy8Al2EknHe3"
    },
    {
      "cell_type": "code",
      "source": [
        "#First, the classes with fewer than 1,000 entries\n",
        "value_counts = merged_crashes['MANEUVER'].value_counts()\n",
        "merged_crashes = merged_crashes[merged_crashes['MANEUVER'].isin(value_counts[value_counts >= 1000].index)]\n",
        "#Now the specific 'unknown/na' class\n",
        "merged_crashes = merged_crashes[~merged_crashes['MANEUVER'].str.contains('UNKNOWN/NA')]\n",
        "merged_crashes['MANEUVER'].value_counts()"
      ],
      "metadata": {
        "colab": {
          "base_uri": "https://localhost:8080/"
        },
        "id": "E0qRstmZoiIo",
        "outputId": "71e7add8-b435-48b4-b3a4-5bfcdd3c9a50"
      },
      "id": "E0qRstmZoiIo",
      "execution_count": 61,
      "outputs": [
        {
          "output_type": "execute_result",
          "data": {
            "text/plain": [
              "MANEUVER\n",
              "STRAIGHT AHEAD                        756311\n",
              "SLOW/STOP IN TRAFFIC                  126222\n",
              "TURNING LEFT                          104934\n",
              "PARKED                                 61085\n",
              "TURNING RIGHT                          50413\n",
              "BACKING                                42772\n",
              "PASSING/OVERTAKING                     34536\n",
              "CHANGING LANES                         28588\n",
              "ENTERING TRAFFIC LANE FROM PARKING     18851\n",
              "MERGING                                10796\n",
              "STARTING IN TRAFFIC                    10028\n",
              "U-TURN                                  9191\n",
              "AVOIDING VEHICLES/OBJECTS               6267\n",
              "ENTER FROM DRIVE/ALLEY                  6136\n",
              "SKIDDING/CONTROL LOSS                   5386\n",
              "LEAVING TRAFFIC LANE TO PARK            4990\n",
              "SLOW/STOP - LEFT TURN                   3231\n",
              "DRIVING WRONG WAY                       1981\n",
              "PARKED IN TRAFFIC LANE                  1893\n",
              "SLOW/STOP - RIGHT TURN                  1862\n",
              "SLOW/STOP - LOAD/UNLOAD                 1556\n",
              "NEGOTIATING A CURVE                     1430\n",
              "Name: count, dtype: int64"
            ]
          },
          "metadata": {},
          "execution_count": 61
        }
      ]
    },
    {
      "cell_type": "markdown",
      "source": [
        "Finally, let's check and see how the date & time data looks. The [data dictionary tells us](https://data.cityofchicago.org/Transportation/Traffic-Crashes-Crashes/85ca-t3if/about_data) that Sunday=1, Monday=2, etc."
      ],
      "metadata": {
        "id": "x2IN1BN91tSy"
      },
      "id": "x2IN1BN91tSy"
    },
    {
      "cell_type": "code",
      "source": [
        "merged_crashes['CRASH_DAY_OF_WEEK'].value_counts()"
      ],
      "metadata": {
        "colab": {
          "base_uri": "https://localhost:8080/"
        },
        "id": "nrl3GZYKfzhn",
        "outputId": "99faaa4f-4b37-4a61-e811-92ed10f45db7"
      },
      "id": "nrl3GZYKfzhn",
      "execution_count": 62,
      "outputs": [
        {
          "output_type": "execute_result",
          "data": {
            "text/plain": [
              "CRASH_DAY_OF_WEEK\n",
              "6    214916\n",
              "5    190092\n",
              "3    188682\n",
              "4    188315\n",
              "7    183845\n",
              "2    176736\n",
              "1    145873\n",
              "Name: count, dtype: int64"
            ]
          },
          "metadata": {},
          "execution_count": 62
        }
      ]
    },
    {
      "cell_type": "markdown",
      "source": [
        "So, this columns appears as a numerical one, but it's really a categorical column that will need to be one-hot encoded. The same goes for 'CRASH_MONTH':"
      ],
      "metadata": {
        "id": "vdooOEZE2Vcx"
      },
      "id": "vdooOEZE2Vcx"
    },
    {
      "cell_type": "code",
      "source": [
        "merged_crashes['CRASH_MONTH'].value_counts()"
      ],
      "metadata": {
        "colab": {
          "base_uri": "https://localhost:8080/"
        },
        "id": "af4RWo9qm9mw",
        "outputId": "2b160f0d-09c0-411c-ae20-db90ce04c524"
      },
      "id": "af4RWo9qm9mw",
      "execution_count": 63,
      "outputs": [
        {
          "output_type": "execute_result",
          "data": {
            "text/plain": [
              "CRASH_MONTH\n",
              "10    120868\n",
              "9     113600\n",
              "12    110461\n",
              "8     109769\n",
              "11    107717\n",
              "7     106111\n",
              "5     105815\n",
              "3     105160\n",
              "6     104840\n",
              "4     103804\n",
              "1     101555\n",
              "2      98759\n",
              "Name: count, dtype: int64"
            ]
          },
          "metadata": {},
          "execution_count": 63
        }
      ]
    },
    {
      "cell_type": "markdown",
      "source": [
        "However, we'll keep the hour of day as a numerical column [since it can serve as one](https://stats.stackexchange.com/a/245887/378499) and it would also help keep dimensionality down.\n",
        "\n",
        "# preparing target column\n",
        "\n",
        "The goal of this study is to explain the underlying causes in vehicle crashes, our target column will be 'PRIM_CONTIBUTORY_CAUSE'. The only obstacle here is the amount of classes this column contains:"
      ],
      "metadata": {
        "id": "lyAzzySd24sY"
      },
      "id": "lyAzzySd24sY"
    },
    {
      "cell_type": "code",
      "source": [
        "merged_crashes['PRIM_CONTRIBUTORY_CAUSE'].value_counts()"
      ],
      "metadata": {
        "id": "35ENQ6hxhLxd",
        "outputId": "e46b8a24-54f7-4dee-ca3f-ba4543d7f367",
        "colab": {
          "base_uri": "https://localhost:8080/"
        }
      },
      "id": "35ENQ6hxhLxd",
      "execution_count": 65,
      "outputs": [
        {
          "output_type": "execute_result",
          "data": {
            "text/plain": [
              "PRIM_CONTRIBUTORY_CAUSE\n",
              "UNABLE TO DETERMINE                                                                 360273\n",
              "FAILING TO YIELD RIGHT-OF-WAY                                                       204131\n",
              "FOLLOWING TOO CLOSELY                                                               172464\n",
              "FAILING TO REDUCE SPEED TO AVOID CRASH                                               75528\n",
              "IMPROPER OVERTAKING/PASSING                                                          68475\n",
              "IMPROPER TURNING/NO SIGNAL                                                           53608\n",
              "IMPROPER LANE USAGE                                                                  51058\n",
              "IMPROPER BACKING                                                                     40941\n",
              "DISREGARDING TRAFFIC SIGNALS                                                         39556\n",
              "NOT APPLICABLE                                                                       38624\n",
              "DRIVING SKILLS/KNOWLEDGE/EXPERIENCE                                                  38568\n",
              "WEATHER                                                                              23197\n",
              "DISREGARDING STOP SIGN                                                               20390\n",
              "OPERATING VEHICLE IN ERRATIC, RECKLESS, CARELESS, NEGLIGENT OR AGGRESSIVE MANNER     14087\n",
              "DISTRACTION - FROM INSIDE VEHICLE                                                    11974\n",
              "EQUIPMENT - VEHICLE CONDITION                                                         9925\n",
              "VISION OBSCURED (SIGNS, TREE LIMBS, BUILDINGS, ETC.)                                  9395\n",
              "PHYSICAL CONDITION OF DRIVER                                                          9035\n",
              "UNDER THE INFLUENCE OF ALCOHOL/DRUGS (USE WHEN ARREST IS EFFECTED)                    8705\n",
              "DRIVING ON WRONG SIDE/WRONG WAY                                                       7812\n",
              "DISTRACTION - FROM OUTSIDE VEHICLE                                                    5884\n",
              "DISREGARDING OTHER TRAFFIC SIGNS                                                      3294\n",
              "EXCEEDING SAFE SPEED FOR CONDITIONS                                                   3116\n",
              "EXCEEDING AUTHORIZED SPEED LIMIT                                                      3033\n",
              "EVASIVE ACTION DUE TO ANIMAL, OBJECT, NONMOTORIST                                     2357\n",
              "CELL PHONE USE OTHER THAN TEXTING                                                     2218\n",
              "ROAD CONSTRUCTION/MAINTENANCE                                                         1907\n",
              "DISREGARDING ROAD MARKINGS                                                            1689\n",
              "ROAD ENGINEERING/SURFACE/MARKING DEFECTS                                              1511\n",
              "TURNING RIGHT ON RED                                                                  1089\n",
              "HAD BEEN DRINKING (USE WHEN ARREST IS NOT MADE)                                        973\n",
              "DISTRACTION - OTHER ELECTRONIC DEVICE (NAVIGATION DEVICE, DVD PLAYER, ETC.)            769\n",
              "ANIMAL                                                                                 672\n",
              "TEXTING                                                                                658\n",
              "RELATED TO BUS STOP                                                                    609\n",
              "DISREGARDING YIELD SIGN                                                                520\n",
              "PASSING STOPPED SCHOOL BUS                                                             160\n",
              "OBSTRUCTED CROSSWALKS                                                                  150\n",
              "BICYCLE ADVANCING LEGALLY ON RED LIGHT                                                  74\n",
              "MOTORCYCLE ADVANCING LEGALLY ON RED LIGHT                                               30\n",
              "Name: count, dtype: int64"
            ]
          },
          "metadata": {},
          "execution_count": 65
        }
      ]
    },
    {
      "cell_type": "code",
      "source": [
        "len(merged_crashes['PRIM_CONTRIBUTORY_CAUSE'].value_counts())"
      ],
      "metadata": {
        "id": "r9CG5vy1h21c",
        "outputId": "43f1f967-7498-4024-e908-70aeed6b9a07",
        "colab": {
          "base_uri": "https://localhost:8080/"
        }
      },
      "id": "r9CG5vy1h21c",
      "execution_count": 67,
      "outputs": [
        {
          "output_type": "execute_result",
          "data": {
            "text/plain": [
              "40"
            ]
          },
          "metadata": {},
          "execution_count": 67
        }
      ]
    },
    {
      "cell_type": "markdown",
      "source": [
        "While we can drop the 'UNABLE TO DETERMINE' and 'NOT APPLICABLE' classes, that would still leave 38 classes, which is not going to lead to any meaningful results.\n",
        "\n",
        "My solution is to generalize these causes into two categories with the end goal for the stakeholder in mind, which is reducing traffic accidents. Specifically, I'll group these into those causes which show the driver was at fault and those which don't, like so:\n",
        "\n",
        "\n"
      ],
      "metadata": {
        "id": "L_zZQRd2hlF6"
      },
      "id": "L_zZQRd2hlF6"
    },
    {
      "cell_type": "code",
      "source": [],
      "metadata": {
        "id": "tIMf4epLhMDy"
      },
      "id": "tIMf4epLhMDy",
      "execution_count": null,
      "outputs": []
    },
    {
      "cell_type": "code",
      "source": [],
      "metadata": {
        "id": "04039q6WhMTK"
      },
      "id": "04039q6WhMTK",
      "execution_count": null,
      "outputs": []
    },
    {
      "cell_type": "code",
      "source": [
        "merged_crashes.info()"
      ],
      "metadata": {
        "id": "KArZ8EnvcCIj",
        "outputId": "d4e16b2c-0198-410e-dca3-ab3a2ff0e27f",
        "colab": {
          "base_uri": "https://localhost:8080/"
        }
      },
      "id": "KArZ8EnvcCIj",
      "execution_count": 64,
      "outputs": [
        {
          "output_type": "stream",
          "name": "stdout",
          "text": [
            "<class 'pandas.core.frame.DataFrame'>\n",
            "Index: 1288459 entries, 0 to 3821294\n",
            "Data columns (total 17 columns):\n",
            " #   Column                   Non-Null Count    Dtype  \n",
            "---  ------                   --------------    -----  \n",
            " 0   POSTED_SPEED_LIMIT       1288459 non-null  int64  \n",
            " 1   WEATHER_CONDITION        1288459 non-null  object \n",
            " 2   LIGHTING_CONDITION       1288459 non-null  object \n",
            " 3   ROADWAY_SURFACE_COND     1288459 non-null  object \n",
            " 4   PRIM_CONTRIBUTORY_CAUSE  1288459 non-null  object \n",
            " 5   NUM_UNITS                1288459 non-null  int64  \n",
            " 6   CRASH_HOUR               1288459 non-null  int64  \n",
            " 7   CRASH_DAY_OF_WEEK        1288459 non-null  int64  \n",
            " 8   CRASH_MONTH              1288459 non-null  int64  \n",
            " 9   LATITUDE                 1281604 non-null  float64\n",
            " 10  LONGITUDE                1281604 non-null  float64\n",
            " 11  PERSON_TYPE              1288459 non-null  object \n",
            " 12  CITY                     1288459 non-null  object \n",
            " 13  SEX                      1288370 non-null  object \n",
            " 14  AGE                      1288459 non-null  float64\n",
            " 15  TRAVEL_DIRECTION         1288459 non-null  object \n",
            " 16  MANEUVER                 1288459 non-null  object \n",
            "dtypes: float64(3), int64(5), object(9)\n",
            "memory usage: 176.9+ MB\n"
          ]
        }
      ]
    },
    {
      "cell_type": "code",
      "source": [
        "from sklearn.preprocessing import OneHotEncoder\n",
        "encoder = OneHotEncoder()\n",
        "categorical_columns = ['WEATHER_CONDITION', 'LIGHTING_CONDITION', 'ROADWAY_SURFACE_COND', ]"
      ],
      "metadata": {
        "id": "o4QBJJH12iy8"
      },
      "id": "o4QBJJH12iy8",
      "execution_count": null,
      "outputs": []
    }
  ],
  "metadata": {
    "kernelspec": {
      "display_name": "Python 3 (ipykernel)",
      "language": "python",
      "name": "python3"
    },
    "language_info": {
      "codemirror_mode": {
        "name": "ipython",
        "version": 3
      },
      "file_extension": ".py",
      "mimetype": "text/x-python",
      "name": "python",
      "nbconvert_exporter": "python",
      "pygments_lexer": "ipython3",
      "version": "3.9.18"
    },
    "colab": {
      "provenance": []
    }
  },
  "nbformat": 4,
  "nbformat_minor": 5
}