{
  "cells": [
    {
      "cell_type": "code",
      "execution_count": 1,
      "id": "83342757-736d-474d-9612-da6594af6026",
      "metadata": {
        "id": "83342757-736d-474d-9612-da6594af6026",
        "outputId": "6cca0ee3-d7ff-4537-ea87-3002285d964b",
        "colab": {
          "base_uri": "https://localhost:8080/"
        }
      },
      "outputs": [
        {
          "output_type": "stream",
          "name": "stdout",
          "text": [
            "Mounted at /content/drive\n"
          ]
        }
      ],
      "source": [
        "import pandas as pd\n",
        "from google.colab import drive\n",
        "drive.mount('/content/drive')"
      ]
    },
    {
      "cell_type": "code",
      "source": [
        "crashes_df = pd.read_csv('/content/drive/MyDrive/CPD_traffic_crashes-crashes-20240501.csv')\n",
        "crashes_df.head(3)"
      ],
      "metadata": {
        "id": "rbsmCwFv_RQC",
        "outputId": "f265c392-97a7-43cc-92fe-fb1ca691ebbc",
        "colab": {
          "base_uri": "https://localhost:8080/",
          "height": 297
        }
      },
      "id": "rbsmCwFv_RQC",
      "execution_count": 2,
      "outputs": [
        {
          "output_type": "execute_result",
          "data": {
            "text/plain": [
              "                                     CRASH_RECORD_ID CRASH_DATE_EST_I  \\\n",
              "0  6c1659069e9c6285a650e70d6f9b574ed5f64c12888479...              NaN   \n",
              "1  5f54a59fcb087b12ae5b1acff96a3caf4f2d37e79f8db4...              NaN   \n",
              "2  61fcb8c1eb522a6469b460e2134df3d15f82e81fd93e9c...              NaN   \n",
              "\n",
              "               CRASH_DATE  POSTED_SPEED_LIMIT TRAFFIC_CONTROL_DEVICE  \\\n",
              "0  08/18/2023 12:50:00 PM                  15                  OTHER   \n",
              "1  07/29/2023 02:45:00 PM                  30         TRAFFIC SIGNAL   \n",
              "2  08/18/2023 05:58:00 PM                  30            NO CONTROLS   \n",
              "\n",
              "       DEVICE_CONDITION WEATHER_CONDITION LIGHTING_CONDITION  \\\n",
              "0  FUNCTIONING PROPERLY             CLEAR           DAYLIGHT   \n",
              "1  FUNCTIONING PROPERLY             CLEAR           DAYLIGHT   \n",
              "2           NO CONTROLS             CLEAR           DAYLIGHT   \n",
              "\n",
              "       FIRST_CRASH_TYPE                  TRAFFICWAY_TYPE  ...  \\\n",
              "0              REAR END                            OTHER  ...   \n",
              "1  PARKED MOTOR VEHICLE  DIVIDED - W/MEDIAN (NOT RAISED)  ...   \n",
              "2          PEDALCYCLIST                      NOT DIVIDED  ...   \n",
              "\n",
              "   INJURIES_NON_INCAPACITATING INJURIES_REPORTED_NOT_EVIDENT  \\\n",
              "0                          1.0                           0.0   \n",
              "1                          0.0                           0.0   \n",
              "2                          1.0                           0.0   \n",
              "\n",
              "  INJURIES_NO_INDICATION INJURIES_UNKNOWN CRASH_HOUR CRASH_DAY_OF_WEEK  \\\n",
              "0                    1.0              0.0         12                 6   \n",
              "1                    1.0              0.0         14                 7   \n",
              "2                    1.0              0.0         17                 6   \n",
              "\n",
              "  CRASH_MONTH   LATITUDE  LONGITUDE                                  LOCATION  \n",
              "0           8        NaN        NaN                                       NaN  \n",
              "1           7  41.854120 -87.665902  POINT (-87.665902342962 41.854120262952)  \n",
              "2           8  41.942976 -87.761883  POINT (-87.761883496974 41.942975745006)  \n",
              "\n",
              "[3 rows x 48 columns]"
            ],
            "text/html": [
              "\n",
              "  <div id=\"df-a87333f2-ab03-47ef-a0fd-7e30b2b18302\" class=\"colab-df-container\">\n",
              "    <div>\n",
              "<style scoped>\n",
              "    .dataframe tbody tr th:only-of-type {\n",
              "        vertical-align: middle;\n",
              "    }\n",
              "\n",
              "    .dataframe tbody tr th {\n",
              "        vertical-align: top;\n",
              "    }\n",
              "\n",
              "    .dataframe thead th {\n",
              "        text-align: right;\n",
              "    }\n",
              "</style>\n",
              "<table border=\"1\" class=\"dataframe\">\n",
              "  <thead>\n",
              "    <tr style=\"text-align: right;\">\n",
              "      <th></th>\n",
              "      <th>CRASH_RECORD_ID</th>\n",
              "      <th>CRASH_DATE_EST_I</th>\n",
              "      <th>CRASH_DATE</th>\n",
              "      <th>POSTED_SPEED_LIMIT</th>\n",
              "      <th>TRAFFIC_CONTROL_DEVICE</th>\n",
              "      <th>DEVICE_CONDITION</th>\n",
              "      <th>WEATHER_CONDITION</th>\n",
              "      <th>LIGHTING_CONDITION</th>\n",
              "      <th>FIRST_CRASH_TYPE</th>\n",
              "      <th>TRAFFICWAY_TYPE</th>\n",
              "      <th>...</th>\n",
              "      <th>INJURIES_NON_INCAPACITATING</th>\n",
              "      <th>INJURIES_REPORTED_NOT_EVIDENT</th>\n",
              "      <th>INJURIES_NO_INDICATION</th>\n",
              "      <th>INJURIES_UNKNOWN</th>\n",
              "      <th>CRASH_HOUR</th>\n",
              "      <th>CRASH_DAY_OF_WEEK</th>\n",
              "      <th>CRASH_MONTH</th>\n",
              "      <th>LATITUDE</th>\n",
              "      <th>LONGITUDE</th>\n",
              "      <th>LOCATION</th>\n",
              "    </tr>\n",
              "  </thead>\n",
              "  <tbody>\n",
              "    <tr>\n",
              "      <th>0</th>\n",
              "      <td>6c1659069e9c6285a650e70d6f9b574ed5f64c12888479...</td>\n",
              "      <td>NaN</td>\n",
              "      <td>08/18/2023 12:50:00 PM</td>\n",
              "      <td>15</td>\n",
              "      <td>OTHER</td>\n",
              "      <td>FUNCTIONING PROPERLY</td>\n",
              "      <td>CLEAR</td>\n",
              "      <td>DAYLIGHT</td>\n",
              "      <td>REAR END</td>\n",
              "      <td>OTHER</td>\n",
              "      <td>...</td>\n",
              "      <td>1.0</td>\n",
              "      <td>0.0</td>\n",
              "      <td>1.0</td>\n",
              "      <td>0.0</td>\n",
              "      <td>12</td>\n",
              "      <td>6</td>\n",
              "      <td>8</td>\n",
              "      <td>NaN</td>\n",
              "      <td>NaN</td>\n",
              "      <td>NaN</td>\n",
              "    </tr>\n",
              "    <tr>\n",
              "      <th>1</th>\n",
              "      <td>5f54a59fcb087b12ae5b1acff96a3caf4f2d37e79f8db4...</td>\n",
              "      <td>NaN</td>\n",
              "      <td>07/29/2023 02:45:00 PM</td>\n",
              "      <td>30</td>\n",
              "      <td>TRAFFIC SIGNAL</td>\n",
              "      <td>FUNCTIONING PROPERLY</td>\n",
              "      <td>CLEAR</td>\n",
              "      <td>DAYLIGHT</td>\n",
              "      <td>PARKED MOTOR VEHICLE</td>\n",
              "      <td>DIVIDED - W/MEDIAN (NOT RAISED)</td>\n",
              "      <td>...</td>\n",
              "      <td>0.0</td>\n",
              "      <td>0.0</td>\n",
              "      <td>1.0</td>\n",
              "      <td>0.0</td>\n",
              "      <td>14</td>\n",
              "      <td>7</td>\n",
              "      <td>7</td>\n",
              "      <td>41.854120</td>\n",
              "      <td>-87.665902</td>\n",
              "      <td>POINT (-87.665902342962 41.854120262952)</td>\n",
              "    </tr>\n",
              "    <tr>\n",
              "      <th>2</th>\n",
              "      <td>61fcb8c1eb522a6469b460e2134df3d15f82e81fd93e9c...</td>\n",
              "      <td>NaN</td>\n",
              "      <td>08/18/2023 05:58:00 PM</td>\n",
              "      <td>30</td>\n",
              "      <td>NO CONTROLS</td>\n",
              "      <td>NO CONTROLS</td>\n",
              "      <td>CLEAR</td>\n",
              "      <td>DAYLIGHT</td>\n",
              "      <td>PEDALCYCLIST</td>\n",
              "      <td>NOT DIVIDED</td>\n",
              "      <td>...</td>\n",
              "      <td>1.0</td>\n",
              "      <td>0.0</td>\n",
              "      <td>1.0</td>\n",
              "      <td>0.0</td>\n",
              "      <td>17</td>\n",
              "      <td>6</td>\n",
              "      <td>8</td>\n",
              "      <td>41.942976</td>\n",
              "      <td>-87.761883</td>\n",
              "      <td>POINT (-87.761883496974 41.942975745006)</td>\n",
              "    </tr>\n",
              "  </tbody>\n",
              "</table>\n",
              "<p>3 rows × 48 columns</p>\n",
              "</div>\n",
              "    <div class=\"colab-df-buttons\">\n",
              "\n",
              "  <div class=\"colab-df-container\">\n",
              "    <button class=\"colab-df-convert\" onclick=\"convertToInteractive('df-a87333f2-ab03-47ef-a0fd-7e30b2b18302')\"\n",
              "            title=\"Convert this dataframe to an interactive table.\"\n",
              "            style=\"display:none;\">\n",
              "\n",
              "  <svg xmlns=\"http://www.w3.org/2000/svg\" height=\"24px\" viewBox=\"0 -960 960 960\">\n",
              "    <path d=\"M120-120v-720h720v720H120Zm60-500h600v-160H180v160Zm220 220h160v-160H400v160Zm0 220h160v-160H400v160ZM180-400h160v-160H180v160Zm440 0h160v-160H620v160ZM180-180h160v-160H180v160Zm440 0h160v-160H620v160Z\"/>\n",
              "  </svg>\n",
              "    </button>\n",
              "\n",
              "  <style>\n",
              "    .colab-df-container {\n",
              "      display:flex;\n",
              "      gap: 12px;\n",
              "    }\n",
              "\n",
              "    .colab-df-convert {\n",
              "      background-color: #E8F0FE;\n",
              "      border: none;\n",
              "      border-radius: 50%;\n",
              "      cursor: pointer;\n",
              "      display: none;\n",
              "      fill: #1967D2;\n",
              "      height: 32px;\n",
              "      padding: 0 0 0 0;\n",
              "      width: 32px;\n",
              "    }\n",
              "\n",
              "    .colab-df-convert:hover {\n",
              "      background-color: #E2EBFA;\n",
              "      box-shadow: 0px 1px 2px rgba(60, 64, 67, 0.3), 0px 1px 3px 1px rgba(60, 64, 67, 0.15);\n",
              "      fill: #174EA6;\n",
              "    }\n",
              "\n",
              "    .colab-df-buttons div {\n",
              "      margin-bottom: 4px;\n",
              "    }\n",
              "\n",
              "    [theme=dark] .colab-df-convert {\n",
              "      background-color: #3B4455;\n",
              "      fill: #D2E3FC;\n",
              "    }\n",
              "\n",
              "    [theme=dark] .colab-df-convert:hover {\n",
              "      background-color: #434B5C;\n",
              "      box-shadow: 0px 1px 3px 1px rgba(0, 0, 0, 0.15);\n",
              "      filter: drop-shadow(0px 1px 2px rgba(0, 0, 0, 0.3));\n",
              "      fill: #FFFFFF;\n",
              "    }\n",
              "  </style>\n",
              "\n",
              "    <script>\n",
              "      const buttonEl =\n",
              "        document.querySelector('#df-a87333f2-ab03-47ef-a0fd-7e30b2b18302 button.colab-df-convert');\n",
              "      buttonEl.style.display =\n",
              "        google.colab.kernel.accessAllowed ? 'block' : 'none';\n",
              "\n",
              "      async function convertToInteractive(key) {\n",
              "        const element = document.querySelector('#df-a87333f2-ab03-47ef-a0fd-7e30b2b18302');\n",
              "        const dataTable =\n",
              "          await google.colab.kernel.invokeFunction('convertToInteractive',\n",
              "                                                    [key], {});\n",
              "        if (!dataTable) return;\n",
              "\n",
              "        const docLinkHtml = 'Like what you see? Visit the ' +\n",
              "          '<a target=\"_blank\" href=https://colab.research.google.com/notebooks/data_table.ipynb>data table notebook</a>'\n",
              "          + ' to learn more about interactive tables.';\n",
              "        element.innerHTML = '';\n",
              "        dataTable['output_type'] = 'display_data';\n",
              "        await google.colab.output.renderOutput(dataTable, element);\n",
              "        const docLink = document.createElement('div');\n",
              "        docLink.innerHTML = docLinkHtml;\n",
              "        element.appendChild(docLink);\n",
              "      }\n",
              "    </script>\n",
              "  </div>\n",
              "\n",
              "\n",
              "<div id=\"df-8ce0e118-df88-427f-91ba-b38e8536a0f1\">\n",
              "  <button class=\"colab-df-quickchart\" onclick=\"quickchart('df-8ce0e118-df88-427f-91ba-b38e8536a0f1')\"\n",
              "            title=\"Suggest charts\"\n",
              "            style=\"display:none;\">\n",
              "\n",
              "<svg xmlns=\"http://www.w3.org/2000/svg\" height=\"24px\"viewBox=\"0 0 24 24\"\n",
              "     width=\"24px\">\n",
              "    <g>\n",
              "        <path d=\"M19 3H5c-1.1 0-2 .9-2 2v14c0 1.1.9 2 2 2h14c1.1 0 2-.9 2-2V5c0-1.1-.9-2-2-2zM9 17H7v-7h2v7zm4 0h-2V7h2v10zm4 0h-2v-4h2v4z\"/>\n",
              "    </g>\n",
              "</svg>\n",
              "  </button>\n",
              "\n",
              "<style>\n",
              "  .colab-df-quickchart {\n",
              "      --bg-color: #E8F0FE;\n",
              "      --fill-color: #1967D2;\n",
              "      --hover-bg-color: #E2EBFA;\n",
              "      --hover-fill-color: #174EA6;\n",
              "      --disabled-fill-color: #AAA;\n",
              "      --disabled-bg-color: #DDD;\n",
              "  }\n",
              "\n",
              "  [theme=dark] .colab-df-quickchart {\n",
              "      --bg-color: #3B4455;\n",
              "      --fill-color: #D2E3FC;\n",
              "      --hover-bg-color: #434B5C;\n",
              "      --hover-fill-color: #FFFFFF;\n",
              "      --disabled-bg-color: #3B4455;\n",
              "      --disabled-fill-color: #666;\n",
              "  }\n",
              "\n",
              "  .colab-df-quickchart {\n",
              "    background-color: var(--bg-color);\n",
              "    border: none;\n",
              "    border-radius: 50%;\n",
              "    cursor: pointer;\n",
              "    display: none;\n",
              "    fill: var(--fill-color);\n",
              "    height: 32px;\n",
              "    padding: 0;\n",
              "    width: 32px;\n",
              "  }\n",
              "\n",
              "  .colab-df-quickchart:hover {\n",
              "    background-color: var(--hover-bg-color);\n",
              "    box-shadow: 0 1px 2px rgba(60, 64, 67, 0.3), 0 1px 3px 1px rgba(60, 64, 67, 0.15);\n",
              "    fill: var(--button-hover-fill-color);\n",
              "  }\n",
              "\n",
              "  .colab-df-quickchart-complete:disabled,\n",
              "  .colab-df-quickchart-complete:disabled:hover {\n",
              "    background-color: var(--disabled-bg-color);\n",
              "    fill: var(--disabled-fill-color);\n",
              "    box-shadow: none;\n",
              "  }\n",
              "\n",
              "  .colab-df-spinner {\n",
              "    border: 2px solid var(--fill-color);\n",
              "    border-color: transparent;\n",
              "    border-bottom-color: var(--fill-color);\n",
              "    animation:\n",
              "      spin 1s steps(1) infinite;\n",
              "  }\n",
              "\n",
              "  @keyframes spin {\n",
              "    0% {\n",
              "      border-color: transparent;\n",
              "      border-bottom-color: var(--fill-color);\n",
              "      border-left-color: var(--fill-color);\n",
              "    }\n",
              "    20% {\n",
              "      border-color: transparent;\n",
              "      border-left-color: var(--fill-color);\n",
              "      border-top-color: var(--fill-color);\n",
              "    }\n",
              "    30% {\n",
              "      border-color: transparent;\n",
              "      border-left-color: var(--fill-color);\n",
              "      border-top-color: var(--fill-color);\n",
              "      border-right-color: var(--fill-color);\n",
              "    }\n",
              "    40% {\n",
              "      border-color: transparent;\n",
              "      border-right-color: var(--fill-color);\n",
              "      border-top-color: var(--fill-color);\n",
              "    }\n",
              "    60% {\n",
              "      border-color: transparent;\n",
              "      border-right-color: var(--fill-color);\n",
              "    }\n",
              "    80% {\n",
              "      border-color: transparent;\n",
              "      border-right-color: var(--fill-color);\n",
              "      border-bottom-color: var(--fill-color);\n",
              "    }\n",
              "    90% {\n",
              "      border-color: transparent;\n",
              "      border-bottom-color: var(--fill-color);\n",
              "    }\n",
              "  }\n",
              "</style>\n",
              "\n",
              "  <script>\n",
              "    async function quickchart(key) {\n",
              "      const quickchartButtonEl =\n",
              "        document.querySelector('#' + key + ' button');\n",
              "      quickchartButtonEl.disabled = true;  // To prevent multiple clicks.\n",
              "      quickchartButtonEl.classList.add('colab-df-spinner');\n",
              "      try {\n",
              "        const charts = await google.colab.kernel.invokeFunction(\n",
              "            'suggestCharts', [key], {});\n",
              "      } catch (error) {\n",
              "        console.error('Error during call to suggestCharts:', error);\n",
              "      }\n",
              "      quickchartButtonEl.classList.remove('colab-df-spinner');\n",
              "      quickchartButtonEl.classList.add('colab-df-quickchart-complete');\n",
              "    }\n",
              "    (() => {\n",
              "      let quickchartButtonEl =\n",
              "        document.querySelector('#df-8ce0e118-df88-427f-91ba-b38e8536a0f1 button');\n",
              "      quickchartButtonEl.style.display =\n",
              "        google.colab.kernel.accessAllowed ? 'block' : 'none';\n",
              "    })();\n",
              "  </script>\n",
              "</div>\n",
              "\n",
              "    </div>\n",
              "  </div>\n"
            ],
            "application/vnd.google.colaboratory.intrinsic+json": {
              "type": "dataframe",
              "variable_name": "crashes_df"
            }
          },
          "metadata": {},
          "execution_count": 2
        }
      ]
    },
    {
      "cell_type": "code",
      "source": [
        "crashes_df.info()"
      ],
      "metadata": {
        "id": "Qw0yYAHwHToP",
        "outputId": "a96055fe-9fa1-47cb-b359-2cea2996e62c",
        "colab": {
          "base_uri": "https://localhost:8080/"
        }
      },
      "id": "Qw0yYAHwHToP",
      "execution_count": 3,
      "outputs": [
        {
          "output_type": "stream",
          "name": "stdout",
          "text": [
            "<class 'pandas.core.frame.DataFrame'>\n",
            "RangeIndex: 828511 entries, 0 to 828510\n",
            "Data columns (total 48 columns):\n",
            " #   Column                         Non-Null Count   Dtype  \n",
            "---  ------                         --------------   -----  \n",
            " 0   CRASH_RECORD_ID                828511 non-null  object \n",
            " 1   CRASH_DATE_EST_I               61842 non-null   object \n",
            " 2   CRASH_DATE                     828511 non-null  object \n",
            " 3   POSTED_SPEED_LIMIT             828511 non-null  int64  \n",
            " 4   TRAFFIC_CONTROL_DEVICE         828511 non-null  object \n",
            " 5   DEVICE_CONDITION               828511 non-null  object \n",
            " 6   WEATHER_CONDITION              828511 non-null  object \n",
            " 7   LIGHTING_CONDITION             828511 non-null  object \n",
            " 8   FIRST_CRASH_TYPE               828511 non-null  object \n",
            " 9   TRAFFICWAY_TYPE                828511 non-null  object \n",
            " 10  LANE_CNT                       199011 non-null  float64\n",
            " 11  ALIGNMENT                      828511 non-null  object \n",
            " 12  ROADWAY_SURFACE_COND           828511 non-null  object \n",
            " 13  ROAD_DEFECT                    828511 non-null  object \n",
            " 14  REPORT_TYPE                    803705 non-null  object \n",
            " 15  CRASH_TYPE                     828511 non-null  object \n",
            " 16  INTERSECTION_RELATED_I         189976 non-null  object \n",
            " 17  NOT_RIGHT_OF_WAY_I             38167 non-null   object \n",
            " 18  HIT_AND_RUN_I                  259413 non-null  object \n",
            " 19  DAMAGE                         828511 non-null  object \n",
            " 20  DATE_POLICE_NOTIFIED           828511 non-null  object \n",
            " 21  PRIM_CONTRIBUTORY_CAUSE        828511 non-null  object \n",
            " 22  SEC_CONTRIBUTORY_CAUSE         828511 non-null  object \n",
            " 23  STREET_NO                      828511 non-null  int64  \n",
            " 24  STREET_DIRECTION               828507 non-null  object \n",
            " 25  STREET_NAME                    828510 non-null  object \n",
            " 26  BEAT_OF_OCCURRENCE             828506 non-null  float64\n",
            " 27  PHOTOS_TAKEN_I                 10972 non-null   object \n",
            " 28  STATEMENTS_TAKEN_I             18613 non-null   object \n",
            " 29  DOORING_I                      2547 non-null    object \n",
            " 30  WORK_ZONE_I                    4715 non-null    object \n",
            " 31  WORK_ZONE_TYPE                 3641 non-null    object \n",
            " 32  WORKERS_PRESENT_I              1208 non-null    object \n",
            " 33  NUM_UNITS                      828511 non-null  int64  \n",
            " 34  MOST_SEVERE_INJURY             826689 non-null  object \n",
            " 35  INJURIES_TOTAL                 826702 non-null  float64\n",
            " 36  INJURIES_FATAL                 826702 non-null  float64\n",
            " 37  INJURIES_INCAPACITATING        826702 non-null  float64\n",
            " 38  INJURIES_NON_INCAPACITATING    826702 non-null  float64\n",
            " 39  INJURIES_REPORTED_NOT_EVIDENT  826702 non-null  float64\n",
            " 40  INJURIES_NO_INDICATION         826702 non-null  float64\n",
            " 41  INJURIES_UNKNOWN               826702 non-null  float64\n",
            " 42  CRASH_HOUR                     828511 non-null  int64  \n",
            " 43  CRASH_DAY_OF_WEEK              828511 non-null  int64  \n",
            " 44  CRASH_MONTH                    828511 non-null  int64  \n",
            " 45  LATITUDE                       822769 non-null  float64\n",
            " 46  LONGITUDE                      822769 non-null  float64\n",
            " 47  LOCATION                       822769 non-null  object \n",
            "dtypes: float64(11), int64(6), object(31)\n",
            "memory usage: 303.4+ MB\n"
          ]
        }
      ]
    },
    {
      "cell_type": "markdown",
      "source": [
        "Keeping the project's prompt in mind, it looks like 'PRIM_CONTRIBUTORY_CAUSE' is our main target column.\n",
        "\n",
        "As far as feature engineering goes, there are several different already-ohe'd categorical injury columns, maybe you add up all the ones with fatalities and bad injuries or something.\n",
        "\n",
        "Next would be getting a feel for the column values where the data description isn't already obvious."
      ],
      "metadata": {
        "id": "1OA9yeFMJSlR"
      },
      "id": "1OA9yeFMJSlR"
    },
    {
      "cell_type": "code",
      "source": [
        "crashes_df['PRIM_CONTRIBUTORY_CAUSE'].value_counts()"
      ],
      "metadata": {
        "id": "qjBht5JjHVLE",
        "outputId": "35c86208-c0ac-4aa9-b032-c4336c6e6a3e",
        "colab": {
          "base_uri": "https://localhost:8080/"
        }
      },
      "id": "qjBht5JjHVLE",
      "execution_count": 4,
      "outputs": [
        {
          "output_type": "execute_result",
          "data": {
            "text/plain": [
              "PRIM_CONTRIBUTORY_CAUSE\n",
              "UNABLE TO DETERMINE                                                                 322717\n",
              "FAILING TO YIELD RIGHT-OF-WAY                                                        91120\n",
              "FOLLOWING TOO CLOSELY                                                                80452\n",
              "NOT APPLICABLE                                                                       43885\n",
              "IMPROPER OVERTAKING/PASSING                                                          40874\n",
              "FAILING TO REDUCE SPEED TO AVOID CRASH                                               34961\n",
              "IMPROPER BACKING                                                                     32492\n",
              "IMPROPER LANE USAGE                                                                  29635\n",
              "DRIVING SKILLS/KNOWLEDGE/EXPERIENCE                                                  27817\n",
              "IMPROPER TURNING/NO SIGNAL                                                           27539\n",
              "DISREGARDING TRAFFIC SIGNALS                                                         16169\n",
              "WEATHER                                                                              12496\n",
              "OPERATING VEHICLE IN ERRATIC, RECKLESS, CARELESS, NEGLIGENT OR AGGRESSIVE MANNER     10542\n",
              "DISREGARDING STOP SIGN                                                                8946\n",
              "DISTRACTION - FROM INSIDE VEHICLE                                                     5660\n",
              "EQUIPMENT - VEHICLE CONDITION                                                         5141\n",
              "PHYSICAL CONDITION OF DRIVER                                                          4904\n",
              "VISION OBSCURED (SIGNS, TREE LIMBS, BUILDINGS, ETC.)                                  4713\n",
              "DRIVING ON WRONG SIDE/WRONG WAY                                                       4446\n",
              "UNDER THE INFLUENCE OF ALCOHOL/DRUGS (USE WHEN ARREST IS EFFECTED)                    3905\n",
              "DISTRACTION - FROM OUTSIDE VEHICLE                                                    3379\n",
              "ROAD ENGINEERING/SURFACE/MARKING DEFECTS                                              2020\n",
              "EXCEEDING AUTHORIZED SPEED LIMIT                                                      1982\n",
              "DISREGARDING OTHER TRAFFIC SIGNS                                                      1784\n",
              "ROAD CONSTRUCTION/MAINTENANCE                                                         1753\n",
              "EXCEEDING SAFE SPEED FOR CONDITIONS                                                   1684\n",
              "EVASIVE ACTION DUE TO ANIMAL, OBJECT, NONMOTORIST                                     1519\n",
              "CELL PHONE USE OTHER THAN TEXTING                                                     1094\n",
              "DISREGARDING ROAD MARKINGS                                                            1004\n",
              "HAD BEEN DRINKING (USE WHEN ARREST IS NOT MADE)                                        848\n",
              "ANIMAL                                                                                 706\n",
              "TURNING RIGHT ON RED                                                                   631\n",
              "RELATED TO BUS STOP                                                                    412\n",
              "DISTRACTION - OTHER ELECTRONIC DEVICE (NAVIGATION DEVICE, DVD PLAYER, ETC.)            396\n",
              "TEXTING                                                                                317\n",
              "DISREGARDING YIELD SIGN                                                                271\n",
              "PASSING STOPPED SCHOOL BUS                                                             101\n",
              "OBSTRUCTED CROSSWALKS                                                                   92\n",
              "BICYCLE ADVANCING LEGALLY ON RED LIGHT                                                  81\n",
              "MOTORCYCLE ADVANCING LEGALLY ON RED LIGHT                                               23\n",
              "Name: count, dtype: int64"
            ]
          },
          "metadata": {},
          "execution_count": 4
        }
      ]
    },
    {
      "cell_type": "code",
      "source": [
        "len(crashes_df['PRIM_CONTRIBUTORY_CAUSE'].value_counts())"
      ],
      "metadata": {
        "id": "PLjE8OjPIIBR",
        "outputId": "693b76fb-c425-45ab-a72e-8f727029916a",
        "colab": {
          "base_uri": "https://localhost:8080/"
        }
      },
      "id": "PLjE8OjPIIBR",
      "execution_count": 5,
      "outputs": [
        {
          "output_type": "execute_result",
          "data": {
            "text/plain": [
              "40"
            ]
          },
          "metadata": {},
          "execution_count": 5
        }
      ]
    },
    {
      "cell_type": "markdown",
      "source": [
        "40 classes?!? Some of them occured fewer than 100 times! I guess I'd have to drop the 'UNABLE TO DETERMINE' and 'NOT APPLICABLE' rows. Then, I think I'd need to group the remaining 38 classes together somehow."
      ],
      "metadata": {
        "id": "rgyatoZ2ILmC"
      },
      "id": "rgyatoZ2ILmC"
    },
    {
      "cell_type": "code",
      "source": [
        "crashes_df['DEVICE_CONDITION'].value_counts()"
      ],
      "metadata": {
        "id": "sCb__sc5JVy4",
        "outputId": "98dac5c8-17d8-4dc1-82e6-e3283cb1f0e8",
        "colab": {
          "base_uri": "https://localhost:8080/"
        }
      },
      "id": "sCb__sc5JVy4",
      "execution_count": 6,
      "outputs": [
        {
          "output_type": "execute_result",
          "data": {
            "text/plain": [
              "DEVICE_CONDITION\n",
              "NO CONTROLS                 476188\n",
              "FUNCTIONING PROPERLY        283564\n",
              "UNKNOWN                      55753\n",
              "OTHER                         6336\n",
              "FUNCTIONING IMPROPERLY        3890\n",
              "NOT FUNCTIONING               2397\n",
              "WORN REFLECTIVE MATERIAL       287\n",
              "MISSING                         96\n",
              "Name: count, dtype: int64"
            ]
          },
          "metadata": {},
          "execution_count": 6
        }
      ]
    },
    {
      "cell_type": "markdown",
      "source": [
        "I had to look it up, but 'NO CONTROLS' refers to a traffic control device that doesn't change like a light would, but rather is a permanent fixture like a sign or road markings. I guess it's not surprising that the vast majority are in this category and then another huge chunk are at intersections where the light was working properly. Note a decent amount of 'UNKNOWN' entries here.\n",
        "\n",
        "Next to check out is 'FIRST_CRASH_TYPE':"
      ],
      "metadata": {
        "id": "khfLFfrTSyX5"
      },
      "id": "khfLFfrTSyX5"
    },
    {
      "cell_type": "code",
      "source": [
        "crashes_df['FIRST_CRASH_TYPE'].value_counts()"
      ],
      "metadata": {
        "id": "YKxqLmCvSJCo",
        "outputId": "95f76ea4-7ae8-4d5c-d6a3-7d2573ef16f9",
        "colab": {
          "base_uri": "https://localhost:8080/"
        }
      },
      "id": "YKxqLmCvSJCo",
      "execution_count": 7,
      "outputs": [
        {
          "output_type": "execute_result",
          "data": {
            "text/plain": [
              "FIRST_CRASH_TYPE\n",
              "PARKED MOTOR VEHICLE            192428\n",
              "REAR END                        184855\n",
              "SIDESWIPE SAME DIRECTION        126534\n",
              "TURNING                         118537\n",
              "ANGLE                            90173\n",
              "FIXED OBJECT                     38930\n",
              "PEDESTRIAN                       19330\n",
              "PEDALCYCLIST                     12448\n",
              "SIDESWIPE OPPOSITE DIRECTION     11666\n",
              "OTHER OBJECT                      8216\n",
              "REAR TO FRONT                     8094\n",
              "HEAD ON                           7061\n",
              "REAR TO SIDE                      4807\n",
              "OTHER NONCOLLISION                2606\n",
              "REAR TO REAR                      1676\n",
              "ANIMAL                             596\n",
              "OVERTURNED                         508\n",
              "TRAIN                               46\n",
              "Name: count, dtype: int64"
            ]
          },
          "metadata": {},
          "execution_count": 7
        }
      ]
    },
    {
      "cell_type": "markdown",
      "source": [
        "I can't help but wonder whether this is a good *predictor* for an accident's primary cause when it describes the instance of the accident, not what happens beforehand. I guess we'll keep it for now."
      ],
      "metadata": {
        "id": "egCTPl9Ug91b"
      },
      "id": "egCTPl9Ug91b"
    },
    {
      "cell_type": "code",
      "source": [
        "crashes_df['TRAFFICWAY_TYPE'].value_counts()"
      ],
      "metadata": {
        "id": "vegUYih3UIHH",
        "outputId": "afcf3592-d814-460a-c9a3-89aa15c6820d",
        "colab": {
          "base_uri": "https://localhost:8080/"
        }
      },
      "id": "vegUYih3UIHH",
      "execution_count": 8,
      "outputs": [
        {
          "output_type": "execute_result",
          "data": {
            "text/plain": [
              "TRAFFICWAY_TYPE\n",
              "NOT DIVIDED                        359452\n",
              "DIVIDED - W/MEDIAN (NOT RAISED)    132085\n",
              "ONE-WAY                            105558\n",
              "PARKING LOT                         56368\n",
              "FOUR WAY                            53091\n",
              "DIVIDED - W/MEDIAN BARRIER          47287\n",
              "OTHER                               22646\n",
              "ALLEY                               13690\n",
              "T-INTERSECTION                      10660\n",
              "UNKNOWN                              9656\n",
              "CENTER TURN LANE                     5978\n",
              "DRIVEWAY                             2691\n",
              "RAMP                                 2595\n",
              "UNKNOWN INTERSECTION TYPE            2455\n",
              "Y-INTERSECTION                       1164\n",
              "FIVE POINT, OR MORE                  1161\n",
              "TRAFFIC ROUTE                         948\n",
              "NOT REPORTED                          592\n",
              "ROUNDABOUT                            262\n",
              "L-INTERSECTION                        172\n",
              "Name: count, dtype: int64"
            ]
          },
          "metadata": {},
          "execution_count": 8
        }
      ]
    },
    {
      "cell_type": "code",
      "source": [
        "crashes_df['NOT_RIGHT_OF_WAY_I'].value_counts()"
      ],
      "metadata": {
        "id": "4vwKURCWUw_m",
        "outputId": "3e1d939f-4ed7-4520-8499-5954fcf5cd12",
        "colab": {
          "base_uri": "https://localhost:8080/"
        }
      },
      "id": "4vwKURCWUw_m",
      "execution_count": 9,
      "outputs": [
        {
          "output_type": "execute_result",
          "data": {
            "text/plain": [
              "NOT_RIGHT_OF_WAY_I\n",
              "Y    34674\n",
              "N     3493\n",
              "Name: count, dtype: int64"
            ]
          },
          "metadata": {},
          "execution_count": 9
        }
      ]
    },
    {
      "cell_type": "code",
      "source": [
        "crashes_df['DAMAGE'].value_counts()"
      ],
      "metadata": {
        "id": "7ypMRIFrVDzY",
        "outputId": "93650d72-d66c-4b0e-862b-93ebe82ff110",
        "colab": {
          "base_uri": "https://localhost:8080/"
        }
      },
      "id": "7ypMRIFrVDzY",
      "execution_count": 10,
      "outputs": [
        {
          "output_type": "execute_result",
          "data": {
            "text/plain": [
              "DAMAGE\n",
              "OVER $1,500      515387\n",
              "$501 - $1,500    218754\n",
              "$500 OR LESS      94370\n",
              "Name: count, dtype: int64"
            ]
          },
          "metadata": {},
          "execution_count": 10
        }
      ]
    },
    {
      "cell_type": "code",
      "source": [
        "crashes_df['BEAT_OF_OCCURRENCE'].value_counts()"
      ],
      "metadata": {
        "id": "ebkJa933vK08",
        "outputId": "dc48da4d-2534-4523-98c6-33f19691287d",
        "colab": {
          "base_uri": "https://localhost:8080/"
        }
      },
      "id": "ebkJa933vK08",
      "execution_count": 11,
      "outputs": [
        {
          "output_type": "execute_result",
          "data": {
            "text/plain": [
              "BEAT_OF_OCCURRENCE\n",
              "1834.0    10067\n",
              "114.0      8490\n",
              "813.0      8332\n",
              "815.0      7899\n",
              "1831.0     7678\n",
              "          ...  \n",
              "1653.0      430\n",
              "1655.0      260\n",
              "1652.0      200\n",
              "1650.0       69\n",
              "6100.0        4\n",
              "Name: count, Length: 276, dtype: int64"
            ]
          },
          "metadata": {},
          "execution_count": 11
        }
      ]
    },
    {
      "cell_type": "markdown",
      "source": [
        "Now that I have a sense of what all these columns mean, it's time to consider which should be eliminated to help reduce dimensionality. This is especially important since so many of these columns will have to be one-hot encoded.\n",
        "\n",
        "Since the goal of this project is to predict the *primary cause* of an accident, we might consider dropping those columns that inherently have nothing to do with a potential cause (such as 'DATE_POLICE_NOTIFIED', 'STREET NO', 'STREET NAME', 'PHOTOS TAKEN', 'STATEMENTS TAKEN', 'REPORT_TYPE') and/or only pertain to the effect (all the damage, injury, and fatality columns). We can also drop the 'SEC_CONTRIBUTORY_CAUSE' or we'll probably have a lot of multicollinearity issues.\n",
        "\n",
        "There are a few redundant columns for our specific use case. 'LOCATION' just puts the latitude & longitude columns together. Since those two columns will provide location data *and* 'BEAT_OF_OCCURRENCE' has 276 categorical values, let's eliminate the beat column as well. Also, 'CRASH_DATE_EST_I' and 'CRASH_DATE' are broken down later via 'CRASH_HOUR', 'CRASH_DAY_OF_WEEK', and 'CRASH_MONTH'.\n",
        "\n",
        "Finally, some columns are woefully empty; 'LANE_CNT', 'INTERSECTION_RELATED_I', 'NOT_RIGHT_OF_WAY_I', 'HIT_AND_RUN_I', 'DOORING_I', and all the work zone columns only have somewhere between 68.7-99% empty, which is grounds for dropping.\n",
        "\n",
        "I'll keep 'CRASH_RECORD_ID' for now so I can join the 'people' & 'vehicles' tables later."
      ],
      "metadata": {
        "id": "Au-dpN5DqNdZ"
      },
      "id": "Au-dpN5DqNdZ"
    },
    {
      "cell_type": "code",
      "source": [
        "crashes_columns_to_drop = ['CRASH_DATE', 'CRASH_DATE_EST_I', 'REPORT_TYPE', 'DAMAGE', 'DATE_POLICE_NOTIFIED', 'SEC_CONTRIBUTORY_CAUSE',\n",
        "                   'STREET_NO', 'STREET_NAME', 'BEAT_OF_OCCURRENCE', 'PHOTOS_TAKEN_I', 'STATEMENTS_TAKEN_I', 'MOST_SEVERE_INJURY',\n",
        "                   'INJURIES_TOTAL', 'INJURIES_FATAL', 'INJURIES_INCAPACITATING', 'INJURIES_NON_INCAPACITATING',\n",
        "                   'INJURIES_REPORTED_NOT_EVIDENT', 'INJURIES_NO_INDICATION', 'INJURIES_UNKNOWN', 'LOCATION', 'LANE_CNT',\n",
        "                   'INTERSECTION_RELATED_I', 'NOT_RIGHT_OF_WAY_I', 'HIT_AND_RUN_I', 'DOORING_I', 'WORK_ZONE_I', 'WORK_ZONE_TYPE',\n",
        "                   'WORKERS_PRESENT_I']"
      ],
      "metadata": {
        "id": "21hfJgr9p3LA"
      },
      "id": "21hfJgr9p3LA",
      "execution_count": 12,
      "outputs": []
    },
    {
      "cell_type": "code",
      "source": [
        "crashes_df_refined = crashes_df.drop(crashes_columns_to_drop, axis=1)\n",
        "crashes_df_refined.info()"
      ],
      "metadata": {
        "id": "0UQQbtfEvlxG",
        "outputId": "15036aec-a0d9-4ca9-e0c5-3600694d55bb",
        "colab": {
          "base_uri": "https://localhost:8080/"
        }
      },
      "id": "0UQQbtfEvlxG",
      "execution_count": 14,
      "outputs": [
        {
          "output_type": "stream",
          "name": "stdout",
          "text": [
            "<class 'pandas.core.frame.DataFrame'>\n",
            "RangeIndex: 828511 entries, 0 to 828510\n",
            "Data columns (total 20 columns):\n",
            " #   Column                   Non-Null Count   Dtype  \n",
            "---  ------                   --------------   -----  \n",
            " 0   CRASH_RECORD_ID          828511 non-null  object \n",
            " 1   POSTED_SPEED_LIMIT       828511 non-null  int64  \n",
            " 2   TRAFFIC_CONTROL_DEVICE   828511 non-null  object \n",
            " 3   DEVICE_CONDITION         828511 non-null  object \n",
            " 4   WEATHER_CONDITION        828511 non-null  object \n",
            " 5   LIGHTING_CONDITION       828511 non-null  object \n",
            " 6   FIRST_CRASH_TYPE         828511 non-null  object \n",
            " 7   TRAFFICWAY_TYPE          828511 non-null  object \n",
            " 8   ALIGNMENT                828511 non-null  object \n",
            " 9   ROADWAY_SURFACE_COND     828511 non-null  object \n",
            " 10  ROAD_DEFECT              828511 non-null  object \n",
            " 11  CRASH_TYPE               828511 non-null  object \n",
            " 12  PRIM_CONTRIBUTORY_CAUSE  828511 non-null  object \n",
            " 13  STREET_DIRECTION         828507 non-null  object \n",
            " 14  NUM_UNITS                828511 non-null  int64  \n",
            " 15  CRASH_HOUR               828511 non-null  int64  \n",
            " 16  CRASH_DAY_OF_WEEK        828511 non-null  int64  \n",
            " 17  CRASH_MONTH              828511 non-null  int64  \n",
            " 18  LATITUDE                 822769 non-null  float64\n",
            " 19  LONGITUDE                822769 non-null  float64\n",
            "dtypes: float64(2), int64(5), object(13)\n",
            "memory usage: 126.4+ MB\n"
          ]
        }
      ]
    },
    {
      "cell_type": "code",
      "source": [
        "crashes_df_refined['CRASH_MONTH'].value_counts()"
      ],
      "metadata": {
        "id": "hamtYCA5T86u",
        "outputId": "a14cba31-7a2e-4c8c-81ea-3e2d8ade22a9",
        "colab": {
          "base_uri": "https://localhost:8080/"
        }
      },
      "id": "hamtYCA5T86u",
      "execution_count": 15,
      "outputs": [
        {
          "output_type": "execute_result",
          "data": {
            "text/plain": [
              "CRASH_MONTH\n",
              "10    76801\n",
              "9     72417\n",
              "8     70898\n",
              "12    70826\n",
              "11    69265\n",
              "7     68963\n",
              "3     67797\n",
              "6     67560\n",
              "5     66531\n",
              "4     66115\n",
              "1     66059\n",
              "2     65279\n",
              "Name: count, dtype: int64"
            ]
          },
          "metadata": {},
          "execution_count": 15
        }
      ]
    },
    {
      "cell_type": "markdown",
      "source": [
        "Now let's take care of the all the null values. The NaN's in 'LATITUDE' and 'LONGITUDE' amount to 0.007% and there are only four NaN's in 'STREET_DIRECTION' and wait, I should only do this once I join the other tables or we'll have missing record problems, so for now, let's one-hot encode the categorical columns.\n",
        "\n",
        "Since this is a large dataset, I'll use a train-test-split as my validation strategy. In order to prevent overfitting, I'll use some form of regularization (I'll try different kinds and use what works best). Subsequently, I will not need to drop any columns when using one-hot encoding because regularization will take care of any singularity issues among the categorical variables BUT nevermind, **I don't ohe until after the tts.**"
      ],
      "metadata": {
        "id": "AbDUdtgjxwLX"
      },
      "id": "AbDUdtgjxwLX"
    },
    {
      "cell_type": "code",
      "source": [
        "people_df = pd.read_csv('/content/drive/MyDrive/CPD_traffic_crashes-people-20240501.csv')\n",
        "people_df.head(3)"
      ],
      "metadata": {
        "outputId": "1c2241ff-6912-4019-919b-6172a30c2bd4",
        "colab": {
          "base_uri": "https://localhost:8080/",
          "height": 349
        },
        "id": "ARK7nA6hFxnZ"
      },
      "execution_count": 16,
      "outputs": [
        {
          "output_type": "stream",
          "name": "stderr",
          "text": [
            "<ipython-input-16-397f02225bc8>:1: DtypeWarning: Columns (19,23,24,25,28) have mixed types. Specify dtype option on import or set low_memory=False.\n",
            "  people_df = pd.read_csv('/content/drive/MyDrive/CPD_traffic_crashes-people-20240501.csv')\n"
          ]
        },
        {
          "output_type": "execute_result",
          "data": {
            "text/plain": [
              "  PERSON_ID PERSON_TYPE                                    CRASH_RECORD_ID  \\\n",
              "0   O749947      DRIVER  81dc0de2ed92aa62baccab641fa377be7feb1cc47e6554...   \n",
              "1   O871921      DRIVER  af84fb5c8d996fcd3aefd36593c3a02e6e7509eeb27568...   \n",
              "2    O10018      DRIVER  71162af7bf22799b776547132ebf134b5b438dcf3dac6b...   \n",
              "\n",
              "   VEHICLE_ID              CRASH_DATE  SEAT_NO     CITY STATE ZIPCODE SEX  \\\n",
              "0    834816.0  09/28/2019 03:30:00 AM      NaN  CHICAGO    IL   60651   M   \n",
              "1    827212.0  04/13/2020 10:50:00 PM      NaN  CHICAGO    IL   60620   M   \n",
              "2      9579.0  11/01/2015 05:00:00 AM      NaN      NaN   NaN     NaN   X   \n",
              "\n",
              "   ...  EMS_RUN_NO     DRIVER_ACTION DRIVER_VISION PHYSICAL_CONDITION  \\\n",
              "0  ...         NaN           UNKNOWN       UNKNOWN            UNKNOWN   \n",
              "1  ...         NaN              NONE  NOT OBSCURED             NORMAL   \n",
              "2  ...         NaN  IMPROPER BACKING       UNKNOWN            UNKNOWN   \n",
              "\n",
              "  PEDPEDAL_ACTION PEDPEDAL_VISIBILITY PEDPEDAL_LOCATION        BAC_RESULT  \\\n",
              "0             NaN                 NaN               NaN  TEST NOT OFFERED   \n",
              "1             NaN                 NaN               NaN  TEST NOT OFFERED   \n",
              "2             NaN                 NaN               NaN  TEST NOT OFFERED   \n",
              "\n",
              "  BAC_RESULT VALUE CELL_PHONE_USE  \n",
              "0              NaN            NaN  \n",
              "1              NaN            NaN  \n",
              "2              NaN            NaN  \n",
              "\n",
              "[3 rows x 29 columns]"
            ],
            "text/html": [
              "\n",
              "  <div id=\"df-52685d21-5572-4a79-9654-f76f266c1875\" class=\"colab-df-container\">\n",
              "    <div>\n",
              "<style scoped>\n",
              "    .dataframe tbody tr th:only-of-type {\n",
              "        vertical-align: middle;\n",
              "    }\n",
              "\n",
              "    .dataframe tbody tr th {\n",
              "        vertical-align: top;\n",
              "    }\n",
              "\n",
              "    .dataframe thead th {\n",
              "        text-align: right;\n",
              "    }\n",
              "</style>\n",
              "<table border=\"1\" class=\"dataframe\">\n",
              "  <thead>\n",
              "    <tr style=\"text-align: right;\">\n",
              "      <th></th>\n",
              "      <th>PERSON_ID</th>\n",
              "      <th>PERSON_TYPE</th>\n",
              "      <th>CRASH_RECORD_ID</th>\n",
              "      <th>VEHICLE_ID</th>\n",
              "      <th>CRASH_DATE</th>\n",
              "      <th>SEAT_NO</th>\n",
              "      <th>CITY</th>\n",
              "      <th>STATE</th>\n",
              "      <th>ZIPCODE</th>\n",
              "      <th>SEX</th>\n",
              "      <th>...</th>\n",
              "      <th>EMS_RUN_NO</th>\n",
              "      <th>DRIVER_ACTION</th>\n",
              "      <th>DRIVER_VISION</th>\n",
              "      <th>PHYSICAL_CONDITION</th>\n",
              "      <th>PEDPEDAL_ACTION</th>\n",
              "      <th>PEDPEDAL_VISIBILITY</th>\n",
              "      <th>PEDPEDAL_LOCATION</th>\n",
              "      <th>BAC_RESULT</th>\n",
              "      <th>BAC_RESULT VALUE</th>\n",
              "      <th>CELL_PHONE_USE</th>\n",
              "    </tr>\n",
              "  </thead>\n",
              "  <tbody>\n",
              "    <tr>\n",
              "      <th>0</th>\n",
              "      <td>O749947</td>\n",
              "      <td>DRIVER</td>\n",
              "      <td>81dc0de2ed92aa62baccab641fa377be7feb1cc47e6554...</td>\n",
              "      <td>834816.0</td>\n",
              "      <td>09/28/2019 03:30:00 AM</td>\n",
              "      <td>NaN</td>\n",
              "      <td>CHICAGO</td>\n",
              "      <td>IL</td>\n",
              "      <td>60651</td>\n",
              "      <td>M</td>\n",
              "      <td>...</td>\n",
              "      <td>NaN</td>\n",
              "      <td>UNKNOWN</td>\n",
              "      <td>UNKNOWN</td>\n",
              "      <td>UNKNOWN</td>\n",
              "      <td>NaN</td>\n",
              "      <td>NaN</td>\n",
              "      <td>NaN</td>\n",
              "      <td>TEST NOT OFFERED</td>\n",
              "      <td>NaN</td>\n",
              "      <td>NaN</td>\n",
              "    </tr>\n",
              "    <tr>\n",
              "      <th>1</th>\n",
              "      <td>O871921</td>\n",
              "      <td>DRIVER</td>\n",
              "      <td>af84fb5c8d996fcd3aefd36593c3a02e6e7509eeb27568...</td>\n",
              "      <td>827212.0</td>\n",
              "      <td>04/13/2020 10:50:00 PM</td>\n",
              "      <td>NaN</td>\n",
              "      <td>CHICAGO</td>\n",
              "      <td>IL</td>\n",
              "      <td>60620</td>\n",
              "      <td>M</td>\n",
              "      <td>...</td>\n",
              "      <td>NaN</td>\n",
              "      <td>NONE</td>\n",
              "      <td>NOT OBSCURED</td>\n",
              "      <td>NORMAL</td>\n",
              "      <td>NaN</td>\n",
              "      <td>NaN</td>\n",
              "      <td>NaN</td>\n",
              "      <td>TEST NOT OFFERED</td>\n",
              "      <td>NaN</td>\n",
              "      <td>NaN</td>\n",
              "    </tr>\n",
              "    <tr>\n",
              "      <th>2</th>\n",
              "      <td>O10018</td>\n",
              "      <td>DRIVER</td>\n",
              "      <td>71162af7bf22799b776547132ebf134b5b438dcf3dac6b...</td>\n",
              "      <td>9579.0</td>\n",
              "      <td>11/01/2015 05:00:00 AM</td>\n",
              "      <td>NaN</td>\n",
              "      <td>NaN</td>\n",
              "      <td>NaN</td>\n",
              "      <td>NaN</td>\n",
              "      <td>X</td>\n",
              "      <td>...</td>\n",
              "      <td>NaN</td>\n",
              "      <td>IMPROPER BACKING</td>\n",
              "      <td>UNKNOWN</td>\n",
              "      <td>UNKNOWN</td>\n",
              "      <td>NaN</td>\n",
              "      <td>NaN</td>\n",
              "      <td>NaN</td>\n",
              "      <td>TEST NOT OFFERED</td>\n",
              "      <td>NaN</td>\n",
              "      <td>NaN</td>\n",
              "    </tr>\n",
              "  </tbody>\n",
              "</table>\n",
              "<p>3 rows × 29 columns</p>\n",
              "</div>\n",
              "    <div class=\"colab-df-buttons\">\n",
              "\n",
              "  <div class=\"colab-df-container\">\n",
              "    <button class=\"colab-df-convert\" onclick=\"convertToInteractive('df-52685d21-5572-4a79-9654-f76f266c1875')\"\n",
              "            title=\"Convert this dataframe to an interactive table.\"\n",
              "            style=\"display:none;\">\n",
              "\n",
              "  <svg xmlns=\"http://www.w3.org/2000/svg\" height=\"24px\" viewBox=\"0 -960 960 960\">\n",
              "    <path d=\"M120-120v-720h720v720H120Zm60-500h600v-160H180v160Zm220 220h160v-160H400v160Zm0 220h160v-160H400v160ZM180-400h160v-160H180v160Zm440 0h160v-160H620v160ZM180-180h160v-160H180v160Zm440 0h160v-160H620v160Z\"/>\n",
              "  </svg>\n",
              "    </button>\n",
              "\n",
              "  <style>\n",
              "    .colab-df-container {\n",
              "      display:flex;\n",
              "      gap: 12px;\n",
              "    }\n",
              "\n",
              "    .colab-df-convert {\n",
              "      background-color: #E8F0FE;\n",
              "      border: none;\n",
              "      border-radius: 50%;\n",
              "      cursor: pointer;\n",
              "      display: none;\n",
              "      fill: #1967D2;\n",
              "      height: 32px;\n",
              "      padding: 0 0 0 0;\n",
              "      width: 32px;\n",
              "    }\n",
              "\n",
              "    .colab-df-convert:hover {\n",
              "      background-color: #E2EBFA;\n",
              "      box-shadow: 0px 1px 2px rgba(60, 64, 67, 0.3), 0px 1px 3px 1px rgba(60, 64, 67, 0.15);\n",
              "      fill: #174EA6;\n",
              "    }\n",
              "\n",
              "    .colab-df-buttons div {\n",
              "      margin-bottom: 4px;\n",
              "    }\n",
              "\n",
              "    [theme=dark] .colab-df-convert {\n",
              "      background-color: #3B4455;\n",
              "      fill: #D2E3FC;\n",
              "    }\n",
              "\n",
              "    [theme=dark] .colab-df-convert:hover {\n",
              "      background-color: #434B5C;\n",
              "      box-shadow: 0px 1px 3px 1px rgba(0, 0, 0, 0.15);\n",
              "      filter: drop-shadow(0px 1px 2px rgba(0, 0, 0, 0.3));\n",
              "      fill: #FFFFFF;\n",
              "    }\n",
              "  </style>\n",
              "\n",
              "    <script>\n",
              "      const buttonEl =\n",
              "        document.querySelector('#df-52685d21-5572-4a79-9654-f76f266c1875 button.colab-df-convert');\n",
              "      buttonEl.style.display =\n",
              "        google.colab.kernel.accessAllowed ? 'block' : 'none';\n",
              "\n",
              "      async function convertToInteractive(key) {\n",
              "        const element = document.querySelector('#df-52685d21-5572-4a79-9654-f76f266c1875');\n",
              "        const dataTable =\n",
              "          await google.colab.kernel.invokeFunction('convertToInteractive',\n",
              "                                                    [key], {});\n",
              "        if (!dataTable) return;\n",
              "\n",
              "        const docLinkHtml = 'Like what you see? Visit the ' +\n",
              "          '<a target=\"_blank\" href=https://colab.research.google.com/notebooks/data_table.ipynb>data table notebook</a>'\n",
              "          + ' to learn more about interactive tables.';\n",
              "        element.innerHTML = '';\n",
              "        dataTable['output_type'] = 'display_data';\n",
              "        await google.colab.output.renderOutput(dataTable, element);\n",
              "        const docLink = document.createElement('div');\n",
              "        docLink.innerHTML = docLinkHtml;\n",
              "        element.appendChild(docLink);\n",
              "      }\n",
              "    </script>\n",
              "  </div>\n",
              "\n",
              "\n",
              "<div id=\"df-b88cbec1-28c4-48b3-b312-ecb10ac66174\">\n",
              "  <button class=\"colab-df-quickchart\" onclick=\"quickchart('df-b88cbec1-28c4-48b3-b312-ecb10ac66174')\"\n",
              "            title=\"Suggest charts\"\n",
              "            style=\"display:none;\">\n",
              "\n",
              "<svg xmlns=\"http://www.w3.org/2000/svg\" height=\"24px\"viewBox=\"0 0 24 24\"\n",
              "     width=\"24px\">\n",
              "    <g>\n",
              "        <path d=\"M19 3H5c-1.1 0-2 .9-2 2v14c0 1.1.9 2 2 2h14c1.1 0 2-.9 2-2V5c0-1.1-.9-2-2-2zM9 17H7v-7h2v7zm4 0h-2V7h2v10zm4 0h-2v-4h2v4z\"/>\n",
              "    </g>\n",
              "</svg>\n",
              "  </button>\n",
              "\n",
              "<style>\n",
              "  .colab-df-quickchart {\n",
              "      --bg-color: #E8F0FE;\n",
              "      --fill-color: #1967D2;\n",
              "      --hover-bg-color: #E2EBFA;\n",
              "      --hover-fill-color: #174EA6;\n",
              "      --disabled-fill-color: #AAA;\n",
              "      --disabled-bg-color: #DDD;\n",
              "  }\n",
              "\n",
              "  [theme=dark] .colab-df-quickchart {\n",
              "      --bg-color: #3B4455;\n",
              "      --fill-color: #D2E3FC;\n",
              "      --hover-bg-color: #434B5C;\n",
              "      --hover-fill-color: #FFFFFF;\n",
              "      --disabled-bg-color: #3B4455;\n",
              "      --disabled-fill-color: #666;\n",
              "  }\n",
              "\n",
              "  .colab-df-quickchart {\n",
              "    background-color: var(--bg-color);\n",
              "    border: none;\n",
              "    border-radius: 50%;\n",
              "    cursor: pointer;\n",
              "    display: none;\n",
              "    fill: var(--fill-color);\n",
              "    height: 32px;\n",
              "    padding: 0;\n",
              "    width: 32px;\n",
              "  }\n",
              "\n",
              "  .colab-df-quickchart:hover {\n",
              "    background-color: var(--hover-bg-color);\n",
              "    box-shadow: 0 1px 2px rgba(60, 64, 67, 0.3), 0 1px 3px 1px rgba(60, 64, 67, 0.15);\n",
              "    fill: var(--button-hover-fill-color);\n",
              "  }\n",
              "\n",
              "  .colab-df-quickchart-complete:disabled,\n",
              "  .colab-df-quickchart-complete:disabled:hover {\n",
              "    background-color: var(--disabled-bg-color);\n",
              "    fill: var(--disabled-fill-color);\n",
              "    box-shadow: none;\n",
              "  }\n",
              "\n",
              "  .colab-df-spinner {\n",
              "    border: 2px solid var(--fill-color);\n",
              "    border-color: transparent;\n",
              "    border-bottom-color: var(--fill-color);\n",
              "    animation:\n",
              "      spin 1s steps(1) infinite;\n",
              "  }\n",
              "\n",
              "  @keyframes spin {\n",
              "    0% {\n",
              "      border-color: transparent;\n",
              "      border-bottom-color: var(--fill-color);\n",
              "      border-left-color: var(--fill-color);\n",
              "    }\n",
              "    20% {\n",
              "      border-color: transparent;\n",
              "      border-left-color: var(--fill-color);\n",
              "      border-top-color: var(--fill-color);\n",
              "    }\n",
              "    30% {\n",
              "      border-color: transparent;\n",
              "      border-left-color: var(--fill-color);\n",
              "      border-top-color: var(--fill-color);\n",
              "      border-right-color: var(--fill-color);\n",
              "    }\n",
              "    40% {\n",
              "      border-color: transparent;\n",
              "      border-right-color: var(--fill-color);\n",
              "      border-top-color: var(--fill-color);\n",
              "    }\n",
              "    60% {\n",
              "      border-color: transparent;\n",
              "      border-right-color: var(--fill-color);\n",
              "    }\n",
              "    80% {\n",
              "      border-color: transparent;\n",
              "      border-right-color: var(--fill-color);\n",
              "      border-bottom-color: var(--fill-color);\n",
              "    }\n",
              "    90% {\n",
              "      border-color: transparent;\n",
              "      border-bottom-color: var(--fill-color);\n",
              "    }\n",
              "  }\n",
              "</style>\n",
              "\n",
              "  <script>\n",
              "    async function quickchart(key) {\n",
              "      const quickchartButtonEl =\n",
              "        document.querySelector('#' + key + ' button');\n",
              "      quickchartButtonEl.disabled = true;  // To prevent multiple clicks.\n",
              "      quickchartButtonEl.classList.add('colab-df-spinner');\n",
              "      try {\n",
              "        const charts = await google.colab.kernel.invokeFunction(\n",
              "            'suggestCharts', [key], {});\n",
              "      } catch (error) {\n",
              "        console.error('Error during call to suggestCharts:', error);\n",
              "      }\n",
              "      quickchartButtonEl.classList.remove('colab-df-spinner');\n",
              "      quickchartButtonEl.classList.add('colab-df-quickchart-complete');\n",
              "    }\n",
              "    (() => {\n",
              "      let quickchartButtonEl =\n",
              "        document.querySelector('#df-b88cbec1-28c4-48b3-b312-ecb10ac66174 button');\n",
              "      quickchartButtonEl.style.display =\n",
              "        google.colab.kernel.accessAllowed ? 'block' : 'none';\n",
              "    })();\n",
              "  </script>\n",
              "</div>\n",
              "\n",
              "    </div>\n",
              "  </div>\n"
            ],
            "application/vnd.google.colaboratory.intrinsic+json": {
              "type": "dataframe",
              "variable_name": "people_df"
            }
          },
          "metadata": {},
          "execution_count": 16
        }
      ],
      "id": "ARK7nA6hFxnZ"
    },
    {
      "cell_type": "code",
      "source": [
        "people_df.info()"
      ],
      "metadata": {
        "id": "wLuvzuHEF8VA",
        "outputId": "2331243b-984b-458d-977f-8c86a9bdbfa9",
        "colab": {
          "base_uri": "https://localhost:8080/"
        }
      },
      "id": "wLuvzuHEF8VA",
      "execution_count": 17,
      "outputs": [
        {
          "output_type": "stream",
          "name": "stdout",
          "text": [
            "<class 'pandas.core.frame.DataFrame'>\n",
            "RangeIndex: 1818705 entries, 0 to 1818704\n",
            "Data columns (total 29 columns):\n",
            " #   Column                 Dtype  \n",
            "---  ------                 -----  \n",
            " 0   PERSON_ID              object \n",
            " 1   PERSON_TYPE            object \n",
            " 2   CRASH_RECORD_ID        object \n",
            " 3   VEHICLE_ID             float64\n",
            " 4   CRASH_DATE             object \n",
            " 5   SEAT_NO                float64\n",
            " 6   CITY                   object \n",
            " 7   STATE                  object \n",
            " 8   ZIPCODE                object \n",
            " 9   SEX                    object \n",
            " 10  AGE                    float64\n",
            " 11  DRIVERS_LICENSE_STATE  object \n",
            " 12  DRIVERS_LICENSE_CLASS  object \n",
            " 13  SAFETY_EQUIPMENT       object \n",
            " 14  AIRBAG_DEPLOYED        object \n",
            " 15  EJECTION               object \n",
            " 16  INJURY_CLASSIFICATION  object \n",
            " 17  HOSPITAL               object \n",
            " 18  EMS_AGENCY             object \n",
            " 19  EMS_RUN_NO             object \n",
            " 20  DRIVER_ACTION          object \n",
            " 21  DRIVER_VISION          object \n",
            " 22  PHYSICAL_CONDITION     object \n",
            " 23  PEDPEDAL_ACTION        object \n",
            " 24  PEDPEDAL_VISIBILITY    object \n",
            " 25  PEDPEDAL_LOCATION      object \n",
            " 26  BAC_RESULT             object \n",
            " 27  BAC_RESULT VALUE       float64\n",
            " 28  CELL_PHONE_USE         object \n",
            "dtypes: float64(4), object(25)\n",
            "memory usage: 402.4+ MB\n"
          ]
        }
      ]
    },
    {
      "cell_type": "markdown",
      "source": [
        "As with the crashes set, our first task is to understand and then reduce the columns we'll use. Specifically, we'll determine & eliminate those that don't necessarily pertain to the the *cause* of an accident, but rather the aftermath. In order to decrease dimensionality, we'll also drop categorical columns that have high cardinality and aren't likely to contribute much, like zipcodes or the state from which the drivers license was issued."
      ],
      "metadata": {
        "id": "ZuX0kcGK3kuW"
      },
      "id": "ZuX0kcGK3kuW"
    },
    {
      "cell_type": "code",
      "source": [
        "people_df['PERSON_TYPE'].value_counts()"
      ],
      "metadata": {
        "id": "ig_aYnw0U-j1",
        "outputId": "84e5eb38-5e9a-4c9c-dafb-39263f3eb7ce",
        "colab": {
          "base_uri": "https://localhost:8080/"
        }
      },
      "id": "ig_aYnw0U-j1",
      "execution_count": 26,
      "outputs": [
        {
          "output_type": "execute_result",
          "data": {
            "text/plain": [
              "PERSON_TYPE\n",
              "DRIVER                 1415231\n",
              "PASSENGER               367648\n",
              "PEDESTRIAN               21244\n",
              "BICYCLE                  12794\n",
              "NON-MOTOR VEHICLE         1482\n",
              "NON-CONTACT VEHICLE        306\n",
              "Name: count, dtype: int64"
            ]
          },
          "metadata": {},
          "execution_count": 26
        }
      ]
    },
    {
      "cell_type": "code",
      "source": [
        "with pd.option_context('display.max_rows', None, 'display.max_columns', None):\n",
        "    print (people_df['DRIVER_ACTION'].value_counts())"
      ],
      "metadata": {
        "id": "KbQkRHqS3j6x",
        "outputId": "98338d56-713b-40ea-b24a-24e235e48368",
        "colab": {
          "base_uri": "https://localhost:8080/"
        }
      },
      "id": "KbQkRHqS3j6x",
      "execution_count": 18,
      "outputs": [
        {
          "output_type": "stream",
          "name": "stdout",
          "text": [
            "DRIVER_ACTION\n",
            "NONE                                 517295\n",
            "UNKNOWN                              365078\n",
            "FAILED TO YIELD                      131914\n",
            "OTHER                                129661\n",
            "FOLLOWED TOO CLOSELY                  85675\n",
            "IMPROPER BACKING                      42948\n",
            "IMPROPER TURN                         37980\n",
            "IMPROPER LANE CHANGE                  37173\n",
            "IMPROPER PASSING                      32369\n",
            "DISREGARDED CONTROL DEVICES           25564\n",
            "TOO FAST FOR CONDITIONS               21734\n",
            "WRONG WAY/SIDE                         5813\n",
            "IMPROPER PARKING                       5329\n",
            "OVERCORRECTED                          2710\n",
            "EVADING POLICE VEHICLE                 2304\n",
            "CELL PHONE USE OTHER THAN TEXTING      2126\n",
            "EMERGENCY VEHICLE ON CALL              1328\n",
            "TEXTING                                 569\n",
            "STOPPED SCHOOL BUS                      174\n",
            "LICENSE RESTRICTIONS                     61\n",
            "Name: count, dtype: int64\n"
          ]
        }
      ]
    },
    {
      "cell_type": "code",
      "source": [
        "people_df['DRIVER_VISION'].value_counts()"
      ],
      "metadata": {
        "id": "8Y8r57A6cejO",
        "outputId": "09c0f1e9-b07c-48ac-e6d6-acfb2a3543d4",
        "colab": {
          "base_uri": "https://localhost:8080/"
        }
      },
      "id": "8Y8r57A6cejO",
      "execution_count": 19,
      "outputs": [
        {
          "output_type": "execute_result",
          "data": {
            "text/plain": [
              "DRIVER_VISION\n",
              "NOT OBSCURED              731001\n",
              "UNKNOWN                   681356\n",
              "OTHER                      14386\n",
              "MOVING VEHICLES             8198\n",
              "PARKED VEHICLES             5044\n",
              "WINDSHIELD (WATER/ICE)      3987\n",
              "BLINDED - SUNLIGHT          1716\n",
              "TREES, PLANTS                578\n",
              "BUILDINGS                    516\n",
              "BLINDED - HEADLIGHTS         155\n",
              "BLOWING MATERIALS            102\n",
              "HILLCREST                     96\n",
              "EMBANKMENT                    83\n",
              "SIGNBOARD                     35\n",
              "Name: count, dtype: int64"
            ]
          },
          "metadata": {},
          "execution_count": 19
        }
      ]
    },
    {
      "cell_type": "markdown",
      "source": [
        "Safety equipment almost certainly has an impact on injuries & fatalities, but if we're prioritizing an effort to minimize dimensions, then weighing whether they have an impact on the *cause* probably means we can drop this column.\n",
        "\n",
        "'DRIVER_ACTION' can be dropped since it's pretty redundant when it comes to our target. 'DRIVER_VISION' categorizes whether and how the driver's vision was impeded, but its classes are almost enitrely either 'unobscured' or 'unknown', so I don't think it will helpful here. The same goes for 'PHYSICAL_CONDITION' where only a handful aren't either 'normal' or 'unknown'.\n",
        "\n",
        "'PEDPEDAL_ACTION' refers to what a pedestrian or cyclist was doing if they were involved in the accident. This would be useful if we were just looking at such accidents, but we are investigating all traffic crashes. Let's see the extent to which these ped/pedal accidents make up the total:"
      ],
      "metadata": {
        "id": "_Nx5O9_kdQVm"
      },
      "id": "_Nx5O9_kdQVm"
    },
    {
      "cell_type": "code",
      "source": [
        "pedpedal_action_vc = people_df['PEDPEDAL_ACTION'].value_counts()\n",
        "pedpedal_action_vc_sum = sum(pedpedal_action_vc)\n",
        "pedpedal_action_vc_sum / people_df.shape[0]"
      ],
      "metadata": {
        "id": "J6ZPlfrDckkC",
        "outputId": "f5dd4c8f-5f51-4686-d507-1fd3ead77926",
        "colab": {
          "base_uri": "https://localhost:8080/"
        }
      },
      "id": "J6ZPlfrDckkC",
      "execution_count": 20,
      "outputs": [
        {
          "output_type": "execute_result",
          "data": {
            "text/plain": [
              "0.01903057395234521"
            ]
          },
          "metadata": {},
          "execution_count": 20
        }
      ]
    },
    {
      "cell_type": "markdown",
      "source": [
        "It looks like this would only apply to less than 2% of the total rows, so it will only really add noise, so let's drop it along with 'PEDPEDAL_VISIBILITY' and 'PEDPEDAL_LOCATION'."
      ],
      "metadata": {
        "id": "pg-t16M-ZfAN"
      },
      "id": "pg-t16M-ZfAN"
    },
    {
      "cell_type": "code",
      "source": [
        "people_df['BAC_RESULT'].value_counts()"
      ],
      "metadata": {
        "id": "Qr3jfHHt3j_e",
        "outputId": "3126d7e7-9410-4584-c592-d865dd2009a8",
        "colab": {
          "base_uri": "https://localhost:8080/"
        }
      },
      "id": "Qr3jfHHt3j_e",
      "execution_count": 21,
      "outputs": [
        {
          "output_type": "execute_result",
          "data": {
            "text/plain": [
              "BAC_RESULT\n",
              "TEST NOT OFFERED                   1427625\n",
              "TEST REFUSED                         15087\n",
              "TEST PERFORMED, RESULTS UNKNOWN       3496\n",
              "TEST TAKEN                            2576\n",
              "Name: count, dtype: int64"
            ]
          },
          "metadata": {},
          "execution_count": 21
        }
      ]
    },
    {
      "cell_type": "markdown",
      "source": [
        "'BAC_RESULT' would be helpful but only a tiny percentage involve any tests taken, so it will not help here."
      ],
      "metadata": {
        "id": "lKg8EKo7gjoV"
      },
      "id": "lKg8EKo7gjoV"
    },
    {
      "cell_type": "code",
      "source": [
        "people_df['CELL_PHONE_USE'].value_counts()"
      ],
      "metadata": {
        "id": "UoIdAqVKg2-m",
        "outputId": "fe0acfbf-5614-49d3-f6bd-3d29ed7a7631",
        "colab": {
          "base_uri": "https://localhost:8080/"
        }
      },
      "id": "UoIdAqVKg2-m",
      "execution_count": 22,
      "outputs": [
        {
          "output_type": "execute_result",
          "data": {
            "text/plain": [
              "CELL_PHONE_USE\n",
              "Y    752\n",
              "N    407\n",
              "Name: count, dtype: int64"
            ]
          },
          "metadata": {},
          "execution_count": 22
        }
      ]
    },
    {
      "cell_type": "markdown",
      "source": [
        "Unfortunately, 'CELL_PHONE_USE' doesn't show enough entries to be useful, either."
      ],
      "metadata": {
        "id": "_J68gCPlhC9S"
      },
      "id": "_J68gCPlhC9S"
    },
    {
      "cell_type": "code",
      "source": [
        "people_columns_to_drop = ['PERSON_ID', 'VEHICLE_ID', 'CRASH_DATE', 'SEAT_NO', 'STATE', 'ZIPCODE', 'DRIVERS_LICENSE_STATE',\n",
        "                   'SAFETY_EQUIPMENT', 'AIRBAG_DEPLOYED', 'EJECTION', 'INJURY_CLASSIFICATION', 'HOSPITAL',\n",
        "                   'EMS_AGENCY', 'EMS_RUN_NO', 'DRIVER_ACTION', 'DRIVER_VISION', 'PHYSICAL_CONDITION',\n",
        "                   'PEDPEDAL_ACTION', 'PEDPEDAL_VISIBILITY', 'PEDPEDAL_LOCATION', 'BAC_RESULT',\n",
        "                   'BAC_RESULT VALUE', 'CELL_PHONE_USE']"
      ],
      "metadata": {
        "id": "u3x6cevCGlO4"
      },
      "id": "u3x6cevCGlO4",
      "execution_count": 23,
      "outputs": []
    },
    {
      "cell_type": "code",
      "source": [
        "people_df_refined = people_df.drop(people_columns_to_drop, axis=1)\n",
        "people_df_refined.info()"
      ],
      "metadata": {
        "id": "By3pekBJT7qx",
        "outputId": "5dba8eb7-5fc2-4be2-f722-b37b0f9dd575",
        "colab": {
          "base_uri": "https://localhost:8080/"
        }
      },
      "id": "By3pekBJT7qx",
      "execution_count": 24,
      "outputs": [
        {
          "output_type": "stream",
          "name": "stdout",
          "text": [
            "<class 'pandas.core.frame.DataFrame'>\n",
            "RangeIndex: 1818705 entries, 0 to 1818704\n",
            "Data columns (total 7 columns):\n",
            " #   Column                 Dtype  \n",
            "---  ------                 -----  \n",
            " 0   PERSON_TYPE            object \n",
            " 1   CRASH_RECORD_ID        object \n",
            " 2   SEAT_NO                float64\n",
            " 3   CITY                   object \n",
            " 4   SEX                    object \n",
            " 5   AGE                    float64\n",
            " 6   DRIVERS_LICENSE_CLASS  object \n",
            "dtypes: float64(2), object(5)\n",
            "memory usage: 97.1+ MB\n"
          ]
        }
      ]
    },
    {
      "cell_type": "markdown",
      "source": [
        "Finally, let's examine the third part of this dataset on vehicles:"
      ],
      "metadata": {
        "id": "32t0CoA5hgEF"
      },
      "id": "32t0CoA5hgEF"
    },
    {
      "cell_type": "code",
      "source": [
        "vehicles_df = pd.read_csv('/content/drive/MyDrive/CPD_traffic_crashes-vehicles-20240501.csv')\n",
        "vehicles_df.head(3)"
      ],
      "metadata": {
        "id": "gULuQNbVhZaM",
        "outputId": "cfbae51e-1f7d-42f4-a84b-42709372235d",
        "colab": {
          "base_uri": "https://localhost:8080/",
          "height": 331
        }
      },
      "id": "gULuQNbVhZaM",
      "execution_count": 27,
      "outputs": [
        {
          "output_type": "stream",
          "name": "stderr",
          "text": [
            "<ipython-input-27-41e6cc4e30a0>:1: DtypeWarning: Columns (20,39,40,41,43,47,48,49,52,54,57,58,60,70) have mixed types. Specify dtype option on import or set low_memory=False.\n",
            "  vehicles_df = pd.read_csv('/content/drive/MyDrive/CPD_traffic_crashes-vehicles-20240501.csv')\n"
          ]
        },
        {
          "output_type": "execute_result",
          "data": {
            "text/plain": [
              "   CRASH_UNIT_ID                                    CRASH_RECORD_ID  \\\n",
              "0        1717556  7b1763088507f77e0e552c009a6bf89a4d6330c7527706...   \n",
              "1        1717574  2603ff5a88f0b9b54576934c5ed4e4a64e8278e005687b...   \n",
              "2        1717579  a52ef70e33d468b855b5be44e8638a564434dcf99c0edf...   \n",
              "\n",
              "               CRASH_DATE  UNIT_NO UNIT_TYPE  NUM_PASSENGERS  VEHICLE_ID  \\\n",
              "0  12/06/2023 03:24:00 PM        1    DRIVER             NaN   1634931.0   \n",
              "1  12/06/2023 04:00:00 PM        2    DRIVER             NaN   1634978.0   \n",
              "2  12/06/2023 04:30:00 PM        1    DRIVER             NaN   1634948.0   \n",
              "\n",
              "  CMRC_VEH_I      MAKE    MODEL  ... TRAILER1_LENGTH  TRAILER2_LENGTH  \\\n",
              "0        NaN    NISSAN   SENTRA  ...             NaN              NaN   \n",
              "1        NaN  CHRYSLER  SEBRING  ...             NaN              NaN   \n",
              "2        NaN    SUBARU  OUTBACK  ...             NaN              NaN   \n",
              "\n",
              "  TOTAL_VEHICLE_LENGTH AXLE_CNT VEHICLE_CONFIG CARGO_BODY_TYPE LOAD_TYPE  \\\n",
              "0                  NaN      NaN            NaN             NaN       NaN   \n",
              "1                  NaN      NaN            NaN             NaN       NaN   \n",
              "2                  NaN      NaN            NaN             NaN       NaN   \n",
              "\n",
              "  HAZMAT_OUT_OF_SERVICE_I MCS_OUT_OF_SERVICE_I  HAZMAT_CLASS  \n",
              "0                     NaN                  NaN           NaN  \n",
              "1                     NaN                  NaN           NaN  \n",
              "2                     NaN                  NaN           NaN  \n",
              "\n",
              "[3 rows x 71 columns]"
            ],
            "text/html": [
              "\n",
              "  <div id=\"df-bbbc0808-c9e0-4ba7-9045-c678508599c8\" class=\"colab-df-container\">\n",
              "    <div>\n",
              "<style scoped>\n",
              "    .dataframe tbody tr th:only-of-type {\n",
              "        vertical-align: middle;\n",
              "    }\n",
              "\n",
              "    .dataframe tbody tr th {\n",
              "        vertical-align: top;\n",
              "    }\n",
              "\n",
              "    .dataframe thead th {\n",
              "        text-align: right;\n",
              "    }\n",
              "</style>\n",
              "<table border=\"1\" class=\"dataframe\">\n",
              "  <thead>\n",
              "    <tr style=\"text-align: right;\">\n",
              "      <th></th>\n",
              "      <th>CRASH_UNIT_ID</th>\n",
              "      <th>CRASH_RECORD_ID</th>\n",
              "      <th>CRASH_DATE</th>\n",
              "      <th>UNIT_NO</th>\n",
              "      <th>UNIT_TYPE</th>\n",
              "      <th>NUM_PASSENGERS</th>\n",
              "      <th>VEHICLE_ID</th>\n",
              "      <th>CMRC_VEH_I</th>\n",
              "      <th>MAKE</th>\n",
              "      <th>MODEL</th>\n",
              "      <th>...</th>\n",
              "      <th>TRAILER1_LENGTH</th>\n",
              "      <th>TRAILER2_LENGTH</th>\n",
              "      <th>TOTAL_VEHICLE_LENGTH</th>\n",
              "      <th>AXLE_CNT</th>\n",
              "      <th>VEHICLE_CONFIG</th>\n",
              "      <th>CARGO_BODY_TYPE</th>\n",
              "      <th>LOAD_TYPE</th>\n",
              "      <th>HAZMAT_OUT_OF_SERVICE_I</th>\n",
              "      <th>MCS_OUT_OF_SERVICE_I</th>\n",
              "      <th>HAZMAT_CLASS</th>\n",
              "    </tr>\n",
              "  </thead>\n",
              "  <tbody>\n",
              "    <tr>\n",
              "      <th>0</th>\n",
              "      <td>1717556</td>\n",
              "      <td>7b1763088507f77e0e552c009a6bf89a4d6330c7527706...</td>\n",
              "      <td>12/06/2023 03:24:00 PM</td>\n",
              "      <td>1</td>\n",
              "      <td>DRIVER</td>\n",
              "      <td>NaN</td>\n",
              "      <td>1634931.0</td>\n",
              "      <td>NaN</td>\n",
              "      <td>NISSAN</td>\n",
              "      <td>SENTRA</td>\n",
              "      <td>...</td>\n",
              "      <td>NaN</td>\n",
              "      <td>NaN</td>\n",
              "      <td>NaN</td>\n",
              "      <td>NaN</td>\n",
              "      <td>NaN</td>\n",
              "      <td>NaN</td>\n",
              "      <td>NaN</td>\n",
              "      <td>NaN</td>\n",
              "      <td>NaN</td>\n",
              "      <td>NaN</td>\n",
              "    </tr>\n",
              "    <tr>\n",
              "      <th>1</th>\n",
              "      <td>1717574</td>\n",
              "      <td>2603ff5a88f0b9b54576934c5ed4e4a64e8278e005687b...</td>\n",
              "      <td>12/06/2023 04:00:00 PM</td>\n",
              "      <td>2</td>\n",
              "      <td>DRIVER</td>\n",
              "      <td>NaN</td>\n",
              "      <td>1634978.0</td>\n",
              "      <td>NaN</td>\n",
              "      <td>CHRYSLER</td>\n",
              "      <td>SEBRING</td>\n",
              "      <td>...</td>\n",
              "      <td>NaN</td>\n",
              "      <td>NaN</td>\n",
              "      <td>NaN</td>\n",
              "      <td>NaN</td>\n",
              "      <td>NaN</td>\n",
              "      <td>NaN</td>\n",
              "      <td>NaN</td>\n",
              "      <td>NaN</td>\n",
              "      <td>NaN</td>\n",
              "      <td>NaN</td>\n",
              "    </tr>\n",
              "    <tr>\n",
              "      <th>2</th>\n",
              "      <td>1717579</td>\n",
              "      <td>a52ef70e33d468b855b5be44e8638a564434dcf99c0edf...</td>\n",
              "      <td>12/06/2023 04:30:00 PM</td>\n",
              "      <td>1</td>\n",
              "      <td>DRIVER</td>\n",
              "      <td>NaN</td>\n",
              "      <td>1634948.0</td>\n",
              "      <td>NaN</td>\n",
              "      <td>SUBARU</td>\n",
              "      <td>OUTBACK</td>\n",
              "      <td>...</td>\n",
              "      <td>NaN</td>\n",
              "      <td>NaN</td>\n",
              "      <td>NaN</td>\n",
              "      <td>NaN</td>\n",
              "      <td>NaN</td>\n",
              "      <td>NaN</td>\n",
              "      <td>NaN</td>\n",
              "      <td>NaN</td>\n",
              "      <td>NaN</td>\n",
              "      <td>NaN</td>\n",
              "    </tr>\n",
              "  </tbody>\n",
              "</table>\n",
              "<p>3 rows × 71 columns</p>\n",
              "</div>\n",
              "    <div class=\"colab-df-buttons\">\n",
              "\n",
              "  <div class=\"colab-df-container\">\n",
              "    <button class=\"colab-df-convert\" onclick=\"convertToInteractive('df-bbbc0808-c9e0-4ba7-9045-c678508599c8')\"\n",
              "            title=\"Convert this dataframe to an interactive table.\"\n",
              "            style=\"display:none;\">\n",
              "\n",
              "  <svg xmlns=\"http://www.w3.org/2000/svg\" height=\"24px\" viewBox=\"0 -960 960 960\">\n",
              "    <path d=\"M120-120v-720h720v720H120Zm60-500h600v-160H180v160Zm220 220h160v-160H400v160Zm0 220h160v-160H400v160ZM180-400h160v-160H180v160Zm440 0h160v-160H620v160ZM180-180h160v-160H180v160Zm440 0h160v-160H620v160Z\"/>\n",
              "  </svg>\n",
              "    </button>\n",
              "\n",
              "  <style>\n",
              "    .colab-df-container {\n",
              "      display:flex;\n",
              "      gap: 12px;\n",
              "    }\n",
              "\n",
              "    .colab-df-convert {\n",
              "      background-color: #E8F0FE;\n",
              "      border: none;\n",
              "      border-radius: 50%;\n",
              "      cursor: pointer;\n",
              "      display: none;\n",
              "      fill: #1967D2;\n",
              "      height: 32px;\n",
              "      padding: 0 0 0 0;\n",
              "      width: 32px;\n",
              "    }\n",
              "\n",
              "    .colab-df-convert:hover {\n",
              "      background-color: #E2EBFA;\n",
              "      box-shadow: 0px 1px 2px rgba(60, 64, 67, 0.3), 0px 1px 3px 1px rgba(60, 64, 67, 0.15);\n",
              "      fill: #174EA6;\n",
              "    }\n",
              "\n",
              "    .colab-df-buttons div {\n",
              "      margin-bottom: 4px;\n",
              "    }\n",
              "\n",
              "    [theme=dark] .colab-df-convert {\n",
              "      background-color: #3B4455;\n",
              "      fill: #D2E3FC;\n",
              "    }\n",
              "\n",
              "    [theme=dark] .colab-df-convert:hover {\n",
              "      background-color: #434B5C;\n",
              "      box-shadow: 0px 1px 3px 1px rgba(0, 0, 0, 0.15);\n",
              "      filter: drop-shadow(0px 1px 2px rgba(0, 0, 0, 0.3));\n",
              "      fill: #FFFFFF;\n",
              "    }\n",
              "  </style>\n",
              "\n",
              "    <script>\n",
              "      const buttonEl =\n",
              "        document.querySelector('#df-bbbc0808-c9e0-4ba7-9045-c678508599c8 button.colab-df-convert');\n",
              "      buttonEl.style.display =\n",
              "        google.colab.kernel.accessAllowed ? 'block' : 'none';\n",
              "\n",
              "      async function convertToInteractive(key) {\n",
              "        const element = document.querySelector('#df-bbbc0808-c9e0-4ba7-9045-c678508599c8');\n",
              "        const dataTable =\n",
              "          await google.colab.kernel.invokeFunction('convertToInteractive',\n",
              "                                                    [key], {});\n",
              "        if (!dataTable) return;\n",
              "\n",
              "        const docLinkHtml = 'Like what you see? Visit the ' +\n",
              "          '<a target=\"_blank\" href=https://colab.research.google.com/notebooks/data_table.ipynb>data table notebook</a>'\n",
              "          + ' to learn more about interactive tables.';\n",
              "        element.innerHTML = '';\n",
              "        dataTable['output_type'] = 'display_data';\n",
              "        await google.colab.output.renderOutput(dataTable, element);\n",
              "        const docLink = document.createElement('div');\n",
              "        docLink.innerHTML = docLinkHtml;\n",
              "        element.appendChild(docLink);\n",
              "      }\n",
              "    </script>\n",
              "  </div>\n",
              "\n",
              "\n",
              "<div id=\"df-d6ad6212-93bb-4108-9181-8e005adb6f3a\">\n",
              "  <button class=\"colab-df-quickchart\" onclick=\"quickchart('df-d6ad6212-93bb-4108-9181-8e005adb6f3a')\"\n",
              "            title=\"Suggest charts\"\n",
              "            style=\"display:none;\">\n",
              "\n",
              "<svg xmlns=\"http://www.w3.org/2000/svg\" height=\"24px\"viewBox=\"0 0 24 24\"\n",
              "     width=\"24px\">\n",
              "    <g>\n",
              "        <path d=\"M19 3H5c-1.1 0-2 .9-2 2v14c0 1.1.9 2 2 2h14c1.1 0 2-.9 2-2V5c0-1.1-.9-2-2-2zM9 17H7v-7h2v7zm4 0h-2V7h2v10zm4 0h-2v-4h2v4z\"/>\n",
              "    </g>\n",
              "</svg>\n",
              "  </button>\n",
              "\n",
              "<style>\n",
              "  .colab-df-quickchart {\n",
              "      --bg-color: #E8F0FE;\n",
              "      --fill-color: #1967D2;\n",
              "      --hover-bg-color: #E2EBFA;\n",
              "      --hover-fill-color: #174EA6;\n",
              "      --disabled-fill-color: #AAA;\n",
              "      --disabled-bg-color: #DDD;\n",
              "  }\n",
              "\n",
              "  [theme=dark] .colab-df-quickchart {\n",
              "      --bg-color: #3B4455;\n",
              "      --fill-color: #D2E3FC;\n",
              "      --hover-bg-color: #434B5C;\n",
              "      --hover-fill-color: #FFFFFF;\n",
              "      --disabled-bg-color: #3B4455;\n",
              "      --disabled-fill-color: #666;\n",
              "  }\n",
              "\n",
              "  .colab-df-quickchart {\n",
              "    background-color: var(--bg-color);\n",
              "    border: none;\n",
              "    border-radius: 50%;\n",
              "    cursor: pointer;\n",
              "    display: none;\n",
              "    fill: var(--fill-color);\n",
              "    height: 32px;\n",
              "    padding: 0;\n",
              "    width: 32px;\n",
              "  }\n",
              "\n",
              "  .colab-df-quickchart:hover {\n",
              "    background-color: var(--hover-bg-color);\n",
              "    box-shadow: 0 1px 2px rgba(60, 64, 67, 0.3), 0 1px 3px 1px rgba(60, 64, 67, 0.15);\n",
              "    fill: var(--button-hover-fill-color);\n",
              "  }\n",
              "\n",
              "  .colab-df-quickchart-complete:disabled,\n",
              "  .colab-df-quickchart-complete:disabled:hover {\n",
              "    background-color: var(--disabled-bg-color);\n",
              "    fill: var(--disabled-fill-color);\n",
              "    box-shadow: none;\n",
              "  }\n",
              "\n",
              "  .colab-df-spinner {\n",
              "    border: 2px solid var(--fill-color);\n",
              "    border-color: transparent;\n",
              "    border-bottom-color: var(--fill-color);\n",
              "    animation:\n",
              "      spin 1s steps(1) infinite;\n",
              "  }\n",
              "\n",
              "  @keyframes spin {\n",
              "    0% {\n",
              "      border-color: transparent;\n",
              "      border-bottom-color: var(--fill-color);\n",
              "      border-left-color: var(--fill-color);\n",
              "    }\n",
              "    20% {\n",
              "      border-color: transparent;\n",
              "      border-left-color: var(--fill-color);\n",
              "      border-top-color: var(--fill-color);\n",
              "    }\n",
              "    30% {\n",
              "      border-color: transparent;\n",
              "      border-left-color: var(--fill-color);\n",
              "      border-top-color: var(--fill-color);\n",
              "      border-right-color: var(--fill-color);\n",
              "    }\n",
              "    40% {\n",
              "      border-color: transparent;\n",
              "      border-right-color: var(--fill-color);\n",
              "      border-top-color: var(--fill-color);\n",
              "    }\n",
              "    60% {\n",
              "      border-color: transparent;\n",
              "      border-right-color: var(--fill-color);\n",
              "    }\n",
              "    80% {\n",
              "      border-color: transparent;\n",
              "      border-right-color: var(--fill-color);\n",
              "      border-bottom-color: var(--fill-color);\n",
              "    }\n",
              "    90% {\n",
              "      border-color: transparent;\n",
              "      border-bottom-color: var(--fill-color);\n",
              "    }\n",
              "  }\n",
              "</style>\n",
              "\n",
              "  <script>\n",
              "    async function quickchart(key) {\n",
              "      const quickchartButtonEl =\n",
              "        document.querySelector('#' + key + ' button');\n",
              "      quickchartButtonEl.disabled = true;  // To prevent multiple clicks.\n",
              "      quickchartButtonEl.classList.add('colab-df-spinner');\n",
              "      try {\n",
              "        const charts = await google.colab.kernel.invokeFunction(\n",
              "            'suggestCharts', [key], {});\n",
              "      } catch (error) {\n",
              "        console.error('Error during call to suggestCharts:', error);\n",
              "      }\n",
              "      quickchartButtonEl.classList.remove('colab-df-spinner');\n",
              "      quickchartButtonEl.classList.add('colab-df-quickchart-complete');\n",
              "    }\n",
              "    (() => {\n",
              "      let quickchartButtonEl =\n",
              "        document.querySelector('#df-d6ad6212-93bb-4108-9181-8e005adb6f3a button');\n",
              "      quickchartButtonEl.style.display =\n",
              "        google.colab.kernel.accessAllowed ? 'block' : 'none';\n",
              "    })();\n",
              "  </script>\n",
              "</div>\n",
              "\n",
              "    </div>\n",
              "  </div>\n"
            ],
            "application/vnd.google.colaboratory.intrinsic+json": {
              "type": "dataframe",
              "variable_name": "vehicles_df"
            }
          },
          "metadata": {},
          "execution_count": 27
        }
      ]
    },
    {
      "cell_type": "code",
      "source": [
        "vehicles_df.shape"
      ],
      "metadata": {
        "id": "y_AgSGQZhpoP",
        "outputId": "636bffa7-2be7-4583-a3a1-b74ee17cc780",
        "colab": {
          "base_uri": "https://localhost:8080/"
        }
      },
      "id": "y_AgSGQZhpoP",
      "execution_count": 28,
      "outputs": [
        {
          "output_type": "execute_result",
          "data": {
            "text/plain": [
              "(1690173, 71)"
            ]
          },
          "metadata": {},
          "execution_count": 28
        }
      ]
    },
    {
      "cell_type": "code",
      "source": [
        "vehicles_df.info()"
      ],
      "metadata": {
        "id": "sRwKpTXlh7o9",
        "outputId": "5d688053-5b96-458e-a22d-ffffecb216e8",
        "colab": {
          "base_uri": "https://localhost:8080/"
        }
      },
      "id": "sRwKpTXlh7o9",
      "execution_count": 29,
      "outputs": [
        {
          "output_type": "stream",
          "name": "stdout",
          "text": [
            "<class 'pandas.core.frame.DataFrame'>\n",
            "RangeIndex: 1690173 entries, 0 to 1690172\n",
            "Data columns (total 71 columns):\n",
            " #   Column                    Non-Null Count    Dtype  \n",
            "---  ------                    --------------    -----  \n",
            " 0   CRASH_UNIT_ID             1690173 non-null  int64  \n",
            " 1   CRASH_RECORD_ID           1690173 non-null  object \n",
            " 2   CRASH_DATE                1690173 non-null  object \n",
            " 3   UNIT_NO                   1690173 non-null  int64  \n",
            " 4   UNIT_TYPE                 1688017 non-null  object \n",
            " 5   NUM_PASSENGERS            250022 non-null   float64\n",
            " 6   VEHICLE_ID                1651514 non-null  float64\n",
            " 7   CMRC_VEH_I                31452 non-null    object \n",
            " 8   MAKE                      1651509 non-null  object \n",
            " 9   MODEL                     1651364 non-null  object \n",
            " 10  LIC_PLATE_STATE           1500227 non-null  object \n",
            " 11  VEHICLE_YEAR              1386705 non-null  float64\n",
            " 12  VEHICLE_DEFECT            1651514 non-null  object \n",
            " 13  VEHICLE_TYPE              1651514 non-null  object \n",
            " 14  VEHICLE_USE               1651514 non-null  object \n",
            " 15  TRAVEL_DIRECTION          1651514 non-null  object \n",
            " 16  MANEUVER                  1651514 non-null  object \n",
            " 17  TOWED_I                   209740 non-null   object \n",
            " 18  FIRE_I                    1386 non-null     object \n",
            " 19  OCCUPANT_CNT              1651514 non-null  float64\n",
            " 20  EXCEED_SPEED_LIMIT_I      2397 non-null     object \n",
            " 21  TOWED_BY                  157895 non-null   object \n",
            " 22  TOWED_TO                  96940 non-null    object \n",
            " 23  AREA_00_I                 57995 non-null    object \n",
            " 24  AREA_01_I                 452249 non-null   object \n",
            " 25  AREA_02_I                 267877 non-null   object \n",
            " 26  AREA_03_I                 162047 non-null   object \n",
            " 27  AREA_04_I                 161324 non-null   object \n",
            " 28  AREA_05_I                 250638 non-null   object \n",
            " 29  AREA_06_I                 264203 non-null   object \n",
            " 30  AREA_07_I                 245121 non-null   object \n",
            " 31  AREA_08_I                 239780 non-null   object \n",
            " 32  AREA_09_I                 114554 non-null   object \n",
            " 33  AREA_10_I                 166832 non-null   object \n",
            " 34  AREA_11_I                 322911 non-null   object \n",
            " 35  AREA_12_I                 315689 non-null   object \n",
            " 36  AREA_99_I                 190763 non-null   object \n",
            " 37  FIRST_CONTACT_POINT       1648389 non-null  object \n",
            " 38  CMV_ID                    17193 non-null    float64\n",
            " 39  USDOT_NO                  9649 non-null     object \n",
            " 40  CCMC_NO                   2043 non-null     object \n",
            " 41  ILCC_NO                   1408 non-null     object \n",
            " 42  COMMERCIAL_SRC            11402 non-null    object \n",
            " 43  GVWR                      9556 non-null     object \n",
            " 44  CARRIER_NAME              16433 non-null    object \n",
            " 45  CARRIER_STATE             15419 non-null    object \n",
            " 46  CARRIER_CITY              15126 non-null    object \n",
            " 47  HAZMAT_PLACARDS_I         332 non-null      object \n",
            " 48  HAZMAT_NAME               60 non-null       object \n",
            " 49  UN_NO                     574 non-null      object \n",
            " 50  HAZMAT_PRESENT_I          12545 non-null    object \n",
            " 51  HAZMAT_REPORT_I           12195 non-null    object \n",
            " 52  HAZMAT_REPORT_NO          1 non-null        object \n",
            " 53  MCS_REPORT_I              12244 non-null    object \n",
            " 54  MCS_REPORT_NO             7 non-null        object \n",
            " 55  HAZMAT_VIO_CAUSE_CRASH_I  12362 non-null    object \n",
            " 56  MCS_VIO_CAUSE_CRASH_I     12155 non-null    object \n",
            " 57  IDOT_PERMIT_NO            927 non-null      object \n",
            " 58  WIDE_LOAD_I               152 non-null      object \n",
            " 59  TRAILER1_WIDTH            2924 non-null     object \n",
            " 60  TRAILER2_WIDTH            350 non-null      object \n",
            " 61  TRAILER1_LENGTH           2359 non-null     float64\n",
            " 62  TRAILER2_LENGTH           68 non-null       float64\n",
            " 63  TOTAL_VEHICLE_LENGTH      2865 non-null     float64\n",
            " 64  AXLE_CNT                  4306 non-null     float64\n",
            " 65  VEHICLE_CONFIG            14240 non-null    object \n",
            " 66  CARGO_BODY_TYPE           13608 non-null    object \n",
            " 67  LOAD_TYPE                 13012 non-null    object \n",
            " 68  HAZMAT_OUT_OF_SERVICE_I   11841 non-null    object \n",
            " 69  MCS_OUT_OF_SERVICE_I      12090 non-null    object \n",
            " 70  HAZMAT_CLASS              1105 non-null     object \n",
            "dtypes: float64(9), int64(2), object(60)\n",
            "memory usage: 915.5+ MB\n"
          ]
        }
      ]
    },
    {
      "cell_type": "markdown",
      "source": [
        "Wow, that is a lot of columns. Fortunately, we can probably drop most of these if our main goal is determining the cause, but the dimensionality will quickly get out of hand if we keep certain columns.\n",
        "\n",
        "The first column that doesn't appear too redundant or nan-prone is 'MAKE'."
      ],
      "metadata": {
        "id": "tjb7f-YzmtQ6"
      },
      "id": "tjb7f-YzmtQ6"
    },
    {
      "cell_type": "code",
      "source": [
        "vehicles_df['MAKE'].value_counts()[0:40]"
      ],
      "metadata": {
        "id": "M6yZJCTPiC1X",
        "outputId": "f09693c0-c09c-431d-fb87-e67cd19caad8",
        "colab": {
          "base_uri": "https://localhost:8080/"
        }
      },
      "id": "M6yZJCTPiC1X",
      "execution_count": 30,
      "outputs": [
        {
          "output_type": "execute_result",
          "data": {
            "text/plain": [
              "MAKE\n",
              "CHEVROLET                           191593\n",
              "UNKNOWN                             164875\n",
              "FORD                                164662\n",
              "NISSAN                              133868\n",
              "HONDA                               121197\n",
              "TOYOTA                               93298\n",
              "TOYOTA MOTOR COMPANY, LTD.           89215\n",
              "DODGE                                71775\n",
              "HYUNDAI                              69361\n",
              "JEEP                                 68397\n",
              "VOLKSWAGEN                           31901\n",
              "CHRYSLER                             30012\n",
              "BUICK                                27603\n",
              "KIA                                  25821\n",
              "LEXUS                                24882\n",
              "MERCEDES-BENZ                        22974\n",
              "BMW                                  21741\n",
              "MAZDA                                21619\n",
              "CADILLAC                             17858\n",
              "KIA MOTORS CORP                      17582\n",
              "SUBARU                               17324\n",
              "INFINITI                             17217\n",
              "ACURA                                16719\n",
              "GENERAL MOTORS CORPORATION (GMC)     15924\n",
              "PONTIAC                              15397\n",
              "AUDI                                 13995\n",
              "MITSUBISHI                           13802\n",
              "GENERAL MOTORS CORP.                 12936\n",
              "VOLVO                                 9713\n",
              "LINCOLN                               6838\n",
              "MERCURY                               6755\n",
              "SATURN                                6562\n",
              "NEW FLYER                             6049\n",
              "LINCOLN-CONTINENTAL                   5989\n",
              "FREIGHTLINER CORPORATION              5730\n",
              "FREIGHTLINER CORP.                    5130\n",
              "LAND ROVER                            4233\n",
              "SCION                                 3467\n",
              "TESLA                                 3324\n",
              "ISUZU                                 2841\n",
              "Name: count, dtype: int64"
            ]
          },
          "metadata": {},
          "execution_count": 30
        }
      ]
    },
    {
      "cell_type": "markdown",
      "source": [
        "This reads like a list of the most common vehicle makes in the US and it would explode our features if we were to one-hot encode it."
      ],
      "metadata": {
        "id": "sdpwQbUlYrDP"
      },
      "id": "sdpwQbUlYrDP"
    },
    {
      "cell_type": "code",
      "source": [
        "vehicles_df['UNIT_TYPE'].value_counts()"
      ],
      "metadata": {
        "id": "UC-LSU3jnGxj",
        "outputId": "8973da7a-0166-4b40-9811-4475d2957671",
        "colab": {
          "base_uri": "https://localhost:8080/"
        }
      },
      "id": "UC-LSU3jnGxj",
      "execution_count": 32,
      "outputs": [
        {
          "output_type": "execute_result",
          "data": {
            "text/plain": [
              "UNIT_TYPE\n",
              "DRIVER                 1415231\n",
              "PARKED                  222855\n",
              "PEDESTRIAN               21244\n",
              "DRIVERLESS               13847\n",
              "BICYCLE                  12794\n",
              "NON-MOTOR VEHICLE         1482\n",
              "NON-CONTACT VEHICLE        306\n",
              "DISABLED VEHICLE           251\n",
              "EQUESTRIAN                   7\n",
              "Name: count, dtype: int64"
            ]
          },
          "metadata": {},
          "execution_count": 32
        }
      ]
    },
    {
      "cell_type": "code",
      "source": [],
      "metadata": {
        "id": "shQq8-HHY9tM"
      },
      "id": "shQq8-HHY9tM",
      "execution_count": null,
      "outputs": []
    }
  ],
  "metadata": {
    "kernelspec": {
      "display_name": "Python 3 (ipykernel)",
      "language": "python",
      "name": "python3"
    },
    "language_info": {
      "codemirror_mode": {
        "name": "ipython",
        "version": 3
      },
      "file_extension": ".py",
      "mimetype": "text/x-python",
      "name": "python",
      "nbconvert_exporter": "python",
      "pygments_lexer": "ipython3",
      "version": "3.9.18"
    },
    "colab": {
      "provenance": []
    }
  },
  "nbformat": 4,
  "nbformat_minor": 5
}