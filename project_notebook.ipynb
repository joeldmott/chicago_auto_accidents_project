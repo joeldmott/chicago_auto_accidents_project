{
  "cells": [
    {
      "cell_type": "markdown",
      "metadata": {
        "id": "view-in-github",
        "colab_type": "text"
      },
      "source": [
        "<a href=\"https://colab.research.google.com/github/joeldmott/chicago_auto_accidents_project/blob/main/project_notebook.ipynb\" target=\"_parent\"><img src=\"https://colab.research.google.com/assets/colab-badge.svg\" alt=\"Open In Colab\"/></a>"
      ]
    },
    {
      "cell_type": "markdown",
      "metadata": {
        "id": "Ihb3p5dyBuO3"
      },
      "source": [
        "# Determining the Primary Causes of Traffic Accidents in Chicago\n",
        "\n",
        "This projects raw dataset originates from the [City of Chicago's website](https://data.cityofchicago.org/Transportation/Traffic-Crashes-Crashes/85ca-t3if/about_data), where it is updated daily. I downloaded the data on May 1st, 2024 and [uploaded that snapshot to Kaggle](https://www.kaggle.com/datasets/joelmott/chicago-traffic-crashes-may-2024).\n",
        "\n",
        "This dataset consists of three seperate csv files: one for general crash information, one for the people involved in each crash, and one for each vehicle. When merged, the resulting dataset contains over 150 columns and 3.8 million records. In order to improve modeling results and interpretability, I narrowed that down to 15 feature columns and one target column in this [data engineering notebook](https://github.com/joeldmott/chicago_auto_accidents_project/blob/main/data_engineering_notebook.ipynb).\n",
        "\n",
        "In this project, I use the resulting csv file from that data engineering effort."
      ]
    },
    {
      "cell_type": "code",
      "execution_count": 54,
      "metadata": {
        "id": "CC4jPqddzEY4"
      },
      "outputs": [],
      "source": [
        "import json\n",
        "import os\n",
        "from pathlib import Path\n",
        "from google.colab import userdata\n",
        "\n",
        "# api key for importing Kaggle and downloading the datasets\n",
        "os.environ[\"KAGGLE_KEY\"] = userdata.get('KAGGLE_KEY')\n",
        "os.environ[\"KAGGLE_USERNAME\"] = userdata.get('KAGGLE_USERNAME')\n",
        "# api key for the json object below\n",
        "api_key = userdata.get('API_KEY')\n",
        "\n",
        "# uses pathlib Path\n",
        "kaggle_path = Path('/root/.kaggle')\n",
        "os.makedirs(kaggle_path, exist_ok=True)\n",
        "\n",
        "# opens file and dumps python dict to json object\n",
        "with open (kaggle_path/'kaggle.json', 'w') as handl:\n",
        "    json.dump(api_key,handl)\n",
        "\n",
        "os.chmod(kaggle_path/'kaggle.json', 600)"
      ]
    },
    {
      "cell_type": "code",
      "execution_count": 55,
      "metadata": {
        "colab": {
          "base_uri": "https://localhost:8080/"
        },
        "id": "Dh9J9BgNzO2J",
        "outputId": "e1608628-0e23-42c3-a60d-068d4f999613"
      },
      "outputs": [
        {
          "output_type": "stream",
          "name": "stdout",
          "text": [
            "Dataset URL: https://www.kaggle.com/datasets/joelmott/chicago-traffic-crashes-may-2024\n",
            "License(s): CC0-1.0\n",
            "trimmed_chicago_crashes_data.csv.zip: Skipping, found more recently modified local copy (use --force to force download)\n"
          ]
        }
      ],
      "source": [
        "#importing Kaggle module and downloading pre-engineered csv file\n",
        "import kaggle\n",
        "! kaggle datasets download joelmott/chicago-traffic-crashes-may-2024 -f trimmed_chicago_crashes_data.csv"
      ]
    },
    {
      "cell_type": "code",
      "execution_count": 56,
      "metadata": {
        "colab": {
          "base_uri": "https://localhost:8080/"
        },
        "id": "4ByunR1U1IQh",
        "outputId": "45079bf8-b705-4803-a26d-e10e2011bdd0"
      },
      "outputs": [
        {
          "output_type": "stream",
          "name": "stdout",
          "text": [
            "Archive:  /content/trimmed_chicago_crashes_data.csv\n",
            "  End-of-central-directory signature not found.  Either this file is not\n",
            "  a zipfile, or it constitutes one disk of a multi-part archive.  In the\n",
            "  latter case the central directory and zipfile comment will be found on\n",
            "  the last disk(s) of this archive.\n",
            "Archive:  /content/trimmed_chicago_crashes_data.csv.zip\n",
            "replace trimmed_chicago_crashes_data.csv? [y]es, [n]o, [A]ll, [N]one, [r]ename: "
          ]
        }
      ],
      "source": [
        "#unzipping the larger CSV file with our trimmed dataset\n",
        "!unzip /content/trimmed_chicago_crashes_data.csv"
      ]
    },
    {
      "cell_type": "code",
      "execution_count": 57,
      "metadata": {
        "colab": {
          "base_uri": "https://localhost:8080/"
        },
        "id": "iuPkF1pq68rd",
        "outputId": "910df72a-ba5c-42b4-88ab-9470f1c024f0"
      },
      "outputs": [
        {
          "output_type": "stream",
          "name": "stdout",
          "text": [
            "fatal: destination path 'chicago_auto_accidents_project' already exists and is not an empty directory.\n"
          ]
        }
      ],
      "source": [
        "#the map data files didn't work via Kaggle, so let's bring them in via GitHub\n",
        "!git clone https://github.com/joeldmott/chicago_auto_accidents_project.git"
      ]
    },
    {
      "cell_type": "code",
      "execution_count": 58,
      "metadata": {
        "colab": {
          "base_uri": "https://localhost:8080/",
          "height": 295
        },
        "id": "fqAU-rH8zeBO",
        "outputId": "9e794624-a06a-48ef-f692-7f3afccf7105"
      },
      "outputs": [
        {
          "output_type": "execute_result",
          "data": {
            "text/plain": [
              "   POSTED_SPEED_LIMIT WEATHER_CONDITION LIGHTING_CONDITION  \\\n",
              "0                  30             CLEAR           DAYLIGHT   \n",
              "1                  30             CLEAR           DAYLIGHT   \n",
              "2                  15             CLEAR           DAYLIGHT   \n",
              "3                  15             CLEAR           DAYLIGHT   \n",
              "4                  30             CLEAR           DAYLIGHT   \n",
              "\n",
              "  ROADWAY_SURFACE_COND  NUM_UNITS  CRASH_HOUR  CRASH_DAY_OF_WEEK  CRASH_MONTH  \\\n",
              "0                  DRY          2          17                  6            8   \n",
              "1                  DRY          2          17                  6            8   \n",
              "2                  DRY          2          12                  4            9   \n",
              "3                  DRY          2          12                  4            9   \n",
              "4                  DRY          2          11                  4            9   \n",
              "\n",
              "    LATITUDE  LONGITUDE PERSON_TYPE SEX   AGE TRAVEL_DIRECTION  \\\n",
              "0  41.942976 -87.761883     BICYCLE   M  14.0                S   \n",
              "1  41.942976 -87.761883      DRIVER   M  36.0                S   \n",
              "2  41.744152 -87.585945      DRIVER   M  55.0                W   \n",
              "3  41.744152 -87.585945      DRIVER   M  55.0                S   \n",
              "4  41.937252 -87.776321      DRIVER   M  39.0                S   \n",
              "\n",
              "               MANEUVER  TARGET  \n",
              "0        STRAIGHT AHEAD       1  \n",
              "1        STRAIGHT AHEAD       1  \n",
              "2               BACKING       1  \n",
              "3  SLOW/STOP IN TRAFFIC       1  \n",
              "4        STRAIGHT AHEAD       1  "
            ],
            "text/html": [
              "\n",
              "  <div id=\"df-8abf692e-cae8-447f-8621-8c62f53d9dee\" class=\"colab-df-container\">\n",
              "    <div>\n",
              "<style scoped>\n",
              "    .dataframe tbody tr th:only-of-type {\n",
              "        vertical-align: middle;\n",
              "    }\n",
              "\n",
              "    .dataframe tbody tr th {\n",
              "        vertical-align: top;\n",
              "    }\n",
              "\n",
              "    .dataframe thead th {\n",
              "        text-align: right;\n",
              "    }\n",
              "</style>\n",
              "<table border=\"1\" class=\"dataframe\">\n",
              "  <thead>\n",
              "    <tr style=\"text-align: right;\">\n",
              "      <th></th>\n",
              "      <th>POSTED_SPEED_LIMIT</th>\n",
              "      <th>WEATHER_CONDITION</th>\n",
              "      <th>LIGHTING_CONDITION</th>\n",
              "      <th>ROADWAY_SURFACE_COND</th>\n",
              "      <th>NUM_UNITS</th>\n",
              "      <th>CRASH_HOUR</th>\n",
              "      <th>CRASH_DAY_OF_WEEK</th>\n",
              "      <th>CRASH_MONTH</th>\n",
              "      <th>LATITUDE</th>\n",
              "      <th>LONGITUDE</th>\n",
              "      <th>PERSON_TYPE</th>\n",
              "      <th>SEX</th>\n",
              "      <th>AGE</th>\n",
              "      <th>TRAVEL_DIRECTION</th>\n",
              "      <th>MANEUVER</th>\n",
              "      <th>TARGET</th>\n",
              "    </tr>\n",
              "  </thead>\n",
              "  <tbody>\n",
              "    <tr>\n",
              "      <th>0</th>\n",
              "      <td>30</td>\n",
              "      <td>CLEAR</td>\n",
              "      <td>DAYLIGHT</td>\n",
              "      <td>DRY</td>\n",
              "      <td>2</td>\n",
              "      <td>17</td>\n",
              "      <td>6</td>\n",
              "      <td>8</td>\n",
              "      <td>41.942976</td>\n",
              "      <td>-87.761883</td>\n",
              "      <td>BICYCLE</td>\n",
              "      <td>M</td>\n",
              "      <td>14.0</td>\n",
              "      <td>S</td>\n",
              "      <td>STRAIGHT AHEAD</td>\n",
              "      <td>1</td>\n",
              "    </tr>\n",
              "    <tr>\n",
              "      <th>1</th>\n",
              "      <td>30</td>\n",
              "      <td>CLEAR</td>\n",
              "      <td>DAYLIGHT</td>\n",
              "      <td>DRY</td>\n",
              "      <td>2</td>\n",
              "      <td>17</td>\n",
              "      <td>6</td>\n",
              "      <td>8</td>\n",
              "      <td>41.942976</td>\n",
              "      <td>-87.761883</td>\n",
              "      <td>DRIVER</td>\n",
              "      <td>M</td>\n",
              "      <td>36.0</td>\n",
              "      <td>S</td>\n",
              "      <td>STRAIGHT AHEAD</td>\n",
              "      <td>1</td>\n",
              "    </tr>\n",
              "    <tr>\n",
              "      <th>2</th>\n",
              "      <td>15</td>\n",
              "      <td>CLEAR</td>\n",
              "      <td>DAYLIGHT</td>\n",
              "      <td>DRY</td>\n",
              "      <td>2</td>\n",
              "      <td>12</td>\n",
              "      <td>4</td>\n",
              "      <td>9</td>\n",
              "      <td>41.744152</td>\n",
              "      <td>-87.585945</td>\n",
              "      <td>DRIVER</td>\n",
              "      <td>M</td>\n",
              "      <td>55.0</td>\n",
              "      <td>W</td>\n",
              "      <td>BACKING</td>\n",
              "      <td>1</td>\n",
              "    </tr>\n",
              "    <tr>\n",
              "      <th>3</th>\n",
              "      <td>15</td>\n",
              "      <td>CLEAR</td>\n",
              "      <td>DAYLIGHT</td>\n",
              "      <td>DRY</td>\n",
              "      <td>2</td>\n",
              "      <td>12</td>\n",
              "      <td>4</td>\n",
              "      <td>9</td>\n",
              "      <td>41.744152</td>\n",
              "      <td>-87.585945</td>\n",
              "      <td>DRIVER</td>\n",
              "      <td>M</td>\n",
              "      <td>55.0</td>\n",
              "      <td>S</td>\n",
              "      <td>SLOW/STOP IN TRAFFIC</td>\n",
              "      <td>1</td>\n",
              "    </tr>\n",
              "    <tr>\n",
              "      <th>4</th>\n",
              "      <td>30</td>\n",
              "      <td>CLEAR</td>\n",
              "      <td>DAYLIGHT</td>\n",
              "      <td>DRY</td>\n",
              "      <td>2</td>\n",
              "      <td>11</td>\n",
              "      <td>4</td>\n",
              "      <td>9</td>\n",
              "      <td>41.937252</td>\n",
              "      <td>-87.776321</td>\n",
              "      <td>DRIVER</td>\n",
              "      <td>M</td>\n",
              "      <td>39.0</td>\n",
              "      <td>S</td>\n",
              "      <td>STRAIGHT AHEAD</td>\n",
              "      <td>1</td>\n",
              "    </tr>\n",
              "  </tbody>\n",
              "</table>\n",
              "</div>\n",
              "    <div class=\"colab-df-buttons\">\n",
              "\n",
              "  <div class=\"colab-df-container\">\n",
              "    <button class=\"colab-df-convert\" onclick=\"convertToInteractive('df-8abf692e-cae8-447f-8621-8c62f53d9dee')\"\n",
              "            title=\"Convert this dataframe to an interactive table.\"\n",
              "            style=\"display:none;\">\n",
              "\n",
              "  <svg xmlns=\"http://www.w3.org/2000/svg\" height=\"24px\" viewBox=\"0 -960 960 960\">\n",
              "    <path d=\"M120-120v-720h720v720H120Zm60-500h600v-160H180v160Zm220 220h160v-160H400v160Zm0 220h160v-160H400v160ZM180-400h160v-160H180v160Zm440 0h160v-160H620v160ZM180-180h160v-160H180v160Zm440 0h160v-160H620v160Z\"/>\n",
              "  </svg>\n",
              "    </button>\n",
              "\n",
              "  <style>\n",
              "    .colab-df-container {\n",
              "      display:flex;\n",
              "      gap: 12px;\n",
              "    }\n",
              "\n",
              "    .colab-df-convert {\n",
              "      background-color: #E8F0FE;\n",
              "      border: none;\n",
              "      border-radius: 50%;\n",
              "      cursor: pointer;\n",
              "      display: none;\n",
              "      fill: #1967D2;\n",
              "      height: 32px;\n",
              "      padding: 0 0 0 0;\n",
              "      width: 32px;\n",
              "    }\n",
              "\n",
              "    .colab-df-convert:hover {\n",
              "      background-color: #E2EBFA;\n",
              "      box-shadow: 0px 1px 2px rgba(60, 64, 67, 0.3), 0px 1px 3px 1px rgba(60, 64, 67, 0.15);\n",
              "      fill: #174EA6;\n",
              "    }\n",
              "\n",
              "    .colab-df-buttons div {\n",
              "      margin-bottom: 4px;\n",
              "    }\n",
              "\n",
              "    [theme=dark] .colab-df-convert {\n",
              "      background-color: #3B4455;\n",
              "      fill: #D2E3FC;\n",
              "    }\n",
              "\n",
              "    [theme=dark] .colab-df-convert:hover {\n",
              "      background-color: #434B5C;\n",
              "      box-shadow: 0px 1px 3px 1px rgba(0, 0, 0, 0.15);\n",
              "      filter: drop-shadow(0px 1px 2px rgba(0, 0, 0, 0.3));\n",
              "      fill: #FFFFFF;\n",
              "    }\n",
              "  </style>\n",
              "\n",
              "    <script>\n",
              "      const buttonEl =\n",
              "        document.querySelector('#df-8abf692e-cae8-447f-8621-8c62f53d9dee button.colab-df-convert');\n",
              "      buttonEl.style.display =\n",
              "        google.colab.kernel.accessAllowed ? 'block' : 'none';\n",
              "\n",
              "      async function convertToInteractive(key) {\n",
              "        const element = document.querySelector('#df-8abf692e-cae8-447f-8621-8c62f53d9dee');\n",
              "        const dataTable =\n",
              "          await google.colab.kernel.invokeFunction('convertToInteractive',\n",
              "                                                    [key], {});\n",
              "        if (!dataTable) return;\n",
              "\n",
              "        const docLinkHtml = 'Like what you see? Visit the ' +\n",
              "          '<a target=\"_blank\" href=https://colab.research.google.com/notebooks/data_table.ipynb>data table notebook</a>'\n",
              "          + ' to learn more about interactive tables.';\n",
              "        element.innerHTML = '';\n",
              "        dataTable['output_type'] = 'display_data';\n",
              "        await google.colab.output.renderOutput(dataTable, element);\n",
              "        const docLink = document.createElement('div');\n",
              "        docLink.innerHTML = docLinkHtml;\n",
              "        element.appendChild(docLink);\n",
              "      }\n",
              "    </script>\n",
              "  </div>\n",
              "\n",
              "\n",
              "<div id=\"df-05923fca-0f1d-43b8-aa62-041b724b0f6e\">\n",
              "  <button class=\"colab-df-quickchart\" onclick=\"quickchart('df-05923fca-0f1d-43b8-aa62-041b724b0f6e')\"\n",
              "            title=\"Suggest charts\"\n",
              "            style=\"display:none;\">\n",
              "\n",
              "<svg xmlns=\"http://www.w3.org/2000/svg\" height=\"24px\"viewBox=\"0 0 24 24\"\n",
              "     width=\"24px\">\n",
              "    <g>\n",
              "        <path d=\"M19 3H5c-1.1 0-2 .9-2 2v14c0 1.1.9 2 2 2h14c1.1 0 2-.9 2-2V5c0-1.1-.9-2-2-2zM9 17H7v-7h2v7zm4 0h-2V7h2v10zm4 0h-2v-4h2v4z\"/>\n",
              "    </g>\n",
              "</svg>\n",
              "  </button>\n",
              "\n",
              "<style>\n",
              "  .colab-df-quickchart {\n",
              "      --bg-color: #E8F0FE;\n",
              "      --fill-color: #1967D2;\n",
              "      --hover-bg-color: #E2EBFA;\n",
              "      --hover-fill-color: #174EA6;\n",
              "      --disabled-fill-color: #AAA;\n",
              "      --disabled-bg-color: #DDD;\n",
              "  }\n",
              "\n",
              "  [theme=dark] .colab-df-quickchart {\n",
              "      --bg-color: #3B4455;\n",
              "      --fill-color: #D2E3FC;\n",
              "      --hover-bg-color: #434B5C;\n",
              "      --hover-fill-color: #FFFFFF;\n",
              "      --disabled-bg-color: #3B4455;\n",
              "      --disabled-fill-color: #666;\n",
              "  }\n",
              "\n",
              "  .colab-df-quickchart {\n",
              "    background-color: var(--bg-color);\n",
              "    border: none;\n",
              "    border-radius: 50%;\n",
              "    cursor: pointer;\n",
              "    display: none;\n",
              "    fill: var(--fill-color);\n",
              "    height: 32px;\n",
              "    padding: 0;\n",
              "    width: 32px;\n",
              "  }\n",
              "\n",
              "  .colab-df-quickchart:hover {\n",
              "    background-color: var(--hover-bg-color);\n",
              "    box-shadow: 0 1px 2px rgba(60, 64, 67, 0.3), 0 1px 3px 1px rgba(60, 64, 67, 0.15);\n",
              "    fill: var(--button-hover-fill-color);\n",
              "  }\n",
              "\n",
              "  .colab-df-quickchart-complete:disabled,\n",
              "  .colab-df-quickchart-complete:disabled:hover {\n",
              "    background-color: var(--disabled-bg-color);\n",
              "    fill: var(--disabled-fill-color);\n",
              "    box-shadow: none;\n",
              "  }\n",
              "\n",
              "  .colab-df-spinner {\n",
              "    border: 2px solid var(--fill-color);\n",
              "    border-color: transparent;\n",
              "    border-bottom-color: var(--fill-color);\n",
              "    animation:\n",
              "      spin 1s steps(1) infinite;\n",
              "  }\n",
              "\n",
              "  @keyframes spin {\n",
              "    0% {\n",
              "      border-color: transparent;\n",
              "      border-bottom-color: var(--fill-color);\n",
              "      border-left-color: var(--fill-color);\n",
              "    }\n",
              "    20% {\n",
              "      border-color: transparent;\n",
              "      border-left-color: var(--fill-color);\n",
              "      border-top-color: var(--fill-color);\n",
              "    }\n",
              "    30% {\n",
              "      border-color: transparent;\n",
              "      border-left-color: var(--fill-color);\n",
              "      border-top-color: var(--fill-color);\n",
              "      border-right-color: var(--fill-color);\n",
              "    }\n",
              "    40% {\n",
              "      border-color: transparent;\n",
              "      border-right-color: var(--fill-color);\n",
              "      border-top-color: var(--fill-color);\n",
              "    }\n",
              "    60% {\n",
              "      border-color: transparent;\n",
              "      border-right-color: var(--fill-color);\n",
              "    }\n",
              "    80% {\n",
              "      border-color: transparent;\n",
              "      border-right-color: var(--fill-color);\n",
              "      border-bottom-color: var(--fill-color);\n",
              "    }\n",
              "    90% {\n",
              "      border-color: transparent;\n",
              "      border-bottom-color: var(--fill-color);\n",
              "    }\n",
              "  }\n",
              "</style>\n",
              "\n",
              "  <script>\n",
              "    async function quickchart(key) {\n",
              "      const quickchartButtonEl =\n",
              "        document.querySelector('#' + key + ' button');\n",
              "      quickchartButtonEl.disabled = true;  // To prevent multiple clicks.\n",
              "      quickchartButtonEl.classList.add('colab-df-spinner');\n",
              "      try {\n",
              "        const charts = await google.colab.kernel.invokeFunction(\n",
              "            'suggestCharts', [key], {});\n",
              "      } catch (error) {\n",
              "        console.error('Error during call to suggestCharts:', error);\n",
              "      }\n",
              "      quickchartButtonEl.classList.remove('colab-df-spinner');\n",
              "      quickchartButtonEl.classList.add('colab-df-quickchart-complete');\n",
              "    }\n",
              "    (() => {\n",
              "      let quickchartButtonEl =\n",
              "        document.querySelector('#df-05923fca-0f1d-43b8-aa62-041b724b0f6e button');\n",
              "      quickchartButtonEl.style.display =\n",
              "        google.colab.kernel.accessAllowed ? 'block' : 'none';\n",
              "    })();\n",
              "  </script>\n",
              "</div>\n",
              "\n",
              "    </div>\n",
              "  </div>\n"
            ],
            "application/vnd.google.colaboratory.intrinsic+json": {
              "type": "dataframe",
              "variable_name": "df"
            }
          },
          "metadata": {},
          "execution_count": 58
        }
      ],
      "source": [
        "#reading the main CSV file in as a DataFrame\n",
        "import pandas as pd\n",
        "df = pd.read_csv('/content/trimmed_chicago_crashes_data.csv')\n",
        "df.head()"
      ]
    },
    {
      "cell_type": "code",
      "execution_count": 59,
      "metadata": {
        "colab": {
          "base_uri": "https://localhost:8080/"
        },
        "id": "N84Iz4H109C1",
        "outputId": "742cacb1-0a5a-4355-c820-6ba47311a33f"
      },
      "outputs": [
        {
          "output_type": "stream",
          "name": "stdout",
          "text": [
            "<class 'pandas.core.frame.DataFrame'>\n",
            "RangeIndex: 884691 entries, 0 to 884690\n",
            "Data columns (total 16 columns):\n",
            " #   Column                Non-Null Count   Dtype  \n",
            "---  ------                --------------   -----  \n",
            " 0   POSTED_SPEED_LIMIT    884691 non-null  int64  \n",
            " 1   WEATHER_CONDITION     884691 non-null  object \n",
            " 2   LIGHTING_CONDITION    884691 non-null  object \n",
            " 3   ROADWAY_SURFACE_COND  884691 non-null  object \n",
            " 4   NUM_UNITS             884691 non-null  int64  \n",
            " 5   CRASH_HOUR            884691 non-null  int64  \n",
            " 6   CRASH_DAY_OF_WEEK     884691 non-null  int64  \n",
            " 7   CRASH_MONTH           884691 non-null  int64  \n",
            " 8   LATITUDE              884691 non-null  float64\n",
            " 9   LONGITUDE             884691 non-null  float64\n",
            " 10  PERSON_TYPE           884691 non-null  object \n",
            " 11  SEX                   884691 non-null  object \n",
            " 12  AGE                   884691 non-null  float64\n",
            " 13  TRAVEL_DIRECTION      884691 non-null  object \n",
            " 14  MANEUVER              884691 non-null  object \n",
            " 15  TARGET                884691 non-null  int64  \n",
            "dtypes: float64(3), int64(6), object(7)\n",
            "memory usage: 108.0+ MB\n"
          ]
        }
      ],
      "source": [
        "#let's check and see if it looks like it did back in the data engineering notebook:\n",
        "df.info()"
      ]
    },
    {
      "cell_type": "markdown",
      "metadata": {
        "id": "lK_TdGr5BrO0"
      },
      "source": [
        "## valuation measures\n",
        "\n",
        "This file is more managable than the gargantuan raw data, but still contains plenty of records. Subsequently, we'll validate this project using a train-test split as opposed to cross-validation."
      ]
    },
    {
      "cell_type": "code",
      "execution_count": 60,
      "metadata": {
        "id": "Z9Npuvs81UFR"
      },
      "outputs": [],
      "source": [
        "from sklearn.model_selection import train_test_split\n",
        "X = df.drop('TARGET', axis=1)\n",
        "y = df['TARGET']\n",
        "X_train, X_test, y_train, y_test = train_test_split(X, y, test_size=0.2, random_state=210)"
      ]
    },
    {
      "cell_type": "markdown",
      "metadata": {
        "id": "V2YWLZax7Ocn"
      },
      "source": [
        "## preprocessing data\n",
        "\n",
        "Now we can standardize our numeric columns and one-hot encode our categorical ones before inputting these features into models."
      ]
    },
    {
      "cell_type": "code",
      "execution_count": 61,
      "metadata": {
        "id": "WPQWI2TWEMbO"
      },
      "outputs": [],
      "source": [
        "#establishing which features are numeric or categorical\n",
        "numeric_features = ['POSTED_SPEED_LIMIT', 'NUM_UNITS', 'CRASH_HOUR', 'LATITUDE', 'LONGITUDE', 'AGE']\n",
        "\n",
        "categorical_features = ['WEATHER_CONDITION', 'LIGHTING_CONDITION', 'ROADWAY_SURFACE_COND',\n",
        "                        'CRASH_DAY_OF_WEEK', 'PERSON_TYPE', 'SEX', 'TRAVEL_DIRECTION', 'MANEUVER']\n",
        "\n",
        "#splitting them up for preprocessing\n",
        "X_train_numeric = X_train[numeric_features]\n",
        "X_train_categorical = X_train[categorical_features]"
      ]
    },
    {
      "cell_type": "markdown",
      "metadata": {
        "id": "KWiZ_Nz3JIf1"
      },
      "source": [
        "First, we'll standardize the numeric features since they have varied scales that throw off measures like PCA."
      ]
    },
    {
      "cell_type": "code",
      "execution_count": 62,
      "metadata": {
        "colab": {
          "base_uri": "https://localhost:8080/",
          "height": 206
        },
        "id": "qsQ0J5V0E4Y0",
        "outputId": "3a561c9d-7c12-4abd-bdbd-7c0535bb28d8"
      },
      "outputs": [
        {
          "output_type": "execute_result",
          "data": {
            "text/plain": [
              "        POSTED_SPEED_LIMIT  NUM_UNITS  CRASH_HOUR  LATITUDE  LONGITUDE  \\\n",
              "262116            0.131695  -0.331558   -0.823912  0.141162   0.836824   \n",
              "792637            0.131695  -0.331558   -0.634991  1.367298   0.014819   \n",
              "167787            1.140425  -0.331558   -1.012832 -2.269501   0.647798   \n",
              "433111            0.131695  -0.331558    1.254214 -0.229799   1.195767   \n",
              "477277            0.131695  -0.331558    0.309611 -2.025592  -0.653104   \n",
              "\n",
              "             AGE  \n",
              "262116 -1.045784  \n",
              "792637 -0.983018  \n",
              "167787 -1.359612  \n",
              "433111  1.025482  \n",
              "477277 -0.041534  "
            ],
            "text/html": [
              "\n",
              "  <div id=\"df-8c3b55a8-847f-4980-af0c-e3c048ea9ce0\" class=\"colab-df-container\">\n",
              "    <div>\n",
              "<style scoped>\n",
              "    .dataframe tbody tr th:only-of-type {\n",
              "        vertical-align: middle;\n",
              "    }\n",
              "\n",
              "    .dataframe tbody tr th {\n",
              "        vertical-align: top;\n",
              "    }\n",
              "\n",
              "    .dataframe thead th {\n",
              "        text-align: right;\n",
              "    }\n",
              "</style>\n",
              "<table border=\"1\" class=\"dataframe\">\n",
              "  <thead>\n",
              "    <tr style=\"text-align: right;\">\n",
              "      <th></th>\n",
              "      <th>POSTED_SPEED_LIMIT</th>\n",
              "      <th>NUM_UNITS</th>\n",
              "      <th>CRASH_HOUR</th>\n",
              "      <th>LATITUDE</th>\n",
              "      <th>LONGITUDE</th>\n",
              "      <th>AGE</th>\n",
              "    </tr>\n",
              "  </thead>\n",
              "  <tbody>\n",
              "    <tr>\n",
              "      <th>262116</th>\n",
              "      <td>0.131695</td>\n",
              "      <td>-0.331558</td>\n",
              "      <td>-0.823912</td>\n",
              "      <td>0.141162</td>\n",
              "      <td>0.836824</td>\n",
              "      <td>-1.045784</td>\n",
              "    </tr>\n",
              "    <tr>\n",
              "      <th>792637</th>\n",
              "      <td>0.131695</td>\n",
              "      <td>-0.331558</td>\n",
              "      <td>-0.634991</td>\n",
              "      <td>1.367298</td>\n",
              "      <td>0.014819</td>\n",
              "      <td>-0.983018</td>\n",
              "    </tr>\n",
              "    <tr>\n",
              "      <th>167787</th>\n",
              "      <td>1.140425</td>\n",
              "      <td>-0.331558</td>\n",
              "      <td>-1.012832</td>\n",
              "      <td>-2.269501</td>\n",
              "      <td>0.647798</td>\n",
              "      <td>-1.359612</td>\n",
              "    </tr>\n",
              "    <tr>\n",
              "      <th>433111</th>\n",
              "      <td>0.131695</td>\n",
              "      <td>-0.331558</td>\n",
              "      <td>1.254214</td>\n",
              "      <td>-0.229799</td>\n",
              "      <td>1.195767</td>\n",
              "      <td>1.025482</td>\n",
              "    </tr>\n",
              "    <tr>\n",
              "      <th>477277</th>\n",
              "      <td>0.131695</td>\n",
              "      <td>-0.331558</td>\n",
              "      <td>0.309611</td>\n",
              "      <td>-2.025592</td>\n",
              "      <td>-0.653104</td>\n",
              "      <td>-0.041534</td>\n",
              "    </tr>\n",
              "  </tbody>\n",
              "</table>\n",
              "</div>\n",
              "    <div class=\"colab-df-buttons\">\n",
              "\n",
              "  <div class=\"colab-df-container\">\n",
              "    <button class=\"colab-df-convert\" onclick=\"convertToInteractive('df-8c3b55a8-847f-4980-af0c-e3c048ea9ce0')\"\n",
              "            title=\"Convert this dataframe to an interactive table.\"\n",
              "            style=\"display:none;\">\n",
              "\n",
              "  <svg xmlns=\"http://www.w3.org/2000/svg\" height=\"24px\" viewBox=\"0 -960 960 960\">\n",
              "    <path d=\"M120-120v-720h720v720H120Zm60-500h600v-160H180v160Zm220 220h160v-160H400v160Zm0 220h160v-160H400v160ZM180-400h160v-160H180v160Zm440 0h160v-160H620v160ZM180-180h160v-160H180v160Zm440 0h160v-160H620v160Z\"/>\n",
              "  </svg>\n",
              "    </button>\n",
              "\n",
              "  <style>\n",
              "    .colab-df-container {\n",
              "      display:flex;\n",
              "      gap: 12px;\n",
              "    }\n",
              "\n",
              "    .colab-df-convert {\n",
              "      background-color: #E8F0FE;\n",
              "      border: none;\n",
              "      border-radius: 50%;\n",
              "      cursor: pointer;\n",
              "      display: none;\n",
              "      fill: #1967D2;\n",
              "      height: 32px;\n",
              "      padding: 0 0 0 0;\n",
              "      width: 32px;\n",
              "    }\n",
              "\n",
              "    .colab-df-convert:hover {\n",
              "      background-color: #E2EBFA;\n",
              "      box-shadow: 0px 1px 2px rgba(60, 64, 67, 0.3), 0px 1px 3px 1px rgba(60, 64, 67, 0.15);\n",
              "      fill: #174EA6;\n",
              "    }\n",
              "\n",
              "    .colab-df-buttons div {\n",
              "      margin-bottom: 4px;\n",
              "    }\n",
              "\n",
              "    [theme=dark] .colab-df-convert {\n",
              "      background-color: #3B4455;\n",
              "      fill: #D2E3FC;\n",
              "    }\n",
              "\n",
              "    [theme=dark] .colab-df-convert:hover {\n",
              "      background-color: #434B5C;\n",
              "      box-shadow: 0px 1px 3px 1px rgba(0, 0, 0, 0.15);\n",
              "      filter: drop-shadow(0px 1px 2px rgba(0, 0, 0, 0.3));\n",
              "      fill: #FFFFFF;\n",
              "    }\n",
              "  </style>\n",
              "\n",
              "    <script>\n",
              "      const buttonEl =\n",
              "        document.querySelector('#df-8c3b55a8-847f-4980-af0c-e3c048ea9ce0 button.colab-df-convert');\n",
              "      buttonEl.style.display =\n",
              "        google.colab.kernel.accessAllowed ? 'block' : 'none';\n",
              "\n",
              "      async function convertToInteractive(key) {\n",
              "        const element = document.querySelector('#df-8c3b55a8-847f-4980-af0c-e3c048ea9ce0');\n",
              "        const dataTable =\n",
              "          await google.colab.kernel.invokeFunction('convertToInteractive',\n",
              "                                                    [key], {});\n",
              "        if (!dataTable) return;\n",
              "\n",
              "        const docLinkHtml = 'Like what you see? Visit the ' +\n",
              "          '<a target=\"_blank\" href=https://colab.research.google.com/notebooks/data_table.ipynb>data table notebook</a>'\n",
              "          + ' to learn more about interactive tables.';\n",
              "        element.innerHTML = '';\n",
              "        dataTable['output_type'] = 'display_data';\n",
              "        await google.colab.output.renderOutput(dataTable, element);\n",
              "        const docLink = document.createElement('div');\n",
              "        docLink.innerHTML = docLinkHtml;\n",
              "        element.appendChild(docLink);\n",
              "      }\n",
              "    </script>\n",
              "  </div>\n",
              "\n",
              "\n",
              "<div id=\"df-c8f5b097-1ad1-4d0a-8ead-a3ffee7c8cce\">\n",
              "  <button class=\"colab-df-quickchart\" onclick=\"quickchart('df-c8f5b097-1ad1-4d0a-8ead-a3ffee7c8cce')\"\n",
              "            title=\"Suggest charts\"\n",
              "            style=\"display:none;\">\n",
              "\n",
              "<svg xmlns=\"http://www.w3.org/2000/svg\" height=\"24px\"viewBox=\"0 0 24 24\"\n",
              "     width=\"24px\">\n",
              "    <g>\n",
              "        <path d=\"M19 3H5c-1.1 0-2 .9-2 2v14c0 1.1.9 2 2 2h14c1.1 0 2-.9 2-2V5c0-1.1-.9-2-2-2zM9 17H7v-7h2v7zm4 0h-2V7h2v10zm4 0h-2v-4h2v4z\"/>\n",
              "    </g>\n",
              "</svg>\n",
              "  </button>\n",
              "\n",
              "<style>\n",
              "  .colab-df-quickchart {\n",
              "      --bg-color: #E8F0FE;\n",
              "      --fill-color: #1967D2;\n",
              "      --hover-bg-color: #E2EBFA;\n",
              "      --hover-fill-color: #174EA6;\n",
              "      --disabled-fill-color: #AAA;\n",
              "      --disabled-bg-color: #DDD;\n",
              "  }\n",
              "\n",
              "  [theme=dark] .colab-df-quickchart {\n",
              "      --bg-color: #3B4455;\n",
              "      --fill-color: #D2E3FC;\n",
              "      --hover-bg-color: #434B5C;\n",
              "      --hover-fill-color: #FFFFFF;\n",
              "      --disabled-bg-color: #3B4455;\n",
              "      --disabled-fill-color: #666;\n",
              "  }\n",
              "\n",
              "  .colab-df-quickchart {\n",
              "    background-color: var(--bg-color);\n",
              "    border: none;\n",
              "    border-radius: 50%;\n",
              "    cursor: pointer;\n",
              "    display: none;\n",
              "    fill: var(--fill-color);\n",
              "    height: 32px;\n",
              "    padding: 0;\n",
              "    width: 32px;\n",
              "  }\n",
              "\n",
              "  .colab-df-quickchart:hover {\n",
              "    background-color: var(--hover-bg-color);\n",
              "    box-shadow: 0 1px 2px rgba(60, 64, 67, 0.3), 0 1px 3px 1px rgba(60, 64, 67, 0.15);\n",
              "    fill: var(--button-hover-fill-color);\n",
              "  }\n",
              "\n",
              "  .colab-df-quickchart-complete:disabled,\n",
              "  .colab-df-quickchart-complete:disabled:hover {\n",
              "    background-color: var(--disabled-bg-color);\n",
              "    fill: var(--disabled-fill-color);\n",
              "    box-shadow: none;\n",
              "  }\n",
              "\n",
              "  .colab-df-spinner {\n",
              "    border: 2px solid var(--fill-color);\n",
              "    border-color: transparent;\n",
              "    border-bottom-color: var(--fill-color);\n",
              "    animation:\n",
              "      spin 1s steps(1) infinite;\n",
              "  }\n",
              "\n",
              "  @keyframes spin {\n",
              "    0% {\n",
              "      border-color: transparent;\n",
              "      border-bottom-color: var(--fill-color);\n",
              "      border-left-color: var(--fill-color);\n",
              "    }\n",
              "    20% {\n",
              "      border-color: transparent;\n",
              "      border-left-color: var(--fill-color);\n",
              "      border-top-color: var(--fill-color);\n",
              "    }\n",
              "    30% {\n",
              "      border-color: transparent;\n",
              "      border-left-color: var(--fill-color);\n",
              "      border-top-color: var(--fill-color);\n",
              "      border-right-color: var(--fill-color);\n",
              "    }\n",
              "    40% {\n",
              "      border-color: transparent;\n",
              "      border-right-color: var(--fill-color);\n",
              "      border-top-color: var(--fill-color);\n",
              "    }\n",
              "    60% {\n",
              "      border-color: transparent;\n",
              "      border-right-color: var(--fill-color);\n",
              "    }\n",
              "    80% {\n",
              "      border-color: transparent;\n",
              "      border-right-color: var(--fill-color);\n",
              "      border-bottom-color: var(--fill-color);\n",
              "    }\n",
              "    90% {\n",
              "      border-color: transparent;\n",
              "      border-bottom-color: var(--fill-color);\n",
              "    }\n",
              "  }\n",
              "</style>\n",
              "\n",
              "  <script>\n",
              "    async function quickchart(key) {\n",
              "      const quickchartButtonEl =\n",
              "        document.querySelector('#' + key + ' button');\n",
              "      quickchartButtonEl.disabled = true;  // To prevent multiple clicks.\n",
              "      quickchartButtonEl.classList.add('colab-df-spinner');\n",
              "      try {\n",
              "        const charts = await google.colab.kernel.invokeFunction(\n",
              "            'suggestCharts', [key], {});\n",
              "      } catch (error) {\n",
              "        console.error('Error during call to suggestCharts:', error);\n",
              "      }\n",
              "      quickchartButtonEl.classList.remove('colab-df-spinner');\n",
              "      quickchartButtonEl.classList.add('colab-df-quickchart-complete');\n",
              "    }\n",
              "    (() => {\n",
              "      let quickchartButtonEl =\n",
              "        document.querySelector('#df-c8f5b097-1ad1-4d0a-8ead-a3ffee7c8cce button');\n",
              "      quickchartButtonEl.style.display =\n",
              "        google.colab.kernel.accessAllowed ? 'block' : 'none';\n",
              "    })();\n",
              "  </script>\n",
              "</div>\n",
              "\n",
              "    </div>\n",
              "  </div>\n"
            ],
            "application/vnd.google.colaboratory.intrinsic+json": {
              "type": "dataframe",
              "variable_name": "X_train_numeric_scaled"
            }
          },
          "metadata": {},
          "execution_count": 62
        }
      ],
      "source": [
        "from sklearn.preprocessing import StandardScaler\n",
        "\n",
        "scaler = StandardScaler()\n",
        "X_train_numeric_scaled = scaler.fit_transform(X_train_numeric)\n",
        "X_train_numeric_scaled = pd.DataFrame(X_train_numeric_scaled,\n",
        "                                      columns = X_train_numeric.columns,\n",
        "                                      index = X_train_numeric.index)\n",
        "X_train_numeric_scaled.head()"
      ]
    },
    {
      "cell_type": "markdown",
      "metadata": {
        "id": "8zhJzKIWLY20"
      },
      "source": [
        "Looks good; let's one-hot encode the categorical variables. Since we'll be using regularization to optimize our models, we won't need to drop one of the resulting dummy variables. This will help with model interpretability."
      ]
    },
    {
      "cell_type": "code",
      "execution_count": 63,
      "metadata": {
        "colab": {
          "base_uri": "https://localhost:8080/",
          "height": 273
        },
        "id": "03kmheLCIYBN",
        "outputId": "380b84c2-2214-4b21-a9e1-556ee6a0dd36"
      },
      "outputs": [
        {
          "output_type": "execute_result",
          "data": {
            "text/plain": [
              "        WEATHER_CONDITION_BLOWING SAND, SOIL, DIRT  \\\n",
              "262116                                         0.0   \n",
              "792637                                         0.0   \n",
              "167787                                         0.0   \n",
              "433111                                         0.0   \n",
              "477277                                         0.0   \n",
              "\n",
              "        WEATHER_CONDITION_BLOWING SNOW  WEATHER_CONDITION_CLEAR  \\\n",
              "262116                             0.0                      0.0   \n",
              "792637                             0.0                      1.0   \n",
              "167787                             0.0                      1.0   \n",
              "433111                             0.0                      1.0   \n",
              "477277                             0.0                      1.0   \n",
              "\n",
              "        WEATHER_CONDITION_CLOUDY/OVERCAST  WEATHER_CONDITION_FOG/SMOKE/HAZE  \\\n",
              "262116                                0.0                               0.0   \n",
              "792637                                0.0                               0.0   \n",
              "167787                                0.0                               0.0   \n",
              "433111                                0.0                               0.0   \n",
              "477277                                0.0                               0.0   \n",
              "\n",
              "        WEATHER_CONDITION_FREEZING RAIN/DRIZZLE  WEATHER_CONDITION_RAIN  \\\n",
              "262116                                      0.0                     0.0   \n",
              "792637                                      0.0                     0.0   \n",
              "167787                                      0.0                     0.0   \n",
              "433111                                      0.0                     0.0   \n",
              "477277                                      0.0                     0.0   \n",
              "\n",
              "        WEATHER_CONDITION_SEVERE CROSS WIND GATE  \\\n",
              "262116                                       0.0   \n",
              "792637                                       0.0   \n",
              "167787                                       0.0   \n",
              "433111                                       0.0   \n",
              "477277                                       0.0   \n",
              "\n",
              "        WEATHER_CONDITION_SLEET/HAIL  WEATHER_CONDITION_SNOW  ...  \\\n",
              "262116                           0.0                     1.0  ...   \n",
              "792637                           0.0                     0.0  ...   \n",
              "167787                           0.0                     0.0  ...   \n",
              "433111                           0.0                     0.0  ...   \n",
              "477277                           0.0                     0.0  ...   \n",
              "\n",
              "        MANEUVER_SKIDDING/CONTROL LOSS  MANEUVER_SLOW/STOP - LEFT TURN  \\\n",
              "262116                             0.0                             0.0   \n",
              "792637                             0.0                             0.0   \n",
              "167787                             0.0                             0.0   \n",
              "433111                             0.0                             0.0   \n",
              "477277                             0.0                             0.0   \n",
              "\n",
              "        MANEUVER_SLOW/STOP - LOAD/UNLOAD  MANEUVER_SLOW/STOP - RIGHT TURN  \\\n",
              "262116                               0.0                              0.0   \n",
              "792637                               0.0                              0.0   \n",
              "167787                               0.0                              0.0   \n",
              "433111                               0.0                              0.0   \n",
              "477277                               0.0                              0.0   \n",
              "\n",
              "        MANEUVER_SLOW/STOP IN TRAFFIC  MANEUVER_STARTING IN TRAFFIC  \\\n",
              "262116                            0.0                           0.0   \n",
              "792637                            1.0                           0.0   \n",
              "167787                            0.0                           1.0   \n",
              "433111                            0.0                           0.0   \n",
              "477277                            0.0                           0.0   \n",
              "\n",
              "        MANEUVER_STRAIGHT AHEAD  MANEUVER_TURNING LEFT  \\\n",
              "262116                      1.0                    0.0   \n",
              "792637                      0.0                    0.0   \n",
              "167787                      0.0                    0.0   \n",
              "433111                      0.0                    0.0   \n",
              "477277                      1.0                    0.0   \n",
              "\n",
              "        MANEUVER_TURNING RIGHT  MANEUVER_U-TURN  \n",
              "262116                     0.0              0.0  \n",
              "792637                     0.0              0.0  \n",
              "167787                     0.0              0.0  \n",
              "433111                     0.0              0.0  \n",
              "477277                     0.0              0.0  \n",
              "\n",
              "[5 rows x 63 columns]"
            ],
            "text/html": [
              "\n",
              "  <div id=\"df-1d9d2383-2233-4030-92d5-17f0e90570bf\" class=\"colab-df-container\">\n",
              "    <div>\n",
              "<style scoped>\n",
              "    .dataframe tbody tr th:only-of-type {\n",
              "        vertical-align: middle;\n",
              "    }\n",
              "\n",
              "    .dataframe tbody tr th {\n",
              "        vertical-align: top;\n",
              "    }\n",
              "\n",
              "    .dataframe thead th {\n",
              "        text-align: right;\n",
              "    }\n",
              "</style>\n",
              "<table border=\"1\" class=\"dataframe\">\n",
              "  <thead>\n",
              "    <tr style=\"text-align: right;\">\n",
              "      <th></th>\n",
              "      <th>WEATHER_CONDITION_BLOWING SAND, SOIL, DIRT</th>\n",
              "      <th>WEATHER_CONDITION_BLOWING SNOW</th>\n",
              "      <th>WEATHER_CONDITION_CLEAR</th>\n",
              "      <th>WEATHER_CONDITION_CLOUDY/OVERCAST</th>\n",
              "      <th>WEATHER_CONDITION_FOG/SMOKE/HAZE</th>\n",
              "      <th>WEATHER_CONDITION_FREEZING RAIN/DRIZZLE</th>\n",
              "      <th>WEATHER_CONDITION_RAIN</th>\n",
              "      <th>WEATHER_CONDITION_SEVERE CROSS WIND GATE</th>\n",
              "      <th>WEATHER_CONDITION_SLEET/HAIL</th>\n",
              "      <th>WEATHER_CONDITION_SNOW</th>\n",
              "      <th>...</th>\n",
              "      <th>MANEUVER_SKIDDING/CONTROL LOSS</th>\n",
              "      <th>MANEUVER_SLOW/STOP - LEFT TURN</th>\n",
              "      <th>MANEUVER_SLOW/STOP - LOAD/UNLOAD</th>\n",
              "      <th>MANEUVER_SLOW/STOP - RIGHT TURN</th>\n",
              "      <th>MANEUVER_SLOW/STOP IN TRAFFIC</th>\n",
              "      <th>MANEUVER_STARTING IN TRAFFIC</th>\n",
              "      <th>MANEUVER_STRAIGHT AHEAD</th>\n",
              "      <th>MANEUVER_TURNING LEFT</th>\n",
              "      <th>MANEUVER_TURNING RIGHT</th>\n",
              "      <th>MANEUVER_U-TURN</th>\n",
              "    </tr>\n",
              "  </thead>\n",
              "  <tbody>\n",
              "    <tr>\n",
              "      <th>262116</th>\n",
              "      <td>0.0</td>\n",
              "      <td>0.0</td>\n",
              "      <td>0.0</td>\n",
              "      <td>0.0</td>\n",
              "      <td>0.0</td>\n",
              "      <td>0.0</td>\n",
              "      <td>0.0</td>\n",
              "      <td>0.0</td>\n",
              "      <td>0.0</td>\n",
              "      <td>1.0</td>\n",
              "      <td>...</td>\n",
              "      <td>0.0</td>\n",
              "      <td>0.0</td>\n",
              "      <td>0.0</td>\n",
              "      <td>0.0</td>\n",
              "      <td>0.0</td>\n",
              "      <td>0.0</td>\n",
              "      <td>1.0</td>\n",
              "      <td>0.0</td>\n",
              "      <td>0.0</td>\n",
              "      <td>0.0</td>\n",
              "    </tr>\n",
              "    <tr>\n",
              "      <th>792637</th>\n",
              "      <td>0.0</td>\n",
              "      <td>0.0</td>\n",
              "      <td>1.0</td>\n",
              "      <td>0.0</td>\n",
              "      <td>0.0</td>\n",
              "      <td>0.0</td>\n",
              "      <td>0.0</td>\n",
              "      <td>0.0</td>\n",
              "      <td>0.0</td>\n",
              "      <td>0.0</td>\n",
              "      <td>...</td>\n",
              "      <td>0.0</td>\n",
              "      <td>0.0</td>\n",
              "      <td>0.0</td>\n",
              "      <td>0.0</td>\n",
              "      <td>1.0</td>\n",
              "      <td>0.0</td>\n",
              "      <td>0.0</td>\n",
              "      <td>0.0</td>\n",
              "      <td>0.0</td>\n",
              "      <td>0.0</td>\n",
              "    </tr>\n",
              "    <tr>\n",
              "      <th>167787</th>\n",
              "      <td>0.0</td>\n",
              "      <td>0.0</td>\n",
              "      <td>1.0</td>\n",
              "      <td>0.0</td>\n",
              "      <td>0.0</td>\n",
              "      <td>0.0</td>\n",
              "      <td>0.0</td>\n",
              "      <td>0.0</td>\n",
              "      <td>0.0</td>\n",
              "      <td>0.0</td>\n",
              "      <td>...</td>\n",
              "      <td>0.0</td>\n",
              "      <td>0.0</td>\n",
              "      <td>0.0</td>\n",
              "      <td>0.0</td>\n",
              "      <td>0.0</td>\n",
              "      <td>1.0</td>\n",
              "      <td>0.0</td>\n",
              "      <td>0.0</td>\n",
              "      <td>0.0</td>\n",
              "      <td>0.0</td>\n",
              "    </tr>\n",
              "    <tr>\n",
              "      <th>433111</th>\n",
              "      <td>0.0</td>\n",
              "      <td>0.0</td>\n",
              "      <td>1.0</td>\n",
              "      <td>0.0</td>\n",
              "      <td>0.0</td>\n",
              "      <td>0.0</td>\n",
              "      <td>0.0</td>\n",
              "      <td>0.0</td>\n",
              "      <td>0.0</td>\n",
              "      <td>0.0</td>\n",
              "      <td>...</td>\n",
              "      <td>0.0</td>\n",
              "      <td>0.0</td>\n",
              "      <td>0.0</td>\n",
              "      <td>0.0</td>\n",
              "      <td>0.0</td>\n",
              "      <td>0.0</td>\n",
              "      <td>0.0</td>\n",
              "      <td>0.0</td>\n",
              "      <td>0.0</td>\n",
              "      <td>0.0</td>\n",
              "    </tr>\n",
              "    <tr>\n",
              "      <th>477277</th>\n",
              "      <td>0.0</td>\n",
              "      <td>0.0</td>\n",
              "      <td>1.0</td>\n",
              "      <td>0.0</td>\n",
              "      <td>0.0</td>\n",
              "      <td>0.0</td>\n",
              "      <td>0.0</td>\n",
              "      <td>0.0</td>\n",
              "      <td>0.0</td>\n",
              "      <td>0.0</td>\n",
              "      <td>...</td>\n",
              "      <td>0.0</td>\n",
              "      <td>0.0</td>\n",
              "      <td>0.0</td>\n",
              "      <td>0.0</td>\n",
              "      <td>0.0</td>\n",
              "      <td>0.0</td>\n",
              "      <td>1.0</td>\n",
              "      <td>0.0</td>\n",
              "      <td>0.0</td>\n",
              "      <td>0.0</td>\n",
              "    </tr>\n",
              "  </tbody>\n",
              "</table>\n",
              "<p>5 rows × 63 columns</p>\n",
              "</div>\n",
              "    <div class=\"colab-df-buttons\">\n",
              "\n",
              "  <div class=\"colab-df-container\">\n",
              "    <button class=\"colab-df-convert\" onclick=\"convertToInteractive('df-1d9d2383-2233-4030-92d5-17f0e90570bf')\"\n",
              "            title=\"Convert this dataframe to an interactive table.\"\n",
              "            style=\"display:none;\">\n",
              "\n",
              "  <svg xmlns=\"http://www.w3.org/2000/svg\" height=\"24px\" viewBox=\"0 -960 960 960\">\n",
              "    <path d=\"M120-120v-720h720v720H120Zm60-500h600v-160H180v160Zm220 220h160v-160H400v160Zm0 220h160v-160H400v160ZM180-400h160v-160H180v160Zm440 0h160v-160H620v160ZM180-180h160v-160H180v160Zm440 0h160v-160H620v160Z\"/>\n",
              "  </svg>\n",
              "    </button>\n",
              "\n",
              "  <style>\n",
              "    .colab-df-container {\n",
              "      display:flex;\n",
              "      gap: 12px;\n",
              "    }\n",
              "\n",
              "    .colab-df-convert {\n",
              "      background-color: #E8F0FE;\n",
              "      border: none;\n",
              "      border-radius: 50%;\n",
              "      cursor: pointer;\n",
              "      display: none;\n",
              "      fill: #1967D2;\n",
              "      height: 32px;\n",
              "      padding: 0 0 0 0;\n",
              "      width: 32px;\n",
              "    }\n",
              "\n",
              "    .colab-df-convert:hover {\n",
              "      background-color: #E2EBFA;\n",
              "      box-shadow: 0px 1px 2px rgba(60, 64, 67, 0.3), 0px 1px 3px 1px rgba(60, 64, 67, 0.15);\n",
              "      fill: #174EA6;\n",
              "    }\n",
              "\n",
              "    .colab-df-buttons div {\n",
              "      margin-bottom: 4px;\n",
              "    }\n",
              "\n",
              "    [theme=dark] .colab-df-convert {\n",
              "      background-color: #3B4455;\n",
              "      fill: #D2E3FC;\n",
              "    }\n",
              "\n",
              "    [theme=dark] .colab-df-convert:hover {\n",
              "      background-color: #434B5C;\n",
              "      box-shadow: 0px 1px 3px 1px rgba(0, 0, 0, 0.15);\n",
              "      filter: drop-shadow(0px 1px 2px rgba(0, 0, 0, 0.3));\n",
              "      fill: #FFFFFF;\n",
              "    }\n",
              "  </style>\n",
              "\n",
              "    <script>\n",
              "      const buttonEl =\n",
              "        document.querySelector('#df-1d9d2383-2233-4030-92d5-17f0e90570bf button.colab-df-convert');\n",
              "      buttonEl.style.display =\n",
              "        google.colab.kernel.accessAllowed ? 'block' : 'none';\n",
              "\n",
              "      async function convertToInteractive(key) {\n",
              "        const element = document.querySelector('#df-1d9d2383-2233-4030-92d5-17f0e90570bf');\n",
              "        const dataTable =\n",
              "          await google.colab.kernel.invokeFunction('convertToInteractive',\n",
              "                                                    [key], {});\n",
              "        if (!dataTable) return;\n",
              "\n",
              "        const docLinkHtml = 'Like what you see? Visit the ' +\n",
              "          '<a target=\"_blank\" href=https://colab.research.google.com/notebooks/data_table.ipynb>data table notebook</a>'\n",
              "          + ' to learn more about interactive tables.';\n",
              "        element.innerHTML = '';\n",
              "        dataTable['output_type'] = 'display_data';\n",
              "        await google.colab.output.renderOutput(dataTable, element);\n",
              "        const docLink = document.createElement('div');\n",
              "        docLink.innerHTML = docLinkHtml;\n",
              "        element.appendChild(docLink);\n",
              "      }\n",
              "    </script>\n",
              "  </div>\n",
              "\n",
              "\n",
              "<div id=\"df-bb12647a-7d2e-49dd-bf05-c2fc814bcb62\">\n",
              "  <button class=\"colab-df-quickchart\" onclick=\"quickchart('df-bb12647a-7d2e-49dd-bf05-c2fc814bcb62')\"\n",
              "            title=\"Suggest charts\"\n",
              "            style=\"display:none;\">\n",
              "\n",
              "<svg xmlns=\"http://www.w3.org/2000/svg\" height=\"24px\"viewBox=\"0 0 24 24\"\n",
              "     width=\"24px\">\n",
              "    <g>\n",
              "        <path d=\"M19 3H5c-1.1 0-2 .9-2 2v14c0 1.1.9 2 2 2h14c1.1 0 2-.9 2-2V5c0-1.1-.9-2-2-2zM9 17H7v-7h2v7zm4 0h-2V7h2v10zm4 0h-2v-4h2v4z\"/>\n",
              "    </g>\n",
              "</svg>\n",
              "  </button>\n",
              "\n",
              "<style>\n",
              "  .colab-df-quickchart {\n",
              "      --bg-color: #E8F0FE;\n",
              "      --fill-color: #1967D2;\n",
              "      --hover-bg-color: #E2EBFA;\n",
              "      --hover-fill-color: #174EA6;\n",
              "      --disabled-fill-color: #AAA;\n",
              "      --disabled-bg-color: #DDD;\n",
              "  }\n",
              "\n",
              "  [theme=dark] .colab-df-quickchart {\n",
              "      --bg-color: #3B4455;\n",
              "      --fill-color: #D2E3FC;\n",
              "      --hover-bg-color: #434B5C;\n",
              "      --hover-fill-color: #FFFFFF;\n",
              "      --disabled-bg-color: #3B4455;\n",
              "      --disabled-fill-color: #666;\n",
              "  }\n",
              "\n",
              "  .colab-df-quickchart {\n",
              "    background-color: var(--bg-color);\n",
              "    border: none;\n",
              "    border-radius: 50%;\n",
              "    cursor: pointer;\n",
              "    display: none;\n",
              "    fill: var(--fill-color);\n",
              "    height: 32px;\n",
              "    padding: 0;\n",
              "    width: 32px;\n",
              "  }\n",
              "\n",
              "  .colab-df-quickchart:hover {\n",
              "    background-color: var(--hover-bg-color);\n",
              "    box-shadow: 0 1px 2px rgba(60, 64, 67, 0.3), 0 1px 3px 1px rgba(60, 64, 67, 0.15);\n",
              "    fill: var(--button-hover-fill-color);\n",
              "  }\n",
              "\n",
              "  .colab-df-quickchart-complete:disabled,\n",
              "  .colab-df-quickchart-complete:disabled:hover {\n",
              "    background-color: var(--disabled-bg-color);\n",
              "    fill: var(--disabled-fill-color);\n",
              "    box-shadow: none;\n",
              "  }\n",
              "\n",
              "  .colab-df-spinner {\n",
              "    border: 2px solid var(--fill-color);\n",
              "    border-color: transparent;\n",
              "    border-bottom-color: var(--fill-color);\n",
              "    animation:\n",
              "      spin 1s steps(1) infinite;\n",
              "  }\n",
              "\n",
              "  @keyframes spin {\n",
              "    0% {\n",
              "      border-color: transparent;\n",
              "      border-bottom-color: var(--fill-color);\n",
              "      border-left-color: var(--fill-color);\n",
              "    }\n",
              "    20% {\n",
              "      border-color: transparent;\n",
              "      border-left-color: var(--fill-color);\n",
              "      border-top-color: var(--fill-color);\n",
              "    }\n",
              "    30% {\n",
              "      border-color: transparent;\n",
              "      border-left-color: var(--fill-color);\n",
              "      border-top-color: var(--fill-color);\n",
              "      border-right-color: var(--fill-color);\n",
              "    }\n",
              "    40% {\n",
              "      border-color: transparent;\n",
              "      border-right-color: var(--fill-color);\n",
              "      border-top-color: var(--fill-color);\n",
              "    }\n",
              "    60% {\n",
              "      border-color: transparent;\n",
              "      border-right-color: var(--fill-color);\n",
              "    }\n",
              "    80% {\n",
              "      border-color: transparent;\n",
              "      border-right-color: var(--fill-color);\n",
              "      border-bottom-color: var(--fill-color);\n",
              "    }\n",
              "    90% {\n",
              "      border-color: transparent;\n",
              "      border-bottom-color: var(--fill-color);\n",
              "    }\n",
              "  }\n",
              "</style>\n",
              "\n",
              "  <script>\n",
              "    async function quickchart(key) {\n",
              "      const quickchartButtonEl =\n",
              "        document.querySelector('#' + key + ' button');\n",
              "      quickchartButtonEl.disabled = true;  // To prevent multiple clicks.\n",
              "      quickchartButtonEl.classList.add('colab-df-spinner');\n",
              "      try {\n",
              "        const charts = await google.colab.kernel.invokeFunction(\n",
              "            'suggestCharts', [key], {});\n",
              "      } catch (error) {\n",
              "        console.error('Error during call to suggestCharts:', error);\n",
              "      }\n",
              "      quickchartButtonEl.classList.remove('colab-df-spinner');\n",
              "      quickchartButtonEl.classList.add('colab-df-quickchart-complete');\n",
              "    }\n",
              "    (() => {\n",
              "      let quickchartButtonEl =\n",
              "        document.querySelector('#df-bb12647a-7d2e-49dd-bf05-c2fc814bcb62 button');\n",
              "      quickchartButtonEl.style.display =\n",
              "        google.colab.kernel.accessAllowed ? 'block' : 'none';\n",
              "    })();\n",
              "  </script>\n",
              "</div>\n",
              "\n",
              "    </div>\n",
              "  </div>\n"
            ],
            "application/vnd.google.colaboratory.intrinsic+json": {
              "type": "dataframe",
              "variable_name": "X_train_categorical_ohe"
            }
          },
          "metadata": {},
          "execution_count": 63
        }
      ],
      "source": [
        "from sklearn.preprocessing import OneHotEncoder\n",
        "\n",
        "ohe = OneHotEncoder(sparse_output=False)\n",
        "X_train_categorical_ohe = ohe.fit_transform(X_train_categorical)\n",
        "X_train_categorical_ohe = pd.DataFrame(X_train_categorical_ohe,\n",
        "                                       columns = ohe.get_feature_names_out(),\n",
        "                                       index = X_train_categorical.index)\n",
        "X_train_categorical_ohe.head()"
      ]
    },
    {
      "cell_type": "code",
      "execution_count": 64,
      "metadata": {
        "colab": {
          "base_uri": "https://localhost:8080/"
        },
        "id": "DuJ7023AM9Sf",
        "outputId": "48d3c615-80bd-438c-b351-3e79134c5be1"
      },
      "outputs": [
        {
          "output_type": "stream",
          "name": "stdout",
          "text": [
            "<class 'pandas.core.frame.DataFrame'>\n",
            "Index: 707752 entries, 262116 to 303626\n",
            "Data columns (total 63 columns):\n",
            " #   Column                                       Non-Null Count   Dtype  \n",
            "---  ------                                       --------------   -----  \n",
            " 0   WEATHER_CONDITION_BLOWING SAND, SOIL, DIRT   707752 non-null  float64\n",
            " 1   WEATHER_CONDITION_BLOWING SNOW               707752 non-null  float64\n",
            " 2   WEATHER_CONDITION_CLEAR                      707752 non-null  float64\n",
            " 3   WEATHER_CONDITION_CLOUDY/OVERCAST            707752 non-null  float64\n",
            " 4   WEATHER_CONDITION_FOG/SMOKE/HAZE             707752 non-null  float64\n",
            " 5   WEATHER_CONDITION_FREEZING RAIN/DRIZZLE      707752 non-null  float64\n",
            " 6   WEATHER_CONDITION_RAIN                       707752 non-null  float64\n",
            " 7   WEATHER_CONDITION_SEVERE CROSS WIND GATE     707752 non-null  float64\n",
            " 8   WEATHER_CONDITION_SLEET/HAIL                 707752 non-null  float64\n",
            " 9   WEATHER_CONDITION_SNOW                       707752 non-null  float64\n",
            " 10  LIGHTING_CONDITION_DARKNESS                  707752 non-null  float64\n",
            " 11  LIGHTING_CONDITION_DARKNESS, LIGHTED ROAD    707752 non-null  float64\n",
            " 12  LIGHTING_CONDITION_DAWN                      707752 non-null  float64\n",
            " 13  LIGHTING_CONDITION_DAYLIGHT                  707752 non-null  float64\n",
            " 14  LIGHTING_CONDITION_DUSK                      707752 non-null  float64\n",
            " 15  ROADWAY_SURFACE_COND_DRY                     707752 non-null  float64\n",
            " 16  ROADWAY_SURFACE_COND_ICE                     707752 non-null  float64\n",
            " 17  ROADWAY_SURFACE_COND_SNOW OR SLUSH           707752 non-null  float64\n",
            " 18  ROADWAY_SURFACE_COND_WET                     707752 non-null  float64\n",
            " 19  CRASH_DAY_OF_WEEK_1                          707752 non-null  float64\n",
            " 20  CRASH_DAY_OF_WEEK_2                          707752 non-null  float64\n",
            " 21  CRASH_DAY_OF_WEEK_3                          707752 non-null  float64\n",
            " 22  CRASH_DAY_OF_WEEK_4                          707752 non-null  float64\n",
            " 23  CRASH_DAY_OF_WEEK_5                          707752 non-null  float64\n",
            " 24  CRASH_DAY_OF_WEEK_6                          707752 non-null  float64\n",
            " 25  CRASH_DAY_OF_WEEK_7                          707752 non-null  float64\n",
            " 26  PERSON_TYPE_BICYCLE                          707752 non-null  float64\n",
            " 27  PERSON_TYPE_DRIVER                           707752 non-null  float64\n",
            " 28  PERSON_TYPE_NON-CONTACT VEHICLE              707752 non-null  float64\n",
            " 29  PERSON_TYPE_PEDESTRIAN                       707752 non-null  float64\n",
            " 30  SEX_F                                        707752 non-null  float64\n",
            " 31  SEX_M                                        707752 non-null  float64\n",
            " 32  SEX_X                                        707752 non-null  float64\n",
            " 33  TRAVEL_DIRECTION_E                           707752 non-null  float64\n",
            " 34  TRAVEL_DIRECTION_N                           707752 non-null  float64\n",
            " 35  TRAVEL_DIRECTION_NE                          707752 non-null  float64\n",
            " 36  TRAVEL_DIRECTION_NW                          707752 non-null  float64\n",
            " 37  TRAVEL_DIRECTION_S                           707752 non-null  float64\n",
            " 38  TRAVEL_DIRECTION_SE                          707752 non-null  float64\n",
            " 39  TRAVEL_DIRECTION_SW                          707752 non-null  float64\n",
            " 40  TRAVEL_DIRECTION_W                           707752 non-null  float64\n",
            " 41  MANEUVER_AVOIDING VEHICLES/OBJECTS           707752 non-null  float64\n",
            " 42  MANEUVER_BACKING                             707752 non-null  float64\n",
            " 43  MANEUVER_CHANGING LANES                      707752 non-null  float64\n",
            " 44  MANEUVER_DRIVING WRONG WAY                   707752 non-null  float64\n",
            " 45  MANEUVER_ENTER FROM DRIVE/ALLEY              707752 non-null  float64\n",
            " 46  MANEUVER_ENTERING TRAFFIC LANE FROM PARKING  707752 non-null  float64\n",
            " 47  MANEUVER_LEAVING TRAFFIC LANE TO PARK        707752 non-null  float64\n",
            " 48  MANEUVER_MERGING                             707752 non-null  float64\n",
            " 49  MANEUVER_NEGOTIATING A CURVE                 707752 non-null  float64\n",
            " 50  MANEUVER_PARKED                              707752 non-null  float64\n",
            " 51  MANEUVER_PARKED IN TRAFFIC LANE              707752 non-null  float64\n",
            " 52  MANEUVER_PASSING/OVERTAKING                  707752 non-null  float64\n",
            " 53  MANEUVER_SKIDDING/CONTROL LOSS               707752 non-null  float64\n",
            " 54  MANEUVER_SLOW/STOP - LEFT TURN               707752 non-null  float64\n",
            " 55  MANEUVER_SLOW/STOP - LOAD/UNLOAD             707752 non-null  float64\n",
            " 56  MANEUVER_SLOW/STOP - RIGHT TURN              707752 non-null  float64\n",
            " 57  MANEUVER_SLOW/STOP IN TRAFFIC                707752 non-null  float64\n",
            " 58  MANEUVER_STARTING IN TRAFFIC                 707752 non-null  float64\n",
            " 59  MANEUVER_STRAIGHT AHEAD                      707752 non-null  float64\n",
            " 60  MANEUVER_TURNING LEFT                        707752 non-null  float64\n",
            " 61  MANEUVER_TURNING RIGHT                       707752 non-null  float64\n",
            " 62  MANEUVER_U-TURN                              707752 non-null  float64\n",
            "dtypes: float64(63)\n",
            "memory usage: 345.6 MB\n"
          ]
        }
      ],
      "source": [
        "X_train_categorical_ohe.info()"
      ]
    },
    {
      "cell_type": "code",
      "execution_count": 65,
      "metadata": {
        "colab": {
          "base_uri": "https://localhost:8080/",
          "height": 273
        },
        "id": "s_d56OcgQZpa",
        "outputId": "1fa0b148-6a1b-48b5-ec63-be62d90c600b"
      },
      "outputs": [
        {
          "output_type": "execute_result",
          "data": {
            "text/plain": [
              "        POSTED_SPEED_LIMIT  NUM_UNITS  CRASH_HOUR  LATITUDE  LONGITUDE  \\\n",
              "262116            0.131695  -0.331558   -0.823912  0.141162   0.836824   \n",
              "792637            0.131695  -0.331558   -0.634991  1.367298   0.014819   \n",
              "167787            1.140425  -0.331558   -1.012832 -2.269501   0.647798   \n",
              "433111            0.131695  -0.331558    1.254214 -0.229799   1.195767   \n",
              "477277            0.131695  -0.331558    0.309611 -2.025592  -0.653104   \n",
              "\n",
              "             AGE  WEATHER_CONDITION_BLOWING SAND, SOIL, DIRT  \\\n",
              "262116 -1.045784                                         0.0   \n",
              "792637 -0.983018                                         0.0   \n",
              "167787 -1.359612                                         0.0   \n",
              "433111  1.025482                                         0.0   \n",
              "477277 -0.041534                                         0.0   \n",
              "\n",
              "        WEATHER_CONDITION_BLOWING SNOW  WEATHER_CONDITION_CLEAR  \\\n",
              "262116                             0.0                      0.0   \n",
              "792637                             0.0                      1.0   \n",
              "167787                             0.0                      1.0   \n",
              "433111                             0.0                      1.0   \n",
              "477277                             0.0                      1.0   \n",
              "\n",
              "        WEATHER_CONDITION_CLOUDY/OVERCAST  ...  \\\n",
              "262116                                0.0  ...   \n",
              "792637                                0.0  ...   \n",
              "167787                                0.0  ...   \n",
              "433111                                0.0  ...   \n",
              "477277                                0.0  ...   \n",
              "\n",
              "        MANEUVER_SKIDDING/CONTROL LOSS  MANEUVER_SLOW/STOP - LEFT TURN  \\\n",
              "262116                             0.0                             0.0   \n",
              "792637                             0.0                             0.0   \n",
              "167787                             0.0                             0.0   \n",
              "433111                             0.0                             0.0   \n",
              "477277                             0.0                             0.0   \n",
              "\n",
              "        MANEUVER_SLOW/STOP - LOAD/UNLOAD  MANEUVER_SLOW/STOP - RIGHT TURN  \\\n",
              "262116                               0.0                              0.0   \n",
              "792637                               0.0                              0.0   \n",
              "167787                               0.0                              0.0   \n",
              "433111                               0.0                              0.0   \n",
              "477277                               0.0                              0.0   \n",
              "\n",
              "        MANEUVER_SLOW/STOP IN TRAFFIC  MANEUVER_STARTING IN TRAFFIC  \\\n",
              "262116                            0.0                           0.0   \n",
              "792637                            1.0                           0.0   \n",
              "167787                            0.0                           1.0   \n",
              "433111                            0.0                           0.0   \n",
              "477277                            0.0                           0.0   \n",
              "\n",
              "        MANEUVER_STRAIGHT AHEAD  MANEUVER_TURNING LEFT  \\\n",
              "262116                      1.0                    0.0   \n",
              "792637                      0.0                    0.0   \n",
              "167787                      0.0                    0.0   \n",
              "433111                      0.0                    0.0   \n",
              "477277                      1.0                    0.0   \n",
              "\n",
              "        MANEUVER_TURNING RIGHT  MANEUVER_U-TURN  \n",
              "262116                     0.0              0.0  \n",
              "792637                     0.0              0.0  \n",
              "167787                     0.0              0.0  \n",
              "433111                     0.0              0.0  \n",
              "477277                     0.0              0.0  \n",
              "\n",
              "[5 rows x 69 columns]"
            ],
            "text/html": [
              "\n",
              "  <div id=\"df-829633e8-7f24-4668-b7aa-e117a6cb56b8\" class=\"colab-df-container\">\n",
              "    <div>\n",
              "<style scoped>\n",
              "    .dataframe tbody tr th:only-of-type {\n",
              "        vertical-align: middle;\n",
              "    }\n",
              "\n",
              "    .dataframe tbody tr th {\n",
              "        vertical-align: top;\n",
              "    }\n",
              "\n",
              "    .dataframe thead th {\n",
              "        text-align: right;\n",
              "    }\n",
              "</style>\n",
              "<table border=\"1\" class=\"dataframe\">\n",
              "  <thead>\n",
              "    <tr style=\"text-align: right;\">\n",
              "      <th></th>\n",
              "      <th>POSTED_SPEED_LIMIT</th>\n",
              "      <th>NUM_UNITS</th>\n",
              "      <th>CRASH_HOUR</th>\n",
              "      <th>LATITUDE</th>\n",
              "      <th>LONGITUDE</th>\n",
              "      <th>AGE</th>\n",
              "      <th>WEATHER_CONDITION_BLOWING SAND, SOIL, DIRT</th>\n",
              "      <th>WEATHER_CONDITION_BLOWING SNOW</th>\n",
              "      <th>WEATHER_CONDITION_CLEAR</th>\n",
              "      <th>WEATHER_CONDITION_CLOUDY/OVERCAST</th>\n",
              "      <th>...</th>\n",
              "      <th>MANEUVER_SKIDDING/CONTROL LOSS</th>\n",
              "      <th>MANEUVER_SLOW/STOP - LEFT TURN</th>\n",
              "      <th>MANEUVER_SLOW/STOP - LOAD/UNLOAD</th>\n",
              "      <th>MANEUVER_SLOW/STOP - RIGHT TURN</th>\n",
              "      <th>MANEUVER_SLOW/STOP IN TRAFFIC</th>\n",
              "      <th>MANEUVER_STARTING IN TRAFFIC</th>\n",
              "      <th>MANEUVER_STRAIGHT AHEAD</th>\n",
              "      <th>MANEUVER_TURNING LEFT</th>\n",
              "      <th>MANEUVER_TURNING RIGHT</th>\n",
              "      <th>MANEUVER_U-TURN</th>\n",
              "    </tr>\n",
              "  </thead>\n",
              "  <tbody>\n",
              "    <tr>\n",
              "      <th>262116</th>\n",
              "      <td>0.131695</td>\n",
              "      <td>-0.331558</td>\n",
              "      <td>-0.823912</td>\n",
              "      <td>0.141162</td>\n",
              "      <td>0.836824</td>\n",
              "      <td>-1.045784</td>\n",
              "      <td>0.0</td>\n",
              "      <td>0.0</td>\n",
              "      <td>0.0</td>\n",
              "      <td>0.0</td>\n",
              "      <td>...</td>\n",
              "      <td>0.0</td>\n",
              "      <td>0.0</td>\n",
              "      <td>0.0</td>\n",
              "      <td>0.0</td>\n",
              "      <td>0.0</td>\n",
              "      <td>0.0</td>\n",
              "      <td>1.0</td>\n",
              "      <td>0.0</td>\n",
              "      <td>0.0</td>\n",
              "      <td>0.0</td>\n",
              "    </tr>\n",
              "    <tr>\n",
              "      <th>792637</th>\n",
              "      <td>0.131695</td>\n",
              "      <td>-0.331558</td>\n",
              "      <td>-0.634991</td>\n",
              "      <td>1.367298</td>\n",
              "      <td>0.014819</td>\n",
              "      <td>-0.983018</td>\n",
              "      <td>0.0</td>\n",
              "      <td>0.0</td>\n",
              "      <td>1.0</td>\n",
              "      <td>0.0</td>\n",
              "      <td>...</td>\n",
              "      <td>0.0</td>\n",
              "      <td>0.0</td>\n",
              "      <td>0.0</td>\n",
              "      <td>0.0</td>\n",
              "      <td>1.0</td>\n",
              "      <td>0.0</td>\n",
              "      <td>0.0</td>\n",
              "      <td>0.0</td>\n",
              "      <td>0.0</td>\n",
              "      <td>0.0</td>\n",
              "    </tr>\n",
              "    <tr>\n",
              "      <th>167787</th>\n",
              "      <td>1.140425</td>\n",
              "      <td>-0.331558</td>\n",
              "      <td>-1.012832</td>\n",
              "      <td>-2.269501</td>\n",
              "      <td>0.647798</td>\n",
              "      <td>-1.359612</td>\n",
              "      <td>0.0</td>\n",
              "      <td>0.0</td>\n",
              "      <td>1.0</td>\n",
              "      <td>0.0</td>\n",
              "      <td>...</td>\n",
              "      <td>0.0</td>\n",
              "      <td>0.0</td>\n",
              "      <td>0.0</td>\n",
              "      <td>0.0</td>\n",
              "      <td>0.0</td>\n",
              "      <td>1.0</td>\n",
              "      <td>0.0</td>\n",
              "      <td>0.0</td>\n",
              "      <td>0.0</td>\n",
              "      <td>0.0</td>\n",
              "    </tr>\n",
              "    <tr>\n",
              "      <th>433111</th>\n",
              "      <td>0.131695</td>\n",
              "      <td>-0.331558</td>\n",
              "      <td>1.254214</td>\n",
              "      <td>-0.229799</td>\n",
              "      <td>1.195767</td>\n",
              "      <td>1.025482</td>\n",
              "      <td>0.0</td>\n",
              "      <td>0.0</td>\n",
              "      <td>1.0</td>\n",
              "      <td>0.0</td>\n",
              "      <td>...</td>\n",
              "      <td>0.0</td>\n",
              "      <td>0.0</td>\n",
              "      <td>0.0</td>\n",
              "      <td>0.0</td>\n",
              "      <td>0.0</td>\n",
              "      <td>0.0</td>\n",
              "      <td>0.0</td>\n",
              "      <td>0.0</td>\n",
              "      <td>0.0</td>\n",
              "      <td>0.0</td>\n",
              "    </tr>\n",
              "    <tr>\n",
              "      <th>477277</th>\n",
              "      <td>0.131695</td>\n",
              "      <td>-0.331558</td>\n",
              "      <td>0.309611</td>\n",
              "      <td>-2.025592</td>\n",
              "      <td>-0.653104</td>\n",
              "      <td>-0.041534</td>\n",
              "      <td>0.0</td>\n",
              "      <td>0.0</td>\n",
              "      <td>1.0</td>\n",
              "      <td>0.0</td>\n",
              "      <td>...</td>\n",
              "      <td>0.0</td>\n",
              "      <td>0.0</td>\n",
              "      <td>0.0</td>\n",
              "      <td>0.0</td>\n",
              "      <td>0.0</td>\n",
              "      <td>0.0</td>\n",
              "      <td>1.0</td>\n",
              "      <td>0.0</td>\n",
              "      <td>0.0</td>\n",
              "      <td>0.0</td>\n",
              "    </tr>\n",
              "  </tbody>\n",
              "</table>\n",
              "<p>5 rows × 69 columns</p>\n",
              "</div>\n",
              "    <div class=\"colab-df-buttons\">\n",
              "\n",
              "  <div class=\"colab-df-container\">\n",
              "    <button class=\"colab-df-convert\" onclick=\"convertToInteractive('df-829633e8-7f24-4668-b7aa-e117a6cb56b8')\"\n",
              "            title=\"Convert this dataframe to an interactive table.\"\n",
              "            style=\"display:none;\">\n",
              "\n",
              "  <svg xmlns=\"http://www.w3.org/2000/svg\" height=\"24px\" viewBox=\"0 -960 960 960\">\n",
              "    <path d=\"M120-120v-720h720v720H120Zm60-500h600v-160H180v160Zm220 220h160v-160H400v160Zm0 220h160v-160H400v160ZM180-400h160v-160H180v160Zm440 0h160v-160H620v160ZM180-180h160v-160H180v160Zm440 0h160v-160H620v160Z\"/>\n",
              "  </svg>\n",
              "    </button>\n",
              "\n",
              "  <style>\n",
              "    .colab-df-container {\n",
              "      display:flex;\n",
              "      gap: 12px;\n",
              "    }\n",
              "\n",
              "    .colab-df-convert {\n",
              "      background-color: #E8F0FE;\n",
              "      border: none;\n",
              "      border-radius: 50%;\n",
              "      cursor: pointer;\n",
              "      display: none;\n",
              "      fill: #1967D2;\n",
              "      height: 32px;\n",
              "      padding: 0 0 0 0;\n",
              "      width: 32px;\n",
              "    }\n",
              "\n",
              "    .colab-df-convert:hover {\n",
              "      background-color: #E2EBFA;\n",
              "      box-shadow: 0px 1px 2px rgba(60, 64, 67, 0.3), 0px 1px 3px 1px rgba(60, 64, 67, 0.15);\n",
              "      fill: #174EA6;\n",
              "    }\n",
              "\n",
              "    .colab-df-buttons div {\n",
              "      margin-bottom: 4px;\n",
              "    }\n",
              "\n",
              "    [theme=dark] .colab-df-convert {\n",
              "      background-color: #3B4455;\n",
              "      fill: #D2E3FC;\n",
              "    }\n",
              "\n",
              "    [theme=dark] .colab-df-convert:hover {\n",
              "      background-color: #434B5C;\n",
              "      box-shadow: 0px 1px 3px 1px rgba(0, 0, 0, 0.15);\n",
              "      filter: drop-shadow(0px 1px 2px rgba(0, 0, 0, 0.3));\n",
              "      fill: #FFFFFF;\n",
              "    }\n",
              "  </style>\n",
              "\n",
              "    <script>\n",
              "      const buttonEl =\n",
              "        document.querySelector('#df-829633e8-7f24-4668-b7aa-e117a6cb56b8 button.colab-df-convert');\n",
              "      buttonEl.style.display =\n",
              "        google.colab.kernel.accessAllowed ? 'block' : 'none';\n",
              "\n",
              "      async function convertToInteractive(key) {\n",
              "        const element = document.querySelector('#df-829633e8-7f24-4668-b7aa-e117a6cb56b8');\n",
              "        const dataTable =\n",
              "          await google.colab.kernel.invokeFunction('convertToInteractive',\n",
              "                                                    [key], {});\n",
              "        if (!dataTable) return;\n",
              "\n",
              "        const docLinkHtml = 'Like what you see? Visit the ' +\n",
              "          '<a target=\"_blank\" href=https://colab.research.google.com/notebooks/data_table.ipynb>data table notebook</a>'\n",
              "          + ' to learn more about interactive tables.';\n",
              "        element.innerHTML = '';\n",
              "        dataTable['output_type'] = 'display_data';\n",
              "        await google.colab.output.renderOutput(dataTable, element);\n",
              "        const docLink = document.createElement('div');\n",
              "        docLink.innerHTML = docLinkHtml;\n",
              "        element.appendChild(docLink);\n",
              "      }\n",
              "    </script>\n",
              "  </div>\n",
              "\n",
              "\n",
              "<div id=\"df-57775a5e-3904-4ea2-93dd-71fb6f9eb952\">\n",
              "  <button class=\"colab-df-quickchart\" onclick=\"quickchart('df-57775a5e-3904-4ea2-93dd-71fb6f9eb952')\"\n",
              "            title=\"Suggest charts\"\n",
              "            style=\"display:none;\">\n",
              "\n",
              "<svg xmlns=\"http://www.w3.org/2000/svg\" height=\"24px\"viewBox=\"0 0 24 24\"\n",
              "     width=\"24px\">\n",
              "    <g>\n",
              "        <path d=\"M19 3H5c-1.1 0-2 .9-2 2v14c0 1.1.9 2 2 2h14c1.1 0 2-.9 2-2V5c0-1.1-.9-2-2-2zM9 17H7v-7h2v7zm4 0h-2V7h2v10zm4 0h-2v-4h2v4z\"/>\n",
              "    </g>\n",
              "</svg>\n",
              "  </button>\n",
              "\n",
              "<style>\n",
              "  .colab-df-quickchart {\n",
              "      --bg-color: #E8F0FE;\n",
              "      --fill-color: #1967D2;\n",
              "      --hover-bg-color: #E2EBFA;\n",
              "      --hover-fill-color: #174EA6;\n",
              "      --disabled-fill-color: #AAA;\n",
              "      --disabled-bg-color: #DDD;\n",
              "  }\n",
              "\n",
              "  [theme=dark] .colab-df-quickchart {\n",
              "      --bg-color: #3B4455;\n",
              "      --fill-color: #D2E3FC;\n",
              "      --hover-bg-color: #434B5C;\n",
              "      --hover-fill-color: #FFFFFF;\n",
              "      --disabled-bg-color: #3B4455;\n",
              "      --disabled-fill-color: #666;\n",
              "  }\n",
              "\n",
              "  .colab-df-quickchart {\n",
              "    background-color: var(--bg-color);\n",
              "    border: none;\n",
              "    border-radius: 50%;\n",
              "    cursor: pointer;\n",
              "    display: none;\n",
              "    fill: var(--fill-color);\n",
              "    height: 32px;\n",
              "    padding: 0;\n",
              "    width: 32px;\n",
              "  }\n",
              "\n",
              "  .colab-df-quickchart:hover {\n",
              "    background-color: var(--hover-bg-color);\n",
              "    box-shadow: 0 1px 2px rgba(60, 64, 67, 0.3), 0 1px 3px 1px rgba(60, 64, 67, 0.15);\n",
              "    fill: var(--button-hover-fill-color);\n",
              "  }\n",
              "\n",
              "  .colab-df-quickchart-complete:disabled,\n",
              "  .colab-df-quickchart-complete:disabled:hover {\n",
              "    background-color: var(--disabled-bg-color);\n",
              "    fill: var(--disabled-fill-color);\n",
              "    box-shadow: none;\n",
              "  }\n",
              "\n",
              "  .colab-df-spinner {\n",
              "    border: 2px solid var(--fill-color);\n",
              "    border-color: transparent;\n",
              "    border-bottom-color: var(--fill-color);\n",
              "    animation:\n",
              "      spin 1s steps(1) infinite;\n",
              "  }\n",
              "\n",
              "  @keyframes spin {\n",
              "    0% {\n",
              "      border-color: transparent;\n",
              "      border-bottom-color: var(--fill-color);\n",
              "      border-left-color: var(--fill-color);\n",
              "    }\n",
              "    20% {\n",
              "      border-color: transparent;\n",
              "      border-left-color: var(--fill-color);\n",
              "      border-top-color: var(--fill-color);\n",
              "    }\n",
              "    30% {\n",
              "      border-color: transparent;\n",
              "      border-left-color: var(--fill-color);\n",
              "      border-top-color: var(--fill-color);\n",
              "      border-right-color: var(--fill-color);\n",
              "    }\n",
              "    40% {\n",
              "      border-color: transparent;\n",
              "      border-right-color: var(--fill-color);\n",
              "      border-top-color: var(--fill-color);\n",
              "    }\n",
              "    60% {\n",
              "      border-color: transparent;\n",
              "      border-right-color: var(--fill-color);\n",
              "    }\n",
              "    80% {\n",
              "      border-color: transparent;\n",
              "      border-right-color: var(--fill-color);\n",
              "      border-bottom-color: var(--fill-color);\n",
              "    }\n",
              "    90% {\n",
              "      border-color: transparent;\n",
              "      border-bottom-color: var(--fill-color);\n",
              "    }\n",
              "  }\n",
              "</style>\n",
              "\n",
              "  <script>\n",
              "    async function quickchart(key) {\n",
              "      const quickchartButtonEl =\n",
              "        document.querySelector('#' + key + ' button');\n",
              "      quickchartButtonEl.disabled = true;  // To prevent multiple clicks.\n",
              "      quickchartButtonEl.classList.add('colab-df-spinner');\n",
              "      try {\n",
              "        const charts = await google.colab.kernel.invokeFunction(\n",
              "            'suggestCharts', [key], {});\n",
              "      } catch (error) {\n",
              "        console.error('Error during call to suggestCharts:', error);\n",
              "      }\n",
              "      quickchartButtonEl.classList.remove('colab-df-spinner');\n",
              "      quickchartButtonEl.classList.add('colab-df-quickchart-complete');\n",
              "    }\n",
              "    (() => {\n",
              "      let quickchartButtonEl =\n",
              "        document.querySelector('#df-57775a5e-3904-4ea2-93dd-71fb6f9eb952 button');\n",
              "      quickchartButtonEl.style.display =\n",
              "        google.colab.kernel.accessAllowed ? 'block' : 'none';\n",
              "    })();\n",
              "  </script>\n",
              "</div>\n",
              "\n",
              "    </div>\n",
              "  </div>\n"
            ],
            "application/vnd.google.colaboratory.intrinsic+json": {
              "type": "dataframe",
              "variable_name": "X_train_preprocessed"
            }
          },
          "metadata": {},
          "execution_count": 65
        }
      ],
      "source": [
        "X_train_preprocessed = pd.concat([X_train_numeric_scaled, X_train_categorical_ohe], axis=1)\n",
        "X_train_preprocessed.head()"
      ]
    },
    {
      "cell_type": "code",
      "execution_count": 66,
      "metadata": {
        "colab": {
          "base_uri": "https://localhost:8080/"
        },
        "id": "wvi8RYTBQ7ru",
        "outputId": "da67688c-86a2-4dab-da4c-471ef3c93cd3"
      },
      "outputs": [
        {
          "output_type": "execute_result",
          "data": {
            "text/plain": [
              "(707752, 69)"
            ]
          },
          "metadata": {},
          "execution_count": 66
        }
      ],
      "source": [
        "X_train_preprocessed.shape"
      ]
    },
    {
      "cell_type": "markdown",
      "metadata": {
        "id": "N4B8fT9JRHzW"
      },
      "source": [
        "That's still too many columns, but I can't drop any more in good conscience without further information. Let's make use of Principal Component Analysis (PCA) to which features are more significant."
      ]
    },
    {
      "cell_type": "code",
      "execution_count": 67,
      "metadata": {
        "colab": {
          "base_uri": "https://localhost:8080/"
        },
        "id": "LHhvdxYpRCfq",
        "outputId": "5e307226-69ba-408e-cfce-373b4bc9099e"
      },
      "outputs": [
        {
          "output_type": "execute_result",
          "data": {
            "text/plain": [
              "array([[-4.46909020e-01,  8.97187026e-02,  4.94539827e-01, ...,\n",
              "         3.93263390e-15,  1.17821151e-14, -1.39131654e-14],\n",
              "       [ 1.00894818e+00,  5.23130877e-02,  2.72010151e-01, ...,\n",
              "         1.16384395e-14, -1.53937814e-14,  1.90312246e-14],\n",
              "       [-1.95397619e+00,  8.09493133e-01,  8.37199371e-01, ...,\n",
              "         3.00763199e-14, -3.40960623e-14, -9.27140105e-15],\n",
              "       ...,\n",
              "       [-1.65153816e+00, -1.38023679e+00,  1.86904305e-01, ...,\n",
              "         3.70259822e-17, -7.59434720e-17,  7.03015061e-17],\n",
              "       [-4.96281214e-01, -5.26630671e-01, -1.91650947e-01, ...,\n",
              "        -2.57260660e-18,  5.84434035e-18, -2.44243711e-17],\n",
              "       [-1.35203670e-02, -3.06629328e+00,  2.69310776e-01, ...,\n",
              "         5.70922652e-17, -3.54509483e-17,  6.90679360e-17]])"
            ]
          },
          "metadata": {},
          "execution_count": 67
        }
      ],
      "source": [
        "from sklearn.decomposition import PCA\n",
        "pca = PCA(random_state=210)\n",
        "pca_array = pca.fit_transform(X_train_preprocessed)\n",
        "pca_array"
      ]
    },
    {
      "cell_type": "code",
      "execution_count": 68,
      "metadata": {
        "colab": {
          "base_uri": "https://localhost:8080/"
        },
        "id": "CKzRJnIHBxZ5",
        "outputId": "28dd0c95-2129-4b82-ee53-a22ca8dd8efb"
      },
      "outputs": [
        {
          "output_type": "execute_result",
          "data": {
            "text/plain": [
              "707752"
            ]
          },
          "metadata": {},
          "execution_count": 68
        }
      ],
      "source": [
        "len(pca_array)"
      ]
    },
    {
      "cell_type": "markdown",
      "metadata": {
        "id": "jke9U18WBiGe"
      },
      "source": [
        "Now that we've fit PCA to our training data, let's see how much of the variance it explains by adding up each row's explained variance ratio."
      ]
    },
    {
      "cell_type": "code",
      "execution_count": 69,
      "metadata": {
        "colab": {
          "base_uri": "https://localhost:8080/"
        },
        "id": "YZae2Kb9BB3R",
        "outputId": "afa242f1-9c44-4362-9b84-bca3b77d3c40"
      },
      "outputs": [
        {
          "output_type": "execute_result",
          "data": {
            "text/plain": [
              "array([0.15126788, 0.26161492, 0.36489109, 0.46366879, 0.55852288,\n",
              "       0.61062163, 0.65888336, 0.70468066, 0.73563689, 0.76357858,\n",
              "       0.78838025, 0.81201268, 0.83478108, 0.85117668, 0.86596044,\n",
              "       0.88058669, 0.89502997, 0.90890506, 0.92053514, 0.93002148,\n",
              "       0.93904652, 0.94562058, 0.95183002, 0.95754883, 0.96151667,\n",
              "       0.96519778, 0.96869935, 0.97209286, 0.97520206, 0.97771848,\n",
              "       0.98013078, 0.98243821, 0.98432724, 0.98595152, 0.98756989,\n",
              "       0.98911334, 0.99043045, 0.99163662, 0.9927191 , 0.99376033,\n",
              "       0.99458119, 0.99537556, 0.99605374, 0.99664422, 0.99715841,\n",
              "       0.99765797, 0.99801241, 0.99836088, 0.99864366, 0.99885388,\n",
              "       0.99905677, 0.99922665, 0.99938878, 0.99952478, 0.99965212,\n",
              "       0.99977556, 0.99989036, 0.99996734, 0.99998559, 0.99999921,\n",
              "       1.        , 1.        , 1.        , 1.        , 1.        ,\n",
              "       1.        , 1.        , 1.        , 1.        ])"
            ]
          },
          "metadata": {},
          "execution_count": 69
        }
      ],
      "source": [
        "import numpy as np\n",
        "evr = pca.explained_variance_ratio_\n",
        "np.cumsum(evr)"
      ]
    },
    {
      "cell_type": "markdown",
      "metadata": {
        "id": "2nZZ6tpEB334"
      },
      "source": [
        "It looks like we're able to reach a good amount of explained variance (a general consensus is around 95%) at around 23 features in before we see diminishing returns. Let's visualize these to get a better sense of how many features we really need."
      ]
    },
    {
      "cell_type": "code",
      "execution_count": 70,
      "metadata": {
        "colab": {
          "base_uri": "https://localhost:8080/",
          "height": 472
        },
        "id": "rmh5QQDpC24-",
        "outputId": "ecb3887f-db3f-49a9-e9ca-28f544e9d768"
      },
      "outputs": [
        {
          "output_type": "display_data",
          "data": {
            "text/plain": [
              "<Figure size 640x480 with 1 Axes>"
            ],
            "image/png": "[encoded data removed]"
          },
          "metadata": {}
        }
      ],
      "source": [
        "from matplotlib import pyplot as plt\n",
        "plt.plot(np.cumsum(evr), color='g')\n",
        "plt.title('Features versus Explained Variance')\n",
        "plt.xlabel('number of components')\n",
        "plt.ylabel('cumulative explained variance')\n",
        "#it looks like 21 features gets us there\n",
        "plt.hlines(y=0.95, xmin=0, xmax=70, color='k', linestyle='--')\n",
        "plt.vlines(x=21, ymin=0.2, ymax=1, color='k', linestyle='--');"
      ]
    },
    {
      "cell_type": "markdown",
      "metadata": {
        "id": "ZwvRtUw6UVVU"
      },
      "source": [
        "Let's rerun PCA with this optimal components parameter in mind."
      ]
    },
    {
      "cell_type": "code",
      "execution_count": 71,
      "metadata": {
        "colab": {
          "base_uri": "https://localhost:8080/"
        },
        "id": "GV7Ie1EYMcz5",
        "outputId": "8bcf3cdb-26d6-4981-c8a3-8e54c7d1cd30"
      },
      "outputs": [
        {
          "output_type": "execute_result",
          "data": {
            "text/plain": [
              "array([0.15126788, 0.26161492, 0.36489109, 0.46366879, 0.55852288,\n",
              "       0.61062163, 0.65888336, 0.70468066, 0.73563689, 0.76357858,\n",
              "       0.78838025, 0.81201268, 0.83478108, 0.85117668, 0.86596044,\n",
              "       0.88058668, 0.89502997, 0.90890505, 0.92053513, 0.93002147,\n",
              "       0.93904649])"
            ]
          },
          "metadata": {},
          "execution_count": 71
        }
      ],
      "source": [
        "pca = PCA(n_components=21, random_state=210)\n",
        "pca_array = pca.fit_transform(X_train_preprocessed)\n",
        "evr = pca.explained_variance_ratio_\n",
        "np.cumsum(evr)"
      ]
    },
    {
      "cell_type": "markdown",
      "source": [
        "Now let's examine which features explain this variance best via the PCA's components attribute (aka its 'loadings'):"
      ],
      "metadata": {
        "id": "9pJFsdly8pmh"
      }
    },
    {
      "cell_type": "code",
      "execution_count": 72,
      "metadata": {
        "colab": {
          "base_uri": "https://localhost:8080/"
        },
        "id": "7kYywIk9OcMo",
        "outputId": "b8310219-750e-4e3f-8497-79a0432bb503"
      },
      "outputs": [
        {
          "output_type": "stream",
          "name": "stdout",
          "text": [
            "PERSON_TYPE_NON-CONTACT VEHICLE                0.000\n",
            "WEATHER_CONDITION_SEVERE CROSS WIND GATE       0.000\n",
            "SEX_X                                          0.000\n",
            "WEATHER_CONDITION_BLOWING SAND, SOIL, DIRT     0.000\n",
            "MANEUVER_PARKED IN TRAFFIC LANE               -0.002\n",
            "MANEUVER_SLOW/STOP - RIGHT TURN               -0.003\n",
            "MANEUVER_DRIVING WRONG WAY                    -0.003\n",
            "MANEUVER_SLOW/STOP - LOAD/UNLOAD              -0.004\n",
            "MANEUVER_NEGOTIATING A CURVE                  -0.004\n",
            "LIGHTING_CONDITION_DAWN                        0.005\n",
            "WEATHER_CONDITION_FOG/SMOKE/HAZE               0.005\n",
            "MANEUVER_SLOW/STOP - LEFT TURN                -0.006\n",
            "WEATHER_CONDITION_BLOWING SNOW                 0.009\n",
            "MANEUVER_AVOIDING VEHICLES/OBJECTS            -0.010\n",
            "MANEUVER_LEAVING TRAFFIC LANE TO PARK         -0.010\n",
            "MANEUVER_ENTER FROM DRIVE/ALLEY               -0.011\n",
            "WEATHER_CONDITION_SLEET/HAIL                   0.012\n",
            "MANEUVER_SKIDDING/CONTROL LOSS                 0.012\n",
            "WEATHER_CONDITION_FREEZING RAIN/DRIZZLE        0.013\n",
            "LIGHTING_CONDITION_DUSK                        0.014\n",
            "MANEUVER_STARTING IN TRAFFIC                  -0.018\n",
            "PERSON_TYPE_PEDESTRIAN                        -0.019\n",
            "MANEUVER_PARKED                                0.021\n",
            "MANEUVER_U-TURN                               -0.026\n",
            "MANEUVER_MERGING                              -0.026\n",
            "PERSON_TYPE_BICYCLE                           -0.029\n",
            "LIGHTING_CONDITION_DARKNESS                    0.040\n",
            "TRAVEL_DIRECTION_NW                           -0.040\n",
            "MANEUVER_ENTERING TRAFFIC LANE FROM PARKING   -0.041\n",
            "TRAVEL_DIRECTION_SW                           -0.046\n",
            "TRAVEL_DIRECTION_NE                           -0.046\n",
            "PERSON_TYPE_DRIVER                             0.048\n",
            "TRAVEL_DIRECTION_SE                           -0.053\n",
            "ROADWAY_SURFACE_COND_ICE                       0.057\n",
            "TRAVEL_DIRECTION_W                            -0.078\n",
            "CRASH_DAY_OF_WEEK_7                            0.081\n",
            "MANEUVER_CHANGING LANES                       -0.097\n",
            "MANEUVER_BACKING                              -0.106\n",
            "MANEUVER_PASSING/OVERTAKING                   -0.110\n",
            "MANEUVER_TURNING RIGHT                        -0.130\n",
            "CRASH_HOUR                                    -0.144\n",
            "WEATHER_CONDITION_CLOUDY/OVERCAST              0.172\n",
            "TRAVEL_DIRECTION_S                             0.179\n",
            "MANEUVER_SLOW/STOP IN TRAFFIC                  0.246\n",
            "CRASH_DAY_OF_WEEK_5                            0.259\n",
            "ROADWAY_SURFACE_COND_DRY                      -0.330\n",
            "POSTED_SPEED_LIMIT                             0.391\n",
            "LIGHTING_CONDITION_DARKNESS, LIGHTED ROAD      0.432\n",
            "ROADWAY_SURFACE_COND_WET                      -0.446\n",
            "WEATHER_CONDITION_RAIN                        -0.470\n",
            "WEATHER_CONDITION_CLEAR                       -0.490\n",
            "LIGHTING_CONDITION_DAYLIGHT                   -0.495\n",
            "CRASH_DAY_OF_WEEK_2                            0.507\n",
            "CRASH_DAY_OF_WEEK_3                           -0.603\n",
            "LATITUDE                                       0.640\n",
            "MANEUVER_TURNING LEFT                         -0.678\n",
            "ROADWAY_SURFACE_COND_SNOW OR SLUSH             0.715\n",
            "AGE                                            0.724\n",
            "WEATHER_CONDITION_SNOW                         0.749\n",
            "CRASH_DAY_OF_WEEK_6                            0.763\n",
            "LONGITUDE                                     -0.816\n",
            "CRASH_DAY_OF_WEEK_1                            0.929\n",
            "MANEUVER_STRAIGHT AHEAD                        1.002\n",
            "TRAVEL_DIRECTION_N                            -1.137\n",
            "SEX_F                                          1.211\n",
            "SEX_M                                         -1.212\n",
            "TRAVEL_DIRECTION_E                             1.218\n",
            "NUM_UNITS                                      1.918\n",
            "CRASH_DAY_OF_WEEK_4                           -1.939\n"
          ]
        }
      ],
      "source": [
        "loadings = pca.components_\n",
        "#rounding them to make comparisons a little easier\n",
        "loadings_rounded = np.around(loadings, decimals=3)\n",
        "#converting them to an easy-to-read Pandas Series\n",
        "loadings_df = pd.DataFrame(loadings_rounded,columns=X_train_preprocessed.columns)\n",
        "loadings_sums = pd.Series(loadings_df.sum()).sort_values(key=abs)\n",
        "print(loadings_sums.to_string())"
      ]
    },
    {
      "cell_type": "markdown",
      "metadata": {
        "id": "SwNw3QT1kr6Q"
      },
      "source": [
        "A wide range of cumulative explained variance ratios appear for these columns with the occasional large leap between groups. Those that appear to explain variance better include Wednesday crashes, the number of vehicles involved ('NUM_UNITS'), travelling east or north, gender, and when drivers were maneuvering straight ahead.\n",
        "\n",
        "Of course, these columns don't necessarily *correlate* with the target. In fact, they likely *don't* since they capture so much of the variance in this dataset. However, gathering *all* these columns together suggests a trimmed group of columns that can still help get to the bottom of primary causes of accidents.\n",
        "\n",
        "Among the less explanatory columns, we see a lot of rare classes from categorical features. While I got rid of many columns that showed the same kind of skewed distribution these columns have among their classes, these were a little better than most and seemed like they could still hold some pertitent information in regard to crash causes.\n",
        "\n",
        "Let's begin by dropping any column that can't explain at least a *cumulative* absolute value of 0.1 of the variance. Below, we see that this will help trim our features down by just over half to 32. (Below, \"e.v.r.\" stands for \"explained variance ratio\".)"
      ]
    },
    {
      "cell_type": "code",
      "execution_count": 73,
      "metadata": {
        "colab": {
          "base_uri": "https://localhost:8080/"
        },
        "id": "w0CBLiKDO-y1",
        "outputId": "9aed75b0-dc64-4bf4-cdd2-15a54d4ec283"
      },
      "outputs": [
        {
          "output_type": "stream",
          "name": "stdout",
          "text": [
            "ratio of features below/above 0.1 cumulative e.v.r.:    0.54\n",
            "remaining number of features after dropping those below 0.1 cumulative e.v.r.:    32\n"
          ]
        }
      ],
      "source": [
        "loadings_sums_abs = loadings_sums.abs()\n",
        "less_explanatory_loadings_sums = loadings_sums_abs[loadings_sums_abs < 0.1]\n",
        "print('ratio of features below/above 0.1 cumulative e.v.r.:   ', round(len(less_explanatory_loadings_sums)/len(loadings_sums), 2))\n",
        "print('remaining number of features after dropping those below 0.1 cumulative e.v.r.:   ', len(loadings_sums) - len(less_explanatory_loadings_sums))"
      ]
    },
    {
      "cell_type": "code",
      "execution_count": 74,
      "metadata": {
        "colab": {
          "base_uri": "https://localhost:8080/"
        },
        "id": "gg9MtnqBk9eE",
        "outputId": "a411d2a7-6d20-41fc-f327-9a1e4af5f39c"
      },
      "outputs": [
        {
          "output_type": "execute_result",
          "data": {
            "text/plain": [
              "MANEUVER_BACKING                            -0.106\n",
              "MANEUVER_PASSING/OVERTAKING                 -0.110\n",
              "MANEUVER_TURNING RIGHT                      -0.130\n",
              "CRASH_HOUR                                  -0.144\n",
              "WEATHER_CONDITION_CLOUDY/OVERCAST            0.172\n",
              "TRAVEL_DIRECTION_S                           0.179\n",
              "MANEUVER_SLOW/STOP IN TRAFFIC                0.246\n",
              "CRASH_DAY_OF_WEEK_5                          0.259\n",
              "ROADWAY_SURFACE_COND_DRY                    -0.330\n",
              "POSTED_SPEED_LIMIT                           0.391\n",
              "LIGHTING_CONDITION_DARKNESS, LIGHTED ROAD    0.432\n",
              "ROADWAY_SURFACE_COND_WET                    -0.446\n",
              "WEATHER_CONDITION_RAIN                      -0.470\n",
              "WEATHER_CONDITION_CLEAR                     -0.490\n",
              "LIGHTING_CONDITION_DAYLIGHT                 -0.495\n",
              "CRASH_DAY_OF_WEEK_2                          0.507\n",
              "CRASH_DAY_OF_WEEK_3                         -0.603\n",
              "LATITUDE                                     0.640\n",
              "MANEUVER_TURNING LEFT                       -0.678\n",
              "ROADWAY_SURFACE_COND_SNOW OR SLUSH           0.715\n",
              "AGE                                          0.724\n",
              "WEATHER_CONDITION_SNOW                       0.749\n",
              "CRASH_DAY_OF_WEEK_6                          0.763\n",
              "LONGITUDE                                   -0.816\n",
              "CRASH_DAY_OF_WEEK_1                          0.929\n",
              "MANEUVER_STRAIGHT AHEAD                      1.002\n",
              "TRAVEL_DIRECTION_N                          -1.137\n",
              "SEX_F                                        1.211\n",
              "SEX_M                                       -1.212\n",
              "TRAVEL_DIRECTION_E                           1.218\n",
              "NUM_UNITS                                    1.918\n",
              "CRASH_DAY_OF_WEEK_4                         -1.939\n",
              "dtype: float64"
            ]
          },
          "metadata": {},
          "execution_count": 74
        }
      ],
      "source": [
        "#dropping less explanatory features\n",
        "explanatory_loadings_sums = loadings_sums.drop(less_explanatory_loadings_sums.index, axis=0)\n",
        "explanatory_loadings_sums"
      ]
    },
    {
      "cell_type": "markdown",
      "metadata": {
        "id": "1ng2yTEQJ618"
      },
      "source": [
        "This is one way to find our most promising features and get them down to a more reasonable quanitity before running them through a predictive model.\n",
        "\n",
        "We can also try a similar process by way of a random forest. Once fit to our preprocessed training data, we can inspect its feature importances and see how well it matches our more promising features from PCA above.\n",
        "\n",
        "## random forest feature importance\n",
        "\n",
        "Since a random forest is a predictive model, we'll have to contend with the target column's class imbalance. Let's check and see how it appears here in our training data:"
      ]
    },
    {
      "cell_type": "code",
      "execution_count": 75,
      "metadata": {
        "colab": {
          "base_uri": "https://localhost:8080/"
        },
        "id": "fmoO33e0JrRh",
        "outputId": "805ee896-eff8-4fd0-c1de-98d891c0b066"
      },
      "outputs": [
        {
          "output_type": "execute_result",
          "data": {
            "text/plain": [
              "TARGET\n",
              "1    0.927949\n",
              "0    0.072051\n",
              "Name: proportion, dtype: float64"
            ]
          },
          "metadata": {},
          "execution_count": 75
        }
      ],
      "source": [
        "y_train.value_counts(normalize=True)"
      ]
    },
    {
      "cell_type": "markdown",
      "metadata": {
        "id": "Sbp0Vj1d5lw3"
      },
      "source": [
        "Not good, but it could be much worse. Subsequently, we'll have to run our random forests with oversampling, undersampling, and SMOTE sampling strategies to get the best picture on which set of feature importances are ideal.\n",
        "\n",
        "Before doing that, let's establish a baseline random forest model without any sampling strategies. This tree-based model will need the one-hot encoded categorical values, but the non-standardized numeric data."
      ]
    },
    {
      "cell_type": "code",
      "execution_count": 76,
      "metadata": {
        "colab": {
          "base_uri": "https://localhost:8080/",
          "height": 273
        },
        "id": "ihh1xAdZCBmm",
        "outputId": "18525242-5f33-482f-aa4e-fbd764b82609"
      },
      "outputs": [
        {
          "output_type": "execute_result",
          "data": {
            "text/plain": [
              "        POSTED_SPEED_LIMIT  NUM_UNITS  CRASH_HOUR   LATITUDE  LONGITUDE   AGE  \\\n",
              "262116                  30          2           9  41.870473 -87.630706  23.0   \n",
              "792637                  30          2          10  41.975934 -87.678761  24.0   \n",
              "167787                  35          2           8  41.663131 -87.641757  18.0   \n",
              "433111                  30          2          20  41.838567 -87.609722  56.0   \n",
              "477277                  30          2          15  41.684110 -87.717807  39.0   \n",
              "\n",
              "        WEATHER_CONDITION_BLOWING SAND, SOIL, DIRT  \\\n",
              "262116                                         0.0   \n",
              "792637                                         0.0   \n",
              "167787                                         0.0   \n",
              "433111                                         0.0   \n",
              "477277                                         0.0   \n",
              "\n",
              "        WEATHER_CONDITION_BLOWING SNOW  WEATHER_CONDITION_CLEAR  \\\n",
              "262116                             0.0                      0.0   \n",
              "792637                             0.0                      1.0   \n",
              "167787                             0.0                      1.0   \n",
              "433111                             0.0                      1.0   \n",
              "477277                             0.0                      1.0   \n",
              "\n",
              "        WEATHER_CONDITION_CLOUDY/OVERCAST  ...  \\\n",
              "262116                                0.0  ...   \n",
              "792637                                0.0  ...   \n",
              "167787                                0.0  ...   \n",
              "433111                                0.0  ...   \n",
              "477277                                0.0  ...   \n",
              "\n",
              "        MANEUVER_SKIDDING/CONTROL LOSS  MANEUVER_SLOW/STOP - LEFT TURN  \\\n",
              "262116                             0.0                             0.0   \n",
              "792637                             0.0                             0.0   \n",
              "167787                             0.0                             0.0   \n",
              "433111                             0.0                             0.0   \n",
              "477277                             0.0                             0.0   \n",
              "\n",
              "        MANEUVER_SLOW/STOP - LOAD/UNLOAD  MANEUVER_SLOW/STOP - RIGHT TURN  \\\n",
              "262116                               0.0                              0.0   \n",
              "792637                               0.0                              0.0   \n",
              "167787                               0.0                              0.0   \n",
              "433111                               0.0                              0.0   \n",
              "477277                               0.0                              0.0   \n",
              "\n",
              "        MANEUVER_SLOW/STOP IN TRAFFIC  MANEUVER_STARTING IN TRAFFIC  \\\n",
              "262116                            0.0                           0.0   \n",
              "792637                            1.0                           0.0   \n",
              "167787                            0.0                           1.0   \n",
              "433111                            0.0                           0.0   \n",
              "477277                            0.0                           0.0   \n",
              "\n",
              "        MANEUVER_STRAIGHT AHEAD  MANEUVER_TURNING LEFT  \\\n",
              "262116                      1.0                    0.0   \n",
              "792637                      0.0                    0.0   \n",
              "167787                      0.0                    0.0   \n",
              "433111                      0.0                    0.0   \n",
              "477277                      1.0                    0.0   \n",
              "\n",
              "        MANEUVER_TURNING RIGHT  MANEUVER_U-TURN  \n",
              "262116                     0.0              0.0  \n",
              "792637                     0.0              0.0  \n",
              "167787                     0.0              0.0  \n",
              "433111                     0.0              0.0  \n",
              "477277                     0.0              0.0  \n",
              "\n",
              "[5 rows x 69 columns]"
            ],
            "text/html": [
              "\n",
              "  <div id=\"df-4f70dfd7-472d-4562-b8d4-af91057f0773\" class=\"colab-df-container\">\n",
              "    <div>\n",
              "<style scoped>\n",
              "    .dataframe tbody tr th:only-of-type {\n",
              "        vertical-align: middle;\n",
              "    }\n",
              "\n",
              "    .dataframe tbody tr th {\n",
              "        vertical-align: top;\n",
              "    }\n",
              "\n",
              "    .dataframe thead th {\n",
              "        text-align: right;\n",
              "    }\n",
              "</style>\n",
              "<table border=\"1\" class=\"dataframe\">\n",
              "  <thead>\n",
              "    <tr style=\"text-align: right;\">\n",
              "      <th></th>\n",
              "      <th>POSTED_SPEED_LIMIT</th>\n",
              "      <th>NUM_UNITS</th>\n",
              "      <th>CRASH_HOUR</th>\n",
              "      <th>LATITUDE</th>\n",
              "      <th>LONGITUDE</th>\n",
              "      <th>AGE</th>\n",
              "      <th>WEATHER_CONDITION_BLOWING SAND, SOIL, DIRT</th>\n",
              "      <th>WEATHER_CONDITION_BLOWING SNOW</th>\n",
              "      <th>WEATHER_CONDITION_CLEAR</th>\n",
              "      <th>WEATHER_CONDITION_CLOUDY/OVERCAST</th>\n",
              "      <th>...</th>\n",
              "      <th>MANEUVER_SKIDDING/CONTROL LOSS</th>\n",
              "      <th>MANEUVER_SLOW/STOP - LEFT TURN</th>\n",
              "      <th>MANEUVER_SLOW/STOP - LOAD/UNLOAD</th>\n",
              "      <th>MANEUVER_SLOW/STOP - RIGHT TURN</th>\n",
              "      <th>MANEUVER_SLOW/STOP IN TRAFFIC</th>\n",
              "      <th>MANEUVER_STARTING IN TRAFFIC</th>\n",
              "      <th>MANEUVER_STRAIGHT AHEAD</th>\n",
              "      <th>MANEUVER_TURNING LEFT</th>\n",
              "      <th>MANEUVER_TURNING RIGHT</th>\n",
              "      <th>MANEUVER_U-TURN</th>\n",
              "    </tr>\n",
              "  </thead>\n",
              "  <tbody>\n",
              "    <tr>\n",
              "      <th>262116</th>\n",
              "      <td>30</td>\n",
              "      <td>2</td>\n",
              "      <td>9</td>\n",
              "      <td>41.870473</td>\n",
              "      <td>-87.630706</td>\n",
              "      <td>23.0</td>\n",
              "      <td>0.0</td>\n",
              "      <td>0.0</td>\n",
              "      <td>0.0</td>\n",
              "      <td>0.0</td>\n",
              "      <td>...</td>\n",
              "      <td>0.0</td>\n",
              "      <td>0.0</td>\n",
              "      <td>0.0</td>\n",
              "      <td>0.0</td>\n",
              "      <td>0.0</td>\n",
              "      <td>0.0</td>\n",
              "      <td>1.0</td>\n",
              "      <td>0.0</td>\n",
              "      <td>0.0</td>\n",
              "      <td>0.0</td>\n",
              "    </tr>\n",
              "    <tr>\n",
              "      <th>792637</th>\n",
              "      <td>30</td>\n",
              "      <td>2</td>\n",
              "      <td>10</td>\n",
              "      <td>41.975934</td>\n",
              "      <td>-87.678761</td>\n",
              "      <td>24.0</td>\n",
              "      <td>0.0</td>\n",
              "      <td>0.0</td>\n",
              "      <td>1.0</td>\n",
              "      <td>0.0</td>\n",
              "      <td>...</td>\n",
              "      <td>0.0</td>\n",
              "      <td>0.0</td>\n",
              "      <td>0.0</td>\n",
              "      <td>0.0</td>\n",
              "      <td>1.0</td>\n",
              "      <td>0.0</td>\n",
              "      <td>0.0</td>\n",
              "      <td>0.0</td>\n",
              "      <td>0.0</td>\n",
              "      <td>0.0</td>\n",
              "    </tr>\n",
              "    <tr>\n",
              "      <th>167787</th>\n",
              "      <td>35</td>\n",
              "      <td>2</td>\n",
              "      <td>8</td>\n",
              "      <td>41.663131</td>\n",
              "      <td>-87.641757</td>\n",
              "      <td>18.0</td>\n",
              "      <td>0.0</td>\n",
              "      <td>0.0</td>\n",
              "      <td>1.0</td>\n",
              "      <td>0.0</td>\n",
              "      <td>...</td>\n",
              "      <td>0.0</td>\n",
              "      <td>0.0</td>\n",
              "      <td>0.0</td>\n",
              "      <td>0.0</td>\n",
              "      <td>0.0</td>\n",
              "      <td>1.0</td>\n",
              "      <td>0.0</td>\n",
              "      <td>0.0</td>\n",
              "      <td>0.0</td>\n",
              "      <td>0.0</td>\n",
              "    </tr>\n",
              "    <tr>\n",
              "      <th>433111</th>\n",
              "      <td>30</td>\n",
              "      <td>2</td>\n",
              "      <td>20</td>\n",
              "      <td>41.838567</td>\n",
              "      <td>-87.609722</td>\n",
              "      <td>56.0</td>\n",
              "      <td>0.0</td>\n",
              "      <td>0.0</td>\n",
              "      <td>1.0</td>\n",
              "      <td>0.0</td>\n",
              "      <td>...</td>\n",
              "      <td>0.0</td>\n",
              "      <td>0.0</td>\n",
              "      <td>0.0</td>\n",
              "      <td>0.0</td>\n",
              "      <td>0.0</td>\n",
              "      <td>0.0</td>\n",
              "      <td>0.0</td>\n",
              "      <td>0.0</td>\n",
              "      <td>0.0</td>\n",
              "      <td>0.0</td>\n",
              "    </tr>\n",
              "    <tr>\n",
              "      <th>477277</th>\n",
              "      <td>30</td>\n",
              "      <td>2</td>\n",
              "      <td>15</td>\n",
              "      <td>41.684110</td>\n",
              "      <td>-87.717807</td>\n",
              "      <td>39.0</td>\n",
              "      <td>0.0</td>\n",
              "      <td>0.0</td>\n",
              "      <td>1.0</td>\n",
              "      <td>0.0</td>\n",
              "      <td>...</td>\n",
              "      <td>0.0</td>\n",
              "      <td>0.0</td>\n",
              "      <td>0.0</td>\n",
              "      <td>0.0</td>\n",
              "      <td>0.0</td>\n",
              "      <td>0.0</td>\n",
              "      <td>1.0</td>\n",
              "      <td>0.0</td>\n",
              "      <td>0.0</td>\n",
              "      <td>0.0</td>\n",
              "    </tr>\n",
              "  </tbody>\n",
              "</table>\n",
              "<p>5 rows × 69 columns</p>\n",
              "</div>\n",
              "    <div class=\"colab-df-buttons\">\n",
              "\n",
              "  <div class=\"colab-df-container\">\n",
              "    <button class=\"colab-df-convert\" onclick=\"convertToInteractive('df-4f70dfd7-472d-4562-b8d4-af91057f0773')\"\n",
              "            title=\"Convert this dataframe to an interactive table.\"\n",
              "            style=\"display:none;\">\n",
              "\n",
              "  <svg xmlns=\"http://www.w3.org/2000/svg\" height=\"24px\" viewBox=\"0 -960 960 960\">\n",
              "    <path d=\"M120-120v-720h720v720H120Zm60-500h600v-160H180v160Zm220 220h160v-160H400v160Zm0 220h160v-160H400v160ZM180-400h160v-160H180v160Zm440 0h160v-160H620v160ZM180-180h160v-160H180v160Zm440 0h160v-160H620v160Z\"/>\n",
              "  </svg>\n",
              "    </button>\n",
              "\n",
              "  <style>\n",
              "    .colab-df-container {\n",
              "      display:flex;\n",
              "      gap: 12px;\n",
              "    }\n",
              "\n",
              "    .colab-df-convert {\n",
              "      background-color: #E8F0FE;\n",
              "      border: none;\n",
              "      border-radius: 50%;\n",
              "      cursor: pointer;\n",
              "      display: none;\n",
              "      fill: #1967D2;\n",
              "      height: 32px;\n",
              "      padding: 0 0 0 0;\n",
              "      width: 32px;\n",
              "    }\n",
              "\n",
              "    .colab-df-convert:hover {\n",
              "      background-color: #E2EBFA;\n",
              "      box-shadow: 0px 1px 2px rgba(60, 64, 67, 0.3), 0px 1px 3px 1px rgba(60, 64, 67, 0.15);\n",
              "      fill: #174EA6;\n",
              "    }\n",
              "\n",
              "    .colab-df-buttons div {\n",
              "      margin-bottom: 4px;\n",
              "    }\n",
              "\n",
              "    [theme=dark] .colab-df-convert {\n",
              "      background-color: #3B4455;\n",
              "      fill: #D2E3FC;\n",
              "    }\n",
              "\n",
              "    [theme=dark] .colab-df-convert:hover {\n",
              "      background-color: #434B5C;\n",
              "      box-shadow: 0px 1px 3px 1px rgba(0, 0, 0, 0.15);\n",
              "      filter: drop-shadow(0px 1px 2px rgba(0, 0, 0, 0.3));\n",
              "      fill: #FFFFFF;\n",
              "    }\n",
              "  </style>\n",
              "\n",
              "    <script>\n",
              "      const buttonEl =\n",
              "        document.querySelector('#df-4f70dfd7-472d-4562-b8d4-af91057f0773 button.colab-df-convert');\n",
              "      buttonEl.style.display =\n",
              "        google.colab.kernel.accessAllowed ? 'block' : 'none';\n",
              "\n",
              "      async function convertToInteractive(key) {\n",
              "        const element = document.querySelector('#df-4f70dfd7-472d-4562-b8d4-af91057f0773');\n",
              "        const dataTable =\n",
              "          await google.colab.kernel.invokeFunction('convertToInteractive',\n",
              "                                                    [key], {});\n",
              "        if (!dataTable) return;\n",
              "\n",
              "        const docLinkHtml = 'Like what you see? Visit the ' +\n",
              "          '<a target=\"_blank\" href=https://colab.research.google.com/notebooks/data_table.ipynb>data table notebook</a>'\n",
              "          + ' to learn more about interactive tables.';\n",
              "        element.innerHTML = '';\n",
              "        dataTable['output_type'] = 'display_data';\n",
              "        await google.colab.output.renderOutput(dataTable, element);\n",
              "        const docLink = document.createElement('div');\n",
              "        docLink.innerHTML = docLinkHtml;\n",
              "        element.appendChild(docLink);\n",
              "      }\n",
              "    </script>\n",
              "  </div>\n",
              "\n",
              "\n",
              "<div id=\"df-100c2716-55b0-4646-9ab7-45997ba42f23\">\n",
              "  <button class=\"colab-df-quickchart\" onclick=\"quickchart('df-100c2716-55b0-4646-9ab7-45997ba42f23')\"\n",
              "            title=\"Suggest charts\"\n",
              "            style=\"display:none;\">\n",
              "\n",
              "<svg xmlns=\"http://www.w3.org/2000/svg\" height=\"24px\"viewBox=\"0 0 24 24\"\n",
              "     width=\"24px\">\n",
              "    <g>\n",
              "        <path d=\"M19 3H5c-1.1 0-2 .9-2 2v14c0 1.1.9 2 2 2h14c1.1 0 2-.9 2-2V5c0-1.1-.9-2-2-2zM9 17H7v-7h2v7zm4 0h-2V7h2v10zm4 0h-2v-4h2v4z\"/>\n",
              "    </g>\n",
              "</svg>\n",
              "  </button>\n",
              "\n",
              "<style>\n",
              "  .colab-df-quickchart {\n",
              "      --bg-color: #E8F0FE;\n",
              "      --fill-color: #1967D2;\n",
              "      --hover-bg-color: #E2EBFA;\n",
              "      --hover-fill-color: #174EA6;\n",
              "      --disabled-fill-color: #AAA;\n",
              "      --disabled-bg-color: #DDD;\n",
              "  }\n",
              "\n",
              "  [theme=dark] .colab-df-quickchart {\n",
              "      --bg-color: #3B4455;\n",
              "      --fill-color: #D2E3FC;\n",
              "      --hover-bg-color: #434B5C;\n",
              "      --hover-fill-color: #FFFFFF;\n",
              "      --disabled-bg-color: #3B4455;\n",
              "      --disabled-fill-color: #666;\n",
              "  }\n",
              "\n",
              "  .colab-df-quickchart {\n",
              "    background-color: var(--bg-color);\n",
              "    border: none;\n",
              "    border-radius: 50%;\n",
              "    cursor: pointer;\n",
              "    display: none;\n",
              "    fill: var(--fill-color);\n",
              "    height: 32px;\n",
              "    padding: 0;\n",
              "    width: 32px;\n",
              "  }\n",
              "\n",
              "  .colab-df-quickchart:hover {\n",
              "    background-color: var(--hover-bg-color);\n",
              "    box-shadow: 0 1px 2px rgba(60, 64, 67, 0.3), 0 1px 3px 1px rgba(60, 64, 67, 0.15);\n",
              "    fill: var(--button-hover-fill-color);\n",
              "  }\n",
              "\n",
              "  .colab-df-quickchart-complete:disabled,\n",
              "  .colab-df-quickchart-complete:disabled:hover {\n",
              "    background-color: var(--disabled-bg-color);\n",
              "    fill: var(--disabled-fill-color);\n",
              "    box-shadow: none;\n",
              "  }\n",
              "\n",
              "  .colab-df-spinner {\n",
              "    border: 2px solid var(--fill-color);\n",
              "    border-color: transparent;\n",
              "    border-bottom-color: var(--fill-color);\n",
              "    animation:\n",
              "      spin 1s steps(1) infinite;\n",
              "  }\n",
              "\n",
              "  @keyframes spin {\n",
              "    0% {\n",
              "      border-color: transparent;\n",
              "      border-bottom-color: var(--fill-color);\n",
              "      border-left-color: var(--fill-color);\n",
              "    }\n",
              "    20% {\n",
              "      border-color: transparent;\n",
              "      border-left-color: var(--fill-color);\n",
              "      border-top-color: var(--fill-color);\n",
              "    }\n",
              "    30% {\n",
              "      border-color: transparent;\n",
              "      border-left-color: var(--fill-color);\n",
              "      border-top-color: var(--fill-color);\n",
              "      border-right-color: var(--fill-color);\n",
              "    }\n",
              "    40% {\n",
              "      border-color: transparent;\n",
              "      border-right-color: var(--fill-color);\n",
              "      border-top-color: var(--fill-color);\n",
              "    }\n",
              "    60% {\n",
              "      border-color: transparent;\n",
              "      border-right-color: var(--fill-color);\n",
              "    }\n",
              "    80% {\n",
              "      border-color: transparent;\n",
              "      border-right-color: var(--fill-color);\n",
              "      border-bottom-color: var(--fill-color);\n",
              "    }\n",
              "    90% {\n",
              "      border-color: transparent;\n",
              "      border-bottom-color: var(--fill-color);\n",
              "    }\n",
              "  }\n",
              "</style>\n",
              "\n",
              "  <script>\n",
              "    async function quickchart(key) {\n",
              "      const quickchartButtonEl =\n",
              "        document.querySelector('#' + key + ' button');\n",
              "      quickchartButtonEl.disabled = true;  // To prevent multiple clicks.\n",
              "      quickchartButtonEl.classList.add('colab-df-spinner');\n",
              "      try {\n",
              "        const charts = await google.colab.kernel.invokeFunction(\n",
              "            'suggestCharts', [key], {});\n",
              "      } catch (error) {\n",
              "        console.error('Error during call to suggestCharts:', error);\n",
              "      }\n",
              "      quickchartButtonEl.classList.remove('colab-df-spinner');\n",
              "      quickchartButtonEl.classList.add('colab-df-quickchart-complete');\n",
              "    }\n",
              "    (() => {\n",
              "      let quickchartButtonEl =\n",
              "        document.querySelector('#df-100c2716-55b0-4646-9ab7-45997ba42f23 button');\n",
              "      quickchartButtonEl.style.display =\n",
              "        google.colab.kernel.accessAllowed ? 'block' : 'none';\n",
              "    })();\n",
              "  </script>\n",
              "</div>\n",
              "\n",
              "    </div>\n",
              "  </div>\n"
            ],
            "application/vnd.google.colaboratory.intrinsic+json": {
              "type": "dataframe",
              "variable_name": "X_train_nonstandardized"
            }
          },
          "metadata": {},
          "execution_count": 76
        }
      ],
      "source": [
        "X_train_nonstandardized = pd.concat([X_train_numeric, X_train_categorical_ohe], axis=1)\n",
        "X_train_nonstandardized.head()"
      ]
    },
    {
      "cell_type": "code",
      "execution_count": 77,
      "metadata": {
        "colab": {
          "base_uri": "https://localhost:8080/",
          "height": 117
        },
        "id": "-a3b-J445jIK",
        "outputId": "85fd05b9-120b-42e3-dd71-5d7253639df2"
      },
      "outputs": [
        {
          "output_type": "execute_result",
          "data": {
            "text/plain": [
              "GridSearchCV(cv=5, estimator=RandomForestClassifier(random_state=210),\n",
              "             param_grid={'criterion': ['entropy'], 'max_depth': [None, 4],\n",
              "                         'min_samples_split': [10], 'n_estimators': [5, 10]},\n",
              "             return_train_score=True, scoring=make_scorer(f1_score))"
            ],
            "text/html": [
              "<style>#sk-container-id-2 {color: black;background-color: white;}#sk-container-id-2 pre{padding: 0;}#sk-container-id-2 div.sk-toggleable {background-color: white;}#sk-container-id-2 label.sk-toggleable__label {cursor: pointer;display: block;width: 100%;margin-bottom: 0;padding: 0.3em;box-sizing: border-box;text-align: center;}#sk-container-id-2 label.sk-toggleable__label-arrow:before {content: \"▸\";float: left;margin-right: 0.25em;color: #696969;}#sk-container-id-2 label.sk-toggleable__label-arrow:hover:before {color: black;}#sk-container-id-2 div.sk-estimator:hover label.sk-toggleable__label-arrow:before {color: black;}#sk-container-id-2 div.sk-toggleable__content {max-height: 0;max-width: 0;overflow: hidden;text-align: left;background-color: #f0f8ff;}#sk-container-id-2 div.sk-toggleable__content pre {margin: 0.2em;color: black;border-radius: 0.25em;background-color: #f0f8ff;}#sk-container-id-2 input.sk-toggleable__control:checked~div.sk-toggleable__content {max-height: 200px;max-width: 100%;overflow: auto;}#sk-container-id-2 input.sk-toggleable__control:checked~label.sk-toggleable__label-arrow:before {content: \"▾\";}#sk-container-id-2 div.sk-estimator input.sk-toggleable__control:checked~label.sk-toggleable__label {background-color: #d4ebff;}#sk-container-id-2 div.sk-label input.sk-toggleable__control:checked~label.sk-toggleable__label {background-color: #d4ebff;}#sk-container-id-2 input.sk-hidden--visually {border: 0;clip: rect(1px 1px 1px 1px);clip: rect(1px, 1px, 1px, 1px);height: 1px;margin: -1px;overflow: hidden;padding: 0;position: absolute;width: 1px;}#sk-container-id-2 div.sk-estimator {font-family: monospace;background-color: #f0f8ff;border: 1px dotted black;border-radius: 0.25em;box-sizing: border-box;margin-bottom: 0.5em;}#sk-container-id-2 div.sk-estimator:hover {background-color: #d4ebff;}#sk-container-id-2 div.sk-parallel-item::after {content: \"\";width: 100%;border-bottom: 1px solid gray;flex-grow: 1;}#sk-container-id-2 div.sk-label:hover label.sk-toggleable__label {background-color: #d4ebff;}#sk-container-id-2 div.sk-serial::before {content: \"\";position: absolute;border-left: 1px solid gray;box-sizing: border-box;top: 0;bottom: 0;left: 50%;z-index: 0;}#sk-container-id-2 div.sk-serial {display: flex;flex-direction: column;align-items: center;background-color: white;padding-right: 0.2em;padding-left: 0.2em;position: relative;}#sk-container-id-2 div.sk-item {position: relative;z-index: 1;}#sk-container-id-2 div.sk-parallel {display: flex;align-items: stretch;justify-content: center;background-color: white;position: relative;}#sk-container-id-2 div.sk-item::before, #sk-container-id-2 div.sk-parallel-item::before {content: \"\";position: absolute;border-left: 1px solid gray;box-sizing: border-box;top: 0;bottom: 0;left: 50%;z-index: -1;}#sk-container-id-2 div.sk-parallel-item {display: flex;flex-direction: column;z-index: 1;position: relative;background-color: white;}#sk-container-id-2 div.sk-parallel-item:first-child::after {align-self: flex-end;width: 50%;}#sk-container-id-2 div.sk-parallel-item:last-child::after {align-self: flex-start;width: 50%;}#sk-container-id-2 div.sk-parallel-item:only-child::after {width: 0;}#sk-container-id-2 div.sk-dashed-wrapped {border: 1px dashed gray;margin: 0 0.4em 0.5em 0.4em;box-sizing: border-box;padding-bottom: 0.4em;background-color: white;}#sk-container-id-2 div.sk-label label {font-family: monospace;font-weight: bold;display: inline-block;line-height: 1.2em;}#sk-container-id-2 div.sk-label-container {text-align: center;}#sk-container-id-2 div.sk-container {/* jupyter's `normalize.less` sets `[hidden] { display: none; }` but bootstrap.min.css set `[hidden] { display: none !important; }` so we also need the `!important` here to be able to override the default hidden behavior on the sphinx rendered scikit-learn.org. See: https://github.com/scikit-learn/scikit-learn/issues/21755 */display: inline-block !important;position: relative;}#sk-container-id-2 div.sk-text-repr-fallback {display: none;}</style><div id=\"sk-container-id-2\" class=\"sk-top-container\"><div class=\"sk-text-repr-fallback\"><pre>GridSearchCV(cv=5, estimator=RandomForestClassifier(random_state=210),\n",
              "             param_grid={&#x27;criterion&#x27;: [&#x27;entropy&#x27;], &#x27;max_depth&#x27;: [None, 4],\n",
              "                         &#x27;min_samples_split&#x27;: [10], &#x27;n_estimators&#x27;: [5, 10]},\n",
              "             return_train_score=True, scoring=make_scorer(f1_score))</pre><b>In a Jupyter environment, please rerun this cell to show the HTML representation or trust the notebook. <br />On GitHub, the HTML representation is unable to render, please try loading this page with nbviewer.org.</b></div><div class=\"sk-container\" hidden><div class=\"sk-item sk-dashed-wrapped\"><div class=\"sk-label-container\"><div class=\"sk-label sk-toggleable\"><input class=\"sk-toggleable__control sk-hidden--visually\" id=\"sk-estimator-id-4\" type=\"checkbox\" ><label for=\"sk-estimator-id-4\" class=\"sk-toggleable__label sk-toggleable__label-arrow\">GridSearchCV</label><div class=\"sk-toggleable__content\"><pre>GridSearchCV(cv=5, estimator=RandomForestClassifier(random_state=210),\n",
              "             param_grid={&#x27;criterion&#x27;: [&#x27;entropy&#x27;], &#x27;max_depth&#x27;: [None, 4],\n",
              "                         &#x27;min_samples_split&#x27;: [10], &#x27;n_estimators&#x27;: [5, 10]},\n",
              "             return_train_score=True, scoring=make_scorer(f1_score))</pre></div></div></div><div class=\"sk-parallel\"><div class=\"sk-parallel-item\"><div class=\"sk-item\"><div class=\"sk-label-container\"><div class=\"sk-label sk-toggleable\"><input class=\"sk-toggleable__control sk-hidden--visually\" id=\"sk-estimator-id-5\" type=\"checkbox\" ><label for=\"sk-estimator-id-5\" class=\"sk-toggleable__label sk-toggleable__label-arrow\">estimator: RandomForestClassifier</label><div class=\"sk-toggleable__content\"><pre>RandomForestClassifier(random_state=210)</pre></div></div></div><div class=\"sk-serial\"><div class=\"sk-item\"><div class=\"sk-estimator sk-toggleable\"><input class=\"sk-toggleable__control sk-hidden--visually\" id=\"sk-estimator-id-6\" type=\"checkbox\" ><label for=\"sk-estimator-id-6\" class=\"sk-toggleable__label sk-toggleable__label-arrow\">RandomForestClassifier</label><div class=\"sk-toggleable__content\"><pre>RandomForestClassifier(random_state=210)</pre></div></div></div></div></div></div></div></div></div></div>"
            ]
          },
          "metadata": {},
          "execution_count": 77
        }
      ],
      "source": [
        "from sklearn.ensemble import RandomForestClassifier\n",
        "from sklearn.metrics import f1_score, make_scorer\n",
        "from sklearn.model_selection import GridSearchCV\n",
        "\n",
        "#instantiating the random forest classifier\n",
        "forest = RandomForestClassifier(random_state=210)\n",
        "\n",
        "#Since this dataset has target class imbalance, let's\n",
        "# evaluate its performance via an f1 score instead of the\n",
        "# default accuracy.\n",
        "f1 = make_scorer(f1_score)\n",
        "\n",
        "#establishing a parameter grid for GridSearchCV\n",
        "rf_param_grid = {'n_estimators':[5, 10],\n",
        "                 'criterion':['entropy'],\n",
        "                 'max_depth':[None, 4],\n",
        "                 'min_samples_split':[10]}\n",
        "\n",
        "#instantiating GridSearchCV\n",
        "rf_grid_search = GridSearchCV(forest,\n",
        "                              rf_param_grid,\n",
        "                              cv=5,\n",
        "                              return_train_score=True,\n",
        "                              scoring=f1)\n",
        "\n",
        "#fitting the GridSearch to the training data\n",
        "rf_grid_search.fit(X_train_nonstandardized, y_train)"
      ]
    },
    {
      "cell_type": "markdown",
      "metadata": {
        "id": "Ohdiw8SbRJuF"
      },
      "source": [
        "Before we can evaluate this random forest grid search on testing data, we have to perform one-hot encoding on X_test while refraining from standardizing its numerical columns in order to have an apples-to-apples evaluation."
      ]
    },
    {
      "cell_type": "code",
      "execution_count": 78,
      "metadata": {
        "colab": {
          "base_uri": "https://localhost:8080/",
          "height": 273
        },
        "id": "Vo7fCEASRHs3",
        "outputId": "da990f89-e1e6-4565-ca81-50f104e1a857"
      },
      "outputs": [
        {
          "output_type": "execute_result",
          "data": {
            "text/plain": [
              "        POSTED_SPEED_LIMIT  NUM_UNITS  CRASH_HOUR   LATITUDE  LONGITUDE   AGE  \\\n",
              "713656                  30          2           4  41.909357 -87.776124  59.0   \n",
              "558302                  30          2          15  41.909271 -87.766971  68.0   \n",
              "414872                  25          2          18  41.968622 -87.680912  81.0   \n",
              "697843                  30          4          18  41.816404 -87.684794  34.0   \n",
              "306513                  30          2          16  41.816395 -87.631340  41.0   \n",
              "\n",
              "        WEATHER_CONDITION_BLOWING SAND, SOIL, DIRT  \\\n",
              "713656                                         0.0   \n",
              "558302                                         0.0   \n",
              "414872                                         0.0   \n",
              "697843                                         0.0   \n",
              "306513                                         0.0   \n",
              "\n",
              "        WEATHER_CONDITION_BLOWING SNOW  WEATHER_CONDITION_CLEAR  \\\n",
              "713656                             0.0                      1.0   \n",
              "558302                             0.0                      1.0   \n",
              "414872                             0.0                      1.0   \n",
              "697843                             0.0                      1.0   \n",
              "306513                             0.0                      1.0   \n",
              "\n",
              "        WEATHER_CONDITION_CLOUDY/OVERCAST  ...  \\\n",
              "713656                                0.0  ...   \n",
              "558302                                0.0  ...   \n",
              "414872                                0.0  ...   \n",
              "697843                                0.0  ...   \n",
              "306513                                0.0  ...   \n",
              "\n",
              "        MANEUVER_SKIDDING/CONTROL LOSS  MANEUVER_SLOW/STOP - LEFT TURN  \\\n",
              "713656                             0.0                             0.0   \n",
              "558302                             0.0                             0.0   \n",
              "414872                             0.0                             0.0   \n",
              "697843                             0.0                             0.0   \n",
              "306513                             0.0                             0.0   \n",
              "\n",
              "        MANEUVER_SLOW/STOP - LOAD/UNLOAD  MANEUVER_SLOW/STOP - RIGHT TURN  \\\n",
              "713656                               0.0                              0.0   \n",
              "558302                               0.0                              0.0   \n",
              "414872                               0.0                              0.0   \n",
              "697843                               0.0                              0.0   \n",
              "306513                               0.0                              0.0   \n",
              "\n",
              "        MANEUVER_SLOW/STOP IN TRAFFIC  MANEUVER_STARTING IN TRAFFIC  \\\n",
              "713656                            0.0                           0.0   \n",
              "558302                            0.0                           0.0   \n",
              "414872                            0.0                           0.0   \n",
              "697843                            0.0                           0.0   \n",
              "306513                            0.0                           0.0   \n",
              "\n",
              "        MANEUVER_STRAIGHT AHEAD  MANEUVER_TURNING LEFT  \\\n",
              "713656                      1.0                    0.0   \n",
              "558302                      0.0                    0.0   \n",
              "414872                      1.0                    0.0   \n",
              "697843                      1.0                    0.0   \n",
              "306513                      1.0                    0.0   \n",
              "\n",
              "        MANEUVER_TURNING RIGHT  MANEUVER_U-TURN  \n",
              "713656                     0.0              0.0  \n",
              "558302                     1.0              0.0  \n",
              "414872                     0.0              0.0  \n",
              "697843                     0.0              0.0  \n",
              "306513                     0.0              0.0  \n",
              "\n",
              "[5 rows x 69 columns]"
            ],
            "text/html": [
              "\n",
              "  <div id=\"df-7d286c90-c667-44dc-bce4-fe25a2cd729c\" class=\"colab-df-container\">\n",
              "    <div>\n",
              "<style scoped>\n",
              "    .dataframe tbody tr th:only-of-type {\n",
              "        vertical-align: middle;\n",
              "    }\n",
              "\n",
              "    .dataframe tbody tr th {\n",
              "        vertical-align: top;\n",
              "    }\n",
              "\n",
              "    .dataframe thead th {\n",
              "        text-align: right;\n",
              "    }\n",
              "</style>\n",
              "<table border=\"1\" class=\"dataframe\">\n",
              "  <thead>\n",
              "    <tr style=\"text-align: right;\">\n",
              "      <th></th>\n",
              "      <th>POSTED_SPEED_LIMIT</th>\n",
              "      <th>NUM_UNITS</th>\n",
              "      <th>CRASH_HOUR</th>\n",
              "      <th>LATITUDE</th>\n",
              "      <th>LONGITUDE</th>\n",
              "      <th>AGE</th>\n",
              "      <th>WEATHER_CONDITION_BLOWING SAND, SOIL, DIRT</th>\n",
              "      <th>WEATHER_CONDITION_BLOWING SNOW</th>\n",
              "      <th>WEATHER_CONDITION_CLEAR</th>\n",
              "      <th>WEATHER_CONDITION_CLOUDY/OVERCAST</th>\n",
              "      <th>...</th>\n",
              "      <th>MANEUVER_SKIDDING/CONTROL LOSS</th>\n",
              "      <th>MANEUVER_SLOW/STOP - LEFT TURN</th>\n",
              "      <th>MANEUVER_SLOW/STOP - LOAD/UNLOAD</th>\n",
              "      <th>MANEUVER_SLOW/STOP - RIGHT TURN</th>\n",
              "      <th>MANEUVER_SLOW/STOP IN TRAFFIC</th>\n",
              "      <th>MANEUVER_STARTING IN TRAFFIC</th>\n",
              "      <th>MANEUVER_STRAIGHT AHEAD</th>\n",
              "      <th>MANEUVER_TURNING LEFT</th>\n",
              "      <th>MANEUVER_TURNING RIGHT</th>\n",
              "      <th>MANEUVER_U-TURN</th>\n",
              "    </tr>\n",
              "  </thead>\n",
              "  <tbody>\n",
              "    <tr>\n",
              "      <th>713656</th>\n",
              "      <td>30</td>\n",
              "      <td>2</td>\n",
              "      <td>4</td>\n",
              "      <td>41.909357</td>\n",
              "      <td>-87.776124</td>\n",
              "      <td>59.0</td>\n",
              "      <td>0.0</td>\n",
              "      <td>0.0</td>\n",
              "      <td>1.0</td>\n",
              "      <td>0.0</td>\n",
              "      <td>...</td>\n",
              "      <td>0.0</td>\n",
              "      <td>0.0</td>\n",
              "      <td>0.0</td>\n",
              "      <td>0.0</td>\n",
              "      <td>0.0</td>\n",
              "      <td>0.0</td>\n",
              "      <td>1.0</td>\n",
              "      <td>0.0</td>\n",
              "      <td>0.0</td>\n",
              "      <td>0.0</td>\n",
              "    </tr>\n",
              "    <tr>\n",
              "      <th>558302</th>\n",
              "      <td>30</td>\n",
              "      <td>2</td>\n",
              "      <td>15</td>\n",
              "      <td>41.909271</td>\n",
              "      <td>-87.766971</td>\n",
              "      <td>68.0</td>\n",
              "      <td>0.0</td>\n",
              "      <td>0.0</td>\n",
              "      <td>1.0</td>\n",
              "      <td>0.0</td>\n",
              "      <td>...</td>\n",
              "      <td>0.0</td>\n",
              "      <td>0.0</td>\n",
              "      <td>0.0</td>\n",
              "      <td>0.0</td>\n",
              "      <td>0.0</td>\n",
              "      <td>0.0</td>\n",
              "      <td>0.0</td>\n",
              "      <td>0.0</td>\n",
              "      <td>1.0</td>\n",
              "      <td>0.0</td>\n",
              "    </tr>\n",
              "    <tr>\n",
              "      <th>414872</th>\n",
              "      <td>25</td>\n",
              "      <td>2</td>\n",
              "      <td>18</td>\n",
              "      <td>41.968622</td>\n",
              "      <td>-87.680912</td>\n",
              "      <td>81.0</td>\n",
              "      <td>0.0</td>\n",
              "      <td>0.0</td>\n",
              "      <td>1.0</td>\n",
              "      <td>0.0</td>\n",
              "      <td>...</td>\n",
              "      <td>0.0</td>\n",
              "      <td>0.0</td>\n",
              "      <td>0.0</td>\n",
              "      <td>0.0</td>\n",
              "      <td>0.0</td>\n",
              "      <td>0.0</td>\n",
              "      <td>1.0</td>\n",
              "      <td>0.0</td>\n",
              "      <td>0.0</td>\n",
              "      <td>0.0</td>\n",
              "    </tr>\n",
              "    <tr>\n",
              "      <th>697843</th>\n",
              "      <td>30</td>\n",
              "      <td>4</td>\n",
              "      <td>18</td>\n",
              "      <td>41.816404</td>\n",
              "      <td>-87.684794</td>\n",
              "      <td>34.0</td>\n",
              "      <td>0.0</td>\n",
              "      <td>0.0</td>\n",
              "      <td>1.0</td>\n",
              "      <td>0.0</td>\n",
              "      <td>...</td>\n",
              "      <td>0.0</td>\n",
              "      <td>0.0</td>\n",
              "      <td>0.0</td>\n",
              "      <td>0.0</td>\n",
              "      <td>0.0</td>\n",
              "      <td>0.0</td>\n",
              "      <td>1.0</td>\n",
              "      <td>0.0</td>\n",
              "      <td>0.0</td>\n",
              "      <td>0.0</td>\n",
              "    </tr>\n",
              "    <tr>\n",
              "      <th>306513</th>\n",
              "      <td>30</td>\n",
              "      <td>2</td>\n",
              "      <td>16</td>\n",
              "      <td>41.816395</td>\n",
              "      <td>-87.631340</td>\n",
              "      <td>41.0</td>\n",
              "      <td>0.0</td>\n",
              "      <td>0.0</td>\n",
              "      <td>1.0</td>\n",
              "      <td>0.0</td>\n",
              "      <td>...</td>\n",
              "      <td>0.0</td>\n",
              "      <td>0.0</td>\n",
              "      <td>0.0</td>\n",
              "      <td>0.0</td>\n",
              "      <td>0.0</td>\n",
              "      <td>0.0</td>\n",
              "      <td>1.0</td>\n",
              "      <td>0.0</td>\n",
              "      <td>0.0</td>\n",
              "      <td>0.0</td>\n",
              "    </tr>\n",
              "  </tbody>\n",
              "</table>\n",
              "<p>5 rows × 69 columns</p>\n",
              "</div>\n",
              "    <div class=\"colab-df-buttons\">\n",
              "\n",
              "  <div class=\"colab-df-container\">\n",
              "    <button class=\"colab-df-convert\" onclick=\"convertToInteractive('df-7d286c90-c667-44dc-bce4-fe25a2cd729c')\"\n",
              "            title=\"Convert this dataframe to an interactive table.\"\n",
              "            style=\"display:none;\">\n",
              "\n",
              "  <svg xmlns=\"http://www.w3.org/2000/svg\" height=\"24px\" viewBox=\"0 -960 960 960\">\n",
              "    <path d=\"M120-120v-720h720v720H120Zm60-500h600v-160H180v160Zm220 220h160v-160H400v160Zm0 220h160v-160H400v160ZM180-400h160v-160H180v160Zm440 0h160v-160H620v160ZM180-180h160v-160H180v160Zm440 0h160v-160H620v160Z\"/>\n",
              "  </svg>\n",
              "    </button>\n",
              "\n",
              "  <style>\n",
              "    .colab-df-container {\n",
              "      display:flex;\n",
              "      gap: 12px;\n",
              "    }\n",
              "\n",
              "    .colab-df-convert {\n",
              "      background-color: #E8F0FE;\n",
              "      border: none;\n",
              "      border-radius: 50%;\n",
              "      cursor: pointer;\n",
              "      display: none;\n",
              "      fill: #1967D2;\n",
              "      height: 32px;\n",
              "      padding: 0 0 0 0;\n",
              "      width: 32px;\n",
              "    }\n",
              "\n",
              "    .colab-df-convert:hover {\n",
              "      background-color: #E2EBFA;\n",
              "      box-shadow: 0px 1px 2px rgba(60, 64, 67, 0.3), 0px 1px 3px 1px rgba(60, 64, 67, 0.15);\n",
              "      fill: #174EA6;\n",
              "    }\n",
              "\n",
              "    .colab-df-buttons div {\n",
              "      margin-bottom: 4px;\n",
              "    }\n",
              "\n",
              "    [theme=dark] .colab-df-convert {\n",
              "      background-color: #3B4455;\n",
              "      fill: #D2E3FC;\n",
              "    }\n",
              "\n",
              "    [theme=dark] .colab-df-convert:hover {\n",
              "      background-color: #434B5C;\n",
              "      box-shadow: 0px 1px 3px 1px rgba(0, 0, 0, 0.15);\n",
              "      filter: drop-shadow(0px 1px 2px rgba(0, 0, 0, 0.3));\n",
              "      fill: #FFFFFF;\n",
              "    }\n",
              "  </style>\n",
              "\n",
              "    <script>\n",
              "      const buttonEl =\n",
              "        document.querySelector('#df-7d286c90-c667-44dc-bce4-fe25a2cd729c button.colab-df-convert');\n",
              "      buttonEl.style.display =\n",
              "        google.colab.kernel.accessAllowed ? 'block' : 'none';\n",
              "\n",
              "      async function convertToInteractive(key) {\n",
              "        const element = document.querySelector('#df-7d286c90-c667-44dc-bce4-fe25a2cd729c');\n",
              "        const dataTable =\n",
              "          await google.colab.kernel.invokeFunction('convertToInteractive',\n",
              "                                                    [key], {});\n",
              "        if (!dataTable) return;\n",
              "\n",
              "        const docLinkHtml = 'Like what you see? Visit the ' +\n",
              "          '<a target=\"_blank\" href=https://colab.research.google.com/notebooks/data_table.ipynb>data table notebook</a>'\n",
              "          + ' to learn more about interactive tables.';\n",
              "        element.innerHTML = '';\n",
              "        dataTable['output_type'] = 'display_data';\n",
              "        await google.colab.output.renderOutput(dataTable, element);\n",
              "        const docLink = document.createElement('div');\n",
              "        docLink.innerHTML = docLinkHtml;\n",
              "        element.appendChild(docLink);\n",
              "      }\n",
              "    </script>\n",
              "  </div>\n",
              "\n",
              "\n",
              "<div id=\"df-0f8a5cfe-e6f4-4cfe-b6fb-1beb648b1cc6\">\n",
              "  <button class=\"colab-df-quickchart\" onclick=\"quickchart('df-0f8a5cfe-e6f4-4cfe-b6fb-1beb648b1cc6')\"\n",
              "            title=\"Suggest charts\"\n",
              "            style=\"display:none;\">\n",
              "\n",
              "<svg xmlns=\"http://www.w3.org/2000/svg\" height=\"24px\"viewBox=\"0 0 24 24\"\n",
              "     width=\"24px\">\n",
              "    <g>\n",
              "        <path d=\"M19 3H5c-1.1 0-2 .9-2 2v14c0 1.1.9 2 2 2h14c1.1 0 2-.9 2-2V5c0-1.1-.9-2-2-2zM9 17H7v-7h2v7zm4 0h-2V7h2v10zm4 0h-2v-4h2v4z\"/>\n",
              "    </g>\n",
              "</svg>\n",
              "  </button>\n",
              "\n",
              "<style>\n",
              "  .colab-df-quickchart {\n",
              "      --bg-color: #E8F0FE;\n",
              "      --fill-color: #1967D2;\n",
              "      --hover-bg-color: #E2EBFA;\n",
              "      --hover-fill-color: #174EA6;\n",
              "      --disabled-fill-color: #AAA;\n",
              "      --disabled-bg-color: #DDD;\n",
              "  }\n",
              "\n",
              "  [theme=dark] .colab-df-quickchart {\n",
              "      --bg-color: #3B4455;\n",
              "      --fill-color: #D2E3FC;\n",
              "      --hover-bg-color: #434B5C;\n",
              "      --hover-fill-color: #FFFFFF;\n",
              "      --disabled-bg-color: #3B4455;\n",
              "      --disabled-fill-color: #666;\n",
              "  }\n",
              "\n",
              "  .colab-df-quickchart {\n",
              "    background-color: var(--bg-color);\n",
              "    border: none;\n",
              "    border-radius: 50%;\n",
              "    cursor: pointer;\n",
              "    display: none;\n",
              "    fill: var(--fill-color);\n",
              "    height: 32px;\n",
              "    padding: 0;\n",
              "    width: 32px;\n",
              "  }\n",
              "\n",
              "  .colab-df-quickchart:hover {\n",
              "    background-color: var(--hover-bg-color);\n",
              "    box-shadow: 0 1px 2px rgba(60, 64, 67, 0.3), 0 1px 3px 1px rgba(60, 64, 67, 0.15);\n",
              "    fill: var(--button-hover-fill-color);\n",
              "  }\n",
              "\n",
              "  .colab-df-quickchart-complete:disabled,\n",
              "  .colab-df-quickchart-complete:disabled:hover {\n",
              "    background-color: var(--disabled-bg-color);\n",
              "    fill: var(--disabled-fill-color);\n",
              "    box-shadow: none;\n",
              "  }\n",
              "\n",
              "  .colab-df-spinner {\n",
              "    border: 2px solid var(--fill-color);\n",
              "    border-color: transparent;\n",
              "    border-bottom-color: var(--fill-color);\n",
              "    animation:\n",
              "      spin 1s steps(1) infinite;\n",
              "  }\n",
              "\n",
              "  @keyframes spin {\n",
              "    0% {\n",
              "      border-color: transparent;\n",
              "      border-bottom-color: var(--fill-color);\n",
              "      border-left-color: var(--fill-color);\n",
              "    }\n",
              "    20% {\n",
              "      border-color: transparent;\n",
              "      border-left-color: var(--fill-color);\n",
              "      border-top-color: var(--fill-color);\n",
              "    }\n",
              "    30% {\n",
              "      border-color: transparent;\n",
              "      border-left-color: var(--fill-color);\n",
              "      border-top-color: var(--fill-color);\n",
              "      border-right-color: var(--fill-color);\n",
              "    }\n",
              "    40% {\n",
              "      border-color: transparent;\n",
              "      border-right-color: var(--fill-color);\n",
              "      border-top-color: var(--fill-color);\n",
              "    }\n",
              "    60% {\n",
              "      border-color: transparent;\n",
              "      border-right-color: var(--fill-color);\n",
              "    }\n",
              "    80% {\n",
              "      border-color: transparent;\n",
              "      border-right-color: var(--fill-color);\n",
              "      border-bottom-color: var(--fill-color);\n",
              "    }\n",
              "    90% {\n",
              "      border-color: transparent;\n",
              "      border-bottom-color: var(--fill-color);\n",
              "    }\n",
              "  }\n",
              "</style>\n",
              "\n",
              "  <script>\n",
              "    async function quickchart(key) {\n",
              "      const quickchartButtonEl =\n",
              "        document.querySelector('#' + key + ' button');\n",
              "      quickchartButtonEl.disabled = true;  // To prevent multiple clicks.\n",
              "      quickchartButtonEl.classList.add('colab-df-spinner');\n",
              "      try {\n",
              "        const charts = await google.colab.kernel.invokeFunction(\n",
              "            'suggestCharts', [key], {});\n",
              "      } catch (error) {\n",
              "        console.error('Error during call to suggestCharts:', error);\n",
              "      }\n",
              "      quickchartButtonEl.classList.remove('colab-df-spinner');\n",
              "      quickchartButtonEl.classList.add('colab-df-quickchart-complete');\n",
              "    }\n",
              "    (() => {\n",
              "      let quickchartButtonEl =\n",
              "        document.querySelector('#df-0f8a5cfe-e6f4-4cfe-b6fb-1beb648b1cc6 button');\n",
              "      quickchartButtonEl.style.display =\n",
              "        google.colab.kernel.accessAllowed ? 'block' : 'none';\n",
              "    })();\n",
              "  </script>\n",
              "</div>\n",
              "\n",
              "    </div>\n",
              "  </div>\n"
            ],
            "application/vnd.google.colaboratory.intrinsic+json": {
              "type": "dataframe",
              "variable_name": "X_test_nonstandardized"
            }
          },
          "metadata": {},
          "execution_count": 78
        }
      ],
      "source": [
        "#isolating X_test's categorical features\n",
        "X_test_categorical = X_test[categorical_features]\n",
        "#transforming them\n",
        "X_test_categorical_ohe = ohe.transform(X_test_categorical)\n",
        "#putting them back into a DataFrame\n",
        "X_test_categorical_ohe = pd.DataFrame(X_test_categorical_ohe,\n",
        "                                       columns = ohe.get_feature_names_out(),\n",
        "                                       index = X_test_categorical.index)\n",
        "#isolating X_test's numeric data\n",
        "X_test_numeric = X_test[numeric_features]\n",
        "#concatenating the non-standardized numeric data with the one-hot encoded categorical columns\n",
        "X_test_nonstandardized = pd.concat([X_test_numeric, X_test_categorical_ohe], axis=1)\n",
        "#making sure it looks right\n",
        "X_test_nonstandardized.head()"
      ]
    },
    {
      "cell_type": "code",
      "execution_count": 79,
      "metadata": {
        "colab": {
          "base_uri": "https://localhost:8080/"
        },
        "id": "VnLikAQ1-Y9W",
        "outputId": "ab374f42-3876-4022-b137-21abd6e744c7"
      },
      "outputs": [
        {
          "output_type": "stream",
          "name": "stdout",
          "text": [
            "baseline random forest mean training score: 97.08%\n",
            "baseline random forest mean test score: 97.01%\n",
            "baseline random forest optimal parameter combination: {'criterion': 'entropy', 'max_depth': None, 'min_samples_split': 10, 'n_estimators': 10}\n"
          ]
        }
      ],
      "source": [
        "#mean training score\n",
        "rf_grid_search_train_score = rf_grid_search.cv_results_['mean_train_score'].mean()\n",
        "#mean test score\n",
        "rf_grid_search_test_score = rf_grid_search.score(X_test_nonstandardized, y_test)\n",
        "#printing results\n",
        "print(f'baseline random forest mean training score: {rf_grid_search_train_score :.2%}')\n",
        "print(f'baseline random forest mean test score: {rf_grid_search_test_score :.2%}')\n",
        "print(f'baseline random forest optimal parameter combination:', rf_grid_search.best_params_)"
      ]
    },
    {
      "cell_type": "markdown",
      "metadata": {
        "id": "CvT3_lg2jDSj"
      },
      "source": [
        "With a baseline that's been optimized via GridSearchCV in mind, let's (hopefully) further improve on this model by adding in some over/under sampling strategies."
      ]
    },
    {
      "cell_type": "code",
      "execution_count": 80,
      "metadata": {
        "colab": {
          "base_uri": "https://localhost:8080/"
        },
        "id": "6-4Uwbcbp_oy",
        "outputId": "b801e113-a649-499b-c187-1187135246bb"
      },
      "outputs": [
        {
          "output_type": "execute_result",
          "data": {
            "text/plain": [
              "TARGET\n",
              "1    656758\n",
              "0     50994\n",
              "Name: count, dtype: int64"
            ]
          },
          "metadata": {},
          "execution_count": 80
        }
      ],
      "source": [
        "#refresher on current state of y_train's distribution\n",
        "y_train.value_counts()"
      ]
    },
    {
      "cell_type": "code",
      "execution_count": 81,
      "metadata": {
        "colab": {
          "base_uri": "https://localhost:8080/"
        },
        "id": "NS2stSpSTs1s",
        "outputId": "7fdcc118-479b-4749-f06a-b4cc6e6dba64"
      },
      "outputs": [
        {
          "output_type": "stream",
          "name": "stdout",
          "text": [
            "sampling strategies & f1 scores: [('110%:', 0.9706822204535466), ('120%:', 0.971113898018984), ('130%:', 0.9713335732363411), ('140%:', 0.971791964623154), ('150%:', 0.971974252889997)]\n"
          ]
        }
      ],
      "source": [
        "from imblearn.over_sampling import RandomOverSampler\n",
        "from sklearn.metrics import f1_score\n",
        "\n",
        "#defining five over-sampling strategies from 110% to 150% of the\n",
        "# minority target class in increments of 10%:\n",
        "oversampling_strategies = [{0:56038, 1:656758}, {0:61133, 1:656758}, {0:66227, 1:656758}, {0:71321, 1:656758}, {0:76416, 1:656758}]\n",
        "\n",
        "#empty list for f1 scores\n",
        "f1_scores = []\n",
        "\n",
        "#iterate through each sampling strategy\n",
        "for i in oversampling_strategies:\n",
        "    # define oversampling strategy\n",
        "    oversample = RandomOverSampler(random_state=210, sampling_strategy=i)\n",
        "    # fit and apply the oversampling strategy\n",
        "    X_train_nonstandardized_over, y_train_over = oversample.fit_resample(X_train_nonstandardized, y_train)\n",
        "    #instantiate & fit the model to X-over & y-over with previously optimized parameters\n",
        "    forest_oversample_temp = RandomForestClassifier(criterion='entropy',\n",
        "                                    max_depth=None,\n",
        "                                    min_samples_split=10,\n",
        "                                    n_estimators=10)\n",
        "    forest_oversample_temp.fit(X_train_nonstandardized_over, y_train_over)\n",
        "    #make predictions on test set\n",
        "    y_hat = forest_oversample_temp.predict(X_test_nonstandardized)\n",
        "    #find & append f1 score\n",
        "    f1_scores.append(f1_score(y_test, y_hat))\n",
        "\n",
        "oversampling_percentages = ['110%:', '120%:', '130%:', '140%:', '150%:']\n",
        "print(\"sampling strategies & f1 scores:\", list(zip(oversampling_percentages, f1_scores)))"
      ]
    },
    {
      "cell_type": "markdown",
      "metadata": {
        "id": "LCH8DX6is0YH"
      },
      "source": [
        "It looks like over-sampling at 150% works best; let's see whether under-sampling will outperform it."
      ]
    },
    {
      "cell_type": "code",
      "execution_count": 82,
      "metadata": {
        "colab": {
          "base_uri": "https://localhost:8080/"
        },
        "id": "6ERCYGo6sfQZ",
        "outputId": "85a4090f-3e7c-4b2c-9c45-5141a09a75e9"
      },
      "outputs": [
        {
          "output_type": "stream",
          "name": "stdout",
          "text": [
            "sampling strategies & f1 scores: [('50%:', 0.9687402743530201), ('60%:', 0.9700047441019474), ('70%:', 0.9699994939888855), ('80%:', 0.9702869614084332), ('90%:', 0.970337712461961)]\n"
          ]
        }
      ],
      "source": [
        "from imblearn.under_sampling import RandomUnderSampler\n",
        "\n",
        "#defining five under-sampling strategies from 50% to 90% of the\n",
        "# majority target class in increments of 10%:\n",
        "undersampling_strategies = [{0:50994, 1:328379}, {0:50994, 1:394055}, {0:50994, 1:459731}, {0:50994, 1:525407}, {0:50994, 1:591082}]\n",
        "\n",
        "#empty list for f1 scores\n",
        "f1_scores = []\n",
        "\n",
        "#iterate through each sampling strategy\n",
        "for i in undersampling_strategies:\n",
        "    # define undersampling strategy\n",
        "    undersample = RandomUnderSampler(random_state=210, sampling_strategy=i)\n",
        "    # fit and apply the undersampling strategy\n",
        "    X_train_nonstandardized_under, y_train_under = undersample.fit_resample(X_train_nonstandardized, y_train)\n",
        "    #instantiate & fit the model to X-over & y-over with previously optimized parameters\n",
        "    forest_undersample_temp = RandomForestClassifier(criterion='entropy',\n",
        "                                    max_depth=None,\n",
        "                                    min_samples_split=10,\n",
        "                                    n_estimators=10)\n",
        "    forest_undersample_temp.fit(X_train_nonstandardized_under, y_train_under)\n",
        "    #make predictions on test set\n",
        "    y_hat = forest_undersample_temp.predict(X_test_nonstandardized)\n",
        "    #find & append f1 score\n",
        "    f1_scores.append(f1_score(y_test, y_hat))\n",
        "\n",
        "undersampling_percentages = ['50%:', '60%:', '70%:', '80%:', '90%:']\n",
        "print(\"sampling strategies & f1 scores:\", list(zip(undersampling_percentages, f1_scores)))"
      ]
    },
    {
      "cell_type": "markdown",
      "metadata": {
        "id": "-r378qXaDd3x"
      },
      "source": [
        "So far, it looks like oversampling the minority class at 150% of its original value count produces the highest f1 score (0.9719). Before investigating this particular model's feature importances, let's try one more sampling strategy by way of SMOTE."
      ]
    },
    {
      "cell_type": "code",
      "execution_count": 83,
      "metadata": {
        "colab": {
          "base_uri": "https://localhost:8080/"
        },
        "id": "Vr29Jhx3IdDG",
        "outputId": "7131ef0b-4c48-45c6-9d95-63004ef141de"
      },
      "outputs": [
        {
          "output_type": "stream",
          "name": "stdout",
          "text": [
            "sampling strategies & f1 scores: [('110%:', 0.9702435000385754), ('120%:', 0.9703004383556765), ('130%:', 0.9702982645776664), ('140%:', 0.9703725484954601), ('150%:', 0.9702587986491262)]\n"
          ]
        }
      ],
      "source": [
        "from imblearn.over_sampling import SMOTE\n",
        "\n",
        "#empty list for f1 scores\n",
        "f1_scores = []\n",
        "\n",
        "#iterate through each SMOTE oversampling strategy\n",
        "for i in oversampling_strategies:\n",
        "    smote = SMOTE(random_state=210, sampling_strategy=i)\n",
        "    # fit the smote-oversampling strategy\n",
        "    X_train_nonstandardized_smote, y_train_smote = smote.fit_resample(X_train_nonstandardized, y_train)\n",
        "    #instantiate & fit the random forest model to X-smote & y-smote with previously optimized parameters\n",
        "    forest_smote_temp = RandomForestClassifier(criterion='entropy',\n",
        "                                    max_depth=None,\n",
        "                                    min_samples_split=10,\n",
        "                                    n_estimators=10)\n",
        "    forest_smote_temp.fit(X_train_nonstandardized_smote, y_train_smote)\n",
        "    #make predictions on test set\n",
        "    y_hat = forest_smote_temp.predict(X_test_nonstandardized)\n",
        "    #find & append f1 score\n",
        "    f1_scores.append(f1_score(y_test, y_hat))\n",
        "\n",
        "smote_oversampling_percentages = ['110%:', '120%:', '130%:', '140%:', '150%:']\n",
        "print(\"sampling strategies & f1 scores:\", list(zip(smote_oversampling_percentages, f1_scores)))"
      ]
    },
    {
      "cell_type": "markdown",
      "metadata": {
        "id": "tOZ0GOoAK7Zg"
      },
      "source": [
        "It turns out that oversampling the minorty class by 150% is still our best route. Let's examine its feature importances and compare them to our PCA's less_explanatory_loadings_sums variable in order to make a more informed decision on which columns to drop."
      ]
    },
    {
      "cell_type": "code",
      "execution_count": 84,
      "metadata": {
        "id": "BZKbMpHWNCJ8",
        "colab": {
          "base_uri": "https://localhost:8080/"
        },
        "outputId": "a20868a1-e525-4fe2-cdf9-096af4aea829"
      },
      "outputs": [
        {
          "output_type": "execute_result",
          "data": {
            "text/plain": [
              "array([3.62981562e-02, 6.83310847e-02, 8.33255858e-02, 1.56524578e-01,\n",
              "       1.57648254e-01, 1.12501206e-01, 9.23115500e-09, 4.69605065e-04,\n",
              "       2.88336638e-02, 3.61275593e-03, 5.57175082e-04, 1.16888041e-03,\n",
              "       6.88177553e-03, 3.09221376e-04, 6.76404984e-04, 1.50672936e-02,\n",
              "       4.47623600e-03, 7.36998999e-03, 3.06179413e-03, 7.86498919e-03,\n",
              "       4.18902331e-03, 2.18328306e-02, 1.73449070e-02, 1.78930371e-02,\n",
              "       1.16906177e-02, 9.31200772e-03, 1.06905709e-02, 1.05028231e-02,\n",
              "       1.01599826e-02, 1.08153253e-02, 1.11230280e-02, 1.04958396e-02,\n",
              "       7.61062879e-04, 2.06351622e-03, 1.85004591e-04, 1.61154572e-03,\n",
              "       7.18034715e-03, 7.22812275e-03, 2.92926588e-04, 1.16085651e-02,\n",
              "       1.20982106e-02, 2.53454122e-03, 3.01172908e-03, 1.16408733e-02,\n",
              "       3.25090289e-03, 2.75037932e-03, 1.17924556e-02, 7.32491891e-03,\n",
              "       3.32948578e-03, 2.73991799e-03, 5.77776044e-04, 1.53829828e-03,\n",
              "       1.69846498e-03, 9.40904145e-04, 1.24656476e-03, 8.33587470e-04,\n",
              "       2.09642071e-02, 7.58385822e-04, 3.90845950e-03, 8.34016374e-03,\n",
              "       8.78755842e-04, 4.23116087e-04, 4.06049339e-04, 5.87295721e-03,\n",
              "       1.91723277e-03, 8.30750593e-03, 4.15196987e-03, 3.49421104e-03,\n",
              "       1.30823211e-03])"
            ]
          },
          "metadata": {},
          "execution_count": 84
        }
      ],
      "source": [
        "#reestablishing the best random forest model (150% oversampled minority target class data)\n",
        "oversample = RandomOverSampler(random_state=210, sampling_strategy={0:76416, 1:656758})\n",
        "X_train_nonstandardized_over, y_train_over = oversample.fit_resample(X_train_nonstandardized, y_train)\n",
        "final_forest_model = RandomForestClassifier(criterion='entropy',\n",
        "                                            max_depth=None,\n",
        "                                            min_samples_split=10,\n",
        "                                            n_estimators=10)\n",
        "final_forest_model.fit(X_train_nonstandardized_over, y_train_over)\n",
        "\n",
        "#gathering its feature importances\n",
        "forest_feature_importances = final_forest_model.feature_importances_\n",
        "forest_feature_importances"
      ]
    },
    {
      "cell_type": "code",
      "execution_count": 85,
      "metadata": {
        "id": "7BNH_AKNPBSP",
        "colab": {
          "base_uri": "https://localhost:8080/"
        },
        "outputId": "0bdaf5c8-a54f-4526-fcd9-0d0e8ff06a9a"
      },
      "outputs": [
        {
          "output_type": "stream",
          "name": "stdout",
          "text": [
            "PERSON_TYPE_NON-CONTACT VEHICLE                0.000\n",
            "MANEUVER_SLOW/STOP - RIGHT TURN                0.000\n",
            "MANEUVER_SLOW/STOP - LOAD/UNLOAD               0.000\n",
            "WEATHER_CONDITION_BLOWING SAND, SOIL, DIRT     0.000\n",
            "WEATHER_CONDITION_BLOWING SNOW                 0.000\n",
            "SEX_X                                          0.000\n",
            "WEATHER_CONDITION_SEVERE CROSS WIND GATE       0.000\n",
            "MANEUVER_SLOW/STOP - LEFT TURN                 0.001\n",
            "MANEUVER_PARKED IN TRAFFIC LANE                0.001\n",
            "MANEUVER_NEGOTIATING A CURVE                   0.001\n",
            "MANEUVER_MERGING                               0.001\n",
            "MANEUVER_LEAVING TRAFFIC LANE TO PARK          0.001\n",
            "MANEUVER_DRIVING WRONG WAY                     0.001\n",
            "PERSON_TYPE_BICYCLE                            0.001\n",
            "MANEUVER_U-TURN                                0.001\n",
            "WEATHER_CONDITION_FOG/SMOKE/HAZE               0.001\n",
            "WEATHER_CONDITION_SLEET/HAIL                   0.001\n",
            "WEATHER_CONDITION_FREEZING RAIN/DRIZZLE        0.001\n",
            "PERSON_TYPE_PEDESTRIAN                         0.002\n",
            "MANEUVER_ENTERING TRAFFIC LANE FROM PARKING    0.002\n",
            "MANEUVER_ENTER FROM DRIVE/ALLEY                0.002\n",
            "MANEUVER_STARTING IN TRAFFIC                   0.002\n",
            "PERSON_TYPE_DRIVER                             0.002\n",
            "MANEUVER_CHANGING LANES                        0.003\n",
            "MANEUVER_BACKING                               0.003\n",
            "TRAVEL_DIRECTION_SW                            0.003\n",
            "TRAVEL_DIRECTION_SE                            0.003\n",
            "TRAVEL_DIRECTION_NW                            0.003\n",
            "MANEUVER_TURNING RIGHT                         0.003\n",
            "TRAVEL_DIRECTION_NE                            0.003\n",
            "LIGHTING_CONDITION_DAWN                        0.003\n",
            "MANEUVER_PASSING/OVERTAKING                    0.004\n",
            "MANEUVER_TURNING LEFT                          0.004\n",
            "LIGHTING_CONDITION_DARKNESS                    0.004\n",
            "LIGHTING_CONDITION_DUSK                        0.004\n",
            "WEATHER_CONDITION_CLOUDY/OVERCAST              0.004\n",
            "MANEUVER_SLOW/STOP IN TRAFFIC                  0.006\n",
            "SEX_F                                          0.007\n",
            "SEX_M                                          0.007\n",
            "LIGHTING_CONDITION_DARKNESS, LIGHTED ROAD      0.007\n",
            "WEATHER_CONDITION_RAIN                         0.007\n",
            "MANEUVER_AVOIDING VEHICLES/OBJECTS             0.007\n",
            "LIGHTING_CONDITION_DAYLIGHT                    0.008\n",
            "MANEUVER_STRAIGHT AHEAD                        0.008\n",
            "MANEUVER_SKIDDING/CONTROL LOSS                 0.008\n",
            "CRASH_DAY_OF_WEEK_1                            0.009\n",
            "CRASH_DAY_OF_WEEK_4                            0.010\n",
            "CRASH_DAY_OF_WEEK_7                            0.010\n",
            "CRASH_DAY_OF_WEEK_6                            0.011\n",
            "CRASH_DAY_OF_WEEK_5                            0.011\n",
            "CRASH_DAY_OF_WEEK_2                            0.011\n",
            "CRASH_DAY_OF_WEEK_3                            0.011\n",
            "ROADWAY_SURFACE_COND_WET                       0.012\n",
            "TRAVEL_DIRECTION_N                             0.012\n",
            "TRAVEL_DIRECTION_E                             0.012\n",
            "TRAVEL_DIRECTION_W                             0.012\n",
            "TRAVEL_DIRECTION_S                             0.012\n",
            "WEATHER_CONDITION_SNOW                         0.015\n",
            "ROADWAY_SURFACE_COND_ICE                       0.017\n",
            "ROADWAY_SURFACE_COND_SNOW OR SLUSH             0.018\n",
            "MANEUVER_PARKED                                0.021\n",
            "ROADWAY_SURFACE_COND_DRY                       0.022\n",
            "WEATHER_CONDITION_CLEAR                        0.029\n",
            "POSTED_SPEED_LIMIT                             0.036\n",
            "NUM_UNITS                                      0.068\n",
            "CRASH_HOUR                                     0.083\n",
            "AGE                                            0.113\n",
            "LATITUDE                                       0.157\n",
            "LONGITUDE                                      0.158\n"
          ]
        }
      ],
      "source": [
        "fi_rounded = np.around(forest_feature_importances, decimals=3)\n",
        "fi_series = pd.Series(fi_rounded, index=X_train_nonstandardized.columns).sort_values(key=abs)\n",
        "print(fi_series.to_string())"
      ]
    },
    {
      "cell_type": "markdown",
      "metadata": {
        "id": "NouXmty8GSVK"
      },
      "source": [
        "Let's get a resfresher on how the PCA evr/loadings looked - below we note how they seem to be working on a different scale because they're the sum of 21 rows-worth of loadings.\n",
        "\n",
        "We should also keep in mind that PCA loadings show a different perspective of variance as opposed to a random forest's feature importances, which show how a target prediction for a test crash would be routed through the decision tree process, so there's definitely an aspect of correlation in the latter case."
      ]
    },
    {
      "cell_type": "code",
      "execution_count": 86,
      "metadata": {
        "id": "r3YwaUvPGgBI",
        "colab": {
          "base_uri": "https://localhost:8080/"
        },
        "outputId": "2caaf678-e059-4506-8e92-e42a394e9911"
      },
      "outputs": [
        {
          "output_type": "execute_result",
          "data": {
            "text/plain": [
              "PERSON_TYPE_NON-CONTACT VEHICLE               0.000\n",
              "WEATHER_CONDITION_SEVERE CROSS WIND GATE      0.000\n",
              "SEX_X                                         0.000\n",
              "WEATHER_CONDITION_BLOWING SAND, SOIL, DIRT    0.000\n",
              "MANEUVER_PARKED IN TRAFFIC LANE              -0.002\n",
              "                                              ...  \n",
              "SEX_F                                         1.211\n",
              "SEX_M                                        -1.212\n",
              "TRAVEL_DIRECTION_E                            1.218\n",
              "NUM_UNITS                                     1.918\n",
              "CRASH_DAY_OF_WEEK_4                          -1.939\n",
              "Length: 69, dtype: float64"
            ]
          },
          "metadata": {},
          "execution_count": 86
        }
      ],
      "source": [
        "loadings_sums"
      ]
    },
    {
      "cell_type": "markdown",
      "metadata": {
        "id": "Vuaol0STGgnb"
      },
      "source": [
        "Due to the different range here, let's scale them down to their average by dividing them by 21 before comparing them to the random forest's feature importances."
      ]
    },
    {
      "cell_type": "code",
      "execution_count": 87,
      "metadata": {
        "id": "H33aaPMbVfxI",
        "colab": {
          "base_uri": "https://localhost:8080/"
        },
        "outputId": "c5fea996-39fb-4d98-8ec8-d348d711dd57"
      },
      "outputs": [
        {
          "output_type": "execute_result",
          "data": {
            "text/plain": [
              "PERSON_TYPE_NON-CONTACT VEHICLE               0.000000\n",
              "WEATHER_CONDITION_SEVERE CROSS WIND GATE      0.000000\n",
              "SEX_X                                         0.000000\n",
              "WEATHER_CONDITION_BLOWING SAND, SOIL, DIRT    0.000000\n",
              "MANEUVER_PARKED IN TRAFFIC LANE              -0.000095\n",
              "                                                ...   \n",
              "SEX_F                                         0.057667\n",
              "SEX_M                                        -0.057714\n",
              "TRAVEL_DIRECTION_E                            0.058000\n",
              "NUM_UNITS                                     0.091333\n",
              "CRASH_DAY_OF_WEEK_4                          -0.092333\n",
              "Length: 69, dtype: float64"
            ]
          },
          "metadata": {},
          "execution_count": 87
        }
      ],
      "source": [
        "loadings_sums_scaled = loadings_sums/21\n",
        "loadings_sums_scaled"
      ]
    },
    {
      "cell_type": "markdown",
      "metadata": {
        "id": "47AGBT55TKLZ"
      },
      "source": [
        "Now we can visualize these alongside the PCA loadings to get a better handle on how they compare."
      ]
    },
    {
      "cell_type": "code",
      "execution_count": 88,
      "metadata": {
        "id": "G4vA3oIDTmA3",
        "colab": {
          "base_uri": "https://localhost:8080/",
          "height": 1000
        },
        "outputId": "60daeef3-b88a-4c86-f896-bb76013e5466"
      },
      "outputs": [
        {
          "output_type": "display_data",
          "data": {
            "text/plain": [
              "<Figure size 800x2000 with 1 Axes>"
            ],
            "image/png": "[encoded data removed]"
          },
          "metadata": {}
        }
      ],
      "source": [
        "fig, ax = plt.subplots(figsize=(8,20))\n",
        "ax.barh(loadings_sums_scaled.index, loadings_sums_scaled.values, label='PCA features')\n",
        "ax.barh(fi_series.index, fi_series.values, label='random forest features')\n",
        "plt.legend();"
      ]
    },
    {
      "cell_type": "markdown",
      "metadata": {
        "id": "I9x5hl6JG65i"
      },
      "source": [
        "PCA loadings and random forest features certainly show different perspectives on a lot of these columns. Generally speaking, though, they tend to agree on a *lot* of columns that don't seem to contribute much to variance or our target. Specifically, it appears that any columns at or below 'TRAVEL_DIRECTION_SE' can be dropped, but we'll keep 'MANEUVER_PARKED', 'MANEUVER_SKIDDING/CONTROL LOSS', and 'MANEUVER_AVODING VEHICLES/OBJECTS' since the random forest is attributing a bit more significance to them than their neighbors in this chart."
      ]
    },
    {
      "cell_type": "code",
      "execution_count": 89,
      "metadata": {
        "id": "ovgqpdqv-vSI"
      },
      "outputs": [],
      "source": [
        "preliminary_columns_to_drop = ['PERSON_TYPE_DRIVER', 'TRAVEL_DIRECTION_NW', 'TRAVEL_DIRECTION_NE', 'TRAVEL_DIRECTION_SW', 'MANEUVER_ENTERING TRAFFIC LANE FROM PARKING',\n",
        "                               'PERSON_TYPE_PEDESTRIAN', 'MANEUVER_MERGING', 'PERSON_TYPE_BICYCLE', 'MANEUVER_STARTING IN TRAFFIC', 'MANEUVER_U-TURN',\n",
        "                               'WEATHER_CONDITION_SLEET/HAIL', 'WEATHER_CONDITION_FREEZING RAIN/DRIZZLE', 'MANEUVER_ENTER FROM DRIVE/ALLEY', 'LIGHTING_CONDITION_DUSK',\n",
        "                               'WEATHER_CONDITION_FOG/SMOKE/HAZE', 'WEATHER_CONDITION_BLOWING SNOW', 'MANEUVER_LEAVING TRAFFIC LANE TO PARK', 'LIGHTING_CONDITION_DAWN',\n",
        "                               'MANEUVER_SLOW/STOP - LEFT TURN', 'MANEUVER_SLOW/STOP - RIGHT TURN', 'MANEUVER_DRIVING WRONG WAY', 'MANEUVER_SLOW/STOP - LOAD/UNLOAD',\n",
        "                               'MANEUVER_NEGOTIATING A CURVE', 'MANEUVER_PARKED IN TRAFFIC LANE', 'SEX_X', 'WEATHER_CONDITION_BLOWING SAND, SOIL, DIRT',\n",
        "                               'WEATHER_CONDITION_SEVERE CROSS WIND GATE', 'PERSON_TYPE_NON-CONTACT VEHICLE', 'LIGHTING_CONDITION_DARKNESS', 'TRAVEL_DIRECTION_SE']"
      ]
    },
    {
      "cell_type": "markdown",
      "metadata": {
        "id": "hZnHEbORkIWB"
      },
      "source": [
        "Now that we know which columns to run our white-box models with, we can drop them from our training data. Since we'll employ a Logistic Regression model and an individual decision tree model next, we'll actually need to drop these columns from the two training data sets. Both have the categorical variables one-hot encoded, but one has standardized numeric data (important for the Logit model) while the other's is not standardized (meant for the decision tree)."
      ]
    },
    {
      "cell_type": "code",
      "execution_count": 90,
      "metadata": {
        "id": "zZMWf8_HS_z0",
        "colab": {
          "base_uri": "https://localhost:8080/"
        },
        "outputId": "9f813e07-7488-414c-cc07-14bda0e4dbe7"
      },
      "outputs": [
        {
          "output_type": "stream",
          "name": "stdout",
          "text": [
            "<class 'pandas.core.frame.DataFrame'>\n",
            "Index: 707752 entries, 262116 to 303626\n",
            "Data columns (total 39 columns):\n",
            " #   Column                                     Non-Null Count   Dtype  \n",
            "---  ------                                     --------------   -----  \n",
            " 0   POSTED_SPEED_LIMIT                         707752 non-null  float64\n",
            " 1   NUM_UNITS                                  707752 non-null  float64\n",
            " 2   CRASH_HOUR                                 707752 non-null  float64\n",
            " 3   LATITUDE                                   707752 non-null  float64\n",
            " 4   LONGITUDE                                  707752 non-null  float64\n",
            " 5   AGE                                        707752 non-null  float64\n",
            " 6   WEATHER_CONDITION_CLEAR                    707752 non-null  float64\n",
            " 7   WEATHER_CONDITION_CLOUDY/OVERCAST          707752 non-null  float64\n",
            " 8   WEATHER_CONDITION_RAIN                     707752 non-null  float64\n",
            " 9   WEATHER_CONDITION_SNOW                     707752 non-null  float64\n",
            " 10  LIGHTING_CONDITION_DARKNESS, LIGHTED ROAD  707752 non-null  float64\n",
            " 11  LIGHTING_CONDITION_DAYLIGHT                707752 non-null  float64\n",
            " 12  ROADWAY_SURFACE_COND_DRY                   707752 non-null  float64\n",
            " 13  ROADWAY_SURFACE_COND_ICE                   707752 non-null  float64\n",
            " 14  ROADWAY_SURFACE_COND_SNOW OR SLUSH         707752 non-null  float64\n",
            " 15  ROADWAY_SURFACE_COND_WET                   707752 non-null  float64\n",
            " 16  CRASH_DAY_OF_WEEK_1                        707752 non-null  float64\n",
            " 17  CRASH_DAY_OF_WEEK_2                        707752 non-null  float64\n",
            " 18  CRASH_DAY_OF_WEEK_3                        707752 non-null  float64\n",
            " 19  CRASH_DAY_OF_WEEK_4                        707752 non-null  float64\n",
            " 20  CRASH_DAY_OF_WEEK_5                        707752 non-null  float64\n",
            " 21  CRASH_DAY_OF_WEEK_6                        707752 non-null  float64\n",
            " 22  CRASH_DAY_OF_WEEK_7                        707752 non-null  float64\n",
            " 23  SEX_F                                      707752 non-null  float64\n",
            " 24  SEX_M                                      707752 non-null  float64\n",
            " 25  TRAVEL_DIRECTION_E                         707752 non-null  float64\n",
            " 26  TRAVEL_DIRECTION_N                         707752 non-null  float64\n",
            " 27  TRAVEL_DIRECTION_S                         707752 non-null  float64\n",
            " 28  TRAVEL_DIRECTION_W                         707752 non-null  float64\n",
            " 29  MANEUVER_AVOIDING VEHICLES/OBJECTS         707752 non-null  float64\n",
            " 30  MANEUVER_BACKING                           707752 non-null  float64\n",
            " 31  MANEUVER_CHANGING LANES                    707752 non-null  float64\n",
            " 32  MANEUVER_PARKED                            707752 non-null  float64\n",
            " 33  MANEUVER_PASSING/OVERTAKING                707752 non-null  float64\n",
            " 34  MANEUVER_SKIDDING/CONTROL LOSS             707752 non-null  float64\n",
            " 35  MANEUVER_SLOW/STOP IN TRAFFIC              707752 non-null  float64\n",
            " 36  MANEUVER_STRAIGHT AHEAD                    707752 non-null  float64\n",
            " 37  MANEUVER_TURNING LEFT                      707752 non-null  float64\n",
            " 38  MANEUVER_TURNING RIGHT                     707752 non-null  float64\n",
            "dtypes: float64(39)\n",
            "memory usage: 216.0 MB\n"
          ]
        }
      ],
      "source": [
        "X_train_trimmed_and_stnd = X_train_preprocessed.drop(preliminary_columns_to_drop, axis=1)\n",
        "X_train_trimmed_and_stnd.info()"
      ]
    },
    {
      "cell_type": "code",
      "execution_count": 91,
      "metadata": {
        "id": "TgKJeyB1mbGs",
        "colab": {
          "base_uri": "https://localhost:8080/"
        },
        "outputId": "9907a7e2-3e4e-4dbe-9f95-e52f622b6596"
      },
      "outputs": [
        {
          "output_type": "stream",
          "name": "stdout",
          "text": [
            "<class 'pandas.core.frame.DataFrame'>\n",
            "Index: 707752 entries, 262116 to 303626\n",
            "Data columns (total 39 columns):\n",
            " #   Column                                     Non-Null Count   Dtype  \n",
            "---  ------                                     --------------   -----  \n",
            " 0   POSTED_SPEED_LIMIT                         707752 non-null  int64  \n",
            " 1   NUM_UNITS                                  707752 non-null  int64  \n",
            " 2   CRASH_HOUR                                 707752 non-null  int64  \n",
            " 3   LATITUDE                                   707752 non-null  float64\n",
            " 4   LONGITUDE                                  707752 non-null  float64\n",
            " 5   AGE                                        707752 non-null  float64\n",
            " 6   WEATHER_CONDITION_CLEAR                    707752 non-null  float64\n",
            " 7   WEATHER_CONDITION_CLOUDY/OVERCAST          707752 non-null  float64\n",
            " 8   WEATHER_CONDITION_RAIN                     707752 non-null  float64\n",
            " 9   WEATHER_CONDITION_SNOW                     707752 non-null  float64\n",
            " 10  LIGHTING_CONDITION_DARKNESS, LIGHTED ROAD  707752 non-null  float64\n",
            " 11  LIGHTING_CONDITION_DAYLIGHT                707752 non-null  float64\n",
            " 12  ROADWAY_SURFACE_COND_DRY                   707752 non-null  float64\n",
            " 13  ROADWAY_SURFACE_COND_ICE                   707752 non-null  float64\n",
            " 14  ROADWAY_SURFACE_COND_SNOW OR SLUSH         707752 non-null  float64\n",
            " 15  ROADWAY_SURFACE_COND_WET                   707752 non-null  float64\n",
            " 16  CRASH_DAY_OF_WEEK_1                        707752 non-null  float64\n",
            " 17  CRASH_DAY_OF_WEEK_2                        707752 non-null  float64\n",
            " 18  CRASH_DAY_OF_WEEK_3                        707752 non-null  float64\n",
            " 19  CRASH_DAY_OF_WEEK_4                        707752 non-null  float64\n",
            " 20  CRASH_DAY_OF_WEEK_5                        707752 non-null  float64\n",
            " 21  CRASH_DAY_OF_WEEK_6                        707752 non-null  float64\n",
            " 22  CRASH_DAY_OF_WEEK_7                        707752 non-null  float64\n",
            " 23  SEX_F                                      707752 non-null  float64\n",
            " 24  SEX_M                                      707752 non-null  float64\n",
            " 25  TRAVEL_DIRECTION_E                         707752 non-null  float64\n",
            " 26  TRAVEL_DIRECTION_N                         707752 non-null  float64\n",
            " 27  TRAVEL_DIRECTION_S                         707752 non-null  float64\n",
            " 28  TRAVEL_DIRECTION_W                         707752 non-null  float64\n",
            " 29  MANEUVER_AVOIDING VEHICLES/OBJECTS         707752 non-null  float64\n",
            " 30  MANEUVER_BACKING                           707752 non-null  float64\n",
            " 31  MANEUVER_CHANGING LANES                    707752 non-null  float64\n",
            " 32  MANEUVER_PARKED                            707752 non-null  float64\n",
            " 33  MANEUVER_PASSING/OVERTAKING                707752 non-null  float64\n",
            " 34  MANEUVER_SKIDDING/CONTROL LOSS             707752 non-null  float64\n",
            " 35  MANEUVER_SLOW/STOP IN TRAFFIC              707752 non-null  float64\n",
            " 36  MANEUVER_STRAIGHT AHEAD                    707752 non-null  float64\n",
            " 37  MANEUVER_TURNING LEFT                      707752 non-null  float64\n",
            " 38  MANEUVER_TURNING RIGHT                     707752 non-null  float64\n",
            "dtypes: float64(36), int64(3)\n",
            "memory usage: 216.0 MB\n"
          ]
        }
      ],
      "source": [
        "X_train_trimmed_and_non_stnd = X_train_nonstandardized.drop(preliminary_columns_to_drop, axis=1)\n",
        "X_train_trimmed_and_non_stnd.info()"
      ]
    },
    {
      "cell_type": "markdown",
      "metadata": {
        "id": "Ef_G-M6Ymlhx"
      },
      "source": [
        "# white-box predictive modeling\n",
        "\n",
        "With an long process of column-trimming complete by way of domain knowledge (in the data engineering notebook) and through modeling (above), we can now fit our trimmed-down columns to two white-box models that will hopefully make sound predictions while remaining relatively simple to interpret for the non-technical stakeholder.\n",
        "\n",
        "First, we'll run a StatsModels Logitistic Regression to see the statistical significance of each column."
      ]
    },
    {
      "cell_type": "code",
      "execution_count": 92,
      "metadata": {
        "id": "y5DUg7Ctmish",
        "colab": {
          "base_uri": "https://localhost:8080/",
          "height": 1000
        },
        "outputId": "6253a94d-abfc-4c3a-f3a3-a5f0146591c3"
      },
      "outputs": [
        {
          "output_type": "stream",
          "name": "stdout",
          "text": [
            "Optimization terminated successfully.\n",
            "         Current function value: 0.228538\n",
            "         Iterations 8\n"
          ]
        },
        {
          "output_type": "execute_result",
          "data": {
            "text/plain": [
              "<class 'statsmodels.iolib.summary.Summary'>\n",
              "\"\"\"\n",
              "                           Logit Regression Results                           \n",
              "==============================================================================\n",
              "Dep. Variable:                 TARGET   No. Observations:               707752\n",
              "Model:                          Logit   Df Residuals:                   707714\n",
              "Method:                           MLE   Df Model:                           37\n",
              "Date:                Fri, 24 May 2024   Pseudo R-squ.:                  0.1173\n",
              "Time:                        22:26:23   Log-Likelihood:            -1.6175e+05\n",
              "converged:                       True   LL-Null:                   -1.8325e+05\n",
              "Covariance Type:            nonrobust   LLR p-value:                     0.000\n",
              "=============================================================================================================\n",
              "                                                coef    std err          z      P>|z|      [0.025      0.975]\n",
              "-------------------------------------------------------------------------------------------------------------\n",
              "const                                         0.9920   1.35e+05   7.34e-06      1.000   -2.65e+05    2.65e+05\n",
              "POSTED_SPEED_LIMIT                            0.0025      0.005      0.510      0.610      -0.007       0.012\n",
              "NUM_UNITS                                    -0.0020      0.004     -0.456      0.649      -0.010       0.006\n",
              "CRASH_HOUR                                    0.1008      0.005     21.585      0.000       0.092       0.110\n",
              "LATITUDE                                      0.0671      0.006     12.043      0.000       0.056       0.078\n",
              "LONGITUDE                                    -0.0202      0.006     -3.607      0.000      -0.031      -0.009\n",
              "AGE                                          -0.0383      0.005     -7.827      0.000      -0.048      -0.029\n",
              "WEATHER_CONDITION_CLEAR                       0.9515      0.041     23.410      0.000       0.872       1.031\n",
              "WEATHER_CONDITION_CLOUDY/OVERCAST             0.7653      0.046     16.495      0.000       0.674       0.856\n",
              "WEATHER_CONDITION_RAIN                        0.1756      0.041      4.327      0.000       0.096       0.255\n",
              "WEATHER_CONDITION_SNOW                        0.0072      0.041      0.173      0.863      -0.074       0.088\n",
              "LIGHTING_CONDITION_DARKNESS, LIGHTED ROAD    -0.0259      0.018     -1.408      0.159      -0.062       0.010\n",
              "LIGHTING_CONDITION_DAYLIGHT                   0.0597      0.017      3.505      0.000       0.026       0.093\n",
              "ROADWAY_SURFACE_COND_DRY                      1.2853        nan        nan        nan         nan         nan\n",
              "ROADWAY_SURFACE_COND_ICE                     -1.2118        nan        nan        nan         nan         nan\n",
              "ROADWAY_SURFACE_COND_SNOW OR SLUSH           -0.0116        nan        nan        nan         nan         nan\n",
              "ROADWAY_SURFACE_COND_WET                      0.9300        nan        nan        nan         nan         nan\n",
              "CRASH_DAY_OF_WEEK_1                           0.1633        nan        nan        nan         nan         nan\n",
              "CRASH_DAY_OF_WEEK_2                           0.1283        nan        nan        nan         nan         nan\n",
              "CRASH_DAY_OF_WEEK_3                           0.1033        nan        nan        nan         nan         nan\n",
              "CRASH_DAY_OF_WEEK_4                           0.1376        nan        nan        nan         nan         nan\n",
              "CRASH_DAY_OF_WEEK_5                           0.1604        nan        nan        nan         nan         nan\n",
              "CRASH_DAY_OF_WEEK_6                           0.1258        nan        nan        nan         nan         nan\n",
              "CRASH_DAY_OF_WEEK_7                           0.1733        nan        nan        nan         nan         nan\n",
              "SEX_F                                        -0.0826      0.168     -0.492      0.623      -0.412       0.247\n",
              "SEX_M                                        -0.1954      0.168     -1.164      0.245      -0.524       0.134\n",
              "TRAVEL_DIRECTION_E                            0.0647      0.025      2.613      0.009       0.016       0.113\n",
              "TRAVEL_DIRECTION_N                            0.0626      0.025      2.549      0.011       0.014       0.111\n",
              "TRAVEL_DIRECTION_S                            0.0136      0.025      0.552      0.581      -0.035       0.062\n",
              "TRAVEL_DIRECTION_W                            0.0952      0.025      3.835      0.000       0.047       0.144\n",
              "MANEUVER_AVOIDING VEHICLES/OBJECTS           -2.1837      0.045    -48.790      0.000      -2.271      -2.096\n",
              "MANEUVER_BACKING                              0.0634      0.040      1.580      0.114      -0.015       0.142\n",
              "MANEUVER_CHANGING LANES                       0.8209      0.058     14.044      0.000       0.706       0.935\n",
              "MANEUVER_PARKED                              -1.4690      0.029    -51.475      0.000      -1.525      -1.413\n",
              "MANEUVER_PASSING/OVERTAKING                   1.1049      0.057     19.231      0.000       0.992       1.217\n",
              "MANEUVER_SKIDDING/CONTROL LOSS               -2.0704      0.044    -47.003      0.000      -2.157      -1.984\n",
              "MANEUVER_SLOW/STOP IN TRAFFIC                -0.4035      0.027    -14.839      0.000      -0.457      -0.350\n",
              "MANEUVER_STRAIGHT AHEAD                      -0.2581      0.024    -10.756      0.000      -0.305      -0.211\n",
              "MANEUVER_TURNING LEFT                         0.1177      0.030      3.859      0.000       0.058       0.177\n",
              "MANEUVER_TURNING RIGHT                       -0.0807      0.035     -2.286      0.022      -0.150      -0.011\n",
              "=============================================================================================================\n",
              "\"\"\""
            ],
            "text/html": [
              "<table class=\"simpletable\">\n",
              "<caption>Logit Regression Results</caption>\n",
              "<tr>\n",
              "  <th>Dep. Variable:</th>        <td>TARGET</td>      <th>  No. Observations:  </th>   <td>707752</td>   \n",
              "</tr>\n",
              "<tr>\n",
              "  <th>Model:</th>                 <td>Logit</td>      <th>  Df Residuals:      </th>   <td>707714</td>   \n",
              "</tr>\n",
              "<tr>\n",
              "  <th>Method:</th>                 <td>MLE</td>       <th>  Df Model:          </th>   <td>    37</td>   \n",
              "</tr>\n",
              "<tr>\n",
              "  <th>Date:</th>            <td>Fri, 24 May 2024</td> <th>  Pseudo R-squ.:     </th>   <td>0.1173</td>   \n",
              "</tr>\n",
              "<tr>\n",
              "  <th>Time:</th>                <td>22:26:23</td>     <th>  Log-Likelihood:    </th> <td>-1.6175e+05</td>\n",
              "</tr>\n",
              "<tr>\n",
              "  <th>converged:</th>             <td>True</td>       <th>  LL-Null:           </th> <td>-1.8325e+05</td>\n",
              "</tr>\n",
              "<tr>\n",
              "  <th>Covariance Type:</th>     <td>nonrobust</td>    <th>  LLR p-value:       </th>   <td> 0.000</td>   \n",
              "</tr>\n",
              "</table>\n",
              "<table class=\"simpletable\">\n",
              "<tr>\n",
              "                      <td></td>                         <th>coef</th>     <th>std err</th>      <th>z</th>      <th>P>|z|</th>  <th>[0.025</th>    <th>0.975]</th>  \n",
              "</tr>\n",
              "<tr>\n",
              "  <th>const</th>                                     <td>    0.9920</td> <td> 1.35e+05</td> <td> 7.34e-06</td> <td> 1.000</td> <td>-2.65e+05</td> <td> 2.65e+05</td>\n",
              "</tr>\n",
              "<tr>\n",
              "  <th>POSTED_SPEED_LIMIT</th>                        <td>    0.0025</td> <td>    0.005</td> <td>    0.510</td> <td> 0.610</td> <td>   -0.007</td> <td>    0.012</td>\n",
              "</tr>\n",
              "<tr>\n",
              "  <th>NUM_UNITS</th>                                 <td>   -0.0020</td> <td>    0.004</td> <td>   -0.456</td> <td> 0.649</td> <td>   -0.010</td> <td>    0.006</td>\n",
              "</tr>\n",
              "<tr>\n",
              "  <th>CRASH_HOUR</th>                                <td>    0.1008</td> <td>    0.005</td> <td>   21.585</td> <td> 0.000</td> <td>    0.092</td> <td>    0.110</td>\n",
              "</tr>\n",
              "<tr>\n",
              "  <th>LATITUDE</th>                                  <td>    0.0671</td> <td>    0.006</td> <td>   12.043</td> <td> 0.000</td> <td>    0.056</td> <td>    0.078</td>\n",
              "</tr>\n",
              "<tr>\n",
              "  <th>LONGITUDE</th>                                 <td>   -0.0202</td> <td>    0.006</td> <td>   -3.607</td> <td> 0.000</td> <td>   -0.031</td> <td>   -0.009</td>\n",
              "</tr>\n",
              "<tr>\n",
              "  <th>AGE</th>                                       <td>   -0.0383</td> <td>    0.005</td> <td>   -7.827</td> <td> 0.000</td> <td>   -0.048</td> <td>   -0.029</td>\n",
              "</tr>\n",
              "<tr>\n",
              "  <th>WEATHER_CONDITION_CLEAR</th>                   <td>    0.9515</td> <td>    0.041</td> <td>   23.410</td> <td> 0.000</td> <td>    0.872</td> <td>    1.031</td>\n",
              "</tr>\n",
              "<tr>\n",
              "  <th>WEATHER_CONDITION_CLOUDY/OVERCAST</th>         <td>    0.7653</td> <td>    0.046</td> <td>   16.495</td> <td> 0.000</td> <td>    0.674</td> <td>    0.856</td>\n",
              "</tr>\n",
              "<tr>\n",
              "  <th>WEATHER_CONDITION_RAIN</th>                    <td>    0.1756</td> <td>    0.041</td> <td>    4.327</td> <td> 0.000</td> <td>    0.096</td> <td>    0.255</td>\n",
              "</tr>\n",
              "<tr>\n",
              "  <th>WEATHER_CONDITION_SNOW</th>                    <td>    0.0072</td> <td>    0.041</td> <td>    0.173</td> <td> 0.863</td> <td>   -0.074</td> <td>    0.088</td>\n",
              "</tr>\n",
              "<tr>\n",
              "  <th>LIGHTING_CONDITION_DARKNESS, LIGHTED ROAD</th> <td>   -0.0259</td> <td>    0.018</td> <td>   -1.408</td> <td> 0.159</td> <td>   -0.062</td> <td>    0.010</td>\n",
              "</tr>\n",
              "<tr>\n",
              "  <th>LIGHTING_CONDITION_DAYLIGHT</th>               <td>    0.0597</td> <td>    0.017</td> <td>    3.505</td> <td> 0.000</td> <td>    0.026</td> <td>    0.093</td>\n",
              "</tr>\n",
              "<tr>\n",
              "  <th>ROADWAY_SURFACE_COND_DRY</th>                  <td>    1.2853</td> <td>      nan</td> <td>      nan</td> <td>   nan</td> <td>      nan</td> <td>      nan</td>\n",
              "</tr>\n",
              "<tr>\n",
              "  <th>ROADWAY_SURFACE_COND_ICE</th>                  <td>   -1.2118</td> <td>      nan</td> <td>      nan</td> <td>   nan</td> <td>      nan</td> <td>      nan</td>\n",
              "</tr>\n",
              "<tr>\n",
              "  <th>ROADWAY_SURFACE_COND_SNOW OR SLUSH</th>        <td>   -0.0116</td> <td>      nan</td> <td>      nan</td> <td>   nan</td> <td>      nan</td> <td>      nan</td>\n",
              "</tr>\n",
              "<tr>\n",
              "  <th>ROADWAY_SURFACE_COND_WET</th>                  <td>    0.9300</td> <td>      nan</td> <td>      nan</td> <td>   nan</td> <td>      nan</td> <td>      nan</td>\n",
              "</tr>\n",
              "<tr>\n",
              "  <th>CRASH_DAY_OF_WEEK_1</th>                       <td>    0.1633</td> <td>      nan</td> <td>      nan</td> <td>   nan</td> <td>      nan</td> <td>      nan</td>\n",
              "</tr>\n",
              "<tr>\n",
              "  <th>CRASH_DAY_OF_WEEK_2</th>                       <td>    0.1283</td> <td>      nan</td> <td>      nan</td> <td>   nan</td> <td>      nan</td> <td>      nan</td>\n",
              "</tr>\n",
              "<tr>\n",
              "  <th>CRASH_DAY_OF_WEEK_3</th>                       <td>    0.1033</td> <td>      nan</td> <td>      nan</td> <td>   nan</td> <td>      nan</td> <td>      nan</td>\n",
              "</tr>\n",
              "<tr>\n",
              "  <th>CRASH_DAY_OF_WEEK_4</th>                       <td>    0.1376</td> <td>      nan</td> <td>      nan</td> <td>   nan</td> <td>      nan</td> <td>      nan</td>\n",
              "</tr>\n",
              "<tr>\n",
              "  <th>CRASH_DAY_OF_WEEK_5</th>                       <td>    0.1604</td> <td>      nan</td> <td>      nan</td> <td>   nan</td> <td>      nan</td> <td>      nan</td>\n",
              "</tr>\n",
              "<tr>\n",
              "  <th>CRASH_DAY_OF_WEEK_6</th>                       <td>    0.1258</td> <td>      nan</td> <td>      nan</td> <td>   nan</td> <td>      nan</td> <td>      nan</td>\n",
              "</tr>\n",
              "<tr>\n",
              "  <th>CRASH_DAY_OF_WEEK_7</th>                       <td>    0.1733</td> <td>      nan</td> <td>      nan</td> <td>   nan</td> <td>      nan</td> <td>      nan</td>\n",
              "</tr>\n",
              "<tr>\n",
              "  <th>SEX_F</th>                                     <td>   -0.0826</td> <td>    0.168</td> <td>   -0.492</td> <td> 0.623</td> <td>   -0.412</td> <td>    0.247</td>\n",
              "</tr>\n",
              "<tr>\n",
              "  <th>SEX_M</th>                                     <td>   -0.1954</td> <td>    0.168</td> <td>   -1.164</td> <td> 0.245</td> <td>   -0.524</td> <td>    0.134</td>\n",
              "</tr>\n",
              "<tr>\n",
              "  <th>TRAVEL_DIRECTION_E</th>                        <td>    0.0647</td> <td>    0.025</td> <td>    2.613</td> <td> 0.009</td> <td>    0.016</td> <td>    0.113</td>\n",
              "</tr>\n",
              "<tr>\n",
              "  <th>TRAVEL_DIRECTION_N</th>                        <td>    0.0626</td> <td>    0.025</td> <td>    2.549</td> <td> 0.011</td> <td>    0.014</td> <td>    0.111</td>\n",
              "</tr>\n",
              "<tr>\n",
              "  <th>TRAVEL_DIRECTION_S</th>                        <td>    0.0136</td> <td>    0.025</td> <td>    0.552</td> <td> 0.581</td> <td>   -0.035</td> <td>    0.062</td>\n",
              "</tr>\n",
              "<tr>\n",
              "  <th>TRAVEL_DIRECTION_W</th>                        <td>    0.0952</td> <td>    0.025</td> <td>    3.835</td> <td> 0.000</td> <td>    0.047</td> <td>    0.144</td>\n",
              "</tr>\n",
              "<tr>\n",
              "  <th>MANEUVER_AVOIDING VEHICLES/OBJECTS</th>        <td>   -2.1837</td> <td>    0.045</td> <td>  -48.790</td> <td> 0.000</td> <td>   -2.271</td> <td>   -2.096</td>\n",
              "</tr>\n",
              "<tr>\n",
              "  <th>MANEUVER_BACKING</th>                          <td>    0.0634</td> <td>    0.040</td> <td>    1.580</td> <td> 0.114</td> <td>   -0.015</td> <td>    0.142</td>\n",
              "</tr>\n",
              "<tr>\n",
              "  <th>MANEUVER_CHANGING LANES</th>                   <td>    0.8209</td> <td>    0.058</td> <td>   14.044</td> <td> 0.000</td> <td>    0.706</td> <td>    0.935</td>\n",
              "</tr>\n",
              "<tr>\n",
              "  <th>MANEUVER_PARKED</th>                           <td>   -1.4690</td> <td>    0.029</td> <td>  -51.475</td> <td> 0.000</td> <td>   -1.525</td> <td>   -1.413</td>\n",
              "</tr>\n",
              "<tr>\n",
              "  <th>MANEUVER_PASSING/OVERTAKING</th>               <td>    1.1049</td> <td>    0.057</td> <td>   19.231</td> <td> 0.000</td> <td>    0.992</td> <td>    1.217</td>\n",
              "</tr>\n",
              "<tr>\n",
              "  <th>MANEUVER_SKIDDING/CONTROL LOSS</th>            <td>   -2.0704</td> <td>    0.044</td> <td>  -47.003</td> <td> 0.000</td> <td>   -2.157</td> <td>   -1.984</td>\n",
              "</tr>\n",
              "<tr>\n",
              "  <th>MANEUVER_SLOW/STOP IN TRAFFIC</th>             <td>   -0.4035</td> <td>    0.027</td> <td>  -14.839</td> <td> 0.000</td> <td>   -0.457</td> <td>   -0.350</td>\n",
              "</tr>\n",
              "<tr>\n",
              "  <th>MANEUVER_STRAIGHT AHEAD</th>                   <td>   -0.2581</td> <td>    0.024</td> <td>  -10.756</td> <td> 0.000</td> <td>   -0.305</td> <td>   -0.211</td>\n",
              "</tr>\n",
              "<tr>\n",
              "  <th>MANEUVER_TURNING LEFT</th>                     <td>    0.1177</td> <td>    0.030</td> <td>    3.859</td> <td> 0.000</td> <td>    0.058</td> <td>    0.177</td>\n",
              "</tr>\n",
              "<tr>\n",
              "  <th>MANEUVER_TURNING RIGHT</th>                    <td>   -0.0807</td> <td>    0.035</td> <td>   -2.286</td> <td> 0.022</td> <td>   -0.150</td> <td>   -0.011</td>\n",
              "</tr>\n",
              "</table>"
            ],
            "text/latex": "\\begin{center}\n\\begin{tabular}{lclc}\n\\toprule\n\\textbf{Dep. Variable:}                              &      TARGET      & \\textbf{  No. Observations:  } &    707752    \\\\\n\\textbf{Model:}                                      &      Logit       & \\textbf{  Df Residuals:      } &    707714    \\\\\n\\textbf{Method:}                                     &       MLE        & \\textbf{  Df Model:          } &        37    \\\\\n\\textbf{Date:}                                       & Fri, 24 May 2024 & \\textbf{  Pseudo R-squ.:     } &    0.1173    \\\\\n\\textbf{Time:}                                       &     22:26:23     & \\textbf{  Log-Likelihood:    } & -1.6175e+05  \\\\\n\\textbf{converged:}                                  &       True       & \\textbf{  LL-Null:           } & -1.8325e+05  \\\\\n\\textbf{Covariance Type:}                            &    nonrobust     & \\textbf{  LLR p-value:       } &     0.000    \\\\\n\\bottomrule\n\\end{tabular}\n\\begin{tabular}{lcccccc}\n                                                     & \\textbf{coef} & \\textbf{std err} & \\textbf{z} & \\textbf{P$> |$z$|$} & \\textbf{[0.025} & \\textbf{0.975]}  \\\\\n\\midrule\n\\textbf{const}                                       &       0.9920  &     1.35e+05     &  7.34e-06  &         1.000        &    -2.65e+05    &     2.65e+05     \\\\\n\\textbf{POSTED\\_SPEED\\_LIMIT}                        &       0.0025  &        0.005     &     0.510  &         0.610        &       -0.007    &        0.012     \\\\\n\\textbf{NUM\\_UNITS}                                  &      -0.0020  &        0.004     &    -0.456  &         0.649        &       -0.010    &        0.006     \\\\\n\\textbf{CRASH\\_HOUR}                                 &       0.1008  &        0.005     &    21.585  &         0.000        &        0.092    &        0.110     \\\\\n\\textbf{LATITUDE}                                    &       0.0671  &        0.006     &    12.043  &         0.000        &        0.056    &        0.078     \\\\\n\\textbf{LONGITUDE}                                   &      -0.0202  &        0.006     &    -3.607  &         0.000        &       -0.031    &       -0.009     \\\\\n\\textbf{AGE}                                         &      -0.0383  &        0.005     &    -7.827  &         0.000        &       -0.048    &       -0.029     \\\\\n\\textbf{WEATHER\\_CONDITION\\_CLEAR}                   &       0.9515  &        0.041     &    23.410  &         0.000        &        0.872    &        1.031     \\\\\n\\textbf{WEATHER\\_CONDITION\\_CLOUDY/OVERCAST}         &       0.7653  &        0.046     &    16.495  &         0.000        &        0.674    &        0.856     \\\\\n\\textbf{WEATHER\\_CONDITION\\_RAIN}                    &       0.1756  &        0.041     &     4.327  &         0.000        &        0.096    &        0.255     \\\\\n\\textbf{WEATHER\\_CONDITION\\_SNOW}                    &       0.0072  &        0.041     &     0.173  &         0.863        &       -0.074    &        0.088     \\\\\n\\textbf{LIGHTING\\_CONDITION\\_DARKNESS, LIGHTED ROAD} &      -0.0259  &        0.018     &    -1.408  &         0.159        &       -0.062    &        0.010     \\\\\n\\textbf{LIGHTING\\_CONDITION\\_DAYLIGHT}               &       0.0597  &        0.017     &     3.505  &         0.000        &        0.026    &        0.093     \\\\\n\\textbf{ROADWAY\\_SURFACE\\_COND\\_DRY}                 &       1.2853  &          nan     &       nan  &           nan        &          nan    &          nan     \\\\\n\\textbf{ROADWAY\\_SURFACE\\_COND\\_ICE}                 &      -1.2118  &          nan     &       nan  &           nan        &          nan    &          nan     \\\\\n\\textbf{ROADWAY\\_SURFACE\\_COND\\_SNOW OR SLUSH}       &      -0.0116  &          nan     &       nan  &           nan        &          nan    &          nan     \\\\\n\\textbf{ROADWAY\\_SURFACE\\_COND\\_WET}                 &       0.9300  &          nan     &       nan  &           nan        &          nan    &          nan     \\\\\n\\textbf{CRASH\\_DAY\\_OF\\_WEEK\\_1}                     &       0.1633  &          nan     &       nan  &           nan        &          nan    &          nan     \\\\\n\\textbf{CRASH\\_DAY\\_OF\\_WEEK\\_2}                     &       0.1283  &          nan     &       nan  &           nan        &          nan    &          nan     \\\\\n\\textbf{CRASH\\_DAY\\_OF\\_WEEK\\_3}                     &       0.1033  &          nan     &       nan  &           nan        &          nan    &          nan     \\\\\n\\textbf{CRASH\\_DAY\\_OF\\_WEEK\\_4}                     &       0.1376  &          nan     &       nan  &           nan        &          nan    &          nan     \\\\\n\\textbf{CRASH\\_DAY\\_OF\\_WEEK\\_5}                     &       0.1604  &          nan     &       nan  &           nan        &          nan    &          nan     \\\\\n\\textbf{CRASH\\_DAY\\_OF\\_WEEK\\_6}                     &       0.1258  &          nan     &       nan  &           nan        &          nan    &          nan     \\\\\n\\textbf{CRASH\\_DAY\\_OF\\_WEEK\\_7}                     &       0.1733  &          nan     &       nan  &           nan        &          nan    &          nan     \\\\\n\\textbf{SEX\\_F}                                      &      -0.0826  &        0.168     &    -0.492  &         0.623        &       -0.412    &        0.247     \\\\\n\\textbf{SEX\\_M}                                      &      -0.1954  &        0.168     &    -1.164  &         0.245        &       -0.524    &        0.134     \\\\\n\\textbf{TRAVEL\\_DIRECTION\\_E}                        &       0.0647  &        0.025     &     2.613  &         0.009        &        0.016    &        0.113     \\\\\n\\textbf{TRAVEL\\_DIRECTION\\_N}                        &       0.0626  &        0.025     &     2.549  &         0.011        &        0.014    &        0.111     \\\\\n\\textbf{TRAVEL\\_DIRECTION\\_S}                        &       0.0136  &        0.025     &     0.552  &         0.581        &       -0.035    &        0.062     \\\\\n\\textbf{TRAVEL\\_DIRECTION\\_W}                        &       0.0952  &        0.025     &     3.835  &         0.000        &        0.047    &        0.144     \\\\\n\\textbf{MANEUVER\\_AVOIDING VEHICLES/OBJECTS}         &      -2.1837  &        0.045     &   -48.790  &         0.000        &       -2.271    &       -2.096     \\\\\n\\textbf{MANEUVER\\_BACKING}                           &       0.0634  &        0.040     &     1.580  &         0.114        &       -0.015    &        0.142     \\\\\n\\textbf{MANEUVER\\_CHANGING LANES}                    &       0.8209  &        0.058     &    14.044  &         0.000        &        0.706    &        0.935     \\\\\n\\textbf{MANEUVER\\_PARKED}                            &      -1.4690  &        0.029     &   -51.475  &         0.000        &       -1.525    &       -1.413     \\\\\n\\textbf{MANEUVER\\_PASSING/OVERTAKING}                &       1.1049  &        0.057     &    19.231  &         0.000        &        0.992    &        1.217     \\\\\n\\textbf{MANEUVER\\_SKIDDING/CONTROL LOSS}             &      -2.0704  &        0.044     &   -47.003  &         0.000        &       -2.157    &       -1.984     \\\\\n\\textbf{MANEUVER\\_SLOW/STOP IN TRAFFIC}              &      -0.4035  &        0.027     &   -14.839  &         0.000        &       -0.457    &       -0.350     \\\\\n\\textbf{MANEUVER\\_STRAIGHT AHEAD}                    &      -0.2581  &        0.024     &   -10.756  &         0.000        &       -0.305    &       -0.211     \\\\\n\\textbf{MANEUVER\\_TURNING LEFT}                      &       0.1177  &        0.030     &     3.859  &         0.000        &        0.058    &        0.177     \\\\\n\\textbf{MANEUVER\\_TURNING RIGHT}                     &      -0.0807  &        0.035     &    -2.286  &         0.022        &       -0.150    &       -0.011     \\\\\n\\bottomrule\n\\end{tabular}\n%\\caption{Logit Regression Results}\n\\end{center}"
          },
          "metadata": {},
          "execution_count": 92
        }
      ],
      "source": [
        "import statsmodels.api as sm\n",
        "#adding the constant to X_train\n",
        "X = sm.add_constant(X_train_trimmed_and_stnd)\n",
        "#instantiating & fitting the Logit model\n",
        "logit_model = sm.Logit(y_train.astype(float), X.astype(float))\n",
        "baseline_result = logit_model.fit(maxiter=3500)\n",
        "#checking the results\n",
        "baseline_result.summary()"
      ]
    },
    {
      "cell_type": "markdown",
      "metadata": {
        "id": "K_uIOHuTovTy"
      },
      "source": [
        "These results are horrendous, but I think a big part of the problem is the fact that a few categorical columns in the dataset - 'ROADWAY_SURFACE_COND' and 'CRASH_DAY_OF_WEEK' - have not had any of their constituent one-hot encoded classes dropped yet, which results in multicollinearity issues. Subsequently, both of these column-groups need to have an ohe-class column dropped. The silver lining is that we won't have to do this when we run the decision tree model.\n",
        "\n",
        "In any case, [it's important to carefully consider *which* class to drop](https://towardsdatascience.com/drop-first-can-hurt-your-ols-regression-models-interpretability-4ca529cfb707) and not just arbitrarily drop the first one. Let's take a look at the first column in question:"
      ]
    },
    {
      "cell_type": "code",
      "execution_count": 93,
      "metadata": {
        "id": "dmlIBc7cx9av",
        "colab": {
          "base_uri": "https://localhost:8080/"
        },
        "outputId": "e563975a-cd69-42c1-e9cb-ce07961c2bab"
      },
      "outputs": [
        {
          "output_type": "execute_result",
          "data": {
            "text/plain": [
              "ROADWAY_SURFACE_COND\n",
              "DRY              561675\n",
              "WET              114059\n",
              "SNOW OR SLUSH     26158\n",
              "ICE                5860\n",
              "Name: count, dtype: int64"
            ]
          },
          "metadata": {},
          "execution_count": 93
        }
      ],
      "source": [
        "X_train_categorical['ROADWAY_SURFACE_COND'].value_counts()"
      ]
    },
    {
      "cell_type": "markdown",
      "metadata": {
        "id": "ImdtS_HYx9vZ"
      },
      "source": [
        "One one hand, we may think to drop the 'DRY' class because it's a go-to standard driving time that we'd be inclined to compare other, less common weather conditions to. However, dropping 'DRY' rows would also drop almost 80% of our rows, so let's *not* do that.\n",
        "\n",
        "Fortunately, we do have grounds to drop the class with the most average coefficient among the road condition classes, which would be 'SNOW OR SLUSH' and that only results in a row loss of 4% - much more managable. Dropping this class means that we'll need to recognize that the remaining 'ROADWAY_SURFACE_COND' columns reference back to their median class of 'SNOW OR SLUSH'.\n",
        "\n",
        "With that decided, let's also take a look at 'CRASH_DAY_OF_WEEK' value counts:"
      ]
    },
    {
      "cell_type": "code",
      "execution_count": 94,
      "metadata": {
        "id": "HJbZb3ZypmSP",
        "colab": {
          "base_uri": "https://localhost:8080/"
        },
        "outputId": "26531644-88b4-44b2-b946-8c9ea4117868"
      },
      "outputs": [
        {
          "output_type": "execute_result",
          "data": {
            "text/plain": [
              "CRASH_DAY_OF_WEEK\n",
              "6    118225\n",
              "5    104241\n",
              "3    103016\n",
              "7    102611\n",
              "4    102461\n",
              "2     96246\n",
              "1     80952\n",
              "Name: count, dtype: int64"
            ]
          },
          "metadata": {},
          "execution_count": 94
        }
      ],
      "source": [
        "X_train_categorical['CRASH_DAY_OF_WEEK'].value_counts()"
      ]
    },
    {
      "cell_type": "markdown",
      "metadata": {
        "id": "pOBF1uwrwMSx"
      },
      "source": [
        "This is not great news - the median coefficient class from our results puts '4' (Wednesday) as the median class, which will result in the loss of 102,742 rows from our data, but doing so will make our StatsModels Logit results interpretable, so we have to do it."
      ]
    },
    {
      "cell_type": "code",
      "execution_count": 95,
      "metadata": {
        "id": "7vFu91C9Pz3u"
      },
      "outputs": [],
      "source": [
        "preliminary_columns_to_drop_for_statsmodels = ['ROADWAY_SURFACE_COND_SNOW OR SLUSH', 'CRASH_DAY_OF_WEEK_4']"
      ]
    },
    {
      "cell_type": "code",
      "execution_count": 96,
      "metadata": {
        "id": "1D3pQgWiv4PW",
        "colab": {
          "base_uri": "https://localhost:8080/",
          "height": 1000
        },
        "outputId": "6860bd8c-982c-458c-fef1-82f9cdeefa0b"
      },
      "outputs": [
        {
          "output_type": "stream",
          "name": "stdout",
          "text": [
            "Optimization terminated successfully.\n",
            "         Current function value: 0.228538\n",
            "         Iterations 8\n"
          ]
        },
        {
          "output_type": "execute_result",
          "data": {
            "text/plain": [
              "<class 'statsmodels.iolib.summary.Summary'>\n",
              "\"\"\"\n",
              "                           Logit Regression Results                           \n",
              "==============================================================================\n",
              "Dep. Variable:                 TARGET   No. Observations:               707752\n",
              "Model:                          Logit   Df Residuals:                   707714\n",
              "Method:                           MLE   Df Model:                           37\n",
              "Date:                Fri, 24 May 2024   Pseudo R-squ.:                  0.1173\n",
              "Time:                        22:26:32   Log-Likelihood:            -1.6175e+05\n",
              "converged:                       True   LL-Null:                   -1.8325e+05\n",
              "Covariance Type:            nonrobust   LLR p-value:                     0.000\n",
              "=============================================================================================================\n",
              "                                                coef    std err          z      P>|z|      [0.025      0.975]\n",
              "-------------------------------------------------------------------------------------------------------------\n",
              "const                                         1.1180      0.176      6.340      0.000       0.772       1.464\n",
              "POSTED_SPEED_LIMIT                            0.0025      0.005      0.510      0.610      -0.007       0.012\n",
              "NUM_UNITS                                    -0.0020      0.004     -0.456      0.649      -0.010       0.006\n",
              "CRASH_HOUR                                    0.1008      0.005     21.585      0.000       0.092       0.110\n",
              "LATITUDE                                      0.0671      0.006     12.043      0.000       0.056       0.078\n",
              "LONGITUDE                                    -0.0202      0.006     -3.607      0.000      -0.031      -0.009\n",
              "AGE                                          -0.0383      0.005     -7.827      0.000      -0.048      -0.029\n",
              "WEATHER_CONDITION_CLEAR                       0.9515      0.041     23.410      0.000       0.872       1.031\n",
              "WEATHER_CONDITION_CLOUDY/OVERCAST             0.7653      0.046     16.495      0.000       0.674       0.856\n",
              "WEATHER_CONDITION_RAIN                        0.1756      0.041      4.327      0.000       0.096       0.255\n",
              "WEATHER_CONDITION_SNOW                        0.0072      0.041      0.173      0.863      -0.074       0.088\n",
              "LIGHTING_CONDITION_DARKNESS, LIGHTED ROAD    -0.0259      0.018     -1.408      0.159      -0.062       0.010\n",
              "LIGHTING_CONDITION_DAYLIGHT                   0.0597      0.017      3.505      0.000       0.026       0.093\n",
              "ROADWAY_SURFACE_COND_DRY                      1.2969      0.025     51.707      0.000       1.248       1.346\n",
              "ROADWAY_SURFACE_COND_ICE                     -1.2002      0.034    -35.764      0.000      -1.266      -1.134\n",
              "ROADWAY_SURFACE_COND_WET                      0.9416      0.025     37.836      0.000       0.893       0.990\n",
              "CRASH_DAY_OF_WEEK_1                           0.0257      0.019      1.341      0.180      -0.012       0.063\n",
              "CRASH_DAY_OF_WEEK_2                          -0.0093      0.018     -0.504      0.615      -0.045       0.027\n",
              "CRASH_DAY_OF_WEEK_3                          -0.0343      0.018     -1.899      0.058      -0.070       0.001\n",
              "CRASH_DAY_OF_WEEK_5                           0.0228      0.018      1.253      0.210      -0.013       0.059\n",
              "CRASH_DAY_OF_WEEK_6                          -0.0118      0.018     -0.672      0.502      -0.046       0.023\n",
              "CRASH_DAY_OF_WEEK_7                           0.0357      0.018      1.966      0.049       0.000       0.071\n",
              "SEX_F                                        -0.0826      0.168     -0.492      0.623      -0.412       0.247\n",
              "SEX_M                                        -0.1954      0.168     -1.164      0.245      -0.524       0.134\n",
              "TRAVEL_DIRECTION_E                            0.0647      0.025      2.613      0.009       0.016       0.113\n",
              "TRAVEL_DIRECTION_N                            0.0626      0.025      2.549      0.011       0.014       0.111\n",
              "TRAVEL_DIRECTION_S                            0.0136      0.025      0.552      0.581      -0.035       0.062\n",
              "TRAVEL_DIRECTION_W                            0.0952      0.025      3.835      0.000       0.047       0.144\n",
              "MANEUVER_AVOIDING VEHICLES/OBJECTS           -2.1837      0.045    -48.790      0.000      -2.271      -2.096\n",
              "MANEUVER_BACKING                              0.0634      0.040      1.580      0.114      -0.015       0.142\n",
              "MANEUVER_CHANGING LANES                       0.8209      0.058     14.044      0.000       0.706       0.935\n",
              "MANEUVER_PARKED                              -1.4690      0.029    -51.475      0.000      -1.525      -1.413\n",
              "MANEUVER_PASSING/OVERTAKING                   1.1049      0.057     19.231      0.000       0.992       1.217\n",
              "MANEUVER_SKIDDING/CONTROL LOSS               -2.0704      0.044    -47.003      0.000      -2.157      -1.984\n",
              "MANEUVER_SLOW/STOP IN TRAFFIC                -0.4035      0.027    -14.839      0.000      -0.457      -0.350\n",
              "MANEUVER_STRAIGHT AHEAD                      -0.2581      0.024    -10.756      0.000      -0.305      -0.211\n",
              "MANEUVER_TURNING LEFT                         0.1177      0.030      3.859      0.000       0.058       0.177\n",
              "MANEUVER_TURNING RIGHT                       -0.0807      0.035     -2.286      0.022      -0.150      -0.011\n",
              "=============================================================================================================\n",
              "\"\"\""
            ],
            "text/html": [
              "<table class=\"simpletable\">\n",
              "<caption>Logit Regression Results</caption>\n",
              "<tr>\n",
              "  <th>Dep. Variable:</th>        <td>TARGET</td>      <th>  No. Observations:  </th>   <td>707752</td>   \n",
              "</tr>\n",
              "<tr>\n",
              "  <th>Model:</th>                 <td>Logit</td>      <th>  Df Residuals:      </th>   <td>707714</td>   \n",
              "</tr>\n",
              "<tr>\n",
              "  <th>Method:</th>                 <td>MLE</td>       <th>  Df Model:          </th>   <td>    37</td>   \n",
              "</tr>\n",
              "<tr>\n",
              "  <th>Date:</th>            <td>Fri, 24 May 2024</td> <th>  Pseudo R-squ.:     </th>   <td>0.1173</td>   \n",
              "</tr>\n",
              "<tr>\n",
              "  <th>Time:</th>                <td>22:26:32</td>     <th>  Log-Likelihood:    </th> <td>-1.6175e+05</td>\n",
              "</tr>\n",
              "<tr>\n",
              "  <th>converged:</th>             <td>True</td>       <th>  LL-Null:           </th> <td>-1.8325e+05</td>\n",
              "</tr>\n",
              "<tr>\n",
              "  <th>Covariance Type:</th>     <td>nonrobust</td>    <th>  LLR p-value:       </th>   <td> 0.000</td>   \n",
              "</tr>\n",
              "</table>\n",
              "<table class=\"simpletable\">\n",
              "<tr>\n",
              "                      <td></td>                         <th>coef</th>     <th>std err</th>      <th>z</th>      <th>P>|z|</th>  <th>[0.025</th>    <th>0.975]</th>  \n",
              "</tr>\n",
              "<tr>\n",
              "  <th>const</th>                                     <td>    1.1180</td> <td>    0.176</td> <td>    6.340</td> <td> 0.000</td> <td>    0.772</td> <td>    1.464</td>\n",
              "</tr>\n",
              "<tr>\n",
              "  <th>POSTED_SPEED_LIMIT</th>                        <td>    0.0025</td> <td>    0.005</td> <td>    0.510</td> <td> 0.610</td> <td>   -0.007</td> <td>    0.012</td>\n",
              "</tr>\n",
              "<tr>\n",
              "  <th>NUM_UNITS</th>                                 <td>   -0.0020</td> <td>    0.004</td> <td>   -0.456</td> <td> 0.649</td> <td>   -0.010</td> <td>    0.006</td>\n",
              "</tr>\n",
              "<tr>\n",
              "  <th>CRASH_HOUR</th>                                <td>    0.1008</td> <td>    0.005</td> <td>   21.585</td> <td> 0.000</td> <td>    0.092</td> <td>    0.110</td>\n",
              "</tr>\n",
              "<tr>\n",
              "  <th>LATITUDE</th>                                  <td>    0.0671</td> <td>    0.006</td> <td>   12.043</td> <td> 0.000</td> <td>    0.056</td> <td>    0.078</td>\n",
              "</tr>\n",
              "<tr>\n",
              "  <th>LONGITUDE</th>                                 <td>   -0.0202</td> <td>    0.006</td> <td>   -3.607</td> <td> 0.000</td> <td>   -0.031</td> <td>   -0.009</td>\n",
              "</tr>\n",
              "<tr>\n",
              "  <th>AGE</th>                                       <td>   -0.0383</td> <td>    0.005</td> <td>   -7.827</td> <td> 0.000</td> <td>   -0.048</td> <td>   -0.029</td>\n",
              "</tr>\n",
              "<tr>\n",
              "  <th>WEATHER_CONDITION_CLEAR</th>                   <td>    0.9515</td> <td>    0.041</td> <td>   23.410</td> <td> 0.000</td> <td>    0.872</td> <td>    1.031</td>\n",
              "</tr>\n",
              "<tr>\n",
              "  <th>WEATHER_CONDITION_CLOUDY/OVERCAST</th>         <td>    0.7653</td> <td>    0.046</td> <td>   16.495</td> <td> 0.000</td> <td>    0.674</td> <td>    0.856</td>\n",
              "</tr>\n",
              "<tr>\n",
              "  <th>WEATHER_CONDITION_RAIN</th>                    <td>    0.1756</td> <td>    0.041</td> <td>    4.327</td> <td> 0.000</td> <td>    0.096</td> <td>    0.255</td>\n",
              "</tr>\n",
              "<tr>\n",
              "  <th>WEATHER_CONDITION_SNOW</th>                    <td>    0.0072</td> <td>    0.041</td> <td>    0.173</td> <td> 0.863</td> <td>   -0.074</td> <td>    0.088</td>\n",
              "</tr>\n",
              "<tr>\n",
              "  <th>LIGHTING_CONDITION_DARKNESS, LIGHTED ROAD</th> <td>   -0.0259</td> <td>    0.018</td> <td>   -1.408</td> <td> 0.159</td> <td>   -0.062</td> <td>    0.010</td>\n",
              "</tr>\n",
              "<tr>\n",
              "  <th>LIGHTING_CONDITION_DAYLIGHT</th>               <td>    0.0597</td> <td>    0.017</td> <td>    3.505</td> <td> 0.000</td> <td>    0.026</td> <td>    0.093</td>\n",
              "</tr>\n",
              "<tr>\n",
              "  <th>ROADWAY_SURFACE_COND_DRY</th>                  <td>    1.2969</td> <td>    0.025</td> <td>   51.707</td> <td> 0.000</td> <td>    1.248</td> <td>    1.346</td>\n",
              "</tr>\n",
              "<tr>\n",
              "  <th>ROADWAY_SURFACE_COND_ICE</th>                  <td>   -1.2002</td> <td>    0.034</td> <td>  -35.764</td> <td> 0.000</td> <td>   -1.266</td> <td>   -1.134</td>\n",
              "</tr>\n",
              "<tr>\n",
              "  <th>ROADWAY_SURFACE_COND_WET</th>                  <td>    0.9416</td> <td>    0.025</td> <td>   37.836</td> <td> 0.000</td> <td>    0.893</td> <td>    0.990</td>\n",
              "</tr>\n",
              "<tr>\n",
              "  <th>CRASH_DAY_OF_WEEK_1</th>                       <td>    0.0257</td> <td>    0.019</td> <td>    1.341</td> <td> 0.180</td> <td>   -0.012</td> <td>    0.063</td>\n",
              "</tr>\n",
              "<tr>\n",
              "  <th>CRASH_DAY_OF_WEEK_2</th>                       <td>   -0.0093</td> <td>    0.018</td> <td>   -0.504</td> <td> 0.615</td> <td>   -0.045</td> <td>    0.027</td>\n",
              "</tr>\n",
              "<tr>\n",
              "  <th>CRASH_DAY_OF_WEEK_3</th>                       <td>   -0.0343</td> <td>    0.018</td> <td>   -1.899</td> <td> 0.058</td> <td>   -0.070</td> <td>    0.001</td>\n",
              "</tr>\n",
              "<tr>\n",
              "  <th>CRASH_DAY_OF_WEEK_5</th>                       <td>    0.0228</td> <td>    0.018</td> <td>    1.253</td> <td> 0.210</td> <td>   -0.013</td> <td>    0.059</td>\n",
              "</tr>\n",
              "<tr>\n",
              "  <th>CRASH_DAY_OF_WEEK_6</th>                       <td>   -0.0118</td> <td>    0.018</td> <td>   -0.672</td> <td> 0.502</td> <td>   -0.046</td> <td>    0.023</td>\n",
              "</tr>\n",
              "<tr>\n",
              "  <th>CRASH_DAY_OF_WEEK_7</th>                       <td>    0.0357</td> <td>    0.018</td> <td>    1.966</td> <td> 0.049</td> <td>    0.000</td> <td>    0.071</td>\n",
              "</tr>\n",
              "<tr>\n",
              "  <th>SEX_F</th>                                     <td>   -0.0826</td> <td>    0.168</td> <td>   -0.492</td> <td> 0.623</td> <td>   -0.412</td> <td>    0.247</td>\n",
              "</tr>\n",
              "<tr>\n",
              "  <th>SEX_M</th>                                     <td>   -0.1954</td> <td>    0.168</td> <td>   -1.164</td> <td> 0.245</td> <td>   -0.524</td> <td>    0.134</td>\n",
              "</tr>\n",
              "<tr>\n",
              "  <th>TRAVEL_DIRECTION_E</th>                        <td>    0.0647</td> <td>    0.025</td> <td>    2.613</td> <td> 0.009</td> <td>    0.016</td> <td>    0.113</td>\n",
              "</tr>\n",
              "<tr>\n",
              "  <th>TRAVEL_DIRECTION_N</th>                        <td>    0.0626</td> <td>    0.025</td> <td>    2.549</td> <td> 0.011</td> <td>    0.014</td> <td>    0.111</td>\n",
              "</tr>\n",
              "<tr>\n",
              "  <th>TRAVEL_DIRECTION_S</th>                        <td>    0.0136</td> <td>    0.025</td> <td>    0.552</td> <td> 0.581</td> <td>   -0.035</td> <td>    0.062</td>\n",
              "</tr>\n",
              "<tr>\n",
              "  <th>TRAVEL_DIRECTION_W</th>                        <td>    0.0952</td> <td>    0.025</td> <td>    3.835</td> <td> 0.000</td> <td>    0.047</td> <td>    0.144</td>\n",
              "</tr>\n",
              "<tr>\n",
              "  <th>MANEUVER_AVOIDING VEHICLES/OBJECTS</th>        <td>   -2.1837</td> <td>    0.045</td> <td>  -48.790</td> <td> 0.000</td> <td>   -2.271</td> <td>   -2.096</td>\n",
              "</tr>\n",
              "<tr>\n",
              "  <th>MANEUVER_BACKING</th>                          <td>    0.0634</td> <td>    0.040</td> <td>    1.580</td> <td> 0.114</td> <td>   -0.015</td> <td>    0.142</td>\n",
              "</tr>\n",
              "<tr>\n",
              "  <th>MANEUVER_CHANGING LANES</th>                   <td>    0.8209</td> <td>    0.058</td> <td>   14.044</td> <td> 0.000</td> <td>    0.706</td> <td>    0.935</td>\n",
              "</tr>\n",
              "<tr>\n",
              "  <th>MANEUVER_PARKED</th>                           <td>   -1.4690</td> <td>    0.029</td> <td>  -51.475</td> <td> 0.000</td> <td>   -1.525</td> <td>   -1.413</td>\n",
              "</tr>\n",
              "<tr>\n",
              "  <th>MANEUVER_PASSING/OVERTAKING</th>               <td>    1.1049</td> <td>    0.057</td> <td>   19.231</td> <td> 0.000</td> <td>    0.992</td> <td>    1.217</td>\n",
              "</tr>\n",
              "<tr>\n",
              "  <th>MANEUVER_SKIDDING/CONTROL LOSS</th>            <td>   -2.0704</td> <td>    0.044</td> <td>  -47.003</td> <td> 0.000</td> <td>   -2.157</td> <td>   -1.984</td>\n",
              "</tr>\n",
              "<tr>\n",
              "  <th>MANEUVER_SLOW/STOP IN TRAFFIC</th>             <td>   -0.4035</td> <td>    0.027</td> <td>  -14.839</td> <td> 0.000</td> <td>   -0.457</td> <td>   -0.350</td>\n",
              "</tr>\n",
              "<tr>\n",
              "  <th>MANEUVER_STRAIGHT AHEAD</th>                   <td>   -0.2581</td> <td>    0.024</td> <td>  -10.756</td> <td> 0.000</td> <td>   -0.305</td> <td>   -0.211</td>\n",
              "</tr>\n",
              "<tr>\n",
              "  <th>MANEUVER_TURNING LEFT</th>                     <td>    0.1177</td> <td>    0.030</td> <td>    3.859</td> <td> 0.000</td> <td>    0.058</td> <td>    0.177</td>\n",
              "</tr>\n",
              "<tr>\n",
              "  <th>MANEUVER_TURNING RIGHT</th>                    <td>   -0.0807</td> <td>    0.035</td> <td>   -2.286</td> <td> 0.022</td> <td>   -0.150</td> <td>   -0.011</td>\n",
              "</tr>\n",
              "</table>"
            ],
            "text/latex": "\\begin{center}\n\\begin{tabular}{lclc}\n\\toprule\n\\textbf{Dep. Variable:}                              &      TARGET      & \\textbf{  No. Observations:  } &    707752    \\\\\n\\textbf{Model:}                                      &      Logit       & \\textbf{  Df Residuals:      } &    707714    \\\\\n\\textbf{Method:}                                     &       MLE        & \\textbf{  Df Model:          } &        37    \\\\\n\\textbf{Date:}                                       & Fri, 24 May 2024 & \\textbf{  Pseudo R-squ.:     } &    0.1173    \\\\\n\\textbf{Time:}                                       &     22:26:32     & \\textbf{  Log-Likelihood:    } & -1.6175e+05  \\\\\n\\textbf{converged:}                                  &       True       & \\textbf{  LL-Null:           } & -1.8325e+05  \\\\\n\\textbf{Covariance Type:}                            &    nonrobust     & \\textbf{  LLR p-value:       } &     0.000    \\\\\n\\bottomrule\n\\end{tabular}\n\\begin{tabular}{lcccccc}\n                                                     & \\textbf{coef} & \\textbf{std err} & \\textbf{z} & \\textbf{P$> |$z$|$} & \\textbf{[0.025} & \\textbf{0.975]}  \\\\\n\\midrule\n\\textbf{const}                                       &       1.1180  &        0.176     &     6.340  &         0.000        &        0.772    &        1.464     \\\\\n\\textbf{POSTED\\_SPEED\\_LIMIT}                        &       0.0025  &        0.005     &     0.510  &         0.610        &       -0.007    &        0.012     \\\\\n\\textbf{NUM\\_UNITS}                                  &      -0.0020  &        0.004     &    -0.456  &         0.649        &       -0.010    &        0.006     \\\\\n\\textbf{CRASH\\_HOUR}                                 &       0.1008  &        0.005     &    21.585  &         0.000        &        0.092    &        0.110     \\\\\n\\textbf{LATITUDE}                                    &       0.0671  &        0.006     &    12.043  &         0.000        &        0.056    &        0.078     \\\\\n\\textbf{LONGITUDE}                                   &      -0.0202  &        0.006     &    -3.607  &         0.000        &       -0.031    &       -0.009     \\\\\n\\textbf{AGE}                                         &      -0.0383  &        0.005     &    -7.827  &         0.000        &       -0.048    &       -0.029     \\\\\n\\textbf{WEATHER\\_CONDITION\\_CLEAR}                   &       0.9515  &        0.041     &    23.410  &         0.000        &        0.872    &        1.031     \\\\\n\\textbf{WEATHER\\_CONDITION\\_CLOUDY/OVERCAST}         &       0.7653  &        0.046     &    16.495  &         0.000        &        0.674    &        0.856     \\\\\n\\textbf{WEATHER\\_CONDITION\\_RAIN}                    &       0.1756  &        0.041     &     4.327  &         0.000        &        0.096    &        0.255     \\\\\n\\textbf{WEATHER\\_CONDITION\\_SNOW}                    &       0.0072  &        0.041     &     0.173  &         0.863        &       -0.074    &        0.088     \\\\\n\\textbf{LIGHTING\\_CONDITION\\_DARKNESS, LIGHTED ROAD} &      -0.0259  &        0.018     &    -1.408  &         0.159        &       -0.062    &        0.010     \\\\\n\\textbf{LIGHTING\\_CONDITION\\_DAYLIGHT}               &       0.0597  &        0.017     &     3.505  &         0.000        &        0.026    &        0.093     \\\\\n\\textbf{ROADWAY\\_SURFACE\\_COND\\_DRY}                 &       1.2969  &        0.025     &    51.707  &         0.000        &        1.248    &        1.346     \\\\\n\\textbf{ROADWAY\\_SURFACE\\_COND\\_ICE}                 &      -1.2002  &        0.034     &   -35.764  &         0.000        &       -1.266    &       -1.134     \\\\\n\\textbf{ROADWAY\\_SURFACE\\_COND\\_WET}                 &       0.9416  &        0.025     &    37.836  &         0.000        &        0.893    &        0.990     \\\\\n\\textbf{CRASH\\_DAY\\_OF\\_WEEK\\_1}                     &       0.0257  &        0.019     &     1.341  &         0.180        &       -0.012    &        0.063     \\\\\n\\textbf{CRASH\\_DAY\\_OF\\_WEEK\\_2}                     &      -0.0093  &        0.018     &    -0.504  &         0.615        &       -0.045    &        0.027     \\\\\n\\textbf{CRASH\\_DAY\\_OF\\_WEEK\\_3}                     &      -0.0343  &        0.018     &    -1.899  &         0.058        &       -0.070    &        0.001     \\\\\n\\textbf{CRASH\\_DAY\\_OF\\_WEEK\\_5}                     &       0.0228  &        0.018     &     1.253  &         0.210        &       -0.013    &        0.059     \\\\\n\\textbf{CRASH\\_DAY\\_OF\\_WEEK\\_6}                     &      -0.0118  &        0.018     &    -0.672  &         0.502        &       -0.046    &        0.023     \\\\\n\\textbf{CRASH\\_DAY\\_OF\\_WEEK\\_7}                     &       0.0357  &        0.018     &     1.966  &         0.049        &        0.000    &        0.071     \\\\\n\\textbf{SEX\\_F}                                      &      -0.0826  &        0.168     &    -0.492  &         0.623        &       -0.412    &        0.247     \\\\\n\\textbf{SEX\\_M}                                      &      -0.1954  &        0.168     &    -1.164  &         0.245        &       -0.524    &        0.134     \\\\\n\\textbf{TRAVEL\\_DIRECTION\\_E}                        &       0.0647  &        0.025     &     2.613  &         0.009        &        0.016    &        0.113     \\\\\n\\textbf{TRAVEL\\_DIRECTION\\_N}                        &       0.0626  &        0.025     &     2.549  &         0.011        &        0.014    &        0.111     \\\\\n\\textbf{TRAVEL\\_DIRECTION\\_S}                        &       0.0136  &        0.025     &     0.552  &         0.581        &       -0.035    &        0.062     \\\\\n\\textbf{TRAVEL\\_DIRECTION\\_W}                        &       0.0952  &        0.025     &     3.835  &         0.000        &        0.047    &        0.144     \\\\\n\\textbf{MANEUVER\\_AVOIDING VEHICLES/OBJECTS}         &      -2.1837  &        0.045     &   -48.790  &         0.000        &       -2.271    &       -2.096     \\\\\n\\textbf{MANEUVER\\_BACKING}                           &       0.0634  &        0.040     &     1.580  &         0.114        &       -0.015    &        0.142     \\\\\n\\textbf{MANEUVER\\_CHANGING LANES}                    &       0.8209  &        0.058     &    14.044  &         0.000        &        0.706    &        0.935     \\\\\n\\textbf{MANEUVER\\_PARKED}                            &      -1.4690  &        0.029     &   -51.475  &         0.000        &       -1.525    &       -1.413     \\\\\n\\textbf{MANEUVER\\_PASSING/OVERTAKING}                &       1.1049  &        0.057     &    19.231  &         0.000        &        0.992    &        1.217     \\\\\n\\textbf{MANEUVER\\_SKIDDING/CONTROL LOSS}             &      -2.0704  &        0.044     &   -47.003  &         0.000        &       -2.157    &       -1.984     \\\\\n\\textbf{MANEUVER\\_SLOW/STOP IN TRAFFIC}              &      -0.4035  &        0.027     &   -14.839  &         0.000        &       -0.457    &       -0.350     \\\\\n\\textbf{MANEUVER\\_STRAIGHT AHEAD}                    &      -0.2581  &        0.024     &   -10.756  &         0.000        &       -0.305    &       -0.211     \\\\\n\\textbf{MANEUVER\\_TURNING LEFT}                      &       0.1177  &        0.030     &     3.859  &         0.000        &        0.058    &        0.177     \\\\\n\\textbf{MANEUVER\\_TURNING RIGHT}                     &      -0.0807  &        0.035     &    -2.286  &         0.022        &       -0.150    &       -0.011     \\\\\n\\bottomrule\n\\end{tabular}\n%\\caption{Logit Regression Results}\n\\end{center}"
          },
          "metadata": {},
          "execution_count": 96
        }
      ],
      "source": [
        "#dropping the classes\n",
        "X_train_trimmed_and_stnd_for_Logit = X_train_trimmed_and_stnd.drop(preliminary_columns_to_drop_for_statsmodels, axis=1)\n",
        "#refitting the model\n",
        "X = sm.add_constant(X_train_trimmed_and_stnd_for_Logit)\n",
        "#instantiating & fitting the Logit model\n",
        "logit_model = sm.Logit(y_train.astype(float), X.astype(float))\n",
        "baseline_result = logit_model.fit(maxiter=3500)\n",
        "#checking the results\n",
        "baseline_result.summary()"
      ]
    },
    {
      "cell_type": "markdown",
      "metadata": {
        "id": "zoVUgZVv1owX"
      },
      "source": [
        "There are a ton of variables that aren't statisitically significant here (having a P>[z] value greater than 0.05). This does not necessarily mean we should drop them, too; sometimes they can help the model and we just don't drop too many conclusions from those features. However, with 42 columns in a StatsModels Logit model, we're still dealing with a lot of noise here.\n",
        "\n",
        "Now that we have a real baseline, we can go through and also drop the features that are not statistically significant to finally get down to the factors that correlate with accidents that are avoidable, which would include the following.\n",
        "\n",
        "This is a lot to drop, but we can already see that these columns have little to do with what makes an accident avoidable (and a solution actionable). Travel direction, gender, and day of the week have shown value counts with little variance among them, so it makes sense to see that they don't contribute much to our model."
      ]
    },
    {
      "cell_type": "code",
      "execution_count": 97,
      "metadata": {
        "id": "EPpJovqDxT0w"
      },
      "outputs": [],
      "source": [
        "insignificant_columns_to_drop = ['POSTED_SPEED_LIMIT', 'NUM_UNITS', 'WEATHER_CONDITION_SNOW',\n",
        "                                 'LIGHTING_CONDITION_DARKNESS, LIGHTED ROAD', 'CRASH_DAY_OF_WEEK_1',\n",
        "                                 'CRASH_DAY_OF_WEEK_2', 'CRASH_DAY_OF_WEEK_3', 'CRASH_DAY_OF_WEEK_5',\n",
        "                                 'CRASH_DAY_OF_WEEK_6', 'SEX_F', 'SEX_M', 'TRAVEL_DIRECTION_S',\n",
        "                                 'MANEUVER_BACKING']"
      ]
    },
    {
      "cell_type": "code",
      "execution_count": 98,
      "metadata": {
        "id": "3hVmuvfTxinV",
        "colab": {
          "base_uri": "https://localhost:8080/",
          "height": 781
        },
        "outputId": "d57867d7-462b-4979-adcb-925bfb073b25"
      },
      "outputs": [
        {
          "output_type": "stream",
          "name": "stdout",
          "text": [
            "Optimization terminated successfully.\n",
            "         Current function value: 0.228643\n",
            "         Iterations 8\n"
          ]
        },
        {
          "output_type": "execute_result",
          "data": {
            "text/plain": [
              "<class 'statsmodels.iolib.summary.Summary'>\n",
              "\"\"\"\n",
              "                           Logit Regression Results                           \n",
              "==============================================================================\n",
              "Dep. Variable:                 TARGET   No. Observations:               707752\n",
              "Model:                          Logit   Df Residuals:                   707727\n",
              "Method:                           MLE   Df Model:                           24\n",
              "Date:                Fri, 24 May 2024   Pseudo R-squ.:                  0.1169\n",
              "Time:                        22:26:38   Log-Likelihood:            -1.6182e+05\n",
              "converged:                       True   LL-Null:                   -1.8325e+05\n",
              "Covariance Type:            nonrobust   LLR p-value:                     0.000\n",
              "======================================================================================================\n",
              "                                         coef    std err          z      P>|z|      [0.025      0.975]\n",
              "------------------------------------------------------------------------------------------------------\n",
              "const                                  0.9830      0.025     38.622      0.000       0.933       1.033\n",
              "CRASH_HOUR                             0.1005      0.005     21.611      0.000       0.091       0.110\n",
              "LATITUDE                               0.0635      0.006     11.418      0.000       0.053       0.074\n",
              "LONGITUDE                             -0.0204      0.006     -3.646      0.000      -0.031      -0.009\n",
              "AGE                                   -0.0410      0.005     -8.395      0.000      -0.051      -0.031\n",
              "WEATHER_CONDITION_CLEAR                0.9436      0.023     40.534      0.000       0.898       0.989\n",
              "WEATHER_CONDITION_CLOUDY/OVERCAST      0.7589      0.032     23.480      0.000       0.696       0.822\n",
              "WEATHER_CONDITION_RAIN                 0.1704      0.024      7.017      0.000       0.123       0.218\n",
              "LIGHTING_CONDITION_DAYLIGHT            0.0834      0.011      7.911      0.000       0.063       0.104\n",
              "ROADWAY_SURFACE_COND_DRY               1.2983      0.025     52.932      0.000       1.250       1.346\n",
              "ROADWAY_SURFACE_COND_ICE              -1.2008      0.033    -36.479      0.000      -1.265      -1.136\n",
              "ROADWAY_SURFACE_COND_WET               0.9409      0.024     38.960      0.000       0.894       0.988\n",
              "CRASH_DAY_OF_WEEK_7                    0.0341      0.014      2.487      0.013       0.007       0.061\n",
              "TRAVEL_DIRECTION_E                     0.0537      0.013      3.985      0.000       0.027       0.080\n",
              "TRAVEL_DIRECTION_N                     0.0516      0.013      3.940      0.000       0.026       0.077\n",
              "TRAVEL_DIRECTION_W                     0.0844      0.014      6.211      0.000       0.058       0.111\n",
              "MANEUVER_AVOIDING VEHICLES/OBJECTS    -2.2086      0.043    -51.789      0.000      -2.292      -2.125\n",
              "MANEUVER_CHANGING LANES                0.7988      0.057     14.049      0.000       0.687       0.910\n",
              "MANEUVER_PARKED                       -1.4978      0.024    -61.432      0.000      -1.546      -1.450\n",
              "MANEUVER_PASSING/OVERTAKING            1.0834      0.056     19.396      0.000       0.974       1.193\n",
              "MANEUVER_SKIDDING/CONTROL LOSS        -2.0943      0.042    -49.906      0.000      -2.177      -2.012\n",
              "MANEUVER_SLOW/STOP IN TRAFFIC         -0.4237      0.024    -17.958      0.000      -0.470      -0.377\n",
              "MANEUVER_STRAIGHT AHEAD               -0.2785      0.020    -14.019      0.000      -0.317      -0.240\n",
              "MANEUVER_TURNING LEFT                  0.0955      0.027      3.505      0.000       0.042       0.149\n",
              "MANEUVER_TURNING RIGHT                -0.1033      0.033     -3.172      0.002      -0.167      -0.039\n",
              "======================================================================================================\n",
              "\"\"\""
            ],
            "text/html": [
              "<table class=\"simpletable\">\n",
              "<caption>Logit Regression Results</caption>\n",
              "<tr>\n",
              "  <th>Dep. Variable:</th>        <td>TARGET</td>      <th>  No. Observations:  </th>   <td>707752</td>   \n",
              "</tr>\n",
              "<tr>\n",
              "  <th>Model:</th>                 <td>Logit</td>      <th>  Df Residuals:      </th>   <td>707727</td>   \n",
              "</tr>\n",
              "<tr>\n",
              "  <th>Method:</th>                 <td>MLE</td>       <th>  Df Model:          </th>   <td>    24</td>   \n",
              "</tr>\n",
              "<tr>\n",
              "  <th>Date:</th>            <td>Fri, 24 May 2024</td> <th>  Pseudo R-squ.:     </th>   <td>0.1169</td>   \n",
              "</tr>\n",
              "<tr>\n",
              "  <th>Time:</th>                <td>22:26:38</td>     <th>  Log-Likelihood:    </th> <td>-1.6182e+05</td>\n",
              "</tr>\n",
              "<tr>\n",
              "  <th>converged:</th>             <td>True</td>       <th>  LL-Null:           </th> <td>-1.8325e+05</td>\n",
              "</tr>\n",
              "<tr>\n",
              "  <th>Covariance Type:</th>     <td>nonrobust</td>    <th>  LLR p-value:       </th>   <td> 0.000</td>   \n",
              "</tr>\n",
              "</table>\n",
              "<table class=\"simpletable\">\n",
              "<tr>\n",
              "                   <td></td>                     <th>coef</th>     <th>std err</th>      <th>z</th>      <th>P>|z|</th>  <th>[0.025</th>    <th>0.975]</th>  \n",
              "</tr>\n",
              "<tr>\n",
              "  <th>const</th>                              <td>    0.9830</td> <td>    0.025</td> <td>   38.622</td> <td> 0.000</td> <td>    0.933</td> <td>    1.033</td>\n",
              "</tr>\n",
              "<tr>\n",
              "  <th>CRASH_HOUR</th>                         <td>    0.1005</td> <td>    0.005</td> <td>   21.611</td> <td> 0.000</td> <td>    0.091</td> <td>    0.110</td>\n",
              "</tr>\n",
              "<tr>\n",
              "  <th>LATITUDE</th>                           <td>    0.0635</td> <td>    0.006</td> <td>   11.418</td> <td> 0.000</td> <td>    0.053</td> <td>    0.074</td>\n",
              "</tr>\n",
              "<tr>\n",
              "  <th>LONGITUDE</th>                          <td>   -0.0204</td> <td>    0.006</td> <td>   -3.646</td> <td> 0.000</td> <td>   -0.031</td> <td>   -0.009</td>\n",
              "</tr>\n",
              "<tr>\n",
              "  <th>AGE</th>                                <td>   -0.0410</td> <td>    0.005</td> <td>   -8.395</td> <td> 0.000</td> <td>   -0.051</td> <td>   -0.031</td>\n",
              "</tr>\n",
              "<tr>\n",
              "  <th>WEATHER_CONDITION_CLEAR</th>            <td>    0.9436</td> <td>    0.023</td> <td>   40.534</td> <td> 0.000</td> <td>    0.898</td> <td>    0.989</td>\n",
              "</tr>\n",
              "<tr>\n",
              "  <th>WEATHER_CONDITION_CLOUDY/OVERCAST</th>  <td>    0.7589</td> <td>    0.032</td> <td>   23.480</td> <td> 0.000</td> <td>    0.696</td> <td>    0.822</td>\n",
              "</tr>\n",
              "<tr>\n",
              "  <th>WEATHER_CONDITION_RAIN</th>             <td>    0.1704</td> <td>    0.024</td> <td>    7.017</td> <td> 0.000</td> <td>    0.123</td> <td>    0.218</td>\n",
              "</tr>\n",
              "<tr>\n",
              "  <th>LIGHTING_CONDITION_DAYLIGHT</th>        <td>    0.0834</td> <td>    0.011</td> <td>    7.911</td> <td> 0.000</td> <td>    0.063</td> <td>    0.104</td>\n",
              "</tr>\n",
              "<tr>\n",
              "  <th>ROADWAY_SURFACE_COND_DRY</th>           <td>    1.2983</td> <td>    0.025</td> <td>   52.932</td> <td> 0.000</td> <td>    1.250</td> <td>    1.346</td>\n",
              "</tr>\n",
              "<tr>\n",
              "  <th>ROADWAY_SURFACE_COND_ICE</th>           <td>   -1.2008</td> <td>    0.033</td> <td>  -36.479</td> <td> 0.000</td> <td>   -1.265</td> <td>   -1.136</td>\n",
              "</tr>\n",
              "<tr>\n",
              "  <th>ROADWAY_SURFACE_COND_WET</th>           <td>    0.9409</td> <td>    0.024</td> <td>   38.960</td> <td> 0.000</td> <td>    0.894</td> <td>    0.988</td>\n",
              "</tr>\n",
              "<tr>\n",
              "  <th>CRASH_DAY_OF_WEEK_7</th>                <td>    0.0341</td> <td>    0.014</td> <td>    2.487</td> <td> 0.013</td> <td>    0.007</td> <td>    0.061</td>\n",
              "</tr>\n",
              "<tr>\n",
              "  <th>TRAVEL_DIRECTION_E</th>                 <td>    0.0537</td> <td>    0.013</td> <td>    3.985</td> <td> 0.000</td> <td>    0.027</td> <td>    0.080</td>\n",
              "</tr>\n",
              "<tr>\n",
              "  <th>TRAVEL_DIRECTION_N</th>                 <td>    0.0516</td> <td>    0.013</td> <td>    3.940</td> <td> 0.000</td> <td>    0.026</td> <td>    0.077</td>\n",
              "</tr>\n",
              "<tr>\n",
              "  <th>TRAVEL_DIRECTION_W</th>                 <td>    0.0844</td> <td>    0.014</td> <td>    6.211</td> <td> 0.000</td> <td>    0.058</td> <td>    0.111</td>\n",
              "</tr>\n",
              "<tr>\n",
              "  <th>MANEUVER_AVOIDING VEHICLES/OBJECTS</th> <td>   -2.2086</td> <td>    0.043</td> <td>  -51.789</td> <td> 0.000</td> <td>   -2.292</td> <td>   -2.125</td>\n",
              "</tr>\n",
              "<tr>\n",
              "  <th>MANEUVER_CHANGING LANES</th>            <td>    0.7988</td> <td>    0.057</td> <td>   14.049</td> <td> 0.000</td> <td>    0.687</td> <td>    0.910</td>\n",
              "</tr>\n",
              "<tr>\n",
              "  <th>MANEUVER_PARKED</th>                    <td>   -1.4978</td> <td>    0.024</td> <td>  -61.432</td> <td> 0.000</td> <td>   -1.546</td> <td>   -1.450</td>\n",
              "</tr>\n",
              "<tr>\n",
              "  <th>MANEUVER_PASSING/OVERTAKING</th>        <td>    1.0834</td> <td>    0.056</td> <td>   19.396</td> <td> 0.000</td> <td>    0.974</td> <td>    1.193</td>\n",
              "</tr>\n",
              "<tr>\n",
              "  <th>MANEUVER_SKIDDING/CONTROL LOSS</th>     <td>   -2.0943</td> <td>    0.042</td> <td>  -49.906</td> <td> 0.000</td> <td>   -2.177</td> <td>   -2.012</td>\n",
              "</tr>\n",
              "<tr>\n",
              "  <th>MANEUVER_SLOW/STOP IN TRAFFIC</th>      <td>   -0.4237</td> <td>    0.024</td> <td>  -17.958</td> <td> 0.000</td> <td>   -0.470</td> <td>   -0.377</td>\n",
              "</tr>\n",
              "<tr>\n",
              "  <th>MANEUVER_STRAIGHT AHEAD</th>            <td>   -0.2785</td> <td>    0.020</td> <td>  -14.019</td> <td> 0.000</td> <td>   -0.317</td> <td>   -0.240</td>\n",
              "</tr>\n",
              "<tr>\n",
              "  <th>MANEUVER_TURNING LEFT</th>              <td>    0.0955</td> <td>    0.027</td> <td>    3.505</td> <td> 0.000</td> <td>    0.042</td> <td>    0.149</td>\n",
              "</tr>\n",
              "<tr>\n",
              "  <th>MANEUVER_TURNING RIGHT</th>             <td>   -0.1033</td> <td>    0.033</td> <td>   -3.172</td> <td> 0.002</td> <td>   -0.167</td> <td>   -0.039</td>\n",
              "</tr>\n",
              "</table>"
            ],
            "text/latex": "\\begin{center}\n\\begin{tabular}{lclc}\n\\toprule\n\\textbf{Dep. Variable:}                      &      TARGET      & \\textbf{  No. Observations:  } &    707752    \\\\\n\\textbf{Model:}                              &      Logit       & \\textbf{  Df Residuals:      } &    707727    \\\\\n\\textbf{Method:}                             &       MLE        & \\textbf{  Df Model:          } &        24    \\\\\n\\textbf{Date:}                               & Fri, 24 May 2024 & \\textbf{  Pseudo R-squ.:     } &    0.1169    \\\\\n\\textbf{Time:}                               &     22:26:38     & \\textbf{  Log-Likelihood:    } & -1.6182e+05  \\\\\n\\textbf{converged:}                          &       True       & \\textbf{  LL-Null:           } & -1.8325e+05  \\\\\n\\textbf{Covariance Type:}                    &    nonrobust     & \\textbf{  LLR p-value:       } &     0.000    \\\\\n\\bottomrule\n\\end{tabular}\n\\begin{tabular}{lcccccc}\n                                             & \\textbf{coef} & \\textbf{std err} & \\textbf{z} & \\textbf{P$> |$z$|$} & \\textbf{[0.025} & \\textbf{0.975]}  \\\\\n\\midrule\n\\textbf{const}                               &       0.9830  &        0.025     &    38.622  &         0.000        &        0.933    &        1.033     \\\\\n\\textbf{CRASH\\_HOUR}                         &       0.1005  &        0.005     &    21.611  &         0.000        &        0.091    &        0.110     \\\\\n\\textbf{LATITUDE}                            &       0.0635  &        0.006     &    11.418  &         0.000        &        0.053    &        0.074     \\\\\n\\textbf{LONGITUDE}                           &      -0.0204  &        0.006     &    -3.646  &         0.000        &       -0.031    &       -0.009     \\\\\n\\textbf{AGE}                                 &      -0.0410  &        0.005     &    -8.395  &         0.000        &       -0.051    &       -0.031     \\\\\n\\textbf{WEATHER\\_CONDITION\\_CLEAR}           &       0.9436  &        0.023     &    40.534  &         0.000        &        0.898    &        0.989     \\\\\n\\textbf{WEATHER\\_CONDITION\\_CLOUDY/OVERCAST} &       0.7589  &        0.032     &    23.480  &         0.000        &        0.696    &        0.822     \\\\\n\\textbf{WEATHER\\_CONDITION\\_RAIN}            &       0.1704  &        0.024     &     7.017  &         0.000        &        0.123    &        0.218     \\\\\n\\textbf{LIGHTING\\_CONDITION\\_DAYLIGHT}       &       0.0834  &        0.011     &     7.911  &         0.000        &        0.063    &        0.104     \\\\\n\\textbf{ROADWAY\\_SURFACE\\_COND\\_DRY}         &       1.2983  &        0.025     &    52.932  &         0.000        &        1.250    &        1.346     \\\\\n\\textbf{ROADWAY\\_SURFACE\\_COND\\_ICE}         &      -1.2008  &        0.033     &   -36.479  &         0.000        &       -1.265    &       -1.136     \\\\\n\\textbf{ROADWAY\\_SURFACE\\_COND\\_WET}         &       0.9409  &        0.024     &    38.960  &         0.000        &        0.894    &        0.988     \\\\\n\\textbf{CRASH\\_DAY\\_OF\\_WEEK\\_7}             &       0.0341  &        0.014     &     2.487  &         0.013        &        0.007    &        0.061     \\\\\n\\textbf{TRAVEL\\_DIRECTION\\_E}                &       0.0537  &        0.013     &     3.985  &         0.000        &        0.027    &        0.080     \\\\\n\\textbf{TRAVEL\\_DIRECTION\\_N}                &       0.0516  &        0.013     &     3.940  &         0.000        &        0.026    &        0.077     \\\\\n\\textbf{TRAVEL\\_DIRECTION\\_W}                &       0.0844  &        0.014     &     6.211  &         0.000        &        0.058    &        0.111     \\\\\n\\textbf{MANEUVER\\_AVOIDING VEHICLES/OBJECTS} &      -2.2086  &        0.043     &   -51.789  &         0.000        &       -2.292    &       -2.125     \\\\\n\\textbf{MANEUVER\\_CHANGING LANES}            &       0.7988  &        0.057     &    14.049  &         0.000        &        0.687    &        0.910     \\\\\n\\textbf{MANEUVER\\_PARKED}                    &      -1.4978  &        0.024     &   -61.432  &         0.000        &       -1.546    &       -1.450     \\\\\n\\textbf{MANEUVER\\_PASSING/OVERTAKING}        &       1.0834  &        0.056     &    19.396  &         0.000        &        0.974    &        1.193     \\\\\n\\textbf{MANEUVER\\_SKIDDING/CONTROL LOSS}     &      -2.0943  &        0.042     &   -49.906  &         0.000        &       -2.177    &       -2.012     \\\\\n\\textbf{MANEUVER\\_SLOW/STOP IN TRAFFIC}      &      -0.4237  &        0.024     &   -17.958  &         0.000        &       -0.470    &       -0.377     \\\\\n\\textbf{MANEUVER\\_STRAIGHT AHEAD}            &      -0.2785  &        0.020     &   -14.019  &         0.000        &       -0.317    &       -0.240     \\\\\n\\textbf{MANEUVER\\_TURNING LEFT}              &       0.0955  &        0.027     &     3.505  &         0.000        &        0.042    &        0.149     \\\\\n\\textbf{MANEUVER\\_TURNING RIGHT}             &      -0.1033  &        0.033     &    -3.172  &         0.002        &       -0.167    &       -0.039     \\\\\n\\bottomrule\n\\end{tabular}\n%\\caption{Logit Regression Results}\n\\end{center}"
          },
          "metadata": {},
          "execution_count": 98
        }
      ],
      "source": [
        "#dropping the classes\n",
        "X_train_trimmed_and_stnd_for_Logit = X_train_trimmed_and_stnd_for_Logit.drop(insignificant_columns_to_drop, axis=1)\n",
        "#refitting the model\n",
        "X = sm.add_constant(X_train_trimmed_and_stnd_for_Logit)\n",
        "#instantiating & fitting the Logit model\n",
        "logit_model = sm.Logit(y_train.astype(float), X.astype(float))\n",
        "statistically_significant_Logit = logit_model.fit(maxiter=3500)\n",
        "#checking the results\n",
        "statistically_significant_Logit.summary()"
      ]
    },
    {
      "cell_type": "markdown",
      "metadata": {
        "id": "zXkkQL_DM7HM"
      },
      "source": [
        "Now we have a more reasonable model with all statisitically significant features. Before we try and optimize it via over/under-sampling, let's evaluate its performance via a confusion matrix to see how well it's predicting the target values in our test set."
      ]
    },
    {
      "cell_type": "code",
      "execution_count": 99,
      "metadata": {
        "id": "VxOHr6zr5FAH",
        "colab": {
          "base_uri": "https://localhost:8080/"
        },
        "outputId": "782b292a-9b18-4cb5-8b45-469f8ec89f7e"
      },
      "outputs": [
        {
          "output_type": "stream",
          "name": "stdout",
          "text": [
            "<class 'pandas.core.frame.DataFrame'>\n",
            "Index: 176939 entries, 713656 to 146602\n",
            "Data columns (total 24 columns):\n",
            " #   Column                              Non-Null Count   Dtype  \n",
            "---  ------                              --------------   -----  \n",
            " 0   CRASH_HOUR                          176939 non-null  float64\n",
            " 1   LATITUDE                            176939 non-null  float64\n",
            " 2   LONGITUDE                           176939 non-null  float64\n",
            " 3   AGE                                 176939 non-null  float64\n",
            " 4   WEATHER_CONDITION_CLEAR             176939 non-null  float64\n",
            " 5   WEATHER_CONDITION_CLOUDY/OVERCAST   176939 non-null  float64\n",
            " 6   WEATHER_CONDITION_RAIN              176939 non-null  float64\n",
            " 7   LIGHTING_CONDITION_DAYLIGHT         176939 non-null  float64\n",
            " 8   ROADWAY_SURFACE_COND_DRY            176939 non-null  float64\n",
            " 9   ROADWAY_SURFACE_COND_ICE            176939 non-null  float64\n",
            " 10  ROADWAY_SURFACE_COND_WET            176939 non-null  float64\n",
            " 11  CRASH_DAY_OF_WEEK_7                 176939 non-null  float64\n",
            " 12  TRAVEL_DIRECTION_E                  176939 non-null  float64\n",
            " 13  TRAVEL_DIRECTION_N                  176939 non-null  float64\n",
            " 14  TRAVEL_DIRECTION_W                  176939 non-null  float64\n",
            " 15  MANEUVER_AVOIDING VEHICLES/OBJECTS  176939 non-null  float64\n",
            " 16  MANEUVER_CHANGING LANES             176939 non-null  float64\n",
            " 17  MANEUVER_PARKED                     176939 non-null  float64\n",
            " 18  MANEUVER_PASSING/OVERTAKING         176939 non-null  float64\n",
            " 19  MANEUVER_SKIDDING/CONTROL LOSS      176939 non-null  float64\n",
            " 20  MANEUVER_SLOW/STOP IN TRAFFIC       176939 non-null  float64\n",
            " 21  MANEUVER_STRAIGHT AHEAD             176939 non-null  float64\n",
            " 22  MANEUVER_TURNING LEFT               176939 non-null  float64\n",
            " 23  MANEUVER_TURNING RIGHT              176939 non-null  float64\n",
            "dtypes: float64(24)\n",
            "memory usage: 33.7 MB\n"
          ]
        }
      ],
      "source": [
        "#First, we need to reformat X_test to be comprable to X_train_trimmed_and_stnd_for_Logit.\n",
        "# So far, we've reformatted X_test to include one-hot encoded categorical columns,\n",
        "# but non-standardized numerical data, so we need to (1) bring in those standardized columns,\n",
        "# (2) bring in the categorical ones, then (3) drop every column we've dropped so far.\n",
        "\n",
        "#transforming X_test numeric data\n",
        "X_test_numeric_stnd = scaler.transform(X_test_numeric)\n",
        "X_test_numeric_stnd = pd.DataFrame(X_test_numeric_stnd,\n",
        "                                   columns=X_test_numeric.columns,\n",
        "                                   index=X_test_numeric.index)\n",
        "\n",
        "#bringing X_test's pre-ohe columns back in\n",
        "X_test_trimmed_and_stnd_for_Logit = pd.concat([X_test_numeric_stnd, X_test_categorical_ohe], axis=1)\n",
        "\n",
        "#dropping the columns we dropped from the training data\n",
        "X_test_trimmed_and_stnd_for_Logit.drop(preliminary_columns_to_drop, axis=1, inplace=True)\n",
        "X_test_trimmed_and_stnd_for_Logit.drop(preliminary_columns_to_drop_for_statsmodels, axis=1, inplace=True)\n",
        "X_test_trimmed_and_stnd_for_Logit.drop(insignificant_columns_to_drop, axis=1, inplace=True)\n",
        "\n",
        "X_test_trimmed_and_stnd_for_Logit.info()"
      ]
    },
    {
      "cell_type": "code",
      "execution_count": 100,
      "metadata": {
        "id": "PFRFRGoRyXTo",
        "colab": {
          "base_uri": "https://localhost:8080/"
        },
        "outputId": "7f7914ea-780b-460a-b02b-4b094b43557a"
      },
      "outputs": [
        {
          "output_type": "stream",
          "name": "stdout",
          "text": [
            "<class 'pandas.core.frame.DataFrame'>\n",
            "Index: 176939 entries, 713656 to 146602\n",
            "Data columns (total 25 columns):\n",
            " #   Column                              Non-Null Count   Dtype  \n",
            "---  ------                              --------------   -----  \n",
            " 0   CRASH_HOUR                          176939 non-null  float64\n",
            " 1   LATITUDE                            176939 non-null  float64\n",
            " 2   LONGITUDE                           176939 non-null  float64\n",
            " 3   AGE                                 176939 non-null  float64\n",
            " 4   WEATHER_CONDITION_CLEAR             176939 non-null  float64\n",
            " 5   WEATHER_CONDITION_CLOUDY/OVERCAST   176939 non-null  float64\n",
            " 6   WEATHER_CONDITION_RAIN              176939 non-null  float64\n",
            " 7   LIGHTING_CONDITION_DAYLIGHT         176939 non-null  float64\n",
            " 8   ROADWAY_SURFACE_COND_DRY            176939 non-null  float64\n",
            " 9   ROADWAY_SURFACE_COND_ICE            176939 non-null  float64\n",
            " 10  ROADWAY_SURFACE_COND_WET            176939 non-null  float64\n",
            " 11  CRASH_DAY_OF_WEEK_7                 176939 non-null  float64\n",
            " 12  TRAVEL_DIRECTION_E                  176939 non-null  float64\n",
            " 13  TRAVEL_DIRECTION_N                  176939 non-null  float64\n",
            " 14  TRAVEL_DIRECTION_W                  176939 non-null  float64\n",
            " 15  MANEUVER_AVOIDING VEHICLES/OBJECTS  176939 non-null  float64\n",
            " 16  MANEUVER_CHANGING LANES             176939 non-null  float64\n",
            " 17  MANEUVER_PARKED                     176939 non-null  float64\n",
            " 18  MANEUVER_PASSING/OVERTAKING         176939 non-null  float64\n",
            " 19  MANEUVER_SKIDDING/CONTROL LOSS      176939 non-null  float64\n",
            " 20  MANEUVER_SLOW/STOP IN TRAFFIC       176939 non-null  float64\n",
            " 21  MANEUVER_STRAIGHT AHEAD             176939 non-null  float64\n",
            " 22  MANEUVER_TURNING LEFT               176939 non-null  float64\n",
            " 23  MANEUVER_TURNING RIGHT              176939 non-null  float64\n",
            " 24  CONST                               176939 non-null  int64  \n",
            "dtypes: float64(24), int64(1)\n",
            "memory usage: 35.1 MB\n"
          ]
        }
      ],
      "source": [
        "X_test_trimmed_and_stnd_for_Logit['CONST'] = 1\n",
        "#X_test_trimmed_and_stnd_for_Logit = X_test_trimmed_and_stnd_for_Logit.insert(0, 'CONST', 1)\n",
        "#cols.insert(0, cols.pop(cols.index('Mid')))\n",
        "X_test_trimmed_and_stnd_for_Logit.info()"
      ]
    },
    {
      "cell_type": "code",
      "execution_count": 101,
      "metadata": {
        "id": "Z0XKLRX3uE4l",
        "colab": {
          "base_uri": "https://localhost:8080/",
          "height": 449
        },
        "outputId": "daf88714-941d-4867-c31a-7ad8d592bf92"
      },
      "outputs": [
        {
          "output_type": "display_data",
          "data": {
            "text/plain": [
              "<Figure size 640x480 with 2 Axes>"
            ],
            "image/png": "[encoded data removed]"
          },
          "metadata": {}
        }
      ],
      "source": [
        "#making our y_test predictions\n",
        "y_pred_test = round(statistically_significant_Logit.predict(X_test_trimmed_and_stnd_for_Logit), 0)\n",
        "\n",
        "#confusion matrix\n",
        "from sklearn.metrics import ConfusionMatrixDisplay\n",
        "ConfusionMatrixDisplay.from_predictions(y_test, y_pred_test);"
      ]
    },
    {
      "cell_type": "code",
      "execution_count": 102,
      "metadata": {
        "id": "FZVx18yUwXFN",
        "colab": {
          "base_uri": "https://localhost:8080/"
        },
        "outputId": "64db0746-6b3a-4537-e622-11d4cede7aef"
      },
      "outputs": [
        {
          "output_type": "stream",
          "name": "stdout",
          "text": [
            "              precision    recall  f1-score   support\n",
            "\n",
            "           0       0.07      0.59      0.13     12651\n",
            "           1       0.93      0.43      0.59    164288\n",
            "\n",
            "    accuracy                           0.44    176939\n",
            "   macro avg       0.50      0.51      0.36    176939\n",
            "weighted avg       0.87      0.44      0.55    176939\n",
            "\n"
          ]
        }
      ],
      "source": [
        "from sklearn.metrics import classification_report\n",
        "target_names = ['0', '1']\n",
        "print(classification_report(y_test, y_pred_test, target_names = target_names))"
      ]
    },
    {
      "cell_type": "markdown",
      "metadata": {
        "id": "x2KVPAZm4tkj"
      },
      "source": [
        "That is atrocious, but it's almost certainly because we haven't yet addressed class imbalance."
      ]
    },
    {
      "cell_type": "code",
      "execution_count": 105,
      "metadata": {
        "id": "2NMf93y7xzoo",
        "colab": {
          "base_uri": "https://localhost:8080/"
        },
        "outputId": "1fc1f19b-0fbf-48d9-b105-529f896929bb"
      },
      "outputs": [
        {
          "output_type": "stream",
          "name": "stdout",
          "text": [
            "Optimization terminated successfully.\n",
            "         Current function value: 0.344184\n",
            "         Iterations 7\n",
            "Optimization terminated successfully.\n",
            "         Current function value: 0.311336\n",
            "         Iterations 8\n",
            "Optimization terminated successfully.\n",
            "         Current function value: 0.284783\n",
            "         Iterations 8\n",
            "Optimization terminated successfully.\n",
            "         Current function value: 0.262784\n",
            "         Iterations 8\n",
            "Optimization terminated successfully.\n",
            "         Current function value: 0.244355\n",
            "         Iterations 8\n",
            "sampling strategies & f1 scores: [('50%:', 0.9308333859497063), ('60%:', 0.9413448815108866), ('70%:', 0.9491407280784009), ('80%:', 0.9550660214159021), ('90%:', 0.9596368645679825)]\n"
          ]
        }
      ],
      "source": [
        "#empty list for f1 scores\n",
        "f1_scores = []\n",
        "\n",
        "#iterate through each sampling strategy\n",
        "for i in undersampling_strategies:\n",
        "    # define undersampling strategy\n",
        "    undersample = RandomUnderSampler(random_state=210, sampling_strategy=i)\n",
        "    # fit and apply the undersampling strategy\n",
        "    X_train_trimmed_and_stnd_for_Logit_under, y_train_under = undersample.fit_resample(X_train_trimmed_and_stnd_for_Logit, y_train)\n",
        "    #instantiate & fit the model to X-over & y-over\n",
        "    X_under = sm.add_constant(X_train_trimmed_and_stnd_for_Logit_under)\n",
        "    temp_logit_model = sm.Logit(y_train_under.astype(float), X_under.astype(float))\n",
        "    temp_logit_model = temp_logit_model.fit(maxiter=3500)\n",
        "    #make predictions on test set\n",
        "    y_hat = round(temp_logit_model.predict(X_under), 0)\n",
        "    #find & append f1 score\n",
        "    f1_scores.append(f1_score(y_train_under, y_hat))\n",
        "\n",
        "undersampling_percentages = ['50%:', '60%:', '70%:', '80%:', '90%:']\n",
        "print(\"sampling strategies & f1 scores:\", list(zip(undersampling_percentages, f1_scores)))"
      ]
    },
    {
      "cell_type": "markdown",
      "metadata": {
        "id": "UKslmCn17ck_"
      },
      "source": [
        "Undersampling at 90% gets the best score so far, now let's try oversampling."
      ]
    },
    {
      "cell_type": "code",
      "execution_count": 106,
      "metadata": {
        "id": "Je77BnLp7KxM",
        "colab": {
          "base_uri": "https://localhost:8080/"
        },
        "outputId": "9a48a72e-ede0-493d-9ea5-2a8f3a56fde8"
      },
      "outputs": [
        {
          "output_type": "stream",
          "name": "stdout",
          "text": [
            "Optimization terminated successfully.\n",
            "         Current function value: 0.242820\n",
            "         Iterations 8\n",
            "Optimization terminated successfully.\n",
            "         Current function value: 0.256267\n",
            "         Iterations 8\n",
            "Optimization terminated successfully.\n",
            "         Current function value: 0.269210\n",
            "         Iterations 8\n",
            "Optimization terminated successfully.\n",
            "         Current function value: 0.281399\n",
            "         Iterations 8\n",
            "Optimization terminated successfully.\n",
            "         Current function value: 0.293057\n",
            "         Iterations 8\n",
            "sampling strategies & f1 scores: [('110%:', 0.9600212988952298), ('120%:', 0.9566744405372013), ('130%:', 0.9533710096449901), ('140%:', 0.95002902712274), ('150%:', 0.9467121117926914)]\n"
          ]
        }
      ],
      "source": [
        "#empty list for f1 scores\n",
        "f1_scores = []\n",
        "\n",
        "#iterate through each sampling strategy\n",
        "for i in oversampling_strategies:\n",
        "    # define oversampling strategy\n",
        "    oversample = RandomOverSampler(random_state=210, sampling_strategy=i)\n",
        "    # fit and apply the oversampling strategy\n",
        "    X_train_trimmed_and_stnd_for_Logit_over, y_train_over = oversample.fit_resample(X_train_trimmed_and_stnd_for_Logit, y_train)\n",
        "    #instantiate & fit the model to X-over & y-over\n",
        "    X_over = sm.add_constant(X_train_trimmed_and_stnd_for_Logit_over)\n",
        "    temp_logit_model = sm.Logit(y_train_over.astype(float), X_over.astype(float))\n",
        "    temp_logit_model = temp_logit_model.fit(maxiter=3500)\n",
        "    #make predictions\n",
        "    y_hat = round(temp_logit_model.predict(X_over), 0)\n",
        "    #find & append f1 score\n",
        "    f1_scores.append(f1_score(y_train_over, y_hat))\n",
        "\n",
        "oversampling_percentages = ['110%:', '120%:', '130%:', '140%:', '150%:']\n",
        "print(\"sampling strategies & f1 scores:\", list(zip(oversampling_percentages, f1_scores)))"
      ]
    },
    {
      "cell_type": "markdown",
      "metadata": {
        "id": "XiYbypi48nhP"
      },
      "source": [
        "Oversampling at 110% does even better. Finally, let's see the extent to which SMOTE oversampling will help."
      ]
    },
    {
      "cell_type": "code",
      "execution_count": 107,
      "metadata": {
        "id": "bHUp0w-U8cY0",
        "colab": {
          "base_uri": "https://localhost:8080/"
        },
        "outputId": "35355ca3-3d41-4295-c10b-4d9f7ad23e9b"
      },
      "outputs": [
        {
          "output_type": "stream",
          "name": "stdout",
          "text": [
            "Optimization terminated successfully.\n",
            "         Current function value: 0.242792\n",
            "         Iterations 8\n",
            "Optimization terminated successfully.\n",
            "         Current function value: 0.256338\n",
            "         Iterations 8\n",
            "Optimization terminated successfully.\n",
            "         Current function value: 0.269188\n",
            "         Iterations 8\n",
            "Optimization terminated successfully.\n",
            "         Current function value: 0.281347\n",
            "         Iterations 8\n",
            "Optimization terminated successfully.\n",
            "         Current function value: 0.293111\n",
            "         Iterations 8\n",
            "sampling strategies & f1 scores: [('110%:', 0.9600201838993798), ('120%:', 0.9566706242214047), ('130%:', 0.9533607241913552), ('140%:', 0.9500172559732915), ('150%:', 0.946671796398899)]\n"
          ]
        }
      ],
      "source": [
        "#empty list for f1 scores\n",
        "f1_scores = []\n",
        "\n",
        "#iterate through each SMOTE oversampling strategy\n",
        "for i in oversampling_strategies:\n",
        "    smote = SMOTE(random_state=210, sampling_strategy=i)\n",
        "    # fit and apply the oversampling strategy\n",
        "    X_train_trimmed_and_stnd_for_Logit_smote, y_train_smote = smote.fit_resample(X_train_trimmed_and_stnd_for_Logit, y_train)\n",
        "    #instantiate & fit the model to X-smote & y-smote\n",
        "    X_smote = sm.add_constant(X_train_trimmed_and_stnd_for_Logit_smote)\n",
        "    temp_logit_model = sm.Logit(y_train_smote.astype(float), X_smote.astype(float))\n",
        "    temp_logit_model = temp_logit_model.fit(maxiter=3500)\n",
        "    #make predictions\n",
        "    y_hat = round(temp_logit_model.predict(X_smote), 0)\n",
        "    #find & append f1 score\n",
        "    f1_scores.append(f1_score(y_train_smote, y_hat))\n",
        "\n",
        "oversampling_percentages = ['110%:', '120%:', '130%:', '140%:', '150%:']\n",
        "print(\"sampling strategies & f1 scores:\", list(zip(oversampling_percentages, f1_scores)))"
      ]
    },
    {
      "cell_type": "markdown",
      "metadata": {
        "id": "yEF9gee3_Q41"
      },
      "source": [
        "It looks like oversampling at 110% just *barely* still outperforms SMOTE oversampling at the same percentage (0.960021 versus 0.960020), so we'll stick with oversampling."
      ]
    },
    {
      "cell_type": "code",
      "execution_count": 111,
      "metadata": {
        "id": "Nh0H9TYL-SjR",
        "colab": {
          "base_uri": "https://localhost:8080/",
          "height": 501
        },
        "outputId": "f93441ee-f41a-4f13-e550-661e11152b7b"
      },
      "outputs": [
        {
          "output_type": "stream",
          "name": "stdout",
          "text": [
            "Optimization terminated successfully.\n",
            "         Current function value: 0.242820\n",
            "         Iterations 8\n"
          ]
        },
        {
          "output_type": "display_data",
          "data": {
            "text/plain": [
              "<Figure size 640x480 with 2 Axes>"
            ],
            "image/png": "[encoded data removed]"
          },
          "metadata": {}
        }
      ],
      "source": [
        "# defining our optimal sampling strategy\n",
        "oversample = RandomOverSampler(random_state=210, sampling_strategy={0:56038, 1:656758})\n",
        "# fit and apply the oversampling strategy\n",
        "X_train_trimmed_and_stnd_for_Logit_over, y_train_over = oversample.fit_resample(X_train_trimmed_and_stnd_for_Logit, y_train)\n",
        "#instantiate & fit the model to X-over & y-over\n",
        "X_over = sm.add_constant(X_train_trimmed_and_stnd_for_Logit_over)\n",
        "oversampled_logit_model = sm.Logit(y_train_over.astype(float), X_over.astype(float))\n",
        "oversampled_logit_model = oversampled_logit_model.fit(maxiter=3500)\n",
        "\n",
        "#make predictions\n",
        "y_pred_test = round(oversampled_logit_model.predict(X_test_trimmed_and_stnd_for_Logit), 0)\n",
        "#confusion matrix\n",
        "ConfusionMatrixDisplay.from_predictions(y_test, y_pred_test);"
      ]
    },
    {
      "cell_type": "code",
      "execution_count": 112,
      "metadata": {
        "id": "c-KiMqJORGKN",
        "colab": {
          "base_uri": "https://localhost:8080/"
        },
        "outputId": "0bba9fba-e0ee-4022-de8d-58480b810e2a"
      },
      "outputs": [
        {
          "output_type": "stream",
          "name": "stdout",
          "text": [
            "              precision    recall  f1-score   support\n",
            "\n",
            "           0       0.07      0.59      0.13     12651\n",
            "           1       0.93      0.42      0.58    164288\n",
            "\n",
            "    accuracy                           0.43    176939\n",
            "   macro avg       0.50      0.50      0.35    176939\n",
            "weighted avg       0.87      0.43      0.55    176939\n",
            "\n"
          ]
        }
      ],
      "source": [
        "print(classification_report(y_test, y_pred_test, target_names = target_names))"
      ]
    },
    {
      "cell_type": "markdown",
      "metadata": {
        "id": "sXIH5-EfSZ97"
      },
      "source": [
        "Wow, oversampling didn't really improve our model. Let's try regularization since overfitting seems to be a problem when we compare the f1 scores of our train set (0.96) to our test set above."
      ]
    },
    {
      "cell_type": "code",
      "execution_count": 115,
      "metadata": {
        "id": "w15sGAxuR5HQ",
        "colab": {
          "base_uri": "https://localhost:8080/"
        },
        "outputId": "096accdf-471c-44af-ada3-638a70d854bf"
      },
      "outputs": [
        {
          "output_type": "stream",
          "name": "stdout",
          "text": [
            "Optimization terminated successfully    (Exit mode 0)\n",
            "            Current function value: 0.2428244574281399\n",
            "            Iterations: 162\n",
            "            Function evaluations: 162\n",
            "            Gradient evaluations: 162\n"
          ]
        },
        {
          "output_type": "stream",
          "name": "stderr",
          "text": [
            "/usr/local/lib/python3.10/dist-packages/statsmodels/base/l1_solvers_common.py:71: ConvergenceWarning: QC check did not pass for 19 out of 25 parameters\n",
            "Try increasing solver accuracy or number of iterations, decreasing alpha, or switch solvers\n",
            "  warnings.warn(message, ConvergenceWarning)\n"
          ]
        },
        {
          "output_type": "stream",
          "name": "stdout",
          "text": [
            "Optimization terminated successfully    (Exit mode 0)\n",
            "            Current function value: 0.2428327638768982\n",
            "            Iterations: 355\n",
            "            Function evaluations: 356\n",
            "            Gradient evaluations: 355\n"
          ]
        },
        {
          "output_type": "stream",
          "name": "stderr",
          "text": [
            "/usr/local/lib/python3.10/dist-packages/statsmodels/base/l1_solvers_common.py:71: ConvergenceWarning: QC check did not pass for 7 out of 25 parameters\n",
            "Try increasing solver accuracy or number of iterations, decreasing alpha, or switch solvers\n",
            "  warnings.warn(message, ConvergenceWarning)\n"
          ]
        },
        {
          "output_type": "stream",
          "name": "stdout",
          "text": [
            "Optimization terminated successfully    (Exit mode 0)\n",
            "            Current function value: 0.24284341687337704\n",
            "            Iterations: 421\n",
            "            Function evaluations: 421\n",
            "            Gradient evaluations: 421\n"
          ]
        },
        {
          "output_type": "stream",
          "name": "stderr",
          "text": [
            "/usr/local/lib/python3.10/dist-packages/statsmodels/base/l1_solvers_common.py:71: ConvergenceWarning: QC check did not pass for 11 out of 25 parameters\n",
            "Try increasing solver accuracy or number of iterations, decreasing alpha, or switch solvers\n",
            "  warnings.warn(message, ConvergenceWarning)\n"
          ]
        },
        {
          "output_type": "stream",
          "name": "stdout",
          "text": [
            "Optimization terminated successfully    (Exit mode 0)\n",
            "            Current function value: 0.2428642908537051\n",
            "            Iterations: 477\n",
            "            Function evaluations: 477\n",
            "            Gradient evaluations: 477\n"
          ]
        },
        {
          "output_type": "stream",
          "name": "stderr",
          "text": [
            "/usr/local/lib/python3.10/dist-packages/statsmodels/base/l1_solvers_common.py:71: ConvergenceWarning: QC check did not pass for 16 out of 25 parameters\n",
            "Try increasing solver accuracy or number of iterations, decreasing alpha, or switch solvers\n",
            "  warnings.warn(message, ConvergenceWarning)\n"
          ]
        },
        {
          "output_type": "stream",
          "name": "stdout",
          "text": [
            "Optimization terminated successfully    (Exit mode 0)\n",
            "            Current function value: 0.24292736627721842\n",
            "            Iterations: 487\n",
            "            Function evaluations: 487\n",
            "            Gradient evaluations: 487\n"
          ]
        },
        {
          "output_type": "stream",
          "name": "stderr",
          "text": [
            "/usr/local/lib/python3.10/dist-packages/statsmodels/base/l1_solvers_common.py:71: ConvergenceWarning: QC check did not pass for 10 out of 25 parameters\n",
            "Try increasing solver accuracy or number of iterations, decreasing alpha, or switch solvers\n",
            "  warnings.warn(message, ConvergenceWarning)\n"
          ]
        },
        {
          "output_type": "stream",
          "name": "stdout",
          "text": [
            "Optimization terminated successfully    (Exit mode 0)\n",
            "            Current function value: 0.2430336278828622\n",
            "            Iterations: 416\n",
            "            Function evaluations: 416\n",
            "            Gradient evaluations: 416\n"
          ]
        },
        {
          "output_type": "stream",
          "name": "stderr",
          "text": [
            "/usr/local/lib/python3.10/dist-packages/statsmodels/base/l1_solvers_common.py:71: ConvergenceWarning: QC check did not pass for 7 out of 25 parameters\n",
            "Try increasing solver accuracy or number of iterations, decreasing alpha, or switch solvers\n",
            "  warnings.warn(message, ConvergenceWarning)\n"
          ]
        },
        {
          "output_type": "stream",
          "name": "stdout",
          "text": [
            "Optimization terminated successfully    (Exit mode 0)\n",
            "            Current function value: 0.2438616057776582\n",
            "            Iterations: 276\n",
            "            Function evaluations: 276\n",
            "            Gradient evaluations: 276\n",
            "alpha levels & f1 scores: [(0.1, 0.5802636648407792), (0.5, 0.5804430933628114), (1, 0.5803601340033502), (2, 0.5812183272167287), (5, 0.5853284108211835), (10, 0.5868778959298643), (50, 0.6205368555602897)]\n"
          ]
        }
      ],
      "source": [
        "f1_scores = []\n",
        "\n",
        "alpha_levels = [0.1, 0.5, 1, 2, 5, 10, 50]\n",
        "for i in alpha_levels:\n",
        "  X_over = sm.add_constant(X_train_trimmed_and_stnd_for_Logit_over)\n",
        "  oversampled_logit_model_reg = sm.Logit(y_train_over.astype(float), X_over.astype(float))\n",
        "  oversampled_logit_model_reg = oversampled_logit_model_reg.fit_regularized(maxiter=5000,\n",
        "                                                                            method='l1',\n",
        "                                                                            alpha=i,\n",
        "                                                                            trim_mode='size')\n",
        "#make predictions\n",
        "  y_pred_test = round(oversampled_logit_model_reg.predict(X_test_trimmed_and_stnd_for_Logit), 0)\n",
        "#find & append f1 score\n",
        "  f1_scores.append(f1_score(y_test, y_pred_test))\n",
        "\n",
        "print(\"alpha levels & f1 scores:\", list(zip(alpha_levels, f1_scores)))"
      ]
    },
    {
      "cell_type": "markdown",
      "source": [
        "It looks like a higher alpha at 50 works best, let's investigate that one further."
      ],
      "metadata": {
        "id": "hRQ9AZtK4E2R"
      }
    },
    {
      "cell_type": "code",
      "execution_count": 116,
      "metadata": {
        "id": "2_Qx3u7VpbSG",
        "colab": {
          "base_uri": "https://localhost:8080/",
          "height": 536
        },
        "outputId": "969c4904-b96e-4048-cb8d-e7b7732c025a"
      },
      "outputs": [
        {
          "output_type": "stream",
          "name": "stdout",
          "text": [
            "Optimization terminated successfully    (Exit mode 0)\n",
            "            Current function value: 0.2438616057776582\n",
            "            Iterations: 276\n",
            "            Function evaluations: 276\n",
            "            Gradient evaluations: 276\n"
          ]
        },
        {
          "output_type": "display_data",
          "data": {
            "text/plain": [
              "<Figure size 640x480 with 2 Axes>"
            ],
            "image/png": "[encoded data removed]"
          },
          "metadata": {}
        }
      ],
      "source": [
        "#fitting with regularization and alpha set to 0.1\n",
        "oversampled_logit_model_reg = sm.Logit(y_train_over.astype(float), X_over.astype(float))\n",
        "oversampled_logit_model_reg = oversampled_logit_model_reg.fit_regularized(maxiter=5000,\n",
        "                                                                          method='l1',\n",
        "                                                                          alpha=50,\n",
        "                                                                          trim_mode='size')\n",
        "#making our test predictions\n",
        "y_pred_test = round(oversampled_logit_model_reg.predict(X_test_trimmed_and_stnd_for_Logit), 0)\n",
        "#confusion matrix\n",
        "ConfusionMatrixDisplay.from_predictions(y_test, y_pred_test);"
      ]
    },
    {
      "cell_type": "code",
      "execution_count": 117,
      "metadata": {
        "id": "fj--IMsmXt8w",
        "colab": {
          "base_uri": "https://localhost:8080/"
        },
        "outputId": "b1a0d5f9-161c-4181-c548-24a406470304"
      },
      "outputs": [
        {
          "output_type": "stream",
          "name": "stdout",
          "text": [
            "              precision    recall  f1-score   support\n",
            "\n",
            "           0       0.07      0.55      0.13     12651\n",
            "           1       0.93      0.47      0.62    164288\n",
            "\n",
            "    accuracy                           0.47    176939\n",
            "   macro avg       0.50      0.51      0.38    176939\n",
            "weighted avg       0.87      0.47      0.59    176939\n",
            "\n"
          ]
        }
      ],
      "source": [
        "print(classification_report(y_test, y_pred_test, target_names = target_names))"
      ]
    },
    {
      "cell_type": "markdown",
      "metadata": {
        "id": "Iwf1XqXzDX6P"
      },
      "source": [
        "This model is still terrible and isn't really improving. This is probably because there just isn't any sort of linear relationship between these diverse types of columns and the feature-engineered target column, which condenses 38 classes down into \"avoidable\" and \"not-so-avoidable\". I just don't think a Logit model is right for this data at this point, so let's move on and see whether a decision tree can do a better job."
      ]
    },
    {
      "cell_type": "markdown",
      "metadata": {
        "id": "A8dvFCX0qh1i"
      },
      "source": [
        "# Running a decision tree model\n",
        "\n",
        "This is another white-box model we can use to make sense of this data in an interpretable manner. To begin, let's see how it performs with all 69 columns we began this notebook with."
      ]
    },
    {
      "cell_type": "code",
      "execution_count": 118,
      "metadata": {
        "collapsed": true,
        "id": "CcNxZWtjqTxs",
        "colab": {
          "base_uri": "https://localhost:8080/"
        },
        "outputId": "a5e34344-683f-4036-9fc2-7812e698f169"
      },
      "outputs": [
        {
          "output_type": "stream",
          "name": "stdout",
          "text": [
            "<class 'pandas.core.frame.DataFrame'>\n",
            "Index: 707752 entries, 262116 to 303626\n",
            "Data columns (total 69 columns):\n",
            " #   Column                                       Non-Null Count   Dtype  \n",
            "---  ------                                       --------------   -----  \n",
            " 0   POSTED_SPEED_LIMIT                           707752 non-null  int64  \n",
            " 1   NUM_UNITS                                    707752 non-null  int64  \n",
            " 2   CRASH_HOUR                                   707752 non-null  int64  \n",
            " 3   LATITUDE                                     707752 non-null  float64\n",
            " 4   LONGITUDE                                    707752 non-null  float64\n",
            " 5   AGE                                          707752 non-null  float64\n",
            " 6   WEATHER_CONDITION_BLOWING SAND, SOIL, DIRT   707752 non-null  float64\n",
            " 7   WEATHER_CONDITION_BLOWING SNOW               707752 non-null  float64\n",
            " 8   WEATHER_CONDITION_CLEAR                      707752 non-null  float64\n",
            " 9   WEATHER_CONDITION_CLOUDY/OVERCAST            707752 non-null  float64\n",
            " 10  WEATHER_CONDITION_FOG/SMOKE/HAZE             707752 non-null  float64\n",
            " 11  WEATHER_CONDITION_FREEZING RAIN/DRIZZLE      707752 non-null  float64\n",
            " 12  WEATHER_CONDITION_RAIN                       707752 non-null  float64\n",
            " 13  WEATHER_CONDITION_SEVERE CROSS WIND GATE     707752 non-null  float64\n",
            " 14  WEATHER_CONDITION_SLEET/HAIL                 707752 non-null  float64\n",
            " 15  WEATHER_CONDITION_SNOW                       707752 non-null  float64\n",
            " 16  LIGHTING_CONDITION_DARKNESS                  707752 non-null  float64\n",
            " 17  LIGHTING_CONDITION_DARKNESS, LIGHTED ROAD    707752 non-null  float64\n",
            " 18  LIGHTING_CONDITION_DAWN                      707752 non-null  float64\n",
            " 19  LIGHTING_CONDITION_DAYLIGHT                  707752 non-null  float64\n",
            " 20  LIGHTING_CONDITION_DUSK                      707752 non-null  float64\n",
            " 21  ROADWAY_SURFACE_COND_DRY                     707752 non-null  float64\n",
            " 22  ROADWAY_SURFACE_COND_ICE                     707752 non-null  float64\n",
            " 23  ROADWAY_SURFACE_COND_SNOW OR SLUSH           707752 non-null  float64\n",
            " 24  ROADWAY_SURFACE_COND_WET                     707752 non-null  float64\n",
            " 25  CRASH_DAY_OF_WEEK_1                          707752 non-null  float64\n",
            " 26  CRASH_DAY_OF_WEEK_2                          707752 non-null  float64\n",
            " 27  CRASH_DAY_OF_WEEK_3                          707752 non-null  float64\n",
            " 28  CRASH_DAY_OF_WEEK_4                          707752 non-null  float64\n",
            " 29  CRASH_DAY_OF_WEEK_5                          707752 non-null  float64\n",
            " 30  CRASH_DAY_OF_WEEK_6                          707752 non-null  float64\n",
            " 31  CRASH_DAY_OF_WEEK_7                          707752 non-null  float64\n",
            " 32  PERSON_TYPE_BICYCLE                          707752 non-null  float64\n",
            " 33  PERSON_TYPE_DRIVER                           707752 non-null  float64\n",
            " 34  PERSON_TYPE_NON-CONTACT VEHICLE              707752 non-null  float64\n",
            " 35  PERSON_TYPE_PEDESTRIAN                       707752 non-null  float64\n",
            " 36  SEX_F                                        707752 non-null  float64\n",
            " 37  SEX_M                                        707752 non-null  float64\n",
            " 38  SEX_X                                        707752 non-null  float64\n",
            " 39  TRAVEL_DIRECTION_E                           707752 non-null  float64\n",
            " 40  TRAVEL_DIRECTION_N                           707752 non-null  float64\n",
            " 41  TRAVEL_DIRECTION_NE                          707752 non-null  float64\n",
            " 42  TRAVEL_DIRECTION_NW                          707752 non-null  float64\n",
            " 43  TRAVEL_DIRECTION_S                           707752 non-null  float64\n",
            " 44  TRAVEL_DIRECTION_SE                          707752 non-null  float64\n",
            " 45  TRAVEL_DIRECTION_SW                          707752 non-null  float64\n",
            " 46  TRAVEL_DIRECTION_W                           707752 non-null  float64\n",
            " 47  MANEUVER_AVOIDING VEHICLES/OBJECTS           707752 non-null  float64\n",
            " 48  MANEUVER_BACKING                             707752 non-null  float64\n",
            " 49  MANEUVER_CHANGING LANES                      707752 non-null  float64\n",
            " 50  MANEUVER_DRIVING WRONG WAY                   707752 non-null  float64\n",
            " 51  MANEUVER_ENTER FROM DRIVE/ALLEY              707752 non-null  float64\n",
            " 52  MANEUVER_ENTERING TRAFFIC LANE FROM PARKING  707752 non-null  float64\n",
            " 53  MANEUVER_LEAVING TRAFFIC LANE TO PARK        707752 non-null  float64\n",
            " 54  MANEUVER_MERGING                             707752 non-null  float64\n",
            " 55  MANEUVER_NEGOTIATING A CURVE                 707752 non-null  float64\n",
            " 56  MANEUVER_PARKED                              707752 non-null  float64\n",
            " 57  MANEUVER_PARKED IN TRAFFIC LANE              707752 non-null  float64\n",
            " 58  MANEUVER_PASSING/OVERTAKING                  707752 non-null  float64\n",
            " 59  MANEUVER_SKIDDING/CONTROL LOSS               707752 non-null  float64\n",
            " 60  MANEUVER_SLOW/STOP - LEFT TURN               707752 non-null  float64\n",
            " 61  MANEUVER_SLOW/STOP - LOAD/UNLOAD             707752 non-null  float64\n",
            " 62  MANEUVER_SLOW/STOP - RIGHT TURN              707752 non-null  float64\n",
            " 63  MANEUVER_SLOW/STOP IN TRAFFIC                707752 non-null  float64\n",
            " 64  MANEUVER_STARTING IN TRAFFIC                 707752 non-null  float64\n",
            " 65  MANEUVER_STRAIGHT AHEAD                      707752 non-null  float64\n",
            " 66  MANEUVER_TURNING LEFT                        707752 non-null  float64\n",
            " 67  MANEUVER_TURNING RIGHT                       707752 non-null  float64\n",
            " 68  MANEUVER_U-TURN                              707752 non-null  float64\n",
            "dtypes: float64(66), int64(3)\n",
            "memory usage: 378.0 MB\n"
          ]
        }
      ],
      "source": [
        "#gathering all categorical columns and non-standardized numeric ones\n",
        "X_train_non_stnd_all_cat = pd.concat([X_train_numeric, X_train_categorical_ohe], axis=1)\n",
        "X_train_non_stnd_all_cat.info()"
      ]
    },
    {
      "cell_type": "code",
      "execution_count": 119,
      "metadata": {
        "id": "s_0mkaQoqTx1",
        "colab": {
          "base_uri": "https://localhost:8080/",
          "height": 74
        },
        "outputId": "e0311b24-2336-4cc6-bdd5-8502326e0d51"
      },
      "outputs": [
        {
          "output_type": "execute_result",
          "data": {
            "text/plain": [
              "DecisionTreeClassifier(criterion='entropy', random_state=210)"
            ],
            "text/html": [
              "<style>#sk-container-id-3 {color: black;background-color: white;}#sk-container-id-3 pre{padding: 0;}#sk-container-id-3 div.sk-toggleable {background-color: white;}#sk-container-id-3 label.sk-toggleable__label {cursor: pointer;display: block;width: 100%;margin-bottom: 0;padding: 0.3em;box-sizing: border-box;text-align: center;}#sk-container-id-3 label.sk-toggleable__label-arrow:before {content: \"▸\";float: left;margin-right: 0.25em;color: #696969;}#sk-container-id-3 label.sk-toggleable__label-arrow:hover:before {color: black;}#sk-container-id-3 div.sk-estimator:hover label.sk-toggleable__label-arrow:before {color: black;}#sk-container-id-3 div.sk-toggleable__content {max-height: 0;max-width: 0;overflow: hidden;text-align: left;background-color: #f0f8ff;}#sk-container-id-3 div.sk-toggleable__content pre {margin: 0.2em;color: black;border-radius: 0.25em;background-color: #f0f8ff;}#sk-container-id-3 input.sk-toggleable__control:checked~div.sk-toggleable__content {max-height: 200px;max-width: 100%;overflow: auto;}#sk-container-id-3 input.sk-toggleable__control:checked~label.sk-toggleable__label-arrow:before {content: \"▾\";}#sk-container-id-3 div.sk-estimator input.sk-toggleable__control:checked~label.sk-toggleable__label {background-color: #d4ebff;}#sk-container-id-3 div.sk-label input.sk-toggleable__control:checked~label.sk-toggleable__label {background-color: #d4ebff;}#sk-container-id-3 input.sk-hidden--visually {border: 0;clip: rect(1px 1px 1px 1px);clip: rect(1px, 1px, 1px, 1px);height: 1px;margin: -1px;overflow: hidden;padding: 0;position: absolute;width: 1px;}#sk-container-id-3 div.sk-estimator {font-family: monospace;background-color: #f0f8ff;border: 1px dotted black;border-radius: 0.25em;box-sizing: border-box;margin-bottom: 0.5em;}#sk-container-id-3 div.sk-estimator:hover {background-color: #d4ebff;}#sk-container-id-3 div.sk-parallel-item::after {content: \"\";width: 100%;border-bottom: 1px solid gray;flex-grow: 1;}#sk-container-id-3 div.sk-label:hover label.sk-toggleable__label {background-color: #d4ebff;}#sk-container-id-3 div.sk-serial::before {content: \"\";position: absolute;border-left: 1px solid gray;box-sizing: border-box;top: 0;bottom: 0;left: 50%;z-index: 0;}#sk-container-id-3 div.sk-serial {display: flex;flex-direction: column;align-items: center;background-color: white;padding-right: 0.2em;padding-left: 0.2em;position: relative;}#sk-container-id-3 div.sk-item {position: relative;z-index: 1;}#sk-container-id-3 div.sk-parallel {display: flex;align-items: stretch;justify-content: center;background-color: white;position: relative;}#sk-container-id-3 div.sk-item::before, #sk-container-id-3 div.sk-parallel-item::before {content: \"\";position: absolute;border-left: 1px solid gray;box-sizing: border-box;top: 0;bottom: 0;left: 50%;z-index: -1;}#sk-container-id-3 div.sk-parallel-item {display: flex;flex-direction: column;z-index: 1;position: relative;background-color: white;}#sk-container-id-3 div.sk-parallel-item:first-child::after {align-self: flex-end;width: 50%;}#sk-container-id-3 div.sk-parallel-item:last-child::after {align-self: flex-start;width: 50%;}#sk-container-id-3 div.sk-parallel-item:only-child::after {width: 0;}#sk-container-id-3 div.sk-dashed-wrapped {border: 1px dashed gray;margin: 0 0.4em 0.5em 0.4em;box-sizing: border-box;padding-bottom: 0.4em;background-color: white;}#sk-container-id-3 div.sk-label label {font-family: monospace;font-weight: bold;display: inline-block;line-height: 1.2em;}#sk-container-id-3 div.sk-label-container {text-align: center;}#sk-container-id-3 div.sk-container {/* jupyter's `normalize.less` sets `[hidden] { display: none; }` but bootstrap.min.css set `[hidden] { display: none !important; }` so we also need the `!important` here to be able to override the default hidden behavior on the sphinx rendered scikit-learn.org. See: https://github.com/scikit-learn/scikit-learn/issues/21755 */display: inline-block !important;position: relative;}#sk-container-id-3 div.sk-text-repr-fallback {display: none;}</style><div id=\"sk-container-id-3\" class=\"sk-top-container\"><div class=\"sk-text-repr-fallback\"><pre>DecisionTreeClassifier(criterion=&#x27;entropy&#x27;, random_state=210)</pre><b>In a Jupyter environment, please rerun this cell to show the HTML representation or trust the notebook. <br />On GitHub, the HTML representation is unable to render, please try loading this page with nbviewer.org.</b></div><div class=\"sk-container\" hidden><div class=\"sk-item\"><div class=\"sk-estimator sk-toggleable\"><input class=\"sk-toggleable__control sk-hidden--visually\" id=\"sk-estimator-id-7\" type=\"checkbox\" checked><label for=\"sk-estimator-id-7\" class=\"sk-toggleable__label sk-toggleable__label-arrow\">DecisionTreeClassifier</label><div class=\"sk-toggleable__content\"><pre>DecisionTreeClassifier(criterion=&#x27;entropy&#x27;, random_state=210)</pre></div></div></div></div></div>"
            ]
          },
          "metadata": {},
          "execution_count": 119
        }
      ],
      "source": [
        "from sklearn import tree\n",
        "from sklearn.tree import DecisionTreeClassifier\n",
        "#instantiating & fitting the DecisionTreeClassifier model\n",
        "all_columns_dt = DecisionTreeClassifier(criterion='entropy', random_state=210)\n",
        "all_columns_dt.fit(X_train_non_stnd_all_cat, y_train)"
      ]
    },
    {
      "cell_type": "code",
      "execution_count": 120,
      "metadata": {
        "collapsed": true,
        "id": "kfXDHKUyqTx1",
        "colab": {
          "base_uri": "https://localhost:8080/",
          "height": 449
        },
        "outputId": "93ab16bf-59ea-4347-8527-8f6941c53e48"
      },
      "outputs": [
        {
          "output_type": "display_data",
          "data": {
            "text/plain": [
              "<Figure size 640x480 with 2 Axes>"
            ],
            "image/png": "[encoded data removed]"
          },
          "metadata": {}
        }
      ],
      "source": [
        "#making our y_test predictions\n",
        "y_pred_test_all = all_columns_dt.predict(X_test_nonstandardized)\n",
        "\n",
        "#confusion matrix\n",
        "ConfusionMatrixDisplay.from_predictions(y_test, y_pred_test_all);"
      ]
    },
    {
      "cell_type": "code",
      "execution_count": 121,
      "metadata": {
        "id": "8ymmdAvCqTx1",
        "colab": {
          "base_uri": "https://localhost:8080/"
        },
        "outputId": "ca05860c-a590-47c8-b8d6-1a95043ba010"
      },
      "outputs": [
        {
          "output_type": "stream",
          "name": "stdout",
          "text": [
            "              precision    recall  f1-score   support\n",
            "\n",
            "           0       0.59      0.62      0.61     12651\n",
            "           1       0.97      0.97      0.97    164288\n",
            "\n",
            "    accuracy                           0.94    176939\n",
            "   macro avg       0.78      0.79      0.79    176939\n",
            "weighted avg       0.94      0.94      0.94    176939\n",
            "\n"
          ]
        }
      ],
      "source": [
        "print(classification_report(y_test, y_pred_test_all, target_names = target_names))"
      ]
    },
    {
      "cell_type": "markdown",
      "metadata": {
        "id": "Y2v5gBdXqoW_"
      },
      "source": [
        "It looks like it's doing well overall, but just doing \"okay\" for the minority class in our target. This can hopefully be improved with over/under-sampling techniques, but for now, let's look at this model's feature importances."
      ]
    },
    {
      "cell_type": "code",
      "execution_count": 122,
      "metadata": {
        "id": "-uvhkq0sqTx2",
        "colab": {
          "base_uri": "https://localhost:8080/"
        },
        "outputId": "a8da2e34-17bb-48f6-9861-1e819a2ee25d"
      },
      "outputs": [
        {
          "output_type": "stream",
          "name": "stdout",
          "text": [
            "PERSON_TYPE_NON-CONTACT VEHICLE                0.000\n",
            "SEX_X                                          0.000\n",
            "MANEUVER_DRIVING WRONG WAY                     0.000\n",
            "WEATHER_CONDITION_SEVERE CROSS WIND GATE       0.000\n",
            "PERSON_TYPE_BICYCLE                            0.000\n",
            "WEATHER_CONDITION_BLOWING SNOW                 0.000\n",
            "WEATHER_CONDITION_FOG/SMOKE/HAZE               0.000\n",
            "MANEUVER_SLOW/STOP - LOAD/UNLOAD               0.000\n",
            "MANEUVER_SLOW/STOP - RIGHT TURN                0.000\n",
            "WEATHER_CONDITION_BLOWING SAND, SOIL, DIRT     0.000\n",
            "ROADWAY_SURFACE_COND_SNOW OR SLUSH             0.000\n",
            "MANEUVER_PARKED IN TRAFFIC LANE                0.001\n",
            "MANEUVER_NEGOTIATING A CURVE                   0.001\n",
            "MANEUVER_MERGING                               0.001\n",
            "MANEUVER_SLOW/STOP - LEFT TURN                 0.001\n",
            "MANEUVER_LEAVING TRAFFIC LANE TO PARK          0.001\n",
            "MANEUVER_ENTERING TRAFFIC LANE FROM PARKING    0.001\n",
            "MANEUVER_ENTER FROM DRIVE/ALLEY                0.001\n",
            "MANEUVER_CHANGING LANES                        0.001\n",
            "MANEUVER_STARTING IN TRAFFIC                   0.001\n",
            "PERSON_TYPE_PEDESTRIAN                         0.001\n",
            "MANEUVER_U-TURN                                0.001\n",
            "WEATHER_CONDITION_FREEZING RAIN/DRIZZLE        0.001\n",
            "WEATHER_CONDITION_SLEET/HAIL                   0.001\n",
            "TRAVEL_DIRECTION_SW                            0.002\n",
            "MANEUVER_PASSING/OVERTAKING                    0.002\n",
            "WEATHER_CONDITION_RAIN                         0.002\n",
            "WEATHER_CONDITION_SNOW                         0.002\n",
            "MANEUVER_BACKING                               0.002\n",
            "TRAVEL_DIRECTION_SE                            0.002\n",
            "PERSON_TYPE_DRIVER                             0.002\n",
            "MANEUVER_TURNING RIGHT                         0.002\n",
            "TRAVEL_DIRECTION_NE                            0.002\n",
            "MANEUVER_TURNING LEFT                          0.003\n",
            "MANEUVER_SLOW/STOP IN TRAFFIC                  0.003\n",
            "WEATHER_CONDITION_CLOUDY/OVERCAST              0.003\n",
            "TRAVEL_DIRECTION_NW                            0.003\n",
            "ROADWAY_SURFACE_COND_ICE                       0.003\n",
            "LIGHTING_CONDITION_DAWN                        0.004\n",
            "MANEUVER_STRAIGHT AHEAD                        0.004\n",
            "LIGHTING_CONDITION_DUSK                        0.005\n",
            "MANEUVER_SKIDDING/CONTROL LOSS                 0.005\n",
            "MANEUVER_AVOIDING VEHICLES/OBJECTS             0.005\n",
            "LIGHTING_CONDITION_DARKNESS                    0.005\n",
            "SEX_F                                          0.006\n",
            "SEX_M                                          0.006\n",
            "LIGHTING_CONDITION_DARKNESS, LIGHTED ROAD      0.007\n",
            "LIGHTING_CONDITION_DAYLIGHT                    0.007\n",
            "WEATHER_CONDITION_CLEAR                        0.007\n",
            "TRAVEL_DIRECTION_E                             0.010\n",
            "TRAVEL_DIRECTION_W                             0.010\n",
            "CRASH_DAY_OF_WEEK_1                            0.010\n",
            "CRASH_DAY_OF_WEEK_2                            0.011\n",
            "CRASH_DAY_OF_WEEK_3                            0.011\n",
            "CRASH_DAY_OF_WEEK_7                            0.011\n",
            "TRAVEL_DIRECTION_S                             0.011\n",
            "TRAVEL_DIRECTION_N                             0.011\n",
            "CRASH_DAY_OF_WEEK_4                            0.011\n",
            "CRASH_DAY_OF_WEEK_5                            0.012\n",
            "CRASH_DAY_OF_WEEK_6                            0.013\n",
            "MANEUVER_PARKED                                0.017\n",
            "ROADWAY_SURFACE_COND_WET                       0.019\n",
            "POSTED_SPEED_LIMIT                             0.029\n",
            "NUM_UNITS                                      0.046\n",
            "ROADWAY_SURFACE_COND_DRY                       0.055\n",
            "CRASH_HOUR                                     0.082\n",
            "AGE                                            0.096\n",
            "LONGITUDE                                      0.211\n",
            "LATITUDE                                       0.215\n"
          ]
        }
      ],
      "source": [
        "all_columns_feature_importances = all_columns_dt.feature_importances_\n",
        "all_columns_feature_importances_rounded = np.around(all_columns_feature_importances, decimals=3)\n",
        "all_columns_feature_importances_rounded = pd.Series(all_columns_feature_importances_rounded,\n",
        "                                         index=X_train_non_stnd_all_cat.columns).sort_values()\n",
        "print(all_columns_feature_importances_rounded.to_string())"
      ]
    },
    {
      "cell_type": "markdown",
      "metadata": {
        "id": "xG20c0rCq5Lj"
      },
      "source": [
        "That is a lot of features, so many of which contribute little to nothing for our model's predicting power. A long list like that also isn't exactly lending itself to model interpretability, so let's begin by reducing the columns to (almost) the same extent we did with StatsModels in order to see whether we can produce a more interpretable decision tree graph. We'll treat this as the actual baseline since it's the one we'll be optimizing from here on out."
      ]
    },
    {
      "cell_type": "code",
      "execution_count": 123,
      "metadata": {
        "id": "8zwHFg5PtdKT",
        "colab": {
          "base_uri": "https://localhost:8080/"
        },
        "outputId": "ace6aeab-ea21-42f4-f66b-10773c4eda24"
      },
      "outputs": [
        {
          "output_type": "stream",
          "name": "stdout",
          "text": [
            "<class 'pandas.core.frame.DataFrame'>\n",
            "Index: 707752 entries, 262116 to 303626\n",
            "Data columns (total 26 columns):\n",
            " #   Column                              Non-Null Count   Dtype  \n",
            "---  ------                              --------------   -----  \n",
            " 0   CRASH_HOUR                          707752 non-null  int64  \n",
            " 1   LATITUDE                            707752 non-null  float64\n",
            " 2   LONGITUDE                           707752 non-null  float64\n",
            " 3   AGE                                 707752 non-null  float64\n",
            " 4   WEATHER_CONDITION_CLEAR             707752 non-null  float64\n",
            " 5   WEATHER_CONDITION_CLOUDY/OVERCAST   707752 non-null  float64\n",
            " 6   WEATHER_CONDITION_RAIN              707752 non-null  float64\n",
            " 7   LIGHTING_CONDITION_DAYLIGHT         707752 non-null  float64\n",
            " 8   ROADWAY_SURFACE_COND_DRY            707752 non-null  float64\n",
            " 9   ROADWAY_SURFACE_COND_ICE            707752 non-null  float64\n",
            " 10  ROADWAY_SURFACE_COND_SNOW OR SLUSH  707752 non-null  float64\n",
            " 11  ROADWAY_SURFACE_COND_WET            707752 non-null  float64\n",
            " 12  CRASH_DAY_OF_WEEK_4                 707752 non-null  float64\n",
            " 13  CRASH_DAY_OF_WEEK_7                 707752 non-null  float64\n",
            " 14  TRAVEL_DIRECTION_E                  707752 non-null  float64\n",
            " 15  TRAVEL_DIRECTION_N                  707752 non-null  float64\n",
            " 16  TRAVEL_DIRECTION_W                  707752 non-null  float64\n",
            " 17  MANEUVER_AVOIDING VEHICLES/OBJECTS  707752 non-null  float64\n",
            " 18  MANEUVER_CHANGING LANES             707752 non-null  float64\n",
            " 19  MANEUVER_PARKED                     707752 non-null  float64\n",
            " 20  MANEUVER_PASSING/OVERTAKING         707752 non-null  float64\n",
            " 21  MANEUVER_SKIDDING/CONTROL LOSS      707752 non-null  float64\n",
            " 22  MANEUVER_SLOW/STOP IN TRAFFIC       707752 non-null  float64\n",
            " 23  MANEUVER_STRAIGHT AHEAD             707752 non-null  float64\n",
            " 24  MANEUVER_TURNING LEFT               707752 non-null  float64\n",
            " 25  MANEUVER_TURNING RIGHT              707752 non-null  float64\n",
            "dtypes: float64(25), int64(1)\n",
            "memory usage: 145.8 MB\n"
          ]
        }
      ],
      "source": [
        "#dropping the columns we found to not be helpful after running PCA and a random forest\n",
        "X_train_nonstandardized_and_trimmed = X_train_nonstandardized.drop(preliminary_columns_to_drop, axis=1)\n",
        "#dropping the columns found to be insignificant by our Logit model\n",
        "X_train_nonstandardized_and_trimmed.drop(insignificant_columns_to_drop, axis=1, inplace=True)\n",
        "\n",
        "X_train_nonstandardized_and_trimmed.info()"
      ]
    },
    {
      "cell_type": "code",
      "execution_count": 124,
      "metadata": {
        "id": "VFzR7XAggEP8",
        "colab": {
          "base_uri": "https://localhost:8080/",
          "height": 74
        },
        "outputId": "eddb967f-2175-4e3a-a8d1-f02ce6b36513"
      },
      "outputs": [
        {
          "output_type": "execute_result",
          "data": {
            "text/plain": [
              "DecisionTreeClassifier(random_state=210)"
            ],
            "text/html": [
              "<style>#sk-container-id-4 {color: black;background-color: white;}#sk-container-id-4 pre{padding: 0;}#sk-container-id-4 div.sk-toggleable {background-color: white;}#sk-container-id-4 label.sk-toggleable__label {cursor: pointer;display: block;width: 100%;margin-bottom: 0;padding: 0.3em;box-sizing: border-box;text-align: center;}#sk-container-id-4 label.sk-toggleable__label-arrow:before {content: \"▸\";float: left;margin-right: 0.25em;color: #696969;}#sk-container-id-4 label.sk-toggleable__label-arrow:hover:before {color: black;}#sk-container-id-4 div.sk-estimator:hover label.sk-toggleable__label-arrow:before {color: black;}#sk-container-id-4 div.sk-toggleable__content {max-height: 0;max-width: 0;overflow: hidden;text-align: left;background-color: #f0f8ff;}#sk-container-id-4 div.sk-toggleable__content pre {margin: 0.2em;color: black;border-radius: 0.25em;background-color: #f0f8ff;}#sk-container-id-4 input.sk-toggleable__control:checked~div.sk-toggleable__content {max-height: 200px;max-width: 100%;overflow: auto;}#sk-container-id-4 input.sk-toggleable__control:checked~label.sk-toggleable__label-arrow:before {content: \"▾\";}#sk-container-id-4 div.sk-estimator input.sk-toggleable__control:checked~label.sk-toggleable__label {background-color: #d4ebff;}#sk-container-id-4 div.sk-label input.sk-toggleable__control:checked~label.sk-toggleable__label {background-color: #d4ebff;}#sk-container-id-4 input.sk-hidden--visually {border: 0;clip: rect(1px 1px 1px 1px);clip: rect(1px, 1px, 1px, 1px);height: 1px;margin: -1px;overflow: hidden;padding: 0;position: absolute;width: 1px;}#sk-container-id-4 div.sk-estimator {font-family: monospace;background-color: #f0f8ff;border: 1px dotted black;border-radius: 0.25em;box-sizing: border-box;margin-bottom: 0.5em;}#sk-container-id-4 div.sk-estimator:hover {background-color: #d4ebff;}#sk-container-id-4 div.sk-parallel-item::after {content: \"\";width: 100%;border-bottom: 1px solid gray;flex-grow: 1;}#sk-container-id-4 div.sk-label:hover label.sk-toggleable__label {background-color: #d4ebff;}#sk-container-id-4 div.sk-serial::before {content: \"\";position: absolute;border-left: 1px solid gray;box-sizing: border-box;top: 0;bottom: 0;left: 50%;z-index: 0;}#sk-container-id-4 div.sk-serial {display: flex;flex-direction: column;align-items: center;background-color: white;padding-right: 0.2em;padding-left: 0.2em;position: relative;}#sk-container-id-4 div.sk-item {position: relative;z-index: 1;}#sk-container-id-4 div.sk-parallel {display: flex;align-items: stretch;justify-content: center;background-color: white;position: relative;}#sk-container-id-4 div.sk-item::before, #sk-container-id-4 div.sk-parallel-item::before {content: \"\";position: absolute;border-left: 1px solid gray;box-sizing: border-box;top: 0;bottom: 0;left: 50%;z-index: -1;}#sk-container-id-4 div.sk-parallel-item {display: flex;flex-direction: column;z-index: 1;position: relative;background-color: white;}#sk-container-id-4 div.sk-parallel-item:first-child::after {align-self: flex-end;width: 50%;}#sk-container-id-4 div.sk-parallel-item:last-child::after {align-self: flex-start;width: 50%;}#sk-container-id-4 div.sk-parallel-item:only-child::after {width: 0;}#sk-container-id-4 div.sk-dashed-wrapped {border: 1px dashed gray;margin: 0 0.4em 0.5em 0.4em;box-sizing: border-box;padding-bottom: 0.4em;background-color: white;}#sk-container-id-4 div.sk-label label {font-family: monospace;font-weight: bold;display: inline-block;line-height: 1.2em;}#sk-container-id-4 div.sk-label-container {text-align: center;}#sk-container-id-4 div.sk-container {/* jupyter's `normalize.less` sets `[hidden] { display: none; }` but bootstrap.min.css set `[hidden] { display: none !important; }` so we also need the `!important` here to be able to override the default hidden behavior on the sphinx rendered scikit-learn.org. See: https://github.com/scikit-learn/scikit-learn/issues/21755 */display: inline-block !important;position: relative;}#sk-container-id-4 div.sk-text-repr-fallback {display: none;}</style><div id=\"sk-container-id-4\" class=\"sk-top-container\"><div class=\"sk-text-repr-fallback\"><pre>DecisionTreeClassifier(random_state=210)</pre><b>In a Jupyter environment, please rerun this cell to show the HTML representation or trust the notebook. <br />On GitHub, the HTML representation is unable to render, please try loading this page with nbviewer.org.</b></div><div class=\"sk-container\" hidden><div class=\"sk-item\"><div class=\"sk-estimator sk-toggleable\"><input class=\"sk-toggleable__control sk-hidden--visually\" id=\"sk-estimator-id-8\" type=\"checkbox\" checked><label for=\"sk-estimator-id-8\" class=\"sk-toggleable__label sk-toggleable__label-arrow\">DecisionTreeClassifier</label><div class=\"sk-toggleable__content\"><pre>DecisionTreeClassifier(random_state=210)</pre></div></div></div></div></div>"
            ]
          },
          "metadata": {},
          "execution_count": 124
        }
      ],
      "source": [
        "#instantiating & fitting the DecisionTreeClassifier model\n",
        "dt_baseline = DecisionTreeClassifier(random_state=210)\n",
        "dt_baseline.fit(X_train_nonstandardized_and_trimmed, y_train)"
      ]
    },
    {
      "cell_type": "code",
      "execution_count": 125,
      "metadata": {
        "id": "-KCrxU1-0uVF",
        "colab": {
          "base_uri": "https://localhost:8080/"
        },
        "outputId": "2ef9af8f-1bfd-49d5-b6e4-f325a2e8c820"
      },
      "outputs": [
        {
          "output_type": "stream",
          "name": "stdout",
          "text": [
            "<class 'pandas.core.frame.DataFrame'>\n",
            "Index: 176939 entries, 713656 to 146602\n",
            "Data columns (total 26 columns):\n",
            " #   Column                              Non-Null Count   Dtype  \n",
            "---  ------                              --------------   -----  \n",
            " 0   CRASH_HOUR                          176939 non-null  int64  \n",
            " 1   LATITUDE                            176939 non-null  float64\n",
            " 2   LONGITUDE                           176939 non-null  float64\n",
            " 3   AGE                                 176939 non-null  float64\n",
            " 4   WEATHER_CONDITION_CLEAR             176939 non-null  float64\n",
            " 5   WEATHER_CONDITION_CLOUDY/OVERCAST   176939 non-null  float64\n",
            " 6   WEATHER_CONDITION_RAIN              176939 non-null  float64\n",
            " 7   LIGHTING_CONDITION_DAYLIGHT         176939 non-null  float64\n",
            " 8   ROADWAY_SURFACE_COND_DRY            176939 non-null  float64\n",
            " 9   ROADWAY_SURFACE_COND_ICE            176939 non-null  float64\n",
            " 10  ROADWAY_SURFACE_COND_SNOW OR SLUSH  176939 non-null  float64\n",
            " 11  ROADWAY_SURFACE_COND_WET            176939 non-null  float64\n",
            " 12  CRASH_DAY_OF_WEEK_4                 176939 non-null  float64\n",
            " 13  CRASH_DAY_OF_WEEK_7                 176939 non-null  float64\n",
            " 14  TRAVEL_DIRECTION_E                  176939 non-null  float64\n",
            " 15  TRAVEL_DIRECTION_N                  176939 non-null  float64\n",
            " 16  TRAVEL_DIRECTION_W                  176939 non-null  float64\n",
            " 17  MANEUVER_AVOIDING VEHICLES/OBJECTS  176939 non-null  float64\n",
            " 18  MANEUVER_CHANGING LANES             176939 non-null  float64\n",
            " 19  MANEUVER_PARKED                     176939 non-null  float64\n",
            " 20  MANEUVER_PASSING/OVERTAKING         176939 non-null  float64\n",
            " 21  MANEUVER_SKIDDING/CONTROL LOSS      176939 non-null  float64\n",
            " 22  MANEUVER_SLOW/STOP IN TRAFFIC       176939 non-null  float64\n",
            " 23  MANEUVER_STRAIGHT AHEAD             176939 non-null  float64\n",
            " 24  MANEUVER_TURNING LEFT               176939 non-null  float64\n",
            " 25  MANEUVER_TURNING RIGHT              176939 non-null  float64\n",
            "dtypes: float64(25), int64(1)\n",
            "memory usage: 36.4 MB\n"
          ]
        }
      ],
      "source": [
        "#transforming X_test\n",
        "X_test_nonstandardized_and_trimmed = X_test_nonstandardized.drop(preliminary_columns_to_drop, axis=1)\n",
        "X_test_nonstandardized_and_trimmed.drop(insignificant_columns_to_drop, axis=1, inplace=True)\n",
        "\n",
        "X_test_nonstandardized_and_trimmed.info()"
      ]
    },
    {
      "cell_type": "code",
      "execution_count": 126,
      "metadata": {
        "id": "4v_cEz9CrRZF",
        "colab": {
          "base_uri": "https://localhost:8080/",
          "height": 449
        },
        "outputId": "f1140ade-5ed1-4377-df3a-8a26b96577ec"
      },
      "outputs": [
        {
          "output_type": "display_data",
          "data": {
            "text/plain": [
              "<Figure size 640x480 with 2 Axes>"
            ],
            "image/png": "[encoded data removed]"
          },
          "metadata": {}
        }
      ],
      "source": [
        "#making our y_test predictions\n",
        "y_pred_test_baseline = dt_baseline.predict(X_test_nonstandardized_and_trimmed)\n",
        "\n",
        "#confusion matrix\n",
        "ConfusionMatrixDisplay.from_predictions(y_test, y_pred_test_baseline);"
      ]
    },
    {
      "cell_type": "code",
      "execution_count": 127,
      "metadata": {
        "id": "pGAPb2DJ1byI",
        "colab": {
          "base_uri": "https://localhost:8080/"
        },
        "outputId": "4910fcfe-6131-4490-ff13-a4e4d270ebc7"
      },
      "outputs": [
        {
          "output_type": "stream",
          "name": "stdout",
          "text": [
            "              precision    recall  f1-score   support\n",
            "\n",
            "           0       0.54      0.57      0.55     12651\n",
            "           1       0.97      0.96      0.96    164288\n",
            "\n",
            "    accuracy                           0.93    176939\n",
            "   macro avg       0.75      0.76      0.76    176939\n",
            "weighted avg       0.94      0.93      0.94    176939\n",
            "\n"
          ]
        }
      ],
      "source": [
        "print(classification_report(y_test, y_pred_test_baseline, target_names = target_names))"
      ]
    },
    {
      "cell_type": "markdown",
      "metadata": {
        "id": "hkw9wOxysKRl"
      },
      "source": [
        "These results are similar, but not quite as good as the model with all the features. There's just a slight decline in the minority class's precision & recall scores. However, it's a small price to pay to be able to reduce the features down to one-third of what they were, which will help the interpretability of this model's workings and results. Let's examine this model's feature importances now."
      ]
    },
    {
      "cell_type": "code",
      "execution_count": null,
      "metadata": {
        "id": "bmhQUZBn1mPi"
      },
      "outputs": [],
      "source": [
        "#gathering its feature importances\n",
        "baseline_importances = dt_baseline.feature_importances_\n",
        "baseline_importances"
      ]
    },
    {
      "cell_type": "code",
      "execution_count": null,
      "metadata": {
        "id": "QFS5ZnOZ1ypn"
      },
      "outputs": [],
      "source": [
        "baseline_importances_rounded = np.around(baseline_importances, decimals=3)\n",
        "baseline_importances_rounded = pd.Series(baseline_importances_rounded,\n",
        "                                         index=X_train_nonstandardized_and_trimmed.columns).sort_values()\n",
        "baseline_importances_rounded"
      ]
    },
    {
      "cell_type": "code",
      "execution_count": null,
      "metadata": {
        "id": "6zP4PZ7f_4MK"
      },
      "outputs": [],
      "source": [
        "len(X_train_nonstandardized_and_trimmed['LATITUDE'].value_counts())"
      ]
    },
    {
      "cell_type": "code",
      "execution_count": null,
      "metadata": {
        "id": "pG4jWzgk_4kI"
      },
      "outputs": [],
      "source": [
        "len(X_train_nonstandardized_and_trimmed['LONGITUDE'].value_counts())"
      ]
    },
    {
      "cell_type": "code",
      "execution_count": null,
      "metadata": {
        "id": "EgwJ0CbD_497"
      },
      "outputs": [],
      "source": [
        "len(X_train_nonstandardized_and_trimmed['AGE'].value_counts())"
      ]
    },
    {
      "cell_type": "code",
      "execution_count": null,
      "metadata": {
        "id": "MSaNQ3znAYOA"
      },
      "outputs": [],
      "source": [
        "len(X_train_nonstandardized_and_trimmed['CRASH_HOUR'].value_counts())"
      ]
    },
    {
      "cell_type": "code",
      "execution_count": null,
      "metadata": {
        "id": "4NqU06UntJd6"
      },
      "outputs": [],
      "source": [
        "len(X_train_nonstandardized_and_trimmed['ROADWAY_SURFACE_COND_DRY'].value_counts())"
      ]
    },
    {
      "cell_type": "markdown",
      "metadata": {
        "id": "4K_bfFP4w-UQ"
      },
      "source": [
        "Above, we can start to see that the most important features have more unique values, but let's also visualize this to get a better perspective."
      ]
    },
    {
      "cell_type": "code",
      "execution_count": null,
      "metadata": {
        "id": "2q0VI2Zk7Gut"
      },
      "outputs": [],
      "source": [
        "from matplotlib import pyplot as plt\n",
        "fig, ax = plt.subplots(figsize=(6,6))\n",
        "ax.barh(baseline_importances_rounded.index, baseline_importances_rounded.values);"
      ]
    },
    {
      "cell_type": "markdown",
      "metadata": {
        "id": "GEXqHN8nRvAQ"
      },
      "source": [
        "Most obvious is the correlation between numeric columns with various entries and feature importance. In order, Latitude (138,294 unique entries), Longitude (138,182), Age (108), and the hour of day (24) all show decreasing importance and decreasing amount of entries.\n",
        "\n",
        "However, the drop-off isn't proportional (Age is about half as important as longitude, but contains 0.08% of the number of unique entries). Also, before we get to a long tail of features whose importance hovers around 0.00 - 0.02, there are a few categorical values that noticeably stick out.\n",
        "\n",
        "This is just a preliminary look at our baseline, though. We can do a lot to help improve this model through over & under-sampling as well as hyperparameter-tuning.\n",
        "\n",
        "Let's begin with sampling strategies:"
      ]
    },
    {
      "cell_type": "code",
      "execution_count": null,
      "metadata": {
        "id": "2Qh_PaYzxwmD"
      },
      "outputs": [],
      "source": [
        "#defining five over-sampling strategies from 110% to 150% of the\n",
        "# minority target class in increments of 10%:\n",
        "oversampling_strategies = [{0:55969, 1:656936}, {0:61057, 1:656936}, {0:66145, 1:656936}, {0:71233, 1:656936}, {0:76322, 1:656936}]\n",
        "\n",
        "#empty list for f1 scores\n",
        "f1_scores = []\n",
        "\n",
        "#iterate through each sampling strategy\n",
        "for i in oversampling_strategies:\n",
        "    # define oversampling strategy\n",
        "    oversample = RandomOverSampler(random_state=210, sampling_strategy=i)\n",
        "    # fit and apply the oversampling strategy\n",
        "    X_train_nonstandardized_and_trimmed_over, y_train_over = oversample.fit_resample(X_train_nonstandardized_and_trimmed, y_train)\n",
        "    #instantiate & fit the model to X-over & y-over\n",
        "    temp_dt = DecisionTreeClassifier()\n",
        "    temp_dt.fit(X_train_nonstandardized_and_trimmed_over, y_train_over)\n",
        "    #make predictions on test set\n",
        "    y_hat = temp_dt.predict(X_test_nonstandardized_and_trimmed)\n",
        "    #find & append f1 score\n",
        "    f1_scores.append(f1_score(y_test, y_hat))\n",
        "\n",
        "oversampling_percentages = ['110%:', '120%:', '130%:', '140%:', '150%:']\n",
        "print(\"sampling strategies & f1 scores:\", list(zip(oversampling_percentages, f1_scores)))"
      ]
    },
    {
      "cell_type": "markdown",
      "metadata": {
        "id": "0AWAum5uZhEL"
      },
      "source": [
        "Oversampling at 130% works best so far. Let's see whether undersampling the majority helps even more."
      ]
    },
    {
      "cell_type": "code",
      "execution_count": null,
      "metadata": {
        "id": "su9DDP0BZGKm"
      },
      "outputs": [],
      "source": [
        "#defining five under-sampling strategies from 50% to 90% of the\n",
        "# majority target class in increments of 10%:\n",
        "undersampling_strategies = [{0:50881, 1:328468}, {0:50881, 1:394162}, {0:50881, 1:459855}, {0:50881, 1:525549}, {0:50881, 1:591252}]\n",
        "\n",
        "#empty list for f1 scores\n",
        "f1_scores = []\n",
        "\n",
        "#iterate through each sampling strategy\n",
        "for i in undersampling_strategies:\n",
        "    # define undersampling strategy\n",
        "    undersample = RandomUnderSampler(random_state=210, sampling_strategy=i)\n",
        "    # fit and apply the undersampling strategy\n",
        "    X_train_nonstandardized_and_trimmed_under, y_train_under = undersample.fit_resample(X_train_nonstandardized_and_trimmed, y_train)\n",
        "    #instantiate & fit the model to X-under & y-under\n",
        "    temp_dt = DecisionTreeClassifier()\n",
        "    temp_dt.fit(X_train_nonstandardized_and_trimmed_under, y_train_under)\n",
        "    #make predictions on test set\n",
        "    y_hat = temp_dt.predict(X_test_nonstandardized_and_trimmed)\n",
        "    #find & append f1 score\n",
        "    f1_scores.append(f1_score(y_test, y_hat))\n",
        "\n",
        "undersampling_percentages = ['50%:', '60%:', '70%:', '80%:', '90%:']\n",
        "print(\"sampling strategies & f1 scores:\", list(zip(undersampling_percentages, f1_scores)))"
      ]
    },
    {
      "cell_type": "markdown",
      "metadata": {
        "id": "OHPSJMZqbMqV"
      },
      "source": [
        "Nothing here beats oversampling at 130%, let's try SMOTE, just in case:"
      ]
    },
    {
      "cell_type": "code",
      "execution_count": null,
      "metadata": {
        "id": "6dely2aVa8DO"
      },
      "outputs": [],
      "source": [
        "#empty list for f1 scores\n",
        "f1_scores = []\n",
        "\n",
        "#iterate through each SMOTE oversampling strategy\n",
        "for i in oversampling_strategies:\n",
        "    smote = SMOTE(random_state=210, sampling_strategy=i)\n",
        "    # fit the smote-oversampling strategy\n",
        "    X_train_nonstandardized_and_trimmed_smote, y_train_smote = smote.fit_resample(X_train_nonstandardized_and_trimmed, y_train)\n",
        "    #instantiate & fit the model to X-smote & y-smote\n",
        "    temp_dt = DecisionTreeClassifier()\n",
        "    temp_dt.fit(X_train_nonstandardized_and_trimmed_smote, y_train_smote)\n",
        "    #make predictions on test set\n",
        "    y_hat = temp_dt.predict(X_test_nonstandardized_and_trimmed)\n",
        "    #find & append f1 score\n",
        "    f1_scores.append(f1_score(y_test, y_hat))\n",
        "\n",
        "smote_oversampling_percentages = ['110%:', '120%:', '130%:', '140%:', '150%:']\n",
        "print(\"sampling strategies & f1 scores:\", list(zip(smote_oversampling_percentages, f1_scores)))"
      ]
    },
    {
      "cell_type": "markdown",
      "metadata": {
        "id": "39SYBwiHeEh8"
      },
      "source": [
        "No, oversampling at 130% is the way to go. Let's refit our decision tree to that particular sampling strategy and see whether the model's performance has improved."
      ]
    },
    {
      "cell_type": "code",
      "execution_count": null,
      "metadata": {
        "id": "Ouds8OxUeP15"
      },
      "outputs": [],
      "source": [
        "from imblearn.over_sampling import RandomOverSampler\n",
        "#set the oversampler to 130% of the minority class\n",
        "oversample = RandomOverSampler(random_state=210, sampling_strategy={0:66145, 1:656936})\n",
        "# fit and apply the oversampling strategy\n",
        "X_train_nonstandardized_and_trimmed_over, y_train_over = oversample.fit_resample(X_train_nonstandardized_and_trimmed, y_train)\n",
        "#instantiating & fitting the DecisionTreeClassifier model\n",
        "dt_oversample = DecisionTreeClassifier(random_state=210)\n",
        "dt_oversample.fit(X_train_nonstandardized_and_trimmed_over, y_train_over)"
      ]
    },
    {
      "cell_type": "code",
      "execution_count": null,
      "metadata": {
        "id": "1FYu2EqPe74m"
      },
      "outputs": [],
      "source": [
        "#making our y_test predictions\n",
        "y_pred_test_oversample = dt_oversample.predict(X_test_nonstandardized_and_trimmed)\n",
        "\n",
        "#confusion matrix\n",
        "ConfusionMatrixDisplay.from_predictions(y_test, y_pred_test_oversample);"
      ]
    },
    {
      "cell_type": "code",
      "execution_count": null,
      "metadata": {
        "id": "AAf_11cPfOTN"
      },
      "outputs": [],
      "source": [
        "print(classification_report(y_test, y_pred_test_oversample, target_names = target_names))"
      ]
    },
    {
      "cell_type": "markdown",
      "metadata": {
        "id": "7bR5sdmefowf"
      },
      "source": [
        "We see a marginal improvement here, which is better than nothing. Our last step here would be to run a GridSearchCV on the hyperparameters to see if we can further improve our model."
      ]
    },
    {
      "cell_type": "code",
      "execution_count": null,
      "metadata": {
        "id": "A3ily6TNfYQv"
      },
      "outputs": [],
      "source": [
        "f1 = make_scorer(f1_score)\n",
        "\n",
        "#establishing a parameter grid for GridSearchCV\n",
        "dt_param_grid = {'criterion':['entropy'],\n",
        "                 'max_depth':[None],\n",
        "                 'min_samples_split':[2,8,20],\n",
        "                 'min_samples_leaf':[2,8,20]}\n",
        "\n",
        "#instantiating GridSearchCV\n",
        "dt_grid_search = GridSearchCV(dt_oversample,\n",
        "                              dt_param_grid,\n",
        "                              cv=5,\n",
        "                              return_train_score=True,\n",
        "                              scoring=f1)\n",
        "\n",
        "#fitting the GridSearch to the training data\n",
        "dt_grid_search.fit(X_train_nonstandardized_and_trimmed_over, y_train_over)"
      ]
    },
    {
      "cell_type": "code",
      "execution_count": null,
      "metadata": {
        "id": "NOtNe3KHFzTR"
      },
      "outputs": [],
      "source": [
        "#mean training score\n",
        "dt_grid_search_train_score = dt_grid_search.cv_results_['mean_train_score'].mean()\n",
        "#mean test score\n",
        "dt_grid_search_test_score = dt_grid_search.score(X_test_nonstandardized_and_trimmed, y_test)\n",
        "#printing results\n",
        "print(f'optimized decision tree mean training score: {dt_grid_search_train_score :.2%}')\n",
        "print(f'optimized decision tree mean test score: {dt_grid_search_test_score :.2%}')\n",
        "print(f'optimized decision tree optimal parameter combination:', dt_grid_search.best_params_)"
      ]
    },
    {
      "cell_type": "code",
      "execution_count": null,
      "metadata": {
        "id": "N9jYGs5FZm_2"
      },
      "outputs": [],
      "source": [
        "#fitting what's hopefully a good final model with these optimal parameters\n",
        "dt_optimized = DecisionTreeClassifier(criterion='entropy',\n",
        "                                      min_samples_leaf=2,\n",
        "                                      min_samples_split=2,\n",
        "                                      random_state=210)\n",
        "dt_optimized.fit(X_train_nonstandardized_and_trimmed_over, y_train_over)"
      ]
    },
    {
      "cell_type": "code",
      "execution_count": null,
      "metadata": {
        "id": "0QaOpFM4I5k9"
      },
      "outputs": [],
      "source": [
        "#making our y_test predictions\n",
        "y_pred_test_optimized = dt_optimized.predict(X_test_nonstandardized_and_trimmed)\n",
        "\n",
        "#confusion matrix\n",
        "from sklearn.metrics import ConfusionMatrixDisplay\n",
        "ConfusionMatrixDisplay.from_predictions(y_test, y_pred_test_optimized);"
      ]
    },
    {
      "cell_type": "code",
      "execution_count": null,
      "metadata": {
        "id": "l-RmTj7TJKOq"
      },
      "outputs": [],
      "source": [
        "from sklearn.metrics import classification_report\n",
        "target_names = ['0', '1']\n",
        "print(classification_report(y_test, y_pred_test_optimized, target_names = target_names))"
      ]
    },
    {
      "cell_type": "code",
      "execution_count": null,
      "metadata": {
        "id": "xGs4hPJ-JU6w"
      },
      "outputs": [],
      "source": [
        "import numpy as np\n",
        "from matplotlib import pyplot as plt\n",
        "#gathering its feature importances\n",
        "final_feature_importances = dt_optimized.feature_importances_\n",
        "ffi_rounded = np.around(final_feature_importances, decimals=3)\n",
        "ffi_series = pd.Series(ffi_rounded, index=X_train_nonstandardized_and_trimmed_over.columns).sort_values(key=abs)\n",
        "#visualizing them\n",
        "fig, ax = plt.subplots(figsize=(6,6))\n",
        "ax.barh(ffi_series.index, ffi_series.values);"
      ]
    },
    {
      "cell_type": "markdown",
      "metadata": {
        "id": "yrCCoJtia9H3"
      },
      "source": [
        "# interpeting the final model\n",
        "\n",
        "This model has an overall f1 score of 0.74, which isn't bad. The minority target class (\"0\", aka a \"less avoidable\" accident) f1 score is almost too low, but it is still close to a broad concensus of the \"acceptable\" range. While it would ideally be higher, this is likely reaching the limit of what a white-box, easily-interpretable model can produce without becoming over complex (as a random forest or neural network).\n",
        "\n",
        "We can still easily understand the nature of this single decision tree model and how it's showing that predicting whether an accident was avoidable or not comes down to a few important features: location, age, and the hour of day it happens. The two road condition features are also higher than most, but they likely reflect the distribution of road conditions at the time of accidents.\n",
        "\n",
        "Our next step here is to understand *which* locations are more prone to accdients that are more avoidable, *which* ages are most likely to be involved in an avoidable accident, and *when* these happen during the day. This will help the city narrow down their demographics for a more cost-effective safety campaign.\n",
        "\n",
        "First, let's show the locations of these accidents. I found [this helpful resource](https://towardsdatascience.com/geopandas-101-plot-any-data-with-a-latitude-and-longitude-on-a-map-98e01944b972) on using Geopandas to map the latitude & longitude coordinates onto a Chicago streets shape file."
      ]
    },
    {
      "cell_type": "code",
      "execution_count": null,
      "metadata": {
        "id": "xdFEm9gmf5MS"
      },
      "outputs": [],
      "source": [
        "import geopandas as gpd\n",
        "#from osgeo import gdal\n",
        "#gdal.SetConfigOption('SHAPE_RESTORE_SHX', 'YES')\n",
        "from shapely.geometry import Point, Polygon\n",
        "\n",
        "#establishing the major street map\n",
        "street_map = gpd.read_file('/content/chicago_auto_accidents_project/street_map_files/Major_Streets.shp')\n",
        "#street_map.crs <---the map's CRS code needs to be changed to 4326, otherwise the projection is way off\n",
        "street_map = street_map.to_crs(4326)"
      ]
    },
    {
      "cell_type": "code",
      "execution_count": null,
      "metadata": {
        "id": "_CmTIHftePVB"
      },
      "outputs": [],
      "source": [
        "#bringing in the coordinate reference system (CRS) for Geopandas as well\n",
        "crs = {'init':'EPSG:4326'}\n",
        "#creating the Points from our latitude & longitude columns\n",
        "geometry = [Point(xy) for xy in zip(X_train_nonstandardized_and_trimmed_over['LONGITUDE'],\n",
        "                                    X_train_nonstandardized_and_trimmed_over['LATITUDE'])]\n",
        "#establishing the geo DataFrame\n",
        "geo_df = gpd.GeoDataFrame(X_train_nonstandardized_and_trimmed_over,\n",
        "                          crs=crs,\n",
        "                          geometry=geometry)\n",
        "#trimming it down to just the relevant columns\n",
        "geo_df = geo_df[['CRASH_HOUR', 'AGE', 'geometry']]\n",
        "geo_df = pd.concat([geo_df, y_train_over], axis=1)\n",
        "geo_df.head()"
      ]
    },
    {
      "cell_type": "code",
      "execution_count": null,
      "metadata": {
        "id": "WokvLjkB3f4E"
      },
      "outputs": [],
      "source": [
        "#layering the street map with our Geopandas points (lat & long)\n",
        "fig, ax = plt.subplots(figsize=(15,15))\n",
        "#just the street map grid\n",
        "street_map.plot(ax=ax, alpha=0.4, color='grey')\n",
        "#plotting the data's geographical points\n",
        "geo_df[geo_df['TARGET'] == 0].plot(ax=ax,\n",
        "                                   alpha=0.01,\n",
        "                                   markersize=7,\n",
        "                                   color='blue',\n",
        "                                   marker='o',\n",
        "                                   label='less avoidable crash')\n",
        "geo_df[geo_df['TARGET'] == 1].plot(ax=ax,\n",
        "                                   alpha=0.01,\n",
        "                                   markersize=7,\n",
        "                                   color='red',\n",
        "                                   marker='^',\n",
        "                                   label='more avoidable crash')\n",
        "plt.legend(prop={'size':15});"
      ]
    },
    {
      "cell_type": "markdown",
      "metadata": {
        "id": "iDmqz-9OzRZP"
      },
      "source": [
        "So, the reason location is so highly important as a feature is because accidents happen on busier roads. Not exactly surprising. However, we do see that less avoidable accidents do not have such a close relationship with location - they happen on busy and less-busy streets."
      ]
    },
    {
      "cell_type": "code",
      "execution_count": null,
      "metadata": {
        "id": "DXMZNK4Z8BmY"
      },
      "outputs": [],
      "source": [
        "fig, ax = plt.subplots(figsize=(15,15))\n",
        "street_map.plot(ax=ax, alpha=0.4, color='grey')\n",
        "geo_df[geo_df['TARGET'] == 0].plot(ax=ax,\n",
        "                                   alpha=0.1,\n",
        "                                   markersize=7,\n",
        "                                   color='blue',\n",
        "                                   marker='o',\n",
        "                                   label='less avoidable crash')\n",
        "plt.legend(prop={'size':15});"
      ]
    },
    {
      "cell_type": "markdown",
      "metadata": {
        "id": "gWtP3VMV8weu"
      },
      "source": [
        "I'm not sure how that information is valuable, but it's interesting nonetheless. Let's take a closer look at hour-of-day and age distributions here."
      ]
    },
    {
      "cell_type": "code",
      "execution_count": null,
      "metadata": {
        "id": "rb1gFpKn7WwO"
      },
      "outputs": [],
      "source": [
        "#isolating more and less-avoidable accidents\n",
        "more_avoidable_crashes = geo_df[geo_df['TARGET'] == 1]\n",
        "less_avoidable_crashes = geo_df[geo_df['TARGET'] == 0]\n",
        "#examining more avoidable crashes by hour-of-day\n",
        "fig, ax = plt.subplots()\n",
        "ax.hist(more_avoidable_crashes['CRASH_HOUR'], bins=24, color='r', alpha=0.4, edgecolor='k');"
      ]
    },
    {
      "cell_type": "markdown",
      "metadata": {
        "id": "37z_pQWXz4tQ"
      },
      "source": [
        "Accidents spike during the morning and evening commute times. Oh my God, what am I doing?"
      ]
    },
    {
      "cell_type": "code",
      "execution_count": null,
      "metadata": {
        "id": "_rSotBxD-97b"
      },
      "outputs": [],
      "source": [
        "#what about less avoidable crashes by hour-of-day?\n",
        "plt.hist(less_avoidable_crashes['CRASH_HOUR'], bins=24);"
      ]
    },
    {
      "cell_type": "markdown",
      "metadata": {
        "id": "wWT5aUYW--ik"
      },
      "source": [
        "I see. Either way, commute time = crash time. Let's examine age's role:"
      ]
    },
    {
      "cell_type": "code",
      "execution_count": null,
      "metadata": {
        "id": "kWsVdNek0A6u"
      },
      "outputs": [],
      "source": [
        "plt.hist(more_avoidable_crashes['AGE'], bins=20);"
      ]
    },
    {
      "cell_type": "markdown",
      "metadata": {
        "id": "CDVp6qJr0o03"
      },
      "source": [
        "Overall, the target age demographic would be drivers age 25-40. Get it together, fellow Millenials!"
      ]
    },
    {
      "cell_type": "markdown",
      "metadata": {
        "id": "Dgv5Mxg6amdF"
      },
      "source": [
        "# summary\n",
        "\n",
        "After using PCA and a random forest to further trim down our features, we fit and optimized a logistic regression model to our data. While its predicting performance was unsatisfactory, it did help eliminate more columns through statistical significance. Finally, we fit and optimized a decision tree model, which performed better - likely owing to its ability to handle more complex data alongside the condensed, feature-engineered nature of our target.\n",
        "\n",
        "This optimized decision tree may not boast as strong an f1 score as what we'd see in a black-box model like a random forest or neural network, but it does a decent job while maintaining a more interpretable modeling process.\n",
        "\n",
        " **Carefully narrowing the features from 146 in the original data down to 22 helped isolate the more important attributes that contribute a specific target: whether an accident was more or less avoidable. It also helped show how a few select features contribute much more than others (location, hour-of-day, and age).**\n",
        "\n",
        "A more complex, black-box model may have made stronger predictions - especially with data as complex as this - but isolating the features which matter the most would have been much more difficult.\n",
        "\n",
        "While these findings may not necessarily be earth-shattering (busier streets have more accidents, crashes tend to happen during commute times, and generally younger drivers have more avoidable crashes), they do help confirm what we might suspect. Furthermore, these findings do not rule out another compounding factor, but the fact that they stood out so clearly do at least suggest a few possible solutions.\n",
        "\n",
        "For example, **a safety ad campaign focused on driving in heavy traffic that appeals more to drivers between 25-40 may prove more effective (at least in a broader sense) than other campaigns that focus on things like speeding or DUI.**"
      ]
    },
    {
      "cell_type": "code",
      "execution_count": null,
      "metadata": {
        "id": "v5SIOk__ajIU"
      },
      "outputs": [],
      "source": []
    }
  ],
  "metadata": {
    "colab": {
      "provenance": [],
      "authorship_tag": "ABX9TyOXmNzXZ91iQWIwx8lNU6bW",
      "include_colab_link": true
    },
    "kernelspec": {
      "display_name": "Python 3",
      "name": "python3"
    },
    "language_info": {
      "name": "python"
    }
  },
  "nbformat": 4,
  "nbformat_minor": 0
}