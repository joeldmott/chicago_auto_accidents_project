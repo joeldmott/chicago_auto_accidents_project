{
  "nbformat": 4,
  "nbformat_minor": 0,
  "metadata": {
    "colab": {
      "provenance": [],
      "authorship_tag": "ABX9TyMWnzzBSdMxXeTFqktnMG8/"
    },
    "kernelspec": {
      "name": "python3",
      "display_name": "Python 3"
    },
    "language_info": {
      "name": "python"
    }
  },
  "cells": [
    {
      "cell_type": "markdown",
      "source": [
        "# Determining the Primary Causes of Traffic Accidents in Chicago\n",
        "\n",
        "This projects raw dataset originates from the [City of Chicago's website](https://data.cityofchicago.org/Transportation/Traffic-Crashes-Crashes/85ca-t3if/about_data), where it is updated daily. I downloaded the data on May 1st, 2024 and [uploaded that snapshot to Kaggle](https://www.kaggle.com/datasets/joelmott/chicago-traffic-crashes-may-2024).\n",
        "\n",
        "This dataset consists of three seperate csv files: one for general crash information, one for the people involved in each crash, and one for each vehicle. When merged, the resulting dataset contains over 150 columns and 3.8 million records. In order to improve modeling results and interpretability, I narrowed that down to 15 feature columns and one target column in this [data engineering notebook](https://github.com/joeldmott/chicago_auto_accidents_project/blob/main/data_engineering_notebook.ipynb).\n",
        "\n",
        "In this project, I use the resulting csv file from that data engineering effort."
      ],
      "metadata": {
        "id": "Ihb3p5dyBuO3"
      }
    },
    {
      "cell_type": "code",
      "execution_count": 1,
      "metadata": {
        "id": "CC4jPqddzEY4"
      },
      "outputs": [],
      "source": [
        "import json\n",
        "import os\n",
        "from pathlib import Path\n",
        "from google.colab import userdata\n",
        "\n",
        "# api key for importing Kaggle and downloading the datasets\n",
        "os.environ[\"KAGGLE_KEY\"] = userdata.get('KAGGLE_KEY')\n",
        "os.environ[\"KAGGLE_USERNAME\"] = userdata.get('KAGGLE_USERNAME')\n",
        "# api key for the json object below\n",
        "api_key = userdata.get('API_KEY')\n",
        "\n",
        "# uses pathlib Path\n",
        "kaggle_path = Path('/root/.kaggle')\n",
        "os.makedirs(kaggle_path, exist_ok=True)\n",
        "\n",
        "# opens file and dumps python dict to json object\n",
        "with open (kaggle_path/'kaggle.json', 'w') as handl:\n",
        "    json.dump(api_key,handl)\n",
        "\n",
        "os.chmod(kaggle_path/'kaggle.json', 600)"
      ]
    },
    {
      "cell_type": "code",
      "source": [
        "#importing Kaggle module and downloading pre-engineered csv file\n",
        "import kaggle\n",
        "! kaggle datasets download joelmott/chicago-traffic-crashes-may-2024 -f trimmed_chicago_crashes_data.csv"
      ],
      "metadata": {
        "colab": {
          "base_uri": "https://localhost:8080/"
        },
        "id": "Dh9J9BgNzO2J",
        "outputId": "4fab7ac5-5a34-46d9-92fe-d5cde3df4f7f"
      },
      "execution_count": 5,
      "outputs": [
        {
          "output_type": "stream",
          "name": "stdout",
          "text": [
            "Warning: Looks like you're using an outdated API Version, please consider updating (server 1.6.14 / client 1.6.12)\n",
            "Dataset URL: https://www.kaggle.com/datasets/joelmott/chicago-traffic-crashes-may-2024\n",
            "License(s): CC0-1.0\n",
            "trimmed_chicago_crashes_data.csv.zip: Skipping, found more recently modified local copy (use --force to force download)\n"
          ]
        }
      ]
    },
    {
      "cell_type": "code",
      "source": [
        "!unzip /content/trimmed_chicago_crashes_data.csv"
      ],
      "metadata": {
        "colab": {
          "base_uri": "https://localhost:8080/"
        },
        "id": "4ByunR1U1IQh",
        "outputId": "d8dbd725-abcb-452d-da7b-91ff749f6536"
      },
      "execution_count": 6,
      "outputs": [
        {
          "output_type": "stream",
          "name": "stdout",
          "text": [
            "Archive:  /content/trimmed_chicago_crashes_data.csv.zip\n",
            "  inflating: trimmed_chicago_crashes_data.csv  \n"
          ]
        }
      ]
    },
    {
      "cell_type": "code",
      "source": [
        "#reading file in as a DataFrame\n",
        "import pandas as pd\n",
        "df = pd.read_csv('/content/trimmed_chicago_crashes_data.csv')\n",
        "df.head()"
      ],
      "metadata": {
        "colab": {
          "base_uri": "https://localhost:8080/",
          "height": 313
        },
        "id": "fqAU-rH8zeBO",
        "outputId": "38913267-10e1-44ff-eb17-d5e4c76470a5"
      },
      "execution_count": 7,
      "outputs": [
        {
          "output_type": "execute_result",
          "data": {
            "text/plain": [
              "   Unnamed: 0  POSTED_SPEED_LIMIT WEATHER_CONDITION LIGHTING_CONDITION  \\\n",
              "0           0                  30             CLEAR           DAYLIGHT   \n",
              "1           1                  30             CLEAR           DAYLIGHT   \n",
              "2           2                  15             CLEAR           DAYLIGHT   \n",
              "3           3                  15             CLEAR           DAYLIGHT   \n",
              "4           4                  30             CLEAR           DAYLIGHT   \n",
              "\n",
              "  ROADWAY_SURFACE_COND  NUM_UNITS  CRASH_HOUR  CRASH_DAY_OF_WEEK  CRASH_MONTH  \\\n",
              "0                  DRY          2          17                  6            8   \n",
              "1                  DRY          2          17                  6            8   \n",
              "2                  DRY          2          12                  4            9   \n",
              "3                  DRY          2          12                  4            9   \n",
              "4                  DRY          2          11                  4            9   \n",
              "\n",
              "    LATITUDE  LONGITUDE PERSON_TYPE SEX  AGE TRAVEL_DIRECTION  \\\n",
              "0  41.942976 -87.761883     BICYCLE   M   14                S   \n",
              "1  41.942976 -87.761883      DRIVER   M   36                S   \n",
              "2  41.744152 -87.585945      DRIVER   M   55                W   \n",
              "3  41.744152 -87.585945      DRIVER   M   55                S   \n",
              "4  41.937252 -87.776321      DRIVER   M   39                S   \n",
              "\n",
              "               MANEUVER  TARGET  \n",
              "0        STRAIGHT AHEAD       1  \n",
              "1        STRAIGHT AHEAD       1  \n",
              "2               BACKING       1  \n",
              "3  SLOW/STOP IN TRAFFIC       1  \n",
              "4        STRAIGHT AHEAD       1  "
            ],
            "text/html": [
              "\n",
              "  <div id=\"df-ecfc1894-7294-4ed2-a58e-328dc7ccd3d8\" class=\"colab-df-container\">\n",
              "    <div>\n",
              "<style scoped>\n",
              "    .dataframe tbody tr th:only-of-type {\n",
              "        vertical-align: middle;\n",
              "    }\n",
              "\n",
              "    .dataframe tbody tr th {\n",
              "        vertical-align: top;\n",
              "    }\n",
              "\n",
              "    .dataframe thead th {\n",
              "        text-align: right;\n",
              "    }\n",
              "</style>\n",
              "<table border=\"1\" class=\"dataframe\">\n",
              "  <thead>\n",
              "    <tr style=\"text-align: right;\">\n",
              "      <th></th>\n",
              "      <th>Unnamed: 0</th>\n",
              "      <th>POSTED_SPEED_LIMIT</th>\n",
              "      <th>WEATHER_CONDITION</th>\n",
              "      <th>LIGHTING_CONDITION</th>\n",
              "      <th>ROADWAY_SURFACE_COND</th>\n",
              "      <th>NUM_UNITS</th>\n",
              "      <th>CRASH_HOUR</th>\n",
              "      <th>CRASH_DAY_OF_WEEK</th>\n",
              "      <th>CRASH_MONTH</th>\n",
              "      <th>LATITUDE</th>\n",
              "      <th>LONGITUDE</th>\n",
              "      <th>PERSON_TYPE</th>\n",
              "      <th>SEX</th>\n",
              "      <th>AGE</th>\n",
              "      <th>TRAVEL_DIRECTION</th>\n",
              "      <th>MANEUVER</th>\n",
              "      <th>TARGET</th>\n",
              "    </tr>\n",
              "  </thead>\n",
              "  <tbody>\n",
              "    <tr>\n",
              "      <th>0</th>\n",
              "      <td>0</td>\n",
              "      <td>30</td>\n",
              "      <td>CLEAR</td>\n",
              "      <td>DAYLIGHT</td>\n",
              "      <td>DRY</td>\n",
              "      <td>2</td>\n",
              "      <td>17</td>\n",
              "      <td>6</td>\n",
              "      <td>8</td>\n",
              "      <td>41.942976</td>\n",
              "      <td>-87.761883</td>\n",
              "      <td>BICYCLE</td>\n",
              "      <td>M</td>\n",
              "      <td>14</td>\n",
              "      <td>S</td>\n",
              "      <td>STRAIGHT AHEAD</td>\n",
              "      <td>1</td>\n",
              "    </tr>\n",
              "    <tr>\n",
              "      <th>1</th>\n",
              "      <td>1</td>\n",
              "      <td>30</td>\n",
              "      <td>CLEAR</td>\n",
              "      <td>DAYLIGHT</td>\n",
              "      <td>DRY</td>\n",
              "      <td>2</td>\n",
              "      <td>17</td>\n",
              "      <td>6</td>\n",
              "      <td>8</td>\n",
              "      <td>41.942976</td>\n",
              "      <td>-87.761883</td>\n",
              "      <td>DRIVER</td>\n",
              "      <td>M</td>\n",
              "      <td>36</td>\n",
              "      <td>S</td>\n",
              "      <td>STRAIGHT AHEAD</td>\n",
              "      <td>1</td>\n",
              "    </tr>\n",
              "    <tr>\n",
              "      <th>2</th>\n",
              "      <td>2</td>\n",
              "      <td>15</td>\n",
              "      <td>CLEAR</td>\n",
              "      <td>DAYLIGHT</td>\n",
              "      <td>DRY</td>\n",
              "      <td>2</td>\n",
              "      <td>12</td>\n",
              "      <td>4</td>\n",
              "      <td>9</td>\n",
              "      <td>41.744152</td>\n",
              "      <td>-87.585945</td>\n",
              "      <td>DRIVER</td>\n",
              "      <td>M</td>\n",
              "      <td>55</td>\n",
              "      <td>W</td>\n",
              "      <td>BACKING</td>\n",
              "      <td>1</td>\n",
              "    </tr>\n",
              "    <tr>\n",
              "      <th>3</th>\n",
              "      <td>3</td>\n",
              "      <td>15</td>\n",
              "      <td>CLEAR</td>\n",
              "      <td>DAYLIGHT</td>\n",
              "      <td>DRY</td>\n",
              "      <td>2</td>\n",
              "      <td>12</td>\n",
              "      <td>4</td>\n",
              "      <td>9</td>\n",
              "      <td>41.744152</td>\n",
              "      <td>-87.585945</td>\n",
              "      <td>DRIVER</td>\n",
              "      <td>M</td>\n",
              "      <td>55</td>\n",
              "      <td>S</td>\n",
              "      <td>SLOW/STOP IN TRAFFIC</td>\n",
              "      <td>1</td>\n",
              "    </tr>\n",
              "    <tr>\n",
              "      <th>4</th>\n",
              "      <td>4</td>\n",
              "      <td>30</td>\n",
              "      <td>CLEAR</td>\n",
              "      <td>DAYLIGHT</td>\n",
              "      <td>DRY</td>\n",
              "      <td>2</td>\n",
              "      <td>11</td>\n",
              "      <td>4</td>\n",
              "      <td>9</td>\n",
              "      <td>41.937252</td>\n",
              "      <td>-87.776321</td>\n",
              "      <td>DRIVER</td>\n",
              "      <td>M</td>\n",
              "      <td>39</td>\n",
              "      <td>S</td>\n",
              "      <td>STRAIGHT AHEAD</td>\n",
              "      <td>1</td>\n",
              "    </tr>\n",
              "  </tbody>\n",
              "</table>\n",
              "</div>\n",
              "    <div class=\"colab-df-buttons\">\n",
              "\n",
              "  <div class=\"colab-df-container\">\n",
              "    <button class=\"colab-df-convert\" onclick=\"convertToInteractive('df-ecfc1894-7294-4ed2-a58e-328dc7ccd3d8')\"\n",
              "            title=\"Convert this dataframe to an interactive table.\"\n",
              "            style=\"display:none;\">\n",
              "\n",
              "  <svg xmlns=\"http://www.w3.org/2000/svg\" height=\"24px\" viewBox=\"0 -960 960 960\">\n",
              "    <path d=\"M120-120v-720h720v720H120Zm60-500h600v-160H180v160Zm220 220h160v-160H400v160Zm0 220h160v-160H400v160ZM180-400h160v-160H180v160Zm440 0h160v-160H620v160ZM180-180h160v-160H180v160Zm440 0h160v-160H620v160Z\"/>\n",
              "  </svg>\n",
              "    </button>\n",
              "\n",
              "  <style>\n",
              "    .colab-df-container {\n",
              "      display:flex;\n",
              "      gap: 12px;\n",
              "    }\n",
              "\n",
              "    .colab-df-convert {\n",
              "      background-color: #E8F0FE;\n",
              "      border: none;\n",
              "      border-radius: 50%;\n",
              "      cursor: pointer;\n",
              "      display: none;\n",
              "      fill: #1967D2;\n",
              "      height: 32px;\n",
              "      padding: 0 0 0 0;\n",
              "      width: 32px;\n",
              "    }\n",
              "\n",
              "    .colab-df-convert:hover {\n",
              "      background-color: #E2EBFA;\n",
              "      box-shadow: 0px 1px 2px rgba(60, 64, 67, 0.3), 0px 1px 3px 1px rgba(60, 64, 67, 0.15);\n",
              "      fill: #174EA6;\n",
              "    }\n",
              "\n",
              "    .colab-df-buttons div {\n",
              "      margin-bottom: 4px;\n",
              "    }\n",
              "\n",
              "    [theme=dark] .colab-df-convert {\n",
              "      background-color: #3B4455;\n",
              "      fill: #D2E3FC;\n",
              "    }\n",
              "\n",
              "    [theme=dark] .colab-df-convert:hover {\n",
              "      background-color: #434B5C;\n",
              "      box-shadow: 0px 1px 3px 1px rgba(0, 0, 0, 0.15);\n",
              "      filter: drop-shadow(0px 1px 2px rgba(0, 0, 0, 0.3));\n",
              "      fill: #FFFFFF;\n",
              "    }\n",
              "  </style>\n",
              "\n",
              "    <script>\n",
              "      const buttonEl =\n",
              "        document.querySelector('#df-ecfc1894-7294-4ed2-a58e-328dc7ccd3d8 button.colab-df-convert');\n",
              "      buttonEl.style.display =\n",
              "        google.colab.kernel.accessAllowed ? 'block' : 'none';\n",
              "\n",
              "      async function convertToInteractive(key) {\n",
              "        const element = document.querySelector('#df-ecfc1894-7294-4ed2-a58e-328dc7ccd3d8');\n",
              "        const dataTable =\n",
              "          await google.colab.kernel.invokeFunction('convertToInteractive',\n",
              "                                                    [key], {});\n",
              "        if (!dataTable) return;\n",
              "\n",
              "        const docLinkHtml = 'Like what you see? Visit the ' +\n",
              "          '<a target=\"_blank\" href=https://colab.research.google.com/notebooks/data_table.ipynb>data table notebook</a>'\n",
              "          + ' to learn more about interactive tables.';\n",
              "        element.innerHTML = '';\n",
              "        dataTable['output_type'] = 'display_data';\n",
              "        await google.colab.output.renderOutput(dataTable, element);\n",
              "        const docLink = document.createElement('div');\n",
              "        docLink.innerHTML = docLinkHtml;\n",
              "        element.appendChild(docLink);\n",
              "      }\n",
              "    </script>\n",
              "  </div>\n",
              "\n",
              "\n",
              "<div id=\"df-325bd1a6-a649-437e-94e9-6ab7f90f9c55\">\n",
              "  <button class=\"colab-df-quickchart\" onclick=\"quickchart('df-325bd1a6-a649-437e-94e9-6ab7f90f9c55')\"\n",
              "            title=\"Suggest charts\"\n",
              "            style=\"display:none;\">\n",
              "\n",
              "<svg xmlns=\"http://www.w3.org/2000/svg\" height=\"24px\"viewBox=\"0 0 24 24\"\n",
              "     width=\"24px\">\n",
              "    <g>\n",
              "        <path d=\"M19 3H5c-1.1 0-2 .9-2 2v14c0 1.1.9 2 2 2h14c1.1 0 2-.9 2-2V5c0-1.1-.9-2-2-2zM9 17H7v-7h2v7zm4 0h-2V7h2v10zm4 0h-2v-4h2v4z\"/>\n",
              "    </g>\n",
              "</svg>\n",
              "  </button>\n",
              "\n",
              "<style>\n",
              "  .colab-df-quickchart {\n",
              "      --bg-color: #E8F0FE;\n",
              "      --fill-color: #1967D2;\n",
              "      --hover-bg-color: #E2EBFA;\n",
              "      --hover-fill-color: #174EA6;\n",
              "      --disabled-fill-color: #AAA;\n",
              "      --disabled-bg-color: #DDD;\n",
              "  }\n",
              "\n",
              "  [theme=dark] .colab-df-quickchart {\n",
              "      --bg-color: #3B4455;\n",
              "      --fill-color: #D2E3FC;\n",
              "      --hover-bg-color: #434B5C;\n",
              "      --hover-fill-color: #FFFFFF;\n",
              "      --disabled-bg-color: #3B4455;\n",
              "      --disabled-fill-color: #666;\n",
              "  }\n",
              "\n",
              "  .colab-df-quickchart {\n",
              "    background-color: var(--bg-color);\n",
              "    border: none;\n",
              "    border-radius: 50%;\n",
              "    cursor: pointer;\n",
              "    display: none;\n",
              "    fill: var(--fill-color);\n",
              "    height: 32px;\n",
              "    padding: 0;\n",
              "    width: 32px;\n",
              "  }\n",
              "\n",
              "  .colab-df-quickchart:hover {\n",
              "    background-color: var(--hover-bg-color);\n",
              "    box-shadow: 0 1px 2px rgba(60, 64, 67, 0.3), 0 1px 3px 1px rgba(60, 64, 67, 0.15);\n",
              "    fill: var(--button-hover-fill-color);\n",
              "  }\n",
              "\n",
              "  .colab-df-quickchart-complete:disabled,\n",
              "  .colab-df-quickchart-complete:disabled:hover {\n",
              "    background-color: var(--disabled-bg-color);\n",
              "    fill: var(--disabled-fill-color);\n",
              "    box-shadow: none;\n",
              "  }\n",
              "\n",
              "  .colab-df-spinner {\n",
              "    border: 2px solid var(--fill-color);\n",
              "    border-color: transparent;\n",
              "    border-bottom-color: var(--fill-color);\n",
              "    animation:\n",
              "      spin 1s steps(1) infinite;\n",
              "  }\n",
              "\n",
              "  @keyframes spin {\n",
              "    0% {\n",
              "      border-color: transparent;\n",
              "      border-bottom-color: var(--fill-color);\n",
              "      border-left-color: var(--fill-color);\n",
              "    }\n",
              "    20% {\n",
              "      border-color: transparent;\n",
              "      border-left-color: var(--fill-color);\n",
              "      border-top-color: var(--fill-color);\n",
              "    }\n",
              "    30% {\n",
              "      border-color: transparent;\n",
              "      border-left-color: var(--fill-color);\n",
              "      border-top-color: var(--fill-color);\n",
              "      border-right-color: var(--fill-color);\n",
              "    }\n",
              "    40% {\n",
              "      border-color: transparent;\n",
              "      border-right-color: var(--fill-color);\n",
              "      border-top-color: var(--fill-color);\n",
              "    }\n",
              "    60% {\n",
              "      border-color: transparent;\n",
              "      border-right-color: var(--fill-color);\n",
              "    }\n",
              "    80% {\n",
              "      border-color: transparent;\n",
              "      border-right-color: var(--fill-color);\n",
              "      border-bottom-color: var(--fill-color);\n",
              "    }\n",
              "    90% {\n",
              "      border-color: transparent;\n",
              "      border-bottom-color: var(--fill-color);\n",
              "    }\n",
              "  }\n",
              "</style>\n",
              "\n",
              "  <script>\n",
              "    async function quickchart(key) {\n",
              "      const quickchartButtonEl =\n",
              "        document.querySelector('#' + key + ' button');\n",
              "      quickchartButtonEl.disabled = true;  // To prevent multiple clicks.\n",
              "      quickchartButtonEl.classList.add('colab-df-spinner');\n",
              "      try {\n",
              "        const charts = await google.colab.kernel.invokeFunction(\n",
              "            'suggestCharts', [key], {});\n",
              "      } catch (error) {\n",
              "        console.error('Error during call to suggestCharts:', error);\n",
              "      }\n",
              "      quickchartButtonEl.classList.remove('colab-df-spinner');\n",
              "      quickchartButtonEl.classList.add('colab-df-quickchart-complete');\n",
              "    }\n",
              "    (() => {\n",
              "      let quickchartButtonEl =\n",
              "        document.querySelector('#df-325bd1a6-a649-437e-94e9-6ab7f90f9c55 button');\n",
              "      quickchartButtonEl.style.display =\n",
              "        google.colab.kernel.accessAllowed ? 'block' : 'none';\n",
              "    })();\n",
              "  </script>\n",
              "</div>\n",
              "\n",
              "    </div>\n",
              "  </div>\n"
            ],
            "application/vnd.google.colaboratory.intrinsic+json": {
              "type": "dataframe",
              "variable_name": "df"
            }
          },
          "metadata": {},
          "execution_count": 7
        }
      ]
    },
    {
      "cell_type": "code",
      "source": [
        "#A new index column was added in for some reason, let's drop that\n",
        "df.drop('Unnamed: 0', axis=1, inplace=True)\n",
        "#Now let's check and see if it looks like it did back in the data engineering notebook:\n",
        "df.info()"
      ],
      "metadata": {
        "colab": {
          "base_uri": "https://localhost:8080/"
        },
        "id": "N84Iz4H109C1",
        "outputId": "eeb97e06-7a4c-4894-8a03-046f74a9efda"
      },
      "execution_count": 8,
      "outputs": [
        {
          "output_type": "stream",
          "name": "stdout",
          "text": [
            "<class 'pandas.core.frame.DataFrame'>\n",
            "RangeIndex: 884772 entries, 0 to 884771\n",
            "Data columns (total 16 columns):\n",
            " #   Column                Non-Null Count   Dtype  \n",
            "---  ------                --------------   -----  \n",
            " 0   POSTED_SPEED_LIMIT    884772 non-null  int64  \n",
            " 1   WEATHER_CONDITION     884772 non-null  object \n",
            " 2   LIGHTING_CONDITION    884772 non-null  object \n",
            " 3   ROADWAY_SURFACE_COND  884772 non-null  object \n",
            " 4   NUM_UNITS             884772 non-null  int64  \n",
            " 5   CRASH_HOUR            884772 non-null  int64  \n",
            " 6   CRASH_DAY_OF_WEEK     884772 non-null  int64  \n",
            " 7   CRASH_MONTH           884772 non-null  int64  \n",
            " 8   LATITUDE              884772 non-null  float64\n",
            " 9   LONGITUDE             884772 non-null  float64\n",
            " 10  PERSON_TYPE           884772 non-null  object \n",
            " 11  SEX                   884772 non-null  object \n",
            " 12  AGE                   884772 non-null  int64  \n",
            " 13  TRAVEL_DIRECTION      884772 non-null  object \n",
            " 14  MANEUVER              884772 non-null  object \n",
            " 15  TARGET                884772 non-null  int64  \n",
            "dtypes: float64(2), int64(7), object(7)\n",
            "memory usage: 108.0+ MB\n"
          ]
        }
      ]
    },
    {
      "cell_type": "markdown",
      "source": [
        "## valuation measures\n",
        "\n",
        "This file is more managable than the gargantuan raw data, but still contains plenty of records. Subsequently, we'll validate this project using a train-test split as opposed to cross-validation."
      ],
      "metadata": {
        "id": "lK_TdGr5BrO0"
      }
    },
    {
      "cell_type": "code",
      "source": [
        "from sklearn.model_selection import train_test_split\n",
        "X = df.drop('TARGET', axis=1)\n",
        "y = df['TARGET']\n",
        "X_train, X_test, y_train, y_test = train_test_split(X, y, test_size=0.2, random_state=210)"
      ],
      "metadata": {
        "id": "Z9Npuvs81UFR"
      },
      "execution_count": 9,
      "outputs": []
    },
    {
      "cell_type": "markdown",
      "source": [
        "## preprocessing data\n",
        "\n",
        "Now we can standardize our numeric columns and one-hot encode our categorical ones before inputting these features into models."
      ],
      "metadata": {
        "id": "V2YWLZax7Ocn"
      }
    },
    {
      "cell_type": "code",
      "source": [
        "#establishing which features are numeric or categorical\n",
        "numeric_features = ['POSTED_SPEED_LIMIT', 'NUM_UNITS', 'CRASH_HOUR', 'LATITUDE', 'LONGITUDE', 'AGE']\n",
        "\n",
        "categorical_features = ['WEATHER_CONDITION', 'LIGHTING_CONDITION', 'ROADWAY_SURFACE_COND',\n",
        "                        'CRASH_DAY_OF_WEEK', 'PERSON_TYPE', 'SEX', 'TRAVEL_DIRECTION', 'MANEUVER']\n",
        "\n",
        "#splitting them up for preprocessing\n",
        "X_train_numeric = X_train[numeric_features]\n",
        "X_train_categorical = X_train[categorical_features]"
      ],
      "metadata": {
        "id": "WPQWI2TWEMbO"
      },
      "execution_count": 10,
      "outputs": []
    },
    {
      "cell_type": "markdown",
      "source": [
        "First, we'll standardize the numeric features since they have varied scales that throw off measures like PCA."
      ],
      "metadata": {
        "id": "KWiZ_Nz3JIf1"
      }
    },
    {
      "cell_type": "code",
      "source": [
        "from sklearn.preprocessing import StandardScaler\n",
        "\n",
        "scaler = StandardScaler()\n",
        "X_train_numeric_scaled = scaler.fit_transform(X_train_numeric)\n",
        "X_train_numeric_scaled = pd.DataFrame(X_train_numeric_scaled,\n",
        "                                      columns = X_train_numeric.columns,\n",
        "                                      index = X_train_numeric.index)\n",
        "X_train_numeric_scaled.head()"
      ],
      "metadata": {
        "colab": {
          "base_uri": "https://localhost:8080/",
          "height": 206
        },
        "id": "qsQ0J5V0E4Y0",
        "outputId": "cb06a92f-4a64-44bc-ac38-dacddc7b66cc"
      },
      "execution_count": 11,
      "outputs": [
        {
          "output_type": "execute_result",
          "data": {
            "text/plain": [
              "        POSTED_SPEED_LIMIT  NUM_UNITS  CRASH_HOUR  LATITUDE  LONGITUDE  \\\n",
              "571273            0.132509   1.141696   -1.013182  0.107484  -0.085609   \n",
              "751169            0.132509  -0.333483   -1.013182 -0.112652  -0.012405   \n",
              "43397             0.132509   1.141696   -2.335921 -0.233132   0.113552   \n",
              "847787            0.132509  -0.333483    1.254371  0.310612  -0.137801   \n",
              "542731            0.132509  -0.333483   -0.068368  0.106912   0.022791   \n",
              "\n",
              "             AGE  \n",
              "571273 -1.109211  \n",
              "751169  0.459883  \n",
              "43397  -1.046447  \n",
              "847787 -1.485793  \n",
              "542731  0.397120  "
            ],
            "text/html": [
              "\n",
              "  <div id=\"df-1874eaf1-049e-4840-b619-e3f3eacd29c3\" class=\"colab-df-container\">\n",
              "    <div>\n",
              "<style scoped>\n",
              "    .dataframe tbody tr th:only-of-type {\n",
              "        vertical-align: middle;\n",
              "    }\n",
              "\n",
              "    .dataframe tbody tr th {\n",
              "        vertical-align: top;\n",
              "    }\n",
              "\n",
              "    .dataframe thead th {\n",
              "        text-align: right;\n",
              "    }\n",
              "</style>\n",
              "<table border=\"1\" class=\"dataframe\">\n",
              "  <thead>\n",
              "    <tr style=\"text-align: right;\">\n",
              "      <th></th>\n",
              "      <th>POSTED_SPEED_LIMIT</th>\n",
              "      <th>NUM_UNITS</th>\n",
              "      <th>CRASH_HOUR</th>\n",
              "      <th>LATITUDE</th>\n",
              "      <th>LONGITUDE</th>\n",
              "      <th>AGE</th>\n",
              "    </tr>\n",
              "  </thead>\n",
              "  <tbody>\n",
              "    <tr>\n",
              "      <th>571273</th>\n",
              "      <td>0.132509</td>\n",
              "      <td>1.141696</td>\n",
              "      <td>-1.013182</td>\n",
              "      <td>0.107484</td>\n",
              "      <td>-0.085609</td>\n",
              "      <td>-1.109211</td>\n",
              "    </tr>\n",
              "    <tr>\n",
              "      <th>751169</th>\n",
              "      <td>0.132509</td>\n",
              "      <td>-0.333483</td>\n",
              "      <td>-1.013182</td>\n",
              "      <td>-0.112652</td>\n",
              "      <td>-0.012405</td>\n",
              "      <td>0.459883</td>\n",
              "    </tr>\n",
              "    <tr>\n",
              "      <th>43397</th>\n",
              "      <td>0.132509</td>\n",
              "      <td>1.141696</td>\n",
              "      <td>-2.335921</td>\n",
              "      <td>-0.233132</td>\n",
              "      <td>0.113552</td>\n",
              "      <td>-1.046447</td>\n",
              "    </tr>\n",
              "    <tr>\n",
              "      <th>847787</th>\n",
              "      <td>0.132509</td>\n",
              "      <td>-0.333483</td>\n",
              "      <td>1.254371</td>\n",
              "      <td>0.310612</td>\n",
              "      <td>-0.137801</td>\n",
              "      <td>-1.485793</td>\n",
              "    </tr>\n",
              "    <tr>\n",
              "      <th>542731</th>\n",
              "      <td>0.132509</td>\n",
              "      <td>-0.333483</td>\n",
              "      <td>-0.068368</td>\n",
              "      <td>0.106912</td>\n",
              "      <td>0.022791</td>\n",
              "      <td>0.397120</td>\n",
              "    </tr>\n",
              "  </tbody>\n",
              "</table>\n",
              "</div>\n",
              "    <div class=\"colab-df-buttons\">\n",
              "\n",
              "  <div class=\"colab-df-container\">\n",
              "    <button class=\"colab-df-convert\" onclick=\"convertToInteractive('df-1874eaf1-049e-4840-b619-e3f3eacd29c3')\"\n",
              "            title=\"Convert this dataframe to an interactive table.\"\n",
              "            style=\"display:none;\">\n",
              "\n",
              "  <svg xmlns=\"http://www.w3.org/2000/svg\" height=\"24px\" viewBox=\"0 -960 960 960\">\n",
              "    <path d=\"M120-120v-720h720v720H120Zm60-500h600v-160H180v160Zm220 220h160v-160H400v160Zm0 220h160v-160H400v160ZM180-400h160v-160H180v160Zm440 0h160v-160H620v160ZM180-180h160v-160H180v160Zm440 0h160v-160H620v160Z\"/>\n",
              "  </svg>\n",
              "    </button>\n",
              "\n",
              "  <style>\n",
              "    .colab-df-container {\n",
              "      display:flex;\n",
              "      gap: 12px;\n",
              "    }\n",
              "\n",
              "    .colab-df-convert {\n",
              "      background-color: #E8F0FE;\n",
              "      border: none;\n",
              "      border-radius: 50%;\n",
              "      cursor: pointer;\n",
              "      display: none;\n",
              "      fill: #1967D2;\n",
              "      height: 32px;\n",
              "      padding: 0 0 0 0;\n",
              "      width: 32px;\n",
              "    }\n",
              "\n",
              "    .colab-df-convert:hover {\n",
              "      background-color: #E2EBFA;\n",
              "      box-shadow: 0px 1px 2px rgba(60, 64, 67, 0.3), 0px 1px 3px 1px rgba(60, 64, 67, 0.15);\n",
              "      fill: #174EA6;\n",
              "    }\n",
              "\n",
              "    .colab-df-buttons div {\n",
              "      margin-bottom: 4px;\n",
              "    }\n",
              "\n",
              "    [theme=dark] .colab-df-convert {\n",
              "      background-color: #3B4455;\n",
              "      fill: #D2E3FC;\n",
              "    }\n",
              "\n",
              "    [theme=dark] .colab-df-convert:hover {\n",
              "      background-color: #434B5C;\n",
              "      box-shadow: 0px 1px 3px 1px rgba(0, 0, 0, 0.15);\n",
              "      filter: drop-shadow(0px 1px 2px rgba(0, 0, 0, 0.3));\n",
              "      fill: #FFFFFF;\n",
              "    }\n",
              "  </style>\n",
              "\n",
              "    <script>\n",
              "      const buttonEl =\n",
              "        document.querySelector('#df-1874eaf1-049e-4840-b619-e3f3eacd29c3 button.colab-df-convert');\n",
              "      buttonEl.style.display =\n",
              "        google.colab.kernel.accessAllowed ? 'block' : 'none';\n",
              "\n",
              "      async function convertToInteractive(key) {\n",
              "        const element = document.querySelector('#df-1874eaf1-049e-4840-b619-e3f3eacd29c3');\n",
              "        const dataTable =\n",
              "          await google.colab.kernel.invokeFunction('convertToInteractive',\n",
              "                                                    [key], {});\n",
              "        if (!dataTable) return;\n",
              "\n",
              "        const docLinkHtml = 'Like what you see? Visit the ' +\n",
              "          '<a target=\"_blank\" href=https://colab.research.google.com/notebooks/data_table.ipynb>data table notebook</a>'\n",
              "          + ' to learn more about interactive tables.';\n",
              "        element.innerHTML = '';\n",
              "        dataTable['output_type'] = 'display_data';\n",
              "        await google.colab.output.renderOutput(dataTable, element);\n",
              "        const docLink = document.createElement('div');\n",
              "        docLink.innerHTML = docLinkHtml;\n",
              "        element.appendChild(docLink);\n",
              "      }\n",
              "    </script>\n",
              "  </div>\n",
              "\n",
              "\n",
              "<div id=\"df-a420acaf-f984-4562-9507-a1957fefcf0d\">\n",
              "  <button class=\"colab-df-quickchart\" onclick=\"quickchart('df-a420acaf-f984-4562-9507-a1957fefcf0d')\"\n",
              "            title=\"Suggest charts\"\n",
              "            style=\"display:none;\">\n",
              "\n",
              "<svg xmlns=\"http://www.w3.org/2000/svg\" height=\"24px\"viewBox=\"0 0 24 24\"\n",
              "     width=\"24px\">\n",
              "    <g>\n",
              "        <path d=\"M19 3H5c-1.1 0-2 .9-2 2v14c0 1.1.9 2 2 2h14c1.1 0 2-.9 2-2V5c0-1.1-.9-2-2-2zM9 17H7v-7h2v7zm4 0h-2V7h2v10zm4 0h-2v-4h2v4z\"/>\n",
              "    </g>\n",
              "</svg>\n",
              "  </button>\n",
              "\n",
              "<style>\n",
              "  .colab-df-quickchart {\n",
              "      --bg-color: #E8F0FE;\n",
              "      --fill-color: #1967D2;\n",
              "      --hover-bg-color: #E2EBFA;\n",
              "      --hover-fill-color: #174EA6;\n",
              "      --disabled-fill-color: #AAA;\n",
              "      --disabled-bg-color: #DDD;\n",
              "  }\n",
              "\n",
              "  [theme=dark] .colab-df-quickchart {\n",
              "      --bg-color: #3B4455;\n",
              "      --fill-color: #D2E3FC;\n",
              "      --hover-bg-color: #434B5C;\n",
              "      --hover-fill-color: #FFFFFF;\n",
              "      --disabled-bg-color: #3B4455;\n",
              "      --disabled-fill-color: #666;\n",
              "  }\n",
              "\n",
              "  .colab-df-quickchart {\n",
              "    background-color: var(--bg-color);\n",
              "    border: none;\n",
              "    border-radius: 50%;\n",
              "    cursor: pointer;\n",
              "    display: none;\n",
              "    fill: var(--fill-color);\n",
              "    height: 32px;\n",
              "    padding: 0;\n",
              "    width: 32px;\n",
              "  }\n",
              "\n",
              "  .colab-df-quickchart:hover {\n",
              "    background-color: var(--hover-bg-color);\n",
              "    box-shadow: 0 1px 2px rgba(60, 64, 67, 0.3), 0 1px 3px 1px rgba(60, 64, 67, 0.15);\n",
              "    fill: var(--button-hover-fill-color);\n",
              "  }\n",
              "\n",
              "  .colab-df-quickchart-complete:disabled,\n",
              "  .colab-df-quickchart-complete:disabled:hover {\n",
              "    background-color: var(--disabled-bg-color);\n",
              "    fill: var(--disabled-fill-color);\n",
              "    box-shadow: none;\n",
              "  }\n",
              "\n",
              "  .colab-df-spinner {\n",
              "    border: 2px solid var(--fill-color);\n",
              "    border-color: transparent;\n",
              "    border-bottom-color: var(--fill-color);\n",
              "    animation:\n",
              "      spin 1s steps(1) infinite;\n",
              "  }\n",
              "\n",
              "  @keyframes spin {\n",
              "    0% {\n",
              "      border-color: transparent;\n",
              "      border-bottom-color: var(--fill-color);\n",
              "      border-left-color: var(--fill-color);\n",
              "    }\n",
              "    20% {\n",
              "      border-color: transparent;\n",
              "      border-left-color: var(--fill-color);\n",
              "      border-top-color: var(--fill-color);\n",
              "    }\n",
              "    30% {\n",
              "      border-color: transparent;\n",
              "      border-left-color: var(--fill-color);\n",
              "      border-top-color: var(--fill-color);\n",
              "      border-right-color: var(--fill-color);\n",
              "    }\n",
              "    40% {\n",
              "      border-color: transparent;\n",
              "      border-right-color: var(--fill-color);\n",
              "      border-top-color: var(--fill-color);\n",
              "    }\n",
              "    60% {\n",
              "      border-color: transparent;\n",
              "      border-right-color: var(--fill-color);\n",
              "    }\n",
              "    80% {\n",
              "      border-color: transparent;\n",
              "      border-right-color: var(--fill-color);\n",
              "      border-bottom-color: var(--fill-color);\n",
              "    }\n",
              "    90% {\n",
              "      border-color: transparent;\n",
              "      border-bottom-color: var(--fill-color);\n",
              "    }\n",
              "  }\n",
              "</style>\n",
              "\n",
              "  <script>\n",
              "    async function quickchart(key) {\n",
              "      const quickchartButtonEl =\n",
              "        document.querySelector('#' + key + ' button');\n",
              "      quickchartButtonEl.disabled = true;  // To prevent multiple clicks.\n",
              "      quickchartButtonEl.classList.add('colab-df-spinner');\n",
              "      try {\n",
              "        const charts = await google.colab.kernel.invokeFunction(\n",
              "            'suggestCharts', [key], {});\n",
              "      } catch (error) {\n",
              "        console.error('Error during call to suggestCharts:', error);\n",
              "      }\n",
              "      quickchartButtonEl.classList.remove('colab-df-spinner');\n",
              "      quickchartButtonEl.classList.add('colab-df-quickchart-complete');\n",
              "    }\n",
              "    (() => {\n",
              "      let quickchartButtonEl =\n",
              "        document.querySelector('#df-a420acaf-f984-4562-9507-a1957fefcf0d button');\n",
              "      quickchartButtonEl.style.display =\n",
              "        google.colab.kernel.accessAllowed ? 'block' : 'none';\n",
              "    })();\n",
              "  </script>\n",
              "</div>\n",
              "\n",
              "    </div>\n",
              "  </div>\n"
            ],
            "application/vnd.google.colaboratory.intrinsic+json": {
              "type": "dataframe",
              "variable_name": "X_train_numeric_scaled"
            }
          },
          "metadata": {},
          "execution_count": 11
        }
      ]
    },
    {
      "cell_type": "markdown",
      "source": [
        "Looks good; let's one-hot encode the categorical variables. Since we'll be using regularization to optimize our models, we won't need to drop one of the resulting dummy variables. This will help with model interpretability."
      ],
      "metadata": {
        "id": "8zhJzKIWLY20"
      }
    },
    {
      "cell_type": "code",
      "source": [
        "from sklearn.preprocessing import OneHotEncoder\n",
        "\n",
        "ohe = OneHotEncoder(sparse_output=False)\n",
        "X_train_categorical_ohe = ohe.fit_transform(X_train_categorical)\n",
        "X_train_categorical_ohe = pd.DataFrame(X_train_categorical_ohe,\n",
        "                                       columns = ohe.get_feature_names_out(),\n",
        "                                       index = X_train_categorical.index)\n",
        "X_train_categorical_ohe.head()"
      ],
      "metadata": {
        "colab": {
          "base_uri": "https://localhost:8080/",
          "height": 273
        },
        "id": "03kmheLCIYBN",
        "outputId": "e5ff8fc1-ab45-4ac8-b6f0-614865dc7782"
      },
      "execution_count": 12,
      "outputs": [
        {
          "output_type": "execute_result",
          "data": {
            "text/plain": [
              "        WEATHER_CONDITION_BLOWING SAND, SOIL, DIRT  \\\n",
              "571273                                         0.0   \n",
              "751169                                         0.0   \n",
              "43397                                          0.0   \n",
              "847787                                         0.0   \n",
              "542731                                         0.0   \n",
              "\n",
              "        WEATHER_CONDITION_BLOWING SNOW  WEATHER_CONDITION_CLEAR  \\\n",
              "571273                             0.0                      1.0   \n",
              "751169                             0.0                      1.0   \n",
              "43397                              0.0                      1.0   \n",
              "847787                             0.0                      1.0   \n",
              "542731                             0.0                      1.0   \n",
              "\n",
              "        WEATHER_CONDITION_CLOUDY/OVERCAST  WEATHER_CONDITION_FOG/SMOKE/HAZE  \\\n",
              "571273                                0.0                               0.0   \n",
              "751169                                0.0                               0.0   \n",
              "43397                                 0.0                               0.0   \n",
              "847787                                0.0                               0.0   \n",
              "542731                                0.0                               0.0   \n",
              "\n",
              "        WEATHER_CONDITION_FREEZING RAIN/DRIZZLE  WEATHER_CONDITION_RAIN  \\\n",
              "571273                                      0.0                     0.0   \n",
              "751169                                      0.0                     0.0   \n",
              "43397                                       0.0                     0.0   \n",
              "847787                                      0.0                     0.0   \n",
              "542731                                      0.0                     0.0   \n",
              "\n",
              "        WEATHER_CONDITION_SEVERE CROSS WIND GATE  \\\n",
              "571273                                       0.0   \n",
              "751169                                       0.0   \n",
              "43397                                        0.0   \n",
              "847787                                       0.0   \n",
              "542731                                       0.0   \n",
              "\n",
              "        WEATHER_CONDITION_SLEET/HAIL  WEATHER_CONDITION_SNOW  ...  \\\n",
              "571273                           0.0                     0.0  ...   \n",
              "751169                           0.0                     0.0  ...   \n",
              "43397                            0.0                     0.0  ...   \n",
              "847787                           0.0                     0.0  ...   \n",
              "542731                           0.0                     0.0  ...   \n",
              "\n",
              "        MANEUVER_SKIDDING/CONTROL LOSS  MANEUVER_SLOW/STOP - LEFT TURN  \\\n",
              "571273                             0.0                             0.0   \n",
              "751169                             0.0                             0.0   \n",
              "43397                              0.0                             0.0   \n",
              "847787                             0.0                             0.0   \n",
              "542731                             0.0                             0.0   \n",
              "\n",
              "        MANEUVER_SLOW/STOP - LOAD/UNLOAD  MANEUVER_SLOW/STOP - RIGHT TURN  \\\n",
              "571273                               0.0                              0.0   \n",
              "751169                               0.0                              0.0   \n",
              "43397                                0.0                              0.0   \n",
              "847787                               0.0                              0.0   \n",
              "542731                               0.0                              0.0   \n",
              "\n",
              "        MANEUVER_SLOW/STOP IN TRAFFIC  MANEUVER_STARTING IN TRAFFIC  \\\n",
              "571273                            1.0                           0.0   \n",
              "751169                            1.0                           0.0   \n",
              "43397                             0.0                           0.0   \n",
              "847787                            0.0                           0.0   \n",
              "542731                            0.0                           0.0   \n",
              "\n",
              "        MANEUVER_STRAIGHT AHEAD  MANEUVER_TURNING LEFT  \\\n",
              "571273                      0.0                    0.0   \n",
              "751169                      0.0                    0.0   \n",
              "43397                       1.0                    0.0   \n",
              "847787                      1.0                    0.0   \n",
              "542731                      1.0                    0.0   \n",
              "\n",
              "        MANEUVER_TURNING RIGHT  MANEUVER_U-TURN  \n",
              "571273                     0.0              0.0  \n",
              "751169                     0.0              0.0  \n",
              "43397                      0.0              0.0  \n",
              "847787                     0.0              0.0  \n",
              "542731                     0.0              0.0  \n",
              "\n",
              "[5 rows x 63 columns]"
            ],
            "text/html": [
              "\n",
              "  <div id=\"df-37041d02-7a9b-4ac0-bf4f-546297992da0\" class=\"colab-df-container\">\n",
              "    <div>\n",
              "<style scoped>\n",
              "    .dataframe tbody tr th:only-of-type {\n",
              "        vertical-align: middle;\n",
              "    }\n",
              "\n",
              "    .dataframe tbody tr th {\n",
              "        vertical-align: top;\n",
              "    }\n",
              "\n",
              "    .dataframe thead th {\n",
              "        text-align: right;\n",
              "    }\n",
              "</style>\n",
              "<table border=\"1\" class=\"dataframe\">\n",
              "  <thead>\n",
              "    <tr style=\"text-align: right;\">\n",
              "      <th></th>\n",
              "      <th>WEATHER_CONDITION_BLOWING SAND, SOIL, DIRT</th>\n",
              "      <th>WEATHER_CONDITION_BLOWING SNOW</th>\n",
              "      <th>WEATHER_CONDITION_CLEAR</th>\n",
              "      <th>WEATHER_CONDITION_CLOUDY/OVERCAST</th>\n",
              "      <th>WEATHER_CONDITION_FOG/SMOKE/HAZE</th>\n",
              "      <th>WEATHER_CONDITION_FREEZING RAIN/DRIZZLE</th>\n",
              "      <th>WEATHER_CONDITION_RAIN</th>\n",
              "      <th>WEATHER_CONDITION_SEVERE CROSS WIND GATE</th>\n",
              "      <th>WEATHER_CONDITION_SLEET/HAIL</th>\n",
              "      <th>WEATHER_CONDITION_SNOW</th>\n",
              "      <th>...</th>\n",
              "      <th>MANEUVER_SKIDDING/CONTROL LOSS</th>\n",
              "      <th>MANEUVER_SLOW/STOP - LEFT TURN</th>\n",
              "      <th>MANEUVER_SLOW/STOP - LOAD/UNLOAD</th>\n",
              "      <th>MANEUVER_SLOW/STOP - RIGHT TURN</th>\n",
              "      <th>MANEUVER_SLOW/STOP IN TRAFFIC</th>\n",
              "      <th>MANEUVER_STARTING IN TRAFFIC</th>\n",
              "      <th>MANEUVER_STRAIGHT AHEAD</th>\n",
              "      <th>MANEUVER_TURNING LEFT</th>\n",
              "      <th>MANEUVER_TURNING RIGHT</th>\n",
              "      <th>MANEUVER_U-TURN</th>\n",
              "    </tr>\n",
              "  </thead>\n",
              "  <tbody>\n",
              "    <tr>\n",
              "      <th>571273</th>\n",
              "      <td>0.0</td>\n",
              "      <td>0.0</td>\n",
              "      <td>1.0</td>\n",
              "      <td>0.0</td>\n",
              "      <td>0.0</td>\n",
              "      <td>0.0</td>\n",
              "      <td>0.0</td>\n",
              "      <td>0.0</td>\n",
              "      <td>0.0</td>\n",
              "      <td>0.0</td>\n",
              "      <td>...</td>\n",
              "      <td>0.0</td>\n",
              "      <td>0.0</td>\n",
              "      <td>0.0</td>\n",
              "      <td>0.0</td>\n",
              "      <td>1.0</td>\n",
              "      <td>0.0</td>\n",
              "      <td>0.0</td>\n",
              "      <td>0.0</td>\n",
              "      <td>0.0</td>\n",
              "      <td>0.0</td>\n",
              "    </tr>\n",
              "    <tr>\n",
              "      <th>751169</th>\n",
              "      <td>0.0</td>\n",
              "      <td>0.0</td>\n",
              "      <td>1.0</td>\n",
              "      <td>0.0</td>\n",
              "      <td>0.0</td>\n",
              "      <td>0.0</td>\n",
              "      <td>0.0</td>\n",
              "      <td>0.0</td>\n",
              "      <td>0.0</td>\n",
              "      <td>0.0</td>\n",
              "      <td>...</td>\n",
              "      <td>0.0</td>\n",
              "      <td>0.0</td>\n",
              "      <td>0.0</td>\n",
              "      <td>0.0</td>\n",
              "      <td>1.0</td>\n",
              "      <td>0.0</td>\n",
              "      <td>0.0</td>\n",
              "      <td>0.0</td>\n",
              "      <td>0.0</td>\n",
              "      <td>0.0</td>\n",
              "    </tr>\n",
              "    <tr>\n",
              "      <th>43397</th>\n",
              "      <td>0.0</td>\n",
              "      <td>0.0</td>\n",
              "      <td>1.0</td>\n",
              "      <td>0.0</td>\n",
              "      <td>0.0</td>\n",
              "      <td>0.0</td>\n",
              "      <td>0.0</td>\n",
              "      <td>0.0</td>\n",
              "      <td>0.0</td>\n",
              "      <td>0.0</td>\n",
              "      <td>...</td>\n",
              "      <td>0.0</td>\n",
              "      <td>0.0</td>\n",
              "      <td>0.0</td>\n",
              "      <td>0.0</td>\n",
              "      <td>0.0</td>\n",
              "      <td>0.0</td>\n",
              "      <td>1.0</td>\n",
              "      <td>0.0</td>\n",
              "      <td>0.0</td>\n",
              "      <td>0.0</td>\n",
              "    </tr>\n",
              "    <tr>\n",
              "      <th>847787</th>\n",
              "      <td>0.0</td>\n",
              "      <td>0.0</td>\n",
              "      <td>1.0</td>\n",
              "      <td>0.0</td>\n",
              "      <td>0.0</td>\n",
              "      <td>0.0</td>\n",
              "      <td>0.0</td>\n",
              "      <td>0.0</td>\n",
              "      <td>0.0</td>\n",
              "      <td>0.0</td>\n",
              "      <td>...</td>\n",
              "      <td>0.0</td>\n",
              "      <td>0.0</td>\n",
              "      <td>0.0</td>\n",
              "      <td>0.0</td>\n",
              "      <td>0.0</td>\n",
              "      <td>0.0</td>\n",
              "      <td>1.0</td>\n",
              "      <td>0.0</td>\n",
              "      <td>0.0</td>\n",
              "      <td>0.0</td>\n",
              "    </tr>\n",
              "    <tr>\n",
              "      <th>542731</th>\n",
              "      <td>0.0</td>\n",
              "      <td>0.0</td>\n",
              "      <td>1.0</td>\n",
              "      <td>0.0</td>\n",
              "      <td>0.0</td>\n",
              "      <td>0.0</td>\n",
              "      <td>0.0</td>\n",
              "      <td>0.0</td>\n",
              "      <td>0.0</td>\n",
              "      <td>0.0</td>\n",
              "      <td>...</td>\n",
              "      <td>0.0</td>\n",
              "      <td>0.0</td>\n",
              "      <td>0.0</td>\n",
              "      <td>0.0</td>\n",
              "      <td>0.0</td>\n",
              "      <td>0.0</td>\n",
              "      <td>1.0</td>\n",
              "      <td>0.0</td>\n",
              "      <td>0.0</td>\n",
              "      <td>0.0</td>\n",
              "    </tr>\n",
              "  </tbody>\n",
              "</table>\n",
              "<p>5 rows × 63 columns</p>\n",
              "</div>\n",
              "    <div class=\"colab-df-buttons\">\n",
              "\n",
              "  <div class=\"colab-df-container\">\n",
              "    <button class=\"colab-df-convert\" onclick=\"convertToInteractive('df-37041d02-7a9b-4ac0-bf4f-546297992da0')\"\n",
              "            title=\"Convert this dataframe to an interactive table.\"\n",
              "            style=\"display:none;\">\n",
              "\n",
              "  <svg xmlns=\"http://www.w3.org/2000/svg\" height=\"24px\" viewBox=\"0 -960 960 960\">\n",
              "    <path d=\"M120-120v-720h720v720H120Zm60-500h600v-160H180v160Zm220 220h160v-160H400v160Zm0 220h160v-160H400v160ZM180-400h160v-160H180v160Zm440 0h160v-160H620v160ZM180-180h160v-160H180v160Zm440 0h160v-160H620v160Z\"/>\n",
              "  </svg>\n",
              "    </button>\n",
              "\n",
              "  <style>\n",
              "    .colab-df-container {\n",
              "      display:flex;\n",
              "      gap: 12px;\n",
              "    }\n",
              "\n",
              "    .colab-df-convert {\n",
              "      background-color: #E8F0FE;\n",
              "      border: none;\n",
              "      border-radius: 50%;\n",
              "      cursor: pointer;\n",
              "      display: none;\n",
              "      fill: #1967D2;\n",
              "      height: 32px;\n",
              "      padding: 0 0 0 0;\n",
              "      width: 32px;\n",
              "    }\n",
              "\n",
              "    .colab-df-convert:hover {\n",
              "      background-color: #E2EBFA;\n",
              "      box-shadow: 0px 1px 2px rgba(60, 64, 67, 0.3), 0px 1px 3px 1px rgba(60, 64, 67, 0.15);\n",
              "      fill: #174EA6;\n",
              "    }\n",
              "\n",
              "    .colab-df-buttons div {\n",
              "      margin-bottom: 4px;\n",
              "    }\n",
              "\n",
              "    [theme=dark] .colab-df-convert {\n",
              "      background-color: #3B4455;\n",
              "      fill: #D2E3FC;\n",
              "    }\n",
              "\n",
              "    [theme=dark] .colab-df-convert:hover {\n",
              "      background-color: #434B5C;\n",
              "      box-shadow: 0px 1px 3px 1px rgba(0, 0, 0, 0.15);\n",
              "      filter: drop-shadow(0px 1px 2px rgba(0, 0, 0, 0.3));\n",
              "      fill: #FFFFFF;\n",
              "    }\n",
              "  </style>\n",
              "\n",
              "    <script>\n",
              "      const buttonEl =\n",
              "        document.querySelector('#df-37041d02-7a9b-4ac0-bf4f-546297992da0 button.colab-df-convert');\n",
              "      buttonEl.style.display =\n",
              "        google.colab.kernel.accessAllowed ? 'block' : 'none';\n",
              "\n",
              "      async function convertToInteractive(key) {\n",
              "        const element = document.querySelector('#df-37041d02-7a9b-4ac0-bf4f-546297992da0');\n",
              "        const dataTable =\n",
              "          await google.colab.kernel.invokeFunction('convertToInteractive',\n",
              "                                                    [key], {});\n",
              "        if (!dataTable) return;\n",
              "\n",
              "        const docLinkHtml = 'Like what you see? Visit the ' +\n",
              "          '<a target=\"_blank\" href=https://colab.research.google.com/notebooks/data_table.ipynb>data table notebook</a>'\n",
              "          + ' to learn more about interactive tables.';\n",
              "        element.innerHTML = '';\n",
              "        dataTable['output_type'] = 'display_data';\n",
              "        await google.colab.output.renderOutput(dataTable, element);\n",
              "        const docLink = document.createElement('div');\n",
              "        docLink.innerHTML = docLinkHtml;\n",
              "        element.appendChild(docLink);\n",
              "      }\n",
              "    </script>\n",
              "  </div>\n",
              "\n",
              "\n",
              "<div id=\"df-5f22c803-c0d9-4ff7-ba85-9e7f344ddb16\">\n",
              "  <button class=\"colab-df-quickchart\" onclick=\"quickchart('df-5f22c803-c0d9-4ff7-ba85-9e7f344ddb16')\"\n",
              "            title=\"Suggest charts\"\n",
              "            style=\"display:none;\">\n",
              "\n",
              "<svg xmlns=\"http://www.w3.org/2000/svg\" height=\"24px\"viewBox=\"0 0 24 24\"\n",
              "     width=\"24px\">\n",
              "    <g>\n",
              "        <path d=\"M19 3H5c-1.1 0-2 .9-2 2v14c0 1.1.9 2 2 2h14c1.1 0 2-.9 2-2V5c0-1.1-.9-2-2-2zM9 17H7v-7h2v7zm4 0h-2V7h2v10zm4 0h-2v-4h2v4z\"/>\n",
              "    </g>\n",
              "</svg>\n",
              "  </button>\n",
              "\n",
              "<style>\n",
              "  .colab-df-quickchart {\n",
              "      --bg-color: #E8F0FE;\n",
              "      --fill-color: #1967D2;\n",
              "      --hover-bg-color: #E2EBFA;\n",
              "      --hover-fill-color: #174EA6;\n",
              "      --disabled-fill-color: #AAA;\n",
              "      --disabled-bg-color: #DDD;\n",
              "  }\n",
              "\n",
              "  [theme=dark] .colab-df-quickchart {\n",
              "      --bg-color: #3B4455;\n",
              "      --fill-color: #D2E3FC;\n",
              "      --hover-bg-color: #434B5C;\n",
              "      --hover-fill-color: #FFFFFF;\n",
              "      --disabled-bg-color: #3B4455;\n",
              "      --disabled-fill-color: #666;\n",
              "  }\n",
              "\n",
              "  .colab-df-quickchart {\n",
              "    background-color: var(--bg-color);\n",
              "    border: none;\n",
              "    border-radius: 50%;\n",
              "    cursor: pointer;\n",
              "    display: none;\n",
              "    fill: var(--fill-color);\n",
              "    height: 32px;\n",
              "    padding: 0;\n",
              "    width: 32px;\n",
              "  }\n",
              "\n",
              "  .colab-df-quickchart:hover {\n",
              "    background-color: var(--hover-bg-color);\n",
              "    box-shadow: 0 1px 2px rgba(60, 64, 67, 0.3), 0 1px 3px 1px rgba(60, 64, 67, 0.15);\n",
              "    fill: var(--button-hover-fill-color);\n",
              "  }\n",
              "\n",
              "  .colab-df-quickchart-complete:disabled,\n",
              "  .colab-df-quickchart-complete:disabled:hover {\n",
              "    background-color: var(--disabled-bg-color);\n",
              "    fill: var(--disabled-fill-color);\n",
              "    box-shadow: none;\n",
              "  }\n",
              "\n",
              "  .colab-df-spinner {\n",
              "    border: 2px solid var(--fill-color);\n",
              "    border-color: transparent;\n",
              "    border-bottom-color: var(--fill-color);\n",
              "    animation:\n",
              "      spin 1s steps(1) infinite;\n",
              "  }\n",
              "\n",
              "  @keyframes spin {\n",
              "    0% {\n",
              "      border-color: transparent;\n",
              "      border-bottom-color: var(--fill-color);\n",
              "      border-left-color: var(--fill-color);\n",
              "    }\n",
              "    20% {\n",
              "      border-color: transparent;\n",
              "      border-left-color: var(--fill-color);\n",
              "      border-top-color: var(--fill-color);\n",
              "    }\n",
              "    30% {\n",
              "      border-color: transparent;\n",
              "      border-left-color: var(--fill-color);\n",
              "      border-top-color: var(--fill-color);\n",
              "      border-right-color: var(--fill-color);\n",
              "    }\n",
              "    40% {\n",
              "      border-color: transparent;\n",
              "      border-right-color: var(--fill-color);\n",
              "      border-top-color: var(--fill-color);\n",
              "    }\n",
              "    60% {\n",
              "      border-color: transparent;\n",
              "      border-right-color: var(--fill-color);\n",
              "    }\n",
              "    80% {\n",
              "      border-color: transparent;\n",
              "      border-right-color: var(--fill-color);\n",
              "      border-bottom-color: var(--fill-color);\n",
              "    }\n",
              "    90% {\n",
              "      border-color: transparent;\n",
              "      border-bottom-color: var(--fill-color);\n",
              "    }\n",
              "  }\n",
              "</style>\n",
              "\n",
              "  <script>\n",
              "    async function quickchart(key) {\n",
              "      const quickchartButtonEl =\n",
              "        document.querySelector('#' + key + ' button');\n",
              "      quickchartButtonEl.disabled = true;  // To prevent multiple clicks.\n",
              "      quickchartButtonEl.classList.add('colab-df-spinner');\n",
              "      try {\n",
              "        const charts = await google.colab.kernel.invokeFunction(\n",
              "            'suggestCharts', [key], {});\n",
              "      } catch (error) {\n",
              "        console.error('Error during call to suggestCharts:', error);\n",
              "      }\n",
              "      quickchartButtonEl.classList.remove('colab-df-spinner');\n",
              "      quickchartButtonEl.classList.add('colab-df-quickchart-complete');\n",
              "    }\n",
              "    (() => {\n",
              "      let quickchartButtonEl =\n",
              "        document.querySelector('#df-5f22c803-c0d9-4ff7-ba85-9e7f344ddb16 button');\n",
              "      quickchartButtonEl.style.display =\n",
              "        google.colab.kernel.accessAllowed ? 'block' : 'none';\n",
              "    })();\n",
              "  </script>\n",
              "</div>\n",
              "\n",
              "    </div>\n",
              "  </div>\n"
            ],
            "application/vnd.google.colaboratory.intrinsic+json": {
              "type": "dataframe",
              "variable_name": "X_train_categorical_ohe"
            }
          },
          "metadata": {},
          "execution_count": 12
        }
      ]
    },
    {
      "cell_type": "code",
      "source": [
        "X_train_categorical_ohe.info()"
      ],
      "metadata": {
        "colab": {
          "base_uri": "https://localhost:8080/"
        },
        "id": "DuJ7023AM9Sf",
        "outputId": "0128ca8d-e2b5-4e69-9ba3-0339f2c1228e"
      },
      "execution_count": 13,
      "outputs": [
        {
          "output_type": "stream",
          "name": "stdout",
          "text": [
            "<class 'pandas.core.frame.DataFrame'>\n",
            "Index: 707817 entries, 571273 to 303626\n",
            "Data columns (total 63 columns):\n",
            " #   Column                                       Non-Null Count   Dtype  \n",
            "---  ------                                       --------------   -----  \n",
            " 0   WEATHER_CONDITION_BLOWING SAND, SOIL, DIRT   707817 non-null  float64\n",
            " 1   WEATHER_CONDITION_BLOWING SNOW               707817 non-null  float64\n",
            " 2   WEATHER_CONDITION_CLEAR                      707817 non-null  float64\n",
            " 3   WEATHER_CONDITION_CLOUDY/OVERCAST            707817 non-null  float64\n",
            " 4   WEATHER_CONDITION_FOG/SMOKE/HAZE             707817 non-null  float64\n",
            " 5   WEATHER_CONDITION_FREEZING RAIN/DRIZZLE      707817 non-null  float64\n",
            " 6   WEATHER_CONDITION_RAIN                       707817 non-null  float64\n",
            " 7   WEATHER_CONDITION_SEVERE CROSS WIND GATE     707817 non-null  float64\n",
            " 8   WEATHER_CONDITION_SLEET/HAIL                 707817 non-null  float64\n",
            " 9   WEATHER_CONDITION_SNOW                       707817 non-null  float64\n",
            " 10  LIGHTING_CONDITION_DARKNESS                  707817 non-null  float64\n",
            " 11  LIGHTING_CONDITION_DARKNESS, LIGHTED ROAD    707817 non-null  float64\n",
            " 12  LIGHTING_CONDITION_DAWN                      707817 non-null  float64\n",
            " 13  LIGHTING_CONDITION_DAYLIGHT                  707817 non-null  float64\n",
            " 14  LIGHTING_CONDITION_DUSK                      707817 non-null  float64\n",
            " 15  ROADWAY_SURFACE_COND_DRY                     707817 non-null  float64\n",
            " 16  ROADWAY_SURFACE_COND_ICE                     707817 non-null  float64\n",
            " 17  ROADWAY_SURFACE_COND_SNOW OR SLUSH           707817 non-null  float64\n",
            " 18  ROADWAY_SURFACE_COND_WET                     707817 non-null  float64\n",
            " 19  CRASH_DAY_OF_WEEK_1                          707817 non-null  float64\n",
            " 20  CRASH_DAY_OF_WEEK_2                          707817 non-null  float64\n",
            " 21  CRASH_DAY_OF_WEEK_3                          707817 non-null  float64\n",
            " 22  CRASH_DAY_OF_WEEK_4                          707817 non-null  float64\n",
            " 23  CRASH_DAY_OF_WEEK_5                          707817 non-null  float64\n",
            " 24  CRASH_DAY_OF_WEEK_6                          707817 non-null  float64\n",
            " 25  CRASH_DAY_OF_WEEK_7                          707817 non-null  float64\n",
            " 26  PERSON_TYPE_BICYCLE                          707817 non-null  float64\n",
            " 27  PERSON_TYPE_DRIVER                           707817 non-null  float64\n",
            " 28  PERSON_TYPE_NON-CONTACT VEHICLE              707817 non-null  float64\n",
            " 29  PERSON_TYPE_PEDESTRIAN                       707817 non-null  float64\n",
            " 30  SEX_F                                        707817 non-null  float64\n",
            " 31  SEX_M                                        707817 non-null  float64\n",
            " 32  SEX_X                                        707817 non-null  float64\n",
            " 33  TRAVEL_DIRECTION_E                           707817 non-null  float64\n",
            " 34  TRAVEL_DIRECTION_N                           707817 non-null  float64\n",
            " 35  TRAVEL_DIRECTION_NE                          707817 non-null  float64\n",
            " 36  TRAVEL_DIRECTION_NW                          707817 non-null  float64\n",
            " 37  TRAVEL_DIRECTION_S                           707817 non-null  float64\n",
            " 38  TRAVEL_DIRECTION_SE                          707817 non-null  float64\n",
            " 39  TRAVEL_DIRECTION_SW                          707817 non-null  float64\n",
            " 40  TRAVEL_DIRECTION_W                           707817 non-null  float64\n",
            " 41  MANEUVER_AVOIDING VEHICLES/OBJECTS           707817 non-null  float64\n",
            " 42  MANEUVER_BACKING                             707817 non-null  float64\n",
            " 43  MANEUVER_CHANGING LANES                      707817 non-null  float64\n",
            " 44  MANEUVER_DRIVING WRONG WAY                   707817 non-null  float64\n",
            " 45  MANEUVER_ENTER FROM DRIVE/ALLEY              707817 non-null  float64\n",
            " 46  MANEUVER_ENTERING TRAFFIC LANE FROM PARKING  707817 non-null  float64\n",
            " 47  MANEUVER_LEAVING TRAFFIC LANE TO PARK        707817 non-null  float64\n",
            " 48  MANEUVER_MERGING                             707817 non-null  float64\n",
            " 49  MANEUVER_NEGOTIATING A CURVE                 707817 non-null  float64\n",
            " 50  MANEUVER_PARKED                              707817 non-null  float64\n",
            " 51  MANEUVER_PARKED IN TRAFFIC LANE              707817 non-null  float64\n",
            " 52  MANEUVER_PASSING/OVERTAKING                  707817 non-null  float64\n",
            " 53  MANEUVER_SKIDDING/CONTROL LOSS               707817 non-null  float64\n",
            " 54  MANEUVER_SLOW/STOP - LEFT TURN               707817 non-null  float64\n",
            " 55  MANEUVER_SLOW/STOP - LOAD/UNLOAD             707817 non-null  float64\n",
            " 56  MANEUVER_SLOW/STOP - RIGHT TURN              707817 non-null  float64\n",
            " 57  MANEUVER_SLOW/STOP IN TRAFFIC                707817 non-null  float64\n",
            " 58  MANEUVER_STARTING IN TRAFFIC                 707817 non-null  float64\n",
            " 59  MANEUVER_STRAIGHT AHEAD                      707817 non-null  float64\n",
            " 60  MANEUVER_TURNING LEFT                        707817 non-null  float64\n",
            " 61  MANEUVER_TURNING RIGHT                       707817 non-null  float64\n",
            " 62  MANEUVER_U-TURN                              707817 non-null  float64\n",
            "dtypes: float64(63)\n",
            "memory usage: 345.6 MB\n"
          ]
        }
      ]
    },
    {
      "cell_type": "code",
      "source": [
        "X_train_preprocessed = pd.concat([X_train_numeric_scaled, X_train_categorical_ohe], axis=1)\n",
        "X_train_preprocessed.head()"
      ],
      "metadata": {
        "colab": {
          "base_uri": "https://localhost:8080/",
          "height": 273
        },
        "id": "s_d56OcgQZpa",
        "outputId": "ab7fbe89-ce4a-41d3-99ee-5f77d12fa580"
      },
      "execution_count": 14,
      "outputs": [
        {
          "output_type": "execute_result",
          "data": {
            "text/plain": [
              "        POSTED_SPEED_LIMIT  NUM_UNITS  CRASH_HOUR  LATITUDE  LONGITUDE  \\\n",
              "571273            0.132509   1.141696   -1.013182  0.107484  -0.085609   \n",
              "751169            0.132509  -0.333483   -1.013182 -0.112652  -0.012405   \n",
              "43397             0.132509   1.141696   -2.335921 -0.233132   0.113552   \n",
              "847787            0.132509  -0.333483    1.254371  0.310612  -0.137801   \n",
              "542731            0.132509  -0.333483   -0.068368  0.106912   0.022791   \n",
              "\n",
              "             AGE  WEATHER_CONDITION_BLOWING SAND, SOIL, DIRT  \\\n",
              "571273 -1.109211                                         0.0   \n",
              "751169  0.459883                                         0.0   \n",
              "43397  -1.046447                                         0.0   \n",
              "847787 -1.485793                                         0.0   \n",
              "542731  0.397120                                         0.0   \n",
              "\n",
              "        WEATHER_CONDITION_BLOWING SNOW  WEATHER_CONDITION_CLEAR  \\\n",
              "571273                             0.0                      1.0   \n",
              "751169                             0.0                      1.0   \n",
              "43397                              0.0                      1.0   \n",
              "847787                             0.0                      1.0   \n",
              "542731                             0.0                      1.0   \n",
              "\n",
              "        WEATHER_CONDITION_CLOUDY/OVERCAST  ...  \\\n",
              "571273                                0.0  ...   \n",
              "751169                                0.0  ...   \n",
              "43397                                 0.0  ...   \n",
              "847787                                0.0  ...   \n",
              "542731                                0.0  ...   \n",
              "\n",
              "        MANEUVER_SKIDDING/CONTROL LOSS  MANEUVER_SLOW/STOP - LEFT TURN  \\\n",
              "571273                             0.0                             0.0   \n",
              "751169                             0.0                             0.0   \n",
              "43397                              0.0                             0.0   \n",
              "847787                             0.0                             0.0   \n",
              "542731                             0.0                             0.0   \n",
              "\n",
              "        MANEUVER_SLOW/STOP - LOAD/UNLOAD  MANEUVER_SLOW/STOP - RIGHT TURN  \\\n",
              "571273                               0.0                              0.0   \n",
              "751169                               0.0                              0.0   \n",
              "43397                                0.0                              0.0   \n",
              "847787                               0.0                              0.0   \n",
              "542731                               0.0                              0.0   \n",
              "\n",
              "        MANEUVER_SLOW/STOP IN TRAFFIC  MANEUVER_STARTING IN TRAFFIC  \\\n",
              "571273                            1.0                           0.0   \n",
              "751169                            1.0                           0.0   \n",
              "43397                             0.0                           0.0   \n",
              "847787                            0.0                           0.0   \n",
              "542731                            0.0                           0.0   \n",
              "\n",
              "        MANEUVER_STRAIGHT AHEAD  MANEUVER_TURNING LEFT  \\\n",
              "571273                      0.0                    0.0   \n",
              "751169                      0.0                    0.0   \n",
              "43397                       1.0                    0.0   \n",
              "847787                      1.0                    0.0   \n",
              "542731                      1.0                    0.0   \n",
              "\n",
              "        MANEUVER_TURNING RIGHT  MANEUVER_U-TURN  \n",
              "571273                     0.0              0.0  \n",
              "751169                     0.0              0.0  \n",
              "43397                      0.0              0.0  \n",
              "847787                     0.0              0.0  \n",
              "542731                     0.0              0.0  \n",
              "\n",
              "[5 rows x 69 columns]"
            ],
            "text/html": [
              "\n",
              "  <div id=\"df-5ea3e1bf-705d-457a-9612-80d6d9e178bd\" class=\"colab-df-container\">\n",
              "    <div>\n",
              "<style scoped>\n",
              "    .dataframe tbody tr th:only-of-type {\n",
              "        vertical-align: middle;\n",
              "    }\n",
              "\n",
              "    .dataframe tbody tr th {\n",
              "        vertical-align: top;\n",
              "    }\n",
              "\n",
              "    .dataframe thead th {\n",
              "        text-align: right;\n",
              "    }\n",
              "</style>\n",
              "<table border=\"1\" class=\"dataframe\">\n",
              "  <thead>\n",
              "    <tr style=\"text-align: right;\">\n",
              "      <th></th>\n",
              "      <th>POSTED_SPEED_LIMIT</th>\n",
              "      <th>NUM_UNITS</th>\n",
              "      <th>CRASH_HOUR</th>\n",
              "      <th>LATITUDE</th>\n",
              "      <th>LONGITUDE</th>\n",
              "      <th>AGE</th>\n",
              "      <th>WEATHER_CONDITION_BLOWING SAND, SOIL, DIRT</th>\n",
              "      <th>WEATHER_CONDITION_BLOWING SNOW</th>\n",
              "      <th>WEATHER_CONDITION_CLEAR</th>\n",
              "      <th>WEATHER_CONDITION_CLOUDY/OVERCAST</th>\n",
              "      <th>...</th>\n",
              "      <th>MANEUVER_SKIDDING/CONTROL LOSS</th>\n",
              "      <th>MANEUVER_SLOW/STOP - LEFT TURN</th>\n",
              "      <th>MANEUVER_SLOW/STOP - LOAD/UNLOAD</th>\n",
              "      <th>MANEUVER_SLOW/STOP - RIGHT TURN</th>\n",
              "      <th>MANEUVER_SLOW/STOP IN TRAFFIC</th>\n",
              "      <th>MANEUVER_STARTING IN TRAFFIC</th>\n",
              "      <th>MANEUVER_STRAIGHT AHEAD</th>\n",
              "      <th>MANEUVER_TURNING LEFT</th>\n",
              "      <th>MANEUVER_TURNING RIGHT</th>\n",
              "      <th>MANEUVER_U-TURN</th>\n",
              "    </tr>\n",
              "  </thead>\n",
              "  <tbody>\n",
              "    <tr>\n",
              "      <th>571273</th>\n",
              "      <td>0.132509</td>\n",
              "      <td>1.141696</td>\n",
              "      <td>-1.013182</td>\n",
              "      <td>0.107484</td>\n",
              "      <td>-0.085609</td>\n",
              "      <td>-1.109211</td>\n",
              "      <td>0.0</td>\n",
              "      <td>0.0</td>\n",
              "      <td>1.0</td>\n",
              "      <td>0.0</td>\n",
              "      <td>...</td>\n",
              "      <td>0.0</td>\n",
              "      <td>0.0</td>\n",
              "      <td>0.0</td>\n",
              "      <td>0.0</td>\n",
              "      <td>1.0</td>\n",
              "      <td>0.0</td>\n",
              "      <td>0.0</td>\n",
              "      <td>0.0</td>\n",
              "      <td>0.0</td>\n",
              "      <td>0.0</td>\n",
              "    </tr>\n",
              "    <tr>\n",
              "      <th>751169</th>\n",
              "      <td>0.132509</td>\n",
              "      <td>-0.333483</td>\n",
              "      <td>-1.013182</td>\n",
              "      <td>-0.112652</td>\n",
              "      <td>-0.012405</td>\n",
              "      <td>0.459883</td>\n",
              "      <td>0.0</td>\n",
              "      <td>0.0</td>\n",
              "      <td>1.0</td>\n",
              "      <td>0.0</td>\n",
              "      <td>...</td>\n",
              "      <td>0.0</td>\n",
              "      <td>0.0</td>\n",
              "      <td>0.0</td>\n",
              "      <td>0.0</td>\n",
              "      <td>1.0</td>\n",
              "      <td>0.0</td>\n",
              "      <td>0.0</td>\n",
              "      <td>0.0</td>\n",
              "      <td>0.0</td>\n",
              "      <td>0.0</td>\n",
              "    </tr>\n",
              "    <tr>\n",
              "      <th>43397</th>\n",
              "      <td>0.132509</td>\n",
              "      <td>1.141696</td>\n",
              "      <td>-2.335921</td>\n",
              "      <td>-0.233132</td>\n",
              "      <td>0.113552</td>\n",
              "      <td>-1.046447</td>\n",
              "      <td>0.0</td>\n",
              "      <td>0.0</td>\n",
              "      <td>1.0</td>\n",
              "      <td>0.0</td>\n",
              "      <td>...</td>\n",
              "      <td>0.0</td>\n",
              "      <td>0.0</td>\n",
              "      <td>0.0</td>\n",
              "      <td>0.0</td>\n",
              "      <td>0.0</td>\n",
              "      <td>0.0</td>\n",
              "      <td>1.0</td>\n",
              "      <td>0.0</td>\n",
              "      <td>0.0</td>\n",
              "      <td>0.0</td>\n",
              "    </tr>\n",
              "    <tr>\n",
              "      <th>847787</th>\n",
              "      <td>0.132509</td>\n",
              "      <td>-0.333483</td>\n",
              "      <td>1.254371</td>\n",
              "      <td>0.310612</td>\n",
              "      <td>-0.137801</td>\n",
              "      <td>-1.485793</td>\n",
              "      <td>0.0</td>\n",
              "      <td>0.0</td>\n",
              "      <td>1.0</td>\n",
              "      <td>0.0</td>\n",
              "      <td>...</td>\n",
              "      <td>0.0</td>\n",
              "      <td>0.0</td>\n",
              "      <td>0.0</td>\n",
              "      <td>0.0</td>\n",
              "      <td>0.0</td>\n",
              "      <td>0.0</td>\n",
              "      <td>1.0</td>\n",
              "      <td>0.0</td>\n",
              "      <td>0.0</td>\n",
              "      <td>0.0</td>\n",
              "    </tr>\n",
              "    <tr>\n",
              "      <th>542731</th>\n",
              "      <td>0.132509</td>\n",
              "      <td>-0.333483</td>\n",
              "      <td>-0.068368</td>\n",
              "      <td>0.106912</td>\n",
              "      <td>0.022791</td>\n",
              "      <td>0.397120</td>\n",
              "      <td>0.0</td>\n",
              "      <td>0.0</td>\n",
              "      <td>1.0</td>\n",
              "      <td>0.0</td>\n",
              "      <td>...</td>\n",
              "      <td>0.0</td>\n",
              "      <td>0.0</td>\n",
              "      <td>0.0</td>\n",
              "      <td>0.0</td>\n",
              "      <td>0.0</td>\n",
              "      <td>0.0</td>\n",
              "      <td>1.0</td>\n",
              "      <td>0.0</td>\n",
              "      <td>0.0</td>\n",
              "      <td>0.0</td>\n",
              "    </tr>\n",
              "  </tbody>\n",
              "</table>\n",
              "<p>5 rows × 69 columns</p>\n",
              "</div>\n",
              "    <div class=\"colab-df-buttons\">\n",
              "\n",
              "  <div class=\"colab-df-container\">\n",
              "    <button class=\"colab-df-convert\" onclick=\"convertToInteractive('df-5ea3e1bf-705d-457a-9612-80d6d9e178bd')\"\n",
              "            title=\"Convert this dataframe to an interactive table.\"\n",
              "            style=\"display:none;\">\n",
              "\n",
              "  <svg xmlns=\"http://www.w3.org/2000/svg\" height=\"24px\" viewBox=\"0 -960 960 960\">\n",
              "    <path d=\"M120-120v-720h720v720H120Zm60-500h600v-160H180v160Zm220 220h160v-160H400v160Zm0 220h160v-160H400v160ZM180-400h160v-160H180v160Zm440 0h160v-160H620v160ZM180-180h160v-160H180v160Zm440 0h160v-160H620v160Z\"/>\n",
              "  </svg>\n",
              "    </button>\n",
              "\n",
              "  <style>\n",
              "    .colab-df-container {\n",
              "      display:flex;\n",
              "      gap: 12px;\n",
              "    }\n",
              "\n",
              "    .colab-df-convert {\n",
              "      background-color: #E8F0FE;\n",
              "      border: none;\n",
              "      border-radius: 50%;\n",
              "      cursor: pointer;\n",
              "      display: none;\n",
              "      fill: #1967D2;\n",
              "      height: 32px;\n",
              "      padding: 0 0 0 0;\n",
              "      width: 32px;\n",
              "    }\n",
              "\n",
              "    .colab-df-convert:hover {\n",
              "      background-color: #E2EBFA;\n",
              "      box-shadow: 0px 1px 2px rgba(60, 64, 67, 0.3), 0px 1px 3px 1px rgba(60, 64, 67, 0.15);\n",
              "      fill: #174EA6;\n",
              "    }\n",
              "\n",
              "    .colab-df-buttons div {\n",
              "      margin-bottom: 4px;\n",
              "    }\n",
              "\n",
              "    [theme=dark] .colab-df-convert {\n",
              "      background-color: #3B4455;\n",
              "      fill: #D2E3FC;\n",
              "    }\n",
              "\n",
              "    [theme=dark] .colab-df-convert:hover {\n",
              "      background-color: #434B5C;\n",
              "      box-shadow: 0px 1px 3px 1px rgba(0, 0, 0, 0.15);\n",
              "      filter: drop-shadow(0px 1px 2px rgba(0, 0, 0, 0.3));\n",
              "      fill: #FFFFFF;\n",
              "    }\n",
              "  </style>\n",
              "\n",
              "    <script>\n",
              "      const buttonEl =\n",
              "        document.querySelector('#df-5ea3e1bf-705d-457a-9612-80d6d9e178bd button.colab-df-convert');\n",
              "      buttonEl.style.display =\n",
              "        google.colab.kernel.accessAllowed ? 'block' : 'none';\n",
              "\n",
              "      async function convertToInteractive(key) {\n",
              "        const element = document.querySelector('#df-5ea3e1bf-705d-457a-9612-80d6d9e178bd');\n",
              "        const dataTable =\n",
              "          await google.colab.kernel.invokeFunction('convertToInteractive',\n",
              "                                                    [key], {});\n",
              "        if (!dataTable) return;\n",
              "\n",
              "        const docLinkHtml = 'Like what you see? Visit the ' +\n",
              "          '<a target=\"_blank\" href=https://colab.research.google.com/notebooks/data_table.ipynb>data table notebook</a>'\n",
              "          + ' to learn more about interactive tables.';\n",
              "        element.innerHTML = '';\n",
              "        dataTable['output_type'] = 'display_data';\n",
              "        await google.colab.output.renderOutput(dataTable, element);\n",
              "        const docLink = document.createElement('div');\n",
              "        docLink.innerHTML = docLinkHtml;\n",
              "        element.appendChild(docLink);\n",
              "      }\n",
              "    </script>\n",
              "  </div>\n",
              "\n",
              "\n",
              "<div id=\"df-9fbaf707-32e1-459c-a6c0-a3e92bb34761\">\n",
              "  <button class=\"colab-df-quickchart\" onclick=\"quickchart('df-9fbaf707-32e1-459c-a6c0-a3e92bb34761')\"\n",
              "            title=\"Suggest charts\"\n",
              "            style=\"display:none;\">\n",
              "\n",
              "<svg xmlns=\"http://www.w3.org/2000/svg\" height=\"24px\"viewBox=\"0 0 24 24\"\n",
              "     width=\"24px\">\n",
              "    <g>\n",
              "        <path d=\"M19 3H5c-1.1 0-2 .9-2 2v14c0 1.1.9 2 2 2h14c1.1 0 2-.9 2-2V5c0-1.1-.9-2-2-2zM9 17H7v-7h2v7zm4 0h-2V7h2v10zm4 0h-2v-4h2v4z\"/>\n",
              "    </g>\n",
              "</svg>\n",
              "  </button>\n",
              "\n",
              "<style>\n",
              "  .colab-df-quickchart {\n",
              "      --bg-color: #E8F0FE;\n",
              "      --fill-color: #1967D2;\n",
              "      --hover-bg-color: #E2EBFA;\n",
              "      --hover-fill-color: #174EA6;\n",
              "      --disabled-fill-color: #AAA;\n",
              "      --disabled-bg-color: #DDD;\n",
              "  }\n",
              "\n",
              "  [theme=dark] .colab-df-quickchart {\n",
              "      --bg-color: #3B4455;\n",
              "      --fill-color: #D2E3FC;\n",
              "      --hover-bg-color: #434B5C;\n",
              "      --hover-fill-color: #FFFFFF;\n",
              "      --disabled-bg-color: #3B4455;\n",
              "      --disabled-fill-color: #666;\n",
              "  }\n",
              "\n",
              "  .colab-df-quickchart {\n",
              "    background-color: var(--bg-color);\n",
              "    border: none;\n",
              "    border-radius: 50%;\n",
              "    cursor: pointer;\n",
              "    display: none;\n",
              "    fill: var(--fill-color);\n",
              "    height: 32px;\n",
              "    padding: 0;\n",
              "    width: 32px;\n",
              "  }\n",
              "\n",
              "  .colab-df-quickchart:hover {\n",
              "    background-color: var(--hover-bg-color);\n",
              "    box-shadow: 0 1px 2px rgba(60, 64, 67, 0.3), 0 1px 3px 1px rgba(60, 64, 67, 0.15);\n",
              "    fill: var(--button-hover-fill-color);\n",
              "  }\n",
              "\n",
              "  .colab-df-quickchart-complete:disabled,\n",
              "  .colab-df-quickchart-complete:disabled:hover {\n",
              "    background-color: var(--disabled-bg-color);\n",
              "    fill: var(--disabled-fill-color);\n",
              "    box-shadow: none;\n",
              "  }\n",
              "\n",
              "  .colab-df-spinner {\n",
              "    border: 2px solid var(--fill-color);\n",
              "    border-color: transparent;\n",
              "    border-bottom-color: var(--fill-color);\n",
              "    animation:\n",
              "      spin 1s steps(1) infinite;\n",
              "  }\n",
              "\n",
              "  @keyframes spin {\n",
              "    0% {\n",
              "      border-color: transparent;\n",
              "      border-bottom-color: var(--fill-color);\n",
              "      border-left-color: var(--fill-color);\n",
              "    }\n",
              "    20% {\n",
              "      border-color: transparent;\n",
              "      border-left-color: var(--fill-color);\n",
              "      border-top-color: var(--fill-color);\n",
              "    }\n",
              "    30% {\n",
              "      border-color: transparent;\n",
              "      border-left-color: var(--fill-color);\n",
              "      border-top-color: var(--fill-color);\n",
              "      border-right-color: var(--fill-color);\n",
              "    }\n",
              "    40% {\n",
              "      border-color: transparent;\n",
              "      border-right-color: var(--fill-color);\n",
              "      border-top-color: var(--fill-color);\n",
              "    }\n",
              "    60% {\n",
              "      border-color: transparent;\n",
              "      border-right-color: var(--fill-color);\n",
              "    }\n",
              "    80% {\n",
              "      border-color: transparent;\n",
              "      border-right-color: var(--fill-color);\n",
              "      border-bottom-color: var(--fill-color);\n",
              "    }\n",
              "    90% {\n",
              "      border-color: transparent;\n",
              "      border-bottom-color: var(--fill-color);\n",
              "    }\n",
              "  }\n",
              "</style>\n",
              "\n",
              "  <script>\n",
              "    async function quickchart(key) {\n",
              "      const quickchartButtonEl =\n",
              "        document.querySelector('#' + key + ' button');\n",
              "      quickchartButtonEl.disabled = true;  // To prevent multiple clicks.\n",
              "      quickchartButtonEl.classList.add('colab-df-spinner');\n",
              "      try {\n",
              "        const charts = await google.colab.kernel.invokeFunction(\n",
              "            'suggestCharts', [key], {});\n",
              "      } catch (error) {\n",
              "        console.error('Error during call to suggestCharts:', error);\n",
              "      }\n",
              "      quickchartButtonEl.classList.remove('colab-df-spinner');\n",
              "      quickchartButtonEl.classList.add('colab-df-quickchart-complete');\n",
              "    }\n",
              "    (() => {\n",
              "      let quickchartButtonEl =\n",
              "        document.querySelector('#df-9fbaf707-32e1-459c-a6c0-a3e92bb34761 button');\n",
              "      quickchartButtonEl.style.display =\n",
              "        google.colab.kernel.accessAllowed ? 'block' : 'none';\n",
              "    })();\n",
              "  </script>\n",
              "</div>\n",
              "\n",
              "    </div>\n",
              "  </div>\n"
            ],
            "application/vnd.google.colaboratory.intrinsic+json": {
              "type": "dataframe",
              "variable_name": "X_train_preprocessed"
            }
          },
          "metadata": {},
          "execution_count": 14
        }
      ]
    },
    {
      "cell_type": "code",
      "source": [
        "X_train_preprocessed.shape"
      ],
      "metadata": {
        "colab": {
          "base_uri": "https://localhost:8080/"
        },
        "id": "wvi8RYTBQ7ru",
        "outputId": "b3bed819-d483-46f9-f6ed-a15ad005a0b0"
      },
      "execution_count": 15,
      "outputs": [
        {
          "output_type": "execute_result",
          "data": {
            "text/plain": [
              "(707817, 69)"
            ]
          },
          "metadata": {},
          "execution_count": 15
        }
      ]
    },
    {
      "cell_type": "markdown",
      "source": [
        "That's still too many columns, but I can't drop any more in good conscience without further information. Let's make use of Principal Component Analysis (PCA) to which features are more significant."
      ],
      "metadata": {
        "id": "N4B8fT9JRHzW"
      }
    },
    {
      "cell_type": "code",
      "source": [
        "from sklearn.decomposition import PCA\n",
        "pca = PCA(random_state=210)\n",
        "pca_array = pca.fit_transform(X_train_preprocessed)\n",
        "pca_array"
      ],
      "metadata": {
        "id": "LHhvdxYpRCfq",
        "colab": {
          "base_uri": "https://localhost:8080/"
        },
        "outputId": "702383d6-66ad-490a-9137-cba7bbb4bffb"
      },
      "execution_count": 16,
      "outputs": [
        {
          "output_type": "execute_result",
          "data": {
            "text/plain": [
              "array([[-1.33546501e-01,  8.37875659e-01,  1.33035957e+00, ...,\n",
              "         1.63263119e-14, -1.04521151e-14, -2.72348349e-15],\n",
              "       [ 7.45724224e-02, -7.11396080e-01,  8.67243498e-01, ...,\n",
              "         1.05148879e-14,  2.63398316e-14,  1.47182162e-14],\n",
              "       [ 2.52991872e-01,  6.12658192e-01,  2.25054622e+00, ...,\n",
              "        -5.80594613e-15,  2.23024165e-14, -5.40001772e-15],\n",
              "       ...,\n",
              "       [ 1.01928195e-01, -1.02117000e+00,  9.33134998e-01, ...,\n",
              "        -3.65539377e-17, -5.19572472e-18,  4.14075590e-17],\n",
              "       [ 3.49421039e-01,  7.03979332e-02, -3.70697133e-01, ...,\n",
              "        -1.68710620e-17, -2.08849482e-17,  2.59569713e-17],\n",
              "       [ 2.53640988e-01, -5.58348152e-01, -2.24439449e-01, ...,\n",
              "        -1.06584771e-17,  3.39795214e-17,  6.76586431e-17]])"
            ]
          },
          "metadata": {},
          "execution_count": 16
        }
      ]
    },
    {
      "cell_type": "code",
      "source": [
        "len(pca_array)"
      ],
      "metadata": {
        "colab": {
          "base_uri": "https://localhost:8080/"
        },
        "id": "CKzRJnIHBxZ5",
        "outputId": "1b8f7cdd-5215-491a-ff68-5242d5a4ed97"
      },
      "execution_count": 17,
      "outputs": [
        {
          "output_type": "execute_result",
          "data": {
            "text/plain": [
              "707817"
            ]
          },
          "metadata": {},
          "execution_count": 17
        }
      ]
    },
    {
      "cell_type": "markdown",
      "source": [
        "Now that we've fit PCA to our training data, let's see how much of the variance it explains by adding up each row's explained variance ratio."
      ],
      "metadata": {
        "id": "jke9U18WBiGe"
      }
    },
    {
      "cell_type": "code",
      "source": [
        "import numpy as np\n",
        "evr = pca.explained_variance_ratio_\n",
        "np.cumsum(evr)"
      ],
      "metadata": {
        "colab": {
          "base_uri": "https://localhost:8080/"
        },
        "id": "YZae2Kb9BB3R",
        "outputId": "96c38f23-eef9-496f-9431-82368af9e66c"
      },
      "execution_count": 18,
      "outputs": [
        {
          "output_type": "execute_result",
          "data": {
            "text/plain": [
              "array([0.19978425, 0.31013649, 0.41337286, 0.51236511, 0.60727314,\n",
              "       0.65673974, 0.70265202, 0.73364186, 0.761715  , 0.78651999,\n",
              "       0.81021641, 0.83299294, 0.84940415, 0.86419541, 0.87883346,\n",
              "       0.89324448, 0.90712431, 0.91875691, 0.92827092, 0.93730983,\n",
              "       0.94387062, 0.95010009, 0.95578929, 0.95976791, 0.9634321 ,\n",
              "       0.96693294, 0.9703201 , 0.9734249 , 0.97594635, 0.97837396,\n",
              "       0.98069592, 0.98257593, 0.98431272, 0.98593332, 0.98754699,\n",
              "       0.98909716, 0.9904115 , 0.99161978, 0.99270955, 0.99375646,\n",
              "       0.99457928, 0.99538291, 0.99606826, 0.99665373, 0.99716292,\n",
              "       0.99765165, 0.99800998, 0.9983545 , 0.99863401, 0.99884497,\n",
              "       0.99905226, 0.99922076, 0.99938749, 0.99952536, 0.99964994,\n",
              "       0.99977387, 0.99988918, 0.99996568, 0.9999844 , 0.99999953,\n",
              "       1.        , 1.        , 1.        , 1.        , 1.        ,\n",
              "       1.        , 1.        , 1.        , 1.        ])"
            ]
          },
          "metadata": {},
          "execution_count": 18
        }
      ]
    },
    {
      "cell_type": "markdown",
      "source": [
        "Not great, let's check out the loadings to see how the features contribute."
      ],
      "metadata": {
        "id": "2nZZ6tpEB334"
      }
    },
    {
      "cell_type": "code",
      "source": [
        "loadings = pca.components_\n",
        "print('Loadings shape:', loadings.shape)\n",
        "print(np.around(loadings, decimals=3))"
      ],
      "metadata": {
        "colab": {
          "base_uri": "https://localhost:8080/"
        },
        "id": "2LEGahMkBWJt",
        "outputId": "c8dc1b83-ba50-4e84-c096-0ffae504f533"
      },
      "execution_count": 19,
      "outputs": [
        {
          "output_type": "stream",
          "name": "stdout",
          "text": [
            "Loadings shape: (69, 69)\n",
            "[[ 0.005  0.004 -0.001 ...  0.    -0.     0.   ]\n",
            " [ 0.605  0.554  0.308 ... -0.003 -0.006 -0.   ]\n",
            " [ 0.166  0.43  -0.866 ... -0.01  -0.004 -0.001]\n",
            " ...\n",
            " [ 0.     0.    -0.    ...  0.14   0.14   0.14 ]\n",
            " [-0.    -0.     0.    ...  0.075  0.075  0.075]\n",
            " [ 0.     0.    -0.    ... -0.013 -0.013 -0.013]]\n"
          ]
        }
      ]
    },
    {
      "cell_type": "markdown",
      "source": [
        "Below, we run a plot to see where the explained variance reaches a point of diminishing returns as the number of components continues to increase. It looks like that threshold takes place right around 21 components."
      ],
      "metadata": {
        "id": "zju_dZuzD5js"
      }
    },
    {
      "cell_type": "code",
      "source": [
        "from matplotlib import pyplot as plt\n",
        "plt.plot(np.cumsum(evr))\n",
        "plt.xlabel('number of components')\n",
        "plt.ylabel('cumulative explained variance')\n",
        "plt.hlines(y=0.95, xmin=0, xmax=70, color='k', linestyle='--')\n",
        "plt.vlines(x=21, ymin=0.2, ymax=1, color='k', linestyle='--');"
      ],
      "metadata": {
        "colab": {
          "base_uri": "https://localhost:8080/",
          "height": 449
        },
        "id": "rmh5QQDpC24-",
        "outputId": "9015ff5d-d1be-4f77-c0ea-f19d424c4a8d"
      },
      "execution_count": 20,
      "outputs": [
        {
          "output_type": "display_data",
          "data": {
            "text/plain": [
              "<Figure size 640x480 with 1 Axes>"
            ],
            "image/png": "[encoded data removed]"
          },
          "metadata": {}
        }
      ]
    },
    {
      "cell_type": "markdown",
      "source": [
        "Let's rerun PCA with this optimal components parameter in mind."
      ],
      "metadata": {
        "id": "ZwvRtUw6UVVU"
      }
    },
    {
      "cell_type": "code",
      "source": [
        "pca = PCA(n_components=21, random_state=210)\n",
        "pca_array = pca.fit_transform(X_train_preprocessed)\n",
        "evr = pca.explained_variance_ratio_\n",
        "np.cumsum(evr)"
      ],
      "metadata": {
        "colab": {
          "base_uri": "https://localhost:8080/"
        },
        "id": "GV7Ie1EYMcz5",
        "outputId": "66513a19-abf2-49b2-8e03-6b4834fa1a30"
      },
      "execution_count": 21,
      "outputs": [
        {
          "output_type": "execute_result",
          "data": {
            "text/plain": [
              "array([0.19978425, 0.31013649, 0.41337286, 0.51236511, 0.60727314,\n",
              "       0.65673974, 0.70265202, 0.73364186, 0.761715  , 0.78651999,\n",
              "       0.81021641, 0.83299294, 0.84940415, 0.86419541, 0.87883346,\n",
              "       0.89324448, 0.90712431, 0.9187569 , 0.92827092, 0.93730982,\n",
              "       0.94387058])"
            ]
          },
          "metadata": {},
          "execution_count": 21
        }
      ]
    },
    {
      "cell_type": "code",
      "source": [
        "loadings = pca.components_\n",
        "print('Loadings shape:', loadings.shape)\n",
        "print(np.around(loadings, decimals=3))"
      ],
      "metadata": {
        "colab": {
          "base_uri": "https://localhost:8080/"
        },
        "id": "R5PIk0inOTXI",
        "outputId": "e906af37-c5db-4e73-a591-211e29f1676b"
      },
      "execution_count": 22,
      "outputs": [
        {
          "output_type": "stream",
          "name": "stdout",
          "text": [
            "Loadings shape: (21, 69)\n",
            "[[ 0.005  0.004 -0.001 ...  0.    -0.     0.   ]\n",
            " [ 0.605  0.554  0.308 ... -0.003 -0.006 -0.   ]\n",
            " [ 0.166  0.43  -0.866 ... -0.01  -0.004 -0.001]\n",
            " ...\n",
            " [-0.002 -0.025  0.002 ... -0.588 -0.043 -0.006]\n",
            " [ 0.009  0.009  0.007 ...  0.172  0.016 -0.   ]\n",
            " [ 0.003 -0.    -0.026 ... -0.086  0.034  0.002]]\n"
          ]
        }
      ]
    },
    {
      "cell_type": "code",
      "source": [
        "loadings_rounded = np.around(loadings, decimals=3)\n",
        "loadings_df = pd.DataFrame(loadings_rounded,columns=X_train_preprocessed.columns)\n",
        "loadings_sums = pd.Series(loadings_df.sum()).sort_values(key=abs)\n",
        "print(loadings_sums.to_string())"
      ],
      "metadata": {
        "colab": {
          "base_uri": "https://localhost:8080/"
        },
        "id": "7kYywIk9OcMo",
        "outputId": "0580a11b-34d4-4fe9-c522-0ecc0c7e8d10"
      },
      "execution_count": 23,
      "outputs": [
        {
          "output_type": "stream",
          "name": "stdout",
          "text": [
            "PERSON_TYPE_NON-CONTACT VEHICLE                0.000\n",
            "WEATHER_CONDITION_SEVERE CROSS WIND GATE       0.000\n",
            "WEATHER_CONDITION_BLOWING SAND, SOIL, DIRT     0.000\n",
            "SEX_X                                          0.000\n",
            "MANEUVER_PARKED IN TRAFFIC LANE               -0.001\n",
            "MANEUVER_NEGOTIATING A CURVE                  -0.002\n",
            "MANEUVER_SLOW/STOP - LOAD/UNLOAD              -0.003\n",
            "MANEUVER_DRIVING WRONG WAY                    -0.003\n",
            "MANEUVER_SLOW/STOP - RIGHT TURN               -0.003\n",
            "MANEUVER_SLOW/STOP - LEFT TURN                -0.005\n",
            "MANEUVER_AVOIDING VEHICLES/OBJECTS            -0.005\n",
            "MANEUVER_LEAVING TRAFFIC LANE TO PARK         -0.008\n",
            "WEATHER_CONDITION_BLOWING SNOW                 0.009\n",
            "WEATHER_CONDITION_FOG/SMOKE/HAZE               0.009\n",
            "MANEUVER_ENTER FROM DRIVE/ALLEY               -0.014\n",
            "WEATHER_CONDITION_FREEZING RAIN/DRIZZLE        0.016\n",
            "WEATHER_CONDITION_SLEET/HAIL                   0.016\n",
            "MANEUVER_U-TURN                               -0.018\n",
            "MANEUVER_STARTING IN TRAFFIC                  -0.019\n",
            "MANEUVER_SKIDDING/CONTROL LOSS                 0.019\n",
            "PERSON_TYPE_BICYCLE                           -0.022\n",
            "MANEUVER_MERGING                              -0.026\n",
            "PERSON_TYPE_PEDESTRIAN                        -0.029\n",
            "MANEUVER_ENTERING TRAFFIC LANE FROM PARKING   -0.043\n",
            "TRAVEL_DIRECTION_SW                           -0.050\n",
            "TRAVEL_DIRECTION_NE                           -0.053\n",
            "TRAVEL_DIRECTION_NW                           -0.053\n",
            "PERSON_TYPE_DRIVER                             0.054\n",
            "ROADWAY_SURFACE_COND_WET                      -0.054\n",
            "ROADWAY_SURFACE_COND_ICE                       0.065\n",
            "TRAVEL_DIRECTION_SE                           -0.065\n",
            "MANEUVER_PARKED                                0.071\n",
            "CRASH_DAY_OF_WEEK_5                            0.080\n",
            "MANEUVER_CHANGING LANES                       -0.086\n",
            "MANEUVER_PASSING/OVERTAKING                   -0.089\n",
            "MANEUVER_BACKING                              -0.090\n",
            "MANEUVER_TURNING RIGHT                        -0.097\n",
            "TRAVEL_DIRECTION_W                            -0.098\n",
            "LIGHTING_CONDITION_DARKNESS, LIGHTED ROAD      0.148\n",
            "WEATHER_CONDITION_RAIN                        -0.153\n",
            "LIGHTING_CONDITION_DAWN                        0.166\n",
            "WEATHER_CONDITION_CLOUDY/OVERCAST              0.169\n",
            "MANEUVER_SLOW/STOP IN TRAFFIC                  0.179\n",
            "CRASH_DAY_OF_WEEK_7                            0.252\n",
            "CRASH_HOUR                                    -0.256\n",
            "TRAVEL_DIRECTION_N                             0.298\n",
            "POSTED_SPEED_LIMIT                             0.346\n",
            "LIGHTING_CONDITION_DUSK                        0.390\n",
            "SEX_M                                          0.401\n",
            "SEX_F                                         -0.402\n",
            "CRASH_DAY_OF_WEEK_2                            0.524\n",
            "CRASH_DAY_OF_WEEK_4                           -0.538\n",
            "LIGHTING_CONDITION_DARKNESS                    0.599\n",
            "LONGITUDE                                      0.687\n",
            "LATITUDE                                      -0.723\n",
            "CRASH_DAY_OF_WEEK_6                            0.724\n",
            "AGE                                            0.726\n",
            "MANEUVER_TURNING LEFT                         -0.750\n",
            "ROADWAY_SURFACE_COND_SNOW OR SLUSH             0.751\n",
            "ROADWAY_SURFACE_COND_DRY                      -0.759\n",
            "WEATHER_CONDITION_SNOW                         0.794\n",
            "WEATHER_CONDITION_CLEAR                       -0.858\n",
            "MANEUVER_STRAIGHT AHEAD                        0.995\n",
            "CRASH_DAY_OF_WEEK_1                            0.995\n",
            "TRAVEL_DIRECTION_S                            -1.179\n",
            "TRAVEL_DIRECTION_E                             1.202\n",
            "LIGHTING_CONDITION_DAYLIGHT                   -1.304\n",
            "NUM_UNITS                                      1.796\n",
            "CRASH_DAY_OF_WEEK_3                           -2.040\n"
          ]
        }
      ]
    },
    {
      "cell_type": "markdown",
      "source": [
        "A wide range of cumulative explained variance ratios appear for these columns with the occasional large leap between groups. Those that appear to explain variance better include Sunday crashes, (somewhat surprisingly) crashes when the manuever beforehand was simply driving straight, as well as some weather and road condition columns. On the other side of the spectrum, we see a lot of rare classes from categorical columns. While I got rid of many columns that showed this kind of skewed distribution, these were a little better than most and seemed like they could still hold some pertitent information in regard to crash causes.\n",
        "\n",
        "Let's begin by dropping any column that can't explain at least a *cumulative* absolute value of 0.1 of the variance. Below, we see that this will help trim our features down by just over half to 31. (Below, \"e.v.r.\" stands for \"explained variance ratio\".)"
      ],
      "metadata": {
        "id": "SwNw3QT1kr6Q"
      }
    },
    {
      "cell_type": "code",
      "source": [
        "loadings_sums_abs = loadings_sums.abs()\n",
        "less_explanatory_loadings_sums = loadings_sums_abs[loadings_sums_abs < 0.1]\n",
        "print('ratio of features below/above 0.1 cumulative e.v.r.:   ', round(len(less_explanatory_loadings_sums)/len(loadings_sums), 2))\n",
        "print('remaining number of features after dropping those below 0.1 cumulative e.v.r.:   ', len(loadings_sums) - len(less_explanatory_loadings_sums))"
      ],
      "metadata": {
        "colab": {
          "base_uri": "https://localhost:8080/"
        },
        "id": "w0CBLiKDO-y1",
        "outputId": "722287c0-18c1-47b0-f636-ccf7e8529826"
      },
      "execution_count": 24,
      "outputs": [
        {
          "output_type": "stream",
          "name": "stdout",
          "text": [
            "ratio of features below/above 0.1 cumulative e.v.r.:    0.55\n",
            "remaining number of features after dropping those below 0.1 cumulative e.v.r.:    31\n"
          ]
        }
      ]
    },
    {
      "cell_type": "code",
      "source": [
        "loadings_sums.index"
      ],
      "metadata": {
        "colab": {
          "base_uri": "https://localhost:8080/"
        },
        "id": "onV78dpkJe5L",
        "outputId": "c5a9929e-446e-485a-d1a8-8a1b770b1c66"
      },
      "execution_count": 25,
      "outputs": [
        {
          "output_type": "execute_result",
          "data": {
            "text/plain": [
              "Index(['PERSON_TYPE_NON-CONTACT VEHICLE',\n",
              "       'WEATHER_CONDITION_SEVERE CROSS WIND GATE',\n",
              "       'WEATHER_CONDITION_BLOWING SAND, SOIL, DIRT', 'SEX_X',\n",
              "       'MANEUVER_PARKED IN TRAFFIC LANE', 'MANEUVER_NEGOTIATING A CURVE',\n",
              "       'MANEUVER_SLOW/STOP - LOAD/UNLOAD', 'MANEUVER_DRIVING WRONG WAY',\n",
              "       'MANEUVER_SLOW/STOP - RIGHT TURN', 'MANEUVER_SLOW/STOP - LEFT TURN',\n",
              "       'MANEUVER_AVOIDING VEHICLES/OBJECTS',\n",
              "       'MANEUVER_LEAVING TRAFFIC LANE TO PARK',\n",
              "       'WEATHER_CONDITION_BLOWING SNOW', 'WEATHER_CONDITION_FOG/SMOKE/HAZE',\n",
              "       'MANEUVER_ENTER FROM DRIVE/ALLEY',\n",
              "       'WEATHER_CONDITION_FREEZING RAIN/DRIZZLE',\n",
              "       'WEATHER_CONDITION_SLEET/HAIL', 'MANEUVER_U-TURN',\n",
              "       'MANEUVER_STARTING IN TRAFFIC', 'MANEUVER_SKIDDING/CONTROL LOSS',\n",
              "       'PERSON_TYPE_BICYCLE', 'MANEUVER_MERGING', 'PERSON_TYPE_PEDESTRIAN',\n",
              "       'MANEUVER_ENTERING TRAFFIC LANE FROM PARKING', 'TRAVEL_DIRECTION_SW',\n",
              "       'TRAVEL_DIRECTION_NE', 'TRAVEL_DIRECTION_NW', 'PERSON_TYPE_DRIVER',\n",
              "       'ROADWAY_SURFACE_COND_WET', 'ROADWAY_SURFACE_COND_ICE',\n",
              "       'TRAVEL_DIRECTION_SE', 'MANEUVER_PARKED', 'CRASH_DAY_OF_WEEK_5',\n",
              "       'MANEUVER_CHANGING LANES', 'MANEUVER_PASSING/OVERTAKING',\n",
              "       'MANEUVER_BACKING', 'MANEUVER_TURNING RIGHT', 'TRAVEL_DIRECTION_W',\n",
              "       'LIGHTING_CONDITION_DARKNESS, LIGHTED ROAD', 'WEATHER_CONDITION_RAIN',\n",
              "       'LIGHTING_CONDITION_DAWN', 'WEATHER_CONDITION_CLOUDY/OVERCAST',\n",
              "       'MANEUVER_SLOW/STOP IN TRAFFIC', 'CRASH_DAY_OF_WEEK_7', 'CRASH_HOUR',\n",
              "       'TRAVEL_DIRECTION_N', 'POSTED_SPEED_LIMIT', 'LIGHTING_CONDITION_DUSK',\n",
              "       'SEX_M', 'SEX_F', 'CRASH_DAY_OF_WEEK_2', 'CRASH_DAY_OF_WEEK_4',\n",
              "       'LIGHTING_CONDITION_DARKNESS', 'LONGITUDE', 'LATITUDE',\n",
              "       'CRASH_DAY_OF_WEEK_6', 'AGE', 'MANEUVER_TURNING LEFT',\n",
              "       'ROADWAY_SURFACE_COND_SNOW OR SLUSH', 'ROADWAY_SURFACE_COND_DRY',\n",
              "       'WEATHER_CONDITION_SNOW', 'WEATHER_CONDITION_CLEAR',\n",
              "       'MANEUVER_STRAIGHT AHEAD', 'CRASH_DAY_OF_WEEK_1', 'TRAVEL_DIRECTION_S',\n",
              "       'TRAVEL_DIRECTION_E', 'LIGHTING_CONDITION_DAYLIGHT', 'NUM_UNITS',\n",
              "       'CRASH_DAY_OF_WEEK_3'],\n",
              "      dtype='object')"
            ]
          },
          "metadata": {},
          "execution_count": 25
        }
      ]
    },
    {
      "cell_type": "code",
      "source": [
        "#dropping less explanatory features\n",
        "explanatory_loadings_sums = loadings_sums.drop(less_explanatory_loadings_sums.index, axis=0)\n",
        "explanatory_loadings_sums"
      ],
      "metadata": {
        "colab": {
          "base_uri": "https://localhost:8080/"
        },
        "id": "gg9MtnqBk9eE",
        "outputId": "52c992f9-18cc-4fae-fa46-10845a4e31e1"
      },
      "execution_count": 26,
      "outputs": [
        {
          "output_type": "execute_result",
          "data": {
            "text/plain": [
              "LIGHTING_CONDITION_DARKNESS, LIGHTED ROAD    0.148\n",
              "WEATHER_CONDITION_RAIN                      -0.153\n",
              "LIGHTING_CONDITION_DAWN                      0.166\n",
              "WEATHER_CONDITION_CLOUDY/OVERCAST            0.169\n",
              "MANEUVER_SLOW/STOP IN TRAFFIC                0.179\n",
              "CRASH_DAY_OF_WEEK_7                          0.252\n",
              "CRASH_HOUR                                  -0.256\n",
              "TRAVEL_DIRECTION_N                           0.298\n",
              "POSTED_SPEED_LIMIT                           0.346\n",
              "LIGHTING_CONDITION_DUSK                      0.390\n",
              "SEX_M                                        0.401\n",
              "SEX_F                                       -0.402\n",
              "CRASH_DAY_OF_WEEK_2                          0.524\n",
              "CRASH_DAY_OF_WEEK_4                         -0.538\n",
              "LIGHTING_CONDITION_DARKNESS                  0.599\n",
              "LONGITUDE                                    0.687\n",
              "LATITUDE                                    -0.723\n",
              "CRASH_DAY_OF_WEEK_6                          0.724\n",
              "AGE                                          0.726\n",
              "MANEUVER_TURNING LEFT                       -0.750\n",
              "ROADWAY_SURFACE_COND_SNOW OR SLUSH           0.751\n",
              "ROADWAY_SURFACE_COND_DRY                    -0.759\n",
              "WEATHER_CONDITION_SNOW                       0.794\n",
              "WEATHER_CONDITION_CLEAR                     -0.858\n",
              "MANEUVER_STRAIGHT AHEAD                      0.995\n",
              "CRASH_DAY_OF_WEEK_1                          0.995\n",
              "TRAVEL_DIRECTION_S                          -1.179\n",
              "TRAVEL_DIRECTION_E                           1.202\n",
              "LIGHTING_CONDITION_DAYLIGHT                 -1.304\n",
              "NUM_UNITS                                    1.796\n",
              "CRASH_DAY_OF_WEEK_3                         -2.040\n",
              "dtype: float64"
            ]
          },
          "metadata": {},
          "execution_count": 26
        }
      ]
    },
    {
      "cell_type": "markdown",
      "source": [
        "This is one way to find our most promising features and get them down to a more reasonable quanitity before running them through a predictive model.\n",
        "\n",
        "We can also try a similar process by way of a random forest. Once fit to our preprocessed training data, we can expect it's feature importances and see how well it matches our more promising features from PCA above.\n",
        "\n",
        "## random forest feature importance\n",
        "\n",
        "Since a random forest is a predictive model, we'll have to contend with the target column's class imbalance. Let's check and see how it appears here in our training data:"
      ],
      "metadata": {
        "id": "1ng2yTEQJ618"
      }
    },
    {
      "cell_type": "code",
      "source": [
        "y_train.value_counts(normalize=True)"
      ],
      "metadata": {
        "id": "fmoO33e0JrRh",
        "colab": {
          "base_uri": "https://localhost:8080/"
        },
        "outputId": "4e94322f-868e-4320-cbde-2248f2bef40c"
      },
      "execution_count": 27,
      "outputs": [
        {
          "output_type": "execute_result",
          "data": {
            "text/plain": [
              "TARGET\n",
              "1    0.928116\n",
              "0    0.071884\n",
              "Name: proportion, dtype: float64"
            ]
          },
          "metadata": {},
          "execution_count": 27
        }
      ]
    },
    {
      "cell_type": "markdown",
      "source": [
        "Not good, but it could be much worse. Subsequently, we'll have to run our random forests with oversampling, undersampling, and SMOTE sampling strategies to get the best picture on which set of feature importances work best.\n",
        "\n",
        "Before doing that, let's establish a baseline random forest model without any sampling strategies. This tree-based model will need the one-hot encoded categorical values, but the non-standardized numeric data."
      ],
      "metadata": {
        "id": "Sbp0Vj1d5lw3"
      }
    },
    {
      "cell_type": "code",
      "source": [
        "X_train_nonstandardized = pd.concat([X_train_numeric, X_train_categorical_ohe], axis=1)\n",
        "X_train_nonstandardized.head()"
      ],
      "metadata": {
        "colab": {
          "base_uri": "https://localhost:8080/",
          "height": 273
        },
        "id": "ihh1xAdZCBmm",
        "outputId": "f7cdcee1-8eac-42c6-9604-e8a9a18fb4a4"
      },
      "execution_count": 28,
      "outputs": [
        {
          "output_type": "execute_result",
          "data": {
            "text/plain": [
              "        POSTED_SPEED_LIMIT  NUM_UNITS  CRASH_HOUR   LATITUDE  LONGITUDE  AGE  \\\n",
              "571273                  30          3           8  41.898626 -87.743733   22   \n",
              "751169                  30          2           8  41.808323 -87.682079   47   \n",
              "43397                   30          3           1  41.758900 -87.575996   23   \n",
              "847787                  30          2          20  41.981952 -87.787690   16   \n",
              "542731                  30          2          13  41.898391 -87.652436   46   \n",
              "\n",
              "        WEATHER_CONDITION_BLOWING SAND, SOIL, DIRT  \\\n",
              "571273                                         0.0   \n",
              "751169                                         0.0   \n",
              "43397                                          0.0   \n",
              "847787                                         0.0   \n",
              "542731                                         0.0   \n",
              "\n",
              "        WEATHER_CONDITION_BLOWING SNOW  WEATHER_CONDITION_CLEAR  \\\n",
              "571273                             0.0                      1.0   \n",
              "751169                             0.0                      1.0   \n",
              "43397                              0.0                      1.0   \n",
              "847787                             0.0                      1.0   \n",
              "542731                             0.0                      1.0   \n",
              "\n",
              "        WEATHER_CONDITION_CLOUDY/OVERCAST  ...  \\\n",
              "571273                                0.0  ...   \n",
              "751169                                0.0  ...   \n",
              "43397                                 0.0  ...   \n",
              "847787                                0.0  ...   \n",
              "542731                                0.0  ...   \n",
              "\n",
              "        MANEUVER_SKIDDING/CONTROL LOSS  MANEUVER_SLOW/STOP - LEFT TURN  \\\n",
              "571273                             0.0                             0.0   \n",
              "751169                             0.0                             0.0   \n",
              "43397                              0.0                             0.0   \n",
              "847787                             0.0                             0.0   \n",
              "542731                             0.0                             0.0   \n",
              "\n",
              "        MANEUVER_SLOW/STOP - LOAD/UNLOAD  MANEUVER_SLOW/STOP - RIGHT TURN  \\\n",
              "571273                               0.0                              0.0   \n",
              "751169                               0.0                              0.0   \n",
              "43397                                0.0                              0.0   \n",
              "847787                               0.0                              0.0   \n",
              "542731                               0.0                              0.0   \n",
              "\n",
              "        MANEUVER_SLOW/STOP IN TRAFFIC  MANEUVER_STARTING IN TRAFFIC  \\\n",
              "571273                            1.0                           0.0   \n",
              "751169                            1.0                           0.0   \n",
              "43397                             0.0                           0.0   \n",
              "847787                            0.0                           0.0   \n",
              "542731                            0.0                           0.0   \n",
              "\n",
              "        MANEUVER_STRAIGHT AHEAD  MANEUVER_TURNING LEFT  \\\n",
              "571273                      0.0                    0.0   \n",
              "751169                      0.0                    0.0   \n",
              "43397                       1.0                    0.0   \n",
              "847787                      1.0                    0.0   \n",
              "542731                      1.0                    0.0   \n",
              "\n",
              "        MANEUVER_TURNING RIGHT  MANEUVER_U-TURN  \n",
              "571273                     0.0              0.0  \n",
              "751169                     0.0              0.0  \n",
              "43397                      0.0              0.0  \n",
              "847787                     0.0              0.0  \n",
              "542731                     0.0              0.0  \n",
              "\n",
              "[5 rows x 69 columns]"
            ],
            "text/html": [
              "\n",
              "  <div id=\"df-dc6182cf-cdd3-4c60-a122-f26b92bbeab0\" class=\"colab-df-container\">\n",
              "    <div>\n",
              "<style scoped>\n",
              "    .dataframe tbody tr th:only-of-type {\n",
              "        vertical-align: middle;\n",
              "    }\n",
              "\n",
              "    .dataframe tbody tr th {\n",
              "        vertical-align: top;\n",
              "    }\n",
              "\n",
              "    .dataframe thead th {\n",
              "        text-align: right;\n",
              "    }\n",
              "</style>\n",
              "<table border=\"1\" class=\"dataframe\">\n",
              "  <thead>\n",
              "    <tr style=\"text-align: right;\">\n",
              "      <th></th>\n",
              "      <th>POSTED_SPEED_LIMIT</th>\n",
              "      <th>NUM_UNITS</th>\n",
              "      <th>CRASH_HOUR</th>\n",
              "      <th>LATITUDE</th>\n",
              "      <th>LONGITUDE</th>\n",
              "      <th>AGE</th>\n",
              "      <th>WEATHER_CONDITION_BLOWING SAND, SOIL, DIRT</th>\n",
              "      <th>WEATHER_CONDITION_BLOWING SNOW</th>\n",
              "      <th>WEATHER_CONDITION_CLEAR</th>\n",
              "      <th>WEATHER_CONDITION_CLOUDY/OVERCAST</th>\n",
              "      <th>...</th>\n",
              "      <th>MANEUVER_SKIDDING/CONTROL LOSS</th>\n",
              "      <th>MANEUVER_SLOW/STOP - LEFT TURN</th>\n",
              "      <th>MANEUVER_SLOW/STOP - LOAD/UNLOAD</th>\n",
              "      <th>MANEUVER_SLOW/STOP - RIGHT TURN</th>\n",
              "      <th>MANEUVER_SLOW/STOP IN TRAFFIC</th>\n",
              "      <th>MANEUVER_STARTING IN TRAFFIC</th>\n",
              "      <th>MANEUVER_STRAIGHT AHEAD</th>\n",
              "      <th>MANEUVER_TURNING LEFT</th>\n",
              "      <th>MANEUVER_TURNING RIGHT</th>\n",
              "      <th>MANEUVER_U-TURN</th>\n",
              "    </tr>\n",
              "  </thead>\n",
              "  <tbody>\n",
              "    <tr>\n",
              "      <th>571273</th>\n",
              "      <td>30</td>\n",
              "      <td>3</td>\n",
              "      <td>8</td>\n",
              "      <td>41.898626</td>\n",
              "      <td>-87.743733</td>\n",
              "      <td>22</td>\n",
              "      <td>0.0</td>\n",
              "      <td>0.0</td>\n",
              "      <td>1.0</td>\n",
              "      <td>0.0</td>\n",
              "      <td>...</td>\n",
              "      <td>0.0</td>\n",
              "      <td>0.0</td>\n",
              "      <td>0.0</td>\n",
              "      <td>0.0</td>\n",
              "      <td>1.0</td>\n",
              "      <td>0.0</td>\n",
              "      <td>0.0</td>\n",
              "      <td>0.0</td>\n",
              "      <td>0.0</td>\n",
              "      <td>0.0</td>\n",
              "    </tr>\n",
              "    <tr>\n",
              "      <th>751169</th>\n",
              "      <td>30</td>\n",
              "      <td>2</td>\n",
              "      <td>8</td>\n",
              "      <td>41.808323</td>\n",
              "      <td>-87.682079</td>\n",
              "      <td>47</td>\n",
              "      <td>0.0</td>\n",
              "      <td>0.0</td>\n",
              "      <td>1.0</td>\n",
              "      <td>0.0</td>\n",
              "      <td>...</td>\n",
              "      <td>0.0</td>\n",
              "      <td>0.0</td>\n",
              "      <td>0.0</td>\n",
              "      <td>0.0</td>\n",
              "      <td>1.0</td>\n",
              "      <td>0.0</td>\n",
              "      <td>0.0</td>\n",
              "      <td>0.0</td>\n",
              "      <td>0.0</td>\n",
              "      <td>0.0</td>\n",
              "    </tr>\n",
              "    <tr>\n",
              "      <th>43397</th>\n",
              "      <td>30</td>\n",
              "      <td>3</td>\n",
              "      <td>1</td>\n",
              "      <td>41.758900</td>\n",
              "      <td>-87.575996</td>\n",
              "      <td>23</td>\n",
              "      <td>0.0</td>\n",
              "      <td>0.0</td>\n",
              "      <td>1.0</td>\n",
              "      <td>0.0</td>\n",
              "      <td>...</td>\n",
              "      <td>0.0</td>\n",
              "      <td>0.0</td>\n",
              "      <td>0.0</td>\n",
              "      <td>0.0</td>\n",
              "      <td>0.0</td>\n",
              "      <td>0.0</td>\n",
              "      <td>1.0</td>\n",
              "      <td>0.0</td>\n",
              "      <td>0.0</td>\n",
              "      <td>0.0</td>\n",
              "    </tr>\n",
              "    <tr>\n",
              "      <th>847787</th>\n",
              "      <td>30</td>\n",
              "      <td>2</td>\n",
              "      <td>20</td>\n",
              "      <td>41.981952</td>\n",
              "      <td>-87.787690</td>\n",
              "      <td>16</td>\n",
              "      <td>0.0</td>\n",
              "      <td>0.0</td>\n",
              "      <td>1.0</td>\n",
              "      <td>0.0</td>\n",
              "      <td>...</td>\n",
              "      <td>0.0</td>\n",
              "      <td>0.0</td>\n",
              "      <td>0.0</td>\n",
              "      <td>0.0</td>\n",
              "      <td>0.0</td>\n",
              "      <td>0.0</td>\n",
              "      <td>1.0</td>\n",
              "      <td>0.0</td>\n",
              "      <td>0.0</td>\n",
              "      <td>0.0</td>\n",
              "    </tr>\n",
              "    <tr>\n",
              "      <th>542731</th>\n",
              "      <td>30</td>\n",
              "      <td>2</td>\n",
              "      <td>13</td>\n",
              "      <td>41.898391</td>\n",
              "      <td>-87.652436</td>\n",
              "      <td>46</td>\n",
              "      <td>0.0</td>\n",
              "      <td>0.0</td>\n",
              "      <td>1.0</td>\n",
              "      <td>0.0</td>\n",
              "      <td>...</td>\n",
              "      <td>0.0</td>\n",
              "      <td>0.0</td>\n",
              "      <td>0.0</td>\n",
              "      <td>0.0</td>\n",
              "      <td>0.0</td>\n",
              "      <td>0.0</td>\n",
              "      <td>1.0</td>\n",
              "      <td>0.0</td>\n",
              "      <td>0.0</td>\n",
              "      <td>0.0</td>\n",
              "    </tr>\n",
              "  </tbody>\n",
              "</table>\n",
              "<p>5 rows × 69 columns</p>\n",
              "</div>\n",
              "    <div class=\"colab-df-buttons\">\n",
              "\n",
              "  <div class=\"colab-df-container\">\n",
              "    <button class=\"colab-df-convert\" onclick=\"convertToInteractive('df-dc6182cf-cdd3-4c60-a122-f26b92bbeab0')\"\n",
              "            title=\"Convert this dataframe to an interactive table.\"\n",
              "            style=\"display:none;\">\n",
              "\n",
              "  <svg xmlns=\"http://www.w3.org/2000/svg\" height=\"24px\" viewBox=\"0 -960 960 960\">\n",
              "    <path d=\"M120-120v-720h720v720H120Zm60-500h600v-160H180v160Zm220 220h160v-160H400v160Zm0 220h160v-160H400v160ZM180-400h160v-160H180v160Zm440 0h160v-160H620v160ZM180-180h160v-160H180v160Zm440 0h160v-160H620v160Z\"/>\n",
              "  </svg>\n",
              "    </button>\n",
              "\n",
              "  <style>\n",
              "    .colab-df-container {\n",
              "      display:flex;\n",
              "      gap: 12px;\n",
              "    }\n",
              "\n",
              "    .colab-df-convert {\n",
              "      background-color: #E8F0FE;\n",
              "      border: none;\n",
              "      border-radius: 50%;\n",
              "      cursor: pointer;\n",
              "      display: none;\n",
              "      fill: #1967D2;\n",
              "      height: 32px;\n",
              "      padding: 0 0 0 0;\n",
              "      width: 32px;\n",
              "    }\n",
              "\n",
              "    .colab-df-convert:hover {\n",
              "      background-color: #E2EBFA;\n",
              "      box-shadow: 0px 1px 2px rgba(60, 64, 67, 0.3), 0px 1px 3px 1px rgba(60, 64, 67, 0.15);\n",
              "      fill: #174EA6;\n",
              "    }\n",
              "\n",
              "    .colab-df-buttons div {\n",
              "      margin-bottom: 4px;\n",
              "    }\n",
              "\n",
              "    [theme=dark] .colab-df-convert {\n",
              "      background-color: #3B4455;\n",
              "      fill: #D2E3FC;\n",
              "    }\n",
              "\n",
              "    [theme=dark] .colab-df-convert:hover {\n",
              "      background-color: #434B5C;\n",
              "      box-shadow: 0px 1px 3px 1px rgba(0, 0, 0, 0.15);\n",
              "      filter: drop-shadow(0px 1px 2px rgba(0, 0, 0, 0.3));\n",
              "      fill: #FFFFFF;\n",
              "    }\n",
              "  </style>\n",
              "\n",
              "    <script>\n",
              "      const buttonEl =\n",
              "        document.querySelector('#df-dc6182cf-cdd3-4c60-a122-f26b92bbeab0 button.colab-df-convert');\n",
              "      buttonEl.style.display =\n",
              "        google.colab.kernel.accessAllowed ? 'block' : 'none';\n",
              "\n",
              "      async function convertToInteractive(key) {\n",
              "        const element = document.querySelector('#df-dc6182cf-cdd3-4c60-a122-f26b92bbeab0');\n",
              "        const dataTable =\n",
              "          await google.colab.kernel.invokeFunction('convertToInteractive',\n",
              "                                                    [key], {});\n",
              "        if (!dataTable) return;\n",
              "\n",
              "        const docLinkHtml = 'Like what you see? Visit the ' +\n",
              "          '<a target=\"_blank\" href=https://colab.research.google.com/notebooks/data_table.ipynb>data table notebook</a>'\n",
              "          + ' to learn more about interactive tables.';\n",
              "        element.innerHTML = '';\n",
              "        dataTable['output_type'] = 'display_data';\n",
              "        await google.colab.output.renderOutput(dataTable, element);\n",
              "        const docLink = document.createElement('div');\n",
              "        docLink.innerHTML = docLinkHtml;\n",
              "        element.appendChild(docLink);\n",
              "      }\n",
              "    </script>\n",
              "  </div>\n",
              "\n",
              "\n",
              "<div id=\"df-064687ab-3dc3-4a71-b5d2-135da181e9a5\">\n",
              "  <button class=\"colab-df-quickchart\" onclick=\"quickchart('df-064687ab-3dc3-4a71-b5d2-135da181e9a5')\"\n",
              "            title=\"Suggest charts\"\n",
              "            style=\"display:none;\">\n",
              "\n",
              "<svg xmlns=\"http://www.w3.org/2000/svg\" height=\"24px\"viewBox=\"0 0 24 24\"\n",
              "     width=\"24px\">\n",
              "    <g>\n",
              "        <path d=\"M19 3H5c-1.1 0-2 .9-2 2v14c0 1.1.9 2 2 2h14c1.1 0 2-.9 2-2V5c0-1.1-.9-2-2-2zM9 17H7v-7h2v7zm4 0h-2V7h2v10zm4 0h-2v-4h2v4z\"/>\n",
              "    </g>\n",
              "</svg>\n",
              "  </button>\n",
              "\n",
              "<style>\n",
              "  .colab-df-quickchart {\n",
              "      --bg-color: #E8F0FE;\n",
              "      --fill-color: #1967D2;\n",
              "      --hover-bg-color: #E2EBFA;\n",
              "      --hover-fill-color: #174EA6;\n",
              "      --disabled-fill-color: #AAA;\n",
              "      --disabled-bg-color: #DDD;\n",
              "  }\n",
              "\n",
              "  [theme=dark] .colab-df-quickchart {\n",
              "      --bg-color: #3B4455;\n",
              "      --fill-color: #D2E3FC;\n",
              "      --hover-bg-color: #434B5C;\n",
              "      --hover-fill-color: #FFFFFF;\n",
              "      --disabled-bg-color: #3B4455;\n",
              "      --disabled-fill-color: #666;\n",
              "  }\n",
              "\n",
              "  .colab-df-quickchart {\n",
              "    background-color: var(--bg-color);\n",
              "    border: none;\n",
              "    border-radius: 50%;\n",
              "    cursor: pointer;\n",
              "    display: none;\n",
              "    fill: var(--fill-color);\n",
              "    height: 32px;\n",
              "    padding: 0;\n",
              "    width: 32px;\n",
              "  }\n",
              "\n",
              "  .colab-df-quickchart:hover {\n",
              "    background-color: var(--hover-bg-color);\n",
              "    box-shadow: 0 1px 2px rgba(60, 64, 67, 0.3), 0 1px 3px 1px rgba(60, 64, 67, 0.15);\n",
              "    fill: var(--button-hover-fill-color);\n",
              "  }\n",
              "\n",
              "  .colab-df-quickchart-complete:disabled,\n",
              "  .colab-df-quickchart-complete:disabled:hover {\n",
              "    background-color: var(--disabled-bg-color);\n",
              "    fill: var(--disabled-fill-color);\n",
              "    box-shadow: none;\n",
              "  }\n",
              "\n",
              "  .colab-df-spinner {\n",
              "    border: 2px solid var(--fill-color);\n",
              "    border-color: transparent;\n",
              "    border-bottom-color: var(--fill-color);\n",
              "    animation:\n",
              "      spin 1s steps(1) infinite;\n",
              "  }\n",
              "\n",
              "  @keyframes spin {\n",
              "    0% {\n",
              "      border-color: transparent;\n",
              "      border-bottom-color: var(--fill-color);\n",
              "      border-left-color: var(--fill-color);\n",
              "    }\n",
              "    20% {\n",
              "      border-color: transparent;\n",
              "      border-left-color: var(--fill-color);\n",
              "      border-top-color: var(--fill-color);\n",
              "    }\n",
              "    30% {\n",
              "      border-color: transparent;\n",
              "      border-left-color: var(--fill-color);\n",
              "      border-top-color: var(--fill-color);\n",
              "      border-right-color: var(--fill-color);\n",
              "    }\n",
              "    40% {\n",
              "      border-color: transparent;\n",
              "      border-right-color: var(--fill-color);\n",
              "      border-top-color: var(--fill-color);\n",
              "    }\n",
              "    60% {\n",
              "      border-color: transparent;\n",
              "      border-right-color: var(--fill-color);\n",
              "    }\n",
              "    80% {\n",
              "      border-color: transparent;\n",
              "      border-right-color: var(--fill-color);\n",
              "      border-bottom-color: var(--fill-color);\n",
              "    }\n",
              "    90% {\n",
              "      border-color: transparent;\n",
              "      border-bottom-color: var(--fill-color);\n",
              "    }\n",
              "  }\n",
              "</style>\n",
              "\n",
              "  <script>\n",
              "    async function quickchart(key) {\n",
              "      const quickchartButtonEl =\n",
              "        document.querySelector('#' + key + ' button');\n",
              "      quickchartButtonEl.disabled = true;  // To prevent multiple clicks.\n",
              "      quickchartButtonEl.classList.add('colab-df-spinner');\n",
              "      try {\n",
              "        const charts = await google.colab.kernel.invokeFunction(\n",
              "            'suggestCharts', [key], {});\n",
              "      } catch (error) {\n",
              "        console.error('Error during call to suggestCharts:', error);\n",
              "      }\n",
              "      quickchartButtonEl.classList.remove('colab-df-spinner');\n",
              "      quickchartButtonEl.classList.add('colab-df-quickchart-complete');\n",
              "    }\n",
              "    (() => {\n",
              "      let quickchartButtonEl =\n",
              "        document.querySelector('#df-064687ab-3dc3-4a71-b5d2-135da181e9a5 button');\n",
              "      quickchartButtonEl.style.display =\n",
              "        google.colab.kernel.accessAllowed ? 'block' : 'none';\n",
              "    })();\n",
              "  </script>\n",
              "</div>\n",
              "\n",
              "    </div>\n",
              "  </div>\n"
            ],
            "application/vnd.google.colaboratory.intrinsic+json": {
              "type": "dataframe",
              "variable_name": "X_train_nonstandardized"
            }
          },
          "metadata": {},
          "execution_count": 28
        }
      ]
    },
    {
      "cell_type": "code",
      "source": [
        "from sklearn.ensemble import RandomForestClassifier\n",
        "from sklearn.metrics import f1_score, make_scorer\n",
        "from sklearn.model_selection import GridSearchCV\n",
        "\n",
        "#instantiating the random forest classifier\n",
        "forest = RandomForestClassifier(random_state=210)\n",
        "\n",
        "#Since this dataset has target class imbalance, let's\n",
        "# evaluate its performance via an f1 score instead of the\n",
        "# default accuracy.\n",
        "f1 = make_scorer(f1_score)\n",
        "\n",
        "#establishing a parameter grid for GridSearchCV\n",
        "rf_param_grid = {'n_estimators':[5, 10],\n",
        "                 'criterion':['entropy'],\n",
        "                 'max_depth':[None, 4],\n",
        "                 'min_samples_split':[10]}\n",
        "\n",
        "#instantiating GridSearchCV\n",
        "rf_grid_search = GridSearchCV(forest,\n",
        "                              rf_param_grid,\n",
        "                              cv=5,\n",
        "                              return_train_score=True,\n",
        "                              scoring=f1)\n",
        "\n",
        "#fitting the GridSearch to the training data\n",
        "rf_grid_search.fit(X_train_nonstandardized, y_train)"
      ],
      "metadata": {
        "colab": {
          "base_uri": "https://localhost:8080/",
          "height": 117
        },
        "id": "-a3b-J445jIK",
        "outputId": "5b296a21-12cc-474e-da7c-a7b2a9e05374"
      },
      "execution_count": 29,
      "outputs": [
        {
          "output_type": "execute_result",
          "data": {
            "text/plain": [
              "GridSearchCV(cv=5, estimator=RandomForestClassifier(random_state=210),\n",
              "             param_grid={'criterion': ['entropy'], 'max_depth': [None, 4],\n",
              "                         'min_samples_split': [10], 'n_estimators': [5, 10]},\n",
              "             return_train_score=True, scoring=make_scorer(f1_score))"
            ],
            "text/html": [
              "<style>#sk-container-id-1 {color: black;background-color: white;}#sk-container-id-1 pre{padding: 0;}#sk-container-id-1 div.sk-toggleable {background-color: white;}#sk-container-id-1 label.sk-toggleable__label {cursor: pointer;display: block;width: 100%;margin-bottom: 0;padding: 0.3em;box-sizing: border-box;text-align: center;}#sk-container-id-1 label.sk-toggleable__label-arrow:before {content: \"▸\";float: left;margin-right: 0.25em;color: #696969;}#sk-container-id-1 label.sk-toggleable__label-arrow:hover:before {color: black;}#sk-container-id-1 div.sk-estimator:hover label.sk-toggleable__label-arrow:before {color: black;}#sk-container-id-1 div.sk-toggleable__content {max-height: 0;max-width: 0;overflow: hidden;text-align: left;background-color: #f0f8ff;}#sk-container-id-1 div.sk-toggleable__content pre {margin: 0.2em;color: black;border-radius: 0.25em;background-color: #f0f8ff;}#sk-container-id-1 input.sk-toggleable__control:checked~div.sk-toggleable__content {max-height: 200px;max-width: 100%;overflow: auto;}#sk-container-id-1 input.sk-toggleable__control:checked~label.sk-toggleable__label-arrow:before {content: \"▾\";}#sk-container-id-1 div.sk-estimator input.sk-toggleable__control:checked~label.sk-toggleable__label {background-color: #d4ebff;}#sk-container-id-1 div.sk-label input.sk-toggleable__control:checked~label.sk-toggleable__label {background-color: #d4ebff;}#sk-container-id-1 input.sk-hidden--visually {border: 0;clip: rect(1px 1px 1px 1px);clip: rect(1px, 1px, 1px, 1px);height: 1px;margin: -1px;overflow: hidden;padding: 0;position: absolute;width: 1px;}#sk-container-id-1 div.sk-estimator {font-family: monospace;background-color: #f0f8ff;border: 1px dotted black;border-radius: 0.25em;box-sizing: border-box;margin-bottom: 0.5em;}#sk-container-id-1 div.sk-estimator:hover {background-color: #d4ebff;}#sk-container-id-1 div.sk-parallel-item::after {content: \"\";width: 100%;border-bottom: 1px solid gray;flex-grow: 1;}#sk-container-id-1 div.sk-label:hover label.sk-toggleable__label {background-color: #d4ebff;}#sk-container-id-1 div.sk-serial::before {content: \"\";position: absolute;border-left: 1px solid gray;box-sizing: border-box;top: 0;bottom: 0;left: 50%;z-index: 0;}#sk-container-id-1 div.sk-serial {display: flex;flex-direction: column;align-items: center;background-color: white;padding-right: 0.2em;padding-left: 0.2em;position: relative;}#sk-container-id-1 div.sk-item {position: relative;z-index: 1;}#sk-container-id-1 div.sk-parallel {display: flex;align-items: stretch;justify-content: center;background-color: white;position: relative;}#sk-container-id-1 div.sk-item::before, #sk-container-id-1 div.sk-parallel-item::before {content: \"\";position: absolute;border-left: 1px solid gray;box-sizing: border-box;top: 0;bottom: 0;left: 50%;z-index: -1;}#sk-container-id-1 div.sk-parallel-item {display: flex;flex-direction: column;z-index: 1;position: relative;background-color: white;}#sk-container-id-1 div.sk-parallel-item:first-child::after {align-self: flex-end;width: 50%;}#sk-container-id-1 div.sk-parallel-item:last-child::after {align-self: flex-start;width: 50%;}#sk-container-id-1 div.sk-parallel-item:only-child::after {width: 0;}#sk-container-id-1 div.sk-dashed-wrapped {border: 1px dashed gray;margin: 0 0.4em 0.5em 0.4em;box-sizing: border-box;padding-bottom: 0.4em;background-color: white;}#sk-container-id-1 div.sk-label label {font-family: monospace;font-weight: bold;display: inline-block;line-height: 1.2em;}#sk-container-id-1 div.sk-label-container {text-align: center;}#sk-container-id-1 div.sk-container {/* jupyter's `normalize.less` sets `[hidden] { display: none; }` but bootstrap.min.css set `[hidden] { display: none !important; }` so we also need the `!important` here to be able to override the default hidden behavior on the sphinx rendered scikit-learn.org. See: https://github.com/scikit-learn/scikit-learn/issues/21755 */display: inline-block !important;position: relative;}#sk-container-id-1 div.sk-text-repr-fallback {display: none;}</style><div id=\"sk-container-id-1\" class=\"sk-top-container\"><div class=\"sk-text-repr-fallback\"><pre>GridSearchCV(cv=5, estimator=RandomForestClassifier(random_state=210),\n",
              "             param_grid={&#x27;criterion&#x27;: [&#x27;entropy&#x27;], &#x27;max_depth&#x27;: [None, 4],\n",
              "                         &#x27;min_samples_split&#x27;: [10], &#x27;n_estimators&#x27;: [5, 10]},\n",
              "             return_train_score=True, scoring=make_scorer(f1_score))</pre><b>In a Jupyter environment, please rerun this cell to show the HTML representation or trust the notebook. <br />On GitHub, the HTML representation is unable to render, please try loading this page with nbviewer.org.</b></div><div class=\"sk-container\" hidden><div class=\"sk-item sk-dashed-wrapped\"><div class=\"sk-label-container\"><div class=\"sk-label sk-toggleable\"><input class=\"sk-toggleable__control sk-hidden--visually\" id=\"sk-estimator-id-1\" type=\"checkbox\" ><label for=\"sk-estimator-id-1\" class=\"sk-toggleable__label sk-toggleable__label-arrow\">GridSearchCV</label><div class=\"sk-toggleable__content\"><pre>GridSearchCV(cv=5, estimator=RandomForestClassifier(random_state=210),\n",
              "             param_grid={&#x27;criterion&#x27;: [&#x27;entropy&#x27;], &#x27;max_depth&#x27;: [None, 4],\n",
              "                         &#x27;min_samples_split&#x27;: [10], &#x27;n_estimators&#x27;: [5, 10]},\n",
              "             return_train_score=True, scoring=make_scorer(f1_score))</pre></div></div></div><div class=\"sk-parallel\"><div class=\"sk-parallel-item\"><div class=\"sk-item\"><div class=\"sk-label-container\"><div class=\"sk-label sk-toggleable\"><input class=\"sk-toggleable__control sk-hidden--visually\" id=\"sk-estimator-id-2\" type=\"checkbox\" ><label for=\"sk-estimator-id-2\" class=\"sk-toggleable__label sk-toggleable__label-arrow\">estimator: RandomForestClassifier</label><div class=\"sk-toggleable__content\"><pre>RandomForestClassifier(random_state=210)</pre></div></div></div><div class=\"sk-serial\"><div class=\"sk-item\"><div class=\"sk-estimator sk-toggleable\"><input class=\"sk-toggleable__control sk-hidden--visually\" id=\"sk-estimator-id-3\" type=\"checkbox\" ><label for=\"sk-estimator-id-3\" class=\"sk-toggleable__label sk-toggleable__label-arrow\">RandomForestClassifier</label><div class=\"sk-toggleable__content\"><pre>RandomForestClassifier(random_state=210)</pre></div></div></div></div></div></div></div></div></div></div>"
            ]
          },
          "metadata": {},
          "execution_count": 29
        }
      ]
    },
    {
      "cell_type": "markdown",
      "source": [
        "Before we can evaluate this random forest grid search on testing data, we have to perform one-hot encoding on X_test while refraining from standardizing its numerical columns in order to have an apples-to-apples evaluation."
      ],
      "metadata": {
        "id": "Ohdiw8SbRJuF"
      }
    },
    {
      "cell_type": "code",
      "source": [
        "#isolating X_test's categorical features\n",
        "X_test_categorical = X_test[categorical_features]\n",
        "#transforming them\n",
        "X_test_categorical_ohe = ohe.transform(X_test_categorical)\n",
        "#putting them back into a DataFrame\n",
        "X_test_categorical_ohe = pd.DataFrame(X_test_categorical_ohe,\n",
        "                                       columns = ohe.get_feature_names_out(),\n",
        "                                       index = X_test_categorical.index)\n",
        "#isolating X_test's numeric data\n",
        "X_test_numeric = X_test[numeric_features]\n",
        "#concatenating the non-standardized numeric data with the one-hot encoded categorical columns\n",
        "X_test_nonstandardized = pd.concat([X_test_numeric, X_test_categorical_ohe], axis=1)\n",
        "#making sure it looks right\n",
        "X_test_nonstandardized.head()"
      ],
      "metadata": {
        "colab": {
          "base_uri": "https://localhost:8080/",
          "height": 273
        },
        "id": "Vo7fCEASRHs3",
        "outputId": "f9f762fc-b9c6-49f6-e447-a557b68be8f3"
      },
      "execution_count": 30,
      "outputs": [
        {
          "output_type": "execute_result",
          "data": {
            "text/plain": [
              "        POSTED_SPEED_LIMIT  NUM_UNITS  CRASH_HOUR   LATITUDE  LONGITUDE  AGE  \\\n",
              "442162                  30          2          17  41.830409 -87.677876   31   \n",
              "856659                  30          2          21  41.960645 -87.762900   51   \n",
              "534978                  30          2           1  41.928408 -87.691399   46   \n",
              "185993                  30          2          12  41.758096 -87.624208   66   \n",
              "534322                  30          2           7  41.997415 -87.754943   16   \n",
              "\n",
              "        WEATHER_CONDITION_BLOWING SAND, SOIL, DIRT  \\\n",
              "442162                                         0.0   \n",
              "856659                                         0.0   \n",
              "534978                                         0.0   \n",
              "185993                                         0.0   \n",
              "534322                                         0.0   \n",
              "\n",
              "        WEATHER_CONDITION_BLOWING SNOW  WEATHER_CONDITION_CLEAR  \\\n",
              "442162                             0.0                      1.0   \n",
              "856659                             0.0                      1.0   \n",
              "534978                             0.0                      1.0   \n",
              "185993                             0.0                      1.0   \n",
              "534322                             0.0                      1.0   \n",
              "\n",
              "        WEATHER_CONDITION_CLOUDY/OVERCAST  ...  \\\n",
              "442162                                0.0  ...   \n",
              "856659                                0.0  ...   \n",
              "534978                                0.0  ...   \n",
              "185993                                0.0  ...   \n",
              "534322                                0.0  ...   \n",
              "\n",
              "        MANEUVER_SKIDDING/CONTROL LOSS  MANEUVER_SLOW/STOP - LEFT TURN  \\\n",
              "442162                             0.0                             0.0   \n",
              "856659                             0.0                             0.0   \n",
              "534978                             0.0                             0.0   \n",
              "185993                             0.0                             0.0   \n",
              "534322                             0.0                             0.0   \n",
              "\n",
              "        MANEUVER_SLOW/STOP - LOAD/UNLOAD  MANEUVER_SLOW/STOP - RIGHT TURN  \\\n",
              "442162                               0.0                              0.0   \n",
              "856659                               0.0                              0.0   \n",
              "534978                               0.0                              0.0   \n",
              "185993                               0.0                              0.0   \n",
              "534322                               0.0                              0.0   \n",
              "\n",
              "        MANEUVER_SLOW/STOP IN TRAFFIC  MANEUVER_STARTING IN TRAFFIC  \\\n",
              "442162                            0.0                           0.0   \n",
              "856659                            0.0                           0.0   \n",
              "534978                            0.0                           0.0   \n",
              "185993                            0.0                           0.0   \n",
              "534322                            0.0                           0.0   \n",
              "\n",
              "        MANEUVER_STRAIGHT AHEAD  MANEUVER_TURNING LEFT  \\\n",
              "442162                      0.0                    0.0   \n",
              "856659                      0.0                    0.0   \n",
              "534978                      0.0                    0.0   \n",
              "185993                      0.0                    0.0   \n",
              "534322                      1.0                    0.0   \n",
              "\n",
              "        MANEUVER_TURNING RIGHT  MANEUVER_U-TURN  \n",
              "442162                     0.0              0.0  \n",
              "856659                     0.0              0.0  \n",
              "534978                     1.0              0.0  \n",
              "185993                     0.0              0.0  \n",
              "534322                     0.0              0.0  \n",
              "\n",
              "[5 rows x 69 columns]"
            ],
            "text/html": [
              "\n",
              "  <div id=\"df-beff690c-ed47-45b0-984b-91c1857e9cec\" class=\"colab-df-container\">\n",
              "    <div>\n",
              "<style scoped>\n",
              "    .dataframe tbody tr th:only-of-type {\n",
              "        vertical-align: middle;\n",
              "    }\n",
              "\n",
              "    .dataframe tbody tr th {\n",
              "        vertical-align: top;\n",
              "    }\n",
              "\n",
              "    .dataframe thead th {\n",
              "        text-align: right;\n",
              "    }\n",
              "</style>\n",
              "<table border=\"1\" class=\"dataframe\">\n",
              "  <thead>\n",
              "    <tr style=\"text-align: right;\">\n",
              "      <th></th>\n",
              "      <th>POSTED_SPEED_LIMIT</th>\n",
              "      <th>NUM_UNITS</th>\n",
              "      <th>CRASH_HOUR</th>\n",
              "      <th>LATITUDE</th>\n",
              "      <th>LONGITUDE</th>\n",
              "      <th>AGE</th>\n",
              "      <th>WEATHER_CONDITION_BLOWING SAND, SOIL, DIRT</th>\n",
              "      <th>WEATHER_CONDITION_BLOWING SNOW</th>\n",
              "      <th>WEATHER_CONDITION_CLEAR</th>\n",
              "      <th>WEATHER_CONDITION_CLOUDY/OVERCAST</th>\n",
              "      <th>...</th>\n",
              "      <th>MANEUVER_SKIDDING/CONTROL LOSS</th>\n",
              "      <th>MANEUVER_SLOW/STOP - LEFT TURN</th>\n",
              "      <th>MANEUVER_SLOW/STOP - LOAD/UNLOAD</th>\n",
              "      <th>MANEUVER_SLOW/STOP - RIGHT TURN</th>\n",
              "      <th>MANEUVER_SLOW/STOP IN TRAFFIC</th>\n",
              "      <th>MANEUVER_STARTING IN TRAFFIC</th>\n",
              "      <th>MANEUVER_STRAIGHT AHEAD</th>\n",
              "      <th>MANEUVER_TURNING LEFT</th>\n",
              "      <th>MANEUVER_TURNING RIGHT</th>\n",
              "      <th>MANEUVER_U-TURN</th>\n",
              "    </tr>\n",
              "  </thead>\n",
              "  <tbody>\n",
              "    <tr>\n",
              "      <th>442162</th>\n",
              "      <td>30</td>\n",
              "      <td>2</td>\n",
              "      <td>17</td>\n",
              "      <td>41.830409</td>\n",
              "      <td>-87.677876</td>\n",
              "      <td>31</td>\n",
              "      <td>0.0</td>\n",
              "      <td>0.0</td>\n",
              "      <td>1.0</td>\n",
              "      <td>0.0</td>\n",
              "      <td>...</td>\n",
              "      <td>0.0</td>\n",
              "      <td>0.0</td>\n",
              "      <td>0.0</td>\n",
              "      <td>0.0</td>\n",
              "      <td>0.0</td>\n",
              "      <td>0.0</td>\n",
              "      <td>0.0</td>\n",
              "      <td>0.0</td>\n",
              "      <td>0.0</td>\n",
              "      <td>0.0</td>\n",
              "    </tr>\n",
              "    <tr>\n",
              "      <th>856659</th>\n",
              "      <td>30</td>\n",
              "      <td>2</td>\n",
              "      <td>21</td>\n",
              "      <td>41.960645</td>\n",
              "      <td>-87.762900</td>\n",
              "      <td>51</td>\n",
              "      <td>0.0</td>\n",
              "      <td>0.0</td>\n",
              "      <td>1.0</td>\n",
              "      <td>0.0</td>\n",
              "      <td>...</td>\n",
              "      <td>0.0</td>\n",
              "      <td>0.0</td>\n",
              "      <td>0.0</td>\n",
              "      <td>0.0</td>\n",
              "      <td>0.0</td>\n",
              "      <td>0.0</td>\n",
              "      <td>0.0</td>\n",
              "      <td>0.0</td>\n",
              "      <td>0.0</td>\n",
              "      <td>0.0</td>\n",
              "    </tr>\n",
              "    <tr>\n",
              "      <th>534978</th>\n",
              "      <td>30</td>\n",
              "      <td>2</td>\n",
              "      <td>1</td>\n",
              "      <td>41.928408</td>\n",
              "      <td>-87.691399</td>\n",
              "      <td>46</td>\n",
              "      <td>0.0</td>\n",
              "      <td>0.0</td>\n",
              "      <td>1.0</td>\n",
              "      <td>0.0</td>\n",
              "      <td>...</td>\n",
              "      <td>0.0</td>\n",
              "      <td>0.0</td>\n",
              "      <td>0.0</td>\n",
              "      <td>0.0</td>\n",
              "      <td>0.0</td>\n",
              "      <td>0.0</td>\n",
              "      <td>0.0</td>\n",
              "      <td>0.0</td>\n",
              "      <td>1.0</td>\n",
              "      <td>0.0</td>\n",
              "    </tr>\n",
              "    <tr>\n",
              "      <th>185993</th>\n",
              "      <td>30</td>\n",
              "      <td>2</td>\n",
              "      <td>12</td>\n",
              "      <td>41.758096</td>\n",
              "      <td>-87.624208</td>\n",
              "      <td>66</td>\n",
              "      <td>0.0</td>\n",
              "      <td>0.0</td>\n",
              "      <td>1.0</td>\n",
              "      <td>0.0</td>\n",
              "      <td>...</td>\n",
              "      <td>0.0</td>\n",
              "      <td>0.0</td>\n",
              "      <td>0.0</td>\n",
              "      <td>0.0</td>\n",
              "      <td>0.0</td>\n",
              "      <td>0.0</td>\n",
              "      <td>0.0</td>\n",
              "      <td>0.0</td>\n",
              "      <td>0.0</td>\n",
              "      <td>0.0</td>\n",
              "    </tr>\n",
              "    <tr>\n",
              "      <th>534322</th>\n",
              "      <td>30</td>\n",
              "      <td>2</td>\n",
              "      <td>7</td>\n",
              "      <td>41.997415</td>\n",
              "      <td>-87.754943</td>\n",
              "      <td>16</td>\n",
              "      <td>0.0</td>\n",
              "      <td>0.0</td>\n",
              "      <td>1.0</td>\n",
              "      <td>0.0</td>\n",
              "      <td>...</td>\n",
              "      <td>0.0</td>\n",
              "      <td>0.0</td>\n",
              "      <td>0.0</td>\n",
              "      <td>0.0</td>\n",
              "      <td>0.0</td>\n",
              "      <td>0.0</td>\n",
              "      <td>1.0</td>\n",
              "      <td>0.0</td>\n",
              "      <td>0.0</td>\n",
              "      <td>0.0</td>\n",
              "    </tr>\n",
              "  </tbody>\n",
              "</table>\n",
              "<p>5 rows × 69 columns</p>\n",
              "</div>\n",
              "    <div class=\"colab-df-buttons\">\n",
              "\n",
              "  <div class=\"colab-df-container\">\n",
              "    <button class=\"colab-df-convert\" onclick=\"convertToInteractive('df-beff690c-ed47-45b0-984b-91c1857e9cec')\"\n",
              "            title=\"Convert this dataframe to an interactive table.\"\n",
              "            style=\"display:none;\">\n",
              "\n",
              "  <svg xmlns=\"http://www.w3.org/2000/svg\" height=\"24px\" viewBox=\"0 -960 960 960\">\n",
              "    <path d=\"M120-120v-720h720v720H120Zm60-500h600v-160H180v160Zm220 220h160v-160H400v160Zm0 220h160v-160H400v160ZM180-400h160v-160H180v160Zm440 0h160v-160H620v160ZM180-180h160v-160H180v160Zm440 0h160v-160H620v160Z\"/>\n",
              "  </svg>\n",
              "    </button>\n",
              "\n",
              "  <style>\n",
              "    .colab-df-container {\n",
              "      display:flex;\n",
              "      gap: 12px;\n",
              "    }\n",
              "\n",
              "    .colab-df-convert {\n",
              "      background-color: #E8F0FE;\n",
              "      border: none;\n",
              "      border-radius: 50%;\n",
              "      cursor: pointer;\n",
              "      display: none;\n",
              "      fill: #1967D2;\n",
              "      height: 32px;\n",
              "      padding: 0 0 0 0;\n",
              "      width: 32px;\n",
              "    }\n",
              "\n",
              "    .colab-df-convert:hover {\n",
              "      background-color: #E2EBFA;\n",
              "      box-shadow: 0px 1px 2px rgba(60, 64, 67, 0.3), 0px 1px 3px 1px rgba(60, 64, 67, 0.15);\n",
              "      fill: #174EA6;\n",
              "    }\n",
              "\n",
              "    .colab-df-buttons div {\n",
              "      margin-bottom: 4px;\n",
              "    }\n",
              "\n",
              "    [theme=dark] .colab-df-convert {\n",
              "      background-color: #3B4455;\n",
              "      fill: #D2E3FC;\n",
              "    }\n",
              "\n",
              "    [theme=dark] .colab-df-convert:hover {\n",
              "      background-color: #434B5C;\n",
              "      box-shadow: 0px 1px 3px 1px rgba(0, 0, 0, 0.15);\n",
              "      filter: drop-shadow(0px 1px 2px rgba(0, 0, 0, 0.3));\n",
              "      fill: #FFFFFF;\n",
              "    }\n",
              "  </style>\n",
              "\n",
              "    <script>\n",
              "      const buttonEl =\n",
              "        document.querySelector('#df-beff690c-ed47-45b0-984b-91c1857e9cec button.colab-df-convert');\n",
              "      buttonEl.style.display =\n",
              "        google.colab.kernel.accessAllowed ? 'block' : 'none';\n",
              "\n",
              "      async function convertToInteractive(key) {\n",
              "        const element = document.querySelector('#df-beff690c-ed47-45b0-984b-91c1857e9cec');\n",
              "        const dataTable =\n",
              "          await google.colab.kernel.invokeFunction('convertToInteractive',\n",
              "                                                    [key], {});\n",
              "        if (!dataTable) return;\n",
              "\n",
              "        const docLinkHtml = 'Like what you see? Visit the ' +\n",
              "          '<a target=\"_blank\" href=https://colab.research.google.com/notebooks/data_table.ipynb>data table notebook</a>'\n",
              "          + ' to learn more about interactive tables.';\n",
              "        element.innerHTML = '';\n",
              "        dataTable['output_type'] = 'display_data';\n",
              "        await google.colab.output.renderOutput(dataTable, element);\n",
              "        const docLink = document.createElement('div');\n",
              "        docLink.innerHTML = docLinkHtml;\n",
              "        element.appendChild(docLink);\n",
              "      }\n",
              "    </script>\n",
              "  </div>\n",
              "\n",
              "\n",
              "<div id=\"df-499d0c96-724d-463d-bebd-86fa5624ba11\">\n",
              "  <button class=\"colab-df-quickchart\" onclick=\"quickchart('df-499d0c96-724d-463d-bebd-86fa5624ba11')\"\n",
              "            title=\"Suggest charts\"\n",
              "            style=\"display:none;\">\n",
              "\n",
              "<svg xmlns=\"http://www.w3.org/2000/svg\" height=\"24px\"viewBox=\"0 0 24 24\"\n",
              "     width=\"24px\">\n",
              "    <g>\n",
              "        <path d=\"M19 3H5c-1.1 0-2 .9-2 2v14c0 1.1.9 2 2 2h14c1.1 0 2-.9 2-2V5c0-1.1-.9-2-2-2zM9 17H7v-7h2v7zm4 0h-2V7h2v10zm4 0h-2v-4h2v4z\"/>\n",
              "    </g>\n",
              "</svg>\n",
              "  </button>\n",
              "\n",
              "<style>\n",
              "  .colab-df-quickchart {\n",
              "      --bg-color: #E8F0FE;\n",
              "      --fill-color: #1967D2;\n",
              "      --hover-bg-color: #E2EBFA;\n",
              "      --hover-fill-color: #174EA6;\n",
              "      --disabled-fill-color: #AAA;\n",
              "      --disabled-bg-color: #DDD;\n",
              "  }\n",
              "\n",
              "  [theme=dark] .colab-df-quickchart {\n",
              "      --bg-color: #3B4455;\n",
              "      --fill-color: #D2E3FC;\n",
              "      --hover-bg-color: #434B5C;\n",
              "      --hover-fill-color: #FFFFFF;\n",
              "      --disabled-bg-color: #3B4455;\n",
              "      --disabled-fill-color: #666;\n",
              "  }\n",
              "\n",
              "  .colab-df-quickchart {\n",
              "    background-color: var(--bg-color);\n",
              "    border: none;\n",
              "    border-radius: 50%;\n",
              "    cursor: pointer;\n",
              "    display: none;\n",
              "    fill: var(--fill-color);\n",
              "    height: 32px;\n",
              "    padding: 0;\n",
              "    width: 32px;\n",
              "  }\n",
              "\n",
              "  .colab-df-quickchart:hover {\n",
              "    background-color: var(--hover-bg-color);\n",
              "    box-shadow: 0 1px 2px rgba(60, 64, 67, 0.3), 0 1px 3px 1px rgba(60, 64, 67, 0.15);\n",
              "    fill: var(--button-hover-fill-color);\n",
              "  }\n",
              "\n",
              "  .colab-df-quickchart-complete:disabled,\n",
              "  .colab-df-quickchart-complete:disabled:hover {\n",
              "    background-color: var(--disabled-bg-color);\n",
              "    fill: var(--disabled-fill-color);\n",
              "    box-shadow: none;\n",
              "  }\n",
              "\n",
              "  .colab-df-spinner {\n",
              "    border: 2px solid var(--fill-color);\n",
              "    border-color: transparent;\n",
              "    border-bottom-color: var(--fill-color);\n",
              "    animation:\n",
              "      spin 1s steps(1) infinite;\n",
              "  }\n",
              "\n",
              "  @keyframes spin {\n",
              "    0% {\n",
              "      border-color: transparent;\n",
              "      border-bottom-color: var(--fill-color);\n",
              "      border-left-color: var(--fill-color);\n",
              "    }\n",
              "    20% {\n",
              "      border-color: transparent;\n",
              "      border-left-color: var(--fill-color);\n",
              "      border-top-color: var(--fill-color);\n",
              "    }\n",
              "    30% {\n",
              "      border-color: transparent;\n",
              "      border-left-color: var(--fill-color);\n",
              "      border-top-color: var(--fill-color);\n",
              "      border-right-color: var(--fill-color);\n",
              "    }\n",
              "    40% {\n",
              "      border-color: transparent;\n",
              "      border-right-color: var(--fill-color);\n",
              "      border-top-color: var(--fill-color);\n",
              "    }\n",
              "    60% {\n",
              "      border-color: transparent;\n",
              "      border-right-color: var(--fill-color);\n",
              "    }\n",
              "    80% {\n",
              "      border-color: transparent;\n",
              "      border-right-color: var(--fill-color);\n",
              "      border-bottom-color: var(--fill-color);\n",
              "    }\n",
              "    90% {\n",
              "      border-color: transparent;\n",
              "      border-bottom-color: var(--fill-color);\n",
              "    }\n",
              "  }\n",
              "</style>\n",
              "\n",
              "  <script>\n",
              "    async function quickchart(key) {\n",
              "      const quickchartButtonEl =\n",
              "        document.querySelector('#' + key + ' button');\n",
              "      quickchartButtonEl.disabled = true;  // To prevent multiple clicks.\n",
              "      quickchartButtonEl.classList.add('colab-df-spinner');\n",
              "      try {\n",
              "        const charts = await google.colab.kernel.invokeFunction(\n",
              "            'suggestCharts', [key], {});\n",
              "      } catch (error) {\n",
              "        console.error('Error during call to suggestCharts:', error);\n",
              "      }\n",
              "      quickchartButtonEl.classList.remove('colab-df-spinner');\n",
              "      quickchartButtonEl.classList.add('colab-df-quickchart-complete');\n",
              "    }\n",
              "    (() => {\n",
              "      let quickchartButtonEl =\n",
              "        document.querySelector('#df-499d0c96-724d-463d-bebd-86fa5624ba11 button');\n",
              "      quickchartButtonEl.style.display =\n",
              "        google.colab.kernel.accessAllowed ? 'block' : 'none';\n",
              "    })();\n",
              "  </script>\n",
              "</div>\n",
              "\n",
              "    </div>\n",
              "  </div>\n"
            ],
            "application/vnd.google.colaboratory.intrinsic+json": {
              "type": "dataframe",
              "variable_name": "X_test_nonstandardized"
            }
          },
          "metadata": {},
          "execution_count": 30
        }
      ]
    },
    {
      "cell_type": "code",
      "source": [
        "#mean training score\n",
        "rf_grid_search_train_score = rf_grid_search.cv_results_['mean_train_score'].mean()\n",
        "#mean test score\n",
        "rf_grid_search_test_score = rf_grid_search.score(X_test_nonstandardized, y_test)\n",
        "#printing results\n",
        "print(f'baseline random forest mean training score: {rf_grid_search_train_score :.2%}')\n",
        "print(f'baseline random forest mean test score: {rf_grid_search_test_score :.2%}')\n",
        "print(f'baseline random forest optimal parameter combination:', rf_grid_search.best_params_)"
      ],
      "metadata": {
        "colab": {
          "base_uri": "https://localhost:8080/"
        },
        "id": "VnLikAQ1-Y9W",
        "outputId": "7748a5bf-f25a-4e2e-bb70-8ead2c20bbe3"
      },
      "execution_count": 31,
      "outputs": [
        {
          "output_type": "stream",
          "name": "stdout",
          "text": [
            "baseline random forest mean training score: 97.08%\n",
            "baseline random forest mean test score: 96.98%\n",
            "baseline random forest optimal parameter combination: {'criterion': 'entropy', 'max_depth': None, 'min_samples_split': 10, 'n_estimators': 10}\n"
          ]
        }
      ]
    },
    {
      "cell_type": "markdown",
      "source": [
        "With a baseline that's been optimized via GridSearchCV in mind, let's (hopefully) further improve on this model by adding in some over/under sampling strategies."
      ],
      "metadata": {
        "id": "CvT3_lg2jDSj"
      }
    },
    {
      "cell_type": "code",
      "source": [
        "#refresher on current state of y_train's distribution\n",
        "y_train.value_counts()"
      ],
      "metadata": {
        "colab": {
          "base_uri": "https://localhost:8080/"
        },
        "id": "6-4Uwbcbp_oy",
        "outputId": "52eeda68-f2c7-497d-e480-94f9d98515d1"
      },
      "execution_count": 32,
      "outputs": [
        {
          "output_type": "execute_result",
          "data": {
            "text/plain": [
              "TARGET\n",
              "1    656936\n",
              "0     50881\n",
              "Name: count, dtype: int64"
            ]
          },
          "metadata": {},
          "execution_count": 32
        }
      ]
    },
    {
      "cell_type": "code",
      "source": [
        "from imblearn.over_sampling import RandomOverSampler\n",
        "from sklearn.metrics import f1_score\n",
        "\n",
        "#defining five over-sampling strategies from 110% to 150% of the\n",
        "# minority target class in increments of 10%:\n",
        "oversampling_strategies = [{0:55969, 1:656936}, {0:61057, 1:656936}, {0:66145, 1:656936}, {0:71233, 1:656936}, {0:76322, 1:656936}]\n",
        "\n",
        "#empty list for f1 scores\n",
        "f1_scores = []\n",
        "\n",
        "#iterate through each sampling strategy\n",
        "for i in oversampling_strategies:\n",
        "    # define oversampling strategy\n",
        "    oversample = RandomOverSampler(random_state=210, sampling_strategy=i)\n",
        "    # fit and apply the oversampling strategy\n",
        "    X_train_nonstandardized_over, y_train_over = oversample.fit_resample(X_train_nonstandardized, y_train)\n",
        "    #instantiate & fit the model to X-over & y-over with previously optimized parameters\n",
        "    forest_oversample_temp = RandomForestClassifier(criterion='entropy',\n",
        "                                    max_depth=None,\n",
        "                                    min_samples_split=10,\n",
        "                                    n_estimators=10)\n",
        "    forest_oversample_temp.fit(X_train_nonstandardized_over, y_train_over)\n",
        "    #make predictions on test set\n",
        "    y_hat = forest_oversample_temp.predict(X_test_nonstandardized)\n",
        "    #find & append f1 score\n",
        "    f1_scores.append(f1_score(y_test, y_hat))\n",
        "\n",
        "oversampling_percentages = ['110%:', '120%:', '130%:', '140%:', '150%:']\n",
        "print(\"sampling strategies & f1 scores:\", list(zip(oversampling_percentages, f1_scores)))"
      ],
      "metadata": {
        "colab": {
          "base_uri": "https://localhost:8080/"
        },
        "id": "NS2stSpSTs1s",
        "outputId": "e39998df-8334-492a-8cfc-be556af0fb24"
      },
      "execution_count": 33,
      "outputs": [
        {
          "output_type": "stream",
          "name": "stdout",
          "text": [
            "sampling strategies & f1 scores: [('110%:', 0.9704849870808707), ('120%:', 0.9708644353479412), ('130%:', 0.9713602256431008), ('140%:', 0.9715485157948015), ('150%:', 0.972003444812964)]\n"
          ]
        }
      ]
    },
    {
      "cell_type": "markdown",
      "source": [
        "It looks like over-sampling at 150% works best; let's see whether under-sampling will outperform it."
      ],
      "metadata": {
        "id": "LCH8DX6is0YH"
      }
    },
    {
      "cell_type": "code",
      "source": [
        "from imblearn.under_sampling import RandomUnderSampler\n",
        "\n",
        "#defining five under-sampling strategies from 50% to 90% of the\n",
        "# majority target class in increments of 10%:\n",
        "undersampling_strategies = [{0:50881, 1:328468}, {0:50881, 1:394162}, {0:50881, 1:459855}, {0:50881, 1:525549}, {0:50881, 1:591252}]\n",
        "\n",
        "#empty list for f1 scores\n",
        "f1_scores = []\n",
        "\n",
        "#iterate through each sampling strategy\n",
        "for i in undersampling_strategies:\n",
        "    # define undersampling strategy\n",
        "    undersample = RandomUnderSampler(random_state=210, sampling_strategy=i)\n",
        "    # fit and apply the undersampling strategy\n",
        "    X_train_nonstandardized_under, y_train_under = undersample.fit_resample(X_train_nonstandardized, y_train)\n",
        "    #instantiate & fit the model to X-over & y-over with previously optimized parameters\n",
        "    forest_undersample_temp = RandomForestClassifier(criterion='entropy',\n",
        "                                    max_depth=None,\n",
        "                                    min_samples_split=10,\n",
        "                                    n_estimators=10)\n",
        "    forest_undersample_temp.fit(X_train_nonstandardized_under, y_train_under)\n",
        "    #make predictions on test set\n",
        "    y_hat = forest_undersample_temp.predict(X_test_nonstandardized)\n",
        "    #find & append f1 score\n",
        "    f1_scores.append(f1_score(y_test, y_hat))\n",
        "\n",
        "undersampling_percentages = ['50%:', '60%:', '70%:', '80%:', '90%:']\n",
        "print(\"sampling strategies & f1 scores:\", list(zip(undersampling_percentages, f1_scores)))"
      ],
      "metadata": {
        "colab": {
          "base_uri": "https://localhost:8080/"
        },
        "id": "6ERCYGo6sfQZ",
        "outputId": "218db1d8-f8c8-4410-c8c7-be035733131f"
      },
      "execution_count": 34,
      "outputs": [
        {
          "output_type": "stream",
          "name": "stdout",
          "text": [
            "sampling strategies & f1 scores: [('50%:', 0.968637861424779), ('60%:', 0.9692549197500283), ('70%:', 0.9699930590516818), ('80%:', 0.9701751777057372), ('90%:', 0.9701993442311347)]\n"
          ]
        }
      ]
    },
    {
      "cell_type": "markdown",
      "source": [
        "So far, it looks like oversampling the minority class at 150% of its original value count produces the highest f1 score. Before investigating this particular model's feature importances, let's try one more sampling strategy by way of SMOTE."
      ],
      "metadata": {
        "id": "-r378qXaDd3x"
      }
    },
    {
      "cell_type": "code",
      "source": [
        "from imblearn.over_sampling import SMOTE\n",
        "\n",
        "#empty list for f1 scores\n",
        "f1_scores = []\n",
        "\n",
        "#iterate through each SMOTE oversampling strategy\n",
        "for i in oversampling_strategies:\n",
        "    smote = SMOTE(random_state=210, sampling_strategy=i)\n",
        "    # fit the smote-oversampling strategy\n",
        "    X_train_nonstandardized_smote, y_train_smote = smote.fit_resample(X_train_nonstandardized, y_train)\n",
        "    #instantiate & fit the random forest model to X-smote & y-smote with previously optimized parameters\n",
        "    forest_smote_temp = RandomForestClassifier(criterion='entropy',\n",
        "                                    max_depth=None,\n",
        "                                    min_samples_split=10,\n",
        "                                    n_estimators=10)\n",
        "    forest_smote_temp.fit(X_train_nonstandardized_smote, y_train_smote)\n",
        "    #make predictions on test set\n",
        "    y_hat = forest_smote_temp.predict(X_test_nonstandardized)\n",
        "    #find & append f1 score\n",
        "    f1_scores.append(f1_score(y_test, y_hat))\n",
        "\n",
        "smote_oversampling_percentages = ['110%:', '120%:', '130%:', '140%:', '150%:']\n",
        "print(\"sampling strategies & f1 scores:\", list(zip(smote_oversampling_percentages, f1_scores)))"
      ],
      "metadata": {
        "colab": {
          "base_uri": "https://localhost:8080/"
        },
        "id": "Vr29Jhx3IdDG",
        "outputId": "1b5ada14-0cab-4ff0-cdb4-7133686acb48"
      },
      "execution_count": 35,
      "outputs": [
        {
          "output_type": "stream",
          "name": "stdout",
          "text": [
            "sampling strategies & f1 scores: [('110%:', 0.9699234285035913), ('120%:', 0.9702108702108702), ('130%:', 0.9701164448669202), ('140%:', 0.9699651890838671), ('150%:', 0.9701108436599208)]\n"
          ]
        }
      ]
    },
    {
      "cell_type": "markdown",
      "source": [
        "It turns out that oversampling the minorty class by 150% is still our best route. Let's examine its feature importances and compare them to our PCA's less_explanatory_loadings_sums variable in order to make a more informed decision on which columns to drop."
      ],
      "metadata": {
        "id": "tOZ0GOoAK7Zg"
      }
    },
    {
      "cell_type": "code",
      "source": [
        "#reestablishing the best random forest model (150% oversampled minority target class data)\n",
        "oversample = RandomOverSampler(random_state=210, sampling_strategy={0:76322, 1:656936})\n",
        "X_train_nonstandardized_over, y_train_over = oversample.fit_resample(X_train_nonstandardized, y_train)\n",
        "final_forest_model = RandomForestClassifier(criterion='entropy',\n",
        "                                            max_depth=None,\n",
        "                                            min_samples_split=10,\n",
        "                                            n_estimators=10)\n",
        "final_forest_model.fit(X_train_nonstandardized_over, y_train_over)\n",
        "\n",
        "#gathering its feature importances\n",
        "forest_feature_importances = final_forest_model.feature_importances_\n",
        "forest_feature_importances"
      ],
      "metadata": {
        "colab": {
          "base_uri": "https://localhost:8080/"
        },
        "id": "BZKbMpHWNCJ8",
        "outputId": "c61a7bc3-f912-4662-de9b-88d68b960588"
      },
      "execution_count": 36,
      "outputs": [
        {
          "output_type": "execute_result",
          "data": {
            "text/plain": [
              "array([3.71025520e-02, 7.06273610e-02, 8.86839439e-02, 1.58081971e-01,\n",
              "       1.55950019e-01, 1.12990233e-01, 2.39605557e-07, 8.68925034e-04,\n",
              "       2.43655480e-02, 2.89274042e-03, 5.72419158e-04, 1.07340714e-03,\n",
              "       4.64600573e-03, 3.74456198e-04, 7.45803276e-04, 1.19321791e-02,\n",
              "       4.01313644e-03, 6.40855857e-03, 2.75806632e-03, 7.18438743e-03,\n",
              "       3.74601456e-03, 3.24378083e-02, 1.43395044e-02, 2.13246228e-02,\n",
              "       1.20358333e-02, 9.29153457e-03, 1.05588943e-02, 9.81046740e-03,\n",
              "       9.97318464e-03, 1.03875287e-02, 1.12429059e-02, 1.00130016e-02,\n",
              "       8.17155452e-04, 2.30628478e-03, 1.75257058e-04, 1.55517197e-03,\n",
              "       6.57099368e-03, 6.74455607e-03, 2.51983916e-04, 1.10944899e-02,\n",
              "       1.23296153e-02, 2.37861030e-03, 3.18867221e-03, 1.18660158e-02,\n",
              "       3.28352944e-03, 2.59996471e-03, 1.17320830e-02, 6.85244843e-03,\n",
              "       2.80145568e-03, 2.48788590e-03, 5.76369403e-04, 1.30900066e-03,\n",
              "       1.73636851e-03, 9.03836463e-04, 1.09075066e-03, 9.59501086e-04,\n",
              "       1.94974747e-02, 8.14652557e-04, 3.51589843e-03, 8.29732003e-03,\n",
              "       8.32063006e-04, 3.62251415e-04, 4.42742850e-04, 5.63797742e-03,\n",
              "       1.75376451e-03, 7.90554396e-03, 3.87818115e-03, 3.59605989e-03,\n",
              "       1.42081815e-03])"
            ]
          },
          "metadata": {},
          "execution_count": 36
        }
      ]
    },
    {
      "cell_type": "code",
      "source": [
        "fi_rounded = np.around(forest_feature_importances, decimals=3)\n",
        "fi_series = pd.Series(fi_rounded, index=X_train_nonstandardized.columns).sort_values(key=abs)\n",
        "fi_series"
      ],
      "metadata": {
        "colab": {
          "base_uri": "https://localhost:8080/"
        },
        "id": "7BNH_AKNPBSP",
        "outputId": "2995ac00-83d9-4139-f82c-d55aca69b3cb"
      },
      "execution_count": 37,
      "outputs": [
        {
          "output_type": "execute_result",
          "data": {
            "text/plain": [
              "PERSON_TYPE_NON-CONTACT VEHICLE               0.000\n",
              "MANEUVER_SLOW/STOP - RIGHT TURN               0.000\n",
              "MANEUVER_SLOW/STOP - LOAD/UNLOAD              0.000\n",
              "WEATHER_CONDITION_BLOWING SAND, SOIL, DIRT    0.000\n",
              "SEX_X                                         0.000\n",
              "                                              ...  \n",
              "NUM_UNITS                                     0.071\n",
              "CRASH_HOUR                                    0.089\n",
              "AGE                                           0.113\n",
              "LONGITUDE                                     0.156\n",
              "LATITUDE                                      0.158\n",
              "Length: 69, dtype: float64"
            ]
          },
          "metadata": {},
          "execution_count": 37
        }
      ]
    },
    {
      "cell_type": "markdown",
      "source": [
        "Let's get a resfresher on how the PCA evr/loadings looked - below we note how they seem to be working on a different scale because they're the sum of 21 rows-worth of loadings."
      ],
      "metadata": {
        "id": "NouXmty8GSVK"
      }
    },
    {
      "cell_type": "code",
      "source": [
        "loadings_sums"
      ],
      "metadata": {
        "colab": {
          "base_uri": "https://localhost:8080/"
        },
        "id": "r3YwaUvPGgBI",
        "outputId": "d2d37fc7-584b-410d-ae8d-ae3e2a457376"
      },
      "execution_count": 38,
      "outputs": [
        {
          "output_type": "execute_result",
          "data": {
            "text/plain": [
              "PERSON_TYPE_NON-CONTACT VEHICLE               0.000\n",
              "WEATHER_CONDITION_SEVERE CROSS WIND GATE      0.000\n",
              "WEATHER_CONDITION_BLOWING SAND, SOIL, DIRT    0.000\n",
              "SEX_X                                         0.000\n",
              "MANEUVER_PARKED IN TRAFFIC LANE              -0.001\n",
              "                                              ...  \n",
              "TRAVEL_DIRECTION_S                           -1.179\n",
              "TRAVEL_DIRECTION_E                            1.202\n",
              "LIGHTING_CONDITION_DAYLIGHT                  -1.304\n",
              "NUM_UNITS                                     1.796\n",
              "CRASH_DAY_OF_WEEK_3                          -2.040\n",
              "Length: 69, dtype: float64"
            ]
          },
          "metadata": {},
          "execution_count": 38
        }
      ]
    },
    {
      "cell_type": "markdown",
      "source": [
        "Subsequently, let's scale them down to their average by dividing them by 21 before comparing them to the random forest's feature importances."
      ],
      "metadata": {
        "id": "Vuaol0STGgnb"
      }
    },
    {
      "cell_type": "code",
      "source": [
        "loadings_sums_scaled = loadings_sums/21\n",
        "loadings_sums_scaled"
      ],
      "metadata": {
        "colab": {
          "base_uri": "https://localhost:8080/"
        },
        "id": "H33aaPMbVfxI",
        "outputId": "6e9aee14-bdf9-4aea-cda7-b1143c1bd7a2"
      },
      "execution_count": 39,
      "outputs": [
        {
          "output_type": "execute_result",
          "data": {
            "text/plain": [
              "PERSON_TYPE_NON-CONTACT VEHICLE               0.000000\n",
              "WEATHER_CONDITION_SEVERE CROSS WIND GATE      0.000000\n",
              "WEATHER_CONDITION_BLOWING SAND, SOIL, DIRT    0.000000\n",
              "SEX_X                                         0.000000\n",
              "MANEUVER_PARKED IN TRAFFIC LANE              -0.000048\n",
              "                                                ...   \n",
              "TRAVEL_DIRECTION_S                           -0.056143\n",
              "TRAVEL_DIRECTION_E                            0.057238\n",
              "LIGHTING_CONDITION_DAYLIGHT                  -0.062095\n",
              "NUM_UNITS                                     0.085524\n",
              "CRASH_DAY_OF_WEEK_3                          -0.097143\n",
              "Length: 69, dtype: float64"
            ]
          },
          "metadata": {},
          "execution_count": 39
        }
      ]
    },
    {
      "cell_type": "markdown",
      "source": [
        "Now we can visualize these alongside the PCA loadings to get a better handle on how they compare."
      ],
      "metadata": {
        "id": "47AGBT55TKLZ"
      }
    },
    {
      "cell_type": "code",
      "source": [
        "fig, ax = plt.subplots(figsize=(8,20))\n",
        "ax.barh(loadings_sums_scaled.index, loadings_sums_scaled.values, label='PCA features')\n",
        "ax.barh(fi_series.index, fi_series.values, label='random forest features')\n",
        "plt.legend();"
      ],
      "metadata": {
        "id": "G4vA3oIDTmA3",
        "colab": {
          "base_uri": "https://localhost:8080/",
          "height": 1000
        },
        "outputId": "4969d7ca-2b72-48cb-b966-103f49b7e895"
      },
      "execution_count": 40,
      "outputs": [
        {
          "output_type": "display_data",
          "data": {
            "text/plain": [
              "<Figure size 800x2000 with 1 Axes>"
            ],
            "image/png": "[encoded data removed]"
          },
          "metadata": {}
        }
      ]
    },
    {
      "cell_type": "markdown",
      "source": [
        "PCA loadings and random forest features certainly show different perspectives on a lot of these columns. Generally speaking, though, they tend to agree on a *lot* of columns that don't seem to contribute much to variance or our target. Specifically, it appears that any columns at or below 'PERSON_TYPE_DRIVER' can be dropped, but we'll keep 'MANEUVER_SKIDDING/CONTROL LOSS' and 'MANEUVER_AVODING VEHICLES/OBJECTS' since the random forest is attributing some significance to them."
      ],
      "metadata": {
        "id": "I9x5hl6JG65i"
      }
    },
    {
      "cell_type": "code",
      "source": [
        "preliminary_columns_to_drop = ['PERSON_TYPE_DRIVER', 'TRAVEL_DIRECTION_NW', 'TRAVEL_DIRECTION_NE', 'TRAVEL_DIRECTION_SW', 'MANEUVER_ENTERING TRAFFIC LANE FROM PARKING',\n",
        "                               'PERSON_TYPE_PEDESTRIAN', 'MANEUVER_MERGING', 'PERSON_TYPE_BICYCLE', 'MANEUVER_STARTING IN TRAFFIC', 'MANEUVER_U-TURN',\n",
        "                               'WEATHER_CONDITION_SLEET/HAIL', 'WEATHER_CONDITION_FREEZING RAIN/DRIZZLE', 'MANEUVER_ENTER FROM DRIVE/ALLEY',\n",
        "                               'WEATHER_CONDITION_FOG/SMOKE/HAZE', 'WEATHER_CONDITION_BLOWING SNOW', 'MANEUVER_LEAVING TRAFFIC LANE TO PARK',\n",
        "                               'MANEUVER_SLOW/STOP - LEFT TURN', 'MANEUVER_SLOW/STOP - RIGHT TURN', 'MANEUVER_DRIVING WRONG WAY', 'MANEUVER_SLOW/STOP - LOAD/UNLOAD',\n",
        "                               'MANEUVER_NEGOTIATING A CURVE', 'MANEUVER_PARKED IN TRAFFIC LANE', 'SEX_X', 'WEATHER_CONDITION_BLOWING SAND, SOIL, DIRT',\n",
        "                               'WEATHER_CONDITION_SEVERE CROSS WIND GATE', 'PERSON_TYPE_NON-CONTACT VEHICLE']"
      ],
      "metadata": {
        "id": "ovgqpdqv-vSI"
      },
      "execution_count": 41,
      "outputs": []
    },
    {
      "cell_type": "markdown",
      "source": [
        "Now that we know which columns to run our white-box models with, we can drop them from our training data. Since we'll employ a Logistic Regression model and an individual decision tree model next, we'll actually need to drop these columns from the two training data sets. Both have the categorical variables one-hot encoded, but one has standardized numeric data (important for the Logit model) while the other's is not standardized (meant for the decision tree)."
      ],
      "metadata": {
        "id": "hZnHEbORkIWB"
      }
    },
    {
      "cell_type": "code",
      "source": [
        "X_train_trimmed_and_stnd = X_train_preprocessed.drop(preliminary_columns_to_drop, axis=1)\n",
        "X_train_trimmed_and_stnd.info()"
      ],
      "metadata": {
        "colab": {
          "base_uri": "https://localhost:8080/"
        },
        "id": "zZMWf8_HS_z0",
        "outputId": "ecb7ce1a-f571-4215-c885-32deb2152760"
      },
      "execution_count": 42,
      "outputs": [
        {
          "output_type": "stream",
          "name": "stdout",
          "text": [
            "<class 'pandas.core.frame.DataFrame'>\n",
            "Index: 707817 entries, 571273 to 303626\n",
            "Data columns (total 43 columns):\n",
            " #   Column                                     Non-Null Count   Dtype  \n",
            "---  ------                                     --------------   -----  \n",
            " 0   POSTED_SPEED_LIMIT                         707817 non-null  float64\n",
            " 1   NUM_UNITS                                  707817 non-null  float64\n",
            " 2   CRASH_HOUR                                 707817 non-null  float64\n",
            " 3   LATITUDE                                   707817 non-null  float64\n",
            " 4   LONGITUDE                                  707817 non-null  float64\n",
            " 5   AGE                                        707817 non-null  float64\n",
            " 6   WEATHER_CONDITION_CLEAR                    707817 non-null  float64\n",
            " 7   WEATHER_CONDITION_CLOUDY/OVERCAST          707817 non-null  float64\n",
            " 8   WEATHER_CONDITION_RAIN                     707817 non-null  float64\n",
            " 9   WEATHER_CONDITION_SNOW                     707817 non-null  float64\n",
            " 10  LIGHTING_CONDITION_DARKNESS                707817 non-null  float64\n",
            " 11  LIGHTING_CONDITION_DARKNESS, LIGHTED ROAD  707817 non-null  float64\n",
            " 12  LIGHTING_CONDITION_DAWN                    707817 non-null  float64\n",
            " 13  LIGHTING_CONDITION_DAYLIGHT                707817 non-null  float64\n",
            " 14  LIGHTING_CONDITION_DUSK                    707817 non-null  float64\n",
            " 15  ROADWAY_SURFACE_COND_DRY                   707817 non-null  float64\n",
            " 16  ROADWAY_SURFACE_COND_ICE                   707817 non-null  float64\n",
            " 17  ROADWAY_SURFACE_COND_SNOW OR SLUSH         707817 non-null  float64\n",
            " 18  ROADWAY_SURFACE_COND_WET                   707817 non-null  float64\n",
            " 19  CRASH_DAY_OF_WEEK_1                        707817 non-null  float64\n",
            " 20  CRASH_DAY_OF_WEEK_2                        707817 non-null  float64\n",
            " 21  CRASH_DAY_OF_WEEK_3                        707817 non-null  float64\n",
            " 22  CRASH_DAY_OF_WEEK_4                        707817 non-null  float64\n",
            " 23  CRASH_DAY_OF_WEEK_5                        707817 non-null  float64\n",
            " 24  CRASH_DAY_OF_WEEK_6                        707817 non-null  float64\n",
            " 25  CRASH_DAY_OF_WEEK_7                        707817 non-null  float64\n",
            " 26  SEX_F                                      707817 non-null  float64\n",
            " 27  SEX_M                                      707817 non-null  float64\n",
            " 28  TRAVEL_DIRECTION_E                         707817 non-null  float64\n",
            " 29  TRAVEL_DIRECTION_N                         707817 non-null  float64\n",
            " 30  TRAVEL_DIRECTION_S                         707817 non-null  float64\n",
            " 31  TRAVEL_DIRECTION_SE                        707817 non-null  float64\n",
            " 32  TRAVEL_DIRECTION_W                         707817 non-null  float64\n",
            " 33  MANEUVER_AVOIDING VEHICLES/OBJECTS         707817 non-null  float64\n",
            " 34  MANEUVER_BACKING                           707817 non-null  float64\n",
            " 35  MANEUVER_CHANGING LANES                    707817 non-null  float64\n",
            " 36  MANEUVER_PARKED                            707817 non-null  float64\n",
            " 37  MANEUVER_PASSING/OVERTAKING                707817 non-null  float64\n",
            " 38  MANEUVER_SKIDDING/CONTROL LOSS             707817 non-null  float64\n",
            " 39  MANEUVER_SLOW/STOP IN TRAFFIC              707817 non-null  float64\n",
            " 40  MANEUVER_STRAIGHT AHEAD                    707817 non-null  float64\n",
            " 41  MANEUVER_TURNING LEFT                      707817 non-null  float64\n",
            " 42  MANEUVER_TURNING RIGHT                     707817 non-null  float64\n",
            "dtypes: float64(43)\n",
            "memory usage: 237.6 MB\n"
          ]
        }
      ]
    },
    {
      "cell_type": "code",
      "source": [
        "X_train_timmed_and_non_stnd = X_train_nonstandardized.drop(preliminary_columns_to_drop, axis=1)\n",
        "X_train_timmed_and_non_stnd.info()"
      ],
      "metadata": {
        "colab": {
          "base_uri": "https://localhost:8080/"
        },
        "id": "TgKJeyB1mbGs",
        "outputId": "e667dffb-2f76-45b0-f535-27a7a93f0449"
      },
      "execution_count": 43,
      "outputs": [
        {
          "output_type": "stream",
          "name": "stdout",
          "text": [
            "<class 'pandas.core.frame.DataFrame'>\n",
            "Index: 707817 entries, 571273 to 303626\n",
            "Data columns (total 43 columns):\n",
            " #   Column                                     Non-Null Count   Dtype  \n",
            "---  ------                                     --------------   -----  \n",
            " 0   POSTED_SPEED_LIMIT                         707817 non-null  int64  \n",
            " 1   NUM_UNITS                                  707817 non-null  int64  \n",
            " 2   CRASH_HOUR                                 707817 non-null  int64  \n",
            " 3   LATITUDE                                   707817 non-null  float64\n",
            " 4   LONGITUDE                                  707817 non-null  float64\n",
            " 5   AGE                                        707817 non-null  int64  \n",
            " 6   WEATHER_CONDITION_CLEAR                    707817 non-null  float64\n",
            " 7   WEATHER_CONDITION_CLOUDY/OVERCAST          707817 non-null  float64\n",
            " 8   WEATHER_CONDITION_RAIN                     707817 non-null  float64\n",
            " 9   WEATHER_CONDITION_SNOW                     707817 non-null  float64\n",
            " 10  LIGHTING_CONDITION_DARKNESS                707817 non-null  float64\n",
            " 11  LIGHTING_CONDITION_DARKNESS, LIGHTED ROAD  707817 non-null  float64\n",
            " 12  LIGHTING_CONDITION_DAWN                    707817 non-null  float64\n",
            " 13  LIGHTING_CONDITION_DAYLIGHT                707817 non-null  float64\n",
            " 14  LIGHTING_CONDITION_DUSK                    707817 non-null  float64\n",
            " 15  ROADWAY_SURFACE_COND_DRY                   707817 non-null  float64\n",
            " 16  ROADWAY_SURFACE_COND_ICE                   707817 non-null  float64\n",
            " 17  ROADWAY_SURFACE_COND_SNOW OR SLUSH         707817 non-null  float64\n",
            " 18  ROADWAY_SURFACE_COND_WET                   707817 non-null  float64\n",
            " 19  CRASH_DAY_OF_WEEK_1                        707817 non-null  float64\n",
            " 20  CRASH_DAY_OF_WEEK_2                        707817 non-null  float64\n",
            " 21  CRASH_DAY_OF_WEEK_3                        707817 non-null  float64\n",
            " 22  CRASH_DAY_OF_WEEK_4                        707817 non-null  float64\n",
            " 23  CRASH_DAY_OF_WEEK_5                        707817 non-null  float64\n",
            " 24  CRASH_DAY_OF_WEEK_6                        707817 non-null  float64\n",
            " 25  CRASH_DAY_OF_WEEK_7                        707817 non-null  float64\n",
            " 26  SEX_F                                      707817 non-null  float64\n",
            " 27  SEX_M                                      707817 non-null  float64\n",
            " 28  TRAVEL_DIRECTION_E                         707817 non-null  float64\n",
            " 29  TRAVEL_DIRECTION_N                         707817 non-null  float64\n",
            " 30  TRAVEL_DIRECTION_S                         707817 non-null  float64\n",
            " 31  TRAVEL_DIRECTION_SE                        707817 non-null  float64\n",
            " 32  TRAVEL_DIRECTION_W                         707817 non-null  float64\n",
            " 33  MANEUVER_AVOIDING VEHICLES/OBJECTS         707817 non-null  float64\n",
            " 34  MANEUVER_BACKING                           707817 non-null  float64\n",
            " 35  MANEUVER_CHANGING LANES                    707817 non-null  float64\n",
            " 36  MANEUVER_PARKED                            707817 non-null  float64\n",
            " 37  MANEUVER_PASSING/OVERTAKING                707817 non-null  float64\n",
            " 38  MANEUVER_SKIDDING/CONTROL LOSS             707817 non-null  float64\n",
            " 39  MANEUVER_SLOW/STOP IN TRAFFIC              707817 non-null  float64\n",
            " 40  MANEUVER_STRAIGHT AHEAD                    707817 non-null  float64\n",
            " 41  MANEUVER_TURNING LEFT                      707817 non-null  float64\n",
            " 42  MANEUVER_TURNING RIGHT                     707817 non-null  float64\n",
            "dtypes: float64(39), int64(4)\n",
            "memory usage: 237.6 MB\n"
          ]
        }
      ]
    },
    {
      "cell_type": "markdown",
      "source": [
        "# white-box predictive modeling\n",
        "\n",
        "With an long process of column-trimming complete by way of domain knowledge (in the data engineering notebook) and through modeling (above), we can now fit our trimmed-down columns to two white-box models that will hopefully make sound predictions while remaining relatively simple to interpret for the non-technical stakeholder.\n",
        "\n",
        "First, we'll run a StatsModels Logitistic Regression to see the statistical significance of each column."
      ],
      "metadata": {
        "id": "Ef_G-M6Ymlhx"
      }
    },
    {
      "cell_type": "code",
      "source": [
        "import statsmodels.api as sm\n",
        "#adding the constant to X_train\n",
        "X = sm.add_constant(X_train_trimmed_and_stnd)\n",
        "#instantiating & fitting the Logit model\n",
        "logit_model = sm.Logit(y_train.astype(float), X.astype(float))\n",
        "baseline_result = logit_model.fit(maxiter=3500)\n",
        "#checking the results\n",
        "baseline_result.summary()"
      ],
      "metadata": {
        "colab": {
          "base_uri": "https://localhost:8080/",
          "height": 1000
        },
        "id": "y5DUg7Ctmish",
        "outputId": "0bb081d6-da60-4014-b4c5-d95e6f932e8f"
      },
      "execution_count": 44,
      "outputs": [
        {
          "output_type": "stream",
          "name": "stdout",
          "text": [
            "Optimization terminated successfully.\n",
            "         Current function value: 0.228359\n",
            "         Iterations 8\n"
          ]
        },
        {
          "output_type": "execute_result",
          "data": {
            "text/plain": [
              "<class 'statsmodels.iolib.summary.Summary'>\n",
              "\"\"\"\n",
              "                           Logit Regression Results                           \n",
              "==============================================================================\n",
              "Dep. Variable:                 TARGET   No. Observations:               707817\n",
              "Model:                          Logit   Df Residuals:                   707776\n",
              "Method:                           MLE   Df Model:                           40\n",
              "Date:                Sat, 18 May 2024   Pseudo R-squ.:                  0.1166\n",
              "Time:                        01:38:45   Log-Likelihood:            -1.6164e+05\n",
              "converged:                       True   LL-Null:                   -1.8296e+05\n",
              "Covariance Type:            nonrobust   LLR p-value:                     0.000\n",
              "=============================================================================================================\n",
              "                                                coef    std err          z      P>|z|      [0.025      0.975]\n",
              "-------------------------------------------------------------------------------------------------------------\n",
              "const                                         0.8283        nan        nan        nan         nan         nan\n",
              "POSTED_SPEED_LIMIT                        -1.363e-06      0.005     -0.000      1.000      -0.010       0.010\n",
              "NUM_UNITS                                    -0.0027      0.004     -0.630      0.529      -0.011       0.006\n",
              "CRASH_HOUR                                    0.1007      0.005     21.366      0.000       0.091       0.110\n",
              "LATITUDE                                      0.3511      0.026     13.455      0.000       0.300       0.402\n",
              "LONGITUDE                                     0.3514      0.027     13.230      0.000       0.299       0.403\n",
              "AGE                                          -0.0318      0.005     -6.494      0.000      -0.041      -0.022\n",
              "WEATHER_CONDITION_CLEAR                       0.9363      0.040     23.172      0.000       0.857       1.016\n",
              "WEATHER_CONDITION_CLOUDY/OVERCAST             0.7683      0.046     16.586      0.000       0.677       0.859\n",
              "WEATHER_CONDITION_RAIN                        0.1893      0.040      4.699      0.000       0.110       0.268\n",
              "WEATHER_CONDITION_SNOW                        0.0055      0.041      0.134      0.893      -0.075       0.086\n",
              "LIGHTING_CONDITION_DARKNESS                   0.2270        nan        nan        nan         nan         nan\n",
              "LIGHTING_CONDITION_DARKNESS, LIGHTED ROAD     0.1426        nan        nan        nan         nan         nan\n",
              "LIGHTING_CONDITION_DAWN                       0.0291        nan        nan        nan         nan         nan\n",
              "LIGHTING_CONDITION_DAYLIGHT                   0.2349        nan        nan        nan         nan         nan\n",
              "LIGHTING_CONDITION_DUSK                       0.1947        nan        nan        nan         nan         nan\n",
              "ROADWAY_SURFACE_COND_DRY                      1.2492   5.38e+04   2.32e-05      1.000   -1.05e+05    1.05e+05\n",
              "ROADWAY_SURFACE_COND_ICE                     -1.2347   5.37e+04   -2.3e-05      1.000   -1.05e+05    1.05e+05\n",
              "ROADWAY_SURFACE_COND_SNOW OR SLUSH           -0.0545   5.38e+04  -1.01e-06      1.000   -1.05e+05    1.05e+05\n",
              "ROADWAY_SURFACE_COND_WET                      0.8683   5.39e+04   1.61e-05      1.000   -1.06e+05    1.06e+05\n",
              "CRASH_DAY_OF_WEEK_1                           0.1406        nan        nan        nan         nan         nan\n",
              "CRASH_DAY_OF_WEEK_2                           0.0963        nan        nan        nan         nan         nan\n",
              "CRASH_DAY_OF_WEEK_3                           0.0901        nan        nan        nan         nan         nan\n",
              "CRASH_DAY_OF_WEEK_4                           0.1168        nan        nan        nan         nan         nan\n",
              "CRASH_DAY_OF_WEEK_5                           0.1397        nan        nan        nan         nan         nan\n",
              "CRASH_DAY_OF_WEEK_6                           0.0971        nan        nan        nan         nan         nan\n",
              "CRASH_DAY_OF_WEEK_7                           0.1478        nan        nan        nan         nan         nan\n",
              "SEX_F                                         0.0371      0.166      0.223      0.824      -0.289       0.363\n",
              "SEX_M                                        -0.0925      0.166     -0.557      0.578      -0.418       0.233\n",
              "TRAVEL_DIRECTION_E                            0.0440      0.029      1.533      0.125      -0.012       0.100\n",
              "TRAVEL_DIRECTION_N                            0.0214      0.029      0.748      0.454      -0.035       0.077\n",
              "TRAVEL_DIRECTION_S                           -0.0207      0.028     -0.725      0.469      -0.077       0.035\n",
              "TRAVEL_DIRECTION_SE                          -0.0846      0.047     -1.801      0.072      -0.177       0.007\n",
              "TRAVEL_DIRECTION_W                            0.0698      0.029      2.428      0.015       0.013       0.126\n",
              "MANEUVER_AVOIDING VEHICLES/OBJECTS           -2.1814      0.045    -48.064      0.000      -2.270      -2.092\n",
              "MANEUVER_BACKING                              0.0504      0.040      1.254      0.210      -0.028       0.129\n",
              "MANEUVER_CHANGING LANES                       0.8873      0.060     14.678      0.000       0.769       1.006\n",
              "MANEUVER_PARKED                              -1.4617      0.029    -50.976      0.000      -1.518      -1.405\n",
              "MANEUVER_PASSING/OVERTAKING                   1.0471      0.057     18.409      0.000       0.936       1.159\n",
              "MANEUVER_SKIDDING/CONTROL LOSS               -2.0755      0.044    -46.891      0.000      -2.162      -1.989\n",
              "MANEUVER_SLOW/STOP IN TRAFFIC                -0.4226      0.027    -15.502      0.000      -0.476      -0.369\n",
              "MANEUVER_STRAIGHT AHEAD                      -0.2713      0.024    -11.250      0.000      -0.319      -0.224\n",
              "MANEUVER_TURNING LEFT                         0.0837      0.030      2.748      0.006       0.024       0.143\n",
              "MANEUVER_TURNING RIGHT                       -0.1012      0.035     -2.865      0.004      -0.170      -0.032\n",
              "=============================================================================================================\n",
              "\"\"\""
            ],
            "text/html": [
              "<table class=\"simpletable\">\n",
              "<caption>Logit Regression Results</caption>\n",
              "<tr>\n",
              "  <th>Dep. Variable:</th>        <td>TARGET</td>      <th>  No. Observations:  </th>   <td>707817</td>   \n",
              "</tr>\n",
              "<tr>\n",
              "  <th>Model:</th>                 <td>Logit</td>      <th>  Df Residuals:      </th>   <td>707776</td>   \n",
              "</tr>\n",
              "<tr>\n",
              "  <th>Method:</th>                 <td>MLE</td>       <th>  Df Model:          </th>   <td>    40</td>   \n",
              "</tr>\n",
              "<tr>\n",
              "  <th>Date:</th>            <td>Sat, 18 May 2024</td> <th>  Pseudo R-squ.:     </th>   <td>0.1166</td>   \n",
              "</tr>\n",
              "<tr>\n",
              "  <th>Time:</th>                <td>01:38:45</td>     <th>  Log-Likelihood:    </th> <td>-1.6164e+05</td>\n",
              "</tr>\n",
              "<tr>\n",
              "  <th>converged:</th>             <td>True</td>       <th>  LL-Null:           </th> <td>-1.8296e+05</td>\n",
              "</tr>\n",
              "<tr>\n",
              "  <th>Covariance Type:</th>     <td>nonrobust</td>    <th>  LLR p-value:       </th>   <td> 0.000</td>   \n",
              "</tr>\n",
              "</table>\n",
              "<table class=\"simpletable\">\n",
              "<tr>\n",
              "                      <td></td>                         <th>coef</th>     <th>std err</th>      <th>z</th>      <th>P>|z|</th>  <th>[0.025</th>    <th>0.975]</th>  \n",
              "</tr>\n",
              "<tr>\n",
              "  <th>const</th>                                     <td>    0.8283</td> <td>      nan</td> <td>      nan</td> <td>   nan</td> <td>      nan</td> <td>      nan</td>\n",
              "</tr>\n",
              "<tr>\n",
              "  <th>POSTED_SPEED_LIMIT</th>                        <td>-1.363e-06</td> <td>    0.005</td> <td>   -0.000</td> <td> 1.000</td> <td>   -0.010</td> <td>    0.010</td>\n",
              "</tr>\n",
              "<tr>\n",
              "  <th>NUM_UNITS</th>                                 <td>   -0.0027</td> <td>    0.004</td> <td>   -0.630</td> <td> 0.529</td> <td>   -0.011</td> <td>    0.006</td>\n",
              "</tr>\n",
              "<tr>\n",
              "  <th>CRASH_HOUR</th>                                <td>    0.1007</td> <td>    0.005</td> <td>   21.366</td> <td> 0.000</td> <td>    0.091</td> <td>    0.110</td>\n",
              "</tr>\n",
              "<tr>\n",
              "  <th>LATITUDE</th>                                  <td>    0.3511</td> <td>    0.026</td> <td>   13.455</td> <td> 0.000</td> <td>    0.300</td> <td>    0.402</td>\n",
              "</tr>\n",
              "<tr>\n",
              "  <th>LONGITUDE</th>                                 <td>    0.3514</td> <td>    0.027</td> <td>   13.230</td> <td> 0.000</td> <td>    0.299</td> <td>    0.403</td>\n",
              "</tr>\n",
              "<tr>\n",
              "  <th>AGE</th>                                       <td>   -0.0318</td> <td>    0.005</td> <td>   -6.494</td> <td> 0.000</td> <td>   -0.041</td> <td>   -0.022</td>\n",
              "</tr>\n",
              "<tr>\n",
              "  <th>WEATHER_CONDITION_CLEAR</th>                   <td>    0.9363</td> <td>    0.040</td> <td>   23.172</td> <td> 0.000</td> <td>    0.857</td> <td>    1.016</td>\n",
              "</tr>\n",
              "<tr>\n",
              "  <th>WEATHER_CONDITION_CLOUDY/OVERCAST</th>         <td>    0.7683</td> <td>    0.046</td> <td>   16.586</td> <td> 0.000</td> <td>    0.677</td> <td>    0.859</td>\n",
              "</tr>\n",
              "<tr>\n",
              "  <th>WEATHER_CONDITION_RAIN</th>                    <td>    0.1893</td> <td>    0.040</td> <td>    4.699</td> <td> 0.000</td> <td>    0.110</td> <td>    0.268</td>\n",
              "</tr>\n",
              "<tr>\n",
              "  <th>WEATHER_CONDITION_SNOW</th>                    <td>    0.0055</td> <td>    0.041</td> <td>    0.134</td> <td> 0.893</td> <td>   -0.075</td> <td>    0.086</td>\n",
              "</tr>\n",
              "<tr>\n",
              "  <th>LIGHTING_CONDITION_DARKNESS</th>               <td>    0.2270</td> <td>      nan</td> <td>      nan</td> <td>   nan</td> <td>      nan</td> <td>      nan</td>\n",
              "</tr>\n",
              "<tr>\n",
              "  <th>LIGHTING_CONDITION_DARKNESS, LIGHTED ROAD</th> <td>    0.1426</td> <td>      nan</td> <td>      nan</td> <td>   nan</td> <td>      nan</td> <td>      nan</td>\n",
              "</tr>\n",
              "<tr>\n",
              "  <th>LIGHTING_CONDITION_DAWN</th>                   <td>    0.0291</td> <td>      nan</td> <td>      nan</td> <td>   nan</td> <td>      nan</td> <td>      nan</td>\n",
              "</tr>\n",
              "<tr>\n",
              "  <th>LIGHTING_CONDITION_DAYLIGHT</th>               <td>    0.2349</td> <td>      nan</td> <td>      nan</td> <td>   nan</td> <td>      nan</td> <td>      nan</td>\n",
              "</tr>\n",
              "<tr>\n",
              "  <th>LIGHTING_CONDITION_DUSK</th>                   <td>    0.1947</td> <td>      nan</td> <td>      nan</td> <td>   nan</td> <td>      nan</td> <td>      nan</td>\n",
              "</tr>\n",
              "<tr>\n",
              "  <th>ROADWAY_SURFACE_COND_DRY</th>                  <td>    1.2492</td> <td> 5.38e+04</td> <td> 2.32e-05</td> <td> 1.000</td> <td>-1.05e+05</td> <td> 1.05e+05</td>\n",
              "</tr>\n",
              "<tr>\n",
              "  <th>ROADWAY_SURFACE_COND_ICE</th>                  <td>   -1.2347</td> <td> 5.37e+04</td> <td> -2.3e-05</td> <td> 1.000</td> <td>-1.05e+05</td> <td> 1.05e+05</td>\n",
              "</tr>\n",
              "<tr>\n",
              "  <th>ROADWAY_SURFACE_COND_SNOW OR SLUSH</th>        <td>   -0.0545</td> <td> 5.38e+04</td> <td>-1.01e-06</td> <td> 1.000</td> <td>-1.05e+05</td> <td> 1.05e+05</td>\n",
              "</tr>\n",
              "<tr>\n",
              "  <th>ROADWAY_SURFACE_COND_WET</th>                  <td>    0.8683</td> <td> 5.39e+04</td> <td> 1.61e-05</td> <td> 1.000</td> <td>-1.06e+05</td> <td> 1.06e+05</td>\n",
              "</tr>\n",
              "<tr>\n",
              "  <th>CRASH_DAY_OF_WEEK_1</th>                       <td>    0.1406</td> <td>      nan</td> <td>      nan</td> <td>   nan</td> <td>      nan</td> <td>      nan</td>\n",
              "</tr>\n",
              "<tr>\n",
              "  <th>CRASH_DAY_OF_WEEK_2</th>                       <td>    0.0963</td> <td>      nan</td> <td>      nan</td> <td>   nan</td> <td>      nan</td> <td>      nan</td>\n",
              "</tr>\n",
              "<tr>\n",
              "  <th>CRASH_DAY_OF_WEEK_3</th>                       <td>    0.0901</td> <td>      nan</td> <td>      nan</td> <td>   nan</td> <td>      nan</td> <td>      nan</td>\n",
              "</tr>\n",
              "<tr>\n",
              "  <th>CRASH_DAY_OF_WEEK_4</th>                       <td>    0.1168</td> <td>      nan</td> <td>      nan</td> <td>   nan</td> <td>      nan</td> <td>      nan</td>\n",
              "</tr>\n",
              "<tr>\n",
              "  <th>CRASH_DAY_OF_WEEK_5</th>                       <td>    0.1397</td> <td>      nan</td> <td>      nan</td> <td>   nan</td> <td>      nan</td> <td>      nan</td>\n",
              "</tr>\n",
              "<tr>\n",
              "  <th>CRASH_DAY_OF_WEEK_6</th>                       <td>    0.0971</td> <td>      nan</td> <td>      nan</td> <td>   nan</td> <td>      nan</td> <td>      nan</td>\n",
              "</tr>\n",
              "<tr>\n",
              "  <th>CRASH_DAY_OF_WEEK_7</th>                       <td>    0.1478</td> <td>      nan</td> <td>      nan</td> <td>   nan</td> <td>      nan</td> <td>      nan</td>\n",
              "</tr>\n",
              "<tr>\n",
              "  <th>SEX_F</th>                                     <td>    0.0371</td> <td>    0.166</td> <td>    0.223</td> <td> 0.824</td> <td>   -0.289</td> <td>    0.363</td>\n",
              "</tr>\n",
              "<tr>\n",
              "  <th>SEX_M</th>                                     <td>   -0.0925</td> <td>    0.166</td> <td>   -0.557</td> <td> 0.578</td> <td>   -0.418</td> <td>    0.233</td>\n",
              "</tr>\n",
              "<tr>\n",
              "  <th>TRAVEL_DIRECTION_E</th>                        <td>    0.0440</td> <td>    0.029</td> <td>    1.533</td> <td> 0.125</td> <td>   -0.012</td> <td>    0.100</td>\n",
              "</tr>\n",
              "<tr>\n",
              "  <th>TRAVEL_DIRECTION_N</th>                        <td>    0.0214</td> <td>    0.029</td> <td>    0.748</td> <td> 0.454</td> <td>   -0.035</td> <td>    0.077</td>\n",
              "</tr>\n",
              "<tr>\n",
              "  <th>TRAVEL_DIRECTION_S</th>                        <td>   -0.0207</td> <td>    0.028</td> <td>   -0.725</td> <td> 0.469</td> <td>   -0.077</td> <td>    0.035</td>\n",
              "</tr>\n",
              "<tr>\n",
              "  <th>TRAVEL_DIRECTION_SE</th>                       <td>   -0.0846</td> <td>    0.047</td> <td>   -1.801</td> <td> 0.072</td> <td>   -0.177</td> <td>    0.007</td>\n",
              "</tr>\n",
              "<tr>\n",
              "  <th>TRAVEL_DIRECTION_W</th>                        <td>    0.0698</td> <td>    0.029</td> <td>    2.428</td> <td> 0.015</td> <td>    0.013</td> <td>    0.126</td>\n",
              "</tr>\n",
              "<tr>\n",
              "  <th>MANEUVER_AVOIDING VEHICLES/OBJECTS</th>        <td>   -2.1814</td> <td>    0.045</td> <td>  -48.064</td> <td> 0.000</td> <td>   -2.270</td> <td>   -2.092</td>\n",
              "</tr>\n",
              "<tr>\n",
              "  <th>MANEUVER_BACKING</th>                          <td>    0.0504</td> <td>    0.040</td> <td>    1.254</td> <td> 0.210</td> <td>   -0.028</td> <td>    0.129</td>\n",
              "</tr>\n",
              "<tr>\n",
              "  <th>MANEUVER_CHANGING LANES</th>                   <td>    0.8873</td> <td>    0.060</td> <td>   14.678</td> <td> 0.000</td> <td>    0.769</td> <td>    1.006</td>\n",
              "</tr>\n",
              "<tr>\n",
              "  <th>MANEUVER_PARKED</th>                           <td>   -1.4617</td> <td>    0.029</td> <td>  -50.976</td> <td> 0.000</td> <td>   -1.518</td> <td>   -1.405</td>\n",
              "</tr>\n",
              "<tr>\n",
              "  <th>MANEUVER_PASSING/OVERTAKING</th>               <td>    1.0471</td> <td>    0.057</td> <td>   18.409</td> <td> 0.000</td> <td>    0.936</td> <td>    1.159</td>\n",
              "</tr>\n",
              "<tr>\n",
              "  <th>MANEUVER_SKIDDING/CONTROL LOSS</th>            <td>   -2.0755</td> <td>    0.044</td> <td>  -46.891</td> <td> 0.000</td> <td>   -2.162</td> <td>   -1.989</td>\n",
              "</tr>\n",
              "<tr>\n",
              "  <th>MANEUVER_SLOW/STOP IN TRAFFIC</th>             <td>   -0.4226</td> <td>    0.027</td> <td>  -15.502</td> <td> 0.000</td> <td>   -0.476</td> <td>   -0.369</td>\n",
              "</tr>\n",
              "<tr>\n",
              "  <th>MANEUVER_STRAIGHT AHEAD</th>                   <td>   -0.2713</td> <td>    0.024</td> <td>  -11.250</td> <td> 0.000</td> <td>   -0.319</td> <td>   -0.224</td>\n",
              "</tr>\n",
              "<tr>\n",
              "  <th>MANEUVER_TURNING LEFT</th>                     <td>    0.0837</td> <td>    0.030</td> <td>    2.748</td> <td> 0.006</td> <td>    0.024</td> <td>    0.143</td>\n",
              "</tr>\n",
              "<tr>\n",
              "  <th>MANEUVER_TURNING RIGHT</th>                    <td>   -0.1012</td> <td>    0.035</td> <td>   -2.865</td> <td> 0.004</td> <td>   -0.170</td> <td>   -0.032</td>\n",
              "</tr>\n",
              "</table>"
            ],
            "text/latex": "\\begin{center}\n\\begin{tabular}{lclc}\n\\toprule\n\\textbf{Dep. Variable:}                              &      TARGET      & \\textbf{  No. Observations:  } &    707817    \\\\\n\\textbf{Model:}                                      &      Logit       & \\textbf{  Df Residuals:      } &    707776    \\\\\n\\textbf{Method:}                                     &       MLE        & \\textbf{  Df Model:          } &        40    \\\\\n\\textbf{Date:}                                       & Sat, 18 May 2024 & \\textbf{  Pseudo R-squ.:     } &    0.1166    \\\\\n\\textbf{Time:}                                       &     01:38:45     & \\textbf{  Log-Likelihood:    } & -1.6164e+05  \\\\\n\\textbf{converged:}                                  &       True       & \\textbf{  LL-Null:           } & -1.8296e+05  \\\\\n\\textbf{Covariance Type:}                            &    nonrobust     & \\textbf{  LLR p-value:       } &     0.000    \\\\\n\\bottomrule\n\\end{tabular}\n\\begin{tabular}{lcccccc}\n                                                     & \\textbf{coef} & \\textbf{std err} & \\textbf{z} & \\textbf{P$> |$z$|$} & \\textbf{[0.025} & \\textbf{0.975]}  \\\\\n\\midrule\n\\textbf{const}                                       &       0.8283  &          nan     &       nan  &           nan        &          nan    &          nan     \\\\\n\\textbf{POSTED\\_SPEED\\_LIMIT}                        &   -1.363e-06  &        0.005     &    -0.000  &         1.000        &       -0.010    &        0.010     \\\\\n\\textbf{NUM\\_UNITS}                                  &      -0.0027  &        0.004     &    -0.630  &         0.529        &       -0.011    &        0.006     \\\\\n\\textbf{CRASH\\_HOUR}                                 &       0.1007  &        0.005     &    21.366  &         0.000        &        0.091    &        0.110     \\\\\n\\textbf{LATITUDE}                                    &       0.3511  &        0.026     &    13.455  &         0.000        &        0.300    &        0.402     \\\\\n\\textbf{LONGITUDE}                                   &       0.3514  &        0.027     &    13.230  &         0.000        &        0.299    &        0.403     \\\\\n\\textbf{AGE}                                         &      -0.0318  &        0.005     &    -6.494  &         0.000        &       -0.041    &       -0.022     \\\\\n\\textbf{WEATHER\\_CONDITION\\_CLEAR}                   &       0.9363  &        0.040     &    23.172  &         0.000        &        0.857    &        1.016     \\\\\n\\textbf{WEATHER\\_CONDITION\\_CLOUDY/OVERCAST}         &       0.7683  &        0.046     &    16.586  &         0.000        &        0.677    &        0.859     \\\\\n\\textbf{WEATHER\\_CONDITION\\_RAIN}                    &       0.1893  &        0.040     &     4.699  &         0.000        &        0.110    &        0.268     \\\\\n\\textbf{WEATHER\\_CONDITION\\_SNOW}                    &       0.0055  &        0.041     &     0.134  &         0.893        &       -0.075    &        0.086     \\\\\n\\textbf{LIGHTING\\_CONDITION\\_DARKNESS}               &       0.2270  &          nan     &       nan  &           nan        &          nan    &          nan     \\\\\n\\textbf{LIGHTING\\_CONDITION\\_DARKNESS, LIGHTED ROAD} &       0.1426  &          nan     &       nan  &           nan        &          nan    &          nan     \\\\\n\\textbf{LIGHTING\\_CONDITION\\_DAWN}                   &       0.0291  &          nan     &       nan  &           nan        &          nan    &          nan     \\\\\n\\textbf{LIGHTING\\_CONDITION\\_DAYLIGHT}               &       0.2349  &          nan     &       nan  &           nan        &          nan    &          nan     \\\\\n\\textbf{LIGHTING\\_CONDITION\\_DUSK}                   &       0.1947  &          nan     &       nan  &           nan        &          nan    &          nan     \\\\\n\\textbf{ROADWAY\\_SURFACE\\_COND\\_DRY}                 &       1.2492  &     5.38e+04     &  2.32e-05  &         1.000        &    -1.05e+05    &     1.05e+05     \\\\\n\\textbf{ROADWAY\\_SURFACE\\_COND\\_ICE}                 &      -1.2347  &     5.37e+04     &  -2.3e-05  &         1.000        &    -1.05e+05    &     1.05e+05     \\\\\n\\textbf{ROADWAY\\_SURFACE\\_COND\\_SNOW OR SLUSH}       &      -0.0545  &     5.38e+04     & -1.01e-06  &         1.000        &    -1.05e+05    &     1.05e+05     \\\\\n\\textbf{ROADWAY\\_SURFACE\\_COND\\_WET}                 &       0.8683  &     5.39e+04     &  1.61e-05  &         1.000        &    -1.06e+05    &     1.06e+05     \\\\\n\\textbf{CRASH\\_DAY\\_OF\\_WEEK\\_1}                     &       0.1406  &          nan     &       nan  &           nan        &          nan    &          nan     \\\\\n\\textbf{CRASH\\_DAY\\_OF\\_WEEK\\_2}                     &       0.0963  &          nan     &       nan  &           nan        &          nan    &          nan     \\\\\n\\textbf{CRASH\\_DAY\\_OF\\_WEEK\\_3}                     &       0.0901  &          nan     &       nan  &           nan        &          nan    &          nan     \\\\\n\\textbf{CRASH\\_DAY\\_OF\\_WEEK\\_4}                     &       0.1168  &          nan     &       nan  &           nan        &          nan    &          nan     \\\\\n\\textbf{CRASH\\_DAY\\_OF\\_WEEK\\_5}                     &       0.1397  &          nan     &       nan  &           nan        &          nan    &          nan     \\\\\n\\textbf{CRASH\\_DAY\\_OF\\_WEEK\\_6}                     &       0.0971  &          nan     &       nan  &           nan        &          nan    &          nan     \\\\\n\\textbf{CRASH\\_DAY\\_OF\\_WEEK\\_7}                     &       0.1478  &          nan     &       nan  &           nan        &          nan    &          nan     \\\\\n\\textbf{SEX\\_F}                                      &       0.0371  &        0.166     &     0.223  &         0.824        &       -0.289    &        0.363     \\\\\n\\textbf{SEX\\_M}                                      &      -0.0925  &        0.166     &    -0.557  &         0.578        &       -0.418    &        0.233     \\\\\n\\textbf{TRAVEL\\_DIRECTION\\_E}                        &       0.0440  &        0.029     &     1.533  &         0.125        &       -0.012    &        0.100     \\\\\n\\textbf{TRAVEL\\_DIRECTION\\_N}                        &       0.0214  &        0.029     &     0.748  &         0.454        &       -0.035    &        0.077     \\\\\n\\textbf{TRAVEL\\_DIRECTION\\_S}                        &      -0.0207  &        0.028     &    -0.725  &         0.469        &       -0.077    &        0.035     \\\\\n\\textbf{TRAVEL\\_DIRECTION\\_SE}                       &      -0.0846  &        0.047     &    -1.801  &         0.072        &       -0.177    &        0.007     \\\\\n\\textbf{TRAVEL\\_DIRECTION\\_W}                        &       0.0698  &        0.029     &     2.428  &         0.015        &        0.013    &        0.126     \\\\\n\\textbf{MANEUVER\\_AVOIDING VEHICLES/OBJECTS}         &      -2.1814  &        0.045     &   -48.064  &         0.000        &       -2.270    &       -2.092     \\\\\n\\textbf{MANEUVER\\_BACKING}                           &       0.0504  &        0.040     &     1.254  &         0.210        &       -0.028    &        0.129     \\\\\n\\textbf{MANEUVER\\_CHANGING LANES}                    &       0.8873  &        0.060     &    14.678  &         0.000        &        0.769    &        1.006     \\\\\n\\textbf{MANEUVER\\_PARKED}                            &      -1.4617  &        0.029     &   -50.976  &         0.000        &       -1.518    &       -1.405     \\\\\n\\textbf{MANEUVER\\_PASSING/OVERTAKING}                &       1.0471  &        0.057     &    18.409  &         0.000        &        0.936    &        1.159     \\\\\n\\textbf{MANEUVER\\_SKIDDING/CONTROL LOSS}             &      -2.0755  &        0.044     &   -46.891  &         0.000        &       -2.162    &       -1.989     \\\\\n\\textbf{MANEUVER\\_SLOW/STOP IN TRAFFIC}              &      -0.4226  &        0.027     &   -15.502  &         0.000        &       -0.476    &       -0.369     \\\\\n\\textbf{MANEUVER\\_STRAIGHT AHEAD}                    &      -0.2713  &        0.024     &   -11.250  &         0.000        &       -0.319    &       -0.224     \\\\\n\\textbf{MANEUVER\\_TURNING LEFT}                      &       0.0837  &        0.030     &     2.748  &         0.006        &        0.024    &        0.143     \\\\\n\\textbf{MANEUVER\\_TURNING RIGHT}                     &      -0.1012  &        0.035     &    -2.865  &         0.004        &       -0.170    &       -0.032     \\\\\n\\bottomrule\n\\end{tabular}\n%\\caption{Logit Regression Results}\n\\end{center}"
          },
          "metadata": {},
          "execution_count": 44
        }
      ]
    },
    {
      "cell_type": "markdown",
      "source": [
        "These results are horrendous, but I think a big part of the problem is the fact that a few categorical columns in the dataset - 'ROADWAY_SURFACE_COND', 'LIGHTING_CONDITION', and 'CRASH_DAY_OF_WEEK' - have not had any of their constituent one-hot encoded classes dropped yet, which results in multicollinearity issues. Subsequently, all three of these columns need to have an ohe-class column dropped. The silver lining is that we won't have to do this when we run the decision tree model.\n",
        "\n",
        "In any case, [it's important to carefully consider *which* class to drop](https://towardsdatascience.com/drop-first-can-hurt-your-ols-regression-models-interpretability-4ca529cfb707) and not just arbitrarily drop the first one. Let's take a look at the first column in question:"
      ],
      "metadata": {
        "id": "K_uIOHuTovTy"
      }
    },
    {
      "cell_type": "code",
      "source": [
        "X_train_categorical['ROADWAY_SURFACE_COND'].value_counts()"
      ],
      "metadata": {
        "colab": {
          "base_uri": "https://localhost:8080/"
        },
        "id": "dmlIBc7cx9av",
        "outputId": "60ee56f0-b388-400e-8beb-4851af2fe731"
      },
      "execution_count": 45,
      "outputs": [
        {
          "output_type": "execute_result",
          "data": {
            "text/plain": [
              "ROADWAY_SURFACE_COND\n",
              "DRY              561857\n",
              "WET              113890\n",
              "SNOW OR SLUSH     26159\n",
              "ICE                5911\n",
              "Name: count, dtype: int64"
            ]
          },
          "metadata": {},
          "execution_count": 45
        }
      ]
    },
    {
      "cell_type": "markdown",
      "source": [
        "One one hand, we may think to drop the 'DRY' class because it's a go-to standard driving time that we'd be inclined to compare other, less common weather conditions to. However, dropping 'DRY' rows would also drop almost 80% of our rows, so let's *not* do that.\n",
        "\n",
        "Fortunately, we do have grounds to drop the class with the most average coefficient among the road condition classes, which would be 'SNOW OR SLUSH' and that only results in a row loss of 4% - much more managable. Dropping this class means that we'll need to recognize that the remaining 'ROADWAY_SURFACE_COND' columns reference back to their median class of 'SNOW OR SLUSH'.\n",
        "\n",
        "When looking at the lighting condition classes, we see the following:"
      ],
      "metadata": {
        "id": "ImdtS_HYx9vZ"
      }
    },
    {
      "cell_type": "code",
      "source": [
        "X_train_categorical['LIGHTING_CONDITION'].value_counts()"
      ],
      "metadata": {
        "colab": {
          "base_uri": "https://localhost:8080/"
        },
        "id": "IycFusFWoRoS",
        "outputId": "69ed6149-0067-4966-af3c-44947765ea29"
      },
      "execution_count": 46,
      "outputs": [
        {
          "output_type": "execute_result",
          "data": {
            "text/plain": [
              "LIGHTING_CONDITION\n",
              "DAYLIGHT                  492069\n",
              "DARKNESS, LIGHTED ROAD    155616\n",
              "DARKNESS                   26394\n",
              "DUSK                       22094\n",
              "DAWN                       11644\n",
              "Name: count, dtype: int64"
            ]
          },
          "metadata": {},
          "execution_count": 46
        }
      ]
    },
    {
      "cell_type": "markdown",
      "source": [
        "Again, we may consider dropping the 'DAYLIGHT' class since it represents the most common, unmarked, 'baseline' sort of lighting condition. However, dropping that class results in a *lot* of lost data. Instead, let's drop 'DUSK' since it represents the median coefficient value and doesn't result in nearly as much data being lost. Dropping this class means that we'll need to recognize that the remaining 'LIGHTING_CONDITION' columns reference back to their median class of 'DUSK'.\n",
        "\n",
        "With that decided, let's also take a look at 'CRASH_DAY_OF_WEEK' value counts:"
      ],
      "metadata": {
        "id": "kmrJJUWesBhc"
      }
    },
    {
      "cell_type": "code",
      "source": [
        "X_train_categorical['CRASH_DAY_OF_WEEK'].value_counts()"
      ],
      "metadata": {
        "colab": {
          "base_uri": "https://localhost:8080/"
        },
        "id": "HJbZb3ZypmSP",
        "outputId": "b2169eea-ae73-48eb-f79d-1f87ac9bc780"
      },
      "execution_count": 47,
      "outputs": [
        {
          "output_type": "execute_result",
          "data": {
            "text/plain": [
              "CRASH_DAY_OF_WEEK\n",
              "6    118376\n",
              "5    104342\n",
              "3    102897\n",
              "4    102742\n",
              "7    102254\n",
              "2     96292\n",
              "1     80914\n",
              "Name: count, dtype: int64"
            ]
          },
          "metadata": {},
          "execution_count": 47
        }
      ]
    },
    {
      "cell_type": "markdown",
      "source": [
        "This is not great news - the median coefficient class from our results puts '4' (Wednesday) as the median class, which will result in the loss of 102,742 rows from our data, but doing so will make our StatsModels Logit results interpretable, so we have to do it."
      ],
      "metadata": {
        "id": "pOBF1uwrwMSx"
      }
    },
    {
      "cell_type": "code",
      "source": [
        "preliminary_columns_to_drop_for_statsmodels = ['ROADWAY_SURFACE_COND_SNOW OR SLUSH',\n",
        "                                               'LIGHTING_CONDITION_DUSK',\n",
        "                                               'CRASH_DAY_OF_WEEK_4']"
      ],
      "metadata": {
        "id": "7vFu91C9Pz3u"
      },
      "execution_count": 48,
      "outputs": []
    },
    {
      "cell_type": "code",
      "source": [
        "#dropping the classes\n",
        "X_train_trimmed_and_stnd_for_Logit = X_train_trimmed_and_stnd.drop(preliminary_columns_to_drop_for_statsmodels, axis=1)\n",
        "#refitting the model\n",
        "X = sm.add_constant(X_train_trimmed_and_stnd_for_Logit)\n",
        "#instantiating & fitting the Logit model\n",
        "logit_model = sm.Logit(y_train.astype(float), X.astype(float))\n",
        "baseline_result = logit_model.fit(maxiter=3500)\n",
        "#checking the results\n",
        "baseline_result.summary()"
      ],
      "metadata": {
        "colab": {
          "base_uri": "https://localhost:8080/",
          "height": 1000
        },
        "id": "1D3pQgWiv4PW",
        "outputId": "2917358c-f5ac-49ec-faa9-5e3cb65684e5"
      },
      "execution_count": 49,
      "outputs": [
        {
          "output_type": "stream",
          "name": "stdout",
          "text": [
            "Optimization terminated successfully.\n",
            "         Current function value: 0.228359\n",
            "         Iterations 8\n"
          ]
        },
        {
          "output_type": "execute_result",
          "data": {
            "text/plain": [
              "<class 'statsmodels.iolib.summary.Summary'>\n",
              "\"\"\"\n",
              "                           Logit Regression Results                           \n",
              "==============================================================================\n",
              "Dep. Variable:                 TARGET   No. Observations:               707817\n",
              "Model:                          Logit   Df Residuals:                   707776\n",
              "Method:                           MLE   Df Model:                           40\n",
              "Date:                Sat, 18 May 2024   Pseudo R-squ.:                  0.1166\n",
              "Time:                        01:38:54   Log-Likelihood:            -1.6164e+05\n",
              "converged:                       True   LL-Null:                   -1.8296e+05\n",
              "Covariance Type:            nonrobust   LLR p-value:                     0.000\n",
              "=============================================================================================================\n",
              "                                                coef    std err          z      P>|z|      [0.025      0.975]\n",
              "-------------------------------------------------------------------------------------------------------------\n",
              "const                                         1.0853      0.177      6.147      0.000       0.739       1.431\n",
              "POSTED_SPEED_LIMIT                        -1.363e-06      0.005     -0.000      1.000      -0.010       0.010\n",
              "NUM_UNITS                                    -0.0027      0.004     -0.630      0.529      -0.011       0.006\n",
              "CRASH_HOUR                                    0.1007      0.005     21.366      0.000       0.091       0.110\n",
              "LATITUDE                                      0.3511      0.026     13.455      0.000       0.300       0.402\n",
              "LONGITUDE                                     0.3514      0.027     13.230      0.000       0.299       0.403\n",
              "AGE                                          -0.0318      0.005     -6.494      0.000      -0.041      -0.022\n",
              "WEATHER_CONDITION_CLEAR                       0.9363      0.040     23.172      0.000       0.857       1.016\n",
              "WEATHER_CONDITION_CLOUDY/OVERCAST             0.7683      0.046     16.586      0.000       0.677       0.859\n",
              "WEATHER_CONDITION_RAIN                        0.1893      0.040      4.699      0.000       0.110       0.268\n",
              "WEATHER_CONDITION_SNOW                        0.0055      0.041      0.134      0.893      -0.075       0.086\n",
              "LIGHTING_CONDITION_DARKNESS                   0.0323      0.036      0.897      0.370      -0.038       0.103\n",
              "LIGHTING_CONDITION_DARKNESS, LIGHTED ROAD    -0.0521      0.029     -1.816      0.069      -0.108       0.004\n",
              "LIGHTING_CONDITION_DAWN                      -0.1656      0.043     -3.896      0.000      -0.249      -0.082\n",
              "LIGHTING_CONDITION_DAYLIGHT                   0.0402      0.028      1.444      0.149      -0.014       0.095\n",
              "ROADWAY_SURFACE_COND_DRY                      1.3037      0.025     51.932      0.000       1.254       1.353\n",
              "ROADWAY_SURFACE_COND_ICE                     -1.1802      0.033    -35.290      0.000      -1.246      -1.115\n",
              "ROADWAY_SURFACE_COND_WET                      0.9228      0.025     37.102      0.000       0.874       0.972\n",
              "CRASH_DAY_OF_WEEK_1                           0.0238      0.019      1.238      0.216      -0.014       0.061\n",
              "CRASH_DAY_OF_WEEK_2                          -0.0205      0.018     -1.119      0.263      -0.056       0.015\n",
              "CRASH_DAY_OF_WEEK_3                          -0.0267      0.018     -1.476      0.140      -0.062       0.009\n",
              "CRASH_DAY_OF_WEEK_5                           0.0229      0.018      1.256      0.209      -0.013       0.059\n",
              "CRASH_DAY_OF_WEEK_6                          -0.0197      0.018     -1.122      0.262      -0.054       0.015\n",
              "CRASH_DAY_OF_WEEK_7                           0.0310      0.018      1.706      0.088      -0.005       0.067\n",
              "SEX_F                                         0.0371      0.166      0.223      0.824      -0.289       0.363\n",
              "SEX_M                                        -0.0925      0.166     -0.557      0.578      -0.418       0.233\n",
              "TRAVEL_DIRECTION_E                            0.0440      0.029      1.533      0.125      -0.012       0.100\n",
              "TRAVEL_DIRECTION_N                            0.0214      0.029      0.748      0.454      -0.035       0.077\n",
              "TRAVEL_DIRECTION_S                           -0.0207      0.028     -0.725      0.469      -0.077       0.035\n",
              "TRAVEL_DIRECTION_SE                          -0.0846      0.047     -1.801      0.072      -0.177       0.007\n",
              "TRAVEL_DIRECTION_W                            0.0698      0.029      2.428      0.015       0.013       0.126\n",
              "MANEUVER_AVOIDING VEHICLES/OBJECTS           -2.1814      0.045    -48.064      0.000      -2.270      -2.092\n",
              "MANEUVER_BACKING                              0.0504      0.040      1.254      0.210      -0.028       0.129\n",
              "MANEUVER_CHANGING LANES                       0.8873      0.060     14.678      0.000       0.769       1.006\n",
              "MANEUVER_PARKED                              -1.4617      0.029    -50.976      0.000      -1.518      -1.405\n",
              "MANEUVER_PASSING/OVERTAKING                   1.0471      0.057     18.409      0.000       0.936       1.159\n",
              "MANEUVER_SKIDDING/CONTROL LOSS               -2.0755      0.044    -46.891      0.000      -2.162      -1.989\n",
              "MANEUVER_SLOW/STOP IN TRAFFIC                -0.4226      0.027    -15.502      0.000      -0.476      -0.369\n",
              "MANEUVER_STRAIGHT AHEAD                      -0.2713      0.024    -11.250      0.000      -0.319      -0.224\n",
              "MANEUVER_TURNING LEFT                         0.0837      0.030      2.748      0.006       0.024       0.143\n",
              "MANEUVER_TURNING RIGHT                       -0.1012      0.035     -2.865      0.004      -0.170      -0.032\n",
              "=============================================================================================================\n",
              "\"\"\""
            ],
            "text/html": [
              "<table class=\"simpletable\">\n",
              "<caption>Logit Regression Results</caption>\n",
              "<tr>\n",
              "  <th>Dep. Variable:</th>        <td>TARGET</td>      <th>  No. Observations:  </th>   <td>707817</td>   \n",
              "</tr>\n",
              "<tr>\n",
              "  <th>Model:</th>                 <td>Logit</td>      <th>  Df Residuals:      </th>   <td>707776</td>   \n",
              "</tr>\n",
              "<tr>\n",
              "  <th>Method:</th>                 <td>MLE</td>       <th>  Df Model:          </th>   <td>    40</td>   \n",
              "</tr>\n",
              "<tr>\n",
              "  <th>Date:</th>            <td>Sat, 18 May 2024</td> <th>  Pseudo R-squ.:     </th>   <td>0.1166</td>   \n",
              "</tr>\n",
              "<tr>\n",
              "  <th>Time:</th>                <td>01:38:54</td>     <th>  Log-Likelihood:    </th> <td>-1.6164e+05</td>\n",
              "</tr>\n",
              "<tr>\n",
              "  <th>converged:</th>             <td>True</td>       <th>  LL-Null:           </th> <td>-1.8296e+05</td>\n",
              "</tr>\n",
              "<tr>\n",
              "  <th>Covariance Type:</th>     <td>nonrobust</td>    <th>  LLR p-value:       </th>   <td> 0.000</td>   \n",
              "</tr>\n",
              "</table>\n",
              "<table class=\"simpletable\">\n",
              "<tr>\n",
              "                      <td></td>                         <th>coef</th>     <th>std err</th>      <th>z</th>      <th>P>|z|</th>  <th>[0.025</th>    <th>0.975]</th>  \n",
              "</tr>\n",
              "<tr>\n",
              "  <th>const</th>                                     <td>    1.0853</td> <td>    0.177</td> <td>    6.147</td> <td> 0.000</td> <td>    0.739</td> <td>    1.431</td>\n",
              "</tr>\n",
              "<tr>\n",
              "  <th>POSTED_SPEED_LIMIT</th>                        <td>-1.363e-06</td> <td>    0.005</td> <td>   -0.000</td> <td> 1.000</td> <td>   -0.010</td> <td>    0.010</td>\n",
              "</tr>\n",
              "<tr>\n",
              "  <th>NUM_UNITS</th>                                 <td>   -0.0027</td> <td>    0.004</td> <td>   -0.630</td> <td> 0.529</td> <td>   -0.011</td> <td>    0.006</td>\n",
              "</tr>\n",
              "<tr>\n",
              "  <th>CRASH_HOUR</th>                                <td>    0.1007</td> <td>    0.005</td> <td>   21.366</td> <td> 0.000</td> <td>    0.091</td> <td>    0.110</td>\n",
              "</tr>\n",
              "<tr>\n",
              "  <th>LATITUDE</th>                                  <td>    0.3511</td> <td>    0.026</td> <td>   13.455</td> <td> 0.000</td> <td>    0.300</td> <td>    0.402</td>\n",
              "</tr>\n",
              "<tr>\n",
              "  <th>LONGITUDE</th>                                 <td>    0.3514</td> <td>    0.027</td> <td>   13.230</td> <td> 0.000</td> <td>    0.299</td> <td>    0.403</td>\n",
              "</tr>\n",
              "<tr>\n",
              "  <th>AGE</th>                                       <td>   -0.0318</td> <td>    0.005</td> <td>   -6.494</td> <td> 0.000</td> <td>   -0.041</td> <td>   -0.022</td>\n",
              "</tr>\n",
              "<tr>\n",
              "  <th>WEATHER_CONDITION_CLEAR</th>                   <td>    0.9363</td> <td>    0.040</td> <td>   23.172</td> <td> 0.000</td> <td>    0.857</td> <td>    1.016</td>\n",
              "</tr>\n",
              "<tr>\n",
              "  <th>WEATHER_CONDITION_CLOUDY/OVERCAST</th>         <td>    0.7683</td> <td>    0.046</td> <td>   16.586</td> <td> 0.000</td> <td>    0.677</td> <td>    0.859</td>\n",
              "</tr>\n",
              "<tr>\n",
              "  <th>WEATHER_CONDITION_RAIN</th>                    <td>    0.1893</td> <td>    0.040</td> <td>    4.699</td> <td> 0.000</td> <td>    0.110</td> <td>    0.268</td>\n",
              "</tr>\n",
              "<tr>\n",
              "  <th>WEATHER_CONDITION_SNOW</th>                    <td>    0.0055</td> <td>    0.041</td> <td>    0.134</td> <td> 0.893</td> <td>   -0.075</td> <td>    0.086</td>\n",
              "</tr>\n",
              "<tr>\n",
              "  <th>LIGHTING_CONDITION_DARKNESS</th>               <td>    0.0323</td> <td>    0.036</td> <td>    0.897</td> <td> 0.370</td> <td>   -0.038</td> <td>    0.103</td>\n",
              "</tr>\n",
              "<tr>\n",
              "  <th>LIGHTING_CONDITION_DARKNESS, LIGHTED ROAD</th> <td>   -0.0521</td> <td>    0.029</td> <td>   -1.816</td> <td> 0.069</td> <td>   -0.108</td> <td>    0.004</td>\n",
              "</tr>\n",
              "<tr>\n",
              "  <th>LIGHTING_CONDITION_DAWN</th>                   <td>   -0.1656</td> <td>    0.043</td> <td>   -3.896</td> <td> 0.000</td> <td>   -0.249</td> <td>   -0.082</td>\n",
              "</tr>\n",
              "<tr>\n",
              "  <th>LIGHTING_CONDITION_DAYLIGHT</th>               <td>    0.0402</td> <td>    0.028</td> <td>    1.444</td> <td> 0.149</td> <td>   -0.014</td> <td>    0.095</td>\n",
              "</tr>\n",
              "<tr>\n",
              "  <th>ROADWAY_SURFACE_COND_DRY</th>                  <td>    1.3037</td> <td>    0.025</td> <td>   51.932</td> <td> 0.000</td> <td>    1.254</td> <td>    1.353</td>\n",
              "</tr>\n",
              "<tr>\n",
              "  <th>ROADWAY_SURFACE_COND_ICE</th>                  <td>   -1.1802</td> <td>    0.033</td> <td>  -35.290</td> <td> 0.000</td> <td>   -1.246</td> <td>   -1.115</td>\n",
              "</tr>\n",
              "<tr>\n",
              "  <th>ROADWAY_SURFACE_COND_WET</th>                  <td>    0.9228</td> <td>    0.025</td> <td>   37.102</td> <td> 0.000</td> <td>    0.874</td> <td>    0.972</td>\n",
              "</tr>\n",
              "<tr>\n",
              "  <th>CRASH_DAY_OF_WEEK_1</th>                       <td>    0.0238</td> <td>    0.019</td> <td>    1.238</td> <td> 0.216</td> <td>   -0.014</td> <td>    0.061</td>\n",
              "</tr>\n",
              "<tr>\n",
              "  <th>CRASH_DAY_OF_WEEK_2</th>                       <td>   -0.0205</td> <td>    0.018</td> <td>   -1.119</td> <td> 0.263</td> <td>   -0.056</td> <td>    0.015</td>\n",
              "</tr>\n",
              "<tr>\n",
              "  <th>CRASH_DAY_OF_WEEK_3</th>                       <td>   -0.0267</td> <td>    0.018</td> <td>   -1.476</td> <td> 0.140</td> <td>   -0.062</td> <td>    0.009</td>\n",
              "</tr>\n",
              "<tr>\n",
              "  <th>CRASH_DAY_OF_WEEK_5</th>                       <td>    0.0229</td> <td>    0.018</td> <td>    1.256</td> <td> 0.209</td> <td>   -0.013</td> <td>    0.059</td>\n",
              "</tr>\n",
              "<tr>\n",
              "  <th>CRASH_DAY_OF_WEEK_6</th>                       <td>   -0.0197</td> <td>    0.018</td> <td>   -1.122</td> <td> 0.262</td> <td>   -0.054</td> <td>    0.015</td>\n",
              "</tr>\n",
              "<tr>\n",
              "  <th>CRASH_DAY_OF_WEEK_7</th>                       <td>    0.0310</td> <td>    0.018</td> <td>    1.706</td> <td> 0.088</td> <td>   -0.005</td> <td>    0.067</td>\n",
              "</tr>\n",
              "<tr>\n",
              "  <th>SEX_F</th>                                     <td>    0.0371</td> <td>    0.166</td> <td>    0.223</td> <td> 0.824</td> <td>   -0.289</td> <td>    0.363</td>\n",
              "</tr>\n",
              "<tr>\n",
              "  <th>SEX_M</th>                                     <td>   -0.0925</td> <td>    0.166</td> <td>   -0.557</td> <td> 0.578</td> <td>   -0.418</td> <td>    0.233</td>\n",
              "</tr>\n",
              "<tr>\n",
              "  <th>TRAVEL_DIRECTION_E</th>                        <td>    0.0440</td> <td>    0.029</td> <td>    1.533</td> <td> 0.125</td> <td>   -0.012</td> <td>    0.100</td>\n",
              "</tr>\n",
              "<tr>\n",
              "  <th>TRAVEL_DIRECTION_N</th>                        <td>    0.0214</td> <td>    0.029</td> <td>    0.748</td> <td> 0.454</td> <td>   -0.035</td> <td>    0.077</td>\n",
              "</tr>\n",
              "<tr>\n",
              "  <th>TRAVEL_DIRECTION_S</th>                        <td>   -0.0207</td> <td>    0.028</td> <td>   -0.725</td> <td> 0.469</td> <td>   -0.077</td> <td>    0.035</td>\n",
              "</tr>\n",
              "<tr>\n",
              "  <th>TRAVEL_DIRECTION_SE</th>                       <td>   -0.0846</td> <td>    0.047</td> <td>   -1.801</td> <td> 0.072</td> <td>   -0.177</td> <td>    0.007</td>\n",
              "</tr>\n",
              "<tr>\n",
              "  <th>TRAVEL_DIRECTION_W</th>                        <td>    0.0698</td> <td>    0.029</td> <td>    2.428</td> <td> 0.015</td> <td>    0.013</td> <td>    0.126</td>\n",
              "</tr>\n",
              "<tr>\n",
              "  <th>MANEUVER_AVOIDING VEHICLES/OBJECTS</th>        <td>   -2.1814</td> <td>    0.045</td> <td>  -48.064</td> <td> 0.000</td> <td>   -2.270</td> <td>   -2.092</td>\n",
              "</tr>\n",
              "<tr>\n",
              "  <th>MANEUVER_BACKING</th>                          <td>    0.0504</td> <td>    0.040</td> <td>    1.254</td> <td> 0.210</td> <td>   -0.028</td> <td>    0.129</td>\n",
              "</tr>\n",
              "<tr>\n",
              "  <th>MANEUVER_CHANGING LANES</th>                   <td>    0.8873</td> <td>    0.060</td> <td>   14.678</td> <td> 0.000</td> <td>    0.769</td> <td>    1.006</td>\n",
              "</tr>\n",
              "<tr>\n",
              "  <th>MANEUVER_PARKED</th>                           <td>   -1.4617</td> <td>    0.029</td> <td>  -50.976</td> <td> 0.000</td> <td>   -1.518</td> <td>   -1.405</td>\n",
              "</tr>\n",
              "<tr>\n",
              "  <th>MANEUVER_PASSING/OVERTAKING</th>               <td>    1.0471</td> <td>    0.057</td> <td>   18.409</td> <td> 0.000</td> <td>    0.936</td> <td>    1.159</td>\n",
              "</tr>\n",
              "<tr>\n",
              "  <th>MANEUVER_SKIDDING/CONTROL LOSS</th>            <td>   -2.0755</td> <td>    0.044</td> <td>  -46.891</td> <td> 0.000</td> <td>   -2.162</td> <td>   -1.989</td>\n",
              "</tr>\n",
              "<tr>\n",
              "  <th>MANEUVER_SLOW/STOP IN TRAFFIC</th>             <td>   -0.4226</td> <td>    0.027</td> <td>  -15.502</td> <td> 0.000</td> <td>   -0.476</td> <td>   -0.369</td>\n",
              "</tr>\n",
              "<tr>\n",
              "  <th>MANEUVER_STRAIGHT AHEAD</th>                   <td>   -0.2713</td> <td>    0.024</td> <td>  -11.250</td> <td> 0.000</td> <td>   -0.319</td> <td>   -0.224</td>\n",
              "</tr>\n",
              "<tr>\n",
              "  <th>MANEUVER_TURNING LEFT</th>                     <td>    0.0837</td> <td>    0.030</td> <td>    2.748</td> <td> 0.006</td> <td>    0.024</td> <td>    0.143</td>\n",
              "</tr>\n",
              "<tr>\n",
              "  <th>MANEUVER_TURNING RIGHT</th>                    <td>   -0.1012</td> <td>    0.035</td> <td>   -2.865</td> <td> 0.004</td> <td>   -0.170</td> <td>   -0.032</td>\n",
              "</tr>\n",
              "</table>"
            ],
            "text/latex": "\\begin{center}\n\\begin{tabular}{lclc}\n\\toprule\n\\textbf{Dep. Variable:}                              &      TARGET      & \\textbf{  No. Observations:  } &    707817    \\\\\n\\textbf{Model:}                                      &      Logit       & \\textbf{  Df Residuals:      } &    707776    \\\\\n\\textbf{Method:}                                     &       MLE        & \\textbf{  Df Model:          } &        40    \\\\\n\\textbf{Date:}                                       & Sat, 18 May 2024 & \\textbf{  Pseudo R-squ.:     } &    0.1166    \\\\\n\\textbf{Time:}                                       &     01:38:54     & \\textbf{  Log-Likelihood:    } & -1.6164e+05  \\\\\n\\textbf{converged:}                                  &       True       & \\textbf{  LL-Null:           } & -1.8296e+05  \\\\\n\\textbf{Covariance Type:}                            &    nonrobust     & \\textbf{  LLR p-value:       } &     0.000    \\\\\n\\bottomrule\n\\end{tabular}\n\\begin{tabular}{lcccccc}\n                                                     & \\textbf{coef} & \\textbf{std err} & \\textbf{z} & \\textbf{P$> |$z$|$} & \\textbf{[0.025} & \\textbf{0.975]}  \\\\\n\\midrule\n\\textbf{const}                                       &       1.0853  &        0.177     &     6.147  &         0.000        &        0.739    &        1.431     \\\\\n\\textbf{POSTED\\_SPEED\\_LIMIT}                        &   -1.363e-06  &        0.005     &    -0.000  &         1.000        &       -0.010    &        0.010     \\\\\n\\textbf{NUM\\_UNITS}                                  &      -0.0027  &        0.004     &    -0.630  &         0.529        &       -0.011    &        0.006     \\\\\n\\textbf{CRASH\\_HOUR}                                 &       0.1007  &        0.005     &    21.366  &         0.000        &        0.091    &        0.110     \\\\\n\\textbf{LATITUDE}                                    &       0.3511  &        0.026     &    13.455  &         0.000        &        0.300    &        0.402     \\\\\n\\textbf{LONGITUDE}                                   &       0.3514  &        0.027     &    13.230  &         0.000        &        0.299    &        0.403     \\\\\n\\textbf{AGE}                                         &      -0.0318  &        0.005     &    -6.494  &         0.000        &       -0.041    &       -0.022     \\\\\n\\textbf{WEATHER\\_CONDITION\\_CLEAR}                   &       0.9363  &        0.040     &    23.172  &         0.000        &        0.857    &        1.016     \\\\\n\\textbf{WEATHER\\_CONDITION\\_CLOUDY/OVERCAST}         &       0.7683  &        0.046     &    16.586  &         0.000        &        0.677    &        0.859     \\\\\n\\textbf{WEATHER\\_CONDITION\\_RAIN}                    &       0.1893  &        0.040     &     4.699  &         0.000        &        0.110    &        0.268     \\\\\n\\textbf{WEATHER\\_CONDITION\\_SNOW}                    &       0.0055  &        0.041     &     0.134  &         0.893        &       -0.075    &        0.086     \\\\\n\\textbf{LIGHTING\\_CONDITION\\_DARKNESS}               &       0.0323  &        0.036     &     0.897  &         0.370        &       -0.038    &        0.103     \\\\\n\\textbf{LIGHTING\\_CONDITION\\_DARKNESS, LIGHTED ROAD} &      -0.0521  &        0.029     &    -1.816  &         0.069        &       -0.108    &        0.004     \\\\\n\\textbf{LIGHTING\\_CONDITION\\_DAWN}                   &      -0.1656  &        0.043     &    -3.896  &         0.000        &       -0.249    &       -0.082     \\\\\n\\textbf{LIGHTING\\_CONDITION\\_DAYLIGHT}               &       0.0402  &        0.028     &     1.444  &         0.149        &       -0.014    &        0.095     \\\\\n\\textbf{ROADWAY\\_SURFACE\\_COND\\_DRY}                 &       1.3037  &        0.025     &    51.932  &         0.000        &        1.254    &        1.353     \\\\\n\\textbf{ROADWAY\\_SURFACE\\_COND\\_ICE}                 &      -1.1802  &        0.033     &   -35.290  &         0.000        &       -1.246    &       -1.115     \\\\\n\\textbf{ROADWAY\\_SURFACE\\_COND\\_WET}                 &       0.9228  &        0.025     &    37.102  &         0.000        &        0.874    &        0.972     \\\\\n\\textbf{CRASH\\_DAY\\_OF\\_WEEK\\_1}                     &       0.0238  &        0.019     &     1.238  &         0.216        &       -0.014    &        0.061     \\\\\n\\textbf{CRASH\\_DAY\\_OF\\_WEEK\\_2}                     &      -0.0205  &        0.018     &    -1.119  &         0.263        &       -0.056    &        0.015     \\\\\n\\textbf{CRASH\\_DAY\\_OF\\_WEEK\\_3}                     &      -0.0267  &        0.018     &    -1.476  &         0.140        &       -0.062    &        0.009     \\\\\n\\textbf{CRASH\\_DAY\\_OF\\_WEEK\\_5}                     &       0.0229  &        0.018     &     1.256  &         0.209        &       -0.013    &        0.059     \\\\\n\\textbf{CRASH\\_DAY\\_OF\\_WEEK\\_6}                     &      -0.0197  &        0.018     &    -1.122  &         0.262        &       -0.054    &        0.015     \\\\\n\\textbf{CRASH\\_DAY\\_OF\\_WEEK\\_7}                     &       0.0310  &        0.018     &     1.706  &         0.088        &       -0.005    &        0.067     \\\\\n\\textbf{SEX\\_F}                                      &       0.0371  &        0.166     &     0.223  &         0.824        &       -0.289    &        0.363     \\\\\n\\textbf{SEX\\_M}                                      &      -0.0925  &        0.166     &    -0.557  &         0.578        &       -0.418    &        0.233     \\\\\n\\textbf{TRAVEL\\_DIRECTION\\_E}                        &       0.0440  &        0.029     &     1.533  &         0.125        &       -0.012    &        0.100     \\\\\n\\textbf{TRAVEL\\_DIRECTION\\_N}                        &       0.0214  &        0.029     &     0.748  &         0.454        &       -0.035    &        0.077     \\\\\n\\textbf{TRAVEL\\_DIRECTION\\_S}                        &      -0.0207  &        0.028     &    -0.725  &         0.469        &       -0.077    &        0.035     \\\\\n\\textbf{TRAVEL\\_DIRECTION\\_SE}                       &      -0.0846  &        0.047     &    -1.801  &         0.072        &       -0.177    &        0.007     \\\\\n\\textbf{TRAVEL\\_DIRECTION\\_W}                        &       0.0698  &        0.029     &     2.428  &         0.015        &        0.013    &        0.126     \\\\\n\\textbf{MANEUVER\\_AVOIDING VEHICLES/OBJECTS}         &      -2.1814  &        0.045     &   -48.064  &         0.000        &       -2.270    &       -2.092     \\\\\n\\textbf{MANEUVER\\_BACKING}                           &       0.0504  &        0.040     &     1.254  &         0.210        &       -0.028    &        0.129     \\\\\n\\textbf{MANEUVER\\_CHANGING LANES}                    &       0.8873  &        0.060     &    14.678  &         0.000        &        0.769    &        1.006     \\\\\n\\textbf{MANEUVER\\_PARKED}                            &      -1.4617  &        0.029     &   -50.976  &         0.000        &       -1.518    &       -1.405     \\\\\n\\textbf{MANEUVER\\_PASSING/OVERTAKING}                &       1.0471  &        0.057     &    18.409  &         0.000        &        0.936    &        1.159     \\\\\n\\textbf{MANEUVER\\_SKIDDING/CONTROL LOSS}             &      -2.0755  &        0.044     &   -46.891  &         0.000        &       -2.162    &       -1.989     \\\\\n\\textbf{MANEUVER\\_SLOW/STOP IN TRAFFIC}              &      -0.4226  &        0.027     &   -15.502  &         0.000        &       -0.476    &       -0.369     \\\\\n\\textbf{MANEUVER\\_STRAIGHT AHEAD}                    &      -0.2713  &        0.024     &   -11.250  &         0.000        &       -0.319    &       -0.224     \\\\\n\\textbf{MANEUVER\\_TURNING LEFT}                      &       0.0837  &        0.030     &     2.748  &         0.006        &        0.024    &        0.143     \\\\\n\\textbf{MANEUVER\\_TURNING RIGHT}                     &      -0.1012  &        0.035     &    -2.865  &         0.004        &       -0.170    &       -0.032     \\\\\n\\bottomrule\n\\end{tabular}\n%\\caption{Logit Regression Results}\n\\end{center}"
          },
          "metadata": {},
          "execution_count": 49
        }
      ]
    },
    {
      "cell_type": "markdown",
      "source": [
        "There are a ton of variables that aren't statisitically significant here (having a P>[z] value greater than 0.05). This does not necessarily mean we should drop them, too; sometimes they can help the model and we just don't drop too many conclusions from those features. However, with 42 columns in a StatsModels Logit model, we're still dealing with a lot of noise here.\n",
        "\n",
        "Now that we have a real baseline, we can go through and also drop the features that are not statistically significant to finally get down to the factors that correlate with accidents that are avoidable, which would include the following.\n",
        "\n",
        "This is a lot to drop, but we can already see that these columns have little to do with what makes an accident avoidable (and a solution actionable). Travel direction, gender, and day of the week have shown value counts with little variance among them, so it makes sense to see that they don't contribute much to our model."
      ],
      "metadata": {
        "id": "zoVUgZVv1owX"
      }
    },
    {
      "cell_type": "code",
      "source": [
        "insignificant_columns_to_drop = ['POSTED_SPEED_LIMIT', 'NUM_UNITS', 'WEATHER_CONDITION_SNOW', 'LIGHTING_CONDITION_DARKNESS',\n",
        "                   'LIGHTING_CONDITION_DARKNESS, LIGHTED ROAD', 'LIGHTING_CONDITION_DAYLIGHT', 'CRASH_DAY_OF_WEEK_1',\n",
        "                   'CRASH_DAY_OF_WEEK_2', 'CRASH_DAY_OF_WEEK_3', 'CRASH_DAY_OF_WEEK_5', 'CRASH_DAY_OF_WEEK_6',\n",
        "                   'CRASH_DAY_OF_WEEK_7', 'SEX_F', 'SEX_M', 'TRAVEL_DIRECTION_E', 'TRAVEL_DIRECTION_N',\n",
        "                   'TRAVEL_DIRECTION_S', 'TRAVEL_DIRECTION_SE', 'TRAVEL_DIRECTION_W', 'MANEUVER_BACKING']"
      ],
      "metadata": {
        "id": "EPpJovqDxT0w"
      },
      "execution_count": 50,
      "outputs": []
    },
    {
      "cell_type": "code",
      "source": [
        "#dropping the classes\n",
        "X_train_trimmed_and_stnd_for_Logit = X_train_trimmed_and_stnd_for_Logit.drop(insignificant_columns_to_drop, axis=1)\n",
        "#refitting the model\n",
        "X = sm.add_constant(X_train_trimmed_and_stnd_for_Logit)\n",
        "#instantiating & fitting the Logit model\n",
        "logit_model = sm.Logit(y_train.astype(float), X.astype(float))\n",
        "statistically_significant_Logit = logit_model.fit(maxiter=3500)\n",
        "#checking the results\n",
        "statistically_significant_Logit.summary()"
      ],
      "metadata": {
        "colab": {
          "base_uri": "https://localhost:8080/",
          "height": 697
        },
        "id": "3hVmuvfTxinV",
        "outputId": "c8362ff1-893d-4c5b-9d4e-77e3fa819e56"
      },
      "execution_count": 51,
      "outputs": [
        {
          "output_type": "stream",
          "name": "stdout",
          "text": [
            "Optimization terminated successfully.\n",
            "         Current function value: 0.228581\n",
            "         Iterations 8\n"
          ]
        },
        {
          "output_type": "execute_result",
          "data": {
            "text/plain": [
              "<class 'statsmodels.iolib.summary.Summary'>\n",
              "\"\"\"\n",
              "                           Logit Regression Results                           \n",
              "==============================================================================\n",
              "Dep. Variable:                 TARGET   No. Observations:               707817\n",
              "Model:                          Logit   Df Residuals:                   707796\n",
              "Method:                           MLE   Df Model:                           20\n",
              "Date:                Sat, 18 May 2024   Pseudo R-squ.:                  0.1157\n",
              "Time:                        01:39:02   Log-Likelihood:            -1.6179e+05\n",
              "converged:                       True   LL-Null:                   -1.8296e+05\n",
              "Covariance Type:            nonrobust   LLR p-value:                     0.000\n",
              "======================================================================================================\n",
              "                                         coef    std err          z      P>|z|      [0.025      0.975]\n",
              "------------------------------------------------------------------------------------------------------\n",
              "const                                  1.1035      0.023     46.967      0.000       1.057       1.150\n",
              "CRASH_HOUR                             0.0949      0.005     20.408      0.000       0.086       0.104\n",
              "LATITUDE                               0.3252      0.026     12.517      0.000       0.274       0.376\n",
              "LONGITUDE                              0.3259      0.026     12.318      0.000       0.274       0.378\n",
              "AGE                                   -0.0308      0.005     -6.335      0.000      -0.040      -0.021\n",
              "WEATHER_CONDITION_CLEAR                0.9353      0.023     40.306      0.000       0.890       0.981\n",
              "WEATHER_CONDITION_CLOUDY/OVERCAST      0.7811      0.032     24.111      0.000       0.718       0.845\n",
              "WEATHER_CONDITION_RAIN                 0.1897      0.024      7.837      0.000       0.142       0.237\n",
              "LIGHTING_CONDITION_DAWN               -0.1863      0.033     -5.655      0.000      -0.251      -0.122\n",
              "ROADWAY_SURFACE_COND_DRY               1.3100      0.025     53.446      0.000       1.262       1.358\n",
              "ROADWAY_SURFACE_COND_ICE              -1.1769      0.033    -35.899      0.000      -1.241      -1.113\n",
              "ROADWAY_SURFACE_COND_WET               0.9185      0.024     38.134      0.000       0.871       0.966\n",
              "MANEUVER_AVOIDING VEHICLES/OBJECTS    -2.2117      0.043    -51.151      0.000      -2.296      -2.127\n",
              "MANEUVER_CHANGING LANES                0.8668      0.059     14.720      0.000       0.751       0.982\n",
              "MANEUVER_PARKED                       -1.5021      0.024    -61.604      0.000      -1.550      -1.454\n",
              "MANEUVER_PASSING/OVERTAKING            1.0298      0.055     18.645      0.000       0.922       1.138\n",
              "MANEUVER_SKIDDING/CONTROL LOSS        -2.1062      0.042    -49.946      0.000      -2.189      -2.024\n",
              "MANEUVER_SLOW/STOP IN TRAFFIC         -0.4378      0.024    -18.552      0.000      -0.484      -0.392\n",
              "MANEUVER_STRAIGHT AHEAD               -0.2901      0.020    -14.566      0.000      -0.329      -0.251\n",
              "MANEUVER_TURNING LEFT                  0.0567      0.027      2.089      0.037       0.004       0.110\n",
              "MANEUVER_TURNING RIGHT                -0.1270      0.033     -3.906      0.000      -0.191      -0.063\n",
              "======================================================================================================\n",
              "\"\"\""
            ],
            "text/html": [
              "<table class=\"simpletable\">\n",
              "<caption>Logit Regression Results</caption>\n",
              "<tr>\n",
              "  <th>Dep. Variable:</th>        <td>TARGET</td>      <th>  No. Observations:  </th>   <td>707817</td>   \n",
              "</tr>\n",
              "<tr>\n",
              "  <th>Model:</th>                 <td>Logit</td>      <th>  Df Residuals:      </th>   <td>707796</td>   \n",
              "</tr>\n",
              "<tr>\n",
              "  <th>Method:</th>                 <td>MLE</td>       <th>  Df Model:          </th>   <td>    20</td>   \n",
              "</tr>\n",
              "<tr>\n",
              "  <th>Date:</th>            <td>Sat, 18 May 2024</td> <th>  Pseudo R-squ.:     </th>   <td>0.1157</td>   \n",
              "</tr>\n",
              "<tr>\n",
              "  <th>Time:</th>                <td>01:39:02</td>     <th>  Log-Likelihood:    </th> <td>-1.6179e+05</td>\n",
              "</tr>\n",
              "<tr>\n",
              "  <th>converged:</th>             <td>True</td>       <th>  LL-Null:           </th> <td>-1.8296e+05</td>\n",
              "</tr>\n",
              "<tr>\n",
              "  <th>Covariance Type:</th>     <td>nonrobust</td>    <th>  LLR p-value:       </th>   <td> 0.000</td>   \n",
              "</tr>\n",
              "</table>\n",
              "<table class=\"simpletable\">\n",
              "<tr>\n",
              "                   <td></td>                     <th>coef</th>     <th>std err</th>      <th>z</th>      <th>P>|z|</th>  <th>[0.025</th>    <th>0.975]</th>  \n",
              "</tr>\n",
              "<tr>\n",
              "  <th>const</th>                              <td>    1.1035</td> <td>    0.023</td> <td>   46.967</td> <td> 0.000</td> <td>    1.057</td> <td>    1.150</td>\n",
              "</tr>\n",
              "<tr>\n",
              "  <th>CRASH_HOUR</th>                         <td>    0.0949</td> <td>    0.005</td> <td>   20.408</td> <td> 0.000</td> <td>    0.086</td> <td>    0.104</td>\n",
              "</tr>\n",
              "<tr>\n",
              "  <th>LATITUDE</th>                           <td>    0.3252</td> <td>    0.026</td> <td>   12.517</td> <td> 0.000</td> <td>    0.274</td> <td>    0.376</td>\n",
              "</tr>\n",
              "<tr>\n",
              "  <th>LONGITUDE</th>                          <td>    0.3259</td> <td>    0.026</td> <td>   12.318</td> <td> 0.000</td> <td>    0.274</td> <td>    0.378</td>\n",
              "</tr>\n",
              "<tr>\n",
              "  <th>AGE</th>                                <td>   -0.0308</td> <td>    0.005</td> <td>   -6.335</td> <td> 0.000</td> <td>   -0.040</td> <td>   -0.021</td>\n",
              "</tr>\n",
              "<tr>\n",
              "  <th>WEATHER_CONDITION_CLEAR</th>            <td>    0.9353</td> <td>    0.023</td> <td>   40.306</td> <td> 0.000</td> <td>    0.890</td> <td>    0.981</td>\n",
              "</tr>\n",
              "<tr>\n",
              "  <th>WEATHER_CONDITION_CLOUDY/OVERCAST</th>  <td>    0.7811</td> <td>    0.032</td> <td>   24.111</td> <td> 0.000</td> <td>    0.718</td> <td>    0.845</td>\n",
              "</tr>\n",
              "<tr>\n",
              "  <th>WEATHER_CONDITION_RAIN</th>             <td>    0.1897</td> <td>    0.024</td> <td>    7.837</td> <td> 0.000</td> <td>    0.142</td> <td>    0.237</td>\n",
              "</tr>\n",
              "<tr>\n",
              "  <th>LIGHTING_CONDITION_DAWN</th>            <td>   -0.1863</td> <td>    0.033</td> <td>   -5.655</td> <td> 0.000</td> <td>   -0.251</td> <td>   -0.122</td>\n",
              "</tr>\n",
              "<tr>\n",
              "  <th>ROADWAY_SURFACE_COND_DRY</th>           <td>    1.3100</td> <td>    0.025</td> <td>   53.446</td> <td> 0.000</td> <td>    1.262</td> <td>    1.358</td>\n",
              "</tr>\n",
              "<tr>\n",
              "  <th>ROADWAY_SURFACE_COND_ICE</th>           <td>   -1.1769</td> <td>    0.033</td> <td>  -35.899</td> <td> 0.000</td> <td>   -1.241</td> <td>   -1.113</td>\n",
              "</tr>\n",
              "<tr>\n",
              "  <th>ROADWAY_SURFACE_COND_WET</th>           <td>    0.9185</td> <td>    0.024</td> <td>   38.134</td> <td> 0.000</td> <td>    0.871</td> <td>    0.966</td>\n",
              "</tr>\n",
              "<tr>\n",
              "  <th>MANEUVER_AVOIDING VEHICLES/OBJECTS</th> <td>   -2.2117</td> <td>    0.043</td> <td>  -51.151</td> <td> 0.000</td> <td>   -2.296</td> <td>   -2.127</td>\n",
              "</tr>\n",
              "<tr>\n",
              "  <th>MANEUVER_CHANGING LANES</th>            <td>    0.8668</td> <td>    0.059</td> <td>   14.720</td> <td> 0.000</td> <td>    0.751</td> <td>    0.982</td>\n",
              "</tr>\n",
              "<tr>\n",
              "  <th>MANEUVER_PARKED</th>                    <td>   -1.5021</td> <td>    0.024</td> <td>  -61.604</td> <td> 0.000</td> <td>   -1.550</td> <td>   -1.454</td>\n",
              "</tr>\n",
              "<tr>\n",
              "  <th>MANEUVER_PASSING/OVERTAKING</th>        <td>    1.0298</td> <td>    0.055</td> <td>   18.645</td> <td> 0.000</td> <td>    0.922</td> <td>    1.138</td>\n",
              "</tr>\n",
              "<tr>\n",
              "  <th>MANEUVER_SKIDDING/CONTROL LOSS</th>     <td>   -2.1062</td> <td>    0.042</td> <td>  -49.946</td> <td> 0.000</td> <td>   -2.189</td> <td>   -2.024</td>\n",
              "</tr>\n",
              "<tr>\n",
              "  <th>MANEUVER_SLOW/STOP IN TRAFFIC</th>      <td>   -0.4378</td> <td>    0.024</td> <td>  -18.552</td> <td> 0.000</td> <td>   -0.484</td> <td>   -0.392</td>\n",
              "</tr>\n",
              "<tr>\n",
              "  <th>MANEUVER_STRAIGHT AHEAD</th>            <td>   -0.2901</td> <td>    0.020</td> <td>  -14.566</td> <td> 0.000</td> <td>   -0.329</td> <td>   -0.251</td>\n",
              "</tr>\n",
              "<tr>\n",
              "  <th>MANEUVER_TURNING LEFT</th>              <td>    0.0567</td> <td>    0.027</td> <td>    2.089</td> <td> 0.037</td> <td>    0.004</td> <td>    0.110</td>\n",
              "</tr>\n",
              "<tr>\n",
              "  <th>MANEUVER_TURNING RIGHT</th>             <td>   -0.1270</td> <td>    0.033</td> <td>   -3.906</td> <td> 0.000</td> <td>   -0.191</td> <td>   -0.063</td>\n",
              "</tr>\n",
              "</table>"
            ],
            "text/latex": "\\begin{center}\n\\begin{tabular}{lclc}\n\\toprule\n\\textbf{Dep. Variable:}                      &      TARGET      & \\textbf{  No. Observations:  } &    707817    \\\\\n\\textbf{Model:}                              &      Logit       & \\textbf{  Df Residuals:      } &    707796    \\\\\n\\textbf{Method:}                             &       MLE        & \\textbf{  Df Model:          } &        20    \\\\\n\\textbf{Date:}                               & Sat, 18 May 2024 & \\textbf{  Pseudo R-squ.:     } &    0.1157    \\\\\n\\textbf{Time:}                               &     01:39:02     & \\textbf{  Log-Likelihood:    } & -1.6179e+05  \\\\\n\\textbf{converged:}                          &       True       & \\textbf{  LL-Null:           } & -1.8296e+05  \\\\\n\\textbf{Covariance Type:}                    &    nonrobust     & \\textbf{  LLR p-value:       } &     0.000    \\\\\n\\bottomrule\n\\end{tabular}\n\\begin{tabular}{lcccccc}\n                                             & \\textbf{coef} & \\textbf{std err} & \\textbf{z} & \\textbf{P$> |$z$|$} & \\textbf{[0.025} & \\textbf{0.975]}  \\\\\n\\midrule\n\\textbf{const}                               &       1.1035  &        0.023     &    46.967  &         0.000        &        1.057    &        1.150     \\\\\n\\textbf{CRASH\\_HOUR}                         &       0.0949  &        0.005     &    20.408  &         0.000        &        0.086    &        0.104     \\\\\n\\textbf{LATITUDE}                            &       0.3252  &        0.026     &    12.517  &         0.000        &        0.274    &        0.376     \\\\\n\\textbf{LONGITUDE}                           &       0.3259  &        0.026     &    12.318  &         0.000        &        0.274    &        0.378     \\\\\n\\textbf{AGE}                                 &      -0.0308  &        0.005     &    -6.335  &         0.000        &       -0.040    &       -0.021     \\\\\n\\textbf{WEATHER\\_CONDITION\\_CLEAR}           &       0.9353  &        0.023     &    40.306  &         0.000        &        0.890    &        0.981     \\\\\n\\textbf{WEATHER\\_CONDITION\\_CLOUDY/OVERCAST} &       0.7811  &        0.032     &    24.111  &         0.000        &        0.718    &        0.845     \\\\\n\\textbf{WEATHER\\_CONDITION\\_RAIN}            &       0.1897  &        0.024     &     7.837  &         0.000        &        0.142    &        0.237     \\\\\n\\textbf{LIGHTING\\_CONDITION\\_DAWN}           &      -0.1863  &        0.033     &    -5.655  &         0.000        &       -0.251    &       -0.122     \\\\\n\\textbf{ROADWAY\\_SURFACE\\_COND\\_DRY}         &       1.3100  &        0.025     &    53.446  &         0.000        &        1.262    &        1.358     \\\\\n\\textbf{ROADWAY\\_SURFACE\\_COND\\_ICE}         &      -1.1769  &        0.033     &   -35.899  &         0.000        &       -1.241    &       -1.113     \\\\\n\\textbf{ROADWAY\\_SURFACE\\_COND\\_WET}         &       0.9185  &        0.024     &    38.134  &         0.000        &        0.871    &        0.966     \\\\\n\\textbf{MANEUVER\\_AVOIDING VEHICLES/OBJECTS} &      -2.2117  &        0.043     &   -51.151  &         0.000        &       -2.296    &       -2.127     \\\\\n\\textbf{MANEUVER\\_CHANGING LANES}            &       0.8668  &        0.059     &    14.720  &         0.000        &        0.751    &        0.982     \\\\\n\\textbf{MANEUVER\\_PARKED}                    &      -1.5021  &        0.024     &   -61.604  &         0.000        &       -1.550    &       -1.454     \\\\\n\\textbf{MANEUVER\\_PASSING/OVERTAKING}        &       1.0298  &        0.055     &    18.645  &         0.000        &        0.922    &        1.138     \\\\\n\\textbf{MANEUVER\\_SKIDDING/CONTROL LOSS}     &      -2.1062  &        0.042     &   -49.946  &         0.000        &       -2.189    &       -2.024     \\\\\n\\textbf{MANEUVER\\_SLOW/STOP IN TRAFFIC}      &      -0.4378  &        0.024     &   -18.552  &         0.000        &       -0.484    &       -0.392     \\\\\n\\textbf{MANEUVER\\_STRAIGHT AHEAD}            &      -0.2901  &        0.020     &   -14.566  &         0.000        &       -0.329    &       -0.251     \\\\\n\\textbf{MANEUVER\\_TURNING LEFT}              &       0.0567  &        0.027     &     2.089  &         0.037        &        0.004    &        0.110     \\\\\n\\textbf{MANEUVER\\_TURNING RIGHT}             &      -0.1270  &        0.033     &    -3.906  &         0.000        &       -0.191    &       -0.063     \\\\\n\\bottomrule\n\\end{tabular}\n%\\caption{Logit Regression Results}\n\\end{center}"
          },
          "metadata": {},
          "execution_count": 51
        }
      ]
    },
    {
      "cell_type": "markdown",
      "source": [
        "Now we have a more reasonable model with all statisitically significant features. Before we try and optimize it via over/under-sampling, let's evaluate its performance via a confusion matrix to see how well it's predicting the target values in our test set."
      ],
      "metadata": {
        "id": "zXkkQL_DM7HM"
      }
    },
    {
      "cell_type": "code",
      "source": [
        "#First, we need to reformat X_test to be comprable to X_train_trimmed_and_stnd_for_Logit.\n",
        "# So far, we've reformatted X_test to include one-hot encoded categorical columns,\n",
        "# but non-standardized numerical data, so we need to (1) standardize those columns,\n",
        "# (2) bring in the categorical ones, then (3) drop every column we've dropped so far.\n",
        "\n",
        "#transforming X_test numeric data\n",
        "X_test_numeric_stnd = scaler.transform(X_test_numeric)\n",
        "X_test_numeric_stnd = pd.DataFrame(X_test_numeric_stnd,\n",
        "                                   columns=X_test_numeric.columns,\n",
        "                                   index=X_test_numeric.index)\n",
        "\n",
        "#bringing X_test's pre-ohe columns back in\n",
        "X_test_trimmed_and_stnd_for_Logit = pd.concat([X_test_numeric_stnd, X_test_categorical_ohe], axis=1)\n",
        "\n",
        "#dropping the columns we dropped from the training data\n",
        "X_test_trimmed_and_stnd_for_Logit.drop(preliminary_columns_to_drop, axis=1, inplace=True)\n",
        "X_test_trimmed_and_stnd_for_Logit.drop(preliminary_columns_to_drop_for_statsmodels, axis=1, inplace=True)\n",
        "X_test_trimmed_and_stnd_for_Logit.drop(insignificant_columns_to_drop, axis=1, inplace=True)\n",
        "\n",
        "X_test_trimmed_and_stnd_for_Logit.info()"
      ],
      "metadata": {
        "id": "VxOHr6zr5FAH",
        "colab": {
          "base_uri": "https://localhost:8080/"
        },
        "outputId": "4cfd0811-f2fb-4741-fbaf-781378b903f4"
      },
      "execution_count": 52,
      "outputs": [
        {
          "output_type": "stream",
          "name": "stdout",
          "text": [
            "<class 'pandas.core.frame.DataFrame'>\n",
            "Index: 176955 entries, 442162 to 446367\n",
            "Data columns (total 20 columns):\n",
            " #   Column                              Non-Null Count   Dtype  \n",
            "---  ------                              --------------   -----  \n",
            " 0   CRASH_HOUR                          176955 non-null  float64\n",
            " 1   LATITUDE                            176955 non-null  float64\n",
            " 2   LONGITUDE                           176955 non-null  float64\n",
            " 3   AGE                                 176955 non-null  float64\n",
            " 4   WEATHER_CONDITION_CLEAR             176955 non-null  float64\n",
            " 5   WEATHER_CONDITION_CLOUDY/OVERCAST   176955 non-null  float64\n",
            " 6   WEATHER_CONDITION_RAIN              176955 non-null  float64\n",
            " 7   LIGHTING_CONDITION_DAWN             176955 non-null  float64\n",
            " 8   ROADWAY_SURFACE_COND_DRY            176955 non-null  float64\n",
            " 9   ROADWAY_SURFACE_COND_ICE            176955 non-null  float64\n",
            " 10  ROADWAY_SURFACE_COND_WET            176955 non-null  float64\n",
            " 11  MANEUVER_AVOIDING VEHICLES/OBJECTS  176955 non-null  float64\n",
            " 12  MANEUVER_CHANGING LANES             176955 non-null  float64\n",
            " 13  MANEUVER_PARKED                     176955 non-null  float64\n",
            " 14  MANEUVER_PASSING/OVERTAKING         176955 non-null  float64\n",
            " 15  MANEUVER_SKIDDING/CONTROL LOSS      176955 non-null  float64\n",
            " 16  MANEUVER_SLOW/STOP IN TRAFFIC       176955 non-null  float64\n",
            " 17  MANEUVER_STRAIGHT AHEAD             176955 non-null  float64\n",
            " 18  MANEUVER_TURNING LEFT               176955 non-null  float64\n",
            " 19  MANEUVER_TURNING RIGHT              176955 non-null  float64\n",
            "dtypes: float64(20)\n",
            "memory usage: 28.4 MB\n"
          ]
        }
      ]
    },
    {
      "cell_type": "code",
      "source": [
        "X_train_trimmed_and_stnd_for_Logit.shape"
      ],
      "metadata": {
        "colab": {
          "base_uri": "https://localhost:8080/"
        },
        "id": "bwLa2DsRvkvy",
        "outputId": "519dc007-e86b-4863-b036-4a496d641c35"
      },
      "execution_count": 53,
      "outputs": [
        {
          "output_type": "execute_result",
          "data": {
            "text/plain": [
              "(707817, 20)"
            ]
          },
          "metadata": {},
          "execution_count": 53
        }
      ]
    },
    {
      "cell_type": "code",
      "source": [
        "X_test_trimmed_and_stnd_for_Logit.shape"
      ],
      "metadata": {
        "colab": {
          "base_uri": "https://localhost:8080/"
        },
        "id": "ROVg2KX9vlEl",
        "outputId": "8cf5330f-f46d-4014-8402-bdff00b31933"
      },
      "execution_count": 54,
      "outputs": [
        {
          "output_type": "execute_result",
          "data": {
            "text/plain": [
              "(176955, 20)"
            ]
          },
          "metadata": {},
          "execution_count": 54
        }
      ]
    },
    {
      "cell_type": "code",
      "source": [
        "y_test.shape"
      ],
      "metadata": {
        "colab": {
          "base_uri": "https://localhost:8080/"
        },
        "id": "Jheeke8mv5sO",
        "outputId": "21cad5cf-1ed0-4f71-b67d-1eabf2ab4b9d"
      },
      "execution_count": 55,
      "outputs": [
        {
          "output_type": "execute_result",
          "data": {
            "text/plain": [
              "(176955,)"
            ]
          },
          "metadata": {},
          "execution_count": 55
        }
      ]
    },
    {
      "cell_type": "code",
      "source": [
        "y_test.unique()"
      ],
      "metadata": {
        "colab": {
          "base_uri": "https://localhost:8080/"
        },
        "id": "T3fcQEn4ww9g",
        "outputId": "f6c5c0a4-927e-4f4d-a10b-295622720e54"
      },
      "execution_count": 56,
      "outputs": [
        {
          "output_type": "execute_result",
          "data": {
            "text/plain": [
              "array([1, 0])"
            ]
          },
          "metadata": {},
          "execution_count": 56
        }
      ]
    },
    {
      "cell_type": "code",
      "source": [
        "X_test_trimmed_and_stnd_for_Logit['CONST'] = 1\n",
        "#X_test_trimmed_and_stnd_for_Logit = X_test_trimmed_and_stnd_for_Logit.insert(0, 'CONST', 1)\n",
        "#cols.insert(0, cols.pop(cols.index('Mid')))\n",
        "X_test_trimmed_and_stnd_for_Logit.info()"
      ],
      "metadata": {
        "colab": {
          "base_uri": "https://localhost:8080/"
        },
        "id": "PFRFRGoRyXTo",
        "outputId": "dfbf6f4c-58dc-463e-a41f-031a3d75c401"
      },
      "execution_count": 57,
      "outputs": [
        {
          "output_type": "stream",
          "name": "stdout",
          "text": [
            "<class 'pandas.core.frame.DataFrame'>\n",
            "Index: 176955 entries, 442162 to 446367\n",
            "Data columns (total 21 columns):\n",
            " #   Column                              Non-Null Count   Dtype  \n",
            "---  ------                              --------------   -----  \n",
            " 0   CRASH_HOUR                          176955 non-null  float64\n",
            " 1   LATITUDE                            176955 non-null  float64\n",
            " 2   LONGITUDE                           176955 non-null  float64\n",
            " 3   AGE                                 176955 non-null  float64\n",
            " 4   WEATHER_CONDITION_CLEAR             176955 non-null  float64\n",
            " 5   WEATHER_CONDITION_CLOUDY/OVERCAST   176955 non-null  float64\n",
            " 6   WEATHER_CONDITION_RAIN              176955 non-null  float64\n",
            " 7   LIGHTING_CONDITION_DAWN             176955 non-null  float64\n",
            " 8   ROADWAY_SURFACE_COND_DRY            176955 non-null  float64\n",
            " 9   ROADWAY_SURFACE_COND_ICE            176955 non-null  float64\n",
            " 10  ROADWAY_SURFACE_COND_WET            176955 non-null  float64\n",
            " 11  MANEUVER_AVOIDING VEHICLES/OBJECTS  176955 non-null  float64\n",
            " 12  MANEUVER_CHANGING LANES             176955 non-null  float64\n",
            " 13  MANEUVER_PARKED                     176955 non-null  float64\n",
            " 14  MANEUVER_PASSING/OVERTAKING         176955 non-null  float64\n",
            " 15  MANEUVER_SKIDDING/CONTROL LOSS      176955 non-null  float64\n",
            " 16  MANEUVER_SLOW/STOP IN TRAFFIC       176955 non-null  float64\n",
            " 17  MANEUVER_STRAIGHT AHEAD             176955 non-null  float64\n",
            " 18  MANEUVER_TURNING LEFT               176955 non-null  float64\n",
            " 19  MANEUVER_TURNING RIGHT              176955 non-null  float64\n",
            " 20  CONST                               176955 non-null  int64  \n",
            "dtypes: float64(20), int64(1)\n",
            "memory usage: 29.7 MB\n"
          ]
        }
      ]
    },
    {
      "cell_type": "code",
      "source": [
        "#making our y_test predictions\n",
        "y_pred_test = round(statistically_significant_Logit.predict(X_test_trimmed_and_stnd_for_Logit), 0)\n",
        "\n",
        "#confusion matrix\n",
        "from sklearn.metrics import ConfusionMatrixDisplay\n",
        "ConfusionMatrixDisplay.from_predictions(y_test, y_pred_test);"
      ],
      "metadata": {
        "colab": {
          "base_uri": "https://localhost:8080/",
          "height": 453
        },
        "id": "Z0XKLRX3uE4l",
        "outputId": "4113ff73-903a-4caf-8409-dd06fc8a98d6"
      },
      "execution_count": 58,
      "outputs": [
        {
          "output_type": "display_data",
          "data": {
            "text/plain": [
              "<Figure size 640x480 with 2 Axes>"
            ],
            "image/png": "[encoded data removed]"
          },
          "metadata": {}
        }
      ]
    },
    {
      "cell_type": "code",
      "source": [
        "from sklearn.metrics import classification_report\n",
        "target_names = ['0', '1']\n",
        "print(classification_report(y_test, y_pred_test, target_names = target_names))"
      ],
      "metadata": {
        "colab": {
          "base_uri": "https://localhost:8080/"
        },
        "id": "FZVx18yUwXFN",
        "outputId": "2151ea1b-9e48-44aa-c0b9-0994017035ae"
      },
      "execution_count": 59,
      "outputs": [
        {
          "output_type": "stream",
          "name": "stdout",
          "text": [
            "              precision    recall  f1-score   support\n",
            "\n",
            "           0       0.07      0.69      0.12     12765\n",
            "           1       0.92      0.27      0.41    164190\n",
            "\n",
            "    accuracy                           0.30    176955\n",
            "   macro avg       0.49      0.48      0.27    176955\n",
            "weighted avg       0.86      0.30      0.39    176955\n",
            "\n"
          ]
        }
      ]
    },
    {
      "cell_type": "markdown",
      "source": [
        "That is horrible, but it's almost certainly because we haven't yet addressed class imbalance."
      ],
      "metadata": {
        "id": "x2KVPAZm4tkj"
      }
    },
    {
      "cell_type": "code",
      "source": [
        "y_train.value_counts()"
      ],
      "metadata": {
        "colab": {
          "base_uri": "https://localhost:8080/"
        },
        "id": "ZjXHxePthi5g",
        "outputId": "b3877000-a0df-4e67-8db1-d1ea90fe3f61"
      },
      "execution_count": 60,
      "outputs": [
        {
          "output_type": "execute_result",
          "data": {
            "text/plain": [
              "TARGET\n",
              "1    656936\n",
              "0     50881\n",
              "Name: count, dtype: int64"
            ]
          },
          "metadata": {},
          "execution_count": 60
        }
      ]
    },
    {
      "cell_type": "code",
      "source": [
        "#refresher on the undersampling strategies\n",
        "undersampling_strategies = [{0:50881, 1:328468}, {0:50881, 1:394162}, {0:50881, 1:459855}, {0:50881, 1:525549}, {0:50881, 1:591252}]\n",
        "\n",
        "#empty list for f1 scores\n",
        "f1_scores = []\n",
        "\n",
        "#iterate through each sampling strategy\n",
        "for i in undersampling_strategies:\n",
        "    # define undersampling strategy\n",
        "    undersample = RandomUnderSampler(random_state=210, sampling_strategy=i)\n",
        "    # fit and apply the undersampling strategy\n",
        "    X_train_trimmed_and_stnd_for_Logit_under, y_train_under = undersample.fit_resample(X_train_trimmed_and_stnd_for_Logit, y_train)\n",
        "    #instantiate & fit the model to X-over & y-over\n",
        "    X_under = sm.add_constant(X_train_trimmed_and_stnd_for_Logit_under)\n",
        "    temp_logit_model = sm.Logit(y_train_under.astype(float), X_under.astype(float))\n",
        "    temp_logit_model = temp_logit_model.fit(maxiter=3500)\n",
        "    #make predictions on test set\n",
        "    y_hat = round(temp_logit_model.predict(X_under), 0)\n",
        "    #find & append f1 score\n",
        "    f1_scores.append(f1_score(y_train_under, y_hat))\n",
        "\n",
        "undersampling_percentages = ['50%:', '60%:', '70%:', '80%:', '90%:']\n",
        "print(\"sampling strategies & f1 scores:\", list(zip(undersampling_percentages, f1_scores)))"
      ],
      "metadata": {
        "colab": {
          "base_uri": "https://localhost:8080/"
        },
        "id": "2NMf93y7xzoo",
        "outputId": "53ee20ec-b469-41f5-bc2d-2a54b77f8bd3"
      },
      "execution_count": 61,
      "outputs": [
        {
          "output_type": "stream",
          "name": "stdout",
          "text": [
            "Optimization terminated successfully.\n",
            "         Current function value: 0.344437\n",
            "         Iterations 7\n",
            "Optimization terminated successfully.\n",
            "         Current function value: 0.311550\n",
            "         Iterations 8\n",
            "Optimization terminated successfully.\n",
            "         Current function value: 0.284951\n",
            "         Iterations 8\n",
            "Optimization terminated successfully.\n",
            "         Current function value: 0.262951\n",
            "         Iterations 8\n",
            "Optimization terminated successfully.\n",
            "         Current function value: 0.244442\n",
            "         Iterations 8\n",
            "sampling strategies & f1 scores: [('50%:', 0.9307005155408586), ('60%:', 0.9414183235895568), ('70%:', 0.9491864566334836), ('80%:', 0.9550649734469039), ('90%:', 0.9596770318464387)]\n"
          ]
        }
      ]
    },
    {
      "cell_type": "markdown",
      "source": [
        "Undersampling at 90% gets the best score so far, now let's try oversampling."
      ],
      "metadata": {
        "id": "UKslmCn17ck_"
      }
    },
    {
      "cell_type": "code",
      "source": [
        "#refresher on the oversampling strategies\n",
        "oversampling_strategies = [{0:55969, 1:656936}, {0:61057, 1:656936}, {0:66145, 1:656936}, {0:71233, 1:656936}, {0:76322, 1:656936}]\n",
        "\n",
        "#empty list for f1 scores\n",
        "f1_scores = []\n",
        "\n",
        "#iterate through each sampling strategy\n",
        "for i in oversampling_strategies:\n",
        "    # define oversampling strategy\n",
        "    oversample = RandomOverSampler(random_state=210, sampling_strategy=i)\n",
        "    # fit and apply the oversampling strategy\n",
        "    X_train_trimmed_and_stnd_for_Logit_over, y_train_over = oversample.fit_resample(X_train_trimmed_and_stnd_for_Logit, y_train)\n",
        "    #instantiate & fit the model to X-over & y-over\n",
        "    X_over = sm.add_constant(X_train_trimmed_and_stnd_for_Logit_over)\n",
        "    temp_logit_model = sm.Logit(y_train_over.astype(float), X_over.astype(float))\n",
        "    temp_logit_model = temp_logit_model.fit(maxiter=3500)\n",
        "    #make predictions\n",
        "    y_hat = round(temp_logit_model.predict(X_over), 0)\n",
        "    #find & append f1 score\n",
        "    f1_scores.append(f1_score(y_train_over, y_hat))\n",
        "\n",
        "oversampling_percentages = ['110%:', '120%:', '130%:', '140%:', '150%:']\n",
        "print(\"sampling strategies & f1 scores:\", list(zip(oversampling_percentages, f1_scores)))"
      ],
      "metadata": {
        "colab": {
          "base_uri": "https://localhost:8080/"
        },
        "id": "Je77BnLp7KxM",
        "outputId": "82b45e41-fb21-4a2f-9299-74803d5067d7"
      },
      "execution_count": 62,
      "outputs": [
        {
          "output_type": "stream",
          "name": "stdout",
          "text": [
            "Optimization terminated successfully.\n",
            "         Current function value: 0.242860\n",
            "         Iterations 8\n",
            "Optimization terminated successfully.\n",
            "         Current function value: 0.256339\n",
            "         Iterations 8\n",
            "Optimization terminated successfully.\n",
            "         Current function value: 0.269339\n",
            "         Iterations 8\n",
            "Optimization terminated successfully.\n",
            "         Current function value: 0.281639\n",
            "         Iterations 8\n",
            "Optimization terminated successfully.\n",
            "         Current function value: 0.293242\n",
            "         Iterations 8\n",
            "sampling strategies & f1 scores: [('110%:', 0.9600413562503667), ('120%:', 0.9567278595924955), ('130%:', 0.95338885800407), ('140%:', 0.9501037296172755), ('150%:', 0.9468680997061669)]\n"
          ]
        }
      ]
    },
    {
      "cell_type": "markdown",
      "source": [
        "Oversampling at 110% does even better. Finally, let's see the extent to which SMOTE oversampling will help."
      ],
      "metadata": {
        "id": "XiYbypi48nhP"
      }
    },
    {
      "cell_type": "code",
      "source": [
        "#empty list for f1 scores\n",
        "f1_scores = []\n",
        "\n",
        "#iterate through each SMOTE oversampling strategy\n",
        "for i in oversampling_strategies:\n",
        "    smote = SMOTE(random_state=210, sampling_strategy=i)\n",
        "    # fit and apply the oversampling strategy\n",
        "    X_train_trimmed_and_stnd_for_Logit_smote, y_train_smote = smote.fit_resample(X_train_trimmed_and_stnd_for_Logit, y_train)\n",
        "    #instantiate & fit the model to X-smote & y-smote\n",
        "    X_smote = sm.add_constant(X_train_trimmed_and_stnd_for_Logit_smote)\n",
        "    temp_logit_model = sm.Logit(y_train_smote.astype(float), X_smote.astype(float))\n",
        "    temp_logit_model = temp_logit_model.fit(maxiter=3500)\n",
        "    #make predictions\n",
        "    y_hat = round(temp_logit_model.predict(X_smote), 0)\n",
        "    #find & append f1 score\n",
        "    f1_scores.append(f1_score(y_train_smote, y_hat))\n",
        "\n",
        "oversampling_percentages = ['110%:', '120%:', '130%:', '140%:', '150%:']\n",
        "print(\"sampling strategies & f1 scores:\", list(zip(oversampling_percentages, f1_scores)))"
      ],
      "metadata": {
        "colab": {
          "base_uri": "https://localhost:8080/"
        },
        "id": "bHUp0w-U8cY0",
        "outputId": "9f4dc6c6-fbd2-4d6a-b819-71367795d77f"
      },
      "execution_count": 63,
      "outputs": [
        {
          "output_type": "stream",
          "name": "stdout",
          "text": [
            "Optimization terminated successfully.\n",
            "         Current function value: 0.242916\n",
            "         Iterations 8\n",
            "Optimization terminated successfully.\n",
            "         Current function value: 0.256306\n",
            "         Iterations 8\n",
            "Optimization terminated successfully.\n",
            "         Current function value: 0.269214\n",
            "         Iterations 8\n",
            "Optimization terminated successfully.\n",
            "         Current function value: 0.281490\n",
            "         Iterations 8\n",
            "Optimization terminated successfully.\n",
            "         Current function value: 0.293032\n",
            "         Iterations 8\n",
            "sampling strategies & f1 scores: [('110%:', 0.960048749296039), ('120%:', 0.95672112646407), ('130%:', 0.9534012470437719), ('140%:', 0.9501341923581175), ('150%:', 0.9468682179976415)]\n"
          ]
        }
      ]
    },
    {
      "cell_type": "markdown",
      "source": [
        "A SMOTE oversampling strategy at 110% just barely outperforms our last-best strategy, so we'll use that."
      ],
      "metadata": {
        "id": "yEF9gee3_Q41"
      }
    },
    {
      "cell_type": "code",
      "source": [
        "#setting the SMOTE sampling_strategy to 110%\n",
        "smote = SMOTE(random_state=210, sampling_strategy={0:55969, 1:656936})\n",
        "#transforming our data\n",
        "X_train_trimmed_and_stnd_for_Logit_smote, y_train_smote = smote.fit_resample(X_train_trimmed_and_stnd_for_Logit, y_train)\n",
        "#instantiate & fit the model to X-smote & y-smote\n",
        "X_smote = sm.add_constant(X_train_trimmed_and_stnd_for_Logit_smote)\n",
        "smote_logit_model = sm.Logit(y_train_smote.astype(float), X_smote.astype(float))\n",
        "smote_logit_model = smote_logit_model.fit(maxiter=3500)\n",
        "\n",
        "#making our test predictions\n",
        "y_pred_test = round(smote_logit_model.predict(X_test_trimmed_and_stnd_for_Logit), 0)\n",
        "\n",
        "#confusion matrix\n",
        "ConfusionMatrixDisplay.from_predictions(y_test, y_pred_test);"
      ],
      "metadata": {
        "colab": {
          "base_uri": "https://localhost:8080/",
          "height": 501
        },
        "id": "Nh0H9TYL-SjR",
        "outputId": "c3d4f9fd-590f-4edf-d2c0-05acd5321a8a"
      },
      "execution_count": 64,
      "outputs": [
        {
          "output_type": "stream",
          "name": "stdout",
          "text": [
            "Optimization terminated successfully.\n",
            "         Current function value: 0.242916\n",
            "         Iterations 8\n"
          ]
        },
        {
          "output_type": "display_data",
          "data": {
            "text/plain": [
              "<Figure size 640x480 with 2 Axes>"
            ],
            "image/png": "[encoded data removed]"
          },
          "metadata": {}
        }
      ]
    },
    {
      "cell_type": "code",
      "source": [
        "print(classification_report(y_test, y_pred_test, target_names = target_names))"
      ],
      "metadata": {
        "colab": {
          "base_uri": "https://localhost:8080/"
        },
        "id": "c-KiMqJORGKN",
        "outputId": "2cf69ccc-85c8-4d1f-fe13-315d9062149f"
      },
      "execution_count": 65,
      "outputs": [
        {
          "output_type": "stream",
          "name": "stdout",
          "text": [
            "              precision    recall  f1-score   support\n",
            "\n",
            "           0       0.07      0.70      0.12     12765\n",
            "           1       0.91      0.25      0.40    164190\n",
            "\n",
            "    accuracy                           0.29    176955\n",
            "   macro avg       0.49      0.48      0.26    176955\n",
            "weighted avg       0.85      0.29      0.38    176955\n",
            "\n"
          ]
        }
      ]
    },
    {
      "cell_type": "markdown",
      "source": [
        "Wow, oversampling didn't really improve our model. Let's try regularization since overfitting seems to be a problem when we compare the f1 scores of our train set (0.96) to our test set above."
      ],
      "metadata": {
        "id": "sXIH5-EfSZ97"
      }
    },
    {
      "cell_type": "code",
      "source": [
        "y_train_smote.shape"
      ],
      "metadata": {
        "colab": {
          "base_uri": "https://localhost:8080/"
        },
        "id": "bwHKGEMXl-xa",
        "outputId": "0788e5b5-672f-46dd-a1dd-82fd56902d94"
      },
      "execution_count": 68,
      "outputs": [
        {
          "output_type": "execute_result",
          "data": {
            "text/plain": [
              "(712905,)"
            ]
          },
          "metadata": {},
          "execution_count": 68
        }
      ]
    },
    {
      "cell_type": "code",
      "source": [
        "X_train_trimmed_and_stnd_for_Logit_smote.shape"
      ],
      "metadata": {
        "colab": {
          "base_uri": "https://localhost:8080/"
        },
        "id": "6YOktS2wcALD",
        "outputId": "54a5efd3-191c-4b68-ade5-a613a210ab81"
      },
      "execution_count": 72,
      "outputs": [
        {
          "output_type": "execute_result",
          "data": {
            "text/plain": [
              "(712905, 20)"
            ]
          },
          "metadata": {},
          "execution_count": 72
        }
      ]
    },
    {
      "cell_type": "code",
      "source": [
        "X_smote.shape"
      ],
      "metadata": {
        "colab": {
          "base_uri": "https://localhost:8080/"
        },
        "id": "H7gT4um1cHuE",
        "outputId": "e8ba835c-d0b5-4c5e-aabf-1b0262142fba"
      },
      "execution_count": 73,
      "outputs": [
        {
          "output_type": "execute_result",
          "data": {
            "text/plain": [
              "(712905, 21)"
            ]
          },
          "metadata": {},
          "execution_count": 73
        }
      ]
    },
    {
      "cell_type": "code",
      "source": [
        "f1_scores = []\n",
        "\n",
        "alpha_levels = [0.1, 0.5, 1, 2, 5, 10, 50]\n",
        "for i in alpha_levels:\n",
        "  X_smote = sm.add_constant(X_train_trimmed_and_stnd_for_Logit_smote)\n",
        "  temp_model = sm.Logit(y_train_smote.astype(float), X_smote.astype(float))\n",
        "  temp_model = temp_model.fit_regularized(maxiter=5000, method='l1', alpha=i, trim_mode='size')\n",
        "\n",
        "  #make predictions\n",
        "  y_hat = round(temp_model.predict(X_smote), 0)\n",
        "  #find & append f1 score\n",
        "  f1_scores.append(f1_score(y_train_smote, y_hat))\n",
        "\n",
        "print(\"alpha levels & f1 scores:\", list(zip(alpha_levels, f1_scores)))"
      ],
      "metadata": {
        "colab": {
          "base_uri": "https://localhost:8080/"
        },
        "id": "w15sGAxuR5HQ",
        "outputId": "42797391-f0fe-4715-a6c7-bbb2b532c66f"
      },
      "execution_count": 83,
      "outputs": [
        {
          "output_type": "stream",
          "name": "stdout",
          "text": [
            "Optimization terminated successfully    (Exit mode 0)\n",
            "            Current function value: 0.2429199498778364\n",
            "            Iterations: 141\n",
            "            Function evaluations: 143\n",
            "            Gradient evaluations: 141\n"
          ]
        },
        {
          "output_type": "stream",
          "name": "stderr",
          "text": [
            "/usr/local/lib/python3.10/dist-packages/statsmodels/base/l1_solvers_common.py:71: ConvergenceWarning: QC check did not pass for 20 out of 21 parameters\n",
            "Try increasing solver accuracy or number of iterations, decreasing alpha, or switch solvers\n",
            "  warnings.warn(message, ConvergenceWarning)\n"
          ]
        },
        {
          "output_type": "stream",
          "name": "stdout",
          "text": [
            "Optimization terminated successfully    (Exit mode 0)\n",
            "            Current function value: 0.24292939818526893\n",
            "            Iterations: 270\n",
            "            Function evaluations: 271\n",
            "            Gradient evaluations: 270\n"
          ]
        },
        {
          "output_type": "stream",
          "name": "stderr",
          "text": [
            "/usr/local/lib/python3.10/dist-packages/statsmodels/base/l1_solvers_common.py:71: ConvergenceWarning: QC check did not pass for 8 out of 21 parameters\n",
            "Try increasing solver accuracy or number of iterations, decreasing alpha, or switch solvers\n",
            "  warnings.warn(message, ConvergenceWarning)\n"
          ]
        },
        {
          "output_type": "stream",
          "name": "stdout",
          "text": [
            "Optimization terminated successfully    (Exit mode 0)\n",
            "            Current function value: 0.24294001437058532\n",
            "            Iterations: 352\n",
            "            Function evaluations: 352\n",
            "            Gradient evaluations: 352\n"
          ]
        },
        {
          "output_type": "stream",
          "name": "stderr",
          "text": [
            "/usr/local/lib/python3.10/dist-packages/statsmodels/base/l1_solvers_common.py:71: ConvergenceWarning: QC check did not pass for 6 out of 21 parameters\n",
            "Try increasing solver accuracy or number of iterations, decreasing alpha, or switch solvers\n",
            "  warnings.warn(message, ConvergenceWarning)\n"
          ]
        },
        {
          "output_type": "stream",
          "name": "stdout",
          "text": [
            "Optimization terminated successfully    (Exit mode 0)\n",
            "            Current function value: 0.24296130086249887\n",
            "            Iterations: 421\n",
            "            Function evaluations: 426\n",
            "            Gradient evaluations: 421\n"
          ]
        },
        {
          "output_type": "stream",
          "name": "stderr",
          "text": [
            "/usr/local/lib/python3.10/dist-packages/statsmodels/base/l1_solvers_common.py:71: ConvergenceWarning: QC check did not pass for 10 out of 21 parameters\n",
            "Try increasing solver accuracy or number of iterations, decreasing alpha, or switch solvers\n",
            "  warnings.warn(message, ConvergenceWarning)\n"
          ]
        },
        {
          "output_type": "stream",
          "name": "stdout",
          "text": [
            "Optimization terminated successfully    (Exit mode 0)\n",
            "            Current function value: 0.24302750441877505\n",
            "            Iterations: 393\n",
            "            Function evaluations: 396\n",
            "            Gradient evaluations: 393\n"
          ]
        },
        {
          "output_type": "stream",
          "name": "stderr",
          "text": [
            "/usr/local/lib/python3.10/dist-packages/statsmodels/base/l1_solvers_common.py:71: ConvergenceWarning: QC check did not pass for 6 out of 21 parameters\n",
            "Try increasing solver accuracy or number of iterations, decreasing alpha, or switch solvers\n",
            "  warnings.warn(message, ConvergenceWarning)\n"
          ]
        },
        {
          "output_type": "stream",
          "name": "stdout",
          "text": [
            "Optimization terminated successfully    (Exit mode 0)\n",
            "            Current function value: 0.2431381205642659\n",
            "            Iterations: 351\n",
            "            Function evaluations: 355\n",
            "            Gradient evaluations: 351\n"
          ]
        },
        {
          "output_type": "stream",
          "name": "stderr",
          "text": [
            "/usr/local/lib/python3.10/dist-packages/statsmodels/base/l1_solvers_common.py:71: ConvergenceWarning: QC check did not pass for 6 out of 21 parameters\n",
            "Try increasing solver accuracy or number of iterations, decreasing alpha, or switch solvers\n",
            "  warnings.warn(message, ConvergenceWarning)\n"
          ]
        },
        {
          "output_type": "stream",
          "name": "stdout",
          "text": [
            "Optimization terminated successfully    (Exit mode 0)\n",
            "            Current function value: 0.2439975437406259\n",
            "            Iterations: 237\n",
            "            Function evaluations: 241\n",
            "            Gradient evaluations: 237\n"
          ]
        },
        {
          "output_type": "stream",
          "name": "stderr",
          "text": [
            "/usr/local/lib/python3.10/dist-packages/statsmodels/base/l1_solvers_common.py:71: ConvergenceWarning: QC check did not pass for 3 out of 21 parameters\n",
            "Try increasing solver accuracy or number of iterations, decreasing alpha, or switch solvers\n",
            "  warnings.warn(message, ConvergenceWarning)\n"
          ]
        },
        {
          "output_type": "stream",
          "name": "stdout",
          "text": [
            "alpha levels & f1 scores: [(0.1, 0.960050919879652), (0.5, 0.9600502158813591), (1, 0.960045346518826), (2, 0.9600454637115254), (5, 0.9600456394992855), (10, 0.9600403592737969), (50, 0.960062522819216)]\n"
          ]
        }
      ]
    },
    {
      "cell_type": "code",
      "source": [
        "#fitting with regularization and alpha set to 0.1\n",
        "sm_logit_smote_reg = sm.Logit(y_train_smote.astype(float), X_smote.astype(float))\n",
        "sm_logit_smote_reg = sm_logit_smote_reg.fit_regularized(maxiter=5000, method='l1', alpha=0.1, trim_mode='size')\n",
        "#making our test predictions\n",
        "y_pred_test = round(sm_logit_smote_reg.predict(X_test_trimmed_and_stnd_for_Logit), 0)\n",
        "#confusion matrix\n",
        "ConfusionMatrixDisplay.from_predictions(y_test, y_pred_test);"
      ],
      "metadata": {
        "colab": {
          "base_uri": "https://localhost:8080/",
          "height": 588
        },
        "id": "2_Qx3u7VpbSG",
        "outputId": "4e1411c5-7251-48c0-971f-f01017c1470b"
      },
      "execution_count": 84,
      "outputs": [
        {
          "output_type": "stream",
          "name": "stdout",
          "text": [
            "Optimization terminated successfully    (Exit mode 0)\n",
            "            Current function value: 0.2429199498778364\n",
            "            Iterations: 141\n",
            "            Function evaluations: 143\n",
            "            Gradient evaluations: 141\n"
          ]
        },
        {
          "output_type": "stream",
          "name": "stderr",
          "text": [
            "/usr/local/lib/python3.10/dist-packages/statsmodels/base/l1_solvers_common.py:71: ConvergenceWarning: QC check did not pass for 20 out of 21 parameters\n",
            "Try increasing solver accuracy or number of iterations, decreasing alpha, or switch solvers\n",
            "  warnings.warn(message, ConvergenceWarning)\n"
          ]
        },
        {
          "output_type": "display_data",
          "data": {
            "text/plain": [
              "<Figure size 640x480 with 2 Axes>"
            ],
            "image/png": "[encoded data removed]"
          },
          "metadata": {}
        }
      ]
    },
    {
      "cell_type": "code",
      "source": [
        "print(classification_report(y_test, y_pred_test, target_names = target_names))"
      ],
      "metadata": {
        "id": "fj--IMsmXt8w",
        "colab": {
          "base_uri": "https://localhost:8080/"
        },
        "outputId": "e6125286-937a-4a8f-a34f-404d740f59c8"
      },
      "execution_count": 85,
      "outputs": [
        {
          "output_type": "stream",
          "name": "stdout",
          "text": [
            "              precision    recall  f1-score   support\n",
            "\n",
            "           0       0.07      0.70      0.12     12765\n",
            "           1       0.92      0.25      0.40    164190\n",
            "\n",
            "    accuracy                           0.29    176955\n",
            "   macro avg       0.49      0.48      0.26    176955\n",
            "weighted avg       0.85      0.29      0.38    176955\n",
            "\n"
          ]
        }
      ]
    },
    {
      "cell_type": "markdown",
      "source": [
        "I give up, this model is too bad to use. I spent two days on this and all I have to show for it is a horribly inaccurate model. This sucks.\n",
        "\n",
        "# Running a decision tree model\n",
        "\n",
        "This is another white-box model we can use to make sense of this data in an interpretable manner. However, running 69 columns isn't so interpretable, so let's begin by reducing the columns to the same extent we did with StatsModels in order to see whether we can produce a more interpretable decision tree graph."
      ],
      "metadata": {
        "id": "A8dvFCX0qh1i"
      }
    },
    {
      "cell_type": "code",
      "source": [
        "X_train_nonstandardized_and_trimmed = X_train_nonstandardized.drop(preliminary_columns_to_drop, axis=1)\n",
        "X_train_nonstandardized_and_trimmed.drop(preliminary_columns_to_drop_for_statsmodels, axis=1, inplace=True)\n",
        "X_train_nonstandardized_and_trimmed.drop(insignificant_columns_to_drop, axis=1, inplace=True)\n",
        "\n",
        "X_train_nonstandardized_and_trimmed.info()"
      ],
      "metadata": {
        "colab": {
          "base_uri": "https://localhost:8080/"
        },
        "id": "8zwHFg5PtdKT",
        "outputId": "d09b7a0a-6d58-4bd2-bc77-5bb10dc68eed"
      },
      "execution_count": 88,
      "outputs": [
        {
          "output_type": "stream",
          "name": "stdout",
          "text": [
            "<class 'pandas.core.frame.DataFrame'>\n",
            "Index: 707817 entries, 571273 to 303626\n",
            "Data columns (total 20 columns):\n",
            " #   Column                              Non-Null Count   Dtype  \n",
            "---  ------                              --------------   -----  \n",
            " 0   CRASH_HOUR                          707817 non-null  int64  \n",
            " 1   LATITUDE                            707817 non-null  float64\n",
            " 2   LONGITUDE                           707817 non-null  float64\n",
            " 3   AGE                                 707817 non-null  int64  \n",
            " 4   WEATHER_CONDITION_CLEAR             707817 non-null  float64\n",
            " 5   WEATHER_CONDITION_CLOUDY/OVERCAST   707817 non-null  float64\n",
            " 6   WEATHER_CONDITION_RAIN              707817 non-null  float64\n",
            " 7   LIGHTING_CONDITION_DAWN             707817 non-null  float64\n",
            " 8   ROADWAY_SURFACE_COND_DRY            707817 non-null  float64\n",
            " 9   ROADWAY_SURFACE_COND_ICE            707817 non-null  float64\n",
            " 10  ROADWAY_SURFACE_COND_WET            707817 non-null  float64\n",
            " 11  MANEUVER_AVOIDING VEHICLES/OBJECTS  707817 non-null  float64\n",
            " 12  MANEUVER_CHANGING LANES             707817 non-null  float64\n",
            " 13  MANEUVER_PARKED                     707817 non-null  float64\n",
            " 14  MANEUVER_PASSING/OVERTAKING         707817 non-null  float64\n",
            " 15  MANEUVER_SKIDDING/CONTROL LOSS      707817 non-null  float64\n",
            " 16  MANEUVER_SLOW/STOP IN TRAFFIC       707817 non-null  float64\n",
            " 17  MANEUVER_STRAIGHT AHEAD             707817 non-null  float64\n",
            " 18  MANEUVER_TURNING LEFT               707817 non-null  float64\n",
            " 19  MANEUVER_TURNING RIGHT              707817 non-null  float64\n",
            "dtypes: float64(18), int64(2)\n",
            "memory usage: 113.4 MB\n"
          ]
        }
      ]
    },
    {
      "cell_type": "code",
      "source": [
        "from sklearn import tree\n",
        "from sklearn.tree import DecisionTreeClassifier\n",
        "#instantiating & fitting the DecisionTreeClassifier model\n",
        "clf_baseline = DecisionTreeClassifier(criterion='entropy', random_state=210)\n",
        "clf_baseline.fit(X_train_nonstandardized_and_trimmed, y_train)"
      ],
      "metadata": {
        "colab": {
          "base_uri": "https://localhost:8080/",
          "height": 74
        },
        "id": "VFzR7XAggEP8",
        "outputId": "db6f80be-ea71-4fb3-e6c4-08d2b69f9690"
      },
      "execution_count": 89,
      "outputs": [
        {
          "output_type": "execute_result",
          "data": {
            "text/plain": [
              "DecisionTreeClassifier(criterion='entropy', random_state=210)"
            ],
            "text/html": [
              "<style>#sk-container-id-3 {color: black;background-color: white;}#sk-container-id-3 pre{padding: 0;}#sk-container-id-3 div.sk-toggleable {background-color: white;}#sk-container-id-3 label.sk-toggleable__label {cursor: pointer;display: block;width: 100%;margin-bottom: 0;padding: 0.3em;box-sizing: border-box;text-align: center;}#sk-container-id-3 label.sk-toggleable__label-arrow:before {content: \"▸\";float: left;margin-right: 0.25em;color: #696969;}#sk-container-id-3 label.sk-toggleable__label-arrow:hover:before {color: black;}#sk-container-id-3 div.sk-estimator:hover label.sk-toggleable__label-arrow:before {color: black;}#sk-container-id-3 div.sk-toggleable__content {max-height: 0;max-width: 0;overflow: hidden;text-align: left;background-color: #f0f8ff;}#sk-container-id-3 div.sk-toggleable__content pre {margin: 0.2em;color: black;border-radius: 0.25em;background-color: #f0f8ff;}#sk-container-id-3 input.sk-toggleable__control:checked~div.sk-toggleable__content {max-height: 200px;max-width: 100%;overflow: auto;}#sk-container-id-3 input.sk-toggleable__control:checked~label.sk-toggleable__label-arrow:before {content: \"▾\";}#sk-container-id-3 div.sk-estimator input.sk-toggleable__control:checked~label.sk-toggleable__label {background-color: #d4ebff;}#sk-container-id-3 div.sk-label input.sk-toggleable__control:checked~label.sk-toggleable__label {background-color: #d4ebff;}#sk-container-id-3 input.sk-hidden--visually {border: 0;clip: rect(1px 1px 1px 1px);clip: rect(1px, 1px, 1px, 1px);height: 1px;margin: -1px;overflow: hidden;padding: 0;position: absolute;width: 1px;}#sk-container-id-3 div.sk-estimator {font-family: monospace;background-color: #f0f8ff;border: 1px dotted black;border-radius: 0.25em;box-sizing: border-box;margin-bottom: 0.5em;}#sk-container-id-3 div.sk-estimator:hover {background-color: #d4ebff;}#sk-container-id-3 div.sk-parallel-item::after {content: \"\";width: 100%;border-bottom: 1px solid gray;flex-grow: 1;}#sk-container-id-3 div.sk-label:hover label.sk-toggleable__label {background-color: #d4ebff;}#sk-container-id-3 div.sk-serial::before {content: \"\";position: absolute;border-left: 1px solid gray;box-sizing: border-box;top: 0;bottom: 0;left: 50%;z-index: 0;}#sk-container-id-3 div.sk-serial {display: flex;flex-direction: column;align-items: center;background-color: white;padding-right: 0.2em;padding-left: 0.2em;position: relative;}#sk-container-id-3 div.sk-item {position: relative;z-index: 1;}#sk-container-id-3 div.sk-parallel {display: flex;align-items: stretch;justify-content: center;background-color: white;position: relative;}#sk-container-id-3 div.sk-item::before, #sk-container-id-3 div.sk-parallel-item::before {content: \"\";position: absolute;border-left: 1px solid gray;box-sizing: border-box;top: 0;bottom: 0;left: 50%;z-index: -1;}#sk-container-id-3 div.sk-parallel-item {display: flex;flex-direction: column;z-index: 1;position: relative;background-color: white;}#sk-container-id-3 div.sk-parallel-item:first-child::after {align-self: flex-end;width: 50%;}#sk-container-id-3 div.sk-parallel-item:last-child::after {align-self: flex-start;width: 50%;}#sk-container-id-3 div.sk-parallel-item:only-child::after {width: 0;}#sk-container-id-3 div.sk-dashed-wrapped {border: 1px dashed gray;margin: 0 0.4em 0.5em 0.4em;box-sizing: border-box;padding-bottom: 0.4em;background-color: white;}#sk-container-id-3 div.sk-label label {font-family: monospace;font-weight: bold;display: inline-block;line-height: 1.2em;}#sk-container-id-3 div.sk-label-container {text-align: center;}#sk-container-id-3 div.sk-container {/* jupyter's `normalize.less` sets `[hidden] { display: none; }` but bootstrap.min.css set `[hidden] { display: none !important; }` so we also need the `!important` here to be able to override the default hidden behavior on the sphinx rendered scikit-learn.org. See: https://github.com/scikit-learn/scikit-learn/issues/21755 */display: inline-block !important;position: relative;}#sk-container-id-3 div.sk-text-repr-fallback {display: none;}</style><div id=\"sk-container-id-3\" class=\"sk-top-container\"><div class=\"sk-text-repr-fallback\"><pre>DecisionTreeClassifier(criterion=&#x27;entropy&#x27;, random_state=210)</pre><b>In a Jupyter environment, please rerun this cell to show the HTML representation or trust the notebook. <br />On GitHub, the HTML representation is unable to render, please try loading this page with nbviewer.org.</b></div><div class=\"sk-container\" hidden><div class=\"sk-item\"><div class=\"sk-estimator sk-toggleable\"><input class=\"sk-toggleable__control sk-hidden--visually\" id=\"sk-estimator-id-5\" type=\"checkbox\" checked><label for=\"sk-estimator-id-5\" class=\"sk-toggleable__label sk-toggleable__label-arrow\">DecisionTreeClassifier</label><div class=\"sk-toggleable__content\"><pre>DecisionTreeClassifier(criterion=&#x27;entropy&#x27;, random_state=210)</pre></div></div></div></div></div>"
            ]
          },
          "metadata": {},
          "execution_count": 89
        }
      ]
    },
    {
      "cell_type": "code",
      "source": [
        "#Checking out the tree plot\n",
        "fig, ax = plt.subplots(figsize=(20,30))\n",
        "tree.plot_tree(clf_baseline,\n",
        "              feature_names = X_train_nonstandardized_and_trimmed.columns,\n",
        "              class_names = np.unique(y).astype('str'),\n",
        "              filled=True)\n",
        "plt.show();"
      ],
      "metadata": {
        "id": "4v_cEz9CrRZF"
      },
      "execution_count": null,
      "outputs": []
    }
  ]
}