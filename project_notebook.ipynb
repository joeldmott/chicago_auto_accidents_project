{
  "cells": [
    {
      "cell_type": "markdown",
      "metadata": {
        "id": "view-in-github",
        "colab_type": "text"
      },
      "source": [
        "<a href=\"https://colab.research.google.com/github/joeldmott/chicago_auto_accidents_project/blob/main/project_notebook.ipynb\" target=\"_parent\"><img src=\"https://colab.research.google.com/assets/colab-badge.svg\" alt=\"Open In Colab\"/></a>"
      ]
    },
    {
      "cell_type": "markdown",
      "metadata": {
        "id": "Ihb3p5dyBuO3"
      },
      "source": [
        "# Determining the Primary Causes of Traffic Accidents in Chicago\n",
        "\n",
        "This projects raw dataset originates from the [City of Chicago's website](https://data.cityofchicago.org/Transportation/Traffic-Crashes-Crashes/85ca-t3if/about_data), where it is updated daily. I downloaded the data on May 1st, 2024 and [uploaded that snapshot to Kaggle](https://www.kaggle.com/datasets/joelmott/chicago-traffic-crashes-may-2024).\n",
        "\n",
        "This dataset consists of three seperate csv files: one for general crash information, one for the people involved in each crash, and one for each vehicle. When merged, the resulting dataset contains over 150 columns and 3.8 million records. In order to improve modeling results and interpretability, I narrowed that down to 15 feature columns and one target column in this [data engineering notebook](https://github.com/joeldmott/chicago_auto_accidents_project/blob/main/data_engineering_notebook.ipynb).\n",
        "\n",
        "In this project, I use the resulting csv file from that data engineering effort."
      ]
    },
    {
      "cell_type": "code",
      "execution_count": 1,
      "metadata": {
        "id": "CC4jPqddzEY4"
      },
      "outputs": [],
      "source": [
        "import json\n",
        "import os\n",
        "from pathlib import Path\n",
        "from google.colab import userdata\n",
        "\n",
        "# api key for importing Kaggle and downloading the datasets\n",
        "os.environ[\"KAGGLE_KEY\"] = userdata.get('KAGGLE_KEY')\n",
        "os.environ[\"KAGGLE_USERNAME\"] = userdata.get('KAGGLE_USERNAME')\n",
        "# api key for the json object below\n",
        "api_key = userdata.get('API_KEY')\n",
        "\n",
        "# uses pathlib Path\n",
        "kaggle_path = Path('/root/.kaggle')\n",
        "os.makedirs(kaggle_path, exist_ok=True)\n",
        "\n",
        "# opens file and dumps python dict to json object\n",
        "with open (kaggle_path/'kaggle.json', 'w') as handl:\n",
        "    json.dump(api_key,handl)\n",
        "\n",
        "os.chmod(kaggle_path/'kaggle.json', 600)"
      ]
    },
    {
      "cell_type": "code",
      "execution_count": 2,
      "metadata": {
        "colab": {
          "base_uri": "https://localhost:8080/"
        },
        "id": "Dh9J9BgNzO2J",
        "outputId": "7c872b30-3430-4a36-bcb3-d22b27a517bc"
      },
      "outputs": [
        {
          "output_type": "stream",
          "name": "stdout",
          "text": [
            "Dataset URL: https://www.kaggle.com/datasets/joelmott/chicago-traffic-crashes-may-2024\n",
            "License(s): CC0-1.0\n",
            "Downloading trimmed_chicago_crashes_data.csv.zip to /content\n",
            " 54% 5.00M/9.28M [00:00<00:00, 40.6MB/s]\n",
            "100% 9.28M/9.28M [00:00<00:00, 58.4MB/s]\n"
          ]
        }
      ],
      "source": [
        "#importing Kaggle module and downloading pre-engineered csv file\n",
        "import kaggle\n",
        "! kaggle datasets download joelmott/chicago-traffic-crashes-may-2024 -f trimmed_chicago_crashes_data.csv\n",
        "#downloading the files we'll need later for the Chicago area map\n",
        "#! kaggle datasets download joelmott/chicago-traffic-crashes-may-2024 -f geo_export_df22ab9c-413f-437b-bc82-670738159fac.cpg\n",
        "#! kaggle datasets download joelmott/chicago-traffic-crashes-may-2024 -f geo_export_df22ab9c-413f-437b-bc82-670738159fac.dbf\n",
        "#! kaggle datasets download joelmott/chicago-traffic-crashes-may-2024 -f geo_export_df22ab9c-413f-437b-bc82-670738159fac.prj\n",
        "#! kaggle datasets download joelmott/chicago-traffic-crashes-may-2024 -f geo_export_df22ab9c-413f-437b-bc82-670738159fac.shp\n",
        "#! kaggle datasets download joelmott/chicago-traffic-crashes-may-2024 -f geo_export_df22ab9c-413f-437b-bc82-670738159fac.shx"
      ]
    },
    {
      "cell_type": "code",
      "execution_count": 3,
      "metadata": {
        "colab": {
          "base_uri": "https://localhost:8080/"
        },
        "id": "4ByunR1U1IQh",
        "outputId": "3ca36641-9cb3-4f80-98d8-dcc6ed6ceb9b"
      },
      "outputs": [
        {
          "output_type": "stream",
          "name": "stdout",
          "text": [
            "Archive:  /content/trimmed_chicago_crashes_data.csv.zip\n",
            "  inflating: trimmed_chicago_crashes_data.csv  \n"
          ]
        }
      ],
      "source": [
        "#unzipping the larger CSV file with our trimmed dataset\n",
        "!unzip /content/trimmed_chicago_crashes_data.csv"
      ]
    },
    {
      "cell_type": "code",
      "execution_count": 4,
      "metadata": {
        "colab": {
          "base_uri": "https://localhost:8080/"
        },
        "id": "iuPkF1pq68rd",
        "outputId": "84bcc8e2-fd9f-4e37-cb37-65280ac191bf"
      },
      "outputs": [
        {
          "output_type": "stream",
          "name": "stdout",
          "text": [
            "Cloning into 'chicago_auto_accidents_project'...\n",
            "remote: Enumerating objects: 267, done.\u001b[K\n",
            "remote: Counting objects: 100% (167/167), done.\u001b[K\n",
            "remote: Compressing objects: 100% (119/119), done.\u001b[K\n",
            "remote: Total 267 (delta 114), reused 55 (delta 47), pack-reused 100\u001b[K\n",
            "Receiving objects: 100% (267/267), 20.26 MiB | 6.42 MiB/s, done.\n",
            "Resolving deltas: 100% (159/159), done.\n"
          ]
        }
      ],
      "source": [
        "#the map data files didn't work via Kaggle, so let's bring them in via GitHub\n",
        "!git clone https://github.com/joeldmott/chicago_auto_accidents_project.git"
      ]
    },
    {
      "cell_type": "code",
      "execution_count": 5,
      "metadata": {
        "colab": {
          "base_uri": "https://localhost:8080/",
          "height": 295
        },
        "id": "fqAU-rH8zeBO",
        "outputId": "19cc12d2-fa9a-4067-9f34-1699fdd64bd7"
      },
      "outputs": [
        {
          "output_type": "execute_result",
          "data": {
            "text/plain": [
              "   POSTED_SPEED_LIMIT WEATHER_CONDITION LIGHTING_CONDITION  \\\n",
              "0                  30             CLEAR           DAYLIGHT   \n",
              "1                  30             CLEAR           DAYLIGHT   \n",
              "2                  15             CLEAR           DAYLIGHT   \n",
              "3                  15             CLEAR           DAYLIGHT   \n",
              "4                  30             CLEAR           DAYLIGHT   \n",
              "\n",
              "  ROADWAY_SURFACE_COND  NUM_UNITS  CRASH_HOUR  CRASH_DAY_OF_WEEK  CRASH_MONTH  \\\n",
              "0                  DRY          2          17                  6            8   \n",
              "1                  DRY          2          17                  6            8   \n",
              "2                  DRY          2          12                  4            9   \n",
              "3                  DRY          2          12                  4            9   \n",
              "4                  DRY          2          11                  4            9   \n",
              "\n",
              "    LATITUDE  LONGITUDE PERSON_TYPE SEX   AGE TRAVEL_DIRECTION  \\\n",
              "0  41.942976 -87.761883     BICYCLE   M  14.0                S   \n",
              "1  41.942976 -87.761883      DRIVER   M  36.0                S   \n",
              "2  41.744152 -87.585945      DRIVER   M  55.0                W   \n",
              "3  41.744152 -87.585945      DRIVER   M  55.0                S   \n",
              "4  41.937252 -87.776321      DRIVER   M  39.0                S   \n",
              "\n",
              "               MANEUVER  TARGET  \n",
              "0        STRAIGHT AHEAD       1  \n",
              "1        STRAIGHT AHEAD       1  \n",
              "2               BACKING       1  \n",
              "3  SLOW/STOP IN TRAFFIC       1  \n",
              "4        STRAIGHT AHEAD       1  "
            ],
            "text/html": [
              "\n",
              "  <div id=\"df-f1edd89d-4dfa-4ee9-a8a4-a144129ca647\" class=\"colab-df-container\">\n",
              "    <div>\n",
              "<style scoped>\n",
              "    .dataframe tbody tr th:only-of-type {\n",
              "        vertical-align: middle;\n",
              "    }\n",
              "\n",
              "    .dataframe tbody tr th {\n",
              "        vertical-align: top;\n",
              "    }\n",
              "\n",
              "    .dataframe thead th {\n",
              "        text-align: right;\n",
              "    }\n",
              "</style>\n",
              "<table border=\"1\" class=\"dataframe\">\n",
              "  <thead>\n",
              "    <tr style=\"text-align: right;\">\n",
              "      <th></th>\n",
              "      <th>POSTED_SPEED_LIMIT</th>\n",
              "      <th>WEATHER_CONDITION</th>\n",
              "      <th>LIGHTING_CONDITION</th>\n",
              "      <th>ROADWAY_SURFACE_COND</th>\n",
              "      <th>NUM_UNITS</th>\n",
              "      <th>CRASH_HOUR</th>\n",
              "      <th>CRASH_DAY_OF_WEEK</th>\n",
              "      <th>CRASH_MONTH</th>\n",
              "      <th>LATITUDE</th>\n",
              "      <th>LONGITUDE</th>\n",
              "      <th>PERSON_TYPE</th>\n",
              "      <th>SEX</th>\n",
              "      <th>AGE</th>\n",
              "      <th>TRAVEL_DIRECTION</th>\n",
              "      <th>MANEUVER</th>\n",
              "      <th>TARGET</th>\n",
              "    </tr>\n",
              "  </thead>\n",
              "  <tbody>\n",
              "    <tr>\n",
              "      <th>0</th>\n",
              "      <td>30</td>\n",
              "      <td>CLEAR</td>\n",
              "      <td>DAYLIGHT</td>\n",
              "      <td>DRY</td>\n",
              "      <td>2</td>\n",
              "      <td>17</td>\n",
              "      <td>6</td>\n",
              "      <td>8</td>\n",
              "      <td>41.942976</td>\n",
              "      <td>-87.761883</td>\n",
              "      <td>BICYCLE</td>\n",
              "      <td>M</td>\n",
              "      <td>14.0</td>\n",
              "      <td>S</td>\n",
              "      <td>STRAIGHT AHEAD</td>\n",
              "      <td>1</td>\n",
              "    </tr>\n",
              "    <tr>\n",
              "      <th>1</th>\n",
              "      <td>30</td>\n",
              "      <td>CLEAR</td>\n",
              "      <td>DAYLIGHT</td>\n",
              "      <td>DRY</td>\n",
              "      <td>2</td>\n",
              "      <td>17</td>\n",
              "      <td>6</td>\n",
              "      <td>8</td>\n",
              "      <td>41.942976</td>\n",
              "      <td>-87.761883</td>\n",
              "      <td>DRIVER</td>\n",
              "      <td>M</td>\n",
              "      <td>36.0</td>\n",
              "      <td>S</td>\n",
              "      <td>STRAIGHT AHEAD</td>\n",
              "      <td>1</td>\n",
              "    </tr>\n",
              "    <tr>\n",
              "      <th>2</th>\n",
              "      <td>15</td>\n",
              "      <td>CLEAR</td>\n",
              "      <td>DAYLIGHT</td>\n",
              "      <td>DRY</td>\n",
              "      <td>2</td>\n",
              "      <td>12</td>\n",
              "      <td>4</td>\n",
              "      <td>9</td>\n",
              "      <td>41.744152</td>\n",
              "      <td>-87.585945</td>\n",
              "      <td>DRIVER</td>\n",
              "      <td>M</td>\n",
              "      <td>55.0</td>\n",
              "      <td>W</td>\n",
              "      <td>BACKING</td>\n",
              "      <td>1</td>\n",
              "    </tr>\n",
              "    <tr>\n",
              "      <th>3</th>\n",
              "      <td>15</td>\n",
              "      <td>CLEAR</td>\n",
              "      <td>DAYLIGHT</td>\n",
              "      <td>DRY</td>\n",
              "      <td>2</td>\n",
              "      <td>12</td>\n",
              "      <td>4</td>\n",
              "      <td>9</td>\n",
              "      <td>41.744152</td>\n",
              "      <td>-87.585945</td>\n",
              "      <td>DRIVER</td>\n",
              "      <td>M</td>\n",
              "      <td>55.0</td>\n",
              "      <td>S</td>\n",
              "      <td>SLOW/STOP IN TRAFFIC</td>\n",
              "      <td>1</td>\n",
              "    </tr>\n",
              "    <tr>\n",
              "      <th>4</th>\n",
              "      <td>30</td>\n",
              "      <td>CLEAR</td>\n",
              "      <td>DAYLIGHT</td>\n",
              "      <td>DRY</td>\n",
              "      <td>2</td>\n",
              "      <td>11</td>\n",
              "      <td>4</td>\n",
              "      <td>9</td>\n",
              "      <td>41.937252</td>\n",
              "      <td>-87.776321</td>\n",
              "      <td>DRIVER</td>\n",
              "      <td>M</td>\n",
              "      <td>39.0</td>\n",
              "      <td>S</td>\n",
              "      <td>STRAIGHT AHEAD</td>\n",
              "      <td>1</td>\n",
              "    </tr>\n",
              "  </tbody>\n",
              "</table>\n",
              "</div>\n",
              "    <div class=\"colab-df-buttons\">\n",
              "\n",
              "  <div class=\"colab-df-container\">\n",
              "    <button class=\"colab-df-convert\" onclick=\"convertToInteractive('df-f1edd89d-4dfa-4ee9-a8a4-a144129ca647')\"\n",
              "            title=\"Convert this dataframe to an interactive table.\"\n",
              "            style=\"display:none;\">\n",
              "\n",
              "  <svg xmlns=\"http://www.w3.org/2000/svg\" height=\"24px\" viewBox=\"0 -960 960 960\">\n",
              "    <path d=\"M120-120v-720h720v720H120Zm60-500h600v-160H180v160Zm220 220h160v-160H400v160Zm0 220h160v-160H400v160ZM180-400h160v-160H180v160Zm440 0h160v-160H620v160ZM180-180h160v-160H180v160Zm440 0h160v-160H620v160Z\"/>\n",
              "  </svg>\n",
              "    </button>\n",
              "\n",
              "  <style>\n",
              "    .colab-df-container {\n",
              "      display:flex;\n",
              "      gap: 12px;\n",
              "    }\n",
              "\n",
              "    .colab-df-convert {\n",
              "      background-color: #E8F0FE;\n",
              "      border: none;\n",
              "      border-radius: 50%;\n",
              "      cursor: pointer;\n",
              "      display: none;\n",
              "      fill: #1967D2;\n",
              "      height: 32px;\n",
              "      padding: 0 0 0 0;\n",
              "      width: 32px;\n",
              "    }\n",
              "\n",
              "    .colab-df-convert:hover {\n",
              "      background-color: #E2EBFA;\n",
              "      box-shadow: 0px 1px 2px rgba(60, 64, 67, 0.3), 0px 1px 3px 1px rgba(60, 64, 67, 0.15);\n",
              "      fill: #174EA6;\n",
              "    }\n",
              "\n",
              "    .colab-df-buttons div {\n",
              "      margin-bottom: 4px;\n",
              "    }\n",
              "\n",
              "    [theme=dark] .colab-df-convert {\n",
              "      background-color: #3B4455;\n",
              "      fill: #D2E3FC;\n",
              "    }\n",
              "\n",
              "    [theme=dark] .colab-df-convert:hover {\n",
              "      background-color: #434B5C;\n",
              "      box-shadow: 0px 1px 3px 1px rgba(0, 0, 0, 0.15);\n",
              "      filter: drop-shadow(0px 1px 2px rgba(0, 0, 0, 0.3));\n",
              "      fill: #FFFFFF;\n",
              "    }\n",
              "  </style>\n",
              "\n",
              "    <script>\n",
              "      const buttonEl =\n",
              "        document.querySelector('#df-f1edd89d-4dfa-4ee9-a8a4-a144129ca647 button.colab-df-convert');\n",
              "      buttonEl.style.display =\n",
              "        google.colab.kernel.accessAllowed ? 'block' : 'none';\n",
              "\n",
              "      async function convertToInteractive(key) {\n",
              "        const element = document.querySelector('#df-f1edd89d-4dfa-4ee9-a8a4-a144129ca647');\n",
              "        const dataTable =\n",
              "          await google.colab.kernel.invokeFunction('convertToInteractive',\n",
              "                                                    [key], {});\n",
              "        if (!dataTable) return;\n",
              "\n",
              "        const docLinkHtml = 'Like what you see? Visit the ' +\n",
              "          '<a target=\"_blank\" href=https://colab.research.google.com/notebooks/data_table.ipynb>data table notebook</a>'\n",
              "          + ' to learn more about interactive tables.';\n",
              "        element.innerHTML = '';\n",
              "        dataTable['output_type'] = 'display_data';\n",
              "        await google.colab.output.renderOutput(dataTable, element);\n",
              "        const docLink = document.createElement('div');\n",
              "        docLink.innerHTML = docLinkHtml;\n",
              "        element.appendChild(docLink);\n",
              "      }\n",
              "    </script>\n",
              "  </div>\n",
              "\n",
              "\n",
              "<div id=\"df-61831b33-ae48-4933-b328-544009b329b1\">\n",
              "  <button class=\"colab-df-quickchart\" onclick=\"quickchart('df-61831b33-ae48-4933-b328-544009b329b1')\"\n",
              "            title=\"Suggest charts\"\n",
              "            style=\"display:none;\">\n",
              "\n",
              "<svg xmlns=\"http://www.w3.org/2000/svg\" height=\"24px\"viewBox=\"0 0 24 24\"\n",
              "     width=\"24px\">\n",
              "    <g>\n",
              "        <path d=\"M19 3H5c-1.1 0-2 .9-2 2v14c0 1.1.9 2 2 2h14c1.1 0 2-.9 2-2V5c0-1.1-.9-2-2-2zM9 17H7v-7h2v7zm4 0h-2V7h2v10zm4 0h-2v-4h2v4z\"/>\n",
              "    </g>\n",
              "</svg>\n",
              "  </button>\n",
              "\n",
              "<style>\n",
              "  .colab-df-quickchart {\n",
              "      --bg-color: #E8F0FE;\n",
              "      --fill-color: #1967D2;\n",
              "      --hover-bg-color: #E2EBFA;\n",
              "      --hover-fill-color: #174EA6;\n",
              "      --disabled-fill-color: #AAA;\n",
              "      --disabled-bg-color: #DDD;\n",
              "  }\n",
              "\n",
              "  [theme=dark] .colab-df-quickchart {\n",
              "      --bg-color: #3B4455;\n",
              "      --fill-color: #D2E3FC;\n",
              "      --hover-bg-color: #434B5C;\n",
              "      --hover-fill-color: #FFFFFF;\n",
              "      --disabled-bg-color: #3B4455;\n",
              "      --disabled-fill-color: #666;\n",
              "  }\n",
              "\n",
              "  .colab-df-quickchart {\n",
              "    background-color: var(--bg-color);\n",
              "    border: none;\n",
              "    border-radius: 50%;\n",
              "    cursor: pointer;\n",
              "    display: none;\n",
              "    fill: var(--fill-color);\n",
              "    height: 32px;\n",
              "    padding: 0;\n",
              "    width: 32px;\n",
              "  }\n",
              "\n",
              "  .colab-df-quickchart:hover {\n",
              "    background-color: var(--hover-bg-color);\n",
              "    box-shadow: 0 1px 2px rgba(60, 64, 67, 0.3), 0 1px 3px 1px rgba(60, 64, 67, 0.15);\n",
              "    fill: var(--button-hover-fill-color);\n",
              "  }\n",
              "\n",
              "  .colab-df-quickchart-complete:disabled,\n",
              "  .colab-df-quickchart-complete:disabled:hover {\n",
              "    background-color: var(--disabled-bg-color);\n",
              "    fill: var(--disabled-fill-color);\n",
              "    box-shadow: none;\n",
              "  }\n",
              "\n",
              "  .colab-df-spinner {\n",
              "    border: 2px solid var(--fill-color);\n",
              "    border-color: transparent;\n",
              "    border-bottom-color: var(--fill-color);\n",
              "    animation:\n",
              "      spin 1s steps(1) infinite;\n",
              "  }\n",
              "\n",
              "  @keyframes spin {\n",
              "    0% {\n",
              "      border-color: transparent;\n",
              "      border-bottom-color: var(--fill-color);\n",
              "      border-left-color: var(--fill-color);\n",
              "    }\n",
              "    20% {\n",
              "      border-color: transparent;\n",
              "      border-left-color: var(--fill-color);\n",
              "      border-top-color: var(--fill-color);\n",
              "    }\n",
              "    30% {\n",
              "      border-color: transparent;\n",
              "      border-left-color: var(--fill-color);\n",
              "      border-top-color: var(--fill-color);\n",
              "      border-right-color: var(--fill-color);\n",
              "    }\n",
              "    40% {\n",
              "      border-color: transparent;\n",
              "      border-right-color: var(--fill-color);\n",
              "      border-top-color: var(--fill-color);\n",
              "    }\n",
              "    60% {\n",
              "      border-color: transparent;\n",
              "      border-right-color: var(--fill-color);\n",
              "    }\n",
              "    80% {\n",
              "      border-color: transparent;\n",
              "      border-right-color: var(--fill-color);\n",
              "      border-bottom-color: var(--fill-color);\n",
              "    }\n",
              "    90% {\n",
              "      border-color: transparent;\n",
              "      border-bottom-color: var(--fill-color);\n",
              "    }\n",
              "  }\n",
              "</style>\n",
              "\n",
              "  <script>\n",
              "    async function quickchart(key) {\n",
              "      const quickchartButtonEl =\n",
              "        document.querySelector('#' + key + ' button');\n",
              "      quickchartButtonEl.disabled = true;  // To prevent multiple clicks.\n",
              "      quickchartButtonEl.classList.add('colab-df-spinner');\n",
              "      try {\n",
              "        const charts = await google.colab.kernel.invokeFunction(\n",
              "            'suggestCharts', [key], {});\n",
              "      } catch (error) {\n",
              "        console.error('Error during call to suggestCharts:', error);\n",
              "      }\n",
              "      quickchartButtonEl.classList.remove('colab-df-spinner');\n",
              "      quickchartButtonEl.classList.add('colab-df-quickchart-complete');\n",
              "    }\n",
              "    (() => {\n",
              "      let quickchartButtonEl =\n",
              "        document.querySelector('#df-61831b33-ae48-4933-b328-544009b329b1 button');\n",
              "      quickchartButtonEl.style.display =\n",
              "        google.colab.kernel.accessAllowed ? 'block' : 'none';\n",
              "    })();\n",
              "  </script>\n",
              "</div>\n",
              "\n",
              "    </div>\n",
              "  </div>\n"
            ],
            "application/vnd.google.colaboratory.intrinsic+json": {
              "type": "dataframe",
              "variable_name": "df"
            }
          },
          "metadata": {},
          "execution_count": 5
        }
      ],
      "source": [
        "#reading the main CSV file in as a DataFrame\n",
        "import pandas as pd\n",
        "df = pd.read_csv('/content/trimmed_chicago_crashes_data.csv')\n",
        "df.head()"
      ]
    },
    {
      "cell_type": "code",
      "execution_count": 6,
      "metadata": {
        "colab": {
          "base_uri": "https://localhost:8080/"
        },
        "id": "N84Iz4H109C1",
        "outputId": "94213995-0710-448a-c920-9e90addaf6c1"
      },
      "outputs": [
        {
          "output_type": "stream",
          "name": "stdout",
          "text": [
            "<class 'pandas.core.frame.DataFrame'>\n",
            "RangeIndex: 884691 entries, 0 to 884690\n",
            "Data columns (total 16 columns):\n",
            " #   Column                Non-Null Count   Dtype  \n",
            "---  ------                --------------   -----  \n",
            " 0   POSTED_SPEED_LIMIT    884691 non-null  int64  \n",
            " 1   WEATHER_CONDITION     884691 non-null  object \n",
            " 2   LIGHTING_CONDITION    884691 non-null  object \n",
            " 3   ROADWAY_SURFACE_COND  884691 non-null  object \n",
            " 4   NUM_UNITS             884691 non-null  int64  \n",
            " 5   CRASH_HOUR            884691 non-null  int64  \n",
            " 6   CRASH_DAY_OF_WEEK     884691 non-null  int64  \n",
            " 7   CRASH_MONTH           884691 non-null  int64  \n",
            " 8   LATITUDE              884691 non-null  float64\n",
            " 9   LONGITUDE             884691 non-null  float64\n",
            " 10  PERSON_TYPE           884691 non-null  object \n",
            " 11  SEX                   884691 non-null  object \n",
            " 12  AGE                   884691 non-null  float64\n",
            " 13  TRAVEL_DIRECTION      884691 non-null  object \n",
            " 14  MANEUVER              884691 non-null  object \n",
            " 15  TARGET                884691 non-null  int64  \n",
            "dtypes: float64(3), int64(6), object(7)\n",
            "memory usage: 108.0+ MB\n"
          ]
        }
      ],
      "source": [
        "#let's check and see if it looks like it did back in the data engineering notebook:\n",
        "df.info()"
      ]
    },
    {
      "cell_type": "markdown",
      "metadata": {
        "id": "lK_TdGr5BrO0"
      },
      "source": [
        "## valuation measures\n",
        "\n",
        "This file is more managable than the gargantuan raw data, but still contains plenty of records. Subsequently, we'll validate this project using a train-test split as opposed to cross-validation."
      ]
    },
    {
      "cell_type": "code",
      "execution_count": 7,
      "metadata": {
        "id": "Z9Npuvs81UFR"
      },
      "outputs": [],
      "source": [
        "from sklearn.model_selection import train_test_split\n",
        "X = df.drop('TARGET', axis=1)\n",
        "y = df['TARGET']\n",
        "X_train, X_test, y_train, y_test = train_test_split(X, y, test_size=0.2, random_state=210)"
      ]
    },
    {
      "cell_type": "markdown",
      "metadata": {
        "id": "V2YWLZax7Ocn"
      },
      "source": [
        "## preprocessing data\n",
        "\n",
        "Now we can standardize our numeric columns and one-hot encode our categorical ones before inputting these features into models."
      ]
    },
    {
      "cell_type": "code",
      "execution_count": 8,
      "metadata": {
        "id": "WPQWI2TWEMbO"
      },
      "outputs": [],
      "source": [
        "#establishing which features are numeric or categorical\n",
        "numeric_features = ['POSTED_SPEED_LIMIT', 'NUM_UNITS', 'CRASH_HOUR', 'LATITUDE', 'LONGITUDE', 'AGE']\n",
        "\n",
        "categorical_features = ['WEATHER_CONDITION', 'LIGHTING_CONDITION', 'ROADWAY_SURFACE_COND',\n",
        "                        'CRASH_DAY_OF_WEEK', 'PERSON_TYPE', 'SEX', 'TRAVEL_DIRECTION', 'MANEUVER']\n",
        "\n",
        "#splitting them up for preprocessing\n",
        "X_train_numeric = X_train[numeric_features]\n",
        "X_train_categorical = X_train[categorical_features]"
      ]
    },
    {
      "cell_type": "markdown",
      "metadata": {
        "id": "KWiZ_Nz3JIf1"
      },
      "source": [
        "First, we'll standardize the numeric features since they have varied scales that throw off measures like PCA."
      ]
    },
    {
      "cell_type": "code",
      "execution_count": 9,
      "metadata": {
        "colab": {
          "base_uri": "https://localhost:8080/",
          "height": 206
        },
        "id": "qsQ0J5V0E4Y0",
        "outputId": "4dc2e4f6-a112-4870-f371-ad07708cf809"
      },
      "outputs": [
        {
          "output_type": "execute_result",
          "data": {
            "text/plain": [
              "        POSTED_SPEED_LIMIT  NUM_UNITS  CRASH_HOUR  LATITUDE  LONGITUDE  \\\n",
              "262116            0.131695  -0.331558   -0.823912  0.141162   0.836824   \n",
              "792637            0.131695  -0.331558   -0.634991  1.367298   0.014819   \n",
              "167787            1.140425  -0.331558   -1.012832 -2.269501   0.647798   \n",
              "433111            0.131695  -0.331558    1.254214 -0.229799   1.195767   \n",
              "477277            0.131695  -0.331558    0.309611 -2.025592  -0.653104   \n",
              "\n",
              "             AGE  \n",
              "262116 -1.045784  \n",
              "792637 -0.983018  \n",
              "167787 -1.359612  \n",
              "433111  1.025482  \n",
              "477277 -0.041534  "
            ],
            "text/html": [
              "\n",
              "  <div id=\"df-7c09b8a6-d142-456f-b4b7-d9e524ddbd4c\" class=\"colab-df-container\">\n",
              "    <div>\n",
              "<style scoped>\n",
              "    .dataframe tbody tr th:only-of-type {\n",
              "        vertical-align: middle;\n",
              "    }\n",
              "\n",
              "    .dataframe tbody tr th {\n",
              "        vertical-align: top;\n",
              "    }\n",
              "\n",
              "    .dataframe thead th {\n",
              "        text-align: right;\n",
              "    }\n",
              "</style>\n",
              "<table border=\"1\" class=\"dataframe\">\n",
              "  <thead>\n",
              "    <tr style=\"text-align: right;\">\n",
              "      <th></th>\n",
              "      <th>POSTED_SPEED_LIMIT</th>\n",
              "      <th>NUM_UNITS</th>\n",
              "      <th>CRASH_HOUR</th>\n",
              "      <th>LATITUDE</th>\n",
              "      <th>LONGITUDE</th>\n",
              "      <th>AGE</th>\n",
              "    </tr>\n",
              "  </thead>\n",
              "  <tbody>\n",
              "    <tr>\n",
              "      <th>262116</th>\n",
              "      <td>0.131695</td>\n",
              "      <td>-0.331558</td>\n",
              "      <td>-0.823912</td>\n",
              "      <td>0.141162</td>\n",
              "      <td>0.836824</td>\n",
              "      <td>-1.045784</td>\n",
              "    </tr>\n",
              "    <tr>\n",
              "      <th>792637</th>\n",
              "      <td>0.131695</td>\n",
              "      <td>-0.331558</td>\n",
              "      <td>-0.634991</td>\n",
              "      <td>1.367298</td>\n",
              "      <td>0.014819</td>\n",
              "      <td>-0.983018</td>\n",
              "    </tr>\n",
              "    <tr>\n",
              "      <th>167787</th>\n",
              "      <td>1.140425</td>\n",
              "      <td>-0.331558</td>\n",
              "      <td>-1.012832</td>\n",
              "      <td>-2.269501</td>\n",
              "      <td>0.647798</td>\n",
              "      <td>-1.359612</td>\n",
              "    </tr>\n",
              "    <tr>\n",
              "      <th>433111</th>\n",
              "      <td>0.131695</td>\n",
              "      <td>-0.331558</td>\n",
              "      <td>1.254214</td>\n",
              "      <td>-0.229799</td>\n",
              "      <td>1.195767</td>\n",
              "      <td>1.025482</td>\n",
              "    </tr>\n",
              "    <tr>\n",
              "      <th>477277</th>\n",
              "      <td>0.131695</td>\n",
              "      <td>-0.331558</td>\n",
              "      <td>0.309611</td>\n",
              "      <td>-2.025592</td>\n",
              "      <td>-0.653104</td>\n",
              "      <td>-0.041534</td>\n",
              "    </tr>\n",
              "  </tbody>\n",
              "</table>\n",
              "</div>\n",
              "    <div class=\"colab-df-buttons\">\n",
              "\n",
              "  <div class=\"colab-df-container\">\n",
              "    <button class=\"colab-df-convert\" onclick=\"convertToInteractive('df-7c09b8a6-d142-456f-b4b7-d9e524ddbd4c')\"\n",
              "            title=\"Convert this dataframe to an interactive table.\"\n",
              "            style=\"display:none;\">\n",
              "\n",
              "  <svg xmlns=\"http://www.w3.org/2000/svg\" height=\"24px\" viewBox=\"0 -960 960 960\">\n",
              "    <path d=\"M120-120v-720h720v720H120Zm60-500h600v-160H180v160Zm220 220h160v-160H400v160Zm0 220h160v-160H400v160ZM180-400h160v-160H180v160Zm440 0h160v-160H620v160ZM180-180h160v-160H180v160Zm440 0h160v-160H620v160Z\"/>\n",
              "  </svg>\n",
              "    </button>\n",
              "\n",
              "  <style>\n",
              "    .colab-df-container {\n",
              "      display:flex;\n",
              "      gap: 12px;\n",
              "    }\n",
              "\n",
              "    .colab-df-convert {\n",
              "      background-color: #E8F0FE;\n",
              "      border: none;\n",
              "      border-radius: 50%;\n",
              "      cursor: pointer;\n",
              "      display: none;\n",
              "      fill: #1967D2;\n",
              "      height: 32px;\n",
              "      padding: 0 0 0 0;\n",
              "      width: 32px;\n",
              "    }\n",
              "\n",
              "    .colab-df-convert:hover {\n",
              "      background-color: #E2EBFA;\n",
              "      box-shadow: 0px 1px 2px rgba(60, 64, 67, 0.3), 0px 1px 3px 1px rgba(60, 64, 67, 0.15);\n",
              "      fill: #174EA6;\n",
              "    }\n",
              "\n",
              "    .colab-df-buttons div {\n",
              "      margin-bottom: 4px;\n",
              "    }\n",
              "\n",
              "    [theme=dark] .colab-df-convert {\n",
              "      background-color: #3B4455;\n",
              "      fill: #D2E3FC;\n",
              "    }\n",
              "\n",
              "    [theme=dark] .colab-df-convert:hover {\n",
              "      background-color: #434B5C;\n",
              "      box-shadow: 0px 1px 3px 1px rgba(0, 0, 0, 0.15);\n",
              "      filter: drop-shadow(0px 1px 2px rgba(0, 0, 0, 0.3));\n",
              "      fill: #FFFFFF;\n",
              "    }\n",
              "  </style>\n",
              "\n",
              "    <script>\n",
              "      const buttonEl =\n",
              "        document.querySelector('#df-7c09b8a6-d142-456f-b4b7-d9e524ddbd4c button.colab-df-convert');\n",
              "      buttonEl.style.display =\n",
              "        google.colab.kernel.accessAllowed ? 'block' : 'none';\n",
              "\n",
              "      async function convertToInteractive(key) {\n",
              "        const element = document.querySelector('#df-7c09b8a6-d142-456f-b4b7-d9e524ddbd4c');\n",
              "        const dataTable =\n",
              "          await google.colab.kernel.invokeFunction('convertToInteractive',\n",
              "                                                    [key], {});\n",
              "        if (!dataTable) return;\n",
              "\n",
              "        const docLinkHtml = 'Like what you see? Visit the ' +\n",
              "          '<a target=\"_blank\" href=https://colab.research.google.com/notebooks/data_table.ipynb>data table notebook</a>'\n",
              "          + ' to learn more about interactive tables.';\n",
              "        element.innerHTML = '';\n",
              "        dataTable['output_type'] = 'display_data';\n",
              "        await google.colab.output.renderOutput(dataTable, element);\n",
              "        const docLink = document.createElement('div');\n",
              "        docLink.innerHTML = docLinkHtml;\n",
              "        element.appendChild(docLink);\n",
              "      }\n",
              "    </script>\n",
              "  </div>\n",
              "\n",
              "\n",
              "<div id=\"df-a9fd85f7-84d6-45ad-953f-ee56f7727cf3\">\n",
              "  <button class=\"colab-df-quickchart\" onclick=\"quickchart('df-a9fd85f7-84d6-45ad-953f-ee56f7727cf3')\"\n",
              "            title=\"Suggest charts\"\n",
              "            style=\"display:none;\">\n",
              "\n",
              "<svg xmlns=\"http://www.w3.org/2000/svg\" height=\"24px\"viewBox=\"0 0 24 24\"\n",
              "     width=\"24px\">\n",
              "    <g>\n",
              "        <path d=\"M19 3H5c-1.1 0-2 .9-2 2v14c0 1.1.9 2 2 2h14c1.1 0 2-.9 2-2V5c0-1.1-.9-2-2-2zM9 17H7v-7h2v7zm4 0h-2V7h2v10zm4 0h-2v-4h2v4z\"/>\n",
              "    </g>\n",
              "</svg>\n",
              "  </button>\n",
              "\n",
              "<style>\n",
              "  .colab-df-quickchart {\n",
              "      --bg-color: #E8F0FE;\n",
              "      --fill-color: #1967D2;\n",
              "      --hover-bg-color: #E2EBFA;\n",
              "      --hover-fill-color: #174EA6;\n",
              "      --disabled-fill-color: #AAA;\n",
              "      --disabled-bg-color: #DDD;\n",
              "  }\n",
              "\n",
              "  [theme=dark] .colab-df-quickchart {\n",
              "      --bg-color: #3B4455;\n",
              "      --fill-color: #D2E3FC;\n",
              "      --hover-bg-color: #434B5C;\n",
              "      --hover-fill-color: #FFFFFF;\n",
              "      --disabled-bg-color: #3B4455;\n",
              "      --disabled-fill-color: #666;\n",
              "  }\n",
              "\n",
              "  .colab-df-quickchart {\n",
              "    background-color: var(--bg-color);\n",
              "    border: none;\n",
              "    border-radius: 50%;\n",
              "    cursor: pointer;\n",
              "    display: none;\n",
              "    fill: var(--fill-color);\n",
              "    height: 32px;\n",
              "    padding: 0;\n",
              "    width: 32px;\n",
              "  }\n",
              "\n",
              "  .colab-df-quickchart:hover {\n",
              "    background-color: var(--hover-bg-color);\n",
              "    box-shadow: 0 1px 2px rgba(60, 64, 67, 0.3), 0 1px 3px 1px rgba(60, 64, 67, 0.15);\n",
              "    fill: var(--button-hover-fill-color);\n",
              "  }\n",
              "\n",
              "  .colab-df-quickchart-complete:disabled,\n",
              "  .colab-df-quickchart-complete:disabled:hover {\n",
              "    background-color: var(--disabled-bg-color);\n",
              "    fill: var(--disabled-fill-color);\n",
              "    box-shadow: none;\n",
              "  }\n",
              "\n",
              "  .colab-df-spinner {\n",
              "    border: 2px solid var(--fill-color);\n",
              "    border-color: transparent;\n",
              "    border-bottom-color: var(--fill-color);\n",
              "    animation:\n",
              "      spin 1s steps(1) infinite;\n",
              "  }\n",
              "\n",
              "  @keyframes spin {\n",
              "    0% {\n",
              "      border-color: transparent;\n",
              "      border-bottom-color: var(--fill-color);\n",
              "      border-left-color: var(--fill-color);\n",
              "    }\n",
              "    20% {\n",
              "      border-color: transparent;\n",
              "      border-left-color: var(--fill-color);\n",
              "      border-top-color: var(--fill-color);\n",
              "    }\n",
              "    30% {\n",
              "      border-color: transparent;\n",
              "      border-left-color: var(--fill-color);\n",
              "      border-top-color: var(--fill-color);\n",
              "      border-right-color: var(--fill-color);\n",
              "    }\n",
              "    40% {\n",
              "      border-color: transparent;\n",
              "      border-right-color: var(--fill-color);\n",
              "      border-top-color: var(--fill-color);\n",
              "    }\n",
              "    60% {\n",
              "      border-color: transparent;\n",
              "      border-right-color: var(--fill-color);\n",
              "    }\n",
              "    80% {\n",
              "      border-color: transparent;\n",
              "      border-right-color: var(--fill-color);\n",
              "      border-bottom-color: var(--fill-color);\n",
              "    }\n",
              "    90% {\n",
              "      border-color: transparent;\n",
              "      border-bottom-color: var(--fill-color);\n",
              "    }\n",
              "  }\n",
              "</style>\n",
              "\n",
              "  <script>\n",
              "    async function quickchart(key) {\n",
              "      const quickchartButtonEl =\n",
              "        document.querySelector('#' + key + ' button');\n",
              "      quickchartButtonEl.disabled = true;  // To prevent multiple clicks.\n",
              "      quickchartButtonEl.classList.add('colab-df-spinner');\n",
              "      try {\n",
              "        const charts = await google.colab.kernel.invokeFunction(\n",
              "            'suggestCharts', [key], {});\n",
              "      } catch (error) {\n",
              "        console.error('Error during call to suggestCharts:', error);\n",
              "      }\n",
              "      quickchartButtonEl.classList.remove('colab-df-spinner');\n",
              "      quickchartButtonEl.classList.add('colab-df-quickchart-complete');\n",
              "    }\n",
              "    (() => {\n",
              "      let quickchartButtonEl =\n",
              "        document.querySelector('#df-a9fd85f7-84d6-45ad-953f-ee56f7727cf3 button');\n",
              "      quickchartButtonEl.style.display =\n",
              "        google.colab.kernel.accessAllowed ? 'block' : 'none';\n",
              "    })();\n",
              "  </script>\n",
              "</div>\n",
              "\n",
              "    </div>\n",
              "  </div>\n"
            ],
            "application/vnd.google.colaboratory.intrinsic+json": {
              "type": "dataframe",
              "variable_name": "X_train_numeric_scaled"
            }
          },
          "metadata": {},
          "execution_count": 9
        }
      ],
      "source": [
        "from sklearn.preprocessing import StandardScaler\n",
        "\n",
        "scaler = StandardScaler()\n",
        "X_train_numeric_scaled = scaler.fit_transform(X_train_numeric)\n",
        "X_train_numeric_scaled = pd.DataFrame(X_train_numeric_scaled,\n",
        "                                      columns = X_train_numeric.columns,\n",
        "                                      index = X_train_numeric.index)\n",
        "X_train_numeric_scaled.head()"
      ]
    },
    {
      "cell_type": "markdown",
      "metadata": {
        "id": "8zhJzKIWLY20"
      },
      "source": [
        "Looks good; let's one-hot encode the categorical variables. Since we'll be using regularization to optimize our models, we won't need to drop one of the resulting dummy variables. This will help with model interpretability."
      ]
    },
    {
      "cell_type": "code",
      "execution_count": 10,
      "metadata": {
        "colab": {
          "base_uri": "https://localhost:8080/",
          "height": 273
        },
        "id": "03kmheLCIYBN",
        "outputId": "9cc84b0e-a576-46ca-cb16-b82044ce8fe2"
      },
      "outputs": [
        {
          "output_type": "execute_result",
          "data": {
            "text/plain": [
              "        WEATHER_CONDITION_BLOWING SAND, SOIL, DIRT  \\\n",
              "262116                                         0.0   \n",
              "792637                                         0.0   \n",
              "167787                                         0.0   \n",
              "433111                                         0.0   \n",
              "477277                                         0.0   \n",
              "\n",
              "        WEATHER_CONDITION_BLOWING SNOW  WEATHER_CONDITION_CLEAR  \\\n",
              "262116                             0.0                      0.0   \n",
              "792637                             0.0                      1.0   \n",
              "167787                             0.0                      1.0   \n",
              "433111                             0.0                      1.0   \n",
              "477277                             0.0                      1.0   \n",
              "\n",
              "        WEATHER_CONDITION_CLOUDY/OVERCAST  WEATHER_CONDITION_FOG/SMOKE/HAZE  \\\n",
              "262116                                0.0                               0.0   \n",
              "792637                                0.0                               0.0   \n",
              "167787                                0.0                               0.0   \n",
              "433111                                0.0                               0.0   \n",
              "477277                                0.0                               0.0   \n",
              "\n",
              "        WEATHER_CONDITION_FREEZING RAIN/DRIZZLE  WEATHER_CONDITION_RAIN  \\\n",
              "262116                                      0.0                     0.0   \n",
              "792637                                      0.0                     0.0   \n",
              "167787                                      0.0                     0.0   \n",
              "433111                                      0.0                     0.0   \n",
              "477277                                      0.0                     0.0   \n",
              "\n",
              "        WEATHER_CONDITION_SEVERE CROSS WIND GATE  \\\n",
              "262116                                       0.0   \n",
              "792637                                       0.0   \n",
              "167787                                       0.0   \n",
              "433111                                       0.0   \n",
              "477277                                       0.0   \n",
              "\n",
              "        WEATHER_CONDITION_SLEET/HAIL  WEATHER_CONDITION_SNOW  ...  \\\n",
              "262116                           0.0                     1.0  ...   \n",
              "792637                           0.0                     0.0  ...   \n",
              "167787                           0.0                     0.0  ...   \n",
              "433111                           0.0                     0.0  ...   \n",
              "477277                           0.0                     0.0  ...   \n",
              "\n",
              "        MANEUVER_SKIDDING/CONTROL LOSS  MANEUVER_SLOW/STOP - LEFT TURN  \\\n",
              "262116                             0.0                             0.0   \n",
              "792637                             0.0                             0.0   \n",
              "167787                             0.0                             0.0   \n",
              "433111                             0.0                             0.0   \n",
              "477277                             0.0                             0.0   \n",
              "\n",
              "        MANEUVER_SLOW/STOP - LOAD/UNLOAD  MANEUVER_SLOW/STOP - RIGHT TURN  \\\n",
              "262116                               0.0                              0.0   \n",
              "792637                               0.0                              0.0   \n",
              "167787                               0.0                              0.0   \n",
              "433111                               0.0                              0.0   \n",
              "477277                               0.0                              0.0   \n",
              "\n",
              "        MANEUVER_SLOW/STOP IN TRAFFIC  MANEUVER_STARTING IN TRAFFIC  \\\n",
              "262116                            0.0                           0.0   \n",
              "792637                            1.0                           0.0   \n",
              "167787                            0.0                           1.0   \n",
              "433111                            0.0                           0.0   \n",
              "477277                            0.0                           0.0   \n",
              "\n",
              "        MANEUVER_STRAIGHT AHEAD  MANEUVER_TURNING LEFT  \\\n",
              "262116                      1.0                    0.0   \n",
              "792637                      0.0                    0.0   \n",
              "167787                      0.0                    0.0   \n",
              "433111                      0.0                    0.0   \n",
              "477277                      1.0                    0.0   \n",
              "\n",
              "        MANEUVER_TURNING RIGHT  MANEUVER_U-TURN  \n",
              "262116                     0.0              0.0  \n",
              "792637                     0.0              0.0  \n",
              "167787                     0.0              0.0  \n",
              "433111                     0.0              0.0  \n",
              "477277                     0.0              0.0  \n",
              "\n",
              "[5 rows x 63 columns]"
            ],
            "text/html": [
              "\n",
              "  <div id=\"df-d08102f0-d347-4168-a186-ee275698733d\" class=\"colab-df-container\">\n",
              "    <div>\n",
              "<style scoped>\n",
              "    .dataframe tbody tr th:only-of-type {\n",
              "        vertical-align: middle;\n",
              "    }\n",
              "\n",
              "    .dataframe tbody tr th {\n",
              "        vertical-align: top;\n",
              "    }\n",
              "\n",
              "    .dataframe thead th {\n",
              "        text-align: right;\n",
              "    }\n",
              "</style>\n",
              "<table border=\"1\" class=\"dataframe\">\n",
              "  <thead>\n",
              "    <tr style=\"text-align: right;\">\n",
              "      <th></th>\n",
              "      <th>WEATHER_CONDITION_BLOWING SAND, SOIL, DIRT</th>\n",
              "      <th>WEATHER_CONDITION_BLOWING SNOW</th>\n",
              "      <th>WEATHER_CONDITION_CLEAR</th>\n",
              "      <th>WEATHER_CONDITION_CLOUDY/OVERCAST</th>\n",
              "      <th>WEATHER_CONDITION_FOG/SMOKE/HAZE</th>\n",
              "      <th>WEATHER_CONDITION_FREEZING RAIN/DRIZZLE</th>\n",
              "      <th>WEATHER_CONDITION_RAIN</th>\n",
              "      <th>WEATHER_CONDITION_SEVERE CROSS WIND GATE</th>\n",
              "      <th>WEATHER_CONDITION_SLEET/HAIL</th>\n",
              "      <th>WEATHER_CONDITION_SNOW</th>\n",
              "      <th>...</th>\n",
              "      <th>MANEUVER_SKIDDING/CONTROL LOSS</th>\n",
              "      <th>MANEUVER_SLOW/STOP - LEFT TURN</th>\n",
              "      <th>MANEUVER_SLOW/STOP - LOAD/UNLOAD</th>\n",
              "      <th>MANEUVER_SLOW/STOP - RIGHT TURN</th>\n",
              "      <th>MANEUVER_SLOW/STOP IN TRAFFIC</th>\n",
              "      <th>MANEUVER_STARTING IN TRAFFIC</th>\n",
              "      <th>MANEUVER_STRAIGHT AHEAD</th>\n",
              "      <th>MANEUVER_TURNING LEFT</th>\n",
              "      <th>MANEUVER_TURNING RIGHT</th>\n",
              "      <th>MANEUVER_U-TURN</th>\n",
              "    </tr>\n",
              "  </thead>\n",
              "  <tbody>\n",
              "    <tr>\n",
              "      <th>262116</th>\n",
              "      <td>0.0</td>\n",
              "      <td>0.0</td>\n",
              "      <td>0.0</td>\n",
              "      <td>0.0</td>\n",
              "      <td>0.0</td>\n",
              "      <td>0.0</td>\n",
              "      <td>0.0</td>\n",
              "      <td>0.0</td>\n",
              "      <td>0.0</td>\n",
              "      <td>1.0</td>\n",
              "      <td>...</td>\n",
              "      <td>0.0</td>\n",
              "      <td>0.0</td>\n",
              "      <td>0.0</td>\n",
              "      <td>0.0</td>\n",
              "      <td>0.0</td>\n",
              "      <td>0.0</td>\n",
              "      <td>1.0</td>\n",
              "      <td>0.0</td>\n",
              "      <td>0.0</td>\n",
              "      <td>0.0</td>\n",
              "    </tr>\n",
              "    <tr>\n",
              "      <th>792637</th>\n",
              "      <td>0.0</td>\n",
              "      <td>0.0</td>\n",
              "      <td>1.0</td>\n",
              "      <td>0.0</td>\n",
              "      <td>0.0</td>\n",
              "      <td>0.0</td>\n",
              "      <td>0.0</td>\n",
              "      <td>0.0</td>\n",
              "      <td>0.0</td>\n",
              "      <td>0.0</td>\n",
              "      <td>...</td>\n",
              "      <td>0.0</td>\n",
              "      <td>0.0</td>\n",
              "      <td>0.0</td>\n",
              "      <td>0.0</td>\n",
              "      <td>1.0</td>\n",
              "      <td>0.0</td>\n",
              "      <td>0.0</td>\n",
              "      <td>0.0</td>\n",
              "      <td>0.0</td>\n",
              "      <td>0.0</td>\n",
              "    </tr>\n",
              "    <tr>\n",
              "      <th>167787</th>\n",
              "      <td>0.0</td>\n",
              "      <td>0.0</td>\n",
              "      <td>1.0</td>\n",
              "      <td>0.0</td>\n",
              "      <td>0.0</td>\n",
              "      <td>0.0</td>\n",
              "      <td>0.0</td>\n",
              "      <td>0.0</td>\n",
              "      <td>0.0</td>\n",
              "      <td>0.0</td>\n",
              "      <td>...</td>\n",
              "      <td>0.0</td>\n",
              "      <td>0.0</td>\n",
              "      <td>0.0</td>\n",
              "      <td>0.0</td>\n",
              "      <td>0.0</td>\n",
              "      <td>1.0</td>\n",
              "      <td>0.0</td>\n",
              "      <td>0.0</td>\n",
              "      <td>0.0</td>\n",
              "      <td>0.0</td>\n",
              "    </tr>\n",
              "    <tr>\n",
              "      <th>433111</th>\n",
              "      <td>0.0</td>\n",
              "      <td>0.0</td>\n",
              "      <td>1.0</td>\n",
              "      <td>0.0</td>\n",
              "      <td>0.0</td>\n",
              "      <td>0.0</td>\n",
              "      <td>0.0</td>\n",
              "      <td>0.0</td>\n",
              "      <td>0.0</td>\n",
              "      <td>0.0</td>\n",
              "      <td>...</td>\n",
              "      <td>0.0</td>\n",
              "      <td>0.0</td>\n",
              "      <td>0.0</td>\n",
              "      <td>0.0</td>\n",
              "      <td>0.0</td>\n",
              "      <td>0.0</td>\n",
              "      <td>0.0</td>\n",
              "      <td>0.0</td>\n",
              "      <td>0.0</td>\n",
              "      <td>0.0</td>\n",
              "    </tr>\n",
              "    <tr>\n",
              "      <th>477277</th>\n",
              "      <td>0.0</td>\n",
              "      <td>0.0</td>\n",
              "      <td>1.0</td>\n",
              "      <td>0.0</td>\n",
              "      <td>0.0</td>\n",
              "      <td>0.0</td>\n",
              "      <td>0.0</td>\n",
              "      <td>0.0</td>\n",
              "      <td>0.0</td>\n",
              "      <td>0.0</td>\n",
              "      <td>...</td>\n",
              "      <td>0.0</td>\n",
              "      <td>0.0</td>\n",
              "      <td>0.0</td>\n",
              "      <td>0.0</td>\n",
              "      <td>0.0</td>\n",
              "      <td>0.0</td>\n",
              "      <td>1.0</td>\n",
              "      <td>0.0</td>\n",
              "      <td>0.0</td>\n",
              "      <td>0.0</td>\n",
              "    </tr>\n",
              "  </tbody>\n",
              "</table>\n",
              "<p>5 rows × 63 columns</p>\n",
              "</div>\n",
              "    <div class=\"colab-df-buttons\">\n",
              "\n",
              "  <div class=\"colab-df-container\">\n",
              "    <button class=\"colab-df-convert\" onclick=\"convertToInteractive('df-d08102f0-d347-4168-a186-ee275698733d')\"\n",
              "            title=\"Convert this dataframe to an interactive table.\"\n",
              "            style=\"display:none;\">\n",
              "\n",
              "  <svg xmlns=\"http://www.w3.org/2000/svg\" height=\"24px\" viewBox=\"0 -960 960 960\">\n",
              "    <path d=\"M120-120v-720h720v720H120Zm60-500h600v-160H180v160Zm220 220h160v-160H400v160Zm0 220h160v-160H400v160ZM180-400h160v-160H180v160Zm440 0h160v-160H620v160ZM180-180h160v-160H180v160Zm440 0h160v-160H620v160Z\"/>\n",
              "  </svg>\n",
              "    </button>\n",
              "\n",
              "  <style>\n",
              "    .colab-df-container {\n",
              "      display:flex;\n",
              "      gap: 12px;\n",
              "    }\n",
              "\n",
              "    .colab-df-convert {\n",
              "      background-color: #E8F0FE;\n",
              "      border: none;\n",
              "      border-radius: 50%;\n",
              "      cursor: pointer;\n",
              "      display: none;\n",
              "      fill: #1967D2;\n",
              "      height: 32px;\n",
              "      padding: 0 0 0 0;\n",
              "      width: 32px;\n",
              "    }\n",
              "\n",
              "    .colab-df-convert:hover {\n",
              "      background-color: #E2EBFA;\n",
              "      box-shadow: 0px 1px 2px rgba(60, 64, 67, 0.3), 0px 1px 3px 1px rgba(60, 64, 67, 0.15);\n",
              "      fill: #174EA6;\n",
              "    }\n",
              "\n",
              "    .colab-df-buttons div {\n",
              "      margin-bottom: 4px;\n",
              "    }\n",
              "\n",
              "    [theme=dark] .colab-df-convert {\n",
              "      background-color: #3B4455;\n",
              "      fill: #D2E3FC;\n",
              "    }\n",
              "\n",
              "    [theme=dark] .colab-df-convert:hover {\n",
              "      background-color: #434B5C;\n",
              "      box-shadow: 0px 1px 3px 1px rgba(0, 0, 0, 0.15);\n",
              "      filter: drop-shadow(0px 1px 2px rgba(0, 0, 0, 0.3));\n",
              "      fill: #FFFFFF;\n",
              "    }\n",
              "  </style>\n",
              "\n",
              "    <script>\n",
              "      const buttonEl =\n",
              "        document.querySelector('#df-d08102f0-d347-4168-a186-ee275698733d button.colab-df-convert');\n",
              "      buttonEl.style.display =\n",
              "        google.colab.kernel.accessAllowed ? 'block' : 'none';\n",
              "\n",
              "      async function convertToInteractive(key) {\n",
              "        const element = document.querySelector('#df-d08102f0-d347-4168-a186-ee275698733d');\n",
              "        const dataTable =\n",
              "          await google.colab.kernel.invokeFunction('convertToInteractive',\n",
              "                                                    [key], {});\n",
              "        if (!dataTable) return;\n",
              "\n",
              "        const docLinkHtml = 'Like what you see? Visit the ' +\n",
              "          '<a target=\"_blank\" href=https://colab.research.google.com/notebooks/data_table.ipynb>data table notebook</a>'\n",
              "          + ' to learn more about interactive tables.';\n",
              "        element.innerHTML = '';\n",
              "        dataTable['output_type'] = 'display_data';\n",
              "        await google.colab.output.renderOutput(dataTable, element);\n",
              "        const docLink = document.createElement('div');\n",
              "        docLink.innerHTML = docLinkHtml;\n",
              "        element.appendChild(docLink);\n",
              "      }\n",
              "    </script>\n",
              "  </div>\n",
              "\n",
              "\n",
              "<div id=\"df-7d4f3076-177c-4914-8935-58f82eb51d40\">\n",
              "  <button class=\"colab-df-quickchart\" onclick=\"quickchart('df-7d4f3076-177c-4914-8935-58f82eb51d40')\"\n",
              "            title=\"Suggest charts\"\n",
              "            style=\"display:none;\">\n",
              "\n",
              "<svg xmlns=\"http://www.w3.org/2000/svg\" height=\"24px\"viewBox=\"0 0 24 24\"\n",
              "     width=\"24px\">\n",
              "    <g>\n",
              "        <path d=\"M19 3H5c-1.1 0-2 .9-2 2v14c0 1.1.9 2 2 2h14c1.1 0 2-.9 2-2V5c0-1.1-.9-2-2-2zM9 17H7v-7h2v7zm4 0h-2V7h2v10zm4 0h-2v-4h2v4z\"/>\n",
              "    </g>\n",
              "</svg>\n",
              "  </button>\n",
              "\n",
              "<style>\n",
              "  .colab-df-quickchart {\n",
              "      --bg-color: #E8F0FE;\n",
              "      --fill-color: #1967D2;\n",
              "      --hover-bg-color: #E2EBFA;\n",
              "      --hover-fill-color: #174EA6;\n",
              "      --disabled-fill-color: #AAA;\n",
              "      --disabled-bg-color: #DDD;\n",
              "  }\n",
              "\n",
              "  [theme=dark] .colab-df-quickchart {\n",
              "      --bg-color: #3B4455;\n",
              "      --fill-color: #D2E3FC;\n",
              "      --hover-bg-color: #434B5C;\n",
              "      --hover-fill-color: #FFFFFF;\n",
              "      --disabled-bg-color: #3B4455;\n",
              "      --disabled-fill-color: #666;\n",
              "  }\n",
              "\n",
              "  .colab-df-quickchart {\n",
              "    background-color: var(--bg-color);\n",
              "    border: none;\n",
              "    border-radius: 50%;\n",
              "    cursor: pointer;\n",
              "    display: none;\n",
              "    fill: var(--fill-color);\n",
              "    height: 32px;\n",
              "    padding: 0;\n",
              "    width: 32px;\n",
              "  }\n",
              "\n",
              "  .colab-df-quickchart:hover {\n",
              "    background-color: var(--hover-bg-color);\n",
              "    box-shadow: 0 1px 2px rgba(60, 64, 67, 0.3), 0 1px 3px 1px rgba(60, 64, 67, 0.15);\n",
              "    fill: var(--button-hover-fill-color);\n",
              "  }\n",
              "\n",
              "  .colab-df-quickchart-complete:disabled,\n",
              "  .colab-df-quickchart-complete:disabled:hover {\n",
              "    background-color: var(--disabled-bg-color);\n",
              "    fill: var(--disabled-fill-color);\n",
              "    box-shadow: none;\n",
              "  }\n",
              "\n",
              "  .colab-df-spinner {\n",
              "    border: 2px solid var(--fill-color);\n",
              "    border-color: transparent;\n",
              "    border-bottom-color: var(--fill-color);\n",
              "    animation:\n",
              "      spin 1s steps(1) infinite;\n",
              "  }\n",
              "\n",
              "  @keyframes spin {\n",
              "    0% {\n",
              "      border-color: transparent;\n",
              "      border-bottom-color: var(--fill-color);\n",
              "      border-left-color: var(--fill-color);\n",
              "    }\n",
              "    20% {\n",
              "      border-color: transparent;\n",
              "      border-left-color: var(--fill-color);\n",
              "      border-top-color: var(--fill-color);\n",
              "    }\n",
              "    30% {\n",
              "      border-color: transparent;\n",
              "      border-left-color: var(--fill-color);\n",
              "      border-top-color: var(--fill-color);\n",
              "      border-right-color: var(--fill-color);\n",
              "    }\n",
              "    40% {\n",
              "      border-color: transparent;\n",
              "      border-right-color: var(--fill-color);\n",
              "      border-top-color: var(--fill-color);\n",
              "    }\n",
              "    60% {\n",
              "      border-color: transparent;\n",
              "      border-right-color: var(--fill-color);\n",
              "    }\n",
              "    80% {\n",
              "      border-color: transparent;\n",
              "      border-right-color: var(--fill-color);\n",
              "      border-bottom-color: var(--fill-color);\n",
              "    }\n",
              "    90% {\n",
              "      border-color: transparent;\n",
              "      border-bottom-color: var(--fill-color);\n",
              "    }\n",
              "  }\n",
              "</style>\n",
              "\n",
              "  <script>\n",
              "    async function quickchart(key) {\n",
              "      const quickchartButtonEl =\n",
              "        document.querySelector('#' + key + ' button');\n",
              "      quickchartButtonEl.disabled = true;  // To prevent multiple clicks.\n",
              "      quickchartButtonEl.classList.add('colab-df-spinner');\n",
              "      try {\n",
              "        const charts = await google.colab.kernel.invokeFunction(\n",
              "            'suggestCharts', [key], {});\n",
              "      } catch (error) {\n",
              "        console.error('Error during call to suggestCharts:', error);\n",
              "      }\n",
              "      quickchartButtonEl.classList.remove('colab-df-spinner');\n",
              "      quickchartButtonEl.classList.add('colab-df-quickchart-complete');\n",
              "    }\n",
              "    (() => {\n",
              "      let quickchartButtonEl =\n",
              "        document.querySelector('#df-7d4f3076-177c-4914-8935-58f82eb51d40 button');\n",
              "      quickchartButtonEl.style.display =\n",
              "        google.colab.kernel.accessAllowed ? 'block' : 'none';\n",
              "    })();\n",
              "  </script>\n",
              "</div>\n",
              "\n",
              "    </div>\n",
              "  </div>\n"
            ],
            "application/vnd.google.colaboratory.intrinsic+json": {
              "type": "dataframe",
              "variable_name": "X_train_categorical_ohe"
            }
          },
          "metadata": {},
          "execution_count": 10
        }
      ],
      "source": [
        "from sklearn.preprocessing import OneHotEncoder\n",
        "\n",
        "ohe = OneHotEncoder(sparse_output=False)\n",
        "X_train_categorical_ohe = ohe.fit_transform(X_train_categorical)\n",
        "X_train_categorical_ohe = pd.DataFrame(X_train_categorical_ohe,\n",
        "                                       columns = ohe.get_feature_names_out(),\n",
        "                                       index = X_train_categorical.index)\n",
        "X_train_categorical_ohe.head()"
      ]
    },
    {
      "cell_type": "code",
      "execution_count": 11,
      "metadata": {
        "colab": {
          "base_uri": "https://localhost:8080/"
        },
        "id": "DuJ7023AM9Sf",
        "outputId": "738a619c-3648-4165-f856-e14a5ed636fd"
      },
      "outputs": [
        {
          "output_type": "stream",
          "name": "stdout",
          "text": [
            "<class 'pandas.core.frame.DataFrame'>\n",
            "Index: 707752 entries, 262116 to 303626\n",
            "Data columns (total 63 columns):\n",
            " #   Column                                       Non-Null Count   Dtype  \n",
            "---  ------                                       --------------   -----  \n",
            " 0   WEATHER_CONDITION_BLOWING SAND, SOIL, DIRT   707752 non-null  float64\n",
            " 1   WEATHER_CONDITION_BLOWING SNOW               707752 non-null  float64\n",
            " 2   WEATHER_CONDITION_CLEAR                      707752 non-null  float64\n",
            " 3   WEATHER_CONDITION_CLOUDY/OVERCAST            707752 non-null  float64\n",
            " 4   WEATHER_CONDITION_FOG/SMOKE/HAZE             707752 non-null  float64\n",
            " 5   WEATHER_CONDITION_FREEZING RAIN/DRIZZLE      707752 non-null  float64\n",
            " 6   WEATHER_CONDITION_RAIN                       707752 non-null  float64\n",
            " 7   WEATHER_CONDITION_SEVERE CROSS WIND GATE     707752 non-null  float64\n",
            " 8   WEATHER_CONDITION_SLEET/HAIL                 707752 non-null  float64\n",
            " 9   WEATHER_CONDITION_SNOW                       707752 non-null  float64\n",
            " 10  LIGHTING_CONDITION_DARKNESS                  707752 non-null  float64\n",
            " 11  LIGHTING_CONDITION_DARKNESS, LIGHTED ROAD    707752 non-null  float64\n",
            " 12  LIGHTING_CONDITION_DAWN                      707752 non-null  float64\n",
            " 13  LIGHTING_CONDITION_DAYLIGHT                  707752 non-null  float64\n",
            " 14  LIGHTING_CONDITION_DUSK                      707752 non-null  float64\n",
            " 15  ROADWAY_SURFACE_COND_DRY                     707752 non-null  float64\n",
            " 16  ROADWAY_SURFACE_COND_ICE                     707752 non-null  float64\n",
            " 17  ROADWAY_SURFACE_COND_SNOW OR SLUSH           707752 non-null  float64\n",
            " 18  ROADWAY_SURFACE_COND_WET                     707752 non-null  float64\n",
            " 19  CRASH_DAY_OF_WEEK_1                          707752 non-null  float64\n",
            " 20  CRASH_DAY_OF_WEEK_2                          707752 non-null  float64\n",
            " 21  CRASH_DAY_OF_WEEK_3                          707752 non-null  float64\n",
            " 22  CRASH_DAY_OF_WEEK_4                          707752 non-null  float64\n",
            " 23  CRASH_DAY_OF_WEEK_5                          707752 non-null  float64\n",
            " 24  CRASH_DAY_OF_WEEK_6                          707752 non-null  float64\n",
            " 25  CRASH_DAY_OF_WEEK_7                          707752 non-null  float64\n",
            " 26  PERSON_TYPE_BICYCLE                          707752 non-null  float64\n",
            " 27  PERSON_TYPE_DRIVER                           707752 non-null  float64\n",
            " 28  PERSON_TYPE_NON-CONTACT VEHICLE              707752 non-null  float64\n",
            " 29  PERSON_TYPE_PEDESTRIAN                       707752 non-null  float64\n",
            " 30  SEX_F                                        707752 non-null  float64\n",
            " 31  SEX_M                                        707752 non-null  float64\n",
            " 32  SEX_X                                        707752 non-null  float64\n",
            " 33  TRAVEL_DIRECTION_E                           707752 non-null  float64\n",
            " 34  TRAVEL_DIRECTION_N                           707752 non-null  float64\n",
            " 35  TRAVEL_DIRECTION_NE                          707752 non-null  float64\n",
            " 36  TRAVEL_DIRECTION_NW                          707752 non-null  float64\n",
            " 37  TRAVEL_DIRECTION_S                           707752 non-null  float64\n",
            " 38  TRAVEL_DIRECTION_SE                          707752 non-null  float64\n",
            " 39  TRAVEL_DIRECTION_SW                          707752 non-null  float64\n",
            " 40  TRAVEL_DIRECTION_W                           707752 non-null  float64\n",
            " 41  MANEUVER_AVOIDING VEHICLES/OBJECTS           707752 non-null  float64\n",
            " 42  MANEUVER_BACKING                             707752 non-null  float64\n",
            " 43  MANEUVER_CHANGING LANES                      707752 non-null  float64\n",
            " 44  MANEUVER_DRIVING WRONG WAY                   707752 non-null  float64\n",
            " 45  MANEUVER_ENTER FROM DRIVE/ALLEY              707752 non-null  float64\n",
            " 46  MANEUVER_ENTERING TRAFFIC LANE FROM PARKING  707752 non-null  float64\n",
            " 47  MANEUVER_LEAVING TRAFFIC LANE TO PARK        707752 non-null  float64\n",
            " 48  MANEUVER_MERGING                             707752 non-null  float64\n",
            " 49  MANEUVER_NEGOTIATING A CURVE                 707752 non-null  float64\n",
            " 50  MANEUVER_PARKED                              707752 non-null  float64\n",
            " 51  MANEUVER_PARKED IN TRAFFIC LANE              707752 non-null  float64\n",
            " 52  MANEUVER_PASSING/OVERTAKING                  707752 non-null  float64\n",
            " 53  MANEUVER_SKIDDING/CONTROL LOSS               707752 non-null  float64\n",
            " 54  MANEUVER_SLOW/STOP - LEFT TURN               707752 non-null  float64\n",
            " 55  MANEUVER_SLOW/STOP - LOAD/UNLOAD             707752 non-null  float64\n",
            " 56  MANEUVER_SLOW/STOP - RIGHT TURN              707752 non-null  float64\n",
            " 57  MANEUVER_SLOW/STOP IN TRAFFIC                707752 non-null  float64\n",
            " 58  MANEUVER_STARTING IN TRAFFIC                 707752 non-null  float64\n",
            " 59  MANEUVER_STRAIGHT AHEAD                      707752 non-null  float64\n",
            " 60  MANEUVER_TURNING LEFT                        707752 non-null  float64\n",
            " 61  MANEUVER_TURNING RIGHT                       707752 non-null  float64\n",
            " 62  MANEUVER_U-TURN                              707752 non-null  float64\n",
            "dtypes: float64(63)\n",
            "memory usage: 345.6 MB\n"
          ]
        }
      ],
      "source": [
        "X_train_categorical_ohe.info()"
      ]
    },
    {
      "cell_type": "code",
      "execution_count": 12,
      "metadata": {
        "colab": {
          "base_uri": "https://localhost:8080/",
          "height": 273
        },
        "id": "s_d56OcgQZpa",
        "outputId": "e42abfe3-49a7-43cb-be86-0e3062e17d5e"
      },
      "outputs": [
        {
          "output_type": "execute_result",
          "data": {
            "text/plain": [
              "        POSTED_SPEED_LIMIT  NUM_UNITS  CRASH_HOUR  LATITUDE  LONGITUDE  \\\n",
              "262116            0.131695  -0.331558   -0.823912  0.141162   0.836824   \n",
              "792637            0.131695  -0.331558   -0.634991  1.367298   0.014819   \n",
              "167787            1.140425  -0.331558   -1.012832 -2.269501   0.647798   \n",
              "433111            0.131695  -0.331558    1.254214 -0.229799   1.195767   \n",
              "477277            0.131695  -0.331558    0.309611 -2.025592  -0.653104   \n",
              "\n",
              "             AGE  WEATHER_CONDITION_BLOWING SAND, SOIL, DIRT  \\\n",
              "262116 -1.045784                                         0.0   \n",
              "792637 -0.983018                                         0.0   \n",
              "167787 -1.359612                                         0.0   \n",
              "433111  1.025482                                         0.0   \n",
              "477277 -0.041534                                         0.0   \n",
              "\n",
              "        WEATHER_CONDITION_BLOWING SNOW  WEATHER_CONDITION_CLEAR  \\\n",
              "262116                             0.0                      0.0   \n",
              "792637                             0.0                      1.0   \n",
              "167787                             0.0                      1.0   \n",
              "433111                             0.0                      1.0   \n",
              "477277                             0.0                      1.0   \n",
              "\n",
              "        WEATHER_CONDITION_CLOUDY/OVERCAST  ...  \\\n",
              "262116                                0.0  ...   \n",
              "792637                                0.0  ...   \n",
              "167787                                0.0  ...   \n",
              "433111                                0.0  ...   \n",
              "477277                                0.0  ...   \n",
              "\n",
              "        MANEUVER_SKIDDING/CONTROL LOSS  MANEUVER_SLOW/STOP - LEFT TURN  \\\n",
              "262116                             0.0                             0.0   \n",
              "792637                             0.0                             0.0   \n",
              "167787                             0.0                             0.0   \n",
              "433111                             0.0                             0.0   \n",
              "477277                             0.0                             0.0   \n",
              "\n",
              "        MANEUVER_SLOW/STOP - LOAD/UNLOAD  MANEUVER_SLOW/STOP - RIGHT TURN  \\\n",
              "262116                               0.0                              0.0   \n",
              "792637                               0.0                              0.0   \n",
              "167787                               0.0                              0.0   \n",
              "433111                               0.0                              0.0   \n",
              "477277                               0.0                              0.0   \n",
              "\n",
              "        MANEUVER_SLOW/STOP IN TRAFFIC  MANEUVER_STARTING IN TRAFFIC  \\\n",
              "262116                            0.0                           0.0   \n",
              "792637                            1.0                           0.0   \n",
              "167787                            0.0                           1.0   \n",
              "433111                            0.0                           0.0   \n",
              "477277                            0.0                           0.0   \n",
              "\n",
              "        MANEUVER_STRAIGHT AHEAD  MANEUVER_TURNING LEFT  \\\n",
              "262116                      1.0                    0.0   \n",
              "792637                      0.0                    0.0   \n",
              "167787                      0.0                    0.0   \n",
              "433111                      0.0                    0.0   \n",
              "477277                      1.0                    0.0   \n",
              "\n",
              "        MANEUVER_TURNING RIGHT  MANEUVER_U-TURN  \n",
              "262116                     0.0              0.0  \n",
              "792637                     0.0              0.0  \n",
              "167787                     0.0              0.0  \n",
              "433111                     0.0              0.0  \n",
              "477277                     0.0              0.0  \n",
              "\n",
              "[5 rows x 69 columns]"
            ],
            "text/html": [
              "\n",
              "  <div id=\"df-3991f746-8b3f-4fae-a174-6279bd52d05b\" class=\"colab-df-container\">\n",
              "    <div>\n",
              "<style scoped>\n",
              "    .dataframe tbody tr th:only-of-type {\n",
              "        vertical-align: middle;\n",
              "    }\n",
              "\n",
              "    .dataframe tbody tr th {\n",
              "        vertical-align: top;\n",
              "    }\n",
              "\n",
              "    .dataframe thead th {\n",
              "        text-align: right;\n",
              "    }\n",
              "</style>\n",
              "<table border=\"1\" class=\"dataframe\">\n",
              "  <thead>\n",
              "    <tr style=\"text-align: right;\">\n",
              "      <th></th>\n",
              "      <th>POSTED_SPEED_LIMIT</th>\n",
              "      <th>NUM_UNITS</th>\n",
              "      <th>CRASH_HOUR</th>\n",
              "      <th>LATITUDE</th>\n",
              "      <th>LONGITUDE</th>\n",
              "      <th>AGE</th>\n",
              "      <th>WEATHER_CONDITION_BLOWING SAND, SOIL, DIRT</th>\n",
              "      <th>WEATHER_CONDITION_BLOWING SNOW</th>\n",
              "      <th>WEATHER_CONDITION_CLEAR</th>\n",
              "      <th>WEATHER_CONDITION_CLOUDY/OVERCAST</th>\n",
              "      <th>...</th>\n",
              "      <th>MANEUVER_SKIDDING/CONTROL LOSS</th>\n",
              "      <th>MANEUVER_SLOW/STOP - LEFT TURN</th>\n",
              "      <th>MANEUVER_SLOW/STOP - LOAD/UNLOAD</th>\n",
              "      <th>MANEUVER_SLOW/STOP - RIGHT TURN</th>\n",
              "      <th>MANEUVER_SLOW/STOP IN TRAFFIC</th>\n",
              "      <th>MANEUVER_STARTING IN TRAFFIC</th>\n",
              "      <th>MANEUVER_STRAIGHT AHEAD</th>\n",
              "      <th>MANEUVER_TURNING LEFT</th>\n",
              "      <th>MANEUVER_TURNING RIGHT</th>\n",
              "      <th>MANEUVER_U-TURN</th>\n",
              "    </tr>\n",
              "  </thead>\n",
              "  <tbody>\n",
              "    <tr>\n",
              "      <th>262116</th>\n",
              "      <td>0.131695</td>\n",
              "      <td>-0.331558</td>\n",
              "      <td>-0.823912</td>\n",
              "      <td>0.141162</td>\n",
              "      <td>0.836824</td>\n",
              "      <td>-1.045784</td>\n",
              "      <td>0.0</td>\n",
              "      <td>0.0</td>\n",
              "      <td>0.0</td>\n",
              "      <td>0.0</td>\n",
              "      <td>...</td>\n",
              "      <td>0.0</td>\n",
              "      <td>0.0</td>\n",
              "      <td>0.0</td>\n",
              "      <td>0.0</td>\n",
              "      <td>0.0</td>\n",
              "      <td>0.0</td>\n",
              "      <td>1.0</td>\n",
              "      <td>0.0</td>\n",
              "      <td>0.0</td>\n",
              "      <td>0.0</td>\n",
              "    </tr>\n",
              "    <tr>\n",
              "      <th>792637</th>\n",
              "      <td>0.131695</td>\n",
              "      <td>-0.331558</td>\n",
              "      <td>-0.634991</td>\n",
              "      <td>1.367298</td>\n",
              "      <td>0.014819</td>\n",
              "      <td>-0.983018</td>\n",
              "      <td>0.0</td>\n",
              "      <td>0.0</td>\n",
              "      <td>1.0</td>\n",
              "      <td>0.0</td>\n",
              "      <td>...</td>\n",
              "      <td>0.0</td>\n",
              "      <td>0.0</td>\n",
              "      <td>0.0</td>\n",
              "      <td>0.0</td>\n",
              "      <td>1.0</td>\n",
              "      <td>0.0</td>\n",
              "      <td>0.0</td>\n",
              "      <td>0.0</td>\n",
              "      <td>0.0</td>\n",
              "      <td>0.0</td>\n",
              "    </tr>\n",
              "    <tr>\n",
              "      <th>167787</th>\n",
              "      <td>1.140425</td>\n",
              "      <td>-0.331558</td>\n",
              "      <td>-1.012832</td>\n",
              "      <td>-2.269501</td>\n",
              "      <td>0.647798</td>\n",
              "      <td>-1.359612</td>\n",
              "      <td>0.0</td>\n",
              "      <td>0.0</td>\n",
              "      <td>1.0</td>\n",
              "      <td>0.0</td>\n",
              "      <td>...</td>\n",
              "      <td>0.0</td>\n",
              "      <td>0.0</td>\n",
              "      <td>0.0</td>\n",
              "      <td>0.0</td>\n",
              "      <td>0.0</td>\n",
              "      <td>1.0</td>\n",
              "      <td>0.0</td>\n",
              "      <td>0.0</td>\n",
              "      <td>0.0</td>\n",
              "      <td>0.0</td>\n",
              "    </tr>\n",
              "    <tr>\n",
              "      <th>433111</th>\n",
              "      <td>0.131695</td>\n",
              "      <td>-0.331558</td>\n",
              "      <td>1.254214</td>\n",
              "      <td>-0.229799</td>\n",
              "      <td>1.195767</td>\n",
              "      <td>1.025482</td>\n",
              "      <td>0.0</td>\n",
              "      <td>0.0</td>\n",
              "      <td>1.0</td>\n",
              "      <td>0.0</td>\n",
              "      <td>...</td>\n",
              "      <td>0.0</td>\n",
              "      <td>0.0</td>\n",
              "      <td>0.0</td>\n",
              "      <td>0.0</td>\n",
              "      <td>0.0</td>\n",
              "      <td>0.0</td>\n",
              "      <td>0.0</td>\n",
              "      <td>0.0</td>\n",
              "      <td>0.0</td>\n",
              "      <td>0.0</td>\n",
              "    </tr>\n",
              "    <tr>\n",
              "      <th>477277</th>\n",
              "      <td>0.131695</td>\n",
              "      <td>-0.331558</td>\n",
              "      <td>0.309611</td>\n",
              "      <td>-2.025592</td>\n",
              "      <td>-0.653104</td>\n",
              "      <td>-0.041534</td>\n",
              "      <td>0.0</td>\n",
              "      <td>0.0</td>\n",
              "      <td>1.0</td>\n",
              "      <td>0.0</td>\n",
              "      <td>...</td>\n",
              "      <td>0.0</td>\n",
              "      <td>0.0</td>\n",
              "      <td>0.0</td>\n",
              "      <td>0.0</td>\n",
              "      <td>0.0</td>\n",
              "      <td>0.0</td>\n",
              "      <td>1.0</td>\n",
              "      <td>0.0</td>\n",
              "      <td>0.0</td>\n",
              "      <td>0.0</td>\n",
              "    </tr>\n",
              "  </tbody>\n",
              "</table>\n",
              "<p>5 rows × 69 columns</p>\n",
              "</div>\n",
              "    <div class=\"colab-df-buttons\">\n",
              "\n",
              "  <div class=\"colab-df-container\">\n",
              "    <button class=\"colab-df-convert\" onclick=\"convertToInteractive('df-3991f746-8b3f-4fae-a174-6279bd52d05b')\"\n",
              "            title=\"Convert this dataframe to an interactive table.\"\n",
              "            style=\"display:none;\">\n",
              "\n",
              "  <svg xmlns=\"http://www.w3.org/2000/svg\" height=\"24px\" viewBox=\"0 -960 960 960\">\n",
              "    <path d=\"M120-120v-720h720v720H120Zm60-500h600v-160H180v160Zm220 220h160v-160H400v160Zm0 220h160v-160H400v160ZM180-400h160v-160H180v160Zm440 0h160v-160H620v160ZM180-180h160v-160H180v160Zm440 0h160v-160H620v160Z\"/>\n",
              "  </svg>\n",
              "    </button>\n",
              "\n",
              "  <style>\n",
              "    .colab-df-container {\n",
              "      display:flex;\n",
              "      gap: 12px;\n",
              "    }\n",
              "\n",
              "    .colab-df-convert {\n",
              "      background-color: #E8F0FE;\n",
              "      border: none;\n",
              "      border-radius: 50%;\n",
              "      cursor: pointer;\n",
              "      display: none;\n",
              "      fill: #1967D2;\n",
              "      height: 32px;\n",
              "      padding: 0 0 0 0;\n",
              "      width: 32px;\n",
              "    }\n",
              "\n",
              "    .colab-df-convert:hover {\n",
              "      background-color: #E2EBFA;\n",
              "      box-shadow: 0px 1px 2px rgba(60, 64, 67, 0.3), 0px 1px 3px 1px rgba(60, 64, 67, 0.15);\n",
              "      fill: #174EA6;\n",
              "    }\n",
              "\n",
              "    .colab-df-buttons div {\n",
              "      margin-bottom: 4px;\n",
              "    }\n",
              "\n",
              "    [theme=dark] .colab-df-convert {\n",
              "      background-color: #3B4455;\n",
              "      fill: #D2E3FC;\n",
              "    }\n",
              "\n",
              "    [theme=dark] .colab-df-convert:hover {\n",
              "      background-color: #434B5C;\n",
              "      box-shadow: 0px 1px 3px 1px rgba(0, 0, 0, 0.15);\n",
              "      filter: drop-shadow(0px 1px 2px rgba(0, 0, 0, 0.3));\n",
              "      fill: #FFFFFF;\n",
              "    }\n",
              "  </style>\n",
              "\n",
              "    <script>\n",
              "      const buttonEl =\n",
              "        document.querySelector('#df-3991f746-8b3f-4fae-a174-6279bd52d05b button.colab-df-convert');\n",
              "      buttonEl.style.display =\n",
              "        google.colab.kernel.accessAllowed ? 'block' : 'none';\n",
              "\n",
              "      async function convertToInteractive(key) {\n",
              "        const element = document.querySelector('#df-3991f746-8b3f-4fae-a174-6279bd52d05b');\n",
              "        const dataTable =\n",
              "          await google.colab.kernel.invokeFunction('convertToInteractive',\n",
              "                                                    [key], {});\n",
              "        if (!dataTable) return;\n",
              "\n",
              "        const docLinkHtml = 'Like what you see? Visit the ' +\n",
              "          '<a target=\"_blank\" href=https://colab.research.google.com/notebooks/data_table.ipynb>data table notebook</a>'\n",
              "          + ' to learn more about interactive tables.';\n",
              "        element.innerHTML = '';\n",
              "        dataTable['output_type'] = 'display_data';\n",
              "        await google.colab.output.renderOutput(dataTable, element);\n",
              "        const docLink = document.createElement('div');\n",
              "        docLink.innerHTML = docLinkHtml;\n",
              "        element.appendChild(docLink);\n",
              "      }\n",
              "    </script>\n",
              "  </div>\n",
              "\n",
              "\n",
              "<div id=\"df-a7ab0e75-df89-4298-a4ad-f41db4a9ebd9\">\n",
              "  <button class=\"colab-df-quickchart\" onclick=\"quickchart('df-a7ab0e75-df89-4298-a4ad-f41db4a9ebd9')\"\n",
              "            title=\"Suggest charts\"\n",
              "            style=\"display:none;\">\n",
              "\n",
              "<svg xmlns=\"http://www.w3.org/2000/svg\" height=\"24px\"viewBox=\"0 0 24 24\"\n",
              "     width=\"24px\">\n",
              "    <g>\n",
              "        <path d=\"M19 3H5c-1.1 0-2 .9-2 2v14c0 1.1.9 2 2 2h14c1.1 0 2-.9 2-2V5c0-1.1-.9-2-2-2zM9 17H7v-7h2v7zm4 0h-2V7h2v10zm4 0h-2v-4h2v4z\"/>\n",
              "    </g>\n",
              "</svg>\n",
              "  </button>\n",
              "\n",
              "<style>\n",
              "  .colab-df-quickchart {\n",
              "      --bg-color: #E8F0FE;\n",
              "      --fill-color: #1967D2;\n",
              "      --hover-bg-color: #E2EBFA;\n",
              "      --hover-fill-color: #174EA6;\n",
              "      --disabled-fill-color: #AAA;\n",
              "      --disabled-bg-color: #DDD;\n",
              "  }\n",
              "\n",
              "  [theme=dark] .colab-df-quickchart {\n",
              "      --bg-color: #3B4455;\n",
              "      --fill-color: #D2E3FC;\n",
              "      --hover-bg-color: #434B5C;\n",
              "      --hover-fill-color: #FFFFFF;\n",
              "      --disabled-bg-color: #3B4455;\n",
              "      --disabled-fill-color: #666;\n",
              "  }\n",
              "\n",
              "  .colab-df-quickchart {\n",
              "    background-color: var(--bg-color);\n",
              "    border: none;\n",
              "    border-radius: 50%;\n",
              "    cursor: pointer;\n",
              "    display: none;\n",
              "    fill: var(--fill-color);\n",
              "    height: 32px;\n",
              "    padding: 0;\n",
              "    width: 32px;\n",
              "  }\n",
              "\n",
              "  .colab-df-quickchart:hover {\n",
              "    background-color: var(--hover-bg-color);\n",
              "    box-shadow: 0 1px 2px rgba(60, 64, 67, 0.3), 0 1px 3px 1px rgba(60, 64, 67, 0.15);\n",
              "    fill: var(--button-hover-fill-color);\n",
              "  }\n",
              "\n",
              "  .colab-df-quickchart-complete:disabled,\n",
              "  .colab-df-quickchart-complete:disabled:hover {\n",
              "    background-color: var(--disabled-bg-color);\n",
              "    fill: var(--disabled-fill-color);\n",
              "    box-shadow: none;\n",
              "  }\n",
              "\n",
              "  .colab-df-spinner {\n",
              "    border: 2px solid var(--fill-color);\n",
              "    border-color: transparent;\n",
              "    border-bottom-color: var(--fill-color);\n",
              "    animation:\n",
              "      spin 1s steps(1) infinite;\n",
              "  }\n",
              "\n",
              "  @keyframes spin {\n",
              "    0% {\n",
              "      border-color: transparent;\n",
              "      border-bottom-color: var(--fill-color);\n",
              "      border-left-color: var(--fill-color);\n",
              "    }\n",
              "    20% {\n",
              "      border-color: transparent;\n",
              "      border-left-color: var(--fill-color);\n",
              "      border-top-color: var(--fill-color);\n",
              "    }\n",
              "    30% {\n",
              "      border-color: transparent;\n",
              "      border-left-color: var(--fill-color);\n",
              "      border-top-color: var(--fill-color);\n",
              "      border-right-color: var(--fill-color);\n",
              "    }\n",
              "    40% {\n",
              "      border-color: transparent;\n",
              "      border-right-color: var(--fill-color);\n",
              "      border-top-color: var(--fill-color);\n",
              "    }\n",
              "    60% {\n",
              "      border-color: transparent;\n",
              "      border-right-color: var(--fill-color);\n",
              "    }\n",
              "    80% {\n",
              "      border-color: transparent;\n",
              "      border-right-color: var(--fill-color);\n",
              "      border-bottom-color: var(--fill-color);\n",
              "    }\n",
              "    90% {\n",
              "      border-color: transparent;\n",
              "      border-bottom-color: var(--fill-color);\n",
              "    }\n",
              "  }\n",
              "</style>\n",
              "\n",
              "  <script>\n",
              "    async function quickchart(key) {\n",
              "      const quickchartButtonEl =\n",
              "        document.querySelector('#' + key + ' button');\n",
              "      quickchartButtonEl.disabled = true;  // To prevent multiple clicks.\n",
              "      quickchartButtonEl.classList.add('colab-df-spinner');\n",
              "      try {\n",
              "        const charts = await google.colab.kernel.invokeFunction(\n",
              "            'suggestCharts', [key], {});\n",
              "      } catch (error) {\n",
              "        console.error('Error during call to suggestCharts:', error);\n",
              "      }\n",
              "      quickchartButtonEl.classList.remove('colab-df-spinner');\n",
              "      quickchartButtonEl.classList.add('colab-df-quickchart-complete');\n",
              "    }\n",
              "    (() => {\n",
              "      let quickchartButtonEl =\n",
              "        document.querySelector('#df-a7ab0e75-df89-4298-a4ad-f41db4a9ebd9 button');\n",
              "      quickchartButtonEl.style.display =\n",
              "        google.colab.kernel.accessAllowed ? 'block' : 'none';\n",
              "    })();\n",
              "  </script>\n",
              "</div>\n",
              "\n",
              "    </div>\n",
              "  </div>\n"
            ],
            "application/vnd.google.colaboratory.intrinsic+json": {
              "type": "dataframe",
              "variable_name": "X_train_preprocessed"
            }
          },
          "metadata": {},
          "execution_count": 12
        }
      ],
      "source": [
        "X_train_preprocessed = pd.concat([X_train_numeric_scaled, X_train_categorical_ohe], axis=1)\n",
        "X_train_preprocessed.head()"
      ]
    },
    {
      "cell_type": "code",
      "execution_count": 13,
      "metadata": {
        "colab": {
          "base_uri": "https://localhost:8080/"
        },
        "id": "wvi8RYTBQ7ru",
        "outputId": "15e5a3f2-efa2-482d-b5e8-e0412edc03c9"
      },
      "outputs": [
        {
          "output_type": "execute_result",
          "data": {
            "text/plain": [
              "(707752, 69)"
            ]
          },
          "metadata": {},
          "execution_count": 13
        }
      ],
      "source": [
        "X_train_preprocessed.shape"
      ]
    },
    {
      "cell_type": "markdown",
      "metadata": {
        "id": "N4B8fT9JRHzW"
      },
      "source": [
        "That's still too many columns, but I can't drop any more in good conscience without further information. Let's make use of Principal Component Analysis (PCA) to which features are more significant."
      ]
    },
    {
      "cell_type": "code",
      "execution_count": 14,
      "metadata": {
        "colab": {
          "base_uri": "https://localhost:8080/"
        },
        "id": "LHhvdxYpRCfq",
        "outputId": "87cdf6c5-802e-420e-986a-597d7b961a60"
      },
      "outputs": [
        {
          "output_type": "execute_result",
          "data": {
            "text/plain": [
              "array([[-4.46909020e-01,  8.97187026e-02,  4.94539827e-01, ...,\n",
              "         3.93263390e-15,  1.17821151e-14, -1.39131654e-14],\n",
              "       [ 1.00894818e+00,  5.23130877e-02,  2.72010151e-01, ...,\n",
              "         1.16384395e-14, -1.53937814e-14,  1.90312246e-14],\n",
              "       [-1.95397619e+00,  8.09493133e-01,  8.37199371e-01, ...,\n",
              "         3.00763199e-14, -3.40960623e-14, -9.27140105e-15],\n",
              "       ...,\n",
              "       [-1.65153816e+00, -1.38023679e+00,  1.86904305e-01, ...,\n",
              "         3.70259822e-17, -7.59434720e-17,  7.03015061e-17],\n",
              "       [-4.96281214e-01, -5.26630671e-01, -1.91650947e-01, ...,\n",
              "        -2.57260660e-18,  5.84434035e-18, -2.44243711e-17],\n",
              "       [-1.35203670e-02, -3.06629328e+00,  2.69310776e-01, ...,\n",
              "         5.70922652e-17, -3.54509483e-17,  6.90679360e-17]])"
            ]
          },
          "metadata": {},
          "execution_count": 14
        }
      ],
      "source": [
        "from sklearn.decomposition import PCA\n",
        "pca = PCA(random_state=210)\n",
        "pca_array = pca.fit_transform(X_train_preprocessed)\n",
        "pca_array"
      ]
    },
    {
      "cell_type": "code",
      "execution_count": 15,
      "metadata": {
        "colab": {
          "base_uri": "https://localhost:8080/"
        },
        "id": "CKzRJnIHBxZ5",
        "outputId": "6a03c069-24e6-4ffd-ce51-f11f452b691b"
      },
      "outputs": [
        {
          "output_type": "execute_result",
          "data": {
            "text/plain": [
              "707752"
            ]
          },
          "metadata": {},
          "execution_count": 15
        }
      ],
      "source": [
        "len(pca_array)"
      ]
    },
    {
      "cell_type": "markdown",
      "metadata": {
        "id": "jke9U18WBiGe"
      },
      "source": [
        "Now that we've fit PCA to our training data, let's see how much of the variance it explains by adding up each row's explained variance ratio."
      ]
    },
    {
      "cell_type": "code",
      "execution_count": 16,
      "metadata": {
        "colab": {
          "base_uri": "https://localhost:8080/"
        },
        "id": "YZae2Kb9BB3R",
        "outputId": "617c27d8-b1a8-4c07-932b-3de0ba05eff0"
      },
      "outputs": [
        {
          "output_type": "execute_result",
          "data": {
            "text/plain": [
              "array([0.15126788, 0.26161492, 0.36489109, 0.46366879, 0.55852288,\n",
              "       0.61062163, 0.65888336, 0.70468066, 0.73563689, 0.76357858,\n",
              "       0.78838025, 0.81201268, 0.83478108, 0.85117668, 0.86596044,\n",
              "       0.88058669, 0.89502997, 0.90890506, 0.92053514, 0.93002148,\n",
              "       0.93904652, 0.94562058, 0.95183002, 0.95754883, 0.96151667,\n",
              "       0.96519778, 0.96869935, 0.97209286, 0.97520206, 0.97771848,\n",
              "       0.98013078, 0.98243821, 0.98432724, 0.98595152, 0.98756989,\n",
              "       0.98911334, 0.99043045, 0.99163662, 0.9927191 , 0.99376033,\n",
              "       0.99458119, 0.99537556, 0.99605374, 0.99664422, 0.99715841,\n",
              "       0.99765797, 0.99801241, 0.99836088, 0.99864366, 0.99885388,\n",
              "       0.99905677, 0.99922665, 0.99938878, 0.99952478, 0.99965212,\n",
              "       0.99977556, 0.99989036, 0.99996734, 0.99998559, 0.99999921,\n",
              "       1.        , 1.        , 1.        , 1.        , 1.        ,\n",
              "       1.        , 1.        , 1.        , 1.        ])"
            ]
          },
          "metadata": {},
          "execution_count": 16
        }
      ],
      "source": [
        "import numpy as np\n",
        "evr = pca.explained_variance_ratio_\n",
        "np.cumsum(evr)"
      ]
    },
    {
      "cell_type": "markdown",
      "metadata": {
        "id": "2nZZ6tpEB334"
      },
      "source": [
        "It looks like we're able to reach a good amount of explained variance (a general consensus is around 95%) at around 23 features in before we see diminishing returns. Let's visualize these to get a better sense of how many features we really need."
      ]
    },
    {
      "cell_type": "code",
      "execution_count": 18,
      "metadata": {
        "colab": {
          "base_uri": "https://localhost:8080/",
          "height": 472
        },
        "id": "rmh5QQDpC24-",
        "outputId": "652997f2-c58a-4bbe-ab43-b0a5e4d5e053"
      },
      "outputs": [
        {
          "output_type": "display_data",
          "data": {
            "text/plain": [
              "<Figure size 640x480 with 1 Axes>"
            ],
            "image/png": "[encoded data removed]"
          },
          "metadata": {}
        }
      ],
      "source": [
        "from matplotlib import pyplot as plt\n",
        "plt.plot(np.cumsum(evr), color='g')\n",
        "plt.title('Features versus Explained Variance')\n",
        "plt.xlabel('number of components')\n",
        "plt.ylabel('cumulative explained variance')\n",
        "#it looks like 21 features gets us there\n",
        "plt.hlines(y=0.95, xmin=0, xmax=70, color='k', linestyle='--')\n",
        "plt.vlines(x=21, ymin=0.2, ymax=1, color='k', linestyle='--');"
      ]
    },
    {
      "cell_type": "markdown",
      "metadata": {
        "id": "ZwvRtUw6UVVU"
      },
      "source": [
        "Let's rerun PCA with this optimal components parameter in mind."
      ]
    },
    {
      "cell_type": "code",
      "execution_count": 19,
      "metadata": {
        "colab": {
          "base_uri": "https://localhost:8080/"
        },
        "id": "GV7Ie1EYMcz5",
        "outputId": "219a0194-e1f9-4550-be41-4abc0126db5d"
      },
      "outputs": [
        {
          "output_type": "execute_result",
          "data": {
            "text/plain": [
              "array([0.15126788, 0.26161492, 0.36489109, 0.46366879, 0.55852288,\n",
              "       0.61062163, 0.65888336, 0.70468066, 0.73563689, 0.76357858,\n",
              "       0.78838025, 0.81201268, 0.83478108, 0.85117668, 0.86596044,\n",
              "       0.88058668, 0.89502997, 0.90890505, 0.92053513, 0.93002147,\n",
              "       0.93904649])"
            ]
          },
          "metadata": {},
          "execution_count": 19
        }
      ],
      "source": [
        "pca = PCA(n_components=21, random_state=210)\n",
        "pca_array = pca.fit_transform(X_train_preprocessed)\n",
        "evr = pca.explained_variance_ratio_\n",
        "np.cumsum(evr)"
      ]
    },
    {
      "cell_type": "markdown",
      "source": [
        "Now let's examine which features explain this variance best via the PCA's components attribute (aka its 'loadings'):"
      ],
      "metadata": {
        "id": "9pJFsdly8pmh"
      }
    },
    {
      "cell_type": "code",
      "execution_count": 20,
      "metadata": {
        "colab": {
          "base_uri": "https://localhost:8080/"
        },
        "id": "7kYywIk9OcMo",
        "outputId": "2dada0d4-8803-4814-e02c-69bc72fbcd9e"
      },
      "outputs": [
        {
          "output_type": "stream",
          "name": "stdout",
          "text": [
            "PERSON_TYPE_NON-CONTACT VEHICLE                0.000\n",
            "WEATHER_CONDITION_SEVERE CROSS WIND GATE       0.000\n",
            "SEX_X                                          0.000\n",
            "WEATHER_CONDITION_BLOWING SAND, SOIL, DIRT     0.000\n",
            "MANEUVER_PARKED IN TRAFFIC LANE               -0.002\n",
            "MANEUVER_SLOW/STOP - RIGHT TURN               -0.003\n",
            "MANEUVER_DRIVING WRONG WAY                    -0.003\n",
            "MANEUVER_SLOW/STOP - LOAD/UNLOAD              -0.004\n",
            "MANEUVER_NEGOTIATING A CURVE                  -0.004\n",
            "LIGHTING_CONDITION_DAWN                        0.005\n",
            "WEATHER_CONDITION_FOG/SMOKE/HAZE               0.005\n",
            "MANEUVER_SLOW/STOP - LEFT TURN                -0.006\n",
            "WEATHER_CONDITION_BLOWING SNOW                 0.009\n",
            "MANEUVER_AVOIDING VEHICLES/OBJECTS            -0.010\n",
            "MANEUVER_LEAVING TRAFFIC LANE TO PARK         -0.010\n",
            "MANEUVER_ENTER FROM DRIVE/ALLEY               -0.011\n",
            "WEATHER_CONDITION_SLEET/HAIL                   0.012\n",
            "MANEUVER_SKIDDING/CONTROL LOSS                 0.012\n",
            "WEATHER_CONDITION_FREEZING RAIN/DRIZZLE        0.013\n",
            "LIGHTING_CONDITION_DUSK                        0.014\n",
            "MANEUVER_STARTING IN TRAFFIC                  -0.018\n",
            "PERSON_TYPE_PEDESTRIAN                        -0.019\n",
            "MANEUVER_PARKED                                0.021\n",
            "MANEUVER_U-TURN                               -0.026\n",
            "MANEUVER_MERGING                              -0.026\n",
            "PERSON_TYPE_BICYCLE                           -0.029\n",
            "LIGHTING_CONDITION_DARKNESS                    0.040\n",
            "TRAVEL_DIRECTION_NW                           -0.040\n",
            "MANEUVER_ENTERING TRAFFIC LANE FROM PARKING   -0.041\n",
            "TRAVEL_DIRECTION_SW                           -0.046\n",
            "TRAVEL_DIRECTION_NE                           -0.046\n",
            "PERSON_TYPE_DRIVER                             0.048\n",
            "TRAVEL_DIRECTION_SE                           -0.053\n",
            "ROADWAY_SURFACE_COND_ICE                       0.057\n",
            "TRAVEL_DIRECTION_W                            -0.078\n",
            "CRASH_DAY_OF_WEEK_7                            0.081\n",
            "MANEUVER_CHANGING LANES                       -0.097\n",
            "MANEUVER_BACKING                              -0.106\n",
            "MANEUVER_PASSING/OVERTAKING                   -0.110\n",
            "MANEUVER_TURNING RIGHT                        -0.130\n",
            "CRASH_HOUR                                    -0.144\n",
            "WEATHER_CONDITION_CLOUDY/OVERCAST              0.172\n",
            "TRAVEL_DIRECTION_S                             0.179\n",
            "MANEUVER_SLOW/STOP IN TRAFFIC                  0.246\n",
            "CRASH_DAY_OF_WEEK_5                            0.259\n",
            "ROADWAY_SURFACE_COND_DRY                      -0.330\n",
            "POSTED_SPEED_LIMIT                             0.391\n",
            "LIGHTING_CONDITION_DARKNESS, LIGHTED ROAD      0.432\n",
            "ROADWAY_SURFACE_COND_WET                      -0.446\n",
            "WEATHER_CONDITION_RAIN                        -0.470\n",
            "WEATHER_CONDITION_CLEAR                       -0.490\n",
            "LIGHTING_CONDITION_DAYLIGHT                   -0.495\n",
            "CRASH_DAY_OF_WEEK_2                            0.507\n",
            "CRASH_DAY_OF_WEEK_3                           -0.603\n",
            "LATITUDE                                       0.640\n",
            "MANEUVER_TURNING LEFT                         -0.678\n",
            "ROADWAY_SURFACE_COND_SNOW OR SLUSH             0.715\n",
            "AGE                                            0.724\n",
            "WEATHER_CONDITION_SNOW                         0.749\n",
            "CRASH_DAY_OF_WEEK_6                            0.763\n",
            "LONGITUDE                                     -0.816\n",
            "CRASH_DAY_OF_WEEK_1                            0.929\n",
            "MANEUVER_STRAIGHT AHEAD                        1.002\n",
            "TRAVEL_DIRECTION_N                            -1.137\n",
            "SEX_F                                          1.211\n",
            "SEX_M                                         -1.212\n",
            "TRAVEL_DIRECTION_E                             1.218\n",
            "NUM_UNITS                                      1.918\n",
            "CRASH_DAY_OF_WEEK_4                           -1.939\n"
          ]
        }
      ],
      "source": [
        "loadings = pca.components_\n",
        "#rounding them to make comparisons a little easier\n",
        "loadings_rounded = np.around(loadings, decimals=3)\n",
        "#converting them to an easy-to-read Pandas Series\n",
        "loadings_df = pd.DataFrame(loadings_rounded,columns=X_train_preprocessed.columns)\n",
        "loadings_sums = pd.Series(loadings_df.sum()).sort_values(key=abs)\n",
        "print(loadings_sums.to_string())"
      ]
    },
    {
      "cell_type": "markdown",
      "metadata": {
        "id": "SwNw3QT1kr6Q"
      },
      "source": [
        "A wide range of cumulative explained variance ratios appear for these columns with the occasional large leap between groups. Those that appear to explain variance better include Wednesday crashes, the number of vehicles involved ('NUM_UNITS'), travelling east or north, gender, and when drivers were maneuvering straight ahead.\n",
        "\n",
        "Of course, these columns don't necessarily *correlate* with the target. In fact, they likely *don't* since they capture so much of the variance in this dataset. However, gathering *all* these columns together suggests a trimmed group of columns that can still help get to the bottom of primary causes of accidents.\n",
        "\n",
        "Among the less explanatory columns, we see a lot of rare classes from categorical features. While I got rid of many columns that showed the same kind of skewed distribution these columns have among their classes, these were a little better than most and seemed like they could still hold some pertitent information in regard to crash causes.\n",
        "\n",
        "Let's begin by dropping any column that can't explain at least a *cumulative* absolute value of 0.1 of the variance. Below, we see that this will help trim our features down by just over half to 32. (Below, \"e.v.r.\" stands for \"explained variance ratio\".)"
      ]
    },
    {
      "cell_type": "code",
      "execution_count": 21,
      "metadata": {
        "colab": {
          "base_uri": "https://localhost:8080/"
        },
        "id": "w0CBLiKDO-y1",
        "outputId": "54846780-91d0-48ed-9de2-875052afda82"
      },
      "outputs": [
        {
          "output_type": "stream",
          "name": "stdout",
          "text": [
            "ratio of features below/above 0.1 cumulative e.v.r.:    0.54\n",
            "remaining number of features after dropping those below 0.1 cumulative e.v.r.:    32\n"
          ]
        }
      ],
      "source": [
        "loadings_sums_abs = loadings_sums.abs()\n",
        "less_explanatory_loadings_sums = loadings_sums_abs[loadings_sums_abs < 0.1]\n",
        "print('ratio of features below/above 0.1 cumulative e.v.r.:   ', round(len(less_explanatory_loadings_sums)/len(loadings_sums), 2))\n",
        "print('remaining number of features after dropping those below 0.1 cumulative e.v.r.:   ', len(loadings_sums) - len(less_explanatory_loadings_sums))"
      ]
    },
    {
      "cell_type": "code",
      "execution_count": 22,
      "metadata": {
        "colab": {
          "base_uri": "https://localhost:8080/"
        },
        "id": "gg9MtnqBk9eE",
        "outputId": "95755263-3600-4ea6-d8b2-96422fbdf1d5"
      },
      "outputs": [
        {
          "output_type": "execute_result",
          "data": {
            "text/plain": [
              "MANEUVER_BACKING                            -0.106\n",
              "MANEUVER_PASSING/OVERTAKING                 -0.110\n",
              "MANEUVER_TURNING RIGHT                      -0.130\n",
              "CRASH_HOUR                                  -0.144\n",
              "WEATHER_CONDITION_CLOUDY/OVERCAST            0.172\n",
              "TRAVEL_DIRECTION_S                           0.179\n",
              "MANEUVER_SLOW/STOP IN TRAFFIC                0.246\n",
              "CRASH_DAY_OF_WEEK_5                          0.259\n",
              "ROADWAY_SURFACE_COND_DRY                    -0.330\n",
              "POSTED_SPEED_LIMIT                           0.391\n",
              "LIGHTING_CONDITION_DARKNESS, LIGHTED ROAD    0.432\n",
              "ROADWAY_SURFACE_COND_WET                    -0.446\n",
              "WEATHER_CONDITION_RAIN                      -0.470\n",
              "WEATHER_CONDITION_CLEAR                     -0.490\n",
              "LIGHTING_CONDITION_DAYLIGHT                 -0.495\n",
              "CRASH_DAY_OF_WEEK_2                          0.507\n",
              "CRASH_DAY_OF_WEEK_3                         -0.603\n",
              "LATITUDE                                     0.640\n",
              "MANEUVER_TURNING LEFT                       -0.678\n",
              "ROADWAY_SURFACE_COND_SNOW OR SLUSH           0.715\n",
              "AGE                                          0.724\n",
              "WEATHER_CONDITION_SNOW                       0.749\n",
              "CRASH_DAY_OF_WEEK_6                          0.763\n",
              "LONGITUDE                                   -0.816\n",
              "CRASH_DAY_OF_WEEK_1                          0.929\n",
              "MANEUVER_STRAIGHT AHEAD                      1.002\n",
              "TRAVEL_DIRECTION_N                          -1.137\n",
              "SEX_F                                        1.211\n",
              "SEX_M                                       -1.212\n",
              "TRAVEL_DIRECTION_E                           1.218\n",
              "NUM_UNITS                                    1.918\n",
              "CRASH_DAY_OF_WEEK_4                         -1.939\n",
              "dtype: float64"
            ]
          },
          "metadata": {},
          "execution_count": 22
        }
      ],
      "source": [
        "#dropping less explanatory features\n",
        "explanatory_loadings_sums = loadings_sums.drop(less_explanatory_loadings_sums.index, axis=0)\n",
        "explanatory_loadings_sums"
      ]
    },
    {
      "cell_type": "markdown",
      "metadata": {
        "id": "1ng2yTEQJ618"
      },
      "source": [
        "This is one way to find our most promising features and get them down to a more reasonable quanitity before running them through a predictive model.\n",
        "\n",
        "We can also try a similar process by way of a random forest. Once fit to our preprocessed training data, we can inspect its feature importances and see how well it matches our more promising features from PCA above.\n",
        "\n",
        "## random forest feature importance\n",
        "\n",
        "Since a random forest is a predictive model, we'll have to contend with the target column's class imbalance. Let's check and see how it appears here in our training data:"
      ]
    },
    {
      "cell_type": "code",
      "execution_count": 23,
      "metadata": {
        "colab": {
          "base_uri": "https://localhost:8080/"
        },
        "id": "fmoO33e0JrRh",
        "outputId": "749f4d33-e04f-494c-cb3b-7b652cbf090d"
      },
      "outputs": [
        {
          "output_type": "execute_result",
          "data": {
            "text/plain": [
              "TARGET\n",
              "1    0.927949\n",
              "0    0.072051\n",
              "Name: proportion, dtype: float64"
            ]
          },
          "metadata": {},
          "execution_count": 23
        }
      ],
      "source": [
        "y_train.value_counts(normalize=True)"
      ]
    },
    {
      "cell_type": "markdown",
      "metadata": {
        "id": "Sbp0Vj1d5lw3"
      },
      "source": [
        "Not good, but it could be much worse. Subsequently, we'll have to run our random forests with oversampling, undersampling, and SMOTE sampling strategies to get the best picture on which set of feature importances are ideal.\n",
        "\n",
        "Before doing that, let's establish a baseline random forest model without any sampling strategies. This tree-based model will need the one-hot encoded categorical values, but the non-standardized numeric data."
      ]
    },
    {
      "cell_type": "code",
      "execution_count": 24,
      "metadata": {
        "colab": {
          "base_uri": "https://localhost:8080/",
          "height": 273
        },
        "id": "ihh1xAdZCBmm",
        "outputId": "cd27614b-b49e-4f05-ba17-dde5da78c9c9"
      },
      "outputs": [
        {
          "output_type": "execute_result",
          "data": {
            "text/plain": [
              "        POSTED_SPEED_LIMIT  NUM_UNITS  CRASH_HOUR   LATITUDE  LONGITUDE   AGE  \\\n",
              "262116                  30          2           9  41.870473 -87.630706  23.0   \n",
              "792637                  30          2          10  41.975934 -87.678761  24.0   \n",
              "167787                  35          2           8  41.663131 -87.641757  18.0   \n",
              "433111                  30          2          20  41.838567 -87.609722  56.0   \n",
              "477277                  30          2          15  41.684110 -87.717807  39.0   \n",
              "\n",
              "        WEATHER_CONDITION_BLOWING SAND, SOIL, DIRT  \\\n",
              "262116                                         0.0   \n",
              "792637                                         0.0   \n",
              "167787                                         0.0   \n",
              "433111                                         0.0   \n",
              "477277                                         0.0   \n",
              "\n",
              "        WEATHER_CONDITION_BLOWING SNOW  WEATHER_CONDITION_CLEAR  \\\n",
              "262116                             0.0                      0.0   \n",
              "792637                             0.0                      1.0   \n",
              "167787                             0.0                      1.0   \n",
              "433111                             0.0                      1.0   \n",
              "477277                             0.0                      1.0   \n",
              "\n",
              "        WEATHER_CONDITION_CLOUDY/OVERCAST  ...  \\\n",
              "262116                                0.0  ...   \n",
              "792637                                0.0  ...   \n",
              "167787                                0.0  ...   \n",
              "433111                                0.0  ...   \n",
              "477277                                0.0  ...   \n",
              "\n",
              "        MANEUVER_SKIDDING/CONTROL LOSS  MANEUVER_SLOW/STOP - LEFT TURN  \\\n",
              "262116                             0.0                             0.0   \n",
              "792637                             0.0                             0.0   \n",
              "167787                             0.0                             0.0   \n",
              "433111                             0.0                             0.0   \n",
              "477277                             0.0                             0.0   \n",
              "\n",
              "        MANEUVER_SLOW/STOP - LOAD/UNLOAD  MANEUVER_SLOW/STOP - RIGHT TURN  \\\n",
              "262116                               0.0                              0.0   \n",
              "792637                               0.0                              0.0   \n",
              "167787                               0.0                              0.0   \n",
              "433111                               0.0                              0.0   \n",
              "477277                               0.0                              0.0   \n",
              "\n",
              "        MANEUVER_SLOW/STOP IN TRAFFIC  MANEUVER_STARTING IN TRAFFIC  \\\n",
              "262116                            0.0                           0.0   \n",
              "792637                            1.0                           0.0   \n",
              "167787                            0.0                           1.0   \n",
              "433111                            0.0                           0.0   \n",
              "477277                            0.0                           0.0   \n",
              "\n",
              "        MANEUVER_STRAIGHT AHEAD  MANEUVER_TURNING LEFT  \\\n",
              "262116                      1.0                    0.0   \n",
              "792637                      0.0                    0.0   \n",
              "167787                      0.0                    0.0   \n",
              "433111                      0.0                    0.0   \n",
              "477277                      1.0                    0.0   \n",
              "\n",
              "        MANEUVER_TURNING RIGHT  MANEUVER_U-TURN  \n",
              "262116                     0.0              0.0  \n",
              "792637                     0.0              0.0  \n",
              "167787                     0.0              0.0  \n",
              "433111                     0.0              0.0  \n",
              "477277                     0.0              0.0  \n",
              "\n",
              "[5 rows x 69 columns]"
            ],
            "text/html": [
              "\n",
              "  <div id=\"df-bbef40fe-ece1-4301-b4f7-66022f309936\" class=\"colab-df-container\">\n",
              "    <div>\n",
              "<style scoped>\n",
              "    .dataframe tbody tr th:only-of-type {\n",
              "        vertical-align: middle;\n",
              "    }\n",
              "\n",
              "    .dataframe tbody tr th {\n",
              "        vertical-align: top;\n",
              "    }\n",
              "\n",
              "    .dataframe thead th {\n",
              "        text-align: right;\n",
              "    }\n",
              "</style>\n",
              "<table border=\"1\" class=\"dataframe\">\n",
              "  <thead>\n",
              "    <tr style=\"text-align: right;\">\n",
              "      <th></th>\n",
              "      <th>POSTED_SPEED_LIMIT</th>\n",
              "      <th>NUM_UNITS</th>\n",
              "      <th>CRASH_HOUR</th>\n",
              "      <th>LATITUDE</th>\n",
              "      <th>LONGITUDE</th>\n",
              "      <th>AGE</th>\n",
              "      <th>WEATHER_CONDITION_BLOWING SAND, SOIL, DIRT</th>\n",
              "      <th>WEATHER_CONDITION_BLOWING SNOW</th>\n",
              "      <th>WEATHER_CONDITION_CLEAR</th>\n",
              "      <th>WEATHER_CONDITION_CLOUDY/OVERCAST</th>\n",
              "      <th>...</th>\n",
              "      <th>MANEUVER_SKIDDING/CONTROL LOSS</th>\n",
              "      <th>MANEUVER_SLOW/STOP - LEFT TURN</th>\n",
              "      <th>MANEUVER_SLOW/STOP - LOAD/UNLOAD</th>\n",
              "      <th>MANEUVER_SLOW/STOP - RIGHT TURN</th>\n",
              "      <th>MANEUVER_SLOW/STOP IN TRAFFIC</th>\n",
              "      <th>MANEUVER_STARTING IN TRAFFIC</th>\n",
              "      <th>MANEUVER_STRAIGHT AHEAD</th>\n",
              "      <th>MANEUVER_TURNING LEFT</th>\n",
              "      <th>MANEUVER_TURNING RIGHT</th>\n",
              "      <th>MANEUVER_U-TURN</th>\n",
              "    </tr>\n",
              "  </thead>\n",
              "  <tbody>\n",
              "    <tr>\n",
              "      <th>262116</th>\n",
              "      <td>30</td>\n",
              "      <td>2</td>\n",
              "      <td>9</td>\n",
              "      <td>41.870473</td>\n",
              "      <td>-87.630706</td>\n",
              "      <td>23.0</td>\n",
              "      <td>0.0</td>\n",
              "      <td>0.0</td>\n",
              "      <td>0.0</td>\n",
              "      <td>0.0</td>\n",
              "      <td>...</td>\n",
              "      <td>0.0</td>\n",
              "      <td>0.0</td>\n",
              "      <td>0.0</td>\n",
              "      <td>0.0</td>\n",
              "      <td>0.0</td>\n",
              "      <td>0.0</td>\n",
              "      <td>1.0</td>\n",
              "      <td>0.0</td>\n",
              "      <td>0.0</td>\n",
              "      <td>0.0</td>\n",
              "    </tr>\n",
              "    <tr>\n",
              "      <th>792637</th>\n",
              "      <td>30</td>\n",
              "      <td>2</td>\n",
              "      <td>10</td>\n",
              "      <td>41.975934</td>\n",
              "      <td>-87.678761</td>\n",
              "      <td>24.0</td>\n",
              "      <td>0.0</td>\n",
              "      <td>0.0</td>\n",
              "      <td>1.0</td>\n",
              "      <td>0.0</td>\n",
              "      <td>...</td>\n",
              "      <td>0.0</td>\n",
              "      <td>0.0</td>\n",
              "      <td>0.0</td>\n",
              "      <td>0.0</td>\n",
              "      <td>1.0</td>\n",
              "      <td>0.0</td>\n",
              "      <td>0.0</td>\n",
              "      <td>0.0</td>\n",
              "      <td>0.0</td>\n",
              "      <td>0.0</td>\n",
              "    </tr>\n",
              "    <tr>\n",
              "      <th>167787</th>\n",
              "      <td>35</td>\n",
              "      <td>2</td>\n",
              "      <td>8</td>\n",
              "      <td>41.663131</td>\n",
              "      <td>-87.641757</td>\n",
              "      <td>18.0</td>\n",
              "      <td>0.0</td>\n",
              "      <td>0.0</td>\n",
              "      <td>1.0</td>\n",
              "      <td>0.0</td>\n",
              "      <td>...</td>\n",
              "      <td>0.0</td>\n",
              "      <td>0.0</td>\n",
              "      <td>0.0</td>\n",
              "      <td>0.0</td>\n",
              "      <td>0.0</td>\n",
              "      <td>1.0</td>\n",
              "      <td>0.0</td>\n",
              "      <td>0.0</td>\n",
              "      <td>0.0</td>\n",
              "      <td>0.0</td>\n",
              "    </tr>\n",
              "    <tr>\n",
              "      <th>433111</th>\n",
              "      <td>30</td>\n",
              "      <td>2</td>\n",
              "      <td>20</td>\n",
              "      <td>41.838567</td>\n",
              "      <td>-87.609722</td>\n",
              "      <td>56.0</td>\n",
              "      <td>0.0</td>\n",
              "      <td>0.0</td>\n",
              "      <td>1.0</td>\n",
              "      <td>0.0</td>\n",
              "      <td>...</td>\n",
              "      <td>0.0</td>\n",
              "      <td>0.0</td>\n",
              "      <td>0.0</td>\n",
              "      <td>0.0</td>\n",
              "      <td>0.0</td>\n",
              "      <td>0.0</td>\n",
              "      <td>0.0</td>\n",
              "      <td>0.0</td>\n",
              "      <td>0.0</td>\n",
              "      <td>0.0</td>\n",
              "    </tr>\n",
              "    <tr>\n",
              "      <th>477277</th>\n",
              "      <td>30</td>\n",
              "      <td>2</td>\n",
              "      <td>15</td>\n",
              "      <td>41.684110</td>\n",
              "      <td>-87.717807</td>\n",
              "      <td>39.0</td>\n",
              "      <td>0.0</td>\n",
              "      <td>0.0</td>\n",
              "      <td>1.0</td>\n",
              "      <td>0.0</td>\n",
              "      <td>...</td>\n",
              "      <td>0.0</td>\n",
              "      <td>0.0</td>\n",
              "      <td>0.0</td>\n",
              "      <td>0.0</td>\n",
              "      <td>0.0</td>\n",
              "      <td>0.0</td>\n",
              "      <td>1.0</td>\n",
              "      <td>0.0</td>\n",
              "      <td>0.0</td>\n",
              "      <td>0.0</td>\n",
              "    </tr>\n",
              "  </tbody>\n",
              "</table>\n",
              "<p>5 rows × 69 columns</p>\n",
              "</div>\n",
              "    <div class=\"colab-df-buttons\">\n",
              "\n",
              "  <div class=\"colab-df-container\">\n",
              "    <button class=\"colab-df-convert\" onclick=\"convertToInteractive('df-bbef40fe-ece1-4301-b4f7-66022f309936')\"\n",
              "            title=\"Convert this dataframe to an interactive table.\"\n",
              "            style=\"display:none;\">\n",
              "\n",
              "  <svg xmlns=\"http://www.w3.org/2000/svg\" height=\"24px\" viewBox=\"0 -960 960 960\">\n",
              "    <path d=\"M120-120v-720h720v720H120Zm60-500h600v-160H180v160Zm220 220h160v-160H400v160Zm0 220h160v-160H400v160ZM180-400h160v-160H180v160Zm440 0h160v-160H620v160ZM180-180h160v-160H180v160Zm440 0h160v-160H620v160Z\"/>\n",
              "  </svg>\n",
              "    </button>\n",
              "\n",
              "  <style>\n",
              "    .colab-df-container {\n",
              "      display:flex;\n",
              "      gap: 12px;\n",
              "    }\n",
              "\n",
              "    .colab-df-convert {\n",
              "      background-color: #E8F0FE;\n",
              "      border: none;\n",
              "      border-radius: 50%;\n",
              "      cursor: pointer;\n",
              "      display: none;\n",
              "      fill: #1967D2;\n",
              "      height: 32px;\n",
              "      padding: 0 0 0 0;\n",
              "      width: 32px;\n",
              "    }\n",
              "\n",
              "    .colab-df-convert:hover {\n",
              "      background-color: #E2EBFA;\n",
              "      box-shadow: 0px 1px 2px rgba(60, 64, 67, 0.3), 0px 1px 3px 1px rgba(60, 64, 67, 0.15);\n",
              "      fill: #174EA6;\n",
              "    }\n",
              "\n",
              "    .colab-df-buttons div {\n",
              "      margin-bottom: 4px;\n",
              "    }\n",
              "\n",
              "    [theme=dark] .colab-df-convert {\n",
              "      background-color: #3B4455;\n",
              "      fill: #D2E3FC;\n",
              "    }\n",
              "\n",
              "    [theme=dark] .colab-df-convert:hover {\n",
              "      background-color: #434B5C;\n",
              "      box-shadow: 0px 1px 3px 1px rgba(0, 0, 0, 0.15);\n",
              "      filter: drop-shadow(0px 1px 2px rgba(0, 0, 0, 0.3));\n",
              "      fill: #FFFFFF;\n",
              "    }\n",
              "  </style>\n",
              "\n",
              "    <script>\n",
              "      const buttonEl =\n",
              "        document.querySelector('#df-bbef40fe-ece1-4301-b4f7-66022f309936 button.colab-df-convert');\n",
              "      buttonEl.style.display =\n",
              "        google.colab.kernel.accessAllowed ? 'block' : 'none';\n",
              "\n",
              "      async function convertToInteractive(key) {\n",
              "        const element = document.querySelector('#df-bbef40fe-ece1-4301-b4f7-66022f309936');\n",
              "        const dataTable =\n",
              "          await google.colab.kernel.invokeFunction('convertToInteractive',\n",
              "                                                    [key], {});\n",
              "        if (!dataTable) return;\n",
              "\n",
              "        const docLinkHtml = 'Like what you see? Visit the ' +\n",
              "          '<a target=\"_blank\" href=https://colab.research.google.com/notebooks/data_table.ipynb>data table notebook</a>'\n",
              "          + ' to learn more about interactive tables.';\n",
              "        element.innerHTML = '';\n",
              "        dataTable['output_type'] = 'display_data';\n",
              "        await google.colab.output.renderOutput(dataTable, element);\n",
              "        const docLink = document.createElement('div');\n",
              "        docLink.innerHTML = docLinkHtml;\n",
              "        element.appendChild(docLink);\n",
              "      }\n",
              "    </script>\n",
              "  </div>\n",
              "\n",
              "\n",
              "<div id=\"df-a6100944-0cf7-4e6a-bf3b-997337bd49e0\">\n",
              "  <button class=\"colab-df-quickchart\" onclick=\"quickchart('df-a6100944-0cf7-4e6a-bf3b-997337bd49e0')\"\n",
              "            title=\"Suggest charts\"\n",
              "            style=\"display:none;\">\n",
              "\n",
              "<svg xmlns=\"http://www.w3.org/2000/svg\" height=\"24px\"viewBox=\"0 0 24 24\"\n",
              "     width=\"24px\">\n",
              "    <g>\n",
              "        <path d=\"M19 3H5c-1.1 0-2 .9-2 2v14c0 1.1.9 2 2 2h14c1.1 0 2-.9 2-2V5c0-1.1-.9-2-2-2zM9 17H7v-7h2v7zm4 0h-2V7h2v10zm4 0h-2v-4h2v4z\"/>\n",
              "    </g>\n",
              "</svg>\n",
              "  </button>\n",
              "\n",
              "<style>\n",
              "  .colab-df-quickchart {\n",
              "      --bg-color: #E8F0FE;\n",
              "      --fill-color: #1967D2;\n",
              "      --hover-bg-color: #E2EBFA;\n",
              "      --hover-fill-color: #174EA6;\n",
              "      --disabled-fill-color: #AAA;\n",
              "      --disabled-bg-color: #DDD;\n",
              "  }\n",
              "\n",
              "  [theme=dark] .colab-df-quickchart {\n",
              "      --bg-color: #3B4455;\n",
              "      --fill-color: #D2E3FC;\n",
              "      --hover-bg-color: #434B5C;\n",
              "      --hover-fill-color: #FFFFFF;\n",
              "      --disabled-bg-color: #3B4455;\n",
              "      --disabled-fill-color: #666;\n",
              "  }\n",
              "\n",
              "  .colab-df-quickchart {\n",
              "    background-color: var(--bg-color);\n",
              "    border: none;\n",
              "    border-radius: 50%;\n",
              "    cursor: pointer;\n",
              "    display: none;\n",
              "    fill: var(--fill-color);\n",
              "    height: 32px;\n",
              "    padding: 0;\n",
              "    width: 32px;\n",
              "  }\n",
              "\n",
              "  .colab-df-quickchart:hover {\n",
              "    background-color: var(--hover-bg-color);\n",
              "    box-shadow: 0 1px 2px rgba(60, 64, 67, 0.3), 0 1px 3px 1px rgba(60, 64, 67, 0.15);\n",
              "    fill: var(--button-hover-fill-color);\n",
              "  }\n",
              "\n",
              "  .colab-df-quickchart-complete:disabled,\n",
              "  .colab-df-quickchart-complete:disabled:hover {\n",
              "    background-color: var(--disabled-bg-color);\n",
              "    fill: var(--disabled-fill-color);\n",
              "    box-shadow: none;\n",
              "  }\n",
              "\n",
              "  .colab-df-spinner {\n",
              "    border: 2px solid var(--fill-color);\n",
              "    border-color: transparent;\n",
              "    border-bottom-color: var(--fill-color);\n",
              "    animation:\n",
              "      spin 1s steps(1) infinite;\n",
              "  }\n",
              "\n",
              "  @keyframes spin {\n",
              "    0% {\n",
              "      border-color: transparent;\n",
              "      border-bottom-color: var(--fill-color);\n",
              "      border-left-color: var(--fill-color);\n",
              "    }\n",
              "    20% {\n",
              "      border-color: transparent;\n",
              "      border-left-color: var(--fill-color);\n",
              "      border-top-color: var(--fill-color);\n",
              "    }\n",
              "    30% {\n",
              "      border-color: transparent;\n",
              "      border-left-color: var(--fill-color);\n",
              "      border-top-color: var(--fill-color);\n",
              "      border-right-color: var(--fill-color);\n",
              "    }\n",
              "    40% {\n",
              "      border-color: transparent;\n",
              "      border-right-color: var(--fill-color);\n",
              "      border-top-color: var(--fill-color);\n",
              "    }\n",
              "    60% {\n",
              "      border-color: transparent;\n",
              "      border-right-color: var(--fill-color);\n",
              "    }\n",
              "    80% {\n",
              "      border-color: transparent;\n",
              "      border-right-color: var(--fill-color);\n",
              "      border-bottom-color: var(--fill-color);\n",
              "    }\n",
              "    90% {\n",
              "      border-color: transparent;\n",
              "      border-bottom-color: var(--fill-color);\n",
              "    }\n",
              "  }\n",
              "</style>\n",
              "\n",
              "  <script>\n",
              "    async function quickchart(key) {\n",
              "      const quickchartButtonEl =\n",
              "        document.querySelector('#' + key + ' button');\n",
              "      quickchartButtonEl.disabled = true;  // To prevent multiple clicks.\n",
              "      quickchartButtonEl.classList.add('colab-df-spinner');\n",
              "      try {\n",
              "        const charts = await google.colab.kernel.invokeFunction(\n",
              "            'suggestCharts', [key], {});\n",
              "      } catch (error) {\n",
              "        console.error('Error during call to suggestCharts:', error);\n",
              "      }\n",
              "      quickchartButtonEl.classList.remove('colab-df-spinner');\n",
              "      quickchartButtonEl.classList.add('colab-df-quickchart-complete');\n",
              "    }\n",
              "    (() => {\n",
              "      let quickchartButtonEl =\n",
              "        document.querySelector('#df-a6100944-0cf7-4e6a-bf3b-997337bd49e0 button');\n",
              "      quickchartButtonEl.style.display =\n",
              "        google.colab.kernel.accessAllowed ? 'block' : 'none';\n",
              "    })();\n",
              "  </script>\n",
              "</div>\n",
              "\n",
              "    </div>\n",
              "  </div>\n"
            ],
            "application/vnd.google.colaboratory.intrinsic+json": {
              "type": "dataframe",
              "variable_name": "X_train_nonstandardized"
            }
          },
          "metadata": {},
          "execution_count": 24
        }
      ],
      "source": [
        "X_train_nonstandardized = pd.concat([X_train_numeric, X_train_categorical_ohe], axis=1)\n",
        "X_train_nonstandardized.head()"
      ]
    },
    {
      "cell_type": "code",
      "execution_count": 26,
      "metadata": {
        "colab": {
          "base_uri": "https://localhost:8080/",
          "height": 117
        },
        "id": "-a3b-J445jIK",
        "outputId": "a98801e5-cb58-4dfe-bf7b-98ef68d828fc"
      },
      "outputs": [
        {
          "output_type": "execute_result",
          "data": {
            "text/plain": [
              "GridSearchCV(cv=5, estimator=RandomForestClassifier(random_state=210),\n",
              "             param_grid={'criterion': ['entropy'], 'max_depth': [None, 4],\n",
              "                         'min_samples_split': [10], 'n_estimators': [5, 10]},\n",
              "             return_train_score=True, scoring=make_scorer(f1_score))"
            ],
            "text/html": [
              "<style>#sk-container-id-1 {color: black;background-color: white;}#sk-container-id-1 pre{padding: 0;}#sk-container-id-1 div.sk-toggleable {background-color: white;}#sk-container-id-1 label.sk-toggleable__label {cursor: pointer;display: block;width: 100%;margin-bottom: 0;padding: 0.3em;box-sizing: border-box;text-align: center;}#sk-container-id-1 label.sk-toggleable__label-arrow:before {content: \"▸\";float: left;margin-right: 0.25em;color: #696969;}#sk-container-id-1 label.sk-toggleable__label-arrow:hover:before {color: black;}#sk-container-id-1 div.sk-estimator:hover label.sk-toggleable__label-arrow:before {color: black;}#sk-container-id-1 div.sk-toggleable__content {max-height: 0;max-width: 0;overflow: hidden;text-align: left;background-color: #f0f8ff;}#sk-container-id-1 div.sk-toggleable__content pre {margin: 0.2em;color: black;border-radius: 0.25em;background-color: #f0f8ff;}#sk-container-id-1 input.sk-toggleable__control:checked~div.sk-toggleable__content {max-height: 200px;max-width: 100%;overflow: auto;}#sk-container-id-1 input.sk-toggleable__control:checked~label.sk-toggleable__label-arrow:before {content: \"▾\";}#sk-container-id-1 div.sk-estimator input.sk-toggleable__control:checked~label.sk-toggleable__label {background-color: #d4ebff;}#sk-container-id-1 div.sk-label input.sk-toggleable__control:checked~label.sk-toggleable__label {background-color: #d4ebff;}#sk-container-id-1 input.sk-hidden--visually {border: 0;clip: rect(1px 1px 1px 1px);clip: rect(1px, 1px, 1px, 1px);height: 1px;margin: -1px;overflow: hidden;padding: 0;position: absolute;width: 1px;}#sk-container-id-1 div.sk-estimator {font-family: monospace;background-color: #f0f8ff;border: 1px dotted black;border-radius: 0.25em;box-sizing: border-box;margin-bottom: 0.5em;}#sk-container-id-1 div.sk-estimator:hover {background-color: #d4ebff;}#sk-container-id-1 div.sk-parallel-item::after {content: \"\";width: 100%;border-bottom: 1px solid gray;flex-grow: 1;}#sk-container-id-1 div.sk-label:hover label.sk-toggleable__label {background-color: #d4ebff;}#sk-container-id-1 div.sk-serial::before {content: \"\";position: absolute;border-left: 1px solid gray;box-sizing: border-box;top: 0;bottom: 0;left: 50%;z-index: 0;}#sk-container-id-1 div.sk-serial {display: flex;flex-direction: column;align-items: center;background-color: white;padding-right: 0.2em;padding-left: 0.2em;position: relative;}#sk-container-id-1 div.sk-item {position: relative;z-index: 1;}#sk-container-id-1 div.sk-parallel {display: flex;align-items: stretch;justify-content: center;background-color: white;position: relative;}#sk-container-id-1 div.sk-item::before, #sk-container-id-1 div.sk-parallel-item::before {content: \"\";position: absolute;border-left: 1px solid gray;box-sizing: border-box;top: 0;bottom: 0;left: 50%;z-index: -1;}#sk-container-id-1 div.sk-parallel-item {display: flex;flex-direction: column;z-index: 1;position: relative;background-color: white;}#sk-container-id-1 div.sk-parallel-item:first-child::after {align-self: flex-end;width: 50%;}#sk-container-id-1 div.sk-parallel-item:last-child::after {align-self: flex-start;width: 50%;}#sk-container-id-1 div.sk-parallel-item:only-child::after {width: 0;}#sk-container-id-1 div.sk-dashed-wrapped {border: 1px dashed gray;margin: 0 0.4em 0.5em 0.4em;box-sizing: border-box;padding-bottom: 0.4em;background-color: white;}#sk-container-id-1 div.sk-label label {font-family: monospace;font-weight: bold;display: inline-block;line-height: 1.2em;}#sk-container-id-1 div.sk-label-container {text-align: center;}#sk-container-id-1 div.sk-container {/* jupyter's `normalize.less` sets `[hidden] { display: none; }` but bootstrap.min.css set `[hidden] { display: none !important; }` so we also need the `!important` here to be able to override the default hidden behavior on the sphinx rendered scikit-learn.org. See: https://github.com/scikit-learn/scikit-learn/issues/21755 */display: inline-block !important;position: relative;}#sk-container-id-1 div.sk-text-repr-fallback {display: none;}</style><div id=\"sk-container-id-1\" class=\"sk-top-container\"><div class=\"sk-text-repr-fallback\"><pre>GridSearchCV(cv=5, estimator=RandomForestClassifier(random_state=210),\n",
              "             param_grid={&#x27;criterion&#x27;: [&#x27;entropy&#x27;], &#x27;max_depth&#x27;: [None, 4],\n",
              "                         &#x27;min_samples_split&#x27;: [10], &#x27;n_estimators&#x27;: [5, 10]},\n",
              "             return_train_score=True, scoring=make_scorer(f1_score))</pre><b>In a Jupyter environment, please rerun this cell to show the HTML representation or trust the notebook. <br />On GitHub, the HTML representation is unable to render, please try loading this page with nbviewer.org.</b></div><div class=\"sk-container\" hidden><div class=\"sk-item sk-dashed-wrapped\"><div class=\"sk-label-container\"><div class=\"sk-label sk-toggleable\"><input class=\"sk-toggleable__control sk-hidden--visually\" id=\"sk-estimator-id-1\" type=\"checkbox\" ><label for=\"sk-estimator-id-1\" class=\"sk-toggleable__label sk-toggleable__label-arrow\">GridSearchCV</label><div class=\"sk-toggleable__content\"><pre>GridSearchCV(cv=5, estimator=RandomForestClassifier(random_state=210),\n",
              "             param_grid={&#x27;criterion&#x27;: [&#x27;entropy&#x27;], &#x27;max_depth&#x27;: [None, 4],\n",
              "                         &#x27;min_samples_split&#x27;: [10], &#x27;n_estimators&#x27;: [5, 10]},\n",
              "             return_train_score=True, scoring=make_scorer(f1_score))</pre></div></div></div><div class=\"sk-parallel\"><div class=\"sk-parallel-item\"><div class=\"sk-item\"><div class=\"sk-label-container\"><div class=\"sk-label sk-toggleable\"><input class=\"sk-toggleable__control sk-hidden--visually\" id=\"sk-estimator-id-2\" type=\"checkbox\" ><label for=\"sk-estimator-id-2\" class=\"sk-toggleable__label sk-toggleable__label-arrow\">estimator: RandomForestClassifier</label><div class=\"sk-toggleable__content\"><pre>RandomForestClassifier(random_state=210)</pre></div></div></div><div class=\"sk-serial\"><div class=\"sk-item\"><div class=\"sk-estimator sk-toggleable\"><input class=\"sk-toggleable__control sk-hidden--visually\" id=\"sk-estimator-id-3\" type=\"checkbox\" ><label for=\"sk-estimator-id-3\" class=\"sk-toggleable__label sk-toggleable__label-arrow\">RandomForestClassifier</label><div class=\"sk-toggleable__content\"><pre>RandomForestClassifier(random_state=210)</pre></div></div></div></div></div></div></div></div></div></div>"
            ]
          },
          "metadata": {},
          "execution_count": 26
        }
      ],
      "source": [
        "from sklearn.ensemble import RandomForestClassifier\n",
        "from sklearn.metrics import f1_score, make_scorer\n",
        "from sklearn.model_selection import GridSearchCV\n",
        "\n",
        "#instantiating the random forest classifier\n",
        "forest = RandomForestClassifier(random_state=210)\n",
        "\n",
        "#Since this dataset has target class imbalance, let's\n",
        "# evaluate its performance via an f1 score instead of the\n",
        "# default accuracy.\n",
        "f1 = make_scorer(f1_score)\n",
        "\n",
        "#establishing a parameter grid for GridSearchCV\n",
        "rf_param_grid = {'n_estimators':[5, 10],\n",
        "                 'criterion':['entropy'],\n",
        "                 'max_depth':[None, 4],\n",
        "                 'min_samples_split':[10]}\n",
        "\n",
        "#instantiating GridSearchCV\n",
        "rf_grid_search = GridSearchCV(forest,\n",
        "                              rf_param_grid,\n",
        "                              cv=5,\n",
        "                              return_train_score=True,\n",
        "                              scoring=f1)\n",
        "\n",
        "#fitting the GridSearch to the training data\n",
        "rf_grid_search.fit(X_train_nonstandardized, y_train)"
      ]
    },
    {
      "cell_type": "markdown",
      "metadata": {
        "id": "Ohdiw8SbRJuF"
      },
      "source": [
        "Before we can evaluate this random forest grid search on testing data, we have to perform one-hot encoding on X_test while refraining from standardizing its numerical columns in order to have an apples-to-apples evaluation."
      ]
    },
    {
      "cell_type": "code",
      "execution_count": 27,
      "metadata": {
        "colab": {
          "base_uri": "https://localhost:8080/",
          "height": 273
        },
        "id": "Vo7fCEASRHs3",
        "outputId": "9b933971-0aa9-4d0b-c941-d17f5cd05e3f"
      },
      "outputs": [
        {
          "output_type": "execute_result",
          "data": {
            "text/plain": [
              "        POSTED_SPEED_LIMIT  NUM_UNITS  CRASH_HOUR   LATITUDE  LONGITUDE   AGE  \\\n",
              "713656                  30          2           4  41.909357 -87.776124  59.0   \n",
              "558302                  30          2          15  41.909271 -87.766971  68.0   \n",
              "414872                  25          2          18  41.968622 -87.680912  81.0   \n",
              "697843                  30          4          18  41.816404 -87.684794  34.0   \n",
              "306513                  30          2          16  41.816395 -87.631340  41.0   \n",
              "\n",
              "        WEATHER_CONDITION_BLOWING SAND, SOIL, DIRT  \\\n",
              "713656                                         0.0   \n",
              "558302                                         0.0   \n",
              "414872                                         0.0   \n",
              "697843                                         0.0   \n",
              "306513                                         0.0   \n",
              "\n",
              "        WEATHER_CONDITION_BLOWING SNOW  WEATHER_CONDITION_CLEAR  \\\n",
              "713656                             0.0                      1.0   \n",
              "558302                             0.0                      1.0   \n",
              "414872                             0.0                      1.0   \n",
              "697843                             0.0                      1.0   \n",
              "306513                             0.0                      1.0   \n",
              "\n",
              "        WEATHER_CONDITION_CLOUDY/OVERCAST  ...  \\\n",
              "713656                                0.0  ...   \n",
              "558302                                0.0  ...   \n",
              "414872                                0.0  ...   \n",
              "697843                                0.0  ...   \n",
              "306513                                0.0  ...   \n",
              "\n",
              "        MANEUVER_SKIDDING/CONTROL LOSS  MANEUVER_SLOW/STOP - LEFT TURN  \\\n",
              "713656                             0.0                             0.0   \n",
              "558302                             0.0                             0.0   \n",
              "414872                             0.0                             0.0   \n",
              "697843                             0.0                             0.0   \n",
              "306513                             0.0                             0.0   \n",
              "\n",
              "        MANEUVER_SLOW/STOP - LOAD/UNLOAD  MANEUVER_SLOW/STOP - RIGHT TURN  \\\n",
              "713656                               0.0                              0.0   \n",
              "558302                               0.0                              0.0   \n",
              "414872                               0.0                              0.0   \n",
              "697843                               0.0                              0.0   \n",
              "306513                               0.0                              0.0   \n",
              "\n",
              "        MANEUVER_SLOW/STOP IN TRAFFIC  MANEUVER_STARTING IN TRAFFIC  \\\n",
              "713656                            0.0                           0.0   \n",
              "558302                            0.0                           0.0   \n",
              "414872                            0.0                           0.0   \n",
              "697843                            0.0                           0.0   \n",
              "306513                            0.0                           0.0   \n",
              "\n",
              "        MANEUVER_STRAIGHT AHEAD  MANEUVER_TURNING LEFT  \\\n",
              "713656                      1.0                    0.0   \n",
              "558302                      0.0                    0.0   \n",
              "414872                      1.0                    0.0   \n",
              "697843                      1.0                    0.0   \n",
              "306513                      1.0                    0.0   \n",
              "\n",
              "        MANEUVER_TURNING RIGHT  MANEUVER_U-TURN  \n",
              "713656                     0.0              0.0  \n",
              "558302                     1.0              0.0  \n",
              "414872                     0.0              0.0  \n",
              "697843                     0.0              0.0  \n",
              "306513                     0.0              0.0  \n",
              "\n",
              "[5 rows x 69 columns]"
            ],
            "text/html": [
              "\n",
              "  <div id=\"df-f23565cc-2787-4ae3-8106-8b2c16baa259\" class=\"colab-df-container\">\n",
              "    <div>\n",
              "<style scoped>\n",
              "    .dataframe tbody tr th:only-of-type {\n",
              "        vertical-align: middle;\n",
              "    }\n",
              "\n",
              "    .dataframe tbody tr th {\n",
              "        vertical-align: top;\n",
              "    }\n",
              "\n",
              "    .dataframe thead th {\n",
              "        text-align: right;\n",
              "    }\n",
              "</style>\n",
              "<table border=\"1\" class=\"dataframe\">\n",
              "  <thead>\n",
              "    <tr style=\"text-align: right;\">\n",
              "      <th></th>\n",
              "      <th>POSTED_SPEED_LIMIT</th>\n",
              "      <th>NUM_UNITS</th>\n",
              "      <th>CRASH_HOUR</th>\n",
              "      <th>LATITUDE</th>\n",
              "      <th>LONGITUDE</th>\n",
              "      <th>AGE</th>\n",
              "      <th>WEATHER_CONDITION_BLOWING SAND, SOIL, DIRT</th>\n",
              "      <th>WEATHER_CONDITION_BLOWING SNOW</th>\n",
              "      <th>WEATHER_CONDITION_CLEAR</th>\n",
              "      <th>WEATHER_CONDITION_CLOUDY/OVERCAST</th>\n",
              "      <th>...</th>\n",
              "      <th>MANEUVER_SKIDDING/CONTROL LOSS</th>\n",
              "      <th>MANEUVER_SLOW/STOP - LEFT TURN</th>\n",
              "      <th>MANEUVER_SLOW/STOP - LOAD/UNLOAD</th>\n",
              "      <th>MANEUVER_SLOW/STOP - RIGHT TURN</th>\n",
              "      <th>MANEUVER_SLOW/STOP IN TRAFFIC</th>\n",
              "      <th>MANEUVER_STARTING IN TRAFFIC</th>\n",
              "      <th>MANEUVER_STRAIGHT AHEAD</th>\n",
              "      <th>MANEUVER_TURNING LEFT</th>\n",
              "      <th>MANEUVER_TURNING RIGHT</th>\n",
              "      <th>MANEUVER_U-TURN</th>\n",
              "    </tr>\n",
              "  </thead>\n",
              "  <tbody>\n",
              "    <tr>\n",
              "      <th>713656</th>\n",
              "      <td>30</td>\n",
              "      <td>2</td>\n",
              "      <td>4</td>\n",
              "      <td>41.909357</td>\n",
              "      <td>-87.776124</td>\n",
              "      <td>59.0</td>\n",
              "      <td>0.0</td>\n",
              "      <td>0.0</td>\n",
              "      <td>1.0</td>\n",
              "      <td>0.0</td>\n",
              "      <td>...</td>\n",
              "      <td>0.0</td>\n",
              "      <td>0.0</td>\n",
              "      <td>0.0</td>\n",
              "      <td>0.0</td>\n",
              "      <td>0.0</td>\n",
              "      <td>0.0</td>\n",
              "      <td>1.0</td>\n",
              "      <td>0.0</td>\n",
              "      <td>0.0</td>\n",
              "      <td>0.0</td>\n",
              "    </tr>\n",
              "    <tr>\n",
              "      <th>558302</th>\n",
              "      <td>30</td>\n",
              "      <td>2</td>\n",
              "      <td>15</td>\n",
              "      <td>41.909271</td>\n",
              "      <td>-87.766971</td>\n",
              "      <td>68.0</td>\n",
              "      <td>0.0</td>\n",
              "      <td>0.0</td>\n",
              "      <td>1.0</td>\n",
              "      <td>0.0</td>\n",
              "      <td>...</td>\n",
              "      <td>0.0</td>\n",
              "      <td>0.0</td>\n",
              "      <td>0.0</td>\n",
              "      <td>0.0</td>\n",
              "      <td>0.0</td>\n",
              "      <td>0.0</td>\n",
              "      <td>0.0</td>\n",
              "      <td>0.0</td>\n",
              "      <td>1.0</td>\n",
              "      <td>0.0</td>\n",
              "    </tr>\n",
              "    <tr>\n",
              "      <th>414872</th>\n",
              "      <td>25</td>\n",
              "      <td>2</td>\n",
              "      <td>18</td>\n",
              "      <td>41.968622</td>\n",
              "      <td>-87.680912</td>\n",
              "      <td>81.0</td>\n",
              "      <td>0.0</td>\n",
              "      <td>0.0</td>\n",
              "      <td>1.0</td>\n",
              "      <td>0.0</td>\n",
              "      <td>...</td>\n",
              "      <td>0.0</td>\n",
              "      <td>0.0</td>\n",
              "      <td>0.0</td>\n",
              "      <td>0.0</td>\n",
              "      <td>0.0</td>\n",
              "      <td>0.0</td>\n",
              "      <td>1.0</td>\n",
              "      <td>0.0</td>\n",
              "      <td>0.0</td>\n",
              "      <td>0.0</td>\n",
              "    </tr>\n",
              "    <tr>\n",
              "      <th>697843</th>\n",
              "      <td>30</td>\n",
              "      <td>4</td>\n",
              "      <td>18</td>\n",
              "      <td>41.816404</td>\n",
              "      <td>-87.684794</td>\n",
              "      <td>34.0</td>\n",
              "      <td>0.0</td>\n",
              "      <td>0.0</td>\n",
              "      <td>1.0</td>\n",
              "      <td>0.0</td>\n",
              "      <td>...</td>\n",
              "      <td>0.0</td>\n",
              "      <td>0.0</td>\n",
              "      <td>0.0</td>\n",
              "      <td>0.0</td>\n",
              "      <td>0.0</td>\n",
              "      <td>0.0</td>\n",
              "      <td>1.0</td>\n",
              "      <td>0.0</td>\n",
              "      <td>0.0</td>\n",
              "      <td>0.0</td>\n",
              "    </tr>\n",
              "    <tr>\n",
              "      <th>306513</th>\n",
              "      <td>30</td>\n",
              "      <td>2</td>\n",
              "      <td>16</td>\n",
              "      <td>41.816395</td>\n",
              "      <td>-87.631340</td>\n",
              "      <td>41.0</td>\n",
              "      <td>0.0</td>\n",
              "      <td>0.0</td>\n",
              "      <td>1.0</td>\n",
              "      <td>0.0</td>\n",
              "      <td>...</td>\n",
              "      <td>0.0</td>\n",
              "      <td>0.0</td>\n",
              "      <td>0.0</td>\n",
              "      <td>0.0</td>\n",
              "      <td>0.0</td>\n",
              "      <td>0.0</td>\n",
              "      <td>1.0</td>\n",
              "      <td>0.0</td>\n",
              "      <td>0.0</td>\n",
              "      <td>0.0</td>\n",
              "    </tr>\n",
              "  </tbody>\n",
              "</table>\n",
              "<p>5 rows × 69 columns</p>\n",
              "</div>\n",
              "    <div class=\"colab-df-buttons\">\n",
              "\n",
              "  <div class=\"colab-df-container\">\n",
              "    <button class=\"colab-df-convert\" onclick=\"convertToInteractive('df-f23565cc-2787-4ae3-8106-8b2c16baa259')\"\n",
              "            title=\"Convert this dataframe to an interactive table.\"\n",
              "            style=\"display:none;\">\n",
              "\n",
              "  <svg xmlns=\"http://www.w3.org/2000/svg\" height=\"24px\" viewBox=\"0 -960 960 960\">\n",
              "    <path d=\"M120-120v-720h720v720H120Zm60-500h600v-160H180v160Zm220 220h160v-160H400v160Zm0 220h160v-160H400v160ZM180-400h160v-160H180v160Zm440 0h160v-160H620v160ZM180-180h160v-160H180v160Zm440 0h160v-160H620v160Z\"/>\n",
              "  </svg>\n",
              "    </button>\n",
              "\n",
              "  <style>\n",
              "    .colab-df-container {\n",
              "      display:flex;\n",
              "      gap: 12px;\n",
              "    }\n",
              "\n",
              "    .colab-df-convert {\n",
              "      background-color: #E8F0FE;\n",
              "      border: none;\n",
              "      border-radius: 50%;\n",
              "      cursor: pointer;\n",
              "      display: none;\n",
              "      fill: #1967D2;\n",
              "      height: 32px;\n",
              "      padding: 0 0 0 0;\n",
              "      width: 32px;\n",
              "    }\n",
              "\n",
              "    .colab-df-convert:hover {\n",
              "      background-color: #E2EBFA;\n",
              "      box-shadow: 0px 1px 2px rgba(60, 64, 67, 0.3), 0px 1px 3px 1px rgba(60, 64, 67, 0.15);\n",
              "      fill: #174EA6;\n",
              "    }\n",
              "\n",
              "    .colab-df-buttons div {\n",
              "      margin-bottom: 4px;\n",
              "    }\n",
              "\n",
              "    [theme=dark] .colab-df-convert {\n",
              "      background-color: #3B4455;\n",
              "      fill: #D2E3FC;\n",
              "    }\n",
              "\n",
              "    [theme=dark] .colab-df-convert:hover {\n",
              "      background-color: #434B5C;\n",
              "      box-shadow: 0px 1px 3px 1px rgba(0, 0, 0, 0.15);\n",
              "      filter: drop-shadow(0px 1px 2px rgba(0, 0, 0, 0.3));\n",
              "      fill: #FFFFFF;\n",
              "    }\n",
              "  </style>\n",
              "\n",
              "    <script>\n",
              "      const buttonEl =\n",
              "        document.querySelector('#df-f23565cc-2787-4ae3-8106-8b2c16baa259 button.colab-df-convert');\n",
              "      buttonEl.style.display =\n",
              "        google.colab.kernel.accessAllowed ? 'block' : 'none';\n",
              "\n",
              "      async function convertToInteractive(key) {\n",
              "        const element = document.querySelector('#df-f23565cc-2787-4ae3-8106-8b2c16baa259');\n",
              "        const dataTable =\n",
              "          await google.colab.kernel.invokeFunction('convertToInteractive',\n",
              "                                                    [key], {});\n",
              "        if (!dataTable) return;\n",
              "\n",
              "        const docLinkHtml = 'Like what you see? Visit the ' +\n",
              "          '<a target=\"_blank\" href=https://colab.research.google.com/notebooks/data_table.ipynb>data table notebook</a>'\n",
              "          + ' to learn more about interactive tables.';\n",
              "        element.innerHTML = '';\n",
              "        dataTable['output_type'] = 'display_data';\n",
              "        await google.colab.output.renderOutput(dataTable, element);\n",
              "        const docLink = document.createElement('div');\n",
              "        docLink.innerHTML = docLinkHtml;\n",
              "        element.appendChild(docLink);\n",
              "      }\n",
              "    </script>\n",
              "  </div>\n",
              "\n",
              "\n",
              "<div id=\"df-a83bcd65-87ca-45a4-87de-e7012adefe79\">\n",
              "  <button class=\"colab-df-quickchart\" onclick=\"quickchart('df-a83bcd65-87ca-45a4-87de-e7012adefe79')\"\n",
              "            title=\"Suggest charts\"\n",
              "            style=\"display:none;\">\n",
              "\n",
              "<svg xmlns=\"http://www.w3.org/2000/svg\" height=\"24px\"viewBox=\"0 0 24 24\"\n",
              "     width=\"24px\">\n",
              "    <g>\n",
              "        <path d=\"M19 3H5c-1.1 0-2 .9-2 2v14c0 1.1.9 2 2 2h14c1.1 0 2-.9 2-2V5c0-1.1-.9-2-2-2zM9 17H7v-7h2v7zm4 0h-2V7h2v10zm4 0h-2v-4h2v4z\"/>\n",
              "    </g>\n",
              "</svg>\n",
              "  </button>\n",
              "\n",
              "<style>\n",
              "  .colab-df-quickchart {\n",
              "      --bg-color: #E8F0FE;\n",
              "      --fill-color: #1967D2;\n",
              "      --hover-bg-color: #E2EBFA;\n",
              "      --hover-fill-color: #174EA6;\n",
              "      --disabled-fill-color: #AAA;\n",
              "      --disabled-bg-color: #DDD;\n",
              "  }\n",
              "\n",
              "  [theme=dark] .colab-df-quickchart {\n",
              "      --bg-color: #3B4455;\n",
              "      --fill-color: #D2E3FC;\n",
              "      --hover-bg-color: #434B5C;\n",
              "      --hover-fill-color: #FFFFFF;\n",
              "      --disabled-bg-color: #3B4455;\n",
              "      --disabled-fill-color: #666;\n",
              "  }\n",
              "\n",
              "  .colab-df-quickchart {\n",
              "    background-color: var(--bg-color);\n",
              "    border: none;\n",
              "    border-radius: 50%;\n",
              "    cursor: pointer;\n",
              "    display: none;\n",
              "    fill: var(--fill-color);\n",
              "    height: 32px;\n",
              "    padding: 0;\n",
              "    width: 32px;\n",
              "  }\n",
              "\n",
              "  .colab-df-quickchart:hover {\n",
              "    background-color: var(--hover-bg-color);\n",
              "    box-shadow: 0 1px 2px rgba(60, 64, 67, 0.3), 0 1px 3px 1px rgba(60, 64, 67, 0.15);\n",
              "    fill: var(--button-hover-fill-color);\n",
              "  }\n",
              "\n",
              "  .colab-df-quickchart-complete:disabled,\n",
              "  .colab-df-quickchart-complete:disabled:hover {\n",
              "    background-color: var(--disabled-bg-color);\n",
              "    fill: var(--disabled-fill-color);\n",
              "    box-shadow: none;\n",
              "  }\n",
              "\n",
              "  .colab-df-spinner {\n",
              "    border: 2px solid var(--fill-color);\n",
              "    border-color: transparent;\n",
              "    border-bottom-color: var(--fill-color);\n",
              "    animation:\n",
              "      spin 1s steps(1) infinite;\n",
              "  }\n",
              "\n",
              "  @keyframes spin {\n",
              "    0% {\n",
              "      border-color: transparent;\n",
              "      border-bottom-color: var(--fill-color);\n",
              "      border-left-color: var(--fill-color);\n",
              "    }\n",
              "    20% {\n",
              "      border-color: transparent;\n",
              "      border-left-color: var(--fill-color);\n",
              "      border-top-color: var(--fill-color);\n",
              "    }\n",
              "    30% {\n",
              "      border-color: transparent;\n",
              "      border-left-color: var(--fill-color);\n",
              "      border-top-color: var(--fill-color);\n",
              "      border-right-color: var(--fill-color);\n",
              "    }\n",
              "    40% {\n",
              "      border-color: transparent;\n",
              "      border-right-color: var(--fill-color);\n",
              "      border-top-color: var(--fill-color);\n",
              "    }\n",
              "    60% {\n",
              "      border-color: transparent;\n",
              "      border-right-color: var(--fill-color);\n",
              "    }\n",
              "    80% {\n",
              "      border-color: transparent;\n",
              "      border-right-color: var(--fill-color);\n",
              "      border-bottom-color: var(--fill-color);\n",
              "    }\n",
              "    90% {\n",
              "      border-color: transparent;\n",
              "      border-bottom-color: var(--fill-color);\n",
              "    }\n",
              "  }\n",
              "</style>\n",
              "\n",
              "  <script>\n",
              "    async function quickchart(key) {\n",
              "      const quickchartButtonEl =\n",
              "        document.querySelector('#' + key + ' button');\n",
              "      quickchartButtonEl.disabled = true;  // To prevent multiple clicks.\n",
              "      quickchartButtonEl.classList.add('colab-df-spinner');\n",
              "      try {\n",
              "        const charts = await google.colab.kernel.invokeFunction(\n",
              "            'suggestCharts', [key], {});\n",
              "      } catch (error) {\n",
              "        console.error('Error during call to suggestCharts:', error);\n",
              "      }\n",
              "      quickchartButtonEl.classList.remove('colab-df-spinner');\n",
              "      quickchartButtonEl.classList.add('colab-df-quickchart-complete');\n",
              "    }\n",
              "    (() => {\n",
              "      let quickchartButtonEl =\n",
              "        document.querySelector('#df-a83bcd65-87ca-45a4-87de-e7012adefe79 button');\n",
              "      quickchartButtonEl.style.display =\n",
              "        google.colab.kernel.accessAllowed ? 'block' : 'none';\n",
              "    })();\n",
              "  </script>\n",
              "</div>\n",
              "\n",
              "    </div>\n",
              "  </div>\n"
            ],
            "application/vnd.google.colaboratory.intrinsic+json": {
              "type": "dataframe",
              "variable_name": "X_test_nonstandardized"
            }
          },
          "metadata": {},
          "execution_count": 27
        }
      ],
      "source": [
        "#isolating X_test's categorical features\n",
        "X_test_categorical = X_test[categorical_features]\n",
        "#transforming them\n",
        "X_test_categorical_ohe = ohe.transform(X_test_categorical)\n",
        "#putting them back into a DataFrame\n",
        "X_test_categorical_ohe = pd.DataFrame(X_test_categorical_ohe,\n",
        "                                       columns = ohe.get_feature_names_out(),\n",
        "                                       index = X_test_categorical.index)\n",
        "#isolating X_test's numeric data\n",
        "X_test_numeric = X_test[numeric_features]\n",
        "#concatenating the non-standardized numeric data with the one-hot encoded categorical columns\n",
        "X_test_nonstandardized = pd.concat([X_test_numeric, X_test_categorical_ohe], axis=1)\n",
        "#making sure it looks right\n",
        "X_test_nonstandardized.head()"
      ]
    },
    {
      "cell_type": "code",
      "execution_count": 28,
      "metadata": {
        "colab": {
          "base_uri": "https://localhost:8080/"
        },
        "id": "VnLikAQ1-Y9W",
        "outputId": "7cb902d1-e457-4fac-dd2c-21905da2ce05"
      },
      "outputs": [
        {
          "output_type": "stream",
          "name": "stdout",
          "text": [
            "baseline random forest mean training score: 97.08%\n",
            "baseline random forest mean test score: 97.01%\n",
            "baseline random forest optimal parameter combination: {'criterion': 'entropy', 'max_depth': None, 'min_samples_split': 10, 'n_estimators': 10}\n"
          ]
        }
      ],
      "source": [
        "#mean training score\n",
        "rf_grid_search_train_score = rf_grid_search.cv_results_['mean_train_score'].mean()\n",
        "#mean test score\n",
        "rf_grid_search_test_score = rf_grid_search.score(X_test_nonstandardized, y_test)\n",
        "#printing results\n",
        "print(f'baseline random forest mean training score: {rf_grid_search_train_score :.2%}')\n",
        "print(f'baseline random forest mean test score: {rf_grid_search_test_score :.2%}')\n",
        "print(f'baseline random forest optimal parameter combination:', rf_grid_search.best_params_)"
      ]
    },
    {
      "cell_type": "markdown",
      "metadata": {
        "id": "CvT3_lg2jDSj"
      },
      "source": [
        "With a baseline that's been optimized via GridSearchCV in mind, let's (hopefully) further improve on this model by adding in some over/under sampling strategies."
      ]
    },
    {
      "cell_type": "code",
      "execution_count": 29,
      "metadata": {
        "colab": {
          "base_uri": "https://localhost:8080/"
        },
        "id": "6-4Uwbcbp_oy",
        "outputId": "dc8c0289-bfb5-4006-df0a-19ec08f7954f"
      },
      "outputs": [
        {
          "output_type": "execute_result",
          "data": {
            "text/plain": [
              "TARGET\n",
              "1    656758\n",
              "0     50994\n",
              "Name: count, dtype: int64"
            ]
          },
          "metadata": {},
          "execution_count": 29
        }
      ],
      "source": [
        "#refresher on current state of y_train's distribution\n",
        "y_train.value_counts()"
      ]
    },
    {
      "cell_type": "code",
      "execution_count": 30,
      "metadata": {
        "colab": {
          "base_uri": "https://localhost:8080/"
        },
        "id": "NS2stSpSTs1s",
        "outputId": "a3496817-2008-4fb8-de5a-250a3af1907e"
      },
      "outputs": [
        {
          "output_type": "stream",
          "name": "stdout",
          "text": [
            "sampling strategies & f1 scores: [('110%:', 0.9707567275555212), ('120%:', 0.9710143204475066), ('130%:', 0.9714545654558915), ('140%:', 0.971865607237449), ('150%:', 0.9719064481447176)]\n"
          ]
        }
      ],
      "source": [
        "from imblearn.over_sampling import RandomOverSampler\n",
        "from sklearn.metrics import f1_score\n",
        "\n",
        "#defining five over-sampling strategies from 110% to 150% of the\n",
        "# minority target class in increments of 10%:\n",
        "oversampling_strategies = [{0:56038, 1:656758}, {0:61133, 1:656758}, {0:66227, 1:656758}, {0:71321, 1:656758}, {0:76416, 1:656758}]\n",
        "\n",
        "#empty list for f1 scores\n",
        "f1_scores = []\n",
        "\n",
        "#iterate through each sampling strategy\n",
        "for i in oversampling_strategies:\n",
        "    # define oversampling strategy\n",
        "    oversample = RandomOverSampler(random_state=210, sampling_strategy=i)\n",
        "    # fit and apply the oversampling strategy\n",
        "    X_train_nonstandardized_over, y_train_over = oversample.fit_resample(X_train_nonstandardized, y_train)\n",
        "    #instantiate & fit the model to X-over & y-over with previously optimized parameters\n",
        "    forest_oversample_temp = RandomForestClassifier(criterion='entropy',\n",
        "                                    max_depth=None,\n",
        "                                    min_samples_split=10,\n",
        "                                    n_estimators=10)\n",
        "    forest_oversample_temp.fit(X_train_nonstandardized_over, y_train_over)\n",
        "    #make predictions on test set\n",
        "    y_hat = forest_oversample_temp.predict(X_test_nonstandardized)\n",
        "    #find & append f1 score\n",
        "    f1_scores.append(f1_score(y_test, y_hat))\n",
        "\n",
        "oversampling_percentages = ['110%:', '120%:', '130%:', '140%:', '150%:']\n",
        "print(\"sampling strategies & f1 scores:\", list(zip(oversampling_percentages, f1_scores)))"
      ]
    },
    {
      "cell_type": "markdown",
      "metadata": {
        "id": "LCH8DX6is0YH"
      },
      "source": [
        "It looks like over-sampling at 150% works best; let's see whether under-sampling will outperform it."
      ]
    },
    {
      "cell_type": "code",
      "execution_count": 31,
      "metadata": {
        "colab": {
          "base_uri": "https://localhost:8080/"
        },
        "id": "6ERCYGo6sfQZ",
        "outputId": "6058fe9c-c66a-4e5d-ae67-febbc76e762c"
      },
      "outputs": [
        {
          "output_type": "stream",
          "name": "stdout",
          "text": [
            "sampling strategies & f1 scores: [('50%:', 0.9684617432957643), ('60%:', 0.9698241257770788), ('70%:', 0.9701940114054287), ('80%:', 0.9703279882298741), ('90%:', 0.970257938687241)]\n"
          ]
        }
      ],
      "source": [
        "from imblearn.under_sampling import RandomUnderSampler\n",
        "\n",
        "#defining five under-sampling strategies from 50% to 90% of the\n",
        "# majority target class in increments of 10%:\n",
        "undersampling_strategies = [{0:50994, 1:328379}, {0:50994, 1:394055}, {0:50994, 1:459731}, {0:50994, 1:525407}, {0:50994, 1:591082}]\n",
        "\n",
        "#empty list for f1 scores\n",
        "f1_scores = []\n",
        "\n",
        "#iterate through each sampling strategy\n",
        "for i in undersampling_strategies:\n",
        "    # define undersampling strategy\n",
        "    undersample = RandomUnderSampler(random_state=210, sampling_strategy=i)\n",
        "    # fit and apply the undersampling strategy\n",
        "    X_train_nonstandardized_under, y_train_under = undersample.fit_resample(X_train_nonstandardized, y_train)\n",
        "    #instantiate & fit the model to X-over & y-over with previously optimized parameters\n",
        "    forest_undersample_temp = RandomForestClassifier(criterion='entropy',\n",
        "                                    max_depth=None,\n",
        "                                    min_samples_split=10,\n",
        "                                    n_estimators=10)\n",
        "    forest_undersample_temp.fit(X_train_nonstandardized_under, y_train_under)\n",
        "    #make predictions on test set\n",
        "    y_hat = forest_undersample_temp.predict(X_test_nonstandardized)\n",
        "    #find & append f1 score\n",
        "    f1_scores.append(f1_score(y_test, y_hat))\n",
        "\n",
        "undersampling_percentages = ['50%:', '60%:', '70%:', '80%:', '90%:']\n",
        "print(\"sampling strategies & f1 scores:\", list(zip(undersampling_percentages, f1_scores)))"
      ]
    },
    {
      "cell_type": "markdown",
      "metadata": {
        "id": "-r378qXaDd3x"
      },
      "source": [
        "So far, it looks like oversampling the minority class at 150% of its original value count produces the highest f1 score (0.9719). Before investigating this particular model's feature importances, let's try one more sampling strategy by way of SMOTE."
      ]
    },
    {
      "cell_type": "code",
      "execution_count": 32,
      "metadata": {
        "colab": {
          "base_uri": "https://localhost:8080/"
        },
        "id": "Vr29Jhx3IdDG",
        "outputId": "c37f9081-cbb7-467c-80b2-e957cfe5620a"
      },
      "outputs": [
        {
          "output_type": "stream",
          "name": "stdout",
          "text": [
            "sampling strategies & f1 scores: [('110%:', 0.9702981464167518), ('120%:', 0.9702976174575331), ('130%:', 0.9701252352986586), ('140%:', 0.9704517037270235), ('150%:', 0.9702902661490802)]\n"
          ]
        }
      ],
      "source": [
        "from imblearn.over_sampling import SMOTE\n",
        "\n",
        "#empty list for f1 scores\n",
        "f1_scores = []\n",
        "\n",
        "#iterate through each SMOTE oversampling strategy\n",
        "for i in oversampling_strategies:\n",
        "    smote = SMOTE(random_state=210, sampling_strategy=i)\n",
        "    # fit the smote-oversampling strategy\n",
        "    X_train_nonstandardized_smote, y_train_smote = smote.fit_resample(X_train_nonstandardized, y_train)\n",
        "    #instantiate & fit the random forest model to X-smote & y-smote with previously optimized parameters\n",
        "    forest_smote_temp = RandomForestClassifier(criterion='entropy',\n",
        "                                    max_depth=None,\n",
        "                                    min_samples_split=10,\n",
        "                                    n_estimators=10)\n",
        "    forest_smote_temp.fit(X_train_nonstandardized_smote, y_train_smote)\n",
        "    #make predictions on test set\n",
        "    y_hat = forest_smote_temp.predict(X_test_nonstandardized)\n",
        "    #find & append f1 score\n",
        "    f1_scores.append(f1_score(y_test, y_hat))\n",
        "\n",
        "smote_oversampling_percentages = ['110%:', '120%:', '130%:', '140%:', '150%:']\n",
        "print(\"sampling strategies & f1 scores:\", list(zip(smote_oversampling_percentages, f1_scores)))"
      ]
    },
    {
      "cell_type": "markdown",
      "metadata": {
        "id": "tOZ0GOoAK7Zg"
      },
      "source": [
        "It turns out that oversampling the minorty class by 150% is still our best route. Let's examine its feature importances and compare them to our PCA's less_explanatory_loadings_sums variable in order to make a more informed decision on which columns to drop."
      ]
    },
    {
      "cell_type": "code",
      "execution_count": null,
      "metadata": {
        "id": "BZKbMpHWNCJ8"
      },
      "outputs": [],
      "source": [
        "#reestablishing the best random forest model (150% oversampled minority target class data)\n",
        "oversample = RandomOverSampler(random_state=210, sampling_strategy={0:76322, 1:656936})\n",
        "X_train_nonstandardized_over, y_train_over = oversample.fit_resample(X_train_nonstandardized, y_train)\n",
        "final_forest_model = RandomForestClassifier(criterion='entropy',\n",
        "                                            max_depth=None,\n",
        "                                            min_samples_split=10,\n",
        "                                            n_estimators=10)\n",
        "final_forest_model.fit(X_train_nonstandardized_over, y_train_over)\n",
        "\n",
        "#gathering its feature importances\n",
        "forest_feature_importances = final_forest_model.feature_importances_\n",
        "forest_feature_importances"
      ]
    },
    {
      "cell_type": "code",
      "execution_count": null,
      "metadata": {
        "id": "7BNH_AKNPBSP"
      },
      "outputs": [],
      "source": [
        "fi_rounded = np.around(forest_feature_importances, decimals=3)\n",
        "fi_series = pd.Series(fi_rounded, index=X_train_nonstandardized.columns).sort_values(key=abs)\n",
        "fi_series"
      ]
    },
    {
      "cell_type": "markdown",
      "metadata": {
        "id": "NouXmty8GSVK"
      },
      "source": [
        "Let's get a resfresher on how the PCA evr/loadings looked - below we note how they seem to be working on a different scale because they're the sum of 21 rows-worth of loadings."
      ]
    },
    {
      "cell_type": "code",
      "execution_count": null,
      "metadata": {
        "id": "r3YwaUvPGgBI"
      },
      "outputs": [],
      "source": [
        "loadings_sums"
      ]
    },
    {
      "cell_type": "markdown",
      "metadata": {
        "id": "Vuaol0STGgnb"
      },
      "source": [
        "Subsequently, let's scale them down to their average by dividing them by 21 before comparing them to the random forest's feature importances."
      ]
    },
    {
      "cell_type": "code",
      "execution_count": null,
      "metadata": {
        "id": "H33aaPMbVfxI"
      },
      "outputs": [],
      "source": [
        "loadings_sums_scaled = loadings_sums/21\n",
        "loadings_sums_scaled"
      ]
    },
    {
      "cell_type": "markdown",
      "metadata": {
        "id": "47AGBT55TKLZ"
      },
      "source": [
        "Now we can visualize these alongside the PCA loadings to get a better handle on how they compare."
      ]
    },
    {
      "cell_type": "code",
      "execution_count": null,
      "metadata": {
        "id": "G4vA3oIDTmA3"
      },
      "outputs": [],
      "source": [
        "fig, ax = plt.subplots(figsize=(8,20))\n",
        "ax.barh(loadings_sums_scaled.index, loadings_sums_scaled.values, label='PCA features')\n",
        "ax.barh(fi_series.index, fi_series.values, label='random forest features')\n",
        "plt.legend();"
      ]
    },
    {
      "cell_type": "markdown",
      "metadata": {
        "id": "I9x5hl6JG65i"
      },
      "source": [
        "PCA loadings and random forest features certainly show different perspectives on a lot of these columns. Generally speaking, though, they tend to agree on a *lot* of columns that don't seem to contribute much to variance or our target. Specifically, it appears that any columns at or below 'PERSON_TYPE_DRIVER' can be dropped, but we'll keep 'MANEUVER_SKIDDING/CONTROL LOSS' and 'MANEUVER_AVODING VEHICLES/OBJECTS' since the random forest is attributing some significance to them."
      ]
    },
    {
      "cell_type": "code",
      "execution_count": null,
      "metadata": {
        "id": "ovgqpdqv-vSI"
      },
      "outputs": [],
      "source": [
        "preliminary_columns_to_drop = ['PERSON_TYPE_DRIVER', 'TRAVEL_DIRECTION_NW', 'TRAVEL_DIRECTION_NE', 'TRAVEL_DIRECTION_SW', 'MANEUVER_ENTERING TRAFFIC LANE FROM PARKING',\n",
        "                               'PERSON_TYPE_PEDESTRIAN', 'MANEUVER_MERGING', 'PERSON_TYPE_BICYCLE', 'MANEUVER_STARTING IN TRAFFIC', 'MANEUVER_U-TURN',\n",
        "                               'WEATHER_CONDITION_SLEET/HAIL', 'WEATHER_CONDITION_FREEZING RAIN/DRIZZLE', 'MANEUVER_ENTER FROM DRIVE/ALLEY',\n",
        "                               'WEATHER_CONDITION_FOG/SMOKE/HAZE', 'WEATHER_CONDITION_BLOWING SNOW', 'MANEUVER_LEAVING TRAFFIC LANE TO PARK',\n",
        "                               'MANEUVER_SLOW/STOP - LEFT TURN', 'MANEUVER_SLOW/STOP - RIGHT TURN', 'MANEUVER_DRIVING WRONG WAY', 'MANEUVER_SLOW/STOP - LOAD/UNLOAD',\n",
        "                               'MANEUVER_NEGOTIATING A CURVE', 'MANEUVER_PARKED IN TRAFFIC LANE', 'SEX_X', 'WEATHER_CONDITION_BLOWING SAND, SOIL, DIRT',\n",
        "                               'WEATHER_CONDITION_SEVERE CROSS WIND GATE', 'PERSON_TYPE_NON-CONTACT VEHICLE']"
      ]
    },
    {
      "cell_type": "markdown",
      "metadata": {
        "id": "hZnHEbORkIWB"
      },
      "source": [
        "Now that we know which columns to run our white-box models with, we can drop them from our training data. Since we'll employ a Logistic Regression model and an individual decision tree model next, we'll actually need to drop these columns from the two training data sets. Both have the categorical variables one-hot encoded, but one has standardized numeric data (important for the Logit model) while the other's is not standardized (meant for the decision tree)."
      ]
    },
    {
      "cell_type": "code",
      "execution_count": null,
      "metadata": {
        "id": "zZMWf8_HS_z0"
      },
      "outputs": [],
      "source": [
        "X_train_trimmed_and_stnd = X_train_preprocessed.drop(preliminary_columns_to_drop, axis=1)\n",
        "X_train_trimmed_and_stnd.info()"
      ]
    },
    {
      "cell_type": "code",
      "execution_count": null,
      "metadata": {
        "id": "TgKJeyB1mbGs"
      },
      "outputs": [],
      "source": [
        "X_train_trimmed_and_non_stnd = X_train_nonstandardized.drop(preliminary_columns_to_drop, axis=1)\n",
        "X_train_trimmed_and_non_stnd.info()"
      ]
    },
    {
      "cell_type": "markdown",
      "metadata": {
        "id": "Ef_G-M6Ymlhx"
      },
      "source": [
        "# white-box predictive modeling\n",
        "\n",
        "With an long process of column-trimming complete by way of domain knowledge (in the data engineering notebook) and through modeling (above), we can now fit our trimmed-down columns to two white-box models that will hopefully make sound predictions while remaining relatively simple to interpret for the non-technical stakeholder.\n",
        "\n",
        "First, we'll run a StatsModels Logitistic Regression to see the statistical significance of each column."
      ]
    },
    {
      "cell_type": "code",
      "execution_count": null,
      "metadata": {
        "id": "y5DUg7Ctmish"
      },
      "outputs": [],
      "source": [
        "import statsmodels.api as sm\n",
        "#adding the constant to X_train\n",
        "X = sm.add_constant(X_train_trimmed_and_stnd)\n",
        "#instantiating & fitting the Logit model\n",
        "logit_model = sm.Logit(y_train.astype(float), X.astype(float))\n",
        "baseline_result = logit_model.fit(maxiter=3500)\n",
        "#checking the results\n",
        "baseline_result.summary()"
      ]
    },
    {
      "cell_type": "markdown",
      "metadata": {
        "id": "K_uIOHuTovTy"
      },
      "source": [
        "These results are horrendous, but I think a big part of the problem is the fact that a few categorical columns in the dataset - 'ROADWAY_SURFACE_COND', 'LIGHTING_CONDITION', and 'CRASH_DAY_OF_WEEK' - have not had any of their constituent one-hot encoded classes dropped yet, which results in multicollinearity issues. Subsequently, all three of these columns need to have an ohe-class column dropped. The silver lining is that we won't have to do this when we run the decision tree model.\n",
        "\n",
        "In any case, [it's important to carefully consider *which* class to drop](https://towardsdatascience.com/drop-first-can-hurt-your-ols-regression-models-interpretability-4ca529cfb707) and not just arbitrarily drop the first one. Let's take a look at the first column in question:"
      ]
    },
    {
      "cell_type": "code",
      "execution_count": null,
      "metadata": {
        "id": "dmlIBc7cx9av"
      },
      "outputs": [],
      "source": [
        "X_train_categorical['ROADWAY_SURFACE_COND'].value_counts()"
      ]
    },
    {
      "cell_type": "markdown",
      "metadata": {
        "id": "ImdtS_HYx9vZ"
      },
      "source": [
        "One one hand, we may think to drop the 'DRY' class because it's a go-to standard driving time that we'd be inclined to compare other, less common weather conditions to. However, dropping 'DRY' rows would also drop almost 80% of our rows, so let's *not* do that.\n",
        "\n",
        "Fortunately, we do have grounds to drop the class with the most average coefficient among the road condition classes, which would be 'SNOW OR SLUSH' and that only results in a row loss of 4% - much more managable. Dropping this class means that we'll need to recognize that the remaining 'ROADWAY_SURFACE_COND' columns reference back to their median class of 'SNOW OR SLUSH'.\n",
        "\n",
        "When looking at the lighting condition classes, we see the following:"
      ]
    },
    {
      "cell_type": "code",
      "execution_count": null,
      "metadata": {
        "id": "IycFusFWoRoS"
      },
      "outputs": [],
      "source": [
        "X_train_categorical['LIGHTING_CONDITION'].value_counts()"
      ]
    },
    {
      "cell_type": "markdown",
      "metadata": {
        "id": "kmrJJUWesBhc"
      },
      "source": [
        "Again, we may consider dropping the 'DAYLIGHT' class since it represents the most common, unmarked, 'baseline' sort of lighting condition. However, dropping that class results in a *lot* of lost data. Instead, let's drop 'DUSK' since it represents the median coefficient value and doesn't result in nearly as much data being lost. Dropping this class means that we'll need to recognize that the remaining 'LIGHTING_CONDITION' columns reference back to their median class of 'DUSK'.\n",
        "\n",
        "With that decided, let's also take a look at 'CRASH_DAY_OF_WEEK' value counts:"
      ]
    },
    {
      "cell_type": "code",
      "execution_count": null,
      "metadata": {
        "id": "HJbZb3ZypmSP"
      },
      "outputs": [],
      "source": [
        "X_train_categorical['CRASH_DAY_OF_WEEK'].value_counts()"
      ]
    },
    {
      "cell_type": "markdown",
      "metadata": {
        "id": "pOBF1uwrwMSx"
      },
      "source": [
        "This is not great news - the median coefficient class from our results puts '4' (Wednesday) as the median class, which will result in the loss of 102,742 rows from our data, but doing so will make our StatsModels Logit results interpretable, so we have to do it."
      ]
    },
    {
      "cell_type": "code",
      "execution_count": null,
      "metadata": {
        "id": "7vFu91C9Pz3u"
      },
      "outputs": [],
      "source": [
        "preliminary_columns_to_drop_for_statsmodels = ['ROADWAY_SURFACE_COND_SNOW OR SLUSH',\n",
        "                                               'LIGHTING_CONDITION_DUSK',\n",
        "                                               'CRASH_DAY_OF_WEEK_4']"
      ]
    },
    {
      "cell_type": "code",
      "execution_count": null,
      "metadata": {
        "id": "1D3pQgWiv4PW"
      },
      "outputs": [],
      "source": [
        "#dropping the classes\n",
        "X_train_trimmed_and_stnd_for_Logit = X_train_trimmed_and_stnd.drop(preliminary_columns_to_drop_for_statsmodels, axis=1)\n",
        "#refitting the model\n",
        "X = sm.add_constant(X_train_trimmed_and_stnd_for_Logit)\n",
        "#instantiating & fitting the Logit model\n",
        "logit_model = sm.Logit(y_train.astype(float), X.astype(float))\n",
        "baseline_result = logit_model.fit(maxiter=3500)\n",
        "#checking the results\n",
        "baseline_result.summary()"
      ]
    },
    {
      "cell_type": "markdown",
      "metadata": {
        "id": "zoVUgZVv1owX"
      },
      "source": [
        "There are a ton of variables that aren't statisitically significant here (having a P>[z] value greater than 0.05). This does not necessarily mean we should drop them, too; sometimes they can help the model and we just don't drop too many conclusions from those features. However, with 42 columns in a StatsModels Logit model, we're still dealing with a lot of noise here.\n",
        "\n",
        "Now that we have a real baseline, we can go through and also drop the features that are not statistically significant to finally get down to the factors that correlate with accidents that are avoidable, which would include the following.\n",
        "\n",
        "This is a lot to drop, but we can already see that these columns have little to do with what makes an accident avoidable (and a solution actionable). Travel direction, gender, and day of the week have shown value counts with little variance among them, so it makes sense to see that they don't contribute much to our model."
      ]
    },
    {
      "cell_type": "code",
      "execution_count": null,
      "metadata": {
        "id": "EPpJovqDxT0w"
      },
      "outputs": [],
      "source": [
        "insignificant_columns_to_drop = ['POSTED_SPEED_LIMIT', 'NUM_UNITS', 'WEATHER_CONDITION_SNOW', 'LIGHTING_CONDITION_DARKNESS',\n",
        "                   'LIGHTING_CONDITION_DARKNESS, LIGHTED ROAD', 'LIGHTING_CONDITION_DAYLIGHT', 'CRASH_DAY_OF_WEEK_1',\n",
        "                   'CRASH_DAY_OF_WEEK_2', 'CRASH_DAY_OF_WEEK_3', 'CRASH_DAY_OF_WEEK_5', 'CRASH_DAY_OF_WEEK_6',\n",
        "                   'CRASH_DAY_OF_WEEK_7', 'SEX_F', 'SEX_M', 'TRAVEL_DIRECTION_E', 'TRAVEL_DIRECTION_N',\n",
        "                   'TRAVEL_DIRECTION_S', 'TRAVEL_DIRECTION_SE', 'TRAVEL_DIRECTION_W', 'MANEUVER_BACKING']"
      ]
    },
    {
      "cell_type": "code",
      "execution_count": null,
      "metadata": {
        "id": "3hVmuvfTxinV"
      },
      "outputs": [],
      "source": [
        "#dropping the classes\n",
        "X_train_trimmed_and_stnd_for_Logit = X_train_trimmed_and_stnd_for_Logit.drop(insignificant_columns_to_drop, axis=1)\n",
        "#refitting the model\n",
        "X = sm.add_constant(X_train_trimmed_and_stnd_for_Logit)\n",
        "#instantiating & fitting the Logit model\n",
        "logit_model = sm.Logit(y_train.astype(float), X.astype(float))\n",
        "statistically_significant_Logit = logit_model.fit(maxiter=3500)\n",
        "#checking the results\n",
        "statistically_significant_Logit.summary()"
      ]
    },
    {
      "cell_type": "markdown",
      "metadata": {
        "id": "zXkkQL_DM7HM"
      },
      "source": [
        "Now we have a more reasonable model with all statisitically significant features. Before we try and optimize it via over/under-sampling, let's evaluate its performance via a confusion matrix to see how well it's predicting the target values in our test set."
      ]
    },
    {
      "cell_type": "code",
      "execution_count": null,
      "metadata": {
        "id": "VxOHr6zr5FAH"
      },
      "outputs": [],
      "source": [
        "#First, we need to reformat X_test to be comprable to X_train_trimmed_and_stnd_for_Logit.\n",
        "# So far, we've reformatted X_test to include one-hot encoded categorical columns,\n",
        "# but non-standardized numerical data, so we need to (1) standardize those columns,\n",
        "# (2) bring in the categorical ones, then (3) drop every column we've dropped so far.\n",
        "\n",
        "#transforming X_test numeric data\n",
        "X_test_numeric_stnd = scaler.transform(X_test_numeric)\n",
        "X_test_numeric_stnd = pd.DataFrame(X_test_numeric_stnd,\n",
        "                                   columns=X_test_numeric.columns,\n",
        "                                   index=X_test_numeric.index)\n",
        "\n",
        "#bringing X_test's pre-ohe columns back in\n",
        "X_test_trimmed_and_stnd_for_Logit = pd.concat([X_test_numeric_stnd, X_test_categorical_ohe], axis=1)\n",
        "\n",
        "#dropping the columns we dropped from the training data\n",
        "X_test_trimmed_and_stnd_for_Logit.drop(preliminary_columns_to_drop, axis=1, inplace=True)\n",
        "X_test_trimmed_and_stnd_for_Logit.drop(preliminary_columns_to_drop_for_statsmodels, axis=1, inplace=True)\n",
        "X_test_trimmed_and_stnd_for_Logit.drop(insignificant_columns_to_drop, axis=1, inplace=True)\n",
        "\n",
        "X_test_trimmed_and_stnd_for_Logit.info()"
      ]
    },
    {
      "cell_type": "code",
      "execution_count": null,
      "metadata": {
        "id": "PFRFRGoRyXTo"
      },
      "outputs": [],
      "source": [
        "X_test_trimmed_and_stnd_for_Logit['CONST'] = 1\n",
        "#X_test_trimmed_and_stnd_for_Logit = X_test_trimmed_and_stnd_for_Logit.insert(0, 'CONST', 1)\n",
        "#cols.insert(0, cols.pop(cols.index('Mid')))\n",
        "X_test_trimmed_and_stnd_for_Logit.info()"
      ]
    },
    {
      "cell_type": "code",
      "execution_count": null,
      "metadata": {
        "id": "Z0XKLRX3uE4l"
      },
      "outputs": [],
      "source": [
        "#making our y_test predictions\n",
        "y_pred_test = round(statistically_significant_Logit.predict(X_test_trimmed_and_stnd_for_Logit), 0)\n",
        "\n",
        "#confusion matrix\n",
        "from sklearn.metrics import ConfusionMatrixDisplay\n",
        "ConfusionMatrixDisplay.from_predictions(y_test, y_pred_test);"
      ]
    },
    {
      "cell_type": "code",
      "execution_count": null,
      "metadata": {
        "id": "FZVx18yUwXFN"
      },
      "outputs": [],
      "source": [
        "from sklearn.metrics import classification_report\n",
        "target_names = ['0', '1']\n",
        "print(classification_report(y_test, y_pred_test, target_names = target_names))"
      ]
    },
    {
      "cell_type": "markdown",
      "metadata": {
        "id": "x2KVPAZm4tkj"
      },
      "source": [
        "That is horrible, but it's almost certainly because we haven't yet addressed class imbalance."
      ]
    },
    {
      "cell_type": "code",
      "execution_count": null,
      "metadata": {
        "id": "ZjXHxePthi5g"
      },
      "outputs": [],
      "source": [
        "y_train.value_counts()"
      ]
    },
    {
      "cell_type": "code",
      "execution_count": null,
      "metadata": {
        "id": "2NMf93y7xzoo"
      },
      "outputs": [],
      "source": [
        "#refresher on the undersampling strategies\n",
        "undersampling_strategies = [{0:50881, 1:328468}, {0:50881, 1:394162}, {0:50881, 1:459855}, {0:50881, 1:525549}, {0:50881, 1:591252}]\n",
        "\n",
        "#empty list for f1 scores\n",
        "f1_scores = []\n",
        "\n",
        "#iterate through each sampling strategy\n",
        "for i in undersampling_strategies:\n",
        "    # define undersampling strategy\n",
        "    undersample = RandomUnderSampler(random_state=210, sampling_strategy=i)\n",
        "    # fit and apply the undersampling strategy\n",
        "    X_train_trimmed_and_stnd_for_Logit_under, y_train_under = undersample.fit_resample(X_train_trimmed_and_stnd_for_Logit, y_train)\n",
        "    #instantiate & fit the model to X-over & y-over\n",
        "    X_under = sm.add_constant(X_train_trimmed_and_stnd_for_Logit_under)\n",
        "    temp_logit_model = sm.Logit(y_train_under.astype(float), X_under.astype(float))\n",
        "    temp_logit_model = temp_logit_model.fit(maxiter=3500)\n",
        "    #make predictions on test set\n",
        "    y_hat = round(temp_logit_model.predict(X_under), 0)\n",
        "    #find & append f1 score\n",
        "    f1_scores.append(f1_score(y_train_under, y_hat))\n",
        "\n",
        "undersampling_percentages = ['50%:', '60%:', '70%:', '80%:', '90%:']\n",
        "print(\"sampling strategies & f1 scores:\", list(zip(undersampling_percentages, f1_scores)))"
      ]
    },
    {
      "cell_type": "markdown",
      "metadata": {
        "id": "UKslmCn17ck_"
      },
      "source": [
        "Undersampling at 90% gets the best score so far, now let's try oversampling."
      ]
    },
    {
      "cell_type": "code",
      "execution_count": null,
      "metadata": {
        "id": "Je77BnLp7KxM"
      },
      "outputs": [],
      "source": [
        "#refresher on the oversampling strategies\n",
        "oversampling_strategies = [{0:55969, 1:656936}, {0:61057, 1:656936}, {0:66145, 1:656936}, {0:71233, 1:656936}, {0:76322, 1:656936}]\n",
        "\n",
        "#empty list for f1 scores\n",
        "f1_scores = []\n",
        "\n",
        "#iterate through each sampling strategy\n",
        "for i in oversampling_strategies:\n",
        "    # define oversampling strategy\n",
        "    oversample = RandomOverSampler(random_state=210, sampling_strategy=i)\n",
        "    # fit and apply the oversampling strategy\n",
        "    X_train_trimmed_and_stnd_for_Logit_over, y_train_over = oversample.fit_resample(X_train_trimmed_and_stnd_for_Logit, y_train)\n",
        "    #instantiate & fit the model to X-over & y-over\n",
        "    X_over = sm.add_constant(X_train_trimmed_and_stnd_for_Logit_over)\n",
        "    temp_logit_model = sm.Logit(y_train_over.astype(float), X_over.astype(float))\n",
        "    temp_logit_model = temp_logit_model.fit(maxiter=3500)\n",
        "    #make predictions\n",
        "    y_hat = round(temp_logit_model.predict(X_over), 0)\n",
        "    #find & append f1 score\n",
        "    f1_scores.append(f1_score(y_train_over, y_hat))\n",
        "\n",
        "oversampling_percentages = ['110%:', '120%:', '130%:', '140%:', '150%:']\n",
        "print(\"sampling strategies & f1 scores:\", list(zip(oversampling_percentages, f1_scores)))"
      ]
    },
    {
      "cell_type": "markdown",
      "metadata": {
        "id": "XiYbypi48nhP"
      },
      "source": [
        "Oversampling at 110% does even better. Finally, let's see the extent to which SMOTE oversampling will help."
      ]
    },
    {
      "cell_type": "code",
      "execution_count": null,
      "metadata": {
        "id": "bHUp0w-U8cY0"
      },
      "outputs": [],
      "source": [
        "#empty list for f1 scores\n",
        "f1_scores = []\n",
        "\n",
        "#iterate through each SMOTE oversampling strategy\n",
        "for i in oversampling_strategies:\n",
        "    smote = SMOTE(random_state=210, sampling_strategy=i)\n",
        "    # fit and apply the oversampling strategy\n",
        "    X_train_trimmed_and_stnd_for_Logit_smote, y_train_smote = smote.fit_resample(X_train_trimmed_and_stnd_for_Logit, y_train)\n",
        "    #instantiate & fit the model to X-smote & y-smote\n",
        "    X_smote = sm.add_constant(X_train_trimmed_and_stnd_for_Logit_smote)\n",
        "    temp_logit_model = sm.Logit(y_train_smote.astype(float), X_smote.astype(float))\n",
        "    temp_logit_model = temp_logit_model.fit(maxiter=3500)\n",
        "    #make predictions\n",
        "    y_hat = round(temp_logit_model.predict(X_smote), 0)\n",
        "    #find & append f1 score\n",
        "    f1_scores.append(f1_score(y_train_smote, y_hat))\n",
        "\n",
        "oversampling_percentages = ['110%:', '120%:', '130%:', '140%:', '150%:']\n",
        "print(\"sampling strategies & f1 scores:\", list(zip(oversampling_percentages, f1_scores)))"
      ]
    },
    {
      "cell_type": "markdown",
      "metadata": {
        "id": "yEF9gee3_Q41"
      },
      "source": [
        "A SMOTE oversampling strategy at 110% just barely outperforms our last-best strategy, so we'll use that."
      ]
    },
    {
      "cell_type": "code",
      "execution_count": null,
      "metadata": {
        "id": "Nh0H9TYL-SjR"
      },
      "outputs": [],
      "source": [
        "#setting the SMOTE sampling_strategy to 110%\n",
        "smote = SMOTE(random_state=210, sampling_strategy={0:55969, 1:656936})\n",
        "#transforming our data\n",
        "X_train_trimmed_and_stnd_for_Logit_smote, y_train_smote = smote.fit_resample(X_train_trimmed_and_stnd_for_Logit, y_train)\n",
        "#instantiate & fit the model to X-smote & y-smote\n",
        "X_smote = sm.add_constant(X_train_trimmed_and_stnd_for_Logit_smote)\n",
        "smote_logit_model = sm.Logit(y_train_smote.astype(float), X_smote.astype(float))\n",
        "smote_logit_model = smote_logit_model.fit(maxiter=3500)\n",
        "\n",
        "#making our test predictions\n",
        "y_pred_test = round(smote_logit_model.predict(X_test_trimmed_and_stnd_for_Logit), 0)\n",
        "\n",
        "#confusion matrix\n",
        "ConfusionMatrixDisplay.from_predictions(y_test, y_pred_test);"
      ]
    },
    {
      "cell_type": "code",
      "execution_count": null,
      "metadata": {
        "id": "c-KiMqJORGKN"
      },
      "outputs": [],
      "source": [
        "print(classification_report(y_test, y_pred_test, target_names = target_names))"
      ]
    },
    {
      "cell_type": "markdown",
      "metadata": {
        "id": "sXIH5-EfSZ97"
      },
      "source": [
        "Wow, oversampling didn't really improve our model. Let's try regularization since overfitting seems to be a problem when we compare the f1 scores of our train set (0.96) to our test set above. **Never mind, this cell takes a long time to run and doesn't improve the model.**"
      ]
    },
    {
      "cell_type": "code",
      "execution_count": null,
      "metadata": {
        "id": "w15sGAxuR5HQ"
      },
      "outputs": [],
      "source": [
        "#f1_scores = []\n",
        "\n",
        "#alpha_levels = [0.1, 0.5, 1, 2, 5, 10, 50]\n",
        "#for i in alpha_levels:\n",
        "#  X_smote = sm.add_constant(X_train_trimmed_and_stnd_for_Logit_smote)\n",
        "#  temp_model = sm.Logit(y_train_smote.astype(float), X_smote.astype(float))\n",
        "#  temp_model = temp_model.fit_regularized(maxiter=5000, method='l1', alpha=i, trim_mode='size')\n",
        "\n",
        "  #make predictions\n",
        "# y_hat = round(temp_model.predict(X_smote), 0)\n",
        "  #find & append f1 score\n",
        "# f1_scores.append(f1_score(y_train_smote, y_hat))\n",
        "\n",
        "#print(\"alpha levels & f1 scores:\", list(zip(alpha_levels, f1_scores)))"
      ]
    },
    {
      "cell_type": "code",
      "execution_count": null,
      "metadata": {
        "id": "2_Qx3u7VpbSG"
      },
      "outputs": [],
      "source": [
        "#fitting with regularization and alpha set to 0.1\n",
        "sm_logit_smote_reg = sm.Logit(y_train_smote.astype(float), X_smote.astype(float))\n",
        "sm_logit_smote_reg = sm_logit_smote_reg.fit_regularized(maxiter=5000, method='l1', alpha=0.1, trim_mode='size')\n",
        "#making our test predictions\n",
        "y_pred_test = round(sm_logit_smote_reg.predict(X_test_trimmed_and_stnd_for_Logit), 0)\n",
        "#confusion matrix\n",
        "ConfusionMatrixDisplay.from_predictions(y_test, y_pred_test);"
      ]
    },
    {
      "cell_type": "code",
      "execution_count": null,
      "metadata": {
        "id": "fj--IMsmXt8w"
      },
      "outputs": [],
      "source": [
        "print(classification_report(y_test, y_pred_test, target_names = target_names))"
      ]
    },
    {
      "cell_type": "markdown",
      "metadata": {
        "id": "Iwf1XqXzDX6P"
      },
      "source": [
        "This model is still terrible and isn't really improving. This is probably because there just isn't any sort of linear relationship between these diverse types of columns and the feature-engineered target column, which condenses 38 classes down into \"avoidable\" and \"not-so-avoidable\". I just don't think a Logit model is right for this data at this point, so let's move on and see whether a decision tree can do a better job."
      ]
    },
    {
      "cell_type": "markdown",
      "metadata": {
        "id": "A8dvFCX0qh1i"
      },
      "source": [
        "# Running a decision tree model\n",
        "\n",
        "This is another white-box model we can use to make sense of this data in an interpretable manner. To begin, let's see how it performs with all 69 columns we began this notebook with."
      ]
    },
    {
      "cell_type": "code",
      "execution_count": null,
      "metadata": {
        "collapsed": true,
        "id": "CcNxZWtjqTxs"
      },
      "outputs": [],
      "source": [
        "#gathering all categorical columns and non-standardized numeric ones\n",
        "X_train_non_stnd_all_cat = pd.concat([X_train_numeric, X_train_categorical_ohe], axis=1)\n",
        "X_train_non_stnd_all_cat.info()"
      ]
    },
    {
      "cell_type": "code",
      "execution_count": null,
      "metadata": {
        "id": "s_0mkaQoqTx1"
      },
      "outputs": [],
      "source": [
        "from sklearn import tree\n",
        "from sklearn.tree import DecisionTreeClassifier\n",
        "#instantiating & fitting the DecisionTreeClassifier model\n",
        "all_columns_dt = DecisionTreeClassifier(criterion='entropy', random_state=210)\n",
        "all_columns_dt.fit(X_train_non_stnd_all_cat, y_train)"
      ]
    },
    {
      "cell_type": "code",
      "execution_count": null,
      "metadata": {
        "collapsed": true,
        "id": "kfXDHKUyqTx1"
      },
      "outputs": [],
      "source": [
        "#making our y_test predictions\n",
        "y_pred_test_all = all_columns_dt.predict(X_test_nonstandardized)\n",
        "\n",
        "#confusion matrix\n",
        "ConfusionMatrixDisplay.from_predictions(y_test, y_pred_test_all);"
      ]
    },
    {
      "cell_type": "code",
      "execution_count": null,
      "metadata": {
        "id": "8ymmdAvCqTx1"
      },
      "outputs": [],
      "source": [
        "print(classification_report(y_test, y_pred_test_all, target_names = target_names))"
      ]
    },
    {
      "cell_type": "markdown",
      "metadata": {
        "id": "Y2v5gBdXqoW_"
      },
      "source": [
        "It looks like it's doing well except for the minority class in our target. This can hopefully be improved with over/under-sampling techniques, but for now, let's look at this model's feature importances."
      ]
    },
    {
      "cell_type": "code",
      "execution_count": null,
      "metadata": {
        "id": "-uvhkq0sqTx2"
      },
      "outputs": [],
      "source": [
        "all_columns_feature_importances = all_columns_dt.feature_importances_\n",
        "all_columns_feature_importances_rounded = np.around(all_columns_feature_importances, decimals=3)\n",
        "all_columns_feature_importances_rounded = pd.Series(all_columns_feature_importances_rounded,\n",
        "                                         index=X_train_non_stnd_all_cat.columns).sort_values()\n",
        "print(all_columns_feature_importances_rounded.to_string())"
      ]
    },
    {
      "cell_type": "markdown",
      "metadata": {
        "id": "xG20c0rCq5Lj"
      },
      "source": [
        "That is a lot of features, so many of which contribute little to nothing for our model's predicting power. A long list like that also isn't exactly lending itself to model interpretability, so let's begin by reducing the columns to (almost) the same extent we did with StatsModels in order to see whether we can produce a more interpretable decision tree graph. We'll treat this as the actual baseline since it's the one we'll be optimizing from here on out."
      ]
    },
    {
      "cell_type": "code",
      "execution_count": null,
      "metadata": {
        "id": "8zwHFg5PtdKT"
      },
      "outputs": [],
      "source": [
        "#dropping the columns we found to not be helpful after running PCA and a random forest\n",
        "X_train_nonstandardized_and_trimmed = X_train_nonstandardized.drop(preliminary_columns_to_drop, axis=1)\n",
        "#dropping the columns found to be insignificant by our Logit model\n",
        "X_train_nonstandardized_and_trimmed.drop(insignificant_columns_to_drop, axis=1, inplace=True)\n",
        "\n",
        "X_train_nonstandardized_and_trimmed.info()"
      ]
    },
    {
      "cell_type": "code",
      "execution_count": null,
      "metadata": {
        "id": "VFzR7XAggEP8"
      },
      "outputs": [],
      "source": [
        "#instantiating & fitting the DecisionTreeClassifier model\n",
        "dt_baseline = DecisionTreeClassifier(random_state=210)\n",
        "dt_baseline.fit(X_train_nonstandardized_and_trimmed, y_train)"
      ]
    },
    {
      "cell_type": "code",
      "execution_count": null,
      "metadata": {
        "id": "-KCrxU1-0uVF"
      },
      "outputs": [],
      "source": [
        "#transforming X_test\n",
        "X_test_nonstandardized_and_trimmed = X_test_nonstandardized.drop(preliminary_columns_to_drop, axis=1)\n",
        "X_test_nonstandardized_and_trimmed.drop(insignificant_columns_to_drop, axis=1, inplace=True)\n",
        "\n",
        "X_test_nonstandardized_and_trimmed.info()"
      ]
    },
    {
      "cell_type": "code",
      "execution_count": null,
      "metadata": {
        "id": "4v_cEz9CrRZF"
      },
      "outputs": [],
      "source": [
        "#making our y_test predictions\n",
        "y_pred_test_baseline = dt_baseline.predict(X_test_nonstandardized_and_trimmed)\n",
        "\n",
        "#confusion matrix\n",
        "ConfusionMatrixDisplay.from_predictions(y_test, y_pred_test_baseline);"
      ]
    },
    {
      "cell_type": "code",
      "execution_count": null,
      "metadata": {
        "id": "pGAPb2DJ1byI"
      },
      "outputs": [],
      "source": [
        "print(classification_report(y_test, y_pred_test_baseline, target_names = target_names))"
      ]
    },
    {
      "cell_type": "markdown",
      "metadata": {
        "id": "hkw9wOxysKRl"
      },
      "source": [
        "These results are quite similar to the model with all the features. There's just a slight decline in the minority class's precision & recall scores. However, it's a small price to pay to be able to reduce the features down to one-third of what they were. Let's examine this model's feature importances now."
      ]
    },
    {
      "cell_type": "code",
      "execution_count": null,
      "metadata": {
        "id": "bmhQUZBn1mPi"
      },
      "outputs": [],
      "source": [
        "#gathering its feature importances\n",
        "baseline_importances = dt_baseline.feature_importances_\n",
        "baseline_importances"
      ]
    },
    {
      "cell_type": "code",
      "execution_count": null,
      "metadata": {
        "id": "QFS5ZnOZ1ypn"
      },
      "outputs": [],
      "source": [
        "baseline_importances_rounded = np.around(baseline_importances, decimals=3)\n",
        "baseline_importances_rounded = pd.Series(baseline_importances_rounded,\n",
        "                                         index=X_train_nonstandardized_and_trimmed.columns).sort_values()\n",
        "baseline_importances_rounded"
      ]
    },
    {
      "cell_type": "code",
      "execution_count": null,
      "metadata": {
        "id": "6zP4PZ7f_4MK"
      },
      "outputs": [],
      "source": [
        "len(X_train_nonstandardized_and_trimmed['LATITUDE'].value_counts())"
      ]
    },
    {
      "cell_type": "code",
      "execution_count": null,
      "metadata": {
        "id": "pG4jWzgk_4kI"
      },
      "outputs": [],
      "source": [
        "len(X_train_nonstandardized_and_trimmed['LONGITUDE'].value_counts())"
      ]
    },
    {
      "cell_type": "code",
      "execution_count": null,
      "metadata": {
        "id": "EgwJ0CbD_497"
      },
      "outputs": [],
      "source": [
        "len(X_train_nonstandardized_and_trimmed['AGE'].value_counts())"
      ]
    },
    {
      "cell_type": "code",
      "execution_count": null,
      "metadata": {
        "id": "MSaNQ3znAYOA"
      },
      "outputs": [],
      "source": [
        "len(X_train_nonstandardized_and_trimmed['CRASH_HOUR'].value_counts())"
      ]
    },
    {
      "cell_type": "code",
      "execution_count": null,
      "metadata": {
        "id": "4NqU06UntJd6"
      },
      "outputs": [],
      "source": [
        "len(X_train_nonstandardized_and_trimmed['ROADWAY_SURFACE_COND_DRY'].value_counts())"
      ]
    },
    {
      "cell_type": "markdown",
      "metadata": {
        "id": "4K_bfFP4w-UQ"
      },
      "source": [
        "Above, we can start to see that the most important features have more unique values, but let's also visualize this to get a better perspective."
      ]
    },
    {
      "cell_type": "code",
      "execution_count": null,
      "metadata": {
        "id": "2q0VI2Zk7Gut"
      },
      "outputs": [],
      "source": [
        "from matplotlib import pyplot as plt\n",
        "fig, ax = plt.subplots(figsize=(6,6))\n",
        "ax.barh(baseline_importances_rounded.index, baseline_importances_rounded.values);"
      ]
    },
    {
      "cell_type": "markdown",
      "metadata": {
        "id": "GEXqHN8nRvAQ"
      },
      "source": [
        "Most obvious is the correlation between numeric columns with various entries and feature importance. In order, Latitude (138,294 unique entries), Longitude (138,182), Age (108), and the hour of day (24) all show decreasing importance and decreasing amount of entries.\n",
        "\n",
        "However, the drop-off isn't proportional (Age is about half as important as longitude, but contains 0.08% of the number of unique entries). Also, before we get to a long tail of features whose importance hovers around 0.00 - 0.02, there are a few categorical values that noticeably stick out.\n",
        "\n",
        "This is just a preliminary look at our baseline, though. We can do a lot to help improve this model through over & under-sampling as well as hyperparameter-tuning.\n",
        "\n",
        "Let's begin with sampling strategies:"
      ]
    },
    {
      "cell_type": "code",
      "execution_count": null,
      "metadata": {
        "id": "2Qh_PaYzxwmD"
      },
      "outputs": [],
      "source": [
        "#defining five over-sampling strategies from 110% to 150% of the\n",
        "# minority target class in increments of 10%:\n",
        "oversampling_strategies = [{0:55969, 1:656936}, {0:61057, 1:656936}, {0:66145, 1:656936}, {0:71233, 1:656936}, {0:76322, 1:656936}]\n",
        "\n",
        "#empty list for f1 scores\n",
        "f1_scores = []\n",
        "\n",
        "#iterate through each sampling strategy\n",
        "for i in oversampling_strategies:\n",
        "    # define oversampling strategy\n",
        "    oversample = RandomOverSampler(random_state=210, sampling_strategy=i)\n",
        "    # fit and apply the oversampling strategy\n",
        "    X_train_nonstandardized_and_trimmed_over, y_train_over = oversample.fit_resample(X_train_nonstandardized_and_trimmed, y_train)\n",
        "    #instantiate & fit the model to X-over & y-over\n",
        "    temp_dt = DecisionTreeClassifier()\n",
        "    temp_dt.fit(X_train_nonstandardized_and_trimmed_over, y_train_over)\n",
        "    #make predictions on test set\n",
        "    y_hat = temp_dt.predict(X_test_nonstandardized_and_trimmed)\n",
        "    #find & append f1 score\n",
        "    f1_scores.append(f1_score(y_test, y_hat))\n",
        "\n",
        "oversampling_percentages = ['110%:', '120%:', '130%:', '140%:', '150%:']\n",
        "print(\"sampling strategies & f1 scores:\", list(zip(oversampling_percentages, f1_scores)))"
      ]
    },
    {
      "cell_type": "markdown",
      "metadata": {
        "id": "0AWAum5uZhEL"
      },
      "source": [
        "Oversampling at 130% works best so far. Let's see whether undersampling the majority helps even more."
      ]
    },
    {
      "cell_type": "code",
      "execution_count": null,
      "metadata": {
        "id": "su9DDP0BZGKm"
      },
      "outputs": [],
      "source": [
        "#defining five under-sampling strategies from 50% to 90% of the\n",
        "# majority target class in increments of 10%:\n",
        "undersampling_strategies = [{0:50881, 1:328468}, {0:50881, 1:394162}, {0:50881, 1:459855}, {0:50881, 1:525549}, {0:50881, 1:591252}]\n",
        "\n",
        "#empty list for f1 scores\n",
        "f1_scores = []\n",
        "\n",
        "#iterate through each sampling strategy\n",
        "for i in undersampling_strategies:\n",
        "    # define undersampling strategy\n",
        "    undersample = RandomUnderSampler(random_state=210, sampling_strategy=i)\n",
        "    # fit and apply the undersampling strategy\n",
        "    X_train_nonstandardized_and_trimmed_under, y_train_under = undersample.fit_resample(X_train_nonstandardized_and_trimmed, y_train)\n",
        "    #instantiate & fit the model to X-under & y-under\n",
        "    temp_dt = DecisionTreeClassifier()\n",
        "    temp_dt.fit(X_train_nonstandardized_and_trimmed_under, y_train_under)\n",
        "    #make predictions on test set\n",
        "    y_hat = temp_dt.predict(X_test_nonstandardized_and_trimmed)\n",
        "    #find & append f1 score\n",
        "    f1_scores.append(f1_score(y_test, y_hat))\n",
        "\n",
        "undersampling_percentages = ['50%:', '60%:', '70%:', '80%:', '90%:']\n",
        "print(\"sampling strategies & f1 scores:\", list(zip(undersampling_percentages, f1_scores)))"
      ]
    },
    {
      "cell_type": "markdown",
      "metadata": {
        "id": "OHPSJMZqbMqV"
      },
      "source": [
        "Nothing here beats oversampling at 130%, let's try SMOTE, just in case:"
      ]
    },
    {
      "cell_type": "code",
      "execution_count": null,
      "metadata": {
        "id": "6dely2aVa8DO"
      },
      "outputs": [],
      "source": [
        "#empty list for f1 scores\n",
        "f1_scores = []\n",
        "\n",
        "#iterate through each SMOTE oversampling strategy\n",
        "for i in oversampling_strategies:\n",
        "    smote = SMOTE(random_state=210, sampling_strategy=i)\n",
        "    # fit the smote-oversampling strategy\n",
        "    X_train_nonstandardized_and_trimmed_smote, y_train_smote = smote.fit_resample(X_train_nonstandardized_and_trimmed, y_train)\n",
        "    #instantiate & fit the model to X-smote & y-smote\n",
        "    temp_dt = DecisionTreeClassifier()\n",
        "    temp_dt.fit(X_train_nonstandardized_and_trimmed_smote, y_train_smote)\n",
        "    #make predictions on test set\n",
        "    y_hat = temp_dt.predict(X_test_nonstandardized_and_trimmed)\n",
        "    #find & append f1 score\n",
        "    f1_scores.append(f1_score(y_test, y_hat))\n",
        "\n",
        "smote_oversampling_percentages = ['110%:', '120%:', '130%:', '140%:', '150%:']\n",
        "print(\"sampling strategies & f1 scores:\", list(zip(smote_oversampling_percentages, f1_scores)))"
      ]
    },
    {
      "cell_type": "markdown",
      "metadata": {
        "id": "39SYBwiHeEh8"
      },
      "source": [
        "No, oversampling at 130% is the way to go. Let's refit our decision tree to that particular sampling strategy and see whether the model's performance has improved."
      ]
    },
    {
      "cell_type": "code",
      "execution_count": null,
      "metadata": {
        "id": "Ouds8OxUeP15"
      },
      "outputs": [],
      "source": [
        "from imblearn.over_sampling import RandomOverSampler\n",
        "#set the oversampler to 130% of the minority class\n",
        "oversample = RandomOverSampler(random_state=210, sampling_strategy={0:66145, 1:656936})\n",
        "# fit and apply the oversampling strategy\n",
        "X_train_nonstandardized_and_trimmed_over, y_train_over = oversample.fit_resample(X_train_nonstandardized_and_trimmed, y_train)\n",
        "#instantiating & fitting the DecisionTreeClassifier model\n",
        "dt_oversample = DecisionTreeClassifier(random_state=210)\n",
        "dt_oversample.fit(X_train_nonstandardized_and_trimmed_over, y_train_over)"
      ]
    },
    {
      "cell_type": "code",
      "execution_count": null,
      "metadata": {
        "id": "1FYu2EqPe74m"
      },
      "outputs": [],
      "source": [
        "#making our y_test predictions\n",
        "y_pred_test_oversample = dt_oversample.predict(X_test_nonstandardized_and_trimmed)\n",
        "\n",
        "#confusion matrix\n",
        "ConfusionMatrixDisplay.from_predictions(y_test, y_pred_test_oversample);"
      ]
    },
    {
      "cell_type": "code",
      "execution_count": null,
      "metadata": {
        "id": "AAf_11cPfOTN"
      },
      "outputs": [],
      "source": [
        "print(classification_report(y_test, y_pred_test_oversample, target_names = target_names))"
      ]
    },
    {
      "cell_type": "markdown",
      "metadata": {
        "id": "7bR5sdmefowf"
      },
      "source": [
        "We see a marginal improvement here, which is better than nothing. Our last step here would be to run a GridSearchCV on the hyperparameters to see if we can further improve our model."
      ]
    },
    {
      "cell_type": "code",
      "execution_count": null,
      "metadata": {
        "id": "A3ily6TNfYQv"
      },
      "outputs": [],
      "source": [
        "f1 = make_scorer(f1_score)\n",
        "\n",
        "#establishing a parameter grid for GridSearchCV\n",
        "dt_param_grid = {'criterion':['entropy'],\n",
        "                 'max_depth':[None],\n",
        "                 'min_samples_split':[2,8,20],\n",
        "                 'min_samples_leaf':[2,8,20]}\n",
        "\n",
        "#instantiating GridSearchCV\n",
        "dt_grid_search = GridSearchCV(dt_oversample,\n",
        "                              dt_param_grid,\n",
        "                              cv=5,\n",
        "                              return_train_score=True,\n",
        "                              scoring=f1)\n",
        "\n",
        "#fitting the GridSearch to the training data\n",
        "dt_grid_search.fit(X_train_nonstandardized_and_trimmed_over, y_train_over)"
      ]
    },
    {
      "cell_type": "code",
      "execution_count": null,
      "metadata": {
        "id": "NOtNe3KHFzTR"
      },
      "outputs": [],
      "source": [
        "#mean training score\n",
        "dt_grid_search_train_score = dt_grid_search.cv_results_['mean_train_score'].mean()\n",
        "#mean test score\n",
        "dt_grid_search_test_score = dt_grid_search.score(X_test_nonstandardized_and_trimmed, y_test)\n",
        "#printing results\n",
        "print(f'optimized decision tree mean training score: {dt_grid_search_train_score :.2%}')\n",
        "print(f'optimized decision tree mean test score: {dt_grid_search_test_score :.2%}')\n",
        "print(f'optimized decision tree optimal parameter combination:', dt_grid_search.best_params_)"
      ]
    },
    {
      "cell_type": "code",
      "execution_count": null,
      "metadata": {
        "id": "N9jYGs5FZm_2"
      },
      "outputs": [],
      "source": [
        "#fitting what's hopefully a good final model with these optimal parameters\n",
        "dt_optimized = DecisionTreeClassifier(criterion='entropy',\n",
        "                                      min_samples_leaf=2,\n",
        "                                      min_samples_split=2,\n",
        "                                      random_state=210)\n",
        "dt_optimized.fit(X_train_nonstandardized_and_trimmed_over, y_train_over)"
      ]
    },
    {
      "cell_type": "code",
      "execution_count": null,
      "metadata": {
        "id": "0QaOpFM4I5k9"
      },
      "outputs": [],
      "source": [
        "#making our y_test predictions\n",
        "y_pred_test_optimized = dt_optimized.predict(X_test_nonstandardized_and_trimmed)\n",
        "\n",
        "#confusion matrix\n",
        "from sklearn.metrics import ConfusionMatrixDisplay\n",
        "ConfusionMatrixDisplay.from_predictions(y_test, y_pred_test_optimized);"
      ]
    },
    {
      "cell_type": "code",
      "execution_count": null,
      "metadata": {
        "id": "l-RmTj7TJKOq"
      },
      "outputs": [],
      "source": [
        "from sklearn.metrics import classification_report\n",
        "target_names = ['0', '1']\n",
        "print(classification_report(y_test, y_pred_test_optimized, target_names = target_names))"
      ]
    },
    {
      "cell_type": "code",
      "execution_count": null,
      "metadata": {
        "id": "xGs4hPJ-JU6w"
      },
      "outputs": [],
      "source": [
        "import numpy as np\n",
        "from matplotlib import pyplot as plt\n",
        "#gathering its feature importances\n",
        "final_feature_importances = dt_optimized.feature_importances_\n",
        "ffi_rounded = np.around(final_feature_importances, decimals=3)\n",
        "ffi_series = pd.Series(ffi_rounded, index=X_train_nonstandardized_and_trimmed_over.columns).sort_values(key=abs)\n",
        "#visualizing them\n",
        "fig, ax = plt.subplots(figsize=(6,6))\n",
        "ax.barh(ffi_series.index, ffi_series.values);"
      ]
    },
    {
      "cell_type": "markdown",
      "metadata": {
        "id": "yrCCoJtia9H3"
      },
      "source": [
        "# interpeting the final model\n",
        "\n",
        "This model has an overall f1 score of 0.74, which isn't bad. The minority target class (\"0\", aka a \"less avoidable\" accident) f1 score is almost too low, but it is still close to a broad concensus of the \"acceptable\" range. While it would ideally be higher, this is likely reaching the limit of what a white-box, easily-interpretable model can produce without becoming over complex (as a random forest or neural network).\n",
        "\n",
        "We can still easily understand the nature of this single decision tree model and how it's showing that predicting whether an accident was avoidable or not comes down to a few important features: location, age, and the hour of day it happens. The two road condition features are also higher than most, but they likely reflect the distribution of road conditions at the time of accidents.\n",
        "\n",
        "Our next step here is to understand *which* locations are more prone to accdients that are more avoidable, *which* ages are most likely to be involved in an avoidable accident, and *when* these happen during the day. This will help the city narrow down their demographics for a more cost-effective safety campaign.\n",
        "\n",
        "First, let's show the locations of these accidents. I found [this helpful resource](https://towardsdatascience.com/geopandas-101-plot-any-data-with-a-latitude-and-longitude-on-a-map-98e01944b972) on using Geopandas to map the latitude & longitude coordinates onto a Chicago streets shape file."
      ]
    },
    {
      "cell_type": "code",
      "execution_count": null,
      "metadata": {
        "id": "xdFEm9gmf5MS"
      },
      "outputs": [],
      "source": [
        "import geopandas as gpd\n",
        "#from osgeo import gdal\n",
        "#gdal.SetConfigOption('SHAPE_RESTORE_SHX', 'YES')\n",
        "from shapely.geometry import Point, Polygon\n",
        "\n",
        "#establishing the major street map\n",
        "street_map = gpd.read_file('/content/chicago_auto_accidents_project/street_map_files/Major_Streets.shp')\n",
        "#street_map.crs <---the map's CRS code needs to be changed to 4326, otherwise the projection is way off\n",
        "street_map = street_map.to_crs(4326)"
      ]
    },
    {
      "cell_type": "code",
      "execution_count": null,
      "metadata": {
        "id": "_CmTIHftePVB"
      },
      "outputs": [],
      "source": [
        "#bringing in the coordinate reference system (CRS) for Geopandas as well\n",
        "crs = {'init':'EPSG:4326'}\n",
        "#creating the Points from our latitude & longitude columns\n",
        "geometry = [Point(xy) for xy in zip(X_train_nonstandardized_and_trimmed_over['LONGITUDE'],\n",
        "                                    X_train_nonstandardized_and_trimmed_over['LATITUDE'])]\n",
        "#establishing the geo DataFrame\n",
        "geo_df = gpd.GeoDataFrame(X_train_nonstandardized_and_trimmed_over,\n",
        "                          crs=crs,\n",
        "                          geometry=geometry)\n",
        "#trimming it down to just the relevant columns\n",
        "geo_df = geo_df[['CRASH_HOUR', 'AGE', 'geometry']]\n",
        "geo_df = pd.concat([geo_df, y_train_over], axis=1)\n",
        "geo_df.head()"
      ]
    },
    {
      "cell_type": "code",
      "execution_count": null,
      "metadata": {
        "id": "WokvLjkB3f4E"
      },
      "outputs": [],
      "source": [
        "#layering the street map with our Geopandas points (lat & long)\n",
        "fig, ax = plt.subplots(figsize=(15,15))\n",
        "#just the street map grid\n",
        "street_map.plot(ax=ax, alpha=0.4, color='grey')\n",
        "#plotting the data's geographical points\n",
        "geo_df[geo_df['TARGET'] == 0].plot(ax=ax,\n",
        "                                   alpha=0.01,\n",
        "                                   markersize=7,\n",
        "                                   color='blue',\n",
        "                                   marker='o',\n",
        "                                   label='less avoidable crash')\n",
        "geo_df[geo_df['TARGET'] == 1].plot(ax=ax,\n",
        "                                   alpha=0.01,\n",
        "                                   markersize=7,\n",
        "                                   color='red',\n",
        "                                   marker='^',\n",
        "                                   label='more avoidable crash')\n",
        "plt.legend(prop={'size':15});"
      ]
    },
    {
      "cell_type": "markdown",
      "metadata": {
        "id": "iDmqz-9OzRZP"
      },
      "source": [
        "So, the reason location is so highly important as a feature is because accidents happen on busier roads. Not exactly surprising. However, we do see that less avoidable accidents do not have such a close relationship with location - they happen on busy and less-busy streets."
      ]
    },
    {
      "cell_type": "code",
      "execution_count": null,
      "metadata": {
        "id": "DXMZNK4Z8BmY"
      },
      "outputs": [],
      "source": [
        "fig, ax = plt.subplots(figsize=(15,15))\n",
        "street_map.plot(ax=ax, alpha=0.4, color='grey')\n",
        "geo_df[geo_df['TARGET'] == 0].plot(ax=ax,\n",
        "                                   alpha=0.1,\n",
        "                                   markersize=7,\n",
        "                                   color='blue',\n",
        "                                   marker='o',\n",
        "                                   label='less avoidable crash')\n",
        "plt.legend(prop={'size':15});"
      ]
    },
    {
      "cell_type": "markdown",
      "metadata": {
        "id": "gWtP3VMV8weu"
      },
      "source": [
        "I'm not sure how that information is valuable, but it's interesting nonetheless. Let's take a closer look at hour-of-day and age distributions here."
      ]
    },
    {
      "cell_type": "code",
      "execution_count": null,
      "metadata": {
        "id": "rb1gFpKn7WwO"
      },
      "outputs": [],
      "source": [
        "#isolating more and less-avoidable accidents\n",
        "more_avoidable_crashes = geo_df[geo_df['TARGET'] == 1]\n",
        "less_avoidable_crashes = geo_df[geo_df['TARGET'] == 0]\n",
        "#examining more avoidable crashes by hour-of-day\n",
        "fig, ax = plt.subplots()\n",
        "ax.hist(more_avoidable_crashes['CRASH_HOUR'], bins=24, color='r', alpha=0.4, edgecolor='k');"
      ]
    },
    {
      "cell_type": "markdown",
      "metadata": {
        "id": "37z_pQWXz4tQ"
      },
      "source": [
        "Accidents spike during the morning and evening commute times. Oh my God, what am I doing?"
      ]
    },
    {
      "cell_type": "code",
      "execution_count": null,
      "metadata": {
        "id": "_rSotBxD-97b"
      },
      "outputs": [],
      "source": [
        "#what about less avoidable crashes by hour-of-day?\n",
        "plt.hist(less_avoidable_crashes['CRASH_HOUR'], bins=24);"
      ]
    },
    {
      "cell_type": "markdown",
      "metadata": {
        "id": "wWT5aUYW--ik"
      },
      "source": [
        "I see. Either way, commute time = crash time. Let's examine age's role:"
      ]
    },
    {
      "cell_type": "code",
      "execution_count": null,
      "metadata": {
        "id": "kWsVdNek0A6u"
      },
      "outputs": [],
      "source": [
        "plt.hist(more_avoidable_crashes['AGE'], bins=20);"
      ]
    },
    {
      "cell_type": "markdown",
      "metadata": {
        "id": "CDVp6qJr0o03"
      },
      "source": [
        "Overall, the target age demographic would be drivers age 25-40. Get it together, fellow Millenials!"
      ]
    },
    {
      "cell_type": "markdown",
      "metadata": {
        "id": "Dgv5Mxg6amdF"
      },
      "source": [
        "# summary\n",
        "\n",
        "After using PCA and a random forest to further trim down our features, we fit and optimized a logistic regression model to our data. While its predicting performance was unsatisfactory, it did help eliminate more columns through statistical significance. Finally, we fit and optimized a decision tree model, which performed better - likely owing to its ability to handle more complex data alongside the condensed, feature-engineered nature of our target.\n",
        "\n",
        "This optimized decision tree may not boast as strong an f1 score as what we'd see in a black-box model like a random forest or neural network, but it does a decent job while maintaining a more interpretable modeling process.\n",
        "\n",
        " **Carefully narrowing the features from 146 in the original data down to 22 helped isolate the more important attributes that contribute a specific target: whether an accident was more or less avoidable. It also helped show how a few select features contribute much more than others (location, hour-of-day, and age).**\n",
        "\n",
        "A more complex, black-box model may have made stronger predictions - especially with data as complex as this - but isolating the features which matter the most would have been much more difficult.\n",
        "\n",
        "While these findings may not necessarily be earth-shattering (busier streets have more accidents, crashes tend to happen during commute times, and generally younger drivers have more avoidable crashes), they do help confirm what we might suspect. Furthermore, these findings do not rule out another compounding factor, but the fact that they stood out so clearly do at least suggest a few possible solutions.\n",
        "\n",
        "For example, **a safety ad campaign focused on driving in heavy traffic that appeals more to drivers between 25-40 may prove more effective (at least in a broader sense) than other campaigns that focus on things like speeding or DUI.**"
      ]
    },
    {
      "cell_type": "code",
      "execution_count": null,
      "metadata": {
        "id": "v5SIOk__ajIU"
      },
      "outputs": [],
      "source": []
    }
  ],
  "metadata": {
    "colab": {
      "provenance": [],
      "authorship_tag": "ABX9TyMdL14UkB6oXju/KhS0dBHF",
      "include_colab_link": true
    },
    "kernelspec": {
      "display_name": "Python 3",
      "name": "python3"
    },
    "language_info": {
      "name": "python"
    }
  },
  "nbformat": 4,
  "nbformat_minor": 0
}