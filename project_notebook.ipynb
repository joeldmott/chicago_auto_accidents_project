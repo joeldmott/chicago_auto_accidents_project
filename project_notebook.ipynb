{
  "nbformat": 4,
  "nbformat_minor": 0,
  "metadata": {
    "colab": {
      "provenance": [],
      "authorship_tag": "ABX9TyPFkcBsT5/AaCkZYlzf2oVh"
    },
    "kernelspec": {
      "name": "python3",
      "display_name": "Python 3"
    },
    "language_info": {
      "name": "python"
    }
  },
  "cells": [
    {
      "cell_type": "markdown",
      "source": [
        "# Determining the Primary Causes of Traffic Accidents in Chicago\n",
        "\n",
        "This projects raw dataset originates from the [City of Chicago's website](https://data.cityofchicago.org/Transportation/Traffic-Crashes-Crashes/85ca-t3if/about_data), where it is updated daily. I downloaded the data on May 1st, 2024 and [uploaded that snapshot to Kaggle](https://www.kaggle.com/datasets/joelmott/chicago-traffic-crashes-may-2024).\n",
        "\n",
        "This dataset consists of three seperate csv files: one for general crash information, one for the people involved in each crash, and one for each vehicle. When merged, the resulting dataset contains over 150 columns and 3.8 million records. In order to improve modeling results and interpretability, I narrowed that down to 15 feature columns and one target column in this [data engineering notebook](https://github.com/joeldmott/chicago_auto_accidents_project/blob/main/data_engineering_notebook.ipynb).\n",
        "\n",
        "In this project, I use the resulting csv file from that data engineering effort."
      ],
      "metadata": {
        "id": "Ihb3p5dyBuO3"
      }
    },
    {
      "cell_type": "code",
      "execution_count": 1,
      "metadata": {
        "id": "CC4jPqddzEY4"
      },
      "outputs": [],
      "source": [
        "import json\n",
        "import os\n",
        "from pathlib import Path\n",
        "from google.colab import userdata\n",
        "\n",
        "# api key for importing Kaggle and downloading the datasets\n",
        "os.environ[\"KAGGLE_KEY\"] = userdata.get('KAGGLE_KEY')\n",
        "os.environ[\"KAGGLE_USERNAME\"] = userdata.get('KAGGLE_USERNAME')\n",
        "# api key for the json object below\n",
        "api_key = userdata.get('API_KEY')\n",
        "\n",
        "# uses pathlib Path\n",
        "kaggle_path = Path('/root/.kaggle')\n",
        "os.makedirs(kaggle_path, exist_ok=True)\n",
        "\n",
        "# opens file and dumps python dict to json object\n",
        "with open (kaggle_path/'kaggle.json', 'w') as handl:\n",
        "    json.dump(api_key,handl)\n",
        "\n",
        "os.chmod(kaggle_path/'kaggle.json', 600)"
      ]
    },
    {
      "cell_type": "code",
      "source": [
        "#importing Kaggle module and downloading pre-engineered csv file\n",
        "import kaggle\n",
        "! kaggle datasets download joelmott/chicago-traffic-crashes-may-2024 -f trimmed_chicago_crashes_data.csv"
      ],
      "metadata": {
        "colab": {
          "base_uri": "https://localhost:8080/"
        },
        "id": "Dh9J9BgNzO2J",
        "outputId": "406edd46-df53-48c5-b88a-73a899046f69"
      },
      "execution_count": 2,
      "outputs": [
        {
          "output_type": "stream",
          "name": "stdout",
          "text": [
            "Warning: Looks like you're using an outdated API Version, please consider updating (server 1.6.14 / client 1.6.12)\n",
            "Dataset URL: https://www.kaggle.com/datasets/joelmott/chicago-traffic-crashes-may-2024\n",
            "License(s): CC0-1.0\n",
            "Downloading trimmed_chicago_crashes_data.csv.zip to /content\n",
            " 66% 7.00M/10.6M [00:00<00:00, 13.9MB/s]\n",
            "100% 10.6M/10.6M [00:00<00:00, 13.4MB/s]\n"
          ]
        }
      ]
    },
    {
      "cell_type": "code",
      "source": [
        "!unzip /content/trimmed_chicago_crashes_data.csv"
      ],
      "metadata": {
        "colab": {
          "base_uri": "https://localhost:8080/"
        },
        "id": "4ByunR1U1IQh",
        "outputId": "1aaf33b9-cddb-4284-c539-af02c601d7cb"
      },
      "execution_count": 5,
      "outputs": [
        {
          "output_type": "stream",
          "name": "stdout",
          "text": [
            "Archive:  /content/trimmed_chicago_crashes_data.csv.zip\n",
            "  inflating: trimmed_chicago_crashes_data.csv  \n"
          ]
        }
      ]
    },
    {
      "cell_type": "code",
      "source": [
        "#reading file in as a DataFrame\n",
        "import pandas as pd\n",
        "df = pd.read_csv('/content/trimmed_chicago_crashes_data.csv')\n",
        "df.head()"
      ],
      "metadata": {
        "colab": {
          "base_uri": "https://localhost:8080/",
          "height": 313
        },
        "id": "fqAU-rH8zeBO",
        "outputId": "51c9811e-a237-4308-9f9c-b2a2703a4da8"
      },
      "execution_count": 6,
      "outputs": [
        {
          "output_type": "execute_result",
          "data": {
            "text/plain": [
              "   Unnamed: 0  POSTED_SPEED_LIMIT WEATHER_CONDITION LIGHTING_CONDITION  \\\n",
              "0           0                  30             CLEAR           DAYLIGHT   \n",
              "1           1                  30             CLEAR           DAYLIGHT   \n",
              "2           2                  15             CLEAR           DAYLIGHT   \n",
              "3           3                  15             CLEAR           DAYLIGHT   \n",
              "4           4                  30             CLEAR           DAYLIGHT   \n",
              "\n",
              "  ROADWAY_SURFACE_COND  NUM_UNITS  CRASH_HOUR  CRASH_DAY_OF_WEEK  CRASH_MONTH  \\\n",
              "0                  DRY          2          17                  6            8   \n",
              "1                  DRY          2          17                  6            8   \n",
              "2                  DRY          2          12                  4            9   \n",
              "3                  DRY          2          12                  4            9   \n",
              "4                  DRY          2          11                  4            9   \n",
              "\n",
              "    LATITUDE  LONGITUDE PERSON_TYPE SEX  AGE TRAVEL_DIRECTION  \\\n",
              "0  41.942976 -87.761883     BICYCLE   M   14                S   \n",
              "1  41.942976 -87.761883      DRIVER   M   36                S   \n",
              "2  41.744152 -87.585945      DRIVER   M   55                W   \n",
              "3  41.744152 -87.585945      DRIVER   M   55                S   \n",
              "4  41.937252 -87.776321      DRIVER   M   39                S   \n",
              "\n",
              "               MANEUVER  TARGET  \n",
              "0        STRAIGHT AHEAD       1  \n",
              "1        STRAIGHT AHEAD       1  \n",
              "2               BACKING       1  \n",
              "3  SLOW/STOP IN TRAFFIC       1  \n",
              "4        STRAIGHT AHEAD       1  "
            ],
            "text/html": [
              "\n",
              "  <div id=\"df-705e9407-7a15-4964-93d0-b99d34bd2d90\" class=\"colab-df-container\">\n",
              "    <div>\n",
              "<style scoped>\n",
              "    .dataframe tbody tr th:only-of-type {\n",
              "        vertical-align: middle;\n",
              "    }\n",
              "\n",
              "    .dataframe tbody tr th {\n",
              "        vertical-align: top;\n",
              "    }\n",
              "\n",
              "    .dataframe thead th {\n",
              "        text-align: right;\n",
              "    }\n",
              "</style>\n",
              "<table border=\"1\" class=\"dataframe\">\n",
              "  <thead>\n",
              "    <tr style=\"text-align: right;\">\n",
              "      <th></th>\n",
              "      <th>Unnamed: 0</th>\n",
              "      <th>POSTED_SPEED_LIMIT</th>\n",
              "      <th>WEATHER_CONDITION</th>\n",
              "      <th>LIGHTING_CONDITION</th>\n",
              "      <th>ROADWAY_SURFACE_COND</th>\n",
              "      <th>NUM_UNITS</th>\n",
              "      <th>CRASH_HOUR</th>\n",
              "      <th>CRASH_DAY_OF_WEEK</th>\n",
              "      <th>CRASH_MONTH</th>\n",
              "      <th>LATITUDE</th>\n",
              "      <th>LONGITUDE</th>\n",
              "      <th>PERSON_TYPE</th>\n",
              "      <th>SEX</th>\n",
              "      <th>AGE</th>\n",
              "      <th>TRAVEL_DIRECTION</th>\n",
              "      <th>MANEUVER</th>\n",
              "      <th>TARGET</th>\n",
              "    </tr>\n",
              "  </thead>\n",
              "  <tbody>\n",
              "    <tr>\n",
              "      <th>0</th>\n",
              "      <td>0</td>\n",
              "      <td>30</td>\n",
              "      <td>CLEAR</td>\n",
              "      <td>DAYLIGHT</td>\n",
              "      <td>DRY</td>\n",
              "      <td>2</td>\n",
              "      <td>17</td>\n",
              "      <td>6</td>\n",
              "      <td>8</td>\n",
              "      <td>41.942976</td>\n",
              "      <td>-87.761883</td>\n",
              "      <td>BICYCLE</td>\n",
              "      <td>M</td>\n",
              "      <td>14</td>\n",
              "      <td>S</td>\n",
              "      <td>STRAIGHT AHEAD</td>\n",
              "      <td>1</td>\n",
              "    </tr>\n",
              "    <tr>\n",
              "      <th>1</th>\n",
              "      <td>1</td>\n",
              "      <td>30</td>\n",
              "      <td>CLEAR</td>\n",
              "      <td>DAYLIGHT</td>\n",
              "      <td>DRY</td>\n",
              "      <td>2</td>\n",
              "      <td>17</td>\n",
              "      <td>6</td>\n",
              "      <td>8</td>\n",
              "      <td>41.942976</td>\n",
              "      <td>-87.761883</td>\n",
              "      <td>DRIVER</td>\n",
              "      <td>M</td>\n",
              "      <td>36</td>\n",
              "      <td>S</td>\n",
              "      <td>STRAIGHT AHEAD</td>\n",
              "      <td>1</td>\n",
              "    </tr>\n",
              "    <tr>\n",
              "      <th>2</th>\n",
              "      <td>2</td>\n",
              "      <td>15</td>\n",
              "      <td>CLEAR</td>\n",
              "      <td>DAYLIGHT</td>\n",
              "      <td>DRY</td>\n",
              "      <td>2</td>\n",
              "      <td>12</td>\n",
              "      <td>4</td>\n",
              "      <td>9</td>\n",
              "      <td>41.744152</td>\n",
              "      <td>-87.585945</td>\n",
              "      <td>DRIVER</td>\n",
              "      <td>M</td>\n",
              "      <td>55</td>\n",
              "      <td>W</td>\n",
              "      <td>BACKING</td>\n",
              "      <td>1</td>\n",
              "    </tr>\n",
              "    <tr>\n",
              "      <th>3</th>\n",
              "      <td>3</td>\n",
              "      <td>15</td>\n",
              "      <td>CLEAR</td>\n",
              "      <td>DAYLIGHT</td>\n",
              "      <td>DRY</td>\n",
              "      <td>2</td>\n",
              "      <td>12</td>\n",
              "      <td>4</td>\n",
              "      <td>9</td>\n",
              "      <td>41.744152</td>\n",
              "      <td>-87.585945</td>\n",
              "      <td>DRIVER</td>\n",
              "      <td>M</td>\n",
              "      <td>55</td>\n",
              "      <td>S</td>\n",
              "      <td>SLOW/STOP IN TRAFFIC</td>\n",
              "      <td>1</td>\n",
              "    </tr>\n",
              "    <tr>\n",
              "      <th>4</th>\n",
              "      <td>4</td>\n",
              "      <td>30</td>\n",
              "      <td>CLEAR</td>\n",
              "      <td>DAYLIGHT</td>\n",
              "      <td>DRY</td>\n",
              "      <td>2</td>\n",
              "      <td>11</td>\n",
              "      <td>4</td>\n",
              "      <td>9</td>\n",
              "      <td>41.937252</td>\n",
              "      <td>-87.776321</td>\n",
              "      <td>DRIVER</td>\n",
              "      <td>M</td>\n",
              "      <td>39</td>\n",
              "      <td>S</td>\n",
              "      <td>STRAIGHT AHEAD</td>\n",
              "      <td>1</td>\n",
              "    </tr>\n",
              "  </tbody>\n",
              "</table>\n",
              "</div>\n",
              "    <div class=\"colab-df-buttons\">\n",
              "\n",
              "  <div class=\"colab-df-container\">\n",
              "    <button class=\"colab-df-convert\" onclick=\"convertToInteractive('df-705e9407-7a15-4964-93d0-b99d34bd2d90')\"\n",
              "            title=\"Convert this dataframe to an interactive table.\"\n",
              "            style=\"display:none;\">\n",
              "\n",
              "  <svg xmlns=\"http://www.w3.org/2000/svg\" height=\"24px\" viewBox=\"0 -960 960 960\">\n",
              "    <path d=\"M120-120v-720h720v720H120Zm60-500h600v-160H180v160Zm220 220h160v-160H400v160Zm0 220h160v-160H400v160ZM180-400h160v-160H180v160Zm440 0h160v-160H620v160ZM180-180h160v-160H180v160Zm440 0h160v-160H620v160Z\"/>\n",
              "  </svg>\n",
              "    </button>\n",
              "\n",
              "  <style>\n",
              "    .colab-df-container {\n",
              "      display:flex;\n",
              "      gap: 12px;\n",
              "    }\n",
              "\n",
              "    .colab-df-convert {\n",
              "      background-color: #E8F0FE;\n",
              "      border: none;\n",
              "      border-radius: 50%;\n",
              "      cursor: pointer;\n",
              "      display: none;\n",
              "      fill: #1967D2;\n",
              "      height: 32px;\n",
              "      padding: 0 0 0 0;\n",
              "      width: 32px;\n",
              "    }\n",
              "\n",
              "    .colab-df-convert:hover {\n",
              "      background-color: #E2EBFA;\n",
              "      box-shadow: 0px 1px 2px rgba(60, 64, 67, 0.3), 0px 1px 3px 1px rgba(60, 64, 67, 0.15);\n",
              "      fill: #174EA6;\n",
              "    }\n",
              "\n",
              "    .colab-df-buttons div {\n",
              "      margin-bottom: 4px;\n",
              "    }\n",
              "\n",
              "    [theme=dark] .colab-df-convert {\n",
              "      background-color: #3B4455;\n",
              "      fill: #D2E3FC;\n",
              "    }\n",
              "\n",
              "    [theme=dark] .colab-df-convert:hover {\n",
              "      background-color: #434B5C;\n",
              "      box-shadow: 0px 1px 3px 1px rgba(0, 0, 0, 0.15);\n",
              "      filter: drop-shadow(0px 1px 2px rgba(0, 0, 0, 0.3));\n",
              "      fill: #FFFFFF;\n",
              "    }\n",
              "  </style>\n",
              "\n",
              "    <script>\n",
              "      const buttonEl =\n",
              "        document.querySelector('#df-705e9407-7a15-4964-93d0-b99d34bd2d90 button.colab-df-convert');\n",
              "      buttonEl.style.display =\n",
              "        google.colab.kernel.accessAllowed ? 'block' : 'none';\n",
              "\n",
              "      async function convertToInteractive(key) {\n",
              "        const element = document.querySelector('#df-705e9407-7a15-4964-93d0-b99d34bd2d90');\n",
              "        const dataTable =\n",
              "          await google.colab.kernel.invokeFunction('convertToInteractive',\n",
              "                                                    [key], {});\n",
              "        if (!dataTable) return;\n",
              "\n",
              "        const docLinkHtml = 'Like what you see? Visit the ' +\n",
              "          '<a target=\"_blank\" href=https://colab.research.google.com/notebooks/data_table.ipynb>data table notebook</a>'\n",
              "          + ' to learn more about interactive tables.';\n",
              "        element.innerHTML = '';\n",
              "        dataTable['output_type'] = 'display_data';\n",
              "        await google.colab.output.renderOutput(dataTable, element);\n",
              "        const docLink = document.createElement('div');\n",
              "        docLink.innerHTML = docLinkHtml;\n",
              "        element.appendChild(docLink);\n",
              "      }\n",
              "    </script>\n",
              "  </div>\n",
              "\n",
              "\n",
              "<div id=\"df-941fa45d-db90-469e-85ac-8e0c630f29ac\">\n",
              "  <button class=\"colab-df-quickchart\" onclick=\"quickchart('df-941fa45d-db90-469e-85ac-8e0c630f29ac')\"\n",
              "            title=\"Suggest charts\"\n",
              "            style=\"display:none;\">\n",
              "\n",
              "<svg xmlns=\"http://www.w3.org/2000/svg\" height=\"24px\"viewBox=\"0 0 24 24\"\n",
              "     width=\"24px\">\n",
              "    <g>\n",
              "        <path d=\"M19 3H5c-1.1 0-2 .9-2 2v14c0 1.1.9 2 2 2h14c1.1 0 2-.9 2-2V5c0-1.1-.9-2-2-2zM9 17H7v-7h2v7zm4 0h-2V7h2v10zm4 0h-2v-4h2v4z\"/>\n",
              "    </g>\n",
              "</svg>\n",
              "  </button>\n",
              "\n",
              "<style>\n",
              "  .colab-df-quickchart {\n",
              "      --bg-color: #E8F0FE;\n",
              "      --fill-color: #1967D2;\n",
              "      --hover-bg-color: #E2EBFA;\n",
              "      --hover-fill-color: #174EA6;\n",
              "      --disabled-fill-color: #AAA;\n",
              "      --disabled-bg-color: #DDD;\n",
              "  }\n",
              "\n",
              "  [theme=dark] .colab-df-quickchart {\n",
              "      --bg-color: #3B4455;\n",
              "      --fill-color: #D2E3FC;\n",
              "      --hover-bg-color: #434B5C;\n",
              "      --hover-fill-color: #FFFFFF;\n",
              "      --disabled-bg-color: #3B4455;\n",
              "      --disabled-fill-color: #666;\n",
              "  }\n",
              "\n",
              "  .colab-df-quickchart {\n",
              "    background-color: var(--bg-color);\n",
              "    border: none;\n",
              "    border-radius: 50%;\n",
              "    cursor: pointer;\n",
              "    display: none;\n",
              "    fill: var(--fill-color);\n",
              "    height: 32px;\n",
              "    padding: 0;\n",
              "    width: 32px;\n",
              "  }\n",
              "\n",
              "  .colab-df-quickchart:hover {\n",
              "    background-color: var(--hover-bg-color);\n",
              "    box-shadow: 0 1px 2px rgba(60, 64, 67, 0.3), 0 1px 3px 1px rgba(60, 64, 67, 0.15);\n",
              "    fill: var(--button-hover-fill-color);\n",
              "  }\n",
              "\n",
              "  .colab-df-quickchart-complete:disabled,\n",
              "  .colab-df-quickchart-complete:disabled:hover {\n",
              "    background-color: var(--disabled-bg-color);\n",
              "    fill: var(--disabled-fill-color);\n",
              "    box-shadow: none;\n",
              "  }\n",
              "\n",
              "  .colab-df-spinner {\n",
              "    border: 2px solid var(--fill-color);\n",
              "    border-color: transparent;\n",
              "    border-bottom-color: var(--fill-color);\n",
              "    animation:\n",
              "      spin 1s steps(1) infinite;\n",
              "  }\n",
              "\n",
              "  @keyframes spin {\n",
              "    0% {\n",
              "      border-color: transparent;\n",
              "      border-bottom-color: var(--fill-color);\n",
              "      border-left-color: var(--fill-color);\n",
              "    }\n",
              "    20% {\n",
              "      border-color: transparent;\n",
              "      border-left-color: var(--fill-color);\n",
              "      border-top-color: var(--fill-color);\n",
              "    }\n",
              "    30% {\n",
              "      border-color: transparent;\n",
              "      border-left-color: var(--fill-color);\n",
              "      border-top-color: var(--fill-color);\n",
              "      border-right-color: var(--fill-color);\n",
              "    }\n",
              "    40% {\n",
              "      border-color: transparent;\n",
              "      border-right-color: var(--fill-color);\n",
              "      border-top-color: var(--fill-color);\n",
              "    }\n",
              "    60% {\n",
              "      border-color: transparent;\n",
              "      border-right-color: var(--fill-color);\n",
              "    }\n",
              "    80% {\n",
              "      border-color: transparent;\n",
              "      border-right-color: var(--fill-color);\n",
              "      border-bottom-color: var(--fill-color);\n",
              "    }\n",
              "    90% {\n",
              "      border-color: transparent;\n",
              "      border-bottom-color: var(--fill-color);\n",
              "    }\n",
              "  }\n",
              "</style>\n",
              "\n",
              "  <script>\n",
              "    async function quickchart(key) {\n",
              "      const quickchartButtonEl =\n",
              "        document.querySelector('#' + key + ' button');\n",
              "      quickchartButtonEl.disabled = true;  // To prevent multiple clicks.\n",
              "      quickchartButtonEl.classList.add('colab-df-spinner');\n",
              "      try {\n",
              "        const charts = await google.colab.kernel.invokeFunction(\n",
              "            'suggestCharts', [key], {});\n",
              "      } catch (error) {\n",
              "        console.error('Error during call to suggestCharts:', error);\n",
              "      }\n",
              "      quickchartButtonEl.classList.remove('colab-df-spinner');\n",
              "      quickchartButtonEl.classList.add('colab-df-quickchart-complete');\n",
              "    }\n",
              "    (() => {\n",
              "      let quickchartButtonEl =\n",
              "        document.querySelector('#df-941fa45d-db90-469e-85ac-8e0c630f29ac button');\n",
              "      quickchartButtonEl.style.display =\n",
              "        google.colab.kernel.accessAllowed ? 'block' : 'none';\n",
              "    })();\n",
              "  </script>\n",
              "</div>\n",
              "\n",
              "    </div>\n",
              "  </div>\n"
            ],
            "application/vnd.google.colaboratory.intrinsic+json": {
              "type": "dataframe",
              "variable_name": "df"
            }
          },
          "metadata": {},
          "execution_count": 6
        }
      ]
    },
    {
      "cell_type": "code",
      "source": [
        "#A new index column was added in for some reason, let's drop that\n",
        "df.drop('Unnamed: 0', axis=1, inplace=True)\n",
        "#Now let's check and see if it looks like it did back in the data engineering notebook:\n",
        "df.info()"
      ],
      "metadata": {
        "colab": {
          "base_uri": "https://localhost:8080/"
        },
        "id": "N84Iz4H109C1",
        "outputId": "c584269f-ed8d-426b-c141-434f563d4b29"
      },
      "execution_count": 7,
      "outputs": [
        {
          "output_type": "stream",
          "name": "stdout",
          "text": [
            "<class 'pandas.core.frame.DataFrame'>\n",
            "RangeIndex: 884772 entries, 0 to 884771\n",
            "Data columns (total 16 columns):\n",
            " #   Column                Non-Null Count   Dtype  \n",
            "---  ------                --------------   -----  \n",
            " 0   POSTED_SPEED_LIMIT    884772 non-null  int64  \n",
            " 1   WEATHER_CONDITION     884772 non-null  object \n",
            " 2   LIGHTING_CONDITION    884772 non-null  object \n",
            " 3   ROADWAY_SURFACE_COND  884772 non-null  object \n",
            " 4   NUM_UNITS             884772 non-null  int64  \n",
            " 5   CRASH_HOUR            884772 non-null  int64  \n",
            " 6   CRASH_DAY_OF_WEEK     884772 non-null  int64  \n",
            " 7   CRASH_MONTH           884772 non-null  int64  \n",
            " 8   LATITUDE              884772 non-null  float64\n",
            " 9   LONGITUDE             884772 non-null  float64\n",
            " 10  PERSON_TYPE           884772 non-null  object \n",
            " 11  SEX                   884772 non-null  object \n",
            " 12  AGE                   884772 non-null  int64  \n",
            " 13  TRAVEL_DIRECTION      884772 non-null  object \n",
            " 14  MANEUVER              884772 non-null  object \n",
            " 15  TARGET                884772 non-null  int64  \n",
            "dtypes: float64(2), int64(7), object(7)\n",
            "memory usage: 108.0+ MB\n"
          ]
        }
      ]
    },
    {
      "cell_type": "markdown",
      "source": [
        "## valuation measures\n",
        "\n",
        "This file is more managable than the gargantuan raw data, but still contains plenty of records. Subsequently, we'll validate this project using a train-test split as opposed to cross-validation."
      ],
      "metadata": {
        "id": "lK_TdGr5BrO0"
      }
    },
    {
      "cell_type": "code",
      "source": [
        "from sklearn.model_selection import train_test_split\n",
        "X = df.drop('TARGET', axis=1)\n",
        "y = df['TARGET']\n",
        "X_train, X_test, y_train, y_test = train_test_split(X, y, test_size=0.2, random_state=210)"
      ],
      "metadata": {
        "id": "Z9Npuvs81UFR"
      },
      "execution_count": 8,
      "outputs": []
    },
    {
      "cell_type": "markdown",
      "source": [
        "## preprocessing data\n",
        "\n",
        "Now we can standardize our numeric columns and one-hot encode our categorical ones before inputting these features into models."
      ],
      "metadata": {
        "id": "V2YWLZax7Ocn"
      }
    },
    {
      "cell_type": "code",
      "source": [
        "#establishing which features are numeric or categorical\n",
        "numeric_features = ['POSTED_SPEED_LIMIT', 'NUM_UNITS', 'CRASH_HOUR', 'LATITUDE', 'LONGITUDE', 'AGE']\n",
        "\n",
        "categorical_features = ['WEATHER_CONDITION', 'LIGHTING_CONDITION', 'ROADWAY_SURFACE_COND',\n",
        "                        'CRASH_DAY_OF_WEEK', 'PERSON_TYPE', 'SEX', 'TRAVEL_DIRECTION', 'MANEUVER']\n",
        "\n",
        "#splitting them up for preprocessing\n",
        "X_train_numeric = X_train[numeric_features]\n",
        "X_train_categorical = X_train[categorical_features]"
      ],
      "metadata": {
        "id": "WPQWI2TWEMbO"
      },
      "execution_count": 9,
      "outputs": []
    },
    {
      "cell_type": "markdown",
      "source": [
        "First, we'll standardize the numeric features since they have varied scales that throw off measures like PCA."
      ],
      "metadata": {
        "id": "KWiZ_Nz3JIf1"
      }
    },
    {
      "cell_type": "code",
      "source": [
        "from sklearn.preprocessing import StandardScaler\n",
        "\n",
        "scaler = StandardScaler()\n",
        "X_train_numeric_scaled = scaler.fit_transform(X_train_numeric)\n",
        "X_train_numeric_scaled = pd.DataFrame(X_train_numeric_scaled,\n",
        "                                      columns = X_train_numeric.columns,\n",
        "                                      index = X_train_numeric.index)\n",
        "X_train_numeric_scaled.head()"
      ],
      "metadata": {
        "colab": {
          "base_uri": "https://localhost:8080/",
          "height": 206
        },
        "id": "qsQ0J5V0E4Y0",
        "outputId": "e29cc812-f74f-4c1f-80dc-2d2acebc3d21"
      },
      "execution_count": 10,
      "outputs": [
        {
          "output_type": "execute_result",
          "data": {
            "text/plain": [
              "        POSTED_SPEED_LIMIT  NUM_UNITS  CRASH_HOUR  LATITUDE  LONGITUDE  \\\n",
              "571273            0.132509   1.141696   -1.013182  0.107484  -0.085609   \n",
              "751169            0.132509  -0.333483   -1.013182 -0.112652  -0.012405   \n",
              "43397             0.132509   1.141696   -2.335921 -0.233132   0.113552   \n",
              "847787            0.132509  -0.333483    1.254371  0.310612  -0.137801   \n",
              "542731            0.132509  -0.333483   -0.068368  0.106912   0.022791   \n",
              "\n",
              "             AGE  \n",
              "571273 -1.109211  \n",
              "751169  0.459883  \n",
              "43397  -1.046447  \n",
              "847787 -1.485793  \n",
              "542731  0.397120  "
            ],
            "text/html": [
              "\n",
              "  <div id=\"df-87d74ee2-0cbb-4207-b430-ba7ed672a8a5\" class=\"colab-df-container\">\n",
              "    <div>\n",
              "<style scoped>\n",
              "    .dataframe tbody tr th:only-of-type {\n",
              "        vertical-align: middle;\n",
              "    }\n",
              "\n",
              "    .dataframe tbody tr th {\n",
              "        vertical-align: top;\n",
              "    }\n",
              "\n",
              "    .dataframe thead th {\n",
              "        text-align: right;\n",
              "    }\n",
              "</style>\n",
              "<table border=\"1\" class=\"dataframe\">\n",
              "  <thead>\n",
              "    <tr style=\"text-align: right;\">\n",
              "      <th></th>\n",
              "      <th>POSTED_SPEED_LIMIT</th>\n",
              "      <th>NUM_UNITS</th>\n",
              "      <th>CRASH_HOUR</th>\n",
              "      <th>LATITUDE</th>\n",
              "      <th>LONGITUDE</th>\n",
              "      <th>AGE</th>\n",
              "    </tr>\n",
              "  </thead>\n",
              "  <tbody>\n",
              "    <tr>\n",
              "      <th>571273</th>\n",
              "      <td>0.132509</td>\n",
              "      <td>1.141696</td>\n",
              "      <td>-1.013182</td>\n",
              "      <td>0.107484</td>\n",
              "      <td>-0.085609</td>\n",
              "      <td>-1.109211</td>\n",
              "    </tr>\n",
              "    <tr>\n",
              "      <th>751169</th>\n",
              "      <td>0.132509</td>\n",
              "      <td>-0.333483</td>\n",
              "      <td>-1.013182</td>\n",
              "      <td>-0.112652</td>\n",
              "      <td>-0.012405</td>\n",
              "      <td>0.459883</td>\n",
              "    </tr>\n",
              "    <tr>\n",
              "      <th>43397</th>\n",
              "      <td>0.132509</td>\n",
              "      <td>1.141696</td>\n",
              "      <td>-2.335921</td>\n",
              "      <td>-0.233132</td>\n",
              "      <td>0.113552</td>\n",
              "      <td>-1.046447</td>\n",
              "    </tr>\n",
              "    <tr>\n",
              "      <th>847787</th>\n",
              "      <td>0.132509</td>\n",
              "      <td>-0.333483</td>\n",
              "      <td>1.254371</td>\n",
              "      <td>0.310612</td>\n",
              "      <td>-0.137801</td>\n",
              "      <td>-1.485793</td>\n",
              "    </tr>\n",
              "    <tr>\n",
              "      <th>542731</th>\n",
              "      <td>0.132509</td>\n",
              "      <td>-0.333483</td>\n",
              "      <td>-0.068368</td>\n",
              "      <td>0.106912</td>\n",
              "      <td>0.022791</td>\n",
              "      <td>0.397120</td>\n",
              "    </tr>\n",
              "  </tbody>\n",
              "</table>\n",
              "</div>\n",
              "    <div class=\"colab-df-buttons\">\n",
              "\n",
              "  <div class=\"colab-df-container\">\n",
              "    <button class=\"colab-df-convert\" onclick=\"convertToInteractive('df-87d74ee2-0cbb-4207-b430-ba7ed672a8a5')\"\n",
              "            title=\"Convert this dataframe to an interactive table.\"\n",
              "            style=\"display:none;\">\n",
              "\n",
              "  <svg xmlns=\"http://www.w3.org/2000/svg\" height=\"24px\" viewBox=\"0 -960 960 960\">\n",
              "    <path d=\"M120-120v-720h720v720H120Zm60-500h600v-160H180v160Zm220 220h160v-160H400v160Zm0 220h160v-160H400v160ZM180-400h160v-160H180v160Zm440 0h160v-160H620v160ZM180-180h160v-160H180v160Zm440 0h160v-160H620v160Z\"/>\n",
              "  </svg>\n",
              "    </button>\n",
              "\n",
              "  <style>\n",
              "    .colab-df-container {\n",
              "      display:flex;\n",
              "      gap: 12px;\n",
              "    }\n",
              "\n",
              "    .colab-df-convert {\n",
              "      background-color: #E8F0FE;\n",
              "      border: none;\n",
              "      border-radius: 50%;\n",
              "      cursor: pointer;\n",
              "      display: none;\n",
              "      fill: #1967D2;\n",
              "      height: 32px;\n",
              "      padding: 0 0 0 0;\n",
              "      width: 32px;\n",
              "    }\n",
              "\n",
              "    .colab-df-convert:hover {\n",
              "      background-color: #E2EBFA;\n",
              "      box-shadow: 0px 1px 2px rgba(60, 64, 67, 0.3), 0px 1px 3px 1px rgba(60, 64, 67, 0.15);\n",
              "      fill: #174EA6;\n",
              "    }\n",
              "\n",
              "    .colab-df-buttons div {\n",
              "      margin-bottom: 4px;\n",
              "    }\n",
              "\n",
              "    [theme=dark] .colab-df-convert {\n",
              "      background-color: #3B4455;\n",
              "      fill: #D2E3FC;\n",
              "    }\n",
              "\n",
              "    [theme=dark] .colab-df-convert:hover {\n",
              "      background-color: #434B5C;\n",
              "      box-shadow: 0px 1px 3px 1px rgba(0, 0, 0, 0.15);\n",
              "      filter: drop-shadow(0px 1px 2px rgba(0, 0, 0, 0.3));\n",
              "      fill: #FFFFFF;\n",
              "    }\n",
              "  </style>\n",
              "\n",
              "    <script>\n",
              "      const buttonEl =\n",
              "        document.querySelector('#df-87d74ee2-0cbb-4207-b430-ba7ed672a8a5 button.colab-df-convert');\n",
              "      buttonEl.style.display =\n",
              "        google.colab.kernel.accessAllowed ? 'block' : 'none';\n",
              "\n",
              "      async function convertToInteractive(key) {\n",
              "        const element = document.querySelector('#df-87d74ee2-0cbb-4207-b430-ba7ed672a8a5');\n",
              "        const dataTable =\n",
              "          await google.colab.kernel.invokeFunction('convertToInteractive',\n",
              "                                                    [key], {});\n",
              "        if (!dataTable) return;\n",
              "\n",
              "        const docLinkHtml = 'Like what you see? Visit the ' +\n",
              "          '<a target=\"_blank\" href=https://colab.research.google.com/notebooks/data_table.ipynb>data table notebook</a>'\n",
              "          + ' to learn more about interactive tables.';\n",
              "        element.innerHTML = '';\n",
              "        dataTable['output_type'] = 'display_data';\n",
              "        await google.colab.output.renderOutput(dataTable, element);\n",
              "        const docLink = document.createElement('div');\n",
              "        docLink.innerHTML = docLinkHtml;\n",
              "        element.appendChild(docLink);\n",
              "      }\n",
              "    </script>\n",
              "  </div>\n",
              "\n",
              "\n",
              "<div id=\"df-2d7ff67f-6efc-4314-808b-4933a68dd5df\">\n",
              "  <button class=\"colab-df-quickchart\" onclick=\"quickchart('df-2d7ff67f-6efc-4314-808b-4933a68dd5df')\"\n",
              "            title=\"Suggest charts\"\n",
              "            style=\"display:none;\">\n",
              "\n",
              "<svg xmlns=\"http://www.w3.org/2000/svg\" height=\"24px\"viewBox=\"0 0 24 24\"\n",
              "     width=\"24px\">\n",
              "    <g>\n",
              "        <path d=\"M19 3H5c-1.1 0-2 .9-2 2v14c0 1.1.9 2 2 2h14c1.1 0 2-.9 2-2V5c0-1.1-.9-2-2-2zM9 17H7v-7h2v7zm4 0h-2V7h2v10zm4 0h-2v-4h2v4z\"/>\n",
              "    </g>\n",
              "</svg>\n",
              "  </button>\n",
              "\n",
              "<style>\n",
              "  .colab-df-quickchart {\n",
              "      --bg-color: #E8F0FE;\n",
              "      --fill-color: #1967D2;\n",
              "      --hover-bg-color: #E2EBFA;\n",
              "      --hover-fill-color: #174EA6;\n",
              "      --disabled-fill-color: #AAA;\n",
              "      --disabled-bg-color: #DDD;\n",
              "  }\n",
              "\n",
              "  [theme=dark] .colab-df-quickchart {\n",
              "      --bg-color: #3B4455;\n",
              "      --fill-color: #D2E3FC;\n",
              "      --hover-bg-color: #434B5C;\n",
              "      --hover-fill-color: #FFFFFF;\n",
              "      --disabled-bg-color: #3B4455;\n",
              "      --disabled-fill-color: #666;\n",
              "  }\n",
              "\n",
              "  .colab-df-quickchart {\n",
              "    background-color: var(--bg-color);\n",
              "    border: none;\n",
              "    border-radius: 50%;\n",
              "    cursor: pointer;\n",
              "    display: none;\n",
              "    fill: var(--fill-color);\n",
              "    height: 32px;\n",
              "    padding: 0;\n",
              "    width: 32px;\n",
              "  }\n",
              "\n",
              "  .colab-df-quickchart:hover {\n",
              "    background-color: var(--hover-bg-color);\n",
              "    box-shadow: 0 1px 2px rgba(60, 64, 67, 0.3), 0 1px 3px 1px rgba(60, 64, 67, 0.15);\n",
              "    fill: var(--button-hover-fill-color);\n",
              "  }\n",
              "\n",
              "  .colab-df-quickchart-complete:disabled,\n",
              "  .colab-df-quickchart-complete:disabled:hover {\n",
              "    background-color: var(--disabled-bg-color);\n",
              "    fill: var(--disabled-fill-color);\n",
              "    box-shadow: none;\n",
              "  }\n",
              "\n",
              "  .colab-df-spinner {\n",
              "    border: 2px solid var(--fill-color);\n",
              "    border-color: transparent;\n",
              "    border-bottom-color: var(--fill-color);\n",
              "    animation:\n",
              "      spin 1s steps(1) infinite;\n",
              "  }\n",
              "\n",
              "  @keyframes spin {\n",
              "    0% {\n",
              "      border-color: transparent;\n",
              "      border-bottom-color: var(--fill-color);\n",
              "      border-left-color: var(--fill-color);\n",
              "    }\n",
              "    20% {\n",
              "      border-color: transparent;\n",
              "      border-left-color: var(--fill-color);\n",
              "      border-top-color: var(--fill-color);\n",
              "    }\n",
              "    30% {\n",
              "      border-color: transparent;\n",
              "      border-left-color: var(--fill-color);\n",
              "      border-top-color: var(--fill-color);\n",
              "      border-right-color: var(--fill-color);\n",
              "    }\n",
              "    40% {\n",
              "      border-color: transparent;\n",
              "      border-right-color: var(--fill-color);\n",
              "      border-top-color: var(--fill-color);\n",
              "    }\n",
              "    60% {\n",
              "      border-color: transparent;\n",
              "      border-right-color: var(--fill-color);\n",
              "    }\n",
              "    80% {\n",
              "      border-color: transparent;\n",
              "      border-right-color: var(--fill-color);\n",
              "      border-bottom-color: var(--fill-color);\n",
              "    }\n",
              "    90% {\n",
              "      border-color: transparent;\n",
              "      border-bottom-color: var(--fill-color);\n",
              "    }\n",
              "  }\n",
              "</style>\n",
              "\n",
              "  <script>\n",
              "    async function quickchart(key) {\n",
              "      const quickchartButtonEl =\n",
              "        document.querySelector('#' + key + ' button');\n",
              "      quickchartButtonEl.disabled = true;  // To prevent multiple clicks.\n",
              "      quickchartButtonEl.classList.add('colab-df-spinner');\n",
              "      try {\n",
              "        const charts = await google.colab.kernel.invokeFunction(\n",
              "            'suggestCharts', [key], {});\n",
              "      } catch (error) {\n",
              "        console.error('Error during call to suggestCharts:', error);\n",
              "      }\n",
              "      quickchartButtonEl.classList.remove('colab-df-spinner');\n",
              "      quickchartButtonEl.classList.add('colab-df-quickchart-complete');\n",
              "    }\n",
              "    (() => {\n",
              "      let quickchartButtonEl =\n",
              "        document.querySelector('#df-2d7ff67f-6efc-4314-808b-4933a68dd5df button');\n",
              "      quickchartButtonEl.style.display =\n",
              "        google.colab.kernel.accessAllowed ? 'block' : 'none';\n",
              "    })();\n",
              "  </script>\n",
              "</div>\n",
              "\n",
              "    </div>\n",
              "  </div>\n"
            ],
            "application/vnd.google.colaboratory.intrinsic+json": {
              "type": "dataframe",
              "variable_name": "X_train_numeric_scaled"
            }
          },
          "metadata": {},
          "execution_count": 10
        }
      ]
    },
    {
      "cell_type": "markdown",
      "source": [
        "Looks good; let's one-hot encode the categorical variables. Since we'll be using regularization to optimize our models, we won't need to drop one of the resulting dummy variables. This will help with model interpretability."
      ],
      "metadata": {
        "id": "8zhJzKIWLY20"
      }
    },
    {
      "cell_type": "code",
      "source": [
        "from sklearn.preprocessing import OneHotEncoder\n",
        "\n",
        "ohe = OneHotEncoder(sparse_output=False)\n",
        "X_train_categorical_ohe = ohe.fit_transform(X_train_categorical)\n",
        "X_train_categorical_ohe = pd.DataFrame(X_train_categorical_ohe,\n",
        "                                       columns = ohe.get_feature_names_out(),\n",
        "                                       index = X_train_categorical.index)\n",
        "X_train_categorical_ohe.head()"
      ],
      "metadata": {
        "colab": {
          "base_uri": "https://localhost:8080/",
          "height": 273
        },
        "id": "03kmheLCIYBN",
        "outputId": "babee04e-cd68-474e-aefe-90f2243e1fd6"
      },
      "execution_count": 11,
      "outputs": [
        {
          "output_type": "execute_result",
          "data": {
            "text/plain": [
              "        WEATHER_CONDITION_BLOWING SAND, SOIL, DIRT  \\\n",
              "571273                                         0.0   \n",
              "751169                                         0.0   \n",
              "43397                                          0.0   \n",
              "847787                                         0.0   \n",
              "542731                                         0.0   \n",
              "\n",
              "        WEATHER_CONDITION_BLOWING SNOW  WEATHER_CONDITION_CLEAR  \\\n",
              "571273                             0.0                      1.0   \n",
              "751169                             0.0                      1.0   \n",
              "43397                              0.0                      1.0   \n",
              "847787                             0.0                      1.0   \n",
              "542731                             0.0                      1.0   \n",
              "\n",
              "        WEATHER_CONDITION_CLOUDY/OVERCAST  WEATHER_CONDITION_FOG/SMOKE/HAZE  \\\n",
              "571273                                0.0                               0.0   \n",
              "751169                                0.0                               0.0   \n",
              "43397                                 0.0                               0.0   \n",
              "847787                                0.0                               0.0   \n",
              "542731                                0.0                               0.0   \n",
              "\n",
              "        WEATHER_CONDITION_FREEZING RAIN/DRIZZLE  WEATHER_CONDITION_RAIN  \\\n",
              "571273                                      0.0                     0.0   \n",
              "751169                                      0.0                     0.0   \n",
              "43397                                       0.0                     0.0   \n",
              "847787                                      0.0                     0.0   \n",
              "542731                                      0.0                     0.0   \n",
              "\n",
              "        WEATHER_CONDITION_SEVERE CROSS WIND GATE  \\\n",
              "571273                                       0.0   \n",
              "751169                                       0.0   \n",
              "43397                                        0.0   \n",
              "847787                                       0.0   \n",
              "542731                                       0.0   \n",
              "\n",
              "        WEATHER_CONDITION_SLEET/HAIL  WEATHER_CONDITION_SNOW  ...  \\\n",
              "571273                           0.0                     0.0  ...   \n",
              "751169                           0.0                     0.0  ...   \n",
              "43397                            0.0                     0.0  ...   \n",
              "847787                           0.0                     0.0  ...   \n",
              "542731                           0.0                     0.0  ...   \n",
              "\n",
              "        MANEUVER_SKIDDING/CONTROL LOSS  MANEUVER_SLOW/STOP - LEFT TURN  \\\n",
              "571273                             0.0                             0.0   \n",
              "751169                             0.0                             0.0   \n",
              "43397                              0.0                             0.0   \n",
              "847787                             0.0                             0.0   \n",
              "542731                             0.0                             0.0   \n",
              "\n",
              "        MANEUVER_SLOW/STOP - LOAD/UNLOAD  MANEUVER_SLOW/STOP - RIGHT TURN  \\\n",
              "571273                               0.0                              0.0   \n",
              "751169                               0.0                              0.0   \n",
              "43397                                0.0                              0.0   \n",
              "847787                               0.0                              0.0   \n",
              "542731                               0.0                              0.0   \n",
              "\n",
              "        MANEUVER_SLOW/STOP IN TRAFFIC  MANEUVER_STARTING IN TRAFFIC  \\\n",
              "571273                            1.0                           0.0   \n",
              "751169                            1.0                           0.0   \n",
              "43397                             0.0                           0.0   \n",
              "847787                            0.0                           0.0   \n",
              "542731                            0.0                           0.0   \n",
              "\n",
              "        MANEUVER_STRAIGHT AHEAD  MANEUVER_TURNING LEFT  \\\n",
              "571273                      0.0                    0.0   \n",
              "751169                      0.0                    0.0   \n",
              "43397                       1.0                    0.0   \n",
              "847787                      1.0                    0.0   \n",
              "542731                      1.0                    0.0   \n",
              "\n",
              "        MANEUVER_TURNING RIGHT  MANEUVER_U-TURN  \n",
              "571273                     0.0              0.0  \n",
              "751169                     0.0              0.0  \n",
              "43397                      0.0              0.0  \n",
              "847787                     0.0              0.0  \n",
              "542731                     0.0              0.0  \n",
              "\n",
              "[5 rows x 63 columns]"
            ],
            "text/html": [
              "\n",
              "  <div id=\"df-5a741eed-c34a-4c39-8b2a-2fcef6be657d\" class=\"colab-df-container\">\n",
              "    <div>\n",
              "<style scoped>\n",
              "    .dataframe tbody tr th:only-of-type {\n",
              "        vertical-align: middle;\n",
              "    }\n",
              "\n",
              "    .dataframe tbody tr th {\n",
              "        vertical-align: top;\n",
              "    }\n",
              "\n",
              "    .dataframe thead th {\n",
              "        text-align: right;\n",
              "    }\n",
              "</style>\n",
              "<table border=\"1\" class=\"dataframe\">\n",
              "  <thead>\n",
              "    <tr style=\"text-align: right;\">\n",
              "      <th></th>\n",
              "      <th>WEATHER_CONDITION_BLOWING SAND, SOIL, DIRT</th>\n",
              "      <th>WEATHER_CONDITION_BLOWING SNOW</th>\n",
              "      <th>WEATHER_CONDITION_CLEAR</th>\n",
              "      <th>WEATHER_CONDITION_CLOUDY/OVERCAST</th>\n",
              "      <th>WEATHER_CONDITION_FOG/SMOKE/HAZE</th>\n",
              "      <th>WEATHER_CONDITION_FREEZING RAIN/DRIZZLE</th>\n",
              "      <th>WEATHER_CONDITION_RAIN</th>\n",
              "      <th>WEATHER_CONDITION_SEVERE CROSS WIND GATE</th>\n",
              "      <th>WEATHER_CONDITION_SLEET/HAIL</th>\n",
              "      <th>WEATHER_CONDITION_SNOW</th>\n",
              "      <th>...</th>\n",
              "      <th>MANEUVER_SKIDDING/CONTROL LOSS</th>\n",
              "      <th>MANEUVER_SLOW/STOP - LEFT TURN</th>\n",
              "      <th>MANEUVER_SLOW/STOP - LOAD/UNLOAD</th>\n",
              "      <th>MANEUVER_SLOW/STOP - RIGHT TURN</th>\n",
              "      <th>MANEUVER_SLOW/STOP IN TRAFFIC</th>\n",
              "      <th>MANEUVER_STARTING IN TRAFFIC</th>\n",
              "      <th>MANEUVER_STRAIGHT AHEAD</th>\n",
              "      <th>MANEUVER_TURNING LEFT</th>\n",
              "      <th>MANEUVER_TURNING RIGHT</th>\n",
              "      <th>MANEUVER_U-TURN</th>\n",
              "    </tr>\n",
              "  </thead>\n",
              "  <tbody>\n",
              "    <tr>\n",
              "      <th>571273</th>\n",
              "      <td>0.0</td>\n",
              "      <td>0.0</td>\n",
              "      <td>1.0</td>\n",
              "      <td>0.0</td>\n",
              "      <td>0.0</td>\n",
              "      <td>0.0</td>\n",
              "      <td>0.0</td>\n",
              "      <td>0.0</td>\n",
              "      <td>0.0</td>\n",
              "      <td>0.0</td>\n",
              "      <td>...</td>\n",
              "      <td>0.0</td>\n",
              "      <td>0.0</td>\n",
              "      <td>0.0</td>\n",
              "      <td>0.0</td>\n",
              "      <td>1.0</td>\n",
              "      <td>0.0</td>\n",
              "      <td>0.0</td>\n",
              "      <td>0.0</td>\n",
              "      <td>0.0</td>\n",
              "      <td>0.0</td>\n",
              "    </tr>\n",
              "    <tr>\n",
              "      <th>751169</th>\n",
              "      <td>0.0</td>\n",
              "      <td>0.0</td>\n",
              "      <td>1.0</td>\n",
              "      <td>0.0</td>\n",
              "      <td>0.0</td>\n",
              "      <td>0.0</td>\n",
              "      <td>0.0</td>\n",
              "      <td>0.0</td>\n",
              "      <td>0.0</td>\n",
              "      <td>0.0</td>\n",
              "      <td>...</td>\n",
              "      <td>0.0</td>\n",
              "      <td>0.0</td>\n",
              "      <td>0.0</td>\n",
              "      <td>0.0</td>\n",
              "      <td>1.0</td>\n",
              "      <td>0.0</td>\n",
              "      <td>0.0</td>\n",
              "      <td>0.0</td>\n",
              "      <td>0.0</td>\n",
              "      <td>0.0</td>\n",
              "    </tr>\n",
              "    <tr>\n",
              "      <th>43397</th>\n",
              "      <td>0.0</td>\n",
              "      <td>0.0</td>\n",
              "      <td>1.0</td>\n",
              "      <td>0.0</td>\n",
              "      <td>0.0</td>\n",
              "      <td>0.0</td>\n",
              "      <td>0.0</td>\n",
              "      <td>0.0</td>\n",
              "      <td>0.0</td>\n",
              "      <td>0.0</td>\n",
              "      <td>...</td>\n",
              "      <td>0.0</td>\n",
              "      <td>0.0</td>\n",
              "      <td>0.0</td>\n",
              "      <td>0.0</td>\n",
              "      <td>0.0</td>\n",
              "      <td>0.0</td>\n",
              "      <td>1.0</td>\n",
              "      <td>0.0</td>\n",
              "      <td>0.0</td>\n",
              "      <td>0.0</td>\n",
              "    </tr>\n",
              "    <tr>\n",
              "      <th>847787</th>\n",
              "      <td>0.0</td>\n",
              "      <td>0.0</td>\n",
              "      <td>1.0</td>\n",
              "      <td>0.0</td>\n",
              "      <td>0.0</td>\n",
              "      <td>0.0</td>\n",
              "      <td>0.0</td>\n",
              "      <td>0.0</td>\n",
              "      <td>0.0</td>\n",
              "      <td>0.0</td>\n",
              "      <td>...</td>\n",
              "      <td>0.0</td>\n",
              "      <td>0.0</td>\n",
              "      <td>0.0</td>\n",
              "      <td>0.0</td>\n",
              "      <td>0.0</td>\n",
              "      <td>0.0</td>\n",
              "      <td>1.0</td>\n",
              "      <td>0.0</td>\n",
              "      <td>0.0</td>\n",
              "      <td>0.0</td>\n",
              "    </tr>\n",
              "    <tr>\n",
              "      <th>542731</th>\n",
              "      <td>0.0</td>\n",
              "      <td>0.0</td>\n",
              "      <td>1.0</td>\n",
              "      <td>0.0</td>\n",
              "      <td>0.0</td>\n",
              "      <td>0.0</td>\n",
              "      <td>0.0</td>\n",
              "      <td>0.0</td>\n",
              "      <td>0.0</td>\n",
              "      <td>0.0</td>\n",
              "      <td>...</td>\n",
              "      <td>0.0</td>\n",
              "      <td>0.0</td>\n",
              "      <td>0.0</td>\n",
              "      <td>0.0</td>\n",
              "      <td>0.0</td>\n",
              "      <td>0.0</td>\n",
              "      <td>1.0</td>\n",
              "      <td>0.0</td>\n",
              "      <td>0.0</td>\n",
              "      <td>0.0</td>\n",
              "    </tr>\n",
              "  </tbody>\n",
              "</table>\n",
              "<p>5 rows × 63 columns</p>\n",
              "</div>\n",
              "    <div class=\"colab-df-buttons\">\n",
              "\n",
              "  <div class=\"colab-df-container\">\n",
              "    <button class=\"colab-df-convert\" onclick=\"convertToInteractive('df-5a741eed-c34a-4c39-8b2a-2fcef6be657d')\"\n",
              "            title=\"Convert this dataframe to an interactive table.\"\n",
              "            style=\"display:none;\">\n",
              "\n",
              "  <svg xmlns=\"http://www.w3.org/2000/svg\" height=\"24px\" viewBox=\"0 -960 960 960\">\n",
              "    <path d=\"M120-120v-720h720v720H120Zm60-500h600v-160H180v160Zm220 220h160v-160H400v160Zm0 220h160v-160H400v160ZM180-400h160v-160H180v160Zm440 0h160v-160H620v160ZM180-180h160v-160H180v160Zm440 0h160v-160H620v160Z\"/>\n",
              "  </svg>\n",
              "    </button>\n",
              "\n",
              "  <style>\n",
              "    .colab-df-container {\n",
              "      display:flex;\n",
              "      gap: 12px;\n",
              "    }\n",
              "\n",
              "    .colab-df-convert {\n",
              "      background-color: #E8F0FE;\n",
              "      border: none;\n",
              "      border-radius: 50%;\n",
              "      cursor: pointer;\n",
              "      display: none;\n",
              "      fill: #1967D2;\n",
              "      height: 32px;\n",
              "      padding: 0 0 0 0;\n",
              "      width: 32px;\n",
              "    }\n",
              "\n",
              "    .colab-df-convert:hover {\n",
              "      background-color: #E2EBFA;\n",
              "      box-shadow: 0px 1px 2px rgba(60, 64, 67, 0.3), 0px 1px 3px 1px rgba(60, 64, 67, 0.15);\n",
              "      fill: #174EA6;\n",
              "    }\n",
              "\n",
              "    .colab-df-buttons div {\n",
              "      margin-bottom: 4px;\n",
              "    }\n",
              "\n",
              "    [theme=dark] .colab-df-convert {\n",
              "      background-color: #3B4455;\n",
              "      fill: #D2E3FC;\n",
              "    }\n",
              "\n",
              "    [theme=dark] .colab-df-convert:hover {\n",
              "      background-color: #434B5C;\n",
              "      box-shadow: 0px 1px 3px 1px rgba(0, 0, 0, 0.15);\n",
              "      filter: drop-shadow(0px 1px 2px rgba(0, 0, 0, 0.3));\n",
              "      fill: #FFFFFF;\n",
              "    }\n",
              "  </style>\n",
              "\n",
              "    <script>\n",
              "      const buttonEl =\n",
              "        document.querySelector('#df-5a741eed-c34a-4c39-8b2a-2fcef6be657d button.colab-df-convert');\n",
              "      buttonEl.style.display =\n",
              "        google.colab.kernel.accessAllowed ? 'block' : 'none';\n",
              "\n",
              "      async function convertToInteractive(key) {\n",
              "        const element = document.querySelector('#df-5a741eed-c34a-4c39-8b2a-2fcef6be657d');\n",
              "        const dataTable =\n",
              "          await google.colab.kernel.invokeFunction('convertToInteractive',\n",
              "                                                    [key], {});\n",
              "        if (!dataTable) return;\n",
              "\n",
              "        const docLinkHtml = 'Like what you see? Visit the ' +\n",
              "          '<a target=\"_blank\" href=https://colab.research.google.com/notebooks/data_table.ipynb>data table notebook</a>'\n",
              "          + ' to learn more about interactive tables.';\n",
              "        element.innerHTML = '';\n",
              "        dataTable['output_type'] = 'display_data';\n",
              "        await google.colab.output.renderOutput(dataTable, element);\n",
              "        const docLink = document.createElement('div');\n",
              "        docLink.innerHTML = docLinkHtml;\n",
              "        element.appendChild(docLink);\n",
              "      }\n",
              "    </script>\n",
              "  </div>\n",
              "\n",
              "\n",
              "<div id=\"df-a22de9fb-b8ec-48e8-b7c8-1ce122c3f0ec\">\n",
              "  <button class=\"colab-df-quickchart\" onclick=\"quickchart('df-a22de9fb-b8ec-48e8-b7c8-1ce122c3f0ec')\"\n",
              "            title=\"Suggest charts\"\n",
              "            style=\"display:none;\">\n",
              "\n",
              "<svg xmlns=\"http://www.w3.org/2000/svg\" height=\"24px\"viewBox=\"0 0 24 24\"\n",
              "     width=\"24px\">\n",
              "    <g>\n",
              "        <path d=\"M19 3H5c-1.1 0-2 .9-2 2v14c0 1.1.9 2 2 2h14c1.1 0 2-.9 2-2V5c0-1.1-.9-2-2-2zM9 17H7v-7h2v7zm4 0h-2V7h2v10zm4 0h-2v-4h2v4z\"/>\n",
              "    </g>\n",
              "</svg>\n",
              "  </button>\n",
              "\n",
              "<style>\n",
              "  .colab-df-quickchart {\n",
              "      --bg-color: #E8F0FE;\n",
              "      --fill-color: #1967D2;\n",
              "      --hover-bg-color: #E2EBFA;\n",
              "      --hover-fill-color: #174EA6;\n",
              "      --disabled-fill-color: #AAA;\n",
              "      --disabled-bg-color: #DDD;\n",
              "  }\n",
              "\n",
              "  [theme=dark] .colab-df-quickchart {\n",
              "      --bg-color: #3B4455;\n",
              "      --fill-color: #D2E3FC;\n",
              "      --hover-bg-color: #434B5C;\n",
              "      --hover-fill-color: #FFFFFF;\n",
              "      --disabled-bg-color: #3B4455;\n",
              "      --disabled-fill-color: #666;\n",
              "  }\n",
              "\n",
              "  .colab-df-quickchart {\n",
              "    background-color: var(--bg-color);\n",
              "    border: none;\n",
              "    border-radius: 50%;\n",
              "    cursor: pointer;\n",
              "    display: none;\n",
              "    fill: var(--fill-color);\n",
              "    height: 32px;\n",
              "    padding: 0;\n",
              "    width: 32px;\n",
              "  }\n",
              "\n",
              "  .colab-df-quickchart:hover {\n",
              "    background-color: var(--hover-bg-color);\n",
              "    box-shadow: 0 1px 2px rgba(60, 64, 67, 0.3), 0 1px 3px 1px rgba(60, 64, 67, 0.15);\n",
              "    fill: var(--button-hover-fill-color);\n",
              "  }\n",
              "\n",
              "  .colab-df-quickchart-complete:disabled,\n",
              "  .colab-df-quickchart-complete:disabled:hover {\n",
              "    background-color: var(--disabled-bg-color);\n",
              "    fill: var(--disabled-fill-color);\n",
              "    box-shadow: none;\n",
              "  }\n",
              "\n",
              "  .colab-df-spinner {\n",
              "    border: 2px solid var(--fill-color);\n",
              "    border-color: transparent;\n",
              "    border-bottom-color: var(--fill-color);\n",
              "    animation:\n",
              "      spin 1s steps(1) infinite;\n",
              "  }\n",
              "\n",
              "  @keyframes spin {\n",
              "    0% {\n",
              "      border-color: transparent;\n",
              "      border-bottom-color: var(--fill-color);\n",
              "      border-left-color: var(--fill-color);\n",
              "    }\n",
              "    20% {\n",
              "      border-color: transparent;\n",
              "      border-left-color: var(--fill-color);\n",
              "      border-top-color: var(--fill-color);\n",
              "    }\n",
              "    30% {\n",
              "      border-color: transparent;\n",
              "      border-left-color: var(--fill-color);\n",
              "      border-top-color: var(--fill-color);\n",
              "      border-right-color: var(--fill-color);\n",
              "    }\n",
              "    40% {\n",
              "      border-color: transparent;\n",
              "      border-right-color: var(--fill-color);\n",
              "      border-top-color: var(--fill-color);\n",
              "    }\n",
              "    60% {\n",
              "      border-color: transparent;\n",
              "      border-right-color: var(--fill-color);\n",
              "    }\n",
              "    80% {\n",
              "      border-color: transparent;\n",
              "      border-right-color: var(--fill-color);\n",
              "      border-bottom-color: var(--fill-color);\n",
              "    }\n",
              "    90% {\n",
              "      border-color: transparent;\n",
              "      border-bottom-color: var(--fill-color);\n",
              "    }\n",
              "  }\n",
              "</style>\n",
              "\n",
              "  <script>\n",
              "    async function quickchart(key) {\n",
              "      const quickchartButtonEl =\n",
              "        document.querySelector('#' + key + ' button');\n",
              "      quickchartButtonEl.disabled = true;  // To prevent multiple clicks.\n",
              "      quickchartButtonEl.classList.add('colab-df-spinner');\n",
              "      try {\n",
              "        const charts = await google.colab.kernel.invokeFunction(\n",
              "            'suggestCharts', [key], {});\n",
              "      } catch (error) {\n",
              "        console.error('Error during call to suggestCharts:', error);\n",
              "      }\n",
              "      quickchartButtonEl.classList.remove('colab-df-spinner');\n",
              "      quickchartButtonEl.classList.add('colab-df-quickchart-complete');\n",
              "    }\n",
              "    (() => {\n",
              "      let quickchartButtonEl =\n",
              "        document.querySelector('#df-a22de9fb-b8ec-48e8-b7c8-1ce122c3f0ec button');\n",
              "      quickchartButtonEl.style.display =\n",
              "        google.colab.kernel.accessAllowed ? 'block' : 'none';\n",
              "    })();\n",
              "  </script>\n",
              "</div>\n",
              "\n",
              "    </div>\n",
              "  </div>\n"
            ],
            "application/vnd.google.colaboratory.intrinsic+json": {
              "type": "dataframe",
              "variable_name": "X_train_categorical_ohe"
            }
          },
          "metadata": {},
          "execution_count": 11
        }
      ]
    },
    {
      "cell_type": "code",
      "source": [
        "X_train_categorical_ohe.info()"
      ],
      "metadata": {
        "colab": {
          "base_uri": "https://localhost:8080/"
        },
        "id": "DuJ7023AM9Sf",
        "outputId": "f16d9af6-a302-49a5-d691-0ab590faef44"
      },
      "execution_count": 12,
      "outputs": [
        {
          "output_type": "stream",
          "name": "stdout",
          "text": [
            "<class 'pandas.core.frame.DataFrame'>\n",
            "Index: 707817 entries, 571273 to 303626\n",
            "Data columns (total 63 columns):\n",
            " #   Column                                       Non-Null Count   Dtype  \n",
            "---  ------                                       --------------   -----  \n",
            " 0   WEATHER_CONDITION_BLOWING SAND, SOIL, DIRT   707817 non-null  float64\n",
            " 1   WEATHER_CONDITION_BLOWING SNOW               707817 non-null  float64\n",
            " 2   WEATHER_CONDITION_CLEAR                      707817 non-null  float64\n",
            " 3   WEATHER_CONDITION_CLOUDY/OVERCAST            707817 non-null  float64\n",
            " 4   WEATHER_CONDITION_FOG/SMOKE/HAZE             707817 non-null  float64\n",
            " 5   WEATHER_CONDITION_FREEZING RAIN/DRIZZLE      707817 non-null  float64\n",
            " 6   WEATHER_CONDITION_RAIN                       707817 non-null  float64\n",
            " 7   WEATHER_CONDITION_SEVERE CROSS WIND GATE     707817 non-null  float64\n",
            " 8   WEATHER_CONDITION_SLEET/HAIL                 707817 non-null  float64\n",
            " 9   WEATHER_CONDITION_SNOW                       707817 non-null  float64\n",
            " 10  LIGHTING_CONDITION_DARKNESS                  707817 non-null  float64\n",
            " 11  LIGHTING_CONDITION_DARKNESS, LIGHTED ROAD    707817 non-null  float64\n",
            " 12  LIGHTING_CONDITION_DAWN                      707817 non-null  float64\n",
            " 13  LIGHTING_CONDITION_DAYLIGHT                  707817 non-null  float64\n",
            " 14  LIGHTING_CONDITION_DUSK                      707817 non-null  float64\n",
            " 15  ROADWAY_SURFACE_COND_DRY                     707817 non-null  float64\n",
            " 16  ROADWAY_SURFACE_COND_ICE                     707817 non-null  float64\n",
            " 17  ROADWAY_SURFACE_COND_SNOW OR SLUSH           707817 non-null  float64\n",
            " 18  ROADWAY_SURFACE_COND_WET                     707817 non-null  float64\n",
            " 19  CRASH_DAY_OF_WEEK_1                          707817 non-null  float64\n",
            " 20  CRASH_DAY_OF_WEEK_2                          707817 non-null  float64\n",
            " 21  CRASH_DAY_OF_WEEK_3                          707817 non-null  float64\n",
            " 22  CRASH_DAY_OF_WEEK_4                          707817 non-null  float64\n",
            " 23  CRASH_DAY_OF_WEEK_5                          707817 non-null  float64\n",
            " 24  CRASH_DAY_OF_WEEK_6                          707817 non-null  float64\n",
            " 25  CRASH_DAY_OF_WEEK_7                          707817 non-null  float64\n",
            " 26  PERSON_TYPE_BICYCLE                          707817 non-null  float64\n",
            " 27  PERSON_TYPE_DRIVER                           707817 non-null  float64\n",
            " 28  PERSON_TYPE_NON-CONTACT VEHICLE              707817 non-null  float64\n",
            " 29  PERSON_TYPE_PEDESTRIAN                       707817 non-null  float64\n",
            " 30  SEX_F                                        707817 non-null  float64\n",
            " 31  SEX_M                                        707817 non-null  float64\n",
            " 32  SEX_X                                        707817 non-null  float64\n",
            " 33  TRAVEL_DIRECTION_E                           707817 non-null  float64\n",
            " 34  TRAVEL_DIRECTION_N                           707817 non-null  float64\n",
            " 35  TRAVEL_DIRECTION_NE                          707817 non-null  float64\n",
            " 36  TRAVEL_DIRECTION_NW                          707817 non-null  float64\n",
            " 37  TRAVEL_DIRECTION_S                           707817 non-null  float64\n",
            " 38  TRAVEL_DIRECTION_SE                          707817 non-null  float64\n",
            " 39  TRAVEL_DIRECTION_SW                          707817 non-null  float64\n",
            " 40  TRAVEL_DIRECTION_W                           707817 non-null  float64\n",
            " 41  MANEUVER_AVOIDING VEHICLES/OBJECTS           707817 non-null  float64\n",
            " 42  MANEUVER_BACKING                             707817 non-null  float64\n",
            " 43  MANEUVER_CHANGING LANES                      707817 non-null  float64\n",
            " 44  MANEUVER_DRIVING WRONG WAY                   707817 non-null  float64\n",
            " 45  MANEUVER_ENTER FROM DRIVE/ALLEY              707817 non-null  float64\n",
            " 46  MANEUVER_ENTERING TRAFFIC LANE FROM PARKING  707817 non-null  float64\n",
            " 47  MANEUVER_LEAVING TRAFFIC LANE TO PARK        707817 non-null  float64\n",
            " 48  MANEUVER_MERGING                             707817 non-null  float64\n",
            " 49  MANEUVER_NEGOTIATING A CURVE                 707817 non-null  float64\n",
            " 50  MANEUVER_PARKED                              707817 non-null  float64\n",
            " 51  MANEUVER_PARKED IN TRAFFIC LANE              707817 non-null  float64\n",
            " 52  MANEUVER_PASSING/OVERTAKING                  707817 non-null  float64\n",
            " 53  MANEUVER_SKIDDING/CONTROL LOSS               707817 non-null  float64\n",
            " 54  MANEUVER_SLOW/STOP - LEFT TURN               707817 non-null  float64\n",
            " 55  MANEUVER_SLOW/STOP - LOAD/UNLOAD             707817 non-null  float64\n",
            " 56  MANEUVER_SLOW/STOP - RIGHT TURN              707817 non-null  float64\n",
            " 57  MANEUVER_SLOW/STOP IN TRAFFIC                707817 non-null  float64\n",
            " 58  MANEUVER_STARTING IN TRAFFIC                 707817 non-null  float64\n",
            " 59  MANEUVER_STRAIGHT AHEAD                      707817 non-null  float64\n",
            " 60  MANEUVER_TURNING LEFT                        707817 non-null  float64\n",
            " 61  MANEUVER_TURNING RIGHT                       707817 non-null  float64\n",
            " 62  MANEUVER_U-TURN                              707817 non-null  float64\n",
            "dtypes: float64(63)\n",
            "memory usage: 345.6 MB\n"
          ]
        }
      ]
    },
    {
      "cell_type": "code",
      "source": [
        "X_train_preprocessed = pd.concat([X_train_numeric_scaled, X_train_categorical_ohe], axis=1)\n",
        "X_train_preprocessed.head()"
      ],
      "metadata": {
        "colab": {
          "base_uri": "https://localhost:8080/",
          "height": 273
        },
        "id": "s_d56OcgQZpa",
        "outputId": "932814fe-0b52-4112-87e8-b0fdcdeb07db"
      },
      "execution_count": 13,
      "outputs": [
        {
          "output_type": "execute_result",
          "data": {
            "text/plain": [
              "        POSTED_SPEED_LIMIT  NUM_UNITS  CRASH_HOUR  LATITUDE  LONGITUDE  \\\n",
              "571273            0.132509   1.141696   -1.013182  0.107484  -0.085609   \n",
              "751169            0.132509  -0.333483   -1.013182 -0.112652  -0.012405   \n",
              "43397             0.132509   1.141696   -2.335921 -0.233132   0.113552   \n",
              "847787            0.132509  -0.333483    1.254371  0.310612  -0.137801   \n",
              "542731            0.132509  -0.333483   -0.068368  0.106912   0.022791   \n",
              "\n",
              "             AGE  WEATHER_CONDITION_BLOWING SAND, SOIL, DIRT  \\\n",
              "571273 -1.109211                                         0.0   \n",
              "751169  0.459883                                         0.0   \n",
              "43397  -1.046447                                         0.0   \n",
              "847787 -1.485793                                         0.0   \n",
              "542731  0.397120                                         0.0   \n",
              "\n",
              "        WEATHER_CONDITION_BLOWING SNOW  WEATHER_CONDITION_CLEAR  \\\n",
              "571273                             0.0                      1.0   \n",
              "751169                             0.0                      1.0   \n",
              "43397                              0.0                      1.0   \n",
              "847787                             0.0                      1.0   \n",
              "542731                             0.0                      1.0   \n",
              "\n",
              "        WEATHER_CONDITION_CLOUDY/OVERCAST  ...  \\\n",
              "571273                                0.0  ...   \n",
              "751169                                0.0  ...   \n",
              "43397                                 0.0  ...   \n",
              "847787                                0.0  ...   \n",
              "542731                                0.0  ...   \n",
              "\n",
              "        MANEUVER_SKIDDING/CONTROL LOSS  MANEUVER_SLOW/STOP - LEFT TURN  \\\n",
              "571273                             0.0                             0.0   \n",
              "751169                             0.0                             0.0   \n",
              "43397                              0.0                             0.0   \n",
              "847787                             0.0                             0.0   \n",
              "542731                             0.0                             0.0   \n",
              "\n",
              "        MANEUVER_SLOW/STOP - LOAD/UNLOAD  MANEUVER_SLOW/STOP - RIGHT TURN  \\\n",
              "571273                               0.0                              0.0   \n",
              "751169                               0.0                              0.0   \n",
              "43397                                0.0                              0.0   \n",
              "847787                               0.0                              0.0   \n",
              "542731                               0.0                              0.0   \n",
              "\n",
              "        MANEUVER_SLOW/STOP IN TRAFFIC  MANEUVER_STARTING IN TRAFFIC  \\\n",
              "571273                            1.0                           0.0   \n",
              "751169                            1.0                           0.0   \n",
              "43397                             0.0                           0.0   \n",
              "847787                            0.0                           0.0   \n",
              "542731                            0.0                           0.0   \n",
              "\n",
              "        MANEUVER_STRAIGHT AHEAD  MANEUVER_TURNING LEFT  \\\n",
              "571273                      0.0                    0.0   \n",
              "751169                      0.0                    0.0   \n",
              "43397                       1.0                    0.0   \n",
              "847787                      1.0                    0.0   \n",
              "542731                      1.0                    0.0   \n",
              "\n",
              "        MANEUVER_TURNING RIGHT  MANEUVER_U-TURN  \n",
              "571273                     0.0              0.0  \n",
              "751169                     0.0              0.0  \n",
              "43397                      0.0              0.0  \n",
              "847787                     0.0              0.0  \n",
              "542731                     0.0              0.0  \n",
              "\n",
              "[5 rows x 69 columns]"
            ],
            "text/html": [
              "\n",
              "  <div id=\"df-3f5e5913-2f3e-493b-aca9-75cc36a2c04f\" class=\"colab-df-container\">\n",
              "    <div>\n",
              "<style scoped>\n",
              "    .dataframe tbody tr th:only-of-type {\n",
              "        vertical-align: middle;\n",
              "    }\n",
              "\n",
              "    .dataframe tbody tr th {\n",
              "        vertical-align: top;\n",
              "    }\n",
              "\n",
              "    .dataframe thead th {\n",
              "        text-align: right;\n",
              "    }\n",
              "</style>\n",
              "<table border=\"1\" class=\"dataframe\">\n",
              "  <thead>\n",
              "    <tr style=\"text-align: right;\">\n",
              "      <th></th>\n",
              "      <th>POSTED_SPEED_LIMIT</th>\n",
              "      <th>NUM_UNITS</th>\n",
              "      <th>CRASH_HOUR</th>\n",
              "      <th>LATITUDE</th>\n",
              "      <th>LONGITUDE</th>\n",
              "      <th>AGE</th>\n",
              "      <th>WEATHER_CONDITION_BLOWING SAND, SOIL, DIRT</th>\n",
              "      <th>WEATHER_CONDITION_BLOWING SNOW</th>\n",
              "      <th>WEATHER_CONDITION_CLEAR</th>\n",
              "      <th>WEATHER_CONDITION_CLOUDY/OVERCAST</th>\n",
              "      <th>...</th>\n",
              "      <th>MANEUVER_SKIDDING/CONTROL LOSS</th>\n",
              "      <th>MANEUVER_SLOW/STOP - LEFT TURN</th>\n",
              "      <th>MANEUVER_SLOW/STOP - LOAD/UNLOAD</th>\n",
              "      <th>MANEUVER_SLOW/STOP - RIGHT TURN</th>\n",
              "      <th>MANEUVER_SLOW/STOP IN TRAFFIC</th>\n",
              "      <th>MANEUVER_STARTING IN TRAFFIC</th>\n",
              "      <th>MANEUVER_STRAIGHT AHEAD</th>\n",
              "      <th>MANEUVER_TURNING LEFT</th>\n",
              "      <th>MANEUVER_TURNING RIGHT</th>\n",
              "      <th>MANEUVER_U-TURN</th>\n",
              "    </tr>\n",
              "  </thead>\n",
              "  <tbody>\n",
              "    <tr>\n",
              "      <th>571273</th>\n",
              "      <td>0.132509</td>\n",
              "      <td>1.141696</td>\n",
              "      <td>-1.013182</td>\n",
              "      <td>0.107484</td>\n",
              "      <td>-0.085609</td>\n",
              "      <td>-1.109211</td>\n",
              "      <td>0.0</td>\n",
              "      <td>0.0</td>\n",
              "      <td>1.0</td>\n",
              "      <td>0.0</td>\n",
              "      <td>...</td>\n",
              "      <td>0.0</td>\n",
              "      <td>0.0</td>\n",
              "      <td>0.0</td>\n",
              "      <td>0.0</td>\n",
              "      <td>1.0</td>\n",
              "      <td>0.0</td>\n",
              "      <td>0.0</td>\n",
              "      <td>0.0</td>\n",
              "      <td>0.0</td>\n",
              "      <td>0.0</td>\n",
              "    </tr>\n",
              "    <tr>\n",
              "      <th>751169</th>\n",
              "      <td>0.132509</td>\n",
              "      <td>-0.333483</td>\n",
              "      <td>-1.013182</td>\n",
              "      <td>-0.112652</td>\n",
              "      <td>-0.012405</td>\n",
              "      <td>0.459883</td>\n",
              "      <td>0.0</td>\n",
              "      <td>0.0</td>\n",
              "      <td>1.0</td>\n",
              "      <td>0.0</td>\n",
              "      <td>...</td>\n",
              "      <td>0.0</td>\n",
              "      <td>0.0</td>\n",
              "      <td>0.0</td>\n",
              "      <td>0.0</td>\n",
              "      <td>1.0</td>\n",
              "      <td>0.0</td>\n",
              "      <td>0.0</td>\n",
              "      <td>0.0</td>\n",
              "      <td>0.0</td>\n",
              "      <td>0.0</td>\n",
              "    </tr>\n",
              "    <tr>\n",
              "      <th>43397</th>\n",
              "      <td>0.132509</td>\n",
              "      <td>1.141696</td>\n",
              "      <td>-2.335921</td>\n",
              "      <td>-0.233132</td>\n",
              "      <td>0.113552</td>\n",
              "      <td>-1.046447</td>\n",
              "      <td>0.0</td>\n",
              "      <td>0.0</td>\n",
              "      <td>1.0</td>\n",
              "      <td>0.0</td>\n",
              "      <td>...</td>\n",
              "      <td>0.0</td>\n",
              "      <td>0.0</td>\n",
              "      <td>0.0</td>\n",
              "      <td>0.0</td>\n",
              "      <td>0.0</td>\n",
              "      <td>0.0</td>\n",
              "      <td>1.0</td>\n",
              "      <td>0.0</td>\n",
              "      <td>0.0</td>\n",
              "      <td>0.0</td>\n",
              "    </tr>\n",
              "    <tr>\n",
              "      <th>847787</th>\n",
              "      <td>0.132509</td>\n",
              "      <td>-0.333483</td>\n",
              "      <td>1.254371</td>\n",
              "      <td>0.310612</td>\n",
              "      <td>-0.137801</td>\n",
              "      <td>-1.485793</td>\n",
              "      <td>0.0</td>\n",
              "      <td>0.0</td>\n",
              "      <td>1.0</td>\n",
              "      <td>0.0</td>\n",
              "      <td>...</td>\n",
              "      <td>0.0</td>\n",
              "      <td>0.0</td>\n",
              "      <td>0.0</td>\n",
              "      <td>0.0</td>\n",
              "      <td>0.0</td>\n",
              "      <td>0.0</td>\n",
              "      <td>1.0</td>\n",
              "      <td>0.0</td>\n",
              "      <td>0.0</td>\n",
              "      <td>0.0</td>\n",
              "    </tr>\n",
              "    <tr>\n",
              "      <th>542731</th>\n",
              "      <td>0.132509</td>\n",
              "      <td>-0.333483</td>\n",
              "      <td>-0.068368</td>\n",
              "      <td>0.106912</td>\n",
              "      <td>0.022791</td>\n",
              "      <td>0.397120</td>\n",
              "      <td>0.0</td>\n",
              "      <td>0.0</td>\n",
              "      <td>1.0</td>\n",
              "      <td>0.0</td>\n",
              "      <td>...</td>\n",
              "      <td>0.0</td>\n",
              "      <td>0.0</td>\n",
              "      <td>0.0</td>\n",
              "      <td>0.0</td>\n",
              "      <td>0.0</td>\n",
              "      <td>0.0</td>\n",
              "      <td>1.0</td>\n",
              "      <td>0.0</td>\n",
              "      <td>0.0</td>\n",
              "      <td>0.0</td>\n",
              "    </tr>\n",
              "  </tbody>\n",
              "</table>\n",
              "<p>5 rows × 69 columns</p>\n",
              "</div>\n",
              "    <div class=\"colab-df-buttons\">\n",
              "\n",
              "  <div class=\"colab-df-container\">\n",
              "    <button class=\"colab-df-convert\" onclick=\"convertToInteractive('df-3f5e5913-2f3e-493b-aca9-75cc36a2c04f')\"\n",
              "            title=\"Convert this dataframe to an interactive table.\"\n",
              "            style=\"display:none;\">\n",
              "\n",
              "  <svg xmlns=\"http://www.w3.org/2000/svg\" height=\"24px\" viewBox=\"0 -960 960 960\">\n",
              "    <path d=\"M120-120v-720h720v720H120Zm60-500h600v-160H180v160Zm220 220h160v-160H400v160Zm0 220h160v-160H400v160ZM180-400h160v-160H180v160Zm440 0h160v-160H620v160ZM180-180h160v-160H180v160Zm440 0h160v-160H620v160Z\"/>\n",
              "  </svg>\n",
              "    </button>\n",
              "\n",
              "  <style>\n",
              "    .colab-df-container {\n",
              "      display:flex;\n",
              "      gap: 12px;\n",
              "    }\n",
              "\n",
              "    .colab-df-convert {\n",
              "      background-color: #E8F0FE;\n",
              "      border: none;\n",
              "      border-radius: 50%;\n",
              "      cursor: pointer;\n",
              "      display: none;\n",
              "      fill: #1967D2;\n",
              "      height: 32px;\n",
              "      padding: 0 0 0 0;\n",
              "      width: 32px;\n",
              "    }\n",
              "\n",
              "    .colab-df-convert:hover {\n",
              "      background-color: #E2EBFA;\n",
              "      box-shadow: 0px 1px 2px rgba(60, 64, 67, 0.3), 0px 1px 3px 1px rgba(60, 64, 67, 0.15);\n",
              "      fill: #174EA6;\n",
              "    }\n",
              "\n",
              "    .colab-df-buttons div {\n",
              "      margin-bottom: 4px;\n",
              "    }\n",
              "\n",
              "    [theme=dark] .colab-df-convert {\n",
              "      background-color: #3B4455;\n",
              "      fill: #D2E3FC;\n",
              "    }\n",
              "\n",
              "    [theme=dark] .colab-df-convert:hover {\n",
              "      background-color: #434B5C;\n",
              "      box-shadow: 0px 1px 3px 1px rgba(0, 0, 0, 0.15);\n",
              "      filter: drop-shadow(0px 1px 2px rgba(0, 0, 0, 0.3));\n",
              "      fill: #FFFFFF;\n",
              "    }\n",
              "  </style>\n",
              "\n",
              "    <script>\n",
              "      const buttonEl =\n",
              "        document.querySelector('#df-3f5e5913-2f3e-493b-aca9-75cc36a2c04f button.colab-df-convert');\n",
              "      buttonEl.style.display =\n",
              "        google.colab.kernel.accessAllowed ? 'block' : 'none';\n",
              "\n",
              "      async function convertToInteractive(key) {\n",
              "        const element = document.querySelector('#df-3f5e5913-2f3e-493b-aca9-75cc36a2c04f');\n",
              "        const dataTable =\n",
              "          await google.colab.kernel.invokeFunction('convertToInteractive',\n",
              "                                                    [key], {});\n",
              "        if (!dataTable) return;\n",
              "\n",
              "        const docLinkHtml = 'Like what you see? Visit the ' +\n",
              "          '<a target=\"_blank\" href=https://colab.research.google.com/notebooks/data_table.ipynb>data table notebook</a>'\n",
              "          + ' to learn more about interactive tables.';\n",
              "        element.innerHTML = '';\n",
              "        dataTable['output_type'] = 'display_data';\n",
              "        await google.colab.output.renderOutput(dataTable, element);\n",
              "        const docLink = document.createElement('div');\n",
              "        docLink.innerHTML = docLinkHtml;\n",
              "        element.appendChild(docLink);\n",
              "      }\n",
              "    </script>\n",
              "  </div>\n",
              "\n",
              "\n",
              "<div id=\"df-2911d749-2a2f-401e-99d9-7623de79f603\">\n",
              "  <button class=\"colab-df-quickchart\" onclick=\"quickchart('df-2911d749-2a2f-401e-99d9-7623de79f603')\"\n",
              "            title=\"Suggest charts\"\n",
              "            style=\"display:none;\">\n",
              "\n",
              "<svg xmlns=\"http://www.w3.org/2000/svg\" height=\"24px\"viewBox=\"0 0 24 24\"\n",
              "     width=\"24px\">\n",
              "    <g>\n",
              "        <path d=\"M19 3H5c-1.1 0-2 .9-2 2v14c0 1.1.9 2 2 2h14c1.1 0 2-.9 2-2V5c0-1.1-.9-2-2-2zM9 17H7v-7h2v7zm4 0h-2V7h2v10zm4 0h-2v-4h2v4z\"/>\n",
              "    </g>\n",
              "</svg>\n",
              "  </button>\n",
              "\n",
              "<style>\n",
              "  .colab-df-quickchart {\n",
              "      --bg-color: #E8F0FE;\n",
              "      --fill-color: #1967D2;\n",
              "      --hover-bg-color: #E2EBFA;\n",
              "      --hover-fill-color: #174EA6;\n",
              "      --disabled-fill-color: #AAA;\n",
              "      --disabled-bg-color: #DDD;\n",
              "  }\n",
              "\n",
              "  [theme=dark] .colab-df-quickchart {\n",
              "      --bg-color: #3B4455;\n",
              "      --fill-color: #D2E3FC;\n",
              "      --hover-bg-color: #434B5C;\n",
              "      --hover-fill-color: #FFFFFF;\n",
              "      --disabled-bg-color: #3B4455;\n",
              "      --disabled-fill-color: #666;\n",
              "  }\n",
              "\n",
              "  .colab-df-quickchart {\n",
              "    background-color: var(--bg-color);\n",
              "    border: none;\n",
              "    border-radius: 50%;\n",
              "    cursor: pointer;\n",
              "    display: none;\n",
              "    fill: var(--fill-color);\n",
              "    height: 32px;\n",
              "    padding: 0;\n",
              "    width: 32px;\n",
              "  }\n",
              "\n",
              "  .colab-df-quickchart:hover {\n",
              "    background-color: var(--hover-bg-color);\n",
              "    box-shadow: 0 1px 2px rgba(60, 64, 67, 0.3), 0 1px 3px 1px rgba(60, 64, 67, 0.15);\n",
              "    fill: var(--button-hover-fill-color);\n",
              "  }\n",
              "\n",
              "  .colab-df-quickchart-complete:disabled,\n",
              "  .colab-df-quickchart-complete:disabled:hover {\n",
              "    background-color: var(--disabled-bg-color);\n",
              "    fill: var(--disabled-fill-color);\n",
              "    box-shadow: none;\n",
              "  }\n",
              "\n",
              "  .colab-df-spinner {\n",
              "    border: 2px solid var(--fill-color);\n",
              "    border-color: transparent;\n",
              "    border-bottom-color: var(--fill-color);\n",
              "    animation:\n",
              "      spin 1s steps(1) infinite;\n",
              "  }\n",
              "\n",
              "  @keyframes spin {\n",
              "    0% {\n",
              "      border-color: transparent;\n",
              "      border-bottom-color: var(--fill-color);\n",
              "      border-left-color: var(--fill-color);\n",
              "    }\n",
              "    20% {\n",
              "      border-color: transparent;\n",
              "      border-left-color: var(--fill-color);\n",
              "      border-top-color: var(--fill-color);\n",
              "    }\n",
              "    30% {\n",
              "      border-color: transparent;\n",
              "      border-left-color: var(--fill-color);\n",
              "      border-top-color: var(--fill-color);\n",
              "      border-right-color: var(--fill-color);\n",
              "    }\n",
              "    40% {\n",
              "      border-color: transparent;\n",
              "      border-right-color: var(--fill-color);\n",
              "      border-top-color: var(--fill-color);\n",
              "    }\n",
              "    60% {\n",
              "      border-color: transparent;\n",
              "      border-right-color: var(--fill-color);\n",
              "    }\n",
              "    80% {\n",
              "      border-color: transparent;\n",
              "      border-right-color: var(--fill-color);\n",
              "      border-bottom-color: var(--fill-color);\n",
              "    }\n",
              "    90% {\n",
              "      border-color: transparent;\n",
              "      border-bottom-color: var(--fill-color);\n",
              "    }\n",
              "  }\n",
              "</style>\n",
              "\n",
              "  <script>\n",
              "    async function quickchart(key) {\n",
              "      const quickchartButtonEl =\n",
              "        document.querySelector('#' + key + ' button');\n",
              "      quickchartButtonEl.disabled = true;  // To prevent multiple clicks.\n",
              "      quickchartButtonEl.classList.add('colab-df-spinner');\n",
              "      try {\n",
              "        const charts = await google.colab.kernel.invokeFunction(\n",
              "            'suggestCharts', [key], {});\n",
              "      } catch (error) {\n",
              "        console.error('Error during call to suggestCharts:', error);\n",
              "      }\n",
              "      quickchartButtonEl.classList.remove('colab-df-spinner');\n",
              "      quickchartButtonEl.classList.add('colab-df-quickchart-complete');\n",
              "    }\n",
              "    (() => {\n",
              "      let quickchartButtonEl =\n",
              "        document.querySelector('#df-2911d749-2a2f-401e-99d9-7623de79f603 button');\n",
              "      quickchartButtonEl.style.display =\n",
              "        google.colab.kernel.accessAllowed ? 'block' : 'none';\n",
              "    })();\n",
              "  </script>\n",
              "</div>\n",
              "\n",
              "    </div>\n",
              "  </div>\n"
            ],
            "application/vnd.google.colaboratory.intrinsic+json": {
              "type": "dataframe",
              "variable_name": "X_train_preprocessed"
            }
          },
          "metadata": {},
          "execution_count": 13
        }
      ]
    },
    {
      "cell_type": "code",
      "source": [
        "X_train_preprocessed.shape"
      ],
      "metadata": {
        "colab": {
          "base_uri": "https://localhost:8080/"
        },
        "id": "wvi8RYTBQ7ru",
        "outputId": "0d734649-28d2-4681-a79e-7894c59da18a"
      },
      "execution_count": 14,
      "outputs": [
        {
          "output_type": "execute_result",
          "data": {
            "text/plain": [
              "(707817, 69)"
            ]
          },
          "metadata": {},
          "execution_count": 14
        }
      ]
    },
    {
      "cell_type": "markdown",
      "source": [
        "That's still too many columns, but I can't drop any more in good conscience without further information. Let's make use of Principal Component Analysis (PCA) to which features are more significant."
      ],
      "metadata": {
        "id": "N4B8fT9JRHzW"
      }
    },
    {
      "cell_type": "code",
      "source": [
        "from sklearn.decomposition import PCA\n",
        "pca = PCA(random_state=210)\n",
        "pca_array = pca.fit_transform(X_train_preprocessed)\n",
        "pca_array"
      ],
      "metadata": {
        "id": "LHhvdxYpRCfq",
        "colab": {
          "base_uri": "https://localhost:8080/"
        },
        "outputId": "d5cd1919-a90d-4e8d-b546-e3fb695d69df"
      },
      "execution_count": 15,
      "outputs": [
        {
          "output_type": "execute_result",
          "data": {
            "text/plain": [
              "array([[-1.33546501e-01,  8.37875659e-01,  1.33035957e+00, ...,\n",
              "         1.63263119e-14, -1.04521151e-14, -2.72348349e-15],\n",
              "       [ 7.45724224e-02, -7.11396080e-01,  8.67243498e-01, ...,\n",
              "         1.05148879e-14,  2.63398316e-14,  1.47182162e-14],\n",
              "       [ 2.52991872e-01,  6.12658192e-01,  2.25054622e+00, ...,\n",
              "        -5.80594613e-15,  2.23024165e-14, -5.40001772e-15],\n",
              "       ...,\n",
              "       [ 1.01928195e-01, -1.02117000e+00,  9.33134998e-01, ...,\n",
              "        -3.65539377e-17, -5.19572472e-18,  4.14075590e-17],\n",
              "       [ 3.49421039e-01,  7.03979332e-02, -3.70697133e-01, ...,\n",
              "        -1.68710620e-17, -2.08849482e-17,  2.59569713e-17],\n",
              "       [ 2.53640988e-01, -5.58348152e-01, -2.24439449e-01, ...,\n",
              "        -1.06584771e-17,  3.39795214e-17,  6.76586431e-17]])"
            ]
          },
          "metadata": {},
          "execution_count": 15
        }
      ]
    },
    {
      "cell_type": "code",
      "source": [
        "len(pca_array)"
      ],
      "metadata": {
        "colab": {
          "base_uri": "https://localhost:8080/"
        },
        "id": "CKzRJnIHBxZ5",
        "outputId": "87e19442-b2eb-4391-8776-c6a661f07c73"
      },
      "execution_count": 16,
      "outputs": [
        {
          "output_type": "execute_result",
          "data": {
            "text/plain": [
              "707817"
            ]
          },
          "metadata": {},
          "execution_count": 16
        }
      ]
    },
    {
      "cell_type": "markdown",
      "source": [
        "Now that we've fit PCA to our training data, let's see how much of the variance it explains by adding up each row's explained variance ratio."
      ],
      "metadata": {
        "id": "jke9U18WBiGe"
      }
    },
    {
      "cell_type": "code",
      "source": [
        "import numpy as np\n",
        "evr = pca.explained_variance_ratio_\n",
        "np.cumsum(evr)"
      ],
      "metadata": {
        "colab": {
          "base_uri": "https://localhost:8080/"
        },
        "id": "YZae2Kb9BB3R",
        "outputId": "e1dc272e-2d25-4e67-8c5d-ee30f1a88615"
      },
      "execution_count": 17,
      "outputs": [
        {
          "output_type": "execute_result",
          "data": {
            "text/plain": [
              "array([0.19978425, 0.31013649, 0.41337286, 0.51236511, 0.60727314,\n",
              "       0.65673974, 0.70265202, 0.73364186, 0.761715  , 0.78651999,\n",
              "       0.81021641, 0.83299294, 0.84940415, 0.86419541, 0.87883346,\n",
              "       0.89324448, 0.90712431, 0.91875691, 0.92827092, 0.93730983,\n",
              "       0.94387062, 0.95010009, 0.95578929, 0.95976791, 0.9634321 ,\n",
              "       0.96693294, 0.9703201 , 0.9734249 , 0.97594635, 0.97837396,\n",
              "       0.98069592, 0.98257593, 0.98431272, 0.98593332, 0.98754699,\n",
              "       0.98909716, 0.9904115 , 0.99161978, 0.99270955, 0.99375646,\n",
              "       0.99457928, 0.99538291, 0.99606826, 0.99665373, 0.99716292,\n",
              "       0.99765165, 0.99800998, 0.9983545 , 0.99863401, 0.99884497,\n",
              "       0.99905226, 0.99922076, 0.99938749, 0.99952536, 0.99964994,\n",
              "       0.99977387, 0.99988918, 0.99996568, 0.9999844 , 0.99999953,\n",
              "       1.        , 1.        , 1.        , 1.        , 1.        ,\n",
              "       1.        , 1.        , 1.        , 1.        ])"
            ]
          },
          "metadata": {},
          "execution_count": 17
        }
      ]
    },
    {
      "cell_type": "markdown",
      "source": [
        "Not great, let's check out the loadings to see how the features contribute."
      ],
      "metadata": {
        "id": "2nZZ6tpEB334"
      }
    },
    {
      "cell_type": "code",
      "source": [
        "loadings = pca.components_\n",
        "print('Loadings shape:', loadings.shape)\n",
        "print(np.around(loadings, decimals=3))"
      ],
      "metadata": {
        "colab": {
          "base_uri": "https://localhost:8080/"
        },
        "id": "2LEGahMkBWJt",
        "outputId": "6d918eec-c4a4-4f49-9f64-a41cb86e426c"
      },
      "execution_count": 18,
      "outputs": [
        {
          "output_type": "stream",
          "name": "stdout",
          "text": [
            "Loadings shape: (69, 69)\n",
            "[[ 0.005  0.004 -0.001 ...  0.    -0.     0.   ]\n",
            " [ 0.605  0.554  0.308 ... -0.003 -0.006 -0.   ]\n",
            " [ 0.166  0.43  -0.866 ... -0.01  -0.004 -0.001]\n",
            " ...\n",
            " [ 0.     0.    -0.    ...  0.14   0.14   0.14 ]\n",
            " [-0.    -0.     0.    ...  0.075  0.075  0.075]\n",
            " [ 0.     0.    -0.    ... -0.013 -0.013 -0.013]]\n"
          ]
        }
      ]
    },
    {
      "cell_type": "markdown",
      "source": [
        "Below, we run a plot to see where the explained variance reaches a point of diminishing returns as the number of components continues to increase. It looks like that threshold takes place right around 21 components."
      ],
      "metadata": {
        "id": "zju_dZuzD5js"
      }
    },
    {
      "cell_type": "code",
      "source": [
        "from matplotlib import pyplot as plt\n",
        "plt.plot(np.cumsum(evr))\n",
        "plt.xlabel('number of components')\n",
        "plt.ylabel('cumulative explained variance')\n",
        "plt.hlines(y=0.95, xmin=0, xmax=70, color='k', linestyle='--')\n",
        "plt.vlines(x=21, ymin=0.2, ymax=1, color='k', linestyle='--');"
      ],
      "metadata": {
        "colab": {
          "base_uri": "https://localhost:8080/",
          "height": 449
        },
        "id": "rmh5QQDpC24-",
        "outputId": "777ce74b-bc1c-4935-c519-a2aec85e11f3"
      },
      "execution_count": 19,
      "outputs": [
        {
          "output_type": "display_data",
          "data": {
            "text/plain": [
              "<Figure size 640x480 with 1 Axes>"
            ],
            "image/png": "[encoded data removed]"
          },
          "metadata": {}
        }
      ]
    },
    {
      "cell_type": "markdown",
      "source": [
        "Let's rerun PCA with this optimal components parameter in mind."
      ],
      "metadata": {
        "id": "ZwvRtUw6UVVU"
      }
    },
    {
      "cell_type": "code",
      "source": [
        "pca = PCA(n_components=21, random_state=210)\n",
        "pca_array = pca.fit_transform(X_train_preprocessed)\n",
        "evr = pca.explained_variance_ratio_\n",
        "np.cumsum(evr)"
      ],
      "metadata": {
        "colab": {
          "base_uri": "https://localhost:8080/"
        },
        "id": "GV7Ie1EYMcz5",
        "outputId": "e4e4853e-a9f4-446e-95cb-5c6187501b5e"
      },
      "execution_count": 20,
      "outputs": [
        {
          "output_type": "execute_result",
          "data": {
            "text/plain": [
              "array([0.19978425, 0.31013649, 0.41337286, 0.51236511, 0.60727314,\n",
              "       0.65673974, 0.70265202, 0.73364186, 0.761715  , 0.78651999,\n",
              "       0.81021641, 0.83299294, 0.84940415, 0.86419541, 0.87883346,\n",
              "       0.89324448, 0.90712431, 0.9187569 , 0.92827092, 0.93730982,\n",
              "       0.94387058])"
            ]
          },
          "metadata": {},
          "execution_count": 20
        }
      ]
    },
    {
      "cell_type": "code",
      "source": [
        "loadings = pca.components_\n",
        "print('Loadings shape:', loadings.shape)\n",
        "print(np.around(loadings, decimals=3))"
      ],
      "metadata": {
        "colab": {
          "base_uri": "https://localhost:8080/"
        },
        "id": "R5PIk0inOTXI",
        "outputId": "405e652b-ebc7-4ad1-8a59-878689e64a90"
      },
      "execution_count": 21,
      "outputs": [
        {
          "output_type": "stream",
          "name": "stdout",
          "text": [
            "Loadings shape: (21, 69)\n",
            "[[ 0.005  0.004 -0.001 ...  0.    -0.     0.   ]\n",
            " [ 0.605  0.554  0.308 ... -0.003 -0.006 -0.   ]\n",
            " [ 0.166  0.43  -0.866 ... -0.01  -0.004 -0.001]\n",
            " ...\n",
            " [-0.002 -0.025  0.002 ... -0.588 -0.043 -0.006]\n",
            " [ 0.009  0.009  0.007 ...  0.172  0.016 -0.   ]\n",
            " [ 0.003 -0.    -0.026 ... -0.086  0.034  0.002]]\n"
          ]
        }
      ]
    },
    {
      "cell_type": "code",
      "source": [
        "loadings_rounded = np.around(loadings, decimals=3)\n",
        "loadings_df = pd.DataFrame(loadings_rounded,columns=X_train_preprocessed.columns)\n",
        "loadings_sums = pd.Series(loadings_df.sum()).sort_values(key=abs)\n",
        "print(loadings_sums.to_string())"
      ],
      "metadata": {
        "colab": {
          "base_uri": "https://localhost:8080/"
        },
        "id": "7kYywIk9OcMo",
        "outputId": "91f6869f-8ef1-4279-e8b0-0945cd94b132"
      },
      "execution_count": 22,
      "outputs": [
        {
          "output_type": "stream",
          "name": "stdout",
          "text": [
            "PERSON_TYPE_NON-CONTACT VEHICLE                0.000\n",
            "WEATHER_CONDITION_SEVERE CROSS WIND GATE       0.000\n",
            "WEATHER_CONDITION_BLOWING SAND, SOIL, DIRT     0.000\n",
            "SEX_X                                          0.000\n",
            "MANEUVER_PARKED IN TRAFFIC LANE               -0.001\n",
            "MANEUVER_NEGOTIATING A CURVE                  -0.002\n",
            "MANEUVER_SLOW/STOP - LOAD/UNLOAD              -0.003\n",
            "MANEUVER_DRIVING WRONG WAY                    -0.003\n",
            "MANEUVER_SLOW/STOP - RIGHT TURN               -0.003\n",
            "MANEUVER_SLOW/STOP - LEFT TURN                -0.005\n",
            "MANEUVER_AVOIDING VEHICLES/OBJECTS            -0.005\n",
            "MANEUVER_LEAVING TRAFFIC LANE TO PARK         -0.008\n",
            "WEATHER_CONDITION_BLOWING SNOW                 0.009\n",
            "WEATHER_CONDITION_FOG/SMOKE/HAZE               0.009\n",
            "MANEUVER_ENTER FROM DRIVE/ALLEY               -0.014\n",
            "WEATHER_CONDITION_FREEZING RAIN/DRIZZLE        0.016\n",
            "WEATHER_CONDITION_SLEET/HAIL                   0.016\n",
            "MANEUVER_U-TURN                               -0.018\n",
            "MANEUVER_STARTING IN TRAFFIC                  -0.019\n",
            "MANEUVER_SKIDDING/CONTROL LOSS                 0.019\n",
            "PERSON_TYPE_BICYCLE                           -0.022\n",
            "MANEUVER_MERGING                              -0.026\n",
            "PERSON_TYPE_PEDESTRIAN                        -0.029\n",
            "MANEUVER_ENTERING TRAFFIC LANE FROM PARKING   -0.043\n",
            "TRAVEL_DIRECTION_SW                           -0.050\n",
            "TRAVEL_DIRECTION_NE                           -0.053\n",
            "TRAVEL_DIRECTION_NW                           -0.053\n",
            "PERSON_TYPE_DRIVER                             0.054\n",
            "ROADWAY_SURFACE_COND_WET                      -0.054\n",
            "ROADWAY_SURFACE_COND_ICE                       0.065\n",
            "TRAVEL_DIRECTION_SE                           -0.065\n",
            "MANEUVER_PARKED                                0.071\n",
            "CRASH_DAY_OF_WEEK_5                            0.080\n",
            "MANEUVER_CHANGING LANES                       -0.086\n",
            "MANEUVER_PASSING/OVERTAKING                   -0.089\n",
            "MANEUVER_BACKING                              -0.090\n",
            "MANEUVER_TURNING RIGHT                        -0.097\n",
            "TRAVEL_DIRECTION_W                            -0.098\n",
            "LIGHTING_CONDITION_DARKNESS, LIGHTED ROAD      0.148\n",
            "WEATHER_CONDITION_RAIN                        -0.153\n",
            "LIGHTING_CONDITION_DAWN                        0.166\n",
            "WEATHER_CONDITION_CLOUDY/OVERCAST              0.169\n",
            "MANEUVER_SLOW/STOP IN TRAFFIC                  0.179\n",
            "CRASH_DAY_OF_WEEK_7                            0.252\n",
            "CRASH_HOUR                                    -0.256\n",
            "TRAVEL_DIRECTION_N                             0.298\n",
            "POSTED_SPEED_LIMIT                             0.346\n",
            "LIGHTING_CONDITION_DUSK                        0.390\n",
            "SEX_M                                          0.401\n",
            "SEX_F                                         -0.402\n",
            "CRASH_DAY_OF_WEEK_2                            0.524\n",
            "CRASH_DAY_OF_WEEK_4                           -0.538\n",
            "LIGHTING_CONDITION_DARKNESS                    0.599\n",
            "LONGITUDE                                      0.687\n",
            "LATITUDE                                      -0.723\n",
            "CRASH_DAY_OF_WEEK_6                            0.724\n",
            "AGE                                            0.726\n",
            "MANEUVER_TURNING LEFT                         -0.750\n",
            "ROADWAY_SURFACE_COND_SNOW OR SLUSH             0.751\n",
            "ROADWAY_SURFACE_COND_DRY                      -0.759\n",
            "WEATHER_CONDITION_SNOW                         0.794\n",
            "WEATHER_CONDITION_CLEAR                       -0.858\n",
            "MANEUVER_STRAIGHT AHEAD                        0.995\n",
            "CRASH_DAY_OF_WEEK_1                            0.995\n",
            "TRAVEL_DIRECTION_S                            -1.179\n",
            "TRAVEL_DIRECTION_E                             1.202\n",
            "LIGHTING_CONDITION_DAYLIGHT                   -1.304\n",
            "NUM_UNITS                                      1.796\n",
            "CRASH_DAY_OF_WEEK_3                           -2.040\n"
          ]
        }
      ]
    },
    {
      "cell_type": "markdown",
      "source": [
        "A wide range of cumulative explained variance ratios appear for these columns with the occasional large leap between groups. Those that appear to explain variance better include Sunday crashes, (somewhat surprisingly) crashes when the manuever beforehand was simply driving straight, as well as some weather and road condition columns.\n",
        "\n",
        "On the other side of the spectrum, we see a lot of rare classes from categorical columns. While I got rid of many columns that showed this kind of skewed distribution, these were a little better than most and seemed like they could still hold some pertitent information in regard to crash causes.\n",
        "\n",
        "Let's begin by dropping any column that can't explain at least a *cumulative* absolute value of 0.1 of the variance. Below, we see that this will help trim our features down by just over half to 31. (Below, \"e.v.r.\" stands for \"explained variance ratio\".)"
      ],
      "metadata": {
        "id": "SwNw3QT1kr6Q"
      }
    },
    {
      "cell_type": "code",
      "source": [
        "loadings_sums_abs = loadings_sums.abs()\n",
        "less_explanatory_loadings_sums = loadings_sums_abs[loadings_sums_abs < 0.1]\n",
        "print('ratio of features below/above 0.1 cumulative e.v.r.:   ', round(len(less_explanatory_loadings_sums)/len(loadings_sums), 2))\n",
        "print('remaining number of features after dropping those below 0.1 cumulative e.v.r.:   ', len(loadings_sums) - len(less_explanatory_loadings_sums))"
      ],
      "metadata": {
        "colab": {
          "base_uri": "https://localhost:8080/"
        },
        "id": "w0CBLiKDO-y1",
        "outputId": "f6246a97-bf1d-4ffe-9eb5-d5fae3a4a757"
      },
      "execution_count": 23,
      "outputs": [
        {
          "output_type": "stream",
          "name": "stdout",
          "text": [
            "ratio of features below/above 0.1 cumulative e.v.r.:    0.55\n",
            "remaining number of features after dropping those below 0.1 cumulative e.v.r.:    31\n"
          ]
        }
      ]
    },
    {
      "cell_type": "code",
      "source": [
        "loadings_sums.index"
      ],
      "metadata": {
        "colab": {
          "base_uri": "https://localhost:8080/"
        },
        "id": "onV78dpkJe5L",
        "outputId": "ae65d5f4-ee58-491c-89ed-06791a2ab698"
      },
      "execution_count": 24,
      "outputs": [
        {
          "output_type": "execute_result",
          "data": {
            "text/plain": [
              "Index(['PERSON_TYPE_NON-CONTACT VEHICLE',\n",
              "       'WEATHER_CONDITION_SEVERE CROSS WIND GATE',\n",
              "       'WEATHER_CONDITION_BLOWING SAND, SOIL, DIRT', 'SEX_X',\n",
              "       'MANEUVER_PARKED IN TRAFFIC LANE', 'MANEUVER_NEGOTIATING A CURVE',\n",
              "       'MANEUVER_SLOW/STOP - LOAD/UNLOAD', 'MANEUVER_DRIVING WRONG WAY',\n",
              "       'MANEUVER_SLOW/STOP - RIGHT TURN', 'MANEUVER_SLOW/STOP - LEFT TURN',\n",
              "       'MANEUVER_AVOIDING VEHICLES/OBJECTS',\n",
              "       'MANEUVER_LEAVING TRAFFIC LANE TO PARK',\n",
              "       'WEATHER_CONDITION_BLOWING SNOW', 'WEATHER_CONDITION_FOG/SMOKE/HAZE',\n",
              "       'MANEUVER_ENTER FROM DRIVE/ALLEY',\n",
              "       'WEATHER_CONDITION_FREEZING RAIN/DRIZZLE',\n",
              "       'WEATHER_CONDITION_SLEET/HAIL', 'MANEUVER_U-TURN',\n",
              "       'MANEUVER_STARTING IN TRAFFIC', 'MANEUVER_SKIDDING/CONTROL LOSS',\n",
              "       'PERSON_TYPE_BICYCLE', 'MANEUVER_MERGING', 'PERSON_TYPE_PEDESTRIAN',\n",
              "       'MANEUVER_ENTERING TRAFFIC LANE FROM PARKING', 'TRAVEL_DIRECTION_SW',\n",
              "       'TRAVEL_DIRECTION_NE', 'TRAVEL_DIRECTION_NW', 'PERSON_TYPE_DRIVER',\n",
              "       'ROADWAY_SURFACE_COND_WET', 'ROADWAY_SURFACE_COND_ICE',\n",
              "       'TRAVEL_DIRECTION_SE', 'MANEUVER_PARKED', 'CRASH_DAY_OF_WEEK_5',\n",
              "       'MANEUVER_CHANGING LANES', 'MANEUVER_PASSING/OVERTAKING',\n",
              "       'MANEUVER_BACKING', 'MANEUVER_TURNING RIGHT', 'TRAVEL_DIRECTION_W',\n",
              "       'LIGHTING_CONDITION_DARKNESS, LIGHTED ROAD', 'WEATHER_CONDITION_RAIN',\n",
              "       'LIGHTING_CONDITION_DAWN', 'WEATHER_CONDITION_CLOUDY/OVERCAST',\n",
              "       'MANEUVER_SLOW/STOP IN TRAFFIC', 'CRASH_DAY_OF_WEEK_7', 'CRASH_HOUR',\n",
              "       'TRAVEL_DIRECTION_N', 'POSTED_SPEED_LIMIT', 'LIGHTING_CONDITION_DUSK',\n",
              "       'SEX_M', 'SEX_F', 'CRASH_DAY_OF_WEEK_2', 'CRASH_DAY_OF_WEEK_4',\n",
              "       'LIGHTING_CONDITION_DARKNESS', 'LONGITUDE', 'LATITUDE',\n",
              "       'CRASH_DAY_OF_WEEK_6', 'AGE', 'MANEUVER_TURNING LEFT',\n",
              "       'ROADWAY_SURFACE_COND_SNOW OR SLUSH', 'ROADWAY_SURFACE_COND_DRY',\n",
              "       'WEATHER_CONDITION_SNOW', 'WEATHER_CONDITION_CLEAR',\n",
              "       'MANEUVER_STRAIGHT AHEAD', 'CRASH_DAY_OF_WEEK_1', 'TRAVEL_DIRECTION_S',\n",
              "       'TRAVEL_DIRECTION_E', 'LIGHTING_CONDITION_DAYLIGHT', 'NUM_UNITS',\n",
              "       'CRASH_DAY_OF_WEEK_3'],\n",
              "      dtype='object')"
            ]
          },
          "metadata": {},
          "execution_count": 24
        }
      ]
    },
    {
      "cell_type": "code",
      "source": [
        "#dropping less explanatory features\n",
        "explanatory_loadings_sums = loadings_sums.drop(less_explanatory_loadings_sums.index, axis=0)\n",
        "explanatory_loadings_sums"
      ],
      "metadata": {
        "colab": {
          "base_uri": "https://localhost:8080/"
        },
        "id": "gg9MtnqBk9eE",
        "outputId": "302d2844-c178-4924-f6ac-040a3bf2384b"
      },
      "execution_count": 25,
      "outputs": [
        {
          "output_type": "execute_result",
          "data": {
            "text/plain": [
              "LIGHTING_CONDITION_DARKNESS, LIGHTED ROAD    0.148\n",
              "WEATHER_CONDITION_RAIN                      -0.153\n",
              "LIGHTING_CONDITION_DAWN                      0.166\n",
              "WEATHER_CONDITION_CLOUDY/OVERCAST            0.169\n",
              "MANEUVER_SLOW/STOP IN TRAFFIC                0.179\n",
              "CRASH_DAY_OF_WEEK_7                          0.252\n",
              "CRASH_HOUR                                  -0.256\n",
              "TRAVEL_DIRECTION_N                           0.298\n",
              "POSTED_SPEED_LIMIT                           0.346\n",
              "LIGHTING_CONDITION_DUSK                      0.390\n",
              "SEX_M                                        0.401\n",
              "SEX_F                                       -0.402\n",
              "CRASH_DAY_OF_WEEK_2                          0.524\n",
              "CRASH_DAY_OF_WEEK_4                         -0.538\n",
              "LIGHTING_CONDITION_DARKNESS                  0.599\n",
              "LONGITUDE                                    0.687\n",
              "LATITUDE                                    -0.723\n",
              "CRASH_DAY_OF_WEEK_6                          0.724\n",
              "AGE                                          0.726\n",
              "MANEUVER_TURNING LEFT                       -0.750\n",
              "ROADWAY_SURFACE_COND_SNOW OR SLUSH           0.751\n",
              "ROADWAY_SURFACE_COND_DRY                    -0.759\n",
              "WEATHER_CONDITION_SNOW                       0.794\n",
              "WEATHER_CONDITION_CLEAR                     -0.858\n",
              "MANEUVER_STRAIGHT AHEAD                      0.995\n",
              "CRASH_DAY_OF_WEEK_1                          0.995\n",
              "TRAVEL_DIRECTION_S                          -1.179\n",
              "TRAVEL_DIRECTION_E                           1.202\n",
              "LIGHTING_CONDITION_DAYLIGHT                 -1.304\n",
              "NUM_UNITS                                    1.796\n",
              "CRASH_DAY_OF_WEEK_3                         -2.040\n",
              "dtype: float64"
            ]
          },
          "metadata": {},
          "execution_count": 25
        }
      ]
    },
    {
      "cell_type": "markdown",
      "source": [
        "This is one way to find our most promising features and get them down to a more reasonable quanitity before running them through a predictive model.\n",
        "\n",
        "We can also try a similar process by way of a random forest. Once fit to our preprocessed training data, we can expect it's feature importances and see how well it matches our more promising features from PCA above.\n",
        "\n",
        "## random forest feature importance\n",
        "\n",
        "Since a random forest is a predictive model, we'll have to contend with the target column's class imbalance. Let's check and see how it appears here in our training data:"
      ],
      "metadata": {
        "id": "1ng2yTEQJ618"
      }
    },
    {
      "cell_type": "code",
      "source": [
        "y_train.value_counts(normalize=True)"
      ],
      "metadata": {
        "id": "fmoO33e0JrRh",
        "colab": {
          "base_uri": "https://localhost:8080/"
        },
        "outputId": "f89c25ed-d0e7-4fc6-f678-0d64bbb1c490"
      },
      "execution_count": 26,
      "outputs": [
        {
          "output_type": "execute_result",
          "data": {
            "text/plain": [
              "TARGET\n",
              "1    0.928116\n",
              "0    0.071884\n",
              "Name: proportion, dtype: float64"
            ]
          },
          "metadata": {},
          "execution_count": 26
        }
      ]
    },
    {
      "cell_type": "markdown",
      "source": [
        "Not good, but it could be much worse. Subsequently, we'll have to run our random forests with oversampling, undersampling, and SMOTE sampling strategies to get the best picture on which set of feature importances work best.\n",
        "\n",
        "Before doing that, let's establish a baseline random forest model without any sampling strategies. This tree-based model will need the one-hot encoded categorical values, but the non-standardized numeric data."
      ],
      "metadata": {
        "id": "Sbp0Vj1d5lw3"
      }
    },
    {
      "cell_type": "code",
      "source": [
        "X_train_nonstandardized = pd.concat([X_train_numeric, X_train_categorical_ohe], axis=1)\n",
        "X_train_nonstandardized.head()"
      ],
      "metadata": {
        "colab": {
          "base_uri": "https://localhost:8080/",
          "height": 273
        },
        "id": "ihh1xAdZCBmm",
        "outputId": "780b6210-61bf-4a8b-acf6-9081968fa38b"
      },
      "execution_count": 27,
      "outputs": [
        {
          "output_type": "execute_result",
          "data": {
            "text/plain": [
              "        POSTED_SPEED_LIMIT  NUM_UNITS  CRASH_HOUR   LATITUDE  LONGITUDE  AGE  \\\n",
              "571273                  30          3           8  41.898626 -87.743733   22   \n",
              "751169                  30          2           8  41.808323 -87.682079   47   \n",
              "43397                   30          3           1  41.758900 -87.575996   23   \n",
              "847787                  30          2          20  41.981952 -87.787690   16   \n",
              "542731                  30          2          13  41.898391 -87.652436   46   \n",
              "\n",
              "        WEATHER_CONDITION_BLOWING SAND, SOIL, DIRT  \\\n",
              "571273                                         0.0   \n",
              "751169                                         0.0   \n",
              "43397                                          0.0   \n",
              "847787                                         0.0   \n",
              "542731                                         0.0   \n",
              "\n",
              "        WEATHER_CONDITION_BLOWING SNOW  WEATHER_CONDITION_CLEAR  \\\n",
              "571273                             0.0                      1.0   \n",
              "751169                             0.0                      1.0   \n",
              "43397                              0.0                      1.0   \n",
              "847787                             0.0                      1.0   \n",
              "542731                             0.0                      1.0   \n",
              "\n",
              "        WEATHER_CONDITION_CLOUDY/OVERCAST  ...  \\\n",
              "571273                                0.0  ...   \n",
              "751169                                0.0  ...   \n",
              "43397                                 0.0  ...   \n",
              "847787                                0.0  ...   \n",
              "542731                                0.0  ...   \n",
              "\n",
              "        MANEUVER_SKIDDING/CONTROL LOSS  MANEUVER_SLOW/STOP - LEFT TURN  \\\n",
              "571273                             0.0                             0.0   \n",
              "751169                             0.0                             0.0   \n",
              "43397                              0.0                             0.0   \n",
              "847787                             0.0                             0.0   \n",
              "542731                             0.0                             0.0   \n",
              "\n",
              "        MANEUVER_SLOW/STOP - LOAD/UNLOAD  MANEUVER_SLOW/STOP - RIGHT TURN  \\\n",
              "571273                               0.0                              0.0   \n",
              "751169                               0.0                              0.0   \n",
              "43397                                0.0                              0.0   \n",
              "847787                               0.0                              0.0   \n",
              "542731                               0.0                              0.0   \n",
              "\n",
              "        MANEUVER_SLOW/STOP IN TRAFFIC  MANEUVER_STARTING IN TRAFFIC  \\\n",
              "571273                            1.0                           0.0   \n",
              "751169                            1.0                           0.0   \n",
              "43397                             0.0                           0.0   \n",
              "847787                            0.0                           0.0   \n",
              "542731                            0.0                           0.0   \n",
              "\n",
              "        MANEUVER_STRAIGHT AHEAD  MANEUVER_TURNING LEFT  \\\n",
              "571273                      0.0                    0.0   \n",
              "751169                      0.0                    0.0   \n",
              "43397                       1.0                    0.0   \n",
              "847787                      1.0                    0.0   \n",
              "542731                      1.0                    0.0   \n",
              "\n",
              "        MANEUVER_TURNING RIGHT  MANEUVER_U-TURN  \n",
              "571273                     0.0              0.0  \n",
              "751169                     0.0              0.0  \n",
              "43397                      0.0              0.0  \n",
              "847787                     0.0              0.0  \n",
              "542731                     0.0              0.0  \n",
              "\n",
              "[5 rows x 69 columns]"
            ],
            "text/html": [
              "\n",
              "  <div id=\"df-eb0f53a3-ef57-485f-8ddb-2b6d59d3ab5d\" class=\"colab-df-container\">\n",
              "    <div>\n",
              "<style scoped>\n",
              "    .dataframe tbody tr th:only-of-type {\n",
              "        vertical-align: middle;\n",
              "    }\n",
              "\n",
              "    .dataframe tbody tr th {\n",
              "        vertical-align: top;\n",
              "    }\n",
              "\n",
              "    .dataframe thead th {\n",
              "        text-align: right;\n",
              "    }\n",
              "</style>\n",
              "<table border=\"1\" class=\"dataframe\">\n",
              "  <thead>\n",
              "    <tr style=\"text-align: right;\">\n",
              "      <th></th>\n",
              "      <th>POSTED_SPEED_LIMIT</th>\n",
              "      <th>NUM_UNITS</th>\n",
              "      <th>CRASH_HOUR</th>\n",
              "      <th>LATITUDE</th>\n",
              "      <th>LONGITUDE</th>\n",
              "      <th>AGE</th>\n",
              "      <th>WEATHER_CONDITION_BLOWING SAND, SOIL, DIRT</th>\n",
              "      <th>WEATHER_CONDITION_BLOWING SNOW</th>\n",
              "      <th>WEATHER_CONDITION_CLEAR</th>\n",
              "      <th>WEATHER_CONDITION_CLOUDY/OVERCAST</th>\n",
              "      <th>...</th>\n",
              "      <th>MANEUVER_SKIDDING/CONTROL LOSS</th>\n",
              "      <th>MANEUVER_SLOW/STOP - LEFT TURN</th>\n",
              "      <th>MANEUVER_SLOW/STOP - LOAD/UNLOAD</th>\n",
              "      <th>MANEUVER_SLOW/STOP - RIGHT TURN</th>\n",
              "      <th>MANEUVER_SLOW/STOP IN TRAFFIC</th>\n",
              "      <th>MANEUVER_STARTING IN TRAFFIC</th>\n",
              "      <th>MANEUVER_STRAIGHT AHEAD</th>\n",
              "      <th>MANEUVER_TURNING LEFT</th>\n",
              "      <th>MANEUVER_TURNING RIGHT</th>\n",
              "      <th>MANEUVER_U-TURN</th>\n",
              "    </tr>\n",
              "  </thead>\n",
              "  <tbody>\n",
              "    <tr>\n",
              "      <th>571273</th>\n",
              "      <td>30</td>\n",
              "      <td>3</td>\n",
              "      <td>8</td>\n",
              "      <td>41.898626</td>\n",
              "      <td>-87.743733</td>\n",
              "      <td>22</td>\n",
              "      <td>0.0</td>\n",
              "      <td>0.0</td>\n",
              "      <td>1.0</td>\n",
              "      <td>0.0</td>\n",
              "      <td>...</td>\n",
              "      <td>0.0</td>\n",
              "      <td>0.0</td>\n",
              "      <td>0.0</td>\n",
              "      <td>0.0</td>\n",
              "      <td>1.0</td>\n",
              "      <td>0.0</td>\n",
              "      <td>0.0</td>\n",
              "      <td>0.0</td>\n",
              "      <td>0.0</td>\n",
              "      <td>0.0</td>\n",
              "    </tr>\n",
              "    <tr>\n",
              "      <th>751169</th>\n",
              "      <td>30</td>\n",
              "      <td>2</td>\n",
              "      <td>8</td>\n",
              "      <td>41.808323</td>\n",
              "      <td>-87.682079</td>\n",
              "      <td>47</td>\n",
              "      <td>0.0</td>\n",
              "      <td>0.0</td>\n",
              "      <td>1.0</td>\n",
              "      <td>0.0</td>\n",
              "      <td>...</td>\n",
              "      <td>0.0</td>\n",
              "      <td>0.0</td>\n",
              "      <td>0.0</td>\n",
              "      <td>0.0</td>\n",
              "      <td>1.0</td>\n",
              "      <td>0.0</td>\n",
              "      <td>0.0</td>\n",
              "      <td>0.0</td>\n",
              "      <td>0.0</td>\n",
              "      <td>0.0</td>\n",
              "    </tr>\n",
              "    <tr>\n",
              "      <th>43397</th>\n",
              "      <td>30</td>\n",
              "      <td>3</td>\n",
              "      <td>1</td>\n",
              "      <td>41.758900</td>\n",
              "      <td>-87.575996</td>\n",
              "      <td>23</td>\n",
              "      <td>0.0</td>\n",
              "      <td>0.0</td>\n",
              "      <td>1.0</td>\n",
              "      <td>0.0</td>\n",
              "      <td>...</td>\n",
              "      <td>0.0</td>\n",
              "      <td>0.0</td>\n",
              "      <td>0.0</td>\n",
              "      <td>0.0</td>\n",
              "      <td>0.0</td>\n",
              "      <td>0.0</td>\n",
              "      <td>1.0</td>\n",
              "      <td>0.0</td>\n",
              "      <td>0.0</td>\n",
              "      <td>0.0</td>\n",
              "    </tr>\n",
              "    <tr>\n",
              "      <th>847787</th>\n",
              "      <td>30</td>\n",
              "      <td>2</td>\n",
              "      <td>20</td>\n",
              "      <td>41.981952</td>\n",
              "      <td>-87.787690</td>\n",
              "      <td>16</td>\n",
              "      <td>0.0</td>\n",
              "      <td>0.0</td>\n",
              "      <td>1.0</td>\n",
              "      <td>0.0</td>\n",
              "      <td>...</td>\n",
              "      <td>0.0</td>\n",
              "      <td>0.0</td>\n",
              "      <td>0.0</td>\n",
              "      <td>0.0</td>\n",
              "      <td>0.0</td>\n",
              "      <td>0.0</td>\n",
              "      <td>1.0</td>\n",
              "      <td>0.0</td>\n",
              "      <td>0.0</td>\n",
              "      <td>0.0</td>\n",
              "    </tr>\n",
              "    <tr>\n",
              "      <th>542731</th>\n",
              "      <td>30</td>\n",
              "      <td>2</td>\n",
              "      <td>13</td>\n",
              "      <td>41.898391</td>\n",
              "      <td>-87.652436</td>\n",
              "      <td>46</td>\n",
              "      <td>0.0</td>\n",
              "      <td>0.0</td>\n",
              "      <td>1.0</td>\n",
              "      <td>0.0</td>\n",
              "      <td>...</td>\n",
              "      <td>0.0</td>\n",
              "      <td>0.0</td>\n",
              "      <td>0.0</td>\n",
              "      <td>0.0</td>\n",
              "      <td>0.0</td>\n",
              "      <td>0.0</td>\n",
              "      <td>1.0</td>\n",
              "      <td>0.0</td>\n",
              "      <td>0.0</td>\n",
              "      <td>0.0</td>\n",
              "    </tr>\n",
              "  </tbody>\n",
              "</table>\n",
              "<p>5 rows × 69 columns</p>\n",
              "</div>\n",
              "    <div class=\"colab-df-buttons\">\n",
              "\n",
              "  <div class=\"colab-df-container\">\n",
              "    <button class=\"colab-df-convert\" onclick=\"convertToInteractive('df-eb0f53a3-ef57-485f-8ddb-2b6d59d3ab5d')\"\n",
              "            title=\"Convert this dataframe to an interactive table.\"\n",
              "            style=\"display:none;\">\n",
              "\n",
              "  <svg xmlns=\"http://www.w3.org/2000/svg\" height=\"24px\" viewBox=\"0 -960 960 960\">\n",
              "    <path d=\"M120-120v-720h720v720H120Zm60-500h600v-160H180v160Zm220 220h160v-160H400v160Zm0 220h160v-160H400v160ZM180-400h160v-160H180v160Zm440 0h160v-160H620v160ZM180-180h160v-160H180v160Zm440 0h160v-160H620v160Z\"/>\n",
              "  </svg>\n",
              "    </button>\n",
              "\n",
              "  <style>\n",
              "    .colab-df-container {\n",
              "      display:flex;\n",
              "      gap: 12px;\n",
              "    }\n",
              "\n",
              "    .colab-df-convert {\n",
              "      background-color: #E8F0FE;\n",
              "      border: none;\n",
              "      border-radius: 50%;\n",
              "      cursor: pointer;\n",
              "      display: none;\n",
              "      fill: #1967D2;\n",
              "      height: 32px;\n",
              "      padding: 0 0 0 0;\n",
              "      width: 32px;\n",
              "    }\n",
              "\n",
              "    .colab-df-convert:hover {\n",
              "      background-color: #E2EBFA;\n",
              "      box-shadow: 0px 1px 2px rgba(60, 64, 67, 0.3), 0px 1px 3px 1px rgba(60, 64, 67, 0.15);\n",
              "      fill: #174EA6;\n",
              "    }\n",
              "\n",
              "    .colab-df-buttons div {\n",
              "      margin-bottom: 4px;\n",
              "    }\n",
              "\n",
              "    [theme=dark] .colab-df-convert {\n",
              "      background-color: #3B4455;\n",
              "      fill: #D2E3FC;\n",
              "    }\n",
              "\n",
              "    [theme=dark] .colab-df-convert:hover {\n",
              "      background-color: #434B5C;\n",
              "      box-shadow: 0px 1px 3px 1px rgba(0, 0, 0, 0.15);\n",
              "      filter: drop-shadow(0px 1px 2px rgba(0, 0, 0, 0.3));\n",
              "      fill: #FFFFFF;\n",
              "    }\n",
              "  </style>\n",
              "\n",
              "    <script>\n",
              "      const buttonEl =\n",
              "        document.querySelector('#df-eb0f53a3-ef57-485f-8ddb-2b6d59d3ab5d button.colab-df-convert');\n",
              "      buttonEl.style.display =\n",
              "        google.colab.kernel.accessAllowed ? 'block' : 'none';\n",
              "\n",
              "      async function convertToInteractive(key) {\n",
              "        const element = document.querySelector('#df-eb0f53a3-ef57-485f-8ddb-2b6d59d3ab5d');\n",
              "        const dataTable =\n",
              "          await google.colab.kernel.invokeFunction('convertToInteractive',\n",
              "                                                    [key], {});\n",
              "        if (!dataTable) return;\n",
              "\n",
              "        const docLinkHtml = 'Like what you see? Visit the ' +\n",
              "          '<a target=\"_blank\" href=https://colab.research.google.com/notebooks/data_table.ipynb>data table notebook</a>'\n",
              "          + ' to learn more about interactive tables.';\n",
              "        element.innerHTML = '';\n",
              "        dataTable['output_type'] = 'display_data';\n",
              "        await google.colab.output.renderOutput(dataTable, element);\n",
              "        const docLink = document.createElement('div');\n",
              "        docLink.innerHTML = docLinkHtml;\n",
              "        element.appendChild(docLink);\n",
              "      }\n",
              "    </script>\n",
              "  </div>\n",
              "\n",
              "\n",
              "<div id=\"df-d7a84b9b-9322-4d8f-b2d7-f5d741127c78\">\n",
              "  <button class=\"colab-df-quickchart\" onclick=\"quickchart('df-d7a84b9b-9322-4d8f-b2d7-f5d741127c78')\"\n",
              "            title=\"Suggest charts\"\n",
              "            style=\"display:none;\">\n",
              "\n",
              "<svg xmlns=\"http://www.w3.org/2000/svg\" height=\"24px\"viewBox=\"0 0 24 24\"\n",
              "     width=\"24px\">\n",
              "    <g>\n",
              "        <path d=\"M19 3H5c-1.1 0-2 .9-2 2v14c0 1.1.9 2 2 2h14c1.1 0 2-.9 2-2V5c0-1.1-.9-2-2-2zM9 17H7v-7h2v7zm4 0h-2V7h2v10zm4 0h-2v-4h2v4z\"/>\n",
              "    </g>\n",
              "</svg>\n",
              "  </button>\n",
              "\n",
              "<style>\n",
              "  .colab-df-quickchart {\n",
              "      --bg-color: #E8F0FE;\n",
              "      --fill-color: #1967D2;\n",
              "      --hover-bg-color: #E2EBFA;\n",
              "      --hover-fill-color: #174EA6;\n",
              "      --disabled-fill-color: #AAA;\n",
              "      --disabled-bg-color: #DDD;\n",
              "  }\n",
              "\n",
              "  [theme=dark] .colab-df-quickchart {\n",
              "      --bg-color: #3B4455;\n",
              "      --fill-color: #D2E3FC;\n",
              "      --hover-bg-color: #434B5C;\n",
              "      --hover-fill-color: #FFFFFF;\n",
              "      --disabled-bg-color: #3B4455;\n",
              "      --disabled-fill-color: #666;\n",
              "  }\n",
              "\n",
              "  .colab-df-quickchart {\n",
              "    background-color: var(--bg-color);\n",
              "    border: none;\n",
              "    border-radius: 50%;\n",
              "    cursor: pointer;\n",
              "    display: none;\n",
              "    fill: var(--fill-color);\n",
              "    height: 32px;\n",
              "    padding: 0;\n",
              "    width: 32px;\n",
              "  }\n",
              "\n",
              "  .colab-df-quickchart:hover {\n",
              "    background-color: var(--hover-bg-color);\n",
              "    box-shadow: 0 1px 2px rgba(60, 64, 67, 0.3), 0 1px 3px 1px rgba(60, 64, 67, 0.15);\n",
              "    fill: var(--button-hover-fill-color);\n",
              "  }\n",
              "\n",
              "  .colab-df-quickchart-complete:disabled,\n",
              "  .colab-df-quickchart-complete:disabled:hover {\n",
              "    background-color: var(--disabled-bg-color);\n",
              "    fill: var(--disabled-fill-color);\n",
              "    box-shadow: none;\n",
              "  }\n",
              "\n",
              "  .colab-df-spinner {\n",
              "    border: 2px solid var(--fill-color);\n",
              "    border-color: transparent;\n",
              "    border-bottom-color: var(--fill-color);\n",
              "    animation:\n",
              "      spin 1s steps(1) infinite;\n",
              "  }\n",
              "\n",
              "  @keyframes spin {\n",
              "    0% {\n",
              "      border-color: transparent;\n",
              "      border-bottom-color: var(--fill-color);\n",
              "      border-left-color: var(--fill-color);\n",
              "    }\n",
              "    20% {\n",
              "      border-color: transparent;\n",
              "      border-left-color: var(--fill-color);\n",
              "      border-top-color: var(--fill-color);\n",
              "    }\n",
              "    30% {\n",
              "      border-color: transparent;\n",
              "      border-left-color: var(--fill-color);\n",
              "      border-top-color: var(--fill-color);\n",
              "      border-right-color: var(--fill-color);\n",
              "    }\n",
              "    40% {\n",
              "      border-color: transparent;\n",
              "      border-right-color: var(--fill-color);\n",
              "      border-top-color: var(--fill-color);\n",
              "    }\n",
              "    60% {\n",
              "      border-color: transparent;\n",
              "      border-right-color: var(--fill-color);\n",
              "    }\n",
              "    80% {\n",
              "      border-color: transparent;\n",
              "      border-right-color: var(--fill-color);\n",
              "      border-bottom-color: var(--fill-color);\n",
              "    }\n",
              "    90% {\n",
              "      border-color: transparent;\n",
              "      border-bottom-color: var(--fill-color);\n",
              "    }\n",
              "  }\n",
              "</style>\n",
              "\n",
              "  <script>\n",
              "    async function quickchart(key) {\n",
              "      const quickchartButtonEl =\n",
              "        document.querySelector('#' + key + ' button');\n",
              "      quickchartButtonEl.disabled = true;  // To prevent multiple clicks.\n",
              "      quickchartButtonEl.classList.add('colab-df-spinner');\n",
              "      try {\n",
              "        const charts = await google.colab.kernel.invokeFunction(\n",
              "            'suggestCharts', [key], {});\n",
              "      } catch (error) {\n",
              "        console.error('Error during call to suggestCharts:', error);\n",
              "      }\n",
              "      quickchartButtonEl.classList.remove('colab-df-spinner');\n",
              "      quickchartButtonEl.classList.add('colab-df-quickchart-complete');\n",
              "    }\n",
              "    (() => {\n",
              "      let quickchartButtonEl =\n",
              "        document.querySelector('#df-d7a84b9b-9322-4d8f-b2d7-f5d741127c78 button');\n",
              "      quickchartButtonEl.style.display =\n",
              "        google.colab.kernel.accessAllowed ? 'block' : 'none';\n",
              "    })();\n",
              "  </script>\n",
              "</div>\n",
              "\n",
              "    </div>\n",
              "  </div>\n"
            ],
            "application/vnd.google.colaboratory.intrinsic+json": {
              "type": "dataframe",
              "variable_name": "X_train_nonstandardized"
            }
          },
          "metadata": {},
          "execution_count": 27
        }
      ]
    },
    {
      "cell_type": "code",
      "source": [
        "from sklearn.ensemble import RandomForestClassifier\n",
        "from sklearn.metrics import f1_score, make_scorer\n",
        "from sklearn.model_selection import GridSearchCV\n",
        "\n",
        "#instantiating the random forest classifier\n",
        "forest = RandomForestClassifier(random_state=210)\n",
        "\n",
        "#Since this dataset has target class imbalance, let's\n",
        "# evaluate its performance via an f1 score instead of the\n",
        "# default accuracy.\n",
        "f1 = make_scorer(f1_score)\n",
        "\n",
        "#establishing a parameter grid for GridSearchCV\n",
        "rf_param_grid = {'n_estimators':[5, 10],\n",
        "                 'criterion':['entropy'],\n",
        "                 'max_depth':[None, 4],\n",
        "                 'min_samples_split':[10]}\n",
        "\n",
        "#instantiating GridSearchCV\n",
        "rf_grid_search = GridSearchCV(forest,\n",
        "                              rf_param_grid,\n",
        "                              cv=5,\n",
        "                              return_train_score=True,\n",
        "                              scoring=f1)\n",
        "\n",
        "#fitting the GridSearch to the training data\n",
        "rf_grid_search.fit(X_train_nonstandardized, y_train)"
      ],
      "metadata": {
        "colab": {
          "base_uri": "https://localhost:8080/",
          "height": 117
        },
        "id": "-a3b-J445jIK",
        "outputId": "099bc67e-c876-4424-b647-2ee0c8a7dbd2"
      },
      "execution_count": 28,
      "outputs": [
        {
          "output_type": "execute_result",
          "data": {
            "text/plain": [
              "GridSearchCV(cv=5, estimator=RandomForestClassifier(random_state=210),\n",
              "             param_grid={'criterion': ['entropy'], 'max_depth': [None, 4],\n",
              "                         'min_samples_split': [10], 'n_estimators': [5, 10]},\n",
              "             return_train_score=True, scoring=make_scorer(f1_score))"
            ],
            "text/html": [
              "<style>#sk-container-id-1 {color: black;background-color: white;}#sk-container-id-1 pre{padding: 0;}#sk-container-id-1 div.sk-toggleable {background-color: white;}#sk-container-id-1 label.sk-toggleable__label {cursor: pointer;display: block;width: 100%;margin-bottom: 0;padding: 0.3em;box-sizing: border-box;text-align: center;}#sk-container-id-1 label.sk-toggleable__label-arrow:before {content: \"▸\";float: left;margin-right: 0.25em;color: #696969;}#sk-container-id-1 label.sk-toggleable__label-arrow:hover:before {color: black;}#sk-container-id-1 div.sk-estimator:hover label.sk-toggleable__label-arrow:before {color: black;}#sk-container-id-1 div.sk-toggleable__content {max-height: 0;max-width: 0;overflow: hidden;text-align: left;background-color: #f0f8ff;}#sk-container-id-1 div.sk-toggleable__content pre {margin: 0.2em;color: black;border-radius: 0.25em;background-color: #f0f8ff;}#sk-container-id-1 input.sk-toggleable__control:checked~div.sk-toggleable__content {max-height: 200px;max-width: 100%;overflow: auto;}#sk-container-id-1 input.sk-toggleable__control:checked~label.sk-toggleable__label-arrow:before {content: \"▾\";}#sk-container-id-1 div.sk-estimator input.sk-toggleable__control:checked~label.sk-toggleable__label {background-color: #d4ebff;}#sk-container-id-1 div.sk-label input.sk-toggleable__control:checked~label.sk-toggleable__label {background-color: #d4ebff;}#sk-container-id-1 input.sk-hidden--visually {border: 0;clip: rect(1px 1px 1px 1px);clip: rect(1px, 1px, 1px, 1px);height: 1px;margin: -1px;overflow: hidden;padding: 0;position: absolute;width: 1px;}#sk-container-id-1 div.sk-estimator {font-family: monospace;background-color: #f0f8ff;border: 1px dotted black;border-radius: 0.25em;box-sizing: border-box;margin-bottom: 0.5em;}#sk-container-id-1 div.sk-estimator:hover {background-color: #d4ebff;}#sk-container-id-1 div.sk-parallel-item::after {content: \"\";width: 100%;border-bottom: 1px solid gray;flex-grow: 1;}#sk-container-id-1 div.sk-label:hover label.sk-toggleable__label {background-color: #d4ebff;}#sk-container-id-1 div.sk-serial::before {content: \"\";position: absolute;border-left: 1px solid gray;box-sizing: border-box;top: 0;bottom: 0;left: 50%;z-index: 0;}#sk-container-id-1 div.sk-serial {display: flex;flex-direction: column;align-items: center;background-color: white;padding-right: 0.2em;padding-left: 0.2em;position: relative;}#sk-container-id-1 div.sk-item {position: relative;z-index: 1;}#sk-container-id-1 div.sk-parallel {display: flex;align-items: stretch;justify-content: center;background-color: white;position: relative;}#sk-container-id-1 div.sk-item::before, #sk-container-id-1 div.sk-parallel-item::before {content: \"\";position: absolute;border-left: 1px solid gray;box-sizing: border-box;top: 0;bottom: 0;left: 50%;z-index: -1;}#sk-container-id-1 div.sk-parallel-item {display: flex;flex-direction: column;z-index: 1;position: relative;background-color: white;}#sk-container-id-1 div.sk-parallel-item:first-child::after {align-self: flex-end;width: 50%;}#sk-container-id-1 div.sk-parallel-item:last-child::after {align-self: flex-start;width: 50%;}#sk-container-id-1 div.sk-parallel-item:only-child::after {width: 0;}#sk-container-id-1 div.sk-dashed-wrapped {border: 1px dashed gray;margin: 0 0.4em 0.5em 0.4em;box-sizing: border-box;padding-bottom: 0.4em;background-color: white;}#sk-container-id-1 div.sk-label label {font-family: monospace;font-weight: bold;display: inline-block;line-height: 1.2em;}#sk-container-id-1 div.sk-label-container {text-align: center;}#sk-container-id-1 div.sk-container {/* jupyter's `normalize.less` sets `[hidden] { display: none; }` but bootstrap.min.css set `[hidden] { display: none !important; }` so we also need the `!important` here to be able to override the default hidden behavior on the sphinx rendered scikit-learn.org. See: https://github.com/scikit-learn/scikit-learn/issues/21755 */display: inline-block !important;position: relative;}#sk-container-id-1 div.sk-text-repr-fallback {display: none;}</style><div id=\"sk-container-id-1\" class=\"sk-top-container\"><div class=\"sk-text-repr-fallback\"><pre>GridSearchCV(cv=5, estimator=RandomForestClassifier(random_state=210),\n",
              "             param_grid={&#x27;criterion&#x27;: [&#x27;entropy&#x27;], &#x27;max_depth&#x27;: [None, 4],\n",
              "                         &#x27;min_samples_split&#x27;: [10], &#x27;n_estimators&#x27;: [5, 10]},\n",
              "             return_train_score=True, scoring=make_scorer(f1_score))</pre><b>In a Jupyter environment, please rerun this cell to show the HTML representation or trust the notebook. <br />On GitHub, the HTML representation is unable to render, please try loading this page with nbviewer.org.</b></div><div class=\"sk-container\" hidden><div class=\"sk-item sk-dashed-wrapped\"><div class=\"sk-label-container\"><div class=\"sk-label sk-toggleable\"><input class=\"sk-toggleable__control sk-hidden--visually\" id=\"sk-estimator-id-1\" type=\"checkbox\" ><label for=\"sk-estimator-id-1\" class=\"sk-toggleable__label sk-toggleable__label-arrow\">GridSearchCV</label><div class=\"sk-toggleable__content\"><pre>GridSearchCV(cv=5, estimator=RandomForestClassifier(random_state=210),\n",
              "             param_grid={&#x27;criterion&#x27;: [&#x27;entropy&#x27;], &#x27;max_depth&#x27;: [None, 4],\n",
              "                         &#x27;min_samples_split&#x27;: [10], &#x27;n_estimators&#x27;: [5, 10]},\n",
              "             return_train_score=True, scoring=make_scorer(f1_score))</pre></div></div></div><div class=\"sk-parallel\"><div class=\"sk-parallel-item\"><div class=\"sk-item\"><div class=\"sk-label-container\"><div class=\"sk-label sk-toggleable\"><input class=\"sk-toggleable__control sk-hidden--visually\" id=\"sk-estimator-id-2\" type=\"checkbox\" ><label for=\"sk-estimator-id-2\" class=\"sk-toggleable__label sk-toggleable__label-arrow\">estimator: RandomForestClassifier</label><div class=\"sk-toggleable__content\"><pre>RandomForestClassifier(random_state=210)</pre></div></div></div><div class=\"sk-serial\"><div class=\"sk-item\"><div class=\"sk-estimator sk-toggleable\"><input class=\"sk-toggleable__control sk-hidden--visually\" id=\"sk-estimator-id-3\" type=\"checkbox\" ><label for=\"sk-estimator-id-3\" class=\"sk-toggleable__label sk-toggleable__label-arrow\">RandomForestClassifier</label><div class=\"sk-toggleable__content\"><pre>RandomForestClassifier(random_state=210)</pre></div></div></div></div></div></div></div></div></div></div>"
            ]
          },
          "metadata": {},
          "execution_count": 28
        }
      ]
    },
    {
      "cell_type": "markdown",
      "source": [
        "Before we can evaluate this random forest grid search on testing data, we have to perform one-hot encoding on X_test while refraining from standardizing its numerical columns in order to have an apples-to-apples evaluation."
      ],
      "metadata": {
        "id": "Ohdiw8SbRJuF"
      }
    },
    {
      "cell_type": "code",
      "source": [
        "#isolating X_test's categorical features\n",
        "X_test_categorical = X_test[categorical_features]\n",
        "#transforming them\n",
        "X_test_categorical_ohe = ohe.transform(X_test_categorical)\n",
        "#putting them back into a DataFrame\n",
        "X_test_categorical_ohe = pd.DataFrame(X_test_categorical_ohe,\n",
        "                                       columns = ohe.get_feature_names_out(),\n",
        "                                       index = X_test_categorical.index)\n",
        "#isolating X_test's numeric data\n",
        "X_test_numeric = X_test[numeric_features]\n",
        "#concatenating the non-standardized numeric data with the one-hot encoded categorical columns\n",
        "X_test_nonstandardized = pd.concat([X_test_numeric, X_test_categorical_ohe], axis=1)\n",
        "#making sure it looks right\n",
        "X_test_nonstandardized.head()"
      ],
      "metadata": {
        "colab": {
          "base_uri": "https://localhost:8080/",
          "height": 273
        },
        "id": "Vo7fCEASRHs3",
        "outputId": "54b7f319-4a7c-47c7-d314-d0020e38b958"
      },
      "execution_count": 29,
      "outputs": [
        {
          "output_type": "execute_result",
          "data": {
            "text/plain": [
              "        POSTED_SPEED_LIMIT  NUM_UNITS  CRASH_HOUR   LATITUDE  LONGITUDE  AGE  \\\n",
              "442162                  30          2          17  41.830409 -87.677876   31   \n",
              "856659                  30          2          21  41.960645 -87.762900   51   \n",
              "534978                  30          2           1  41.928408 -87.691399   46   \n",
              "185993                  30          2          12  41.758096 -87.624208   66   \n",
              "534322                  30          2           7  41.997415 -87.754943   16   \n",
              "\n",
              "        WEATHER_CONDITION_BLOWING SAND, SOIL, DIRT  \\\n",
              "442162                                         0.0   \n",
              "856659                                         0.0   \n",
              "534978                                         0.0   \n",
              "185993                                         0.0   \n",
              "534322                                         0.0   \n",
              "\n",
              "        WEATHER_CONDITION_BLOWING SNOW  WEATHER_CONDITION_CLEAR  \\\n",
              "442162                             0.0                      1.0   \n",
              "856659                             0.0                      1.0   \n",
              "534978                             0.0                      1.0   \n",
              "185993                             0.0                      1.0   \n",
              "534322                             0.0                      1.0   \n",
              "\n",
              "        WEATHER_CONDITION_CLOUDY/OVERCAST  ...  \\\n",
              "442162                                0.0  ...   \n",
              "856659                                0.0  ...   \n",
              "534978                                0.0  ...   \n",
              "185993                                0.0  ...   \n",
              "534322                                0.0  ...   \n",
              "\n",
              "        MANEUVER_SKIDDING/CONTROL LOSS  MANEUVER_SLOW/STOP - LEFT TURN  \\\n",
              "442162                             0.0                             0.0   \n",
              "856659                             0.0                             0.0   \n",
              "534978                             0.0                             0.0   \n",
              "185993                             0.0                             0.0   \n",
              "534322                             0.0                             0.0   \n",
              "\n",
              "        MANEUVER_SLOW/STOP - LOAD/UNLOAD  MANEUVER_SLOW/STOP - RIGHT TURN  \\\n",
              "442162                               0.0                              0.0   \n",
              "856659                               0.0                              0.0   \n",
              "534978                               0.0                              0.0   \n",
              "185993                               0.0                              0.0   \n",
              "534322                               0.0                              0.0   \n",
              "\n",
              "        MANEUVER_SLOW/STOP IN TRAFFIC  MANEUVER_STARTING IN TRAFFIC  \\\n",
              "442162                            0.0                           0.0   \n",
              "856659                            0.0                           0.0   \n",
              "534978                            0.0                           0.0   \n",
              "185993                            0.0                           0.0   \n",
              "534322                            0.0                           0.0   \n",
              "\n",
              "        MANEUVER_STRAIGHT AHEAD  MANEUVER_TURNING LEFT  \\\n",
              "442162                      0.0                    0.0   \n",
              "856659                      0.0                    0.0   \n",
              "534978                      0.0                    0.0   \n",
              "185993                      0.0                    0.0   \n",
              "534322                      1.0                    0.0   \n",
              "\n",
              "        MANEUVER_TURNING RIGHT  MANEUVER_U-TURN  \n",
              "442162                     0.0              0.0  \n",
              "856659                     0.0              0.0  \n",
              "534978                     1.0              0.0  \n",
              "185993                     0.0              0.0  \n",
              "534322                     0.0              0.0  \n",
              "\n",
              "[5 rows x 69 columns]"
            ],
            "text/html": [
              "\n",
              "  <div id=\"df-5eac49aa-5ffd-4fd2-bdde-f01ba8faf1c7\" class=\"colab-df-container\">\n",
              "    <div>\n",
              "<style scoped>\n",
              "    .dataframe tbody tr th:only-of-type {\n",
              "        vertical-align: middle;\n",
              "    }\n",
              "\n",
              "    .dataframe tbody tr th {\n",
              "        vertical-align: top;\n",
              "    }\n",
              "\n",
              "    .dataframe thead th {\n",
              "        text-align: right;\n",
              "    }\n",
              "</style>\n",
              "<table border=\"1\" class=\"dataframe\">\n",
              "  <thead>\n",
              "    <tr style=\"text-align: right;\">\n",
              "      <th></th>\n",
              "      <th>POSTED_SPEED_LIMIT</th>\n",
              "      <th>NUM_UNITS</th>\n",
              "      <th>CRASH_HOUR</th>\n",
              "      <th>LATITUDE</th>\n",
              "      <th>LONGITUDE</th>\n",
              "      <th>AGE</th>\n",
              "      <th>WEATHER_CONDITION_BLOWING SAND, SOIL, DIRT</th>\n",
              "      <th>WEATHER_CONDITION_BLOWING SNOW</th>\n",
              "      <th>WEATHER_CONDITION_CLEAR</th>\n",
              "      <th>WEATHER_CONDITION_CLOUDY/OVERCAST</th>\n",
              "      <th>...</th>\n",
              "      <th>MANEUVER_SKIDDING/CONTROL LOSS</th>\n",
              "      <th>MANEUVER_SLOW/STOP - LEFT TURN</th>\n",
              "      <th>MANEUVER_SLOW/STOP - LOAD/UNLOAD</th>\n",
              "      <th>MANEUVER_SLOW/STOP - RIGHT TURN</th>\n",
              "      <th>MANEUVER_SLOW/STOP IN TRAFFIC</th>\n",
              "      <th>MANEUVER_STARTING IN TRAFFIC</th>\n",
              "      <th>MANEUVER_STRAIGHT AHEAD</th>\n",
              "      <th>MANEUVER_TURNING LEFT</th>\n",
              "      <th>MANEUVER_TURNING RIGHT</th>\n",
              "      <th>MANEUVER_U-TURN</th>\n",
              "    </tr>\n",
              "  </thead>\n",
              "  <tbody>\n",
              "    <tr>\n",
              "      <th>442162</th>\n",
              "      <td>30</td>\n",
              "      <td>2</td>\n",
              "      <td>17</td>\n",
              "      <td>41.830409</td>\n",
              "      <td>-87.677876</td>\n",
              "      <td>31</td>\n",
              "      <td>0.0</td>\n",
              "      <td>0.0</td>\n",
              "      <td>1.0</td>\n",
              "      <td>0.0</td>\n",
              "      <td>...</td>\n",
              "      <td>0.0</td>\n",
              "      <td>0.0</td>\n",
              "      <td>0.0</td>\n",
              "      <td>0.0</td>\n",
              "      <td>0.0</td>\n",
              "      <td>0.0</td>\n",
              "      <td>0.0</td>\n",
              "      <td>0.0</td>\n",
              "      <td>0.0</td>\n",
              "      <td>0.0</td>\n",
              "    </tr>\n",
              "    <tr>\n",
              "      <th>856659</th>\n",
              "      <td>30</td>\n",
              "      <td>2</td>\n",
              "      <td>21</td>\n",
              "      <td>41.960645</td>\n",
              "      <td>-87.762900</td>\n",
              "      <td>51</td>\n",
              "      <td>0.0</td>\n",
              "      <td>0.0</td>\n",
              "      <td>1.0</td>\n",
              "      <td>0.0</td>\n",
              "      <td>...</td>\n",
              "      <td>0.0</td>\n",
              "      <td>0.0</td>\n",
              "      <td>0.0</td>\n",
              "      <td>0.0</td>\n",
              "      <td>0.0</td>\n",
              "      <td>0.0</td>\n",
              "      <td>0.0</td>\n",
              "      <td>0.0</td>\n",
              "      <td>0.0</td>\n",
              "      <td>0.0</td>\n",
              "    </tr>\n",
              "    <tr>\n",
              "      <th>534978</th>\n",
              "      <td>30</td>\n",
              "      <td>2</td>\n",
              "      <td>1</td>\n",
              "      <td>41.928408</td>\n",
              "      <td>-87.691399</td>\n",
              "      <td>46</td>\n",
              "      <td>0.0</td>\n",
              "      <td>0.0</td>\n",
              "      <td>1.0</td>\n",
              "      <td>0.0</td>\n",
              "      <td>...</td>\n",
              "      <td>0.0</td>\n",
              "      <td>0.0</td>\n",
              "      <td>0.0</td>\n",
              "      <td>0.0</td>\n",
              "      <td>0.0</td>\n",
              "      <td>0.0</td>\n",
              "      <td>0.0</td>\n",
              "      <td>0.0</td>\n",
              "      <td>1.0</td>\n",
              "      <td>0.0</td>\n",
              "    </tr>\n",
              "    <tr>\n",
              "      <th>185993</th>\n",
              "      <td>30</td>\n",
              "      <td>2</td>\n",
              "      <td>12</td>\n",
              "      <td>41.758096</td>\n",
              "      <td>-87.624208</td>\n",
              "      <td>66</td>\n",
              "      <td>0.0</td>\n",
              "      <td>0.0</td>\n",
              "      <td>1.0</td>\n",
              "      <td>0.0</td>\n",
              "      <td>...</td>\n",
              "      <td>0.0</td>\n",
              "      <td>0.0</td>\n",
              "      <td>0.0</td>\n",
              "      <td>0.0</td>\n",
              "      <td>0.0</td>\n",
              "      <td>0.0</td>\n",
              "      <td>0.0</td>\n",
              "      <td>0.0</td>\n",
              "      <td>0.0</td>\n",
              "      <td>0.0</td>\n",
              "    </tr>\n",
              "    <tr>\n",
              "      <th>534322</th>\n",
              "      <td>30</td>\n",
              "      <td>2</td>\n",
              "      <td>7</td>\n",
              "      <td>41.997415</td>\n",
              "      <td>-87.754943</td>\n",
              "      <td>16</td>\n",
              "      <td>0.0</td>\n",
              "      <td>0.0</td>\n",
              "      <td>1.0</td>\n",
              "      <td>0.0</td>\n",
              "      <td>...</td>\n",
              "      <td>0.0</td>\n",
              "      <td>0.0</td>\n",
              "      <td>0.0</td>\n",
              "      <td>0.0</td>\n",
              "      <td>0.0</td>\n",
              "      <td>0.0</td>\n",
              "      <td>1.0</td>\n",
              "      <td>0.0</td>\n",
              "      <td>0.0</td>\n",
              "      <td>0.0</td>\n",
              "    </tr>\n",
              "  </tbody>\n",
              "</table>\n",
              "<p>5 rows × 69 columns</p>\n",
              "</div>\n",
              "    <div class=\"colab-df-buttons\">\n",
              "\n",
              "  <div class=\"colab-df-container\">\n",
              "    <button class=\"colab-df-convert\" onclick=\"convertToInteractive('df-5eac49aa-5ffd-4fd2-bdde-f01ba8faf1c7')\"\n",
              "            title=\"Convert this dataframe to an interactive table.\"\n",
              "            style=\"display:none;\">\n",
              "\n",
              "  <svg xmlns=\"http://www.w3.org/2000/svg\" height=\"24px\" viewBox=\"0 -960 960 960\">\n",
              "    <path d=\"M120-120v-720h720v720H120Zm60-500h600v-160H180v160Zm220 220h160v-160H400v160Zm0 220h160v-160H400v160ZM180-400h160v-160H180v160Zm440 0h160v-160H620v160ZM180-180h160v-160H180v160Zm440 0h160v-160H620v160Z\"/>\n",
              "  </svg>\n",
              "    </button>\n",
              "\n",
              "  <style>\n",
              "    .colab-df-container {\n",
              "      display:flex;\n",
              "      gap: 12px;\n",
              "    }\n",
              "\n",
              "    .colab-df-convert {\n",
              "      background-color: #E8F0FE;\n",
              "      border: none;\n",
              "      border-radius: 50%;\n",
              "      cursor: pointer;\n",
              "      display: none;\n",
              "      fill: #1967D2;\n",
              "      height: 32px;\n",
              "      padding: 0 0 0 0;\n",
              "      width: 32px;\n",
              "    }\n",
              "\n",
              "    .colab-df-convert:hover {\n",
              "      background-color: #E2EBFA;\n",
              "      box-shadow: 0px 1px 2px rgba(60, 64, 67, 0.3), 0px 1px 3px 1px rgba(60, 64, 67, 0.15);\n",
              "      fill: #174EA6;\n",
              "    }\n",
              "\n",
              "    .colab-df-buttons div {\n",
              "      margin-bottom: 4px;\n",
              "    }\n",
              "\n",
              "    [theme=dark] .colab-df-convert {\n",
              "      background-color: #3B4455;\n",
              "      fill: #D2E3FC;\n",
              "    }\n",
              "\n",
              "    [theme=dark] .colab-df-convert:hover {\n",
              "      background-color: #434B5C;\n",
              "      box-shadow: 0px 1px 3px 1px rgba(0, 0, 0, 0.15);\n",
              "      filter: drop-shadow(0px 1px 2px rgba(0, 0, 0, 0.3));\n",
              "      fill: #FFFFFF;\n",
              "    }\n",
              "  </style>\n",
              "\n",
              "    <script>\n",
              "      const buttonEl =\n",
              "        document.querySelector('#df-5eac49aa-5ffd-4fd2-bdde-f01ba8faf1c7 button.colab-df-convert');\n",
              "      buttonEl.style.display =\n",
              "        google.colab.kernel.accessAllowed ? 'block' : 'none';\n",
              "\n",
              "      async function convertToInteractive(key) {\n",
              "        const element = document.querySelector('#df-5eac49aa-5ffd-4fd2-bdde-f01ba8faf1c7');\n",
              "        const dataTable =\n",
              "          await google.colab.kernel.invokeFunction('convertToInteractive',\n",
              "                                                    [key], {});\n",
              "        if (!dataTable) return;\n",
              "\n",
              "        const docLinkHtml = 'Like what you see? Visit the ' +\n",
              "          '<a target=\"_blank\" href=https://colab.research.google.com/notebooks/data_table.ipynb>data table notebook</a>'\n",
              "          + ' to learn more about interactive tables.';\n",
              "        element.innerHTML = '';\n",
              "        dataTable['output_type'] = 'display_data';\n",
              "        await google.colab.output.renderOutput(dataTable, element);\n",
              "        const docLink = document.createElement('div');\n",
              "        docLink.innerHTML = docLinkHtml;\n",
              "        element.appendChild(docLink);\n",
              "      }\n",
              "    </script>\n",
              "  </div>\n",
              "\n",
              "\n",
              "<div id=\"df-f8635755-69b6-4473-87a9-866a12bec2c2\">\n",
              "  <button class=\"colab-df-quickchart\" onclick=\"quickchart('df-f8635755-69b6-4473-87a9-866a12bec2c2')\"\n",
              "            title=\"Suggest charts\"\n",
              "            style=\"display:none;\">\n",
              "\n",
              "<svg xmlns=\"http://www.w3.org/2000/svg\" height=\"24px\"viewBox=\"0 0 24 24\"\n",
              "     width=\"24px\">\n",
              "    <g>\n",
              "        <path d=\"M19 3H5c-1.1 0-2 .9-2 2v14c0 1.1.9 2 2 2h14c1.1 0 2-.9 2-2V5c0-1.1-.9-2-2-2zM9 17H7v-7h2v7zm4 0h-2V7h2v10zm4 0h-2v-4h2v4z\"/>\n",
              "    </g>\n",
              "</svg>\n",
              "  </button>\n",
              "\n",
              "<style>\n",
              "  .colab-df-quickchart {\n",
              "      --bg-color: #E8F0FE;\n",
              "      --fill-color: #1967D2;\n",
              "      --hover-bg-color: #E2EBFA;\n",
              "      --hover-fill-color: #174EA6;\n",
              "      --disabled-fill-color: #AAA;\n",
              "      --disabled-bg-color: #DDD;\n",
              "  }\n",
              "\n",
              "  [theme=dark] .colab-df-quickchart {\n",
              "      --bg-color: #3B4455;\n",
              "      --fill-color: #D2E3FC;\n",
              "      --hover-bg-color: #434B5C;\n",
              "      --hover-fill-color: #FFFFFF;\n",
              "      --disabled-bg-color: #3B4455;\n",
              "      --disabled-fill-color: #666;\n",
              "  }\n",
              "\n",
              "  .colab-df-quickchart {\n",
              "    background-color: var(--bg-color);\n",
              "    border: none;\n",
              "    border-radius: 50%;\n",
              "    cursor: pointer;\n",
              "    display: none;\n",
              "    fill: var(--fill-color);\n",
              "    height: 32px;\n",
              "    padding: 0;\n",
              "    width: 32px;\n",
              "  }\n",
              "\n",
              "  .colab-df-quickchart:hover {\n",
              "    background-color: var(--hover-bg-color);\n",
              "    box-shadow: 0 1px 2px rgba(60, 64, 67, 0.3), 0 1px 3px 1px rgba(60, 64, 67, 0.15);\n",
              "    fill: var(--button-hover-fill-color);\n",
              "  }\n",
              "\n",
              "  .colab-df-quickchart-complete:disabled,\n",
              "  .colab-df-quickchart-complete:disabled:hover {\n",
              "    background-color: var(--disabled-bg-color);\n",
              "    fill: var(--disabled-fill-color);\n",
              "    box-shadow: none;\n",
              "  }\n",
              "\n",
              "  .colab-df-spinner {\n",
              "    border: 2px solid var(--fill-color);\n",
              "    border-color: transparent;\n",
              "    border-bottom-color: var(--fill-color);\n",
              "    animation:\n",
              "      spin 1s steps(1) infinite;\n",
              "  }\n",
              "\n",
              "  @keyframes spin {\n",
              "    0% {\n",
              "      border-color: transparent;\n",
              "      border-bottom-color: var(--fill-color);\n",
              "      border-left-color: var(--fill-color);\n",
              "    }\n",
              "    20% {\n",
              "      border-color: transparent;\n",
              "      border-left-color: var(--fill-color);\n",
              "      border-top-color: var(--fill-color);\n",
              "    }\n",
              "    30% {\n",
              "      border-color: transparent;\n",
              "      border-left-color: var(--fill-color);\n",
              "      border-top-color: var(--fill-color);\n",
              "      border-right-color: var(--fill-color);\n",
              "    }\n",
              "    40% {\n",
              "      border-color: transparent;\n",
              "      border-right-color: var(--fill-color);\n",
              "      border-top-color: var(--fill-color);\n",
              "    }\n",
              "    60% {\n",
              "      border-color: transparent;\n",
              "      border-right-color: var(--fill-color);\n",
              "    }\n",
              "    80% {\n",
              "      border-color: transparent;\n",
              "      border-right-color: var(--fill-color);\n",
              "      border-bottom-color: var(--fill-color);\n",
              "    }\n",
              "    90% {\n",
              "      border-color: transparent;\n",
              "      border-bottom-color: var(--fill-color);\n",
              "    }\n",
              "  }\n",
              "</style>\n",
              "\n",
              "  <script>\n",
              "    async function quickchart(key) {\n",
              "      const quickchartButtonEl =\n",
              "        document.querySelector('#' + key + ' button');\n",
              "      quickchartButtonEl.disabled = true;  // To prevent multiple clicks.\n",
              "      quickchartButtonEl.classList.add('colab-df-spinner');\n",
              "      try {\n",
              "        const charts = await google.colab.kernel.invokeFunction(\n",
              "            'suggestCharts', [key], {});\n",
              "      } catch (error) {\n",
              "        console.error('Error during call to suggestCharts:', error);\n",
              "      }\n",
              "      quickchartButtonEl.classList.remove('colab-df-spinner');\n",
              "      quickchartButtonEl.classList.add('colab-df-quickchart-complete');\n",
              "    }\n",
              "    (() => {\n",
              "      let quickchartButtonEl =\n",
              "        document.querySelector('#df-f8635755-69b6-4473-87a9-866a12bec2c2 button');\n",
              "      quickchartButtonEl.style.display =\n",
              "        google.colab.kernel.accessAllowed ? 'block' : 'none';\n",
              "    })();\n",
              "  </script>\n",
              "</div>\n",
              "\n",
              "    </div>\n",
              "  </div>\n"
            ],
            "application/vnd.google.colaboratory.intrinsic+json": {
              "type": "dataframe",
              "variable_name": "X_test_nonstandardized"
            }
          },
          "metadata": {},
          "execution_count": 29
        }
      ]
    },
    {
      "cell_type": "code",
      "source": [
        "#mean training score\n",
        "rf_grid_search_train_score = rf_grid_search.cv_results_['mean_train_score'].mean()\n",
        "#mean test score\n",
        "rf_grid_search_test_score = rf_grid_search.score(X_test_nonstandardized, y_test)\n",
        "#printing results\n",
        "print(f'baseline random forest mean training score: {rf_grid_search_train_score :.2%}')\n",
        "print(f'baseline random forest mean test score: {rf_grid_search_test_score :.2%}')\n",
        "print(f'baseline random forest optimal parameter combination:', rf_grid_search.best_params_)"
      ],
      "metadata": {
        "colab": {
          "base_uri": "https://localhost:8080/"
        },
        "id": "VnLikAQ1-Y9W",
        "outputId": "aa1b3e35-3f45-4d4f-c445-3ac6434fa904"
      },
      "execution_count": 30,
      "outputs": [
        {
          "output_type": "stream",
          "name": "stdout",
          "text": [
            "baseline random forest mean training score: 97.08%\n",
            "baseline random forest mean test score: 96.98%\n",
            "baseline random forest optimal parameter combination: {'criterion': 'entropy', 'max_depth': None, 'min_samples_split': 10, 'n_estimators': 10}\n"
          ]
        }
      ]
    },
    {
      "cell_type": "markdown",
      "source": [
        "With a baseline that's been optimized via GridSearchCV in mind, let's (hopefully) further improve on this model by adding in some over/under sampling strategies."
      ],
      "metadata": {
        "id": "CvT3_lg2jDSj"
      }
    },
    {
      "cell_type": "code",
      "source": [
        "#refresher on current state of y_train's distribution\n",
        "y_train.value_counts()"
      ],
      "metadata": {
        "colab": {
          "base_uri": "https://localhost:8080/"
        },
        "id": "6-4Uwbcbp_oy",
        "outputId": "5f5bb1bd-ff8b-43be-e456-1d617a7fb80e"
      },
      "execution_count": 31,
      "outputs": [
        {
          "output_type": "execute_result",
          "data": {
            "text/plain": [
              "TARGET\n",
              "1    656936\n",
              "0     50881\n",
              "Name: count, dtype: int64"
            ]
          },
          "metadata": {},
          "execution_count": 31
        }
      ]
    },
    {
      "cell_type": "code",
      "source": [
        "from imblearn.over_sampling import RandomOverSampler\n",
        "from sklearn.metrics import f1_score\n",
        "\n",
        "#defining five over-sampling strategies from 110% to 150% of the\n",
        "# minority target class in increments of 10%:\n",
        "oversampling_strategies = [{0:55969, 1:656936}, {0:61057, 1:656936}, {0:66145, 1:656936}, {0:71233, 1:656936}, {0:76322, 1:656936}]\n",
        "\n",
        "#empty list for f1 scores\n",
        "f1_scores = []\n",
        "\n",
        "#iterate through each sampling strategy\n",
        "for i in oversampling_strategies:\n",
        "    # define oversampling strategy\n",
        "    oversample = RandomOverSampler(random_state=210, sampling_strategy=i)\n",
        "    # fit and apply the oversampling strategy\n",
        "    X_train_nonstandardized_over, y_train_over = oversample.fit_resample(X_train_nonstandardized, y_train)\n",
        "    #instantiate & fit the model to X-over & y-over with previously optimized parameters\n",
        "    forest_oversample_temp = RandomForestClassifier(criterion='entropy',\n",
        "                                    max_depth=None,\n",
        "                                    min_samples_split=10,\n",
        "                                    n_estimators=10)\n",
        "    forest_oversample_temp.fit(X_train_nonstandardized_over, y_train_over)\n",
        "    #make predictions on test set\n",
        "    y_hat = forest_oversample_temp.predict(X_test_nonstandardized)\n",
        "    #find & append f1 score\n",
        "    f1_scores.append(f1_score(y_test, y_hat))\n",
        "\n",
        "oversampling_percentages = ['110%:', '120%:', '130%:', '140%:', '150%:']\n",
        "print(\"sampling strategies & f1 scores:\", list(zip(oversampling_percentages, f1_scores)))"
      ],
      "metadata": {
        "colab": {
          "base_uri": "https://localhost:8080/"
        },
        "id": "NS2stSpSTs1s",
        "outputId": "2ed2c262-afa1-4d77-94d0-428384b17213"
      },
      "execution_count": 32,
      "outputs": [
        {
          "output_type": "stream",
          "name": "stdout",
          "text": [
            "sampling strategies & f1 scores: [('110%:', 0.9704412284427074), ('120%:', 0.971219876337962), ('130%:', 0.9713085241238119), ('140%:', 0.9715892002632339), ('150%:', 0.9721291937310053)]\n"
          ]
        }
      ]
    },
    {
      "cell_type": "markdown",
      "source": [
        "It looks like over-sampling at 150% works best; let's see whether under-sampling will outperform it."
      ],
      "metadata": {
        "id": "LCH8DX6is0YH"
      }
    },
    {
      "cell_type": "code",
      "source": [
        "from imblearn.under_sampling import RandomUnderSampler\n",
        "\n",
        "#defining five under-sampling strategies from 50% to 90% of the\n",
        "# majority target class in increments of 10%:\n",
        "undersampling_strategies = [{0:50881, 1:328468}, {0:50881, 1:394162}, {0:50881, 1:459855}, {0:50881, 1:525549}, {0:50881, 1:591252}]\n",
        "\n",
        "#empty list for f1 scores\n",
        "f1_scores = []\n",
        "\n",
        "#iterate through each sampling strategy\n",
        "for i in undersampling_strategies:\n",
        "    # define undersampling strategy\n",
        "    undersample = RandomUnderSampler(random_state=210, sampling_strategy=i)\n",
        "    # fit and apply the undersampling strategy\n",
        "    X_train_nonstandardized_under, y_train_under = undersample.fit_resample(X_train_nonstandardized, y_train)\n",
        "    #instantiate & fit the model to X-over & y-over with previously optimized parameters\n",
        "    forest_undersample_temp = RandomForestClassifier(criterion='entropy',\n",
        "                                    max_depth=None,\n",
        "                                    min_samples_split=10,\n",
        "                                    n_estimators=10)\n",
        "    forest_undersample_temp.fit(X_train_nonstandardized_under, y_train_under)\n",
        "    #make predictions on test set\n",
        "    y_hat = forest_undersample_temp.predict(X_test_nonstandardized)\n",
        "    #find & append f1 score\n",
        "    f1_scores.append(f1_score(y_test, y_hat))\n",
        "\n",
        "undersampling_percentages = ['50%:', '60%:', '70%:', '80%:', '90%:']\n",
        "print(\"sampling strategies & f1 scores:\", list(zip(undersampling_percentages, f1_scores)))"
      ],
      "metadata": {
        "colab": {
          "base_uri": "https://localhost:8080/"
        },
        "id": "6ERCYGo6sfQZ",
        "outputId": "72e32c24-fcd0-4afe-98b4-27da9bf5caae"
      },
      "execution_count": 33,
      "outputs": [
        {
          "output_type": "stream",
          "name": "stdout",
          "text": [
            "sampling strategies & f1 scores: [('50%:', 0.968837645058652), ('60%:', 0.969480660939006), ('70%:', 0.9697300001786894), ('80%:', 0.9697751950203274), ('90%:', 0.9697613992368338)]\n"
          ]
        }
      ]
    },
    {
      "cell_type": "markdown",
      "source": [
        "So far, it looks like oversampling the minority class at 150% of its original value count produces the highest f1 score. Before investigating this particular model's feature importances, let's try one more sampling strategy by way of SMOTE."
      ],
      "metadata": {
        "id": "-r378qXaDd3x"
      }
    },
    {
      "cell_type": "code",
      "source": [
        "from imblearn.over_sampling import SMOTE\n",
        "\n",
        "#empty list for f1 scores\n",
        "f1_scores = []\n",
        "\n",
        "#iterate through each SMOTE oversampling strategy\n",
        "for i in oversampling_strategies:\n",
        "    smote = SMOTE(random_state=210, sampling_strategy=i)\n",
        "    # fit the smote-oversampling strategy\n",
        "    X_train_nonstandardized_smote, y_train_smote = smote.fit_resample(X_train_nonstandardized, y_train)\n",
        "    #instantiate & fit the random forest model to X-smote & y-smote with previously optimized parameters\n",
        "    forest_smote_temp = RandomForestClassifier(criterion='entropy',\n",
        "                                    max_depth=None,\n",
        "                                    min_samples_split=10,\n",
        "                                    n_estimators=10)\n",
        "    forest_smote_temp.fit(X_train_nonstandardized_smote, y_train_smote)\n",
        "    #make predictions on test set\n",
        "    y_hat = forest_smote_temp.predict(X_test_nonstandardized)\n",
        "    #find & append f1 score\n",
        "    f1_scores.append(f1_score(y_test, y_hat))\n",
        "\n",
        "smote_oversampling_percentages = ['110%:', '120%:', '130%:', '140%:', '150%:']\n",
        "print(\"sampling strategies & f1 scores:\", list(zip(smote_oversampling_percentages, f1_scores)))"
      ],
      "metadata": {
        "colab": {
          "base_uri": "https://localhost:8080/"
        },
        "id": "Vr29Jhx3IdDG",
        "outputId": "1d4ff9b8-997e-41c3-d363-dbcd51334ad9"
      },
      "execution_count": 34,
      "outputs": [
        {
          "output_type": "stream",
          "name": "stdout",
          "text": [
            "sampling strategies & f1 scores: [('110%:', 0.9702076115321927), ('120%:', 0.9701020153676235), ('130%:', 0.9697396241655382), ('140%:', 0.970268848991185), ('150%:', 0.970208239237407)]\n"
          ]
        }
      ]
    },
    {
      "cell_type": "markdown",
      "source": [
        "It turns out that oversampling the minorty class by 150% is still our best route. Let's examine its feature importances and compare them to our PCA's less_explanatory_loadings_sums variable in order to make a more informed decision on which columns to drop."
      ],
      "metadata": {
        "id": "tOZ0GOoAK7Zg"
      }
    },
    {
      "cell_type": "code",
      "source": [
        "#reestablishing the best random forest model (150% oversampled minority target class data)\n",
        "oversample = RandomOverSampler(random_state=210, sampling_strategy={0:76322, 1:656936})\n",
        "X_train_nonstandardized_over, y_train_over = oversample.fit_resample(X_train_nonstandardized, y_train)\n",
        "final_forest_model = RandomForestClassifier(criterion='entropy',\n",
        "                                            max_depth=None,\n",
        "                                            min_samples_split=10,\n",
        "                                            n_estimators=10)\n",
        "final_forest_model.fit(X_train_nonstandardized_over, y_train_over)\n",
        "\n",
        "#gathering its feature importances\n",
        "forest_feature_importances = final_forest_model.feature_importances_\n",
        "forest_feature_importances"
      ],
      "metadata": {
        "colab": {
          "base_uri": "https://localhost:8080/"
        },
        "id": "BZKbMpHWNCJ8",
        "outputId": "6dc5949f-9fb5-4c92-a1ea-31a5b9d76d2a"
      },
      "execution_count": 35,
      "outputs": [
        {
          "output_type": "execute_result",
          "data": {
            "text/plain": [
              "array([3.69527483e-02, 6.98177716e-02, 8.26582565e-02, 1.59437940e-01,\n",
              "       1.55659619e-01, 1.13174459e-01, 7.52151044e-08, 6.67523936e-04,\n",
              "       3.21496462e-02, 3.19627000e-03, 5.15825422e-04, 1.07784573e-03,\n",
              "       6.70901213e-03, 3.93226933e-04, 8.47946446e-04, 6.18655657e-03,\n",
              "       4.39544759e-03, 6.82760334e-03, 3.01327264e-03, 7.60843121e-03,\n",
              "       3.94052619e-03, 2.15591107e-02, 1.88091471e-02, 2.08926783e-02,\n",
              "       1.16195498e-02, 9.73613764e-03, 1.05113768e-02, 1.06647628e-02,\n",
              "       1.10664955e-02, 1.13954086e-02, 1.16659236e-02, 1.05542180e-02,\n",
              "       8.17037414e-04, 2.46126031e-03, 2.30345519e-04, 1.82675013e-03,\n",
              "       6.94794507e-03, 7.10696451e-03, 2.74046241e-04, 1.11121292e-02,\n",
              "       1.18203173e-02, 2.29673832e-03, 3.07845770e-03, 1.16704802e-02,\n",
              "       3.38468607e-03, 2.43639790e-03, 1.11814705e-02, 6.92337626e-03,\n",
              "       2.99257610e-03, 2.66328381e-03, 6.43005517e-04, 1.45972485e-03,\n",
              "       1.73158605e-03, 9.07487572e-04, 1.24376715e-03, 1.03809693e-03,\n",
              "       1.90527584e-02, 8.10430369e-04, 4.05121099e-03, 9.65012395e-03,\n",
              "       8.95743154e-04, 4.35019090e-04, 3.96743309e-04, 6.37550144e-03,\n",
              "       1.78749252e-03, 7.67942939e-03, 4.12817440e-03, 3.40914534e-03,\n",
              "       1.37548435e-03])"
            ]
          },
          "metadata": {},
          "execution_count": 35
        }
      ]
    },
    {
      "cell_type": "code",
      "source": [
        "fi_rounded = np.around(forest_feature_importances, decimals=3)\n",
        "fi_series = pd.Series(fi_rounded, index=X_train_nonstandardized.columns).sort_values(key=abs)\n",
        "fi_series"
      ],
      "metadata": {
        "colab": {
          "base_uri": "https://localhost:8080/"
        },
        "id": "7BNH_AKNPBSP",
        "outputId": "f1bd3294-d60c-46e1-da35-8c0d479f56af"
      },
      "execution_count": 36,
      "outputs": [
        {
          "output_type": "execute_result",
          "data": {
            "text/plain": [
              "PERSON_TYPE_NON-CONTACT VEHICLE               0.000\n",
              "MANEUVER_SLOW/STOP - RIGHT TURN               0.000\n",
              "MANEUVER_SLOW/STOP - LOAD/UNLOAD              0.000\n",
              "WEATHER_CONDITION_BLOWING SAND, SOIL, DIRT    0.000\n",
              "SEX_X                                         0.000\n",
              "                                              ...  \n",
              "NUM_UNITS                                     0.070\n",
              "CRASH_HOUR                                    0.083\n",
              "AGE                                           0.113\n",
              "LONGITUDE                                     0.156\n",
              "LATITUDE                                      0.159\n",
              "Length: 69, dtype: float64"
            ]
          },
          "metadata": {},
          "execution_count": 36
        }
      ]
    },
    {
      "cell_type": "markdown",
      "source": [
        "Let's get a resfresher on how the PCA evr/loadings looked - below we note how they seem to be working on a different scale because they're the sum of 21 rows-worth of loadings."
      ],
      "metadata": {
        "id": "NouXmty8GSVK"
      }
    },
    {
      "cell_type": "code",
      "source": [
        "loadings_sums"
      ],
      "metadata": {
        "colab": {
          "base_uri": "https://localhost:8080/"
        },
        "id": "r3YwaUvPGgBI",
        "outputId": "bd7161a0-58bf-4329-de87-3dd4540cf491"
      },
      "execution_count": 37,
      "outputs": [
        {
          "output_type": "execute_result",
          "data": {
            "text/plain": [
              "PERSON_TYPE_NON-CONTACT VEHICLE               0.000\n",
              "WEATHER_CONDITION_SEVERE CROSS WIND GATE      0.000\n",
              "WEATHER_CONDITION_BLOWING SAND, SOIL, DIRT    0.000\n",
              "SEX_X                                         0.000\n",
              "MANEUVER_PARKED IN TRAFFIC LANE              -0.001\n",
              "                                              ...  \n",
              "TRAVEL_DIRECTION_S                           -1.179\n",
              "TRAVEL_DIRECTION_E                            1.202\n",
              "LIGHTING_CONDITION_DAYLIGHT                  -1.304\n",
              "NUM_UNITS                                     1.796\n",
              "CRASH_DAY_OF_WEEK_3                          -2.040\n",
              "Length: 69, dtype: float64"
            ]
          },
          "metadata": {},
          "execution_count": 37
        }
      ]
    },
    {
      "cell_type": "markdown",
      "source": [
        "Subsequently, let's scale them down to their average by dividing them by 21 before comparing them to the random forest's feature importances."
      ],
      "metadata": {
        "id": "Vuaol0STGgnb"
      }
    },
    {
      "cell_type": "code",
      "source": [
        "loadings_sums_scaled = loadings_sums/21\n",
        "loadings_sums_scaled"
      ],
      "metadata": {
        "colab": {
          "base_uri": "https://localhost:8080/"
        },
        "id": "H33aaPMbVfxI",
        "outputId": "89fd14ea-ec81-4703-fcf2-1b400eeae2de"
      },
      "execution_count": 38,
      "outputs": [
        {
          "output_type": "execute_result",
          "data": {
            "text/plain": [
              "PERSON_TYPE_NON-CONTACT VEHICLE               0.000000\n",
              "WEATHER_CONDITION_SEVERE CROSS WIND GATE      0.000000\n",
              "WEATHER_CONDITION_BLOWING SAND, SOIL, DIRT    0.000000\n",
              "SEX_X                                         0.000000\n",
              "MANEUVER_PARKED IN TRAFFIC LANE              -0.000048\n",
              "                                                ...   \n",
              "TRAVEL_DIRECTION_S                           -0.056143\n",
              "TRAVEL_DIRECTION_E                            0.057238\n",
              "LIGHTING_CONDITION_DAYLIGHT                  -0.062095\n",
              "NUM_UNITS                                     0.085524\n",
              "CRASH_DAY_OF_WEEK_3                          -0.097143\n",
              "Length: 69, dtype: float64"
            ]
          },
          "metadata": {},
          "execution_count": 38
        }
      ]
    },
    {
      "cell_type": "markdown",
      "source": [
        "Now we can visualize these alongside the PCA loadings to get a better handle on how they compare."
      ],
      "metadata": {
        "id": "47AGBT55TKLZ"
      }
    },
    {
      "cell_type": "code",
      "source": [
        "fig, ax = plt.subplots(figsize=(8,20))\n",
        "ax.barh(loadings_sums_scaled.index, loadings_sums_scaled.values, label='PCA features')\n",
        "ax.barh(fi_series.index, fi_series.values, label='random forest features')\n",
        "plt.legend();"
      ],
      "metadata": {
        "id": "G4vA3oIDTmA3",
        "colab": {
          "base_uri": "https://localhost:8080/",
          "height": 1000
        },
        "outputId": "a7e2bbd2-453b-48dc-dcbb-952f220aed1f"
      },
      "execution_count": 39,
      "outputs": [
        {
          "output_type": "display_data",
          "data": {
            "text/plain": [
              "<Figure size 800x2000 with 1 Axes>"
            ],
            "image/png": "[encoded data removed]"
          },
          "metadata": {}
        }
      ]
    },
    {
      "cell_type": "markdown",
      "source": [
        "PCA loadings and random forest features certainly show different perspectives on a lot of these columns. Generally speaking, though, they tend to agree on a *lot* of columns that don't seem to contribute much to variance or our target. Specifically, it appears that any columns at or below 'PERSON_TYPE_DRIVER' can be dropped, but we'll keep 'MANEUVER_SKIDDING/CONTROL LOSS' and 'MANEUVER_AVODING VEHICLES/OBJECTS' since the random forest is attributing some significance to them."
      ],
      "metadata": {
        "id": "I9x5hl6JG65i"
      }
    },
    {
      "cell_type": "code",
      "source": [
        "preliminary_columns_to_drop = ['PERSON_TYPE_DRIVER', 'TRAVEL_DIRECTION_NW', 'TRAVEL_DIRECTION_NE', 'TRAVEL_DIRECTION_SW', 'MANEUVER_ENTERING TRAFFIC LANE FROM PARKING',\n",
        "                               'PERSON_TYPE_PEDESTRIAN', 'MANEUVER_MERGING', 'PERSON_TYPE_BICYCLE', 'MANEUVER_STARTING IN TRAFFIC', 'MANEUVER_U-TURN',\n",
        "                               'WEATHER_CONDITION_SLEET/HAIL', 'WEATHER_CONDITION_FREEZING RAIN/DRIZZLE', 'MANEUVER_ENTER FROM DRIVE/ALLEY',\n",
        "                               'WEATHER_CONDITION_FOG/SMOKE/HAZE', 'WEATHER_CONDITION_BLOWING SNOW', 'MANEUVER_LEAVING TRAFFIC LANE TO PARK',\n",
        "                               'MANEUVER_SLOW/STOP - LEFT TURN', 'MANEUVER_SLOW/STOP - RIGHT TURN', 'MANEUVER_DRIVING WRONG WAY', 'MANEUVER_SLOW/STOP - LOAD/UNLOAD',\n",
        "                               'MANEUVER_NEGOTIATING A CURVE', 'MANEUVER_PARKED IN TRAFFIC LANE', 'SEX_X', 'WEATHER_CONDITION_BLOWING SAND, SOIL, DIRT',\n",
        "                               'WEATHER_CONDITION_SEVERE CROSS WIND GATE', 'PERSON_TYPE_NON-CONTACT VEHICLE']"
      ],
      "metadata": {
        "id": "ovgqpdqv-vSI"
      },
      "execution_count": 40,
      "outputs": []
    },
    {
      "cell_type": "markdown",
      "source": [
        "Now that we know which columns to run our white-box models with, we can drop them from our training data. Since we'll employ a Logistic Regression model and an individual decision tree model next, we'll actually need to drop these columns from the two training data sets. Both have the categorical variables one-hot encoded, but one has standardized numeric data (important for the Logit model) while the other's is not standardized (meant for the decision tree)."
      ],
      "metadata": {
        "id": "hZnHEbORkIWB"
      }
    },
    {
      "cell_type": "code",
      "source": [
        "X_train_trimmed_and_stnd = X_train_preprocessed.drop(preliminary_columns_to_drop, axis=1)\n",
        "X_train_trimmed_and_stnd.info()"
      ],
      "metadata": {
        "colab": {
          "base_uri": "https://localhost:8080/"
        },
        "id": "zZMWf8_HS_z0",
        "outputId": "231c3bff-ccf4-4782-d337-771220b69fc1"
      },
      "execution_count": 41,
      "outputs": [
        {
          "output_type": "stream",
          "name": "stdout",
          "text": [
            "<class 'pandas.core.frame.DataFrame'>\n",
            "Index: 707817 entries, 571273 to 303626\n",
            "Data columns (total 43 columns):\n",
            " #   Column                                     Non-Null Count   Dtype  \n",
            "---  ------                                     --------------   -----  \n",
            " 0   POSTED_SPEED_LIMIT                         707817 non-null  float64\n",
            " 1   NUM_UNITS                                  707817 non-null  float64\n",
            " 2   CRASH_HOUR                                 707817 non-null  float64\n",
            " 3   LATITUDE                                   707817 non-null  float64\n",
            " 4   LONGITUDE                                  707817 non-null  float64\n",
            " 5   AGE                                        707817 non-null  float64\n",
            " 6   WEATHER_CONDITION_CLEAR                    707817 non-null  float64\n",
            " 7   WEATHER_CONDITION_CLOUDY/OVERCAST          707817 non-null  float64\n",
            " 8   WEATHER_CONDITION_RAIN                     707817 non-null  float64\n",
            " 9   WEATHER_CONDITION_SNOW                     707817 non-null  float64\n",
            " 10  LIGHTING_CONDITION_DARKNESS                707817 non-null  float64\n",
            " 11  LIGHTING_CONDITION_DARKNESS, LIGHTED ROAD  707817 non-null  float64\n",
            " 12  LIGHTING_CONDITION_DAWN                    707817 non-null  float64\n",
            " 13  LIGHTING_CONDITION_DAYLIGHT                707817 non-null  float64\n",
            " 14  LIGHTING_CONDITION_DUSK                    707817 non-null  float64\n",
            " 15  ROADWAY_SURFACE_COND_DRY                   707817 non-null  float64\n",
            " 16  ROADWAY_SURFACE_COND_ICE                   707817 non-null  float64\n",
            " 17  ROADWAY_SURFACE_COND_SNOW OR SLUSH         707817 non-null  float64\n",
            " 18  ROADWAY_SURFACE_COND_WET                   707817 non-null  float64\n",
            " 19  CRASH_DAY_OF_WEEK_1                        707817 non-null  float64\n",
            " 20  CRASH_DAY_OF_WEEK_2                        707817 non-null  float64\n",
            " 21  CRASH_DAY_OF_WEEK_3                        707817 non-null  float64\n",
            " 22  CRASH_DAY_OF_WEEK_4                        707817 non-null  float64\n",
            " 23  CRASH_DAY_OF_WEEK_5                        707817 non-null  float64\n",
            " 24  CRASH_DAY_OF_WEEK_6                        707817 non-null  float64\n",
            " 25  CRASH_DAY_OF_WEEK_7                        707817 non-null  float64\n",
            " 26  SEX_F                                      707817 non-null  float64\n",
            " 27  SEX_M                                      707817 non-null  float64\n",
            " 28  TRAVEL_DIRECTION_E                         707817 non-null  float64\n",
            " 29  TRAVEL_DIRECTION_N                         707817 non-null  float64\n",
            " 30  TRAVEL_DIRECTION_S                         707817 non-null  float64\n",
            " 31  TRAVEL_DIRECTION_SE                        707817 non-null  float64\n",
            " 32  TRAVEL_DIRECTION_W                         707817 non-null  float64\n",
            " 33  MANEUVER_AVOIDING VEHICLES/OBJECTS         707817 non-null  float64\n",
            " 34  MANEUVER_BACKING                           707817 non-null  float64\n",
            " 35  MANEUVER_CHANGING LANES                    707817 non-null  float64\n",
            " 36  MANEUVER_PARKED                            707817 non-null  float64\n",
            " 37  MANEUVER_PASSING/OVERTAKING                707817 non-null  float64\n",
            " 38  MANEUVER_SKIDDING/CONTROL LOSS             707817 non-null  float64\n",
            " 39  MANEUVER_SLOW/STOP IN TRAFFIC              707817 non-null  float64\n",
            " 40  MANEUVER_STRAIGHT AHEAD                    707817 non-null  float64\n",
            " 41  MANEUVER_TURNING LEFT                      707817 non-null  float64\n",
            " 42  MANEUVER_TURNING RIGHT                     707817 non-null  float64\n",
            "dtypes: float64(43)\n",
            "memory usage: 237.6 MB\n"
          ]
        }
      ]
    },
    {
      "cell_type": "code",
      "source": [
        "X_train_timmed_and_non_stnd = X_train_nonstandardized.drop(preliminary_columns_to_drop, axis=1)\n",
        "X_train_timmed_and_non_stnd.info()"
      ],
      "metadata": {
        "colab": {
          "base_uri": "https://localhost:8080/"
        },
        "id": "TgKJeyB1mbGs",
        "outputId": "4aa6bd8d-f4af-4cfb-a13d-4e374cbb45a2"
      },
      "execution_count": 42,
      "outputs": [
        {
          "output_type": "stream",
          "name": "stdout",
          "text": [
            "<class 'pandas.core.frame.DataFrame'>\n",
            "Index: 707817 entries, 571273 to 303626\n",
            "Data columns (total 43 columns):\n",
            " #   Column                                     Non-Null Count   Dtype  \n",
            "---  ------                                     --------------   -----  \n",
            " 0   POSTED_SPEED_LIMIT                         707817 non-null  int64  \n",
            " 1   NUM_UNITS                                  707817 non-null  int64  \n",
            " 2   CRASH_HOUR                                 707817 non-null  int64  \n",
            " 3   LATITUDE                                   707817 non-null  float64\n",
            " 4   LONGITUDE                                  707817 non-null  float64\n",
            " 5   AGE                                        707817 non-null  int64  \n",
            " 6   WEATHER_CONDITION_CLEAR                    707817 non-null  float64\n",
            " 7   WEATHER_CONDITION_CLOUDY/OVERCAST          707817 non-null  float64\n",
            " 8   WEATHER_CONDITION_RAIN                     707817 non-null  float64\n",
            " 9   WEATHER_CONDITION_SNOW                     707817 non-null  float64\n",
            " 10  LIGHTING_CONDITION_DARKNESS                707817 non-null  float64\n",
            " 11  LIGHTING_CONDITION_DARKNESS, LIGHTED ROAD  707817 non-null  float64\n",
            " 12  LIGHTING_CONDITION_DAWN                    707817 non-null  float64\n",
            " 13  LIGHTING_CONDITION_DAYLIGHT                707817 non-null  float64\n",
            " 14  LIGHTING_CONDITION_DUSK                    707817 non-null  float64\n",
            " 15  ROADWAY_SURFACE_COND_DRY                   707817 non-null  float64\n",
            " 16  ROADWAY_SURFACE_COND_ICE                   707817 non-null  float64\n",
            " 17  ROADWAY_SURFACE_COND_SNOW OR SLUSH         707817 non-null  float64\n",
            " 18  ROADWAY_SURFACE_COND_WET                   707817 non-null  float64\n",
            " 19  CRASH_DAY_OF_WEEK_1                        707817 non-null  float64\n",
            " 20  CRASH_DAY_OF_WEEK_2                        707817 non-null  float64\n",
            " 21  CRASH_DAY_OF_WEEK_3                        707817 non-null  float64\n",
            " 22  CRASH_DAY_OF_WEEK_4                        707817 non-null  float64\n",
            " 23  CRASH_DAY_OF_WEEK_5                        707817 non-null  float64\n",
            " 24  CRASH_DAY_OF_WEEK_6                        707817 non-null  float64\n",
            " 25  CRASH_DAY_OF_WEEK_7                        707817 non-null  float64\n",
            " 26  SEX_F                                      707817 non-null  float64\n",
            " 27  SEX_M                                      707817 non-null  float64\n",
            " 28  TRAVEL_DIRECTION_E                         707817 non-null  float64\n",
            " 29  TRAVEL_DIRECTION_N                         707817 non-null  float64\n",
            " 30  TRAVEL_DIRECTION_S                         707817 non-null  float64\n",
            " 31  TRAVEL_DIRECTION_SE                        707817 non-null  float64\n",
            " 32  TRAVEL_DIRECTION_W                         707817 non-null  float64\n",
            " 33  MANEUVER_AVOIDING VEHICLES/OBJECTS         707817 non-null  float64\n",
            " 34  MANEUVER_BACKING                           707817 non-null  float64\n",
            " 35  MANEUVER_CHANGING LANES                    707817 non-null  float64\n",
            " 36  MANEUVER_PARKED                            707817 non-null  float64\n",
            " 37  MANEUVER_PASSING/OVERTAKING                707817 non-null  float64\n",
            " 38  MANEUVER_SKIDDING/CONTROL LOSS             707817 non-null  float64\n",
            " 39  MANEUVER_SLOW/STOP IN TRAFFIC              707817 non-null  float64\n",
            " 40  MANEUVER_STRAIGHT AHEAD                    707817 non-null  float64\n",
            " 41  MANEUVER_TURNING LEFT                      707817 non-null  float64\n",
            " 42  MANEUVER_TURNING RIGHT                     707817 non-null  float64\n",
            "dtypes: float64(39), int64(4)\n",
            "memory usage: 237.6 MB\n"
          ]
        }
      ]
    },
    {
      "cell_type": "markdown",
      "source": [
        "# white-box predictive modeling\n",
        "\n",
        "With an long process of column-trimming complete by way of domain knowledge (in the data engineering notebook) and through modeling (above), we can now fit our trimmed-down columns to two white-box models that will hopefully make sound predictions while remaining relatively simple to interpret for the non-technical stakeholder.\n",
        "\n",
        "First, we'll run a StatsModels Logitistic Regression to see the statistical significance of each column."
      ],
      "metadata": {
        "id": "Ef_G-M6Ymlhx"
      }
    },
    {
      "cell_type": "code",
      "source": [
        "import statsmodels.api as sm\n",
        "#adding the constant to X_train\n",
        "X = sm.add_constant(X_train_trimmed_and_stnd)\n",
        "#instantiating & fitting the Logit model\n",
        "logit_model = sm.Logit(y_train.astype(float), X.astype(float))\n",
        "baseline_result = logit_model.fit(maxiter=3500)\n",
        "#checking the results\n",
        "baseline_result.summary()"
      ],
      "metadata": {
        "colab": {
          "base_uri": "https://localhost:8080/",
          "height": 1000
        },
        "id": "y5DUg7Ctmish",
        "outputId": "ca04f3f0-f0c5-4366-9a6e-de4411a91e45"
      },
      "execution_count": 43,
      "outputs": [
        {
          "output_type": "stream",
          "name": "stdout",
          "text": [
            "Optimization terminated successfully.\n",
            "         Current function value: 0.228359\n",
            "         Iterations 8\n"
          ]
        },
        {
          "output_type": "execute_result",
          "data": {
            "text/plain": [
              "<class 'statsmodels.iolib.summary.Summary'>\n",
              "\"\"\"\n",
              "                           Logit Regression Results                           \n",
              "==============================================================================\n",
              "Dep. Variable:                 TARGET   No. Observations:               707817\n",
              "Model:                          Logit   Df Residuals:                   707776\n",
              "Method:                           MLE   Df Model:                           40\n",
              "Date:                Mon, 20 May 2024   Pseudo R-squ.:                  0.1166\n",
              "Time:                        21:55:16   Log-Likelihood:            -1.6164e+05\n",
              "converged:                       True   LL-Null:                   -1.8296e+05\n",
              "Covariance Type:            nonrobust   LLR p-value:                     0.000\n",
              "=============================================================================================================\n",
              "                                                coef    std err          z      P>|z|      [0.025      0.975]\n",
              "-------------------------------------------------------------------------------------------------------------\n",
              "const                                         0.8283        nan        nan        nan         nan         nan\n",
              "POSTED_SPEED_LIMIT                        -1.363e-06      0.005     -0.000      1.000      -0.010       0.010\n",
              "NUM_UNITS                                    -0.0027      0.004     -0.630      0.529      -0.011       0.006\n",
              "CRASH_HOUR                                    0.1007      0.005     21.366      0.000       0.091       0.110\n",
              "LATITUDE                                      0.3511      0.026     13.455      0.000       0.300       0.402\n",
              "LONGITUDE                                     0.3514      0.027     13.230      0.000       0.299       0.403\n",
              "AGE                                          -0.0318      0.005     -6.494      0.000      -0.041      -0.022\n",
              "WEATHER_CONDITION_CLEAR                       0.9363      0.040     23.172      0.000       0.857       1.016\n",
              "WEATHER_CONDITION_CLOUDY/OVERCAST             0.7683      0.046     16.586      0.000       0.677       0.859\n",
              "WEATHER_CONDITION_RAIN                        0.1893      0.040      4.699      0.000       0.110       0.268\n",
              "WEATHER_CONDITION_SNOW                        0.0055      0.041      0.134      0.893      -0.075       0.086\n",
              "LIGHTING_CONDITION_DARKNESS                   0.2270        nan        nan        nan         nan         nan\n",
              "LIGHTING_CONDITION_DARKNESS, LIGHTED ROAD     0.1426        nan        nan        nan         nan         nan\n",
              "LIGHTING_CONDITION_DAWN                       0.0291        nan        nan        nan         nan         nan\n",
              "LIGHTING_CONDITION_DAYLIGHT                   0.2349        nan        nan        nan         nan         nan\n",
              "LIGHTING_CONDITION_DUSK                       0.1947        nan        nan        nan         nan         nan\n",
              "ROADWAY_SURFACE_COND_DRY                      1.2492   5.38e+04   2.32e-05      1.000   -1.05e+05    1.05e+05\n",
              "ROADWAY_SURFACE_COND_ICE                     -1.2347   5.37e+04   -2.3e-05      1.000   -1.05e+05    1.05e+05\n",
              "ROADWAY_SURFACE_COND_SNOW OR SLUSH           -0.0545   5.38e+04  -1.01e-06      1.000   -1.05e+05    1.05e+05\n",
              "ROADWAY_SURFACE_COND_WET                      0.8683   5.39e+04   1.61e-05      1.000   -1.06e+05    1.06e+05\n",
              "CRASH_DAY_OF_WEEK_1                           0.1406        nan        nan        nan         nan         nan\n",
              "CRASH_DAY_OF_WEEK_2                           0.0963        nan        nan        nan         nan         nan\n",
              "CRASH_DAY_OF_WEEK_3                           0.0901        nan        nan        nan         nan         nan\n",
              "CRASH_DAY_OF_WEEK_4                           0.1168        nan        nan        nan         nan         nan\n",
              "CRASH_DAY_OF_WEEK_5                           0.1397        nan        nan        nan         nan         nan\n",
              "CRASH_DAY_OF_WEEK_6                           0.0971        nan        nan        nan         nan         nan\n",
              "CRASH_DAY_OF_WEEK_7                           0.1478        nan        nan        nan         nan         nan\n",
              "SEX_F                                         0.0371      0.166      0.223      0.824      -0.289       0.363\n",
              "SEX_M                                        -0.0925      0.166     -0.557      0.578      -0.418       0.233\n",
              "TRAVEL_DIRECTION_E                            0.0440      0.029      1.533      0.125      -0.012       0.100\n",
              "TRAVEL_DIRECTION_N                            0.0214      0.029      0.748      0.454      -0.035       0.077\n",
              "TRAVEL_DIRECTION_S                           -0.0207      0.028     -0.725      0.469      -0.077       0.035\n",
              "TRAVEL_DIRECTION_SE                          -0.0846      0.047     -1.801      0.072      -0.177       0.007\n",
              "TRAVEL_DIRECTION_W                            0.0698      0.029      2.428      0.015       0.013       0.126\n",
              "MANEUVER_AVOIDING VEHICLES/OBJECTS           -2.1814      0.045    -48.064      0.000      -2.270      -2.092\n",
              "MANEUVER_BACKING                              0.0504      0.040      1.254      0.210      -0.028       0.129\n",
              "MANEUVER_CHANGING LANES                       0.8873      0.060     14.678      0.000       0.769       1.006\n",
              "MANEUVER_PARKED                              -1.4617      0.029    -50.976      0.000      -1.518      -1.405\n",
              "MANEUVER_PASSING/OVERTAKING                   1.0471      0.057     18.409      0.000       0.936       1.159\n",
              "MANEUVER_SKIDDING/CONTROL LOSS               -2.0755      0.044    -46.891      0.000      -2.162      -1.989\n",
              "MANEUVER_SLOW/STOP IN TRAFFIC                -0.4226      0.027    -15.502      0.000      -0.476      -0.369\n",
              "MANEUVER_STRAIGHT AHEAD                      -0.2713      0.024    -11.250      0.000      -0.319      -0.224\n",
              "MANEUVER_TURNING LEFT                         0.0837      0.030      2.748      0.006       0.024       0.143\n",
              "MANEUVER_TURNING RIGHT                       -0.1012      0.035     -2.865      0.004      -0.170      -0.032\n",
              "=============================================================================================================\n",
              "\"\"\""
            ],
            "text/html": [
              "<table class=\"simpletable\">\n",
              "<caption>Logit Regression Results</caption>\n",
              "<tr>\n",
              "  <th>Dep. Variable:</th>        <td>TARGET</td>      <th>  No. Observations:  </th>   <td>707817</td>   \n",
              "</tr>\n",
              "<tr>\n",
              "  <th>Model:</th>                 <td>Logit</td>      <th>  Df Residuals:      </th>   <td>707776</td>   \n",
              "</tr>\n",
              "<tr>\n",
              "  <th>Method:</th>                 <td>MLE</td>       <th>  Df Model:          </th>   <td>    40</td>   \n",
              "</tr>\n",
              "<tr>\n",
              "  <th>Date:</th>            <td>Mon, 20 May 2024</td> <th>  Pseudo R-squ.:     </th>   <td>0.1166</td>   \n",
              "</tr>\n",
              "<tr>\n",
              "  <th>Time:</th>                <td>21:55:16</td>     <th>  Log-Likelihood:    </th> <td>-1.6164e+05</td>\n",
              "</tr>\n",
              "<tr>\n",
              "  <th>converged:</th>             <td>True</td>       <th>  LL-Null:           </th> <td>-1.8296e+05</td>\n",
              "</tr>\n",
              "<tr>\n",
              "  <th>Covariance Type:</th>     <td>nonrobust</td>    <th>  LLR p-value:       </th>   <td> 0.000</td>   \n",
              "</tr>\n",
              "</table>\n",
              "<table class=\"simpletable\">\n",
              "<tr>\n",
              "                      <td></td>                         <th>coef</th>     <th>std err</th>      <th>z</th>      <th>P>|z|</th>  <th>[0.025</th>    <th>0.975]</th>  \n",
              "</tr>\n",
              "<tr>\n",
              "  <th>const</th>                                     <td>    0.8283</td> <td>      nan</td> <td>      nan</td> <td>   nan</td> <td>      nan</td> <td>      nan</td>\n",
              "</tr>\n",
              "<tr>\n",
              "  <th>POSTED_SPEED_LIMIT</th>                        <td>-1.363e-06</td> <td>    0.005</td> <td>   -0.000</td> <td> 1.000</td> <td>   -0.010</td> <td>    0.010</td>\n",
              "</tr>\n",
              "<tr>\n",
              "  <th>NUM_UNITS</th>                                 <td>   -0.0027</td> <td>    0.004</td> <td>   -0.630</td> <td> 0.529</td> <td>   -0.011</td> <td>    0.006</td>\n",
              "</tr>\n",
              "<tr>\n",
              "  <th>CRASH_HOUR</th>                                <td>    0.1007</td> <td>    0.005</td> <td>   21.366</td> <td> 0.000</td> <td>    0.091</td> <td>    0.110</td>\n",
              "</tr>\n",
              "<tr>\n",
              "  <th>LATITUDE</th>                                  <td>    0.3511</td> <td>    0.026</td> <td>   13.455</td> <td> 0.000</td> <td>    0.300</td> <td>    0.402</td>\n",
              "</tr>\n",
              "<tr>\n",
              "  <th>LONGITUDE</th>                                 <td>    0.3514</td> <td>    0.027</td> <td>   13.230</td> <td> 0.000</td> <td>    0.299</td> <td>    0.403</td>\n",
              "</tr>\n",
              "<tr>\n",
              "  <th>AGE</th>                                       <td>   -0.0318</td> <td>    0.005</td> <td>   -6.494</td> <td> 0.000</td> <td>   -0.041</td> <td>   -0.022</td>\n",
              "</tr>\n",
              "<tr>\n",
              "  <th>WEATHER_CONDITION_CLEAR</th>                   <td>    0.9363</td> <td>    0.040</td> <td>   23.172</td> <td> 0.000</td> <td>    0.857</td> <td>    1.016</td>\n",
              "</tr>\n",
              "<tr>\n",
              "  <th>WEATHER_CONDITION_CLOUDY/OVERCAST</th>         <td>    0.7683</td> <td>    0.046</td> <td>   16.586</td> <td> 0.000</td> <td>    0.677</td> <td>    0.859</td>\n",
              "</tr>\n",
              "<tr>\n",
              "  <th>WEATHER_CONDITION_RAIN</th>                    <td>    0.1893</td> <td>    0.040</td> <td>    4.699</td> <td> 0.000</td> <td>    0.110</td> <td>    0.268</td>\n",
              "</tr>\n",
              "<tr>\n",
              "  <th>WEATHER_CONDITION_SNOW</th>                    <td>    0.0055</td> <td>    0.041</td> <td>    0.134</td> <td> 0.893</td> <td>   -0.075</td> <td>    0.086</td>\n",
              "</tr>\n",
              "<tr>\n",
              "  <th>LIGHTING_CONDITION_DARKNESS</th>               <td>    0.2270</td> <td>      nan</td> <td>      nan</td> <td>   nan</td> <td>      nan</td> <td>      nan</td>\n",
              "</tr>\n",
              "<tr>\n",
              "  <th>LIGHTING_CONDITION_DARKNESS, LIGHTED ROAD</th> <td>    0.1426</td> <td>      nan</td> <td>      nan</td> <td>   nan</td> <td>      nan</td> <td>      nan</td>\n",
              "</tr>\n",
              "<tr>\n",
              "  <th>LIGHTING_CONDITION_DAWN</th>                   <td>    0.0291</td> <td>      nan</td> <td>      nan</td> <td>   nan</td> <td>      nan</td> <td>      nan</td>\n",
              "</tr>\n",
              "<tr>\n",
              "  <th>LIGHTING_CONDITION_DAYLIGHT</th>               <td>    0.2349</td> <td>      nan</td> <td>      nan</td> <td>   nan</td> <td>      nan</td> <td>      nan</td>\n",
              "</tr>\n",
              "<tr>\n",
              "  <th>LIGHTING_CONDITION_DUSK</th>                   <td>    0.1947</td> <td>      nan</td> <td>      nan</td> <td>   nan</td> <td>      nan</td> <td>      nan</td>\n",
              "</tr>\n",
              "<tr>\n",
              "  <th>ROADWAY_SURFACE_COND_DRY</th>                  <td>    1.2492</td> <td> 5.38e+04</td> <td> 2.32e-05</td> <td> 1.000</td> <td>-1.05e+05</td> <td> 1.05e+05</td>\n",
              "</tr>\n",
              "<tr>\n",
              "  <th>ROADWAY_SURFACE_COND_ICE</th>                  <td>   -1.2347</td> <td> 5.37e+04</td> <td> -2.3e-05</td> <td> 1.000</td> <td>-1.05e+05</td> <td> 1.05e+05</td>\n",
              "</tr>\n",
              "<tr>\n",
              "  <th>ROADWAY_SURFACE_COND_SNOW OR SLUSH</th>        <td>   -0.0545</td> <td> 5.38e+04</td> <td>-1.01e-06</td> <td> 1.000</td> <td>-1.05e+05</td> <td> 1.05e+05</td>\n",
              "</tr>\n",
              "<tr>\n",
              "  <th>ROADWAY_SURFACE_COND_WET</th>                  <td>    0.8683</td> <td> 5.39e+04</td> <td> 1.61e-05</td> <td> 1.000</td> <td>-1.06e+05</td> <td> 1.06e+05</td>\n",
              "</tr>\n",
              "<tr>\n",
              "  <th>CRASH_DAY_OF_WEEK_1</th>                       <td>    0.1406</td> <td>      nan</td> <td>      nan</td> <td>   nan</td> <td>      nan</td> <td>      nan</td>\n",
              "</tr>\n",
              "<tr>\n",
              "  <th>CRASH_DAY_OF_WEEK_2</th>                       <td>    0.0963</td> <td>      nan</td> <td>      nan</td> <td>   nan</td> <td>      nan</td> <td>      nan</td>\n",
              "</tr>\n",
              "<tr>\n",
              "  <th>CRASH_DAY_OF_WEEK_3</th>                       <td>    0.0901</td> <td>      nan</td> <td>      nan</td> <td>   nan</td> <td>      nan</td> <td>      nan</td>\n",
              "</tr>\n",
              "<tr>\n",
              "  <th>CRASH_DAY_OF_WEEK_4</th>                       <td>    0.1168</td> <td>      nan</td> <td>      nan</td> <td>   nan</td> <td>      nan</td> <td>      nan</td>\n",
              "</tr>\n",
              "<tr>\n",
              "  <th>CRASH_DAY_OF_WEEK_5</th>                       <td>    0.1397</td> <td>      nan</td> <td>      nan</td> <td>   nan</td> <td>      nan</td> <td>      nan</td>\n",
              "</tr>\n",
              "<tr>\n",
              "  <th>CRASH_DAY_OF_WEEK_6</th>                       <td>    0.0971</td> <td>      nan</td> <td>      nan</td> <td>   nan</td> <td>      nan</td> <td>      nan</td>\n",
              "</tr>\n",
              "<tr>\n",
              "  <th>CRASH_DAY_OF_WEEK_7</th>                       <td>    0.1478</td> <td>      nan</td> <td>      nan</td> <td>   nan</td> <td>      nan</td> <td>      nan</td>\n",
              "</tr>\n",
              "<tr>\n",
              "  <th>SEX_F</th>                                     <td>    0.0371</td> <td>    0.166</td> <td>    0.223</td> <td> 0.824</td> <td>   -0.289</td> <td>    0.363</td>\n",
              "</tr>\n",
              "<tr>\n",
              "  <th>SEX_M</th>                                     <td>   -0.0925</td> <td>    0.166</td> <td>   -0.557</td> <td> 0.578</td> <td>   -0.418</td> <td>    0.233</td>\n",
              "</tr>\n",
              "<tr>\n",
              "  <th>TRAVEL_DIRECTION_E</th>                        <td>    0.0440</td> <td>    0.029</td> <td>    1.533</td> <td> 0.125</td> <td>   -0.012</td> <td>    0.100</td>\n",
              "</tr>\n",
              "<tr>\n",
              "  <th>TRAVEL_DIRECTION_N</th>                        <td>    0.0214</td> <td>    0.029</td> <td>    0.748</td> <td> 0.454</td> <td>   -0.035</td> <td>    0.077</td>\n",
              "</tr>\n",
              "<tr>\n",
              "  <th>TRAVEL_DIRECTION_S</th>                        <td>   -0.0207</td> <td>    0.028</td> <td>   -0.725</td> <td> 0.469</td> <td>   -0.077</td> <td>    0.035</td>\n",
              "</tr>\n",
              "<tr>\n",
              "  <th>TRAVEL_DIRECTION_SE</th>                       <td>   -0.0846</td> <td>    0.047</td> <td>   -1.801</td> <td> 0.072</td> <td>   -0.177</td> <td>    0.007</td>\n",
              "</tr>\n",
              "<tr>\n",
              "  <th>TRAVEL_DIRECTION_W</th>                        <td>    0.0698</td> <td>    0.029</td> <td>    2.428</td> <td> 0.015</td> <td>    0.013</td> <td>    0.126</td>\n",
              "</tr>\n",
              "<tr>\n",
              "  <th>MANEUVER_AVOIDING VEHICLES/OBJECTS</th>        <td>   -2.1814</td> <td>    0.045</td> <td>  -48.064</td> <td> 0.000</td> <td>   -2.270</td> <td>   -2.092</td>\n",
              "</tr>\n",
              "<tr>\n",
              "  <th>MANEUVER_BACKING</th>                          <td>    0.0504</td> <td>    0.040</td> <td>    1.254</td> <td> 0.210</td> <td>   -0.028</td> <td>    0.129</td>\n",
              "</tr>\n",
              "<tr>\n",
              "  <th>MANEUVER_CHANGING LANES</th>                   <td>    0.8873</td> <td>    0.060</td> <td>   14.678</td> <td> 0.000</td> <td>    0.769</td> <td>    1.006</td>\n",
              "</tr>\n",
              "<tr>\n",
              "  <th>MANEUVER_PARKED</th>                           <td>   -1.4617</td> <td>    0.029</td> <td>  -50.976</td> <td> 0.000</td> <td>   -1.518</td> <td>   -1.405</td>\n",
              "</tr>\n",
              "<tr>\n",
              "  <th>MANEUVER_PASSING/OVERTAKING</th>               <td>    1.0471</td> <td>    0.057</td> <td>   18.409</td> <td> 0.000</td> <td>    0.936</td> <td>    1.159</td>\n",
              "</tr>\n",
              "<tr>\n",
              "  <th>MANEUVER_SKIDDING/CONTROL LOSS</th>            <td>   -2.0755</td> <td>    0.044</td> <td>  -46.891</td> <td> 0.000</td> <td>   -2.162</td> <td>   -1.989</td>\n",
              "</tr>\n",
              "<tr>\n",
              "  <th>MANEUVER_SLOW/STOP IN TRAFFIC</th>             <td>   -0.4226</td> <td>    0.027</td> <td>  -15.502</td> <td> 0.000</td> <td>   -0.476</td> <td>   -0.369</td>\n",
              "</tr>\n",
              "<tr>\n",
              "  <th>MANEUVER_STRAIGHT AHEAD</th>                   <td>   -0.2713</td> <td>    0.024</td> <td>  -11.250</td> <td> 0.000</td> <td>   -0.319</td> <td>   -0.224</td>\n",
              "</tr>\n",
              "<tr>\n",
              "  <th>MANEUVER_TURNING LEFT</th>                     <td>    0.0837</td> <td>    0.030</td> <td>    2.748</td> <td> 0.006</td> <td>    0.024</td> <td>    0.143</td>\n",
              "</tr>\n",
              "<tr>\n",
              "  <th>MANEUVER_TURNING RIGHT</th>                    <td>   -0.1012</td> <td>    0.035</td> <td>   -2.865</td> <td> 0.004</td> <td>   -0.170</td> <td>   -0.032</td>\n",
              "</tr>\n",
              "</table>"
            ],
            "text/latex": "\\begin{center}\n\\begin{tabular}{lclc}\n\\toprule\n\\textbf{Dep. Variable:}                              &      TARGET      & \\textbf{  No. Observations:  } &    707817    \\\\\n\\textbf{Model:}                                      &      Logit       & \\textbf{  Df Residuals:      } &    707776    \\\\\n\\textbf{Method:}                                     &       MLE        & \\textbf{  Df Model:          } &        40    \\\\\n\\textbf{Date:}                                       & Mon, 20 May 2024 & \\textbf{  Pseudo R-squ.:     } &    0.1166    \\\\\n\\textbf{Time:}                                       &     21:55:16     & \\textbf{  Log-Likelihood:    } & -1.6164e+05  \\\\\n\\textbf{converged:}                                  &       True       & \\textbf{  LL-Null:           } & -1.8296e+05  \\\\\n\\textbf{Covariance Type:}                            &    nonrobust     & \\textbf{  LLR p-value:       } &     0.000    \\\\\n\\bottomrule\n\\end{tabular}\n\\begin{tabular}{lcccccc}\n                                                     & \\textbf{coef} & \\textbf{std err} & \\textbf{z} & \\textbf{P$> |$z$|$} & \\textbf{[0.025} & \\textbf{0.975]}  \\\\\n\\midrule\n\\textbf{const}                                       &       0.8283  &          nan     &       nan  &           nan        &          nan    &          nan     \\\\\n\\textbf{POSTED\\_SPEED\\_LIMIT}                        &   -1.363e-06  &        0.005     &    -0.000  &         1.000        &       -0.010    &        0.010     \\\\\n\\textbf{NUM\\_UNITS}                                  &      -0.0027  &        0.004     &    -0.630  &         0.529        &       -0.011    &        0.006     \\\\\n\\textbf{CRASH\\_HOUR}                                 &       0.1007  &        0.005     &    21.366  &         0.000        &        0.091    &        0.110     \\\\\n\\textbf{LATITUDE}                                    &       0.3511  &        0.026     &    13.455  &         0.000        &        0.300    &        0.402     \\\\\n\\textbf{LONGITUDE}                                   &       0.3514  &        0.027     &    13.230  &         0.000        &        0.299    &        0.403     \\\\\n\\textbf{AGE}                                         &      -0.0318  &        0.005     &    -6.494  &         0.000        &       -0.041    &       -0.022     \\\\\n\\textbf{WEATHER\\_CONDITION\\_CLEAR}                   &       0.9363  &        0.040     &    23.172  &         0.000        &        0.857    &        1.016     \\\\\n\\textbf{WEATHER\\_CONDITION\\_CLOUDY/OVERCAST}         &       0.7683  &        0.046     &    16.586  &         0.000        &        0.677    &        0.859     \\\\\n\\textbf{WEATHER\\_CONDITION\\_RAIN}                    &       0.1893  &        0.040     &     4.699  &         0.000        &        0.110    &        0.268     \\\\\n\\textbf{WEATHER\\_CONDITION\\_SNOW}                    &       0.0055  &        0.041     &     0.134  &         0.893        &       -0.075    &        0.086     \\\\\n\\textbf{LIGHTING\\_CONDITION\\_DARKNESS}               &       0.2270  &          nan     &       nan  &           nan        &          nan    &          nan     \\\\\n\\textbf{LIGHTING\\_CONDITION\\_DARKNESS, LIGHTED ROAD} &       0.1426  &          nan     &       nan  &           nan        &          nan    &          nan     \\\\\n\\textbf{LIGHTING\\_CONDITION\\_DAWN}                   &       0.0291  &          nan     &       nan  &           nan        &          nan    &          nan     \\\\\n\\textbf{LIGHTING\\_CONDITION\\_DAYLIGHT}               &       0.2349  &          nan     &       nan  &           nan        &          nan    &          nan     \\\\\n\\textbf{LIGHTING\\_CONDITION\\_DUSK}                   &       0.1947  &          nan     &       nan  &           nan        &          nan    &          nan     \\\\\n\\textbf{ROADWAY\\_SURFACE\\_COND\\_DRY}                 &       1.2492  &     5.38e+04     &  2.32e-05  &         1.000        &    -1.05e+05    &     1.05e+05     \\\\\n\\textbf{ROADWAY\\_SURFACE\\_COND\\_ICE}                 &      -1.2347  &     5.37e+04     &  -2.3e-05  &         1.000        &    -1.05e+05    &     1.05e+05     \\\\\n\\textbf{ROADWAY\\_SURFACE\\_COND\\_SNOW OR SLUSH}       &      -0.0545  &     5.38e+04     & -1.01e-06  &         1.000        &    -1.05e+05    &     1.05e+05     \\\\\n\\textbf{ROADWAY\\_SURFACE\\_COND\\_WET}                 &       0.8683  &     5.39e+04     &  1.61e-05  &         1.000        &    -1.06e+05    &     1.06e+05     \\\\\n\\textbf{CRASH\\_DAY\\_OF\\_WEEK\\_1}                     &       0.1406  &          nan     &       nan  &           nan        &          nan    &          nan     \\\\\n\\textbf{CRASH\\_DAY\\_OF\\_WEEK\\_2}                     &       0.0963  &          nan     &       nan  &           nan        &          nan    &          nan     \\\\\n\\textbf{CRASH\\_DAY\\_OF\\_WEEK\\_3}                     &       0.0901  &          nan     &       nan  &           nan        &          nan    &          nan     \\\\\n\\textbf{CRASH\\_DAY\\_OF\\_WEEK\\_4}                     &       0.1168  &          nan     &       nan  &           nan        &          nan    &          nan     \\\\\n\\textbf{CRASH\\_DAY\\_OF\\_WEEK\\_5}                     &       0.1397  &          nan     &       nan  &           nan        &          nan    &          nan     \\\\\n\\textbf{CRASH\\_DAY\\_OF\\_WEEK\\_6}                     &       0.0971  &          nan     &       nan  &           nan        &          nan    &          nan     \\\\\n\\textbf{CRASH\\_DAY\\_OF\\_WEEK\\_7}                     &       0.1478  &          nan     &       nan  &           nan        &          nan    &          nan     \\\\\n\\textbf{SEX\\_F}                                      &       0.0371  &        0.166     &     0.223  &         0.824        &       -0.289    &        0.363     \\\\\n\\textbf{SEX\\_M}                                      &      -0.0925  &        0.166     &    -0.557  &         0.578        &       -0.418    &        0.233     \\\\\n\\textbf{TRAVEL\\_DIRECTION\\_E}                        &       0.0440  &        0.029     &     1.533  &         0.125        &       -0.012    &        0.100     \\\\\n\\textbf{TRAVEL\\_DIRECTION\\_N}                        &       0.0214  &        0.029     &     0.748  &         0.454        &       -0.035    &        0.077     \\\\\n\\textbf{TRAVEL\\_DIRECTION\\_S}                        &      -0.0207  &        0.028     &    -0.725  &         0.469        &       -0.077    &        0.035     \\\\\n\\textbf{TRAVEL\\_DIRECTION\\_SE}                       &      -0.0846  &        0.047     &    -1.801  &         0.072        &       -0.177    &        0.007     \\\\\n\\textbf{TRAVEL\\_DIRECTION\\_W}                        &       0.0698  &        0.029     &     2.428  &         0.015        &        0.013    &        0.126     \\\\\n\\textbf{MANEUVER\\_AVOIDING VEHICLES/OBJECTS}         &      -2.1814  &        0.045     &   -48.064  &         0.000        &       -2.270    &       -2.092     \\\\\n\\textbf{MANEUVER\\_BACKING}                           &       0.0504  &        0.040     &     1.254  &         0.210        &       -0.028    &        0.129     \\\\\n\\textbf{MANEUVER\\_CHANGING LANES}                    &       0.8873  &        0.060     &    14.678  &         0.000        &        0.769    &        1.006     \\\\\n\\textbf{MANEUVER\\_PARKED}                            &      -1.4617  &        0.029     &   -50.976  &         0.000        &       -1.518    &       -1.405     \\\\\n\\textbf{MANEUVER\\_PASSING/OVERTAKING}                &       1.0471  &        0.057     &    18.409  &         0.000        &        0.936    &        1.159     \\\\\n\\textbf{MANEUVER\\_SKIDDING/CONTROL LOSS}             &      -2.0755  &        0.044     &   -46.891  &         0.000        &       -2.162    &       -1.989     \\\\\n\\textbf{MANEUVER\\_SLOW/STOP IN TRAFFIC}              &      -0.4226  &        0.027     &   -15.502  &         0.000        &       -0.476    &       -0.369     \\\\\n\\textbf{MANEUVER\\_STRAIGHT AHEAD}                    &      -0.2713  &        0.024     &   -11.250  &         0.000        &       -0.319    &       -0.224     \\\\\n\\textbf{MANEUVER\\_TURNING LEFT}                      &       0.0837  &        0.030     &     2.748  &         0.006        &        0.024    &        0.143     \\\\\n\\textbf{MANEUVER\\_TURNING RIGHT}                     &      -0.1012  &        0.035     &    -2.865  &         0.004        &       -0.170    &       -0.032     \\\\\n\\bottomrule\n\\end{tabular}\n%\\caption{Logit Regression Results}\n\\end{center}"
          },
          "metadata": {},
          "execution_count": 43
        }
      ]
    },
    {
      "cell_type": "markdown",
      "source": [
        "These results are horrendous, but I think a big part of the problem is the fact that a few categorical columns in the dataset - 'ROADWAY_SURFACE_COND', 'LIGHTING_CONDITION', and 'CRASH_DAY_OF_WEEK' - have not had any of their constituent one-hot encoded classes dropped yet, which results in multicollinearity issues. Subsequently, all three of these columns need to have an ohe-class column dropped. The silver lining is that we won't have to do this when we run the decision tree model.\n",
        "\n",
        "In any case, [it's important to carefully consider *which* class to drop](https://towardsdatascience.com/drop-first-can-hurt-your-ols-regression-models-interpretability-4ca529cfb707) and not just arbitrarily drop the first one. Let's take a look at the first column in question:"
      ],
      "metadata": {
        "id": "K_uIOHuTovTy"
      }
    },
    {
      "cell_type": "code",
      "source": [
        "X_train_categorical['ROADWAY_SURFACE_COND'].value_counts()"
      ],
      "metadata": {
        "colab": {
          "base_uri": "https://localhost:8080/"
        },
        "id": "dmlIBc7cx9av",
        "outputId": "555b3272-54bc-47f2-dc11-235c502b5a1a"
      },
      "execution_count": 44,
      "outputs": [
        {
          "output_type": "execute_result",
          "data": {
            "text/plain": [
              "ROADWAY_SURFACE_COND\n",
              "DRY              561857\n",
              "WET              113890\n",
              "SNOW OR SLUSH     26159\n",
              "ICE                5911\n",
              "Name: count, dtype: int64"
            ]
          },
          "metadata": {},
          "execution_count": 44
        }
      ]
    },
    {
      "cell_type": "markdown",
      "source": [
        "One one hand, we may think to drop the 'DRY' class because it's a go-to standard driving time that we'd be inclined to compare other, less common weather conditions to. However, dropping 'DRY' rows would also drop almost 80% of our rows, so let's *not* do that.\n",
        "\n",
        "Fortunately, we do have grounds to drop the class with the most average coefficient among the road condition classes, which would be 'SNOW OR SLUSH' and that only results in a row loss of 4% - much more managable. Dropping this class means that we'll need to recognize that the remaining 'ROADWAY_SURFACE_COND' columns reference back to their median class of 'SNOW OR SLUSH'.\n",
        "\n",
        "When looking at the lighting condition classes, we see the following:"
      ],
      "metadata": {
        "id": "ImdtS_HYx9vZ"
      }
    },
    {
      "cell_type": "code",
      "source": [
        "X_train_categorical['LIGHTING_CONDITION'].value_counts()"
      ],
      "metadata": {
        "colab": {
          "base_uri": "https://localhost:8080/"
        },
        "id": "IycFusFWoRoS",
        "outputId": "a97c79d5-00b2-4a9a-baa7-f5fa0b27d9c3"
      },
      "execution_count": 45,
      "outputs": [
        {
          "output_type": "execute_result",
          "data": {
            "text/plain": [
              "LIGHTING_CONDITION\n",
              "DAYLIGHT                  492069\n",
              "DARKNESS, LIGHTED ROAD    155616\n",
              "DARKNESS                   26394\n",
              "DUSK                       22094\n",
              "DAWN                       11644\n",
              "Name: count, dtype: int64"
            ]
          },
          "metadata": {},
          "execution_count": 45
        }
      ]
    },
    {
      "cell_type": "markdown",
      "source": [
        "Again, we may consider dropping the 'DAYLIGHT' class since it represents the most common, unmarked, 'baseline' sort of lighting condition. However, dropping that class results in a *lot* of lost data. Instead, let's drop 'DUSK' since it represents the median coefficient value and doesn't result in nearly as much data being lost. Dropping this class means that we'll need to recognize that the remaining 'LIGHTING_CONDITION' columns reference back to their median class of 'DUSK'.\n",
        "\n",
        "With that decided, let's also take a look at 'CRASH_DAY_OF_WEEK' value counts:"
      ],
      "metadata": {
        "id": "kmrJJUWesBhc"
      }
    },
    {
      "cell_type": "code",
      "source": [
        "X_train_categorical['CRASH_DAY_OF_WEEK'].value_counts()"
      ],
      "metadata": {
        "colab": {
          "base_uri": "https://localhost:8080/"
        },
        "id": "HJbZb3ZypmSP",
        "outputId": "baa3c32c-7434-4850-c273-c991efde77df"
      },
      "execution_count": 46,
      "outputs": [
        {
          "output_type": "execute_result",
          "data": {
            "text/plain": [
              "CRASH_DAY_OF_WEEK\n",
              "6    118376\n",
              "5    104342\n",
              "3    102897\n",
              "4    102742\n",
              "7    102254\n",
              "2     96292\n",
              "1     80914\n",
              "Name: count, dtype: int64"
            ]
          },
          "metadata": {},
          "execution_count": 46
        }
      ]
    },
    {
      "cell_type": "markdown",
      "source": [
        "This is not great news - the median coefficient class from our results puts '4' (Wednesday) as the median class, which will result in the loss of 102,742 rows from our data, but doing so will make our StatsModels Logit results interpretable, so we have to do it."
      ],
      "metadata": {
        "id": "pOBF1uwrwMSx"
      }
    },
    {
      "cell_type": "code",
      "source": [
        "preliminary_columns_to_drop_for_statsmodels = ['ROADWAY_SURFACE_COND_SNOW OR SLUSH',\n",
        "                                               'LIGHTING_CONDITION_DUSK',\n",
        "                                               'CRASH_DAY_OF_WEEK_4']"
      ],
      "metadata": {
        "id": "7vFu91C9Pz3u"
      },
      "execution_count": 47,
      "outputs": []
    },
    {
      "cell_type": "code",
      "source": [
        "#dropping the classes\n",
        "X_train_trimmed_and_stnd_for_Logit = X_train_trimmed_and_stnd.drop(preliminary_columns_to_drop_for_statsmodels, axis=1)\n",
        "#refitting the model\n",
        "X = sm.add_constant(X_train_trimmed_and_stnd_for_Logit)\n",
        "#instantiating & fitting the Logit model\n",
        "logit_model = sm.Logit(y_train.astype(float), X.astype(float))\n",
        "baseline_result = logit_model.fit(maxiter=3500)\n",
        "#checking the results\n",
        "baseline_result.summary()"
      ],
      "metadata": {
        "colab": {
          "base_uri": "https://localhost:8080/",
          "height": 1000
        },
        "id": "1D3pQgWiv4PW",
        "outputId": "19dea3b5-b367-4b2c-9d96-8a3f980c486d"
      },
      "execution_count": 48,
      "outputs": [
        {
          "output_type": "stream",
          "name": "stdout",
          "text": [
            "Optimization terminated successfully.\n",
            "         Current function value: 0.228359\n",
            "         Iterations 8\n"
          ]
        },
        {
          "output_type": "execute_result",
          "data": {
            "text/plain": [
              "<class 'statsmodels.iolib.summary.Summary'>\n",
              "\"\"\"\n",
              "                           Logit Regression Results                           \n",
              "==============================================================================\n",
              "Dep. Variable:                 TARGET   No. Observations:               707817\n",
              "Model:                          Logit   Df Residuals:                   707776\n",
              "Method:                           MLE   Df Model:                           40\n",
              "Date:                Mon, 20 May 2024   Pseudo R-squ.:                  0.1166\n",
              "Time:                        21:55:26   Log-Likelihood:            -1.6164e+05\n",
              "converged:                       True   LL-Null:                   -1.8296e+05\n",
              "Covariance Type:            nonrobust   LLR p-value:                     0.000\n",
              "=============================================================================================================\n",
              "                                                coef    std err          z      P>|z|      [0.025      0.975]\n",
              "-------------------------------------------------------------------------------------------------------------\n",
              "const                                         1.0853      0.177      6.147      0.000       0.739       1.431\n",
              "POSTED_SPEED_LIMIT                        -1.363e-06      0.005     -0.000      1.000      -0.010       0.010\n",
              "NUM_UNITS                                    -0.0027      0.004     -0.630      0.529      -0.011       0.006\n",
              "CRASH_HOUR                                    0.1007      0.005     21.366      0.000       0.091       0.110\n",
              "LATITUDE                                      0.3511      0.026     13.455      0.000       0.300       0.402\n",
              "LONGITUDE                                     0.3514      0.027     13.230      0.000       0.299       0.403\n",
              "AGE                                          -0.0318      0.005     -6.494      0.000      -0.041      -0.022\n",
              "WEATHER_CONDITION_CLEAR                       0.9363      0.040     23.172      0.000       0.857       1.016\n",
              "WEATHER_CONDITION_CLOUDY/OVERCAST             0.7683      0.046     16.586      0.000       0.677       0.859\n",
              "WEATHER_CONDITION_RAIN                        0.1893      0.040      4.699      0.000       0.110       0.268\n",
              "WEATHER_CONDITION_SNOW                        0.0055      0.041      0.134      0.893      -0.075       0.086\n",
              "LIGHTING_CONDITION_DARKNESS                   0.0323      0.036      0.897      0.370      -0.038       0.103\n",
              "LIGHTING_CONDITION_DARKNESS, LIGHTED ROAD    -0.0521      0.029     -1.816      0.069      -0.108       0.004\n",
              "LIGHTING_CONDITION_DAWN                      -0.1656      0.043     -3.896      0.000      -0.249      -0.082\n",
              "LIGHTING_CONDITION_DAYLIGHT                   0.0402      0.028      1.444      0.149      -0.014       0.095\n",
              "ROADWAY_SURFACE_COND_DRY                      1.3037      0.025     51.932      0.000       1.254       1.353\n",
              "ROADWAY_SURFACE_COND_ICE                     -1.1802      0.033    -35.290      0.000      -1.246      -1.115\n",
              "ROADWAY_SURFACE_COND_WET                      0.9228      0.025     37.102      0.000       0.874       0.972\n",
              "CRASH_DAY_OF_WEEK_1                           0.0238      0.019      1.238      0.216      -0.014       0.061\n",
              "CRASH_DAY_OF_WEEK_2                          -0.0205      0.018     -1.119      0.263      -0.056       0.015\n",
              "CRASH_DAY_OF_WEEK_3                          -0.0267      0.018     -1.476      0.140      -0.062       0.009\n",
              "CRASH_DAY_OF_WEEK_5                           0.0229      0.018      1.256      0.209      -0.013       0.059\n",
              "CRASH_DAY_OF_WEEK_6                          -0.0197      0.018     -1.122      0.262      -0.054       0.015\n",
              "CRASH_DAY_OF_WEEK_7                           0.0310      0.018      1.706      0.088      -0.005       0.067\n",
              "SEX_F                                         0.0371      0.166      0.223      0.824      -0.289       0.363\n",
              "SEX_M                                        -0.0925      0.166     -0.557      0.578      -0.418       0.233\n",
              "TRAVEL_DIRECTION_E                            0.0440      0.029      1.533      0.125      -0.012       0.100\n",
              "TRAVEL_DIRECTION_N                            0.0214      0.029      0.748      0.454      -0.035       0.077\n",
              "TRAVEL_DIRECTION_S                           -0.0207      0.028     -0.725      0.469      -0.077       0.035\n",
              "TRAVEL_DIRECTION_SE                          -0.0846      0.047     -1.801      0.072      -0.177       0.007\n",
              "TRAVEL_DIRECTION_W                            0.0698      0.029      2.428      0.015       0.013       0.126\n",
              "MANEUVER_AVOIDING VEHICLES/OBJECTS           -2.1814      0.045    -48.064      0.000      -2.270      -2.092\n",
              "MANEUVER_BACKING                              0.0504      0.040      1.254      0.210      -0.028       0.129\n",
              "MANEUVER_CHANGING LANES                       0.8873      0.060     14.678      0.000       0.769       1.006\n",
              "MANEUVER_PARKED                              -1.4617      0.029    -50.976      0.000      -1.518      -1.405\n",
              "MANEUVER_PASSING/OVERTAKING                   1.0471      0.057     18.409      0.000       0.936       1.159\n",
              "MANEUVER_SKIDDING/CONTROL LOSS               -2.0755      0.044    -46.891      0.000      -2.162      -1.989\n",
              "MANEUVER_SLOW/STOP IN TRAFFIC                -0.4226      0.027    -15.502      0.000      -0.476      -0.369\n",
              "MANEUVER_STRAIGHT AHEAD                      -0.2713      0.024    -11.250      0.000      -0.319      -0.224\n",
              "MANEUVER_TURNING LEFT                         0.0837      0.030      2.748      0.006       0.024       0.143\n",
              "MANEUVER_TURNING RIGHT                       -0.1012      0.035     -2.865      0.004      -0.170      -0.032\n",
              "=============================================================================================================\n",
              "\"\"\""
            ],
            "text/html": [
              "<table class=\"simpletable\">\n",
              "<caption>Logit Regression Results</caption>\n",
              "<tr>\n",
              "  <th>Dep. Variable:</th>        <td>TARGET</td>      <th>  No. Observations:  </th>   <td>707817</td>   \n",
              "</tr>\n",
              "<tr>\n",
              "  <th>Model:</th>                 <td>Logit</td>      <th>  Df Residuals:      </th>   <td>707776</td>   \n",
              "</tr>\n",
              "<tr>\n",
              "  <th>Method:</th>                 <td>MLE</td>       <th>  Df Model:          </th>   <td>    40</td>   \n",
              "</tr>\n",
              "<tr>\n",
              "  <th>Date:</th>            <td>Mon, 20 May 2024</td> <th>  Pseudo R-squ.:     </th>   <td>0.1166</td>   \n",
              "</tr>\n",
              "<tr>\n",
              "  <th>Time:</th>                <td>21:55:26</td>     <th>  Log-Likelihood:    </th> <td>-1.6164e+05</td>\n",
              "</tr>\n",
              "<tr>\n",
              "  <th>converged:</th>             <td>True</td>       <th>  LL-Null:           </th> <td>-1.8296e+05</td>\n",
              "</tr>\n",
              "<tr>\n",
              "  <th>Covariance Type:</th>     <td>nonrobust</td>    <th>  LLR p-value:       </th>   <td> 0.000</td>   \n",
              "</tr>\n",
              "</table>\n",
              "<table class=\"simpletable\">\n",
              "<tr>\n",
              "                      <td></td>                         <th>coef</th>     <th>std err</th>      <th>z</th>      <th>P>|z|</th>  <th>[0.025</th>    <th>0.975]</th>  \n",
              "</tr>\n",
              "<tr>\n",
              "  <th>const</th>                                     <td>    1.0853</td> <td>    0.177</td> <td>    6.147</td> <td> 0.000</td> <td>    0.739</td> <td>    1.431</td>\n",
              "</tr>\n",
              "<tr>\n",
              "  <th>POSTED_SPEED_LIMIT</th>                        <td>-1.363e-06</td> <td>    0.005</td> <td>   -0.000</td> <td> 1.000</td> <td>   -0.010</td> <td>    0.010</td>\n",
              "</tr>\n",
              "<tr>\n",
              "  <th>NUM_UNITS</th>                                 <td>   -0.0027</td> <td>    0.004</td> <td>   -0.630</td> <td> 0.529</td> <td>   -0.011</td> <td>    0.006</td>\n",
              "</tr>\n",
              "<tr>\n",
              "  <th>CRASH_HOUR</th>                                <td>    0.1007</td> <td>    0.005</td> <td>   21.366</td> <td> 0.000</td> <td>    0.091</td> <td>    0.110</td>\n",
              "</tr>\n",
              "<tr>\n",
              "  <th>LATITUDE</th>                                  <td>    0.3511</td> <td>    0.026</td> <td>   13.455</td> <td> 0.000</td> <td>    0.300</td> <td>    0.402</td>\n",
              "</tr>\n",
              "<tr>\n",
              "  <th>LONGITUDE</th>                                 <td>    0.3514</td> <td>    0.027</td> <td>   13.230</td> <td> 0.000</td> <td>    0.299</td> <td>    0.403</td>\n",
              "</tr>\n",
              "<tr>\n",
              "  <th>AGE</th>                                       <td>   -0.0318</td> <td>    0.005</td> <td>   -6.494</td> <td> 0.000</td> <td>   -0.041</td> <td>   -0.022</td>\n",
              "</tr>\n",
              "<tr>\n",
              "  <th>WEATHER_CONDITION_CLEAR</th>                   <td>    0.9363</td> <td>    0.040</td> <td>   23.172</td> <td> 0.000</td> <td>    0.857</td> <td>    1.016</td>\n",
              "</tr>\n",
              "<tr>\n",
              "  <th>WEATHER_CONDITION_CLOUDY/OVERCAST</th>         <td>    0.7683</td> <td>    0.046</td> <td>   16.586</td> <td> 0.000</td> <td>    0.677</td> <td>    0.859</td>\n",
              "</tr>\n",
              "<tr>\n",
              "  <th>WEATHER_CONDITION_RAIN</th>                    <td>    0.1893</td> <td>    0.040</td> <td>    4.699</td> <td> 0.000</td> <td>    0.110</td> <td>    0.268</td>\n",
              "</tr>\n",
              "<tr>\n",
              "  <th>WEATHER_CONDITION_SNOW</th>                    <td>    0.0055</td> <td>    0.041</td> <td>    0.134</td> <td> 0.893</td> <td>   -0.075</td> <td>    0.086</td>\n",
              "</tr>\n",
              "<tr>\n",
              "  <th>LIGHTING_CONDITION_DARKNESS</th>               <td>    0.0323</td> <td>    0.036</td> <td>    0.897</td> <td> 0.370</td> <td>   -0.038</td> <td>    0.103</td>\n",
              "</tr>\n",
              "<tr>\n",
              "  <th>LIGHTING_CONDITION_DARKNESS, LIGHTED ROAD</th> <td>   -0.0521</td> <td>    0.029</td> <td>   -1.816</td> <td> 0.069</td> <td>   -0.108</td> <td>    0.004</td>\n",
              "</tr>\n",
              "<tr>\n",
              "  <th>LIGHTING_CONDITION_DAWN</th>                   <td>   -0.1656</td> <td>    0.043</td> <td>   -3.896</td> <td> 0.000</td> <td>   -0.249</td> <td>   -0.082</td>\n",
              "</tr>\n",
              "<tr>\n",
              "  <th>LIGHTING_CONDITION_DAYLIGHT</th>               <td>    0.0402</td> <td>    0.028</td> <td>    1.444</td> <td> 0.149</td> <td>   -0.014</td> <td>    0.095</td>\n",
              "</tr>\n",
              "<tr>\n",
              "  <th>ROADWAY_SURFACE_COND_DRY</th>                  <td>    1.3037</td> <td>    0.025</td> <td>   51.932</td> <td> 0.000</td> <td>    1.254</td> <td>    1.353</td>\n",
              "</tr>\n",
              "<tr>\n",
              "  <th>ROADWAY_SURFACE_COND_ICE</th>                  <td>   -1.1802</td> <td>    0.033</td> <td>  -35.290</td> <td> 0.000</td> <td>   -1.246</td> <td>   -1.115</td>\n",
              "</tr>\n",
              "<tr>\n",
              "  <th>ROADWAY_SURFACE_COND_WET</th>                  <td>    0.9228</td> <td>    0.025</td> <td>   37.102</td> <td> 0.000</td> <td>    0.874</td> <td>    0.972</td>\n",
              "</tr>\n",
              "<tr>\n",
              "  <th>CRASH_DAY_OF_WEEK_1</th>                       <td>    0.0238</td> <td>    0.019</td> <td>    1.238</td> <td> 0.216</td> <td>   -0.014</td> <td>    0.061</td>\n",
              "</tr>\n",
              "<tr>\n",
              "  <th>CRASH_DAY_OF_WEEK_2</th>                       <td>   -0.0205</td> <td>    0.018</td> <td>   -1.119</td> <td> 0.263</td> <td>   -0.056</td> <td>    0.015</td>\n",
              "</tr>\n",
              "<tr>\n",
              "  <th>CRASH_DAY_OF_WEEK_3</th>                       <td>   -0.0267</td> <td>    0.018</td> <td>   -1.476</td> <td> 0.140</td> <td>   -0.062</td> <td>    0.009</td>\n",
              "</tr>\n",
              "<tr>\n",
              "  <th>CRASH_DAY_OF_WEEK_5</th>                       <td>    0.0229</td> <td>    0.018</td> <td>    1.256</td> <td> 0.209</td> <td>   -0.013</td> <td>    0.059</td>\n",
              "</tr>\n",
              "<tr>\n",
              "  <th>CRASH_DAY_OF_WEEK_6</th>                       <td>   -0.0197</td> <td>    0.018</td> <td>   -1.122</td> <td> 0.262</td> <td>   -0.054</td> <td>    0.015</td>\n",
              "</tr>\n",
              "<tr>\n",
              "  <th>CRASH_DAY_OF_WEEK_7</th>                       <td>    0.0310</td> <td>    0.018</td> <td>    1.706</td> <td> 0.088</td> <td>   -0.005</td> <td>    0.067</td>\n",
              "</tr>\n",
              "<tr>\n",
              "  <th>SEX_F</th>                                     <td>    0.0371</td> <td>    0.166</td> <td>    0.223</td> <td> 0.824</td> <td>   -0.289</td> <td>    0.363</td>\n",
              "</tr>\n",
              "<tr>\n",
              "  <th>SEX_M</th>                                     <td>   -0.0925</td> <td>    0.166</td> <td>   -0.557</td> <td> 0.578</td> <td>   -0.418</td> <td>    0.233</td>\n",
              "</tr>\n",
              "<tr>\n",
              "  <th>TRAVEL_DIRECTION_E</th>                        <td>    0.0440</td> <td>    0.029</td> <td>    1.533</td> <td> 0.125</td> <td>   -0.012</td> <td>    0.100</td>\n",
              "</tr>\n",
              "<tr>\n",
              "  <th>TRAVEL_DIRECTION_N</th>                        <td>    0.0214</td> <td>    0.029</td> <td>    0.748</td> <td> 0.454</td> <td>   -0.035</td> <td>    0.077</td>\n",
              "</tr>\n",
              "<tr>\n",
              "  <th>TRAVEL_DIRECTION_S</th>                        <td>   -0.0207</td> <td>    0.028</td> <td>   -0.725</td> <td> 0.469</td> <td>   -0.077</td> <td>    0.035</td>\n",
              "</tr>\n",
              "<tr>\n",
              "  <th>TRAVEL_DIRECTION_SE</th>                       <td>   -0.0846</td> <td>    0.047</td> <td>   -1.801</td> <td> 0.072</td> <td>   -0.177</td> <td>    0.007</td>\n",
              "</tr>\n",
              "<tr>\n",
              "  <th>TRAVEL_DIRECTION_W</th>                        <td>    0.0698</td> <td>    0.029</td> <td>    2.428</td> <td> 0.015</td> <td>    0.013</td> <td>    0.126</td>\n",
              "</tr>\n",
              "<tr>\n",
              "  <th>MANEUVER_AVOIDING VEHICLES/OBJECTS</th>        <td>   -2.1814</td> <td>    0.045</td> <td>  -48.064</td> <td> 0.000</td> <td>   -2.270</td> <td>   -2.092</td>\n",
              "</tr>\n",
              "<tr>\n",
              "  <th>MANEUVER_BACKING</th>                          <td>    0.0504</td> <td>    0.040</td> <td>    1.254</td> <td> 0.210</td> <td>   -0.028</td> <td>    0.129</td>\n",
              "</tr>\n",
              "<tr>\n",
              "  <th>MANEUVER_CHANGING LANES</th>                   <td>    0.8873</td> <td>    0.060</td> <td>   14.678</td> <td> 0.000</td> <td>    0.769</td> <td>    1.006</td>\n",
              "</tr>\n",
              "<tr>\n",
              "  <th>MANEUVER_PARKED</th>                           <td>   -1.4617</td> <td>    0.029</td> <td>  -50.976</td> <td> 0.000</td> <td>   -1.518</td> <td>   -1.405</td>\n",
              "</tr>\n",
              "<tr>\n",
              "  <th>MANEUVER_PASSING/OVERTAKING</th>               <td>    1.0471</td> <td>    0.057</td> <td>   18.409</td> <td> 0.000</td> <td>    0.936</td> <td>    1.159</td>\n",
              "</tr>\n",
              "<tr>\n",
              "  <th>MANEUVER_SKIDDING/CONTROL LOSS</th>            <td>   -2.0755</td> <td>    0.044</td> <td>  -46.891</td> <td> 0.000</td> <td>   -2.162</td> <td>   -1.989</td>\n",
              "</tr>\n",
              "<tr>\n",
              "  <th>MANEUVER_SLOW/STOP IN TRAFFIC</th>             <td>   -0.4226</td> <td>    0.027</td> <td>  -15.502</td> <td> 0.000</td> <td>   -0.476</td> <td>   -0.369</td>\n",
              "</tr>\n",
              "<tr>\n",
              "  <th>MANEUVER_STRAIGHT AHEAD</th>                   <td>   -0.2713</td> <td>    0.024</td> <td>  -11.250</td> <td> 0.000</td> <td>   -0.319</td> <td>   -0.224</td>\n",
              "</tr>\n",
              "<tr>\n",
              "  <th>MANEUVER_TURNING LEFT</th>                     <td>    0.0837</td> <td>    0.030</td> <td>    2.748</td> <td> 0.006</td> <td>    0.024</td> <td>    0.143</td>\n",
              "</tr>\n",
              "<tr>\n",
              "  <th>MANEUVER_TURNING RIGHT</th>                    <td>   -0.1012</td> <td>    0.035</td> <td>   -2.865</td> <td> 0.004</td> <td>   -0.170</td> <td>   -0.032</td>\n",
              "</tr>\n",
              "</table>"
            ],
            "text/latex": "\\begin{center}\n\\begin{tabular}{lclc}\n\\toprule\n\\textbf{Dep. Variable:}                              &      TARGET      & \\textbf{  No. Observations:  } &    707817    \\\\\n\\textbf{Model:}                                      &      Logit       & \\textbf{  Df Residuals:      } &    707776    \\\\\n\\textbf{Method:}                                     &       MLE        & \\textbf{  Df Model:          } &        40    \\\\\n\\textbf{Date:}                                       & Mon, 20 May 2024 & \\textbf{  Pseudo R-squ.:     } &    0.1166    \\\\\n\\textbf{Time:}                                       &     21:55:26     & \\textbf{  Log-Likelihood:    } & -1.6164e+05  \\\\\n\\textbf{converged:}                                  &       True       & \\textbf{  LL-Null:           } & -1.8296e+05  \\\\\n\\textbf{Covariance Type:}                            &    nonrobust     & \\textbf{  LLR p-value:       } &     0.000    \\\\\n\\bottomrule\n\\end{tabular}\n\\begin{tabular}{lcccccc}\n                                                     & \\textbf{coef} & \\textbf{std err} & \\textbf{z} & \\textbf{P$> |$z$|$} & \\textbf{[0.025} & \\textbf{0.975]}  \\\\\n\\midrule\n\\textbf{const}                                       &       1.0853  &        0.177     &     6.147  &         0.000        &        0.739    &        1.431     \\\\\n\\textbf{POSTED\\_SPEED\\_LIMIT}                        &   -1.363e-06  &        0.005     &    -0.000  &         1.000        &       -0.010    &        0.010     \\\\\n\\textbf{NUM\\_UNITS}                                  &      -0.0027  &        0.004     &    -0.630  &         0.529        &       -0.011    &        0.006     \\\\\n\\textbf{CRASH\\_HOUR}                                 &       0.1007  &        0.005     &    21.366  &         0.000        &        0.091    &        0.110     \\\\\n\\textbf{LATITUDE}                                    &       0.3511  &        0.026     &    13.455  &         0.000        &        0.300    &        0.402     \\\\\n\\textbf{LONGITUDE}                                   &       0.3514  &        0.027     &    13.230  &         0.000        &        0.299    &        0.403     \\\\\n\\textbf{AGE}                                         &      -0.0318  &        0.005     &    -6.494  &         0.000        &       -0.041    &       -0.022     \\\\\n\\textbf{WEATHER\\_CONDITION\\_CLEAR}                   &       0.9363  &        0.040     &    23.172  &         0.000        &        0.857    &        1.016     \\\\\n\\textbf{WEATHER\\_CONDITION\\_CLOUDY/OVERCAST}         &       0.7683  &        0.046     &    16.586  &         0.000        &        0.677    &        0.859     \\\\\n\\textbf{WEATHER\\_CONDITION\\_RAIN}                    &       0.1893  &        0.040     &     4.699  &         0.000        &        0.110    &        0.268     \\\\\n\\textbf{WEATHER\\_CONDITION\\_SNOW}                    &       0.0055  &        0.041     &     0.134  &         0.893        &       -0.075    &        0.086     \\\\\n\\textbf{LIGHTING\\_CONDITION\\_DARKNESS}               &       0.0323  &        0.036     &     0.897  &         0.370        &       -0.038    &        0.103     \\\\\n\\textbf{LIGHTING\\_CONDITION\\_DARKNESS, LIGHTED ROAD} &      -0.0521  &        0.029     &    -1.816  &         0.069        &       -0.108    &        0.004     \\\\\n\\textbf{LIGHTING\\_CONDITION\\_DAWN}                   &      -0.1656  &        0.043     &    -3.896  &         0.000        &       -0.249    &       -0.082     \\\\\n\\textbf{LIGHTING\\_CONDITION\\_DAYLIGHT}               &       0.0402  &        0.028     &     1.444  &         0.149        &       -0.014    &        0.095     \\\\\n\\textbf{ROADWAY\\_SURFACE\\_COND\\_DRY}                 &       1.3037  &        0.025     &    51.932  &         0.000        &        1.254    &        1.353     \\\\\n\\textbf{ROADWAY\\_SURFACE\\_COND\\_ICE}                 &      -1.1802  &        0.033     &   -35.290  &         0.000        &       -1.246    &       -1.115     \\\\\n\\textbf{ROADWAY\\_SURFACE\\_COND\\_WET}                 &       0.9228  &        0.025     &    37.102  &         0.000        &        0.874    &        0.972     \\\\\n\\textbf{CRASH\\_DAY\\_OF\\_WEEK\\_1}                     &       0.0238  &        0.019     &     1.238  &         0.216        &       -0.014    &        0.061     \\\\\n\\textbf{CRASH\\_DAY\\_OF\\_WEEK\\_2}                     &      -0.0205  &        0.018     &    -1.119  &         0.263        &       -0.056    &        0.015     \\\\\n\\textbf{CRASH\\_DAY\\_OF\\_WEEK\\_3}                     &      -0.0267  &        0.018     &    -1.476  &         0.140        &       -0.062    &        0.009     \\\\\n\\textbf{CRASH\\_DAY\\_OF\\_WEEK\\_5}                     &       0.0229  &        0.018     &     1.256  &         0.209        &       -0.013    &        0.059     \\\\\n\\textbf{CRASH\\_DAY\\_OF\\_WEEK\\_6}                     &      -0.0197  &        0.018     &    -1.122  &         0.262        &       -0.054    &        0.015     \\\\\n\\textbf{CRASH\\_DAY\\_OF\\_WEEK\\_7}                     &       0.0310  &        0.018     &     1.706  &         0.088        &       -0.005    &        0.067     \\\\\n\\textbf{SEX\\_F}                                      &       0.0371  &        0.166     &     0.223  &         0.824        &       -0.289    &        0.363     \\\\\n\\textbf{SEX\\_M}                                      &      -0.0925  &        0.166     &    -0.557  &         0.578        &       -0.418    &        0.233     \\\\\n\\textbf{TRAVEL\\_DIRECTION\\_E}                        &       0.0440  &        0.029     &     1.533  &         0.125        &       -0.012    &        0.100     \\\\\n\\textbf{TRAVEL\\_DIRECTION\\_N}                        &       0.0214  &        0.029     &     0.748  &         0.454        &       -0.035    &        0.077     \\\\\n\\textbf{TRAVEL\\_DIRECTION\\_S}                        &      -0.0207  &        0.028     &    -0.725  &         0.469        &       -0.077    &        0.035     \\\\\n\\textbf{TRAVEL\\_DIRECTION\\_SE}                       &      -0.0846  &        0.047     &    -1.801  &         0.072        &       -0.177    &        0.007     \\\\\n\\textbf{TRAVEL\\_DIRECTION\\_W}                        &       0.0698  &        0.029     &     2.428  &         0.015        &        0.013    &        0.126     \\\\\n\\textbf{MANEUVER\\_AVOIDING VEHICLES/OBJECTS}         &      -2.1814  &        0.045     &   -48.064  &         0.000        &       -2.270    &       -2.092     \\\\\n\\textbf{MANEUVER\\_BACKING}                           &       0.0504  &        0.040     &     1.254  &         0.210        &       -0.028    &        0.129     \\\\\n\\textbf{MANEUVER\\_CHANGING LANES}                    &       0.8873  &        0.060     &    14.678  &         0.000        &        0.769    &        1.006     \\\\\n\\textbf{MANEUVER\\_PARKED}                            &      -1.4617  &        0.029     &   -50.976  &         0.000        &       -1.518    &       -1.405     \\\\\n\\textbf{MANEUVER\\_PASSING/OVERTAKING}                &       1.0471  &        0.057     &    18.409  &         0.000        &        0.936    &        1.159     \\\\\n\\textbf{MANEUVER\\_SKIDDING/CONTROL LOSS}             &      -2.0755  &        0.044     &   -46.891  &         0.000        &       -2.162    &       -1.989     \\\\\n\\textbf{MANEUVER\\_SLOW/STOP IN TRAFFIC}              &      -0.4226  &        0.027     &   -15.502  &         0.000        &       -0.476    &       -0.369     \\\\\n\\textbf{MANEUVER\\_STRAIGHT AHEAD}                    &      -0.2713  &        0.024     &   -11.250  &         0.000        &       -0.319    &       -0.224     \\\\\n\\textbf{MANEUVER\\_TURNING LEFT}                      &       0.0837  &        0.030     &     2.748  &         0.006        &        0.024    &        0.143     \\\\\n\\textbf{MANEUVER\\_TURNING RIGHT}                     &      -0.1012  &        0.035     &    -2.865  &         0.004        &       -0.170    &       -0.032     \\\\\n\\bottomrule\n\\end{tabular}\n%\\caption{Logit Regression Results}\n\\end{center}"
          },
          "metadata": {},
          "execution_count": 48
        }
      ]
    },
    {
      "cell_type": "markdown",
      "source": [
        "There are a ton of variables that aren't statisitically significant here (having a P>[z] value greater than 0.05). This does not necessarily mean we should drop them, too; sometimes they can help the model and we just don't drop too many conclusions from those features. However, with 42 columns in a StatsModels Logit model, we're still dealing with a lot of noise here.\n",
        "\n",
        "Now that we have a real baseline, we can go through and also drop the features that are not statistically significant to finally get down to the factors that correlate with accidents that are avoidable, which would include the following.\n",
        "\n",
        "This is a lot to drop, but we can already see that these columns have little to do with what makes an accident avoidable (and a solution actionable). Travel direction, gender, and day of the week have shown value counts with little variance among them, so it makes sense to see that they don't contribute much to our model."
      ],
      "metadata": {
        "id": "zoVUgZVv1owX"
      }
    },
    {
      "cell_type": "code",
      "source": [
        "insignificant_columns_to_drop = ['POSTED_SPEED_LIMIT', 'NUM_UNITS', 'WEATHER_CONDITION_SNOW', 'LIGHTING_CONDITION_DARKNESS',\n",
        "                   'LIGHTING_CONDITION_DARKNESS, LIGHTED ROAD', 'LIGHTING_CONDITION_DAYLIGHT', 'CRASH_DAY_OF_WEEK_1',\n",
        "                   'CRASH_DAY_OF_WEEK_2', 'CRASH_DAY_OF_WEEK_3', 'CRASH_DAY_OF_WEEK_5', 'CRASH_DAY_OF_WEEK_6',\n",
        "                   'CRASH_DAY_OF_WEEK_7', 'SEX_F', 'SEX_M', 'TRAVEL_DIRECTION_E', 'TRAVEL_DIRECTION_N',\n",
        "                   'TRAVEL_DIRECTION_S', 'TRAVEL_DIRECTION_SE', 'TRAVEL_DIRECTION_W', 'MANEUVER_BACKING']"
      ],
      "metadata": {
        "id": "EPpJovqDxT0w"
      },
      "execution_count": 49,
      "outputs": []
    },
    {
      "cell_type": "code",
      "source": [
        "#dropping the classes\n",
        "X_train_trimmed_and_stnd_for_Logit = X_train_trimmed_and_stnd_for_Logit.drop(insignificant_columns_to_drop, axis=1)\n",
        "#refitting the model\n",
        "X = sm.add_constant(X_train_trimmed_and_stnd_for_Logit)\n",
        "#instantiating & fitting the Logit model\n",
        "logit_model = sm.Logit(y_train.astype(float), X.astype(float))\n",
        "statistically_significant_Logit = logit_model.fit(maxiter=3500)\n",
        "#checking the results\n",
        "statistically_significant_Logit.summary()"
      ],
      "metadata": {
        "colab": {
          "base_uri": "https://localhost:8080/",
          "height": 697
        },
        "id": "3hVmuvfTxinV",
        "outputId": "abad1c56-6b25-49f8-8780-64acfba34762"
      },
      "execution_count": 50,
      "outputs": [
        {
          "output_type": "stream",
          "name": "stdout",
          "text": [
            "Optimization terminated successfully.\n",
            "         Current function value: 0.228581\n",
            "         Iterations 8\n"
          ]
        },
        {
          "output_type": "execute_result",
          "data": {
            "text/plain": [
              "<class 'statsmodels.iolib.summary.Summary'>\n",
              "\"\"\"\n",
              "                           Logit Regression Results                           \n",
              "==============================================================================\n",
              "Dep. Variable:                 TARGET   No. Observations:               707817\n",
              "Model:                          Logit   Df Residuals:                   707796\n",
              "Method:                           MLE   Df Model:                           20\n",
              "Date:                Mon, 20 May 2024   Pseudo R-squ.:                  0.1157\n",
              "Time:                        21:55:33   Log-Likelihood:            -1.6179e+05\n",
              "converged:                       True   LL-Null:                   -1.8296e+05\n",
              "Covariance Type:            nonrobust   LLR p-value:                     0.000\n",
              "======================================================================================================\n",
              "                                         coef    std err          z      P>|z|      [0.025      0.975]\n",
              "------------------------------------------------------------------------------------------------------\n",
              "const                                  1.1035      0.023     46.967      0.000       1.057       1.150\n",
              "CRASH_HOUR                             0.0949      0.005     20.408      0.000       0.086       0.104\n",
              "LATITUDE                               0.3252      0.026     12.517      0.000       0.274       0.376\n",
              "LONGITUDE                              0.3259      0.026     12.318      0.000       0.274       0.378\n",
              "AGE                                   -0.0308      0.005     -6.335      0.000      -0.040      -0.021\n",
              "WEATHER_CONDITION_CLEAR                0.9353      0.023     40.306      0.000       0.890       0.981\n",
              "WEATHER_CONDITION_CLOUDY/OVERCAST      0.7811      0.032     24.111      0.000       0.718       0.845\n",
              "WEATHER_CONDITION_RAIN                 0.1897      0.024      7.837      0.000       0.142       0.237\n",
              "LIGHTING_CONDITION_DAWN               -0.1863      0.033     -5.655      0.000      -0.251      -0.122\n",
              "ROADWAY_SURFACE_COND_DRY               1.3100      0.025     53.446      0.000       1.262       1.358\n",
              "ROADWAY_SURFACE_COND_ICE              -1.1769      0.033    -35.899      0.000      -1.241      -1.113\n",
              "ROADWAY_SURFACE_COND_WET               0.9185      0.024     38.134      0.000       0.871       0.966\n",
              "MANEUVER_AVOIDING VEHICLES/OBJECTS    -2.2117      0.043    -51.151      0.000      -2.296      -2.127\n",
              "MANEUVER_CHANGING LANES                0.8668      0.059     14.720      0.000       0.751       0.982\n",
              "MANEUVER_PARKED                       -1.5021      0.024    -61.604      0.000      -1.550      -1.454\n",
              "MANEUVER_PASSING/OVERTAKING            1.0298      0.055     18.645      0.000       0.922       1.138\n",
              "MANEUVER_SKIDDING/CONTROL LOSS        -2.1062      0.042    -49.946      0.000      -2.189      -2.024\n",
              "MANEUVER_SLOW/STOP IN TRAFFIC         -0.4378      0.024    -18.552      0.000      -0.484      -0.392\n",
              "MANEUVER_STRAIGHT AHEAD               -0.2901      0.020    -14.566      0.000      -0.329      -0.251\n",
              "MANEUVER_TURNING LEFT                  0.0567      0.027      2.089      0.037       0.004       0.110\n",
              "MANEUVER_TURNING RIGHT                -0.1270      0.033     -3.906      0.000      -0.191      -0.063\n",
              "======================================================================================================\n",
              "\"\"\""
            ],
            "text/html": [
              "<table class=\"simpletable\">\n",
              "<caption>Logit Regression Results</caption>\n",
              "<tr>\n",
              "  <th>Dep. Variable:</th>        <td>TARGET</td>      <th>  No. Observations:  </th>   <td>707817</td>   \n",
              "</tr>\n",
              "<tr>\n",
              "  <th>Model:</th>                 <td>Logit</td>      <th>  Df Residuals:      </th>   <td>707796</td>   \n",
              "</tr>\n",
              "<tr>\n",
              "  <th>Method:</th>                 <td>MLE</td>       <th>  Df Model:          </th>   <td>    20</td>   \n",
              "</tr>\n",
              "<tr>\n",
              "  <th>Date:</th>            <td>Mon, 20 May 2024</td> <th>  Pseudo R-squ.:     </th>   <td>0.1157</td>   \n",
              "</tr>\n",
              "<tr>\n",
              "  <th>Time:</th>                <td>21:55:33</td>     <th>  Log-Likelihood:    </th> <td>-1.6179e+05</td>\n",
              "</tr>\n",
              "<tr>\n",
              "  <th>converged:</th>             <td>True</td>       <th>  LL-Null:           </th> <td>-1.8296e+05</td>\n",
              "</tr>\n",
              "<tr>\n",
              "  <th>Covariance Type:</th>     <td>nonrobust</td>    <th>  LLR p-value:       </th>   <td> 0.000</td>   \n",
              "</tr>\n",
              "</table>\n",
              "<table class=\"simpletable\">\n",
              "<tr>\n",
              "                   <td></td>                     <th>coef</th>     <th>std err</th>      <th>z</th>      <th>P>|z|</th>  <th>[0.025</th>    <th>0.975]</th>  \n",
              "</tr>\n",
              "<tr>\n",
              "  <th>const</th>                              <td>    1.1035</td> <td>    0.023</td> <td>   46.967</td> <td> 0.000</td> <td>    1.057</td> <td>    1.150</td>\n",
              "</tr>\n",
              "<tr>\n",
              "  <th>CRASH_HOUR</th>                         <td>    0.0949</td> <td>    0.005</td> <td>   20.408</td> <td> 0.000</td> <td>    0.086</td> <td>    0.104</td>\n",
              "</tr>\n",
              "<tr>\n",
              "  <th>LATITUDE</th>                           <td>    0.3252</td> <td>    0.026</td> <td>   12.517</td> <td> 0.000</td> <td>    0.274</td> <td>    0.376</td>\n",
              "</tr>\n",
              "<tr>\n",
              "  <th>LONGITUDE</th>                          <td>    0.3259</td> <td>    0.026</td> <td>   12.318</td> <td> 0.000</td> <td>    0.274</td> <td>    0.378</td>\n",
              "</tr>\n",
              "<tr>\n",
              "  <th>AGE</th>                                <td>   -0.0308</td> <td>    0.005</td> <td>   -6.335</td> <td> 0.000</td> <td>   -0.040</td> <td>   -0.021</td>\n",
              "</tr>\n",
              "<tr>\n",
              "  <th>WEATHER_CONDITION_CLEAR</th>            <td>    0.9353</td> <td>    0.023</td> <td>   40.306</td> <td> 0.000</td> <td>    0.890</td> <td>    0.981</td>\n",
              "</tr>\n",
              "<tr>\n",
              "  <th>WEATHER_CONDITION_CLOUDY/OVERCAST</th>  <td>    0.7811</td> <td>    0.032</td> <td>   24.111</td> <td> 0.000</td> <td>    0.718</td> <td>    0.845</td>\n",
              "</tr>\n",
              "<tr>\n",
              "  <th>WEATHER_CONDITION_RAIN</th>             <td>    0.1897</td> <td>    0.024</td> <td>    7.837</td> <td> 0.000</td> <td>    0.142</td> <td>    0.237</td>\n",
              "</tr>\n",
              "<tr>\n",
              "  <th>LIGHTING_CONDITION_DAWN</th>            <td>   -0.1863</td> <td>    0.033</td> <td>   -5.655</td> <td> 0.000</td> <td>   -0.251</td> <td>   -0.122</td>\n",
              "</tr>\n",
              "<tr>\n",
              "  <th>ROADWAY_SURFACE_COND_DRY</th>           <td>    1.3100</td> <td>    0.025</td> <td>   53.446</td> <td> 0.000</td> <td>    1.262</td> <td>    1.358</td>\n",
              "</tr>\n",
              "<tr>\n",
              "  <th>ROADWAY_SURFACE_COND_ICE</th>           <td>   -1.1769</td> <td>    0.033</td> <td>  -35.899</td> <td> 0.000</td> <td>   -1.241</td> <td>   -1.113</td>\n",
              "</tr>\n",
              "<tr>\n",
              "  <th>ROADWAY_SURFACE_COND_WET</th>           <td>    0.9185</td> <td>    0.024</td> <td>   38.134</td> <td> 0.000</td> <td>    0.871</td> <td>    0.966</td>\n",
              "</tr>\n",
              "<tr>\n",
              "  <th>MANEUVER_AVOIDING VEHICLES/OBJECTS</th> <td>   -2.2117</td> <td>    0.043</td> <td>  -51.151</td> <td> 0.000</td> <td>   -2.296</td> <td>   -2.127</td>\n",
              "</tr>\n",
              "<tr>\n",
              "  <th>MANEUVER_CHANGING LANES</th>            <td>    0.8668</td> <td>    0.059</td> <td>   14.720</td> <td> 0.000</td> <td>    0.751</td> <td>    0.982</td>\n",
              "</tr>\n",
              "<tr>\n",
              "  <th>MANEUVER_PARKED</th>                    <td>   -1.5021</td> <td>    0.024</td> <td>  -61.604</td> <td> 0.000</td> <td>   -1.550</td> <td>   -1.454</td>\n",
              "</tr>\n",
              "<tr>\n",
              "  <th>MANEUVER_PASSING/OVERTAKING</th>        <td>    1.0298</td> <td>    0.055</td> <td>   18.645</td> <td> 0.000</td> <td>    0.922</td> <td>    1.138</td>\n",
              "</tr>\n",
              "<tr>\n",
              "  <th>MANEUVER_SKIDDING/CONTROL LOSS</th>     <td>   -2.1062</td> <td>    0.042</td> <td>  -49.946</td> <td> 0.000</td> <td>   -2.189</td> <td>   -2.024</td>\n",
              "</tr>\n",
              "<tr>\n",
              "  <th>MANEUVER_SLOW/STOP IN TRAFFIC</th>      <td>   -0.4378</td> <td>    0.024</td> <td>  -18.552</td> <td> 0.000</td> <td>   -0.484</td> <td>   -0.392</td>\n",
              "</tr>\n",
              "<tr>\n",
              "  <th>MANEUVER_STRAIGHT AHEAD</th>            <td>   -0.2901</td> <td>    0.020</td> <td>  -14.566</td> <td> 0.000</td> <td>   -0.329</td> <td>   -0.251</td>\n",
              "</tr>\n",
              "<tr>\n",
              "  <th>MANEUVER_TURNING LEFT</th>              <td>    0.0567</td> <td>    0.027</td> <td>    2.089</td> <td> 0.037</td> <td>    0.004</td> <td>    0.110</td>\n",
              "</tr>\n",
              "<tr>\n",
              "  <th>MANEUVER_TURNING RIGHT</th>             <td>   -0.1270</td> <td>    0.033</td> <td>   -3.906</td> <td> 0.000</td> <td>   -0.191</td> <td>   -0.063</td>\n",
              "</tr>\n",
              "</table>"
            ],
            "text/latex": "\\begin{center}\n\\begin{tabular}{lclc}\n\\toprule\n\\textbf{Dep. Variable:}                      &      TARGET      & \\textbf{  No. Observations:  } &    707817    \\\\\n\\textbf{Model:}                              &      Logit       & \\textbf{  Df Residuals:      } &    707796    \\\\\n\\textbf{Method:}                             &       MLE        & \\textbf{  Df Model:          } &        20    \\\\\n\\textbf{Date:}                               & Mon, 20 May 2024 & \\textbf{  Pseudo R-squ.:     } &    0.1157    \\\\\n\\textbf{Time:}                               &     21:55:33     & \\textbf{  Log-Likelihood:    } & -1.6179e+05  \\\\\n\\textbf{converged:}                          &       True       & \\textbf{  LL-Null:           } & -1.8296e+05  \\\\\n\\textbf{Covariance Type:}                    &    nonrobust     & \\textbf{  LLR p-value:       } &     0.000    \\\\\n\\bottomrule\n\\end{tabular}\n\\begin{tabular}{lcccccc}\n                                             & \\textbf{coef} & \\textbf{std err} & \\textbf{z} & \\textbf{P$> |$z$|$} & \\textbf{[0.025} & \\textbf{0.975]}  \\\\\n\\midrule\n\\textbf{const}                               &       1.1035  &        0.023     &    46.967  &         0.000        &        1.057    &        1.150     \\\\\n\\textbf{CRASH\\_HOUR}                         &       0.0949  &        0.005     &    20.408  &         0.000        &        0.086    &        0.104     \\\\\n\\textbf{LATITUDE}                            &       0.3252  &        0.026     &    12.517  &         0.000        &        0.274    &        0.376     \\\\\n\\textbf{LONGITUDE}                           &       0.3259  &        0.026     &    12.318  &         0.000        &        0.274    &        0.378     \\\\\n\\textbf{AGE}                                 &      -0.0308  &        0.005     &    -6.335  &         0.000        &       -0.040    &       -0.021     \\\\\n\\textbf{WEATHER\\_CONDITION\\_CLEAR}           &       0.9353  &        0.023     &    40.306  &         0.000        &        0.890    &        0.981     \\\\\n\\textbf{WEATHER\\_CONDITION\\_CLOUDY/OVERCAST} &       0.7811  &        0.032     &    24.111  &         0.000        &        0.718    &        0.845     \\\\\n\\textbf{WEATHER\\_CONDITION\\_RAIN}            &       0.1897  &        0.024     &     7.837  &         0.000        &        0.142    &        0.237     \\\\\n\\textbf{LIGHTING\\_CONDITION\\_DAWN}           &      -0.1863  &        0.033     &    -5.655  &         0.000        &       -0.251    &       -0.122     \\\\\n\\textbf{ROADWAY\\_SURFACE\\_COND\\_DRY}         &       1.3100  &        0.025     &    53.446  &         0.000        &        1.262    &        1.358     \\\\\n\\textbf{ROADWAY\\_SURFACE\\_COND\\_ICE}         &      -1.1769  &        0.033     &   -35.899  &         0.000        &       -1.241    &       -1.113     \\\\\n\\textbf{ROADWAY\\_SURFACE\\_COND\\_WET}         &       0.9185  &        0.024     &    38.134  &         0.000        &        0.871    &        0.966     \\\\\n\\textbf{MANEUVER\\_AVOIDING VEHICLES/OBJECTS} &      -2.2117  &        0.043     &   -51.151  &         0.000        &       -2.296    &       -2.127     \\\\\n\\textbf{MANEUVER\\_CHANGING LANES}            &       0.8668  &        0.059     &    14.720  &         0.000        &        0.751    &        0.982     \\\\\n\\textbf{MANEUVER\\_PARKED}                    &      -1.5021  &        0.024     &   -61.604  &         0.000        &       -1.550    &       -1.454     \\\\\n\\textbf{MANEUVER\\_PASSING/OVERTAKING}        &       1.0298  &        0.055     &    18.645  &         0.000        &        0.922    &        1.138     \\\\\n\\textbf{MANEUVER\\_SKIDDING/CONTROL LOSS}     &      -2.1062  &        0.042     &   -49.946  &         0.000        &       -2.189    &       -2.024     \\\\\n\\textbf{MANEUVER\\_SLOW/STOP IN TRAFFIC}      &      -0.4378  &        0.024     &   -18.552  &         0.000        &       -0.484    &       -0.392     \\\\\n\\textbf{MANEUVER\\_STRAIGHT AHEAD}            &      -0.2901  &        0.020     &   -14.566  &         0.000        &       -0.329    &       -0.251     \\\\\n\\textbf{MANEUVER\\_TURNING LEFT}              &       0.0567  &        0.027     &     2.089  &         0.037        &        0.004    &        0.110     \\\\\n\\textbf{MANEUVER\\_TURNING RIGHT}             &      -0.1270  &        0.033     &    -3.906  &         0.000        &       -0.191    &       -0.063     \\\\\n\\bottomrule\n\\end{tabular}\n%\\caption{Logit Regression Results}\n\\end{center}"
          },
          "metadata": {},
          "execution_count": 50
        }
      ]
    },
    {
      "cell_type": "markdown",
      "source": [
        "Now we have a more reasonable model with all statisitically significant features. Before we try and optimize it via over/under-sampling, let's evaluate its performance via a confusion matrix to see how well it's predicting the target values in our test set."
      ],
      "metadata": {
        "id": "zXkkQL_DM7HM"
      }
    },
    {
      "cell_type": "code",
      "source": [
        "#First, we need to reformat X_test to be comprable to X_train_trimmed_and_stnd_for_Logit.\n",
        "# So far, we've reformatted X_test to include one-hot encoded categorical columns,\n",
        "# but non-standardized numerical data, so we need to (1) standardize those columns,\n",
        "# (2) bring in the categorical ones, then (3) drop every column we've dropped so far.\n",
        "\n",
        "#transforming X_test numeric data\n",
        "X_test_numeric_stnd = scaler.transform(X_test_numeric)\n",
        "X_test_numeric_stnd = pd.DataFrame(X_test_numeric_stnd,\n",
        "                                   columns=X_test_numeric.columns,\n",
        "                                   index=X_test_numeric.index)\n",
        "\n",
        "#bringing X_test's pre-ohe columns back in\n",
        "X_test_trimmed_and_stnd_for_Logit = pd.concat([X_test_numeric_stnd, X_test_categorical_ohe], axis=1)\n",
        "\n",
        "#dropping the columns we dropped from the training data\n",
        "X_test_trimmed_and_stnd_for_Logit.drop(preliminary_columns_to_drop, axis=1, inplace=True)\n",
        "X_test_trimmed_and_stnd_for_Logit.drop(preliminary_columns_to_drop_for_statsmodels, axis=1, inplace=True)\n",
        "X_test_trimmed_and_stnd_for_Logit.drop(insignificant_columns_to_drop, axis=1, inplace=True)\n",
        "\n",
        "X_test_trimmed_and_stnd_for_Logit.info()"
      ],
      "metadata": {
        "id": "VxOHr6zr5FAH",
        "colab": {
          "base_uri": "https://localhost:8080/"
        },
        "outputId": "2144822e-c87c-495a-a7cd-51b67dd4ac33"
      },
      "execution_count": 51,
      "outputs": [
        {
          "output_type": "stream",
          "name": "stdout",
          "text": [
            "<class 'pandas.core.frame.DataFrame'>\n",
            "Index: 176955 entries, 442162 to 446367\n",
            "Data columns (total 20 columns):\n",
            " #   Column                              Non-Null Count   Dtype  \n",
            "---  ------                              --------------   -----  \n",
            " 0   CRASH_HOUR                          176955 non-null  float64\n",
            " 1   LATITUDE                            176955 non-null  float64\n",
            " 2   LONGITUDE                           176955 non-null  float64\n",
            " 3   AGE                                 176955 non-null  float64\n",
            " 4   WEATHER_CONDITION_CLEAR             176955 non-null  float64\n",
            " 5   WEATHER_CONDITION_CLOUDY/OVERCAST   176955 non-null  float64\n",
            " 6   WEATHER_CONDITION_RAIN              176955 non-null  float64\n",
            " 7   LIGHTING_CONDITION_DAWN             176955 non-null  float64\n",
            " 8   ROADWAY_SURFACE_COND_DRY            176955 non-null  float64\n",
            " 9   ROADWAY_SURFACE_COND_ICE            176955 non-null  float64\n",
            " 10  ROADWAY_SURFACE_COND_WET            176955 non-null  float64\n",
            " 11  MANEUVER_AVOIDING VEHICLES/OBJECTS  176955 non-null  float64\n",
            " 12  MANEUVER_CHANGING LANES             176955 non-null  float64\n",
            " 13  MANEUVER_PARKED                     176955 non-null  float64\n",
            " 14  MANEUVER_PASSING/OVERTAKING         176955 non-null  float64\n",
            " 15  MANEUVER_SKIDDING/CONTROL LOSS      176955 non-null  float64\n",
            " 16  MANEUVER_SLOW/STOP IN TRAFFIC       176955 non-null  float64\n",
            " 17  MANEUVER_STRAIGHT AHEAD             176955 non-null  float64\n",
            " 18  MANEUVER_TURNING LEFT               176955 non-null  float64\n",
            " 19  MANEUVER_TURNING RIGHT              176955 non-null  float64\n",
            "dtypes: float64(20)\n",
            "memory usage: 28.4 MB\n"
          ]
        }
      ]
    },
    {
      "cell_type": "code",
      "source": [
        "X_test_trimmed_and_stnd_for_Logit['CONST'] = 1\n",
        "#X_test_trimmed_and_stnd_for_Logit = X_test_trimmed_and_stnd_for_Logit.insert(0, 'CONST', 1)\n",
        "#cols.insert(0, cols.pop(cols.index('Mid')))\n",
        "X_test_trimmed_and_stnd_for_Logit.info()"
      ],
      "metadata": {
        "colab": {
          "base_uri": "https://localhost:8080/"
        },
        "id": "PFRFRGoRyXTo",
        "outputId": "6c0b510e-4dc4-49a7-c9b0-192293ed6ea2"
      },
      "execution_count": 56,
      "outputs": [
        {
          "output_type": "stream",
          "name": "stdout",
          "text": [
            "<class 'pandas.core.frame.DataFrame'>\n",
            "Index: 176955 entries, 442162 to 446367\n",
            "Data columns (total 21 columns):\n",
            " #   Column                              Non-Null Count   Dtype  \n",
            "---  ------                              --------------   -----  \n",
            " 0   CRASH_HOUR                          176955 non-null  float64\n",
            " 1   LATITUDE                            176955 non-null  float64\n",
            " 2   LONGITUDE                           176955 non-null  float64\n",
            " 3   AGE                                 176955 non-null  float64\n",
            " 4   WEATHER_CONDITION_CLEAR             176955 non-null  float64\n",
            " 5   WEATHER_CONDITION_CLOUDY/OVERCAST   176955 non-null  float64\n",
            " 6   WEATHER_CONDITION_RAIN              176955 non-null  float64\n",
            " 7   LIGHTING_CONDITION_DAWN             176955 non-null  float64\n",
            " 8   ROADWAY_SURFACE_COND_DRY            176955 non-null  float64\n",
            " 9   ROADWAY_SURFACE_COND_ICE            176955 non-null  float64\n",
            " 10  ROADWAY_SURFACE_COND_WET            176955 non-null  float64\n",
            " 11  MANEUVER_AVOIDING VEHICLES/OBJECTS  176955 non-null  float64\n",
            " 12  MANEUVER_CHANGING LANES             176955 non-null  float64\n",
            " 13  MANEUVER_PARKED                     176955 non-null  float64\n",
            " 14  MANEUVER_PASSING/OVERTAKING         176955 non-null  float64\n",
            " 15  MANEUVER_SKIDDING/CONTROL LOSS      176955 non-null  float64\n",
            " 16  MANEUVER_SLOW/STOP IN TRAFFIC       176955 non-null  float64\n",
            " 17  MANEUVER_STRAIGHT AHEAD             176955 non-null  float64\n",
            " 18  MANEUVER_TURNING LEFT               176955 non-null  float64\n",
            " 19  MANEUVER_TURNING RIGHT              176955 non-null  float64\n",
            " 20  CONST                               176955 non-null  int64  \n",
            "dtypes: float64(20), int64(1)\n",
            "memory usage: 29.7 MB\n"
          ]
        }
      ]
    },
    {
      "cell_type": "code",
      "source": [
        "#making our y_test predictions\n",
        "y_pred_test = round(statistically_significant_Logit.predict(X_test_trimmed_and_stnd_for_Logit), 0)\n",
        "\n",
        "#confusion matrix\n",
        "from sklearn.metrics import ConfusionMatrixDisplay\n",
        "ConfusionMatrixDisplay.from_predictions(y_test, y_pred_test);"
      ],
      "metadata": {
        "colab": {
          "base_uri": "https://localhost:8080/",
          "height": 453
        },
        "id": "Z0XKLRX3uE4l",
        "outputId": "cd52dd0e-1d89-498f-d29f-df9ea8b3dcea"
      },
      "execution_count": 57,
      "outputs": [
        {
          "output_type": "display_data",
          "data": {
            "text/plain": [
              "<Figure size 640x480 with 2 Axes>"
            ],
            "image/png": "[encoded data removed]"
          },
          "metadata": {}
        }
      ]
    },
    {
      "cell_type": "code",
      "source": [
        "from sklearn.metrics import classification_report\n",
        "target_names = ['0', '1']\n",
        "print(classification_report(y_test, y_pred_test, target_names = target_names))"
      ],
      "metadata": {
        "colab": {
          "base_uri": "https://localhost:8080/"
        },
        "id": "FZVx18yUwXFN",
        "outputId": "c788888c-1d17-44a6-a5a4-a8a7b2ec28b7"
      },
      "execution_count": 58,
      "outputs": [
        {
          "output_type": "stream",
          "name": "stdout",
          "text": [
            "              precision    recall  f1-score   support\n",
            "\n",
            "           0       0.07      0.69      0.12     12765\n",
            "           1       0.92      0.27      0.41    164190\n",
            "\n",
            "    accuracy                           0.30    176955\n",
            "   macro avg       0.49      0.48      0.27    176955\n",
            "weighted avg       0.86      0.30      0.39    176955\n",
            "\n"
          ]
        }
      ]
    },
    {
      "cell_type": "markdown",
      "source": [
        "That is horrible, but it's almost certainly because we haven't yet addressed class imbalance."
      ],
      "metadata": {
        "id": "x2KVPAZm4tkj"
      }
    },
    {
      "cell_type": "code",
      "source": [
        "y_train.value_counts()"
      ],
      "metadata": {
        "colab": {
          "base_uri": "https://localhost:8080/"
        },
        "id": "ZjXHxePthi5g",
        "outputId": "09126f67-a7e2-4604-acf6-978b5da1ddd4"
      },
      "execution_count": 59,
      "outputs": [
        {
          "output_type": "execute_result",
          "data": {
            "text/plain": [
              "TARGET\n",
              "1    656936\n",
              "0     50881\n",
              "Name: count, dtype: int64"
            ]
          },
          "metadata": {},
          "execution_count": 59
        }
      ]
    },
    {
      "cell_type": "code",
      "source": [
        "#refresher on the undersampling strategies\n",
        "undersampling_strategies = [{0:50881, 1:328468}, {0:50881, 1:394162}, {0:50881, 1:459855}, {0:50881, 1:525549}, {0:50881, 1:591252}]\n",
        "\n",
        "#empty list for f1 scores\n",
        "f1_scores = []\n",
        "\n",
        "#iterate through each sampling strategy\n",
        "for i in undersampling_strategies:\n",
        "    # define undersampling strategy\n",
        "    undersample = RandomUnderSampler(random_state=210, sampling_strategy=i)\n",
        "    # fit and apply the undersampling strategy\n",
        "    X_train_trimmed_and_stnd_for_Logit_under, y_train_under = undersample.fit_resample(X_train_trimmed_and_stnd_for_Logit, y_train)\n",
        "    #instantiate & fit the model to X-over & y-over\n",
        "    X_under = sm.add_constant(X_train_trimmed_and_stnd_for_Logit_under)\n",
        "    temp_logit_model = sm.Logit(y_train_under.astype(float), X_under.astype(float))\n",
        "    temp_logit_model = temp_logit_model.fit(maxiter=3500)\n",
        "    #make predictions on test set\n",
        "    y_hat = round(temp_logit_model.predict(X_under), 0)\n",
        "    #find & append f1 score\n",
        "    f1_scores.append(f1_score(y_train_under, y_hat))\n",
        "\n",
        "undersampling_percentages = ['50%:', '60%:', '70%:', '80%:', '90%:']\n",
        "print(\"sampling strategies & f1 scores:\", list(zip(undersampling_percentages, f1_scores)))"
      ],
      "metadata": {
        "colab": {
          "base_uri": "https://localhost:8080/"
        },
        "id": "2NMf93y7xzoo",
        "outputId": "0956e3b0-fa2c-4bac-9e1f-3a46dfa4aece"
      },
      "execution_count": 60,
      "outputs": [
        {
          "output_type": "stream",
          "name": "stdout",
          "text": [
            "Optimization terminated successfully.\n",
            "         Current function value: 0.344437\n",
            "         Iterations 7\n",
            "Optimization terminated successfully.\n",
            "         Current function value: 0.311550\n",
            "         Iterations 8\n",
            "Optimization terminated successfully.\n",
            "         Current function value: 0.284951\n",
            "         Iterations 8\n",
            "Optimization terminated successfully.\n",
            "         Current function value: 0.262951\n",
            "         Iterations 8\n",
            "Optimization terminated successfully.\n",
            "         Current function value: 0.244442\n",
            "         Iterations 8\n",
            "sampling strategies & f1 scores: [('50%:', 0.9307005155408586), ('60%:', 0.9414183235895568), ('70%:', 0.9491864566334836), ('80%:', 0.9550649734469039), ('90%:', 0.9596770318464387)]\n"
          ]
        }
      ]
    },
    {
      "cell_type": "markdown",
      "source": [
        "Undersampling at 90% gets the best score so far, now let's try oversampling."
      ],
      "metadata": {
        "id": "UKslmCn17ck_"
      }
    },
    {
      "cell_type": "code",
      "source": [
        "#refresher on the oversampling strategies\n",
        "oversampling_strategies = [{0:55969, 1:656936}, {0:61057, 1:656936}, {0:66145, 1:656936}, {0:71233, 1:656936}, {0:76322, 1:656936}]\n",
        "\n",
        "#empty list for f1 scores\n",
        "f1_scores = []\n",
        "\n",
        "#iterate through each sampling strategy\n",
        "for i in oversampling_strategies:\n",
        "    # define oversampling strategy\n",
        "    oversample = RandomOverSampler(random_state=210, sampling_strategy=i)\n",
        "    # fit and apply the oversampling strategy\n",
        "    X_train_trimmed_and_stnd_for_Logit_over, y_train_over = oversample.fit_resample(X_train_trimmed_and_stnd_for_Logit, y_train)\n",
        "    #instantiate & fit the model to X-over & y-over\n",
        "    X_over = sm.add_constant(X_train_trimmed_and_stnd_for_Logit_over)\n",
        "    temp_logit_model = sm.Logit(y_train_over.astype(float), X_over.astype(float))\n",
        "    temp_logit_model = temp_logit_model.fit(maxiter=3500)\n",
        "    #make predictions\n",
        "    y_hat = round(temp_logit_model.predict(X_over), 0)\n",
        "    #find & append f1 score\n",
        "    f1_scores.append(f1_score(y_train_over, y_hat))\n",
        "\n",
        "oversampling_percentages = ['110%:', '120%:', '130%:', '140%:', '150%:']\n",
        "print(\"sampling strategies & f1 scores:\", list(zip(oversampling_percentages, f1_scores)))"
      ],
      "metadata": {
        "colab": {
          "base_uri": "https://localhost:8080/"
        },
        "id": "Je77BnLp7KxM",
        "outputId": "24930a63-9cfe-453d-efd6-3592bbd66ee0"
      },
      "execution_count": 61,
      "outputs": [
        {
          "output_type": "stream",
          "name": "stdout",
          "text": [
            "Optimization terminated successfully.\n",
            "         Current function value: 0.242860\n",
            "         Iterations 8\n",
            "Optimization terminated successfully.\n",
            "         Current function value: 0.256339\n",
            "         Iterations 8\n",
            "Optimization terminated successfully.\n",
            "         Current function value: 0.269339\n",
            "         Iterations 8\n",
            "Optimization terminated successfully.\n",
            "         Current function value: 0.281639\n",
            "         Iterations 8\n",
            "Optimization terminated successfully.\n",
            "         Current function value: 0.293242\n",
            "         Iterations 8\n",
            "sampling strategies & f1 scores: [('110%:', 0.9600413562503667), ('120%:', 0.9567278595924955), ('130%:', 0.95338885800407), ('140%:', 0.9501037296172755), ('150%:', 0.9468680997061669)]\n"
          ]
        }
      ]
    },
    {
      "cell_type": "markdown",
      "source": [
        "Oversampling at 110% does even better. Finally, let's see the extent to which SMOTE oversampling will help."
      ],
      "metadata": {
        "id": "XiYbypi48nhP"
      }
    },
    {
      "cell_type": "code",
      "source": [
        "#empty list for f1 scores\n",
        "f1_scores = []\n",
        "\n",
        "#iterate through each SMOTE oversampling strategy\n",
        "for i in oversampling_strategies:\n",
        "    smote = SMOTE(random_state=210, sampling_strategy=i)\n",
        "    # fit and apply the oversampling strategy\n",
        "    X_train_trimmed_and_stnd_for_Logit_smote, y_train_smote = smote.fit_resample(X_train_trimmed_and_stnd_for_Logit, y_train)\n",
        "    #instantiate & fit the model to X-smote & y-smote\n",
        "    X_smote = sm.add_constant(X_train_trimmed_and_stnd_for_Logit_smote)\n",
        "    temp_logit_model = sm.Logit(y_train_smote.astype(float), X_smote.astype(float))\n",
        "    temp_logit_model = temp_logit_model.fit(maxiter=3500)\n",
        "    #make predictions\n",
        "    y_hat = round(temp_logit_model.predict(X_smote), 0)\n",
        "    #find & append f1 score\n",
        "    f1_scores.append(f1_score(y_train_smote, y_hat))\n",
        "\n",
        "oversampling_percentages = ['110%:', '120%:', '130%:', '140%:', '150%:']\n",
        "print(\"sampling strategies & f1 scores:\", list(zip(oversampling_percentages, f1_scores)))"
      ],
      "metadata": {
        "colab": {
          "base_uri": "https://localhost:8080/"
        },
        "id": "bHUp0w-U8cY0",
        "outputId": "6f17e630-4bb4-43ab-9c1b-3dd6849cae1d"
      },
      "execution_count": 62,
      "outputs": [
        {
          "output_type": "stream",
          "name": "stdout",
          "text": [
            "Optimization terminated successfully.\n",
            "         Current function value: 0.242916\n",
            "         Iterations 8\n",
            "Optimization terminated successfully.\n",
            "         Current function value: 0.256306\n",
            "         Iterations 8\n",
            "Optimization terminated successfully.\n",
            "         Current function value: 0.269214\n",
            "         Iterations 8\n",
            "Optimization terminated successfully.\n",
            "         Current function value: 0.281490\n",
            "         Iterations 8\n",
            "Optimization terminated successfully.\n",
            "         Current function value: 0.293032\n",
            "         Iterations 8\n",
            "sampling strategies & f1 scores: [('110%:', 0.960048749296039), ('120%:', 0.95672112646407), ('130%:', 0.9534012470437719), ('140%:', 0.9501341923581175), ('150%:', 0.9468682179976415)]\n"
          ]
        }
      ]
    },
    {
      "cell_type": "markdown",
      "source": [
        "A SMOTE oversampling strategy at 110% just barely outperforms our last-best strategy, so we'll use that."
      ],
      "metadata": {
        "id": "yEF9gee3_Q41"
      }
    },
    {
      "cell_type": "code",
      "source": [
        "#setting the SMOTE sampling_strategy to 110%\n",
        "smote = SMOTE(random_state=210, sampling_strategy={0:55969, 1:656936})\n",
        "#transforming our data\n",
        "X_train_trimmed_and_stnd_for_Logit_smote, y_train_smote = smote.fit_resample(X_train_trimmed_and_stnd_for_Logit, y_train)\n",
        "#instantiate & fit the model to X-smote & y-smote\n",
        "X_smote = sm.add_constant(X_train_trimmed_and_stnd_for_Logit_smote)\n",
        "smote_logit_model = sm.Logit(y_train_smote.astype(float), X_smote.astype(float))\n",
        "smote_logit_model = smote_logit_model.fit(maxiter=3500)\n",
        "\n",
        "#making our test predictions\n",
        "y_pred_test = round(smote_logit_model.predict(X_test_trimmed_and_stnd_for_Logit), 0)\n",
        "\n",
        "#confusion matrix\n",
        "ConfusionMatrixDisplay.from_predictions(y_test, y_pred_test);"
      ],
      "metadata": {
        "colab": {
          "base_uri": "https://localhost:8080/",
          "height": 501
        },
        "id": "Nh0H9TYL-SjR",
        "outputId": "ff55f43d-43e5-4929-b5d8-587b97a24c8f"
      },
      "execution_count": 63,
      "outputs": [
        {
          "output_type": "stream",
          "name": "stdout",
          "text": [
            "Optimization terminated successfully.\n",
            "         Current function value: 0.242916\n",
            "         Iterations 8\n"
          ]
        },
        {
          "output_type": "display_data",
          "data": {
            "text/plain": [
              "<Figure size 640x480 with 2 Axes>"
            ],
            "image/png": "[encoded data removed]"
          },
          "metadata": {}
        }
      ]
    },
    {
      "cell_type": "code",
      "source": [
        "print(classification_report(y_test, y_pred_test, target_names = target_names))"
      ],
      "metadata": {
        "colab": {
          "base_uri": "https://localhost:8080/"
        },
        "id": "c-KiMqJORGKN",
        "outputId": "3f925201-83e5-49d5-ec0a-db5201d0ebe2"
      },
      "execution_count": 64,
      "outputs": [
        {
          "output_type": "stream",
          "name": "stdout",
          "text": [
            "              precision    recall  f1-score   support\n",
            "\n",
            "           0       0.07      0.70      0.12     12765\n",
            "           1       0.91      0.25      0.40    164190\n",
            "\n",
            "    accuracy                           0.29    176955\n",
            "   macro avg       0.49      0.48      0.26    176955\n",
            "weighted avg       0.85      0.29      0.38    176955\n",
            "\n"
          ]
        }
      ]
    },
    {
      "cell_type": "markdown",
      "source": [
        "Wow, oversampling didn't really improve our model. Let's try regularization since overfitting seems to be a problem when we compare the f1 scores of our train set (0.96) to our test set above. **Never mind, this cell takes a long time to run and doesn't improve the model.**"
      ],
      "metadata": {
        "id": "sXIH5-EfSZ97"
      }
    },
    {
      "cell_type": "code",
      "source": [
        "#f1_scores = []\n",
        "\n",
        "#alpha_levels = [0.1, 0.5, 1, 2, 5, 10, 50]\n",
        "#for i in alpha_levels:\n",
        "#  X_smote = sm.add_constant(X_train_trimmed_and_stnd_for_Logit_smote)\n",
        "#  temp_model = sm.Logit(y_train_smote.astype(float), X_smote.astype(float))\n",
        "#  temp_model = temp_model.fit_regularized(maxiter=5000, method='l1', alpha=i, trim_mode='size')\n",
        "\n",
        "  #make predictions\n",
        "# y_hat = round(temp_model.predict(X_smote), 0)\n",
        "  #find & append f1 score\n",
        "# f1_scores.append(f1_score(y_train_smote, y_hat))\n",
        "\n",
        "#print(\"alpha levels & f1 scores:\", list(zip(alpha_levels, f1_scores)))"
      ],
      "metadata": {
        "id": "w15sGAxuR5HQ"
      },
      "execution_count": 65,
      "outputs": []
    },
    {
      "cell_type": "code",
      "source": [
        "#fitting with regularization and alpha set to 0.1\n",
        "sm_logit_smote_reg = sm.Logit(y_train_smote.astype(float), X_smote.astype(float))\n",
        "sm_logit_smote_reg = sm_logit_smote_reg.fit_regularized(maxiter=5000, method='l1', alpha=0.1, trim_mode='size')\n",
        "#making our test predictions\n",
        "y_pred_test = round(sm_logit_smote_reg.predict(X_test_trimmed_and_stnd_for_Logit), 0)\n",
        "#confusion matrix\n",
        "ConfusionMatrixDisplay.from_predictions(y_test, y_pred_test);"
      ],
      "metadata": {
        "colab": {
          "base_uri": "https://localhost:8080/",
          "height": 588
        },
        "id": "2_Qx3u7VpbSG",
        "outputId": "0f587b81-9456-416e-908d-5648f2216bf1"
      },
      "execution_count": 66,
      "outputs": [
        {
          "output_type": "stream",
          "name": "stdout",
          "text": [
            "Optimization terminated successfully    (Exit mode 0)\n",
            "            Current function value: 0.2429199498778364\n",
            "            Iterations: 141\n",
            "            Function evaluations: 143\n",
            "            Gradient evaluations: 141\n"
          ]
        },
        {
          "output_type": "stream",
          "name": "stderr",
          "text": [
            "/usr/local/lib/python3.10/dist-packages/statsmodels/base/l1_solvers_common.py:71: ConvergenceWarning: QC check did not pass for 20 out of 21 parameters\n",
            "Try increasing solver accuracy or number of iterations, decreasing alpha, or switch solvers\n",
            "  warnings.warn(message, ConvergenceWarning)\n"
          ]
        },
        {
          "output_type": "display_data",
          "data": {
            "text/plain": [
              "<Figure size 640x480 with 2 Axes>"
            ],
            "image/png": "[encoded data removed]"
          },
          "metadata": {}
        }
      ]
    },
    {
      "cell_type": "code",
      "source": [
        "print(classification_report(y_test, y_pred_test, target_names = target_names))"
      ],
      "metadata": {
        "id": "fj--IMsmXt8w",
        "colab": {
          "base_uri": "https://localhost:8080/"
        },
        "outputId": "07fe26d1-b7db-4c18-a874-54e2faa517de"
      },
      "execution_count": 67,
      "outputs": [
        {
          "output_type": "stream",
          "name": "stdout",
          "text": [
            "              precision    recall  f1-score   support\n",
            "\n",
            "           0       0.07      0.70      0.12     12765\n",
            "           1       0.92      0.25      0.40    164190\n",
            "\n",
            "    accuracy                           0.29    176955\n",
            "   macro avg       0.49      0.48      0.26    176955\n",
            "weighted avg       0.85      0.29      0.38    176955\n",
            "\n"
          ]
        }
      ]
    },
    {
      "cell_type": "markdown",
      "source": [
        "This model is still terrible and isn't really improving. This is probably because there just isn't any sort of linear relationship between these diverse types of columns and the feature-engineered target column, which condenses 38 classes down into \"avoidable\" and \"not-so-avoidable\". I just don't think a Logit model is right for this data at this point, so let's move on and see whether a decision tree can do a better job."
      ],
      "metadata": {
        "id": "Iwf1XqXzDX6P"
      }
    },
    {
      "cell_type": "markdown",
      "source": [
        "# Running a decision tree model\n",
        "\n",
        "This is another white-box model we can use to make sense of this data in an interpretable manner. To begin, let's see how it performs with all 69 columns we began this notebook with."
      ],
      "metadata": {
        "id": "A8dvFCX0qh1i"
      }
    },
    {
      "cell_type": "code",
      "source": [
        "#gathering all categorical columns and non-standardized numeric ones\n",
        "X_train_non_stnd_all_cat = pd.concat([X_train_numeric, X_train_categorical_ohe], axis=1)\n",
        "X_train_non_stnd_all_cat.info()"
      ],
      "metadata": {
        "colab": {
          "base_uri": "https://localhost:8080/"
        },
        "outputId": "3b27dd0c-c7d6-463c-8a83-99b32fe2cc5a",
        "collapsed": true,
        "id": "CcNxZWtjqTxs"
      },
      "execution_count": 69,
      "outputs": [
        {
          "output_type": "stream",
          "name": "stdout",
          "text": [
            "<class 'pandas.core.frame.DataFrame'>\n",
            "Index: 707817 entries, 571273 to 303626\n",
            "Data columns (total 69 columns):\n",
            " #   Column                                       Non-Null Count   Dtype  \n",
            "---  ------                                       --------------   -----  \n",
            " 0   POSTED_SPEED_LIMIT                           707817 non-null  int64  \n",
            " 1   NUM_UNITS                                    707817 non-null  int64  \n",
            " 2   CRASH_HOUR                                   707817 non-null  int64  \n",
            " 3   LATITUDE                                     707817 non-null  float64\n",
            " 4   LONGITUDE                                    707817 non-null  float64\n",
            " 5   AGE                                          707817 non-null  int64  \n",
            " 6   WEATHER_CONDITION_BLOWING SAND, SOIL, DIRT   707817 non-null  float64\n",
            " 7   WEATHER_CONDITION_BLOWING SNOW               707817 non-null  float64\n",
            " 8   WEATHER_CONDITION_CLEAR                      707817 non-null  float64\n",
            " 9   WEATHER_CONDITION_CLOUDY/OVERCAST            707817 non-null  float64\n",
            " 10  WEATHER_CONDITION_FOG/SMOKE/HAZE             707817 non-null  float64\n",
            " 11  WEATHER_CONDITION_FREEZING RAIN/DRIZZLE      707817 non-null  float64\n",
            " 12  WEATHER_CONDITION_RAIN                       707817 non-null  float64\n",
            " 13  WEATHER_CONDITION_SEVERE CROSS WIND GATE     707817 non-null  float64\n",
            " 14  WEATHER_CONDITION_SLEET/HAIL                 707817 non-null  float64\n",
            " 15  WEATHER_CONDITION_SNOW                       707817 non-null  float64\n",
            " 16  LIGHTING_CONDITION_DARKNESS                  707817 non-null  float64\n",
            " 17  LIGHTING_CONDITION_DARKNESS, LIGHTED ROAD    707817 non-null  float64\n",
            " 18  LIGHTING_CONDITION_DAWN                      707817 non-null  float64\n",
            " 19  LIGHTING_CONDITION_DAYLIGHT                  707817 non-null  float64\n",
            " 20  LIGHTING_CONDITION_DUSK                      707817 non-null  float64\n",
            " 21  ROADWAY_SURFACE_COND_DRY                     707817 non-null  float64\n",
            " 22  ROADWAY_SURFACE_COND_ICE                     707817 non-null  float64\n",
            " 23  ROADWAY_SURFACE_COND_SNOW OR SLUSH           707817 non-null  float64\n",
            " 24  ROADWAY_SURFACE_COND_WET                     707817 non-null  float64\n",
            " 25  CRASH_DAY_OF_WEEK_1                          707817 non-null  float64\n",
            " 26  CRASH_DAY_OF_WEEK_2                          707817 non-null  float64\n",
            " 27  CRASH_DAY_OF_WEEK_3                          707817 non-null  float64\n",
            " 28  CRASH_DAY_OF_WEEK_4                          707817 non-null  float64\n",
            " 29  CRASH_DAY_OF_WEEK_5                          707817 non-null  float64\n",
            " 30  CRASH_DAY_OF_WEEK_6                          707817 non-null  float64\n",
            " 31  CRASH_DAY_OF_WEEK_7                          707817 non-null  float64\n",
            " 32  PERSON_TYPE_BICYCLE                          707817 non-null  float64\n",
            " 33  PERSON_TYPE_DRIVER                           707817 non-null  float64\n",
            " 34  PERSON_TYPE_NON-CONTACT VEHICLE              707817 non-null  float64\n",
            " 35  PERSON_TYPE_PEDESTRIAN                       707817 non-null  float64\n",
            " 36  SEX_F                                        707817 non-null  float64\n",
            " 37  SEX_M                                        707817 non-null  float64\n",
            " 38  SEX_X                                        707817 non-null  float64\n",
            " 39  TRAVEL_DIRECTION_E                           707817 non-null  float64\n",
            " 40  TRAVEL_DIRECTION_N                           707817 non-null  float64\n",
            " 41  TRAVEL_DIRECTION_NE                          707817 non-null  float64\n",
            " 42  TRAVEL_DIRECTION_NW                          707817 non-null  float64\n",
            " 43  TRAVEL_DIRECTION_S                           707817 non-null  float64\n",
            " 44  TRAVEL_DIRECTION_SE                          707817 non-null  float64\n",
            " 45  TRAVEL_DIRECTION_SW                          707817 non-null  float64\n",
            " 46  TRAVEL_DIRECTION_W                           707817 non-null  float64\n",
            " 47  MANEUVER_AVOIDING VEHICLES/OBJECTS           707817 non-null  float64\n",
            " 48  MANEUVER_BACKING                             707817 non-null  float64\n",
            " 49  MANEUVER_CHANGING LANES                      707817 non-null  float64\n",
            " 50  MANEUVER_DRIVING WRONG WAY                   707817 non-null  float64\n",
            " 51  MANEUVER_ENTER FROM DRIVE/ALLEY              707817 non-null  float64\n",
            " 52  MANEUVER_ENTERING TRAFFIC LANE FROM PARKING  707817 non-null  float64\n",
            " 53  MANEUVER_LEAVING TRAFFIC LANE TO PARK        707817 non-null  float64\n",
            " 54  MANEUVER_MERGING                             707817 non-null  float64\n",
            " 55  MANEUVER_NEGOTIATING A CURVE                 707817 non-null  float64\n",
            " 56  MANEUVER_PARKED                              707817 non-null  float64\n",
            " 57  MANEUVER_PARKED IN TRAFFIC LANE              707817 non-null  float64\n",
            " 58  MANEUVER_PASSING/OVERTAKING                  707817 non-null  float64\n",
            " 59  MANEUVER_SKIDDING/CONTROL LOSS               707817 non-null  float64\n",
            " 60  MANEUVER_SLOW/STOP - LEFT TURN               707817 non-null  float64\n",
            " 61  MANEUVER_SLOW/STOP - LOAD/UNLOAD             707817 non-null  float64\n",
            " 62  MANEUVER_SLOW/STOP - RIGHT TURN              707817 non-null  float64\n",
            " 63  MANEUVER_SLOW/STOP IN TRAFFIC                707817 non-null  float64\n",
            " 64  MANEUVER_STARTING IN TRAFFIC                 707817 non-null  float64\n",
            " 65  MANEUVER_STRAIGHT AHEAD                      707817 non-null  float64\n",
            " 66  MANEUVER_TURNING LEFT                        707817 non-null  float64\n",
            " 67  MANEUVER_TURNING RIGHT                       707817 non-null  float64\n",
            " 68  MANEUVER_U-TURN                              707817 non-null  float64\n",
            "dtypes: float64(65), int64(4)\n",
            "memory usage: 378.0 MB\n"
          ]
        }
      ]
    },
    {
      "cell_type": "code",
      "source": [
        "from sklearn import tree\n",
        "from sklearn.tree import DecisionTreeClassifier\n",
        "#instantiating & fitting the DecisionTreeClassifier model\n",
        "all_columns_dt = DecisionTreeClassifier(criterion='entropy', random_state=210)\n",
        "all_columns_dt.fit(X_train_non_stnd_all_cat, y_train)"
      ],
      "metadata": {
        "colab": {
          "base_uri": "https://localhost:8080/",
          "height": 74
        },
        "outputId": "aac0958a-b626-4c8c-946d-cc7b0dc6d520",
        "id": "s_0mkaQoqTx1"
      },
      "execution_count": 70,
      "outputs": [
        {
          "output_type": "execute_result",
          "data": {
            "text/plain": [
              "DecisionTreeClassifier(criterion='entropy', random_state=210)"
            ],
            "text/html": [
              "<style>#sk-container-id-2 {color: black;background-color: white;}#sk-container-id-2 pre{padding: 0;}#sk-container-id-2 div.sk-toggleable {background-color: white;}#sk-container-id-2 label.sk-toggleable__label {cursor: pointer;display: block;width: 100%;margin-bottom: 0;padding: 0.3em;box-sizing: border-box;text-align: center;}#sk-container-id-2 label.sk-toggleable__label-arrow:before {content: \"▸\";float: left;margin-right: 0.25em;color: #696969;}#sk-container-id-2 label.sk-toggleable__label-arrow:hover:before {color: black;}#sk-container-id-2 div.sk-estimator:hover label.sk-toggleable__label-arrow:before {color: black;}#sk-container-id-2 div.sk-toggleable__content {max-height: 0;max-width: 0;overflow: hidden;text-align: left;background-color: #f0f8ff;}#sk-container-id-2 div.sk-toggleable__content pre {margin: 0.2em;color: black;border-radius: 0.25em;background-color: #f0f8ff;}#sk-container-id-2 input.sk-toggleable__control:checked~div.sk-toggleable__content {max-height: 200px;max-width: 100%;overflow: auto;}#sk-container-id-2 input.sk-toggleable__control:checked~label.sk-toggleable__label-arrow:before {content: \"▾\";}#sk-container-id-2 div.sk-estimator input.sk-toggleable__control:checked~label.sk-toggleable__label {background-color: #d4ebff;}#sk-container-id-2 div.sk-label input.sk-toggleable__control:checked~label.sk-toggleable__label {background-color: #d4ebff;}#sk-container-id-2 input.sk-hidden--visually {border: 0;clip: rect(1px 1px 1px 1px);clip: rect(1px, 1px, 1px, 1px);height: 1px;margin: -1px;overflow: hidden;padding: 0;position: absolute;width: 1px;}#sk-container-id-2 div.sk-estimator {font-family: monospace;background-color: #f0f8ff;border: 1px dotted black;border-radius: 0.25em;box-sizing: border-box;margin-bottom: 0.5em;}#sk-container-id-2 div.sk-estimator:hover {background-color: #d4ebff;}#sk-container-id-2 div.sk-parallel-item::after {content: \"\";width: 100%;border-bottom: 1px solid gray;flex-grow: 1;}#sk-container-id-2 div.sk-label:hover label.sk-toggleable__label {background-color: #d4ebff;}#sk-container-id-2 div.sk-serial::before {content: \"\";position: absolute;border-left: 1px solid gray;box-sizing: border-box;top: 0;bottom: 0;left: 50%;z-index: 0;}#sk-container-id-2 div.sk-serial {display: flex;flex-direction: column;align-items: center;background-color: white;padding-right: 0.2em;padding-left: 0.2em;position: relative;}#sk-container-id-2 div.sk-item {position: relative;z-index: 1;}#sk-container-id-2 div.sk-parallel {display: flex;align-items: stretch;justify-content: center;background-color: white;position: relative;}#sk-container-id-2 div.sk-item::before, #sk-container-id-2 div.sk-parallel-item::before {content: \"\";position: absolute;border-left: 1px solid gray;box-sizing: border-box;top: 0;bottom: 0;left: 50%;z-index: -1;}#sk-container-id-2 div.sk-parallel-item {display: flex;flex-direction: column;z-index: 1;position: relative;background-color: white;}#sk-container-id-2 div.sk-parallel-item:first-child::after {align-self: flex-end;width: 50%;}#sk-container-id-2 div.sk-parallel-item:last-child::after {align-self: flex-start;width: 50%;}#sk-container-id-2 div.sk-parallel-item:only-child::after {width: 0;}#sk-container-id-2 div.sk-dashed-wrapped {border: 1px dashed gray;margin: 0 0.4em 0.5em 0.4em;box-sizing: border-box;padding-bottom: 0.4em;background-color: white;}#sk-container-id-2 div.sk-label label {font-family: monospace;font-weight: bold;display: inline-block;line-height: 1.2em;}#sk-container-id-2 div.sk-label-container {text-align: center;}#sk-container-id-2 div.sk-container {/* jupyter's `normalize.less` sets `[hidden] { display: none; }` but bootstrap.min.css set `[hidden] { display: none !important; }` so we also need the `!important` here to be able to override the default hidden behavior on the sphinx rendered scikit-learn.org. See: https://github.com/scikit-learn/scikit-learn/issues/21755 */display: inline-block !important;position: relative;}#sk-container-id-2 div.sk-text-repr-fallback {display: none;}</style><div id=\"sk-container-id-2\" class=\"sk-top-container\"><div class=\"sk-text-repr-fallback\"><pre>DecisionTreeClassifier(criterion=&#x27;entropy&#x27;, random_state=210)</pre><b>In a Jupyter environment, please rerun this cell to show the HTML representation or trust the notebook. <br />On GitHub, the HTML representation is unable to render, please try loading this page with nbviewer.org.</b></div><div class=\"sk-container\" hidden><div class=\"sk-item\"><div class=\"sk-estimator sk-toggleable\"><input class=\"sk-toggleable__control sk-hidden--visually\" id=\"sk-estimator-id-4\" type=\"checkbox\" checked><label for=\"sk-estimator-id-4\" class=\"sk-toggleable__label sk-toggleable__label-arrow\">DecisionTreeClassifier</label><div class=\"sk-toggleable__content\"><pre>DecisionTreeClassifier(criterion=&#x27;entropy&#x27;, random_state=210)</pre></div></div></div></div></div>"
            ]
          },
          "metadata": {},
          "execution_count": 70
        }
      ]
    },
    {
      "cell_type": "code",
      "source": [
        "#making our y_test predictions\n",
        "y_pred_test_all = all_columns_dt.predict(X_test_nonstandardized)\n",
        "\n",
        "#confusion matrix\n",
        "ConfusionMatrixDisplay.from_predictions(y_test, y_pred_test_all);"
      ],
      "metadata": {
        "colab": {
          "base_uri": "https://localhost:8080/",
          "height": 449
        },
        "outputId": "cef5a3b0-06a1-4c55-c4ff-1c8b01c28679",
        "collapsed": true,
        "id": "kfXDHKUyqTx1"
      },
      "execution_count": 71,
      "outputs": [
        {
          "output_type": "display_data",
          "data": {
            "text/plain": [
              "<Figure size 640x480 with 2 Axes>"
            ],
            "image/png": "[encoded data removed]"
          },
          "metadata": {}
        }
      ]
    },
    {
      "cell_type": "code",
      "source": [
        "print(classification_report(y_test, y_pred_test_all, target_names = target_names))"
      ],
      "metadata": {
        "colab": {
          "base_uri": "https://localhost:8080/"
        },
        "outputId": "5eee4ca8-9bba-4a15-8527-7f09f45994fa",
        "id": "8ymmdAvCqTx1"
      },
      "execution_count": 72,
      "outputs": [
        {
          "output_type": "stream",
          "name": "stdout",
          "text": [
            "              precision    recall  f1-score   support\n",
            "\n",
            "           0       0.61      0.62      0.62     12765\n",
            "           1       0.97      0.97      0.97    164190\n",
            "\n",
            "    accuracy                           0.94    176955\n",
            "   macro avg       0.79      0.80      0.79    176955\n",
            "weighted avg       0.95      0.94      0.94    176955\n",
            "\n"
          ]
        }
      ]
    },
    {
      "cell_type": "markdown",
      "source": [
        "It looks like it's doing well except for the minority class in our target. This can hopefully be improved with over/under-sampling techniques, but for now, let's look at this model's feature importances."
      ],
      "metadata": {
        "id": "Y2v5gBdXqoW_"
      }
    },
    {
      "cell_type": "code",
      "source": [
        "all_columns_feature_importances = all_columns_dt.feature_importances_\n",
        "all_columns_feature_importances_rounded = np.around(all_columns_feature_importances, decimals=3)\n",
        "all_columns_feature_importances_rounded = pd.Series(all_columns_feature_importances_rounded,\n",
        "                                         index=X_train_non_stnd_all_cat.columns).sort_values()\n",
        "print(all_columns_feature_importances_rounded.to_string())"
      ],
      "metadata": {
        "colab": {
          "base_uri": "https://localhost:8080/"
        },
        "outputId": "5ff4ce60-3c1e-43a7-91d3-e2aca4fd6d8a",
        "id": "-uvhkq0sqTx2"
      },
      "execution_count": 73,
      "outputs": [
        {
          "output_type": "stream",
          "name": "stdout",
          "text": [
            "PERSON_TYPE_NON-CONTACT VEHICLE                0.000\n",
            "SEX_X                                          0.000\n",
            "MANEUVER_DRIVING WRONG WAY                     0.000\n",
            "WEATHER_CONDITION_SEVERE CROSS WIND GATE       0.000\n",
            "WEATHER_CONDITION_BLOWING SNOW                 0.000\n",
            "WEATHER_CONDITION_BLOWING SAND, SOIL, DIRT     0.000\n",
            "ROADWAY_SURFACE_COND_SNOW OR SLUSH             0.000\n",
            "MANEUVER_SLOW/STOP - LOAD/UNLOAD               0.000\n",
            "MANEUVER_SLOW/STOP - RIGHT TURN                0.000\n",
            "MANEUVER_SLOW/STOP - LEFT TURN                 0.001\n",
            "MANEUVER_NEGOTIATING A CURVE                   0.001\n",
            "MANEUVER_MERGING                               0.001\n",
            "PERSON_TYPE_BICYCLE                            0.001\n",
            "MANEUVER_ENTERING TRAFFIC LANE FROM PARKING    0.001\n",
            "MANEUVER_ENTER FROM DRIVE/ALLEY                0.001\n",
            "MANEUVER_CHANGING LANES                        0.001\n",
            "TRAVEL_DIRECTION_NE                            0.001\n",
            "MANEUVER_STARTING IN TRAFFIC                   0.001\n",
            "PERSON_TYPE_PEDESTRIAN                         0.001\n",
            "MANEUVER_PARKED IN TRAFFIC LANE                0.001\n",
            "MANEUVER_LEAVING TRAFFIC LANE TO PARK          0.001\n",
            "MANEUVER_U-TURN                                0.001\n",
            "WEATHER_CONDITION_FOG/SMOKE/HAZE               0.001\n",
            "WEATHER_CONDITION_FREEZING RAIN/DRIZZLE        0.001\n",
            "WEATHER_CONDITION_SLEET/HAIL                   0.001\n",
            "TRAVEL_DIRECTION_SW                            0.002\n",
            "MANEUVER_PASSING/OVERTAKING                    0.002\n",
            "MANEUVER_BACKING                               0.002\n",
            "TRAVEL_DIRECTION_SE                            0.002\n",
            "PERSON_TYPE_DRIVER                             0.002\n",
            "TRAVEL_DIRECTION_NW                            0.002\n",
            "MANEUVER_TURNING LEFT                          0.003\n",
            "WEATHER_CONDITION_CLOUDY/OVERCAST              0.003\n",
            "WEATHER_CONDITION_RAIN                         0.003\n",
            "WEATHER_CONDITION_SNOW                         0.003\n",
            "ROADWAY_SURFACE_COND_ICE                       0.003\n",
            "LIGHTING_CONDITION_DAWN                        0.003\n",
            "MANEUVER_TURNING RIGHT                         0.003\n",
            "LIGHTING_CONDITION_DUSK                        0.004\n",
            "MANEUVER_SLOW/STOP IN TRAFFIC                  0.004\n",
            "MANEUVER_STRAIGHT AHEAD                        0.004\n",
            "MANEUVER_SKIDDING/CONTROL LOSS                 0.005\n",
            "LIGHTING_CONDITION_DARKNESS                    0.005\n",
            "MANEUVER_AVOIDING VEHICLES/OBJECTS             0.005\n",
            "SEX_F                                          0.006\n",
            "SEX_M                                          0.006\n",
            "LIGHTING_CONDITION_DARKNESS, LIGHTED ROAD      0.007\n",
            "LIGHTING_CONDITION_DAYLIGHT                    0.007\n",
            "WEATHER_CONDITION_CLEAR                        0.007\n",
            "CRASH_DAY_OF_WEEK_1                            0.010\n",
            "TRAVEL_DIRECTION_N                             0.010\n",
            "TRAVEL_DIRECTION_E                             0.010\n",
            "TRAVEL_DIRECTION_W                             0.011\n",
            "TRAVEL_DIRECTION_S                             0.011\n",
            "CRASH_DAY_OF_WEEK_7                            0.011\n",
            "CRASH_DAY_OF_WEEK_5                            0.011\n",
            "CRASH_DAY_OF_WEEK_3                            0.012\n",
            "CRASH_DAY_OF_WEEK_2                            0.012\n",
            "CRASH_DAY_OF_WEEK_4                            0.012\n",
            "CRASH_DAY_OF_WEEK_6                            0.013\n",
            "MANEUVER_PARKED                                0.016\n",
            "ROADWAY_SURFACE_COND_WET                       0.019\n",
            "POSTED_SPEED_LIMIT                             0.031\n",
            "NUM_UNITS                                      0.048\n",
            "ROADWAY_SURFACE_COND_DRY                       0.055\n",
            "CRASH_HOUR                                     0.079\n",
            "AGE                                            0.097\n",
            "LONGITUDE                                      0.208\n",
            "LATITUDE                                       0.215\n"
          ]
        }
      ]
    },
    {
      "cell_type": "markdown",
      "source": [
        "That is a lot of features, so many of which contribute little to nothing for our model's predicting power. A long list like that also isn't exactly lending itself to model interpretability, so let's begin by reducing the columns to (almost) the same extent we did with StatsModels in order to see whether we can produce a more interpretable decision tree graph. We'll treat this as the actual baseline since it's the one we'll be optimizing from here on out."
      ],
      "metadata": {
        "id": "xG20c0rCq5Lj"
      }
    },
    {
      "cell_type": "code",
      "source": [
        "#dropping the columns we found to not be helpful after running PCA and a random forest\n",
        "X_train_nonstandardized_and_trimmed = X_train_nonstandardized.drop(preliminary_columns_to_drop, axis=1)\n",
        "#dropping the columns found to be insignificant by our Logit model\n",
        "X_train_nonstandardized_and_trimmed.drop(insignificant_columns_to_drop, axis=1, inplace=True)\n",
        "\n",
        "X_train_nonstandardized_and_trimmed.info()"
      ],
      "metadata": {
        "colab": {
          "base_uri": "https://localhost:8080/"
        },
        "id": "8zwHFg5PtdKT",
        "outputId": "11adcf88-9504-4b69-89bd-bba67138d175"
      },
      "execution_count": 74,
      "outputs": [
        {
          "output_type": "stream",
          "name": "stdout",
          "text": [
            "<class 'pandas.core.frame.DataFrame'>\n",
            "Index: 707817 entries, 571273 to 303626\n",
            "Data columns (total 23 columns):\n",
            " #   Column                              Non-Null Count   Dtype  \n",
            "---  ------                              --------------   -----  \n",
            " 0   CRASH_HOUR                          707817 non-null  int64  \n",
            " 1   LATITUDE                            707817 non-null  float64\n",
            " 2   LONGITUDE                           707817 non-null  float64\n",
            " 3   AGE                                 707817 non-null  int64  \n",
            " 4   WEATHER_CONDITION_CLEAR             707817 non-null  float64\n",
            " 5   WEATHER_CONDITION_CLOUDY/OVERCAST   707817 non-null  float64\n",
            " 6   WEATHER_CONDITION_RAIN              707817 non-null  float64\n",
            " 7   LIGHTING_CONDITION_DAWN             707817 non-null  float64\n",
            " 8   LIGHTING_CONDITION_DUSK             707817 non-null  float64\n",
            " 9   ROADWAY_SURFACE_COND_DRY            707817 non-null  float64\n",
            " 10  ROADWAY_SURFACE_COND_ICE            707817 non-null  float64\n",
            " 11  ROADWAY_SURFACE_COND_SNOW OR SLUSH  707817 non-null  float64\n",
            " 12  ROADWAY_SURFACE_COND_WET            707817 non-null  float64\n",
            " 13  CRASH_DAY_OF_WEEK_4                 707817 non-null  float64\n",
            " 14  MANEUVER_AVOIDING VEHICLES/OBJECTS  707817 non-null  float64\n",
            " 15  MANEUVER_CHANGING LANES             707817 non-null  float64\n",
            " 16  MANEUVER_PARKED                     707817 non-null  float64\n",
            " 17  MANEUVER_PASSING/OVERTAKING         707817 non-null  float64\n",
            " 18  MANEUVER_SKIDDING/CONTROL LOSS      707817 non-null  float64\n",
            " 19  MANEUVER_SLOW/STOP IN TRAFFIC       707817 non-null  float64\n",
            " 20  MANEUVER_STRAIGHT AHEAD             707817 non-null  float64\n",
            " 21  MANEUVER_TURNING LEFT               707817 non-null  float64\n",
            " 22  MANEUVER_TURNING RIGHT              707817 non-null  float64\n",
            "dtypes: float64(21), int64(2)\n",
            "memory usage: 129.6 MB\n"
          ]
        }
      ]
    },
    {
      "cell_type": "code",
      "source": [
        "#instantiating & fitting the DecisionTreeClassifier model\n",
        "dt_baseline = DecisionTreeClassifier(random_state=210)\n",
        "dt_baseline.fit(X_train_nonstandardized_and_trimmed, y_train)"
      ],
      "metadata": {
        "colab": {
          "base_uri": "https://localhost:8080/",
          "height": 74
        },
        "id": "VFzR7XAggEP8",
        "outputId": "a1026002-90b0-46d4-f497-3453c2991175"
      },
      "execution_count": 75,
      "outputs": [
        {
          "output_type": "execute_result",
          "data": {
            "text/plain": [
              "DecisionTreeClassifier(random_state=210)"
            ],
            "text/html": [
              "<style>#sk-container-id-3 {color: black;background-color: white;}#sk-container-id-3 pre{padding: 0;}#sk-container-id-3 div.sk-toggleable {background-color: white;}#sk-container-id-3 label.sk-toggleable__label {cursor: pointer;display: block;width: 100%;margin-bottom: 0;padding: 0.3em;box-sizing: border-box;text-align: center;}#sk-container-id-3 label.sk-toggleable__label-arrow:before {content: \"▸\";float: left;margin-right: 0.25em;color: #696969;}#sk-container-id-3 label.sk-toggleable__label-arrow:hover:before {color: black;}#sk-container-id-3 div.sk-estimator:hover label.sk-toggleable__label-arrow:before {color: black;}#sk-container-id-3 div.sk-toggleable__content {max-height: 0;max-width: 0;overflow: hidden;text-align: left;background-color: #f0f8ff;}#sk-container-id-3 div.sk-toggleable__content pre {margin: 0.2em;color: black;border-radius: 0.25em;background-color: #f0f8ff;}#sk-container-id-3 input.sk-toggleable__control:checked~div.sk-toggleable__content {max-height: 200px;max-width: 100%;overflow: auto;}#sk-container-id-3 input.sk-toggleable__control:checked~label.sk-toggleable__label-arrow:before {content: \"▾\";}#sk-container-id-3 div.sk-estimator input.sk-toggleable__control:checked~label.sk-toggleable__label {background-color: #d4ebff;}#sk-container-id-3 div.sk-label input.sk-toggleable__control:checked~label.sk-toggleable__label {background-color: #d4ebff;}#sk-container-id-3 input.sk-hidden--visually {border: 0;clip: rect(1px 1px 1px 1px);clip: rect(1px, 1px, 1px, 1px);height: 1px;margin: -1px;overflow: hidden;padding: 0;position: absolute;width: 1px;}#sk-container-id-3 div.sk-estimator {font-family: monospace;background-color: #f0f8ff;border: 1px dotted black;border-radius: 0.25em;box-sizing: border-box;margin-bottom: 0.5em;}#sk-container-id-3 div.sk-estimator:hover {background-color: #d4ebff;}#sk-container-id-3 div.sk-parallel-item::after {content: \"\";width: 100%;border-bottom: 1px solid gray;flex-grow: 1;}#sk-container-id-3 div.sk-label:hover label.sk-toggleable__label {background-color: #d4ebff;}#sk-container-id-3 div.sk-serial::before {content: \"\";position: absolute;border-left: 1px solid gray;box-sizing: border-box;top: 0;bottom: 0;left: 50%;z-index: 0;}#sk-container-id-3 div.sk-serial {display: flex;flex-direction: column;align-items: center;background-color: white;padding-right: 0.2em;padding-left: 0.2em;position: relative;}#sk-container-id-3 div.sk-item {position: relative;z-index: 1;}#sk-container-id-3 div.sk-parallel {display: flex;align-items: stretch;justify-content: center;background-color: white;position: relative;}#sk-container-id-3 div.sk-item::before, #sk-container-id-3 div.sk-parallel-item::before {content: \"\";position: absolute;border-left: 1px solid gray;box-sizing: border-box;top: 0;bottom: 0;left: 50%;z-index: -1;}#sk-container-id-3 div.sk-parallel-item {display: flex;flex-direction: column;z-index: 1;position: relative;background-color: white;}#sk-container-id-3 div.sk-parallel-item:first-child::after {align-self: flex-end;width: 50%;}#sk-container-id-3 div.sk-parallel-item:last-child::after {align-self: flex-start;width: 50%;}#sk-container-id-3 div.sk-parallel-item:only-child::after {width: 0;}#sk-container-id-3 div.sk-dashed-wrapped {border: 1px dashed gray;margin: 0 0.4em 0.5em 0.4em;box-sizing: border-box;padding-bottom: 0.4em;background-color: white;}#sk-container-id-3 div.sk-label label {font-family: monospace;font-weight: bold;display: inline-block;line-height: 1.2em;}#sk-container-id-3 div.sk-label-container {text-align: center;}#sk-container-id-3 div.sk-container {/* jupyter's `normalize.less` sets `[hidden] { display: none; }` but bootstrap.min.css set `[hidden] { display: none !important; }` so we also need the `!important` here to be able to override the default hidden behavior on the sphinx rendered scikit-learn.org. See: https://github.com/scikit-learn/scikit-learn/issues/21755 */display: inline-block !important;position: relative;}#sk-container-id-3 div.sk-text-repr-fallback {display: none;}</style><div id=\"sk-container-id-3\" class=\"sk-top-container\"><div class=\"sk-text-repr-fallback\"><pre>DecisionTreeClassifier(random_state=210)</pre><b>In a Jupyter environment, please rerun this cell to show the HTML representation or trust the notebook. <br />On GitHub, the HTML representation is unable to render, please try loading this page with nbviewer.org.</b></div><div class=\"sk-container\" hidden><div class=\"sk-item\"><div class=\"sk-estimator sk-toggleable\"><input class=\"sk-toggleable__control sk-hidden--visually\" id=\"sk-estimator-id-5\" type=\"checkbox\" checked><label for=\"sk-estimator-id-5\" class=\"sk-toggleable__label sk-toggleable__label-arrow\">DecisionTreeClassifier</label><div class=\"sk-toggleable__content\"><pre>DecisionTreeClassifier(random_state=210)</pre></div></div></div></div></div>"
            ]
          },
          "metadata": {},
          "execution_count": 75
        }
      ]
    },
    {
      "cell_type": "code",
      "source": [
        "#transforming X_test\n",
        "X_test_nonstandardized_and_trimmed = X_test_nonstandardized.drop(preliminary_columns_to_drop, axis=1)\n",
        "X_test_nonstandardized_and_trimmed.drop(insignificant_columns_to_drop, axis=1, inplace=True)\n",
        "\n",
        "X_test_nonstandardized_and_trimmed.info()"
      ],
      "metadata": {
        "colab": {
          "base_uri": "https://localhost:8080/"
        },
        "id": "-KCrxU1-0uVF",
        "outputId": "27094e3c-057d-4747-b02d-365f38a810be"
      },
      "execution_count": 76,
      "outputs": [
        {
          "output_type": "stream",
          "name": "stdout",
          "text": [
            "<class 'pandas.core.frame.DataFrame'>\n",
            "Index: 176955 entries, 442162 to 446367\n",
            "Data columns (total 23 columns):\n",
            " #   Column                              Non-Null Count   Dtype  \n",
            "---  ------                              --------------   -----  \n",
            " 0   CRASH_HOUR                          176955 non-null  int64  \n",
            " 1   LATITUDE                            176955 non-null  float64\n",
            " 2   LONGITUDE                           176955 non-null  float64\n",
            " 3   AGE                                 176955 non-null  int64  \n",
            " 4   WEATHER_CONDITION_CLEAR             176955 non-null  float64\n",
            " 5   WEATHER_CONDITION_CLOUDY/OVERCAST   176955 non-null  float64\n",
            " 6   WEATHER_CONDITION_RAIN              176955 non-null  float64\n",
            " 7   LIGHTING_CONDITION_DAWN             176955 non-null  float64\n",
            " 8   LIGHTING_CONDITION_DUSK             176955 non-null  float64\n",
            " 9   ROADWAY_SURFACE_COND_DRY            176955 non-null  float64\n",
            " 10  ROADWAY_SURFACE_COND_ICE            176955 non-null  float64\n",
            " 11  ROADWAY_SURFACE_COND_SNOW OR SLUSH  176955 non-null  float64\n",
            " 12  ROADWAY_SURFACE_COND_WET            176955 non-null  float64\n",
            " 13  CRASH_DAY_OF_WEEK_4                 176955 non-null  float64\n",
            " 14  MANEUVER_AVOIDING VEHICLES/OBJECTS  176955 non-null  float64\n",
            " 15  MANEUVER_CHANGING LANES             176955 non-null  float64\n",
            " 16  MANEUVER_PARKED                     176955 non-null  float64\n",
            " 17  MANEUVER_PASSING/OVERTAKING         176955 non-null  float64\n",
            " 18  MANEUVER_SKIDDING/CONTROL LOSS      176955 non-null  float64\n",
            " 19  MANEUVER_SLOW/STOP IN TRAFFIC       176955 non-null  float64\n",
            " 20  MANEUVER_STRAIGHT AHEAD             176955 non-null  float64\n",
            " 21  MANEUVER_TURNING LEFT               176955 non-null  float64\n",
            " 22  MANEUVER_TURNING RIGHT              176955 non-null  float64\n",
            "dtypes: float64(21), int64(2)\n",
            "memory usage: 32.4 MB\n"
          ]
        }
      ]
    },
    {
      "cell_type": "code",
      "source": [
        "#making our y_test predictions\n",
        "y_pred_test_baseline = dt_baseline.predict(X_test_nonstandardized_and_trimmed)\n",
        "\n",
        "#confusion matrix\n",
        "ConfusionMatrixDisplay.from_predictions(y_test, y_pred_test_baseline);"
      ],
      "metadata": {
        "colab": {
          "base_uri": "https://localhost:8080/",
          "height": 449
        },
        "id": "4v_cEz9CrRZF",
        "outputId": "5eaf182e-6f9e-4704-fe5e-5b48acad8338"
      },
      "execution_count": 77,
      "outputs": [
        {
          "output_type": "display_data",
          "data": {
            "text/plain": [
              "<Figure size 640x480 with 2 Axes>"
            ],
            "image/png": "[encoded data removed]"
          },
          "metadata": {}
        }
      ]
    },
    {
      "cell_type": "code",
      "source": [
        "print(classification_report(y_test, y_pred_test_baseline, target_names = target_names))"
      ],
      "metadata": {
        "colab": {
          "base_uri": "https://localhost:8080/"
        },
        "id": "pGAPb2DJ1byI",
        "outputId": "a2fdceba-f88a-4f13-b041-b61c44a3af09"
      },
      "execution_count": 78,
      "outputs": [
        {
          "output_type": "stream",
          "name": "stdout",
          "text": [
            "              precision    recall  f1-score   support\n",
            "\n",
            "           0       0.56      0.58      0.57     12765\n",
            "           1       0.97      0.97      0.97    164190\n",
            "\n",
            "    accuracy                           0.94    176955\n",
            "   macro avg       0.76      0.77      0.77    176955\n",
            "weighted avg       0.94      0.94      0.94    176955\n",
            "\n"
          ]
        }
      ]
    },
    {
      "cell_type": "markdown",
      "source": [
        "These results are quite similar to the model with all the features. There's just a slight decline in the minority class's precision & recall scores. However, it's a small price to pay to be able to reduce the features down to one-third of what they were. Let's examine this model's feature importances now."
      ],
      "metadata": {
        "id": "hkw9wOxysKRl"
      }
    },
    {
      "cell_type": "code",
      "source": [
        "#gathering its feature importances\n",
        "baseline_importances = dt_baseline.feature_importances_\n",
        "baseline_importances"
      ],
      "metadata": {
        "colab": {
          "base_uri": "https://localhost:8080/"
        },
        "id": "bmhQUZBn1mPi",
        "outputId": "2a166afc-eb12-4701-84c5-137fe938b274"
      },
      "execution_count": 79,
      "outputs": [
        {
          "output_type": "execute_result",
          "data": {
            "text/plain": [
              "array([0.11118717, 0.30969264, 0.30212852, 0.13546944, 0.00882497,\n",
              "       0.00363484, 0.00495033, 0.00439648, 0.00635036, 0.03455745,\n",
              "       0.00462787, 0.        , 0.02323471, 0.01873629, 0.00451093,\n",
              "       0.00043924, 0.00960601, 0.00074524, 0.00718723, 0.00171251,\n",
              "       0.00179606, 0.00318963, 0.00302208])"
            ]
          },
          "metadata": {},
          "execution_count": 79
        }
      ]
    },
    {
      "cell_type": "code",
      "source": [
        "baseline_importances_rounded = np.around(baseline_importances, decimals=3)\n",
        "baseline_importances_rounded = pd.Series(baseline_importances_rounded,\n",
        "                                         index=X_train_nonstandardized_and_trimmed.columns).sort_values()\n",
        "baseline_importances_rounded"
      ],
      "metadata": {
        "colab": {
          "base_uri": "https://localhost:8080/"
        },
        "id": "QFS5ZnOZ1ypn",
        "outputId": "3d6312ba-d7a6-4fff-d4b5-2fcce6e4bf09"
      },
      "execution_count": 80,
      "outputs": [
        {
          "output_type": "execute_result",
          "data": {
            "text/plain": [
              "ROADWAY_SURFACE_COND_SNOW OR SLUSH    0.000\n",
              "MANEUVER_CHANGING LANES               0.000\n",
              "MANEUVER_PASSING/OVERTAKING           0.001\n",
              "MANEUVER_STRAIGHT AHEAD               0.002\n",
              "MANEUVER_SLOW/STOP IN TRAFFIC         0.002\n",
              "MANEUVER_TURNING LEFT                 0.003\n",
              "MANEUVER_TURNING RIGHT                0.003\n",
              "LIGHTING_CONDITION_DAWN               0.004\n",
              "WEATHER_CONDITION_CLOUDY/OVERCAST     0.004\n",
              "ROADWAY_SURFACE_COND_ICE              0.005\n",
              "MANEUVER_AVOIDING VEHICLES/OBJECTS    0.005\n",
              "WEATHER_CONDITION_RAIN                0.005\n",
              "LIGHTING_CONDITION_DUSK               0.006\n",
              "MANEUVER_SKIDDING/CONTROL LOSS        0.007\n",
              "WEATHER_CONDITION_CLEAR               0.009\n",
              "MANEUVER_PARKED                       0.010\n",
              "CRASH_DAY_OF_WEEK_4                   0.019\n",
              "ROADWAY_SURFACE_COND_WET              0.023\n",
              "ROADWAY_SURFACE_COND_DRY              0.035\n",
              "CRASH_HOUR                            0.111\n",
              "AGE                                   0.135\n",
              "LONGITUDE                             0.302\n",
              "LATITUDE                              0.310\n",
              "dtype: float64"
            ]
          },
          "metadata": {},
          "execution_count": 80
        }
      ]
    },
    {
      "cell_type": "code",
      "source": [
        "len(X_train_nonstandardized_and_trimmed['LATITUDE'].value_counts())"
      ],
      "metadata": {
        "colab": {
          "base_uri": "https://localhost:8080/"
        },
        "id": "6zP4PZ7f_4MK",
        "outputId": "53cd1a3f-60ff-4c72-867f-7a4a04a31812"
      },
      "execution_count": 81,
      "outputs": [
        {
          "output_type": "execute_result",
          "data": {
            "text/plain": [
              "138294"
            ]
          },
          "metadata": {},
          "execution_count": 81
        }
      ]
    },
    {
      "cell_type": "code",
      "source": [
        "len(X_train_nonstandardized_and_trimmed['LONGITUDE'].value_counts())"
      ],
      "metadata": {
        "colab": {
          "base_uri": "https://localhost:8080/"
        },
        "id": "pG4jWzgk_4kI",
        "outputId": "bc30c9ce-b5a3-4d09-aa1d-17b80ac4a5cc"
      },
      "execution_count": 82,
      "outputs": [
        {
          "output_type": "execute_result",
          "data": {
            "text/plain": [
              "138182"
            ]
          },
          "metadata": {},
          "execution_count": 82
        }
      ]
    },
    {
      "cell_type": "code",
      "source": [
        "len(X_train_nonstandardized_and_trimmed['AGE'].value_counts())"
      ],
      "metadata": {
        "colab": {
          "base_uri": "https://localhost:8080/"
        },
        "id": "EgwJ0CbD_497",
        "outputId": "2799184a-c336-4790-95dc-03fd62966163"
      },
      "execution_count": 83,
      "outputs": [
        {
          "output_type": "execute_result",
          "data": {
            "text/plain": [
              "108"
            ]
          },
          "metadata": {},
          "execution_count": 83
        }
      ]
    },
    {
      "cell_type": "code",
      "source": [
        "len(X_train_nonstandardized_and_trimmed['CRASH_HOUR'].value_counts())"
      ],
      "metadata": {
        "colab": {
          "base_uri": "https://localhost:8080/"
        },
        "id": "MSaNQ3znAYOA",
        "outputId": "27fa0740-b816-495c-e600-9f30b2a2923c"
      },
      "execution_count": 84,
      "outputs": [
        {
          "output_type": "execute_result",
          "data": {
            "text/plain": [
              "24"
            ]
          },
          "metadata": {},
          "execution_count": 84
        }
      ]
    },
    {
      "cell_type": "code",
      "source": [
        "len(X_train_nonstandardized_and_trimmed['ROADWAY_SURFACE_COND_DRY'].value_counts())"
      ],
      "metadata": {
        "colab": {
          "base_uri": "https://localhost:8080/"
        },
        "id": "4NqU06UntJd6",
        "outputId": "ed833663-fa10-49a5-e48f-3efcd99aa1d1"
      },
      "execution_count": 85,
      "outputs": [
        {
          "output_type": "execute_result",
          "data": {
            "text/plain": [
              "2"
            ]
          },
          "metadata": {},
          "execution_count": 85
        }
      ]
    },
    {
      "cell_type": "markdown",
      "source": [
        "Above, we can start to see that the most important features have more unique values, but let's also visualize this to get a better perspective."
      ],
      "metadata": {
        "id": "4K_bfFP4w-UQ"
      }
    },
    {
      "cell_type": "code",
      "source": [
        "from matplotlib import pyplot as plt\n",
        "fig, ax = plt.subplots(figsize=(6,6))\n",
        "ax.barh(baseline_importances_rounded.index, baseline_importances_rounded.values);"
      ],
      "metadata": {
        "id": "2q0VI2Zk7Gut",
        "colab": {
          "base_uri": "https://localhost:8080/",
          "height": 522
        },
        "outputId": "07f9751d-3604-4325-fdcb-d4bb670666a1"
      },
      "execution_count": 86,
      "outputs": [
        {
          "output_type": "display_data",
          "data": {
            "text/plain": [
              "<Figure size 600x600 with 1 Axes>"
            ],
            "image/png": "[encoded data removed]"
          },
          "metadata": {}
        }
      ]
    },
    {
      "cell_type": "markdown",
      "source": [
        "Most obvious is the correlation between numeric columns with various entries and feature importance. In order, Latitude (138,294 unique entries), Longitude (138,182), Age (108), and the hour of day (24) all show decreasing importance and decreasing amount of entries.\n",
        "\n",
        "However, the drop-off isn't proportional (Age is about half as important as longitude, but contains 0.08% of the number of unique entries). Also, before we get to a long tail of features whose importance hovers around 0.00 - 0.02, there are a few categorical values that noticeably stick out.\n",
        "\n",
        "This is just a preliminary look at our baseline, though. We can do a lot to help improve this model through over & under-sampling as well as hyperparameter-tuning.\n",
        "\n",
        "Let's begin with sampling strategies:"
      ],
      "metadata": {
        "id": "GEXqHN8nRvAQ"
      }
    },
    {
      "cell_type": "code",
      "source": [
        "#defining five over-sampling strategies from 110% to 150% of the\n",
        "# minority target class in increments of 10%:\n",
        "oversampling_strategies = [{0:55969, 1:656936}, {0:61057, 1:656936}, {0:66145, 1:656936}, {0:71233, 1:656936}, {0:76322, 1:656936}]\n",
        "\n",
        "#empty list for f1 scores\n",
        "f1_scores = []\n",
        "\n",
        "#iterate through each sampling strategy\n",
        "for i in oversampling_strategies:\n",
        "    # define oversampling strategy\n",
        "    oversample = RandomOverSampler(random_state=210, sampling_strategy=i)\n",
        "    # fit and apply the oversampling strategy\n",
        "    X_train_nonstandardized_and_trimmed_over, y_train_over = oversample.fit_resample(X_train_nonstandardized_and_trimmed, y_train)\n",
        "    #instantiate & fit the model to X-over & y-over\n",
        "    temp_dt = DecisionTreeClassifier()\n",
        "    temp_dt.fit(X_train_nonstandardized_and_trimmed_over, y_train_over)\n",
        "    #make predictions on test set\n",
        "    y_hat = temp_dt.predict(X_test_nonstandardized_and_trimmed)\n",
        "    #find & append f1 score\n",
        "    f1_scores.append(f1_score(y_test, y_hat))\n",
        "\n",
        "oversampling_percentages = ['110%:', '120%:', '130%:', '140%:', '150%:']\n",
        "print(\"sampling strategies & f1 scores:\", list(zip(oversampling_percentages, f1_scores)))"
      ],
      "metadata": {
        "colab": {
          "base_uri": "https://localhost:8080/"
        },
        "id": "2Qh_PaYzxwmD",
        "outputId": "da71f3b3-865e-4ff5-e4f0-817f76ca718a"
      },
      "execution_count": 89,
      "outputs": [
        {
          "output_type": "stream",
          "name": "stdout",
          "text": [
            "sampling strategies & f1 scores: [('110%:', 0.9663749733207305), ('120%:', 0.9665521351938855), ('130%:', 0.9669828574215417), ('140%:', 0.9661352880909401), ('150%:', 0.966828572647437)]\n"
          ]
        }
      ]
    },
    {
      "cell_type": "markdown",
      "source": [
        "Oversampling at 130% works best so far. Let's see whether undersampling the majority helps even more."
      ],
      "metadata": {
        "id": "0AWAum5uZhEL"
      }
    },
    {
      "cell_type": "code",
      "source": [
        "#defining five under-sampling strategies from 50% to 90% of the\n",
        "# majority target class in increments of 10%:\n",
        "undersampling_strategies = [{0:50881, 1:328468}, {0:50881, 1:394162}, {0:50881, 1:459855}, {0:50881, 1:525549}, {0:50881, 1:591252}]\n",
        "\n",
        "#empty list for f1 scores\n",
        "f1_scores = []\n",
        "\n",
        "#iterate through each sampling strategy\n",
        "for i in undersampling_strategies:\n",
        "    # define undersampling strategy\n",
        "    undersample = RandomUnderSampler(random_state=210, sampling_strategy=i)\n",
        "    # fit and apply the undersampling strategy\n",
        "    X_train_nonstandardized_and_trimmed_under, y_train_under = undersample.fit_resample(X_train_nonstandardized_and_trimmed, y_train)\n",
        "    #instantiate & fit the model to X-under & y-under\n",
        "    temp_dt = DecisionTreeClassifier()\n",
        "    temp_dt.fit(X_train_nonstandardized_and_trimmed_under, y_train_under)\n",
        "    #make predictions on test set\n",
        "    y_hat = temp_dt.predict(X_test_nonstandardized_and_trimmed)\n",
        "    #find & append f1 score\n",
        "    f1_scores.append(f1_score(y_test, y_hat))\n",
        "\n",
        "undersampling_percentages = ['50%:', '60%:', '70%:', '80%:', '90%:']\n",
        "print(\"sampling strategies & f1 scores:\", list(zip(undersampling_percentages, f1_scores)))"
      ],
      "metadata": {
        "colab": {
          "base_uri": "https://localhost:8080/"
        },
        "id": "su9DDP0BZGKm",
        "outputId": "a9fb47b0-984d-42e7-a687-1b01d96b2d3a"
      },
      "execution_count": 90,
      "outputs": [
        {
          "output_type": "stream",
          "name": "stdout",
          "text": [
            "sampling strategies & f1 scores: [('50%:', 0.9456147846452752), ('60%:', 0.9520992945577516), ('70%:', 0.9568744859959896), ('80%:', 0.960373103416535), ('90%:', 0.9634827683166864)]\n"
          ]
        }
      ]
    },
    {
      "cell_type": "markdown",
      "source": [
        "Nothing here beats oversampling at 130%, let's try SMOTE, just in case:"
      ],
      "metadata": {
        "id": "OHPSJMZqbMqV"
      }
    },
    {
      "cell_type": "code",
      "source": [
        "#empty list for f1 scores\n",
        "f1_scores = []\n",
        "\n",
        "#iterate through each SMOTE oversampling strategy\n",
        "for i in oversampling_strategies:\n",
        "    smote = SMOTE(random_state=210, sampling_strategy=i)\n",
        "    # fit the smote-oversampling strategy\n",
        "    X_train_nonstandardized_and_trimmed_smote, y_train_smote = smote.fit_resample(X_train_nonstandardized_and_trimmed, y_train)\n",
        "    #instantiate & fit the model to X-smote & y-smote\n",
        "    temp_dt = DecisionTreeClassifier()\n",
        "    temp_dt.fit(X_train_nonstandardized_and_trimmed_smote, y_train_smote)\n",
        "    #make predictions on test set\n",
        "    y_hat = temp_dt.predict(X_test_nonstandardized_and_trimmed)\n",
        "    #find & append f1 score\n",
        "    f1_scores.append(f1_score(y_test, y_hat))\n",
        "\n",
        "smote_oversampling_percentages = ['110%:', '120%:', '130%:', '140%:', '150%:']\n",
        "print(\"sampling strategies & f1 scores:\", list(zip(smote_oversampling_percentages, f1_scores)))"
      ],
      "metadata": {
        "colab": {
          "base_uri": "https://localhost:8080/"
        },
        "id": "6dely2aVa8DO",
        "outputId": "dcb6dd8d-f074-4f82-d3a6-784009dbf1e4"
      },
      "execution_count": 91,
      "outputs": [
        {
          "output_type": "stream",
          "name": "stdout",
          "text": [
            "sampling strategies & f1 scores: [('110%:', 0.9647346091627751), ('120%:', 0.9638426783563521), ('130%:', 0.9620494113542677), ('140%:', 0.9621128166194199), ('150%:', 0.9608208097093988)]\n"
          ]
        }
      ]
    },
    {
      "cell_type": "markdown",
      "source": [
        "No, oversampling at 130% is the way to go. Let's refit our decision tree to that particular sampling strategy and see whether the model's performance has improved."
      ],
      "metadata": {
        "id": "39SYBwiHeEh8"
      }
    },
    {
      "cell_type": "code",
      "source": [
        "#set the oversampler to 130% of the minority class\n",
        "oversample = RandomOverSampler(random_state=210, sampling_strategy={0:66145, 1:656936})\n",
        "# fit and apply the oversampling strategy\n",
        "X_train_nonstandardized_and_trimmed_over, y_train_over = oversample.fit_resample(X_train_nonstandardized_and_trimmed, y_train)\n",
        "#instantiating & fitting the DecisionTreeClassifier model\n",
        "dt_oversample = DecisionTreeClassifier(random_state=210)\n",
        "dt_oversample.fit(X_train_nonstandardized_and_trimmed_over, y_train_over)"
      ],
      "metadata": {
        "colab": {
          "base_uri": "https://localhost:8080/",
          "height": 74
        },
        "id": "Ouds8OxUeP15",
        "outputId": "c2ee59ab-eb39-4479-b46e-0c62e53854d7"
      },
      "execution_count": 92,
      "outputs": [
        {
          "output_type": "execute_result",
          "data": {
            "text/plain": [
              "DecisionTreeClassifier(random_state=210)"
            ],
            "text/html": [
              "<style>#sk-container-id-4 {color: black;background-color: white;}#sk-container-id-4 pre{padding: 0;}#sk-container-id-4 div.sk-toggleable {background-color: white;}#sk-container-id-4 label.sk-toggleable__label {cursor: pointer;display: block;width: 100%;margin-bottom: 0;padding: 0.3em;box-sizing: border-box;text-align: center;}#sk-container-id-4 label.sk-toggleable__label-arrow:before {content: \"▸\";float: left;margin-right: 0.25em;color: #696969;}#sk-container-id-4 label.sk-toggleable__label-arrow:hover:before {color: black;}#sk-container-id-4 div.sk-estimator:hover label.sk-toggleable__label-arrow:before {color: black;}#sk-container-id-4 div.sk-toggleable__content {max-height: 0;max-width: 0;overflow: hidden;text-align: left;background-color: #f0f8ff;}#sk-container-id-4 div.sk-toggleable__content pre {margin: 0.2em;color: black;border-radius: 0.25em;background-color: #f0f8ff;}#sk-container-id-4 input.sk-toggleable__control:checked~div.sk-toggleable__content {max-height: 200px;max-width: 100%;overflow: auto;}#sk-container-id-4 input.sk-toggleable__control:checked~label.sk-toggleable__label-arrow:before {content: \"▾\";}#sk-container-id-4 div.sk-estimator input.sk-toggleable__control:checked~label.sk-toggleable__label {background-color: #d4ebff;}#sk-container-id-4 div.sk-label input.sk-toggleable__control:checked~label.sk-toggleable__label {background-color: #d4ebff;}#sk-container-id-4 input.sk-hidden--visually {border: 0;clip: rect(1px 1px 1px 1px);clip: rect(1px, 1px, 1px, 1px);height: 1px;margin: -1px;overflow: hidden;padding: 0;position: absolute;width: 1px;}#sk-container-id-4 div.sk-estimator {font-family: monospace;background-color: #f0f8ff;border: 1px dotted black;border-radius: 0.25em;box-sizing: border-box;margin-bottom: 0.5em;}#sk-container-id-4 div.sk-estimator:hover {background-color: #d4ebff;}#sk-container-id-4 div.sk-parallel-item::after {content: \"\";width: 100%;border-bottom: 1px solid gray;flex-grow: 1;}#sk-container-id-4 div.sk-label:hover label.sk-toggleable__label {background-color: #d4ebff;}#sk-container-id-4 div.sk-serial::before {content: \"\";position: absolute;border-left: 1px solid gray;box-sizing: border-box;top: 0;bottom: 0;left: 50%;z-index: 0;}#sk-container-id-4 div.sk-serial {display: flex;flex-direction: column;align-items: center;background-color: white;padding-right: 0.2em;padding-left: 0.2em;position: relative;}#sk-container-id-4 div.sk-item {position: relative;z-index: 1;}#sk-container-id-4 div.sk-parallel {display: flex;align-items: stretch;justify-content: center;background-color: white;position: relative;}#sk-container-id-4 div.sk-item::before, #sk-container-id-4 div.sk-parallel-item::before {content: \"\";position: absolute;border-left: 1px solid gray;box-sizing: border-box;top: 0;bottom: 0;left: 50%;z-index: -1;}#sk-container-id-4 div.sk-parallel-item {display: flex;flex-direction: column;z-index: 1;position: relative;background-color: white;}#sk-container-id-4 div.sk-parallel-item:first-child::after {align-self: flex-end;width: 50%;}#sk-container-id-4 div.sk-parallel-item:last-child::after {align-self: flex-start;width: 50%;}#sk-container-id-4 div.sk-parallel-item:only-child::after {width: 0;}#sk-container-id-4 div.sk-dashed-wrapped {border: 1px dashed gray;margin: 0 0.4em 0.5em 0.4em;box-sizing: border-box;padding-bottom: 0.4em;background-color: white;}#sk-container-id-4 div.sk-label label {font-family: monospace;font-weight: bold;display: inline-block;line-height: 1.2em;}#sk-container-id-4 div.sk-label-container {text-align: center;}#sk-container-id-4 div.sk-container {/* jupyter's `normalize.less` sets `[hidden] { display: none; }` but bootstrap.min.css set `[hidden] { display: none !important; }` so we also need the `!important` here to be able to override the default hidden behavior on the sphinx rendered scikit-learn.org. See: https://github.com/scikit-learn/scikit-learn/issues/21755 */display: inline-block !important;position: relative;}#sk-container-id-4 div.sk-text-repr-fallback {display: none;}</style><div id=\"sk-container-id-4\" class=\"sk-top-container\"><div class=\"sk-text-repr-fallback\"><pre>DecisionTreeClassifier(random_state=210)</pre><b>In a Jupyter environment, please rerun this cell to show the HTML representation or trust the notebook. <br />On GitHub, the HTML representation is unable to render, please try loading this page with nbviewer.org.</b></div><div class=\"sk-container\" hidden><div class=\"sk-item\"><div class=\"sk-estimator sk-toggleable\"><input class=\"sk-toggleable__control sk-hidden--visually\" id=\"sk-estimator-id-6\" type=\"checkbox\" checked><label for=\"sk-estimator-id-6\" class=\"sk-toggleable__label sk-toggleable__label-arrow\">DecisionTreeClassifier</label><div class=\"sk-toggleable__content\"><pre>DecisionTreeClassifier(random_state=210)</pre></div></div></div></div></div>"
            ]
          },
          "metadata": {},
          "execution_count": 92
        }
      ]
    },
    {
      "cell_type": "code",
      "source": [
        "#making our y_test predictions\n",
        "y_pred_test_oversample = dt_oversample.predict(X_test_nonstandardized_and_trimmed)\n",
        "\n",
        "#confusion matrix\n",
        "ConfusionMatrixDisplay.from_predictions(y_test, y_pred_test_oversample);"
      ],
      "metadata": {
        "colab": {
          "base_uri": "https://localhost:8080/",
          "height": 449
        },
        "id": "1FYu2EqPe74m",
        "outputId": "0c706741-82d6-486c-eb0b-097b4787812d"
      },
      "execution_count": 93,
      "outputs": [
        {
          "output_type": "display_data",
          "data": {
            "text/plain": [
              "<Figure size 640x480 with 2 Axes>"
            ],
            "image/png": "[encoded data removed]"
          },
          "metadata": {}
        }
      ]
    },
    {
      "cell_type": "code",
      "source": [
        "print(classification_report(y_test, y_pred_test_oversample, target_names = target_names))"
      ],
      "metadata": {
        "colab": {
          "base_uri": "https://localhost:8080/"
        },
        "id": "AAf_11cPfOTN",
        "outputId": "56fb5633-30b3-4a02-e677-a3df73ec7c1c"
      },
      "execution_count": 94,
      "outputs": [
        {
          "output_type": "stream",
          "name": "stdout",
          "text": [
            "              precision    recall  f1-score   support\n",
            "\n",
            "           0       0.58      0.59      0.58     12765\n",
            "           1       0.97      0.97      0.97    164190\n",
            "\n",
            "    accuracy                           0.94    176955\n",
            "   macro avg       0.77      0.78      0.78    176955\n",
            "weighted avg       0.94      0.94      0.94    176955\n",
            "\n"
          ]
        }
      ]
    },
    {
      "cell_type": "markdown",
      "source": [
        "We see a marginal improvement here, which is better than nothing. Our last step here would be to runa GridSearchCV on the hyperparameters to see if we can further improve our model."
      ],
      "metadata": {
        "id": "7bR5sdmefowf"
      }
    },
    {
      "cell_type": "code",
      "source": [
        "f1 = make_scorer(f1_score)\n",
        "\n",
        "#establishing a parameter grid for GridSearchCV\n",
        "dt_param_grid = {'n_estimators':[5, 10],\n",
        "                 'criterion':['gini', 'entropy'],\n",
        "                 'max_depth':[None, 2, 4],\n",
        "                 'min_samples_split':[2,5,10]}\n",
        "\n",
        "#instantiating GridSearchCV\n",
        "dt_grid_search = GridSearchCV(dt_oversample,\n",
        "                              dt_param_grid,\n",
        "                              cv=5,\n",
        "                              return_train_score=True,\n",
        "                              scoring=f1)\n",
        "\n",
        "#fitting the GridSearch to the training data\n",
        "dt_grid_search.fit(X_train_nonstandardized_and_trimmed_over, y_train_over)"
      ],
      "metadata": {
        "id": "A3ily6TNfYQv"
      },
      "execution_count": 94,
      "outputs": []
    }
  ]
}